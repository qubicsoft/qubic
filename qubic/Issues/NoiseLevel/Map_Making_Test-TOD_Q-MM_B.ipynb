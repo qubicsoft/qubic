{
 "cells": [
  {
   "cell_type": "markdown",
   "id": "304216a7",
   "metadata": {},
   "source": [
    "Test of simple binner map making of a TOD containing both sky and noise"
   ]
  },
  {
   "cell_type": "markdown",
   "id": "cd858dee",
   "metadata": {
    "code_folding": []
   },
   "source": [
    "# Imports and functions"
   ]
  },
  {
   "cell_type": "code",
   "execution_count": null,
   "id": "310ef74a",
   "metadata": {
    "code_folding": [
     "0"
    ]
   },
   "outputs": [],
   "source": [
    "#Imports\n",
    "import numpy as np\n",
    "import pylab as pl #plots\n",
    "import healpy as h #maps\n",
    "import random #random numb gen\n",
    "\n",
    "import qubic #qubic soft\n",
    "from pysm.nominal import models\n",
    "from pysimulators import FitsArray \n",
    "import os #used to call environment variables"
   ]
  },
  {
   "cell_type": "code",
   "execution_count": null,
   "id": "ad4afb79",
   "metadata": {
    "code_folding": [
     "0"
    ]
   },
   "outputs": [],
   "source": [
    "def build_qubic_tod(sky_map, inst_dict_fn, detector_index):\n",
    "    '''\n",
    "    This function builds a TOD observed by QUBIC given a sky map and instrument dictionary and a detector index\n",
    "\n",
    "    INPUTS\n",
    "    sky map - np.array(nf, npix, 3) - nf is the number of frequencies, npix is the number of pixels and 3 is for IQU maps\n",
    "    inst_dict_fn - Multy-type\n",
    "                STRING - filename of the instrument dictionary\n",
    "                DICTIONARY - the instrument dictionary\n",
    "    detector_index - INT - FP index of single detector\n",
    "\n",
    "    OUTPUTS\n",
    "    TOD        - NP.ARRAY(nf_rec, len)     - the TOD. nf_rec is the number of reconstructed sub-bands, len is the length of the TOD\n",
    "    '''\n",
    "\n",
    "    # Define sky configuration\n",
    "    if type(inst_dict_fn) == str:\n",
    "        d = qubic.qubicdict.qubicDict()\n",
    "        d.read_from_file(inst_dict_fn)\n",
    "    elif type(inst_dict_fn) == qubic.qubicdict.qubicDict:\n",
    "        d = inst_dict_fn\n",
    "    else:\n",
    "        print(\"Wrong instrument type\")\n",
    "        return 0\n",
    "    \n",
    "    # Pointing strategy\n",
    "    p = qubic.get_pointing(d)\n",
    "    print('=== Pointing DONE! ===')\n",
    "\n",
    "    # Model of the scene at the time of observation\n",
    "    s = qubic.QubicScene(d)\n",
    "\n",
    "    # Create MultibandInstrument. Model of the instrument with a focal plane sensitivity to \n",
    "    # multiple frequencies\n",
    "    q = select_detector(qubic.QubicInstrument(d), detector_index)\n",
    "\n",
    "    # Generate the sub-band limits to be used (later we can see what information we are ignoring with '_')\n",
    "    # _, nus_edge_in, _, _, _, _ = qubic.compute_freq(d['filter_nu'] / 1e9, d['nf_sub'],\n",
    "    #                                                 d['filter_relative_bandwidth'])\n",
    "    # Finally create an acquisition multiband operator which combines all relevant information\n",
    "    #scene, instrument configuration and strategy pointing. \n",
    "    a = qubic.QubicAcquisition(q, p, s, d)\n",
    "\n",
    "    #TOD\n",
    "    # MultiFreq TOD making\n",
    "    #(i.e. TOD for several subbands to reproduce a wideband observation)\n",
    "    TOD, maps_convolved_useless = a.get_observation(sky_map, noiseless=d['noiseless'])#, convolution = True)\n",
    "    del(maps_convolved_useless)\n",
    "    \n",
    "    return TOD"
   ]
  },
  {
   "cell_type": "code",
   "execution_count": null,
   "id": "2acd1ae5",
   "metadata": {
    "code_folding": [
     "0"
    ]
   },
   "outputs": [],
   "source": [
    "def build_sky_map(instrument_dict, \\\n",
    "                  sky_config, \\\n",
    "                  nf_sub, \\\n",
    "                  map_filename):\n",
    "    '''\n",
    "    This function builds a sky map given an instrument dictionary and a sky configuration and writes the map in a fits file\n",
    "\n",
    "    INPUTS\n",
    "    instrument_dict - STRING - the location of the instrument configuration dictionary\n",
    "    sky_config      - DICT   - the sky configuration (see https://pysm-public.readthedocs.io/en/latest/models.html for more info)\n",
    "    nf_sub          - INT    - Number of sub-bands (main band defined in instrument dictionary). Must be geq 2\n",
    "    map_filename    - STRING - the filename of the output map (without the .fits suffix)\n",
    "\n",
    "    OUTPUTS\n",
    "    out_filename    - STRING - the full output filename    \n",
    "    '''\n",
    "    \n",
    "    import os\n",
    "\n",
    "    from pysm.nominal import models\n",
    "\n",
    "    import qubic\n",
    "    from qubic import SpectroImLib as si\n",
    "\n",
    "    from pysimulators import FitsArray\n",
    "\n",
    "    d = qubic.qubicdict.qubicDict()\n",
    "    d.read_from_file(instrument_dict)\n",
    "\n",
    "#    nf_sub = [1,]#[2, 4, 5, 10, 12, 14, 15, 16, 18, 20, 22, 24]\n",
    "    dirc = './'\n",
    "\n",
    "    try:\n",
    "        os.makedirs(dirc)\n",
    "    except:\n",
    "        pass\n",
    "\n",
    "    out_fname = []\n",
    "    for nf in nf_sub:\n",
    "        print(nf)\n",
    "        d['nf_sub'] = nf\n",
    "        #sky_config = {'dust': models('d1', d['nside']), 'cmb': models('c1', d['nside'])}\n",
    "        #sky_config = {'cmb': models('c1', d['nside'])}\n",
    "\n",
    "        Qubic_sky = si.Qubic_sky(sky_config, d)\n",
    "        x0 = Qubic_sky.get_simple_sky_map()\n",
    "        dirc2 = dirc\n",
    "        try:\n",
    "            os.makedirs(dirc2)\n",
    "        except:\n",
    "            pass\n",
    "        \n",
    "        fname = '%s_Nside_%i_Nfreq_%i.fits' % (map_filename, d['nside'], nf)\n",
    "        FitsArray(x0).save(fname)\n",
    "        out_fname.append(fname)\n",
    "    \n",
    "    return out_fname\n",
    "\n",
    "#usa i detector non selezionati? Nel caso potrebbe creare divergenze -> indagare"
   ]
  },
  {
   "cell_type": "code",
   "execution_count": null,
   "id": "347055f4",
   "metadata": {
    "code_folding": [
     "0"
    ]
   },
   "outputs": [],
   "source": [
    "def nep2net(nep, freq, bandwidth, temp):\n",
    "    h = 6.62607004e-34\n",
    "    k = 1.38064852e-23\n",
    "    x = h*freq/k/temp\n",
    "    dPdT = (2*k*bandwidth) * (x**2*np.exp(x)) /(np.exp(x)-1)**2\n",
    "    net = nep / dPdT\n",
    "    return net\n",
    "    "
   ]
  },
  {
   "cell_type": "code",
   "execution_count": null,
   "id": "b4e0ad8a",
   "metadata": {
    "code_folding": [
     "0"
    ]
   },
   "outputs": [],
   "source": [
    "def select_detector(instrument, FPindex):\n",
    "    '''\n",
    "    This function allows one to select a single detector for the simulation\n",
    "\n",
    "    INPUTS\n",
    "    instrument - qubic.instrument.QubicMultibandInstrument - the MultiInstrument object\n",
    "    FPindex - INT - detector index (\"0\" is 594)\n",
    "\n",
    "    OUTPUTS\n",
    "    out -qubic.instrument.QubicMultibandInstrument -_The updated MultiInstrument object\n",
    "    '''\n",
    "\n",
    "    a = int(np.where(instrument.detector.index == FPindex)[0])\n",
    "    mono_instrument = instrument[a]\n",
    "    \n",
    "    out = mono_instrument\n",
    "    return out"
   ]
  },
  {
   "cell_type": "code",
   "execution_count": null,
   "id": "d3191884",
   "metadata": {
    "code_folding": [
     "0"
    ]
   },
   "outputs": [],
   "source": [
    "def build_qubic_cov(inst_dict_fn, detector_index):\n",
    "    '''\n",
    "    This function builds a coverage map observed by QUBIC given an instrument dictionary and a detector index\n",
    "\n",
    "    INPUTS\n",
    "    inst_dict_fn - Multy-type\n",
    "                STRING - filename of the instrument dictionary\n",
    "                DICTIONARY - the instrument dictionary\n",
    "    detector_index - INT - FP index of detector\n",
    "    OUTPUTS\n",
    "    cov        - NP.ARRAY(npix)            - the coverage map\n",
    "    '''\n",
    "\n",
    "    # Define sky configuration\n",
    "    if type(inst_dict_fn) == str:\n",
    "        d = qubic.qubicdict.qubicDict()\n",
    "        d.read_from_file(inst_dict_fn)\n",
    "    elif type(inst_dict_fn) == qubic.qubicdict.qubicDict:\n",
    "        d = inst_dict_fn\n",
    "    else:\n",
    "        print(\"Wrong instrument type\")\n",
    "        return 0\n",
    "    \n",
    "    # Pointing strategy\n",
    "    p = qubic.get_pointing(d)\n",
    "    print('=== Pointing DONE! ===')\n",
    "\n",
    "    # Model of the scene at the time of observation\n",
    "    s = qubic.QubicScene(d)\n",
    "\n",
    "    # Create MultibandInstrument. Model of the instrument with a focal plane sensitivity to \n",
    "    # multiple frequencies\n",
    "    q = select_detector(qubic.QubicInstrument(d), detector_index)\n",
    "\n",
    "    # Finally create an acquisition multiband operator which combines all relevant information\n",
    "    #scene, instrument configuration and strategy pointing. \n",
    "    a = qubic.QubicAcquisition(q, p, s, d)\n",
    "\n",
    "    #Coverage map\n",
    "    # Map-making process for a given number of reconstructed subbands\n",
    "    nf_sub_rec = d['nf_recon'][0]\n",
    "\n",
    "    print('************* Map-Making on {} sub-map(s) *************'.format(nf_sub_rec))\n",
    "\n",
    "    ## Build a Acquisition operator for reconstruction (map-making). As it is the inverse\n",
    "    # process but seen with 'different' instrument (one with nf_rec channels).  \n",
    "    \n",
    "    # Create a Acquisition\n",
    "    arec = qubic.QubicAcquisition(q, p, s, d)\n",
    "    \n",
    "    # Get coverage map\n",
    "    # i.e. how many times were seen each pixel of the sky (not trivial because of the synthetic beam)\n",
    "    cov = arec.get_coverage()\n",
    "        \n",
    "    return cov"
   ]
  },
  {
   "cell_type": "code",
   "execution_count": null,
   "id": "fdac348b",
   "metadata": {
    "code_folding": [
     "0"
    ]
   },
   "outputs": [],
   "source": [
    "def build_qubic_map(tod, cov, inst_dict_fn, detector_index):\n",
    "    '''\n",
    "    This function builds a map observed by QUBIC given an instrument dictionary and a detector index\n",
    "\n",
    "    INPUTS\n",
    "    tod        - NP.ARRAY(nf_rec, len)     - the TOD. nf_rec is the number of reconstructed sub-bands, len is the length of the TOD\n",
    "    cov        - NP.ARRAY(npix)            - the coverage map\n",
    "    inst_dict_fn - Multy-type\n",
    "                STRING - filename of the instrument dictionary\n",
    "                DICTIONARY - the instrument dictionary\n",
    "    detector_index - INT - FP index of detector\n",
    "    OUTPUTS\n",
    "    maps_recon - NP.ARRAY(nf_rec, npix, 3) - the reconstructed map. nf_rec is the number of reconstracted sub-bands, npix is the number of pixels, 3 is for IQU maps\n",
    "    '''\n",
    "\n",
    " # Define sky configuration\n",
    "    if type(inst_dict_fn) == str:\n",
    "        d = qubic.qubicdict.qubicDict()\n",
    "        d.read_from_file(inst_dict_fn)\n",
    "    elif type(inst_dict_fn) == qubic.qubicdict.qubicDict:\n",
    "        d = inst_dict_fn\n",
    "    else:\n",
    "        print(\"Wrong instrument type\")\n",
    "        return 0\n",
    "    \n",
    "    # Pointing strategy\n",
    "    p = qubic.get_pointing(d)\n",
    "    print('=== Pointing DONE! ===')\n",
    "\n",
    "    # Model of the scene at the time of observation\n",
    "    s = qubic.QubicScene(d)\n",
    "\n",
    "    # Create MultibandInstrument. Model of the instrument with a focal plane sensitivity to \n",
    "    # multiple frequencies\n",
    "    q = select_detector(qubic.QubicInstrument(d), detector_index)\n",
    "\n",
    "\n",
    "    # Finally create an acquisition operator which combines all relevant information\n",
    "    #scene, instrument configuration and strategy pointing. \n",
    "    a = qubic.QubicAcquisition(q, p, s, d)\n",
    "\n",
    "    #Coverage map\n",
    "    # Map-making process for a given number of reconstructed subbands\n",
    "    nf_sub_rec = d['nf_recon'][0]\n",
    "\n",
    "    # print('************* Map-Making on {} sub-map(s) *************'.format(nf_sub_rec))\n",
    "\n",
    "    ## Build a MultiAcquisition operator for reconstruction (map-making). As it is the inverse\n",
    "    # process but seen with 'different' instrument (one with nf_rec channels).  \n",
    "    # Recompute the edges of sub-bands :\n",
    "    # _, nus_edge, _, _, _, _ = qubic.compute_freq(d['filter_nu'] / 1e9, nf_sub_rec, d['filter_relative_bandwidth'])\n",
    "\n",
    "    # Create a Acquisition\n",
    "    arec = qubic.QubicAcquisition(q, p, s, d)\n",
    "        \n",
    "    # From TOD reconstruct sky maps.\n",
    "    maps_recon, nit, error = arec.tod2map(tod, d, cov=cov)\n",
    "\n",
    "    print('The shape of the reconstructed maps is (nf_recon, #pixels, #stokes) :', maps_recon.shape)\n",
    "    print('{} iterations were needed to get an error of {}'.format(nit, error))    \n",
    "    \n",
    "    return maps_recon"
   ]
  },
  {
   "cell_type": "code",
   "execution_count": null,
   "id": "0a30b795",
   "metadata": {
    "code_folding": [
     "0"
    ]
   },
   "outputs": [],
   "source": [
    "def maprmsI(mp_gen, mp_obs, cov, threshold):\n",
    "    '''\n",
    "    This calculates the rms of a map given a certain threshold to exclude boundary pixels\n",
    "\n",
    "    INPUTS\n",
    "    mp_gen  - np.array(npix, 3) - npix is the number of pixels and 3 is for IQU maps, this is the generated map\n",
    "    mp_obs  - \" observed map \n",
    "    cov - np.array(npix) - npix is the number of pixels\n",
    "    threshold - FLOAT - threshold of coverage to keep (selects pixels covered more than threshold * max(coverage))\n",
    "\n",
    "    OUTPUTS\n",
    "    rms - FLOAT - the rms of the map\n",
    "    '''\n",
    "    \n",
    "    okpix = cov[:] > (threshold * np.max(cov[:]))\n",
    "    # Set the uncovered pixels to UNSEEN and select the intensity map\n",
    "    qubic_I = mp_obs[:,0].copy()\n",
    "    qubic_I[~okpix] = h.UNSEEN #setting to grey pixels not selected\n",
    "    \n",
    "    \n",
    "    # Now I produce noise-only maps by subtracting the signal maps and define the same mask as the QUBIC one\n",
    "    sky_I = mp_gen[:,0].copy()\n",
    "    sky_I[~okpix] = h.UNSEEN #setting to grey pixels not selected\n",
    "    \n",
    "    diffmap = sky_I - qubic_I #subtracting generated map from observed map\n",
    "    diffmap[~okpix] = h.UNSEEN\n",
    "    \n",
    "    rms = np.std(diffmap[okpix])/(sigma_map * 1e6)\n",
    "    return rms"
   ]
  },
  {
   "cell_type": "code",
   "execution_count": null,
   "id": "a0aba2e5",
   "metadata": {
    "code_folding": [
     "0"
    ]
   },
   "outputs": [],
   "source": [
    "# Define folders\n",
    "try:\n",
    "    data_folder = os.environ['DATA_FOLDER']\n",
    "except:\n",
    "    data_folder = './'\n",
    "\n",
    "try:\n",
    "    maps_folder = os.environ['MAPS_FOLDER']\n",
    "except:\n",
    "    maps_folder = './'\n",
    "\n",
    "inst_dict_fn = '%sTD_spectroimaging.dict' % (data_folder)\n",
    "\n",
    "# Read dictionary\n",
    "d = qubic.qubicdict.qubicDict()\n",
    "d.read_from_file(inst_dict_fn)\n",
    "\n",
    "# Read noise\n",
    "nep = d['detector_nep']\n",
    "print('Detector NEP = %1.2e W/sqrt(Hz)' % nep)"
   ]
  },
  {
   "cell_type": "code",
   "execution_count": null,
   "id": "6e696540",
   "metadata": {
    "code_folding": [
     "0"
    ]
   },
   "outputs": [],
   "source": [
    "# Convert to NET\n",
    "nu0 = d['filter_nu']\n",
    "bw = nu0 * d['filter_relative_bandwidth']\n",
    "temp = d['temperature']\n",
    "net = nep2net(nep, nu0, bw, temp)\n",
    "tau = d['period']\n",
    "print('Center frequency = %3.0f GHz' % (nu0 / 1e9))\n",
    "print('Bandwidth = %3.0f GHz' % (bw / 1e9))\n",
    "print('Integration time = %1.3f s' % tau)\n",
    "print('Detector NET = %1.2e K x sqrt(s)' % net)"
   ]
  },
  {
   "cell_type": "markdown",
   "id": "0942e1db",
   "metadata": {
    "heading_collapsed": true
   },
   "source": [
    "# Observed Map"
   ]
  },
  {
   "cell_type": "code",
   "execution_count": null,
   "id": "5333fa65",
   "metadata": {
    "code_folding": [
     "0"
    ],
    "hidden": true
   },
   "outputs": [],
   "source": [
    "# Define sky configuration\n",
    "sky_config = {'synchrotron': models('s1', d['nside']),'dust': models('d1', d['nside']), 'cmb': models('c1', d['nside'])}\n",
    "\n",
    "# Define number of sub-bands\n",
    "nf_sub = [1,] #[2, 4, 5, 10, 12, 14, 15, 16, 18, 20, 22, 24]\n",
    "\n",
    "# Define output map filename\n",
    "out_map = '%ssyn_dust_cmb_map.fits' % (maps_folder)\n",
    "\n",
    "# Define center freq, band extremes and sub_bands\n",
    "nu_min      = nu0 - bw / 2.\n",
    "nu_max      = nu0 + bw / 2.\n",
    "delta       = bw / nf_sub[0]\n",
    "freq_array  = np.array([nu_min + (j-1/2.) * delta for j in np.arange(1,nf_sub[0]+1)])"
   ]
  },
  {
   "cell_type": "code",
   "execution_count": null,
   "id": "022d8923",
   "metadata": {
    "hidden": true
   },
   "outputs": [],
   "source": [
    "outmap = build_sky_map(inst_dict_fn, sky_config, nf_sub, out_map)\n",
    "mp = FitsArray(outmap[0])"
   ]
  },
  {
   "cell_type": "code",
   "execution_count": null,
   "id": "e8fc1c4b",
   "metadata": {
    "code_folding": [
     "0"
    ],
    "hidden": true
   },
   "outputs": [],
   "source": [
    "#show maps\n",
    "fig = pl.figure(figsize = (26,6))\n",
    "fig.suptitle('Input sky map', fontsize = 'xx-large')\n",
    "ind = 0\n",
    "fr = freq_array[0]\n",
    "\n",
    "ind = ind + 1\n",
    "ax = fig.add_subplot(nf_sub[0], 3,ind)\n",
    "h.visufunc.mollview(mp[:, 0], hold = True, title = '%3.1f GHz I' % (fr/1.e9))\n",
    "\n",
    "ind = ind + 1\n",
    "ax = fig.add_subplot(nf_sub[0], 3,ind)\n",
    "h.visufunc.mollview(mp[:, 1], hold = True, title = '%3.1f GHz Q' % (fr/1.e9))\n",
    "\n",
    "ind = ind + 1\n",
    "ax = fig.add_subplot(nf_sub[0], 3,ind)\n",
    "h.visufunc.mollview(mp[:, 2], hold = True, title = '%3.1f GHz U' % (fr/1.e9))\n",
    "\n",
    "pl.show()\n",
    "#pl.savefig(maps_folder + 'syn_dust_cmb_map.pdf',bbox_inches = 'tight')\n",
    "pl.close('all')"
   ]
  },
  {
   "cell_type": "markdown",
   "id": "eee4d1da",
   "metadata": {},
   "source": [
    "# TOD"
   ]
  },
  {
   "cell_type": "code",
   "execution_count": null,
   "id": "648a3956",
   "metadata": {
    "code_folding": [
     "0"
    ]
   },
   "outputs": [],
   "source": [
    "#TOD parameters\n",
    "\n",
    "y2sec = 24*365*3600.\n",
    "eff_duration = d['npointings'] * d['period']/y2sec\n",
    "FPindex = 594\n",
    "print('Effective duration: %1.13e years' %eff_duration)\n",
    "\n",
    "\n",
    "#detector = [0] #to be verified -> WRONG!!"
   ]
  },
  {
   "cell_type": "code",
   "execution_count": null,
   "id": "a0e72b20",
   "metadata": {
    "code_folding": [
     "0"
    ]
   },
   "outputs": [],
   "source": [
    "#TOD and Pointing building\n",
    "tod = build_qubic_tod(mp, d, FPindex) #QUBIC TOD\n",
    "    \n",
    "p = qubic.get_pointing(d)\n",
    "pl.plot(tod[0,:]);\n",
    "pl.xlabel('time (s)');\n",
    "pl.ylabel('data (W)');\n",
    "pl.title('QUBIC TOD');"
   ]
  },
  {
   "cell_type": "code",
   "execution_count": null,
   "id": "2f5a5293",
   "metadata": {
    "code_folding": [
     "0"
    ]
   },
   "outputs": [],
   "source": [
    "#sigma measured and theo\n",
    "sigma = np.std(tod[0,:])\n",
    "print('sigma measured = %1.3e W, sigma theo = %1.3e W' %(sigma, nep/np.sqrt(2)/np.sqrt(tau)))"
   ]
  },
  {
   "cell_type": "markdown",
   "id": "7bd1d9c3",
   "metadata": {},
   "source": [
    "# Map Making Test"
   ]
  },
  {
   "cell_type": "code",
   "execution_count": null,
   "id": "240792cb",
   "metadata": {
    "code_folding": []
   },
   "outputs": [],
   "source": [
    "#Map making parameters\n",
    "\n",
    "nside = 64\n",
    "n_pixels = 12 * (nside ** 2)\n",
    "\n",
    "pix = h.ang2pix(nside, p[:].galactic[:].T[0], p[:].galactic[:].T[1], lonlat=True)\n",
    "mappa = np.array([0.] * n_pixels)\n",
    "hits = np.array([0] * n_pixels)"
   ]
  },
  {
   "cell_type": "code",
   "execution_count": null,
   "id": "53f51b75",
   "metadata": {
    "code_folding": [
     "0"
    ]
   },
   "outputs": [],
   "source": [
    "for count in np.arange(np.size(tod[0])):\n",
    "    mappa[pix[count]] += tod[0,count]\n",
    "    hits[pix[count]] += 1"
   ]
  },
  {
   "cell_type": "code",
   "execution_count": null,
   "id": "bb33ab92",
   "metadata": {},
   "outputs": [],
   "source": [
    "mappa = mappa/hits #averaging data in pixel"
   ]
  },
  {
   "cell_type": "code",
   "execution_count": null,
   "id": "d96d4b03",
   "metadata": {
    "code_folding": [
     "0"
    ]
   },
   "outputs": [],
   "source": [
    "#hits graph\n",
    "pl.plot(hits)\n",
    "pl.xlabel('pixel');\n",
    "pl.ylabel('n. hits');\n",
    "pl.title('hits per pixel')\n",
    "print('hits sum = ', sum(hits))\n",
    "h.mollview(hits, title = 'hits map')"
   ]
  },
  {
   "cell_type": "code",
   "execution_count": null,
   "id": "2462dab9",
   "metadata": {},
   "outputs": [],
   "source": [
    "h.mollview(mappa[:], title = 'data map w/ threshold')"
   ]
  },
  {
   "cell_type": "markdown",
   "id": "8a8a59c0",
   "metadata": {},
   "source": [
    "# Test RMS"
   ]
  },
  {
   "cell_type": "code",
   "execution_count": null,
   "id": "81e618a5",
   "metadata": {
    "code_folding": [
     "0"
    ]
   },
   "outputs": [],
   "source": [
    "# Select pixels with good coverage\n",
    "threshold = 0.1 \n",
    "okpix = hits[:] > (threshold * np.max(hits[:]))\n",
    "#area defined by RA_center and DEC_center in Pointing section, dictionary\n",
    "print('threshold = ', threshold)"
   ]
  },
  {
   "cell_type": "code",
   "execution_count": null,
   "id": "9d795f6c",
   "metadata": {
    "code_folding": [
     "0"
    ]
   },
   "outputs": [],
   "source": [
    "# Set the uncovered pixels to UNSEEN and select the intensity map\n",
    "mappa[~okpix] = h.UNSEEN #conventional number for grey background\n",
    "mappa_I = mappa[:] #not really needed"
   ]
  },
  {
   "cell_type": "code",
   "execution_count": null,
   "id": "87f3aa8d",
   "metadata": {},
   "outputs": [],
   "source": [
    "Tobs = sum(hits[okpix]) * d['period']\n",
    "Npix = len(mappa[okpix])\n",
    "tau_m = Tobs/Npix\n",
    "sigma_map = sigma / np.sqrt(tau_m)\n",
    "print('sigma_map = ',sigma_map, 'W')"
   ]
  },
  {
   "cell_type": "code",
   "execution_count": null,
   "id": "c64b6389",
   "metadata": {
    "code_folding": []
   },
   "outputs": [],
   "source": [
    "#rms_test = maprmsI(mp, mappa_appo, hits, threshold) diverse unità di misura!!\n",
    "   \n",
    "rms_test = np.std(mappa_I[okpix])/(sigma_map)\n",
    "print('rms = ', rms_test)"
   ]
  },
  {
   "cell_type": "code",
   "execution_count": null,
   "id": "ab0fcbc7",
   "metadata": {},
   "outputs": [],
   "source": []
  },
  {
   "cell_type": "code",
   "execution_count": null,
   "id": "6a3d5487",
   "metadata": {},
   "outputs": [],
   "source": []
  },
  {
   "cell_type": "code",
   "execution_count": null,
   "id": "7d7a281f",
   "metadata": {},
   "outputs": [],
   "source": []
  },
  {
   "cell_type": "code",
   "execution_count": null,
   "id": "e5d1a159",
   "metadata": {},
   "outputs": [],
   "source": []
  },
  {
   "cell_type": "code",
   "execution_count": null,
   "id": "50197faf",
   "metadata": {},
   "outputs": [],
   "source": []
  }
 ],
 "metadata": {
  "jupytext": {
   "cell_metadata_json": true
  },
  "kernelspec": {
   "display_name": "Python 3",
   "language": "python",
   "name": "python3"
  }
 },
 "nbformat": 4,
 "nbformat_minor": 5
}
