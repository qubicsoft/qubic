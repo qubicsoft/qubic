{
 "cells": [
  {
   "cell_type": "markdown",
   "id": "7c812bfe",
   "metadata": {},
   "source": [
    "# Noise bug\n",
    "\n",
    "Author: Louise\n",
    "\n",
    "Using the notebooks done by Daniele and Gabriele, I try to reproduce the same."
   ]
  },
  {
   "cell_type": "code",
   "execution_count": null,
   "id": "99d89462",
   "metadata": {},
   "outputs": [],
   "source": [
    "#Imports\n",
    "%matplotlib inline\n",
    "import numpy as np\n",
    "import pylab as pl #plots\n",
    "import healpy as hp #maps\n",
    "import random #random numb gen\n",
    "\n",
    "import qubic #qubic soft\n",
    "from qubic import SpectroImLib as si\n",
    "from pysm.nominal import models\n",
    "from pysimulators import FitsArray \n",
    "import os #used to call environment variables"
   ]
  },
  {
   "cell_type": "code",
   "execution_count": null,
   "id": "123cfff8",
   "metadata": {},
   "outputs": [],
   "source": [
    "inst_dict_fn = 'TD_spectroimaging.dict'\n",
    "\n",
    "# Read dictionary\n",
    "d = qubic.qubicdict.qubicDict()\n",
    "d.read_from_file(inst_dict_fn)\n",
    "\n",
    "# kmax\n",
    "print(\"kmax = %1i\" % d['synthbeam_kmax'])\n",
    "\n",
    "# Read noise\n",
    "nep = d['detector_nep']\n",
    "print('Detector NEP = %1.2e W/sqrt(Hz)' % nep)\n",
    "\n",
    "# Define sky configuration\n",
    "sky_config = {'cmb': models('c1', d['nside'])}\n",
    "\n",
    "# Define number of sub-bands\n",
    "nf_sub = d['nf_sub']\n",
    "print('nf_sub: ', nf_sub)\n",
    "\n",
    "# Define output map filename\n",
    "out_map = './'"
   ]
  },
  {
   "cell_type": "code",
   "execution_count": null,
   "id": "da3fe7be",
   "metadata": {},
   "outputs": [],
   "source": [
    "# Input sky map\n",
    "Qubic_sky = si.Qubic_sky(sky_config, d)\n",
    "x0 = Qubic_sky.get_simple_sky_map()\n",
    "\n",
    "print(x0.shape)\n",
    "\n",
    "hp.mollview(x0[:, 0])"
   ]
  },
  {
   "cell_type": "code",
   "execution_count": null,
   "id": "d544022f",
   "metadata": {},
   "outputs": [],
   "source": [
    "# Pointing strategy\n",
    "p = qubic.get_pointing(d)\n",
    "print('=== Pointing DONE! ===')\n",
    "\n",
    "# Scene\n",
    "s = qubic.QubicScene(d)"
   ]
  },
  {
   "cell_type": "code",
   "execution_count": null,
   "id": "ba8f79a4",
   "metadata": {},
   "outputs": [],
   "source": [
    "# Make a mono detector instrument\n",
    "def select_detector(instrument, FPindex):\n",
    "    '''\n",
    "    This function allows one to select a single detector for the simulation\n",
    "\n",
    "    INPUTS\n",
    "    instrument - qubic.instrument.QubicMultibandInstrument - the MultiInstrument object\n",
    "    FPindex - INT - detector index (\"0\" is 594)\n",
    "\n",
    "    OUTPUTS\n",
    "    out -qubic.instrument.QubicMultibandInstrument -_The updated MultiInstrument object\n",
    "    '''\n",
    "\n",
    "    a = int(np.where(instrument.detector.index == FPindex)[0])\n",
    "    print(instrument.detector.index)\n",
    "    print(FPindex, a, instrument.detector.index[a])\n",
    "    mono_instrument = instrument[a]\n",
    "    \n",
    "    out = mono_instrument\n",
    "    return out\n",
    "\n",
    "q = qubic.QubicInstrument(d)\n",
    "\n",
    "# Detector at the center of the FP\n",
    "q_mono = q[0]\n",
    "q_mono.detector.center = np.array([[1e-5, 1e-5, -0.3]])\n",
    "\n",
    "# Another detector\n",
    "# FPindex = 594\n",
    "# q_mono = select_detector(q, FPindex)\n",
    "\n"
   ]
  },
  {
   "cell_type": "code",
   "execution_count": null,
   "id": "83366181",
   "metadata": {},
   "outputs": [],
   "source": [
    "# Acquisition \n",
    "a = qubic.QubicAcquisition(q_mono, p, s, d)\n",
    "\n",
    "#TOD\n",
    "tod, maps_convolved_useless = a.get_observation(x0, noiseless=d['noiseless'], convolution = True)\n",
    "del(maps_convolved_useless)\n",
    "  \n",
    "print(tod.shape)\n",
    "\n",
    "pl.plot(tod[0,:]);\n",
    "pl.xlabel('time (s)');\n",
    "pl.ylabel('data (W)');\n",
    "pl.title('QUBIC TOD');\n"
   ]
  },
  {
   "cell_type": "code",
   "execution_count": null,
   "id": "9db1419b",
   "metadata": {},
   "outputs": [],
   "source": [
    "# sigma measured and theo\n",
    "period = d['period']\n",
    "sigma = np.std(tod[0, :])\n",
    "print('sigma measured = %1.3e W, sigma theo = %1.3e W' %(sigma, nep/np.sqrt(2)/np.sqrt(period)))"
   ]
  },
  {
   "cell_type": "code",
   "execution_count": null,
   "id": "1b52a3d8",
   "metadata": {},
   "outputs": [],
   "source": [
    "# Get coverage map and hitmap\n",
    "# i.e. how many times were seen each pixel of the sky (not trivial because of the synthetic beam)\n",
    "cov = a.get_coverage()\n",
    "\n",
    "hp.mollview(cov)\n",
    "\n",
    "hitmap = a.get_hitmap()\n",
    "hp.mollview(hitmap)\n",
    "\n",
    "npix_patch = len(cov[cov != 0.])\n",
    "print('npix_patch:', npix_patch)\n",
    "print(np.sum(hitmap))"
   ]
  },
  {
   "cell_type": "code",
   "execution_count": null,
   "id": "c881b68c",
   "metadata": {},
   "outputs": [],
   "source": [
    "# Check that if the detector is at the center, hitmap and cov are equal\n",
    "for c, b in zip(cov, hitmap):\n",
    "#     print(i, cov)\n",
    "    if c != 0. or b != 0:\n",
    "        print(c, b)"
   ]
  },
  {
   "cell_type": "code",
   "execution_count": null,
   "id": "f2aeffd4",
   "metadata": {},
   "outputs": [],
   "source": [
    "# QUBIC map making\n",
    "maps_recon, nit, error = a.tod2map(tod, d, cov=None)\n",
    "\n",
    "print('The shape of the reconstructed maps is (nf_recon, #pixels, #stokes) :', maps_recon.shape)\n",
    "print('{} iterations were needed to get an error of {}'.format(nit, error))    "
   ]
  },
  {
   "cell_type": "markdown",
   "id": "b56ad713",
   "metadata": {},
   "source": [
    "The conversion below is wrong, the map obtained after the map making is in µK but can not be converted to Watt using directly the Planck law. There are many conversions in the H operator that we should take into account. "
   ]
  },
  {
   "cell_type": "code",
   "execution_count": null,
   "id": "540995a3",
   "metadata": {},
   "outputs": [],
   "source": [
    "def nep2net(nep, freq, bandwidth, temp):\n",
    "    h = 6.62607004e-34\n",
    "    k = 1.38064852e-23\n",
    "    x = h*freq/k/temp\n",
    "    dPdT = (2*k*bandwidth) * (x**2*np.exp(x)) /(np.exp(x)-1)**2\n",
    "    net = nep / dPdT\n",
    "    return net"
   ]
  },
  {
   "cell_type": "code",
   "execution_count": null,
   "id": "54390437",
   "metadata": {},
   "outputs": [],
   "source": [
    "# Convert to NET\n",
    "nu0 = d['filter_nu']\n",
    "bw = nu0 * d['filter_relative_bandwidth']\n",
    "temp = d['temperature']\n",
    "net = nep2net(nep, nu0, bw, temp)\n",
    "\n",
    "print('Center frequency = %3.0f GHz' % (nu0 / 1e9))\n",
    "print('Bandwidth = %3.0f GHz' % (bw / 1e9))\n",
    "print('Integration time = %1.3f s' % period)\n",
    "print('Detector NET = %1.2e K x sqrt(s)' % net)"
   ]
  },
  {
   "cell_type": "code",
   "execution_count": null,
   "id": "550c804c",
   "metadata": {},
   "outputs": [],
   "source": [
    "# Select pixels with good coverage\n",
    "threshold = 0.1\n",
    "okpix = cov[:] > (threshold * np.max(cov[:]))\n",
    "\n",
    "themap = np.copy(maps_recon)\n",
    "# Set the uncovered pixels to UNSEEN and select the intensity map\n",
    "for i in np.arange(3):\n",
    "    themap[~okpix,i] = hp.UNSEEN #conventional number for grey background\n",
    "themap_I = themap[:, 0]\n",
    "\n",
    "Tobs = sum(cov[okpix]) * d['period']\n",
    "\n",
    "Npix = len(themap_I[okpix])\n",
    "tau_m = Tobs / Npix #tau medio\n",
    "print(Tobs, Npix, tau_m)\n",
    "\n",
    "sigma_th = sigma / np.sqrt(tau_m)\n",
    "sigma_th_k = nep2net(sigma_th, nu0, bw, temp)\n",
    "print('sigma theory: ', sigma_th_k, 'K')\n",
    "\n",
    "sigma_map = np.std(themap[okpix, :]) * 1e-6 # Convert from µK to K\n",
    "print('sigma in the map:', sigma_map, 'K')\n",
    "\n",
    "\n",
    "rms_qubic = sigma_map / sigma_th_k\n",
    "print('rapport:', rms_qubic)\n",
    "\n",
    "hp.mollview(themap_I, title = 'Data map w/ thereshold');"
   ]
  },
  {
   "cell_type": "markdown",
   "id": "44192e5b",
   "metadata": {},
   "source": [
    "### Binned map making\n",
    "\n",
    "This is actually not so easy still because of conversion unit... TOD are in Watt, the final map is in µK but the conversion is not trivial. So this map making can not be compared to the QUBIC one so easily."
   ]
  },
  {
   "cell_type": "code",
   "execution_count": null,
   "id": "ab8913f5",
   "metadata": {},
   "outputs": [],
   "source": [
    "nside = d['nside']\n",
    "n_pixels = 12 * ( nside** 2)\n",
    "pix = hp.ang2pix(nside, p[:].galactic[:].T[0], p[:].galactic[:].T[1], lonlat=True)\n",
    "mappa = np.array([0.] * n_pixels)\n",
    "hits = np.array([0] * n_pixels)\n",
    "\n",
    "\n",
    "for count in np.arange(np.size(tod[0])):\n",
    "    mappa[pix[count]] += tod[0,count]\n",
    "    hits[pix[count]] += 1\n",
    "\n",
    "mappa = mappa / hits #averaging data in pixel"
   ]
  },
  {
   "cell_type": "code",
   "execution_count": null,
   "id": "212bf1c2",
   "metadata": {},
   "outputs": [],
   "source": [
    "# Select pixels with good coverage\n",
    "threshold = 0.1 \n",
    "okpix = hits[:] > (threshold * np.max(hits[:]))\n",
    "#area defined by RA_center and DEC_center in Pointing section, dictionary\n",
    "print('threshold = ', threshold)\n",
    "\n",
    "# Set the uncovered pixels to UNSEEN and select the intensity map\n",
    "mappa[~okpix] = hp.UNSEEN #conventional number for grey background\n",
    "mappa_I = mappa[:] #not really needed\n",
    "\n",
    "Tobs = sum(hits[okpix]) * d['period']\n",
    "Npix = len(mappa[okpix])\n",
    "tau_m = Tobs/Npix\n",
    "sigma_map = sigma / np.sqrt(tau_m)\n",
    "print('sigma_map = ',sigma_map, 'W')\n",
    "\n",
    "rms_test = np.std(mappa_I[okpix])/(sigma_map)\n",
    "print('rms = ', rms_test)"
   ]
  },
  {
   "cell_type": "markdown",
   "id": "cb823785",
   "metadata": {},
   "source": [
    "# Study the H operator\n",
    "\n",
    "Compute the order of magnitude of H."
   ]
  },
  {
   "cell_type": "code",
   "execution_count": null,
   "id": "157d51b8",
   "metadata": {},
   "outputs": [],
   "source": [
    "# Look at some parameters\n",
    "q.detector.nep\n",
    "q.horn.radeff\n",
    "\n",
    "print(q.optics.components['transmission'])\n",
    "print(q.detector.efficiency)\n",
    "\n",
    "s.atmosphere.transmission\n",
    "\n",
    "q.detector.tau\n",
    "\n",
    "p.period\n",
    "q.filter.bandwidth/1e9\n",
    "\n",
    "q.synthbeam.peak150.solid_angle"
   ]
  },
  {
   "cell_type": "code",
   "execution_count": null,
   "id": "22d19fc1",
   "metadata": {},
   "outputs": [],
   "source": [
    "# Compute the factor to go from µK to W/m2/Hz using the Planck Law\n",
    "# This is done by the function get_unit_conversion_operator(self, nu) in pysimulators/interfaces/healpy/scenes.py\n",
    "\n",
    "nu = 150e9\n",
    "h = 6.626e-34\n",
    "c = 3e8\n",
    "T = 2.7\n",
    "k = 1.38e-23\n",
    "nside = 256\n",
    "npix = 12 * nside**2\n",
    "Omega_pix = 4 * np.pi / npix\n",
    "\n",
    "dT = 200\n",
    "\n",
    "x = h * nu / (k * T)\n",
    "\n",
    "y = 2 * Omega_pix * h * nu**3 / c**2\n",
    "\n",
    "factor = 1e-6 * y * x * np.exp(x) / ((np.exp(x) - 1)**2 * T)\n",
    "print(factor)\n",
    "\n"
   ]
  },
  {
   "cell_type": "code",
   "execution_count": null,
   "id": "b4f8f99e",
   "metadata": {},
   "outputs": [],
   "source": [
    "nhorns = 64\n",
    "radeff = 4.67e-3 # m\n",
    "aperture = nhorns * np.pi * radeff**2\n",
    "\n",
    "bandwidth = 37.5e9 # Hz\n",
    "\n",
    "\n",
    "Omega_beam150 = np.deg2rad(1.02)**2\n",
    "\n",
    "A_det = (3e-3)**2 # m^2\n",
    "\n",
    "Df = 30e-2 # m\n",
    "\n",
    "Omega_TES = A_det / Df**2\n",
    "\n",
    "Omega_beam_sec = np.deg2rad(13)**2\n",
    "\n",
    "rhodet = 0.8\n",
    "\n",
    "eff_optics = 0.98**17\n",
    "\n",
    "tau = 0.01\n",
    "\n",
    "npix_patch = 13000\n",
    "dT = 200 # µK\n",
    "\n",
    "H = factor * aperture * bandwidth * (Omega_beam150 / Omega_pix) * nhorns * 0.5 \\\n",
    "    * (Omega_TES / Omega_beam_sec) * rhodet * eff_optics\n",
    "\n",
    "print( H * dT * npix_patch)"
   ]
  },
  {
   "cell_type": "markdown",
   "id": "2de3bbb1",
   "metadata": {},
   "source": [
    "# Fake TOD with a white noise"
   ]
  },
  {
   "cell_type": "code",
   "execution_count": null,
   "id": "5e8e6ff6",
   "metadata": {},
   "outputs": [],
   "source": [
    "tod_fake = np.empty((1, d['npointings']))\n",
    "\n",
    "for count in np.arange(d['npointings']): #White noise\n",
    "    tod_fake[0, count] = random.gauss(0, nep/np.sqrt(2)/np.sqrt(tau)) \n",
    "    \n",
    "p = qubic.get_pointing(d)\n",
    "pl.plot(tod_fake[0,:]);\n",
    "pl.xlabel('time (s)');\n",
    "pl.ylabel('data (W)');\n",
    "pl.title('White Noise TOD');"
   ]
  },
  {
   "cell_type": "code",
   "execution_count": null,
   "id": "fee83609",
   "metadata": {},
   "outputs": [],
   "source": [
    "map_recon_fake, nit, error = a.tod2map(tod_fake, d)"
   ]
  },
  {
   "cell_type": "code",
   "execution_count": null,
   "id": "f206c2d6",
   "metadata": {},
   "outputs": [],
   "source": [
    "map_recon_fake.shape\n",
    "print(np.std(map_recon_fake[:, 0]))\n",
    "print(nep)"
   ]
  },
  {
   "cell_type": "code",
   "execution_count": null,
   "id": "6eba1cc6",
   "metadata": {},
   "outputs": [],
   "source": []
  }
 ],
 "metadata": {
  "kernelspec": {
   "display_name": "Python 3",
   "language": "python",
   "name": "python3"
  }
 },
 "nbformat": 4,
 "nbformat_minor": 5
}
