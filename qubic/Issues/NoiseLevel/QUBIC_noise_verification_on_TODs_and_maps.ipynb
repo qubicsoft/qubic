{
 "cells": [
  {
   "cell_type": "markdown",
   "id": "6e5df907",
   "metadata": {},
   "source": [
    "<title> Simulation of observations with TD in Argentina</title>"
   ]
  },
  {
   "cell_type": "markdown",
   "id": "6e3f4f77",
   "metadata": {},
   "source": [
    "<title> Sim </title>"
   ]
  },
  {
   "cell_type": "markdown",
   "id": "61dfb89a",
   "metadata": {},
   "source": [
    "<center><font size=20> <b>Verification of QUBIC noise on TODs and maps</b></font></center>"
   ]
  },
  {
   "cell_type": "markdown",
   "id": "399410c9",
   "metadata": {},
   "source": [
    "I want to verify that the noise is propagated correctly from the input defined in the QUBIC dictionary to the final maps. To do this we follow this approach:\n",
    "\n",
    "1. Get the detector noise spectral density (NEP) in W/sqrt(Hz) from instrument dictionary\n",
    "1. Convert the NEP into NET in K x sqrt(s) (see below)\n",
    "1. Generate a sky map to be observed\n",
    "1. Make and observation with a single detector with ranndom pointing over a defined area, $A$. The observation will have no photon noise, no atmospheric noise, no 1/f noise. The only source of noise will be the detector noise\n",
    "1. Calculate the TOD standard deviation, $\\sigma_\\mathrm{TOD}$ and compare with $\\mathrm{NET}/\\sqrt{\\tau}$ where $\\tau$ is the integration time\n",
    "1. Calculate the theoretical average map noise standard deviation, $\\sigma_\\mathrm{map}^\\mathrm{theo}$ that is calculated as follows:\n",
    "    1. Measure the pixels covered by the observation in the map, $N_\\mathrm{pix}$\n",
    "    1. Calculate the average integration time per pixel, $\\tau _\\mathrm{pix} = T_\\mathrm{obs} / N_\\mathrm{pix}$, where $T_\\mathrm{obs}$ is the total observation time\n",
    "    1. Calculate $\\sigma_\\mathrm{map}^\\mathrm{theo} = \\sigma_\\mathrm{TOD} / \\sqrt{h_\\mathrm{pix}}$ where $\\sigma_\\mathrm{TOD}$ is the NET\n",
    "1. Calculate observed map and subtract signal map\n",
    "1. Calculate the map standard deviation $\\sigma_\\mathrm{map}$\n",
    "1. Compare $\\sigma_\\mathrm{map}$ with $\\sigma_\\mathrm{map}^\\mathrm{theo}$ "
   ]
  },
  {
   "cell_type": "markdown",
   "id": "00b30505",
   "metadata": {},
   "source": [
    "# Imports and functions"
   ]
  },
  {
   "cell_type": "code",
   "execution_count": null,
   "id": "74ac4b85",
   "metadata": {},
   "outputs": [],
   "source": [
    "from __future__ import division\n",
    "import qubic\n",
    "import numpy as np\n",
    "import pylab as pl\n",
    "import healpy as h\n",
    "from astropy.io import fits\n",
    "from pysimulators import FitsArray\n",
    "from pysm.nominal import models\n",
    "import pickle"
   ]
  },
  {
   "cell_type": "code",
   "execution_count": null,
   "id": "371cd425",
   "metadata": {
    "code_folding": [
     "0"
    ]
   },
   "outputs": [],
   "source": [
    "def build_sky_map(instrument_dict, \\\n",
    "                  sky_config, \\\n",
    "                  nf_sub, \\\n",
    "                  map_filename):\n",
    "    '''\n",
    "    This function builds a sky map given an instrument dictionary and a sky configuration and writes the map in a fits file\n",
    "\n",
    "    INPUTS\n",
    "    instrument_dict - STRING - the location of the instrument configuration dictionary\n",
    "    sky_config      - DICT   - the sky configuration (see https://pysm-public.readthedocs.io/en/latest/models.html for more info)\n",
    "    nf_sub          - INT    - Number of sub-bands (main band defined in instrument dictionary). Must be geq 2\n",
    "    map_filename    - STRING - the filename of the output map (without the .fits suffix)\n",
    "\n",
    "    OUTPUTS\n",
    "    out_filename    - STRING - the full output filename    \n",
    "    '''\n",
    "    \n",
    "    import os\n",
    "\n",
    "    from pysm.nominal import models\n",
    "\n",
    "    import qubic\n",
    "    from qubic import SpectroImLib as si\n",
    "\n",
    "    from pysimulators import FitsArray\n",
    "\n",
    "    d = qubic.qubicdict.qubicDict()\n",
    "    d.read_from_file(instrument_dict)\n",
    "\n",
    "#    nf_sub = [1,]#[2, 4, 5, 10, 12, 14, 15, 16, 18, 20, 22, 24]\n",
    "    dirc = './'\n",
    "\n",
    "    try:\n",
    "        os.makedirs(dirc)\n",
    "    except:\n",
    "        pass\n",
    "\n",
    "    out_fname = []\n",
    "    for nf in nf_sub:\n",
    "        print(nf)\n",
    "        d['nf_sub'] = nf\n",
    "        #sky_config = {'dust': models('d1', d['nside']), 'cmb': models('c1', d['nside'])}\n",
    "        #sky_config = {'cmb': models('c1', d['nside'])}\n",
    "\n",
    "        Qubic_sky = si.Qubic_sky(sky_config, d)\n",
    "        x0 = Qubic_sky.get_simple_sky_map()\n",
    "        dirc2 = dirc\n",
    "        try:\n",
    "            os.makedirs(dirc2)\n",
    "        except:\n",
    "            pass\n",
    "        \n",
    "        fname = '%s_Nside_%i_Nfreq_%i.fits' % (map_filename, d['nside'], nf)\n",
    "        FitsArray(x0).save(fname)\n",
    "        out_fname.append(fname)\n",
    "    \n",
    "    return out_fname\n",
    "    "
   ]
  },
  {
   "cell_type": "code",
   "execution_count": null,
   "id": "baee0052",
   "metadata": {
    "code_folding": [
     "0"
    ]
   },
   "outputs": [],
   "source": [
    "def select_detector_subset(instrument, detectors):\n",
    "    '''\n",
    "    This function allows one to select a detector subset for the simulation\n",
    "\n",
    "    INPUTS\n",
    "    instrument - qubic.instrument.QubicMultibandInstrument - the MultiInstrument object\n",
    "    detectors  - a list of integers or the string 'All'\n",
    "\n",
    "    OUTPUTS\n",
    "    out -qubic.instrument.QubicMultibandInstrument -_The updated MultiInstrument object\n",
    "    '''\n",
    "    if detectors == 'All':\n",
    "        out = instrument\n",
    "    else:\n",
    "        for i in range(len(instrument)):\n",
    "            instrument[i].detector = instrument[i].detector[detectors]\n",
    "        out = instrument\n",
    "    return out"
   ]
  },
  {
   "cell_type": "code",
   "execution_count": null,
   "id": "2e1b9983",
   "metadata": {
    "code_folding": [
     "0"
    ]
   },
   "outputs": [],
   "source": [
    "def build_qubic_map(sky_map, tod, cov, inst_dict_fn, detectors):\n",
    "    '''\n",
    "    This function builds a map observed by QUBIC given a sky map and instrument dictionary and a detectors lis\n",
    "\n",
    "    INPUTS\n",
    "    sky map - np.array(nf, npix, 3) - nf is the number of frequencies, npix is the number of pixels and 3 is for IQU maps\n",
    "    tod        - NP.ARRAY(nf_rec, len)     - the TOD. nf_rec is the number of reconstructed sub-bands, len is the length of the TOD\n",
    "    cov        - NP.ARRAY(npix)            - the coverage map\n",
    "    inst_dicg_fn - STRING - filename of the instrument dictionary\n",
    "    detectors - LIST - a list of integers or the string 'All'\n",
    "\n",
    "    OUTPUTS\n",
    "    maps_recon - NP.ARRAY(nf_rec, npix, 3) - the reconstructed map. nf_rec is the number of reconstracted sub-bands, npix is the number of pixels, 3 is for IQU maps\n",
    "    '''\n",
    "\n",
    " # Define sky configuration\n",
    "    d = qubic.qubicdict.qubicDict()\n",
    "    d.read_from_file(inst_dict_fn)\n",
    "    \n",
    "    # Pointing strategy\n",
    "    p = qubic.get_pointing(d)\n",
    "    print('=== Pointing DONE! ===')\n",
    "\n",
    "    # Model of the scene at the time of observation\n",
    "    s = qubic.QubicScene(d)\n",
    "\n",
    "    # Create MultibandInstrument. Model of the instrument with a focal plane sensitivity to \n",
    "    # multiple frequencies\n",
    "    q = select_detector_subset(qubic.QubicMultibandInstrument(d), detectors)\n",
    "\n",
    "    # Generate the sub-band limits to be used (later we can see what information we are ignoring with '_')\n",
    "    _, nus_edge_in, _, _, _, _ = qubic.compute_freq(d['filter_nu'] / 1e9, d['nf_sub'],\n",
    "                                                    d['filter_relative_bandwidth'])\n",
    "    # Finally create an acquisition multiband operator which combines all relevant information\n",
    "    #scene, instrument configuration and strategy pointing. \n",
    "    a = qubic.QubicMultibandAcquisition(q, p, s, d, nus_edge_in)    \n",
    "\n",
    "    #Coverage map\n",
    "    # Map-making process for a given number of reconstructed subbands\n",
    "    nf_sub_rec = d['nf_recon'][0]\n",
    "\n",
    "    print('************* Map-Making on {} sub-map(s) *************'.format(nf_sub_rec))\n",
    "\n",
    "    ## Build a MultiAcquisition operator for reconstruction (map-making). As it is the inverse\n",
    "    # process but seen with 'different' instrument (one with nf_rec channels).  \n",
    "    # Recompute the edges of sub-bands :\n",
    "    _, nus_edge, _, _, _, _ = qubic.compute_freq(d['filter_nu'] / 1e9, nf_sub_rec, d['filter_relative_bandwidth'])\n",
    "\n",
    "    # Create a MultiBandAcquisition\n",
    "    arec = qubic.QubicMultibandAcquisition(q, p, s, d, nus_edge)\n",
    "        \n",
    "    # From TOD reconstruct sky maps.\n",
    "    maps_recon, nit, error = arec.tod2map(tod, d, cov=cov)\n",
    "\n",
    "    print('The shape of the reconstructed maps is (nf_recon, #pixels, #stokes) :', maps_recon.shape)\n",
    "    print('{} iterations were needed to get an error of {}'.format(nit, error))    \n",
    "    \n",
    "    return maps_recon"
   ]
  },
  {
   "cell_type": "code",
   "execution_count": null,
   "id": "da7e39a2",
   "metadata": {
    "code_folding": [
     "0"
    ]
   },
   "outputs": [],
   "source": [
    "def build_qubic_tod(sky_map, inst_dict_fn, detectors):\n",
    "    '''\n",
    "    This function builds a TOD observed by QUBIC given a sky map and instrument dictionary and a detectors list\n",
    "\n",
    "    INPUTS\n",
    "    sky map - np.array(nf, npix, 3) - nf is the number of frequencies, npix is the number of pixels and 3 is for IQU maps\n",
    "    inst_dicg_fn - STRING - filename of the instrument dictionary\n",
    "    detectors - LIST - a list of integers or the string 'All'\n",
    "\n",
    "    OUTPUTS\n",
    "    TOD        - NP.ARRAY(nf_rec, len)     - the TOD. nf_rec is the number of reconstructed sub-bands, len is the length of the TOD\n",
    "    '''\n",
    "\n",
    "    # Define sky configuration\n",
    "    d = qubic.qubicdict.qubicDict()\n",
    "    d.read_from_file(inst_dict_fn)\n",
    "    \n",
    "    # Pointing strategy\n",
    "    p = qubic.get_pointing(d)\n",
    "    print('=== Pointing DONE! ===')\n",
    "\n",
    "    # Model of the scene at the time of observation\n",
    "    s = qubic.QubicScene(d)\n",
    "\n",
    "    # Create MultibandInstrument. Model of the instrument with a focal plane sensitivity to \n",
    "    # multiple frequencies\n",
    "    q = select_detector_subset(qubic.QubicMultibandInstrument(d), detectors)\n",
    "\n",
    "    # Generate the sub-band limits to be used (later we can see what information we are ignoring with '_')\n",
    "    _, nus_edge_in, _, _, _, _ = qubic.compute_freq(d['filter_nu'] / 1e9, d['nf_sub'],\n",
    "                                                    d['filter_relative_bandwidth'])\n",
    "    # Finally create an acquisition multiband operator which combines all relevant information\n",
    "    #scene, instrument configuration and strategy pointing. \n",
    "    a = qubic.QubicMultibandAcquisition(q, p, s, d, nus_edge_in)    \n",
    "\n",
    "    #TOD\n",
    "    # MultiFreq TOD making\n",
    "    #(i.e. TOD for several subbands to reproduce a wideband observation)\n",
    "    TOD, maps_convolved_useless = a.get_observation(sky_map, noiseless=d['noiseless'])#, convolution = True)\n",
    "    del(maps_convolved_useless)\n",
    "    \n",
    "    return TOD"
   ]
  },
  {
   "cell_type": "code",
   "execution_count": null,
   "id": "1e2e35b5",
   "metadata": {
    "code_folding": [
     "0"
    ]
   },
   "outputs": [],
   "source": [
    "def build_qubic_cov(sky_map, inst_dict_fn, detectors):\n",
    "    '''\n",
    "    This function builds a coverage map observed by QUBIC given a sky map and instrument dictionary and a detectors list\n",
    "\n",
    "    INPUTS\n",
    "    sky map - np.array(nf, npix, 3) - nf is the number of frequencies, npix is the number of pixels and 3 is for IQU maps\n",
    "    inst_dict_fn - STRING - filename of the instrument dictionary\n",
    "    detectors - LIST - a list of integers or the string 'All'\n",
    "\n",
    "    OUTPUTS\n",
    "    cov        - NP.ARRAY(npix)            - the coverage map\n",
    "    '''\n",
    "\n",
    " # Define sky configuration\n",
    "    d = qubic.qubicdict.qubicDict()\n",
    "    d.read_from_file(inst_dict_fn)\n",
    "    \n",
    "    # Pointing strategy\n",
    "    p = qubic.get_pointing(d)\n",
    "    print('=== Pointing DONE! ===')\n",
    "\n",
    "    # Model of the scene at the time of observation\n",
    "    s = qubic.QubicScene(d)\n",
    "\n",
    "    # Create MultibandInstrument. Model of the instrument with a focal plane sensitivity to \n",
    "    # multiple frequencies\n",
    "    q = select_detector_subset(qubic.QubicMultibandInstrument(d), detectors)\n",
    "\n",
    "    # Generate the sub-band limits to be used (later we can see what information we are ignoring with '_')\n",
    "    _, nus_edge_in, _, _, _, _ = qubic.compute_freq(d['filter_nu'] / 1e9, d['nf_sub'],\n",
    "                                                    d['filter_relative_bandwidth'])\n",
    "    # Finally create an acquisition multiband operator which combines all relevant information\n",
    "    #scene, instrument configuration and strategy pointing. \n",
    "    a = qubic.QubicMultibandAcquisition(q, p, s, d, nus_edge_in)    \n",
    "\n",
    "    #Coverage map\n",
    "    # Map-making process for a given number of reconstructed subbands\n",
    "    nf_sub_rec = d['nf_recon'][0]\n",
    "\n",
    "    print('************* Map-Making on {} sub-map(s) *************'.format(nf_sub_rec))\n",
    "\n",
    "    ## Build a MultiAcquisition operator for reconstruction (map-making). As it is the inverse\n",
    "    # process but seen with 'different' instrument (one with nf_rec channels).  \n",
    "    # Recompute the edges of sub-bands :\n",
    "    _, nus_edge, _, _, _, _ = qubic.compute_freq(d['filter_nu'] / 1e9, nf_sub_rec, d['filter_relative_bandwidth'])\n",
    "\n",
    "    # Create a MultiBandAcquisition\n",
    "    arec = qubic.QubicMultibandAcquisition(q, p, s, d, nus_edge)\n",
    "    \n",
    "    # Get coverage map\n",
    "    # i.e. how many times were seen each pixel of the sky (not trivial because of the synthetic beam)\n",
    "    cov = arec.get_coverage()\n",
    "        \n",
    "    return cov"
   ]
  },
  {
   "cell_type": "code",
   "execution_count": null,
   "id": "de4f5cbb",
   "metadata": {
    "code_folding": []
   },
   "outputs": [],
   "source": [
    "def nep2net(nep, freq, bandwidth, temp):\n",
    "    h = 6.62607004e-34\n",
    "    k = 1.38064852e-23\n",
    "    x = h*freq/k/temp\n",
    "    fact = 1/(2*k*bandwidth)*(np.exp(x)-1)**2/(x**2*np.exp(x))\n",
    "    net = nep * fact\n",
    "    return net\n",
    "    "
   ]
  },
  {
   "cell_type": "markdown",
   "id": "62b427c6",
   "metadata": {},
   "source": [
    "# Get detector noise from dictionary and convert to K*sqrt(s)"
   ]
  },
  {
   "cell_type": "code",
   "execution_count": null,
   "id": "df86b367",
   "metadata": {},
   "outputs": [],
   "source": [
    "# Define folders\n",
    "root_folder = '/Users/hamilton/Qubic/ScienceCaseTD/DebugCodeDaniele'\n",
    "data_folder = root_folder+'/data_files/'\n",
    "maps_folder = root_folder+'/maps/'\n",
    "#inst_dict_fn = '%sTD_spectroimaging.dict' % (data_folder)\n",
    "inst_dict_fn = 'TD_spectroimaging.dict'\n",
    "\n",
    "# Read dictionary\n",
    "d = qubic.qubicdict.qubicDict()\n",
    "d.read_from_file(inst_dict_fn)\n",
    "\n",
    "# Read noise\n",
    "nep = d['detector_nep']\n",
    "print('Detector NEP = %1.2e W/sqrt(Hz)' % nep)"
   ]
  },
  {
   "cell_type": "code",
   "execution_count": null,
   "id": "7f392f42",
   "metadata": {},
   "outputs": [],
   "source": [
    "# Convert to NET\n",
    "nu0 = d['filter_nu']\n",
    "bw = nu0 * d['filter_relative_bandwidth']\n",
    "temp = d['temperature']\n",
    "net = nep2net(nep, nu0, bw, temp)\n",
    "tau = d['period']\n",
    "print('Center frequency = %3.0f GHz' % (nu0 / 1e9))\n",
    "print('Bandwidth = %3.0f GHz' % (bw / 1e9))\n",
    "print('Integration time = %1.3f s' % tau)\n",
    "print('Detector NET = %1.2e K x sqrt(s)' % net)"
   ]
  },
  {
   "cell_type": "markdown",
   "id": "98160d26",
   "metadata": {},
   "source": [
    "# Generate sky map to be observed"
   ]
  },
  {
   "cell_type": "markdown",
   "id": "0671ab36",
   "metadata": {},
   "source": [
    "<p style=\"font-size:20px\"> \n",
    "Here I generate the input sky map for the observation. I include CMB, synchrotron and dust with the symplest model in PySm (s1, d1, see details in <a href=\"https://pysm-public.readthedocs.io/en/latest/models.html\">https://pysm-public.readthedocs.io/en/latest/models.html</a>.\n",
    "</p>"
   ]
  },
  {
   "cell_type": "code",
   "execution_count": null,
   "id": "a9ac20a7",
   "metadata": {},
   "outputs": [],
   "source": [
    "# Define sky configuration\n",
    "sky_config = {'synchrotron': models('s1', d['nside']),'dust': models('d1', d['nside']), 'cmb': models('c1', d['nside'])}\n",
    "\n",
    "# Define number of sub-bands\n",
    "nf_sub = [2,] #[2, 4, 5, 10, 12, 14, 15, 16, 18, 20, 22, 24]\n",
    "\n",
    "# Define output map filename\n",
    "out_map = '%ssyn_dust_cmb_map.fits' % (maps_folder)\n",
    "\n",
    "# Define center freq, band extremes and sub_bands\n",
    "nu_min      = nu0 - bw / 2.\n",
    "nu_max      = nu0 + bw / 2.\n",
    "delta       = bw / nf_sub[0]\n",
    "freq_array  = np.array([nu_min + (j-1/2.) * delta for j in np.arange(1,nf_sub[0]+1)])"
   ]
  },
  {
   "cell_type": "code",
   "execution_count": null,
   "id": "6e6c3432",
   "metadata": {},
   "outputs": [],
   "source": [
    "outmap = build_sky_map(inst_dict_fn, sky_config, nf_sub, out_map)"
   ]
  },
  {
   "cell_type": "code",
   "execution_count": null,
   "id": "0de4fafd",
   "metadata": {},
   "outputs": [],
   "source": [
    "mp = FitsArray(outmap[0])"
   ]
  },
  {
   "cell_type": "markdown",
   "id": "2c766333",
   "metadata": {},
   "source": [
    "<p style=\"font-size:20px\"> \n",
    "Display the generated maps</a>.\n",
    "</p>"
   ]
  },
  {
   "cell_type": "code",
   "execution_count": null,
   "id": "48397ba8",
   "metadata": {},
   "outputs": [],
   "source": [
    "fig = pl.figure(figsize = (26,26))\n",
    "fig.suptitle('Input sky map', fontsize = 'xx-large')\n",
    "ind = 0\n",
    "indices = np.arange(len(freq_array))\n",
    "for fr, index in zip(freq_array, indices):\n",
    "    ind = ind + 1\n",
    "    ax = fig.add_subplot(nf_sub[0], 3,ind)\n",
    "    h.visufunc.mollview(mp[index, :, 0], hold = True, title = '%3.1f GHz I' % (fr/1.e9))\n",
    "\n",
    "    ind = ind + 1\n",
    "#    print(fr/1e9, ind)\n",
    "    ax = fig.add_subplot(nf_sub[0], 3,ind)\n",
    "    h.visufunc.mollview(mp[index, :, 1], hold = True, title = '%3.1f GHz Q' % (fr/1.e9))\n",
    "\n",
    "    ind = ind + 1\n",
    "#    print(fr/1e9, ind)\n",
    "    ax = fig.add_subplot(nf_sub[0], 3,ind)\n",
    "    h.visufunc.mollview(mp[index, :, 2], hold = True, title = '%3.1f GHz U' % (fr/1.e9))\n",
    "pl.show()\n",
    "#pl.savefig(maps_folder + 'syn_dust_cmb_map.pdf',bbox_inches = 'tight')\n",
    "pl.close('all')"
   ]
  },
  {
   "cell_type": "markdown",
   "id": "a080ed74",
   "metadata": {},
   "source": [
    "# Make observation and check noise on TOD"
   ]
  },
  {
   "cell_type": "markdown",
   "id": "f68689eb",
   "metadata": {},
   "source": [
    "Now I build a TOD with 240000 pointings sampled at 1 Hz with and integration time of 1 second. I consider only one detector"
   ]
  },
  {
   "cell_type": "code",
   "execution_count": null,
   "id": "c9ba0cef",
   "metadata": {},
   "outputs": [],
   "source": [
    "y2sec = 24*365*3600.\n",
    "eff_duration = d['npointings'] * d['period']/y2sec\n",
    "detector = [0]\n",
    "print(eff_duration)"
   ]
  },
  {
   "cell_type": "code",
   "execution_count": null,
   "id": "639eb930",
   "metadata": {},
   "outputs": [],
   "source": [
    "tod = build_qubic_tod(mp, inst_dict_fn, detector)"
   ]
  },
  {
   "cell_type": "code",
   "execution_count": null,
   "id": "4707afc0",
   "metadata": {},
   "outputs": [],
   "source": [
    "pl.plot(tod[0,:])"
   ]
  },
  {
   "cell_type": "markdown",
   "id": "331dfc07",
   "metadata": {},
   "source": [
    "Now I calculate the standard deviation of the TOD, $\\sigma$. Then I should get $\\sigma = \\mathrm{NEP}/\\sqrt{2}/\\sqrt{\\tau}$"
   ]
  },
  {
   "cell_type": "code",
   "execution_count": null,
   "id": "cc1193f6",
   "metadata": {},
   "outputs": [],
   "source": [
    "sigma = np.std(tod[0,:])\n",
    "print('sigma measured = %1.3e W, sigma theo = %1.3e W' %(sigma, nep/np.sqrt(2)/np.sqrt(tau)))"
   ]
  },
  {
   "cell_type": "markdown",
   "id": "628d2536",
   "metadata": {},
   "source": [
    "# Check noise on the map"
   ]
  },
  {
   "cell_type": "markdown",
   "id": "54d905e7",
   "metadata": {},
   "source": [
    "## Define coverage"
   ]
  },
  {
   "cell_type": "code",
   "execution_count": null,
   "id": "1f1e6c42",
   "metadata": {},
   "outputs": [],
   "source": [
    "# Build coverage map and select pixels with good coverage\n",
    "threshold = 0.1\n",
    "cov = build_qubic_cov(mp, inst_dict_fn, [0])\n",
    "okpix = cov[0,:] > (threshold * np.max(cov[0,:]))"
   ]
  },
  {
   "cell_type": "code",
   "execution_count": null,
   "id": "dd762195",
   "metadata": {},
   "outputs": [],
   "source": [
    "h.mollview(cov[0,:])"
   ]
  },
  {
   "cell_type": "markdown",
   "id": "1ba5fb09",
   "metadata": {},
   "source": [
    "## Build observed map"
   ]
  },
  {
   "cell_type": "code",
   "execution_count": null,
   "id": "7e704e2f",
   "metadata": {},
   "outputs": [],
   "source": [
    "# Build map\n",
    "qubic_mp = build_qubic_map(mp, tod, cov, inst_dict_fn, [0])"
   ]
  },
  {
   "cell_type": "code",
   "execution_count": null,
   "id": "22f06520",
   "metadata": {},
   "outputs": [],
   "source": [
    "# Set the unvovered pixels to UNSEEN and select the intensity map\n",
    "for i in np.arange(3):\n",
    "    qubic_mp[~okpix,i] = h.UNSEEN\n",
    "qubic_I = qubic_mp[:,0]"
   ]
  },
  {
   "cell_type": "code",
   "execution_count": null,
   "id": "8ddea152",
   "metadata": {},
   "outputs": [],
   "source": [
    "h.mollview(qubic_I)"
   ]
  },
  {
   "cell_type": "markdown",
   "id": "55b7df1b",
   "metadata": {},
   "source": [
    "## Calculate theoretical rms on map"
   ]
  },
  {
   "cell_type": "markdown",
   "id": "a12ebb22",
   "metadata": {},
   "source": [
    "Now we calculate the theoretical (average) rms on the map. This is equal to:\n",
    "$\\sigma_\\mathrm{map} = \\sigma_\\mathrm{tod}/\\sqrt{\\tau_\\mathrm{m}}$, where $\\sigma_\\mathrm{tod}$ is the TOD rms in $\\mathrm{K}\\times\\sqrt{s}$ and $\\tau_\\mathrm{m}$ is the average integration time per pixel. \n",
    "\n",
    "We can estimate $\\tau_\\mathrm{m}$ as $T_\\mathrm{obs}/N_\\mathrm{pix}$, where $T_\\mathrm{obs}$ is the total observation time and $N_\\mathrm{pix}$ is the number of observed pixels. "
   ]
  },
  {
   "cell_type": "code",
   "execution_count": null,
   "id": "fb2d0477",
   "metadata": {},
   "outputs": [],
   "source": [
    "Tobs = sum(cov[0,okpix]) * d['period']\n",
    "Npix = len(qubic_I[okpix])\n",
    "tau_m = Tobs/Npix\n",
    "sigma_map = net / np.sqrt(tau_m)"
   ]
  },
  {
   "cell_type": "code",
   "execution_count": null,
   "id": "2e66d292",
   "metadata": {},
   "outputs": [],
   "source": [
    "print('Total observation time: %6.2f seconds' % Tobs)\n",
    "print('Npix: %i' % Npix)\n",
    "print('Average tau: %3.2f seconds' % tau_m)\n",
    "print('Theoretical sigma_map: %2.3f microK' % (sigma_map * 1e6))"
   ]
  },
  {
   "cell_type": "markdown",
   "id": "de906c0b",
   "metadata": {},
   "source": [
    "## Measure average rms on map"
   ]
  },
  {
   "cell_type": "code",
   "execution_count": null,
   "id": "97af0c7b",
   "metadata": {
    "code_folding": []
   },
   "outputs": [],
   "source": [
    "# Now I produce noise-only maps by subtracting the signal maps and define the same mask as the QUBIC one\n",
    "sky_I =0.5*(mp[0,:,0]+mp[1,:,0])\n",
    "sky_I[~okpix] = h.UNSEEN"
   ]
  },
  {
   "cell_type": "code",
   "execution_count": null,
   "id": "e3f0815c",
   "metadata": {},
   "outputs": [],
   "source": [
    "h.mollview(sky_I)"
   ]
  },
  {
   "cell_type": "code",
   "execution_count": null,
   "id": "7a30fc16",
   "metadata": {},
   "outputs": [],
   "source": [
    "diffmap = qubic_I - sky_I\n",
    "diffmap[~okpix] = h.UNSEEN"
   ]
  },
  {
   "cell_type": "code",
   "execution_count": null,
   "id": "3432befd",
   "metadata": {},
   "outputs": [],
   "source": [
    "h.mollview(diffmap)"
   ]
  },
  {
   "cell_type": "code",
   "execution_count": null,
   "id": "1a1c3562",
   "metadata": {},
   "outputs": [],
   "source": [
    "print(\"Measured sigma on map: %5.3f microK\" % np.std(diffmap[okpix]))"
   ]
  },
  {
   "cell_type": "markdown",
   "id": "164f7d3c",
   "metadata": {},
   "source": [
    "<font size = 16>It is about 3 orders of magnitudes larger than the estimate</font>"
   ]
  },
  {
   "cell_type": "code",
   "execution_count": null,
   "id": "6ab6f0fe",
   "metadata": {},
   "outputs": [],
   "source": []
  },
  {
   "cell_type": "code",
   "execution_count": null,
   "id": "96e6b153",
   "metadata": {},
   "outputs": [],
   "source": []
  }
 ],
 "metadata": {
  "kernelspec": {
   "display_name": "Python 3",
   "language": "python",
   "name": "python3"
  }
 },
 "nbformat": 4,
 "nbformat_minor": 5
}
