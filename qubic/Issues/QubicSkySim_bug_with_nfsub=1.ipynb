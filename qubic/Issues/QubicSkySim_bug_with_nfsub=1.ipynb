{
 "cells": [
  {
   "cell_type": "markdown",
   "id": "604bc4a7",
   "metadata": {},
   "source": [
    "# Debug QubicSkySim\n",
    "\n",
    "Editing by Louise, March 2020\n",
    "\n",
    "JCh noticed a very puzzling bug. We think it comes from the new library QubicSkySim.   "
   ]
  },
  {
   "cell_type": "code",
   "execution_count": null,
   "id": "f1c5fe1d",
   "metadata": {},
   "outputs": [],
   "source": [
    "%matplotlib inline\n",
    "import numpy as np\n",
    "import healpy as hp\n",
    "import matplotlib.pyplot as plt\n",
    "\n",
    "# Specific qubic modules\n",
    "from pysimulators import FitsArray\n",
    "import pysm\n",
    "import qubic\n",
    "from qubic import QubicSkySim as qss\n",
    "from qubic import NamasterLib as nam\n",
    "\n",
    "rc('figure', figsize=(12, 8))\n",
    "rc('font', size=15)"
   ]
  },
  {
   "cell_type": "code",
   "execution_count": null,
   "id": "0a197a12",
   "metadata": {},
   "outputs": [],
   "source": [
    "#### Create sample CMB I,Q,U maps\n",
    "\n",
    "# dictfilename = 'BmodesNoDustNoSystPaper0_2020.dict'\n",
    "dictfilename = 'test_QubicSkySim.dict'\n",
    "\n",
    "# Read dictionary chosen\n",
    "d = qubic.qubicdict.qubicDict()\n",
    "d.read_from_file(dictfilename)\n",
    "\n",
    "d['nside'] = 256\n",
    "center = qubic.equ2gal(d['RA_center'], d['DEC_center'])\n",
    "print(center)"
   ]
  },
  {
   "cell_type": "markdown",
   "id": "8f0e3e50",
   "metadata": {},
   "source": [
    "The problem is only when nf_sub = 1, as you can try below:"
   ]
  },
  {
   "cell_type": "code",
   "execution_count": null,
   "id": "e1110838",
   "metadata": {},
   "outputs": [],
   "source": [
    "d['nf_sub'] = 1\n",
    "lmax = 2 * d['nside']\n",
    "\n",
    "# Create a sky with qss\n",
    "seed = None\n",
    "sky_config = {'cmb': seed}\n",
    "Qubic_sky = qss.Qubic_sky(sky_config, d)\n",
    "x0 = Qubic_sky.get_simple_sky_map()\n",
    "print('x0 Shape:', x0.shape)\n",
    "\n",
    "# Input map used by qss\n",
    "inmap = Qubic_sky.input_cmb_maps\n",
    "print('input Shape:', inmap.shape)\n",
    "\n",
    "# Anafast spectrum from input map\n",
    "clsin = hp.anafast(inmap, lmax=lmax)\n",
    "ll = np.arange(0, lmax+1)\n",
    "print('ll shape', ll.shape)\n",
    "# print(ll)\n",
    "Dlsin = ll * (ll + 1) * clsin / (2 * np.pi)\n",
    "print('Dlsin', Dlsin.shape)\n",
    "\n",
    "# Spectra used in qss to create the x0 map\n",
    "Dlth = Qubic_sky.input_cmb_spectra\n",
    "print('Dlth', Dlth.shape)\n",
    "llth = np.arange(len(Dlth[:, 0]))\n",
    "print('llth shape', llth.shape)\n",
    "# print(llth)\n",
    "\n",
    "# Spectra with Anafast from x0 map\n",
    "Dls = []\n",
    "for i in range(d['nf_sub']):\n",
    "    Cls = hp.anafast(x0[i, :, :].T, lmax=lmax)\n",
    "    Dls.append(ll * (ll + 1) * Cls / (2 * np.pi))\n",
    "Dls = np.array(Dls)\n",
    "print('Dls', Dls.shape)\n",
    "   \n",
    "    \n",
    "order = ['TT', 'EE', 'BB', 'TE']\n",
    "for i in range(4):\n",
    "    subplot(2, 2, i+1)\n",
    "    title(order[i])\n",
    "    xlim(0, lmax)\n",
    "    plot(llth, Dlth[:, i], 'k', label='Dl Th')\n",
    "    plot(ll, Dlsin[i, :], alpha=0.3, label='Dl from Input')\n",
    "    for k in range(d['nf_sub']):\n",
    "        plot(ll, Dls[k, i, :], alpha=0.3, label='Dl from x0 band {}'.format(k))\n",
    "legend()"
   ]
  },
  {
   "cell_type": "code",
   "execution_count": null,
   "id": "f9e5c6ce",
   "metadata": {},
   "outputs": [],
   "source": []
  }
 ],
 "metadata": {
  "kernelspec": {
   "display_name": "Python 3",
   "language": "python",
   "name": "python3"
  }
 },
 "nbformat": 4,
 "nbformat_minor": 5
}
