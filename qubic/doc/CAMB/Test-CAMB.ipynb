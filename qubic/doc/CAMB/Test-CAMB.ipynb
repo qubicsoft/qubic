{
 "cells": [
  {
   "cell_type": "markdown",
   "id": "48d13897",
   "metadata": {},
   "source": [
    "### Test script for CAMB\n",
    "Written by J.-Ch. Hamilton - March 19th 2020\n",
    "\n",
    "installed with:\n",
    "```\n",
    "sudo pip install camb\n",
    "```"
   ]
  },
  {
   "cell_type": "code",
   "execution_count": null,
   "id": "c6b8aaf7",
   "metadata": {},
   "outputs": [],
   "source": [
    "import camb\n",
    "from camb import model, initialpower\n",
    "from importlib import reload\n",
    "rc('figure', figsize=(13, 10))\n",
    "rc('font', size=15)"
   ]
  },
  {
   "cell_type": "code",
   "execution_count": null,
   "id": "e2ce89c4",
   "metadata": {},
   "outputs": [],
   "source": [
    "# Set up a new set of parameters for CAMB\n",
    "pars = camb.CAMBparams()\n",
    "\n",
    "# This function sets up CosmoMC-like settings, with one massive neutrino and helium set using BBN consistency\n",
    "pars.set_cosmology(H0=67.5, ombh2=0.022, omch2=0.122, mnu=0.06, omk=0, tau=0.06)\n",
    "# print(pars)\n",
    "# print(pars.InitPower)\n",
    "pars.WantTensors = True\n",
    "pars.InitPower.set_params(As=2e-9, ns=0.965, r=0.1)\n",
    "pars.set_for_lmax(500, lens_potential_accuracy=1);\n",
    "\n",
    "# calculate results for these parameters\n",
    "results = camb.get_results(pars)\n",
    "\n",
    "# get dictionary of CAMB power spectra\n",
    "powers =results.get_cmb_power_spectra(pars, CMB_unit='muK')\n",
    "for name in powers: print(name)\n"
   ]
  },
  {
   "cell_type": "code",
   "execution_count": null,
   "id": "411fd31d",
   "metadata": {},
   "outputs": [],
   "source": [
    "# plot the total lensed CMB power spectra versus unlensed, and fractional difference\n",
    "totCL = powers['total']\n",
    "unlensedCL = powers['unlensed_total']\n",
    "print(totCL.shape)\n",
    "\n",
    "# Python CL arrays are all zero based (starting at L=0), Note L=0,1 entries will be zero by default.\n",
    "# The different CL are always in the order TT, EE, BB, TE (with BB=0 for unlensed scalar results).\n",
    "\n",
    "ls = np.arange(totCL.shape[0])\n",
    "order = ['TT', 'EE', 'BB', 'TE']\n",
    "for i in range(4):\n",
    "    subplot(2,2,i+1)\n",
    "    plot(ls, totCL[:, i], color='k')\n",
    "    plot(ls, unlensedCL[:, i], color='r')\n",
    "    title(order[i])\n"
   ]
  },
  {
   "cell_type": "code",
   "execution_count": null,
   "id": "ce5dda94",
   "metadata": {},
   "outputs": [],
   "source": []
  },
  {
   "cell_type": "code",
   "execution_count": null,
   "id": "d3c9c664",
   "metadata": {},
   "outputs": [],
   "source": []
  }
 ],
 "metadata": {
  "kernelspec": {
   "display_name": "Python 3 (ipykernel)",
   "language": "python",
   "name": "python3"
  }
 },
 "nbformat": 4,
 "nbformat_minor": 5
}
