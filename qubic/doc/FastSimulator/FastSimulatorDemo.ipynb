{
 "cells": [
  {
   "cell_type": "code",
   "execution_count": null,
   "id": "3b974cf0",
   "metadata": {},
   "outputs": [],
   "source": [
    "%matplotlib inline\n",
    "\n",
    "import healpy as hp\n",
    "import os,sys,glob,time,pickle\n",
    "import matplotlib.pyplot as plt\n",
    "import numpy as np\n",
    "\n",
    "# Specific qubic modules\n",
    "from pysimulators import FitsArray\n",
    "from qubic.lib import QskySim as qss\n",
    "from qubic.lib.Qdictionary import qubicDict\n",
    "from qubic.lib.Qsamplings import equ2gal\n",
    "from qubic.data import PATH as data_dir\n",
    "print(data_dir)\n",
    "\n",
    "plt.rcParams['figure.figsize'] =(16, 10)\n",
    "plt.rcParams['font.size'] =15\n",
    "plt.rcParams['image.cmap'] = 'jet'"
   ]
  },
  {
   "cell_type": "markdown",
   "id": "c00bd42a",
   "metadata": {},
   "source": [
    "This notebook is a demo for using the QUBIC FastSimulator which is a shortcut to produce QUBIC noise maps without having to go through the long and CPU greedy process of QUBIC Map-Making on supercomputers.\n",
    "\n",
    "The FastSimulator reproduces the noise structure that has been measured so far in simulations:\n",
    "- Noise RMS profile as a function of coverage\n",
    "- Noise spatial correlation that is responsible for lower $\\Delta C_\\ell$ at low $\\ell$ and is a key aspect of the QUBIC nosie structure, originating from noise anticorrelation at the scale of the distance between two synthesized beam peaks.\n",
    "- Noise correlation (mostly anticorrelation) sub-bands reconstructed when performing spectro-imaging.\n",
    "\n",
    "# Choose between TD and FI, 150 and 220GHz \n",
    "\n",
    "\n"
   ]
  },
  {
   "cell_type": "code",
   "execution_count": null,
   "id": "23acacfe",
   "metadata": {},
   "outputs": [],
   "source": [
    "#### FI220, FI150, TD150\n",
    "config = 'FI220' \n",
    "\n",
    "### Read some stuff\n",
    "# Read dictionary chosen\n",
    "d = qubicDict()\n",
    "d.read_from_file('pipeline_demo.dict')\n",
    "\n",
    "d['nside'] = 256\n",
    "center = equ2gal(d['RA_center'], d['DEC_center'])\n",
    "\n",
    "# Frequency wide band, 150 or 220 GHz\n",
    "d['filter_nu'] = int(config[-3:]) * 1e9\n",
    "print(d['filter_nu'])"
   ]
  },
  {
   "cell_type": "markdown",
   "id": "0f6bb501",
   "metadata": {},
   "source": [
    "First, you need to instanciate a QubicSkySim (qss) object where the PYSM3 model can be specified (see doc/QubicSkySim/ notebooks for documentation and examples)\n",
    "\n",
    "Then one can retrieve detailed approximations of the Qubic reconstructed sub-bands with some random noise realization with the correct properties:\n",
    "- Noise profile as a function of coverage\n",
    "- Spatial noise correlations\n",
    "- subband-subband noise covariance\n",
    "All these features have been fit on Qubic End-To-End (TOD to maps) simulations performed at NERSC or similar supercomputer.\n",
    "\n",
    "The code returns the reconstructed maps with noise, the noiseless maps, the noise maps and the coverage map. Note that it can also use an alternative coverage than you provide as an input in the keyword coverage.\n",
    "\n",
    "The sky map is first constructed with infinite resolution at ech of the \"input sub frequencies\" of the dictionary (d['nf_sub']) and then convolved at each of the resolutions of each frequencies. Then it is averaged oved the reconstructed frequencies (d['nf_recon]) in such a. way that is mimics Qubic End-To-End reconstruction as much as possible.\n",
    "\n",
    "#### Very important remark:\n",
    "When simulating with Spatial noise correlations, the RMS of the noise maps that are returned is **not at all** the expected one, the map however has the correct noise Cl power spectrum and should be used as it is (no renormalization of the noise to match the intended RMS) for Power Spectrum studies. If one is rather interested in map-space studies, and therefore is likely to need to rely on the RMS of the pixels at some point for statistical putposes, it is then important to set the keyword 'spatial_noise' to False in the call to the method get_partial_sky_maps_withnoise() of QubicSkySim.\n",
    "\n",
    "### First Example: CMB Only, a single noise realization, no spatial_noise\n",
    "In this case the code returns the number of sub-bands from the input dictionary (here 1). The maps are centered on the Galactic Center. Provide your own coverage map centered elsewhere (optional argument) for another target..."
   ]
  },
  {
   "cell_type": "code",
   "execution_count": null,
   "id": "4348fc2d",
   "metadata": {},
   "outputs": [],
   "source": [
    "#### One can easily change the number of sub-bands by updating the dictionary\n",
    "nbands = 3\n",
    "d['nf_recon'] = nbands\n",
    "d['nf_sub'] = nbands\n",
    "\n",
    "##### QubicSkySim instanciation\n",
    "seed = None\n",
    "sky_config = {'cmb': seed}\n",
    "Qubic_sky = qss.Qubic_sky(sky_config, d)\n",
    "\n",
    "##### Getting FastSimulator output maps\n",
    "maps_qubic, maps_noiseless, maps_noise, coverage = Qubic_sky.get_partial_sky_maps_withnoise(spatial_noise=False)\n",
    "\n",
    "\n",
    "################################# Displaying Results ##########################################\n",
    "### Coverage map\n",
    "hp.mollview(coverage, title='Coverage Map', sub=(2,2,1))\n",
    "hp.gnomview(coverage, reso=25, title='Coverage Map', sub=(2,2,2))\n",
    "\n",
    "### Maps per sub-bands\n",
    "stn = ['I', 'Q', 'U']\n",
    "plt.figure()\n",
    "for i in range(d['nf_recon']):\n",
    "    for s in range(3):\n",
    "        hp.gnomview(maps_noiseless[i,:,s], reso=25, sub=(d['nf_recon'],3,3*i+s+1), \n",
    "                    title='Noiseless '+stn[s]+' Sub {}'.format(i))\n",
    "        \n",
    "plt.figure()\n",
    "for i in range(d['nf_recon']):\n",
    "    for s in range(3):\n",
    "        hp.gnomview(maps_qubic[i,:,s], reso=25, sub=(d['nf_recon'],3,3*i+s+1), \n",
    "                    title='QUBIC Fast Sim '+stn[s]+' Sub {}'.format(i))        \n",
    "        \n",
    "plt.figure()\n",
    "for i in range(d['nf_recon']):\n",
    "    for s in range(3):\n",
    "        hp.gnomview(maps_noise[i,:,s], reso=25, sub=(d['nf_recon'],3,3*i+s+1), \n",
    "                    title='QUBIC Noise Fast Sim '+stn[s]+' Sub {}'.format(i))            "
   ]
  },
  {
   "cell_type": "markdown",
   "id": "f5174e2c",
   "metadata": {},
   "source": [
    "### Multiple Noise realizations\n",
    "Because in the above mode, most of the CPU time is spent on convolving the input sky to the relevant resolutions, once one has made one sky realization, it is faster to make many noise only realizations that can be added to the input CMB afterwards:"
   ]
  },
  {
   "cell_type": "code",
   "execution_count": null,
   "id": "0ab658e9",
   "metadata": {},
   "outputs": [],
   "source": [
    "newd = d.copy()\n",
    "newd['nf_recon'] = 3\n",
    "\n",
    "##### QubicSkySim instanciation\n",
    "seed = None\n",
    "sky_config = {'cmb': seed}\n",
    "Qubic_sky = qss.Qubic_sky(sky_config, newd)\n",
    "\n",
    "##### Getting FastSimulator output maps\n",
    "new_maps_noise, coverage = Qubic_sky.get_partial_sky_maps_withnoise(noise_only=True, \n",
    "                                                                    spatial_noise=False)\n",
    "for i in range(newd['nf_recon']):\n",
    "    for s in range(3):\n",
    "        hp.gnomview(new_maps_noise[i, :, s], \n",
    "                    reso=25, \n",
    "                    sub=(newd['nf_recon'],3,3*i+s+1), \n",
    "                    title='QUBIC Noise Fast Sim ' + stn[s] + f' Sub {i}')        \n"
   ]
  },
  {
   "cell_type": "markdown",
   "id": "90f7963a",
   "metadata": {},
   "source": [
    "# Checking the noise properties of the FastSimulation:\n",
    "\n",
    "Of course we focus here on the noise_only results of the FastSimulator."
   ]
  },
  {
   "cell_type": "code",
   "execution_count": null,
   "id": "335ec9a2",
   "metadata": {},
   "outputs": [],
   "source": [
    "# !!!! Choose a number of bands for all the following\n",
    "nbands = 7\n",
    "\n",
    "newd = d.copy()\n",
    "newd['nf_recon'] = nbands\n",
    "\n",
    "seed = None\n",
    "sky_config = {'cmb': seed}\n",
    "Qubic_sky = qss.Qubic_sky(sky_config, newd)"
   ]
  },
  {
   "cell_type": "code",
   "execution_count": null,
   "id": "32ef1e3f",
   "metadata": {},
   "outputs": [],
   "source": [
    "### Let's read the input noise properties from the file that is used in the fast simulator \n",
    "### (these are fitted to end-to=-end simulations)\n",
    "version_FastSim = '01'\n",
    "rep = os.path.join(data_dir, f'FastSimulator_version{version_FastSim}')\n",
    "\n",
    "pklfile = rep + os.sep + f'DataFastSimulator_{config}_nfsub_{nbands}.pkl'\n",
    "print('reading pickle file: %s' % pklfile)\n",
    "\n",
    "with open(pklfile, \"rb\") as file:\n",
    "    DataFastSim = pickle.load(file)\n",
    "\n",
    "print(DataFastSim.keys())\n",
    "print(DataFastSim['signoise'])\n",
    "print(DataFastSim['alpha'])"
   ]
  },
  {
   "cell_type": "markdown",
   "id": "68cba46f",
   "metadata": {},
   "source": [
    "### 1) Noise Profile\n",
    "This one cannot be checked if the keyword 'spatial_noise' is True in the call, we therefore make a new realization with this keyword set to False. Finally, in order to be comparable to the input simulations, one needs to "
   ]
  },
  {
   "cell_type": "code",
   "execution_count": null,
   "id": "930e506f",
   "metadata": {},
   "outputs": [],
   "source": [
    "new_maps_noise, coverage = Qubic_sky.get_partial_sky_maps_withnoise(noise_only=True,\n",
    "                                                                    spatial_noise=False,\n",
    "                                                                    sigma_sec=100)\n",
    "\n",
    "plt.figure()\n",
    "for isub in range(newd['nf_recon']):\n",
    "    sqn = int(np.sqrt(newd['nf_recon']))\n",
    "    if (sqn**2) != newd['nf_recon']:\n",
    "        sqn += 1\n",
    "    plt.subplot(sqn, sqn, isub+1)\n",
    "    xx, yyfs, fitcov = qss.get_noise_invcov_profile(new_maps_noise[isub, :, :], \n",
    "                                                    coverage, \n",
    "                                                    QUsep=True, \n",
    "                                                    nbins=30,\n",
    "                                                    label='FastSim sub={}/{}'.format(isub+1, newd['nf_recon']), \n",
    "                                                    fit=False, \n",
    "                                                    norm=False,\n",
    "                                                    allstokes=False, doplot=True)\n",
    "    fitcov = DataFastSim['effective_variance_invcov']\n",
    "    plt.plot(fitcov[isub][0,:], np.sqrt(fitcov[isub][1, :]), label='I from End-to-End')\n",
    "    plt.plot(fitcov[isub][0,:], np.sqrt(fitcov[isub][2, :]), label='QU from End-to-End')\n",
    "    plt.legend()\n",
    "    plt.xlim(0.9, 10.1)\n",
    "#     ylim(0, np.max(yyfs)*1.1)\n",
    "    "
   ]
  },
  {
   "cell_type": "markdown",
   "id": "574aec48",
   "metadata": {},
   "source": [
    "### 2) SubBand-SubBand correlation:\n",
    "For this we can use the above simulation"
   ]
  },
  {
   "cell_type": "code",
   "execution_count": null,
   "id": "5b92f466",
   "metadata": {},
   "outputs": [],
   "source": [
    "new_maps_noise, coverage = Qubic_sky.get_partial_sky_maps_withnoise(noise_only=True, \n",
    "                                                                    spatial_noise=False)\n",
    "\n",
    "\n",
    "cInew, cQnew, cUnew, fitcov, noise_norm = qss.get_cov_nunu(new_maps_noise, coverage, QUsep=True)\n",
    "new_corr_mats = [cInew, cQnew/2, cUnew/2]\n",
    "\n",
    "corr_mats = [DataFastSim['CovI'], DataFastSim['CovQ']/2, DataFastSim['CovU']/2]\n",
    "\n",
    "plt.figure()\n",
    "stn = ['I','Q/2', 'U/2']\n",
    "# bla = np.max([np.abs(np.array([corr_mats, new_corr_mats])), np.array([corr_mats, new_corr_mats])])\n",
    "mini = None\n",
    "maxi = None\n",
    "for s in range(3):\n",
    "    plt.subplot(2,3,1+s)\n",
    "    plt.imshow(corr_mats[s], vmin=mini, vmax=maxi, cmap='bwr')\n",
    "    plt.colorbar(orientation='horizontal')\n",
    "    plt.title('End-To-End Cov {} nsub={}'.format(stn[s],newd['nf_recon']))\n",
    "    \n",
    "    plt.subplot(2, 3, 4+s)\n",
    "    plt.imshow(new_corr_mats[s], vmin=mini, vmax=maxi, cmap='bwr')\n",
    "    plt.colorbar(orientation='horizontal')\n",
    "    plt.title('FastSim Cov {} nsub={}'.format(stn[s],newd['nf_recon']))\n"
   ]
  },
  {
   "cell_type": "markdown",
   "id": "91364c8a",
   "metadata": {},
   "source": [
    "### 3) Spatial correlation\n",
    "One needs to turn spatial_noise to True obviously..."
   ]
  },
  {
   "cell_type": "code",
   "execution_count": null,
   "id": "ff65eeb2",
   "metadata": {},
   "outputs": [],
   "source": [
    "new_maps_noise, coverage = Qubic_sky.get_partial_sky_maps_withnoise(noise_only=True, \n",
    "                                                                    spatial_noise=True)"
   ]
  },
  {
   "cell_type": "code",
   "execution_count": null,
   "id": "6372be68",
   "metadata": {},
   "outputs": [],
   "source": [
    "### Get the C(theta)\n",
    "allcthI = []\n",
    "allcthQ = []\n",
    "allcthU = []\n",
    "pixgood = (coverage/np.max(coverage)) > 0.1 \n",
    "for i in range(newd['nf_recon']):\n",
    "    corrected_qubicnoise = qss.correct_maps_rms(new_maps_noise[i,:,:], \n",
    "                                                coverage, \n",
    "                                                DataFastSim['effective_variance_invcov'][i])\n",
    "    th, thecthI, _ = qss.ctheta_parts(corrected_qubicnoise[:, 0], pixgood, 0, 20, 20, nsplit=5, degrade_init=128)\n",
    "    allcthI.append(thecthI)\n",
    "    th, thecthQ, _ = qss.ctheta_parts(corrected_qubicnoise[:, 1], pixgood, 0, 20, 20, nsplit=5, degrade_init=128)\n",
    "    allcthQ.append(thecthQ)\n",
    "    th, thecthU, _ = qss.ctheta_parts(corrected_qubicnoise[:, 2], pixgood, 0, 20, 20, nsplit=5, degrade_init=128)\n",
    "    allcthU.append(thecthU)\n",
    "    print(i)"
   ]
  },
  {
   "cell_type": "code",
   "execution_count": null,
   "id": "29e7c6c7",
   "metadata": {},
   "outputs": [],
   "source": [
    "for i in range(newd['nf_recon']):\n",
    "    plt.plot(th, allcthI[i]/allcthI[i][0], 'o', label=f'Fast-Simulation I Sub {i+1}')\n",
    "    plt.plot(th, allcthQ[i]/allcthQ[i][0], 'o', label=f'Fast-Simulation Q Sub {i+1}')\n",
    "    plt.plot(th, allcthU[i]/allcthU[i][0], 'o', label=f'Fast-Simulation U Sub {i+1}')\n",
    "    \n",
    "plt.legend()\n",
    "plt.xlabel(r'$\\theta$ [deg]')\n",
    "plt.ylabel(r'$C(\\theta$)')"
   ]
  },
  {
   "cell_type": "markdown",
   "id": "a7c9f339",
   "metadata": {},
   "source": [
    "### 4) RMS profile"
   ]
  },
  {
   "cell_type": "code",
   "execution_count": null,
   "id": "68a8fc8c",
   "metadata": {},
   "outputs": [],
   "source": [
    "seed = None\n",
    "sky_config = {'cmb': seed}\n",
    "Qubic_sky = qss.Qubic_sky(sky_config, newd)\n",
    "\n",
    "new_maps_noise, coverage = Qubic_sky.get_partial_sky_maps_withnoise(noise_only=True,\n",
    "                                                                    spatial_noise=False)\n",
    "\n",
    "xx, yyI, yyQ, yyU = qss.get_angular_profile(new_maps_noise[0, :, :],\n",
    "                                                nbins=30,\n",
    "                                                separate=True,\n",
    "                                                center=[0, 0])\n",
    "pix_size = hp.nside2resol(256, arcmin=True)\n",
    "meanvalI = np.mean(yyI[xx < 10]) * pix_size\n",
    "meanvalQU = np.mean((yyQ[xx < 10] + yyQ[xx < 10]) / 2) * pix_size\n",
    "\n",
    "plt.figure()\n",
    "plt.plot(xx, yyI * pix_size, 'o', label='I')\n",
    "plt.plot(xx, yyQ * pix_size, 'o', label='Q')\n",
    "plt.plot(xx, yyU * pix_size, 'o', label='U')\n",
    "\n",
    "plt.axhline(y=meanvalI,\n",
    "            label=r'I RMS = {0:5.1f} $\\mu K.arcmin$'.format(meanvalI),\n",
    "            color='r', ls=':')\n",
    "plt.axhline(y=meanvalQU,\n",
    "            label=r'QU RMS = {0:5.1f} $\\mu K.arcmin$'.format(meanvalQU),\n",
    "            color='m', ls=':')\n",
    "\n",
    "plt.xlabel('Degrees from center of the field')\n",
    "plt.ylabel(r'Noise RMS $[\\mu K.arcmin]$')\n",
    "plt.title('QUBIC FastSim - ' + config + ' - Nptg = 10000')\n",
    "plt.legend(fontsize=11)\n",
    "plt.xlim(0, 20)\n",
    "plt.ylim(0, meanvalQU * 2)"
   ]
  },
  {
   "cell_type": "code",
   "execution_count": null,
   "id": "08896e60",
   "metadata": {},
   "outputs": [],
   "source": []
  }
 ],
 "metadata": {
  "kernelspec": {
   "display_name": "reorganized qubicsoft",
   "language": "python",
   "name": "qubic_reorg"
  }
 },
 "nbformat": 4,
 "nbformat_minor": 5
}
