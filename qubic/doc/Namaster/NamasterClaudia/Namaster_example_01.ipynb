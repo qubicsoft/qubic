{
 "cells": [
  {
   "cell_type": "markdown",
   "id": "ec7f304a",
   "metadata": {},
   "source": [
    "### Namaster - pymaster "
   ]
  },
  {
   "cell_type": "markdown",
   "id": "a8b08185",
   "metadata": {},
   "source": [
    "https://namaster.readthedocs.io/en/latest/pymaster.html"
   ]
  },
  {
   "cell_type": "markdown",
   "id": "d4aa2c3e",
   "metadata": {},
   "source": [
    "Many of the functions in Namaster accept or return sets of power spectra (arrays with one element per angular multipole) or bandpowers (binned versions of power spectra). In all cases, these are returned and provided as 2D arrays with shape [n_cls][nl], where n_cls is the number of power spectra and nl is either the number of multipoles or bandpowers. In all cases, n_cls should correspond with the spins of the two fields being correlated, and the ordering is as follows:\n",
    "\n",
    "    Two spin-0 fields: n_cls=1, [C_T1T2]\n",
    "    One spin-0 field and one spin-2 field: n_cls=2, [C_TE,C_TB]\n",
    "    Two spin-2 fields: n_cls=4, [C_E1E2,C_E1B2,C_E2B1,C_B1B2]\n",
    "\n",
    "All sky maps accepted and returned by these functions are in the form of HEALPix maps exclusively with RING ordering."
   ]
  },
  {
   "cell_type": "code",
   "execution_count": null,
   "id": "5fbffad1",
   "metadata": {},
   "outputs": [],
   "source": [
    "import numpy as np\n",
    "import healpy as hp\n",
    "import matplotlib.pyplot as plt\n",
    "\n",
    "# Import the NaMaster python wrapper\n",
    "import pymaster as nmt\n",
    "\n",
    "#  Simple example showcasing the use of NaMaster to compute the pseudo-Cl\n",
    "#  estimator of the angular cross-power spectrum of a spin-0 field and a\n",
    "#  spin-2 field\n",
    "\n",
    "# HEALPix resolution parameter used here\n",
    "nside = 256\n",
    "\n",
    "# Read mask and apodize it on a scale of ~1deg\n",
    "mask = nmt.mask_apodization(hp.read_map(\"mask.fits\", verbose=False),\n",
    "                            1., apotype=\"Smooth\")\n",
    "hp.mollview(mask, coord=['G', 'C'], title='Apodized mask')\n",
    "plt.show()\n",
    "\n",
    "# Read healpix maps and initialize a spin-0 and spin-2 field\n",
    "f_0 = nmt.NmtField(mask, [hp.read_map(\"maps.fits\", field=0, verbose=False)])\n",
    "f_2 = nmt.NmtField(mask, hp.read_map(\"maps.fits\", field=[1, 2], verbose=False))\n",
    "\n",
    "# Initialize binning scheme with 4 ells per bandpower\n",
    "#b = nmt.NmtBin.from_nside_linear(nside, 4)\n",
    "\n",
    "#nlb: how many ell's in each bin:\n",
    "b= nmt.NmtBin(nside,nlb=10)\n",
    "\n",
    "# Compute MASTER estimator\n",
    "# spin-0 x spin-0\n",
    "cl_00 = nmt.compute_full_master(f_0, f_0, b)\n",
    "# spin-0 x spin-2\n",
    "cl_02 = nmt.compute_full_master(f_0, f_2, b)\n",
    "# spin-2 x spin-2\n",
    "cl_22 = nmt.compute_full_master(f_2, f_2, b)\n",
    "\n",
    "\n",
    "\n",
    "\n",
    "# Plot results\n",
    "ell_arr = b.get_effective_ells()\n",
    "plt.plot(ell_arr, cl_00[0], 'r-', label='TT')\n",
    "plt.plot(ell_arr, np.fabs(cl_02[0]), 'g-', label='TE')\n",
    "plt.plot(ell_arr, cl_22[0], 'b-', label='EE')\n",
    "plt.plot(ell_arr, cl_22[3], 'y-', label='BB')\n",
    "plt.loglog()\n",
    "plt.xlabel('$\\\\ell$', fontsize=16)\n",
    "plt.ylabel('$C_\\\\ell$', fontsize=16)\n",
    "plt.legend(loc='upper right', ncol=2, labelspacing=0.1)\n",
    "plt.show();\n",
    "\n"
   ]
  },
  {
   "cell_type": "code",
   "execution_count": null,
   "id": "3690bc0b",
   "metadata": {},
   "outputs": [],
   "source": []
  }
 ],
 "metadata": {
  "kernelspec": {
   "display_name": "Python 3",
   "language": "python",
   "name": "python3"
  }
 },
 "nbformat": 4,
 "nbformat_minor": 5
}
