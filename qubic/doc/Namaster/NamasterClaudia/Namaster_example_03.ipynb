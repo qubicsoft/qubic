{
 "cells": [
  {
   "cell_type": "markdown",
   "id": "d6a87d15",
   "metadata": {},
   "source": [
    "### Namaster Example 3: Fields"
   ]
  },
  {
   "cell_type": "markdown",
   "id": "369b095c",
   "metadata": {},
   "source": [
    "This sample script showcases the use of the NmtField class to define and use observed fields."
   ]
  },
  {
   "cell_type": "code",
   "execution_count": null,
   "id": "416978b0",
   "metadata": {},
   "outputs": [],
   "source": [
    "import healpy as hp\n",
    "import matplotlib.pyplot as plt\n",
    "import pymaster as nmt\n",
    "\n",
    "# This script showcases the use of the NmtField structure to store information\n",
    "# about the fields to be correlated.\n",
    "\n",
    "# HEALPix map resolution\n",
    "nside = 256\n",
    "\n",
    "# # # #  Read input maps\n",
    "# a) Read and apodize mask\n",
    "mask = nmt.mask_apodization(hp.read_map(\"mask.fits\", verbose=False),\n",
    "                            1., apotype=\"C1\")\n",
    "# b) Read maps\n",
    "mp_t, mp_q, mp_u = hp.read_map(\"maps.fits\", field=[0, 1, 2], verbose=False)\n",
    "# c) Read contaminants maps\n",
    "tm_t, tm_q, tm_u = hp.read_map(\"temp.fits\", field=[0, 1, 2], verbose=False)\n",
    "\n",
    "# Create fields\n",
    "# Create spin-0 field with no contaminants\n",
    "f0_clean = nmt.NmtField(mask, [mp_t])\n",
    "# Create spin-2 field with no contaminants\n",
    "f2_clean = nmt.NmtField(mask, [mp_q, mp_u])\n",
    "# Create contaminated spin-0 field\n",
    "f0_cont = nmt.NmtField(mask, [mp_t+tm_t], templates=[[tm_t]])\n",
    "# Create contaminated spin-2 field\n",
    "f2_cont = nmt.NmtField(mask, [mp_q+tm_q, mp_u+tm_u], templates=[[tm_q, tm_u]])\n",
    "\n",
    "# Note: when passing \"templates\", the constructor cleans the maps by finding\n",
    "# the best-fit linear coefficient that fits the contaminant templates.\n",
    "# I.e. the maps returned by, e.g. f0_cont.get_maps(), are already cleaned.\n",
    "#  - f0_clean and f2_clean now hold masked copies of the original maps.\n",
    "#  - f0_cont and f2_cont now hold masked and ***template-cleaned*** copies of\n",
    "#    the original maps\n",
    "\n",
    "# We can verify this by plotting them:\n",
    "# Spin-0\n",
    "hp.mollview(mp_t, title='Original map T', coord=['G', 'C'])\n",
    "hp.mollview(mp_t+tm_t, title='Contaminated map T', coord=['G', 'C'])\n",
    "hp.mollview(f0_clean.get_maps()[0],\n",
    "            title='Masked original map T', coord=['G', 'C'])\n",
    "hp.mollview(f0_cont.get_maps()[0],\n",
    "            title='Masked & cleaned map T', coord=['G', 'C'])\n",
    "plt.show()\n",
    "# Spin-2, Q\n",
    "hp.mollview(mp_q, title='Original map Q', coord=['G', 'C'])\n",
    "hp.mollview(mp_q+tm_q, title='Contaminated map Q', coord=['G', 'C'])\n",
    "hp.mollview(f2_clean.get_maps()[0],\n",
    "            title='Masked original map Q', coord=['G', 'C'])\n",
    "hp.mollview(f2_cont.get_maps()[0],\n",
    "            title='Masked & cleaned map Q', coord=['G', 'C'])\n",
    "plt.show()\n",
    "# Spin-2, U\n",
    "hp.mollview(mp_u, title='Original map U', coord=['G', 'C'])\n",
    "hp.mollview(mp_u+tm_u, title='Contaminated map U', coord=['G', 'C'])\n",
    "hp.mollview(f2_clean.get_maps()[1],\n",
    "            title='Masked original map U', coord=['G', 'C'])\n",
    "hp.mollview(f2_cont.get_maps()[1],\n",
    "            title='Masked & cleaned map U', coord=['G', 'C'])\n",
    "plt.show()"
   ]
  },
  {
   "cell_type": "code",
   "execution_count": null,
   "id": "000fabec",
   "metadata": {},
   "outputs": [],
   "source": []
  }
 ],
 "metadata": {
  "kernelspec": {
   "display_name": "Python 3",
   "language": "python",
   "name": "python3"
  }
 },
 "nbformat": 4,
 "nbformat_minor": 5
}
