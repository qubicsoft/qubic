{
 "cells": [
  {
   "cell_type": "markdown",
   "id": "dd8d9b1f",
   "metadata": {},
   "source": [
    "### Namaster Example 4: Masks"
   ]
  },
  {
   "cell_type": "markdown",
   "id": "0f05b8c5",
   "metadata": {},
   "source": [
    "This sample script showcases the apodization routine implemented in NaMaster"
   ]
  },
  {
   "cell_type": "code",
   "execution_count": null,
   "id": "ff55d30b",
   "metadata": {},
   "outputs": [],
   "source": [
    "import healpy as hp\n",
    "import matplotlib.pyplot as plt\n",
    "import pymaster as nmt\n",
    "\n",
    "# This script showcases the apodization routine included with pymaster\n",
    "# and the three apodization modes supported.\n",
    "\n",
    "\n",
    "# Read input binary mask\n",
    "mask_raw = hp.read_map(\"mask.fits\", verbose=False)\n",
    "\n",
    "# The following function calls create apodized versions of the raw mask\n",
    "# with an apodization scale of 2.5 degrees using three different methods\n",
    "\n",
    "# Apodization scale in degrees\n",
    "aposcale = 2.5\n",
    "\n",
    "# C1 and C2: in these cases, pixels are multiplied by a factor f\n",
    "#            (with 0<=f<=1) based on their distance to the nearest fully\n",
    "#            masked pixel. The choices of f in each case are documented in\n",
    "#            Section 3.4 of the C API documentation. All pixels separated\n",
    "#            from any masked pixel by more than the apodization scale are\n",
    "#            left untouched.\n",
    "mask_C1 = nmt.mask_apodization(mask_raw, aposcale, apotype=\"C1\")\n",
    "mask_C2 = nmt.mask_apodization(mask_raw, aposcale, apotype=\"C2\")\n",
    "\n",
    "# Smooth: in this case, all pixels closer to a masked pixel than 2.5 times\n",
    "#         the apodization scale are initially set to zero. The resulting\n",
    "#         map is then smoothed with a Gaussian kernel with standard\n",
    "#         deviation given by the apodization scale. Finally, all pixels\n",
    "#         originally masked are forced back to zero.\n",
    "mask_Sm = nmt.mask_apodization(mask_raw, aposcale, apotype=\"Smooth\")\n",
    "\n",
    "# Let's plot the results\n",
    "hp.mollview(mask_raw, title='Binary mask', coord=['G', 'C'])\n",
    "hp.mollview(mask_C1, title='C1 apodization', coord=['G', 'C'])\n",
    "hp.mollview(mask_C2, title='C2 apodization', coord=['G', 'C'])\n",
    "hp.mollview(mask_Sm, title='Smooth apodization', coord=['G', 'C'])\n",
    "plt.show();"
   ]
  },
  {
   "cell_type": "code",
   "execution_count": null,
   "id": "98ac660e",
   "metadata": {},
   "outputs": [],
   "source": []
  }
 ],
 "metadata": {
  "kernelspec": {
   "display_name": "Python 3",
   "language": "python",
   "name": "python3"
  }
 },
 "nbformat": 4,
 "nbformat_minor": 5
}
