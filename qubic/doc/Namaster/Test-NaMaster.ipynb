{
 "cells": [
  {
   "cell_type": "markdown",
   "id": "586050db",
   "metadata": {},
   "source": [
    "# Notebook to test Namaster tools to get spectra\n",
    "\n",
    "Editting by Jean-Christophe and Louise\n",
    "\n",
    "March 2020"
   ]
  },
  {
   "cell_type": "code",
   "execution_count": null,
   "id": "053e9bbd",
   "metadata": {},
   "outputs": [],
   "source": [
    "%matplotlib inline\n",
    "import numpy as np\n",
    "import healpy as hp\n",
    "import matplotlib.pyplot as plt\n",
    "\n",
    "# Specific qubic modules\n",
    "from pysimulators import FitsArray\n",
    "\n",
    "import qubic\n",
    "from qubic import QubicSkySim as qss\n",
    "from qubic import NamasterLib as nam\n",
    "from qubic import camb_interface as qc\n",
    "\n",
    "rc('font', size=15)"
   ]
  },
  {
   "cell_type": "markdown",
   "id": "3c3488c4",
   "metadata": {},
   "source": [
    "# Build maps \n",
    "\n",
    "In this first part, we build sky maps knowing the spectra. For that, we use PySM3 implemented in Qubic soft. "
   ]
  },
  {
   "cell_type": "code",
   "execution_count": null,
   "id": "38e265b2",
   "metadata": {},
   "outputs": [],
   "source": [
    "#### Create sample CMB I,Q,U maps\n",
    "\n",
    "# dictfilename = 'BmodesNoDustNoSystPaper0_2020.dict'\n",
    "dictfilename = 'test_QubicSkySim.dict'\n",
    "\n",
    "# Read dictionary chosen\n",
    "d = qubic.qubicdict.qubicDict()\n",
    "d.read_from_file(dictfilename)\n",
    "d['nside'] = 256\n",
    "center = qubic.equ2gal(d['RA_center'], d['DEC_center'])\n",
    "print(center)"
   ]
  },
  {
   "cell_type": "code",
   "execution_count": null,
   "id": "1047e295",
   "metadata": {},
   "outputs": [],
   "source": [
    "def make_maps(d, seenpix, seed=None, noise_level=0.):\n",
    "    sky_config = {'cmb': seed}\n",
    "    Qubic_sky = qss.Qubic_sky(sky_config, d)\n",
    "    x0 = Qubic_sky.get_simple_sky_map()\n",
    "\n",
    "    # Noise\n",
    "    fact_noise = [1., sqrt(2), sqrt(2)]\n",
    "\n",
    "    ### For Now Uniform noise\n",
    "    np.random.seed()\n",
    "    maps_observed = np.zeros_like(x0)\n",
    "    for i in range(3):\n",
    "        maps_observed[:, seenpix, i] = x0[:, seenpix, i] + np.random.randn(seenpix.sum()) * noise_level * fact_noise[i] \n",
    "\n",
    "    print('maps_observed shape:', maps_observed.shape)\n",
    "    return Qubic_sky, x0, maps_observed"
   ]
  },
  {
   "cell_type": "code",
   "execution_count": null,
   "id": "3b60d62f",
   "metadata": {},
   "outputs": [],
   "source": [
    "# Read a sample QUBIC coverage map (made in the RandomPointing approximmation)\n",
    "cov = hp.ud_grade(hp.read_map('sample_coverage_qubic.fits', verbose=False), d['nside'])\n",
    "cov /= np.max(cov)\n",
    "plt.figure()\n",
    "hp.mollview(cov)\n",
    "\n",
    "\n",
    "# Define the seen pixels\n",
    "seenpix = cov > 0.1#(np.max(cov)/1000)\n",
    "\n",
    "Qubic_sky, x0, maps_observed = make_maps(d, seenpix)\n",
    "print('Input Map with shape (nf_sub, #pixels, #stokes) : ', np.shape(x0))\n",
    "\n",
    "stn = ['I', 'Q', 'U']\n",
    "rng = (np.std(x0, axis=(0,1))*3).astype(int)\n",
    "rng[1:] = np.max(rng[1:])\n",
    "\n",
    "rc('figure', figsize=(16, 10))\n",
    "# figure() \n",
    "# numsub = 1\n",
    "# for i in range(d['nf_sub']):\n",
    "#     for istokes in [0,1,2]:\n",
    "#         hp.mollview(maps_observed[i, :, istokes], min=-rng[istokes], max=rng[istokes],\n",
    "#                     sub=(d['nf_sub']+1,3,numsub), title=stn[istokes]+' subfreq {}'.format(i))\n",
    "#         numsub += 1\n",
    "\n",
    "figure() \n",
    "numsub = 1\n",
    "for i in range(d['nf_sub']):\n",
    "    for istokes in [0,1,2]:\n",
    "        hp.gnomview(maps_observed[i,:,istokes], min=-rng[istokes], max=rng[istokes],\n",
    "                    rot=center, reso=15,\n",
    "                    sub=(d['nf_sub']+1,3,numsub), title=stn[istokes]+' subfreq {}'.format(i))\n",
    "        numsub += 1\n",
    "\n",
    "\n",
    "\n",
    "figure()\n",
    "numsub = 4\n",
    "for i in range(d['nf_sub']):\n",
    "    for istokes in [0, 1, 2]:\n",
    "        hp.mollview(x0[i, :, istokes], min=-rng[istokes], max=rng[istokes],\n",
    "                    sub=(d['nf_sub']+1, 3, numsub), title=stn[istokes]+' subfreq {}'.format(i))\n",
    "        numsub += 1"
   ]
  },
  {
   "cell_type": "markdown",
   "id": "a12b1c3a",
   "metadata": {},
   "source": [
    "### Remember that we can always retrieve the input CMB maps and spectra"
   ]
  },
  {
   "cell_type": "code",
   "execution_count": null,
   "id": "bc411433",
   "metadata": {},
   "outputs": [],
   "source": [
    "### Input Maps\n",
    "input_maps = Qubic_sky.input_cmb_maps\n",
    "rng = (np.std(input_maps, axis=(1))*3).astype(int)\n",
    "rng[1:] = np.max(rng[1:])\n",
    "\n",
    "figure()\n",
    "rc('figure', figsize=(10, 8))\n",
    "hp.mollview(input_maps[0, :], title=\"I input map used\", min=-rng[0], max=rng[0], sub=(1,3,1))\n",
    "hp.mollview(input_maps[1, :], title=\"Q input map used\", min=-rng[1], max=rng[1], sub=(1,3,2))\n",
    "hp.mollview(input_maps[2, :], title=\"U input map used\", min=-rng[2], max=rng[2], sub=(1,3,3))\n",
    "\n",
    "### Input Dls\n",
    "input_Dl = Qubic_sky.input_cmb_spectra\n",
    "if input_Dl is not None:\n",
    "    input_ell = np.arange(np.shape(input_Dl)[0])\n",
    "    print('input_ell shape = ', input_ell.shape)\n",
    "    figure()\n",
    "    order = ['TT', 'EE', 'BB', 'TE']\n",
    "    for i in range(4):\n",
    "        subplot(2, 2, i+1)\n",
    "        plot(input_ell, input_Dl[:, i], color='k')\n",
    "        title(order[i])\n",
    "        xlabel('$\\\\ell$')\n",
    "        ylabel('$D_\\\\ell$')\n",
    "    tight_layout()"
   ]
  },
  {
   "cell_type": "markdown",
   "id": "67ccd3e8",
   "metadata": {},
   "source": [
    "# Testing the library NamasterLib\n",
    "\n",
    "Now we have the maps with known spectra so we can retrieve spectra with Namaster. We will do it using the library implemented in the Qubic Pipeline. "
   ]
  },
  {
   "cell_type": "code",
   "execution_count": null,
   "id": "2da7e910",
   "metadata": {},
   "outputs": [],
   "source": [
    "# Create a Namaster object\n",
    "lmin = 20\n",
    "lmax = 2 * d['nside'] - 1\n",
    "delta_ell = 16\n",
    "\n",
    "### Making mask - it will be automaticall apodized when instanciating the object with default (tunable) parameters\n",
    "mask = np.zeros(12 * d['nside']**2)\n",
    "mask[seenpix] = 1\n",
    "\n",
    "Namaster = nam.Namaster(mask, lmin=lmin, lmax=lmax, delta_ell=delta_ell)"
   ]
  },
  {
   "cell_type": "markdown",
   "id": "b536ced9",
   "metadata": {},
   "source": [
    "### Test the function that binned a spectra between lmin and lmax"
   ]
  },
  {
   "cell_type": "code",
   "execution_count": null,
   "id": "8a3d355e",
   "metadata": {},
   "outputs": [],
   "source": [
    "ell_binned, b = Namaster.get_binning(d['nside'])\n",
    "\n",
    "Dls_binned = Namaster.bin_spectra(input_Dl[:, 0], d['nside'])\n",
    "print('lmax=', lmax)\n",
    "\n",
    "print(ell_binned.shape, Dls_binned.shape)\n",
    "\n",
    "rc('figure', figsize=(8, 6))\n",
    "plt.figure()\n",
    "plt.plot(input_ell[:lmax], input_Dl[:lmax, 0])\n",
    "plt.plot(ell_binned, Dls_binned[0, :],'o')\n",
    "plt.xlabel('$\\\\ell$')\n",
    "plt.ylabel('$D_\\\\ell$')"
   ]
  },
  {
   "cell_type": "markdown",
   "id": "2327dd5d",
   "metadata": {},
   "source": [
    "### Get spectra from IQU maps"
   ]
  },
  {
   "cell_type": "code",
   "execution_count": null,
   "id": "0b60e8fb",
   "metadata": {},
   "outputs": [],
   "source": [
    "# the apodized mask has been generated when instanciating the object\n",
    "mask_apo = Namaster.mask_apo\n",
    "\n",
    "plt.figure()\n",
    "hp.mollview(mask_apo, sub=(121))\n",
    "hp.gnomview(mask_apo, rot=center, sub=(122), reso=12)"
   ]
  },
  {
   "cell_type": "markdown",
   "id": "0dccd983",
   "metadata": {},
   "source": [
    "### Make spectra"
   ]
  },
  {
   "cell_type": "code",
   "execution_count": null,
   "id": "429e00a1",
   "metadata": {},
   "outputs": [],
   "source": [
    "# Make an 2D array containing IQU maps, the shape must be (3, #pixels)\n",
    "maps = maps_observed[0].T\n",
    "print('maps shape:', maps.shape)\n",
    "\n",
    "# Get spectra\n",
    "leff, cells, w = Namaster.get_spectra(maps, \n",
    "                                      purify_e=True, \n",
    "                                      purify_b=False, \n",
    "                                      beam_correction=None,\n",
    "                                      pixwin_correction=None)"
   ]
  },
  {
   "cell_type": "code",
   "execution_count": null,
   "id": "3cd81470",
   "metadata": {},
   "outputs": [],
   "source": [
    "clnames = ['TT', 'EE', 'BB', 'TE']\n",
    "\n",
    "rc('figure', figsize=(12, 8))\n",
    "plt.figure()\n",
    "for i in range(4):\n",
    "    plt.subplot(2, 2, i+1)\n",
    "    plt.plot(input_ell[:lmax], input_Dl[:lmax, i])\n",
    "    plt.plot(leff[:lmax], cells[:lmax, i],'o')\n",
    "    plt.xlabel('$\\\\ell$')\n",
    "    plt.ylabel('$D_\\\\ell$')\n",
    "    plt.title(clnames[i])\n",
    "plt.tight_layout()"
   ]
  },
  {
   "cell_type": "markdown",
   "id": "ddac34cc",
   "metadata": {},
   "source": [
    "### Test the beam correction"
   ]
  },
  {
   "cell_type": "code",
   "execution_count": null,
   "id": "8092b920",
   "metadata": {},
   "outputs": [],
   "source": [
    "# We smooth the maps with a gaussian beam having the same FWHM as the QUBIC beam. \n",
    "smooth_maps = hp.sphtfunc.smoothing(maps, fwhm=np.deg2rad(d['synthbeam_peak150_fwhm']))\n",
    "                          \n",
    "# Get spectra\n",
    "# We compute 2 spectra, one with the beam correction and the other no. \n",
    "leff_nobeam, cells_nobeam, w_nobeam = Namaster.get_spectra(smooth_maps, \n",
    "                                                           purify_e=True, \n",
    "                                                           purify_b=False, \n",
    "                                                           beam_correction=None)\n",
    "leff_beam, cells_beam, w_beam = Namaster.get_spectra(smooth_maps, \n",
    "                                                     purify_e=True, \n",
    "                                                     purify_b=False, \n",
    "                                                     beam_correction=True)\n",
    "\n"
   ]
  },
  {
   "cell_type": "code",
   "execution_count": null,
   "id": "78a8c15c",
   "metadata": {},
   "outputs": [],
   "source": [
    "clnames = ['TT', 'EE', 'BB', 'TE']\n",
    "\n",
    "plt.figure()\n",
    "for i in range(4):\n",
    "    plt.subplot(2, 2, i+1)\n",
    "    plt.plot(input_ell[:lmax], input_Dl[:lmax, i], label='Input spectra')\n",
    "    plt.plot(leff_nobeam[:lmax], cells_nobeam[:lmax, i], 'o', label='No correction')\n",
    "    plt.plot(leff_beam[:lmax], cells_beam[:lmax, i], 'o', label='Beam correction')\n",
    "    plt.xlabel('$\\\\ell$')\n",
    "    plt.ylabel('$D_\\\\ell$')\n",
    "    plt.title(clnames[i])\n",
    "    plt.legend()\n",
    "plt.tight_layout()"
   ]
  },
  {
   "cell_type": "markdown",
   "id": "fe3f22be",
   "metadata": {},
   "source": [
    "### Test the pixwin correction"
   ]
  },
  {
   "cell_type": "code",
   "execution_count": null,
   "id": "92cd6b5f",
   "metadata": {},
   "outputs": [],
   "source": [
    "# This function gives you the pixel window correction binned\n",
    "pwb = Namaster.get_pixwin_correction(d['nside'])\n",
    "print(pwb.shape)\n",
    "\n",
    "# Make maps with integration into pixels\n",
    "# To use synfast, we need to convert Dls to Cls\n",
    "input_Cl = qc.Dl2Cl_without_monopole(input_ell, input_Dl)\n",
    "pw_maps = hp.synfast(input_Cl.T, d['nside'], pol=True, lmax=Namaster.lmax, pixwin=True, new=True)\n",
    "print(pw_maps.shape)\n",
    "\n",
    "# Get only the observed patch\n",
    "pw_seenmaps = np.zeros_like(pw_maps)\n",
    "for i in range(3):\n",
    "    pw_seenmaps[i, seenpix] = pw_maps[i, seenpix]\n",
    "# hp.mollview(pw_seenmaps[0, :])\n",
    "\n",
    "# Get spectra with and without the pixwin correction\n",
    "leff_pw, cells_pw, w_pw = Namaster.get_spectra(pw_seenmaps, \n",
    "                                               purify_e=True, \n",
    "                                               purify_b=False, \n",
    "                                               beam_correction=None,\n",
    "                                               pixwin_correction=True)\n",
    "\n",
    "leff_nopw, cells_nopw, w_nopw = Namaster.get_spectra(pw_seenmaps, \n",
    "                                                     purify_e=True, \n",
    "                                                     purify_b=False, \n",
    "                                                     beam_correction=None,\n",
    "                                                     pixwin_correction=None)"
   ]
  },
  {
   "cell_type": "code",
   "execution_count": null,
   "id": "03dbbf68",
   "metadata": {},
   "outputs": [],
   "source": [
    "clnames = ['TT', 'EE', 'BB', 'TE']\n",
    "\n",
    "plt.figure()\n",
    "for i in range(4):\n",
    "    plt.subplot(2, 2, i+1)\n",
    "    plt.plot(input_ell[:lmax], input_Dl[:lmax, i], label='Input spectra')\n",
    "    plt.plot(leff_nopw[:lmax], cells_nopw[:lmax, i], 'o', label='No correction')\n",
    "    plt.plot(leff_pw[:lmax], cells_pw[:lmax, i], 'o', label='Pixwin correction')\n",
    "    plt.xlabel('$\\\\ell$')\n",
    "    plt.ylabel('$D_\\\\ell$')\n",
    "    plt.title(clnames[i])\n",
    "    plt.legend()\n",
    "plt.tight_layout()"
   ]
  },
  {
   "cell_type": "markdown",
   "id": "c263d268",
   "metadata": {},
   "source": [
    "### Do many realisations\n"
   ]
  },
  {
   "cell_type": "code",
   "execution_count": null,
   "id": "64593292",
   "metadata": {},
   "outputs": [],
   "source": [
    "# Do many realizations, same CMB (seed=42) but random noise realisations\n",
    "nsim = 4\n",
    "nsim_cells = []\n",
    "for sim in range(nsim):\n",
    "    Qubic_sky, x0, maps_observed = make_maps(d, seenpix, seed=42, noise_level=0.2)\n",
    "    maps = maps_observed[0].T\n",
    "    leff, cells, w = Namaster.get_spectra(maps, purify_e=True, purify_b=False, beam_correction=None)\n",
    "    nsim_cells.append(cells)\n",
    "nsim_cells = np.array(nsim_cells)\n",
    "print(nsim_cells.shape)"
   ]
  },
  {
   "cell_type": "code",
   "execution_count": null,
   "id": "63154a63",
   "metadata": {},
   "outputs": [],
   "source": [
    "mean_cells = np.mean(nsim_cells, axis=0)\n",
    "std_cells = np.std(nsim_cells, axis=0)\n",
    "print(mean_cells.shape)\n",
    "\n",
    "clnames = ['TT', 'EE', 'BB', 'TE']\n",
    "\n",
    "for i in range(4):\n",
    "    plt.subplot(2, 2, i+1)\n",
    "    plt.plot(input_ell[:lmax], input_Dl[:lmax, i], label='Input spectra')\n",
    "    plt.errorbar(leff[:lmax], mean_cells[:lmax, i], std_cells[:, i], fmt='m.', label='Reconstructed Dls')\n",
    "#     plt.plot(leff, mean_cells[:, i], 'o', label='No correction')\n",
    "    plt.xlabel('$\\\\ell$')\n",
    "    plt.ylabel('$D_\\\\ell$')\n",
    "    plt.title(clnames[i])\n",
    "    plt.legend()\n",
    "plt.tight_layout()"
   ]
  },
  {
   "cell_type": "code",
   "execution_count": null,
   "id": "a5394cb2",
   "metadata": {},
   "outputs": [],
   "source": []
  }
 ],
 "metadata": {
  "kernelspec": {
   "display_name": "Python 3",
   "language": "python",
   "name": "python3"
  }
 },
 "nbformat": 4,
 "nbformat_minor": 5
}
