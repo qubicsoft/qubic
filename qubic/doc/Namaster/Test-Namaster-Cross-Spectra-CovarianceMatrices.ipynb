{
 "cells": [
  {
   "cell_type": "markdown",
   "id": "064790a5",
   "metadata": {},
   "source": [
    "# Testing Cross-Spectra Covariance with NaMaster\n",
    "JCH - March 2020"
   ]
  },
  {
   "cell_type": "code",
   "execution_count": null,
   "id": "fb96cb69",
   "metadata": {},
   "outputs": [],
   "source": [
    "%matplotlib inline\n",
    "import numpy as np\n",
    "import healpy as hp\n",
    "import matplotlib.pyplot as plt\n",
    "from importlib import reload\n",
    "\n",
    "# Specific qubic modules\n",
    "from pysimulators import FitsArray\n",
    "import pysm\n",
    "import qubic\n",
    "from qubic import QubicSkySim as qss\n",
    "from qubic import NamasterLib as nam\n",
    "\n",
    "rc('figure', figsize=(12, 8))\n",
    "rc('font', size=15)\n",
    "rc('text', usetex=False)"
   ]
  },
  {
   "cell_type": "markdown",
   "id": "c7a75d7e",
   "metadata": {},
   "source": [
    "Let's generate an underlying CMB (I,Q,U) on a partial coverage, and then add noise according to this coverage."
   ]
  },
  {
   "cell_type": "code",
   "execution_count": null,
   "id": "a131ee37",
   "metadata": {},
   "outputs": [],
   "source": [
    "dictfilename = 'test_cross-spectra.dict'\n",
    "\n",
    "# Read dictionary chosen\n",
    "d = qubic.qubicdict.qubicDict()\n",
    "d.read_from_file(dictfilename)\n",
    "d['nside']=256\n",
    "center = qubic.equ2gal(d['RA_center'], d['DEC_center'])\n",
    "print(center)\n",
    "\n",
    "d['nf_sub'] = 1\n",
    "d['Multiband'] = False\n",
    "print(d['nf_sub'])\n",
    "\n",
    "# Restore a QUBIC typical coverage\n",
    "cov = hp.ud_grade(hp.read_map('sample_coverage_qubic.fits', verbose=False), d['nside'])\n",
    "cov /= np.max(cov)\n",
    "hp.mollview(cov)"
   ]
  },
  {
   "cell_type": "markdown",
   "id": "a50c7b05",
   "metadata": {},
   "source": [
    "We perform a Monte-Carlo with CMB + noise and will check the covariance between MC and analytical from Namaster for Cross-Spectra only - The CMB is different each time."
   ]
  },
  {
   "cell_type": "code",
   "execution_count": null,
   "id": "14c3a4c9",
   "metadata": {},
   "outputs": [],
   "source": [
    "reload(qss)\n",
    "reload(nam)\n",
    "\n",
    "# noise on maps (small here)\n",
    "sigma_sec = 10\n",
    "\n",
    "# Create a Namaster object\n",
    "lmin = 20\n",
    "lmax = 2 * d['nside'] - 1\n",
    "delta_ell = 25\n",
    "\n",
    "okpix = cov > np.max(cov) * 0.1\n",
    "\n",
    "# Mask using flat weighting\n",
    "npix = 12 * d['nside']**2\n",
    "maskpix = np.zeros(npix)\n",
    "maskpix[okpix] = 1\n",
    "\n",
    "Namaster = nam.Namaster(maskpix, lmin=lmin, lmax=lmax, delta_ell=delta_ell)\n",
    "ell_bins, b = Namaster.get_binning(d['nside'])\n",
    "mask_apo = Namaster.mask_apo\n",
    "\n",
    "nbmc = 10\n",
    "allXcls = np.zeros((nbmc, len(ell_bins), 4))\n",
    "w = None\n",
    "\n",
    "for imc in range(nbmc):\n",
    "    print('MC iteration {} over {}'.format(imc, nbmc))\n",
    "    # Create two fake QUBIC observations with same CMB and different noise\n",
    "    # At each MC step the CMB will be different\n",
    "    seed = None\n",
    "    sky_config = {'cmb': seed}\n",
    "    Qubic_sky = qss.Qubic_sky(sky_config, d)\n",
    "    \n",
    "    nmaps = 2\n",
    "    all_maps = np.zeros((nmaps, npix, 3))\n",
    "\n",
    "    # Noisy maps\n",
    "    for i in range(nmaps):\n",
    "        all_maps[i, :, :] = Qubic_sky.get_partial_sky_maps_withnoise(cov, sigma_sec=sigma_sec)\n",
    "\n",
    "    # Cross-Cls\n",
    "    leff, allXcls[imc, :, :], w = Namaster.get_spectra(all_maps[0, :, :].T, mask_apo, \n",
    "                                                      map2=all_maps[1, :, :].T,\n",
    "                                                      purify_e=False, \n",
    "                                                      purify_b=True, \n",
    "                                                      w=w, \n",
    "                                                      verbose=False,\n",
    "                                                      beam_correction=Qubic_sky.instrument['beams'])\n",
    "        \n"
   ]
  },
  {
   "cell_type": "markdown",
   "id": "f470c127",
   "metadata": {},
   "source": [
    "### Averaging the Cross-spectra"
   ]
  },
  {
   "cell_type": "code",
   "execution_count": null,
   "id": "982f0b51",
   "metadata": {},
   "outputs": [],
   "source": [
    "# Doing a simple mean \n",
    "mean_XCls = np.mean(allXcls, axis=0)\n",
    "std_XCls = np.std(allXcls, axis=0)\n",
    "\n",
    "clnames = ['TT', 'EE', 'BB', 'TE']\n",
    "\n",
    "rc('figure', figsize=(12, 8))\n",
    "plt.figure()\n",
    "for i in range(4):\n",
    "    plt.subplot(2, 2, i+1)\n",
    "    plt.errorbar(leff, mean_XCls[:, i], yerr=std_XCls[:, i] * np.sqrt(2),\n",
    "                    marker='o', linestyle='none')\n",
    "    plt.xlabel('$\\\\ell$')\n",
    "    plt.ylabel('$D_\\\\ell$')\n",
    "    plt.title(clnames[i])\n",
    "plt.tight_layout()"
   ]
  },
  {
   "cell_type": "code",
   "execution_count": null,
   "id": "9c201819",
   "metadata": {},
   "outputs": [],
   "source": [
    "# Doing a mean that accounts for correlations\n",
    "\n",
    "input_Dl = Qubic_sky.input_cmb_spectra\n",
    "\n",
    "cl_tt = input_Dl[:lmax+1, 0]\n",
    "cl_ee = input_Dl[:lmax+1, 1]\n",
    "cl_bb = input_Dl[:lmax+1, 2]\n",
    "cl_te = input_Dl[:lmax+1, 3]\n",
    "\n",
    "covar_TT_TT = Namaster.get_covariance_TT_TT(cl_tt)\n",
    "covar_EE_EE = Namaster.get_covariance_EE_EE(cl_ee)\n",
    "covar_BB_BB = Namaster.get_covariance_BB_BB(cl_bb)\n",
    "covar_TE_TE = Namaster.get_covariance_TE_TE(cl_te)\n",
    "\n",
    "plt.figure()\n",
    "plt.subplot(141)\n",
    "plt.imshow(covar_TT_TT)\n",
    "plt.title('TT TT')\n",
    "plt.subplot(142)\n",
    "plt.imshow(covar_EE_EE)\n",
    "plt.title('EE EE')\n",
    "plt.subplot(143)\n",
    "plt.imshow(covar_BB_BB)\n",
    "plt.title('BB BB')\n",
    "plt.subplot(144)\n",
    "plt.imshow(covar_TE_TE)\n",
    "plt.title('TE TE')\n"
   ]
  },
  {
   "cell_type": "code",
   "execution_count": null,
   "id": "7980c832",
   "metadata": {},
   "outputs": [],
   "source": [
    "len(Namaster.ell_binned)"
   ]
  },
  {
   "cell_type": "markdown",
   "id": "9d65d939",
   "metadata": {},
   "source": [
    "### Knox formula"
   ]
  },
  {
   "cell_type": "code",
   "execution_count": null,
   "id": "71e76179",
   "metadata": {},
   "outputs": [],
   "source": [
    "knox_dcls = Namaster.knox_errors(mean_XCls[:, 0])\n",
    "knox_dcls.shape"
   ]
  },
  {
   "cell_type": "code",
   "execution_count": null,
   "id": "399ebfe2",
   "metadata": {},
   "outputs": [],
   "source": []
  }
 ],
 "metadata": {
  "kernelspec": {
   "display_name": "Python 3",
   "language": "python",
   "name": "python3"
  }
 },
 "nbformat": 4,
 "nbformat_minor": 5
}
