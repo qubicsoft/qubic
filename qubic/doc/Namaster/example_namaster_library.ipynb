{
 "cells": [
  {
   "cell_type": "markdown",
   "id": "a3f99d1a",
   "metadata": {},
   "source": [
    "### Example of the use of the library that implements Namaster into the qubicsoft\n",
    "\n",
    "by Claudia (September 2021)"
   ]
  },
  {
   "cell_type": "code",
   "execution_count": null,
   "id": "46c4395f",
   "metadata": {},
   "outputs": [],
   "source": [
    "from pylab import *\n",
    "import os\n",
    "import sys\n",
    "from importlib import reload\n",
    "import glob\n",
    "import pickle\n",
    "\n",
    "# Specific science modules\n",
    "import healpy as hp\n",
    "import numpy as np\n",
    "\n",
    "# Specific qubic modules\n",
    "from qubicpack.utilities import Qubic_DataDir\n",
    "from pysimulators import FitsArray\n",
    "import pysm3  as pysm \n",
    "import qubic\n",
    "from qubic import SpectroImLib as si\n",
    "from qubic import QubicSkySim as qss\n",
    "from qubic import NamasterLib as nam\n",
    "reload(nam)\n",
    "\n",
    "rc('figure', figsize=(13, 10))\n",
    "rc('font', size=12)\n"
   ]
  },
  {
   "cell_type": "markdown",
   "id": "830b9b18",
   "metadata": {},
   "source": [
    "## Create a map without mask, from CAMB"
   ]
  },
  {
   "cell_type": "raw",
   "id": "72b0c257",
   "metadata": {},
   "source": [
    "%matplotlib inline\n",
    "%config InlineBackend.figure_format = 'retina'\n",
    "import sys, platform, os\n",
    "import matplotlib\n",
    "from matplotlib import pyplot as plt\n",
    "import numpy as np"
   ]
  },
  {
   "cell_type": "code",
   "execution_count": null,
   "id": "e344da84",
   "metadata": {},
   "outputs": [],
   "source": [
    "#Assume installed from github using \"git clone --recursive https://github.com/cmbant/CAMB.git\"\n",
    "#This file is then in the docs folders\n",
    "import os\n",
    "import camb\n",
    "from camb import model, initialpower\n",
    "print('Using CAMB %s installed at %s'%(camb.__version__,os.path.dirname(camb.__file__)))"
   ]
  },
  {
   "cell_type": "code",
   "execution_count": null,
   "id": "2b3152a8",
   "metadata": {},
   "outputs": [],
   "source": [
    "#Set up a set of parameters for CAMB (with r=0.1)\n",
    "pars = camb.CAMBparams()\n",
    "#This function sets up CosmoMC-like settings, with one massive neutrino and helium set using BBN consistency\n",
    "pars.set_cosmology(H0=67.5, ombh2=0.022, omch2=0.122, mnu=0.06, omk=0, tau=0.06)\n",
    "pars.InitPower.set_params(As=2e-9, ns=0.965, r=0.1)\n",
    "pars.set_for_lmax(2500, lens_potential_accuracy=1)\n",
    "pars.WantTensors = True;"
   ]
  },
  {
   "cell_type": "code",
   "execution_count": null,
   "id": "6a3f8a7b",
   "metadata": {},
   "outputs": [],
   "source": [
    "#calculate results for these parameters\n",
    "results = camb.get_results(pars)\n",
    "\n",
    "#camb.get_results()"
   ]
  },
  {
   "cell_type": "code",
   "execution_count": null,
   "id": "9b23a5a1",
   "metadata": {},
   "outputs": [],
   "source": [
    "#get dictionary of CAMB power spectra\n",
    "powers =results.get_cmb_power_spectra(pars, CMB_unit='muK')\n",
    "for name in powers: print(name)"
   ]
  },
  {
   "cell_type": "code",
   "execution_count": null,
   "id": "70ce4d61",
   "metadata": {},
   "outputs": [],
   "source": [
    "#plot the total lensed CMB power spectra versus unlensed, and fractional difference\n",
    "totCL=powers['total']\n",
    "\n",
    "unlensedCL=powers['unlensed_scalar']\n",
    "unlensed_Tot=powers['unlensed_total']\n",
    "lensed_SC=powers['lensed_scalar']\n",
    "\n",
    "\n",
    "print(totCL.shape)\n",
    "#Python CL arrays are all zero based (starting at L=0), Note L=0,1 entries will be zero by default.\n",
    "#The different CL are always in the order TT, EE, BB, TE (with BB=0 for unlensed scalar results).\n",
    "ls = np.arange(totCL.shape[0])\n",
    "fig, ax = plt.subplots(2,2, figsize = (12,12))\n",
    "ax[0,0].plot(ls,totCL[:,0], color='b')\n",
    "ax[0,0].set_title('TT')\n",
    "#ax[0,1].plot(ls[2:], 1-unlensedCL[2:,0]/totCL[2:,0]);\n",
    "#ax[0,1].set_title(r'$\\Delta TT$')\n",
    "ax[0,1].plot(ls,totCL[:,1], color='b')\n",
    "ax[0,1].set_title('EE')\n",
    "#ax[1,0].plot(ls,totCL[:,2], color='b')\n",
    "#ax[1,0].plot(ls,totCL2[:,2], color='r')\n",
    "#ax[1,0].set_title('BB (lensing)')\n",
    "ax[1,0].plot(ls,unlensed_Tot[:,2], color='b',label='unlensed total r=0.1')\n",
    "ax[1,0].plot(ls,lensed_SC[:,2], color='m',label='lensed scalar r=0.1')\n",
    "ax[1,0].plot(ls,totCL[:,2], color='m',ls='--',label='total:scalar+tensor r=0.1')\n",
    "ax[1,0].legend()\n",
    "ax[1,0].set_title('BB (lensing)')\n",
    "ax[1,1].plot(ls,totCL[:,3], color='b')\n",
    "ax[1,1].set_title('TE')\n",
    "#for ax in ax.reshape(-1): ax.set_xlim([2,2500]);\n",
    "for ax in ax.reshape(-1): ax.set_xlim([2,500]);\n"
   ]
  },
  {
   "cell_type": "markdown",
   "id": "8e23a3ef",
   "metadata": {},
   "source": [
    "### Generate map using hp.synfast"
   ]
  },
  {
   "cell_type": "code",
   "execution_count": null,
   "id": "9af449e0",
   "metadata": {},
   "outputs": [],
   "source": [
    "import healpy as hp"
   ]
  },
  {
   "cell_type": "code",
   "execution_count": null,
   "id": "b5a3565a",
   "metadata": {},
   "outputs": [],
   "source": [
    "nside= 64 #128 #256  #512"
   ]
  },
  {
   "cell_type": "markdown",
   "id": "585fca65",
   "metadata": {},
   "source": [
    "### Go from $D_\\ell$ to $C_\\ell$"
   ]
  },
  {
   "cell_type": "code",
   "execution_count": null,
   "id": "80f917e2",
   "metadata": {},
   "outputs": [],
   "source": [
    "totCL.shape"
   ]
  },
  {
   "cell_type": "code",
   "execution_count": null,
   "id": "c647b51c",
   "metadata": {},
   "outputs": [],
   "source": [
    "print(ls)\n",
    "ls.shape\n",
    "\n",
    "ls = np.arange(totCL.shape[0])\n",
    "\n",
    "factor = ls*(ls+1)/2./np.pi\n",
    "\n",
    "print(factor)\n",
    "\n",
    "#traspose to make the division:\n",
    "cl_total = totCL.T/factor \n",
    "\n",
    "cl_total[:,0] = 0.\n",
    "\n",
    "print(cl_total)\n",
    "\n",
    "# cl_unlensed has the proper shape to create the maps, so we don't traspose again.\n"
   ]
  },
  {
   "cell_type": "markdown",
   "id": "94768a2c",
   "metadata": {},
   "source": [
    "#### Map with FWHM=0 and pixwin=False"
   ]
  },
  {
   "cell_type": "code",
   "execution_count": null,
   "id": "b97f2eef",
   "metadata": {},
   "outputs": [],
   "source": [
    "np.random.seed(0)\n",
    "\n",
    "\n",
    "#lmax= 1000\n",
    "\n",
    "#notar que el espectro que sale del CAMB son en realidad Dl.\n",
    "\n",
    "#Hago el mapa con synfast usando los Cl's:\n",
    "maps=hp.synfast(cl_total, nside, pixwin=False, fwhm=0.0, sigma=None, new=True, verbose=True)\n"
   ]
  },
  {
   "cell_type": "code",
   "execution_count": null,
   "id": "8cf54a1b",
   "metadata": {},
   "outputs": [],
   "source": [
    "hp.mollview(maps[0],title='T map')    #ver option de subplot dentro de mollview\n",
    "\n",
    "hp.gnomview(maps[0])"
   ]
  },
  {
   "cell_type": "code",
   "execution_count": null,
   "id": "c0fa97bf",
   "metadata": {},
   "outputs": [],
   "source": []
  },
  {
   "cell_type": "markdown",
   "id": "9f494064",
   "metadata": {},
   "source": [
    "## Create coverage map"
   ]
  },
  {
   "cell_type": "code",
   "execution_count": null,
   "id": "a3ac0b43",
   "metadata": {},
   "outputs": [],
   "source": [
    "#Read the QUBIC dictionary\n",
    "\n",
    "d = qubic.qubicdict.qubicDict()\n",
    "d.read_from_file('pipeline_demo.dict')\n"
   ]
  },
  {
   "cell_type": "code",
   "execution_count": null,
   "id": "2b9f42c3",
   "metadata": {},
   "outputs": [],
   "source": [
    "center = qubic.equ2gal(d['RA_center'], d['DEC_center'])\n",
    "\n",
    "d['nside'] = nside\n"
   ]
  },
  {
   "cell_type": "code",
   "execution_count": null,
   "id": "82dd5de3",
   "metadata": {},
   "outputs": [],
   "source": [
    "# Create a coverage map (following instructions at):\n",
    "\n",
    "# https://chat.in2p3.fr/group/GD88WWD8F7MWQHtMG?msg=nJf7wS38h2dvWa77v\n",
    "\n",
    "\n",
    "# Pointing strategy\n",
    "p = qubic.get_pointing(d)\n",
    "print('=== Pointing DONE! ===')\n",
    "\n",
    "# Model of the scene at the time of observation\n",
    "s = qubic.QubicScene(d)\n",
    "\n",
    "# Create a monofrequency Instrument.\n",
    "q = qubic.QubicInstrument(d)\n",
    "\n",
    "# Create an acquisition operator which combines all relevant information\n",
    "#scene, instrument configuration and pointing strategy. \n",
    "a = qubic.QubicAcquisition(q, p, s, d)\n",
    "\n",
    "# Get coverage map\n",
    "# i.e. how many times were seen each pixel of the sky (not trivial because of the synthetic beam)\n",
    "coverage = a.get_coverage()"
   ]
  },
  {
   "cell_type": "code",
   "execution_count": null,
   "id": "673a80bb",
   "metadata": {},
   "outputs": [],
   "source": [
    "#Visualize the coverage: \n",
    "hp.mollview(coverage)\n"
   ]
  },
  {
   "cell_type": "code",
   "execution_count": null,
   "id": "831ac8c1",
   "metadata": {},
   "outputs": [],
   "source": [
    "print(coverage.min())\n",
    "print(coverage.max())\n"
   ]
  },
  {
   "cell_type": "code",
   "execution_count": null,
   "id": "441aca18",
   "metadata": {},
   "outputs": [],
   "source": [
    "print(\"Approximate resolution at NSIDE {} is {:.2} deg\".format(nside, hp.nside2resol(nside, arcmin=True) / 60))\n"
   ]
  },
  {
   "cell_type": "markdown",
   "id": "4f511fd7",
   "metadata": {},
   "source": [
    "### Word of caution: \n",
    "\n",
    "If I save the coverage map to disk, and then read it back with healpy, it differs from the one stored in memory (but only due to the precision with which numpy arrays are stored). Justo to bear this in mind. See the piece of code below:"
   ]
  },
  {
   "cell_type": "code",
   "execution_count": null,
   "id": "bb70d55c",
   "metadata": {},
   "outputs": [],
   "source": [
    "#I write the coverage map to disk:\n",
    "hp.write_map(\"my_coverage_claudia.fits\", coverage, overwrite=True)\n",
    "\n",
    "#I read the coverage map from disk:\n",
    "cov_claudia =  hp.read_map(\"my_coverage_claudia.fits\")\n",
    "\n",
    "#The difference between both maps is not zero for all pixels!\n",
    "\n",
    "#Differences of both coverage maps:\n",
    "difference = coverage - cov_claudia\n",
    "\n",
    "#Indices where the array above is non-zero:\n",
    "nonzero_idx = np.nonzero(difference)\n",
    "\n",
    "max_diff = difference[nonzero_idx].max()\n",
    "\n",
    "print(\"maximum value of the difference in the coverage map: \", max_diff)\n",
    "\n",
    "# By default, NumPy uses up to 8 digits of precision and will not suppress scientific notation.\n"
   ]
  },
  {
   "cell_type": "code",
   "execution_count": null,
   "id": "1e423ebf",
   "metadata": {},
   "outputs": [],
   "source": [
    "difference[nonzero_idx].max()"
   ]
  },
  {
   "cell_type": "code",
   "execution_count": null,
   "id": "90247bab",
   "metadata": {},
   "outputs": [],
   "source": [
    "hp.mollview(difference)\n"
   ]
  },
  {
   "cell_type": "code",
   "execution_count": null,
   "id": "53f9bdc2",
   "metadata": {},
   "outputs": [],
   "source": []
  },
  {
   "cell_type": "markdown",
   "id": "1dc89a3e",
   "metadata": {},
   "source": [
    "## Create the mask with the coverage map"
   ]
  },
  {
   "cell_type": "code",
   "execution_count": null,
   "id": "8954b0a6",
   "metadata": {},
   "outputs": [],
   "source": [
    "# ############################################\n",
    "# From the script: Analyse-CMB-Maps_FitNoise:\n",
    "# ############################################\n",
    "\n",
    "# Create a Mask\n",
    "seenpix = coverage > (np.max(coverage)/10)"
   ]
  },
  {
   "cell_type": "code",
   "execution_count": null,
   "id": "abc3403d",
   "metadata": {},
   "outputs": [],
   "source": [
    "# Create a Namaster object\n",
    "lmin = 30\n",
    "#lmax = 3 * d['nside'] - 1\n",
    "lmax = 3 * nside - 1\n",
    "delta_ell = 25\n",
    "Namaster = nam.Namaster(seenpix, lmin=lmin, lmax=lmax, delta_ell=delta_ell)"
   ]
  },
  {
   "cell_type": "code",
   "execution_count": null,
   "id": "f594acb5",
   "metadata": {},
   "outputs": [],
   "source": [
    "# Make a mask\n",
    "mask_apo = Namaster.get_apodized_mask()\n",
    "hp.mollview(mask_apo, rot=center)"
   ]
  },
  {
   "cell_type": "code",
   "execution_count": null,
   "id": "31dea9e0",
   "metadata": {},
   "outputs": [],
   "source": [
    "ell_binned, b = Namaster.get_binning(nside)"
   ]
  },
  {
   "cell_type": "code",
   "execution_count": null,
   "id": "54ae3db3",
   "metadata": {},
   "outputs": [],
   "source": [
    "clname = ['TT', 'EE', 'BB', 'TE']\n",
    "\n",
    "#maps = np.stack((out_ti,out_qi,out_ui))\n",
    "\n",
    "ell_binned, spectra, w = Namaster.get_spectra(maps, mask_apo, purify_e=False, purify_b=True,  beam_correction=True, pixwin_correction=False,  verbose=False)"
   ]
  },
  {
   "cell_type": "markdown",
   "id": "f8e8f199",
   "metadata": {},
   "source": [
    "## Compare the output of Namaster with the theoretical spectra"
   ]
  },
  {
   "cell_type": "code",
   "execution_count": null,
   "id": "9b028bec",
   "metadata": {},
   "outputs": [],
   "source": [
    "plt.plot(ell_binned,spectra.T[0],label='Namaster TT')\n",
    "plt.plot(ls,totCL.T[0], label='theory TT')\n",
    "plt.legend()"
   ]
  },
  {
   "cell_type": "code",
   "execution_count": null,
   "id": "73e17f7c",
   "metadata": {},
   "outputs": [],
   "source": [
    "plt.plot(ell_binned,spectra.T[1],label='Namaster EE')\n",
    "plt.plot(ls, totCL.T[1], label='theory EE')\n",
    "plt.legend()"
   ]
  },
  {
   "cell_type": "code",
   "execution_count": null,
   "id": "3dc5f009",
   "metadata": {},
   "outputs": [],
   "source": [
    "plt.plot(ell_binned,spectra.T[2],label='Namaster BB')\n",
    "plt.plot(ls, totCL.T[2], label='theory BB')\n",
    "plt.legend()"
   ]
  },
  {
   "cell_type": "code",
   "execution_count": null,
   "id": "7c20fc6d",
   "metadata": {},
   "outputs": [],
   "source": [
    "plt.plot(ell_binned,spectra.T[3],label='Namaster TE')\n",
    "plt.plot(ls, totCL.T[3], label='theory TE')\n",
    "plt.legend()"
   ]
  },
  {
   "cell_type": "code",
   "execution_count": null,
   "id": "307854a8",
   "metadata": {},
   "outputs": [],
   "source": []
  }
 ],
 "metadata": {
  "kernelspec": {
   "display_name": "Python 3",
   "language": "python",
   "name": "python3"
  }
 },
 "nbformat": 4,
 "nbformat_minor": 5
}
