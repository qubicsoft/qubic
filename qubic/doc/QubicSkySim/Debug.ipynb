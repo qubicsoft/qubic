{
 "cells": [
  {
   "cell_type": "code",
   "execution_count": null,
   "id": "7df8053f",
   "metadata": {},
   "outputs": [],
   "source": [
    "%matplotlib inline\n",
    "\n",
    "import healpy as hp\n",
    "\n",
    "# Specific qubic modules\n",
    "from pysimulators import FitsArray\n",
    "import qubic\n",
    "from qubic import QubicSkySim as qss\n",
    "from qubic import camb_interface as qc\n",
    "from importlib import reload\n",
    "\n",
    "rc('figure', figsize=(16, 10))\n",
    "rc('font', size=15)"
   ]
  },
  {
   "cell_type": "markdown",
   "id": "91b4728e",
   "metadata": {},
   "source": [
    "Trying to correct a bug: if d['nf_sub']=1 we don't get the correct spectrum for X0 while it is OK with d['nf_sub'] > 1"
   ]
  },
  {
   "cell_type": "code",
   "execution_count": null,
   "id": "28e28c68",
   "metadata": {},
   "outputs": [],
   "source": [
    "reload(qss)\n",
    "#### Debugging\n",
    "dictfilename = 'BmodesNoDustNoSystPaper0_2020.dict'\n",
    "# dictfilename = 'test_QubicSkySim.dict'\n",
    "\n",
    "# Read dictionary chosen\n",
    "d = qubic.qubicdict.qubicDict()\n",
    "d.read_from_file(dictfilename)\n",
    "d['nside']=256\n",
    "center = qubic.equ2gal(d['RA_center'], d['DEC_center'])\n",
    "print(center)\n",
    "\n",
    "\n",
    "d['nf_sub']=1\n",
    "\n",
    "#### Case only seed\n",
    "seed = None\n",
    "sky_config = {'cmb': seed}\n",
    "\n",
    "#### Case th cl\n",
    "# ell, totCL, unlensedCL = qc.get_camb_Dl(r=0.1, lmax=10*d['nside'])\n",
    "# cmb_dict = {'CAMBSpectra':totCL, 'ell':ell, 'seed':None}\n",
    "# sky_config = {'cmb': cmb_dict}    \n",
    "\n",
    "\n",
    "Qubic_sky = qss.Qubic_sky(sky_config, d)\n",
    "x0 = np.reshape(Qubic_sky.get_simple_sky_map(),(d['nf_sub'],d['nside']**2*12,3))\n",
    "inmap = Qubic_sky.input_cmb_maps\n",
    "clth = Qubic_sky.input_cmb_spectra\n",
    "if clth is not None: ellth = np.arange(len(clth[:,0]))\n",
    "\n",
    "print('x0 Shape:',x0.shape)\n",
    "print('input Shape:',inmap.shape)\n",
    "\n",
    "clsin = hp.anafast(inmap, lmax=2*d['nside'])\n",
    "ll = np.arange(len(clsin[0,:]))\n",
    "cls = []\n",
    "for i in range(d['nf_sub']):\n",
    "    cls.append(hp.anafast(x0[i,:,:].T, lmax=2*d['nside']))\n",
    "\n",
    "    \n",
    "order = ['TT', 'EE', 'BB', 'TE']\n",
    "for i in range(4):\n",
    "    subplot(2,2,i+1)\n",
    "    xlim(0, 2*d['nside'])\n",
    "    plot(ellth,clth[:,i], 'k', label='Cl Th')\n",
    "    plot(ll,ll*(ll+1)*clsin[i,:]/2/np.pi, alpha=0.3, label='Input Map Cl')\n",
    "    for k in range(d['nf_sub']):\n",
    "        plot(ll, ll*(ll+1)*cls[k][i,:]/2/np.pi, alpha=0.3, label='Cl Sub {}'.format(k))\n",
    "legend()\n"
   ]
  },
  {
   "cell_type": "code",
   "execution_count": null,
   "id": "509864d2",
   "metadata": {},
   "outputs": [],
   "source": []
  },
  {
   "cell_type": "code",
   "execution_count": null,
   "id": "99b95474",
   "metadata": {},
   "outputs": [],
   "source": []
  }
 ],
 "metadata": {
  "kernelspec": {
   "display_name": "Python 3",
   "language": "python",
   "name": "python3"
  }
 },
 "nbformat": 4,
 "nbformat_minor": 5
}
