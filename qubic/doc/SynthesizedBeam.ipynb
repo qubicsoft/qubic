{
 "cells": [
  {
   "cell_type": "markdown",
   "id": "0c860d2d",
   "metadata": {},
   "source": [
    "# QUBIC Synthesized Beam\n",
    "This notebook aims at showing how to obtain the QUBIC Synthesized beam for a given set of horns accounting for various effets (detector size, bandwidth...).\n",
    "\n",
    "## Basic Instructions\n",
    "### The QubicInstrument object\n",
    "The basic object in QUBIC simulaiton software is called a QubicInstrument, it contains all the description of the instrument that can be easily modified upon creation of the object but for which there are default values so that it can be called with just a few arguments."
   ]
  },
  {
   "cell_type": "code",
   "execution_count": null,
   "id": "51944197",
   "metadata": {},
   "outputs": [],
   "source": [
    "import glob\n",
    "import os \n",
    "\n",
    "import numpy as np\n",
    "import healpy as hp\n",
    "import pandas as pd\n",
    "\n",
    "import matplotlib.pyplot as plt\n",
    "\n",
    "%matplotlib inline\n",
    "#%matplotlib notebook\n",
    "\n",
    "from matplotlib import rc\n",
    "rc('figure',figsize=(10,10))\n",
    "rc('font',size=20)\n",
    "rc('text',usetex=False)\n",
    "\n",
    "from qubicpack.utilities import Qubic_DataDir\n",
    "import qubic\n",
    "import qubic.selfcal_lib as sc \n",
    "\n",
    "#Qubicpack to translate TES to qubicsoft indexes\n",
    "from qubicpack.pixel_translation import make_id_focalplane, tes2index"
   ]
  },
  {
   "cell_type": "code",
   "execution_count": null,
   "id": "9c604ed4",
   "metadata": {},
   "outputs": [],
   "source": [
    "d = qubic.qubicdict.qubicDict()\n",
    "d.read_from_file('pipeline_demo.dict')"
   ]
  },
  {
   "cell_type": "code",
   "execution_count": null,
   "id": "46518b8f",
   "metadata": {},
   "outputs": [],
   "source": [
    "d['config'] = 'FI'\n",
    "q = qubic.QubicInstrument(d)"
   ]
  },
  {
   "cell_type": "markdown",
   "id": "8919580b",
   "metadata": {},
   "source": [
    "### The QubicScene\n",
    "It is also important to create an object called QubicScene that descibes the environmental parameters (atmosphere model when it will be avilable, pixellization of the sky, ...)."
   ]
  },
  {
   "cell_type": "code",
   "execution_count": null,
   "id": "8d743530",
   "metadata": {},
   "outputs": [],
   "source": [
    "d['nside'] = 512\n",
    "scene = qubic.QubicScene(d)"
   ]
  },
  {
   "cell_type": "markdown",
   "id": "7e310ac1",
   "metadata": {},
   "source": [
    "### Looking at the detector array\n",
    "Once the QubicIntrument exists, it contains a lot of informations on the instrument. For instance on can easily look at the detector array:"
   ]
  },
  {
   "cell_type": "code",
   "execution_count": null,
   "id": "929668b1",
   "metadata": {},
   "outputs": [],
   "source": [
    "fp_index = 561 # from 0 to 1155\n",
    "ii = np.where(q.detector.index == fp_index)[0]\n",
    "print('ii = ', ii)\n",
    "\n",
    "plt.figure()\n",
    "plt.plot(q.detector[ii].center[0,0], q.detector[ii].center[0,1], 'go')\n",
    "q.detector.plot()"
   ]
  },
  {
   "cell_type": "markdown",
   "id": "80507eb0",
   "metadata": {},
   "source": [
    "Where we have emphasized a detector close to the center."
   ]
  },
  {
   "cell_type": "markdown",
   "id": "f8689916",
   "metadata": {},
   "source": [
    "### Looking at the horn array\n",
    "Similarly one can have access to the horn array:"
   ]
  },
  {
   "cell_type": "code",
   "execution_count": null,
   "id": "708e6c19",
   "metadata": {},
   "outputs": [],
   "source": [
    "centers = q.horn.center[:, 0:2]\n",
    "col = q.horn.column\n",
    "row = q.horn.row\n",
    "\n",
    "plt.figure()\n",
    "q.horn.plot()\n",
    "for i in range(len(centers)):\n",
    "    plt.text(centers[i,0]-0.006, centers[i,1], 'c{0:}'.format(col[i]), color='r',fontsize=6)\n",
    "    plt.text(centers[i,0]+0.001, centers[i,1], 'r{0:}'.format(row[i]), color='b',fontsize=6)\n"
   ]
  },
  {
   "cell_type": "markdown",
   "id": "0ae5c259",
   "metadata": {},
   "source": [
    "### Closing and opening horns"
   ]
  },
  {
   "cell_type": "markdown",
   "id": "7b3cc299",
   "metadata": {},
   "source": [
    "The q.horn.open object returns the list of horns that are open or closed. It can be easlily modified:"
   ]
  },
  {
   "cell_type": "code",
   "execution_count": null,
   "id": "c70ede90",
   "metadata": {},
   "outputs": [],
   "source": [
    "### Horns for FI\n",
    "d['config'] = 'FI'\n",
    "instFI = qubic.QubicInstrument(d)\n",
    "hornsFI = instFI.horn.open\n",
    "\n",
    "\n",
    "hornsTD = (col >= 8) & (col <= 15) & (row >= 8) & (row <= 15)\n",
    "# print(hornsTD)\n",
    "\n",
    "### Now create First Instrument and TD monochromatic\n",
    "instTD = qubic.QubicInstrument(d)\n",
    "instTD.horn.open[~hornsTD] = False\n",
    "\n",
    "plt.figure()\n",
    "instTD.horn.plot()"
   ]
  },
  {
   "cell_type": "markdown",
   "id": "77133670",
   "metadata": {},
   "source": [
    "# Synthesized Beam projected on the sky\n",
    "\n",
    "### Simplest case: monochromatic and point-like detectors\n",
    "The QubicInstrument object has a method that calculates the synthesized beam for a given TES in the case of a perfect instrument. This means that it assumes that the amplitude and phases of the electric field from each horn in the focal plane are just the geometrical ones. The calculation is done only at the central frequency and at the center of the detector."
   ]
  },
  {
   "cell_type": "code",
   "execution_count": null,
   "id": "40a52f42",
   "metadata": {},
   "outputs": [],
   "source": [
    "# Detector number\n",
    "idet = ii\n",
    "sbidealFI = instFI[idet].get_synthbeam(scene)[0]\n",
    "sbidealTD = instTD[idet].get_synthbeam(scene)[0]\n",
    "\n",
    "plt.figure()\n",
    "mini = - 30\n",
    "hp.gnomview(np.log10(sbidealFI/np.max(sbidealFI))*10, rot=[0,90], reso=5, \n",
    "            sub=(1,2,1), title='Full Instrument', min=mini, max=0)\n",
    "hp.gnomview(np.log10(sbidealTD/np.max(sbidealTD))*10, rot=[0,90], reso=5, \n",
    "            sub=(1,2,2), title='Technological Demonstrator', min=mini, max=0)"
   ]
  },
  {
   "cell_type": "markdown",
   "id": "a6e36d62",
   "metadata": {},
   "source": [
    "### Integration over the pixel area\n",
    "Integration over the pixel area is implemented in the function get_synthbeam(), here with a 4x4 average over the pixel surface."
   ]
  },
  {
   "cell_type": "code",
   "execution_count": null,
   "id": "1b8e57af",
   "metadata": {},
   "outputs": [],
   "source": [
    "nsub = 4\n",
    "idet = 231\n",
    "sbidealFI = instFI[idet].get_synthbeam(scene, detector_integrate=nsub)[0]\n",
    "sbidealTD = instTD[idet].get_synthbeam(scene, detector_integrate=nsub)[0]\n",
    "\n",
    "plt.figure()\n",
    "mini = - 30\n",
    "hp.gnomview(np.log10(sbidealFI/np.max(sbidealFI))*10, rot=[0,90], reso=5, \n",
    "            sub=(1,2,1), title='FI Instrument', min=mini, max=0)\n",
    "hp.gnomview(np.log10(sbidealTD/np.max(sbidealTD))*10, rot=[0,90], reso=5, \n",
    "            sub=(1,2,2), title='Technological Demonstrator', min=mini, max=0)\n"
   ]
  },
  {
   "cell_type": "markdown",
   "id": "aec217fe",
   "metadata": {},
   "source": [
    "### Integration over bandwith\n",
    "Integration over bandwidth is not yet implemented in the get_synthbeam() function but can be easily done outside:"
   ]
  },
  {
   "cell_type": "code",
   "execution_count": null,
   "id": "3b0e99b5",
   "metadata": {},
   "outputs": [],
   "source": [
    "def getsb(scene, q, nu0, idet, OKhorns, dnu_nu=None, detector_integrate=None, nsubnus=1, nside=256):\n",
    "    sb = np.zeros(12 * nside**2)\n",
    "    if dnu_nu:\n",
    "        numin = nu0 * (1 - dnu_nu / 2)\n",
    "        numax = nu0 * (1 + dnu_nu / 2)\n",
    "        nuvals = linspace(numin, numax, nsubnus)\n",
    "        for i in range(nsubnus):\n",
    "            print('nu={} number {} over {}'.format(nuvals[i], i, nsubnus))\n",
    "            q.horn.open[~OKhorns] = False\n",
    "            sb += q[idet].get_synthbeam(scene, detector_integrate=detector_integrate)[0] / nsubnus\n",
    "    else:\n",
    "        q.horn.open[~OKhorns] = False\n",
    "        sb = q[idet].get_synthbeam(scene, detector_integrate=detector_integrate)[0]\n",
    "    return sb\n",
    "\n",
    "nsub = 4\n",
    "idet = 231\n",
    "sbidealFI_150 = getsb(scene, instFI, 150., idet, hornsFI, dnu_nu=None, \n",
    "                      detector_integrate=None, nside=d['nside'])\n",
    "sbidealTD_150 = getsb(scene, instTD, 150., idet, hornsTD, dnu_nu=None, nsubnus=10, \n",
    "                      detector_integrate=True, nside=d['nside'])\n",
    "\n",
    "reso = 7.\n",
    "mini = -30\n",
    "plt.figure()\n",
    "mapFI = hp.gnomview(np.log10(sbidealFI_150/np.max(sbidealFI_150))*10, \n",
    "                    rot=[0,90], reso=reso, \n",
    "                    sub=(1,2,1), title='FI - 150 GHz - Det + Nu Integ.', \n",
    "                    min=mini, max=0, return_projected_map=True)\n",
    "\n",
    "mapTD = hp.gnomview(np.log10(sbidealTD_150/np.max(sbidealTD_150))*10, \n",
    "                    rot=[0,90], reso=reso, \n",
    "                    sub=(1,2,2), title='TD - 150 GHz - Det + Nu Integ.', \n",
    "                    min=mini, max=0, return_projected_map=True)"
   ]
  },
  {
   "cell_type": "markdown",
   "id": "88345977",
   "metadata": {},
   "source": [
    "### Studying the beam\n",
    "Just for the pleasure one can study the synthesized beam resolution:"
   ]
  },
  {
   "cell_type": "code",
   "execution_count": null,
   "id": "e1f071d1",
   "metadata": {},
   "outputs": [],
   "source": [
    "# location of maximum \n",
    "maxx, maxy = np.unravel_index(np.argmax(mapFI), dims=(200, 200))\n",
    "\n",
    "# diagonal cut of array shifted so that maximum is at center\n",
    "initcutFI = np.diag(np.roll(np.roll(mapFI, 99-maxx, axis=0), \n",
    "                            99-maxy, axis=1))\n",
    "initcutTD = np.diag(np.roll(np.roll(mapTD, 99-maxx, axis=0), \n",
    "                            99-maxy, axis=1))\n",
    "\n",
    "# sqrt(2) comes because we take a diagonal cut\n",
    "xxinit = np.linspace(-100, 100, 200) * reso * np.sqrt(2) / 60\n",
    "\n",
    "# Need more points for next steps: interpolate\n",
    "xx = np.linspace(-100, 100, 20000) * reso * np.sqrt(2) / 60\n",
    "cutFI = np.interp(xx, xxinit, initcutFI)\n",
    "cutTD = np.interp(xx, xxinit, initcutTD)\n",
    "\n",
    "plt.figure()\n",
    "plt.xlabel('Angle (deg)')\n",
    "plt.ylabel('Synthesized Beam (dB)')\n",
    "plt.plot(xx, cutFI, label = 'FI - 150 GHz - Det + Nu Integ.')\n",
    "plt.plot(xx, cutTD, label = 'TD - 150 GHz - Det + Nu Integ.')\n",
    "plt.title('TES {}'.format(fp_index))\n",
    "plt.legend(loc='lower right', fontsize=10)"
   ]
  },
  {
   "cell_type": "code",
   "execution_count": null,
   "id": "e492c4db",
   "metadata": {},
   "outputs": [],
   "source": [
    "#### Angular resolution\n",
    "halfmaxFI = cutFI > (np.log10(0.5) * 10)\n",
    "halfmaxTD = cutTD > (np.log10(0.5) * 10)\n",
    "\n",
    "fwhmFI = np.max(xx[halfmaxFI] * 60) - np.min(xx[halfmaxFI] * 60)\n",
    "fwhmTD = np.max(xx[halfmaxTD] * 60) - np.min(xx[halfmaxTD] * 60)\n",
    "print(fwhmFI, fwhmTD)\n",
    "\n",
    "plt.clf()\n",
    "plt.xlabel('Angle (arcmin)')\n",
    "plt.ylabel('Synthesized Beam (dB)')\n",
    "plt.xlim(-60, 60)\n",
    "plt.ylim(-10, 0)\n",
    "plt.plot(xx * 60, cutFI, label = 'FI - 150 GHz - Det + Nu Integ. - FWHM = {0:5.1f} arcmin'.format(fwhmFI))\n",
    "plt.plot(xx * 60, cutTD, label = 'TD - 150 GHz - Det + Nu Integ. - FWHM = {0:5.1f} arcmin'.format(fwhmTD))\n",
    "plt.plot(xx * 60, xx * 0 + np.log10(0.5) * 10, 'k--')\n",
    "plt.legend(loc='lower right', fontsize=10)\n",
    "plt.show()"
   ]
  },
  {
   "cell_type": "markdown",
   "id": "ac9eb65e",
   "metadata": {},
   "source": [
    "### Non ideal synthesized beam\n",
    "It is also possible to provide the code with an external array for the phase and amplitude of the electric field in the focal plane for each of the horns. This kind of realistic electric field is provided by the Maynooth team.\n",
    "\n",
    "For instance through the following (assuming that \"files\" is a variable that contains the filename of the 400 electric field ASCII files). \n",
    "\n",
    "An example of such files is given below, you can download them at:\n",
    "https://drive.google.com/open?id=19dPHw_CeuFZ068b-VRT7N-LWzOL1fmfG"
   ]
  },
  {
   "cell_type": "code",
   "execution_count": null,
   "id": "35039623",
   "metadata": {},
   "outputs": [],
   "source": [
    "## Path to the simulated files \n",
    "#rep = Qubic_DataDir(datafile='detcentres.txt')\n",
    "#print('rep:', rep)\n",
    "\n",
    "#files = sorted(glob.glob('../*.txt'))\n",
    "#print('#files :', len(files)) # Should be 64 (TD)\n",
    "\n",
    "## Look at one file\n",
    "#data = pd.read_csv(files[6], sep='\\t', skiprows=0)\n",
    "#data.head(10)\n",
    "#print(data.shape)"
   ]
  },
  {
   "cell_type": "code",
   "execution_count": null,
   "id": "839d5e36",
   "metadata": {},
   "outputs": [],
   "source": [
    "#d['config'] = 'TD'\n",
    "#q = qubic.QubicInstrument(d)\n",
    "\n",
    "## Define the horn configuration\n",
    "#open_horns=list(np.arange(1, 65)) # between 1 and 64 (real instrument numbers)\n",
    "#open_horns = [horn - 1 for horn in open_horns]\n",
    "#q.horn.open = False\n",
    "#q.horn.open[open_horns] = True\n",
    "## q.horn.plot()\n",
    "\n",
    "## Compute the beam projected on the sky for a given TES\n",
    "#fp_index = 594 # from 0 to 1155 but in the quadrant 3 (TD)\n",
    "#ii = np.where(q.detector.index == fp_index)[0]\n",
    "#print('ii = ', ii)\n",
    "\n",
    "#external_A = sc.make_external_A(rep, open_horns=open_horns)\n",
    "\n",
    "#sb_aber = q.get_synthbeam(scene, idet=ii, external_A=external_A)\n",
    "#sb_ideal = q.get_synthbeam(scene, idet=ii, external_A=None)"
   ]
  },
  {
   "cell_type": "code",
   "execution_count": null,
   "id": "b2370095",
   "metadata": {},
   "outputs": [],
   "source": [
    "#plt.figure()\n",
    "#plt.subplot(321)\n",
    "#q.horn.plot()\n",
    "#plt.axis('off')\n",
    "#hp.gnomview(sb_aber, rot=[0,90], reso=10, title='Aber', sub=(323))\n",
    "#hp.gnomview(np.log10(sb_aber / np.max(sb_aber)), rot=[0,90], reso=10, \n",
    "#            title='Aber, log10(sb/max(sb))', sub=(324))\n",
    "#hp.gnomview(sb_ideal, rot=[0,90], reso=10, title='Ideal', sub=(325))\n",
    "#hp.gnomview(np.log10(sb_ideal / np.max(sb_ideal)), rot=[0,90], reso=10, \n",
    "#            title='Ideal, log10(sb/max(sb))', sub=(326))"
   ]
  },
  {
   "cell_type": "code",
   "execution_count": null,
   "id": "2c55c268",
   "metadata": {},
   "outputs": [],
   "source": [
    "#diff = np.log10(sb_ideal / np.max(sb_ideal)) - np.log10(sb_aber / np.max(sb_aber))\n",
    "#hp.gnomview(diff, rot=[0,90], reso=15, min=-1, max=1,\n",
    "#            title='Ideal - Aber')\n"
   ]
  },
  {
   "cell_type": "markdown",
   "id": "04dbbb60",
   "metadata": {},
   "source": [
    "## Beam from an analytical formula"
   ]
  },
  {
   "cell_type": "code",
   "execution_count": null,
   "id": "06144b18",
   "metadata": {},
   "outputs": [],
   "source": [
    "# This is the analytical synthesized for a pixel at the focal plane center \n",
    "# without accounting for the primary beam (just the mukltple peaks)\n",
    "#def sb_noprim(th_deg, nu):\n",
    "#    th = np.radians(th_deg)\n",
    "#    lam = 3e8/nu\n",
    "#    P = 20\n",
    "#    deltax = 0.013\n",
    "#    df = 300.\n",
    "#    abscissa = np.pi * deltax/lam * th\n",
    "#    sb = np.sin(P*abscissa)**2 / np.sin(abscissa)**2\n",
    "#    return sb/np.max(sb)\n",
    "\n",
    "# For a detector not at the center\n",
    "def sb_noprim(th_deg, nu, rx):\n",
    "    th = np.radians(th_deg)\n",
    "    nx = np.sin(th)\n",
    "    lam = 3e8 / nu\n",
    "    P = 22\n",
    "    deltah = 0.014\n",
    "    f = 300.\n",
    "    a = np.pi * deltah / lam\n",
    "    sb = (np.sin(P * a * (rx / f - nx)))**2 / (np.sin(a * (rx / f - nx)))**2\n",
    "    return sb / np.max(sb)\n",
    "\n",
    "\n",
    "def envelope(th_deg, ph, rx):\n",
    "    f = 300.\n",
    "    th = np.radians(th_deg)\n",
    "    primary_beam = q.primary_beam(th, ph)\n",
    "    th_off = np.arctan(rx / f)\n",
    "    factor_offaxis = q.primary_beam(th_off, ph)\n",
    "#     if rx != 0:\n",
    "#         factor_offaxis = 0.8985**2\n",
    "    env = factor_offaxis * primary_beam\n",
    "    #print('factor =', factor_offaxis)\n",
    "    return env \n",
    "\n",
    "def beam_total(th_deg, ph, nu, rx):\n",
    "    env = envelope(th_deg, ph, rx)\n",
    "    sb = env * sb_noprim(th_deg, nu, rx)\n",
    "    return env, sb"
   ]
  },
  {
   "cell_type": "code",
   "execution_count": null,
   "id": "5aa90ab0",
   "metadata": {},
   "outputs": [],
   "source": [
    "d"
   ]
  },
  {
   "cell_type": "code",
   "execution_count": null,
   "id": "a7043c62",
   "metadata": {},
   "outputs": [],
   "source": [
    "nu = 150e9   \n",
    "nn = 1000\n",
    "th_deg = np.linspace(-12, 12, nn)\n",
    "ph = 0\n",
    "d['config'] = 'FI'\n",
    "d['beam_shape'] = 'gaussian'\n",
    "q = qubic.QubicInstrument(d)\n",
    "\n",
    "e1, sb1 = beam_total(th_deg, ph, nu, 0)\n",
    "e2, sb2 = beam_total(th_deg, ph, nu, 12)\n",
    "\n",
    "fig, ax = plt.subplots(figsize=(9, 7))\n",
    "plt.rc('font',size=15)\n",
    "#ax=ax.ravel()\n",
    "# ax.plot(th_deg, q.primary_beam(np.deg2rad(th_deg), ph),'b--')\n",
    "ax.plot(th_deg, e1,'b--', label=r'$B_{prim}$')\n",
    "ax.plot(th_deg, e2,'c--', label=r'$B_{prim} \\times B(\\theta_{off})$')\n",
    "ax.plot(th_deg, sb1, 'b', label='r = 0', lw=2)\n",
    "ax.plot(th_deg, sb2, 'c', label='r = 12 mm',alpha=0.6,lw=2)\n",
    "\n",
    "# axvline(np.rad2deg(np.arctan(12 / 300)), ymin=0, ymax=1.2, color='r')\n",
    "ax.set_xlabel(r'$\\theta$ [deg]', fontsize=18)\n",
    "ax.set_ylabel('Relative intensity', fontsize=18)\n",
    "ax.legend(fontsize=16, loc=1)\n",
    "ax.grid()\n",
    "ax.tick_params(axis='both',bottom=True, top=True, left=True, right=True,direction='in')\n",
    "ax.annotate(r\"FWHM($\\lambda$)\", xytext=(-4,0.6), xy=(0,0.5),\n",
    "            arrowprops=dict(arrowstyle=\"fancy\",fc=\"b\", ec=\"b\"),bbox=dict(boxstyle=\"round\", fc=\"w\"),\n",
    "            fontsize=15 )\n",
    "ax.annotate(' ', xy=(8.3,0.33), xytext=(-0.3,0.33), ha=\"center\", va=\"center\",\n",
    "            arrowprops=dict(arrowstyle=\"<->\",), rotation=0)\n",
    "ax.text(4, 0.37, r\"$\\theta(\\lambda)$\", ha=\"center\", va=\"center\",\n",
    "            fontsize=15,\n",
    "            bbox=dict(boxstyle=\"round\", fc=\"w\"))\n",
    "ax.xaxis.set_ticks(np.arange(-10, 15, 5))\n",
    "fig.tight_layout()\n",
    "# B(\\theta_{off})\n",
    "# plt.savefig('/home/martin/QUBIC/qubic/qubic/scripts/Spectroimagery_paper/beam_cut_2TESb.pdf')\n",
    "# plt.savefig('/home/lmousset/QUBIC/Qubic_work/SpectroImagerie/paper_plot/beam_cut_2TESb.pdf', \n",
    "#             bbox_inches='tight')\n",
    "# import tikzplotlib as tkz\n",
    "# tkz.save('/home/lmousset/QUBIC/These_manuscrit/tikz/beam_cut_2TESb.tex')"
   ]
  },
  {
   "cell_type": "code",
   "execution_count": null,
   "id": "72762d73",
   "metadata": {},
   "outputs": [],
   "source": [
    "color=iter(plt.cm.jet(np.linspace(0,1,6))[::-1] )\n",
    "sum_b = np.zeros((9,len(th_deg),) )\n",
    "NUNU=np.linspace(131e9,169e9,9)#[131e9,135e9,140e9,145e9,150e9,155e9,160e9,165e9,169e9]\n",
    "for j,inu in enumerate(NUNU):\n",
    "    d['filter_nu'] = NUNU[j]\n",
    "    q = qubic.QubicInstrument(d)\n",
    "    beam=q.primary_beam(np.radians(th_deg), ph)\n",
    "    sum_b[j]= beam*sb_noprim(th_deg, NUNU[j], 0)\n",
    "    #_, sum_b[j] = beam_total(th_deg, ph, inu*1e9, 0)\n",
    "    \n",
    "allbeams=np.zeros((2,nn))\n",
    "freqs=[NUNU[0],NUNU[8]]\n",
    "for i in range(2):\n",
    "    d['filter_nu'] = freqs[i]\n",
    "    q = qubic.QubicInstrument(d)\n",
    "    allbeams[i, :] = q.primary_beam(np.radians(th_deg), ph)\n",
    "\n",
    "fig, ax = plt.subplots(nrows=1,ncols=2,figsize=(15,6),gridspec_kw={'wspace':0.06},)\n",
    "plt.rc('font',size=18)\n",
    "ax = ax.ravel()\n",
    "ax[0].plot(th_deg, allbeams[0],'--', c = plt.cm.jet(np.linspace(0,1,6))[::-1][0],\n",
    "           label=r'${:.1f}~$GHz'.format(freqs[0]/1e9))\n",
    "ax[0].plot(th_deg, allbeams[1],'--', c = plt.cm.jet(np.linspace(0,1,6))[::-1][4],\n",
    "           label=r'${:.1f}~$GHz'.format(freqs[1]/1e9))\n",
    "ax[0].plot(th_deg, allbeams[0]*sb_noprim(th_deg, freqs[0],0), \n",
    "           c = plt.cm.jet(np.linspace(0,1,6))[::-1][0],\n",
    "           label=None, lw=2)\n",
    "ax[0].plot(th_deg, allbeams[1]*sb_noprim(th_deg, freqs[1],0),\n",
    "           c = plt.cm.jet(np.linspace(0,1,6))[::-1][4],\n",
    "           label=None, lw=2)\n",
    "ax[0].grid()\n",
    "ax[0].legend(loc='best',fontsize=13)\n",
    "ax[0].set_xlabel(r'$\\theta$ [deg]', fontsize=18)\n",
    "ax[0].set_ylabel('Synthesized beam', fontsize=18)\n",
    "ax[0].tick_params(axis='both',bottom=True, top=True, left=True, right=True,direction='in')\n",
    "\n",
    "sumleg=ax[1].plot(th_deg, np.sum(sum_b,axis=0), 'k', lw=2)\n",
    "#sumleg15=ax[1].plot(th_deg, np.sum(sum_b_15,axis=0)/max(np.sum(sum_b_15,axis=0)), 'k', lw=2)\n",
    "blo=[]\n",
    "for i in range(0,len(NUNU),2):\n",
    "    blo+=ax[1].plot(th_deg, sum_b[i], c=next(color), )\n",
    "\n",
    "# axvline(np.rad2deg(np.arctan(12 / 300)), ymin=0, ymax=1.2, color='r')\n",
    "ax[1].set_xlabel(r'$\\theta$ [deg]', fontsize=18)\n",
    "#ax[1].set_ylabel('Arbitrary units', fontsize=15)\n",
    "ax[1].legend(sumleg, [r'PolySB'], fontsize=13, loc='upper left', )\n",
    "\n",
    "# Create the second legend and add the artist manually.\n",
    "from matplotlib.legend import Legend\n",
    "leg = Legend(ax[1], blo[:], [r'MonoSB @${:.1f}~$GHz'.format(NUNU[0]/1e9),\n",
    "                             '\\t \\t ${:.1f}~$GHz'.format(NUNU[2]/1e9),\n",
    "                          '\\t \\t ${:.1f}~$GHz'.format(NUNU[4]/1e9),\n",
    "                             '\\t \\t ${:.1f}~$GHz'.format(NUNU[6]/1e9),\n",
    "                             '\\t \\t ${:.1f}~$GHz'.format(NUNU[8]/1e9)],\n",
    "             fontsize=13,loc='upper right', )\n",
    "leg._legend_box.align = \"right\"\n",
    "ax[1].add_artist(leg);\n",
    "ax[1].grid()\n",
    "ax[1].tick_params(axis='both',bottom=True, top=True, left=True, right=True,direction='in')\n",
    "fig.tight_layout()\n",
    "# B(\\theta_{off})\n",
    "# plt.savefig('/home/martin/QUBIC/qubic/qubic/scripts/Spectroimagery_paper/synth_beam_many_freq.pdf')\n",
    "#plt.savefig('/home/lmousset/QUBIC/Qubic_work/SpectroImagerie/paper_plot/synth_beam_many_freq.pdf', \n",
    "#            bbox_inches='tight')"
   ]
  },
  {
   "cell_type": "code",
   "execution_count": null,
   "id": "5ea0fae4",
   "metadata": {},
   "outputs": [],
   "source": [
    "nn = 10000\n",
    "th_deg = np.linspace(-12, 12, nn)\n",
    "ph = 0\n",
    "d['config'] = 'FI'\n",
    "d['beam_shape'] = 'gaussian'\n",
    "q = qubic.QubicInstrument(d)\n",
    "\n",
    "sbb = sb_noprim(th_deg, nu, 10)\n",
    "\n",
    "e1, sb1 = beam_total(th_deg, ph, 140e9, 0)\n",
    "e2, sb2 = beam_total(th_deg, ph, 160e9, 0)\n",
    "\n",
    "fig, ax = plt.subplots()\n",
    "ax.plot(th_deg, sb1+1.5*sb2, 'k', label='amplitudes\\n1.0@140GHz\\n1.5@160GHz')\n",
    "ax.set_xlabel('theta [deg]')\n",
    "ax.set_ylabel('Intensity (relative)')\n",
    "ax.legend(fontsize=13)\n",
    "ax.grid()"
   ]
  },
  {
   "cell_type": "code",
   "execution_count": null,
   "id": "c5d09fd6",
   "metadata": {},
   "outputs": [],
   "source": []
  },
  {
   "cell_type": "code",
   "execution_count": null,
   "id": "f58e4777",
   "metadata": {},
   "outputs": [],
   "source": []
  },
  {
   "cell_type": "markdown",
   "id": "276cf6d6",
   "metadata": {},
   "source": [
    "#### Working on fit"
   ]
  },
  {
   "cell_type": "code",
   "execution_count": null,
   "id": "598c3c0a",
   "metadata": {},
   "outputs": [],
   "source": [
    "ndat=1e4\n",
    "angles=np.linspace(6,14,int(ndat))\n",
    "data_peaks=np.zeros((2,int(ndat)))\n",
    "central_freq=140e9\n",
    "freq_iter=np.linspace(138e9,142e9,80)\n",
    "\n",
    "d['filter_nu'] = central_freq\n",
    "q = qubic.QubicInstrument(d)\n",
    "central_data=q.primary_beam(np.radians(np.abs(angles)), ph)*sb_noprim(angles, central_freq,0)\n",
    "plt.plot(angles, central_data  )\n"
   ]
  },
  {
   "cell_type": "code",
   "execution_count": null,
   "id": "2ef8f003",
   "metadata": {},
   "outputs": [],
   "source": [
    "from lmfit import Model\n",
    "def gaussian(x, amp, x0, varx):\n",
    "    gauss = amp*np.exp(-0.5*( (x-x0)**2/varx**2 ))\n",
    "    return gauss\n",
    "def gaussian_add(x, amp0,x0, varx0, amp1, x1, varx1):\n",
    "    gauss = amp0*np.exp(-0.5*( (x-x0)**2/varx0**2 ))+amp1*np.exp(-0.5*( (x-x1)**2/varx1**2 ))\n",
    "    return gauss\n",
    "\n",
    "angles=np.linspace(1,10,int(ndat))\n",
    "\n",
    "gmodel = Model(gaussian, independent_vars=['x',], )\n",
    "params = gmodel.make_params(amp=0.3,x0=8.9, varx=0.1 )\n",
    "\n",
    "gmodel_2g = Model(gaussian_add, independent_vars=['x',], )\n",
    "params_2g = gmodel_2g.make_params(amp0=0.3, x0=8.9, varx0=0.1, amp1=0.3, x1=8.9, varx1=0.1, )\n",
    "\n",
    "Chi=[]\n",
    "Chi_2g=[]\n",
    "central_freq=140\n",
    "d['filter_nu'] = central_freq*1e9\n",
    "q = qubic.QubicInstrument(d)\n",
    "central_data=q.primary_beam(np.radians(np.abs(angles)), ph)*sb_noprim(angles, central_freq*1e9,30)\n",
    "for ifreq in np.linspace(central_freq,\n",
    "                         central_freq+5*d['synthbeam_peak150_fwhm']*150/central_freq,20):\n",
    "    #print('doing {:.4f}'.format(ifreq))\n",
    "    d['filter_nu'] = ifreq*1e9\n",
    "    q = qubic.QubicInstrument(d)\n",
    "    idata=q.primary_beam(np.radians(np.abs(angles)), ph)*sb_noprim(angles, ifreq*1e9,0)\n",
    "    \n",
    "    result = gmodel.fit(central_data+idata, params, x=angles)\n",
    "    result_2g = gmodel_2g.fit(central_data+idata, params_2g, x=angles)\n",
    "    \n",
    "    Chi.append(result.chisqr)    \n",
    "    Chi_2g.append(result_2g.chisqr)"
   ]
  },
  {
   "cell_type": "code",
   "execution_count": null,
   "id": "b9e17d7d",
   "metadata": {},
   "outputs": [],
   "source": [
    "plt.plot(Chi, 'o', label='1G')\n",
    "plt.plot(Chi_2g, 'o', label='2G')\n",
    "plt.legend()"
   ]
  },
  {
   "cell_type": "code",
   "execution_count": null,
   "id": "e25a5c43",
   "metadata": {},
   "outputs": [],
   "source": [
    "print(Chi, Chi_2g, result.fit_report(), result_2g.fit_report())\n",
    "#result.chisqr, result.best_values"
   ]
  },
  {
   "cell_type": "code",
   "execution_count": null,
   "id": "157831d2",
   "metadata": {},
   "outputs": [],
   "source": [
    "plt.plot(angles,result.best_fit, label='g')\n",
    "plt.plot(angles,result_2g.best_fit,label='2g')\n",
    "plt.plot(angles, central_data+idata,label='data')\n",
    "plt.legend()"
   ]
  },
  {
   "cell_type": "code",
   "execution_count": null,
   "id": "406f1674",
   "metadata": {},
   "outputs": [],
   "source": []
  },
  {
   "cell_type": "markdown",
   "id": "51cbef4a",
   "metadata": {},
   "source": [
    "## Plot PSF of the TD in wide band\n",
    "\n",
    "M. Gamboa. I will use the analytical approach"
   ]
  },
  {
   "cell_type": "code",
   "execution_count": null,
   "id": "69a1d2e6",
   "metadata": {},
   "outputs": [],
   "source": [
    "# For a detector not at the center\n",
    "def sb_noprim_td(th_deg, nu, rx):\n",
    "    # [nu] = Hz\n",
    "    # [rx] = mm\n",
    "    # [th] = deg\n",
    "    th = np.radians(th_deg)\n",
    "    nx = np.sin(th)\n",
    "    lam = 3e8 / nu #3e8m/seg --> [lam] = m   \n",
    "    P = 8 #number of horns per side in sqauare array\n",
    "    deltah = 0.014 #m\n",
    "    f = 300. #mm\n",
    "    a = np.pi * deltah / lam\n",
    "    sb = (np.sin(P * a * (rx / f - nx)))**2 / (np.sin(a * (rx / f - nx)))**2\n",
    "    return sb / np.max(sb)\n",
    "\n",
    "\n",
    "def envelope_td(th_deg, ph, rx):\n",
    "    # [th_deg] = deg\n",
    "    # [ph] = deg\n",
    "    # [rx] = mm\n",
    "    f = 300. #mm\n",
    "    th = np.radians(th_deg)\n",
    "    primary_beam = q.primary_beam(th, ph)\n",
    "    th_off = np.arctan(rx / f)\n",
    "    factor_offaxis = q.primary_beam(th_off, ph)\n",
    "    env = factor_offaxis * primary_beam\n",
    "    return env \n",
    "\n",
    "def beam_total_td(th_deg, ph, nu, rx):\n",
    "    env_td = envelope_td(th_deg, ph, rx)\n",
    "    sb_td = env_td * sb_noprim_td(th_deg, nu, rx)\n",
    "    return env_td, sb_td\n",
    "\n",
    "def beam_total_td_2d(th_deg, ph_deg, nu, rx, ry):\n",
    "    env_td = envelope_td(th_deg, ph, rx)\n",
    "    sb_td_x = env_td * sb_noprim_td(th_deg, nu, rx)\n",
    "    sb_td_y = env_td * sb_noprim_td(th_deg, nu, ry)\n",
    "    return env_td, sb_td"
   ]
  },
  {
   "cell_type": "markdown",
   "id": "00d9cf4e",
   "metadata": {},
   "source": [
    "#### Let's compute the polychromatic SB for a detector in the optical center (r = 0)"
   ]
  },
  {
   "cell_type": "code",
   "execution_count": null,
   "id": "7b5d4654",
   "metadata": {},
   "outputs": [],
   "source": [
    "d['nf_sub'] = 15\n",
    "d['config'] = 'TD'\n",
    "d['beam_shape'] = 'gaussian'\n",
    "d['filter_nu'] = 150e9\n",
    "d['MultiBand'] = True"
   ]
  },
  {
   "cell_type": "code",
   "execution_count": null,
   "id": "5bd08c98",
   "metadata": {},
   "outputs": [],
   "source": [
    "_, _, nus_in, wd_in, _, Nfreqs = qubic.compute_freq(d['filter_nu'], d['nf_sub'],\n",
    "                   d['filter_relative_bandwidth'],)"
   ]
  },
  {
   "cell_type": "code",
   "execution_count": null,
   "id": "c397c722",
   "metadata": {},
   "outputs": [],
   "source": [
    "ndi = 1000\n",
    "th_deg = np.linspace(-12, 12, ndi)\n",
    "ph = 0\n",
    "\n",
    "# define my polychromatic instrument\n",
    "qinst = qubic.QubicMultibandInstrument(d)\n",
    "\n",
    "# \n",
    "all_sb = np.zeros((len(nus_in), ndi))\n",
    "\n",
    "e1, sb1 = beam_total_td(th_deg, ph, nu, 0)\n",
    "\n",
    "color = iter(plt.cm.jet(np.linspace(0,1,15))[::-1] )\n",
    "\n",
    "# center of the focal plane\n",
    "rx = 0\n",
    "for j,inu in enumerate(nus_in):\n",
    "    #d['filter_nu'] = inu\n",
    "    #q = qubic.QubicInstrument(d)\n",
    "    beam = qinst[j].primary_beam(np.radians(th_deg), \n",
    "                                 np.radians(ph))\n",
    "    all_sb[j,:] = beam * sb_noprim_td(th_deg, inu, rx)\n",
    "    "
   ]
  },
  {
   "cell_type": "code",
   "execution_count": null,
   "id": "d1033aa0",
   "metadata": {},
   "outputs": [],
   "source": [
    "fig, ax = plt.subplots(nrows = 1, ncols = 2, figsize=(15, 7))\n",
    "plt.rc('font',size=15)\n",
    "fig.suptitle('{} Instrument - No integraton in bandwidth and detector size'.format(d['config']))\n",
    "\n",
    "for i in range(len(nus_in)):\n",
    "    ax[0].plot(th_deg, all_sb[i], label = r'$r_{x} = 0.$' if i == 0 else None)\n",
    "ax[0].set_title(\"Mono. contributions 1D - {} sub-bands\".format(len(nus_in)))\n",
    "ax[0].set_xlabel(r\"$\\theta (\\phi = 0)$\")\n",
    "ax[0].legend()\n",
    "\n",
    "ax[1].plot(th_deg, np.sum(all_sb, axis = 0))\n",
    "ax[1].set_title(\"Poly. beam contributions 1D - {} sub-bands\".format(len(nus_in)))\n",
    "ax[1].set_xlabel(r\"$\\theta (\\phi = 0)$\")"
   ]
  },
  {
   "cell_type": "markdown",
   "id": "c72ee98a",
   "metadata": {},
   "source": [
    "### Try 2D using same code"
   ]
  },
  {
   "cell_type": "code",
   "execution_count": null,
   "id": "c7337a35",
   "metadata": {},
   "outputs": [],
   "source": [
    "np.meshgrid(np.array([-2,-1,0,1,2]), np.array([8,9,10,11,12]))[0].ravel()"
   ]
  },
  {
   "cell_type": "code",
   "execution_count": null,
   "id": "c8cfce14",
   "metadata": {},
   "outputs": [],
   "source": [
    "import qubic.sb_fitting as sbfit"
   ]
  },
  {
   "cell_type": "code",
   "execution_count": null,
   "id": "93e2f78b",
   "metadata": {},
   "outputs": [],
   "source": [
    "#grid2d = np.meshgrid(th_deg, ph_deg)\n",
    "#vecs = np.zeros((50,50,3))\n",
    "#for i in range(50):\n",
    "#    for j in range(50):\n",
    "#        vecs[i,j,:] = sbfit.thph2uv(np.radians(np.transpose(grid2d)[i,j,0]), np.radians(np.transpose(grid2d)[i,j,1]))"
   ]
  },
  {
   "cell_type": "code",
   "execution_count": null,
   "id": "b2c70b75",
   "metadata": {},
   "outputs": [],
   "source": [
    "#vecsrot = np.zeros_like(vecs)\n",
    "#for i in range(50):\n",
    "#    for j in range(50):\n",
    "#        vecsrot[i,j] = np.dot(sbfit.rotmatZ(np.radians(45)), vecs[i,j])\n",
    "#grid2drot = sbfit.uv2thph(vecsrot)"
   ]
  },
  {
   "cell_type": "code",
   "execution_count": null,
   "id": "24409daf",
   "metadata": {},
   "outputs": [],
   "source": [
    "ndi = 1000\n",
    "th_deg = np.linspace(-12, 12, ndi)\n",
    "ph_deg = np.linspace(-12, 12, ndi)\n",
    "ph = 0\n",
    "\n",
    "# define my polychromatic instrument\n",
    "qinst2d = qubic.QubicMultibandInstrument(d)\n",
    "\n",
    "# \n",
    "all_sb2d = np.zeros((len(nus_in), ndi, ndi))\n",
    "\n",
    "color = iter(plt.cm.jet(np.linspace(0,1,15))[::-1] )\n",
    "\n",
    "# center of the focal plane\n",
    "  \n",
    "rx = -0.05040\n",
    "ry = 0.02040\n",
    "for j,inu in enumerate(nus_in):\n",
    "    pbeam2d = qinst[j].primary_beam(np.radians(th_deg), \n",
    "                                 np.radians(ph))\n",
    "    sbeam2d = qinst[j].secondary_beam(rx, ry)#np.radians(th_deg), np.radians(ph))\n",
    "    grid2d = np.meshgrid(th_deg, ph_deg)\n",
    "    all_sb2d[j,:,:] = pbeam2d * sb_noprim_td(grid2d[0], inu, rx) *\\\n",
    "                            sb_noprim_td(grid2d[1], inu, ry)\n",
    "    "
   ]
  },
  {
   "cell_type": "code",
   "execution_count": null,
   "id": "b0fc5930",
   "metadata": {},
   "outputs": [],
   "source": [
    "#It needs to be rotated\n",
    "plt.imshow(np.sum(all_sb2d, axis = 0))\n",
    "plt.colorbar()"
   ]
  },
  {
   "cell_type": "markdown",
   "id": "b590e3ba",
   "metadata": {},
   "source": [
    "### Now using get_synthbeam (2d projection)\n",
    "\n",
    "Memory: If you want to compute the full synthesized beam using 15 sub-bands for all the detectors (248 for TD) and all the pixels ($12 * nside^2$) you'll nedd 87.2 GiB of memory allocation. So we will compute a full SB just for a given TES (I'll use TES numbering instead qubicsoft indexes)"
   ]
  },
  {
   "cell_type": "code",
   "execution_count": null,
   "id": "aefa7f12",
   "metadata": {},
   "outputs": [],
   "source": [
    "#qsoft_indx = np.where(qinst[0].detector.index==tes2index(95, 1))[0]\n",
    "#plt.plot(qinst[0].detector[quepas].center[0,0], qinst[0].detector[quepas].center[0,1], 'ko')"
   ]
  },
  {
   "cell_type": "code",
   "execution_count": null,
   "id": "5d12a22b",
   "metadata": {},
   "outputs": [],
   "source": [
    "tes = 96\n",
    "if tes < 129:\n",
    "    asic = 1\n",
    "else:\n",
    "    tes = tes - 128\n",
    "    asic = 2\n",
    "qsoft_idx = np.where(qinst[0].detector.index==tes2index(tes, asic))[0]\n",
    "\n",
    "fullsb = np.zeros((len(qinst), 12*d['nside']**2 ))\n",
    "for i in range(len(qinst)):\n",
    "    fullsb[i] = qinst[i][qsoft_idx].get_synthbeam(scene, detector_integrate = None)#, detpos = [0,0,-0.3])"
   ]
  },
  {
   "cell_type": "code",
   "execution_count": null,
   "id": "16bf722b",
   "metadata": {},
   "outputs": [],
   "source": [
    "hp.gnomview(np.sum(fullsb, axis = 0), rot = (0,90), reso = 8,\n",
    "           title = \"TES {}\".format(tes))"
   ]
  },
  {
   "cell_type": "code",
   "execution_count": null,
   "id": "c4cef73c",
   "metadata": {},
   "outputs": [],
   "source": []
  }
 ],
 "metadata": {
  "kernelspec": {
   "display_name": "Python 3",
   "language": "python",
   "name": "python3"
  }
 },
 "nbformat": 4,
 "nbformat_minor": 5
}
