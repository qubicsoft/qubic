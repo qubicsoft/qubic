{
 "cells": [
  {
   "cell_type": "markdown",
   "id": "74dc70c3",
   "metadata": {},
   "source": [
    "This is inspired from a Notebook prepared by Louise called \"Synthetized_beam_animation.Rmd\""
   ]
  },
  {
   "cell_type": "code",
   "execution_count": null,
   "id": "6ec74845",
   "metadata": {},
   "outputs": [],
   "source": [
    "import glob\n",
    "import os \n",
    "\n",
    "import numpy as np\n",
    "import healpy as hp\n",
    "\n",
    "import matplotlib.pyplot as plt\n",
    "from matplotlib.animation import FuncAnimation\n",
    "\n",
    "%matplotlib inline\n",
    "#%matplotlib notebook\n",
    "\n",
    "from matplotlib import rc\n",
    "rc('figure',figsize=(16,10))\n",
    "rc('font',size=12)\n",
    "rc('text',usetex=False)\n",
    "\n",
    "from qubicpack.utilities import Qubic_DataDir\n",
    "import qubic \n",
    "import qubic.sb_fitting as sbfit\n",
    "\n",
    "from qubicpack.pixel_translation import make_id_focalplane, tes2index\n",
    "from qubic.selfcal_lib import index2TESandASIC\n",
    "\n",
    "######################################################################\n",
    "# Dictionary\n",
    "d = qubic.qubicdict.qubicDict()\n",
    "d.read_from_file(os.environ['QUBIC_DICT']+'pipeline_demo.dict')\n",
    "d['config'] = 'TD'\n",
    "# Instrument and scene\n",
    "q = qubic.QubicInstrument(d)\n",
    "s = qubic.QubicScene(d)\n",
    "print(q.detector.index)\n",
    "\n",
    "# Detector centers\n",
    "detpositions = q.detector.center\n",
    "print(detpositions.shape)\n",
    "print(detpositions[0:3,:])\n",
    "\n",
    "# Detector exactly at the center of the fp\n",
    "detcenterposition = np.array([0,0,-0.3])"
   ]
  },
  {
   "cell_type": "code",
   "execution_count": null,
   "id": "c82fb200",
   "metadata": {},
   "outputs": [],
   "source": [
    "rc('figure',figsize=(10,10))\n",
    "scatter(detpositions[:, 0], detpositions[:, 1], marker='s', s=400, alpha=0.3)\n",
    "plot(detcenterposition[0], detcenterposition[1],'ro')\n",
    "xlim(-0.055, 0.005)\n",
    "ylim(-0.055, 0.005)\n",
    "\n",
    "for k in range(248):\n",
    "    text(detpositions[k, 0]-0.001, detpositions[k, 1]-0.0005, k, fontsize=10)"
   ]
  },
  {
   "cell_type": "code",
   "execution_count": null,
   "id": "915a659f",
   "metadata": {},
   "outputs": [],
   "source": [
    "# Synthetic beams on the sky for all TES\n",
    "sb = q.get_synthbeam(s, idet=None, external_A=None, hwp_position=0)\n",
    "print(sb.shape)\n",
    "\n",
    "# Let's also take a detector at the center of the FP\n",
    "sbcenter = q.get_synthbeam(s, idet=None, external_A=None, hwp_position=0, detpos=detcenterposition)"
   ]
  },
  {
   "cell_type": "markdown",
   "id": "e84cdcce",
   "metadata": {},
   "source": [
    "Now let's get the positions and amplitudes of all peaks"
   ]
  },
  {
   "cell_type": "code",
   "execution_count": null,
   "id": "81e3792b",
   "metadata": {},
   "outputs": [],
   "source": [
    "# Coordinates of the peaks (spherical coordinates in radian) for each TES\n",
    "kmax = 3\n",
    "npeaks = (2 * kmax + 1)**2\n",
    "delta_horn = q.horn.spacing\n",
    "angle_horn = q.horn.angle\n",
    "nu = d['filter_nu']\n",
    "position_TES = q.detector.center\n",
    "theta, phi = q._peak_angles_kmax(kmax, q.horn.spacing, q.horn.angle, d['filter_nu'], detpositions)\n",
    "vals = np.array(q.primary_beam(theta, phi), dtype=float, copy=False)\n",
    "\n",
    "### Now we want the same but for a virtual detector at the center of the FP - for some reason the codde crashes\n",
    "### when one asks for a single TES position...  So we just do all of them placed at the center and keep only\n",
    "### the first one...\n",
    "detpositions_center = detpositions.copy()\n",
    "detpositions_center[:,0] = 0\n",
    "detpositions_center[:,1] = 0\n",
    "alltheta, allphi = q._peak_angles_kmax(kmax, q.horn.spacing, q.horn.angle, d['filter_nu'], detpositions_center)\n",
    "theta_0 = alltheta[0,:]\n",
    "phi_0 = allphi[0,:]\n",
    "vals_0 = np.array(q.primary_beam(theta_0, phi_0), dtype=float, copy=False)\n"
   ]
  },
  {
   "cell_type": "code",
   "execution_count": null,
   "id": "f7a2758e",
   "metadata": {},
   "outputs": [],
   "source": [
    "### Let's plot the synthesized beam and the peak positions for the virtuald etector at the center\n",
    "### We see tnat they are orddered by amplitude\n",
    "rc('figure',figsize=(16,5))\n",
    "hp.gnomview(sbcenter, min=0, max=100000, rot=(180, 90), reso=30, title=None, cmap='viridis', sub=(1,3,1))\n",
    "for p in range(npeaks):\n",
    "    if p == npeaks//2:\n",
    "        color = 'w'\n",
    "    else:\n",
    "        color = 'r'\n",
    "    th = theta_0[p]\n",
    "    ph = phi_0[p]\n",
    "    hp.visufunc.projscatter(th, ph, color=color, marker='+')\n",
    "    hp.visufunc.projtext(th+np.radians(1), ph+np.radians(1), str(p), color=color, fontsize=12)\n",
    "\n",
    "subplot(1,3,2)\n",
    "scatter(detpositions[:, 0], detpositions[:, 1], marker='s', s=40, alpha=0.3)\n",
    "plot(detcenterposition[0], detcenterposition[1],'ro')\n",
    "\n",
    "subplot(1,3,3)\n",
    "plot(vals_0,'bo-')\n",
    "xlabel('Peak #')\n",
    "ylabel('Peak Amplitude')\n",
    "#yscale('log')"
   ]
  },
  {
   "cell_type": "code",
   "execution_count": null,
   "id": "9be11008",
   "metadata": {},
   "outputs": [],
   "source": [
    "rc('figure',figsize=(16,5))\n",
    "TES = np.random.randint(248)*0+39\n",
    "hp.gnomview(sb[TES], min=0, max=100000, rot=(180, 90), reso=30, title='TES {}'.format(TES), cmap='viridis', sub=(1,3,1))\n",
    "for p in range(npeaks):\n",
    "    if p == npeaks//2:\n",
    "        color = 'w'\n",
    "    else:\n",
    "        color = 'r'\n",
    "    th = theta[TES, p]\n",
    "    ph = phi[TES, p]\n",
    "    hp.visufunc.projscatter(th, ph, color=color, marker='+')\n",
    "    hp.visufunc.projtext(th, ph, str(p), color=color, fontsize=12)\n",
    "\n",
    "subplot(1,3,2)\n",
    "scatter(detpositions[:, 0], detpositions[:, 1], marker='s', s=40, alpha=0.3)\n",
    "plot(detpositions[TES,0], detpositions[TES,1],'ro')\n",
    "title('TES {}'.format(TES))\n",
    "\n",
    "subplot(1,3,3)\n",
    "plot(vals[TES,:],'bo-')\n",
    "xlabel('Peak #')\n",
    "ylabel('Peak Amplitude')\n",
    "title('TES {}'.format(TES))\n"
   ]
  },
  {
   "cell_type": "markdown",
   "id": "381150f5",
   "metadata": {},
   "source": [
    "The peak with number npeaks//2 is always at the center. So let's plot the theta and phi of this \"central\" peak for all TES."
   ]
  },
  {
   "cell_type": "code",
   "execution_count": null,
   "id": "318c65f7",
   "metadata": {},
   "outputs": [],
   "source": [
    "hp.gnomview(sb[0]*0, min=0, max=100000, rot=(180, 90), reso=10, title='TES {}'.format(TES), cmap='viridis', sub=(1,3,1))\n",
    "for TES in range(248):\n",
    "    th = theta[TES, npeaks//2]\n",
    "    ph = phi[TES, npeaks//2]\n",
    "    hp.visufunc.projscatter(th, ph, color='r', marker='.')\n",
    "\n",
    "hp.visufunc.projscatter(theta_0[npeaks//2], phi_0[npeaks//2], color='w', marker='.')"
   ]
  },
  {
   "cell_type": "markdown",
   "id": "1129e1a5",
   "metadata": {},
   "source": [
    "So with this numbering and the position of peak npeaks//2 we should be able to have a unique identifier for peaks and follow them as a function of detector and as a function of frequency and so on..."
   ]
  },
  {
   "cell_type": "code",
   "execution_count": null,
   "id": "778a610c",
   "metadata": {},
   "outputs": [],
   "source": []
  }
 ],
 "metadata": {
  "kernelspec": {
   "display_name": "Python 3",
   "language": "python",
   "name": "python3"
  }
 },
 "nbformat": 4,
 "nbformat_minor": 5
}
