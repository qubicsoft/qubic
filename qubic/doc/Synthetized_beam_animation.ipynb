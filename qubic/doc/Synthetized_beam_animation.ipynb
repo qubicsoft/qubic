{
 "cells": [
  {
   "cell_type": "markdown",
   "id": "0e4a5e00",
   "metadata": {},
   "source": [
    "# Synthetized beam on the sky"
   ]
  },
  {
   "cell_type": "code",
   "execution_count": null,
   "id": "33e950e9",
   "metadata": {},
   "outputs": [],
   "source": [
    "import glob\n",
    "import os \n",
    "\n",
    "import numpy as np\n",
    "import healpy as hp\n",
    "\n",
    "import matplotlib.pyplot as plt\n",
    "from matplotlib.animation import FuncAnimation\n",
    "\n",
    "%matplotlib inline\n",
    "%matplotlib notebook\n",
    "\n",
    "from matplotlib import rc\n",
    "rc('figure',figsize=(15,15))\n",
    "rc('font',size=14)\n",
    "#rc('text',usetex=False)\n",
    "\n",
    "import qubic \n",
    "import qubic.sb_fitting as sbfit\n",
    "import qubic.selfcal_lib as scal\n",
    "\n",
    "from qubicpack.pixel_translation import make_id_focalplane, tes2index"
   ]
  },
  {
   "cell_type": "code",
   "execution_count": null,
   "id": "03af97fd",
   "metadata": {},
   "outputs": [],
   "source": [
    "# Dictionary\n",
    "d = qubic.qubicdict.qubicDict()\n",
    "d.read_from_file('pipeline_demo.dict')\n",
    "\n",
    "# d.read_from_file(dictfilename)\n",
    "d['config'] = 'TD'\n",
    "\n",
    "d['synthbeam_kmax'] = 3\n",
    "\n",
    "# Instrument and scene\n",
    "q = qubic.QubicInstrument(d)\n",
    "s = qubic.QubicScene(d)"
   ]
  },
  {
   "cell_type": "markdown",
   "id": "535009e6",
   "metadata": {},
   "source": [
    "### Synthetic beams on the sky for all TES"
   ]
  },
  {
   "cell_type": "code",
   "execution_count": null,
   "id": "4816f748",
   "metadata": {},
   "outputs": [],
   "source": [
    "sb = q.get_synthbeam(s, idet=None, external_A=None, hwp_position=0)\n",
    "print(sb.shape)"
   ]
  },
  {
   "cell_type": "markdown",
   "id": "49686c7f",
   "metadata": {},
   "source": [
    "#### Coordinates of the peaks (spherical coordinates in radian) for each TES"
   ]
  },
  {
   "cell_type": "code",
   "execution_count": null,
   "id": "9d431686",
   "metadata": {},
   "outputs": [],
   "source": [
    "kmax = d['synthbeam_kmax']\n",
    "npeaks = (2 * kmax + 1)**2\n",
    "\n",
    "horn_spacing = q.horn.spacing\n",
    "horn_angle = q.horn.angle\n",
    "nu = d['filter_nu']\n",
    "\n",
    "position_TES = q.detector.center\n",
    "\n",
    "# Coordinate on a simple grid\n",
    "theta, phi = q._peak_angles_kmax(kmax, horn_spacing, horn_angle, nu, position_TES)\n",
    "print(theta[0])\n",
    "\n",
    "# Coordinates ordered from highest intensity to the smallest one\n",
    "theta_order, phi_order, val = q._peak_angles(s, nu, q.detector.center, q.synthbeam, q.horn, q.primary_beam)\n"
   ]
  },
  {
   "cell_type": "code",
   "execution_count": null,
   "id": "034a01b3",
   "metadata": {},
   "outputs": [],
   "source": [
    "# Plot\n",
    "TES = 2\n",
    "\n",
    "# plt.figure(figsize=(8, 8))\n",
    "# plt.axis('off')\n",
    "hp.gnomview(sb[TES], min=0, max=1e5, rot=(0, 90), reso=30, title='Grid numbering')\n",
    "for p in range(npeaks):\n",
    "    th = theta[TES, p]\n",
    "    ph = phi[TES, p]\n",
    "#     hp.visufunc.projscatter(th, ph, color='w', marker='+')\n",
    "    hp.visufunc.projtext(th-0.02, ph-0.02, str(p), color='w', fontsize=14)\n",
    "\n",
    "# plt.figure(figsize=(8, 8))\n",
    "# plt.axis('off')\n",
    "hp.gnomview(sb[TES], min=0, max=1e5, rot=(0, 90), reso=30, title='Intensity numbering')\n",
    "for p in range(npeaks):\n",
    "    th2 = theta_order[TES, p]\n",
    "    ph2 = phi_order[TES, p]\n",
    "#     hp.visufunc.projscatter(th2, ph2, color='w', marker='+')\n",
    "    hp.visufunc.projtext(th2+0.02, ph2+0.02, str(p), color='w', fontsize=14)"
   ]
  },
  {
   "cell_type": "markdown",
   "id": "d57447cb",
   "metadata": {},
   "source": [
    "#### Print on the sky the motion of the one peak for all TES "
   ]
  },
  {
   "cell_type": "code",
   "execution_count": null,
   "id": "b4f78233",
   "metadata": {},
   "outputs": [],
   "source": [
    "# Choose a peak\n",
    "p = 30\n",
    "hp.gnomview(sb[200] * 0., min=0, max=1e6, rot=(0, 90), reso=12, title=None)\n",
    "for TES in range(248):\n",
    "    color = 'w'\n",
    "    th = theta[TES, p]\n",
    "    ph = phi[TES, p]\n",
    "    hp.visufunc.projscatter(th, ph, color=color, marker='.')\n",
    "#     hp.visufunc.projtext(th, ph, str(TES), color=color, fontsize=10)\n"
   ]
  },
  {
   "cell_type": "markdown",
   "id": "42c64a64",
   "metadata": {},
   "source": [
    "### Coordinates of the TES in ONAFP"
   ]
  },
  {
   "cell_type": "code",
   "execution_count": null,
   "id": "d191d6f0",
   "metadata": {},
   "outputs": [],
   "source": [
    "xONAFP, yONAFP, vONAFP = scal.get_TEScoordinates_ONAFP(q)\n",
    "print(xONAFP.shape)"
   ]
  },
  {
   "cell_type": "markdown",
   "id": "51c69544",
   "metadata": {},
   "source": [
    "### Plot\n",
    "\n",
    "To compare simu/measurement, it looks we have to do the following (not sure):\n",
    "* Measurement: centered on (lon=0, lat=0, phi=0)\n",
    "* Simulation: centered on (lon=0, lat=90, phi=180)"
   ]
  },
  {
   "cell_type": "code",
   "execution_count": null,
   "id": "c4ee118a",
   "metadata": {},
   "outputs": [],
   "source": [
    "# Choose a TES (Instrument numerotation)\n",
    "TES, ASIC = 6, 1\n",
    "x0, y0, FP_index, index_q = scal.TES_Instru2coord(TES, ASIC, q, frame='ONAFP')\n",
    "\n",
    "plt.subplots(1, 2, figsize=(12, 7))\n",
    "plt.suptitle(f'TES {TES} - ASIC {ASIC} - Index_q {index_q}')\n",
    "\n",
    "# Focal plane\n",
    "plt.subplot(121)\n",
    "plt.scatter(xONAFP, yONAFP, marker='s', s=100, alpha=0.3)\n",
    "plt.xlabel('X_ONAFP')\n",
    "plt.ylabel('Y_ONAFP')\n",
    "plt.plot(x0, y0, 'ro')\n",
    "plt.axis('square')\n",
    "plt.title('Focal plane')\n",
    "\n",
    "# Simulation\n",
    "plt.subplot(122)\n",
    "plt.axis('off')\n",
    "hp.gnomview(sb[index_q], min=0, max=1e5, rot=(0, 90, 180), reso=12, sub=(122),\n",
    "            title='Simulation', cbar=False)\n",
    "hp.graticule()\n",
    "# for p in range(npeaks):\n",
    "#     th = theta[index_q, p]\n",
    "#     ph = phi[index_q, p]\n",
    "#     th2 = theta_order[index_q, p]\n",
    "#     ph2 = phi_order[index_q, p]\n",
    "#     hp.visufunc.projtext(th-0.02, ph-0.02, str(p), color='w', fontsize=10) \n",
    "#     hp.visufunc.projtext(th2+0.02, ph2+0.02, str(p), color='r', fontsize=10) \n",
    "\n"
   ]
  },
  {
   "cell_type": "markdown",
   "id": "bf824c15",
   "metadata": {},
   "source": [
    "### Animation to see the beam moving"
   ]
  },
  {
   "cell_type": "code",
   "execution_count": null,
   "id": "f843436b",
   "metadata": {},
   "outputs": [],
   "source": [
    "def animate(det):\n",
    "    index = q.detector.index[det]\n",
    "       \n",
    "    # Focal plane\n",
    "#     ax1.annotate(str(tes_index[tes]),  xy=(x, y), fontsize=10, color='r')\n",
    "    \n",
    "    x = xONAFP[det]\n",
    "    y = yONAFP[det]\n",
    "    point.set_data(x, y)\n",
    "#     ax1.set_title('TES {}'.format(index))\n",
    "    \n",
    "    \n",
    "    # Simulation\n",
    "    hp.gnomview(sb[det], min=0, max=1e5, rot=(0, 90, 180), reso=20, sub=(122), \n",
    "                title='Simulation', cbar=False)\n",
    "    hp.graticule()\n",
    "    \n",
    "    # pixel with Highest intensity\n",
    "    nside = hp.get_nside(sb[det])\n",
    "    pix_max = np.argmax(sb[det])\n",
    "    lon, lat = hp.pix2ang(hp.get_nside(sb[det]), pix_max, lonlat=True)\n",
    "    hp.visufunc.projscatter(lon, lat, color='r', marker='+', s=500, lonlat=True, label='Highest pixel')\n",
    "    plt.legend()\n",
    "    # Numbering of the peaks (absolute and ordered by intensity)\n",
    "#     for p in range(npeaks):\n",
    "#         th = theta[det, p]\n",
    "#         ph = phi[det, p]\n",
    "#         th2 = theta_order[det, p]\n",
    "#         ph2 = phi_order[det, p]\n",
    "# #         hp.visufunc.projscatter(th, ph, color='w', marker='+')\n",
    "#         hp.visufunc.projtext(th-0.02, ph-0.02, str(p), color='w', fontsize=12) \n",
    "#         hp.visufunc.projtext(th2+0.02, ph2+0.02, str(p), color='r', fontsize=12) \n",
    "    \n",
    "\n",
    "def init():\n",
    "#     ax1.set_title('Synthetic beam on the sky')\n",
    "    ax1.axis('square')\n",
    "    ax2.axis('off')\n",
    "\n",
    "    \n",
    "fig, axs = plt.subplots(1, 2, figsize=(12, 8))\n",
    "ax1, ax2 = np.ravel(axs)\n",
    "ax1.scatter(xONAFP, yONAFP, marker='s', s=200, alpha=0.3)\n",
    "ax1.set_xlabel('X_ONAFP')\n",
    "ax1.set_ylabel('Y_ONAFP')\n",
    "\n",
    "det0 = 238\n",
    "x0 = xONAFP[det0]\n",
    "y0 = yONAFP[det0]\n",
    "point, = ax1.plot(x0, y0, 'ro')\n",
    "steps = np.arange(det0, det0+10, 1)\n",
    "\n",
    "anim = FuncAnimation(fig, animate, steps, init_func=init, interval=1000, blit=True, repeat=False)\n",
    "\n",
    "# Save a .gif\n",
    "# anim.save('./animation_beam.gif', writer='imagemagick')"
   ]
  },
  {
   "cell_type": "code",
   "execution_count": null,
   "id": "5be2e517",
   "metadata": {},
   "outputs": [],
   "source": []
  }
 ],
 "metadata": {
  "kernelspec": {
   "display_name": "Python 3",
   "language": "python",
   "name": "python3"
  }
 },
 "nbformat": 4,
 "nbformat_minor": 5
}
