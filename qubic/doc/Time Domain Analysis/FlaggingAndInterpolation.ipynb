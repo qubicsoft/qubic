{
 "cells": [
  {
   "cell_type": "markdown",
   "id": "53d5ceb1",
   "metadata": {},
   "source": [
    "# How to resample/interpolate flags ?\n",
    "JCH - Sept. 2022"
   ]
  },
  {
   "cell_type": "code",
   "execution_count": null,
   "id": "4c070952",
   "metadata": {},
   "outputs": [],
   "source": [
    "%config InlineBackend.figure_format='retina'\n",
    "from IPython.display import display, HTML\n",
    "display(HTML(\"<style>.container { width:95% !important; }</style>\"))\n",
    "\n",
    "from importlib import reload\n",
    "\n",
    "rc('figure',figsize=(20,6))\n",
    "rc('font',size=12)\n"
   ]
  },
  {
   "cell_type": "markdown",
   "id": "058f3f70",
   "metadata": {},
   "source": [
    "We assume we have a dataset consiting in:\n",
    "- a TOD (just one detector for simplicity) sampled at a give sampling frequency representing the TES measurement as a function of time.\n",
    "- antoher TOD, an integer for each time sample, encoding possible flags for the instrument measured by bits. We consider four types of flags here (again for simplicity):\n",
    "    - 0: nothing special\n",
    "    - 1 = 2**0: end of scan\n",
    "    - 2 = 2**1: flux jump\n",
    "    - 4 = 2**2: cosmic ray"
   ]
  },
  {
   "cell_type": "code",
   "execution_count": null,
   "id": "06c10239",
   "metadata": {},
   "outputs": [],
   "source": [
    "nsamples = 2**15\n",
    "fsamp = 156.\n",
    "\n",
    "time = np.arange(nsamples)/fsamp\n",
    "tod = np.random.randn(nsamples)\n",
    "\n",
    "plot(time, tod)\n",
    "xlabel('Time (sec)')\n",
    "ylabel('TOD')"
   ]
  },
  {
   "cell_type": "markdown",
   "id": "64709aa2",
   "metadata": {},
   "source": [
    "We randomly select chunks of data concerned by each of our non-zero flags"
   ]
  },
  {
   "cell_type": "code",
   "execution_count": null,
   "id": "76255a1d",
   "metadata": {},
   "outputs": [],
   "source": [
    "flagtypes = ['Good', 'EoS', 'FJ', 'CR']\n",
    "flagnum = np.append(0, 2**np.arange(len(flagtypes)-1))\n",
    "\n",
    "flags = np.zeros(nsamples, dtype=int8)\n",
    "nmax = 100\n",
    "lmax = 100\n",
    "\n",
    "\n",
    "print('Flag Types:')\n",
    "for i in range(len(flagtypes)):\n",
    "    nchunks = np.random.randint(1, nmax)\n",
    "    print('{} ({}): nchunks={}'.format(flagnum[i], flagtypes[i], nchunks))\n",
    "    thisflag = np.zeros(nsamples, dtype=int8)\n",
    "    for k in range(nchunks):\n",
    "        chunklen = np.random.randint(1, lmax)\n",
    "        i0 = np.random.randint(0,nsamples-1-chunklen)\n",
    "        thisflag[i0:i0+chunklen] = flagnum[i]\n",
    "    flags += thisflag\n",
    "    \n",
    "plot(time,flags)\n",
    "xlabel('Time (sec)')\n",
    "ylabel('Flag')"
   ]
  },
  {
   "cell_type": "markdown",
   "id": "79dff04e",
   "metadata": {},
   "source": [
    "# Interpolation\n",
    "Now we assume that we need to interpolate the signal onto a new regular grid. Here we take the example of a shift of a fraction of a period (here 0.3)."
   ]
  },
  {
   "cell_type": "code",
   "execution_count": null,
   "id": "6473c2d7",
   "metadata": {},
   "outputs": [],
   "source": [
    "newtime = time + 0.3/fsamp\n",
    "newtod = np.interp(newtime, time, tod)\n",
    "\n",
    "plot(newtime, newtod)\n",
    "xlabel('Time (sec)')\n"
   ]
  },
  {
   "cell_type": "markdown",
   "id": "6e6eef1f",
   "metadata": {},
   "source": [
    "The question is: how do we deal with the flags ?\n",
    "\n",
    "What we want to do is that each new sample containing a signal from a flagged initial sample has to inherit of this flag."
   ]
  },
  {
   "cell_type": "code",
   "execution_count": null,
   "id": "a4b5d84a",
   "metadata": {},
   "outputs": [],
   "source": [
    "flags_interp = np.interp(newtime, time, flags)"
   ]
  },
  {
   "cell_type": "code",
   "execution_count": null,
   "id": "392d557f",
   "metadata": {},
   "outputs": [],
   "source": [
    "from scipy.interpolate import interp1d\n",
    "flags_interp_sc_prev = interp1d(time, flags, kind='previous', fill_value='extrapolate')(newtime)\n",
    "flags_interp_sc_next = interp1d(time, flags, kind='next', fill_value='extrapolate')(newtime)\n",
    "flags_interp_best = np.max(np.array([flags_interp_sc_prev, flags_interp_sc_next]), axis=0)"
   ]
  },
  {
   "cell_type": "code",
   "execution_count": null,
   "id": "866ea473",
   "metadata": {},
   "outputs": [],
   "source": [
    "subplot(1,2,1)\n",
    "step(time, flags, label='Initial Flags', lw=2)\n",
    "step(newtime, flags_interp, label='Brute Interpolated Flags', lw=2)\n",
    "step(newtime, flags_interp_best, label='Better Interpolated Flags', lw=2)\n",
    "step(time, tod, label='Initial signal', alpha=0.5)\n",
    "step(newtime, newtod, label='Interpolated signal', alpha=0.5)\n",
    "legend()\n",
    "xlabel('Time (sec)')\n",
    "title('Whole dataset')\n",
    "\n",
    "\n",
    "subplot(1,2,2)\n",
    "nmin = argmax(flags == 3)-10\n",
    "nmax = nmin + 30\n",
    "step(time, flags, label='Initial Flags', lw=2)\n",
    "step(newtime, flags_interp, label='Brute Interpolated Flags', lw=2)\n",
    "step(newtime, flags_interp_best, label='Better Interpolated Flags', lw=2)\n",
    "step(time, tod, label='Initial signal', alpha=0.5)\n",
    "step(newtime, newtod, label='Interpolated signal', alpha=0.5)\n",
    "legend()\n",
    "xlim(time[nmin], time[nmax])\n",
    "xlabel('Time (sec)')\n",
    "title('Zoom on interesting region')\n",
    "\n",
    "figure()\n",
    "title('Flags Histogram')\n",
    "a=hist(flags, bins=100, range=[0,5], alpha=0.3, label='Initial Flags')\n",
    "a=hist(flags_interp, bins=100, range=[0,5], alpha=0.3, label='Brute Interpolated Flags')\n",
    "a=hist(flags_interp_best, bins=100, range=[0,5], alpha=0.3, label='Better Interpolated Flags')\n",
    "yscale('log')\n",
    "xlabel('Flag value')\n",
    "legend()"
   ]
  },
  {
   "cell_type": "markdown",
   "id": "e5d3ccbf",
   "metadata": {},
   "source": [
    "However, this solution might not be fully optimal for execution time reasons:\n",
    "- 150 μs for brute interpolation\n",
    "- 7.8 ms for improved interpolation\n",
    "\n",
    "=> a factor 50..."
   ]
  },
  {
   "cell_type": "code",
   "execution_count": null,
   "id": "8b9bb37f",
   "metadata": {},
   "outputs": [],
   "source": [
    "%timeit flags_interp = np.interp(newtime, time, flags)"
   ]
  },
  {
   "cell_type": "code",
   "execution_count": null,
   "id": "0ac84fea",
   "metadata": {},
   "outputs": [],
   "source": [
    "%timeit flags_interp_best = np.max(np.array([interp1d(time, flags, kind='previous', fill_value='extrapolate')(newtime), \n",
    "                                             interp1d(time, flags, kind='next', fill_value='extrapolate')(newtime)]), axis=0)"
   ]
  },
  {
   "cell_type": "code",
   "execution_count": null,
   "id": "14b123f3",
   "metadata": {},
   "outputs": [],
   "source": [
    "len(time)"
   ]
  },
  {
   "cell_type": "markdown",
   "id": "fae1beae",
   "metadata": {},
   "source": [
    "# Resampling\n",
    "Now we assume we resample the data from fsamp to fsamp/np.pi (in order to avoid perfect superposition of new samples)"
   ]
  },
  {
   "cell_type": "code",
   "execution_count": null,
   "id": "69d155ae",
   "metadata": {},
   "outputs": [],
   "source": [
    "new_fsamp = fsamp/np.pi\n",
    "new_nsamples = int(nsamples / np.pi)\n",
    "newtime = np.arange(new_nsamples)/new_fsamp\n",
    "t0 = 0.\n",
    "tend = (nsamples+1) /fsamp\n",
    "\n",
    "import scipy.signal\n",
    "newtod = scipy.signal.resample(tod, new_nsamples)\n",
    "plot(newtime, newtod)\n",
    "xlabel('Time (sec)')"
   ]
  },
  {
   "cell_type": "markdown",
   "id": "6adb843d",
   "metadata": {},
   "source": [
    "We use the same trick to interpolate the flags on the new time axis."
   ]
  },
  {
   "cell_type": "code",
   "execution_count": null,
   "id": "3bb7e0aa",
   "metadata": {},
   "outputs": [],
   "source": [
    "flags_interp = np.interp(newtime, time, flags)\n",
    "flags_interp_best = np.max(np.array([interp1d(time, flags, kind='previous', fill_value='extrapolate')(newtime), interp1d(time, flags, kind='next', fill_value='extrapolate')(newtime)]), axis=0)"
   ]
  },
  {
   "cell_type": "code",
   "execution_count": null,
   "id": "ae861e2b",
   "metadata": {},
   "outputs": [],
   "source": [
    "subplot(1,2,1)\n",
    "step(time, flags, label='Initial Flags', lw=2)\n",
    "step(newtime, flags_interp, label='Brute Interpolated Flags', lw=2)\n",
    "step(newtime, flags_interp_best, label='Better Interpolated Flags', lw=2)\n",
    "step(time, tod, label='Initial', alpha=0.5)\n",
    "step(newtime, newtod, label='Resampled signal', alpha=0.5)\n",
    "legend()\n",
    "xlabel('Time (sec)')\n",
    "title('Whole dataset')\n",
    "\n",
    "\n",
    "subplot(1,2,2)\n",
    "nmin = argmax(flags == 3)-100\n",
    "nmax = nmin + 100\n",
    "print(nmin,nmax)\n",
    "step(time, flags, label='Initial Flags', lw=2)\n",
    "step(newtime, flags_interp, label='Brute Interpolated Flags', lw=2)\n",
    "step(newtime, flags_interp_best, label='Better Interpolated Flags', lw=2)\n",
    "step(time, tod, label='Initial', alpha=0.5)\n",
    "step(newtime, newtod, label='Interpolated signal', alpha=0.5)\n",
    "legend()\n",
    "xlim(time[nmin], time[nmax])\n",
    "xlabel('Time (sec)')\n",
    "title('Zoom on interesting region')\n",
    "\n",
    "figure()\n",
    "title('Flags Histogram')\n",
    "a=hist(flags, bins=100, range=[0,5], alpha=0.3, label='Initial Flags')\n",
    "a=hist(flags_interp, bins=100, range=[0,5], alpha=0.3, label='Brute Interpolated Flags')\n",
    "a=hist(flags_interp_best, bins=100, range=[0,5], alpha=0.3, label='Brute Interpolated Flags')\n",
    "yscale('log')\n",
    "xlabel('Flag value')\n",
    "legend()"
   ]
  },
  {
   "cell_type": "code",
   "execution_count": null,
   "id": "735dc4d5",
   "metadata": {},
   "outputs": [],
   "source": []
  }
 ],
 "metadata": {
  "kernelspec": {
   "display_name": "Python 3 (ipykernel)",
   "language": "python",
   "name": "python3"
  }
 },
 "nbformat": 4,
 "nbformat_minor": 5
}
