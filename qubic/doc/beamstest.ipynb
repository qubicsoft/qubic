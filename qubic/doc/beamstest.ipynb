{
 "cells": [
  {
   "cell_type": "markdown",
   "id": "232b469e",
   "metadata": {},
   "source": [
    "# Test different beams \n",
    "This code plots the beam profiles for the 3 possible values of the dictionary entry 'beam_shape' at 150 and 220 GHz'"
   ]
  },
  {
   "cell_type": "code",
   "execution_count": null,
   "id": "fe03dfa6",
   "metadata": {},
   "outputs": [],
   "source": [
    "from __future__ import division, print_function\n",
    "\n",
    "%matplotlib inline\n",
    "import os\n",
    "import qubic\n",
    "import healpy as hp\n",
    "import numpy as np\n",
    "import pylab as plt\n",
    "import matplotlib as mpl"
   ]
  },
  {
   "cell_type": "code",
   "execution_count": null,
   "id": "3f517403",
   "metadata": {},
   "outputs": [],
   "source": [
    "d = qubic.qubicdict.qubicDict()\n",
    "\n",
    "# Choose her your favourite dictionary \n",
    "d.read_from_file('../dicts/pipeline_demo.dict')\n",
    "d['config'] = 'FI'\n",
    "# Number of sub frequencies to be plotted for 'multi_freq' beam\n",
    "# can be chosen arbitrarily\n",
    "d['nf_sub'] = 3\n",
    "\n",
    "theta_max = 30\n",
    "theta_deg = (np.arange(101)-50) * 0.6\n",
    "theta = abs(np.deg2rad(theta_deg))\n",
    "\n",
    "if d['config'] == 'FI': \n",
    "    nubands = ['150', '220']\n",
    "elif d['config'] == 'TD':\n",
    "    nubands = ['150', ]\n",
    "beam_shapes = [ 'gaussian', 'fitted_beam', 'multi_freq']\n",
    "\n",
    "beam_dict = {'gaussian':  'Gaussian', 'fitted_beam': 'Multi-gaussian fitted',\n",
    "                       'multi_freq': 'Multifrequency spline fitted'}"
   ]
  },
  {
   "cell_type": "code",
   "execution_count": null,
   "id": "fae5a504",
   "metadata": {},
   "outputs": [],
   "source": [
    "# Loop on beam shapes\n",
    "for bs in beam_shapes:\n",
    "    d['beam_shape'] = bs\n",
    "    beam_profile = beam_dict[bs]  + ' beam'\n",
    "\n",
    "    if (d['beam_shape'] == 'gaussian') or  (d['beam_shape'] == 'fitted_beam'):\n",
    "        plt.figure(d['beam_shape'])\n",
    "        # Loop on 150 and 220 GHz frequency bands\n",
    "        for inu, nu_band in enumerate(nubands) :\n",
    "            d['filter_nu'] = float(nu_band) * 1e9\n",
    "            print(nu_band, d['beam_shape'])\n",
    "            q = qubic.QubicInstrument(d)\n",
    "            plt.semilogy(theta_deg, q.primary_beam(theta, 0), label=nu_band+' GHz' )\n",
    "            plt.legend(loc='best')\n",
    "            plt.xlabel('theta deg')\n",
    "            plt.ylim(4.6e-5, 1.6)\n",
    "        plt.suptitle(beam_profile, fontsize=16)\n",
    "    elif d['beam_shape'] =='multi_freq':\n",
    "        plt.figure(d['beam_shape'], figsize=[12.8, 4.8])        \n",
    "        # Loop on 150 and 220 GHz frequency bands\n",
    "        for inu, nu_band in enumerate(nubands) :\n",
    "            d['filter_nu'] = float(nu_band) * 1e9\n",
    "            # Creation of a multi-band-instrument with d['nf_sub']  sub-bands\n",
    "            q = qubic.QubicMultibandInstrument(d)\n",
    "            isub = inu+1\n",
    "            plt.subplot(1,2,isub)\n",
    "            # Loop on the sub-bands\n",
    "            for i in range(len(q)):\n",
    "                nu = str(int(q[i].filter.nu / 1e9)) + ' GHz'\n",
    "                plt.semilogy(theta_deg, q[i].primary_beam(theta, 0), label=nu )\n",
    "                plt.legend(loc='best')\n",
    "                plt.xlabel('theta deg')\n",
    "                plt.title(nu_band + ' GHz band')\n",
    "                plt.ylim(4.6e-5, 1.6)\n",
    "        plt.suptitle(beam_profile, fontsize=16)        "
   ]
  },
  {
   "cell_type": "code",
   "execution_count": null,
   "id": "f0e8839d",
   "metadata": {},
   "outputs": [],
   "source": []
  }
 ],
 "metadata": {
  "kernelspec": {
   "display_name": "Python 3 (ipykernel)",
   "language": "python",
   "name": "python3"
  }
 },
 "nbformat": 4,
 "nbformat_minor": 5
}
