{
 "cells": [
  {
   "cell_type": "markdown",
   "id": "2ba1d2fe",
   "metadata": {},
   "source": [
    "# Detector layout\n",
    "\n",
    "Edited by Louise, 09-11-2020\n",
    "\n",
    "This notebook explains how the QUBIC detector layout is defined in QUBIC soft. "
   ]
  },
  {
   "cell_type": "code",
   "execution_count": null,
   "id": "c37df1dd",
   "metadata": {},
   "outputs": [],
   "source": [
    "from __future__ import division, print_function\n",
    "\n",
    "%matplotlib inline\n",
    "%matplotlib notebook\n",
    "\n",
    "import numpy as np\n",
    "from astropy.io import fits\n",
    "import matplotlib.pyplot as plt\n",
    "\n",
    "from qubicpack.utilities import Qubic_DataDir\n",
    "import qubic\n",
    "\n",
    "plt.rcParams['figure.figsize'] = (12, 6)"
   ]
  },
  {
   "cell_type": "code",
   "execution_count": null,
   "id": "9825c8bd",
   "metadata": {},
   "outputs": [],
   "source": [
    "# Use a tool from qubicpack to get a path\n",
    "basedir = Qubic_DataDir(datafile='instrument.py', ) \n",
    "print('basedir : ', basedir)\n",
    "\n",
    "# Get a dictionary\n",
    "dictfilename = basedir + '/dicts/global_source_oneDet.dict'\n",
    "d = qubic.qubicdict.qubicDict()\n",
    "d.read_from_file(dictfilename)\n",
    "print(d['detarray'])\n",
    "\n",
    "d['MultiBand'] = False\n",
    "d['nf_sub'] = 1\n",
    "\n",
    "# Choose TD or FI\n",
    "config = 'TD'\n",
    "d['config'] = config"
   ]
  },
  {
   "cell_type": "markdown",
   "id": "914b8531",
   "metadata": {},
   "source": [
    "## Look at the DetArray calibration file\n",
    "\n",
    "It is a .fits. There is one for the TD and one for the FI. "
   ]
  },
  {
   "cell_type": "code",
   "execution_count": null,
   "id": "3a9cba22",
   "metadata": {},
   "outputs": [],
   "source": [
    "hdu = fits.open(basedir + 'calfiles/CalQubic_DetArray_v4_' + config + '.fits')\n",
    "print(hdu.info())\n",
    "\n"
   ]
  },
  {
   "cell_type": "markdown",
   "id": "a5359530",
   "metadata": {},
   "source": [
    "Look at the header:"
   ]
  },
  {
   "cell_type": "code",
   "execution_count": null,
   "id": "032ad04b",
   "metadata": {},
   "outputs": [],
   "source": [
    "hdu[0].header"
   ]
  },
  {
   "cell_type": "markdown",
   "id": "360d8043",
   "metadata": {},
   "source": [
    "The frame used is ONAFP:"
   ]
  },
  {
   "cell_type": "code",
   "execution_count": null,
   "id": "ca4608dd",
   "metadata": {},
   "outputs": [],
   "source": [
    "hdu[0].header['FRAME']"
   ]
  },
  {
   "cell_type": "code",
   "execution_count": null,
   "id": "feb0b776",
   "metadata": {},
   "outputs": [],
   "source": [
    "# Center of each bolometer\n",
    "center = hdu['center'].data\n",
    "x = center[:, :, 0]\n",
    "y = center[:, :, 1]\n",
    "\n",
    "# Corners of each bolo\n",
    "corner = hdu['corner'].data\n",
    "\n",
    "quadrant = hdu['quadrant'].data\n",
    "ordering = hdu['ordering'].data\n",
    "removed = hdu['removed'].data\n",
    "efficiency = hdu['efficiency'].data\n",
    "\n",
    "plt.subplots(2, 2, figsize=(12, 10))\n",
    "plt.suptitle('Detector Array Calibration file defined in ONAFP.')\n",
    "plt.subplot(221)\n",
    "plt.pcolor(x, y, quadrant)\n",
    "plt.title('Quadrant')\n",
    "plt.xlabel('X_ONAFP')\n",
    "plt.ylabel('Y_ONAFP')\n",
    "plt.colorbar()\n",
    "\n",
    "plt.subplot(222)\n",
    "plt.pcolor(x, y, ordering)\n",
    "plt.title('Ordering')\n",
    "plt.xlabel('X_ONAFP')\n",
    "plt.ylabel('Y_ONAFP')\n",
    "plt.colorbar()\n",
    "\n",
    "plt.subplot(223)\n",
    "plt.pcolor(x, y, removed)\n",
    "plt.title('Removed')\n",
    "plt.xlabel('X_ONAFP')\n",
    "plt.ylabel('Y_ONAFP')\n",
    "plt.colorbar()\n",
    "\n",
    "plt.subplot(224)\n",
    "plt.pcolor(x, y, efficiency)\n",
    "plt.title('Efficiency')\n",
    "plt.xlabel('X_ONAFP')\n",
    "plt.ylabel('Y_ONAFP')\n",
    "plt.colorbar()"
   ]
  },
  {
   "cell_type": "code",
   "execution_count": null,
   "id": "6398ea63",
   "metadata": {},
   "outputs": [],
   "source": [
    "# vertex contains the coordinates of the 4 TES corners. \n",
    "vertex = hdu['corner'].data\n",
    "print(vertex.shape)\n",
    "\n",
    "plt.figure(figsize=(6, 6))\n",
    "for i in range(4):\n",
    "    xvertex = vertex[:, :, i, 0].flatten()\n",
    "    yvertex = vertex[:, :, i, 1].flatten()\n",
    "    plt.scatter(xvertex, yvertex, marker='.')\n",
    "    plt.title('TES Corners')\n",
    "    plt.xlabel('X_ONAFP [m]')\n",
    "    plt.ylabel('Y_ONAFP [m]')"
   ]
  },
  {
   "cell_type": "markdown",
   "id": "5b657ed7",
   "metadata": {},
   "source": [
    "## A simple example using `PackedTable` from `pysimulators`\n",
    "\n",
    "The instanciation of the detector layout in the Qubic soft is done with a `PackedTable` object.\n",
    "\n",
    "The documentation is very well written in `core.py`. I just reproduce it here.\n",
    "\n",
    "The PackedTable class gathers information from a set of elements which can have a multi-dimensional layout. This information can transparently be accessed as packed or unpacked arrays.\n",
    "\n",
    "Example\n",
    "-------\n",
    "Let's consider a 3x3 array of detectors, in which the top-left detector\n",
    "is not working. We will define a mask to flag this detector."
   ]
  },
  {
   "cell_type": "code",
   "execution_count": null,
   "id": "233e364d",
   "metadata": {},
   "outputs": [],
   "source": [
    "from pysimulators import PackedTable\n",
    "selection = [[True, True, False],\n",
    "             [True, True, True],\n",
    "             [True, True, True]]\n",
    "gain = [[1.0, 1.2, 1.5],\n",
    "        [0.9, 1.0, 1.0],\n",
    "        [0.8, 1.0, 1.0]]\n",
    "\n",
    "table = PackedTable((3, 3), selection=selection, gain=gain)"
   ]
  },
  {
   "cell_type": "markdown",
   "id": "67580a53",
   "metadata": {},
   "source": [
    "Only the values for the selected detectors are stored, in 1-dimensional arrays:"
   ]
  },
  {
   "cell_type": "code",
   "execution_count": null,
   "id": "5111f8ed",
   "metadata": {},
   "outputs": [],
   "source": [
    "table.gain"
   ]
  },
  {
   "cell_type": "markdown",
   "id": "af47517f",
   "metadata": {},
   "source": [
    "But the 2-dimensional table can be recovered:"
   ]
  },
  {
   "cell_type": "code",
   "execution_count": null,
   "id": "a53bf11c",
   "metadata": {},
   "outputs": [],
   "source": [
    "table.all.gain"
   ]
  },
  {
   "cell_type": "markdown",
   "id": "0d25ac0e",
   "metadata": {},
   "source": [
    "The number of selected detectors is:"
   ]
  },
  {
   "cell_type": "code",
   "execution_count": null,
   "id": "ca4bfe6a",
   "metadata": {},
   "outputs": [],
   "source": [
    "len(table)"
   ]
  },
  {
   "cell_type": "markdown",
   "id": "c2faaf42",
   "metadata": {},
   "source": [
    "and the number of all detectors is:"
   ]
  },
  {
   "cell_type": "code",
   "execution_count": null,
   "id": "8a993f64",
   "metadata": {},
   "outputs": [],
   "source": [
    "len(table.all)"
   ]
  },
  {
   "cell_type": "markdown",
   "id": "c2c3b329",
   "metadata": {},
   "source": [
    "Now, let's have a more complex example: an array of detectors made of 4 identical 3x3 subarrays in which one corner detector is blind and for which we will define an indexing scheme. The first subarray is placed on the upper right quadrant and the position of the other arrays is obtained by rotating the first array by 90, 180 and 270 degrees.\n",
    "\n",
    "A natural indexing, the one used in the Calfiles for the QUBIC focal plane, would be given by:"
   ]
  },
  {
   "cell_type": "code",
   "execution_count": null,
   "id": "ec4aa2b4",
   "metadata": {},
   "outputs": [],
   "source": [
    "ordering = [[-1, 14, 17,  0,  1, -1],\n",
    "            [10, 13, 16,  3,  4,  5],\n",
    "            [ 9, 12, 15,  6,  7,  8],\n",
    "            [26, 25, 24, 33, 30, 27],\n",
    "            [23, 22, 21, 34, 31, 28],\n",
    "            [-1, 19, 18, 35, 32, -1]]"
   ]
  },
  {
   "cell_type": "markdown",
   "id": "bfec05b6",
   "metadata": {},
   "source": [
    "The following mask only keeps the 2 subarrays on the left:"
   ]
  },
  {
   "cell_type": "code",
   "execution_count": null,
   "id": "003a1a8f",
   "metadata": {},
   "outputs": [],
   "source": [
    "selection = [[ True,  True,  True, False, False, False],\n",
    "             [ True,  True,  True, False, False, False],\n",
    "             [ True,  True,  True, False, False, False],\n",
    "             [ True,  True,  True, False, False, False],\n",
    "             [ True,  True,  True, False, False, False],\n",
    "             [ True,  True,  True, False, False, False]]\n",
    "\n",
    "table = PackedTable((6, 6), selection=selection, ordering=ordering)"
   ]
  },
  {
   "cell_type": "markdown",
   "id": "796019f0",
   "metadata": {},
   "source": [
    "Then, the numbering of the table fields follows the list of selected indices stored in:"
   ]
  },
  {
   "cell_type": "code",
   "execution_count": null,
   "id": "ce5dfbad",
   "metadata": {},
   "outputs": [],
   "source": [
    "print(table.index)"
   ]
  },
  {
   "cell_type": "markdown",
   "id": "7e26e021",
   "metadata": {},
   "source": [
    "which are the 1d-collapsed indices of the following array coordinates:"
   ]
  },
  {
   "cell_type": "code",
   "execution_count": null,
   "id": "d5cb95e8",
   "metadata": {},
   "outputs": [],
   "source": [
    "print([(i // 6, i % 6) for i in table.index])"
   ]
  },
  {
   "cell_type": "code",
   "execution_count": null,
   "id": "752bceda",
   "metadata": {},
   "outputs": [],
   "source": [
    "plt.subplots(1, 3)\n",
    "plt.subplot(131)\n",
    "plt.imshow(ordering)\n",
    "plt.title('Ordering')\n",
    "plt.colorbar()\n",
    "\n",
    "plt.subplot(132)\n",
    "plt.imshow(selection)\n",
    "plt.title('Selection')\n",
    "plt.colorbar()\n",
    "\n",
    "plt.subplot(133)\n",
    "plt.imshow(table.all.index)\n",
    "plt.title('Index')\n",
    "plt.colorbar()"
   ]
  },
  {
   "cell_type": "markdown",
   "id": "32919006",
   "metadata": {},
   "source": [
    "## Get the same from a Qubic Instrument\n",
    "\n",
    "The same information (center, efficiency, vertex=corners, removed...) and more are accessible with ```q.detector.``` which is a `Layout` object.\n",
    "\n",
    "When you initialize a QubicInstrument, the detector layout is built with `_get_detector_layout()` from `instrument.py`. This function reads the calibration fits file with:\n",
    "\n",
    "`shape, vertex, removed, index, quadrant, efficiency = self.calibration.get('detarray')`\n",
    "This method is defined in `calibration.py`. In this function, we make a pi/2 rotation from ONAFP to GRF frame. \n",
    "\n",
    "!!! **The calibration file is defined in the ONAFP frame. However, QUBIC soft works in the GRF frame. For this reason there is a pi/2 rotation between the following plots and the previous ones from the calibration file.** \n",
    "\n",
    "Then, it instanciates a `Layout()` object of `pysimulators` (see `layouts.py`) which is actually a class that inherites from the `PackedTable()` we studied above.\n",
    "\n"
   ]
  },
  {
   "cell_type": "code",
   "execution_count": null,
   "id": "ccde34ff",
   "metadata": {},
   "outputs": [],
   "source": [
    "# Make a QUBIC intrument\n",
    "q = qubic.QubicInstrument(d)\n",
    "\n",
    "# Look at what q.detector contains\n",
    "from pprint import pprint\n",
    "pprint(vars(q.detector))"
   ]
  },
  {
   "cell_type": "markdown",
   "id": "f39f1707",
   "metadata": {},
   "source": [
    "The `Layout()` class provides a method to plot the detector array:"
   ]
  },
  {
   "cell_type": "code",
   "execution_count": null,
   "id": "5e049080",
   "metadata": {},
   "outputs": [],
   "source": [
    "plt.figure(figsize=(6,4))\n",
    "q.detector.plot(fill=True)\n",
    "plt.title('Detector Array in the GRF frame')\n",
    "plt.xlabel('X_GRF')\n",
    "plt.ylabel('Y_GRF')"
   ]
  },
  {
   "cell_type": "markdown",
   "id": "86a7b735",
   "metadata": {},
   "source": [
    "#### Look at the quadrants: \n",
    "\n",
    "!!!! Difference between ```q.detector.all.``` and `q.detector.`:\n",
    "\n",
    "   - `q.detector.` is always a 1D array where only the selected detectors are saved. For example, for the TD, you will have only 248 elements.\n",
    "\n",
    "   - `q.detector.all` is a 2D array (34x34) with all the detectors.\n",
    "\n",
    "So you can plot the same using `plt.scatter` or `plt.pcolor`."
   ]
  },
  {
   "cell_type": "code",
   "execution_count": null,
   "id": "ba783e04",
   "metadata": {},
   "outputs": [],
   "source": [
    "xGRF = q.detector.center[:, 0]\n",
    "yGRF = q.detector.center[:, 1]\n",
    "quadrant = q.detector.quadrant\n",
    "print(xGRF.shape, quadrant.shape)\n",
    "\n",
    "xGRF_2D = q.detector.all.center[:, :, 0]\n",
    "yGRF_2D = q.detector.all.center[:, :, 1]\n",
    "quadrant_2D = q.detector.all.quadrant\n",
    "print(xGRF_2D.shape, quadrant_2D.shape)\n",
    "\n",
    "plt.subplots(1, 2, figsize=(10, 4))\n",
    "\n",
    "plt.subplot(121)\n",
    "plt.scatter(xGRF, yGRF, c=quadrant, s=100, marker='s')\n",
    "plt.title('Index q.detector')\n",
    "plt.xlabel('X_GRF')\n",
    "plt.ylabel('Y_GRF')\n",
    "plt.colorbar()\n",
    "\n",
    "plt.subplot(122)\n",
    "plt.pcolor(xGRF_2D, yGRF_2D, quadrant_2D)\n",
    "plt.title('Index q.detector.all')\n",
    "plt.xlabel('X_GRF')\n",
    "plt.ylabel('Y_GRF')\n",
    "plt.colorbar()"
   ]
  },
  {
   "cell_type": "markdown",
   "id": "2ccc934a",
   "metadata": {},
   "source": [
    "#### Detector indices"
   ]
  },
  {
   "cell_type": "code",
   "execution_count": null,
   "id": "be7db7ba",
   "metadata": {},
   "outputs": [],
   "source": [
    "index = q.detector.index\n",
    "index_2D = q.detector.all.index\n",
    "\n",
    "plt.subplots(1, 2, figsize=(11, 4))\n",
    "\n",
    "plt.subplot(121)\n",
    "plt.scatter(xGRF, yGRF, c=index, s=100, marker='s')\n",
    "plt.title('Index with q.detector')\n",
    "plt.xlabel('X_GRF')\n",
    "plt.ylabel('Y_GRF')\n",
    "plt.colorbar()\n",
    "\n",
    "plt.subplot(122)\n",
    "plt.pcolor(xGRF_2D, yGRF_2D, index_2D)\n",
    "plt.title('Index with q.detector.all')\n",
    "plt.xlabel('X_GRF')\n",
    "plt.ylabel('Y_GRF')\n",
    "plt.colorbar()"
   ]
  },
  {
   "cell_type": "markdown",
   "id": "73480e89",
   "metadata": {},
   "source": [
    "#### Back to the ONAFP frame\n",
    "\n",
    "There is a $-pi/2$ rotation from $R_{GRF}$ to $R_{ONAFP}$ where $R$ means the referential. So we must apply a $+pi/2$ rotation on the $(x, y)_{GRF}$ coordinates to get the $(x, y)_{ONAFP}$ coordinates:"
   ]
  },
  {
   "cell_type": "code",
   "execution_count": null,
   "id": "d63a87e4",
   "metadata": {},
   "outputs": [],
   "source": [
    "xONAFP = - yGRF\n",
    "yONAFP = xGRF\n",
    "\n",
    "xONAFP_2D = - yGRF_2D\n",
    "yONAFP_2D = xGRF_2D"
   ]
  },
  {
   "cell_type": "code",
   "execution_count": null,
   "id": "23029ed0",
   "metadata": {},
   "outputs": [],
   "source": [
    "plt.subplots(1, 2, figsize=(11, 4))\n",
    "\n",
    "plt.subplot(121)\n",
    "plt.scatter(xONAFP, yONAFP, c=index, s=100, marker='s')\n",
    "plt.title('Index with q.detector')\n",
    "plt.xlabel('X_ONAFP')\n",
    "plt.ylabel('Y_ONAFP')\n",
    "plt.colorbar()\n",
    "\n",
    "plt.subplot(122)\n",
    "plt.pcolor(xONAFP_2D, yONAFP_2D, index_2D)\n",
    "plt.title('Index with q.detector.all')\n",
    "plt.xlabel('X_ONAFP')\n",
    "plt.ylabel('Y_ONAFP')\n",
    "plt.colorbar()"
   ]
  },
  {
   "cell_type": "code",
   "execution_count": null,
   "id": "55242476",
   "metadata": {},
   "outputs": [],
   "source": [
    "plt.figure()\n",
    "plt.pcolor(xONAFP_2D, yONAFP_2D, q.detector.all.quadrant)\n",
    "plt.colorbar()"
   ]
  },
  {
   "cell_type": "code",
   "execution_count": null,
   "id": "d59dccf9",
   "metadata": {},
   "outputs": [],
   "source": []
  }
 ],
 "metadata": {
  "kernelspec": {
   "display_name": "Python 3",
   "language": "python",
   "name": "python3"
  }
 },
 "nbformat": 4,
 "nbformat_minor": 5
}
