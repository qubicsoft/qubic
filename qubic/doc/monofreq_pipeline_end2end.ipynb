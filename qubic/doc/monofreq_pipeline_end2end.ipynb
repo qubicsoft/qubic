{
 "cells": [
  {
   "cell_type": "markdown",
   "id": "c3de01ae",
   "metadata": {},
   "source": [
    "# QUBIC monofrequency pipeline\n",
    "\n",
    "#### Edited by Martín Gamboa, 2022/08/11\n",
    "#### Edited by Louise Mousset, 2019/11/29\n",
    "\n",
    "This notebook shows the typical pipeline for data simulation and analysis. There are 2 parts :\n",
    "* From a given sky map, simulate Time Order Data (TOD) \n",
    "* From those TOD, perform Map Making to reconstruct the input sky map\n",
    "\n",
    "Here we work with only one frequency band.\n",
    "\n",
    "Style programming guide acording: this link ([qubic wiki](http://qubic.in2p3.fr/wiki/uploads/SimulationsWorkingGroup/20210311OnZoom/collaborative_coding.pdf))"
   ]
  },
  {
   "cell_type": "code",
   "execution_count": null,
   "id": "4b41c468",
   "metadata": {},
   "outputs": [],
   "source": [
    "##Loading modules. \n",
    "\n",
    "# General modules\n",
    "from __future__ import division, print_function\n",
    "%matplotlib inline\n",
    "import os\n",
    "import sys\n",
    "import time\n",
    "import datetime\n",
    "import shutil\n",
    "from warnings import warn\n",
    "\n",
    "# Specific science modules\n",
    "import healpy as hp\n",
    "import numpy as np\n",
    "import matplotlib.pyplot as plt\n",
    "\n",
    "# Specific qubic modules\n",
    "import pysm3\n",
    "import qubic\n",
    "from qubicpack.utilities import Qubic_DataDir\n",
    "from pysimulators import FitsArray\n",
    "\n",
    "from qubic import SpectroImLib as si\n",
    "from pysm3 import models\n",
    "from qubic import QubicSkySim as qss\n",
    "\n",
    "plt.rc('figure', figsize = (13, 10))\n",
    "plt.rc('font', size = 13)"
   ]
  },
  {
   "cell_type": "code",
   "execution_count": null,
   "id": "09fb1f3a",
   "metadata": {},
   "outputs": [],
   "source": [
    "# Repository for dictionary\n",
    "dictfilename = 'explanatory.dict'\n",
    "\n",
    "# Read dictionary chosen\n",
    "d = qubic.qubicdict.qubicDict()\n",
    "d.read_from_file(dictfilename)\n",
    "\n",
    "# Set nf_sub to 1 to be in the monofreq case\n",
    "d['nf_sub'] = 1\n",
    "\n",
    "# No spectroimaging\n",
    "d['nf_recon'] = 1\n",
    "\n",
    "# Center of the patch observed in galactic coordinates\n",
    "# because the pointing strategy is not in horizontal coordinates (only sweeping pointing it is)\n",
    "# the center of the FOV has to be in galactic coordinates\n",
    "center = qubic.equ2gal(d['RA_center'], d['DEC_center'])\n",
    "print(center)\n",
    "d['effective_duration'] = 4\n",
    "# Adjust some parameters in the dictionary\n",
    "d['npointings'] = 3000\n",
    "d['tol'] = 1e-5\n",
    "d['filter_nu'] = 150e9\n",
    "# source of noise: photon noise + detector noise. In this case we neglect photon noise\n",
    "d['photon_noise'] = False\n",
    "d['noiseless'] = False\n",
    "\n",
    "print('Central frequency', d['filter_nu'])\n",
    "print('NEP (detector)', d['detector_nep'])\n",
    "print('photon noise?', d['photon_noise'])\n",
    "print('Instrument (TD or FI)', d['config'])\n",
    "print('Scan duration', d['effective_duration'])"
   ]
  },
  {
   "cell_type": "markdown",
   "id": "4c250f83",
   "metadata": {},
   "source": [
    "# Input sky\n",
    "### Some words about maps.\n",
    "\n",
    "In this case we read a map $X_0$ simulated previously which contains fluctuations in temperature and polarization. Because we are using Healpy module (HEALPix implemented in Python) the number of pixels of each map has to be $$n_{pix} = 12 \\times N_{side}^2$$ where $N_{side} = 2^j, \\qquad j = 1,2,... $."
   ]
  },
  {
   "cell_type": "code",
   "execution_count": null,
   "id": "fd620f5d",
   "metadata": {},
   "outputs": [],
   "source": [
    "# Make a sky using PYSM\n",
    "### Pick one of these:\n",
    "seed = 42\n",
    "sky_config = {'CMB': 'c1'} ### CMB Only\n",
    "#sky_config = {'cmb': seed, 'dust':'d1'}   ### CMB + Dust\n",
    "\n",
    "### Generate the maps at each sub-frequency\n",
    "Qubic_sky = qss.Qubic_sky(sky_config, d)\n",
    "input_map = Qubic_sky.get_simple_sky_map()\n",
    "\n",
    "print('sky shape: ', input_map.shape)\n",
    "\n",
    "# Look at the input sky maps using Healpy\n",
    "istokes = 0 # Stokes parameter (I, Q, U)\n",
    "rr = 9 # Resolution in arcmin\n",
    "\n",
    "plt.figure(figsize=(13,8))\n",
    "for istk in range(3):\n",
    "    plt.subplots_adjust(wspace=0.9)\n",
    "    hp.mollview(input_map[0, :,istk], cmap = 'jet', sub = (3, 2, 2 * istk + 1), \n",
    "                title = 'Mollview {0} Stokes parameter'.format(d['kind'][istk]))\n",
    "    hp.gnomview(input_map[0, :,istk], cmap = 'jet', sub = (3, 2, 2 * istk + 2), \n",
    "                rot = center, reso = rr, \n",
    "                title = 'Gnomview {0} Stokes parameter'.format(d['kind'][istk]))"
   ]
  },
  {
   "cell_type": "markdown",
   "id": "29173a6a",
   "metadata": {},
   "source": [
    "# Time Ordered Data (TOD) simulation\n",
    "\n",
    "TOD are the signal as a function of time for each bolometer.\n",
    "\n",
    "$$TOD = AS + n$$\n",
    "\n",
    "where $A$ is the pointing matrix, $S$ the sky and $n$ the noise."
   ]
  },
  {
   "cell_type": "code",
   "execution_count": null,
   "id": "3ed64929",
   "metadata": {},
   "outputs": [],
   "source": [
    "# Pointing strategy\n",
    "pointing = qubic.get_pointing(d)\n",
    "print('=== Pointing DONE! ===')\n",
    "\n",
    "# Model of the scene at the time of observation\n",
    "scene = qubic.QubicScene(d)\n",
    "\n",
    "# Create a monofrequency Instrument.\n",
    "qinst = qubic.QubicInstrument(d)\n",
    "\n",
    "sizeoperators = d['npointings'] * len(qinst) * ((2 * d['synthbeam_kmax']+ 1)**2) * 16/1024**3\n",
    "sizeoperators = d['nf_sub']*sizeoperators\n",
    "confirm = input(\"you will use {:4.3f}Gb, do you want ot continue?\".format(sizeoperators))\n",
    "confirm = bool(confirm)\n",
    "if (confirm == 1) or (confirm == True): \n",
    "    warn(\"(re)Demodulation confirmed! \")\n",
    "else:\n",
    "    sys.exit(\"Stopped!\")\n",
    "                \n",
    "# Create an acquisition operator which combines all relevant information\n",
    "#scene, instrument configuration and pointing strategy. \n",
    "acq = qubic.QubicAcquisition(qinst, pointing, scene, d)\n",
    "\n",
    "# Monofreq TOD making\n",
    "TOD, maps_convolved = acq.get_observation(input_map[0], noiseless = d['noiseless'])#, convolution = True)\n",
    "\n",
    "print('TOD shape: ', TOD.shape)\n",
    "print('maps conv shape: ', maps_convolved.shape)"
   ]
  },
  {
   "cell_type": "code",
   "execution_count": null,
   "id": "49b19ac2",
   "metadata": {},
   "outputs": [],
   "source": [
    "# Look at TOD for one TES\n",
    "print('--------- TOD with shape (#detectors, #pointings) : {} '.format(np.shape(TOD)))\n",
    "\n",
    "tes = 6\n",
    "plt.plot(TOD[tes, :], label='TES {}'.format(tes))\n",
    "plt.xlabel('Pointing index')\n",
    "plt.ylabel(f'TOD from TES {tes} [W]')\n",
    "plt.title('FI - {}GHz - Noiseless={} CMB - STD = {:.4} W'.format(int(d['filter_nu']/1e9),\n",
    "                                                                 d['noiseless'], \n",
    "                                                                 np.std(TOD)))"
   ]
  },
  {
   "cell_type": "markdown",
   "id": "51621810",
   "metadata": {},
   "source": [
    "### About memory used \n",
    "For end-2-end simulations, the dificulty is the memory requirement. This is why for large number of pointings, you need to parallelize on several machines. The Qubic soft is written in order that parallelization is possible.\n",
    "\n",
    "During TOD making and map-making, you see this line printed:\n",
    "\n",
    "    Info shaka: Allocating (2976000,9) elements = 408.69140625 MiB in FSRRotation3dMatrix.__init__.\n",
    "\n",
    "This is the size of the pointing matrix A. The shape is $(N_{det} x N_{ptgs}, N_{peaks})$ where $N_{det}$ is the number of bolometers (992 for the FI and 248 for the TD), $N_{ptgs}$ the number of pointings and $N_{peaks}$ the number of peaks taken into account in the synthetic beam. \n",
    "\n",
    "$N_{peaks}$ is fixed by the synthbeam kmax and the synthbeam fraction both defined in the dictionary.\n",
    "\n",
    "If the synthbeam fraction is one then $N_{peaks} = (2 \\times kmax+1)^2$. Each peak has a given integral, they get smaller as kmax increases. The synthbeam fraction is the fraction of the total integral (over all the peaks) which corresponds to the number of peaks you keep.\n",
    "\n",
    "**Example**:\n",
    "\n",
    "    For 9 peaks, with the following repartition: \n",
    "        * central peak 50\\% of the power in its integral\n",
    "        * the 4 forming the nearest cross are each 10\\%\n",
    "        * the 4 furthest one each 2.5\\%\n",
    "    Then for $sb_frac = 0.9$, the 4 furthest ones will be eliminated. \n",
    "\n",
    "Finally, with $N_{ptgs} = 3000$, $(N_{det}=992$, $kmax=1$ and $sb_frac=1$, the shape of A is (2976000,9).\n",
    "\n",
    "The **size in MiB** will be: "
   ]
  },
  {
   "cell_type": "code",
   "execution_count": null,
   "id": "28437ddf",
   "metadata": {},
   "outputs": [],
   "source": [
    "Ndet = len(qinst.detector.index) # Number of detectors\n",
    "Size = Ndet * d['npointings'] * 9 * 16\n",
    "print('Size of A:', Size, 'bits')\n",
    "print('Size of A:', Size/(1024**2), 'MiB')"
   ]
  },
  {
   "cell_type": "markdown",
   "id": "27a0623b",
   "metadata": {},
   "source": [
    "Note that in case **polyacquisition** (several frequency bands), there is one operator A for each band so the memory required is proportionnal to the number of bands.\n",
    "\n",
    "Last remark, if you run on several machines **in parallel**, for example at NERSC or at CC-in2p3, the memory is split between the machines. So in the calculation above, you need to divide by the number of machines in order to understand the print:\n",
    "    \n",
    "    $ Info moussetDell: Allocating (2976000,9) elements = 408.69140625 MiB in FSRRotation3dMatrix.__init__.\n",
    "\n",
    "\n",
    "# Coverage map"
   ]
  },
  {
   "cell_type": "code",
   "execution_count": null,
   "id": "c6a4a205",
   "metadata": {},
   "outputs": [],
   "source": [
    "# Get coverage map\n",
    "# i.e. how many times were seen each pixel of the sky (not trivial because of the synthetic beam)\n",
    "cov_map = acq.get_coverage()\n",
    "\n",
    "print(cov_map.shape)\n",
    "hp.mollview(cov_map)"
   ]
  },
  {
   "cell_type": "code",
   "execution_count": null,
   "id": "788c05fc",
   "metadata": {},
   "outputs": [],
   "source": [
    "# Check the pointing and the coverage coincide\n",
    "theta = pointing.galactic[:, 0]\n",
    "phi = pointing.galactic[:, 1]\n",
    "nside = d['nside']\n",
    "\n",
    "pix = hp.ang2pix(nside, theta, phi, lonlat=True)\n",
    "ptg_map = np.zeros(12 * nside**2)\n",
    "ptg_map[pix] = 200\n",
    "hp.mollview(ptg_map + cov_map)"
   ]
  },
  {
   "cell_type": "code",
   "execution_count": null,
   "id": "8ba103c3",
   "metadata": {},
   "outputs": [],
   "source": [
    "hitmap = acq.get_hitmap(d['nside'])\n",
    "hp.mollview(hitmap)"
   ]
  },
  {
   "cell_type": "markdown",
   "id": "8bce6de7",
   "metadata": {},
   "source": [
    "# Map-making"
   ]
  },
  {
   "cell_type": "code",
   "execution_count": null,
   "id": "e147f2b9",
   "metadata": {},
   "outputs": [],
   "source": [
    "# From TOD reconstruct sky maps.\n",
    "recons_map, nit, error = acq.tod2map(TOD, d, cov = cov_map)\n",
    "\n",
    "print('The shape of the reconstructed maps is (#pixels, #stokes) :', recons_map.shape)\n",
    "print('{} iterations were needed to get an error of {}'.format(nit, error))"
   ]
  },
  {
   "cell_type": "markdown",
   "id": "a4c397e7",
   "metadata": {},
   "source": [
    "# Compare input vs output"
   ]
  },
  {
   "cell_type": "code",
   "execution_count": null,
   "id": "f925aaad",
   "metadata": {},
   "outputs": [],
   "source": [
    "# Compare with the convolved maps\n",
    "diff = recons_map - maps_convolved\n",
    "print(diff.shape)\n",
    "print(recons_map.shape)"
   ]
  },
  {
   "cell_type": "code",
   "execution_count": null,
   "id": "4442873b",
   "metadata": {},
   "outputs": [],
   "source": [
    "# Keeping only the sky region which has been significantly observed\n",
    "# Pixels not seen enough are replaced by UNSEEN value\n",
    "maxcov = np.max(cov_map)\n",
    "unseen = cov_map < maxcov * 0.15\n",
    "\n",
    "maps_convolved[unseen, :] = hp.UNSEEN\n",
    "recons_map[unseen, :] = hp.UNSEEN\n",
    "diff[unseen, :] = hp.UNSEEN"
   ]
  },
  {
   "cell_type": "code",
   "execution_count": null,
   "id": "d7c28b37",
   "metadata": {},
   "outputs": [],
   "source": [
    "rr = 14 # Resolution in arcmin\n",
    "stokes = ['I', 'Q', 'U']\n",
    "plt.figure(figsize=(15, 15))\n",
    "for istokes in range(3):\n",
    "    if istokes == 0:\n",
    "        min = -200\n",
    "        max = 200\n",
    "    else:\n",
    "        min = -8\n",
    "        max = 8\n",
    "    hp.gnomview(maps_convolved[:, istokes], cmap = 'jet', \n",
    "                rot = center, sub = (3,3,3*istokes+1), reso = rr,\n",
    "                title = 'Input ' + stokes[istokes], unit = '$\\mu K_{CMB}$', \n",
    "                format = '%g',  min = min, max = max)\n",
    "    hp.gnomview(recons_map[:, istokes], cmap = 'jet',\n",
    "                rot = center, sub = (3,3,3*istokes+2), reso = rr,\n",
    "                title = 'Output ' + stokes[istokes], unit = '$\\mu K_{CMB}$', \n",
    "                min = min, max = max)\n",
    "    hp.gnomview(diff[:, istokes], cmap = 'jet', \n",
    "                rot = center, sub = (3,3,3*istokes+3), reso = rr,\n",
    "                title = 'Difference ' + stokes[istokes], unit = '$\\mu K_{CMB}$', \n",
    "                min = -2, max = 2)\n",
    "hp.graticule(dpar = 5, dmer = 5, verbose = False, alpha = 0.5)"
   ]
  },
  {
   "cell_type": "code",
   "execution_count": null,
   "id": "08a192fa",
   "metadata": {},
   "outputs": [],
   "source": [
    "seenpix = cov_map > maxcov * 0.3\n",
    "print(np.std(diff[seenpix, 2]))\n",
    "\n",
    "map_convcenter = np.copy(maps_convolved)\n",
    "map_reconcenter = np.copy(recons_map)\n",
    "diffcenter = np.copy(diff)\n",
    "\n",
    "map_convcenter[~seenpix, :] = hp.UNSEEN\n",
    "map_reconcenter[~seenpix, :] = hp.UNSEEN\n",
    "diffcenter[~seenpix, :] = hp.UNSEEN\n",
    "for istokes in range(3):\n",
    "    if istokes == 0:\n",
    "        min = None\n",
    "        max = None\n",
    "    else:\n",
    "        min = None\n",
    "        max = None\n",
    "    hp.gnomview(map_convcenter[:, istokes], cmap='jet', rot=center, sub=(3,3,3*istokes+1), reso=rr,\n",
    "                title='Input ' + stokes[istokes], notext=True, min=min, max=max)\n",
    "    hp.gnomview(map_reconcenter[:, istokes], cmap='jet',rot=center, sub=(3,3,3*istokes+2), reso=rr,\n",
    "                title='Output ' + stokes[istokes], notext=True, min=min, max=max)\n",
    "    hp.gnomview(diffcenter[:, istokes], cmap='jet',rot=center, sub=(3,3,3*istokes+3), reso=rr,\n",
    "                title='Difference ' + stokes[istokes], notext=True, min=None, max=None)"
   ]
  },
  {
   "cell_type": "code",
   "execution_count": null,
   "id": "6396b6d4",
   "metadata": {},
   "outputs": [],
   "source": []
  }
 ],
 "metadata": {
  "kernelspec": {
   "display_name": "Python 3 (ipykernel)",
   "language": "python",
   "name": "python3"
  }
 },
 "nbformat": 4,
 "nbformat_minor": 5
}
