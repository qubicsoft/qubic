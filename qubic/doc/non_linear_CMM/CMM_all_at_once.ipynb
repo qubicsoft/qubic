{
 "cells": [
  {
   "cell_type": "code",
   "execution_count": null,
   "id": "a41a8c73",
   "metadata": {},
   "outputs": [],
   "source": [
    "from non_linear_CMM import *"
   ]
  },
  {
   "cell_type": "code",
   "execution_count": null,
   "id": "5fc10ce1",
   "metadata": {},
   "outputs": [],
   "source": [
    "self = NonLinearCMM(nside=16, nside_beta=8, npointings=100, nf_sub=4)"
   ]
  },
  {
   "cell_type": "code",
   "execution_count": null,
   "id": "58dcb172",
   "metadata": {},
   "outputs": [],
   "source": [
    "residues, x = self.map_making(max_iteration=1000, tol=1e-16, sigma0=1e-3)"
   ]
  },
  {
   "cell_type": "code",
   "execution_count": null,
   "id": "53cefef9",
   "metadata": {},
   "outputs": [],
   "source": [
    "x.shape"
   ]
  },
  {
   "cell_type": "code",
   "execution_count": null,
   "id": "e9c7508f",
   "metadata": {},
   "outputs": [],
   "source": []
  }
 ],
 "metadata": {
  "kernelspec": {
   "display_name": "Python 3 (ipykernel)",
   "language": "python",
   "name": "python3"
  }
 },
 "nbformat": 4,
 "nbformat_minor": 5
}
