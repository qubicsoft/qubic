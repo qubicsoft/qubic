{
 "cells": [
  {
   "cell_type": "markdown",
   "id": "65c2b511",
   "metadata": {},
   "source": [
    "# Eigenvalue distribution of the Preconditioned Hessian matrix"
   ]
  },
  {
   "cell_type": "code",
   "execution_count": null,
   "id": "4a4d7d00",
   "metadata": {},
   "outputs": [],
   "source": [
    "from pipeline_non_linear import NonLinearPipeline"
   ]
  },
  {
   "cell_type": "markdown",
   "id": "8f56c62f",
   "metadata": {},
   "source": [
    "## Parameters"
   ]
  },
  {
   "cell_type": "code",
   "execution_count": null,
   "id": "eec157f9",
   "metadata": {},
   "outputs": [],
   "source": [
    "parameters_dict = {\n",
    "    'nside': 8,\n",
    "    'nside_beta': 4,\n",
    "    'npointings': 500,\n",
    "    'Nsub': 4,\n",
    "    'dust_level': 1, #>0\n",
    "    'dust_model': 'd1', #d0, d1 or d6\n",
    "    'dust_reconstruction': True, #bool\n",
    "    'synchrotron_level': 0, #>0\n",
    "    'synchrotron_model': 's1', #s0 or s1\n",
    "    'synchrotron_reconstruction': False, #bool\n",
    "    'frequencies_planck': [100e9, 143e9, 217e9, 353e9],\n",
    "    'noise_qubic': 0, #0.01,\n",
    "    'noise_planck': 0, #0.01,\n",
    "    'planck_coverage_level': 0.2,\n",
    "    'max_iteration': 5,\n",
    "    'pcg_tolerance': 1e-16,\n",
    "    'sigma0': 1e-3,\n",
    "    'initial_guess': None,\n",
    "    'verbose': True\n",
    "}"
   ]
  },
  {
   "cell_type": "markdown",
   "id": "72d4b08e",
   "metadata": {},
   "source": [
    "## Initialization and definition of the gradient"
   ]
  },
  {
   "cell_type": "code",
   "execution_count": null,
   "id": "ef24273c",
   "metadata": {},
   "outputs": [],
   "source": [
    "self = NonLinearPipeline(parameters_dict)"
   ]
  },
  {
   "cell_type": "code",
   "execution_count": null,
   "id": "9b3e063a",
   "metadata": {},
   "outputs": [],
   "source": [
    "grad_chi2 = self.get_grad_chi_squared_operator()"
   ]
  },
  {
   "cell_type": "code",
   "execution_count": null,
   "id": "5dbe4fe4",
   "metadata": {},
   "outputs": [],
   "source": [
    "real_sky_patch = {}\n",
    "real_sky_patch['cmb'] = self.real_sky['cmb'][self.seenpix_qubic, :].copy()\n",
    "real_sky_patch['dust'] = self.real_sky['dust'][self.seenpix_qubic, :].copy()\n",
    "real_sky_patch['beta_dust'] = self.real_sky['beta_dust'][self.seenpix_qubic_beta].copy()\n",
    "real_comp = self.component_combiner(real_sky_patch) # minimum point of the chi^2"
   ]
  },
  {
   "cell_type": "markdown",
   "id": "63ca09d1",
   "metadata": {},
   "source": [
    "## Computation of the Hessian matrix at the minimum point"
   ]
  },
  {
   "cell_type": "code",
   "execution_count": null,
   "id": "2426a41a",
   "metadata": {},
   "outputs": [],
   "source": [
    "nparameters = 6*self.npixel_patch + self.nbeta_patch\n",
    "sol = grad_chi2(real_comp)\n",
    "e = np.zeros(nparameters)\n",
    "epsilon = 1e-5\n",
    "hessian = np.empty((nparameters, nparameters))\n",
    "for i in range(nparameters):\n",
    "    if i % 20 == 0:\n",
    "        print(i)\n",
    "    e[i] = epsilon\n",
    "    hessian[i, :] = (grad_chi2(real_comp + e) - sol) / epsilon\n",
    "    e[i] = 0"
   ]
  },
  {
   "cell_type": "markdown",
   "id": "c155888d",
   "metadata": {},
   "source": [
    "## Plot of the Hessian matrix"
   ]
  },
  {
   "cell_type": "code",
   "execution_count": null,
   "id": "31c0842f",
   "metadata": {},
   "outputs": [],
   "source": [
    "plt.matshow(hessian, norm='log')"
   ]
  },
  {
   "cell_type": "markdown",
   "id": "e0054dcb",
   "metadata": {},
   "source": [
    "## Computation of  the eigenvalues of the Hessian matrix and the preconditioned one\n",
    "\n",
    "We symmetrize the matrices before the computation to help for numerical stability."
   ]
  },
  {
   "cell_type": "code",
   "execution_count": null,
   "id": "58e80741",
   "metadata": {},
   "outputs": [],
   "source": [
    "eigenvalues, eigenvectors = np.linalg.eigh((hessian.T+hessian)/2)\n",
    "eigenvalues_preconditioned, _ = np.linalg.eigh(np.diag(np.sqrt(self.HessianInverseDiagonal(real_comp))) @ ((hessian.T+hessian)/2) @ np.diag(np.sqrt(self.HessianInverseDiagonal(real_comp))))\n"
   ]
  },
  {
   "cell_type": "code",
   "execution_count": null,
   "id": "7b957eca",
   "metadata": {},
   "outputs": [],
   "source": [
    "fig, (ax1, ax2) = plt.subplots(1, 2, figsize=(15, 5))\n",
    "ax1.plot(eigenvalues[::-1])\n",
    "ax1.set_yscale('log')\n",
    "ax1.set_title('Eigenvalues of the Hessian matrix')\n",
    "ax1.set_xlabel('Eigenvalues numerotation')\n",
    "ax1.set_ylabel('Eigenvalues')\n",
    "ax2.plot(np.sort(eigenvalues_preconditioned)[::-1])\n",
    "ax2.set_yscale('log')\n",
    "ax2.set_title('Eigenvalues of the preconditioned Hessian matrix')\n",
    "ax2.set_xlabel('Eigenvalues numerotation')\n",
    "ax2.set_ylabel('Eigenvalues')\n",
    "plt.show()\n",
    "#plt.savefig('eigenvalues.pdf')\n",
    "#plt.close()"
   ]
  },
  {
   "cell_type": "markdown",
   "id": "0baf6c98",
   "metadata": {},
   "source": [
    "## Plot of the diagonal of the Hessian matrix and the approximated diagonal for preconditioning"
   ]
  },
  {
   "cell_type": "code",
   "execution_count": null,
   "id": "b0132cb4",
   "metadata": {},
   "outputs": [],
   "source": [
    "plt.plot(np.diag(hessian))\n",
    "plt.plot(1/self.HessianInverseDiagonal(real_comp))\n",
    "plt.yscale('log')"
   ]
  },
  {
   "cell_type": "markdown",
   "id": "41d8802e",
   "metadata": {},
   "source": [
    "## Plot of the ratio of both"
   ]
  },
  {
   "cell_type": "code",
   "execution_count": null,
   "id": "337b17b6",
   "metadata": {},
   "outputs": [],
   "source": [
    "plt.plot(np.diag(hessian) * self.HessianInverseDiagonal(real_comp))\n",
    "plt.yscale('log')"
   ]
  },
  {
   "cell_type": "markdown",
   "id": "654036eb",
   "metadata": {},
   "source": [
    "## Computation of the condition number of the Hessian matrix before and after preconditioning"
   ]
  },
  {
   "cell_type": "code",
   "execution_count": null,
   "id": "2012a923",
   "metadata": {},
   "outputs": [],
   "source": [
    "print(np.max(eigenvalues)/np.min(eigenvalues))\n",
    "print(np.max(eigenvalues_preconditioned)/np.min(eigenvalues_preconditioned))"
   ]
  },
  {
   "cell_type": "code",
   "execution_count": null,
   "id": "69353e60",
   "metadata": {},
   "outputs": [],
   "source": []
  }
 ],
 "metadata": {
  "kernelspec": {
   "display_name": "Python 3 (ipykernel)",
   "language": "python",
   "name": "python3"
  }
 },
 "nbformat": 4,
 "nbformat_minor": 5
}
