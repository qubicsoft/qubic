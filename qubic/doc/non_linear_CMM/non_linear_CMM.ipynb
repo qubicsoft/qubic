{
 "cells": [
  {
   "cell_type": "code",
   "execution_count": null,
   "id": "0e0a7eaf",
   "metadata": {},
   "outputs": [],
   "source": [
    "import qubic\n",
    "import scipy\n",
    "from pyoperators import *\n",
    "from time import time\n",
    "import healpy as hp\n",
    "import pysm3\n",
    "import pysm3.units as u\n",
    "\n",
    "from non_linear_pcg_preconditioned import non_linear_pcg\n",
    "\n",
    "rc('figure',figsize=(10,8))\n",
    "rc('font',size=13)"
   ]
  },
  {
   "cell_type": "code",
   "execution_count": null,
   "id": "d68ebd87",
   "metadata": {},
   "outputs": [],
   "source": [
    "from Qacquisition import QubicFullBandSystematic"
   ]
  },
  {
   "cell_type": "code",
   "execution_count": null,
   "id": "e49555bc",
   "metadata": {},
   "outputs": [],
   "source": [
    "def _get_ultrawideband_config():\n",
    "    \"\"\"\n",
    "    \n",
    "    Method to simply define Ultra Wide Band configuration.\n",
    "    \n",
    "    \"\"\"\n",
    "    nu_up = 247.5\n",
    "    nu_down = 131.25\n",
    "    nu_ave = np.mean(np.array([nu_up, nu_down]))\n",
    "    delta = nu_up - nu_ave\n",
    "    \n",
    "    return nu_ave, 2*delta/nu_ave\n",
    "\n",
    "nu_ave, delta_nu_over_nu = _get_ultrawideband_config()"
   ]
  },
  {
   "cell_type": "markdown",
   "id": "2c6f3774",
   "metadata": {},
   "source": [
    "Parameters"
   ]
  },
  {
   "cell_type": "code",
   "execution_count": null,
   "id": "dd517ff6",
   "metadata": {},
   "outputs": [],
   "source": [
    "nside = 16\n",
    "ndetectors = 1\n",
    "npointings = 8000\n",
    "nside_beta = 16\n",
    "nf_sub = 4\n",
    "\n",
    "npixel = 12*nside**2\n",
    "nbeta = 12*nside_beta**2"
   ]
  },
  {
   "cell_type": "code",
   "execution_count": null,
   "id": "02464d91",
   "metadata": {},
   "outputs": [],
   "source": [
    "1-(1-1/(6*npixel_patch+nbeta_patch))**npointings"
   ]
  },
  {
   "cell_type": "code",
   "execution_count": null,
   "id": "05502c74",
   "metadata": {},
   "outputs": [],
   "source": [
    "6*npixel_patch+nbeta_patch"
   ]
  },
  {
   "cell_type": "code",
   "execution_count": null,
   "id": "186ce8f3",
   "metadata": {},
   "outputs": [],
   "source": [
    "dictname = 'pipeline_demo.dict'\n",
    "dict = qubic.qubicdict.qubicDict()\n",
    "dict.read_from_file(dictname)\n",
    "dict['hwp_stepsize'] = 3\n",
    "dict['npointings'] = npointings\n",
    "dict['nside'] = nside\n",
    "dict['filter_nu'] = nu_ave*1e9\n",
    "dict['filter_relative_bandwidth'] = delta_nu_over_nu\n",
    "dict['nf_sub'] = nf_sub\n",
    "dict['synthbeam_kmax'] = 3\n",
    "dict['type_instrument'] = 'wide'\n",
    "dict['synthbeam_fraction'] = 0.95\n",
    "dict['random_pointing'] = True\n",
    "dict['MultiBand'] = True\n",
    "dict['repeat_pointing'] = False"
   ]
  },
  {
   "cell_type": "code",
   "execution_count": null,
   "id": "df8e339e",
   "metadata": {},
   "outputs": [],
   "source": [
    "Q = QubicFullBandSystematic(dict, Nsub=nf_sub, Nrec=2)\n",
    "H_list = Q.H"
   ]
  },
  {
   "cell_type": "code",
   "execution_count": null,
   "id": "2656b102",
   "metadata": {},
   "outputs": [],
   "source": [
    "_, allnus150, _, _, _, _ = qubic.compute_freq(150, Nfreq=int(nf_sub/2)-1, relative_bandwidth=0.25)\n",
    "_, allnus220, _, _, _, _ = qubic.compute_freq(220, Nfreq=int(nf_sub/2)-1, relative_bandwidth=0.25)\n",
    "frequencies = np.concatenate((allnus150, allnus220)) * 1e9\n",
    "print(frequencies)"
   ]
  },
  {
   "cell_type": "markdown",
   "id": "756b9e8a",
   "metadata": {},
   "source": [
    "Real sky through Planck data"
   ]
  },
  {
   "cell_type": "code",
   "execution_count": null,
   "id": "4ac4f3c3",
   "metadata": {},
   "outputs": [],
   "source": [
    "skycmb = pysm3.Sky(nside=nside, preset_strings=['c1'], output_unit='uK_CMB')\n",
    "skydust = pysm3.Sky(nside=nside, preset_strings=['d1'], output_unit='uK_CMB')\n",
    "skycmb = np.array(skycmb.get_emission(frequencies[-1] * u.Hz))\n",
    "skydust = np.array(skydust.get_emission(frequencies[-1] * u.Hz))\n",
    "skydust_beta = pysm3.Sky(nside=nside_beta, preset_strings=['d1'], output_unit='uK_CMB')\n",
    "true_beta = np.array(skydust_beta.components[0].mbb_index)\n",
    "true_c = np.concatenate((skycmb[0,:], skycmb[1,:], skycmb[2,:], skydust[0,:], skydust[1,:], skydust[2,:], true_beta))"
   ]
  },
  {
   "cell_type": "markdown",
   "id": "8297c605",
   "metadata": {},
   "source": [
    "Operator Patch_to_Sky that takes a components maps + spectral indices map on the patch and put it on the full sky with Planck data on the pixels that are not observed by Qubic.\n",
    "The operator Sky_to_Patch does the opposite."
   ]
  },
  {
   "cell_type": "code",
   "execution_count": null,
   "id": "a905acb7",
   "metadata": {},
   "outputs": [],
   "source": [
    "coverage = Q.subacqs[0][0].get_coverage()\n",
    "seenpix_qubic = coverage/coverage.max() > 0.1\n",
    "seenpix_qubic_beta = hp.ud_grade(seenpix_qubic, nside_beta)\n",
    "\n",
    "npixel_patch = np.count_nonzero(seenpix_qubic)\n",
    "nbeta_patch = np.count_nonzero(seenpix_qubic_beta)\n",
    "\n",
    "patch_mask = np.concatenate((seenpix_qubic,seenpix_qubic,seenpix_qubic,\n",
    "                       seenpix_qubic,seenpix_qubic,seenpix_qubic,seenpix_qubic_beta))\n",
    "\n",
    "def patch_to_sky(c, out):\n",
    "    sky = true_c.copy()\n",
    "    sky[patch_mask] = c\n",
    "    out[...] = sky\n",
    "\n",
    "Patch_to_Sky = Operator(patch_to_sky, shapein=6*npixel_patch+nbeta_patch, shapeout=6*npixel+nbeta, dtype='float64')\n",
    "\n",
    "def sky_to_patch(c, out):\n",
    "    out[...] = c[patch_mask]\n",
    "\n",
    "Sky_to_Patch = Operator(sky_to_patch, shapein=6*npixel+nbeta, shapeout=6*npixel_patch+nbeta_patch, dtype='float64')\n",
    "\n",
    "print(6*npixel_patch+nbeta_patch)"
   ]
  },
  {
   "cell_type": "markdown",
   "id": "ae6d05bf",
   "metadata": {},
   "source": [
    "The modified black-body-spectrum of the dust. We have:\n",
    "$$\\frac{h}{kT} = 2.4\\times 10^{-12} \\text{ Hz}^{-1}$$\n",
    "with $T = 20 K$."
   ]
  },
  {
   "cell_type": "code",
   "execution_count": null,
   "id": "2c869278",
   "metadata": {},
   "outputs": [],
   "source": [
    "def modified_black_body(freq, beta):\n",
    "    nu0 = frequencies[-1]\n",
    "    return (np.exp(freq * 2.4e-12) - 1) / (np.exp(nu0 * 2.4e-12) - 1) * (freq/nu0)**beta"
   ]
  },
  {
   "cell_type": "markdown",
   "id": "71e75afb",
   "metadata": {},
   "source": [
    "The mixing operator $A_\\nu$: giving a vector of shape (6*npixel+nbeta), it returns the mixed sky of shape (npixel, 3).\n",
    "$$A_\\nu (c) [i,:] = \\left(CMB\\_I_i + f(\\beta_i)dust\\_I_i,\\; CMB\\_Q_i + f(\\beta_i)dust\\_Q_i,\\; CMB\\_U_i + f(\\beta_i)dust\\_U_i\\right)$$\n",
    "with $f$ the modified black body spectrum, and $\\beta_i$ the value of the spectral index at pixel i (each $\\beta$ is used for multiple pixels)."
   ]
  },
  {
   "cell_type": "code",
   "execution_count": null,
   "id": "9e440c1e",
   "metadata": {},
   "outputs": [],
   "source": [
    "def function_A(c, freq, out):\n",
    "    power_beta = modified_black_body(freq, c[6*npixel:])\n",
    "    up_grade_power_beta = hp.ud_grade(power_beta, nside)\n",
    "\n",
    "    out[:,0] = c[:npixel] + up_grade_power_beta * c[3*npixel:4*npixel]\n",
    "    out[:,1] = c[npixel:2*npixel] + up_grade_power_beta * c[4*npixel:5*npixel]\n",
    "    out[:,2] = c[2*npixel:3*npixel] + up_grade_power_beta * c[5*npixel:6*npixel]\n",
    "\n",
    "A_list = []\n",
    "for freq in frequencies:\n",
    "    A_list.append(Operator(lambda c, out, freq=freq : function_A(c, freq, out), \n",
    "            shapein=6*npixel+nbeta, shapeout=(npixel, 3), dtype='float64'))\n"
   ]
  },
  {
   "cell_type": "code",
   "execution_count": null,
   "id": "b986d642",
   "metadata": {},
   "outputs": [],
   "source": [
    "# Define the inner operator class\n",
    "class Transposed_Jacobian(Operator):\n",
    "    def __init__(self, c, freq, **keywords):\n",
    "        self.c = c\n",
    "        self.freq = freq\n",
    "        super().__init__(shapein=(npixel,3), shapeout=6*npixel+nbeta, dtype='float64', **keywords)\n",
    "    \n",
    "    def direct(self, input_vector, output):\n",
    "        \n",
    "        power_beta = modified_black_body(self.freq, self.c[6*npixel:])\n",
    "        derive_power_beta = power_beta * np.log(self.freq/frequencies[-1])\n",
    "        \n",
    "        output[:npixel] = input_vector[:,0]\n",
    "        output[npixel:2*npixel] = input_vector[:,1]\n",
    "        output[2*npixel:3*npixel] = input_vector[:,2]\n",
    "\n",
    "        up_grade_power_beta = hp.ud_grade(power_beta, nside)\n",
    "        output[3*npixel:4*npixel] = up_grade_power_beta * input_vector[:,0]\n",
    "        output[4*npixel:5*npixel] = up_grade_power_beta * input_vector[:,1]\n",
    "        output[5*npixel:6*npixel] = up_grade_power_beta * input_vector[:,2]\n",
    "    \n",
    "        product = self.c[3*npixel:4*npixel]*input_vector[:,0] + self.c[4*npixel:5*npixel]*input_vector[:,1] + self.c[5*npixel:6*npixel]*input_vector[:,2]\n",
    "        product = hp.ud_grade(product, nside_beta) * (npixel // nbeta)\n",
    "        \n",
    "        output[6*npixel:] = derive_power_beta * product\n",
    "\n",
    "# Define the outer operator class\n",
    "class Generate_Transposed_Jacobian(Operator):\n",
    "    def direct(self, c, freq, output):\n",
    "        # Create the generated operator\n",
    "        transposed_jacobian = Transposed_Jacobian(c, freq)\n",
    "        # Store the generated operator in the output\n",
    "        output[...] = transposed_jacobian\n",
    "\n",
    "# Initialize the outer operator\n",
    "generate_transposed_jacobian = Generate_Transposed_Jacobian()\n"
   ]
  },
  {
   "cell_type": "markdown",
   "id": "7e121447",
   "metadata": {},
   "source": [
    "Creating the TOD"
   ]
  },
  {
   "cell_type": "code",
   "execution_count": null,
   "id": "32a667b5",
   "metadata": {},
   "outputs": [],
   "source": [
    "d = H_list[0](A_list[0](true_c))\n",
    "for i in range(1, len(frequencies)):\n",
    "    d = d + (H_list[i](A_list[i](true_c)))"
   ]
  },
  {
   "cell_type": "markdown",
   "id": "817d9475",
   "metadata": {},
   "source": [
    "## Need to create the operator N"
   ]
  },
  {
   "cell_type": "markdown",
   "id": "dde5b6c5",
   "metadata": {},
   "source": [
    "The gradient of $\\chi^2$ operator. We have:\n",
    "$$\\nabla\\chi^2(\\tilde{c}) = \\sum (J_{A_\\nu}(\\tilde{c}))^TH^TN^{-1} \\sum H{A_\\nu}(\\tilde{c}) - \\sum (J_{A_\\nu}(\\tilde{c}))^TH^TN^{-1}d$$"
   ]
  },
  {
   "cell_type": "code",
   "execution_count": null,
   "id": "91dbb541",
   "metadata": {},
   "outputs": [],
   "source": [
    "def grad_operator(c, out):\n",
    "    W = H_list[0](A_list[0](Patch_to_Sky(c)))\n",
    "    for i in range(1, len(frequencies)):\n",
    "        W = W + (H_list[i](A_list[i](Patch_to_Sky(c))))\n",
    "    W = W-d ###### invN(W-d)\n",
    "\n",
    "    output_operator = np.empty((), dtype=object)\n",
    "    generate_transposed_jacobian.direct(Patch_to_Sky(c), frequencies[0], output_operator)\n",
    "    transposed_jacobian = output_operator.item()\n",
    "    X = transposed_jacobian(H_list[0].T(W))\n",
    "    for i in range(1, len(frequencies)):\n",
    "        generate_transposed_jacobian.direct(Patch_to_Sky(c), frequencies[i], output_operator)\n",
    "        transposed_jacobian = output_operator.item()\n",
    "        X = X + transposed_jacobian(H_list[i].T(W))\n",
    "    \n",
    "    out[...] = Sky_to_Patch(X)\n",
    "\n",
    "grad_chi_squared = Operator(grad_operator, shapein=6*npixel_patch+nbeta_patch, \n",
    "                            shapeout=6*npixel_patch+nbeta_patch, dtype='float64')\n",
    "\n",
    "# Check that the gradient is zero at the solution point\n",
    "print((grad_chi_squared(Sky_to_Patch(true_c))==0).all())"
   ]
  },
  {
   "cell_type": "markdown",
   "id": "bdbbe8ff",
   "metadata": {},
   "source": [
    "Computation of the coverage at each frequency and for I, Q and U. The coverage of pixel i is the sum over the column i of the operator H of the squares of the elements:\n",
    "$$Cov[\\nu, i] = \\sum_{\\text{det}\\times\\text{samplings}} (H_\\nu [\\text{det}\\times\\text{samplings}, i])^2$$"
   ]
  },
  {
   "cell_type": "code",
   "execution_count": null,
   "id": "617e2ee1",
   "metadata": {},
   "outputs": [],
   "source": [
    "Cov = np.empty((len(frequencies), 3*npixel_patch))\n",
    "mixed_map_mask = np.concatenate([seenpix_qubic,seenpix_qubic,seenpix_qubic])\n",
    "\n",
    "for i in range(3*npixel_patch):\n",
    "    patch_vector = np.zeros((npixel_patch,3))\n",
    "    patch_vector[i%npixel_patch, i//npixel_patch] = 1\n",
    "    basis_vector = np.zeros((npixel,3))\n",
    "    basis_vector[seenpix_qubic, :] = patch_vector\n",
    "    for freq_index in range(len(frequencies)):\n",
    "        vector_i = H_list[freq_index](basis_vector)\n",
    "        vector_i = vector_i.ravel()\n",
    "        Cov[freq_index, i] = np.dot(vector_i, vector_i)\n",
    "    patch_vector[i%npixel_patch, i//npixel_patch] = 0"
   ]
  },
  {
   "cell_type": "markdown",
   "id": "5c8f39ce",
   "metadata": {},
   "source": [
    "We compute an approximation of the inverse of the diagonal of the hessian matrix of $\\chi^2$. This is used as a preconditioner for the non-linear PCG. It is very important as the components maps and the spectral indices have a very different behaviour in the PCG. This preconditioner helps making those different parameters more like one another.\n",
    "\n",
    "For that, we suppose that the diagonal of $H^TN^{-1}H$ is approximatly the coverage, this means neglecting the effect of $N^{-1}$."
   ]
  },
  {
   "cell_type": "code",
   "execution_count": null,
   "id": "2a412e2f",
   "metadata": {},
   "outputs": [],
   "source": [
    "def hessian_inverse_diagonal(c, out):\n",
    "    sky_c = Patch_to_Sky(c)\n",
    "    dust_spectrum_squared = np.zeros((len(frequencies),npixel_patch))\n",
    "    derive_dust_spectrum_squared = np.zeros((len(frequencies),npixel_patch))\n",
    "    second_derivative_dust_spectrum = np.zeros((len(frequencies),npixel_patch))\n",
    "    for index, freq in enumerate(frequencies):\n",
    "        dust_spectrum = hp.ud_grade(modified_black_body(freq, sky_c[6*npixel:]), nside)[seenpix_qubic]\n",
    "        dust_spectrum_squared[index,:] = dust_spectrum**2\n",
    "        derive_dust_spectrum_squared[index,:] = (dust_spectrum * np.log(freq/frequencies[-1]))**2\n",
    "        second_derivative_dust_spectrum[index,:] = dust_spectrum * np.log(freq/frequencies[-1])**2\n",
    "\n",
    "    # CMB\n",
    "    out[:3*npixel_patch] = 1/np.sum(Cov, axis=0)\n",
    "\n",
    "    # Dust\n",
    "    out[3*npixel_patch:6*npixel_patch] = 1/np.sum(np.concatenate((dust_spectrum_squared,\n",
    "                                                                dust_spectrum_squared,dust_spectrum_squared),1)*Cov, axis=0)\n",
    "\n",
    "    # Spectral indices\n",
    "    # factor 1 has shape (frequencies, npixel_patch)\n",
    "    factor1 = c[3*npixel_patch:4*npixel_patch]**2 * Cov[:,:npixel_patch]\n",
    "    factor1 += c[4*npixel_patch:5*npixel_patch]**2 * Cov[:,npixel_patch:2*npixel_patch]\n",
    "    factor1 += c[5*npixel_patch:6*npixel_patch]**2 * Cov[:,2*npixel_patch:3*npixel_patch]\n",
    "    factor1 *= derive_dust_spectrum_squared\n",
    "    factor1 = np.sum(factor1, axis=0) # shape (npixel_patch)\n",
    "    '''\n",
    "    # factor 2 has shape (frequencies, npixel_patch)\n",
    "    factor2 = c[3*npixel_patch:4*npixel_patch] * (c[:npixel_patch] + dust_spectrum * c[3*npixel_patch:4*npixel_patch]) * Cov[:,:npixel_patch]\n",
    "    factor2 += c[4*npixel_patch:5*npixel_patch] * (c[npixel_patch:2*npixel_patch] + dust_spectrum * c[4*npixel_patch:5*npixel_patch]) * Cov[:,npixel_patch:2*npixel_patch]\n",
    "    factor2 += c[5*npixel_patch:6*npixel_patch] * (c[2*npixel_patch:3*npixel_patch] + dust_spectrum * c[5*npixel_patch:6*npixel_patch]) * Cov[:,2*npixel_patch:3*npixel_patch]\n",
    "    tempory = np.sum(factor2*second_derivative_dust_spectrum,axis=0)\n",
    "    print(tempory)\n",
    "    d_on_sky = np.array([H_list[i].T(d) for i in range(len(frequencies))]) # shape (frequencies, npixel_patch, 3)\n",
    "    factor2 -= c[3*npixel_patch:4*npixel_patch] * d_on_sky[:,:,0][:,seenpix_qubic]\n",
    "    factor2 -= c[4*npixel_patch:5*npixel_patch] * d_on_sky[:,:,1][:,seenpix_qubic]\n",
    "    factor2 -= c[5*npixel_patch:6*npixel_patch] * d_on_sky[:,:,2][:,seenpix_qubic]\n",
    "    print(np.sum(factor2*second_derivative_dust_spectrum,axis=0)-tempory)\n",
    "\n",
    "    factor2 *= second_derivative_dust_spectrum\n",
    "    factor2 = np.sum(factor2, axis=0) # shape (npixel_patch)\n",
    "    '''\n",
    "    \n",
    "    downgrader = np.zeros(npixel)\n",
    "    downgrader[seenpix_qubic] = factor1\n",
    "    downgrader = hp.ud_grade(downgrader, nside_beta)*(npixel//nbeta)\n",
    "    out[6*npixel_patch:] = 1/downgrader[seenpix_qubic_beta]\n",
    "\n",
    "HessianInverseDiagonal = Operator(hessian_inverse_diagonal, shapein=6*npixel_patch+nbeta_patch, shapeout=6*npixel_patch+nbeta_patch, dtype='float64')\n"
   ]
  },
  {
   "cell_type": "code",
   "execution_count": null,
   "id": "fee4262a",
   "metadata": {},
   "outputs": [],
   "source": [
    "max_iteration = 10\n",
    "x0 = np.zeros(6*npixel_patch+nbeta_patch)\n",
    "#x0[3*npixel:6*npixel] = skydust.ravel()\n",
    "\n",
    "x0[:npixel_patch] = Sky_to_Patch(true_c)[:npixel_patch].copy()\n",
    "x0[npixel_patch:3*npixel_patch] = np.zeros(2*npixel_patch)\n",
    "x0[3*npixel_patch:4*npixel_patch] = Sky_to_Patch(true_c)[3*npixel_patch:4*npixel_patch].copy()\n",
    "x0[4*npixel_patch:6*npixel_patch] = 0*Sky_to_Patch(true_c)[4*npixel_patch:6*npixel_patch]*(1+np.random.normal(scale=1.0, size=2*npixel_patch))\n",
    "x0[6*npixel_patch:] = np.ones(nbeta_patch)*1.53\n",
    "\n",
    "\n",
    "sigma=1e-3\n",
    "\n",
    "residues_PR_cg = []\n",
    "\n",
    "start = time()\n",
    "pcg = non_linear_pcg(grad_chi_squared, M=HessianInverseDiagonal, conjugate_method='polak-ribiere', x0=x0, tol=1e-16, sigma_0=sigma, tol_linesearch=1e-3, maxiter=max_iteration, residues=residues_PR_cg, npixel_patch=npixel_patch, nbeta_patch=nbeta_patch)\n",
    "x_PR_cg = pcg['x']\n",
    "residues_PR_cg = np.array(residues_PR_cg)\n",
    "residues_PR_cg /= np.linalg.norm(grad_chi_squared(x0))\n",
    "print(f'time for PR CG: {time()-start}')\n"
   ]
  },
  {
   "cell_type": "code",
   "execution_count": null,
   "id": "b46abe50",
   "metadata": {},
   "outputs": [],
   "source": [
    "plt.plot(residues_PR_cg[:,0], label='Polak-Ribière CG')\n",
    "'''\n",
    "plt.plot(residues_PR_cg[:,1])\n",
    "plt.plot(residues_PR_cg[:,2])\n",
    "plt.plot(residues_PR_cg[:,3])\n",
    "plt.plot(residues_PR_cg[:,4])\n",
    "plt.plot(residues_PR_cg[:,5])\n",
    "plt.plot(residues_PR_cg[:,6])\n",
    "'''\n",
    "plt.yscale('log')\n",
    "plt.grid(axis='y', linestyle='dotted')\n",
    "plt.xlabel('Number of iterations')\n",
    "plt.ylabel(r'Relative residue $\\frac{||\\nabla \\chi^2(c_{\\beta})||}{||\\nabla \\chi^2(\\vec{0})||}$')\n",
    "plt.title('Simultaneous reconstruction of components maps and spectral indices using a non-linear PCG')\n",
    "plt.legend()\n",
    "plt.show()"
   ]
  },
  {
   "cell_type": "code",
   "execution_count": null,
   "id": "301ecb5d",
   "metadata": {},
   "outputs": [],
   "source": [
    "x = Patch_to_Sky(x_PR_cg)\n",
    "x0sky = Patch_to_Sky(x0)\n",
    "name_list = ['CMB I','CMB Q','CMB U','dust I','dust Q','dust U',r'$\\beta$']\n",
    "\n",
    "plt.figure(figsize=(12, 25))\n",
    "for i in range(6):\n",
    "    hp.gnomview(true_c[i*npixel:(i+1)*npixel], sub=(7,4,4*i+1), title='True '+name_list[i], rot=qubic.equ2gal(0, -57),reso=18, cmap='jet')\n",
    "    hp.gnomview(x0sky[i*npixel:(i+1)*npixel], sub=(7,4,4*i+2), title='Initial '+name_list[i], rot=qubic.equ2gal(0, -57),reso=18, cmap='jet')\n",
    "    hp.gnomview(x[i*npixel:(i+1)*npixel], sub=(7,4,4*i+3), title='Reconstructed '+name_list[i], rot=qubic.equ2gal(0, -57),reso=18, cmap='jet')\n",
    "    r = true_c[i*npixel:(i+1)*npixel] - x[i*npixel:(i+1)*npixel]\n",
    "    sig = np.std(r[seenpix_qubic])\n",
    "    hp.gnomview(r, sub=(7,4,4*i+4), title='Difference '+name_list[i], rot=qubic.equ2gal(0, -57),reso=18, min=-2*sig, max=2*sig, cmap='jet')\n",
    "hp.gnomview(true_c[6*npixel:], sub=(7,4,4*6+1), title='True '+name_list[6], rot=qubic.equ2gal(0, -57),reso=18, cmap='jet')\n",
    "hp.gnomview(x0sky[6*npixel:], sub=(7,4,4*6+2), title='Initial '+name_list[6], rot=qubic.equ2gal(0, -57),reso=18, cmap='jet')\n",
    "hp.gnomview(x[6*npixel:], sub=(7,4,4*6+3), title='Reconstructed '+name_list[6], rot=qubic.equ2gal(0, -57),reso=18, cmap='jet')\n",
    "r = true_c[6*npixel:] - x[6*npixel:]\n",
    "sig = np.std(r[seenpix_qubic_beta])\n",
    "hp.gnomview(r, sub=(7,4,4*6+4), title='Difference '+name_list[6], rot=qubic.equ2gal(0, -57),reso=18, min=-2*sig, max=2*sig, cmap='jet')\n",
    "plt.show()\n"
   ]
  },
  {
   "cell_type": "markdown",
   "id": "da71c58e",
   "metadata": {},
   "source": [
    "# Verification that the Jacobian of A is correctly defined\n",
    "This is computationnaly heavy. You can test it with nside = nside_beta = 4."
   ]
  },
  {
   "cell_type": "code",
   "execution_count": null,
   "id": "eb969092",
   "metadata": {},
   "outputs": [],
   "source": [
    "# Generate a random vector\n",
    "c = np.random.random(6*npixel+nbeta)\n",
    "\n",
    "# Compute the Jacobian of A through the infinitesimal growth rate\n",
    "epsilon = 1e-10\n",
    "c_epsilon = c.copy()\n",
    "Jacob = np.empty((3*npixel, 6*npixel+nbeta))\n",
    "for i in range(6*npixel+nbeta):\n",
    "    c_epsilon[i] += epsilon\n",
    "    Jacob[:,i] = ((A_list[0](c_epsilon) - A_list[0](c)) / epsilon).ravel()\n",
    "    c_epsilon[i] = c[i]\n",
    "\n",
    "# Compute the transposed of the Jacobian through the operator, defined thanks to the analytical computation of the Jacobian of A\n",
    "output_operator = np.empty((), dtype=object)\n",
    "generate_transposed_jacobian.direct(c, frequencies[0], output_operator)\n",
    "transposed_jacobian = output_operator.item()\n",
    "\n",
    "J_transposed = np.empty((6*npixel+nbeta, 3*npixel))\n",
    "for i in range(3*npixel):\n",
    "    ei = np.zeros(3*npixel)\n",
    "    ei[i] = 1\n",
    "    J_transposed[:,i] = transposed_jacobian(ei.reshape((npixel,3)))"
   ]
  },
  {
   "cell_type": "code",
   "execution_count": null,
   "id": "9cf70fd5",
   "metadata": {},
   "outputs": [],
   "source": [
    "# Plot the results\n",
    "fig, (ax1, ax2) = plt.subplots(1, 2, figsize=(15, 5))\n",
    "ax1.scatter(range((6*npixel+nbeta)*3*npixel), J_transposed.ravel(), marker='+')\n",
    "ax1.set_title('Analytical definition of the Jacobian of A')\n",
    "ax2.scatter(range((6*npixel+nbeta)*3*npixel), J_transposed.ravel()-Jacob.T.ravel(), marker='+')\n",
    "ax2.set_title('Difference between the analytical definition and\\n the numerical calculation of the Jacobian of A')\n",
    "ax1.ticklabel_format(style='sci', axis='x', scilimits=(0,0))\n",
    "ax2.ticklabel_format(style='sci', axis='x', scilimits=(0,0))\n",
    "plt.show()"
   ]
  },
  {
   "cell_type": "markdown",
   "id": "e4368da4",
   "metadata": {},
   "source": [
    "# Verification of the preconditioner (diagonal of the Hessian matrix)\n",
    "Computation of the Hessian matrix of the $\\chi^2$ at the minimal point of the $\\chi^2$."
   ]
  },
  {
   "cell_type": "code",
   "execution_count": null,
   "id": "6adfb490",
   "metadata": {},
   "outputs": [],
   "source": [
    "epsilon = 1e-5\n",
    "hessian = np.empty((6*npixel_patch+nbeta_patch, 6*npixel_patch+nbeta_patch))\n",
    "ei = np.zeros(6*npixel_patch+nbeta_patch)\n",
    "for i in range(6*npixel_patch+nbeta_patch):\n",
    "    ei[i-1]=0\n",
    "    ei[i]=epsilon\n",
    "    hessian[i,:] = grad_chi_squared(Sky_to_Patch(true_c)+ei)/epsilon"
   ]
  },
  {
   "cell_type": "code",
   "execution_count": null,
   "id": "f95b32a0",
   "metadata": {},
   "outputs": [],
   "source": [
    "plt.matshow(hessian, vmin=-1e-38, vmax=1e-38, cmap='bwr')\n",
    "plt.colorbar()\n",
    "plt.title(r'Hessian matrix of the $\\chi^2$ in log scale')\n",
    "plt.show()"
   ]
  },
  {
   "cell_type": "markdown",
   "id": "740e543f",
   "metadata": {},
   "source": [
    "We can clearly identify the zones corresponding to the CMB I, Q, U, the dust I, Q, U and the spectral indices parameters of the dust.\n",
    "\n",
    "Let's plot the diagonal of this matrix."
   ]
  },
  {
   "cell_type": "code",
   "execution_count": null,
   "id": "654ee169",
   "metadata": {},
   "outputs": [],
   "source": [
    "plt.plot(np.diag(hessian))\n",
    "plt.title(r'Diagonal of the Hessian matrix of the $\\chi^2$')\n",
    "plt.yscale('log')\n",
    "plt.show()"
   ]
  },
  {
   "cell_type": "markdown",
   "id": "b6a1ea02",
   "metadata": {},
   "source": [
    "Note that we have more than 3 orders of magnitude of variation on the diagonal. Let's plot the product of this diagonal with the preconditioner we created that should approximate the inverse of this diagonal."
   ]
  },
  {
   "cell_type": "code",
   "execution_count": null,
   "id": "2b3321b6",
   "metadata": {},
   "outputs": [],
   "source": [
    "sky = pysm3.Sky(nside=nside, preset_strings=['c1', 'd1'], output_unit='uK_CMB')\n",
    "\n",
    "map = sky.get_emission(150e9 * u.Hz).T"
   ]
  },
  {
   "cell_type": "code",
   "execution_count": null,
   "id": "39b74047",
   "metadata": {},
   "outputs": [],
   "source": [
    "vector = np.ones(H_list[0].shapein)\n",
    "#vector = map.copy()\n",
    "approx_hth = np.empty((nf_sub,) + H_list[0].shapein) # has shape (nf_sub, npixel, 3)\n",
    "for index in range(nf_sub):\n",
    "    approx_hth[index] = H_list[index].T * H_list[index] * vector\n",
    "    plt.plot((H_list[index].T * H_list[index] * vector)[seenpix_qubic,0])"
   ]
  },
  {
   "cell_type": "code",
   "execution_count": null,
   "id": "25c337e1",
   "metadata": {},
   "outputs": [],
   "source": [
    "plt.plot(np.sum(approx_hth, axis=0)[:,0][seenpix_qubic])\n",
    "plt.plot(np.diag(hessian)[:npixel_patch]*5)\n",
    "plt.yscale('log')"
   ]
  },
  {
   "cell_type": "code",
   "execution_count": null,
   "id": "1bf3e5b2",
   "metadata": {},
   "outputs": [],
   "source": [
    "plt.plot(np.diag(hessian)*HessianInverseDiagonal(Sky_to_Patch(true_c)))\n",
    "plt.title(r'Product of the diagonal of the Hessian matrix of the $\\chi^2$ with the preconditioner')\n",
    "plt.show()"
   ]
  },
  {
   "cell_type": "markdown",
   "id": "9e017ece",
   "metadata": {},
   "source": [
    "Let's compare the eigenvalues distribution with and without preconditioner."
   ]
  },
  {
   "cell_type": "code",
   "execution_count": null,
   "id": "bf9af7cb",
   "metadata": {},
   "outputs": [],
   "source": [
    "eigenvalues, _ = np.linalg.eigh(hessian)\n",
    "eigenvalues_preconditioned, _ = np.linalg.eigh(np.diag(HessianInverseDiagonal(Sky_to_Patch(true_c)))*hessian)"
   ]
  },
  {
   "cell_type": "code",
   "execution_count": null,
   "id": "c839f425",
   "metadata": {},
   "outputs": [],
   "source": [
    "fig, (ax1, ax2) = plt.subplots(1, 2, figsize=(15, 5))\n",
    "ax1.plot(eigenvalues[::-1])\n",
    "ax1.set_yscale('log')\n",
    "ax1.set_title('Eigenvalues of the Hessian matrix')\n",
    "ax2.plot(eigenvalues_preconditioned[::-1])\n",
    "ax2.set_title('Eigenvalues of the preconditioned Hessian matrix')\n",
    "plt.show()"
   ]
  },
  {
   "cell_type": "code",
   "execution_count": null,
   "id": "f5b1ba3b",
   "metadata": {},
   "outputs": [],
   "source": []
  }
 ],
 "metadata": {
  "kernelspec": {
   "display_name": "Python 3 (ipykernel)",
   "language": "python",
   "name": "python3"
  }
 },
 "nbformat": 4,
 "nbformat_minor": 5
}
