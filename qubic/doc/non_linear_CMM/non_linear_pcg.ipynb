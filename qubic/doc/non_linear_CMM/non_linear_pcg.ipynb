{
 "cells": [
  {
   "cell_type": "code",
   "execution_count": null,
   "id": "b2882842",
   "metadata": {},
   "outputs": [],
   "source": [
    "import qubic\n",
    "import scipy\n",
    "from pyoperators import *\n",
    "from time import time\n",
    "import healpy as hp\n",
    "import pysm3\n",
    "import pysm3.units as u\n",
    "\n",
    "from non_linear_pcg import non_linear_pcg\n",
    "\n",
    "rc('figure',figsize=(10,8))\n",
    "rc('font',size=13)"
   ]
  },
  {
   "cell_type": "markdown",
   "id": "353288be",
   "metadata": {},
   "source": [
    "# Read me\n",
    "A non-linear PCG is not as straightforward as a linear PCG. It can be very badly used so be aware of how it works.\n",
    "\n",
    "**Conjugation method**\n",
    "\n",
    "Many methods can be used to conjugate the iterative search directions of the non-linear PCG. Here, five possiblities are implemented: 'polak-ribiere', 'fletcher-reeves', 'hestenes-stiefel', 'dai-yuan', 'hybrid' (hybrid version of hestenes-stiefel and dai-yuan).\n",
    "The fastest one will depend on the problem you are trying to solve. You should test them to make the best choice. The most widly used is polak-ribiere.\n",
    "For more details, see: Hager, W. W., & Zhang, H. (2006). A survey of nonlinear conjugate gradient methods. Pacific journal of Optimization, 2(1), 35-58. https://people.clas.ufl.edu/hager/files/cg_survey.pdf\n",
    "\n",
    "Other possibilities could be easily implemented.\n",
    "\n",
    "\n",
    "**Line search**\n",
    "\n",
    "In a PCG, at each iteration, one needs to find:\n",
    "$$\\alpha = argmin f(x+\\alpha d)$$\n",
    "with x the current estimation of the solution, and d the current search direction. It is the size of the step we will do in the direction d.\n",
    "\n",
    "For the linear PCG, we have an analytic solution to this small problem. This is generally not the case for a non-linear gradient. We perform a secant method. We take a first guess for alpha, which we call sigma_0. Then we iterate and form a quadratic which has the same derivative as f at the points alpha and the previous alpha. We find the minimum of this quadratic, update x and iterate.\n",
    "\n",
    "If you have an analytical formula for this small problem, you should change the code and remove this secant method. This will improve the speed of the computation.\n",
    "\n",
    "The initial guess sigma_0 is very important and has to be chosen by hand. If it is chosen poorly, the PCG will not converge or very slowly.\n",
    "\n",
    "There is also a tolerance parameter for this line search, 'tol_linesearch'. You can play with it. If it is too big, the PCG won't converge. If it's too small, the algorithm will be unnecessarily slower. There is a maximum iteration parameter 'maxiter_linesearch'. By default, it is set to 10. If it is not enough, it is probably because you have a poor initial guess sigma_0, or that your tolerance is too low.\n",
    "\n",
    "\n",
    "**Initial guess for x**\n",
    "\n",
    "As the gradient is not linear, the function f could have many local minima. The algorithm will converge to the nearest local minimum, it can even converge to a local maximum! So you should define with great care the initial guess for x. It is the parameter 'x0'.\n",
    "\n",
    "\n",
    "**Preconditioning**\n",
    "\n",
    "Preconditioning is implemented. M should approximate the inverse of the Hessian matrix of f. Make sure that it is not computationaly too expensive to apply M on a vector.\n",
    "\n",
    "\n",
    "**More details**\n",
    "\n",
    "The algorithm implemented is the B5 from: Shewchuk, J. R. (1994). An introduction to the conjugate gradient method without the agonizing pain. http://www.cs.cmu.edu/~quake-papers/painless-conjugate-gradient.pdf\n",
    "We highly recommend to read to very well written article."
   ]
  },
  {
   "cell_type": "markdown",
   "id": "9e9b2e47",
   "metadata": {},
   "source": [
    "# Linear problem\n",
    "First we will check that the non-linear PCG is giving the same result as the linear PCG for a linear gradient."
   ]
  },
  {
   "cell_type": "code",
   "execution_count": null,
   "id": "14456149",
   "metadata": {},
   "outputs": [],
   "source": [
    "nside = 16\n",
    "ndetectors = 1\n",
    "npointings = 1000"
   ]
  },
  {
   "cell_type": "code",
   "execution_count": null,
   "id": "6c6a04b3",
   "metadata": {},
   "outputs": [],
   "source": [
    "######## Technological Demonstrator Configuration #######\n",
    "#dictname = 'RealisticScanning-BmodesNoDustNoSystPaper0_2020.dict'\n",
    "dictname = 'pipeline_demo.dict'\n",
    "#dictname = 'global_source_oneDet.dict'\n",
    "d = qubic.qubicdict.qubicDict()\n",
    "d.read_from_file(dictname)\n",
    "d['hwp_stepsize'] = 3\n",
    "d['npointings'] = npointings\n",
    "d['nside'] = nside\n",
    "d['synthbeam_kmax'] = 3\n",
    "d['synthbeam_fraction'] = 0.95\n",
    "d['random_pointing'] = True\n",
    "d['repeat_pointing'] = False\n",
    "#d['dtheta'] = 15\n",
    "q = qubic.QubicInstrument(d)\n",
    "s = qubic.QubicScene(d)\n",
    "samp = qubic.get_pointing(d)"
   ]
  },
  {
   "cell_type": "markdown",
   "id": "46d4a337",
   "metadata": {},
   "source": [
    "Creating a map, the operator H, and generating the TOD."
   ]
  },
  {
   "cell_type": "code",
   "execution_count": null,
   "id": "7e09f1be",
   "metadata": {},
   "outputs": [],
   "source": [
    "acq = qubic.QubicAcquisition(q, samp, s, d)\n",
    "H_op = acq[:ndetectors].get_operator()"
   ]
  },
  {
   "cell_type": "code",
   "execution_count": null,
   "id": "ef2210c1",
   "metadata": {},
   "outputs": [],
   "source": [
    "# We create a mask for Qubic's patch. Please don't look too much at this horrible code.\n",
    "def circular_mask(nside, center, radius):\n",
    "    lon = center[0]\n",
    "    lat = center[1]\n",
    "    vec = hp.ang2vec(lon, lat, lonlat=True)\n",
    "    disc = hp.query_disc(nside, vec, radius=np.deg2rad(radius))\n",
    "    m = np.zeros(hp.nside2npix(nside))\n",
    "    m[disc] = 1\n",
    "    return np.array(m, dtype=bool)\n",
    "\n",
    "mask = circular_mask(nside, qubic.equ2gal(0, -57), d['dtheta'])\n",
    "\n",
    "Mask = np.zeros((H_op.shape[1], np.count_nonzero(mask), 3))\n",
    "a = 0\n",
    "for i in range(len(mask)):\n",
    "    if mask[i]:\n",
    "        Mask[i*3:(i+1)*3,a] = np.identity(3)\n",
    "        a += 1\n",
    "Mask = np.reshape(Mask, (H_op.shape[1], np.count_nonzero(mask)*3))\n",
    "\n",
    "PatchMask = ReshapeOperator(H_op.shape[1], H_op.shapein) * asoperator(Mask, flags='linear,real') * ReshapeOperator(\n",
    "    (np.count_nonzero(mask), 3), np.count_nonzero(mask)*3)\n",
    "\n",
    "H = H_op * PatchMask"
   ]
  },
  {
   "cell_type": "code",
   "execution_count": null,
   "id": "d816b84f",
   "metadata": {},
   "outputs": [],
   "source": [
    "map = np.ones((np.count_nonzero(mask), 3))\n",
    "\n",
    "tod = H(map)\n",
    "\n",
    "invN = acq[:ndetectors].get_invntt_operator()\n",
    "\n",
    "A = CompositionOperator((H.T, invN, H), flags='linear,real,symmetric,square')\n",
    "b = H.T * invN * tod"
   ]
  },
  {
   "cell_type": "code",
   "execution_count": null,
   "id": "4ad0c6fc",
   "metadata": {},
   "outputs": [],
   "source": [
    "print(f'map: {map.shape}')\n",
    "print(f'H: {H.shape}')\n",
    "print(f'TOD: {tod.shape}')\n",
    "print(f'A: {A.shape}')\n",
    "print(f'b: {b.shape}')"
   ]
  },
  {
   "cell_type": "code",
   "execution_count": null,
   "id": "24d671e5",
   "metadata": {},
   "outputs": [],
   "source": [
    "def _dot(x, y, comm):\n",
    "    d = np.array(np.dot(x.ravel(), y.ravel()))\n",
    "    if comm is not None:\n",
    "        comm.Allreduce(MPI.IN_PLACE, d)\n",
    "    return d\n",
    "\n",
    "def grad_chi2(x, out):\n",
    "    out[...] = A(x) - b\n",
    "\n",
    "grad_f = Operator(grad_chi2, shapein=A.shapein, shapeout=A.shapeout, dtype='float64')"
   ]
  },
  {
   "cell_type": "markdown",
   "id": "07701208",
   "metadata": {},
   "source": [
    "Computing the PCG"
   ]
  },
  {
   "cell_type": "code",
   "execution_count": null,
   "id": "7d1e0d2f",
   "metadata": {},
   "outputs": [],
   "source": [
    "Max_iterations = [0,1,2,3,4,5,7,9,11,13,15,18,21,24,27,30,33,36,39,42,45,48,51]\n",
    "\n",
    "residues_cg = []\n",
    "residues_PR_cg = []\n",
    "residues_FR_cg = []\n",
    "residues_HS_cg = []\n",
    "residues_DY_cg = []\n",
    "residues_hybrid_cg = []\n",
    "\n",
    "start = time()\n",
    "for i, val in enumerate(Max_iterations):\n",
    "    x_cg = pcg(A, b, tol=1e-50, maxiter=val, M=None)['x']\n",
    "    residues_cg.append(np.linalg.norm(b-A(x_cg))/np.linalg.norm(b))\n",
    "print(f'time for linear CG: {time()-start}')\n",
    "\n",
    "start = time()\n",
    "for i, val in enumerate(Max_iterations):\n",
    "    x_PR_cg = non_linear_pcg(grad_f, conjugate_method='polak-ribiere', tol=1e-50, sigma_0=10, tol_linesearch=1e-3, maxiter=val)['x']\n",
    "    residues_PR_cg.append(np.linalg.norm(b-A(x_PR_cg))/np.linalg.norm(b))\n",
    "print(f'time for PR CG: {time()-start}')\n",
    "\n",
    "start = time()\n",
    "for i, val in enumerate(Max_iterations):\n",
    "    x_FR_cg = non_linear_pcg(grad_f, conjugate_method='fletcher-reeves', tol=1e-50, sigma_0=10, tol_linesearch=1e-3, maxiter=val)['x']\n",
    "    residues_FR_cg.append(np.linalg.norm(b-A(x_FR_cg))/np.linalg.norm(b))\n",
    "print(f'time for FR CG: {time()-start}')\n",
    "\n",
    "start = time()\n",
    "for i, val in enumerate(Max_iterations):\n",
    "    x_HS_cg = non_linear_pcg(grad_f, conjugate_method='hestenes-stiefel', tol=1e-50, sigma_0=10, tol_linesearch=1e-3, maxiter=val)['x']\n",
    "    residues_HS_cg.append(np.linalg.norm(b-A(x_HS_cg))/np.linalg.norm(b))\n",
    "print(f'time for HS CG: {time()-start}')\n",
    "\n",
    "start = time()\n",
    "for i, val in enumerate(Max_iterations):\n",
    "    x_DY_cg = non_linear_pcg(grad_f, conjugate_method='dai-yuan', tol=1e-50, sigma_0=10, tol_linesearch=1e-3, maxiter=val)['x']\n",
    "    residues_DY_cg.append(np.linalg.norm(b-A(x_DY_cg))/np.linalg.norm(b))\n",
    "print(f'time for DY CG: {time()-start}')\n",
    "\n",
    "start = time()\n",
    "for i, val in enumerate(Max_iterations):\n",
    "    x_hybrid_cg = non_linear_pcg(grad_f, conjugate_method='hybrid', tol=1e-50, sigma_0=10, tol_linesearch=1e-3, maxiter=val)['x']\n",
    "    residues_hybrid_cg.append(np.linalg.norm(b-A(x_hybrid_cg))/np.linalg.norm(b))\n",
    "print(f'time for hybrid CG: {time()-start}')"
   ]
  },
  {
   "cell_type": "code",
   "execution_count": null,
   "id": "94c29197",
   "metadata": {},
   "outputs": [],
   "source": [
    "plt.plot(Max_iterations, residues_cg, label='linear CG')\n",
    "plt.plot(Max_iterations, residues_PR_cg, label='Polak-Ribière CG')\n",
    "plt.plot(Max_iterations, residues_FR_cg, label='Fletcher-Reeves CG')\n",
    "plt.plot(Max_iterations, residues_HS_cg, label='Hestenes-Stiefel CG')\n",
    "plt.plot(Max_iterations, residues_DY_cg, label='Dai-Yuan CG')\n",
    "plt.plot(Max_iterations, residues_hybrid_cg, label='hybrid CG')\n",
    "plt.yscale('log')\n",
    "plt.grid(axis='y', linestyle='dotted')\n",
    "plt.xlabel('Number of iterations')\n",
    "plt.ylabel(r'Relative residue $\\frac{||b-Ax||}{||b||}$')\n",
    "plt.title(f'Solving $Ax=b$, A has size {A.shape}')\n",
    "plt.legend()\n",
    "plt.show()"
   ]
  },
  {
   "cell_type": "markdown",
   "id": "8b714ef7",
   "metadata": {},
   "source": [
    "It works exactly as the linear PCG! Each iteration takes a bit more time because the algorithm is not as efficient as for the specific linear case."
   ]
  },
  {
   "cell_type": "markdown",
   "id": "054f0636",
   "metadata": {},
   "source": [
    "# Non-linear gradient\n",
    "Let's test the non-linear PCG with a very simple non-linear gradient. We set the tolerance to $10^{-16}$ to avoid problems when the residue becomes smaller than the computer precision."
   ]
  },
  {
   "cell_type": "code",
   "execution_count": null,
   "id": "5ffc6f36",
   "metadata": {},
   "outputs": [],
   "source": [
    "N = 100\n",
    "betas = 1+np.random.random(N)\n",
    "dust_power = 0.5**betas\n",
    "\n",
    "def grad_chi2_spectral_indexes(x, out):\n",
    "    power = 0.5**x\n",
    "    out[...] = 2*log(0.5)*(power - dust_power) * power\n",
    "\n",
    "grad_beta = Operator(grad_chi2_spectral_indexes, shapein=N, shapeout=N, dtype='float64')"
   ]
  },
  {
   "cell_type": "code",
   "execution_count": null,
   "id": "a034ad68",
   "metadata": {},
   "outputs": [],
   "source": [
    "Max_iterations = [0,1,2,3,4,5,7,9,11,13,15,18,21,24,27,30,33,36,39]\n",
    "\n",
    "sigma=1\n",
    "\n",
    "residues_PR_cg = []\n",
    "residues_FR_cg = []\n",
    "residues_HS_cg = []\n",
    "residues_DY_cg = []\n",
    "residues_hybrid_cg = []\n",
    "\n",
    "start = time()\n",
    "for i, val in enumerate(Max_iterations):\n",
    "    x_PR_cg = non_linear_pcg(grad_beta, conjugate_method='polak-ribiere', tol=1e-16, sigma_0=sigma, tol_linesearch=1e-3, maxiter=val)['x']\n",
    "    residues_PR_cg.append(np.linalg.norm(grad_beta(x_PR_cg))/np.linalg.norm(grad_beta(np.zeros(N))))\n",
    "print(f'time for PR CG: {time()-start}')\n",
    "\n",
    "start = time()\n",
    "for i, val in enumerate(Max_iterations):\n",
    "    x_FR_cg = non_linear_pcg(grad_beta, conjugate_method='fletcher-reeves', tol=1e-16, sigma_0=sigma, tol_linesearch=1e-3, maxiter=val)['x']\n",
    "    residues_FR_cg.append(np.linalg.norm(grad_beta(x_FR_cg))/np.linalg.norm(grad_beta(np.zeros(N))))\n",
    "print(f'time for FR CG: {time()-start}')\n",
    "\n",
    "start = time()\n",
    "for i, val in enumerate(Max_iterations):\n",
    "    x_HS_cg = non_linear_pcg(grad_beta, conjugate_method='hestenes-stiefel', tol=1e-16, sigma_0=sigma, tol_linesearch=1e-6, maxiter=val)['x']\n",
    "    residues_HS_cg.append(np.linalg.norm(grad_beta(x_HS_cg))/np.linalg.norm(grad_beta(np.zeros(N))))\n",
    "print(f'time for HS CG: {time()-start}')\n",
    "\n",
    "start = time()\n",
    "for i, val in enumerate(Max_iterations):\n",
    "    x_DY_cg = non_linear_pcg(grad_beta, conjugate_method='dai-yuan', tol=1e-16, sigma_0=sigma, tol_linesearch=1e-3, maxiter=val)['x']\n",
    "    residues_DY_cg.append(np.linalg.norm(grad_beta(x_DY_cg))/np.linalg.norm(grad_beta(np.zeros(N))))\n",
    "print(f'time for DY CG: {time()-start}')\n",
    "\n",
    "start = time()\n",
    "for i, val in enumerate(Max_iterations):\n",
    "    x_hybrid_cg = non_linear_pcg(grad_beta, conjugate_method='hybrid', tol=1e-16, sigma_0=sigma, tol_linesearch=1e-3, maxiter=val)['x']\n",
    "    residues_hybrid_cg.append(np.linalg.norm(grad_beta(x_hybrid_cg))/np.linalg.norm(grad_beta(np.zeros(N))))\n",
    "print(f'time for hybrid CG: {time()-start}')\n"
   ]
  },
  {
   "cell_type": "code",
   "execution_count": null,
   "id": "30a50737",
   "metadata": {},
   "outputs": [],
   "source": [
    "plt.plot(Max_iterations, residues_PR_cg, label='Polak-Ribière CG')\n",
    "plt.plot(Max_iterations, residues_FR_cg, label='Fletcher-Reeves CG')\n",
    "plt.plot(Max_iterations, residues_HS_cg, label='Hestenes-Stiefel CG')\n",
    "plt.plot(Max_iterations, residues_DY_cg, label='Dai-Yuan CG')\n",
    "plt.plot(Max_iterations, residues_hybrid_cg, label='hybrid CG')\n",
    "plt.yscale('log')\n",
    "plt.grid(axis='y', linestyle='dotted')\n",
    "plt.xlabel('Number of iterations')\n",
    "plt.ylabel(r'Relative residue $\\frac{||\\nabla \\chi^2(\\vec{\\beta})||}{||\\nabla \\chi^2(\\vec{0})||}$')\n",
    "plt.title(r'$\\chi^2$ minimization using non-linear PCG')\n",
    "plt.legend()\n",
    "plt.show()"
   ]
  },
  {
   "cell_type": "markdown",
   "id": "bc1d581e",
   "metadata": {},
   "source": [
    "This works great, but let's put sigma_0 = 100 instead of 1:"
   ]
  },
  {
   "cell_type": "code",
   "execution_count": null,
   "id": "a78e4e88",
   "metadata": {},
   "outputs": [],
   "source": [
    "Max_iterations = [0,1,2,3,4,5,7,9,11,13,15,18,21,24,27,30,33,36,39]\n",
    "\n",
    "sigma=100\n",
    "\n",
    "residues_PR_cg = []\n",
    "residues_FR_cg = []\n",
    "residues_HS_cg = []\n",
    "residues_DY_cg = []\n",
    "residues_hybrid_cg = []\n",
    "\n",
    "start = time()\n",
    "for i, val in enumerate(Max_iterations):\n",
    "    x_PR_cg = non_linear_pcg(grad_beta, conjugate_method='polak-ribiere', tol=1e-16, sigma_0=sigma, tol_linesearch=1e-3, maxiter=val)['x']\n",
    "    residues_PR_cg.append(np.linalg.norm(grad_beta(x_PR_cg))/np.linalg.norm(grad_beta(np.zeros(N))))\n",
    "print(f'time for PR CG: {time()-start}')\n",
    "\n",
    "start = time()\n",
    "for i, val in enumerate(Max_iterations):\n",
    "    x_FR_cg = non_linear_pcg(grad_beta, conjugate_method='fletcher-reeves', tol=1e-16, sigma_0=sigma, tol_linesearch=1e-3, maxiter=val)['x']\n",
    "    residues_FR_cg.append(np.linalg.norm(grad_beta(x_FR_cg))/np.linalg.norm(grad_beta(np.zeros(N))))\n",
    "print(f'time for FR CG: {time()-start}')\n",
    "\n",
    "start = time()\n",
    "for i, val in enumerate(Max_iterations):\n",
    "    x_HS_cg = non_linear_pcg(grad_beta, conjugate_method='hestenes-stiefel', tol=1e-16, sigma_0=sigma, tol_linesearch=1e-6, maxiter=val)['x']\n",
    "    residues_HS_cg.append(np.linalg.norm(grad_beta(x_HS_cg))/np.linalg.norm(grad_beta(np.zeros(N))))\n",
    "print(f'time for HS CG: {time()-start}')\n",
    "\n",
    "start = time()\n",
    "for i, val in enumerate(Max_iterations):\n",
    "    x_DY_cg = non_linear_pcg(grad_beta, conjugate_method='dai-yuan', tol=1e-16, sigma_0=sigma, tol_linesearch=1e-3, maxiter=val)['x']\n",
    "    residues_DY_cg.append(np.linalg.norm(grad_beta(x_DY_cg))/np.linalg.norm(grad_beta(np.zeros(N))))\n",
    "print(f'time for DY CG: {time()-start}')\n",
    "\n",
    "start = time()\n",
    "for i, val in enumerate(Max_iterations):\n",
    "    x_hybrid_cg = non_linear_pcg(grad_beta, conjugate_method='hybrid', tol=1e-16, sigma_0=sigma, tol_linesearch=1e-3, maxiter=val)['x']\n",
    "    residues_hybrid_cg.append(np.linalg.norm(grad_beta(x_hybrid_cg))/np.linalg.norm(grad_beta(np.zeros(N))))\n",
    "print(f'time for hybrid CG: {time()-start}')\n"
   ]
  },
  {
   "cell_type": "code",
   "execution_count": null,
   "id": "d08519e5",
   "metadata": {},
   "outputs": [],
   "source": [
    "plt.plot(Max_iterations, residues_PR_cg, label='Polak-Ribière CG')\n",
    "plt.plot(Max_iterations, residues_FR_cg, label='Fletcher-Reeves CG')\n",
    "plt.plot(Max_iterations, residues_HS_cg, label='Hestenes-Stiefel CG')\n",
    "plt.plot(Max_iterations, residues_DY_cg, label='Dai-Yuan CG')\n",
    "plt.plot(Max_iterations, residues_hybrid_cg, label='hybrid CG')\n",
    "plt.yscale('log')\n",
    "plt.grid(axis='y', linestyle='dotted')\n",
    "plt.xlabel('Number of iterations')\n",
    "plt.ylabel(r'Relative residue $\\frac{||\\nabla \\chi^2(\\vec{\\beta})||}{||\\nabla \\chi^2(\\vec{0})||}$')\n",
    "plt.title(r'$\\chi^2$ minimization using non-linear PCG')\n",
    "plt.legend()\n",
    "plt.show()"
   ]
  },
  {
   "cell_type": "markdown",
   "id": "a086eea8",
   "metadata": {},
   "source": [
    "The PCG converges in one step! This is because our function is very simple. It is equivalent to the linear case where the matrix A has only one eigenvalue. CG converges in just one step.\n",
    "But this shows the importance of well choosing the parameter sigma_0."
   ]
  },
  {
   "cell_type": "code",
   "execution_count": null,
   "id": "1180949c",
   "metadata": {},
   "outputs": [],
   "source": [
    "plt.plot(Max_iterations, residues_PR_cg, label='Polak-Ribière CG')\n",
    "plt.plot(Max_iterations, residues_FR_cg, label='Fletcher-Reeves CG')\n",
    "plt.plot(Max_iterations, residues_HS_cg, label='Hestenes-Stiefel CG')\n",
    "plt.plot(Max_iterations, residues_DY_cg, label='Dai-Yuan CG')\n",
    "plt.plot(Max_iterations, residues_hybrid_cg, label='hybrid CG')\n",
    "plt.yscale('log')\n",
    "plt.grid(axis='y', linestyle='dotted')\n",
    "plt.xlabel('Number of iterations')\n",
    "plt.ylabel(r'Relative residue $\\frac{||\\nabla \\chi^2(\\vec{\\beta})||}{||\\nabla \\chi^2(\\vec{0})||}$')\n",
    "plt.title(r'$\\chi^2$ minimization using non-linear PCG')\n",
    "plt.legend()\n",
    "plt.show()"
   ]
  },
  {
   "cell_type": "markdown",
   "id": "e4b33d12",
   "metadata": {},
   "source": [
    "# Fitting the spectral indexes\n",
    "\n",
    "We consider the $\\chi^2$ for the spectral indexes parameters:\n",
    "$$\\chi^2(\\vec{\\beta}) = \\frac{1}{2}\\left(d-\\sum_{\\nu}H_{\\nu}A_{\\nu}(\\vec{\\beta})c\\right)^T N^{-1} \\left(d-\\sum_{\\nu}H_{\\nu}A_{\\nu}(\\vec{\\beta})c\\right)$$\n",
    "Then, the gradient of $\\chi^2$ is:\n",
    "$$\\nabla \\chi^2(\\vec{\\beta}) = \\left(\\sum_{\\nu}(J_{A_{\\nu}\\cdot c}(\\vec{\\beta}))^T H_{\\nu}^T\\right) N^{-1} \\left(\\sum_{\\nu} H_{\\nu} A_{\\nu}(\\vec{\\beta}) c\\right) - \\left(\\sum_{\\nu}(J_{A_{\\nu}\\cdot c}(\\vec{\\beta}))^T H_{\\nu}^T\\right) N^{-1} d$$\n",
    "\n",
    "with $J_{A_{\\nu}\\cdot c}(\\vec{\\beta})$ the Jacobian of the operator $\\vec{\\beta} \\rightarrow A_{\\nu}(\\vec{\\beta})c$ evaluated at the point $\\vec{\\beta}$."
   ]
  },
  {
   "cell_type": "markdown",
   "id": "0d5d57f9",
   "metadata": {},
   "source": [
    "We define some parameters"
   ]
  },
  {
   "cell_type": "code",
   "execution_count": null,
   "id": "c77d0c4c",
   "metadata": {},
   "outputs": [],
   "source": [
    "nside = 16\n",
    "ndetectors = 1\n",
    "npointings = 8000\n",
    "nside_beta = 8\n",
    "frequencies = [140e9, 160e9, 200e9, 240e9]"
   ]
  },
  {
   "cell_type": "markdown",
   "id": "490b1376",
   "metadata": {},
   "source": [
    "The operator H"
   ]
  },
  {
   "cell_type": "code",
   "execution_count": null,
   "id": "e6eff0e9",
   "metadata": {},
   "outputs": [],
   "source": [
    "H_list = []\n",
    "\n",
    "for freq in frequencies:\n",
    "\n",
    "    dictname = 'pipeline_demo.dict'\n",
    "    d = qubic.qubicdict.qubicDict()\n",
    "    d.read_from_file(dictname)\n",
    "    d['hwp_stepsize'] = 3\n",
    "    d['npointings'] = npointings\n",
    "    d['nside'] = nside\n",
    "    d['filter_nu'] = freq\n",
    "    d['synthbeam_kmax'] = 3\n",
    "    d['synthbeam_fraction'] = 0.95\n",
    "    d['random_pointing'] = True\n",
    "    d['repeat_pointing'] = False\n",
    "    d['dtheta'] = 180\n",
    "    q = qubic.QubicInstrument(d)\n",
    "    s = qubic.QubicScene(d)\n",
    "    samp = qubic.get_pointing(d)\n",
    "\n",
    "    acq = qubic.QubicAcquisition(q, samp, s, d)\n",
    "    H_list.append(acq[:ndetectors].get_operator())"
   ]
  },
  {
   "cell_type": "markdown",
   "id": "e7ce3c5e",
   "metadata": {},
   "source": [
    "The spectra of the dust"
   ]
  },
  {
   "cell_type": "code",
   "execution_count": null,
   "id": "cf19f7c0",
   "metadata": {},
   "outputs": [],
   "source": [
    "def modified_black_body(freq, beta):\n",
    "    nu0 = frequencies[-1]\n",
    "    return (np.exp(freq * 2.4e-12) - 1) / (np.exp(nu0 * 2.4e-12) - 1) * (freq/nu0)**beta"
   ]
  },
  {
   "cell_type": "markdown",
   "id": "bf400311",
   "metadata": {},
   "source": [
    "Definition of the map of the sky and the map of the spectral indexes that we will try to fit."
   ]
  },
  {
   "cell_type": "code",
   "execution_count": null,
   "id": "13a72914",
   "metadata": {},
   "outputs": [],
   "source": [
    "component_maps = np.ones((12*nside**2, 6)) #IQU for CMB and dust\n",
    "\n",
    "sky = pysm3.Sky(nside=nside_beta, preset_strings=['d1'])\n",
    "true_beta = np.array(sky.components[0].mbb_index)"
   ]
  },
  {
   "cell_type": "markdown",
   "id": "9c988bae",
   "metadata": {},
   "source": [
    "The operator $A_{\\nu}(\\vec{\\beta})c$"
   ]
  },
  {
   "cell_type": "code",
   "execution_count": null,
   "id": "042f4107",
   "metadata": {},
   "outputs": [],
   "source": [
    "def function_A(betas, freq, out):\n",
    "    power_beta = modified_black_body(freq, betas)\n",
    "    A = hp.ud_grade(power_beta, nside)\n",
    "\n",
    "    out[:,0] = component_maps[:,0] + A * component_maps[:,3]\n",
    "    out[:,1] = component_maps[:,1] + A * component_maps[:,4]\n",
    "    out[:,2] = component_maps[:,2] + A * component_maps[:,5]\n",
    "\n",
    "A_list = []\n",
    "for freq in frequencies:\n",
    "    A_list.append(Operator(lambda betas, out, freq=freq : function_A(betas, freq, out), shapein=12*nside_beta**2, \n",
    "             shapeout=(12*nside**2, 3), dtype='float64'))\n"
   ]
  },
  {
   "cell_type": "markdown",
   "id": "1e3a8e7b",
   "metadata": {},
   "source": [
    "The operator $(J_{A_{\\nu}\\cdot c}(\\vec{\\beta}))^T$"
   ]
  },
  {
   "cell_type": "code",
   "execution_count": null,
   "id": "f67f97d6",
   "metadata": {},
   "outputs": [],
   "source": [
    "# Define the inner operator class\n",
    "class GeneratedOperator(Operator):\n",
    "    def __init__(self, beta, freq, **keywords):\n",
    "        self.beta = beta\n",
    "        self.freq = freq\n",
    "        super().__init__(shapein=(12*nside**2,3), shapeout=12*nside_beta**2, dtype='float64', **keywords)\n",
    "    \n",
    "    def direct(self, input_vector, output):\n",
    "        derive_power_beta = modified_black_body(self.freq, self.beta) * np.log(self.freq/frequencies[-1])\n",
    "        productI = hp.ud_grade(component_maps[:,3]*input_vector[:,0], nside_beta) * (nside // nside_beta)**2\n",
    "        productQ = hp.ud_grade(component_maps[:,4]*input_vector[:,1], nside_beta) * (nside // nside_beta)**2\n",
    "        productU = hp.ud_grade(component_maps[:,5]*input_vector[:,2], nside_beta) * (nside // nside_beta)**2\n",
    "        \n",
    "        output[...] = derive_power_beta * (productI + productQ + productU)\n",
    "\n",
    "# Define the outer operator class\n",
    "class Transposed_Jacobian(Operator):\n",
    "    def direct(self, beta, freq, output):\n",
    "        # Create the generated operator\n",
    "        generated_operator = GeneratedOperator(beta, freq)\n",
    "        # Store the generated operator in the output\n",
    "        output[...] = generated_operator\n",
    "\n",
    "# Initialize the outer operator\n",
    "transposed_jacobian = Transposed_Jacobian()"
   ]
  },
  {
   "cell_type": "markdown",
   "id": "bdf10925",
   "metadata": {},
   "source": [
    "The operator $N^{-1}$"
   ]
  },
  {
   "cell_type": "code",
   "execution_count": null,
   "id": "68a31095",
   "metadata": {},
   "outputs": [],
   "source": [
    "invN = acq[:ndetectors].get_invntt_operator()"
   ]
  },
  {
   "cell_type": "markdown",
   "id": "9f14ead3",
   "metadata": {},
   "source": [
    "The TODs"
   ]
  },
  {
   "cell_type": "code",
   "execution_count": null,
   "id": "544c9514",
   "metadata": {},
   "outputs": [],
   "source": [
    "d = H_list[0] * A_list[0](true_beta)\n",
    "for i in range(1, len(frequencies)):\n",
    "    d = d + (H_list[i] * A_list[i](true_beta))"
   ]
  },
  {
   "cell_type": "markdown",
   "id": "a8f2aa8c",
   "metadata": {},
   "source": [
    "Finally, the gradient $\\nabla \\chi^2 (\\vec{\\beta})$"
   ]
  },
  {
   "cell_type": "code",
   "execution_count": null,
   "id": "5749b8d9",
   "metadata": {},
   "outputs": [],
   "source": [
    "def grad_operator(beta, out):\n",
    "    W = H_list[0] * A_list[0](beta)\n",
    "    for i in range(1, len(frequencies)):\n",
    "        W = W + (H_list[i] * A_list[i](beta))\n",
    "    W = invN * W - (invN(d))\n",
    "\n",
    "    output_operator = np.empty((), dtype=object)\n",
    "    transposed_jacobian.direct(beta, frequencies[0], output_operator)\n",
    "    generated_operator = output_operator.item()\n",
    "    X = generated_operator(H_list[0].T * W)\n",
    "    for i in range(1, len(frequencies)):\n",
    "        transposed_jacobian.direct(beta, frequencies[i], output_operator)\n",
    "        generated_operator = output_operator.item()\n",
    "        X = X + generated_operator(H_list[i].T * W)\n",
    "\n",
    "    out[...] = X\n",
    "\n",
    "grad_chi_squared = Operator(grad_operator, shapein=12*nside_beta**2, shapeout=12*nside_beta**2, dtype='float64')"
   ]
  },
  {
   "cell_type": "markdown",
   "id": "10ce1603",
   "metadata": {},
   "source": [
    "Computation of the PCG"
   ]
  },
  {
   "cell_type": "code",
   "execution_count": null,
   "id": "9591dd61",
   "metadata": {},
   "outputs": [],
   "source": [
    "Max_iterations = [0,1,2,3,4,5,7,9,11,13,15,18,21,24,27,30,33,36,39]\n",
    "x0 = np.ones(12*nside_beta**2)\n",
    "\n",
    "sigma=1e-2\n",
    "\n",
    "residues_PR_cg = []\n",
    "\n",
    "start = time()\n",
    "for i, val in enumerate(Max_iterations):\n",
    "    print(val)\n",
    "    x_PR_cg = non_linear_pcg(grad_chi_squared, conjugate_method='polak-ribiere', x0=x0,  tol=1e-16, sigma_0=sigma, tol_linesearch=1e-3, maxiter=val)['x']\n",
    "    residues_PR_cg.append(np.linalg.norm(grad_chi_squared(x_PR_cg))/np.linalg.norm(grad_chi_squared(x0)))\n",
    "print(f'time for PR CG: {time()-start}')\n"
   ]
  },
  {
   "cell_type": "code",
   "execution_count": null,
   "id": "4d0cc163",
   "metadata": {},
   "outputs": [],
   "source": [
    "plt.plot(Max_iterations, residues_PR_cg, label='Polak-Ribière CG')\n",
    "plt.yscale('log')\n",
    "plt.grid(axis='y', linestyle='dotted')\n",
    "plt.xlabel('Number of iterations')\n",
    "plt.ylabel(r'Relative residue $\\frac{||\\nabla \\chi^2(\\vec{\\beta})||}{||\\nabla \\chi^2(\\vec{0})||}$')\n",
    "plt.title('Reconstruction of the spectral indexes using a non-linear PCG')\n",
    "plt.legend()\n",
    "plt.show()"
   ]
  },
  {
   "cell_type": "code",
   "execution_count": null,
   "id": "0fe445d1",
   "metadata": {},
   "outputs": [],
   "source": [
    "hp.mollview(true_beta, sub=(1,3,1), title='True spectral indexes')\n",
    "hp.mollview(x_PR_cg, sub=(1,3,2), title='Reconstructed spectral indexes')\n",
    "hp.mollview(true_beta-x_PR_cg, sub=(1,3,3), title='Difference of the two')"
   ]
  },
  {
   "cell_type": "markdown",
   "id": "8858b834",
   "metadata": {},
   "source": [
    "# Fitting the components maps and the spectral indexes all together"
   ]
  },
  {
   "cell_type": "code",
   "execution_count": null,
   "id": "1bc7587d",
   "metadata": {},
   "outputs": [],
   "source": [
    "nside = 32\n",
    "ndetectors = 1\n",
    "npointings = 8000\n",
    "nside_beta = 16\n",
    "frequencies = [140e9, 150e9, 160e9, 200e9, 220e9, 240e9]\n",
    "npixel = 12*nside**2\n",
    "nbeta = 12*nside_beta**2"
   ]
  },
  {
   "cell_type": "code",
   "execution_count": null,
   "id": "37df5444",
   "metadata": {},
   "outputs": [],
   "source": [
    "12*nside**2*1.5/100 * 6 + 12*nside_beta**2*1.5/100"
   ]
  },
  {
   "cell_type": "code",
   "execution_count": null,
   "id": "098c39ef",
   "metadata": {},
   "outputs": [],
   "source": [
    "H_list = []\n",
    "\n",
    "for freq in frequencies:\n",
    "\n",
    "    dictname = 'pipeline_demo.dict'\n",
    "    d = qubic.qubicdict.qubicDict()\n",
    "    d.read_from_file(dictname)\n",
    "    d['hwp_stepsize'] = 3\n",
    "    d['npointings'] = npointings\n",
    "    d['nside'] = nside\n",
    "    d['filter_nu'] = freq\n",
    "    d['synthbeam_kmax'] = 3\n",
    "    d['synthbeam_fraction'] = 0.95\n",
    "    d['random_pointing'] = True\n",
    "    d['repeat_pointing'] = False\n",
    "    #d['dtheta'] = 180\n",
    "    q = qubic.QubicInstrument(d)\n",
    "    s = qubic.QubicScene(d)\n",
    "    samp = qubic.get_pointing(d)\n",
    "\n",
    "    acq = qubic.QubicAcquisition(q, samp, s, d)\n",
    "    H_list.append(acq[:ndetectors].get_operator())"
   ]
  },
  {
   "cell_type": "code",
   "execution_count": null,
   "id": "058c4263",
   "metadata": {},
   "outputs": [],
   "source": [
    "d['nf_sub']"
   ]
  },
  {
   "cell_type": "code",
   "execution_count": null,
   "id": "5e2f7ffd",
   "metadata": {},
   "outputs": [],
   "source": [
    "skycmb = pysm3.Sky(nside=nside, preset_strings=['c1'], output_unit='uK_CMB')\n",
    "skydust = pysm3.Sky(nside=nside, preset_strings=['d1'], output_unit='uK_CMB')\n",
    "skycmb = np.array(skycmb.get_emission(frequencies[-1] * u.Hz))\n",
    "skydust = np.array(skydust.get_emission(frequencies[-1] * u.Hz))\n",
    "skydust_beta = pysm3.Sky(nside=nside_beta, preset_strings=['d1'], output_unit='uK_CMB')\n",
    "true_beta = np.array(skydust_beta.components[0].mbb_index)\n",
    "true_c = np.concatenate((skycmb[0,:], skycmb[1,:], skycmb[2,:], skydust[0,:], skydust[1,:], skydust[2,:], true_beta))"
   ]
  },
  {
   "cell_type": "code",
   "execution_count": null,
   "id": "fb59b697",
   "metadata": {},
   "outputs": [],
   "source": [
    "coverage = acq[:ndetectors].get_coverage()\n",
    "seenpix_qubic = coverage/coverage.max() > 0.1\n",
    "seenpix_qubic_beta = hp.ud_grade(seenpix_qubic, nside_beta)\n",
    "\n",
    "npixel_patch = np.count_nonzero(seenpix_qubic)\n",
    "nbeta_patch = np.count_nonzero(seenpix_qubic_beta)\n",
    "\n",
    "patch_mask = np.concatenate((seenpix_qubic,seenpix_qubic,seenpix_qubic,\n",
    "                       seenpix_qubic,seenpix_qubic,seenpix_qubic,seenpix_qubic_beta))\n",
    "\n",
    "def patch_to_sky(c, out):\n",
    "    sky = true_c.copy()\n",
    "    sky[patch_mask] = c\n",
    "    out[...] = sky\n",
    "\n",
    "Patch_to_Sky = Operator(patch_to_sky, shapein=6*npixel_patch+nbeta_patch, shapeout=6*npixel+nbeta, dtype='float64')\n",
    "\n",
    "def sky_to_patch(c, out):\n",
    "    out[...] = c[patch_mask]\n",
    "\n",
    "Sky_to_Patch = Operator(sky_to_patch, shapein=6*npixel+nbeta, shapeout=6*npixel_patch+nbeta_patch, dtype='float64')"
   ]
  },
  {
   "cell_type": "code",
   "execution_count": null,
   "id": "3ad0f394",
   "metadata": {},
   "outputs": [],
   "source": [
    "def modified_black_body(freq, beta):\n",
    "    nu0 = frequencies[-1]\n",
    "    return (np.exp(freq * 2.4e-12) - 1) / (np.exp(nu0 * 2.4e-12) - 1) * (freq/nu0)**beta"
   ]
  },
  {
   "cell_type": "code",
   "execution_count": null,
   "id": "a38b34a3",
   "metadata": {},
   "outputs": [],
   "source": [
    "def function_A(c, freq, out):\n",
    "    npixel = 12*nside**2\n",
    "    power_beta = modified_black_body(freq, c[6*npixel:])\n",
    "    up_grade_power_beta = hp.ud_grade(power_beta, nside)\n",
    "\n",
    "    out[:,0] = c[:npixel] + up_grade_power_beta * c[3*npixel:4*npixel]\n",
    "    out[:,1] = c[npixel:2*npixel] + up_grade_power_beta * c[4*npixel:5*npixel]\n",
    "    out[:,2] = c[2*npixel:3*npixel] + up_grade_power_beta * c[5*npixel:6*npixel]\n",
    "\n",
    "A_list = []\n",
    "for freq in frequencies:\n",
    "    A_list.append(Operator(lambda c, out, freq=freq : function_A(c, freq, out), \n",
    "            shapein=6*12*nside**2 + 12*nside_beta**2, shapeout=(12*nside**2, 3), dtype='float64'))\n"
   ]
  },
  {
   "cell_type": "code",
   "execution_count": null,
   "id": "921b5f96",
   "metadata": {},
   "outputs": [],
   "source": [
    "# Define the inner operator class\n",
    "class Transposed_Jacobian(Operator):\n",
    "    def __init__(self, c, freq, **keywords):\n",
    "        self.c = c\n",
    "        self.freq = freq\n",
    "        self.npixel = 12*nside**2\n",
    "        self.nbeta = 12*nside_beta**2\n",
    "        super().__init__(shapein=(self.npixel,3), shapeout=6*self.npixel + self.nbeta, dtype='float64', **keywords)\n",
    "    \n",
    "    def direct(self, input_vector, output):\n",
    "        #print(type(self.c))\n",
    "        #print(self.c)\n",
    "        #print(self.c[6*self.npixel:])\n",
    "        \n",
    "        power_beta = modified_black_body(self.freq, self.c[6*self.npixel:])\n",
    "        derive_power_beta = power_beta * np.log(self.freq/frequencies[-1])\n",
    "        \n",
    "        output[:self.npixel] = input_vector[:,0]\n",
    "        output[self.npixel:2*self.npixel] = input_vector[:,1]\n",
    "        output[2*self.npixel:3*self.npixel] = input_vector[:,2]\n",
    "\n",
    "        up_grade_power_beta = hp.ud_grade(power_beta, nside)\n",
    "        output[3*self.npixel:4*self.npixel] = up_grade_power_beta * input_vector[:,0]\n",
    "        output[4*self.npixel:5*self.npixel] = up_grade_power_beta * input_vector[:,1]\n",
    "        output[5*self.npixel:6*self.npixel] = up_grade_power_beta * input_vector[:,2]\n",
    "    \n",
    "        product = self.c[3*self.npixel:4*self.npixel]*input_vector[:,0] + self.c[4*self.npixel:5*self.npixel]*input_vector[:,1] + self.c[5*self.npixel:6*self.npixel]*input_vector[:,2]\n",
    "        product = hp.ud_grade(product, nside_beta) * (self.npixel // self.nbeta)\n",
    "        \n",
    "        output[6*self.npixel:] = derive_power_beta * product\n",
    "\n",
    "# Define the outer operator class\n",
    "class Generate_Transposed_Jacobian(Operator):\n",
    "    def direct(self, c, freq, output):\n",
    "        # Create the generated operator\n",
    "        transposed_jacobian = Transposed_Jacobian(c, freq)\n",
    "        # Store the generated operator in the output\n",
    "        output[...] = transposed_jacobian\n",
    "\n",
    "# Initialize the outer operator\n",
    "generate_transposed_jacobian = Generate_Transposed_Jacobian()\n"
   ]
  },
  {
   "cell_type": "code",
   "execution_count": null,
   "id": "c8390392",
   "metadata": {},
   "outputs": [],
   "source": [
    "d = H_list[0](A_list[0](true_c))\n",
    "for i in range(1, len(frequencies)):\n",
    "    d = d + (H_list[i](A_list[i](true_c)))"
   ]
  },
  {
   "cell_type": "code",
   "execution_count": null,
   "id": "9c7e1417",
   "metadata": {},
   "outputs": [],
   "source": [
    "invN = acq[:ndetectors].get_invntt_operator()"
   ]
  },
  {
   "cell_type": "code",
   "execution_count": null,
   "id": "381373a0",
   "metadata": {},
   "outputs": [],
   "source": [
    "def grad_operator(c, out):\n",
    "    W = H_list[0](A_list[0](Patch_to_Sky(c)))\n",
    "    for i in range(1, len(frequencies)):\n",
    "        W = W + (H_list[i](A_list[i](Patch_to_Sky(c))))\n",
    "    W = invN(W - d)\n",
    "    #hp.mollview(HT_list[0](W)[:,0], max=1e-36, min=-1e-34)\n",
    "\n",
    "    output_operator = np.empty((), dtype=object)\n",
    "    generate_transposed_jacobian.direct(Patch_to_Sky(c), frequencies[0], output_operator)\n",
    "    transposed_jacobian = output_operator.item()\n",
    "    X = transposed_jacobian(H_list[0].T(W))\n",
    "    for i in range(1, len(frequencies)):\n",
    "        generate_transposed_jacobian.direct(Patch_to_Sky(c), frequencies[i], output_operator)\n",
    "        transposed_jacobian = output_operator.item()\n",
    "        X = X + transposed_jacobian(H_list[i].T(W))\n",
    "    \n",
    "    out[...] = Sky_to_Patch(X)\n",
    "\n",
    "grad_chi_squared = Operator(grad_operator, shapein=6*npixel_patch+nbeta_patch, \n",
    "                            shapeout=6*npixel_patch+nbeta_patch, dtype='float64')"
   ]
  },
  {
   "cell_type": "code",
   "execution_count": null,
   "id": "d2df334f",
   "metadata": {},
   "outputs": [],
   "source": [
    "(grad_chi_squared(Sky_to_Patch(true_c))==0).all()"
   ]
  },
  {
   "cell_type": "code",
   "execution_count": null,
   "id": "cdabae8d",
   "metadata": {},
   "outputs": [],
   "source": [
    "Cov = np.empty((len(frequencies), 3*npixel_patch))\n",
    "mixed_map_mask = np.concatenate([seenpix_qubic,seenpix_qubic,seenpix_qubic])\n",
    "\n",
    "for i in range(3*npixel_patch):\n",
    "    patch_vector = np.zeros((npixel_patch,3))\n",
    "    patch_vector[i%npixel_patch, i//npixel_patch] = 1\n",
    "    basis_vector = np.zeros((npixel,3))\n",
    "    basis_vector[seenpix_qubic, :] = patch_vector\n",
    "    for freq_index in range(len(frequencies)):\n",
    "        vector_i = H_list[freq_index](basis_vector)\n",
    "        vector_i = vector_i.ravel()\n",
    "        Cov[freq_index, i] = np.dot(vector_i, vector_i)\n",
    "    patch_vector[i%npixel_patch, i//npixel_patch] = 0"
   ]
  },
  {
   "cell_type": "code",
   "execution_count": null,
   "id": "dfb08627",
   "metadata": {},
   "outputs": [],
   "source": [
    "def hessian_inverse_diagonal(c, out):\n",
    "    sky_c = Patch_to_Sky(c)\n",
    "    dust_spectrum_squared = np.zeros((len(frequencies),npixel_patch))\n",
    "    derive_dust_spectrum_squared = np.zeros((len(frequencies),npixel_patch))\n",
    "    for index, freq in enumerate(frequencies):\n",
    "        dust_spectrum = hp.ud_grade(modified_black_body(freq, sky_c[6*npixel:]), nside)[seenpix_qubic]\n",
    "        dust_spectrum_squared[index,:] = dust_spectrum**2\n",
    "        derive_dust_spectrum_squared[index,:] = (dust_spectrum * np.log(freq/frequencies[-1]))**2\n",
    "    \n",
    "    out[:3*npixel_patch] = 1/np.sum(Cov, axis=0)\n",
    "    out[3*npixel_patch:6*npixel_patch] = 1/np.sum(np.concatenate((dust_spectrum_squared,\n",
    "                                                                dust_spectrum_squared,dust_spectrum_squared),1)*Cov, axis=0)\n",
    "\n",
    "    factor = np.sum(np.concatenate((derive_dust_spectrum_squared,\n",
    "                                   derive_dust_spectrum_squared,derive_dust_spectrum_squared),1)*Cov, axis=0)\n",
    "    diagonal_beta = factor[:npixel_patch]*c[3*npixel_patch:4*npixel_patch]**2\n",
    "    diagonal_beta += factor[npixel_patch:2*npixel_patch]*c[4*npixel_patch:5*npixel_patch]**2\n",
    "    diagonal_beta += factor[2*npixel_patch:3*npixel_patch]*c[5*npixel_patch:6*npixel_patch]**2\n",
    "    downgrader = np.zeros(npixel)\n",
    "    downgrader[seenpix_qubic] = diagonal_beta\n",
    "    downgrader = hp.ud_grade(downgrader, nside_beta)*(npixel/nbeta)\n",
    "    out[6*npixel_patch:] = 1/downgrader[seenpix_qubic_beta]\n",
    "\n",
    "    out /= np.mean(out)\n",
    "\n",
    "HessianInverseDiagonal = Operator(hessian_inverse_diagonal, shapein=6*npixel_patch+nbeta_patch, shapeout=6*npixel_patch+nbeta_patch, dtype='float64')\n",
    "\n",
    "M = DiagonalOperator(HessianInverseDiagonal(Sky_to_Patch(true_c)))\n",
    "\n"
   ]
  },
  {
   "cell_type": "code",
   "execution_count": null,
   "id": "6347e38e",
   "metadata": {},
   "outputs": [],
   "source": [
    "max_iteration = 1000\n",
    "x0 = np.zeros(6*npixel_patch+nbeta_patch)\n",
    "#x0[3*npixel:6*npixel] = skydust.ravel()\n",
    "\n",
    "x0[:npixel_patch] = Sky_to_Patch(true_c)[:npixel_patch].copy()\n",
    "x0[npixel_patch:3*npixel_patch] = np.zeros(2*npixel_patch)\n",
    "x0[3*npixel_patch:4*npixel_patch] = Sky_to_Patch(true_c)[3*npixel_patch:4*npixel_patch].copy()\n",
    "x0[4*npixel_patch:6*npixel_patch] = 0*Sky_to_Patch(true_c)[4*npixel_patch:6*npixel_patch]*(1+np.random.normal(scale=1.0, size=2*npixel_patch))\n",
    "x0[6*npixel_patch:] = np.ones(nbeta_patch)*1.54\n",
    "\n",
    "\n",
    "#x0[6*npixel_patch:] = Sky_to_Patch(true_c)[6*npixel_patch:]\n",
    "#x0 = true_c.copy()\n",
    "#x0[:npixel] = np.zeros(npixel)\n",
    "\n",
    "sigma=1e-3\n",
    "\n",
    "residues_PR_cg = []\n",
    "\n",
    "start = time()\n",
    "pcg = non_linear_pcg(grad_chi_squared, conjugate_method='polak-ribiere', x0=x0, M=M, tol=1e-16, sigma_0=sigma, tol_linesearch=1e-3, maxiter=max_iteration, residues=residues_PR_cg)\n",
    "x_PR_cg = pcg['x']\n",
    "residues_PR_cg /= np.linalg.norm(grad_chi_squared(x0))\n",
    "print(f'time for PR CG: {time()-start}')\n"
   ]
  },
  {
   "cell_type": "code",
   "execution_count": null,
   "id": "3d04e20a",
   "metadata": {},
   "outputs": [],
   "source": [
    "residues_hybrid_cg = []\n",
    "\n",
    "start = time()\n",
    "pcg = non_linear_pcg(grad_chi_squared, conjugate_method='hybrid', x0=x0, M=M, tol=1e-16, sigma_0=sigma, tol_linesearch=1e-3, maxiter=max_iteration, residues=residues_hybrid_cg)\n",
    "x_hybrid_cg = pcg['x']\n",
    "residues_hybrid_cg /= np.linalg.norm(grad_chi_squared(x0))\n",
    "print(f'time for hybrid CG: {time()-start}')\n"
   ]
  },
  {
   "cell_type": "code",
   "execution_count": null,
   "id": "3abb9c2d",
   "metadata": {},
   "outputs": [],
   "source": [
    "plt.plot(residues_PR_cg, label='Polak-Ribière CG')\n",
    "plt.plot(residues_hybrid_cg, label='Hybrid CG')\n",
    "plt.yscale('log')\n",
    "plt.grid(axis='y', linestyle='dotted')\n",
    "plt.xlabel('Number of iterations')\n",
    "plt.ylabel(r'Relative residue $\\frac{||\\nabla \\chi^2(\\vec{\\beta})||}{||\\nabla \\chi^2(\\vec{0})||}$')\n",
    "plt.title('Simultaneous reconstruction of components maps and spectral indices using a non-linear PCG')\n",
    "plt.legend()\n",
    "plt.show()"
   ]
  },
  {
   "cell_type": "code",
   "execution_count": null,
   "id": "c90a0922",
   "metadata": {},
   "outputs": [],
   "source": [
    "x = Patch_to_Sky(x_PR_cg)\n",
    "x0sky = Patch_to_Sky(x0)\n",
    "name_list = ['CMB I','CMB Q','CMB U','dust I','dust Q','dust U',r'$\\beta$']\n",
    "\n",
    "plt.figure(figsize=(12, 25))\n",
    "for i in range(6):\n",
    "    hp.gnomview(true_c[i*npixel:(i+1)*npixel], sub=(7,4,4*i+1), title='True '+name_list[i], rot=qubic.equ2gal(0, -57),reso=18, cmap='jet')\n",
    "    hp.gnomview(x0sky[i*npixel:(i+1)*npixel], sub=(7,4,4*i+2), title='Initial '+name_list[i], rot=qubic.equ2gal(0, -57),reso=18, cmap='jet')\n",
    "    hp.gnomview(x[i*npixel:(i+1)*npixel], sub=(7,4,4*i+3), title='Reconstructed '+name_list[i], rot=qubic.equ2gal(0, -57),reso=18, cmap='jet')\n",
    "    r = true_c[i*npixel:(i+1)*npixel] - x[i*npixel:(i+1)*npixel]\n",
    "    sig = np.std(r[seenpix_qubic])\n",
    "    hp.gnomview(r, sub=(7,4,4*i+4), title='Difference '+name_list[i], rot=qubic.equ2gal(0, -57),reso=18, min=-2*sig, max=2*sig, cmap='jet')\n",
    "hp.gnomview(true_c[6*npixel:], sub=(7,4,4*6+1), title='True '+name_list[6], rot=qubic.equ2gal(0, -57),reso=18, cmap='jet')\n",
    "hp.gnomview(x0sky[6*npixel:], sub=(7,4,4*6+2), title='Initial '+name_list[6], rot=qubic.equ2gal(0, -57),reso=18, cmap='jet')\n",
    "hp.gnomview(x[6*npixel:], sub=(7,4,4*6+3), title='Reconstructed '+name_list[6], rot=qubic.equ2gal(0, -57),reso=18, cmap='jet')\n",
    "r = true_c[6*npixel:] - x[6*npixel:]\n",
    "sig = np.std(r[seenpix_qubic_beta])\n",
    "hp.gnomview(r, sub=(7,4,4*6+4), title='Difference '+name_list[6], rot=qubic.equ2gal(0, -57),reso=18, min=-2*sig, max=2*sig, cmap='jet')\n",
    "plt.show()\n"
   ]
  },
  {
   "cell_type": "code",
   "execution_count": null,
   "id": "a03979fd",
   "metadata": {},
   "outputs": [],
   "source": [
    "plt.plot(1/HessianInverseDiagonal(Sky_to_Patch(true_c)))\n",
    "plt.yscale('log')\n",
    "plt.show()"
   ]
  },
  {
   "cell_type": "code",
   "execution_count": null,
   "id": "e8ddeb00",
   "metadata": {},
   "outputs": [],
   "source": [
    "epsilon = 1e-5\n",
    "hessian = np.empty((6*npixel_patch+nbeta_patch, 6*npixel_patch+nbeta_patch))\n",
    "ei = np.zeros(6*npixel_patch+nbeta_patch)\n",
    "for i in range(6*npixel_patch+nbeta_patch):\n",
    "    ei[i-1]=0\n",
    "    ei[i]=epsilon\n",
    "    hessian[i,:] = grad_chi_squared(Sky_to_Patch(true_c)+ei)/epsilon\n",
    "    "
   ]
  },
  {
   "cell_type": "code",
   "execution_count": null,
   "id": "f478c110",
   "metadata": {},
   "outputs": [],
   "source": [
    "plt.matshow(hessian, norm='log')#[:50,:50], norm='log', vmin=1e-2)#[:50,:50])\n",
    "plt.colorbar()"
   ]
  },
  {
   "cell_type": "code",
   "execution_count": null,
   "id": "a302b6b3",
   "metadata": {},
   "outputs": [],
   "source": [
    "factor = np.zeros((len(frequencies),npixel_patch))\n",
    "for index, freq in enumerate(frequencies):\n",
    "    factor[index,:] = hp.ud_grade(modified_black_body(freq, true_c[6*npixel:])**2, nside)[seenpix_qubic]"
   ]
  },
  {
   "cell_type": "code",
   "execution_count": null,
   "id": "4fbe148e",
   "metadata": {},
   "outputs": [],
   "source": [
    "Cov = np.empty((len(frequencies), 3*npixel_patch))\n",
    "mixed_map_mask = np.concatenate([seenpix_qubic,seenpix_qubic,seenpix_qubic])\n",
    "\n",
    "for i in range(3*npixel_patch):\n",
    "    patch_vector = np.zeros((npixel_patch,3))\n",
    "    patch_vector[i%npixel_patch, i//npixel_patch] = 1\n",
    "    basis_vector = np.zeros((npixel,3))\n",
    "    basis_vector[seenpix_qubic, :] = patch_vector\n",
    "    for freq_index in range(len(frequencies)):\n",
    "        vector_i = H_list[freq_index](basis_vector)\n",
    "        vector_i = vector_i.ravel()\n",
    "        Cov[freq_index, i] = np.dot(vector_i, vector_i)\n",
    "    patch_vector[i%npixel_patch, i//npixel_patch] = 0"
   ]
  },
  {
   "cell_type": "code",
   "execution_count": null,
   "id": "e6b8f4a2",
   "metadata": {},
   "outputs": [],
   "source": [
    "def hessian_inverse_diagonal(c, out):\n",
    "    sky_c = Patch_to_Sky(c)\n",
    "    dust_spectrum_squared = np.zeros((len(frequencies),npixel_patch))\n",
    "    derive_dust_spectrum_squared = np.zeros((len(frequencies),npixel_patch))\n",
    "    for index, freq in enumerate(frequencies):\n",
    "        dust_spectrum = hp.ud_grade(modified_black_body(freq, sky_c[6*npixel:]), nside)[seenpix_qubic]\n",
    "        dust_spectrum_squared[index,:] = dust_spectrum**2\n",
    "        derive_dust_spectrum_squared[index,:] = (dust_spectrum * np.log(freq/frequencies[-1]))**2\n",
    "    \n",
    "    out[:3*npixel_patch] = 1/np.sum(Cov, axis=0)\n",
    "    out[3*npixel_patch:6*npixel_patch] = 1/np.sum(np.concatenate((dust_spectrum_squared,\n",
    "                                                                dust_spectrum_squared,dust_spectrum_squared),1)*Cov, axis=0)\n",
    "\n",
    "    factor = np.sum(np.concatenate((derive_dust_spectrum_squared,\n",
    "                                   derive_dust_spectrum_squared,derive_dust_spectrum_squared),1)*Cov, axis=0)\n",
    "    diagonal_beta = factor[:npixel_patch]*c[3*npixel_patch:4*npixel_patch]**2\n",
    "    diagonal_beta += factor[npixel_patch:2*npixel_patch]*c[4*npixel_patch:5*npixel_patch]**2\n",
    "    diagonal_beta += factor[2*npixel_patch:3*npixel_patch]*c[5*npixel_patch:6*npixel_patch]**2\n",
    "    downgrader = np.zeros(npixel)\n",
    "    downgrader[seenpix_qubic] = diagonal_beta\n",
    "    downgrader = hp.ud_grade(downgrader, nside_beta)*(npixel/nbeta)\n",
    "    out[6*npixel_patch:] = 1/downgrader[seenpix_qubic_beta]\n",
    "\n",
    "    out /= np.mean(out)\n",
    "\n",
    "HessianInverseDiagonal = Operator(hessian_inverse_diagonal, shapein=6*npixel_patch+nbeta_patch, shapeout=6*npixel_patch+nbeta_patch, dtype='float64')\n",
    "\n",
    "M = DiagonalOperator(HessianInverseDiagonal(Sky_to_Patch(true_c)))\n",
    "\n"
   ]
  },
  {
   "cell_type": "code",
   "execution_count": null,
   "id": "91bd339e",
   "metadata": {},
   "outputs": [],
   "source": [
    "M(np.ones(6*npixel_patch+nbeta_patch))"
   ]
  },
  {
   "cell_type": "code",
   "execution_count": null,
   "id": "515f6357",
   "metadata": {},
   "outputs": [],
   "source": [
    "HessianInverseDiagonal(Sky_to_Patch(true_c))"
   ]
  },
  {
   "cell_type": "code",
   "execution_count": null,
   "id": "62b82147",
   "metadata": {},
   "outputs": [],
   "source": [
    "plt.plot(np.diag(hessian)*HessianInverseDiagonal(Sky_to_Patch(true_c)))\n",
    "#plt.yscale('log')\n"
   ]
  },
  {
   "cell_type": "code",
   "execution_count": null,
   "id": "2b6710f5",
   "metadata": {},
   "outputs": [],
   "source": [
    "plt.plot(np.diag(hessian)[:3*npixel_patch]/np.concatenate((Cov, np.concatenate((factor,factor,factor))*Cov))[:3*npixel_patch])\n",
    "#plt.yscale('log')"
   ]
  },
  {
   "cell_type": "code",
   "execution_count": null,
   "id": "272205b9",
   "metadata": {},
   "outputs": [],
   "source": [
    "plt.plot(np.diag(hessian))\n",
    "plt.yscale('log')"
   ]
  },
  {
   "cell_type": "code",
   "execution_count": null,
   "id": "9bea038a",
   "metadata": {},
   "outputs": [],
   "source": [
    "plt.plot(coverage[seenpix_qubic])\n",
    "plt.yscale('log')"
   ]
  },
  {
   "cell_type": "code",
   "execution_count": null,
   "id": "2975bacd",
   "metadata": {},
   "outputs": [],
   "source": [
    "plt.matshow(hessian[:npixel_patch,:npixel_patch], norm='log')\n",
    "plt.colorbar()\n",
    "plt.matshow(hessian[npixel_patch:2*npixel_patch,npixel_patch:2*npixel_patch], norm='log')\n",
    "plt.colorbar()\n",
    "plt.matshow(hessian[6*npixel_patch:,6*npixel_patch:], norm='log')\n",
    "plt.colorbar()"
   ]
  },
  {
   "cell_type": "code",
   "execution_count": null,
   "id": "93a37770",
   "metadata": {},
   "outputs": [],
   "source": [
    "epsilon = 1e-10\n",
    "diag = grad_chi_squared(Sky_to_Patch(true_c)+epsilon)/epsilon\n",
    "plt.plot(diag[:6*npixel_patch])\n",
    "#plt.yscale('log')"
   ]
  },
  {
   "cell_type": "markdown",
   "id": "e2524816",
   "metadata": {},
   "source": [
    "# Fitting the spectral indices"
   ]
  },
  {
   "cell_type": "code",
   "execution_count": null,
   "id": "294fbe92",
   "metadata": {},
   "outputs": [],
   "source": [
    "nside = 128\n",
    "ndetectors = 1\n",
    "npointings = 8000\n",
    "nside_beta = 32\n",
    "frequencies = [140e9, 150e9, 160e9, 200e9, 220e9, 240e9]\n",
    "npixel = 12*nside**2\n",
    "nbeta = 12*nside_beta**2"
   ]
  },
  {
   "cell_type": "code",
   "execution_count": null,
   "id": "845abd45",
   "metadata": {},
   "outputs": [],
   "source": [
    "skycmb = pysm3.Sky(nside=nside, preset_strings=['c1'], output_unit='uK_CMB')\n",
    "skydust = pysm3.Sky(nside=nside, preset_strings=['d1'], output_unit='uK_CMB')\n",
    "skycmb = np.array(skycmb.get_emission(frequencies[-1] * u.Hz))\n",
    "skydust = np.array(skydust.get_emission(frequencies[-1] * u.Hz))\n",
    "skydust_beta = pysm3.Sky(nside=nside_beta, preset_strings=['d1'], output_unit='uK_CMB')\n",
    "true_beta = np.array(skydust_beta.components[0].mbb_index)\n",
    "true_c = np.concatenate((skycmb[0,:], skycmb[1,:], skycmb[2,:], skydust[0,:], skydust[1,:], skydust[2,:], true_beta))\n",
    "#true_c[3*npixel:6*npixel] = np.ones(3*npixel)"
   ]
  },
  {
   "cell_type": "code",
   "execution_count": null,
   "id": "a513cfa5",
   "metadata": {},
   "outputs": [],
   "source": [
    "H_list = []\n",
    "\n",
    "for freq in frequencies:\n",
    "\n",
    "    dictname = 'pipeline_demo.dict'\n",
    "    d = qubic.qubicdict.qubicDict()\n",
    "    d.read_from_file(dictname)\n",
    "    d['hwp_stepsize'] = 3\n",
    "    d['npointings'] = npointings\n",
    "    d['nside'] = nside\n",
    "    d['filter_nu'] = freq\n",
    "    d['synthbeam_kmax'] = 3\n",
    "    d['synthbeam_fraction'] = 0.95\n",
    "    d['random_pointing'] = True\n",
    "    d['repeat_pointing'] = False\n",
    "    #d['dtheta'] = 180\n",
    "    q = qubic.QubicInstrument(d)\n",
    "    s = qubic.QubicScene(d)\n",
    "    samp = qubic.get_pointing(d)\n",
    "\n",
    "    acq = qubic.QubicAcquisition(q, samp, s, d)\n",
    "    H_list.append(acq[:ndetectors].get_operator())"
   ]
  },
  {
   "cell_type": "code",
   "execution_count": null,
   "id": "fd6d59b5",
   "metadata": {},
   "outputs": [],
   "source": [
    "coverage = acq[:ndetectors].get_coverage()\n",
    "seenpix_qubic = coverage/coverage.max() > 0.1\n",
    "seenpix_qubic_beta = hp.ud_grade(seenpix_qubic, nside_beta)\n",
    "\n",
    "npixel_patch = np.count_nonzero(seenpix_qubic)\n",
    "nbeta_patch = np.count_nonzero(seenpix_qubic_beta)\n",
    "\n",
    "patch_mask = np.concatenate((seenpix_qubic,seenpix_qubic,seenpix_qubic,\n",
    "                       seenpix_qubic,seenpix_qubic,seenpix_qubic,seenpix_qubic_beta))\n",
    "\n",
    "def patch_to_sky(c, out):\n",
    "    sky = true_c[6*npixel:].copy()\n",
    "    sky[seenpix_qubic_beta] = c\n",
    "    out[...] = sky\n",
    "\n",
    "Patch_to_Sky = Operator(patch_to_sky, shapein=nbeta_patch, shapeout=nbeta, dtype='float64')\n",
    "\n",
    "def sky_to_patch(c, out):\n",
    "    out[...] = c[seenpix_qubic_beta]\n",
    "\n",
    "Sky_to_Patch = Operator(sky_to_patch, shapein=nbeta, shapeout=nbeta_patch, dtype='float64')"
   ]
  },
  {
   "cell_type": "code",
   "execution_count": null,
   "id": "04676799",
   "metadata": {},
   "outputs": [],
   "source": [
    "def modified_black_body(freq, beta):\n",
    "    nu0 = frequencies[-1]\n",
    "    return (np.exp(freq * 2.4e-18) - 1) / (np.exp(nu0 * 2.4e-18) - 1) * (freq/nu0)**beta"
   ]
  },
  {
   "cell_type": "code",
   "execution_count": null,
   "id": "26d2f294",
   "metadata": {},
   "outputs": [],
   "source": [
    "def function_A(c, freq, out):\n",
    "    power_beta = modified_black_body(freq, c)\n",
    "    up_grade_power_beta = hp.ud_grade(power_beta, nside)\n",
    "\n",
    "    out[:,0] = true_c[:npixel] + up_grade_power_beta * true_c[3*npixel:4*npixel]\n",
    "    out[:,1] = true_c[npixel:2*npixel] + up_grade_power_beta * true_c[4*npixel:5*npixel]\n",
    "    out[:,2] = true_c[2*npixel:3*npixel] + up_grade_power_beta * true_c[5*npixel:6*npixel]\n",
    "\n",
    "A_list = []\n",
    "for freq in frequencies:\n",
    "    A_list.append(Operator(lambda c, out, freq=freq : function_A(c, freq, out), \n",
    "            shapein=12*nside_beta**2, shapeout=(12*nside**2, 3), dtype='float64'))\n"
   ]
  },
  {
   "cell_type": "code",
   "execution_count": null,
   "id": "1cdf6ed8",
   "metadata": {},
   "outputs": [],
   "source": [
    "# Define the inner operator class\n",
    "class Transposed_Jacobian(Operator):\n",
    "    def __init__(self, c, freq, **keywords):\n",
    "        self.c = c\n",
    "        self.freq = freq\n",
    "        self.npixel = 12*nside**2\n",
    "        self.nbeta = 12*nside_beta**2\n",
    "        super().__init__(shapein=(self.npixel,3), shapeout=self.nbeta, dtype='float64', **keywords)\n",
    "    \n",
    "    def direct(self, input_vector, output):\n",
    "        power_beta = modified_black_body(self.freq, self.c)\n",
    "        derive_power_beta = power_beta * np.log(self.freq/frequencies[-1])\n",
    "    \n",
    "        product = true_c[3*self.npixel:4*self.npixel]*input_vector[:,0] + true_c[4*self.npixel:5*self.npixel]*input_vector[:,1] + true_c[5*self.npixel:6*self.npixel]*input_vector[:,2]\n",
    "        product = hp.ud_grade(product, nside_beta) * (self.npixel // self.nbeta)\n",
    "        \n",
    "        output[...] = derive_power_beta * product\n",
    "\n",
    "# Define the outer operator class\n",
    "class Generate_Transposed_Jacobian(Operator):\n",
    "    def direct(self, c, freq, output):\n",
    "        # Create the generated operator\n",
    "        transposed_jacobian = Transposed_Jacobian(c, freq)\n",
    "        # Store the generated operator in the output\n",
    "        output[...] = transposed_jacobian\n",
    "\n",
    "# Initialize the outer operator\n",
    "generate_transposed_jacobian = Generate_Transposed_Jacobian()\n"
   ]
  },
  {
   "cell_type": "code",
   "execution_count": null,
   "id": "83dfb645",
   "metadata": {},
   "outputs": [],
   "source": [
    "d = H_list[0] * A_list[0](true_c[6*npixel:])\n",
    "for i in range(1, len(frequencies)):\n",
    "    d = d + (H_list[i] * A_list[i](true_c[6*npixel:]))"
   ]
  },
  {
   "cell_type": "code",
   "execution_count": null,
   "id": "0defb35a",
   "metadata": {},
   "outputs": [],
   "source": [
    "invN = acq[:ndetectors].get_invntt_operator()"
   ]
  },
  {
   "cell_type": "code",
   "execution_count": null,
   "id": "3d9cb5a5",
   "metadata": {},
   "outputs": [],
   "source": [
    "def grad_operator(c, out):\n",
    "    W = H_list[0] * A_list[0](Patch_to_Sky(c))\n",
    "    for i in range(1, len(frequencies)):\n",
    "        W += (H_list[i] * A_list[i](Patch_to_Sky(c)))\n",
    "    W = invN * W - (invN(d))\n",
    "\n",
    "    output_operator = np.empty((), dtype=object)\n",
    "    generate_transposed_jacobian.direct(Patch_to_Sky(c), frequencies[0], output_operator)\n",
    "    transposed_jacobian = output_operator.item()\n",
    "    X = transposed_jacobian(H_list[0].T * W)\n",
    "    for i in range(1, len(frequencies)):\n",
    "        generate_transposed_jacobian.direct(Patch_to_Sky(c), frequencies[i], output_operator)\n",
    "        transposed_jacobian = output_operator.item()\n",
    "        X = X + transposed_jacobian(H_list[i].T * W)\n",
    "    \n",
    "    out[...] = Sky_to_Patch(X)\n",
    "\n",
    "grad_chi_squared = Operator(grad_operator, shapein=nbeta_patch, \n",
    "                            shapeout=nbeta_patch, dtype='float64')"
   ]
  },
  {
   "cell_type": "code",
   "execution_count": null,
   "id": "99db9d03",
   "metadata": {},
   "outputs": [],
   "source": [
    "max_iteration = 100\n",
    "#x0 = np.zeros(true_c.shape)\n",
    "#x0[3*npixel:6*npixel] = skydust.ravel()\n",
    "#x0[6*npixel:] = np.ones(nbeta)*1.54\n",
    "x0 = np.ones(nbeta_patch) *1.5\n",
    "\n",
    "sigma=1e-2\n",
    "\n",
    "residues_PR_cg = []\n",
    "\n",
    "start = time()\n",
    "pcg = non_linear_pcg(grad_chi_squared, conjugate_method='polak-ribiere', x0=x0, tol=1e-16, sigma_0=sigma, tol_linesearch=1e-3, maxiter=max_iteration, residues=residues_PR_cg)\n",
    "x_PR_cg = pcg['x']\n",
    "residues_PR_cg /= np.linalg.norm(grad_chi_squared(x0))\n",
    "print(f'time for PR CG: {time()-start}')\n"
   ]
  },
  {
   "cell_type": "code",
   "execution_count": null,
   "id": "66745bd5",
   "metadata": {},
   "outputs": [],
   "source": [
    "plt.plot(residues_PR_cg, label='Polak-Ribière CG')\n",
    "plt.yscale('log')\n",
    "plt.grid(axis='y', linestyle='dotted')\n",
    "plt.xlabel('Number of iterations')\n",
    "plt.ylabel(r'Relative residue $\\frac{||\\nabla \\chi^2(\\vec{\\beta})||}{||\\nabla \\chi^2(\\vec{0})||}$')\n",
    "plt.title('Reconstruction of the spectral indices using a non-linear PCG')\n",
    "plt.legend()\n",
    "plt.show()"
   ]
  },
  {
   "cell_type": "code",
   "execution_count": null,
   "id": "ac638c87",
   "metadata": {},
   "outputs": [],
   "source": [
    "hp.mollview(true_c[6*npixel:], sub=(1,3,1))\n",
    "hp.mollview(Patch_to_Sky(x_PR_cg), sub=(1,3,2))\n",
    "hp.mollview(true_c[6*npixel:] - Patch_to_Sky(x_PR_cg), sub=(1,3,3))\n",
    "plt.show()"
   ]
  },
  {
   "cell_type": "code",
   "execution_count": null,
   "id": "4facc2ca",
   "metadata": {},
   "outputs": [],
   "source": [
    "nbeta_patch"
   ]
  },
  {
   "cell_type": "code",
   "execution_count": null,
   "id": "7d02ab63",
   "metadata": {},
   "outputs": [],
   "source": [
    "c = np.zeros(nbeta_patch)\n",
    "c[40]=1\n",
    "hp.gnomview(true_c[3*npixel:4*npixel], rot=qubic.equ2gal(0, -57),reso=15)\n",
    "hp.gnomview(true_c[6*npixel:], rot=qubic.equ2gal(0, -57),reso=15)\n",
    "hp.gnomview(Patch_to_Sky(c), rot=qubic.equ2gal(0, -57),reso=15)"
   ]
  },
  {
   "cell_type": "code",
   "execution_count": null,
   "id": "93580d67",
   "metadata": {},
   "outputs": [],
   "source": [
    "epsilon = 1e-3\n",
    "hessian = np.empty((nbeta_patch, nbeta_patch))\n",
    "for i in range(nbeta_patch):\n",
    "    ei = np.zeros(nbeta_patch)\n",
    "    ei[i]=1\n",
    "    hessian[i,:] = grad_chi_squared(Sky_to_Patch(true_c[6*npixel:])+epsilon*ei)/epsilon\n",
    "    "
   ]
  },
  {
   "cell_type": "code",
   "execution_count": null,
   "id": "68061fa7",
   "metadata": {},
   "outputs": [],
   "source": [
    "plt.matshow(hessian[:50,:50], norm='log', vmin=1e-2)#[:50,:50])\n",
    "plt.colorbar()"
   ]
  },
  {
   "cell_type": "code",
   "execution_count": null,
   "id": "6ce6ce7c",
   "metadata": {},
   "outputs": [],
   "source": [
    "eigenvalues, eigenvectors = np.linalg.eigh(hessian)"
   ]
  },
  {
   "cell_type": "code",
   "execution_count": null,
   "id": "bb593cb6",
   "metadata": {},
   "outputs": [],
   "source": [
    "plt.plot(eigenvalues[::-1])\n",
    "plt.yscale('log')"
   ]
  },
  {
   "cell_type": "code",
   "execution_count": null,
   "id": "02a54cb3",
   "metadata": {},
   "outputs": [],
   "source": [
    "M=np.linalg.inv(hessian)"
   ]
  },
  {
   "cell_type": "code",
   "execution_count": null,
   "id": "055ecdca",
   "metadata": {},
   "outputs": [],
   "source": [
    "(grad_chi_squared(true_c[6*npixel:])==0)#.all()"
   ]
  },
  {
   "cell_type": "code",
   "execution_count": null,
   "id": "dd84af9e",
   "metadata": {},
   "outputs": [],
   "source": [
    "grad_chi_squared(true_c[6*npixel:])"
   ]
  },
  {
   "cell_type": "code",
   "execution_count": null,
   "id": "0b380228",
   "metadata": {},
   "outputs": [],
   "source": [
    "d"
   ]
  },
  {
   "cell_type": "code",
   "execution_count": null,
   "id": "cee6fa43",
   "metadata": {},
   "outputs": [],
   "source": [
    "d"
   ]
  },
  {
   "cell_type": "code",
   "execution_count": null,
   "id": "51a70ea8",
   "metadata": {},
   "outputs": [],
   "source": []
  }
 ],
 "metadata": {
  "kernelspec": {
   "display_name": "Python 3 (ipykernel)",
   "language": "python",
   "name": "python3"
  }
 },
 "nbformat": 4,
 "nbformat_minor": 5
}
