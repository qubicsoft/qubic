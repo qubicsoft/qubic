{
 "cells": [
  {
   "cell_type": "markdown",
   "id": "ddfccdb8",
   "metadata": {},
   "source": [
    "# Test pointing strategy\n",
    "\n",
    "Edited by Louise, 27/04/2020\n",
    "\n",
    "This notebook shows the different pointing strategies. It should be completed with the sweeping srategy."
   ]
  },
  {
   "cell_type": "code",
   "execution_count": null,
   "id": "112e939f",
   "metadata": {},
   "outputs": [],
   "source": [
    "# General modules\n",
    "from __future__ import division, print_function\n",
    "%matplotlib inline\n",
    "\n",
    "import os\n",
    "\n",
    "# Specific science modules\n",
    "import healpy as hp\n",
    "import numpy as np\n",
    "import matplotlib.pyplot as plt\n",
    "\n",
    "# Specific qubic modules\n",
    "import pysm3\n",
    "import qubic\n",
    "from qubicpack.utilities import Qubic_DataDir\n",
    "from pysimulators import FitsArray\n",
    "\n",
    "# from pysm import models\n",
    "from qubic import QubicSkySim as qss\n",
    "\n",
    "rc('figure', figsize=(13, 10))\n",
    "rc('font', size=13)"
   ]
  },
  {
   "cell_type": "code",
   "execution_count": null,
   "id": "9fea5fe5",
   "metadata": {},
   "outputs": [],
   "source": [
    "# Repository for dictionary\n",
    "global_dir = Qubic_DataDir(datafile='instrument.py', datadir='../')\n",
    "dictfilename = global_dir + 'dicts/pipeline_demo.dict'\n",
    "\n",
    "# Read dictionary chosen\n",
    "d = qubic.qubicdict.qubicDict()\n",
    "d.read_from_file(dictfilename)\n",
    "\n",
    "d['config'] = 'TD'\n",
    "d['noiseless'] = True\n",
    "d['tol'] = 1e-4\n",
    "d['dtheta'] = 4.\n",
    "d['nf_sub'] = 1\n",
    "d['nf_recon'] = 1\n",
    "\n",
    "# Center of the patch observed in galactic coordinates\n",
    "center = qubic.equ2gal(d['RA_center'], d['DEC_center'])\n"
   ]
  },
  {
   "cell_type": "code",
   "execution_count": null,
   "id": "babe9cbe",
   "metadata": {},
   "outputs": [],
   "source": [
    "# Make a sky using PYSM\n",
    "seed = None\n",
    "sky_config = {'cmb': seed}                \n",
    "\n",
    "# Generate the maps at each sub-frequency\n",
    "Qubic_sky = qss.Qubic_sky(sky_config, d)\n",
    "x0 = Qubic_sky.get_simple_sky_map()\n",
    "\n",
    "print('sky shape: ', x0.shape)\n",
    "\n",
    "# Look at the input sky maps using Healpy\n",
    "istokes = 0 # Stokes parameter (I, Q, U)\n",
    "rr = 9 # Resolution in arcmin\n",
    "\n",
    "plt.figure(figsize=(15, 6))\n",
    "for istk in range(3):\n",
    "    plt.subplots_adjust(wspace=0.9)\n",
    "    hp.mollview(x0[0, :, istk], cmap='jet', sub=(1, 3, istk+1), \n",
    "                title = '{0} Stokes parameter'.format(d['kind'][istk]))"
   ]
  },
  {
   "cell_type": "code",
   "execution_count": null,
   "id": "2b9038f6",
   "metadata": {},
   "outputs": [],
   "source": [
    "# Pointing strategy\n",
    "d['random_pointing'] = False\n",
    "d['repeat_pointing'] = True\n",
    "d['sweeping_pointing'] = False\n",
    "\n",
    "# Number of pointings\n",
    "d['npointings'] = 1500\n",
    "\n",
    "p = qubic.get_pointing(d)"
   ]
  },
  {
   "cell_type": "code",
   "execution_count": null,
   "id": "030cdc78",
   "metadata": {},
   "outputs": [],
   "source": [
    "# Look at the pointing parameters\n",
    "print('\\nIndex', p.index)\n",
    "print('\\nHWP angle', p.angle_hwp)\n",
    "print('\\nAzimuth', p.azimuth)\n",
    "print('\\nElevation', p.elevation)\n",
    "print('\\nPitch', p.pitch)"
   ]
  },
  {
   "cell_type": "markdown",
   "id": "1ee4bf04",
   "metadata": {},
   "source": [
    "## Check that HWP angles must be equally spaced\n",
    "\n",
    "We use the repeat pointing strategy."
   ]
  },
  {
   "cell_type": "code",
   "execution_count": null,
   "id": "3a959642",
   "metadata": {},
   "outputs": [],
   "source": [
    "d['random_pointing'] = False\n",
    "d['repeat_pointing'] = True\n",
    "d['sweeping_pointing'] = False\n",
    "\n",
    "# Number of pointings\n",
    "d['npointings'] = 3000\n",
    "d['nhwp_angles'] = 3\n",
    "\n",
    "p = qubic.get_pointing(d)\n",
    "\n",
    "# Change the HWP angles along the pointing\n",
    "hwp = p.angle_hwp\n",
    "hwp0 = np.where(hwp>50., hwp-20., hwp*1)\n",
    "# hwp1 = np.where(hwp<30., hwp+5., hwp*1)\n",
    "# hwp2 = np.where(hwp<20., hwp-15., hwp*1)\n",
    "\n",
    "plt.figure(figsize=(6, 6))\n",
    "plt.plot(p.index, hwp, 'r', label='Equally spaced')\n",
    "plt.plot(p.index, hwp0, 'b--', label='Not equally spaced')\n",
    "# plt.plot(p.index, hwp1, 'g--', label='Not equally spaced')\n",
    "plt.xlabel('Pointing index')\n",
    "plt.ylabel('HWP angle [deg]')\n",
    "plt.legend()\n",
    "# plt.savefig('/home/lmousset/QUBIC/Notes_presentations/HWP_angle_regularly_spaced/6HWPangles.pdf', bbox_inches='tight')\n",
    "# import tikzplotlib as tkz\n",
    "# tkz.save('/home/lmousset/QUBIC/These_manuscrit/tikz/HWPangles.tex')\n",
    "\n",
    "# Apply the changes \n",
    "p.angle_hwp = hwp0"
   ]
  },
  {
   "cell_type": "code",
   "execution_count": null,
   "id": "97252069",
   "metadata": {},
   "outputs": [],
   "source": [
    "# Model of the scene at the time of observation\n",
    "s = qubic.QubicScene(d)\n",
    "\n",
    "# Create a monofrequency Instrument.\n",
    "q = qubic.QubicInstrument(d)\n",
    "\n",
    "# Create an acquisition operator \n",
    "a = qubic.QubicAcquisition(q, p, s, d)\n",
    "\n",
    "# Get coverage map\n",
    "# i.e. how many times were seen each pixel of the sky (not trivial because of the synthetic beam)\n",
    "cov = a.get_coverage()\n",
    "\n",
    "# Monofreq TOD making\n",
    "TOD, maps_convolved = a.get_observation(x0[0], noiseless=d['noiseless'])\n",
    "\n",
    "print('TOD shape: ', TOD.shape)\n",
    "print('maps conv shape: ', maps_convolved.shape)\n",
    "\n",
    "# From TOD reconstruct sky maps.\n",
    "maps_recon, nit, error = a.tod2map(TOD, d, cov=cov)\n",
    "\n",
    "print('The shape of the reconstructed maps is (#pixels, #stokes) :', maps_recon.shape)\n",
    "print('{} iterations were needed to get an error of {}'.format(nit, error))"
   ]
  },
  {
   "cell_type": "code",
   "execution_count": null,
   "id": "0547a4ea",
   "metadata": {},
   "outputs": [],
   "source": [
    "# Compare with the convolved maps\n",
    "diff = maps_recon - maps_convolved\n",
    "print(diff.shape)\n",
    "print(maps_recon.shape)\n",
    "\n",
    "# Keeping only the sky region which has been significantly observed\n",
    "# Pixels not seen enough are replaced by UNSEEN value\n",
    "maxcov = np.max(cov)\n",
    "unseen = cov < maxcov * 0.15\n",
    "\n",
    "maps_convolved[unseen, :] = hp.UNSEEN\n",
    "maps_recon[unseen, :] = hp.UNSEEN\n",
    "diff[unseen, :] = hp.UNSEEN"
   ]
  },
  {
   "cell_type": "code",
   "execution_count": null,
   "id": "0dffd192",
   "metadata": {},
   "outputs": [],
   "source": [
    "rr = 7# Resolution in arcmin\n",
    "stokes = ['I', 'Q', 'U']\n",
    "plt.figure(figsize=(12, 12))\n",
    "for istokes in range(3):\n",
    "    if istokes == 0:\n",
    "        min = -200\n",
    "        max = 200\n",
    "    else:\n",
    "        min = -8\n",
    "        max = 8\n",
    "    hp.gnomview(maps_convolved[:, istokes], cmap='jet', rot=center, sub=(3,3,3*istokes+1), reso=rr,\n",
    "                title='Input ' + stokes[istokes], unit='$\\mu K$', format='%g',  min=min, max=max)\n",
    "    hp.gnomview(maps_recon[:, istokes], cmap='jet',rot=center, sub=(3,3,3*istokes+2), reso=rr,\n",
    "                title='Output ' + stokes[istokes], unit='$\\mu K$', min=min, max=max)\n",
    "    hp.gnomview(diff[:, istokes], cmap='jet',rot=center, sub=(3,3,3*istokes+3), reso=rr,\n",
    "                title='Residuals ' + stokes[istokes], unit='$\\mu K$', min=None, max=None)\n"
   ]
  },
  {
   "cell_type": "code",
   "execution_count": null,
   "id": "e7c106b1",
   "metadata": {},
   "outputs": [],
   "source": [
    "# Only plot the residuals\n",
    "rr = 7\n",
    "stokes = ['I', 'Q', 'U']\n",
    "plt.figure(figsize=(12, 4))\n",
    "for istokes in range(3):\n",
    "    hp.gnomview(diff[:, istokes], cmap='jet',rot=center, sub=(1,3,istokes+1), reso=rr,\n",
    "                title='Residuals ' + stokes[istokes], unit='$\\mu K$', min=None, max=None)\n",
    "plt.tight_layout()\n",
    "# plt.savefig('/home/lmousset/QUBIC/Notes_presentations/HWP_angle_regularly_spaced/residuals_6HWP_equal_space.pdf', bbox_inches='tight')"
   ]
  },
  {
   "cell_type": "code",
   "execution_count": null,
   "id": "a9dbf9af",
   "metadata": {},
   "outputs": [],
   "source": []
  }
 ],
 "metadata": {
  "kernelspec": {
   "display_name": "Python 3",
   "language": "python",
   "name": "python3"
  }
 },
 "nbformat": 4,
 "nbformat_minor": 5
}
