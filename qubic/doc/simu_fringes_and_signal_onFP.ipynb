{
 "cells": [
  {
   "cell_type": "markdown",
   "id": "b6e3a1ea",
   "metadata": {},
   "source": [
    "# Simulations for calibration (fringes on the FP)\n",
    "\n",
    "#### Edited by Louise 16-04-2021\n",
    "selfcal_lib.py allows to do several simulations concerning the calibration, especially the simlation of the signal on the focal plane. This notebook gives some examples of what you can do with.\n",
    "\n",
    "To simulate the signal on the FP, there are 3 possibilities:\n",
    " - Analytical simulation (only fringes, with a simple sine) \n",
    " - Qubic soft simulation\n",
    " - Maynooth simulations (plotted through Qubic soft)\n",
    " \n",
    "Each possibility corresponds to a python class in Selfcal_lib.py."
   ]
  },
  {
   "cell_type": "code",
   "execution_count": null,
   "id": "5c29bd0c",
   "metadata": {
    "pycharm": {
     "is_executing": false
    }
   },
   "outputs": [],
   "source": [
    "from __future__ import division, print_function\n",
    "\n",
    "%matplotlib inline\n",
    "%matplotlib notebook\n",
    "\n",
    "import numpy as np\n",
    "import scipy\n",
    "import matplotlib.pyplot as plt\n",
    "import matplotlib.ticker as plticker\n",
    "from matplotlib.colors import SymLogNorm\n",
    "\n",
    "from qubicpack.utilities import Qubic_DataDir\n",
    "import qubic\n",
    "from qubic import selfcal_lib as scal\n",
    "\n",
    "plt.rcParams['figure.figsize'] = (12, 6)\n"
   ]
  },
  {
   "cell_type": "code",
   "execution_count": null,
   "id": "da6e8bcc",
   "metadata": {},
   "outputs": [],
   "source": [
    "# Get a dictionary\n",
    "d = qubic.qubicdict.qubicDict()\n",
    "d.read_from_file('global_source_oneDet.dict')\n",
    "print(d['detarray'])\n",
    "print(d['MultiBand'])\n",
    "print(d['nf_sub'])\n",
    "\n",
    "d['MultiBand'] = False\n",
    "d['nf_sub'] = 1\n",
    "d['config'] = 'FI'\n",
    "d['beam_shape'] = 'gaussian'"
   ]
  },
  {
   "cell_type": "markdown",
   "id": "252842a8",
   "metadata": {},
   "source": [
    "## Instrument detector and horn config"
   ]
  },
  {
   "cell_type": "code",
   "execution_count": null,
   "id": "3f568469",
   "metadata": {},
   "outputs": [],
   "source": [
    "# QubicInstrument\n",
    "q = qubic.QubicInstrument(d)\n",
    "\n",
    "plt.figure(figsize=(6, 4))\n",
    "q.detector.plot(fill=True)\n",
    "plt.axis('square')\n",
    "plt.xlabel('X_GRF')\n",
    "plt.ylabel('Y_GRF')\n",
    "plt.title('q.detector.plot()')\n",
    "\n",
    "# q.optics.focal_length = 0.30 # Change the focal length"
   ]
  },
  {
   "cell_type": "code",
   "execution_count": null,
   "id": "80b4eafc",
   "metadata": {},
   "outputs": [],
   "source": [
    "# scal.close_switches(q, np.arange(1, 64))\n",
    "# scal.open_switches(q, [1, 45, 50])\n",
    "d1 = qubic.qubicdict.qubicDict()\n",
    "d1.read_from_file('global_source_oneDet.dict')\n",
    "\n",
    "d1['config'] = 'TD'\n",
    "q1 = qubic.QubicInstrument(d1)\n",
    "\n",
    "fig = plt.figure(figsize=(10, 10))\n",
    "q.horn.plot(facecolor_open='grey', alpha=0.4)\n",
    "q1.horn.plot(facecolor_open='g', alpha=0.3)\n",
    "\n",
    "# plt.xlabel('$X_{GRF}$ [m]', fontsize=20)\n",
    "# plt.ylabel('$Y_{GRF}$ [m]', fontsize=20)\n",
    "plt.xlabel('$h_x$ [m]', fontsize=30)\n",
    "plt.ylabel('$h_y$ [m]', fontsize=30)\n",
    "plt.axis('square')\n",
    "plt.rc('font', size=10) \n",
    "fig.tight_layout()\n",
    "# plt.savefig('/home/lmousset/QUBIC/Qubic_work/SpectroImagerie/paper_plot/horn_array.pdf', dpi=100)"
   ]
  },
  {
   "cell_type": "code",
   "execution_count": null,
   "id": "f98cd676",
   "metadata": {},
   "outputs": [],
   "source": [
    "# Open or close switches\n",
    "# scal.close_switches(q, np.arange(1, 64))\n",
    "# scal.open_switches(q, [1, 45, 50])\n",
    "\n",
    "# Plot the horn array and a baseline\n",
    "fig, axs = plt.subplots(1, 2, figsize=(12, 6))\n",
    "ax1, ax2 = np.ravel(axs)\n",
    "scal.plot_horns(q, simple=False, ax=ax1)\n",
    "# q.horn.plot()\n",
    "ax1.set_xlabel('$X_{GRF}$ [m]', fontsize=20)\n",
    "ax1.set_ylabel('$Y_{GRF}$ [m]', fontsize=20)\n",
    "\n",
    "\n",
    "# Numbering on the horns\n",
    "a = 1\n",
    "x = q.horn.center[:, 0]\n",
    "y = q.horn.center[:, 1]\n",
    "# for i,j in zip(x, y):\n",
    "#     corr = -0.005 # add a little correction to put annotation in marker's centrum\n",
    "#     ax1.annotate(str(a),  xy=(i + corr, j + corr), fontsize=14, color='r')\n",
    "#     a += 1\n",
    "\n",
    "q.horn.plot(facecolor_open='green', alpha=0.2)\n",
    "# scal.plot_baseline(q, [25, 57], ax=ax2)\n",
    "ax2.set_xlabel('$X_{GRF}$ [m]', fontsize=20)\n",
    "ax2.set_ylabel('$Y_{GRF}$ [m]', fontsize=20)\n",
    "\n",
    "for i,j in zip(x, y):\n",
    "    corr = 0.001 # add a little correction to put annotation in marker's centrum\n",
    "    ax2.annotate(str(a),  xy=(i - (corr+0.001), j - corr), fontsize=10, color='k')\n",
    "    a += 1\n",
    "ax2.axis('square')\n",
    "\n",
    "fig.tight_layout()"
   ]
  },
  {
   "cell_type": "markdown",
   "id": "35321492",
   "metadata": {},
   "source": [
    "## Analytical function to simulate fringes\n",
    "It is simply a 2D sine on the focal plane to make fringes according to the focal length, the frequency, the position of the source. \n",
    "\n",
    "A gaussian apodization is done to represent the primary beam. The Gaussian is centered in (0, 0) when the source is on-axis (theta_source=0, phi_source=0.). It moves according to the position of the source. "
   ]
  },
  {
   "cell_type": "code",
   "execution_count": null,
   "id": "bd1a6462",
   "metadata": {},
   "outputs": [],
   "source": [
    "baseline = [60, 63]\n",
    "Model_Ana = scal.Model_Fringes_Ana(q, baseline, \n",
    "                                   theta_source=np.deg2rad(0.), \n",
    "                                   phi_source=np.deg2rad(0.), \n",
    "                                   nu_source=150e9, fwhm=20., amp=1., frame='ONAFP')\n",
    "print(Model_Ana.focal)\n",
    "\n",
    "xONAFP, yONAFP, fringes = Model_Ana.get_fringes(times_gaussian=True)\n",
    "\n",
    "scal.scatter_plot_FP(q, xONAFP, yONAFP, fringes, frame='ONAFP', s=50)\n"
   ]
  },
  {
   "cell_type": "markdown",
   "id": "ed07e126",
   "metadata": {},
   "source": [
    "# Qubic soft simulation (no aberrations)\n",
    "\n",
    "This is a simulation that doesn't take into account optical aberrations (only geometrical optics). If the point source is on the optical axis, then you get a symmetrical image.\n",
    "\n",
    "In general Qubic Soft uses only the GRF frame. However, selfcal_lib allows to use the ONAFP frame which is the one uned on the instrument."
   ]
  },
  {
   "cell_type": "markdown",
   "id": "b9cd5704",
   "metadata": {},
   "source": [
    "#### Get the image on the focal plane for a given horn configuration\n"
   ]
  },
  {
   "cell_type": "code",
   "execution_count": null,
   "id": "72e25fb1",
   "metadata": {},
   "outputs": [],
   "source": [
    "scal.open_switches(q, np.arange(1, 401, 1))\n",
    "# scal.close_switches(q, np.arange(1, 64))\n",
    "\n",
    "xONAFP, yONAFP, power = scal.get_response_power(q, 0., 0., 150e9, 1.)\n",
    "# xONAFP, yONAFP, _ = scal.get_response_power(q, 0., 0., 150e9, 1.)\n",
    "\n",
    "fig = plt.figure(figsize=(10, 10))\n",
    "ax = fig.gca()\n",
    "scal.scatter_plot_FP(q, xONAFP, yONAFP, power, frame='ONAFP', title='', s=190, unit=None, cbar=None,\n",
    "                      vmin=0, vmax=1.5e-5, fig=fig, ax=ax, fontsize=30, Norm=SymLogNorm(1e-6))\n",
    "fig.tight_layout()\n",
    "plt.savefig('/home/lmousset/QUBIC/Qubic_work/SpectroImagerie/paper_plot/detector_array.pdf', dpi=100)"
   ]
  },
  {
   "cell_type": "markdown",
   "id": "a3e0678b",
   "metadata": {},
   "source": [
    "#### Create a Fringes object"
   ]
  },
  {
   "cell_type": "code",
   "execution_count": null,
   "id": "c900ff6b",
   "metadata": {},
   "outputs": [],
   "source": [
    "baseline = [274, 281] # for the FI\n",
    "# baseline = [1, 57]     # for the TD\n",
    "\n",
    "Model_QS = scal.Model_Fringes_QubicSoft(q, baseline,\n",
    "                                        theta_source=0., phi_source=0.,\n",
    "                                        nu_source=150e9, spec_irrad_source=1.,\n",
    "                                        frame='ONAFP', external_A=None, hwp_position=0)"
   ]
  },
  {
   "cell_type": "code",
   "execution_count": null,
   "id": "ed7eea8b",
   "metadata": {},
   "outputs": [],
   "source": [
    "# Information are store in the object\n",
    "print(Model_QS.frame)\n",
    "print(Model_QS.nu_source)\n",
    "print(Model_QS.baseline)"
   ]
  },
  {
   "cell_type": "markdown",
   "id": "72c2ffad",
   "metadata": {},
   "source": [
    "#### Get fringes \n",
    "\n",
    "You can choose ONAFP or GRF frame.\n",
    "Each pointing is defined by a position of the source (theta, phi)."
   ]
  },
  {
   "cell_type": "code",
   "execution_count": null,
   "id": "9cb00371",
   "metadata": {},
   "outputs": [],
   "source": [
    "xONAFP, yONAFP, fringes = Model_QS.get_fringes(doplot=True, verbose=True, norm=None, s=30)\n",
    "\n",
    "print('fringes shape:', fringes.shape)"
   ]
  },
  {
   "cell_type": "code",
   "execution_count": null,
   "id": "7754d5bc",
   "metadata": {},
   "outputs": [],
   "source": [
    "# Information are store in the object\n",
    "print(Model_QS.x)\n",
    "print(Model_QS.fringes)"
   ]
  },
  {
   "cell_type": "markdown",
   "id": "418960d6",
   "metadata": {},
   "source": [
    "#### Plot the fringes\n",
    "\n",
    "There are 2 functions, one with scatter plot and the other with pcolor.\n",
    "It is convenient to be sure of the coordinates and the image orientation. "
   ]
  },
  {
   "cell_type": "code",
   "execution_count": null,
   "id": "5947e149",
   "metadata": {},
   "outputs": [],
   "source": [
    "fig, axs = plt.subplots(1, 2)\n",
    "ax1, ax2 = np.ravel(axs)\n",
    "fig.suptitle(f'Baseline: {baseline}', fontsize=18)\n",
    "fig.subplots_adjust(wspace=0.3)\n",
    "\n",
    "scal.scatter_plot_FP(q, xONAFP, yONAFP, fringes, frame='ONAFP', fig=fig, ax=ax1, \n",
    "                     title='Scatter plot', norm=None, s=30, cbar=True, fontsize=14)\n",
    "\n",
    "\n",
    "scal.pcolor_plot_FP(q, xONAFP, yONAFP, fringes, frame='ONAFP', fig=fig, ax=ax2, \n",
    "                    title='pcolor plot', norm=None)"
   ]
  },
  {
   "cell_type": "code",
   "execution_count": null,
   "id": "f3c04c9f",
   "metadata": {},
   "outputs": [],
   "source": [
    "# Make a plot for paper 3 without any axis\n",
    "fig = plt.figure(figsize=(8, 8))\n",
    "ax = plt.gca()\n",
    "ax.axis('off')\n",
    "scal.scatter_plot_FP(q, xONAFP, yONAFP, fringes, frame='ONAFP', fig=fig, ax=ax,\n",
    "                     title='', norm=None, s=100, cbar=False, fontsize=18)\n",
    "# fig.savefig('/home/lmousset/QUBIC/Images/plots/fringes_QSsimu_BaselineTD57-64.png', transparent=True)"
   ]
  },
  {
   "cell_type": "markdown",
   "id": "5c6184b4",
   "metadata": {},
   "source": [
    "#### Get fringes from the combination \n",
    "This is what is actually done when we measure the fringes."
   ]
  },
  {
   "cell_type": "code",
   "execution_count": null,
   "id": "84ba04ce",
   "metadata": {},
   "outputs": [],
   "source": [
    "# Get all combinations\n",
    "x, y, S, Cminus_i, Sminus_ij, Cminus_j, Ci, Cj, Sij = Model_QS.get_all_combinations_power(doplot=True, \n",
    "                                                                                          verbose=True, \n",
    "                                                                                          norm=SymLogNorm(5e-8), \n",
    "                                                                                          s=150)\n",
    "\n",
    "print('shape of each combination :', Cminus_i.shape)"
   ]
  },
  {
   "cell_type": "markdown",
   "id": "2d2a5e3c",
   "metadata": {},
   "source": [
    "#### Look at the cycle acquired during measurement"
   ]
  },
  {
   "cell_type": "code",
   "execution_count": null,
   "id": "ad20d2be",
   "metadata": {},
   "outputs": [],
   "source": [
    "cycle = np.array((S, Cminus_i, Sminus_ij, S, Cminus_j, S, S)) - S\n",
    "cycle.shape"
   ]
  },
  {
   "cell_type": "code",
   "execution_count": null,
   "id": "ab2a2943",
   "metadata": {},
   "outputs": [],
   "source": [
    "# TEs ans ASIC numbers\n",
    "tes = scal.get_all_tes_numbers(q)"
   ]
  },
  {
   "cell_type": "code",
   "execution_count": null,
   "id": "13be2fa1",
   "metadata": {},
   "outputs": [],
   "source": [
    "for i in range(100, 102):\n",
    "    plt.figure()\n",
    "    plt.step(np.arange(0, 7), cycle[:, i], where='post', color='r')\n",
    "    \n",
    "    plt.axvspan(0, 1, color='k', alpha=0.2, label='All open')\n",
    "    plt.axvspan(3, 4, color='k', alpha=0.2)\n",
    "    plt.axvspan(5, 6, color='k', alpha=0.2)\n",
    "    plt.axvspan(1, 2, color='b', alpha=0.2, label='H1 close')\n",
    "    plt.axvspan(2, 3, color='g', alpha=0.2, label='H1 H2 close')\n",
    "    plt.axvspan(4, 5, color='c', alpha=0.2, label='H2 close')\n",
    "    \n",
    "    plt.xlim(0, 6)\n",
    "    plt.xlabel('Step index')\n",
    "    plt.ylabel('TOD')\n",
    "    plt.title(f'TES {tes[i, 1]} - ASIC {tes[i, 0]}')\n",
    "    plt.legend()"
   ]
  },
  {
   "cell_type": "code",
   "execution_count": null,
   "id": "b101a789",
   "metadata": {},
   "outputs": [],
   "source": [
    "# Make the combination to get the fringes\n",
    "\n",
    "# Complete one: S_tot - Cminus_i - Cminus_j + Sminus_ij + Ci +Cj\n",
    "x, y, fringes_true = Model_QS.get_fringes_from_combination(measured_comb=False,\n",
    "                                                           doplot=True, verbose=False, s=150)\n",
    "\n",
    "# Measured one: S_tot - Cminus_i - Cminus_j + Sminus_ij\n",
    "x, y, fringes_meas = Model_QS.get_fringes_from_combination(measured_comb=True,\n",
    "                                                           doplot=True, verbose=False, s=150)"
   ]
  },
  {
   "cell_type": "code",
   "execution_count": null,
   "id": "5b9121e3",
   "metadata": {},
   "outputs": [],
   "source": [
    "# Look at the difference between both combinations\n",
    "\n",
    "fig, axs = plt.subplots(1, 2)\n",
    "ax1, ax2 = axs.ravel()\n",
    "fig.suptitle(f'Baseline: {baseline}', fontsize=18)\n",
    "fig.subplots_adjust(wspace=0.3)\n",
    "\n",
    "scal.scatter_plot_FP(q, x, y, fringes_true, frame='ONAFP', \n",
    "                     fig=fig, ax=ax1, title='Complete combination', norm=None, s=150)\n",
    "\n",
    "scal.scatter_plot_FP(q, x, y, fringes_meas, frame='ONAFP', \n",
    "                     fig=fig, ax=ax2, title='Measured combination', norm=None, s=150)"
   ]
  },
  {
   "cell_type": "markdown",
   "id": "4d64580b",
   "metadata": {},
   "source": [
    "# Power on the focal plane with Maynooth simulations\n",
    "\n",
    "Those simulations include optical aberrations.\n",
    "You need to download the files at : https://drive.google.com/open?id=19dPHw_CeuFZ068b-VRT7N-LWzOL1fmfG\n",
    "\n",
    "They are only available for the TD instrument."
   ]
  },
  {
   "cell_type": "code",
   "execution_count": null,
   "id": "365456c7",
   "metadata": {},
   "outputs": [],
   "source": [
    "# Path to the simulated files \n",
    "rep = Qubic_DataDir(datafile='detcentres.txt', datadir='/home/lmousset/QUBIC/')\n",
    "print('rep:', rep)"
   ]
  },
  {
   "cell_type": "markdown",
   "id": "1d5424e9",
   "metadata": {},
   "source": [
    "#### Get the power on the FP for an arbitrary horn configuration\n",
    "\n",
    "This simulations are done in the ONAFP frame. The resolution is high (241 x 241) and it assumes an area bigger than the focal plane."
   ]
  },
  {
   "cell_type": "code",
   "execution_count": null,
   "id": "e9e9f8eb",
   "metadata": {},
   "outputs": [],
   "source": [
    "open_horns = np.arange(1, 64)\n",
    "xONAFP, yONAFP, power = scal.get_power_Maynooth(rep, open_horns, \n",
    "                                                0., 150e9, \n",
    "                                                q.horn.center,  \n",
    "                                                hwp_position=0,\n",
    "                                                verbose=True)\n",
    "print(xONAFP.shape)\n",
    "print(power.shape)\n",
    "\n",
    "scal.scatter_plot_FP(q, xONAFP, yONAFP, power, s=1, \n",
    "                   frame='ONAFP', \n",
    "                   title='Maynooth full resolution', \n",
    "                   norm=None)"
   ]
  },
  {
   "cell_type": "code",
   "execution_count": null,
   "id": "5ea34563",
   "metadata": {},
   "outputs": [],
   "source": [
    "# Make a plot for paper 3 without any axis\n",
    "fig = plt.figure(figsize=(8, 8))\n",
    "ax = fig.gca()\n",
    "ax.axis('off')\n",
    "scal.scatter_plot_FP(q, xONAFP, yONAFP, power, s=100, \n",
    "                   frame='ONAFP', \n",
    "                   title='', \n",
    "                   norm=None,\n",
    "                   fig=fig, ax=ax,\n",
    "                   cbar=False)\n",
    "# fig.savefig('/home/lmousset/QUBIC/Images/plots/fringes_Maynoothsimu_BaselineTD57-64.png', transparent=True)"
   ]
  },
  {
   "cell_type": "markdown",
   "id": "b86da13a",
   "metadata": {},
   "source": [
    "The following is an other way to do the same.\n",
    "\n",
    "Qubic soft has an option `external_A` in `get_response()`. So I tried to use this option by passing Maynooth results in `external_A` but it is not fully working for now. There is a small bug."
   ]
  },
  {
   "cell_type": "code",
   "execution_count": null,
   "id": "2c744aed",
   "metadata": {},
   "outputs": [],
   "source": [
    "scal.open_switches(q, open_horns)\n",
    "\n",
    "external_A = scal.make_external_A(rep, open_horns)\n",
    "\n",
    "xONAFP, yONAFP, power = scal.get_response_power(q,\n",
    "                                              theta=0., phi=0.,\n",
    "                                              nu=150e9, spectral_irradiance=1.,\n",
    "                                              frame='ONAFP',\n",
    "                                              external_A=external_A, hwp_position=0, \n",
    "                                              verbose=True)\n",
    "\n",
    "scal.scatter_plot_FP(q, xONAFP, yONAFP, power, s=100, \n",
    "                       frame='ONAFP', \n",
    "                       title='Maynooth full resolution', \n",
    "                       norm=None)"
   ]
  },
  {
   "cell_type": "markdown",
   "id": "8fb298f3",
   "metadata": {},
   "source": [
    "#### Get the fringes at TES resolution\n",
    "To decrease the resolution, you can either make a real interpolation (`interp=True`) and then integrate or you can just make the mean inside each TES (`interp=False`). The second way is much faster."
   ]
  },
  {
   "cell_type": "code",
   "execution_count": null,
   "id": "5104cdaa",
   "metadata": {},
   "outputs": [],
   "source": [
    "d['config'] = 'TD'\n",
    "q = qubic.QubicInstrument(d)\n",
    "baseline = [1, 57]  # for the TD\n",
    "\n",
    "Model_Maynooth = scal.Model_Fringes_Maynooth(q, baseline, rep, \n",
    "                                             theta_source=0., nu_source=150e9,\n",
    "                                             frame='ONAFP', interp=False)"
   ]
  },
  {
   "cell_type": "code",
   "execution_count": null,
   "id": "846214e3",
   "metadata": {},
   "outputs": [],
   "source": [
    "# Information are store in the object\n",
    "print(Model_Maynooth.frame)\n",
    "print(Model_Maynooth.nu_source)\n",
    "print(Model_Maynooth.baseline)"
   ]
  },
  {
   "cell_type": "code",
   "execution_count": null,
   "id": "67b27cf9",
   "metadata": {},
   "outputs": [],
   "source": [
    "xONAFP, yONAFP, fringes = Model_Maynooth.get_fringes(verbose=True)\n",
    "\n",
    "scal.scatter_plot_FP(q, xONAFP, yONAFP, fringes, s=200, \n",
    "                       frame='ONAFP', \n",
    "                       title='Maynooth at TES resolution', \n",
    "                       norm=None)"
   ]
  },
  {
   "cell_type": "markdown",
   "id": "6e8e6d7e",
   "metadata": {},
   "source": [
    "#### Get the fringes at TES reso doing the combination\n",
    "\n",
    "You can make the \"true\" combination or the measured one."
   ]
  },
  {
   "cell_type": "code",
   "execution_count": null,
   "id": "36793615",
   "metadata": {},
   "outputs": [],
   "source": [
    "xONAFP, yONAFP, fringes_comb = Model_Maynooth.get_fringes_from_combination(measured_comb=True, verbose=True)\n",
    "\n",
    "scal.scatter_plot_FP(q, xONAFP, yONAFP, fringes_comb, s=200, \n",
    "                   frame='ONAFP', \n",
    "                   title='Maynooth TES resolution', \n",
    "                   norm=None)"
   ]
  },
  {
   "cell_type": "code",
   "execution_count": null,
   "id": "a3cdfaa8",
   "metadata": {},
   "outputs": [],
   "source": []
  }
 ],
 "metadata": {
  "kernelspec": {
   "display_name": "Python 3",
   "language": "python",
   "name": "python3"
  }
 },
 "nbformat": 4,
 "nbformat_minor": 5
}
