{
 "cells": [
  {
   "cell_type": "markdown",
   "id": "1bba031c",
   "metadata": {},
   "source": [
    "# QUBIC spectroimaging pipeline\n",
    "\n",
    "#### Document done using: JCh notebook, Spectroimagery scripts, Thibault notes, ...\n",
    "\n",
    "#### Editing by Martin Gamboa, Louise Mousset, 2019/09/02\n",
    "\n",
    "This notebook is the typical pipeline used for spectroimaging simulations. There are 2 parts :\n",
    "* From a given sky map, simulate Time Order Data (TOD) \n",
    "* From those TOD, perform Map Making to reconstruct the input sky\n",
    "Here, we do spectroimaging, meaning that we reconstruct several sky maps, one for each frequency subband."
   ]
  },
  {
   "cell_type": "code",
   "execution_count": null,
   "id": "efc3bc47",
   "metadata": {},
   "outputs": [],
   "source": [
    "from IPython.display import Image\n",
    "#Image(filename=\"/home/martin/QUBIC/observ.jpg\", width = 1000, height = 80)"
   ]
  },
  {
   "cell_type": "code",
   "execution_count": null,
   "id": "ee44c0a7",
   "metadata": {},
   "outputs": [],
   "source": [
    "##Loading modules. \n",
    "\n",
    "# General modules\n",
    "from __future__ import division, print_function\n",
    "%matplotlib inline\n",
    "from pylab import *\n",
    "import os\n",
    "import sys\n",
    "import time\n",
    "import datetime\n",
    "import shutil\n",
    "\n",
    "# Specific science modules\n",
    "import healpy as hp\n",
    "import numpy as np\n",
    "\n",
    "# Specific qubic modules\n",
    "from qubicpack.utilities import Qubic_DataDir\n",
    "from pysimulators import FitsArray\n",
    "import qubic\n",
    "from qubic import QubicSkySim as qss\n",
    "from qubic import SpectroImLib as si\n",
    "rc('figure', figsize=(13, 10))\n",
    "rc('font', size=13)"
   ]
  },
  {
   "cell_type": "code",
   "execution_count": null,
   "id": "cfd1dbc5",
   "metadata": {},
   "outputs": [],
   "source": [
    "## Preparing the run...\n",
    "\n",
    "# Repository for dictionary and input maps\n",
    "global_dir = Qubic_DataDir(datafile='instrument.py', datadir='../')\n",
    "dictfilename = global_dir + '/dicts/pipeline_demo.dict'\n",
    "dictmaps = global_dir + 'doc/'\n",
    "\n",
    "# Read dictionary chosen\n",
    "d = qubic.qubicdict.qubicDict()\n",
    "d.read_from_file(dictfilename)\n",
    "\n",
    "# Print a parameter from the dictionary. \n",
    "print('beam shape :', d['beam_shape'])\n",
    "d['nside'] = 512\n",
    "\n",
    "# You can change it  as follows:\n",
    "# d['beam_shape'] = 'multi_freq' # or 'gaussian' or 'fitted_beam' \n",
    "\n",
    "# Check nf_sub/nf_sub_rec is an integer\n",
    "d['nf_sub'] = 8\n",
    "nf_sub = d['nf_sub']\n",
    "# for nf_sub_rec in d['nf_recon']:\n",
    "#     if nf_sub % nf_sub_rec != 0:\n",
    "#         raise ValueError('nf_sub/nf_sub_rec must be an integer.')\n",
    "d['nf_recon'] = 2\n",
    "d['MultiBand'] = True\n",
    "\n",
    "# Center of the patch observed in galactic coordinates\n",
    "center = qubic.equ2gal(d['RA_center'], d['DEC_center'])"
   ]
  },
  {
   "cell_type": "markdown",
   "id": "5f7d6f1c",
   "metadata": {},
   "source": [
    "# Input sky\n",
    "### Some words about maps.\n",
    "\n",
    "In this case we read a map $X_0$ simulated previously which contains fluctuations in temperature and polarization. Because we are using Healpy module (HEALPix implemented in Python) the number of pixels of each map has to be $$n_{pix} = 12 \\times n_{side}^2$$ where $nside = 2\\times j, \\qquad j = 1,2,... $.\n"
   ]
  },
  {
   "cell_type": "code",
   "execution_count": null,
   "id": "c3069b21",
   "metadata": {},
   "outputs": [],
   "source": [
    "# Make a sky using PYSM\n",
    "seed = None\n",
    "sky_config = {'cmb': seed, 'dust': 'd1'}\n",
    "Qubic_sky = qss.Qubic_sky(sky_config, d)\n",
    "x0 = Qubic_sky.get_simple_sky_map()\n",
    "# Load a CMB map\n",
    "# x0 = FitsArray(dictmaps + 'CMB_nside64_nfsub14.fits')\n",
    "    \n",
    "print('Input Map with shape (nf_sub, #pixels, #stokes) : ', np.shape(x0))\n",
    "\n",
    "# Check size map\n",
    "if hp.get_nside(x0[0,:,0]) == d['nside']:\n",
    "    print('Good size')\n",
    "    y0=x0\n",
    "else:\n",
    "    print('Bad size')\n",
    "    y0 = np.empty((d['nf_sub'], 12 * d['nside'] ** 2, 3))\n",
    "    for i in range(d['nf_sub']):\n",
    "        for j in range(3):\n",
    "            y0[i, :, j] = hp.ud_grade(x0[i, :, j], d['nside'])\n"
   ]
  },
  {
   "cell_type": "code",
   "execution_count": null,
   "id": "57201332",
   "metadata": {},
   "outputs": [],
   "source": [
    "# Look at the input sky maps using Healpy\n",
    "\n",
    "istokes = 0 # Stokes parameter (I, Q, U)\n",
    "imap = 1 # Frequency subband, should be smaller than nf_sub\n",
    "rr=9 # Resolution in arcmin\n",
    "\n",
    "plt.figure(figsize=(13,8))\n",
    "for istk in range(3):\n",
    "    plt.subplots_adjust(wspace=0.9)\n",
    "    hp.mollview(y0[imap,:,istk], cmap='jet', sub = (3,2,2*istk+1),\n",
    "                title = 'Mollview {0} Stokes parameter, map {1}'.format(d['kind'][istk], imap))\n",
    "    hp.gnomview(y0[imap,:,istk], cmap ='jet', sub = (3,2,2*istk+2), reso=rr, rot = center,\n",
    "                title = 'Gnomview {0} Stokes parameter, map {1}'.format(d['kind'][istk], imap))\n"
   ]
  },
  {
   "cell_type": "markdown",
   "id": "ad13e235",
   "metadata": {},
   "source": [
    "### TOD simulation\n",
    "Let's now simulate the TOD. We will do so by reading a simulated map. The input map needs to be smoothed to the angular resolution of the instrument (these maps are already smoothed) and we need to know the pixel number for each of the TOD samples. This is easily obtained in Healpix with the $ang2pix()$ function. "
   ]
  },
  {
   "cell_type": "code",
   "execution_count": null,
   "id": "4d51ff2b",
   "metadata": {},
   "outputs": [],
   "source": [
    "# Pointing strategy\n",
    "p = qubic.get_pointing(d)\n",
    "print('=== Pointing DONE! ===')\n",
    "\n",
    "# Model of the scene at the time of observation\n",
    "s = qubic.QubicScene(d)\n",
    "\n",
    "# Create MultibandInstrument. Model of the instrument with a focal plane sensitivity to \n",
    "# multiple frequencies\n",
    "q = qubic.QubicMultibandInstrument(d)\n",
    "\n",
    "# Generate the sub-band limits to be used (later we can see what information we are ignoring with '_')\n",
    "_, nus_edge_in, nus_in, _, _, _ = qubic.compute_freq(d['filter_nu'] / 1e9, d['nf_sub'],\n",
    "                                                d['filter_relative_bandwidth'])\n",
    "\n",
    "# Finally create an acquisition multiband operator which combines all relevant information\n",
    "#scene, instrument configuration and strategy pointing. \n",
    "a = qubic.QubicMultibandAcquisition(q, p, s, d, nus_edge_in)"
   ]
  },
  {
   "cell_type": "code",
   "execution_count": null,
   "id": "4ab4db4b",
   "metadata": {},
   "outputs": [],
   "source": [
    "# MultiFreq TOD making\n",
    "#(i.e. TOD for several subbands to reproduce a wideband observation)\n",
    "TOD, _ = a.get_observation(y0, noiseless=d['noiseless'])#, convolution = True)\n",
    "#del(maps_convolved_useless)"
   ]
  },
  {
   "cell_type": "code",
   "execution_count": null,
   "id": "5ef0d852",
   "metadata": {},
   "outputs": [],
   "source": [
    "# Look at TOD for one TES\n",
    "print('--------- TOD with shape (#detectors, #pointings) : {} '.format(np.shape(TOD)))\n",
    "rc('font', size=15)\n",
    "rc('lines', linewidth=3)\n",
    "print(np.max(TOD))\n",
    "tes = 231\n",
    "plt.plot(TOD[tes, :], 'b-', label = r'TES = {}'.format(tes))\n",
    "plt.xlabel('Pointing index')\n",
    "plt.ylabel('TOD [AU]')\n",
    "plt.tight_layout()\n",
    "plt.show()"
   ]
  },
  {
   "cell_type": "markdown",
   "id": "61c88f24",
   "metadata": {},
   "source": [
    "## From observations to maps...\n",
    "\n",
    "One of the big issues in CMB data analysis is the fabrication of maps from data coming from the detectors. We will try here to understand how this works with basic examples.\n",
    "\n",
    "The data from the detector is called Time-Ordered-Data (TOD) and consists into arrays at time samples each with the data measured by each detectors as well as the direction in the sky pointed by the detectors at this very time sample. Usually it comes along with a large number of House-Keeping data such as weather information, temperature measurements into the focal plane and\n",
    "\n",
    "### Map-Making\n",
    "The problem of the Map-Making is a major one in CMB data analysis. We will briefly summarize here below. If you want to know more, you may find it useful to read a review JCh wrote a very long time ago: http://arxiv.org/abs/astro-ph/0310787v1.\n",
    "\n",
    "We assume that we have TOD data in a long vector $\\vec{d}$ ($n_{samples}$ dimension), these are pixels on the sky following a given scanning-strategy. The sky $\\vec{T}$ is assumed to be pixellized and at the angular resolution of the instrument and is therefore $n_{pix}$ vector. The relation between them is:\n",
    "$$\\vec{d} = A\\cdot \\vec{T} +\\vec{n}$$\n",
    "where $\\vec{n}$ is a vector of noise and $A$ is the pointing matrix that contains information on the scanning strategy. Because the input map $T$ is at the angular resolution of the instrument, each column of the pointing matrix contains only zeros and a single 1 that tell which was the pixel seen by the corresponding time sample. This simplification is important is not valid for QUBIC, which explains why we had to developp a specific map-making.\n",
    "\n",
    "The Maximum-Likelihood solution for the map (which in the case of Gaussian noise corresponds to the minimum $\\chi^2$) is given by:\n",
    "$$ \\hat{T} = \\left( A^t \\cdot N^{-1}\\cdot A\\right)^{-1}\\cdot A^t \\cdot N^{-1} \\cdot\\vec{d}$$\n",
    "We therefore have an easy manner of obtaining the most optimal map that one can achieve. The only small issue is that this involves inverting matrices like $N$ that are $(n_{samples}\\times n_{samples}$ and $n_{samples}$ can be of the order of a a few millions and even billions)"
   ]
  },
  {
   "cell_type": "code",
   "execution_count": null,
   "id": "d209cccb",
   "metadata": {},
   "outputs": [],
   "source": [
    "# Map-making process for a given number of reconstructed subbands\n",
    "nf_sub_rec = 3\n",
    "\n",
    "print('************* Map-Making on {} sub-map(s) *************'.format(nf_sub_rec))\n",
    "\n",
    "## Build a MultiAcquisition operator for reconstruction (map-making). As it is the inverse\n",
    "# process but seen with 'different' instrument (one with nf_rec channels).  \n",
    "# Recompute the edges of sub-bands :\n",
    "_, nus_edge, _, _, _, _ = qubic.compute_freq(d['filter_nu'] / 1e9, nf_sub_rec, d['filter_relative_bandwidth'])\n",
    "\n",
    "## Once we have the simulated TOD, we create a new instrument. This new instrument\n",
    "# is for the map-making. We have to simulate an instrument with the number of sub-bands\n",
    "# we want to reconstruct. This is done for safety and complete the concept of QUBIC, because the program \n",
    "# does not need to create new instrument because it uses nus_edge limits to compute the sub-bands\n",
    "# for reconstruction\n",
    "d['nf_sub'] = nf_sub_rec\n",
    "qrec = qubic.QubicMultibandInstrument(d)\n",
    "\n",
    "# Create a MultiBandAcquisition\n",
    "arec = qubic.QubicMultibandAcquisition(qrec, p, s, d, nus_edge)\n",
    "\n",
    "# Get coverage map\n",
    "# i.e. how many times were seen each pixel of the sky (not trivial because of the synthetic beam)\n",
    "cov = arec.get_coverage()"
   ]
  },
  {
   "cell_type": "code",
   "execution_count": null,
   "id": "69295f61",
   "metadata": {},
   "outputs": [],
   "source": [
    "# From TOD reconstruct sky maps.\n",
    "maps_recon, nit, error = arec.tod2map(TOD, d, cov=cov)\n",
    "\n",
    "print('The shape of the reconstructed maps is (nf_recon, #pixels, #stokes) :', maps_recon.shape)\n",
    "print('{} iterations were needed to get an error of {}'.format(nit, error))"
   ]
  },
  {
   "cell_type": "markdown",
   "id": "c28758c7",
   "metadata": {},
   "source": [
    "# Compute the input sky convolved with the reconstruction beam"
   ]
  },
  {
   "cell_type": "code",
   "execution_count": null,
   "id": "8fad4f95",
   "metadata": {},
   "outputs": [],
   "source": [
    "# For comparison the convolved with the beam is required\n",
    "TOD_useless, maps_convolved = arec.get_observation(y0, noiseless=d['noiseless'], convolution=True)\n",
    "del(TOD_useless)\n",
    "\n",
    "maps_convolved = np.array(maps_convolved) # Get an array and not a list\n",
    "print('The convolved maps have the same shape as the reconstructed maps : {}'.format(maps_convolved.shape))"
   ]
  },
  {
   "cell_type": "code",
   "execution_count": null,
   "id": "63d86344",
   "metadata": {},
   "outputs": [],
   "source": [
    "# Compute the difference between input maps convolved and reconstructed maps\n",
    "diff = maps_recon - maps_convolved\n",
    "diff.shape"
   ]
  },
  {
   "cell_type": "markdown",
   "id": "20d036fe",
   "metadata": {},
   "source": [
    "# Look at the coverage of the sky"
   ]
  },
  {
   "cell_type": "code",
   "execution_count": null,
   "id": "62c9d1c5",
   "metadata": {},
   "outputs": [],
   "source": [
    "# Keeping only the sky region which has been significantly observed\n",
    "# Pixels not seen enough are replaced by UNSEEN value\n",
    "cov = np.sum(cov, axis=0)\n",
    "maxcov = np.max(cov)\n",
    "unseen = cov < maxcov * 0.1\n",
    "\n",
    "maps_convolved[:, unseen, :] = hp.UNSEEN\n",
    "maps_recon[:, unseen, :] = hp.UNSEEN\n",
    "diff[:, unseen, :] = hp.UNSEEN"
   ]
  },
  {
   "cell_type": "markdown",
   "id": "4e5ea5c2",
   "metadata": {},
   "source": [
    "# Compare input and output maps"
   ]
  },
  {
   "cell_type": "code",
   "execution_count": null,
   "id": "ea171cdc",
   "metadata": {},
   "outputs": [],
   "source": [
    "rr=15 # Resolution in arcmin\n",
    "ifreq=1\n",
    "for istokes in [0,1,2]:\n",
    "    plt.figure(istokes,figsize=(12,12)) \n",
    "    hp.gnomview(maps_convolved[ifreq, :,istokes], cmap='jet', rot=center, sub=(3,3,3*istokes+1), reso=rr,\n",
    "                title='Input '+d['kind'][istokes]+' SubFreq {}'.format(ifreq))\n",
    "    hp.gnomview(maps_recon[ifreq,:,istokes], cmap='jet',rot=center, sub=(3,3,3*istokes+2), reso=rr,\n",
    "                title='Output '+d['kind'][istokes]+' SubFreq {}'.format(ifreq))\n",
    "    hp.gnomview(diff[ifreq,:,istokes], cmap='jet',rot=center, sub=(3,3,3*istokes+3), reso=rr,\n",
    "                title='diff '+d['kind'][istokes]+' SubFreq {}'.format(ifreq))\n",
    "plt.show()"
   ]
  },
  {
   "cell_type": "markdown",
   "id": "805c6fbd",
   "metadata": {},
   "source": [
    "## Intensity pixel by pixel"
   ]
  },
  {
   "cell_type": "code",
   "execution_count": null,
   "id": "2b612009",
   "metadata": {},
   "outputs": [],
   "source": [
    "_, _, nus_rec, _, _, _ = qubic.compute_freq(150, nf_sub_rec)\n",
    "_, _, nus, _, _, _ = qubic.compute_freq(150, nf_sub)"
   ]
  },
  {
   "cell_type": "code",
   "execution_count": null,
   "id": "a04ba36c",
   "metadata": {},
   "outputs": [],
   "source": [
    "pix_indices = np.where(np.invert(unseen))[0]"
   ]
  },
  {
   "cell_type": "code",
   "execution_count": null,
   "id": "2e06ef11",
   "metadata": {},
   "outputs": [],
   "source": [
    "istk = 0\n",
    "for pix in pix_indices:\n",
    "    plt.figure()\n",
    "\n",
    "    plt.plot(nus, x0[:, pix, istk], 'go', label='Input sky')\n",
    "    plt.plot(nus_rec, maps_recon[:, pix, istk], 'ro', label='Recon')\n",
    "    plt.plot(nus_rec, maps_convolved[:, pix, istk], 'bo', label='Convolved')\n",
    "\n",
    "    plt.legend()\n",
    "    plt.title('Pixel {}, NSIDE=256'.format(pix))\n",
    "    plt.xlabel('Frequency [GHz]')\n",
    "    plt.ylabel('I (µK)')"
   ]
  },
  {
   "cell_type": "code",
   "execution_count": null,
   "id": "83408132",
   "metadata": {},
   "outputs": [],
   "source": [
    "d['beam_shape']"
   ]
  },
  {
   "cell_type": "code",
   "execution_count": null,
   "id": "689b6064",
   "metadata": {},
   "outputs": [],
   "source": []
  }
 ],
 "metadata": {
  "kernelspec": {
   "display_name": "Python 3 (ipykernel)",
   "language": "python",
   "name": "python3"
  }
 },
 "nbformat": 4,
 "nbformat_minor": 5
}
