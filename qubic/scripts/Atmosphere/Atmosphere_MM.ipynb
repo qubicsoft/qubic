{
 "cells": [
  {
   "cell_type": "code",
   "execution_count": null,
   "metadata": {},
   "outputs": [],
   "source": [
    "import numpy as np\n",
    "import matplotlib.pyplot as plt \n",
    "import healpy as hp\n",
    "\n",
    "from qubic.lib.MapMaking.Qatmosphere_2d import AtmosphereMaps\n",
    "\n",
    "import sys\n",
    "import yaml\n",
    "\n",
    "import qubic\n",
    "from qubic.lib.Instrument.Qacquisition import QubicDualBand\n",
    "\n",
    "from qubic.lib.MapMaking.Qmaps import InputMaps\n",
    "from qubic.lib.MapMaking.Qcg import PCGAlgorithm\n",
    "from pyoperators.iterative.core import AbnormalStopIteration\n",
    "\n",
    "from pyoperators import *\n",
    "\n",
    "\n",
    "\n",
    "comm = MPI.COMM_WORLD\n",
    "rank = comm.Get_rank()\n",
    "\n",
    "%matplotlib inline"
   ]
  },
  {
   "cell_type": "code",
   "execution_count": null,
   "metadata": {},
   "outputs": [],
   "source": [
    "# Import simulation parameters\n",
    "with open('params.yml', 'r') as file:\n",
    "    params = yaml.safe_load(file) "
   ]
  },
  {
   "cell_type": "code",
   "execution_count": null,
   "metadata": {},
   "outputs": [],
   "source": [
    "# Call the class which build the atmosphere maps\n",
    "atm = AtmosphereMaps(params)"
   ]
  },
  {
   "cell_type": "code",
   "execution_count": null,
   "metadata": {},
   "outputs": [],
   "source": [
    "# Import the atm absorption spectrum\n",
    "abs_spectrum = atm.absorption_spectrum()\n",
    "\n",
    "plt.plot(abs_spectrum)\n",
    "plt.ylim(0, 0.0002)"
   ]
  },
  {
   "cell_type": "code",
   "execution_count": null,
   "metadata": {},
   "outputs": [],
   "source": [
    "# Import the atm temperature maps\n",
    "atm_maps = atm.get_temp_maps(atm.rho_map)\n",
    "print(atm_maps.shape)\n",
    "\n",
    "# Import the atm integrated absorption spectrum\n",
    "integrated_abs_spectrum, frequencies = atm.integrated_absorption_spectrum()"
   ]
  },
  {
   "cell_type": "code",
   "execution_count": null,
   "metadata": {},
   "outputs": [],
   "source": [
    "mean_atm_maps = []\n",
    "for i in range(atm_maps.shape[0]):\n",
    "    mean_atm_maps.append(np.mean(atm_maps[i, :]))\n",
    "plt.figure()\n",
    "plt.plot(frequencies, mean_atm_maps, '.')\n",
    "plt.title('Atmosphere maps spectrum')\n",
    "plt.xlabel('Frequency (GHz)')\n",
    "plt.ylabel(r'Mean temperature ($\\mu K_{CMB}$)')\n",
    "plt.figure()\n",
    "plt.plot(frequencies, integrated_abs_spectrum, '.')\n",
    "plt.xlabel('Frequency (GHz)')\n",
    "plt.ylabel('Integrated absorption spectrum')\n",
    "plt.title('Integrated absorption spectrum')"
   ]
  },
  {
   "cell_type": "code",
   "execution_count": null,
   "metadata": {},
   "outputs": [],
   "source": [
    "plt.imshow(atm_maps[0], cmap='jet')\n",
    "plt.colorbar(label='µK_CMB')\n",
    "plt.title('Atmosphere temperature map at {:.2f} GHz'.format(frequencies[0]))"
   ]
  },
  {
   "cell_type": "code",
   "execution_count": null,
   "metadata": {},
   "outputs": [],
   "source": [
    "# Build input maps : CMB + Atmsophere (only for I map)\n",
    "input_maps = np.zeros((len(frequencies), hp.nside2npix(params['nside']), 3))\n",
    "input_maps[:, :, 0] += atm.get_healpy_atm_maps_2d(atm_maps)\n",
    "print(input_maps.shape)\n",
    "\n",
    "for irec in range(input_maps.shape[0]):\n",
    "    index = np.where(input_maps[irec, :, 0] != 0)\n",
    "    input_maps[irec, index, 0] -= np.mean(input_maps[irec, index, 0])\n",
    "\n",
    "hp.mollview(input_maps[-1, :, 0] ,cmap='jet', unit='µK_CMB', norm='hist', title='Input map {:.2f} GHz'.format(frequencies[-1]))\n",
    "hp.graticule()"
   ]
  },
  {
   "cell_type": "code",
   "execution_count": null,
   "metadata": {},
   "outputs": [],
   "source": [
    "# Compute the Nrec maps from the Nsub maps\n",
    "true_maps = np.zeros((params['nrec'], 12*params['nside']**2, 3))\n",
    "true_frequencies = np.zeros(params['nrec'])\n",
    "fsub = int(params['nsub_in'] / params['nrec'])\n",
    "for i in range(params['nrec']):\n",
    "    true_maps[i, :, :] = np.mean(input_maps[i*fsub:(i+1)*fsub, :, :], axis=0)\n",
    "    true_frequencies[i] = np.mean(frequencies[i*fsub:(i+1)*fsub])\n",
    "print(true_maps.shape) \n",
    "print(true_frequencies)   \n",
    "plt.plot(true_frequencies, np.mean(true_maps, axis=1)[..., 0], '.')\n",
    "plt.ylabel(r'Mean temperature ($\\mu K_{CMB}$)')\n",
    "plt.xlabel('Frequency (GHz)')\n",
    "plt.xlim(130, 250)"
   ]
  },
  {
   "cell_type": "code",
   "execution_count": null,
   "metadata": {},
   "outputs": [],
   "source": [
    "for inu in range(len(true_frequencies)):\n",
    "    hp.mollview(true_maps[inu, :, 0], cmap='jet', title='Input - {:.2f} GHz'.format(true_frequencies[inu]))"
   ]
  },
  {
   "cell_type": "markdown",
   "metadata": {},
   "source": [
    "# Map-making"
   ]
  },
  {
   "cell_type": "code",
   "execution_count": null,
   "metadata": {},
   "outputs": [],
   "source": [
    "# Build the QUBIC operators\n",
    "H_tod_qubic = QubicDualBand(atm.qubic_dict, nsub=params['nsub_in'], nrec=params['nsub_in']).get_operator()\n",
    "Qacq = QubicDualBand(atm.qubic_dict, nsub=params['nsub_in'], nrec=params['nrec'])\n",
    "if params['nrec']==2:\n",
    "    H_rec_qubic = Qacq.get_operator().operands[0]\n",
    "else:\n",
    "    H_rec_qubic = Qacq.get_operator()\n",
    "invN_qubic = Qacq.get_invntt_operator()\n",
    "tod_qubic = H_tod_qubic(input_maps).ravel()"
   ]
  },
  {
   "cell_type": "code",
   "execution_count": null,
   "metadata": {},
   "outputs": [],
   "source": [
    "coverage = Qacq.coverage\n",
    "\n",
    "covnorm = coverage / coverage.max()\n",
    "seenpix = covnorm > params['coverage_cut']\n",
    "\n",
    "center = np.array([0, -57])\n",
    "qubic_patch = qubic.lib.Qsamplings.equ2gal(center[0], center[1])"
   ]
  },
  {
   "cell_type": "code",
   "execution_count": null,
   "metadata": {},
   "outputs": [],
   "source": [
    "print('H_rec', H_rec_qubic.shapein, H_rec_qubic.shapeout)\n",
    "print('invN', invN_qubic.shapein, invN_qubic.shapeout)\n",
    "print('H_tod', H_tod_qubic.shapein, H_tod_qubic.shapeout)"
   ]
  },
  {
   "cell_type": "code",
   "execution_count": null,
   "metadata": {},
   "outputs": [],
   "source": [
    "H_tod = H_tod_qubic\n",
    "R = ReshapeOperator(H_rec_qubic.shapeout, invN_qubic.shapein)\n",
    "\n",
    "H_rec = R*H_rec_qubic\n",
    "invN = invN_qubic\n",
    "tod = tod_qubic"
   ]
  },
  {
   "cell_type": "code",
   "execution_count": null,
   "metadata": {},
   "outputs": [],
   "source": [
    "print('H_rec_qubic', H_rec_qubic.shapein, H_rec_qubic.shapeout)\n",
    "print(\"H_rec\", H_rec.shapein, H_rec.shapeout)\n",
    "print(\"invN\", invN.shapein, invN.shapeout)\n",
    "print('invN qubic', invN_qubic.shapein, invN_qubic.shapeout)\n",
    "print(\"TOD\", tod.shape)"
   ]
  },
  {
   "cell_type": "code",
   "execution_count": null,
   "metadata": {},
   "outputs": [],
   "source": [
    "# Build PCG\n",
    "R = ReshapeOperator(tod.shape, invN_qubic.shapein)\n",
    "A = H_rec.T * invN * H_rec\n",
    "b = H_rec.T * invN * R(tod)\n",
    "x0 = true_maps*0"
   ]
  },
  {
   "cell_type": "code",
   "execution_count": null,
   "metadata": {},
   "outputs": [],
   "source": [
    "print(\"Number of Data Sets :\", len(H_rec_qubic.operands)) # operands[0] = QUBIC / operands[1] = Planck\n",
    "print(\"Number of Sub-bands within each Frequency Bands :\", len(H_rec_qubic.operands[0].operands))\n",
    "print(\"Number of Frequency Bands :\", len(H_rec_qubic.operands[0].operands[0].operands)) # operands[0] = 150 GHz / operands[1] = 220 GHz\n",
    "print(\"Acquisition Operator for the first Sub-Bands of QUBIC :\")\n",
    "print(H_rec_qubic.operands[0].operands[0].operands[0].operands)"
   ]
  },
  {
   "cell_type": "code",
   "execution_count": null,
   "metadata": {},
   "outputs": [],
   "source": [
    "print(len(H_rec_qubic.operands[0].operands[0].operands))"
   ]
  },
  {
   "cell_type": "code",
   "execution_count": null,
   "metadata": {},
   "outputs": [],
   "source": [
    "# Build Preconditionner\n",
    "stacked_dptdp_inv = np.zeros((params['nrec'],12*params['nside']**2))\n",
    "no_det = 992\n",
    "\n",
    "### Loop on Frequency Sub-Bands within each band\n",
    "for i_nsub in range(int(params[\"nrec\"]/2)):\n",
    "    ### Loop on Frequency Bands\n",
    "    for j_fp in range(2):\n",
    "        ### Extract Operators\n",
    "        H_single = H_rec_qubic.operands[0].operands[i_nsub].operands[j_fp]\n",
    "        D = H_single.operands[1]\n",
    "        P = H_single.operands[-1]\n",
    "        sh = P.matrix.data.index.shape\n",
    "\n",
    "        ### Compute the map P^t P\n",
    "        point_per_det = int(sh[0] / no_det)\n",
    "        mapPtP_perdet_seq = np.zeros((no_det, 12 * params['nside']**2))\n",
    "        sample_ranges = [(det * point_per_det, (det + 1) * point_per_det) for det in range(no_det)]\n",
    "        for det, (start, end) in enumerate(sample_ranges):\n",
    "            indices = P.matrix.data.index[start:end, :]  \n",
    "            weights = P.matrix.data.r11[start:end, :]\n",
    "            flat_indices = indices.ravel()\n",
    "            flat_weights = weights.ravel()\n",
    "\n",
    "            mapPitPi = np.zeros(12 * params['nside']**2)\n",
    "            np.add.at(mapPitPi, flat_indices, flat_weights**2)\n",
    "\n",
    "            mapPtP_perdet_seq[det, :] = mapPitPi\n",
    "            \n",
    "        D_elements = D.data\n",
    "        D_sq = D_elements**2\n",
    "        mapPtP_seq_scaled = D_sq[:, np.newaxis] * mapPtP_perdet_seq \n",
    "        dptdp = mapPtP_seq_scaled.sum(axis = 0)\n",
    "        dptdp_inv = 1 / dptdp\n",
    "        dptdp_inv[np.isinf(dptdp_inv)] = 0.\n",
    "        stacked_dptdp_inv[int(i_nsub*(int(params['nrec']/2)) + j_fp)] = dptdp_inv\n",
    "\n",
    "M = BlockDiagonalOperator( \\\n",
    "                    [DiagonalOperator(ci, broadcast='rightward') for ci in stacked_dptdp_inv],\n",
    "                    new_axisin=0)\n",
    "        "
   ]
  },
  {
   "cell_type": "code",
   "execution_count": null,
   "metadata": {},
   "outputs": [],
   "source": [
    "stacked_dptdp_inv.shape"
   ]
  },
  {
   "cell_type": "code",
   "execution_count": null,
   "metadata": {},
   "outputs": [],
   "source": [
    "# Run PCG\n",
    "algo = PCGAlgorithm(\n",
    "    A,\n",
    "    b,\n",
    "    comm,\n",
    "    x0=x0,\n",
    "    tol=1e-10,\n",
    "    maxiter=100,\n",
    "    disp=True,\n",
    "    M=M,\n",
    "    center=[0, -57],\n",
    "    reso=15,\n",
    "    seenpix=seenpix,\n",
    "    input=true_maps,\n",
    ")\n",
    "try:\n",
    "    output = algo.run()\n",
    "    success = True\n",
    "    message = 'Success'\n",
    "except AbnormalStopIteration as e:\n",
    "    output = algo.finalize()\n",
    "    success = False\n",
    "    message = str(e)"
   ]
  },
  {
   "cell_type": "code",
   "execution_count": null,
   "metadata": {},
   "outputs": [],
   "source": [
    "plt.plot(output['convergence'])\n",
    "plt.yscale('log')\n",
    "plt.xlabel('Iteration')\n",
    "plt.ylabel('Convergence')"
   ]
  },
  {
   "cell_type": "code",
   "execution_count": null,
   "metadata": {},
   "outputs": [],
   "source": [
    "\n",
    "plt.figure(figsize=(12, 12), dpi=200)\n",
    "k=1\n",
    "true_maps[:, ~seenpix, :] = hp.UNSEEN\n",
    "output['x'][:, ~seenpix, :] = hp.UNSEEN\n",
    "\n",
    "stk = ['I', 'Q', 'U']\n",
    "istk = 0\n",
    "n_sig = 3\n",
    "reso = 15\n",
    "\n",
    "for inu in range(output['x'].shape[0]):\n",
    "    sigma = np.std(true_maps[inu, seenpix, istk])\n",
    "    hp.gnomview(true_maps[inu, :, istk], min=np.min(true_maps[inu, seenpix, istk]), max=np.max(true_maps[inu, seenpix, istk]), cmap='jet', rot=qubic_patch,title='{} - Input - {:.2f} GHz'.format(stk[istk], true_frequencies[inu]), reso=reso, sub=(output['x'].shape[0], 3, k), notext=True)\n",
    "    hp.gnomview(output['x'][inu, :, istk], min=np.min(true_maps[inu, seenpix, istk]), max=np.max(true_maps[inu, seenpix, istk]), cmap='jet', rot=qubic_patch,title='{} - Output - {:.2f} GHz'.format(stk[istk], true_frequencies[inu]), reso=reso, sub=(output['x'].shape[0], 3, k+1), notext=True)\n",
    "    hp.gnomview(output['x'][inu, :, istk] - true_maps[inu, :, 0], cmap='jet', rot=qubic_patch,title='{} - Residual - {:.2f} GHz'.format(stk[istk], true_frequencies[inu]), reso=reso, sub=(output['x'].shape[0], 3, k+2), notext=True)\n",
    "    k+=3"
   ]
  },
  {
   "cell_type": "code",
   "execution_count": null,
   "metadata": {},
   "outputs": [],
   "source": [
    "for inu in range(output['x'].shape[0]):\n",
    "    sigma = np.std(true_maps[inu, seenpix, istk])\n",
    "    hp.mollview(output['x'][inu, :, istk] - true_maps[inu, :, istk], cmap='jet',title='{} - Residual - {:.2f} GHz'.format(stk[istk], true_frequencies[inu]))\n",
    "    hp.graticule()"
   ]
  },
  {
   "cell_type": "code",
   "execution_count": null,
   "metadata": {},
   "outputs": [],
   "source": [
    "plt.figure(figsize=(12, 12), dpi=200)\n",
    "\n",
    "k=1\n",
    "true_maps[:, ~seenpix, :] = hp.UNSEEN\n",
    "output['x'][:, ~seenpix, :] = hp.UNSEEN\n",
    "\n",
    "istk = 1\n",
    "n_sig = 2\n",
    "\n",
    "for inu in range(output['x'].shape[0]):\n",
    "    sigma = np.std(true_maps[inu, seenpix, istk])\n",
    "    hp.gnomview(true_maps[inu, :, istk], cmap='jet', rot=qubic_patch,title='{} - Input - {:.2f} GHz'.format(stk[istk], true_frequencies[inu]), reso=15, sub=(output['x'].shape[0], 3, k), notext=True)\n",
    "    hp.gnomview(output['x'][inu, :, istk], cmap='jet', rot=qubic_patch,title='{} - Output - {:.2f} GHz'.format(stk[istk], true_frequencies[inu]), reso=15, sub=(output['x'].shape[0], 3, k+1), notext=True)\n",
    "    hp.gnomview(output['x'][inu, :, istk] - true_maps[inu, :, istk], cmap='jet', rot=qubic_patch,title='{} - Residual - {:.2f} GHz'.format(stk[istk], true_frequencies[inu]), reso=15, sub=(output['x'].shape[0], 3, k+2), notext=True)\n",
    "    k+=3"
   ]
  },
  {
   "cell_type": "code",
   "execution_count": null,
   "metadata": {},
   "outputs": [],
   "source": []
  },
  {
   "cell_type": "code",
   "execution_count": null,
   "metadata": {},
   "outputs": [],
   "source": []
  },
  {
   "cell_type": "code",
   "execution_count": null,
   "metadata": {},
   "outputs": [],
   "source": []
  },
  {
   "cell_type": "code",
   "execution_count": null,
   "metadata": {},
   "outputs": [],
   "source": []
  },
  {
   "cell_type": "code",
   "execution_count": null,
   "metadata": {},
   "outputs": [],
   "source": []
  },
  {
   "cell_type": "code",
   "execution_count": null,
   "metadata": {},
   "outputs": [],
   "source": []
  },
  {
   "cell_type": "code",
   "execution_count": null,
   "metadata": {},
   "outputs": [],
   "source": []
  },
  {
   "cell_type": "code",
   "execution_count": null,
   "metadata": {},
   "outputs": [],
   "source": []
  }
 ],
 "metadata": {
  "jupytext": {
   "formats": "ipynb,Rmd"
  },
  "kernelspec": {
   "display_name": "venv-qubic",
   "language": "python",
   "name": "python3"
  },
  "language_info": {
   "codemirror_mode": {
    "name": "ipython",
    "version": 3
   },
   "file_extension": ".py",
   "mimetype": "text/x-python",
   "name": "python",
   "nbconvert_exporter": "python",
   "pygments_lexer": "ipython3",
   "version": "3.9.18"
  }
 },
 "nbformat": 4,
 "nbformat_minor": 4
}
