{
 "cells": [
  {
   "cell_type": "code",
   "execution_count": 1,
   "metadata": {},
   "outputs": [
    {
     "name": "stderr",
     "output_type": "stream",
     "text": [
      "hwloc/linux: Ignoring PCI device with non-16bit domain.\n",
      "Pass --enable-32bits-pci-domain to configure to support such devices\n",
      "(warning: it would break the library ABI, don't enable unless really needed).\n"
     ]
    }
   ],
   "source": [
    "import numpy as np\n",
    "import matplotlib.pyplot as plt \n",
    "\n",
    "import yaml\n",
    "\n",
    "from Qatmosphere_2d import Atmsophere\n",
    "\n",
    "%matplotlib inline"
   ]
  },
  {
   "cell_type": "code",
   "execution_count": 2,
   "metadata": {},
   "outputs": [],
   "source": [
    "with open('/home/laclavere/Documents/Thesis/qubic/qubic/scripts/Atmosphere/params.yml', 'r') as file:\n",
    "    params = yaml.safe_load(file)"
   ]
  },
  {
   "cell_type": "code",
   "execution_count": 3,
   "metadata": {},
   "outputs": [],
   "source": [
    "atm = Atmsophere(params)"
   ]
  },
  {
   "cell_type": "code",
   "execution_count": 4,
   "metadata": {},
   "outputs": [
    {
     "data": {
      "text/plain": [
       "([18474.569917792807,\n",
       "  19440.918041494046,\n",
       "  20318.22271685243,\n",
       "  21487.42160556741,\n",
       "  22665.581730323196,\n",
       "  23598.952510871208,\n",
       "  25080.240903606158,\n",
       "  26541.486074554014,\n",
       "  27496.731308746646,\n",
       "  28679.627550598892,\n",
       "  30449.977133746692,\n",
       "  32360.03173601414,\n",
       "  34346.33499040639,\n",
       "  36623.88182357446,\n",
       "  39559.45418237761,\n",
       "  42989.936804981844,\n",
       "  47198.571898671406,\n",
       "  52542.7584624447,\n",
       "  59622.877324078385,\n",
       "  69462.93336448744],\n",
       " array([132.07982824, 133.74997791, 135.44124663, 137.15390143,\n",
       "        138.88821277, 140.64445447, 142.42290385, 144.22384173,\n",
       "        146.04755247, 147.89432404, 149.76444803, 151.65821975,\n",
       "        153.57593821, 155.51790623, 157.48443044, 159.47582135,\n",
       "        161.4923934 , 163.534465  , 165.60235861, 167.69640074]))"
      ]
     },
     "execution_count": 4,
     "metadata": {},
     "output_type": "execute_result"
    }
   ],
   "source": [
    "atm.integrated_absorption_spectrum()"
   ]
  },
  {
   "cell_type": "code",
   "execution_count": null,
   "metadata": {},
   "outputs": [],
   "source": []
  }
 ],
 "metadata": {
  "kernelspec": {
   "display_name": "venv-qubic",
   "language": "python",
   "name": "python3"
  },
  "language_info": {
   "codemirror_mode": {
    "name": "ipython",
    "version": 3
   },
   "file_extension": ".py",
   "mimetype": "text/x-python",
   "name": "python",
   "nbconvert_exporter": "python",
   "pygments_lexer": "ipython3",
   "version": "undefined.undefined.undefined"
  }
 },
 "nbformat": 4,
 "nbformat_minor": 2
}
