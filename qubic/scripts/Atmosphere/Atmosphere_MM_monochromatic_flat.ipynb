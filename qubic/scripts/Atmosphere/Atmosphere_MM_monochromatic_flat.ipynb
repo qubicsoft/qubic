{
 "cells": [
  {
   "cell_type": "markdown",
   "metadata": {},
   "source": [
    "# Importation"
   ]
  },
  {
   "cell_type": "code",
   "execution_count": null,
   "metadata": {},
   "outputs": [],
   "source": [
    "import numpy as np\n",
    "import matplotlib.pyplot as plt \n",
    "import healpy as hp\n",
    "import yaml\n",
    "\n",
    "import qubic\n",
    "from qubic.lib.MapMaking.Qatmosphere_2d import AtmosphereMaps\n",
    "from qubic.lib.Instrument.Qacquisition import QubicAcquisition\n",
    "from qubic.lib.Instrument.Qinstrument import QubicInstrument\n",
    "from qubic.lib.Qscene import QubicScene\n",
    "from qubic.lib.Qsamplings import get_pointing, equ2gal\n",
    "\n",
    "from qubic.lib.MapMaking.Qcg import PCGAlgorithm\n",
    "from pyoperators.iterative.core import AbnormalStopIteration\n",
    "\n",
    "from pyoperators import MPI, BlockDiagonalOperator, DiagonalOperator, ReshapeOperator\n",
    "\n",
    "comm = MPI.COMM_WORLD\n",
    "rank = comm.Get_rank()\n",
    "\n",
    "%matplotlib inline"
   ]
  },
  {
   "cell_type": "markdown",
   "metadata": {},
   "source": [
    "# Atm class"
   ]
  },
  {
   "cell_type": "code",
   "execution_count": null,
   "metadata": {},
   "outputs": [],
   "source": [
    "# Import simulation parameters\n",
    "with open('params.yml', 'r') as file:\n",
    "    params = yaml.safe_load(file) "
   ]
  },
  {
   "cell_type": "code",
   "execution_count": null,
   "metadata": {},
   "outputs": [],
   "source": [
    "# Call the class which build the atmosphere maps\n",
    "atm = AtmosphereMaps(params)\n",
    "qubic_dict = atm.qubic_dict"
   ]
  },
  {
   "cell_type": "code",
   "execution_count": null,
   "metadata": {},
   "outputs": [],
   "source": [
    "wv_fluctuations = atm.rho_map\n",
    "print(wv_fluctuations.shape[0])\n",
    "plt.imshow(wv_fluctuations, cmap='jet')\n",
    "plt.title('Water vapor density fluctuations')\n",
    "plt.colorbar(label=r'$g/m^{3}$')"
   ]
  },
  {
   "cell_type": "code",
   "execution_count": null,
   "metadata": {},
   "outputs": [],
   "source": [
    "atm.frequencies"
   ]
  },
  {
   "cell_type": "code",
   "execution_count": null,
   "metadata": {},
   "outputs": [],
   "source": [
    "temp_fluctuations = np.zeros((wv_fluctuations.shape[0], wv_fluctuations.shape[1], 3))\n",
    "temp_fluctuations[..., 0] = atm.get_temp_maps(wv_fluctuations)[0]\n",
    "temp_fluctuations[..., 0] -= np.mean(temp_fluctuations[:, 0])\n",
    "\n",
    "plt.imshow(temp_fluctuations[..., 0], cmap='jet', extent=[-params['size_atm'], params['size_atm'], -params['size_atm'], params['size_atm']])\n",
    "plt.title('Water vapor density fluctuations')\n",
    "plt.xlabel('m')\n",
    "plt.ylabel(('m'))\n",
    "plt.colorbar(label=r'$g/m^{3}$')"
   ]
  },
  {
   "cell_type": "code",
   "execution_count": null,
   "metadata": {},
   "outputs": [],
   "source": [
    "healpy_temp_fluctuations = np.zeros((hp.nside2npix(params['nside']), 3))\n",
    "healpy_temp_fluctuations[..., 0] = atm.get_healpy_atm_maps_2d(atm.get_temp_maps(wv_fluctuations))[0]\n",
    "\n",
    "index = np.where(healpy_temp_fluctuations!=0)[0]\n",
    "healpy_temp_fluctuations[index, 0] -= np.mean(healpy_temp_fluctuations[index, 0])\n",
    "min = np.min(healpy_temp_fluctuations[index, 0])\n",
    "max = np.max(healpy_temp_fluctuations[index, 0])\n",
    "\n",
    "hp.mollview(healpy_temp_fluctuations[..., 0], min=min, max=max, cmap='jet', title='Temperature fluctuations')\n",
    "hp.gnomview(healpy_temp_fluctuations[..., 0], min=min, max=max, rot=equ2gal(0, -57), reso=15, cmap='jet', title='Temperature fluctuations')"
   ]
  },
  {
   "cell_type": "code",
   "execution_count": null,
   "metadata": {},
   "outputs": [],
   "source": [
    "print('Angular speed', qubic_dict['angspeed'])\n",
    "print('Delta azimtuh', qubic_dict['delta_az'])\n",
    "print('Sweeps per elevation', qubic_dict['nsweeps_per_elevation'])\n",
    "print('Angular speed psi', qubic_dict['angspeed_psi'])\n",
    "print('Maximum psi', qubic_dict['maxppsi'])\n",
    "print('latitude', qubic_dict['latitude'])\n",
    "print('longitude', qubic_dict['longitude'])\n",
    "print('Fix_azimuth', qubic_dict['fix_azimuth'])\n",
    "print('period', qubic_dict['period'])\n",
    "print('duration', qubic_dict['duration'])\n",
    "print('Observation date', qubic_dict['date_obs'], type(qubic_dict['date_obs']))"
   ]
  },
  {
   "cell_type": "markdown",
   "metadata": {},
   "source": [
    "# Scanning strategy"
   ]
  },
  {
   "cell_type": "code",
   "execution_count": null,
   "metadata": {},
   "outputs": [],
   "source": [
    "### Random pointing\n",
    "qubic_dict['random_pointing'] = False\n",
    "\n",
    "### Sweepingpointing\n",
    "qubic_dict['sweeping_pointing'] = True\n",
    "qubic_dict['fix_azimuth']['apply'] = False \n",
    "qubic_dict['duration'] = 1\n",
    "qubic_dict['period'] = 90\n",
    "qubic_dict['nsweeps_per_elevation'] = 1\n",
    "\n",
    "### Repeat pointing\n",
    "qubic_dict['repeat_pointing'] = False\n",
    "\n",
    "q_sampling = get_pointing(qubic_dict)\n",
    "print(q_sampling)"
   ]
  },
  {
   "cell_type": "code",
   "execution_count": null,
   "metadata": {},
   "outputs": [],
   "source": [
    "plt.plot(q_sampling.azimuth, q_sampling.elevation, 'o')\n",
    "plt.xlabel('Azimuth (deg)')\n",
    "plt.ylabel('Elevation (deg)')"
   ]
  },
  {
   "cell_type": "code",
   "execution_count": null,
   "metadata": {},
   "outputs": [],
   "source": [
    "from pysimulators.interfaces.healpy import Spherical2HealpixOperator\n",
    "from pysimulators import SphericalHorizontal2EquatorialOperator, SphericalEquatorial2GalacticOperator\n",
    "from astropy.time import Time, TimeDelta\n",
    "\n",
    "def _format_sphconv(a, b, date_obs=None, time=None):\n",
    "    incoords = np.empty(np.broadcast(a, b).shape + (2,))\n",
    "    incoords[..., 0] = a\n",
    "    incoords[..., 1] = b\n",
    "    if date_obs is None:\n",
    "        return incoords\n",
    "    time = Time(date_obs, scale='utc') + TimeDelta(time, format='sec')\n",
    "    return incoords, time\n",
    "\n",
    "incoords, time = _format_sphconv(q_sampling.azimuth, q_sampling.elevation, date_obs=qubic_dict['date_obs'], time=q_sampling.time)\n",
    "h2e = SphericalHorizontal2EquatorialOperator(\n",
    "        'NE', time, qubic_dict['latitude'], qubic_dict['longitude'], degrees=True)\n",
    "e2g = SphericalEquatorial2GalacticOperator(degrees=True)\n",
    "outcoords = e2g(h2e(incoords))"
   ]
  },
  {
   "cell_type": "code",
   "execution_count": null,
   "metadata": {},
   "outputs": [],
   "source": [
    "test = np.zeros(hp.nside2npix(params['nside']))\n",
    "azel = np.asarray([q_sampling.azimuth, q_sampling.elevation]).T\n",
    "index = np.array(Spherical2HealpixOperator(params['nside'], 'azimuth, elevation')(np.radians(outcoords)), dtype='int')\n",
    "test[index] = -1\n",
    "print(len(index))\n",
    "hp.mollview(test)\n",
    "hp.gnomview(test, rot=equ2gal(0, -57), reso=15)"
   ]
  },
  {
   "cell_type": "markdown",
   "metadata": {},
   "source": [
    "# Wind"
   ]
  },
  {
   "cell_type": "code",
   "execution_count": null,
   "metadata": {},
   "outputs": [],
   "source": [
    "def random_wind(npointing, wind_mean, wind_std):\n",
    "    wind_x = np.random.normal(wind_mean, wind_std, npointing)\n",
    "    wind_y = np.random.normal(wind_mean, wind_std, npointing)\n",
    "    \n",
    "    return wind_x, wind_y\n",
    "\n",
    "def constant_wind(npointing, wind_x, wind_y):\n",
    "    ones = np.ones(npointing)\n",
    "    return wind_x*ones, wind_y*ones\n",
    "\n",
    "def random_wind_corrected(npointing, wind_mean, wind_std):\n",
    "    \n",
    "    wind_x = np.cumsum(np.random.normal(wind_mean, wind_std, npointing))\n",
    "    wind_y = np.cumsum(np.random.normal(wind_mean, wind_std, npointing))\n",
    "    \n",
    "    return wind_x, wind_y"
   ]
  },
  {
   "cell_type": "code",
   "execution_count": null,
   "metadata": {},
   "outputs": [],
   "source": [
    "wind_x, wind_y = random_wind_corrected(len(q_sampling.index), 0, 5)\n",
    "\n",
    "plt.plot(wind_x, wind_y, '.')"
   ]
  },
  {
   "cell_type": "code",
   "execution_count": null,
   "metadata": {},
   "outputs": [],
   "source": [
    "def azel_to_cartesian(azimuth, elevation, altitude):\n",
    "    x = altitude / np.sin(elevation) * np.cos(elevation) * np.cos(azimuth)\n",
    "    y = altitude / np.sin(elevation) * np.cos(elevation) * np.sin(azimuth)\n",
    "    return x, y\n",
    "\n",
    "def cartesian_to_azel(x, y ,altitude):\n",
    "    r = np.sqrt(x**2 + y**2 + altitude**2)\n",
    "    el = np.pi/2 - np.arccos(altitude/r)\n",
    "    az = np.arctan2(y, x)\n",
    "    return az, el"
   ]
  },
  {
   "cell_type": "code",
   "execution_count": null,
   "metadata": {},
   "outputs": [],
   "source": [
    "x, y = azel_to_cartesian(np.radians(q_sampling.azimuth), np.radians(q_sampling.elevation), params['altitude_atm_2d'])\n",
    "plt.plot(x, y, 'ok', label='Scanning Strategy', markersize=2)\n",
    "plt.imshow(temp_fluctuations[..., 0], cmap='jet', extent=[-params['size_atm'], params['size_atm'], -params['size_atm'], params['size_atm']])\n",
    "plt.title('Water vapor density fluctuations')\n",
    "plt.xlabel('m')\n",
    "plt.ylabel('m')\n",
    "plt.legend()\n",
    "# plt.xlim(-1100, -600)\n",
    "# plt.ylim(-800, -200)\n",
    "plt.colorbar(label=r'$g/m^{3}$')"
   ]
  },
  {
   "cell_type": "code",
   "execution_count": null,
   "metadata": {},
   "outputs": [],
   "source": [
    "# Attention, il faut que j'ajoute le fait que le vent est en m/s, et qu'il y a du temps entre chaque point,\n",
    "# pour pouvoir calculer correctement le décalage dû au vent\n",
    "\n",
    "def get_deviation_index(position_x, position_y, wind_x, wind_y, delta_time):\n",
    "    deviated_index_x = (np.round(wind_x) + np.round(position_x)).astype(int)\n",
    "    deviated_index_y = (np.round(wind_y) + np.round(position_y)).astype(int)\n",
    "    return deviated_index_x, deviated_index_y\n",
    "delta_time = qubic_dict['duration']*3600/qubic_dict['period']\n",
    "deviated_index_x, deviated_index_y = get_deviation_index(x, y, wind_x, wind_y, delta_time)"
   ]
  },
  {
   "cell_type": "code",
   "execution_count": null,
   "metadata": {},
   "outputs": [],
   "source": [
    "plt.figure()\n",
    "plt.plot(x, y, 'k', label='Scanning Strategy', markersize=2)\n",
    "plt.plot(deviated_index_x, deviated_index_y, 'r', label='Deviated Scanning Strategy', markersize=2)\n",
    "plt.imshow(temp_fluctuations[..., 0], cmap='jet', extent=[-params['size_atm'], params['size_atm'], -params['size_atm'], params['size_atm']])\n",
    "plt.title('Water vapor density fluctuations')\n",
    "plt.xlabel('m')\n",
    "plt.ylabel('m')\n",
    "plt.legend()\n",
    "plt.colorbar(label=r'$g/m^{3}$')\n",
    "\n",
    "plt.figure()\n",
    "plt.plot(x, y, 'k', label='Scanning Strategy', markersize=2)\n",
    "plt.plot(deviated_index_x, deviated_index_y, 'r', label='Deviated Scanning Strategy', markersize=2)\n",
    "plt.imshow(temp_fluctuations[..., 0], cmap='jet', extent=[-params['size_atm'], params['size_atm'], -params['size_atm'], params['size_atm']])\n",
    "plt.title('Water vapor density fluctuations - Zoom')\n",
    "plt.xlabel('m')\n",
    "plt.ylabel('m')\n",
    "plt.xlim(-1100, -600)\n",
    "plt.ylim(-800, -200)\n",
    "plt.legend()\n",
    "plt.colorbar(label=r'$g/m^{3}$')"
   ]
  },
  {
   "cell_type": "code",
   "execution_count": null,
   "metadata": {},
   "outputs": [],
   "source": [
    "deviated_az, deviated_el = cartesian_to_azel(deviated_index_x, deviated_index_y, params['altitude_atm_2d'])\n",
    "\n",
    "plt.plot(q_sampling.azimuth, q_sampling.elevation, 'k', label='original')\n",
    "plt.plot(np.degrees(deviated_az%(2*np.pi)), np.degrees(deviated_el), 'r', label='deviated')\n",
    "plt.xlabel('Azimuth (Degrees)')\n",
    "plt.ylabel('Elevation (Degrees)')\n",
    "plt.legend()\n",
    "plt.title('Scanning Strategy')"
   ]
  },
  {
   "cell_type": "code",
   "execution_count": null,
   "metadata": {},
   "outputs": [],
   "source": [
    "q_sampling"
   ]
  },
  {
   "cell_type": "code",
   "execution_count": null,
   "metadata": {},
   "outputs": [],
   "source": [
    "print(type(q_sampling.equatorial))\n",
    "print(q_sampling.equatorial.shape)"
   ]
  },
  {
   "cell_type": "code",
   "execution_count": null,
   "metadata": {},
   "outputs": [],
   "source": [
    "print(q_sampling.azimuth)\n",
    "print(np.degrees(deviated_az%(2*np.pi)))"
   ]
  },
  {
   "cell_type": "code",
   "execution_count": null,
   "metadata": {},
   "outputs": [],
   "source": [
    "q_sampling.azimuth = np.degrees(deviated_az%(2*np.pi))\n",
    "q_sampling.elevation = np.degrees(deviated_el)\n",
    "incoords, time = _format_sphconv(q_sampling.azimuth, q_sampling.elevation, date_obs=qubic_dict['date_obs'], time=q_sampling.time)\n",
    "h2e = SphericalHorizontal2EquatorialOperator(\n",
    "        'NE', time, qubic_dict['latitude'], qubic_dict['longitude'], degrees=True)\n",
    "e2g = SphericalEquatorial2GalacticOperator(degrees=True)\n",
    "outcoords = e2g(h2e(incoords))"
   ]
  },
  {
   "cell_type": "code",
   "execution_count": null,
   "metadata": {},
   "outputs": [],
   "source": [
    "# q_sampling.equatorial = h2e(incoords)\n",
    "# q_sampling.galactic = e2g(q_sampling.equatorial)"
   ]
  },
  {
   "cell_type": "code",
   "execution_count": null,
   "metadata": {},
   "outputs": [],
   "source": [
    "q_sampling.azimuth"
   ]
  },
  {
   "cell_type": "markdown",
   "metadata": {},
   "source": [
    "# Build MM"
   ]
  },
  {
   "cell_type": "code",
   "execution_count": null,
   "metadata": {},
   "outputs": [],
   "source": [
    "q_instrument = QubicInstrument(qubic_dict)\n",
    "q_scene = QubicScene(qubic_dict)\n",
    "\n",
    "q_acquisition = QubicAcquisition(q_instrument, q_sampling, q_scene, qubic_dict)"
   ]
  },
  {
   "cell_type": "code",
   "execution_count": null,
   "metadata": {},
   "outputs": [],
   "source": [
    "coverage = q_acquisition.get_coverage()\n",
    "\n",
    "covnorm = coverage / coverage.max()\n",
    "seenpix = covnorm > params['coverage_cut']\n",
    "\n",
    "center = np.array([0, -57])\n",
    "qubic_patch = qubic.lib.Qsamplings.equ2gal(center[0], center[1])"
   ]
  },
  {
   "cell_type": "code",
   "execution_count": null,
   "metadata": {},
   "outputs": [],
   "source": [
    "pointing_before_wind = test.copy()\n",
    "pointing_after_wind = np.zeros(hp.nside2npix(params['nside']))\n",
    "azel = np.asarray([q_sampling.azimuth, q_sampling.elevation]).T\n",
    "index = np.array(Spherical2HealpixOperator(params['nside'], 'azimuth, elevation')(np.radians(outcoords)), dtype='int')\n",
    "pointing_after_wind = np.zeros(hp.nside2npix(params['nside']))\n",
    "pointing_after_wind[index] = 1"
   ]
  },
  {
   "cell_type": "code",
   "execution_count": null,
   "metadata": {},
   "outputs": [],
   "source": [
    "plt.figure()\n",
    "hp.gnomview(pointing_before_wind + pointing_after_wind, rot=equ2gal(0, -57), reso=15, norm='hist')"
   ]
  },
  {
   "cell_type": "code",
   "execution_count": null,
   "metadata": {},
   "outputs": [],
   "source": [
    "hp.mollview(coverage)\n",
    "hp.mollview(pointing_after_wind)\n",
    "hp.gnomview(coverage, rot=equ2gal(0, -57), reso=15, title='Coverage')\n",
    "hp.gnomview(pointing_after_wind, rot=equ2gal(0, -57), reso=15)"
   ]
  },
  {
   "cell_type": "code",
   "execution_count": null,
   "metadata": {},
   "outputs": [],
   "source": []
  },
  {
   "cell_type": "code",
   "execution_count": null,
   "metadata": {},
   "outputs": [],
   "source": [
    "H_qubic = q_acquisition.get_operator()\n",
    "R_qubic = ReshapeOperator(H_qubic.shapeout, H_qubic.shape[0])\n",
    "invN_qubic = R_qubic(q_acquisition.get_invntt_operator(False, False)(R_qubic.T))\n",
    "d_qubic = H_qubic(healpy_temp_fluctuations).ravel()"
   ]
  },
  {
   "cell_type": "code",
   "execution_count": null,
   "metadata": {},
   "outputs": [],
   "source": [
    "H = R_qubic(H_qubic)\n",
    "invN = invN_qubic\n",
    "d = d_qubic"
   ]
  },
  {
   "cell_type": "code",
   "execution_count": null,
   "metadata": {},
   "outputs": [],
   "source": [
    "A = H.T * invN * H\n",
    "b = H.T * invN * d.flatten()\n",
    "x0 = healpy_temp_fluctuations*0\n",
    "true_maps = healpy_temp_fluctuations"
   ]
  },
  {
   "cell_type": "code",
   "execution_count": null,
   "metadata": {},
   "outputs": [],
   "source": [
    "stacked_dptdp_inv = np.zeros((1,12*params['nside']**2))\n",
    "\n",
    "D = H.operands[2]\n",
    "P = H.operands[-1]\n",
    "sh = P.matrix.data.index.shape\n",
    "no_det = 992\n",
    "point_per_det = int(sh[0] / no_det)\n",
    "mapPtP_perdet_seq = np.zeros((no_det, 12 * params['nside']**2))\n",
    "sample_ranges = [(det * point_per_det, (det + 1) * point_per_det) for det in range(no_det)]\n",
    "for det, (start, end) in enumerate(sample_ranges):\n",
    "    indices = P.matrix.data.index[start:end, :]  \n",
    "    weights = P.matrix.data.r11[start:end, :]\n",
    "    flat_indices = indices.ravel()\n",
    "    flat_weights = weights.ravel()\n",
    "\n",
    "    mapPitPi = np.zeros(12 * params['nside']**2)\n",
    "    np.add.at(mapPitPi, flat_indices, flat_weights**2)\n",
    "\n",
    "    mapPtP_perdet_seq[det, :] = mapPitPi\n",
    "D_elements = D.data\n",
    "D_sq = D_elements**2\n",
    "mapPtP_seq_scaled = D_sq[:, np.newaxis] * mapPtP_perdet_seq \n",
    "dptdp = mapPtP_seq_scaled.sum(axis = 0)\n",
    "dptdp_inv = 1 / dptdp\n",
    "dptdp_inv[np.isinf(dptdp_inv)] = 0.\n",
    "stacked_dptdp_inv[0] = dptdp_inv\n",
    "M = BlockDiagonalOperator( \\\n",
    "            [DiagonalOperator(ci, broadcast='rightward') for ci in stacked_dptdp_inv],\n",
    "            new_axisin=0)"
   ]
  },
  {
   "cell_type": "markdown",
   "metadata": {},
   "source": [
    "# Map-Making"
   ]
  },
  {
   "cell_type": "code",
   "execution_count": null,
   "metadata": {},
   "outputs": [],
   "source": [
    "# Run PCG\n",
    "algo = PCGAlgorithm(\n",
    "    A,\n",
    "    b,\n",
    "    comm,\n",
    "    x0=x0,\n",
    "    tol=1e-10,\n",
    "    maxiter=200,\n",
    "    disp=True,\n",
    "    M=M,\n",
    "    center=[0, -57],\n",
    "    reso=15,\n",
    "    seenpix=seenpix,\n",
    "    input=true_maps,\n",
    ")\n",
    "try:\n",
    "    output = algo.run()\n",
    "    success = True\n",
    "    message = 'Success'\n",
    "except AbnormalStopIteration as e:\n",
    "    output = algo.finalize()\n",
    "    success = False\n",
    "    message = str(e)"
   ]
  },
  {
   "cell_type": "code",
   "execution_count": null,
   "metadata": {},
   "outputs": [],
   "source": [
    "plt.plot(output['convergence'])\n",
    "plt.yscale('log')\n",
    "plt.xlabel('Iteration')\n",
    "plt.ylabel('Convergence')"
   ]
  },
  {
   "cell_type": "code",
   "execution_count": null,
   "metadata": {},
   "outputs": [],
   "source": [
    "plt.figure(figsize=(10, 12), dpi=200)\n",
    "k=1\n",
    "true_maps[~seenpix, :] = hp.UNSEEN\n",
    "output['x'][~seenpix, :] = hp.UNSEEN\n",
    "\n",
    "istk = 0\n",
    "n_sig = 3\n",
    "\n",
    "sigma = np.std(true_maps[seenpix, istk])\n",
    "hp.gnomview(true_maps[:, istk], min=np.min(true_maps[seenpix, istk]), max=np.max(true_maps[seenpix, istk]), cmap='jet', rot=qubic_patch, reso=15, sub=(1, 3, k), title='Input', notext=True)\n",
    "hp.gnomview(output['x'][:, istk], min=np.min(true_maps[seenpix, istk]), max=np.max(true_maps[seenpix, istk]), cmap='jet', rot=qubic_patch, reso=15, sub=(1, 3, k+1), title='Output', notext=True)\n",
    "hp.gnomview(output['x'][:, istk] - true_maps[:, istk], cmap='jet', rot=qubic_patch, reso=15, sub=(1, 3, k+2), title='Residual', notext=True)\n",
    "k+=3"
   ]
  },
  {
   "cell_type": "code",
   "execution_count": null,
   "metadata": {},
   "outputs": [],
   "source": [
    "plt.figure(figsize=(12, 25))\n",
    "k=1\n",
    "true_maps[~seenpix, :] = hp.UNSEEN\n",
    "output['x'][~seenpix, :] = hp.UNSEEN\n",
    "\n",
    "istk = 0\n",
    "n_sig = 3\n",
    "\n",
    "sigma = np.std(true_maps[seenpix, istk])\n",
    "hp.mollview(true_maps[:, istk], min=np.min(true_maps[seenpix, istk]), max=np.max(true_maps[seenpix, istk]), cmap='jet', sub=(1, 3, k), title='Input', notext=True)\n",
    "hp.mollview(output['x'][:, istk], min=np.min(true_maps[seenpix, istk]), max=np.max(true_maps[seenpix, istk]), cmap='jet', sub=(1, 3, k+1), title='Output', notext=True)\n",
    "hp.mollview(output['x'][:, istk] - true_maps[:, istk], cmap='jet', sub=(1, 3, k+2), title='Residual', notext=True)\n",
    "k+=3"
   ]
  },
  {
   "cell_type": "code",
   "execution_count": null,
   "metadata": {},
   "outputs": [],
   "source": [
    "plt.figure(figsize=(10, 12), dpi=200)\n",
    "k=1\n",
    "true_maps[~seenpix, :] = hp.UNSEEN\n",
    "output['x'][~seenpix, :] = hp.UNSEEN\n",
    "\n",
    "istk = 1\n",
    "n_sig = 3\n",
    "\n",
    "sigma = np.std(true_maps[seenpix, istk])\n",
    "hp.gnomview(true_maps[:, istk], min=np.min(true_maps[seenpix, istk]), max=np.max(true_maps[seenpix, istk]), cmap='jet', rot=qubic_patch, reso=15, sub=(1, 3, k), title='Input', notext=True)\n",
    "hp.gnomview(output['x'][:, istk], min=np.min(true_maps[seenpix, istk]), max=np.max(true_maps[seenpix, istk]), cmap='jet', rot=qubic_patch, reso=15, sub=(1, 3, k+1), title='Output', notext=True)\n",
    "hp.gnomview(output['x'][:, istk] - true_maps[:, istk], cmap='jet', rot=qubic_patch, reso=15, sub=(1, 3, k+2), title='Residual', notext=True)\n",
    "k+=3"
   ]
  },
  {
   "cell_type": "code",
   "execution_count": null,
   "metadata": {},
   "outputs": [],
   "source": []
  },
  {
   "cell_type": "code",
   "execution_count": null,
   "metadata": {},
   "outputs": [],
   "source": []
  },
  {
   "cell_type": "code",
   "execution_count": null,
   "metadata": {},
   "outputs": [],
   "source": []
  },
  {
   "cell_type": "code",
   "execution_count": null,
   "metadata": {},
   "outputs": [],
   "source": []
  }
 ],
 "metadata": {
  "jupytext": {
   "formats": "ipynb,Rmd"
  },
  "kernelspec": {
   "display_name": "venv-qubic",
   "language": "python",
   "name": "python3"
  },
  "language_info": {
   "codemirror_mode": {
    "name": "ipython",
    "version": 3
   },
   "file_extension": ".py",
   "mimetype": "text/x-python",
   "name": "python",
   "nbconvert_exporter": "python",
   "pygments_lexer": "ipython3",
   "version": "3.9.18"
  }
 },
 "nbformat": 4,
 "nbformat_minor": 4
}
