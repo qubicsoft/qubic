{
 "cells": [
  {
   "cell_type": "code",
   "execution_count": null,
   "metadata": {},
   "outputs": [],
   "source": [
    "import numpy as np\n",
    "import matplotlib.pyplot as plt \n",
    "import healpy as hp\n",
    "\n",
    "from qubic.lib.MapMaking.Qatmosphere_2d import AtmosphereMaps\n",
    "\n",
    "import yaml\n",
    "\n",
    "import qubic\n",
    "from qubic.lib.Instrument.Qacquisition import QubicAcquisition\n",
    "from qubic.lib.Instrument.Qinstrument import QubicInstrument\n",
    "from qubic.lib.Qscene import QubicScene\n",
    "from qubic.lib.Qsamplings import get_pointing\n",
    "\n",
    "from qubic.lib.MapMaking.Qmaps import InputMaps\n",
    "\n",
    "from qubic.lib.MapMaking.Qcg import PCGAlgorithm\n",
    "from pyoperators.iterative.core import AbnormalStopIteration\n",
    "\n",
    "from pyoperators import MPI, BlockColumnOperator, BlockDiagonalOperator, DiagonalOperator, ReshapeOperator\n",
    "\n",
    "comm = MPI.COMM_WORLD\n",
    "rank = comm.Get_rank()\n",
    "\n",
    "%matplotlib inline "
   ]
  },
  {
   "cell_type": "code",
   "execution_count": null,
   "metadata": {},
   "outputs": [],
   "source": [
    "# Import simulation parameters\n",
    "with open('params.yml', 'r') as file:\n",
    "    params = yaml.safe_load(file) "
   ]
  },
  {
   "cell_type": "code",
   "execution_count": null,
   "metadata": {},
   "outputs": [],
   "source": [
    "# Call the class which build the atmosphere maps\n",
    "atm = AtmosphereMaps(params)\n",
    "qubic_dict = atm.qubic_dict"
   ]
  },
  {
   "cell_type": "code",
   "execution_count": null,
   "metadata": {},
   "outputs": [],
   "source": [
    "cmb_maps = InputMaps({'cmb':42}, [150e9], 1, params['nside']).m_nu[0]\n",
    "print(cmb_maps.shape)\n",
    "hp.mollview(cmb_maps[:, 0], title='CMB map')"
   ]
  },
  {
   "cell_type": "code",
   "execution_count": null,
   "metadata": {},
   "outputs": [],
   "source": [
    "wv_fluctuations = atm.rho_map\n",
    "print(wv_fluctuations.shape[0])\n",
    "hp.mollview(wv_fluctuations, cmap='jet', title='Water vapor density fluctuations', unit=r'$g/m^{3}$')"
   ]
  },
  {
   "cell_type": "code",
   "execution_count": null,
   "metadata": {},
   "outputs": [],
   "source": [
    "atm.frequencies"
   ]
  },
  {
   "cell_type": "code",
   "execution_count": null,
   "metadata": {},
   "outputs": [],
   "source": [
    "temp_fluctuations = np.zeros((wv_fluctuations.shape[0], 3))\n",
    "temp_fluctuations[:, 0] = atm.get_temp_maps(wv_fluctuations)[0]\n",
    "temp_fluctuations[:, 0] -= np.mean(temp_fluctuations[:, 0])\n",
    "\n",
    "hp.mollview(temp_fluctuations[:, 0], title='Temperature fluctuations', unit='µK_CMB')"
   ]
  },
  {
   "cell_type": "code",
   "execution_count": null,
   "metadata": {},
   "outputs": [],
   "source": [
    "q_instrument = QubicInstrument(qubic_dict)\n",
    "q_sampling = get_pointing(qubic_dict)\n",
    "q_scene = QubicScene(qubic_dict)\n",
    "\n",
    "q_acquisition = QubicAcquisition(q_instrument, q_sampling, q_scene, qubic_dict)"
   ]
  },
  {
   "cell_type": "code",
   "execution_count": null,
   "metadata": {},
   "outputs": [],
   "source": [
    "coverage = q_acquisition.get_coverage()\n",
    "\n",
    "covnorm = coverage / coverage.max()\n",
    "seenpix = covnorm > params['coverage_cut']\n",
    "\n",
    "center = np.array([0, -57])\n",
    "qubic_patch = qubic.lib.Qsamplings.equ2gal(center[0], center[1])"
   ]
  },
  {
   "cell_type": "code",
   "execution_count": null,
   "metadata": {},
   "outputs": [],
   "source": [
    "H_qubic = q_acquisition.get_operator()\n",
    "R_qubic = ReshapeOperator(H_qubic.shapeout, H_qubic.shape[0])\n",
    "invN_qubic = R_qubic(q_acquisition.get_invntt_operator(False, False)(R_qubic.T))\n",
    "d_qubic = H_qubic(temp_fluctuations).ravel()"
   ]
  },
  {
   "cell_type": "code",
   "execution_count": null,
   "metadata": {},
   "outputs": [],
   "source": [
    "print(temp_fluctuations.shape)\n",
    "print(cmb_maps.shape)"
   ]
  },
  {
   "cell_type": "code",
   "execution_count": null,
   "metadata": {},
   "outputs": [],
   "source": [
    "H_planck = ReshapeOperator(temp_fluctuations.shape, temp_fluctuations.ravel().shape)\n",
    "invN_planck = DiagonalOperator(np.ones(H_planck.shapeout))\n",
    "d_planck = H_planck(temp_fluctuations)"
   ]
  },
  {
   "cell_type": "code",
   "execution_count": null,
   "metadata": {},
   "outputs": [],
   "source": [
    "if params['external_data']:\n",
    "    H = BlockColumnOperator([R_qubic(H_qubic), H_planck], axisout=0)\n",
    "    invN = BlockDiagonalOperator([invN_qubic, invN_planck], axisout=0)\n",
    "    d = np.concatenate((d_qubic, d_planck))\n",
    "else:\n",
    "    H = R_qubic(H_qubic)\n",
    "    invN = invN_qubic\n",
    "    d = d_qubic"
   ]
  },
  {
   "cell_type": "code",
   "execution_count": null,
   "metadata": {},
   "outputs": [],
   "source": [
    "A = H.T * invN * H\n",
    "b = H.T * invN * d.flatten()\n",
    "x0 = temp_fluctuations*0\n",
    "true_maps = temp_fluctuations #+ cmb_maps"
   ]
  },
  {
   "cell_type": "code",
   "execution_count": null,
   "metadata": {},
   "outputs": [],
   "source": [
    "stacked_dptdp_inv = np.zeros((len(H.operands),12*params['nside']**2))\n",
    "for i in range(len(H.operands)):\n",
    "    H_single = H\n",
    "    D = H_single.operands[2]\n",
    "    P = H_single.operands[-1]\n",
    "    sh = P.matrix.data.index.shape\n",
    "    no_det = 992\n",
    "    \n",
    "    point_per_det = int(sh[0] / no_det)\n",
    "    mapPtP_perdet_seq = np.zeros((no_det,12*params['nside']**2))\n",
    "    for det in range(no_det):\n",
    "        mapPitPi = np.zeros(12*params['nside']**2)\n",
    "        for peak in range(sh[1]):\n",
    "            for sample in range(det*point_per_det, (det+1)*point_per_det):\n",
    "                mapPitPi[P.matrix.data.index[sample,peak]] += P.matrix.data.r11[sample,peak]**2\n",
    "        mapPtP_perdet_seq[det,:] = mapPitPi\n",
    "\n",
    "    D_elements = D.data\n",
    "    D_sq = D_elements**2\n",
    "    mapPtP_seq_scaled = D_sq[:, np.newaxis] * mapPtP_perdet_seq \n",
    "    dptdp = mapPtP_seq_scaled.sum(axis = 0)\n",
    "    dptdp_inv = 1 / dptdp\n",
    "    dptdp_inv[np.isinf(dptdp_inv)] = 0.\n",
    "    stacked_dptdp_inv[i] = dptdp_inv\n",
    "M = BlockDiagonalOperator( \\\n",
    "            [DiagonalOperator(ci, broadcast='rightward') for ci in stacked_dptdp_inv],\n",
    "            new_axisin=0)\n",
    "#preconditioner = DiagonalOperator(cov_inv, broadcast='rightward') za monoacquisition"
   ]
  },
  {
   "cell_type": "code",
   "execution_count": null,
   "metadata": {},
   "outputs": [],
   "source": [
    "# Run PCG\n",
    "algo = PCGAlgorithm(\n",
    "    A,\n",
    "    b,\n",
    "    comm,\n",
    "    x0=x0,\n",
    "    tol=1e-15,\n",
    "    maxiter=200,\n",
    "    disp=True,\n",
    "    M=M.operands[0],\n",
    "    center=[0, -57],\n",
    "    reso=15,\n",
    "    seenpix=seenpix,\n",
    "    input=true_maps,\n",
    ")\n",
    "try:\n",
    "    output = algo.run()\n",
    "    success = True\n",
    "    message = 'Success'\n",
    "except AbnormalStopIteration as e:\n",
    "    output = algo.finalize()\n",
    "    success = False\n",
    "    message = str(e)"
   ]
  },
  {
   "cell_type": "code",
   "execution_count": null,
   "metadata": {},
   "outputs": [],
   "source": [
    "plt.plot(output['convergence'])\n",
    "plt.yscale('log')\n",
    "plt.xlabel('Iteration')\n",
    "plt.ylabel('Convergence')"
   ]
  },
  {
   "cell_type": "code",
   "execution_count": null,
   "metadata": {},
   "outputs": [],
   "source": [
    "plt.figure(figsize=(10, 12), dpi=200)\n",
    "k=1\n",
    "true_maps[~seenpix, :] = hp.UNSEEN\n",
    "output['x'][~seenpix, :] = hp.UNSEEN\n",
    "\n",
    "istk = 0\n",
    "n_sig = 3\n",
    "\n",
    "sigma = np.std(true_maps[seenpix, istk])\n",
    "hp.gnomview(true_maps[:, istk], min=np.min(true_maps[seenpix, istk]), max=np.max(true_maps[seenpix, istk]), cmap='jet', rot=qubic_patch, reso=15, sub=(1, 3, k), title='Input', notext=True)\n",
    "hp.gnomview(output['x'][:, istk], min=np.min(true_maps[seenpix, istk]), max=np.max(true_maps[seenpix, istk]), cmap='jet', rot=qubic_patch, reso=15, sub=(1, 3, k+1), title='Output', notext=True)\n",
    "hp.gnomview(output['x'][:, istk] - true_maps[:, istk], cmap='jet', rot=qubic_patch, reso=15, sub=(1, 3, k+2), title='Residual', notext=True)\n",
    "k+=3"
   ]
  },
  {
   "cell_type": "code",
   "execution_count": null,
   "metadata": {},
   "outputs": [],
   "source": [
    "plt.figure(figsize=(12, 25))\n",
    "k=1\n",
    "true_maps[~seenpix, :] = hp.UNSEEN\n",
    "output['x'][~seenpix, :] = hp.UNSEEN\n",
    "\n",
    "istk = 0\n",
    "n_sig = 3\n",
    "\n",
    "sigma = np.std(true_maps[seenpix, istk])\n",
    "hp.mollview(true_maps[:, istk], min=np.min(true_maps[seenpix, istk]), max=np.max(true_maps[seenpix, istk]), cmap='jet', sub=(1, 3, k), title='Input', notext=True)\n",
    "hp.mollview(output['x'][:, istk], min=np.min(true_maps[seenpix, istk]), max=np.max(true_maps[seenpix, istk]), cmap='jet', sub=(1, 3, k+1), title='Output', notext=True)\n",
    "hp.mollview(output['x'][:, istk] - true_maps[:, istk], cmap='jet', sub=(1, 3, k+2), title='Residual', notext=True)\n",
    "k+=3"
   ]
  },
  {
   "cell_type": "code",
   "execution_count": null,
   "metadata": {},
   "outputs": [],
   "source": [
    "plt.figure(figsize=(10, 12), dpi=200)\n",
    "k=1\n",
    "true_maps[~seenpix, :] = hp.UNSEEN\n",
    "output['x'][~seenpix, :] = hp.UNSEEN\n",
    "\n",
    "istk = 1\n",
    "n_sig = 3\n",
    "\n",
    "sigma = np.std(true_maps[seenpix, istk])\n",
    "hp.gnomview(true_maps[:, istk], min=np.min(true_maps[seenpix, istk]), max=np.max(true_maps[seenpix, istk]), cmap='jet', rot=qubic_patch, reso=15, sub=(1, 3, k), title='Input', notext=True)\n",
    "hp.gnomview(output['x'][:, istk], min=np.min(true_maps[seenpix, istk]), max=np.max(true_maps[seenpix, istk]), cmap='jet', rot=qubic_patch, reso=15, sub=(1, 3, k+1), title='Output', notext=True)\n",
    "hp.gnomview(output['x'][:, istk] - true_maps[:, istk], cmap='jet', rot=qubic_patch, reso=15, sub=(1, 3, k+2), title='Residual', notext=True)\n",
    "k+=3"
   ]
  },
  {
   "cell_type": "code",
   "execution_count": null,
   "metadata": {},
   "outputs": [],
   "source": [
    "npix = hp.nside2npix(128)\n",
    "test = np.ones(npix)\n",
    "cl = hp.anafast(test)"
   ]
  },
  {
   "cell_type": "code",
   "execution_count": null,
   "metadata": {},
   "outputs": [],
   "source": [
    "plt.plot(cl)"
   ]
  },
  {
   "cell_type": "code",
   "execution_count": null,
   "metadata": {},
   "outputs": [],
   "source": [
    "cl = np.zeros(100)\n",
    "cl[10] = 1\n",
    "cl[20] = 1\n",
    "maps = hp.synfast(cl, 256)"
   ]
  },
  {
   "cell_type": "code",
   "execution_count": null,
   "metadata": {},
   "outputs": [],
   "source": [
    "maps.shape"
   ]
  },
  {
   "cell_type": "code",
   "execution_count": null,
   "metadata": {},
   "outputs": [],
   "source": [
    "hp.mollview(maps)"
   ]
  },
  {
   "cell_type": "code",
   "execution_count": null,
   "metadata": {},
   "outputs": [],
   "source": [
    "plt.plot(hp.anafast(maps))"
   ]
  },
  {
   "cell_type": "code",
   "execution_count": null,
   "metadata": {},
   "outputs": [],
   "source": []
  }
 ],
 "metadata": {
  "jupytext": {
   "formats": "ipynb,Rmd"
  },
  "kernelspec": {
   "display_name": "Python 3 (ipykernel)",
   "language": "python",
   "name": "python3"
  },
  "language_info": {
   "codemirror_mode": {
    "name": "ipython",
    "version": 3
   },
   "file_extension": ".py",
   "mimetype": "text/x-python",
   "name": "python",
   "nbconvert_exporter": "python",
   "pygments_lexer": "ipython3",
   "version": "3.9.18"
  }
 },
 "nbformat": 4,
 "nbformat_minor": 4
}
