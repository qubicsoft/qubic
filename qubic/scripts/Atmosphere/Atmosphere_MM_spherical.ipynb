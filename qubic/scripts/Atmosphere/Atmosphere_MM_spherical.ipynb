{
 "cells": [
  {
   "cell_type": "code",
   "execution_count": null,
   "metadata": {},
   "outputs": [],
   "source": [
    "import numpy as np\n",
    "import matplotlib.pyplot as plt \n",
    "import healpy as hp\n",
    "\n",
    "from qubic.lib.MapMaking.Qatmosphere_2d import AtmosphereMaps\n",
    "\n",
    "import sys\n",
    "import yaml\n",
    "\n",
    "sys.path.append('/home/laclavere/qubic/qubic/Pipeline')\n",
    "\n",
    "import qubic\n",
    "\n",
    "from qubic.lib.MapMaking.Qmaps import InputMaps\n",
    "from qubic.lib.MapMaking.Qcg import PCGAlgorithm\n",
    "from pyoperators.iterative.core import AbnormalStopIteration\n",
    "\n",
    "from pyoperators import *\n",
    "\n",
    "comm = MPI.COMM_WORLD\n",
    "rank = comm.Get_rank()\n",
    "\n",
    "%matplotlib inline"
   ]
  },
  {
   "cell_type": "code",
   "execution_count": null,
   "metadata": {},
   "outputs": [],
   "source": [
    "# Import simulation parameters\n",
    "with open('params.yml', 'r') as file:\n",
    "    params = yaml.safe_load(file) "
   ]
  },
  {
   "cell_type": "code",
   "execution_count": null,
   "metadata": {},
   "outputs": [],
   "source": [
    "# Call the class which build the atmosphere maps\n",
    "atm = AtmosphereMaps(params)"
   ]
  },
  {
   "cell_type": "code",
   "execution_count": null,
   "metadata": {},
   "outputs": [],
   "source": [
    "# Import the atm absorption spectrum\n",
    "abs_spectrum = atm.absorption_spectrum()\n",
    "\n",
    "plt.plot(abs_spectrum)\n",
    "plt.ylim(0, 0.0002)"
   ]
  },
  {
   "cell_type": "code",
   "execution_count": null,
   "metadata": {},
   "outputs": [],
   "source": [
    "# Import the atm temperature maps\n",
    "atm_maps = atm.get_temp_maps(atm.rho_map)\n",
    "print(atm_maps.shape)\n",
    "\n",
    "# Import the atm integrated absorption spectrum\n",
    "integrated_abs_spectrum, frequencies = atm.integrated_absorption_spectrum()"
   ]
  },
  {
   "cell_type": "code",
   "execution_count": null,
   "metadata": {},
   "outputs": [],
   "source": [
    "mean_atm_maps = []\n",
    "for i in range(atm_maps.shape[0]):\n",
    "    mean_atm_maps.append(np.mean(atm_maps[i, :]))\n",
    "plt.figure()\n",
    "plt.plot(frequencies, mean_atm_maps, '.')\n",
    "plt.title('Atmosphere maps')\n",
    "plt.xlabel('Frequency (GHz)')\n",
    "plt.ylabel(r'Mean temperature ($\\mu K_{CMB}$)')\n",
    "plt.figure()\n",
    "plt.plot(frequencies, integrated_abs_spectrum, '.')\n",
    "plt.xlabel('Frequency (GHz)')\n",
    "plt.ylabel('Integrated absorption spectrum')"
   ]
  },
  {
   "cell_type": "code",
   "execution_count": null,
   "metadata": {},
   "outputs": [],
   "source": [
    "hp.mollview(atm_maps[0], title='Atmosphere temperature map at {:.2f} GHz'.format(frequencies[0]), cmap='jet', unit='µK_CMB')"
   ]
  },
  {
   "cell_type": "code",
   "execution_count": null,
   "metadata": {},
   "outputs": [],
   "source": [
    "# Import CMB maps\n",
    "cmb_maps = InputMaps({'cmb':42}, atm.frequencies, 2, params['nside']).m_nu\n",
    "print(cmb_maps.shape)\n",
    "hp.mollview(cmb_maps[-1, :, 0],cmap='jet', unit='µK_CMB', title='CMB map')"
   ]
  },
  {
   "cell_type": "code",
   "execution_count": null,
   "metadata": {},
   "outputs": [],
   "source": [
    "# Build input maps : CMB + Atmsophere (only for I map)\n",
    "input_maps = cmb_maps.copy() * 0\n",
    "input_maps[:, :, 0] += atm_maps\n",
    "print(input_maps[0, :, 0].shape)\n",
    "for irec in range(input_maps.shape[0]):\n",
    "    input_maps[irec, :, 0] -= np.mean(input_maps[irec, :, 0])\n",
    "\n",
    "hp.mollview(input_maps[-1, :, 0] ,cmap='jet', unit='µK_CMB', norm='hist', title='Input map {:.2f} GHz'.format(frequencies[-1]))\n",
    "hp.graticule()"
   ]
  },
  {
   "cell_type": "code",
   "execution_count": null,
   "metadata": {},
   "outputs": [],
   "source": [
    "# Compute the Nrec maps from the Nsub maps\n",
    "true_maps = np.zeros((params['nrec'], 12*params['nside']**2, 3))\n",
    "true_frequencies = np.zeros(params['nrec'])\n",
    "fsub = int(params['nsub_in'] / params['nrec'])\n",
    "for i in range(params['nrec']):\n",
    "    true_maps[i, :, :] = np.mean(input_maps[i*fsub:(i+1)*fsub, :, :], axis=0)\n",
    "    true_frequencies[i] = np.mean(frequencies[i*fsub:(i+1)*fsub])\n",
    "print(true_maps.shape) \n",
    "print(true_frequencies)   \n",
    "plt.plot(true_frequencies, np.mean(true_maps, axis=1)[..., 0], '.')\n",
    "plt.ylabel(r'Mean temperature ($\\mu K_{CMB}$)')\n",
    "plt.xlabel('Frequency (GHz)')\n",
    "plt.xlim(130, 250)"
   ]
  },
  {
   "cell_type": "code",
   "execution_count": null,
   "metadata": {},
   "outputs": [],
   "source": [
    "for inu in range(len(true_frequencies)):\n",
    "    hp.mollview(true_maps[inu, :, 0],title='Input - {:.2f} GHz'.format(true_frequencies[inu]))"
   ]
  },
  {
   "cell_type": "markdown",
   "metadata": {},
   "source": [
    "# Map-making"
   ]
  },
  {
   "cell_type": "code",
   "execution_count": null,
   "metadata": {},
   "outputs": [],
   "source": [
    "#coverage = joint.qubic.subacqs[0].get_coverage()\n"
   ]
  },
  {
   "cell_type": "code",
   "execution_count": null,
   "metadata": {},
   "outputs": [],
   "source": [
    "# Build the QUBIC operators\n",
    "H_tod_qubic = qubic.lib.InstrumentModel.Qacquisition.QubicDualBand(atm.qubic_dict, nsub=params['nsub_in'], nrec=params['nsub_in']).get_operator()\n",
    "Qacq = qubic.lib.InstrumentModel.Qacquisition.QubicDualBand(atm.qubic_dict, nsub=params['nsub_in'], nrec=params['nrec'])\n",
    "H_rec_qubic = Qacq.get_operator().operands[1]\n",
    "invN_qubic = Qacq.get_invntt_operator()\n",
    "tod_qubic = H_tod_qubic(input_maps).ravel()"
   ]
  },
  {
   "cell_type": "code",
   "execution_count": null,
   "metadata": {},
   "outputs": [],
   "source": [
    "coverage = Qacq.coverage\n",
    "\n",
    "covnorm = coverage / coverage.max()\n",
    "seenpix = covnorm > params['coverage_cut']\n",
    "\n",
    "center = np.array([0, -57])\n",
    "qubic_patch = qubic.lib.Qsamplings.equ2gal(center[0], center[1])"
   ]
  },
  {
   "cell_type": "code",
   "execution_count": null,
   "metadata": {},
   "outputs": [],
   "source": [
    "print('H_rec', H_rec_qubic.shapein, H_rec_qubic.shapeout)\n",
    "print('invN', invN_qubic.shapein, invN_qubic.shapeout)\n",
    "print('H_tod', H_tod_qubic.shapein, H_tod_qubic.shapeout)"
   ]
  },
  {
   "cell_type": "code",
   "execution_count": null,
   "metadata": {},
   "outputs": [],
   "source": [
    "H_tod = H_tod_qubic\n",
    "R = ReshapeOperator(H_rec_qubic.shapeout, invN_qubic.shapein)\n",
    "H_rec = R(H_rec_qubic)\n",
    "invN = invN_qubic\n",
    "tod = tod_qubic"
   ]
  },
  {
   "cell_type": "code",
   "execution_count": null,
   "metadata": {},
   "outputs": [],
   "source": [
    "print('H_rec_qubic', H_rec_qubic.shapein, H_rec_qubic.shapeout)\n",
    "print(\"H_rec\", H_rec.shapein, H_rec.shapeout)\n",
    "print(\"invN\", invN.shapein, invN.shapeout)\n",
    "print('invN qubic', invN_qubic.shapein, invN_qubic.shapeout)\n",
    "print(\"TOD\", tod.shape)"
   ]
  },
  {
   "cell_type": "code",
   "execution_count": null,
   "metadata": {},
   "outputs": [],
   "source": [
    "# Build PCG\n",
    "R = ReshapeOperator(tod.shape, invN_qubic.shapein)\n",
    "A = H_rec.T * invN * H_rec\n",
    "b = H_rec.T * invN * R(tod)\n",
    "x0 = true_maps*0"
   ]
  },
  {
   "cell_type": "code",
   "execution_count": null,
   "metadata": {},
   "outputs": [],
   "source": [
    "H_rec.operands[1].operands[0].operands[0]"
   ]
  },
  {
   "cell_type": "code",
   "execution_count": null,
   "metadata": {},
   "outputs": [],
   "source": [
    "stacked_dptdp_inv = np.zeros((len(H_rec.operands),12*params['nside']**2))\n",
    "for i in range(len(H_rec.operands)):\n",
    "    H_single = H_rec.operands[1].operands[i].operands[0]\n",
    "    D = H_single.operands[1]\n",
    "    P = H_single.operands[-1]\n",
    "    sh = P.matrix.data.index.shape\n",
    "    no_det = 992\n",
    "    \n",
    "    point_per_det = int(sh[0] / no_det)\n",
    "    mapPtP_perdet_seq = np.zeros((no_det,12*params['nside']**2))\n",
    "    for det in range(no_det):\n",
    "        mapPitPi = np.zeros(12*params['nside']**2)\n",
    "        for peak in range(sh[1]):\n",
    "            for sample in range(det*point_per_det, (det+1)*point_per_det):\n",
    "                mapPitPi[P.matrix.data.index[sample,peak]] += P.matrix.data.r11[sample,peak]**2\n",
    "        mapPtP_perdet_seq[det,:] = mapPitPi\n",
    "\n",
    "    D_elements = D.data\n",
    "    D_sq = D_elements**2\n",
    "    mapPtP_seq_scaled = D_sq[:, np.newaxis] * mapPtP_perdet_seq \n",
    "    dptdp = mapPtP_seq_scaled.sum(axis = 0)\n",
    "    dptdp_inv = 1 / dptdp\n",
    "    dptdp_inv[np.isinf(dptdp_inv)] = 0.\n",
    "    stacked_dptdp_inv[i] = dptdp_inv\n",
    "M = BlockDiagonalOperator( \\\n",
    "            [DiagonalOperator(ci, broadcast='rightward') for ci in stacked_dptdp_inv],\n",
    "            new_axisin=0)"
   ]
  },
  {
   "cell_type": "code",
   "execution_count": null,
   "metadata": {},
   "outputs": [],
   "source": [
    "print('A', A.shapein, A.shapeout)\n",
    "print('b', b.shape)"
   ]
  },
  {
   "cell_type": "code",
   "execution_count": null,
   "metadata": {},
   "outputs": [],
   "source": [
    "# Code to compute the preconditioner\n",
    "\n",
    "# approx_hth = np.zeros((x0.shape))\n",
    "# conditioner = np.zeros((x0.shape))\n",
    "# vec = np.ones(Qacq.H[0].shapein)\n",
    "\n",
    "# for i in range(x0.shape[0]):\n",
    "#     for j in range(x0.shape[0]):\n",
    "#         approx_hth[i] = (\n",
    "#             Qacq.H[i].T\n",
    "#             * Qacq.invn220\n",
    "#             * Qacq.H[j](vec)\n",
    "#         )\n",
    "# fsub_out = int(params[\"nsub_in\"] / params[\"nrec\"])\n",
    "# for irec in range(params[\"nrec\"]):\n",
    "#     imin = irec * fsub_out\n",
    "#     imax = (irec + 1) * fsub_out\n",
    "#     for istk in range(3):\n",
    "#         conditioner[irec, seenpix, istk] = 1 / (\n",
    "#             np.sum(approx_hth[imin:imax, seenpix, 0], axis=0)\n",
    "#         )\n",
    "\n",
    "# conditioner[conditioner == np.inf] = 1\n",
    "# M = DiagonalOperator(conditioner)"
   ]
  },
  {
   "cell_type": "code",
   "execution_count": null,
   "metadata": {},
   "outputs": [],
   "source": [
    "print(M.shapein, M.shapeout)"
   ]
  },
  {
   "cell_type": "code",
   "execution_count": null,
   "metadata": {},
   "outputs": [],
   "source": [
    "# Run PCG\n",
    "algo = PCGAlgorithm(\n",
    "    A,\n",
    "    b,\n",
    "    comm,\n",
    "    x0=x0,\n",
    "    tol=1e-10,\n",
    "    maxiter=200,\n",
    "    disp=True,\n",
    "    M=None,\n",
    "    center=[0, -57],\n",
    "    reso=15,\n",
    "    seenpix=seenpix,\n",
    "    input=true_maps,\n",
    ")\n",
    "try:\n",
    "    output = algo.run()\n",
    "    success = True\n",
    "    message = 'Success'\n",
    "except AbnormalStopIteration as e:\n",
    "    output = algo.finalize()\n",
    "    success = False\n",
    "    message = str(e)"
   ]
  },
  {
   "cell_type": "code",
   "execution_count": null,
   "metadata": {},
   "outputs": [],
   "source": [
    "plt.plot(output['convergence'])\n",
    "plt.yscale('log')\n",
    "plt.xlabel('Iteration')\n",
    "plt.ylabel('Convergence')"
   ]
  },
  {
   "cell_type": "code",
   "execution_count": null,
   "metadata": {},
   "outputs": [],
   "source": [
    "stokes = ['I', 'Q', 'U']"
   ]
  },
  {
   "cell_type": "code",
   "execution_count": null,
   "metadata": {},
   "outputs": [],
   "source": [
    "\n",
    "plt.figure(figsize=(8, 8), dpi=200)\n",
    "k=1\n",
    "true_maps[:, ~seenpix, :] = hp.UNSEEN\n",
    "output['x'][:, ~seenpix, :] = hp.UNSEEN\n",
    "\n",
    "istk = 0\n",
    "n_sig = 3\n",
    "reso = 15\n",
    "\n",
    "for inu in range(output['x'].shape[0]):\n",
    "    sigma = np.std(true_maps[inu, seenpix, istk])\n",
    "    hp.gnomview(true_maps[inu, :, istk], min=np.min(true_maps[inu, seenpix, istk]), max=np.max(true_maps[inu, seenpix, istk]), cmap='jet', rot=qubic_patch,title='Input - {:.2f} GHz'.format(true_frequencies[inu]), reso=reso, sub=(output['x'].shape[0], 3, k), notext=True)\n",
    "    hp.gnomview(output['x'][inu, :, istk], min=np.min(true_maps[inu, seenpix, istk]), max=np.max(true_maps[inu, seenpix, istk]), cmap='jet', rot=qubic_patch,title='Output - {:.2f} GHz'.format(true_frequencies[inu]), reso=reso, sub=(output['x'].shape[0], 3, k+1), notext=True)\n",
    "    hp.gnomview(output['x'][inu, :, istk] - true_maps[inu, :, 0], cmap='jet', rot=qubic_patch,title='Residual - {:.2f} GHz'.format(true_frequencies[inu]), reso=reso, sub=(output['x'].shape[0], 3, k+2), notext=True)\n",
    "    k+=3"
   ]
  },
  {
   "cell_type": "code",
   "execution_count": null,
   "metadata": {},
   "outputs": [],
   "source": [
    "for inu in range(output['x'].shape[0]):\n",
    "    sigma = np.std(true_maps[inu, seenpix, istk])\n",
    "    hp.mollview(output['x'][inu, :, istk] - true_maps[inu, :, istk], cmap='jet',title='Input - {:.2f} GHz'.format(true_frequencies[inu]))\n",
    "    hp.graticule()"
   ]
  },
  {
   "cell_type": "code",
   "execution_count": null,
   "metadata": {},
   "outputs": [],
   "source": [
    "plt.figure(figsize=(8, 8), dpi=200)\n",
    "\n",
    "k=1\n",
    "true_maps[:, ~seenpix, :] = hp.UNSEEN\n",
    "output['x'][:, ~seenpix, :] = hp.UNSEEN\n",
    "\n",
    "istk = 1\n",
    "n_sig = 2\n",
    "\n",
    "for inu in range(output['x'].shape[0]):\n",
    "    sigma = np.std(true_maps[inu, seenpix, istk])\n",
    "    hp.gnomview(true_maps[inu, :, istk], cmap='jet', rot=qubic_patch,title='Input - {:.2f} GHz'.format(true_frequencies[inu]), reso=15, sub=(output['x'].shape[0], 3, k), notext=True)\n",
    "    hp.gnomview(output['x'][inu, :, istk], cmap='jet', rot=qubic_patch,title='Output - {:.2f} GHz'.format(true_frequencies[inu]), reso=15, sub=(output['x'].shape[0], 3, k+1), notext=True)\n",
    "    hp.gnomview(output['x'][inu, :, istk] - true_maps[inu, :, istk], cmap='jet', rot=qubic_patch,title='Residual - {:.2f} GHz'.format(true_frequencies[inu]), reso=15, sub=(output['x'].shape[0], 3, k+2), notext=True)\n",
    "    k+=3"
   ]
  },
  {
   "cell_type": "code",
   "execution_count": null,
   "metadata": {},
   "outputs": [],
   "source": []
  },
  {
   "cell_type": "code",
   "execution_count": null,
   "metadata": {},
   "outputs": [],
   "source": []
  },
  {
   "cell_type": "code",
   "execution_count": null,
   "metadata": {},
   "outputs": [],
   "source": []
  },
  {
   "cell_type": "code",
   "execution_count": null,
   "metadata": {},
   "outputs": [],
   "source": []
  },
  {
   "cell_type": "code",
   "execution_count": null,
   "metadata": {},
   "outputs": [],
   "source": [
    "stop"
   ]
  },
  {
   "cell_type": "code",
   "execution_count": null,
   "metadata": {},
   "outputs": [],
   "source": []
  },
  {
   "cell_type": "code",
   "execution_count": null,
   "metadata": {},
   "outputs": [],
   "source": []
  },
  {
   "cell_type": "code",
   "execution_count": null,
   "metadata": {},
   "outputs": [],
   "source": []
  },
  {
   "cell_type": "code",
   "execution_count": null,
   "metadata": {},
   "outputs": [],
   "source": []
  }
 ],
 "metadata": {
  "jupytext": {
   "formats": "ipynb,Rmd"
  },
  "kernelspec": {
   "display_name": "Python 3 (ipykernel)",
   "language": "python",
   "name": "python3"
  },
  "language_info": {
   "codemirror_mode": {
    "name": "ipython",
    "version": 3
   },
   "file_extension": ".py",
   "mimetype": "text/x-python",
   "name": "python",
   "nbconvert_exporter": "python",
   "pygments_lexer": "ipython3",
   "version": "3.9.18"
  }
 },
 "nbformat": 4,
 "nbformat_minor": 4
}
