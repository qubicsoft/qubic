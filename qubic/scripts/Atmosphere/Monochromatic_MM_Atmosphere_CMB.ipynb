{
 "cells": [
  {
   "cell_type": "markdown",
   "metadata": {},
   "source": [
    "# Importation"
   ]
  },
  {
   "cell_type": "code",
   "execution_count": null,
   "metadata": {},
   "outputs": [],
   "source": [
    "import numpy as np\n",
    "import matplotlib.pyplot as plt \n",
    "import healpy as hp\n",
    "import yaml\n",
    " \n",
    "from qubic.lib.MapMaking.Qatmosphere_2d import AtmosphereMaps\n",
    "from qubic.lib.MapMaking.FrequencyMapMaking.Qspectra_component import CMBModel\n",
    "from qubic.lib.Qsamplings import get_pointing, equ2gal, QubicSampling\n",
    "from qubic.lib.Instrument.Qacquisition import QubicAcquisition\n",
    "from qubic.lib.Instrument.Qinstrument import QubicInstrument\n",
    "from qubic.lib.Qscene import QubicScene\n",
    "\n",
    "from qubic.lib.MapMaking.Qcg_test_for_atm import PCGAlgorithm\n",
    "from pyoperators.iterative.core import AbnormalStopIteration\n",
    "\n",
    "from pyoperators import MPI, BlockDiagonalOperator, BlockRowOperator, DiagonalOperator, ReshapeOperator, Rotation3dOperator, Spherical2CartesianOperator, Cartesian2SphericalOperator\n",
    "\n",
    "from pysimulators.interfaces.healpy import Spherical2HealpixOperator, HealpixConvolutionGaussianOperator\n",
    "\n",
    "comm = MPI.COMM_WORLD\n",
    "rank = comm.Get_rank() \n",
    "\n",
    "%matplotlib inline"
   ]
  },
  {
   "cell_type": "code",
   "execution_count": null,
   "metadata": {},
   "outputs": [],
   "source": [
    "# Import simulation parameters\n",
    "with open('params.yml', 'r') as file:\n",
    "    params = yaml.safe_load(file) "
   ]
  },
  {
   "cell_type": "code",
   "execution_count": null,
   "metadata": {},
   "outputs": [],
   "source": [
    "# Call the class which build the atmosphere maps\n",
    "atm = AtmosphereMaps(params)\n",
    "qubic_dict = atm.qubic_dict"
   ]
  },
  {
   "cell_type": "code",
   "execution_count": null,
   "metadata": {},
   "outputs": [],
   "source": [
    "qubic_dict"
   ]
  },
  {
   "cell_type": "markdown",
   "metadata": {},
   "source": [
    "# Scanning Strategy"
   ]
  },
  {
   "cell_type": "markdown",
   "metadata": {},
   "source": [
    "## Galactic Coordinates - Sweeping scan following the center of the Qubic patch"
   ]
  },
  {
   "cell_type": "code",
   "execution_count": null,
   "metadata": {},
   "outputs": [],
   "source": [
    "### Random pointing\n",
    "qubic_dict['random_pointing'] = True\n",
    "\n",
    "### Sweepingpointing\n",
    "qubic_dict['sweeping_pointing'] = False\n",
    "qubic_dict['fix_azimuth']['apply'] = False \n",
    "\n",
    "qubic_dict['angspeed'] = 0.4\n",
    "qubic_dict['delta_az'] = 20\n",
    "qubic_dict['nsweeps_per_elevation'] = 1\n",
    "qubic_dict['period'] = 1\n",
    "qubic_dict['duration'] = 1\n",
    "# npointings = 3600 * t_obs / period\n",
    "\n",
    "### Repeat pointing\n",
    "qubic_dict['repeat_pointing'] = False\n",
    "\n",
    "qubic_dict['fix_azimuth']['apply'] = False\n",
    "\n",
    "q_sampling_gal = get_pointing(qubic_dict)\n",
    "qubic_patch = np.array([0, -57])\n",
    "center_gal = equ2gal(qubic_patch[0], qubic_patch[1])\n",
    "center_local = np.array([np.mean(q_sampling_gal.azimuth), np.mean(q_sampling_gal.elevation)])\n",
    "print(q_sampling_gal)"
   ]
  },
  {
   "cell_type": "code",
   "execution_count": null,
   "metadata": {},
   "outputs": [],
   "source": [
    "az, el = q_sampling_gal.azimuth, q_sampling_gal.elevation\n",
    "\n",
    "fig, axs = plt.subplots(1, 5, figsize=(25, 5))\n",
    "\n",
    "# Azimuth plot\n",
    "axs[0].plot(az)\n",
    "axs[0].set_title(\"Azimuth\")\n",
    "axs[0].set_xlabel(\"Time samples\")\n",
    "axs[0].set_ylabel(\"Angles (degrees)\")\n",
    "\n",
    "# Elevation plot\n",
    "axs[1].plot(el)\n",
    "axs[1].set_title(\"Elevation\")\n",
    "axs[1].set_xlabel(\"Time samples\")\n",
    "axs[1].set_ylabel(\"Angles (degrees)\")\n",
    "\n",
    "# Scanning strategy plot\n",
    "axs[2].plot(az, el)\n",
    "axs[2].set_title(\"Scanning strategy\")\n",
    "axs[2].set_xlabel(\"Azimuth (degrees)\")\n",
    "axs[2].set_ylabel(\"Elevation (degrees)\")\n",
    "\n",
    "# Equatorial coordinates plot\n",
    "axs[3].plot((q_sampling_gal.equatorial[:, 0] + 180) % 360 - 180, q_sampling_gal.equatorial[:, 1])\n",
    "axs[3].set_title(\"Equatorial coordinates\")\n",
    "axs[3].set_xlabel(\"Right ascension (degrees)\")\n",
    "axs[3].set_ylabel(\"Declination (degrees)\")\n",
    "\n",
    "# Galactic coordinates plot\n",
    "axs[4].plot(q_sampling_gal.galactic[:, 0], q_sampling_gal.galactic[:, 1])\n",
    "axs[4].set_title(\"Galactic coordinates\")\n",
    "axs[4].set_xlabel(\"Longitude (degrees)\")\n",
    "axs[4].set_ylabel(\"Latitude (degrees)\")\n",
    "\n",
    "fig.suptitle(\"Qubic Sampling\")\n",
    "plt.tight_layout()\n",
    "plt.show()"
   ]
  },
  {
   "cell_type": "code",
   "execution_count": null,
   "metadata": {},
   "outputs": [],
   "source": [
    "test_gal = np.zeros(hp.nside2npix(params['nside']))\n",
    "\n",
    "index = np.array(Spherical2HealpixOperator(params['nside'], 'azimuth, elevation')(np.radians(q_sampling_gal.galactic)), dtype='int')\n",
    "test_gal[index] = 1\n",
    "hp.mollview(test_gal, title='test_gal', cmap='viridis')\n",
    "hp.gnomview(test_gal, title='test_gal', cmap='viridis', reso=15, rot=center_gal)"
   ]
  },
  {
   "cell_type": "markdown",
   "metadata": {},
   "source": [
    "## Local Coordinates - Sweeping scan following the center of the Qubic patch"
   ]
  },
  {
   "cell_type": "code",
   "execution_count": null,
   "metadata": {},
   "outputs": [],
   "source": [
    "q_sampling_local = QubicSampling(params['npointings'], #int(np.ceil(qubic_dict['duration']*3600/qubic_dict['period'])),\n",
    "                           date_obs = qubic_dict['date_obs'],\n",
    "                           period = qubic_dict['period'],\n",
    "                           latitude = qubic_dict['latitude'],\n",
    "                           longitude = qubic_dict['longitude'])\n",
    "\n",
    "q_sampling_local.azimuth = q_sampling_gal.azimuth\n",
    "q_sampling_local.elevation = q_sampling_gal.elevation\n",
    "q_sampling_local.pitch = q_sampling_gal.pitch\n",
    "q_sampling_local.angle_hwp = q_sampling_gal.angle_hwp\n",
    "\n",
    "q_sampling_local.fix_az = True"
   ]
  },
  {
   "cell_type": "code",
   "execution_count": null,
   "metadata": {},
   "outputs": [],
   "source": [
    "test_gal = np.zeros(hp.nside2npix(params['nside']))\n",
    "\n",
    "index = np.array(Spherical2HealpixOperator(params['nside'], 'azimuth, elevation')(np.radians([q_sampling_local.azimuth, q_sampling_local.elevation]).T), dtype='int')\n",
    "test_gal[index] = 1\n",
    "hp.mollview(test_gal, title='test_gal', cmap='viridis')\n",
    "hp.gnomview(test_gal, title='test_gal', cmap='viridis', reso=15, rot=(np.mean(q_sampling_local.azimuth), np.mean(q_sampling_local.elevation)))\n",
    "\n",
    "print(np.mean(q_sampling_local.azimuth), np.mean(q_sampling_local.elevation))"
   ]
  },
  {
   "cell_type": "markdown",
   "metadata": {},
   "source": [
    "# Input Maps"
   ]
  },
  {
   "cell_type": "markdown",
   "metadata": {},
   "source": [
    "## CMB"
   ]
  },
  {
   "cell_type": "code",
   "execution_count": null,
   "metadata": {},
   "outputs": [],
   "source": [
    "# Build CMB map\n",
    "cl_cmb = CMBModel(None).give_cl_cmb(r=0, Alens=1)\n",
    "cmb_map = hp.synfast(cl_cmb, params['nside'], new=True, verbose=False).T\n",
    "\n",
    "hp.mollview(cmb_map[:, 0], cmap='jet', title='CMB map', unit=r'$µK_{CMB}$')"
   ]
  },
  {
   "cell_type": "markdown",
   "metadata": {},
   "source": [
    "## Atmosphere"
   ]
  },
  {
   "cell_type": "code",
   "execution_count": null,
   "metadata": {},
   "outputs": [],
   "source": [
    "wv_fluctuations = atm.rho_map\n",
    "print(wv_fluctuations.shape[0])\n",
    "plt.imshow(wv_fluctuations, cmap='jet', extent=[-params['size_atm'], params['size_atm'], -params['size_atm'], params['size_atm']])\n",
    "plt.title('Water vapor density fluctuations')\n",
    "plt.xlabel('m')\n",
    "plt.ylabel('m')\n",
    "plt.colorbar(label=r'$g/m^{3}$')"
   ]
  },
  {
   "cell_type": "code",
   "execution_count": null,
   "metadata": {},
   "outputs": [],
   "source": [
    "print(\"Frequencies are : \", atm.frequencies, \"GHz.\")"
   ]
  },
  {
   "cell_type": "code",
   "execution_count": null,
   "metadata": {},
   "outputs": [],
   "source": [
    "temp_fluctuations = np.zeros((wv_fluctuations.shape[0], wv_fluctuations.shape[1], 3))\n",
    "temp_fluctuations[..., 0] = atm.get_temp_maps(wv_fluctuations)[0]\n",
    "temp_fluctuations[..., 0] -= np.mean(temp_fluctuations[..., 0])\n",
    "\n",
    "plt.imshow(temp_fluctuations[..., 0], cmap='jet', extent=[-params['size_atm'], params['size_atm'], -params['size_atm'], params['size_atm']])\n",
    "plt.title('Temperature fluctuations')\n",
    "plt.xlabel('m')\n",
    "plt.ylabel('m')\n",
    "plt.colorbar(label=r'$\\mu K_{CMB}$')"
   ]
  },
  {
   "cell_type": "code",
   "execution_count": null,
   "metadata": {},
   "outputs": [],
   "source": [
    "atm_map = np.zeros((hp.nside2npix(params['nside']), 3))\n",
    "#atm_map[..., 0] = atm.get_healpy_atm_maps_2d(atm.get_temp_maps(wv_fluctuations))[0]\n",
    "\n",
    "az, el = np.mean(q_sampling_local.azimuth), np.mean(q_sampling_local.elevation)\n",
    "qubic_patch = np.array([[az, el]])\n",
    "azel_coordinates = atm.get_azel_coordinates()\n",
    "proj_hp = Cartesian2SphericalOperator('azimuth,elevation')(Rotation3dOperator(\"ZY'\", az, 90 - el, degrees=True)(Spherical2CartesianOperator('azimuth,elevation')))\n",
    "azel2hp = Spherical2HealpixOperator(params['nside'], 'azimuth,elevation')\n",
    "hp_maps_index = azel2hp(proj_hp(azel_coordinates)).astype(int)\n",
    "atm_map[hp_maps_index, 0] = atm.get_temp_maps(wv_fluctuations)[0].flatten()\n",
    "\n",
    "index = np.where(atm_map!=0)[0]\n",
    "atm_map[index, 0] -= np.mean(atm_map[index, 0])\n",
    "min = np.min(atm_map[index, 0])\n",
    "max = np.max(atm_map[index, 0])\n",
    "\n",
    "hp.mollview(atm_map[..., 0], min=min, max=max, cmap='jet', title='Atmosphere map', unit=r'$µK_{CMB}$')\n",
    "hp.gnomview(atm_map[..., 0], min=min, max=max, rot=qubic_patch, reso=20, cmap='jet', title='Temperature fluctuations', unit=r'$µK_{CMB}$')"
   ]
  },
  {
   "cell_type": "markdown",
   "metadata": {},
   "source": [
    "# Build QUBIC Instances"
   ]
  },
  {
   "cell_type": "code",
   "execution_count": null,
   "metadata": {},
   "outputs": [],
   "source": [
    "q_instrument = QubicInstrument(qubic_dict)\n",
    "q_scene  = QubicScene(qubic_dict)\n",
    "\n",
    "#! Verify that using the same dictionary is not an issue for the two objects\n",
    "q_acquisition_local = QubicAcquisition(q_instrument, q_sampling_local, q_scene, qubic_dict)\n",
    "q_acquisition_gal = QubicAcquisition(q_instrument, q_sampling_gal, q_scene, qubic_dict)"
   ]
  },
  {
   "cell_type": "code",
   "execution_count": null,
   "metadata": {},
   "outputs": [],
   "source": [
    "coverage_gal = q_acquisition_gal.get_coverage()\n",
    "covnorm_gal = coverage_gal / coverage_gal.max()\n",
    "seenpix_gal = covnorm_gal > params['coverage_cut']\n",
    "seenpix_gal_wo_cut = covnorm_gal > 0\n",
    "\n",
    "coverage_local = q_acquisition_local.get_coverage()\n",
    "covnorm_local = coverage_local / coverage_local.max()\n",
    "seenpix_local = covnorm_local > params['coverage_cut']\n",
    "seenpix_local_wo_cut = covnorm_local > 0\n",
    "\n",
    "seenpix = np.array([seenpix_gal, seenpix_local])"
   ]
  },
  {
   "cell_type": "markdown",
   "metadata": {},
   "source": [
    "# Build QUBIC Operaotors"
   ]
  },
  {
   "cell_type": "code",
   "execution_count": null,
   "metadata": {},
   "outputs": [],
   "source": [
    "# Convolution operator\n",
    "C_qubic = HealpixConvolutionGaussianOperator(fwhm=0.00628339517640407)"
   ]
  },
  {
   "cell_type": "code",
   "execution_count": null,
   "metadata": {},
   "outputs": [],
   "source": [
    "# Galactic Coordinates\n",
    "\n",
    "H_gal = q_acquisition_gal.get_operator()\n",
    "R_gal = ReshapeOperator(H_gal.shapeout, H_gal.shape[0])\n",
    "invN_gal = R_gal(q_acquisition_gal.get_invntt_operator(False, False)(R_gal.T))\n",
    "d_gal = H_gal(C_qubic(cmb_map)).ravel()\n",
    "\n",
    "print(\"H_gal\", H_gal.shapein, H_gal.shapeout)\n",
    "print(\"R_gal\", R_gal.shapein, R_gal.shapeout)\n",
    "print(\"invN_gal\", invN_gal.shapein, invN_gal.shapeout)\n",
    "print(\"d_gal\", d_gal.shape)"
   ]
  },
  {
   "cell_type": "code",
   "execution_count": null,
   "metadata": {},
   "outputs": [],
   "source": [
    "# Local Coordinates\n",
    "\n",
    "H_local = q_acquisition_local.get_operator()\n",
    "R_local = ReshapeOperator(H_local.shapeout, H_local.shape[0])\n",
    "invN_local = R_local(q_acquisition_local.get_invntt_operator(False, False)(R_local.T))\n",
    "d_local = H_local(C_qubic(atm_map)).ravel()\n",
    "\n",
    "print(\"H_local\", H_local.shapein, H_local.shapeout)\n",
    "print(\"R_local\", R_local.shapein, R_local.shapeout)\n",
    "print(\"invN_local\", invN_local.shapein, invN_local.shapeout)\n",
    "print(\"d_local\", d_local.shape)"
   ]
  },
  {
   "cell_type": "code",
   "execution_count": null,
   "metadata": {},
   "outputs": [],
   "source": [
    "# Plot coverages\n",
    "hp.mollview(coverage_gal, title='Coverage - H_gal')\n",
    "hp.gnomview(coverage_gal, title='Coverage - H_gal', rot=center_gal, reso=20)\n",
    "hp.mollview(coverage_local, title='Coverage - H_local')\n",
    "hp.gnomview(coverage_local, title='Coverage - H_local', rot=center_local, reso=20)"
   ]
  },
  {
   "cell_type": "code",
   "execution_count": null,
   "metadata": {},
   "outputs": [],
   "source": [
    "# Full MM\n",
    "\n",
    "R = ReshapeOperator((2, hp.nside2npix(params['nside']), 3), (2 * hp.nside2npix(params['nside']), 3))\n",
    "H = BlockRowOperator([H_gal, H_local], axisin=0) * R\n",
    "\n",
    "invN = invN_gal\n",
    "\n",
    "#true_maps = np.array([C_qubic(cmb_map), C_qubic(atm_map)])\n",
    "R = ReshapeOperator((H.shapeout), (invN_gal.shapein))\n",
    "H = R * H\n",
    "\n",
    "true_maps = np.array([C_qubic(cmb_map), C_qubic(atm_map)])\n",
    "d = d_gal + d_local"
   ]
  },
  {
   "cell_type": "code",
   "execution_count": null,
   "metadata": {},
   "outputs": [],
   "source": [
    "print(\"H\", H.shapein, H.shapeout)\n",
    "print(\"invN\", invN.shapein, invN.shapeout)\n",
    "print(\"d\", d.shape)\n",
    "print('True maps', true_maps.shape)"
   ]
  },
  {
   "cell_type": "markdown",
   "metadata": {},
   "source": [
    "# Map-Making"
   ]
  },
  {
   "cell_type": "code",
   "execution_count": null,
   "metadata": {},
   "outputs": [],
   "source": [
    "# Ax=b equation to be solve by PCG\n",
    "A = H.T * invN * H\n",
    "b = H.T * invN * d\n",
    "\n",
    "# I start from an atm map for the CMB and from a cmb map for the atmosphere\n",
    "x0 = true_maps * .999"
   ]
  },
  {
   "cell_type": "code",
   "execution_count": null,
   "metadata": {},
   "outputs": [],
   "source": [
    "print(\"A\", A.shapein, A.shapeout)\n",
    "print(\"Ax\", A(x0).shape)\n",
    "print(\"b\", b.shape)\n",
    "print(\"true_maps\", true_maps.shape)"
   ]
  },
  {
   "cell_type": "code",
   "execution_count": null,
   "metadata": {},
   "outputs": [],
   "source": [
    "# Build Preconditionner\n",
    "no_det = 992\n",
    "\n",
    "stacked_dptdp_inv = np.zeros((true_maps.shape[0],12*params['nside']**2))\n",
    "\n",
    "### Loop on Maps\n",
    "for i_maps in range(true_maps.shape[0]):\n",
    "    ### Extract Operators\n",
    "    h = H.operands[1].operands[i_maps]\n",
    "    D = h.operands[1]\n",
    "    P = h.operands[-1]\n",
    "    sh = P.matrix.data.index.shape\n",
    "\n",
    "    ### Compute the map P^t P\n",
    "    point_per_det = int(sh[0] / no_det)\n",
    "    mapPtP_perdet_seq = np.zeros((no_det, 12 * params['nside']**2))\n",
    "    sample_ranges = [(det * point_per_det, (det + 1) * point_per_det) for det in range(no_det)]\n",
    "    for det, (start, end) in enumerate(sample_ranges):\n",
    "        indices = P.matrix.data.index[start:end, :]  \n",
    "        weights = P.matrix.data.r11[start:end, :]\n",
    "        flat_indices = indices.ravel()\n",
    "        flat_weights = weights.ravel()\n",
    "\n",
    "        mapPitPi = np.zeros(12 * params['nside']**2)\n",
    "        np.add.at(mapPitPi, flat_indices, flat_weights**2)\n",
    "\n",
    "        mapPtP_perdet_seq[det, :] = mapPitPi\n",
    "        \n",
    "    D_elements = D.data\n",
    "    D_sq = D_elements**2\n",
    "    mapPtP_seq_scaled = D_sq[:, np.newaxis] * mapPtP_perdet_seq \n",
    "    dptdp = mapPtP_seq_scaled.sum(axis = 0)\n",
    "    dptdp_inv = 1 / dptdp\n",
    "    dptdp_inv[np.isinf(dptdp_inv)] = 0.\n",
    "        \n",
    "    stacked_dptdp_inv[i_maps] = dptdp_inv\n",
    "\n",
    "M = BlockDiagonalOperator( \\\n",
    "                    [DiagonalOperator(ci, broadcast='rightward') for ci in stacked_dptdp_inv],\n",
    "                    new_axisin=0)"
   ]
  },
  {
   "cell_type": "code",
   "execution_count": null,
   "metadata": {},
   "outputs": [],
   "source": [
    "# Run PCG\n",
    "\n",
    "algo = PCGAlgorithm(\n",
    "    A,\n",
    "    b,\n",
    "    comm,\n",
    "    x0=x0,\n",
    "    tol=1e-10,\n",
    "    maxiter=200,\n",
    "    disp=True,\n",
    "    M=M,\n",
    "    center=[0, -57],\n",
    "    reso=15,\n",
    "    seenpix=seenpix,\n",
    "    input=true_maps,\n",
    ")\n",
    "try:\n",
    "    result = algo.run()\n",
    "    success = True\n",
    "    message = 'Success'\n",
    "except AbnormalStopIteration as e:\n",
    "    result = algo.finalize()\n",
    "    success = False\n",
    "    message = str(e)"
   ]
  },
  {
   "cell_type": "code",
   "execution_count": null,
   "metadata": {},
   "outputs": [],
   "source": [
    "plt.plot(result['convergence'])\n",
    "plt.yscale('log')\n",
    "plt.xlabel('Iteration')\n",
    "plt.ylabel('Convergence')"
   ]
  },
  {
   "cell_type": "code",
   "execution_count": null,
   "metadata": {},
   "outputs": [],
   "source": [
    "input = true_maps\n",
    "output = result['x']\n",
    "residual = output - input"
   ]
  },
  {
   "cell_type": "code",
   "execution_count": null,
   "metadata": {},
   "outputs": [],
   "source": [
    "plt.figure(figsize=(15, 10))\n",
    "k=1\n",
    "\n",
    "input[0, ~seenpix_gal_wo_cut, :] = hp.UNSEEN\n",
    "output[0, ~seenpix_gal_wo_cut, :] = hp.UNSEEN\n",
    "input[1, ~seenpix_local_wo_cut, :] = hp.UNSEEN\n",
    "output[1, ~seenpix_local_wo_cut, :] = hp.UNSEEN\n",
    "\n",
    "istk = 0\n",
    "stk = ['I', 'Q', 'U']\n",
    "map = ['CMB', 'Atm']\n",
    "\n",
    "for imap in range(input.shape[0]):\n",
    "    hp.mollview(input[imap, :, istk],min=np.min(input[imap, seenpix[imap], istk]), max=np.max(input[imap, seenpix[imap], istk]), cmap='jet', sub=(input.shape[0], 3, k), title=f'{stk[istk]} - Input - {map[imap]}', notext=True)\n",
    "    hp.mollview(output[imap, :, istk],min=np.min(input[imap, seenpix[imap], istk]), max=np.max(input[imap, seenpix[imap], istk]), cmap='jet', sub=(input.shape[0], 3, k+1), title=f'{stk[istk]} - Output - {map[imap]}', notext=True)\n",
    "    hp.mollview(output[imap, :, istk] - input[imap, :, istk],min=np.min(input[imap, seenpix[imap], istk]), max=np.max(input[imap, seenpix[imap], istk]), cmap='jet', sub=(input.shape[0], 3, k+2), title=f'{stk[istk]} - Residual - {map[imap]}', notext=True)\n",
    "    k+=3\n",
    "    \n",
    "plt.tight_layout()"
   ]
  },
  {
   "cell_type": "code",
   "execution_count": null,
   "metadata": {},
   "outputs": [],
   "source": [
    "plt.figure(figsize=(15, 10))\n",
    "k=1\n",
    "\n",
    "istk = 0\n",
    "\n",
    "reso = 25\n",
    "center = [center_gal, center_local]\n",
    "\n",
    "for imap in range(input.shape[0]):\n",
    "    hp.gnomview(input[imap, :, istk], min=np.min(input[imap, seenpix[imap], istk]), max=np.max(input[imap, seenpix[imap], istk]), rot=center[imap], reso=reso, cmap='jet', sub=(input.shape[0], 3, k), title=f'{stk[istk]} - Input - {map[imap]}', notext=True)\n",
    "    hp.gnomview(output[imap, :, istk], min=np.min(input[imap, seenpix[imap], istk]), max=np.max(input[imap, seenpix[imap], istk]), rot=center[imap], reso=reso, cmap='jet', sub=(input.shape[0], 3, k+1), title=f'{stk[istk]} - Output - {map[imap]}', notext=True)\n",
    "    hp.gnomview(output[imap, :, istk] - input[imap, :, istk], min=np.min(input[imap, seenpix[imap], istk]), max=np.max(input[imap, seenpix[imap], istk]), rot=center[imap], reso=reso, cmap='jet', sub=(input.shape[0], 3, k+2), title=f'{stk[istk]} - Residual - {map[imap]}', notext=True)\n",
    "    k+=3\n",
    "    \n",
    "plt.tight_layout()"
   ]
  },
  {
   "cell_type": "code",
   "execution_count": null,
   "metadata": {},
   "outputs": [],
   "source": [
    "plt.figure(figsize=(15, 10))\n",
    "k=1\n",
    "\n",
    "istk = 0\n",
    "\n",
    "input[0, ~seenpix_gal, :] = hp.UNSEEN\n",
    "output[0, ~seenpix_gal, :] = hp.UNSEEN\n",
    "input[1, ~seenpix_local, :] = hp.UNSEEN\n",
    "output[1, ~seenpix_local, :] = hp.UNSEEN\n",
    "\n",
    "reso = 20\n",
    "center = [center_gal, center_local]\n",
    "\n",
    "for imap in range(input.shape[0]):\n",
    "    hp.gnomview(input[imap, :, istk], rot=center[imap], reso=reso, cmap='jet', sub=(input.shape[0], 3, k), title=f'{stk[istk]} - Input - {map[imap]}', notext=True)\n",
    "    hp.gnomview(output[imap, :, istk], rot=center[imap], reso=reso, cmap='jet', sub=(input.shape[0], 3, k+1), title=f'{stk[istk]} - Output - {map[imap]}', notext=True)\n",
    "    hp.gnomview(output[imap, :, istk] - input[imap, :, istk], rot=center[imap], reso=reso, cmap='jet', sub=(input.shape[0], 3, k+2), title=f'{stk[istk]} - Residual - {map[imap]}', notext=True)\n",
    "    k+=3\n",
    "    \n",
    "plt.tight_layout()"
   ]
  },
  {
   "cell_type": "code",
   "execution_count": null,
   "metadata": {},
   "outputs": [],
   "source": [
    "plt.figure(figsize=(15, 10))\n",
    "k=1\n",
    "\n",
    "istk = 0\n",
    "\n",
    "for imap in range(input.shape[0]):\n",
    "    hp.mollview(input[imap, :, istk], cmap='jet', sub=(input.shape[0], 3, k), title=f'{stk[istk]} - Input - {map[imap]}', notext=True)\n",
    "    hp.mollview(output[imap, :, istk], cmap='jet', sub=(input.shape[0], 3, k+1), title=f'{stk[istk]} - Output - {map[imap]}', notext=True)\n",
    "    hp.mollview(output[imap, :, istk] - input[imap, :, istk], cmap='jet', sub=(input.shape[0], 3, k+2), title=f'{stk[istk]} - Residual - {map[imap]}', notext=True)\n",
    "    k+=3\n",
    "    \n",
    "plt.tight_layout()"
   ]
  },
  {
   "cell_type": "code",
   "execution_count": null,
   "metadata": {},
   "outputs": [],
   "source": [
    "plt.figure(figsize=(15, 10))\n",
    "k=1\n",
    "\n",
    "istk = 1\n",
    "\n",
    "reso = 20\n",
    "center = [center_gal, center_local]\n",
    "\n",
    "for imap in range(input.shape[0]):\n",
    "    hp.gnomview(input[imap, :, istk], rot=center[imap], reso=reso, cmap='jet', sub=(input.shape[0], 3, k), title=f'{stk[istk]} - Input - {map[imap]}', notext=True)\n",
    "    hp.gnomview(output[imap, :, istk], rot=center[imap], reso=reso, cmap='jet', sub=(input.shape[0], 3, k+1), title=f'{stk[istk]} - Output - {map[imap]}', notext=True)\n",
    "    hp.gnomview(output[imap, :, istk] - input[imap, :, istk], rot=center[imap], reso=reso, cmap='jet', sub=(input.shape[0], 3, k+2), title=f'{stk[istk]} - Residual - {map[imap]}', notext=True)\n",
    "    k+=3\n",
    "    \n",
    "plt.tight_layout()"
   ]
  },
  {
   "cell_type": "code",
   "execution_count": null,
   "metadata": {},
   "outputs": [],
   "source": []
  }
 ],
 "metadata": {
  "jupytext": {
   "formats": "ipynb,Rmd"
  },
  "kernelspec": {
   "display_name": "venv-qubic",
   "language": "python",
   "name": "python3"
  },
  "language_info": {
   "codemirror_mode": {
    "name": "ipython",
    "version": 3
   },
   "file_extension": ".py",
   "mimetype": "text/x-python",
   "name": "python",
   "nbconvert_exporter": "python",
   "pygments_lexer": "ipython3",
   "version": "3.9.18"
  }
 },
 "nbformat": 4,
 "nbformat_minor": 4
}
