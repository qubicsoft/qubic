{
 "cells": [
  {
   "cell_type": "markdown",
   "metadata": {},
   "source": [
    "# Importation"
   ]
  },
  {
   "cell_type": "code",
   "execution_count": null,
   "metadata": {},
   "outputs": [],
   "source": [
    "import numpy as np\n",
    "import matplotlib.pyplot as plt \n",
    "import healpy as hp\n",
    "import yaml\n",
    "\n",
    "from qubic.lib.MapMaking.Qatmosphere_2d import AtmosphereMaps\n",
    "from qubic.lib.Instrument.Qacquisition import QubicAcquisition\n",
    "from qubic.lib.Instrument.Qinstrument import QubicInstrument\n",
    "from qubic.lib.Qscene import QubicScene\n",
    "from qubic.lib.Qsamplings import get_pointing, equ2gal, QubicSampling\n",
    "\n",
    "from qubic.lib.MapMaking.Qcg import PCGAlgorithm\n",
    "from pyoperators.iterative.core import AbnormalStopIteration\n",
    "\n",
    "from pyoperators import MPI, BlockDiagonalOperator, DiagonalOperator, ReshapeOperator, Rotation3dOperator, Spherical2CartesianOperator, Cartesian2SphericalOperator\n",
    "\n",
    "from pysimulators.interfaces.healpy import Spherical2HealpixOperator, HealpixConvolutionGaussianOperator\n",
    "\n",
    "comm = MPI.COMM_WORLD\n",
    "rank = comm.Get_rank() \n",
    "\n",
    "%matplotlib inline"
   ]
  },
  {
   "cell_type": "markdown",
   "metadata": {},
   "source": [
    "Comparer (H.T H)⁻1 en local ou en galactic projeté sur une carte healpy "
   ]
  },
  {
   "cell_type": "markdown",
   "metadata": {},
   "source": [
    "# Atm class"
   ]
  },
  {
   "cell_type": "code",
   "execution_count": null,
   "metadata": {},
   "outputs": [],
   "source": [
    "# Import simulation parameters\n",
    "with open('params.yml', 'r') as file:\n",
    "    params = yaml.safe_load(file) "
   ]
  },
  {
   "cell_type": "code",
   "execution_count": null,
   "metadata": {},
   "outputs": [],
   "source": [
    "# Call the class which build the atmosphere maps\n",
    "atm = AtmosphereMaps(params)\n",
    "qubic_dict = atm.qubic_dict"
   ]
  },
  {
   "cell_type": "code",
   "execution_count": null,
   "metadata": {},
   "outputs": [],
   "source": [
    "wv_fluctuations = atm.rho_map\n",
    "print(wv_fluctuations.shape[0])\n",
    "plt.imshow(wv_fluctuations, cmap='jet', extent=[-params['size_atm'], params['size_atm'], -params['size_atm'], params['size_atm']])\n",
    "plt.title('Water vapor density fluctuations')\n",
    "plt.xlabel('m')\n",
    "plt.ylabel('m')\n",
    "plt.colorbar(label=r'$g/m^{3}$')"
   ]
  },
  {
   "cell_type": "code",
   "execution_count": null,
   "metadata": {},
   "outputs": [],
   "source": [
    "print(\"Frequencies are : \", atm.frequencies, \"GHz.\")"
   ]
  },
  {
   "cell_type": "code",
   "execution_count": null,
   "metadata": {},
   "outputs": [],
   "source": [
    "temp_fluctuations = np.zeros((wv_fluctuations.shape[0], wv_fluctuations.shape[1], 3))\n",
    "temp_fluctuations[..., 0] = atm.get_temp_maps(wv_fluctuations)[0]\n",
    "temp_fluctuations[..., 0] -= np.mean(temp_fluctuations[..., 0])\n",
    "\n",
    "plt.imshow(temp_fluctuations[..., 0], cmap='jet', extent=[-params['size_atm'], params['size_atm'], -params['size_atm'], params['size_atm']])\n",
    "plt.title('Temperature fluctuations')\n",
    "plt.xlabel('m')\n",
    "plt.ylabel('m')\n",
    "plt.colorbar(label=r'$\\mu K_{CMB}$')"
   ]
  },
  {
   "cell_type": "code",
   "execution_count": null,
   "metadata": {},
   "outputs": [],
   "source": [
    "healpy_temp_fluctuations = np.zeros((hp.nside2npix(params['nside']), 3))\n",
    "#healpy_temp_fluctuations[..., 0] = atm.get_healpy_atm_maps_2d(atm.get_temp_maps(wv_fluctuations))[0]\n",
    "\n",
    "az, el = 211.92662822765195, 43.93466164903442\n",
    "qubic_patch = np.array([[az, el]])\n",
    "azel_coordinates = atm.get_azel_coordinates()\n",
    "proj_hp = Cartesian2SphericalOperator('azimuth,elevation')(Rotation3dOperator(\"ZY'\", az, 90 - el, degrees=True)(Spherical2CartesianOperator('azimuth,elevation')))\n",
    "azel2hp = Spherical2HealpixOperator(params['nside'], 'azimuth,elevation')\n",
    "hp_maps_index = azel2hp(proj_hp(azel_coordinates)).astype(int)\n",
    "healpy_temp_fluctuations[hp_maps_index, 0] = atm.get_temp_maps(wv_fluctuations)[0].flatten()\n",
    "\n",
    "index = np.where(healpy_temp_fluctuations!=0)[0]\n",
    "healpy_temp_fluctuations[index, 0] -= np.mean(healpy_temp_fluctuations[index, 0])\n",
    "min = np.min(healpy_temp_fluctuations[index, 0])\n",
    "max = np.max(healpy_temp_fluctuations[index, 0])\n",
    "\n",
    "hp.mollview(healpy_temp_fluctuations[..., 0], min=min, max=max, cmap='jet', title='Temperature fluctuations', unit=r'$µK_{CMB}$')\n",
    "hp.gnomview(healpy_temp_fluctuations[..., 0], min=min, max=max, rot=qubic_patch, reso=15, cmap='jet', title='Temperature fluctuations', unit=r'$µK_{CMB}$')"
   ]
  },
  {
   "cell_type": "code",
   "execution_count": null,
   "metadata": {},
   "outputs": [],
   "source": [
    "print('Angular speed', qubic_dict['angspeed'])\n",
    "print('Delta azimtuh', qubic_dict['delta_az'])\n",
    "print('Sweeps per elevation', qubic_dict['nsweeps_per_elevation'])\n",
    "print('Angular speed psi', qubic_dict['angspeed_psi'])\n",
    "print('Maximum psi', qubic_dict['maxppsi'])\n",
    "print('latitude', qubic_dict['latitude'])\n",
    "print('longitude', qubic_dict['longitude'])\n",
    "print('Fix_azimuth', qubic_dict['fix_azimuth'])\n",
    "print('period', qubic_dict['period'])\n",
    "print('duration', qubic_dict['duration'])\n",
    "print('Observation date', qubic_dict['date_obs'], type(qubic_dict['date_obs']))"
   ]
  },
  {
   "cell_type": "markdown",
   "metadata": {},
   "source": [
    "# Scanning strategy"
   ]
  },
  {
   "cell_type": "markdown",
   "metadata": {},
   "source": [
    "Next step is to build a scanning strategy following the qubic patch, but to perform the map-making in azimuth and elevation coordinates."
   ]
  },
  {
   "cell_type": "code",
   "execution_count": null,
   "metadata": {},
   "outputs": [],
   "source": [
    "print(qubic_dict['fix_azimuth'])"
   ]
  },
  {
   "cell_type": "code",
   "execution_count": null,
   "metadata": {},
   "outputs": [],
   "source": [
    "### Random pointing\n",
    "qubic_dict['random_pointing'] = True\n",
    "\n",
    "### Sweepingpointing\n",
    "qubic_dict['sweeping_pointing'] = False\n",
    "qubic_dict['fix_azimuth']['apply'] = False \n",
    "\n",
    "qubic_dict['angspeed'] = 0.4\n",
    "qubic_dict['delta_az'] = 20\n",
    "qubic_dict['nsweeps_per_elevation'] = 1\n",
    "qubic_dict['period'] = 1\n",
    "qubic_dict['duration'] = 1\n",
    "# npointings = 3600 * t_obs / period\n",
    "\n",
    "### Repeat pointing\n",
    "qubic_dict['repeat_pointing'] = False\n",
    "\n",
    "qubic_dict['fix_azimuth']['apply'] = False\n",
    "\n",
    "q_sampling_sweeping = get_pointing(qubic_dict)\n",
    "center = np.array([0, -57])\n",
    "print(q_sampling_sweeping)"
   ]
  },
  {
   "cell_type": "code",
   "execution_count": null,
   "metadata": {},
   "outputs": [],
   "source": [
    "az, el = q_sampling_sweeping.azimuth, q_sampling_sweeping.elevation\n",
    "\n",
    "fig, axs = plt.subplots(1, 5, figsize=(25, 5))\n",
    "\n",
    "# Azimuth plot\n",
    "axs[0].plot(az)\n",
    "axs[0].set_title(\"Azimuth\")\n",
    "axs[0].set_xlabel(\"Time samples\")\n",
    "axs[0].set_ylabel(\"Angles (degrees)\")\n",
    "\n",
    "# Elevation plot\n",
    "axs[1].plot(el)\n",
    "axs[1].set_title(\"Elevation\")\n",
    "axs[1].set_xlabel(\"Time samples\")\n",
    "axs[1].set_ylabel(\"Angles (degrees)\")\n",
    "\n",
    "# Scanning strategy plot\n",
    "axs[2].plot(az, el, '.')\n",
    "axs[2].set_title(\"Scanning strategy\")\n",
    "axs[2].set_xlabel(\"Azimuth (degrees)\")\n",
    "axs[2].set_ylabel(\"Elevation (degrees)\")\n",
    "\n",
    "# Equatorial coordinates plot\n",
    "axs[3].plot((q_sampling_sweeping.equatorial[:, 0] + 180) % 360 -180, q_sampling_sweeping.equatorial[:, 1], '.')\n",
    "axs[3].set_title(\"Equatorial coordinates\")\n",
    "axs[3].set_xlabel(\"Right ascension (degrees)\")\n",
    "axs[3].set_ylabel(\"Declination (degrees)\")\n",
    "\n",
    "# Galactic coordinates plot\n",
    "axs[4].plot(q_sampling_sweeping.galactic[:, 0], q_sampling_sweeping.galactic[:, 1], '.')\n",
    "axs[4].set_title(\"Galactic coordinates\")\n",
    "axs[4].set_xlabel(\"Longitude (degrees)\")\n",
    "axs[4].set_ylabel(\"Latitude (degrees)\")\n",
    "\n",
    "fig.suptitle(\"Qubic Sampling\")\n",
    "plt.tight_layout()\n",
    "plt.show()"
   ]
  },
  {
   "cell_type": "code",
   "execution_count": null,
   "metadata": {},
   "outputs": [],
   "source": [
    "test_gal = np.zeros(hp.nside2npix(params['nside']))\n",
    "\n",
    "index = np.array(Spherical2HealpixOperator(params['nside'], 'azimuth, elevation')(np.radians(q_sampling_sweeping.galactic)), dtype='int')\n",
    "test_gal[index] = 1\n",
    "hp.mollview(test_gal, title='Pointing in Galactic Coordinates', cmap='viridis')\n",
    "hp.gnomview(test_gal, title='Pointing in Galactic Coordinates', cmap='viridis', reso=15, rot=equ2gal(center[0], center[1]))"
   ]
  },
  {
   "cell_type": "markdown",
   "metadata": {},
   "source": [
    "# Scanning Strategy in local coordinates "
   ]
  },
  {
   "cell_type": "code",
   "execution_count": null,
   "metadata": {},
   "outputs": [],
   "source": [
    "q_sampling = QubicSampling(params['npointings'],\n",
    "                           date_obs = qubic_dict['date_obs'],\n",
    "                           period = qubic_dict['period'],\n",
    "                           latitude = qubic_dict['latitude'],\n",
    "                           longitude = qubic_dict['longitude'])\n",
    "\n",
    "q_sampling.azimuth = q_sampling_sweeping.azimuth\n",
    "q_sampling.elevation = q_sampling_sweeping.elevation\n",
    "q_sampling.pitch = q_sampling_sweeping.pitch\n",
    "q_sampling.angle_hwp = q_sampling_sweeping.angle_hwp\n",
    "\n",
    "q_sampling.fix_az = True"
   ]
  },
  {
   "cell_type": "code",
   "execution_count": null,
   "metadata": {},
   "outputs": [],
   "source": [
    "test_gal = np.zeros(hp.nside2npix(params['nside']))\n",
    "\n",
    "index = np.array(Spherical2HealpixOperator(params['nside'], 'azimuth, elevation')(np.radians([q_sampling.azimuth, q_sampling.elevation]).T), dtype='int')\n",
    "test_gal[index] = 1\n",
    "hp.mollview(test_gal, title='Pointing in Local Coordinates', cmap='viridis')\n",
    "hp.gnomview(test_gal, title='Pointing in Local Coordinates', cmap='viridis', reso=15, rot=(np.mean(q_sampling.azimuth), np.mean(q_sampling.elevation)))\n",
    "\n",
    "print(np.mean(q_sampling.azimuth), np.mean(q_sampling.elevation))"
   ]
  },
  {
   "cell_type": "markdown",
   "metadata": {},
   "source": [
    "# Build QUBIC instances"
   ]
  },
  {
   "cell_type": "code",
   "execution_count": null,
   "metadata": {},
   "outputs": [],
   "source": [
    "q_instrument = QubicInstrument(qubic_dict)\n",
    "q_scene  = QubicScene(qubic_dict)\n",
    "\n",
    "q_acquisition = QubicAcquisition(q_instrument, q_sampling, q_scene, qubic_dict)"
   ]
  },
  {
   "cell_type": "code",
   "execution_count": null,
   "metadata": {},
   "outputs": [],
   "source": [
    "coverage = q_acquisition.get_coverage()\n",
    "\n",
    "covnorm = coverage / coverage.max()\n",
    "seenpix = covnorm > params['coverage_cut']\n",
    "\n",
    "qubic_patch = equ2gal(center[0], center[1])"
   ]
  },
  {
   "cell_type": "code",
   "execution_count": null,
   "metadata": {},
   "outputs": [],
   "source": [
    "hp.mollview(coverage)"
   ]
  },
  {
   "cell_type": "markdown",
   "metadata": {},
   "source": [
    "# Build QUBIC operators"
   ]
  },
  {
   "cell_type": "code",
   "execution_count": null,
   "metadata": {},
   "outputs": [],
   "source": [
    "H_qubic = q_acquisition.get_operator()\n",
    "R_qubic = ReshapeOperator(H_qubic.shapeout, H_qubic.shape[0])\n",
    "invN_qubic = R_qubic(q_acquisition.get_invntt_operator(False, False)(R_qubic.T))\n",
    "C_qubic = HealpixConvolutionGaussianOperator(fwhm=0.00628339517640407)\n",
    "d_qubic = H_qubic(C_qubic(healpy_temp_fluctuations)).ravel()"
   ]
  },
  {
   "cell_type": "code",
   "execution_count": null,
   "metadata": {},
   "outputs": [],
   "source": [
    "H = R_qubic(H_qubic)\n",
    "invN = invN_qubic\n",
    "d = d_qubic"
   ]
  },
  {
   "cell_type": "markdown",
   "metadata": {},
   "source": [
    "# Map-Making"
   ]
  },
  {
   "cell_type": "code",
   "execution_count": null,
   "metadata": {},
   "outputs": [],
   "source": [
    "A = H.T * invN * H\n",
    "b = H.T * invN * d\n",
    "true_maps = C_qubic(healpy_temp_fluctuations)\n",
    "x0 = true_maps * 0"
   ]
  },
  {
   "cell_type": "code",
   "execution_count": null,
   "metadata": {},
   "outputs": [],
   "source": [
    "# Preconditioner\n",
    "stacked_dptdp_inv = np.zeros((1,12*params['nside']**2))\n",
    "\n",
    "D = H.operands[2]\n",
    "P = H.operands[-1]\n",
    "sh = P.matrix.data.index.shape\n",
    "no_det = 992\n",
    "point_per_det = int(sh[0] / no_det)\n",
    "mapPtP_perdet_seq = np.zeros((no_det, 12 * params['nside']**2))\n",
    "sample_ranges = [(det * point_per_det, (det + 1) * point_per_det) for det in range(no_det)]\n",
    "for det, (start, end) in enumerate(sample_ranges):\n",
    "    indices = P.matrix.data.index[start:end, :]  \n",
    "    weights = P.matrix.data.r11[start:end, :]\n",
    "    flat_indices = indices.ravel()\n",
    "    flat_weights = weights.ravel()\n",
    "\n",
    "    mapPitPi = np.zeros(12 * params['nside']**2)\n",
    "    np.add.at(mapPitPi, flat_indices, flat_weights**2)\n",
    "\n",
    "    mapPtP_perdet_seq[det, :] = mapPitPi\n",
    "D_elements = D.data\n",
    "D_sq = D_elements**2\n",
    "mapPtP_seq_scaled = D_sq[:, np.newaxis] * mapPtP_perdet_seq \n",
    "dptdp = mapPtP_seq_scaled.sum(axis = 0)\n",
    "dptdp_inv = 1 / dptdp\n",
    "dptdp_inv[np.isinf(dptdp_inv)] = 0.\n",
    "stacked_dptdp_inv[0] = dptdp_inv\n",
    "M = BlockDiagonalOperator( \\\n",
    "            [DiagonalOperator(ci, broadcast='rightward') for ci in stacked_dptdp_inv],\n",
    "            new_axisin=0)"
   ]
  },
  {
   "cell_type": "code",
   "execution_count": null,
   "metadata": {},
   "outputs": [],
   "source": [
    "# Run PCG\n",
    "algo = PCGAlgorithm(\n",
    "    A,\n",
    "    b,\n",
    "    comm,\n",
    "    x0=x0,\n",
    "    tol=1e-10,\n",
    "    maxiter=200,\n",
    "    disp=True,\n",
    "    M=M,\n",
    "    center=[0, -57],\n",
    "    reso=15,\n",
    "    seenpix=seenpix,\n",
    "    input=true_maps,\n",
    ")\n",
    "try:\n",
    "    output = algo.run()\n",
    "    success = True\n",
    "    message = 'Success'\n",
    "except AbnormalStopIteration as e:\n",
    "    output = algo.finalize()\n",
    "    success = False\n",
    "    message = str(e)"
   ]
  },
  {
   "cell_type": "code",
   "execution_count": null,
   "metadata": {},
   "outputs": [],
   "source": [
    "plt.plot(output['convergence'])\n",
    "plt.yscale('log')\n",
    "plt.xlabel('Iteration')\n",
    "plt.ylabel('Convergence')"
   ]
  },
  {
   "cell_type": "code",
   "execution_count": null,
   "metadata": {},
   "outputs": [],
   "source": [
    "plt.figure(figsize=(12, 25))\n",
    "k=1\n",
    "\n",
    "istk = 0\n",
    "stk = ['I', 'Q', 'U']\n",
    "\n",
    "sigma = np.std(true_maps[seenpix, istk])\n",
    "hp.mollview(true_maps[:, istk], min=np.min(true_maps[seenpix, istk]), max=np.max(true_maps[seenpix, istk]), cmap='jet', sub=(1, 3, k), title=f'{stk[istk]} - Input', notext=True)\n",
    "hp.mollview(output['x'][:, istk], min=np.min(true_maps[seenpix, istk]), max=np.max(true_maps[seenpix, istk]), cmap='jet', sub=(1, 3, k+1), title=f'{stk[istk]} - Output', notext=True)\n",
    "hp.mollview(output['x'][:, istk] - true_maps[:, istk], cmap='jet', sub=(1, 3, k+2), title=f'{stk[istk]} - Residual', notext=True)\n",
    "k+=3"
   ]
  },
  {
   "cell_type": "code",
   "execution_count": null,
   "metadata": {},
   "outputs": [],
   "source": [
    "plt.figure(figsize=(12, 25))\n",
    "k=1\n",
    "\n",
    "istk = 0\n",
    "\n",
    "center_azel = np.array([np.mean(q_sampling.azimuth), np.mean(q_sampling.elevation)])\n",
    "print(center_azel)\n",
    "reso = 25\n",
    "\n",
    "sigma = np.std(true_maps[seenpix, istk])\n",
    "hp.gnomview(true_maps[:, istk], reso=reso, rot=center_azel, min=np.min(true_maps[seenpix, istk]), max=np.max(true_maps[seenpix, istk]), cmap='jet', sub=(1, 3, k), title=f'{stk[istk]} - Input', notext=True)\n",
    "hp.gnomview(output['x'][:, istk], reso=reso, rot=center_azel, min=np.min(true_maps[seenpix, istk]), max=np.max(true_maps[seenpix, istk]), cmap='jet', sub=(1, 3, k+1), title=f'{stk[istk]} - Output', notext=True)\n",
    "hp.gnomview(output['x'][:, istk] - true_maps[:, istk], reso=reso, rot=center_azel, cmap='jet', sub=(1, 3, k+2), title=f'{stk[istk]} - Residual', notext=True)\n",
    "k+=3"
   ]
  },
  {
   "cell_type": "code",
   "execution_count": null,
   "metadata": {},
   "outputs": [],
   "source": [
    "plt.figure(figsize=(12, 25))\n",
    "k=1\n",
    "\n",
    "true_maps[~seenpix, :] = hp.UNSEEN\n",
    "output['x'][~seenpix, :] = hp.UNSEEN\n",
    "\n",
    "istk = 0\n",
    "\n",
    "center_azel = np.array([np.mean(q_sampling.azimuth), np.mean(q_sampling.elevation)])\n",
    "reso = 20\n",
    "\n",
    "sigma = np.std(true_maps[seenpix, istk])\n",
    "hp.gnomview(true_maps[:, istk], reso=reso, rot=center_azel, min=np.min(true_maps[seenpix, istk]), max=np.max(true_maps[seenpix, istk]), cmap='jet', sub=(1, 3, k), title=f'{stk[istk]} - Input', notext=True)\n",
    "hp.gnomview(output['x'][:, istk], reso=reso, rot=center_azel, min=np.min(true_maps[seenpix, istk]), max=np.max(true_maps[seenpix, istk]), cmap='jet', sub=(1, 3, k+1), title=f'{stk[istk]} - Output', notext=True)\n",
    "hp.gnomview(output['x'][:, istk] - true_maps[:, istk], reso=reso, rot=center_azel, cmap='jet', sub=(1, 3, k+2), title=f'{stk[istk]} - Residual', notext=True)\n",
    "k+=3"
   ]
  },
  {
   "cell_type": "code",
   "execution_count": null,
   "metadata": {},
   "outputs": [],
   "source": [
    "plt.figure(figsize=(12, 25))\n",
    "k=1\n",
    "\n",
    "true_maps[~seenpix, :] = hp.UNSEEN\n",
    "output['x'][~seenpix, :] = hp.UNSEEN\n",
    "\n",
    "istk = 1\n",
    "\n",
    "center_azel = np.array([np.mean(q_sampling.azimuth), np.mean(q_sampling.elevation)])\n",
    "reso = 20\n",
    "\n",
    "sigma = np.std(true_maps[seenpix, istk])\n",
    "hp.gnomview(true_maps[:, istk], reso=reso, rot=center_azel, min=np.min(true_maps[seenpix, istk]), max=np.max(true_maps[seenpix, istk]), cmap='jet', sub=(1, 3, k), title=f'{stk[istk]} - Input', notext=True)\n",
    "hp.gnomview(output['x'][:, istk], reso=reso, rot=center_azel, min=np.min(true_maps[seenpix, istk]), max=np.max(true_maps[seenpix, istk]), cmap='jet', sub=(1, 3, k+1), title=f'{stk[istk]} - Output', notext=True)\n",
    "hp.gnomview(output['x'][:, istk] - true_maps[:, istk], reso=reso, rot=center_azel, cmap='jet', sub=(1, 3, k+2), title=f'{stk[istk]} - Residual', notext=True)\n",
    "k+=3"
   ]
  },
  {
   "cell_type": "code",
   "execution_count": null,
   "metadata": {},
   "outputs": [],
   "source": []
  },
  {
   "cell_type": "code",
   "execution_count": null,
   "metadata": {},
   "outputs": [],
   "source": []
  }
 ],
 "metadata": {
  "jupytext": {
   "formats": "ipynb,Rmd"
  },
  "kernelspec": {
   "display_name": "venv-qubic",
   "language": "python",
   "name": "python3"
  },
  "language_info": {
   "codemirror_mode": {
    "name": "ipython",
    "version": 3
   },
   "file_extension": ".py",
   "mimetype": "text/x-python",
   "name": "python",
   "nbconvert_exporter": "python",
   "pygments_lexer": "ipython3",
   "version": "3.9.18"
  }
 },
 "nbformat": 4,
 "nbformat_minor": 4
}
