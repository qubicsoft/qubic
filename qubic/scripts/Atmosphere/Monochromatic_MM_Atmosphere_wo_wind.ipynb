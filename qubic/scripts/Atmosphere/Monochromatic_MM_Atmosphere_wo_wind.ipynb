{
 "cells": [
  {
   "cell_type": "markdown",
   "metadata": {},
   "source": [
    "# Importation"
   ]
  },
  {
   "cell_type": "code",
   "execution_count": null,
   "metadata": {},
   "outputs": [],
   "source": [
    "import numpy as np\n",
    "import matplotlib.pyplot as plt \n",
    "import healpy as hp\n",
    "import yaml\n",
    "\n",
    "import qubic\n",
    "from qubic.lib.MapMaking.Qatmosphere_2d import AtmosphereMaps\n",
    "from qubic.lib.Instrument.Qacquisition import QubicAcquisition\n",
    "from qubic.lib.Instrument.Qinstrument import QubicInstrument\n",
    "from qubic.lib.Qscene import QubicScene\n",
    "from qubic.lib.Qsamplings import get_pointing, equ2gal, QubicSampling\n",
    "\n",
    "from qubic.lib.MapMaking.Qcg import PCGAlgorithm\n",
    "from pyoperators.iterative.core import AbnormalStopIteration\n",
    "\n",
    "from pyoperators import MPI, BlockDiagonalOperator, DiagonalOperator, ReshapeOperator\n",
    "\n",
    "comm = MPI.COMM_WORLD\n",
    "rank = comm.Get_rank()\n",
    "\n",
    "%matplotlib inline"
   ]
  },
  {
   "cell_type": "markdown",
   "metadata": {},
   "source": [
    "# Atm class"
   ]
  },
  {
   "cell_type": "code",
   "execution_count": null,
   "metadata": {},
   "outputs": [],
   "source": [
    "# Import simulation parameters\n",
    "with open('params.yml', 'r') as file:\n",
    "    params = yaml.safe_load(file) "
   ]
  },
  {
   "cell_type": "code",
   "execution_count": null,
   "metadata": {},
   "outputs": [],
   "source": [
    "# Call the class which build the atmosphere maps\n",
    "atm = AtmosphereMaps(params)\n",
    "qubic_dict = atm.qubic_dict\n",
    "\n",
    "center = np.array([0, -57])\n",
    "qubic_patch = equ2gal(center[0], center[1])"
   ]
  },
  {
   "cell_type": "code",
   "execution_count": null,
   "metadata": {},
   "outputs": [],
   "source": [
    "qubic_dict"
   ]
  },
  {
   "cell_type": "code",
   "execution_count": null,
   "metadata": {},
   "outputs": [],
   "source": []
  },
  {
   "cell_type": "code",
   "execution_count": null,
   "metadata": {},
   "outputs": [],
   "source": [
    "wv_fluctuations = atm.rho_map\n",
    "print(wv_fluctuations.shape[0])\n",
    "plt.imshow(wv_fluctuations, cmap='jet', extent=[-params['size_atm'], params['size_atm'], -params['size_atm'], params['size_atm']])\n",
    "plt.title('Water vapor density fluctuations')\n",
    "plt.xlabel('m')\n",
    "plt.ylabel('m')\n",
    "plt.colorbar(label=r'$g/m^{3}$')"
   ]
  },
  {
   "cell_type": "code",
   "execution_count": null,
   "metadata": {},
   "outputs": [],
   "source": [
    "print(\"Frequencies are : \", atm.frequencies, \"GHz.\")"
   ]
  },
  {
   "cell_type": "code",
   "execution_count": null,
   "metadata": {},
   "outputs": [],
   "source": [
    "temp_fluctuations = np.zeros((wv_fluctuations.shape[0], wv_fluctuations.shape[1], 3))\n",
    "temp_fluctuations[..., 0] = atm.get_temp_maps(wv_fluctuations)[0]\n",
    "temp_fluctuations[..., 0] -= np.mean(temp_fluctuations[..., 0])\n",
    "\n",
    "plt.imshow(temp_fluctuations[..., 0], cmap='jet', extent=[-params['size_atm'], params['size_atm'], -params['size_atm'], params['size_atm']])\n",
    "plt.title('Temperature fluctuations')\n",
    "plt.xlabel('m')\n",
    "plt.ylabel('m')\n",
    "plt.colorbar(label=r'$\\mu K_{CMB}$')"
   ]
  },
  {
   "cell_type": "code",
   "execution_count": null,
   "metadata": {},
   "outputs": [],
   "source": [
    "healpy_temp_fluctuations = np.zeros((hp.nside2npix(params['nside']), 3))\n",
    "healpy_temp_fluctuations[..., 0] = atm.get_healpy_atm_maps_2d(atm.get_temp_maps(wv_fluctuations), longitude=qubic_patch[0], latitude=qubic_patch[1])[0]\n",
    "\n",
    "index = np.where(healpy_temp_fluctuations!=0)[0]\n",
    "healpy_temp_fluctuations[index, 0] -= np.mean(healpy_temp_fluctuations[index, 0])\n",
    "min = np.min(healpy_temp_fluctuations[index, 0])\n",
    "max = np.max(healpy_temp_fluctuations[index, 0])\n",
    "\n",
    "hp.mollview(healpy_temp_fluctuations[..., 0], min=min, max=max, cmap='jet', title='Temperature fluctuations', unit='µK_CMB')\n",
    "hp.gnomview(healpy_temp_fluctuations[..., 0], min=min, max=max, rot=qubic_patch, reso=15, cmap='jet', title='Temperature fluctuations', unit='µK_CMB')"
   ]
  },
  {
   "cell_type": "markdown",
   "metadata": {},
   "source": [
    "# Build MM"
   ]
  },
  {
   "cell_type": "code",
   "execution_count": null,
   "metadata": {},
   "outputs": [],
   "source": [
    "q_instrument = QubicInstrument(qubic_dict)\n",
    "q_scene = QubicScene(qubic_dict)\n",
    "q_sampling = get_pointing(qubic_dict)\n",
    "\n",
    "q_acquisition = QubicAcquisition(q_instrument, q_sampling, q_scene, qubic_dict)"
   ]
  },
  {
   "cell_type": "code",
   "execution_count": null,
   "metadata": {},
   "outputs": [],
   "source": [
    "coverage = q_acquisition.get_coverage()\n",
    "\n",
    "covnorm = coverage / coverage.max()\n",
    "seenpix = covnorm > params['coverage_cut']"
   ]
  },
  {
   "cell_type": "code",
   "execution_count": null,
   "metadata": {},
   "outputs": [],
   "source": [
    "H_qubic = q_acquisition.get_operator()\n",
    "R_qubic = ReshapeOperator(H_qubic.shapeout, H_qubic.shape[0])\n",
    "invN_qubic = R_qubic(q_acquisition.get_invntt_operator(False, False)(R_qubic.T))\n",
    "d_qubic = H_qubic(healpy_temp_fluctuations).ravel()"
   ]
  },
  {
   "cell_type": "code",
   "execution_count": null,
   "metadata": {},
   "outputs": [],
   "source": [
    "H = R_qubic(H_qubic)\n",
    "invN = invN_qubic\n",
    "d = d_qubic"
   ]
  },
  {
   "cell_type": "code",
   "execution_count": null,
   "metadata": {},
   "outputs": [],
   "source": [
    "A = H.T * invN * H\n",
    "b = H.T * invN * d.flatten()\n",
    "x0 = healpy_temp_fluctuations*0\n",
    "true_maps = healpy_temp_fluctuations"
   ]
  },
  {
   "cell_type": "code",
   "execution_count": null,
   "metadata": {},
   "outputs": [],
   "source": [
    "stacked_dptdp_inv = np.zeros((1,12*params['nside']**2))\n",
    "\n",
    "D = H.operands[2]\n",
    "P = H.operands[-1]\n",
    "sh = P.matrix.data.index.shape\n",
    "no_det = 992\n",
    "point_per_det = int(sh[0] / no_det)\n",
    "mapPtP_perdet_seq = np.zeros((no_det, 12 * params['nside']**2))\n",
    "sample_ranges = [(det * point_per_det, (det + 1) * point_per_det) for det in range(no_det)]\n",
    "for det, (start, end) in enumerate(sample_ranges):\n",
    "    indices = P.matrix.data.index[start:end, :]  \n",
    "    weights = P.matrix.data.r11[start:end, :]\n",
    "    flat_indices = indices.ravel()\n",
    "    flat_weights = weights.ravel()\n",
    "\n",
    "    mapPitPi = np.zeros(12 * params['nside']**2)\n",
    "    np.add.at(mapPitPi, flat_indices, flat_weights**2)\n",
    "\n",
    "    mapPtP_perdet_seq[det, :] = mapPitPi\n",
    "D_elements = D.data\n",
    "D_sq = D_elements**2\n",
    "mapPtP_seq_scaled = D_sq[:, np.newaxis] * mapPtP_perdet_seq \n",
    "dptdp = mapPtP_seq_scaled.sum(axis = 0)\n",
    "dptdp_inv = 1 / dptdp\n",
    "dptdp_inv[np.isinf(dptdp_inv)] = 0.\n",
    "stacked_dptdp_inv[0] = dptdp_inv\n",
    "M = BlockDiagonalOperator([DiagonalOperator(ci, broadcast='rightward') for ci in stacked_dptdp_inv],  new_axisin=0)"
   ]
  },
  {
   "cell_type": "markdown",
   "metadata": {},
   "source": [
    "# Map-Making"
   ]
  },
  {
   "cell_type": "code",
   "execution_count": null,
   "metadata": {},
   "outputs": [],
   "source": [
    "# Run PCG\n",
    "algo = PCGAlgorithm(\n",
    "    A,\n",
    "    b,\n",
    "    comm,\n",
    "    x0=x0,\n",
    "    tol=1e-10,\n",
    "    maxiter=200,\n",
    "    disp=True,\n",
    "    M=M,\n",
    "    center=[0, -57],\n",
    "    reso=15,\n",
    "    seenpix=seenpix,\n",
    "    input=true_maps,\n",
    ")\n",
    "try:\n",
    "    output = algo.run()\n",
    "    success = True\n",
    "    message = 'Success'\n",
    "except AbnormalStopIteration as e:\n",
    "    output = algo.finalize()\n",
    "    success = False\n",
    "    message = str(e)"
   ]
  },
  {
   "cell_type": "code",
   "execution_count": null,
   "metadata": {},
   "outputs": [],
   "source": [
    "plt.plot(output['convergence'])\n",
    "plt.title(\"Monochromatic\")\n",
    "plt.yscale('log')\n",
    "plt.xlabel('Iteration')\n",
    "plt.ylabel('Convergence')"
   ]
  },
  {
   "cell_type": "code",
   "execution_count": null,
   "metadata": {},
   "outputs": [],
   "source": [
    "plt.figure(figsize=(10, 12), dpi=200)\n",
    "k=1\n",
    "# true_maps[~seenpix, :] = hp.UNSEEN\n",
    "# output['x'][~seenpix, :] = hp.UNSEEN\n",
    "stk = ['I', 'Q', 'U']\n",
    "istk = 0  \n",
    "n_sig = 3\n",
    "reso = 25\n",
    "\n",
    "sigma = np.std(true_maps[seenpix, istk])\n",
    "hp.gnomview(true_maps[:, istk], min=np.min(true_maps[seenpix, istk]), max=np.max(true_maps[seenpix, istk]), cmap='jet', rot=qubic_patch, reso=reso, sub=(1, 3, k), title=f'{stk[istk]} - Input', notext=True)\n",
    "hp.gnomview(output['x'][:, istk], min=np.min(true_maps[seenpix, istk]), max=np.max(true_maps[seenpix, istk]), cmap='jet', rot=qubic_patch, reso=reso, sub=(1, 3, k+1), title=f'{stk[istk]} - Output', notext=True)\n",
    "hp.gnomview(output['x'][:, istk] - true_maps[:, istk], cmap='jet', rot=qubic_patch, reso=reso, sub=(1, 3, k+2), title=f'{stk[istk]} - Residual', notext=True)\n",
    "k+=3"
   ]
  },
  {
   "cell_type": "code",
   "execution_count": null,
   "metadata": {},
   "outputs": [],
   "source": [
    "plt.figure(figsize=(10, 12), dpi=200)\n",
    "k=1\n",
    "true_maps[~seenpix, :] = hp.UNSEEN\n",
    "output['x'][~seenpix, :] = hp.UNSEEN\n",
    "stk = ['I', 'Q', 'U']\n",
    "istk = 0  \n",
    "n_sig = 3\n",
    "reso = 15\n",
    "\n",
    "sigma = np.std(true_maps[seenpix, istk])\n",
    "hp.gnomview(true_maps[:, istk], min=np.min(true_maps[seenpix, istk]), max=np.max(true_maps[seenpix, istk]), cmap='jet', rot=qubic_patch, reso=reso, sub=(1, 3, k), title=f'{stk[istk]} - Input', notext=True)\n",
    "hp.gnomview(output['x'][:, istk], min=np.min(true_maps[seenpix, istk]), max=np.max(true_maps[seenpix, istk]), cmap='jet', rot=qubic_patch, reso=reso, sub=(1, 3, k+1), title=f'{stk[istk]} - Output', notext=True)\n",
    "hp.gnomview(output['x'][:, istk] - true_maps[:, istk], cmap='jet', rot=qubic_patch, reso=reso, sub=(1, 3, k+2), title=f'{stk[istk]} - Residual', notext=True)\n",
    "k+=3"
   ]
  },
  {
   "cell_type": "code",
   "execution_count": null,
   "metadata": {},
   "outputs": [],
   "source": [
    "plt.figure(figsize=(12, 25))\n",
    "k=1\n",
    "true_maps[~seenpix, :] = hp.UNSEEN\n",
    "output['x'][~seenpix, :] = hp.UNSEEN\n",
    "\n",
    "istk = 0\n",
    "n_sig = 3\n",
    "\n",
    "sigma = np.std(true_maps[seenpix, istk])\n",
    "hp.mollview(true_maps[:, istk], min=np.min(true_maps[seenpix, istk]), max=np.max(true_maps[seenpix, istk]), cmap='jet', sub=(1, 3, k), title=f'{stk[istk]} - Input', notext=True)\n",
    "hp.mollview(output['x'][:, istk], min=np.min(true_maps[seenpix, istk]), max=np.max(true_maps[seenpix, istk]), cmap='jet', sub=(1, 3, k+1), title=f'{stk[istk]} - Output', notext=True)\n",
    "hp.mollview(output['x'][:, istk] - true_maps[:, istk], cmap='jet', sub=(1, 3, k+2), title=f'{stk[istk]} - Residual', notext=True)\n",
    "k+=3"
   ]
  },
  {
   "cell_type": "code",
   "execution_count": null,
   "metadata": {},
   "outputs": [],
   "source": [
    "plt.figure(figsize=(10, 12), dpi=200)\n",
    "k=1\n",
    "true_maps[~seenpix, :] = hp.UNSEEN\n",
    "output['x'][~seenpix, :] = hp.UNSEEN\n",
    "\n",
    "istk = 1\n",
    "n_sig = 3\n",
    "reso = 25\n",
    "\n",
    "sigma = np.std(true_maps[seenpix, istk])\n",
    "hp.gnomview(true_maps[:, istk], min=np.min(true_maps[seenpix, istk]), max=np.max(true_maps[seenpix, istk]), cmap='jet', rot=qubic_patch, reso=reso, sub=(1, 3, k), title=f'{stk[istk]} - Input', notext=True)\n",
    "hp.gnomview(output['x'][:, istk], min=np.min(true_maps[seenpix, istk]), max=np.max(true_maps[seenpix, istk]), cmap='jet', rot=qubic_patch, reso=reso, sub=(1, 3, k+1), title=f'{stk[istk]} - Output', notext=True)\n",
    "hp.gnomview(output['x'][:, istk] - true_maps[:, istk], cmap='jet', rot=qubic_patch, reso=reso, sub=(1, 3, k+2), title=f'{stk[istk]} - Residual', notext=True)\n",
    "k+=3"
   ]
  },
  {
   "cell_type": "code",
   "execution_count": null,
   "metadata": {},
   "outputs": [],
   "source": []
  },
  {
   "cell_type": "code",
   "execution_count": null,
   "metadata": {},
   "outputs": [],
   "source": []
  },
  {
   "cell_type": "code",
   "execution_count": null,
   "metadata": {},
   "outputs": [],
   "source": []
  },
  {
   "cell_type": "code",
   "execution_count": null,
   "metadata": {},
   "outputs": [],
   "source": []
  },
  {
   "cell_type": "code",
   "execution_count": null,
   "metadata": {},
   "outputs": [],
   "source": []
  },
  {
   "cell_type": "code",
   "execution_count": null,
   "metadata": {},
   "outputs": [],
   "source": []
  }
 ],
 "metadata": {
  "jupytext": {
   "formats": "ipynb,Rmd"
  },
  "kernelspec": {
   "display_name": "venv-qubic",
   "language": "python",
   "name": "python3"
  },
  "language_info": {
   "codemirror_mode": {
    "name": "ipython",
    "version": 3
   },
   "file_extension": ".py",
   "mimetype": "text/x-python",
   "name": "python",
   "nbconvert_exporter": "python",
   "pygments_lexer": "ipython3",
   "version": "3.9.18"
  }
 },
 "nbformat": 4,
 "nbformat_minor": 4
}
