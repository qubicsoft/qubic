{
 "cells": [
  {
   "cell_type": "markdown",
   "metadata": {},
   "source": [
    "# Importation"
   ]
  },
  {
   "cell_type": "markdown",
   "metadata": {},
   "source": [
    "## Import libraries"
   ]
  },
  {
   "cell_type": "code",
   "execution_count": null,
   "metadata": {},
   "outputs": [],
   "source": [
    "import numpy as np\n",
    "import matplotlib.pyplot as plt \n",
    "import healpy as hp\n",
    "import yaml\n",
    " \n",
    "from qubic.lib.MapMaking.Qatmosphere_2d import AtmosphereMaps\n",
    "from qubic.lib.MapMaking.FrequencyMapMaking.Qspectra_component import CMBModel\n",
    "from qubic.lib.Qsamplings import get_pointing, equ2gal, QubicSampling\n",
    "from qubic.lib.Instrument.Qacquisition import QubicDualBand\n",
    "\n",
    "from qubic.lib.MapMaking.Qcg_test_for_atm import PCGAlgorithm\n",
    "from pyoperators.iterative.core import AbnormalStopIteration\n",
    "\n",
    "from pyoperators import MPI, BlockDiagonalOperator, BlockRowOperator, DiagonalOperator, ReshapeOperator\n",
    "\n",
    "from pysimulators.interfaces.healpy import Spherical2HealpixOperator, HealpixConvolutionGaussianOperator\n",
    "\n",
    "comm = MPI.COMM_WORLD\n",
    "rank = comm.Get_rank() \n",
    "\n",
    "%matplotlib inline"
   ]
  },
  {
   "cell_type": "markdown",
   "metadata": {},
   "source": [
    "## Import parameters and atm class"
   ]
  },
  {
   "cell_type": "code",
   "execution_count": null,
   "metadata": {},
   "outputs": [],
   "source": [
    "### Import simulation parameters\n",
    "with open('params.yml', 'r') as file:\n",
    "    params = yaml.safe_load(file) "
   ]
  },
  {
   "cell_type": "code",
   "execution_count": null,
   "metadata": {},
   "outputs": [],
   "source": [
    "### Call the class which build the atmosphere maps\n",
    "atm = AtmosphereMaps(params)\n",
    "qubic_dict = atm.qubic_dict"
   ]
  },
  {
   "cell_type": "markdown",
   "metadata": {},
   "source": [
    "# Scanning Strategy"
   ]
  },
  {
   "cell_type": "markdown",
   "metadata": {},
   "source": [
    "## Galactic Coordinates - Sweeping scan following the center of the Qubic patch"
   ]
  },
  {
   "cell_type": "code",
   "execution_count": null,
   "metadata": {},
   "outputs": [],
   "source": [
    "### Random pointing\n",
    "qubic_dict['random_pointing'] = True\n",
    "\n",
    "### Sweepingpointing\n",
    "qubic_dict['sweeping_pointing'] = False\n",
    "qubic_dict['fix_azimuth']['apply'] = False \n",
    "\n",
    "qubic_dict['angspeed'] = 0.4\n",
    "qubic_dict['delta_az'] = 20\n",
    "qubic_dict['nsweeps_per_elevation'] = 1\n",
    "qubic_dict['period'] = 1\n",
    "qubic_dict['duration'] = 1\n",
    "# npointings = 3600 * t_obs / period\n",
    "\n",
    "### Repeat pointing\n",
    "qubic_dict['repeat_pointing'] = False\n",
    "\n",
    "qubic_dict['fix_azimuth']['apply'] = False"
   ]
  },
  {
   "cell_type": "code",
   "execution_count": null,
   "metadata": {},
   "outputs": [],
   "source": [
    "### Create QubicSampling object\n",
    "q_sampling_gal = get_pointing(qubic_dict)\n",
    "\n",
    "### Define coordinates of the patch in Galactic and Local coordinates\n",
    "qubic_patch = np.array([0, -57])\n",
    "center_gal = equ2gal(qubic_patch[0], qubic_patch[1])\n",
    "center_local = np.array([np.mean(q_sampling_gal.azimuth), np.mean(q_sampling_gal.elevation)])\n",
    "print(q_sampling_gal)"
   ]
  },
  {
   "cell_type": "code",
   "execution_count": null,
   "metadata": {},
   "outputs": [],
   "source": [
    "### Plot the scanning strategy\n",
    "az, el = q_sampling_gal.azimuth, q_sampling_gal.elevation\n",
    "\n",
    "fig, axs = plt.subplots(1, 5, figsize=(25, 5))\n",
    "\n",
    "# Azimuth plot\n",
    "axs[0].plot(az)\n",
    "axs[0].set_title(\"Azimuth\")\n",
    "axs[0].set_xlabel(\"Time samples\")\n",
    "axs[0].set_ylabel(\"Angles (degrees)\")\n",
    "\n",
    "# Elevation plot\n",
    "axs[1].plot(el)\n",
    "axs[1].set_title(\"Elevation\")\n",
    "axs[1].set_xlabel(\"Time samples\")\n",
    "axs[1].set_ylabel(\"Angles (degrees)\")\n",
    "\n",
    "# Scanning strategy plot\n",
    "axs[2].plot(az, el, '.')\n",
    "axs[2].set_title(\"Scanning strategy\")\n",
    "axs[2].set_xlabel(\"Azimuth (degrees)\")\n",
    "axs[2].set_ylabel(\"Elevation (degrees)\")\n",
    "\n",
    "# Equatorial coordinates plot\n",
    "axs[3].plot((q_sampling_gal.equatorial[:, 0] + 180) % 360 - 180, q_sampling_gal.equatorial[:, 1], '.')\n",
    "axs[3].set_title(\"Equatorial coordinates\")\n",
    "axs[3].set_xlabel(\"Right ascension (degrees)\")\n",
    "axs[3].set_ylabel(\"Declination (degrees)\")\n",
    "\n",
    "# Galactic coordinates plot\n",
    "axs[4].plot(q_sampling_gal.galactic[:, 0], q_sampling_gal.galactic[:, 1], '.')\n",
    "axs[4].set_title(\"Galactic coordinates\")\n",
    "axs[4].set_xlabel(\"Longitude (degrees)\")\n",
    "axs[4].set_ylabel(\"Latitude (degrees)\")\n",
    "\n",
    "fig.suptitle(\"Qubic Sampling\")\n",
    "plt.tight_layout()\n",
    "plt.show()"
   ]
  },
  {
   "cell_type": "markdown",
   "metadata": {},
   "source": [
    "## Local Coordinates - Sweeping scan following the center of the Qubic patch"
   ]
  },
  {
   "cell_type": "code",
   "execution_count": null,
   "metadata": {},
   "outputs": [],
   "source": [
    "### Define the scanning in Local coordinates by using the previous azimuth and elevation\n",
    "### but putting fix.az = True\n",
    "\n",
    "q_sampling_local = QubicSampling(params['npointings'], #int(np.ceil(qubic_dict['duration']*3600/qubic_dict['period'])),\n",
    "                           date_obs = qubic_dict['date_obs'],\n",
    "                           period = qubic_dict['period'],\n",
    "                           latitude = qubic_dict['latitude'],\n",
    "                           longitude = qubic_dict['longitude'])\n",
    "\n",
    "q_sampling_local.azimuth = q_sampling_gal.azimuth\n",
    "q_sampling_local.elevation = q_sampling_gal.elevation\n",
    "q_sampling_local.pitch = q_sampling_gal.pitch\n",
    "q_sampling_local.angle_hwp = q_sampling_gal.angle_hwp\n",
    "\n",
    "q_sampling_local.fix_az = True"
   ]
  },
  {
   "cell_type": "markdown",
   "metadata": {},
   "source": [
    "# Input Maps"
   ]
  },
  {
   "cell_type": "markdown",
   "metadata": {},
   "source": [
    "## CMB"
   ]
  },
  {
   "cell_type": "code",
   "execution_count": null,
   "metadata": {},
   "outputs": [],
   "source": [
    "### Build CMB map\n",
    "cl_cmb = CMBModel(None).give_cl_cmb(r=0, Alens=1)\n",
    "cmb_map = hp.synfast(cl_cmb, params['nside'], new=True, verbose=False).T\n",
    "\n",
    "hp.mollview(cmb_map[:, 0], cmap='jet', title='CMB map', unit=r'$µK_{CMB}$')"
   ]
  },
  {
   "cell_type": "code",
   "execution_count": null,
   "metadata": {},
   "outputs": [],
   "source": [
    "### Build Input CMB Maps\n",
    "cmb_maps_input = np.zeros((params['nsub_in'], hp.nside2npix(params['nside']), 3))\n",
    "for i in range(cmb_maps_input.shape[0]):\n",
    "    cmb_maps_input[i] = cmb_map"
   ]
  },
  {
   "cell_type": "code",
   "execution_count": null,
   "metadata": {},
   "outputs": [],
   "source": [
    "### Build Expected CMB Maps\n",
    "cmb_maps = np.zeros((params['nrec'], hp.nside2npix(params['nside']), 3))\n",
    "for i in range(cmb_maps.shape[0]):\n",
    "    cmb_maps[i] = cmb_map"
   ]
  },
  {
   "cell_type": "markdown",
   "metadata": {},
   "source": [
    "## Atmosphere"
   ]
  },
  {
   "cell_type": "code",
   "execution_count": null,
   "metadata": {},
   "outputs": [],
   "source": [
    "### Import the atm temperature maps\n",
    "atm_maps_2d = atm.get_temp_maps(atm.rho_map)\n",
    "print(atm_maps_2d.shape)\n",
    "plt.imshow(atm_maps_2d[0], cmap='jet', extent=[-params['size_atm'], params['size_atm'], -params['size_atm'], params['size_atm']])\n",
    "plt.title('Temperature fluctuations')\n",
    "plt.xlabel('m')\n",
    "plt.ylabel('m')\n",
    "plt.colorbar(label=r'$\\mu K_{CMB}$')"
   ]
  },
  {
   "cell_type": "code",
   "execution_count": null,
   "metadata": {},
   "outputs": [],
   "source": [
    "### Import the atm integrated absorption spectrum\n",
    "integrated_abs_spectrum, frequencies = atm.integrated_absorption_spectrum()\n",
    "\n",
    "plt.figure()\n",
    "plt.plot(frequencies, integrated_abs_spectrum, '.')\n",
    "plt.xlabel('Frequency (GHz)')\n",
    "plt.ylabel(r'Integrated absorption spectrum ($m^{2}/g$)')\n",
    "plt.title('Integrated absorption spectrum')"
   ]
  },
  {
   "cell_type": "code",
   "execution_count": null,
   "metadata": {},
   "outputs": [],
   "source": [
    "### Remove the mean value for each frequency\n",
    "for i in range(len(frequencies)):\n",
    "    atm_maps_2d[i] -= np.mean(atm_maps_2d[i])\n",
    "    \n",
    "index_nu = 0\n",
    "plt.imshow(atm_maps_2d[index_nu], cmap='jet', extent=[-params['size_atm'], params['size_atm'], -params['size_atm'], params['size_atm']])\n",
    "plt.colorbar(label=r'$µK_{CMB}$')\n",
    "plt.xlabel('m')\n",
    "plt.ylabel('m')\n",
    "plt.title('Atmosphere temperature map at {:.2f} GHz'.format(frequencies[index_nu]))"
   ]
  },
  {
   "cell_type": "code",
   "execution_count": null,
   "metadata": {},
   "outputs": [],
   "source": [
    "### Build input maps : Atmsophere (only for I map)\n",
    "atm_maps_input = np.zeros((len(frequencies), hp.nside2npix(params['nside']), 3))\n",
    "\n",
    "healpy_atm_maps = atm.get_healpy_atm_maps_2d(atm_maps_2d, np.mean(q_sampling_local.azimuth), np.mean(q_sampling_local.elevation))\n",
    "\n",
    "index = np.where(healpy_atm_maps[0, :] != 0)\n",
    "atm_maps_input[:, index, 0] += healpy_atm_maps[:, index]\n",
    "\n",
    "index_nu = 0\n",
    "hp.mollview(atm_maps_input[index_nu, :, 0] ,cmap='jet', unit='µK_CMB', title='Input map {:.2f} GHz'.format(frequencies[index_nu]))"
   ]
  },
  {
   "cell_type": "code",
   "execution_count": null,
   "metadata": {},
   "outputs": [],
   "source": [
    "### Build Expected Atm Maps\n",
    "atm_maps = np.zeros((params['nrec'], 12*params['nside']**2, 3))\n",
    "true_frequencies = np.zeros(params['nrec'])\n",
    "fsub = int(params['nsub_in'] / params['nrec'])\n",
    "\n",
    "# Build the reconstructed maps and frequency by taking the mean inside each reconstructed frequency band\n",
    "for i in range(params['nrec']):\n",
    "    atm_maps[i, :, :] = np.mean(atm_maps_input[i*fsub:(i+1)*fsub, :, :], axis=0)\n",
    "    true_frequencies[i] = np.mean(frequencies[i*fsub:(i+1)*fsub])\n",
    "print(\"Atm maps shape is :\", atm_maps.shape) \n",
    "print(\"Reconstructed frequencies are : \", true_frequencies)   \n",
    "plt.plot(true_frequencies, np.mean(atm_maps, axis=1)[..., 0], '.')\n",
    "plt.ylabel(r'Mean temperature ($\\mu K_{CMB}$)')\n",
    "plt.xlabel('Frequency (GHz)')\n",
    "plt.xlim(130, 250)"
   ]
  },
  {
   "cell_type": "markdown",
   "metadata": {},
   "source": [
    "# Build QUBIC Instances"
   ]
  },
  {
   "cell_type": "code",
   "execution_count": null,
   "metadata": {},
   "outputs": [],
   "source": [
    "### Build QubicDualBand object in galactic and local coordinates\n",
    "Qacq_gal = QubicDualBand(qubic_dict, nsub=params['nsub_in'], nrec=params['nrec'], sampling=q_sampling_gal)\n",
    "Qacq_local = QubicDualBand(qubic_dict, nsub=params['nsub_in'], nrec=params['nrec'], sampling=q_sampling_local)"
   ]
  },
  {
   "cell_type": "markdown",
   "metadata": {},
   "source": [
    "# Build QUBIC Operaotors"
   ]
  },
  {
   "cell_type": "code",
   "execution_count": null,
   "metadata": {},
   "outputs": [],
   "source": [
    "### Build H\n",
    "if params['nrec'] == 2:\n",
    "    H_gal = Qacq_gal.get_operator().operands[1]\n",
    "    H_local = Qacq_local.get_operator().operands[1]\n",
    "else:\n",
    "    H_gal = Qacq_gal.get_operator()\n",
    "    H_local = Qacq_local.get_operator()\n",
    "    \n",
    "### Build invN\n",
    "invN_gal = Qacq_gal.get_invntt_operator(False, False)\n",
    "invN_local = Qacq_local.get_invntt_operator(False, False)\n",
    "\n",
    "### Correct the shape of H\n",
    "R = ReshapeOperator(H_gal.shapeout, invN_gal.shapein)\n",
    "H_gal = R * H_gal\n",
    "H_local = R * H_local"
   ]
  },
  {
   "cell_type": "code",
   "execution_count": null,
   "metadata": {},
   "outputs": [],
   "source": [
    "### Build TOD\n",
    "H_gal_tod = QubicDualBand(qubic_dict, nsub=params['nsub_in'], nrec=params['nsub_in'], sampling=q_sampling_gal).get_operator()\n",
    "H_local_tod = QubicDualBand(qubic_dict, nsub=params['nsub_in'], nrec=params['nsub_in'], sampling=q_sampling_local).get_operator()\n",
    "\n",
    "d_gal = H_gal_tod(cmb_maps_input).ravel()\n",
    "d_local = H_local_tod(atm_maps_input).ravel()\n",
    "\n",
    "del H_gal_tod, H_local_tod"
   ]
  },
  {
   "cell_type": "code",
   "execution_count": null,
   "metadata": {},
   "outputs": [],
   "source": [
    "### Build coverage\n",
    "coverage_gal = Qacq_gal.coverage\n",
    "covnorm_gal = coverage_gal / coverage_gal.max()\n",
    "seenpix_gal = covnorm_gal > params['coverage_cut']\n",
    "\n",
    "coverage_local = Qacq_local.coverage\n",
    "covnorm_local = coverage_local / coverage_local.max()\n",
    "seenpix_local = covnorm_local > params['coverage_cut']\n",
    "\n",
    "seenpix = []\n",
    "for i in range(params['nrec']):\n",
    "    seenpix.append(seenpix_gal)\n",
    "for i in range(params['nrec']):\n",
    "    seenpix.append(seenpix_local)\n",
    "seenpix = np.array(seenpix)"
   ]
  },
  {
   "cell_type": "code",
   "execution_count": null,
   "metadata": {},
   "outputs": [],
   "source": [
    "# Test coverage\n",
    "hp.mollview(coverage_gal, title='Coverage Galactic Map')\n",
    "hp.mollview(coverage_local, title='Coverage Local Map')"
   ]
  },
  {
   "cell_type": "code",
   "execution_count": null,
   "metadata": {},
   "outputs": [],
   "source": [
    "print(\"H_gal\", H_gal.shapein, H_gal.shapeout)\n",
    "print(\"invN_gal\", invN_gal.shapein, invN_gal.shapeout)\n",
    "print(\"d_gal\", d_gal.shape)"
   ]
  },
  {
   "cell_type": "code",
   "execution_count": null,
   "metadata": {},
   "outputs": [],
   "source": [
    "print(\"H_local\", H_local.shapein, H_local.shapeout)\n",
    "print(\"invN_local\", invN_local.shapein, invN_local.shapeout)\n",
    "print(\"d_local\", d_local.shape)"
   ]
  },
  {
   "cell_type": "code",
   "execution_count": null,
   "metadata": {},
   "outputs": [],
   "source": [
    "### Full MM\n",
    "\n",
    "R = ReshapeOperator((H_gal.shapeout), (invN_gal.shapein))\n",
    "H = BlockRowOperator([H_gal, H_local], axisin=0)\n",
    "\n",
    "invN = invN_gal # BlockDiagonalOperator([invN_gal, invN_local], axisout=0)\n",
    "\n",
    "for i in range(params['nrec']):\n",
    "    true_maps = np.array([cmb_maps, atm_maps])\n",
    "\n",
    "d = d_gal + d_local\n",
    "\n",
    "true_maps = np.append(cmb_maps, atm_maps, axis=0)"
   ]
  },
  {
   "cell_type": "code",
   "execution_count": null,
   "metadata": {},
   "outputs": [],
   "source": [
    "print(\"H\", H.shapein, H.shapeout)\n",
    "print(\"invN\", invN.shapein, invN.shapeout)\n",
    "print(\"d\", d.shape)\n",
    "print(\"true_maps\", true_maps.shape)"
   ]
  },
  {
   "cell_type": "markdown",
   "metadata": {},
   "source": [
    "# Map-Making"
   ]
  },
  {
   "cell_type": "code",
   "execution_count": null,
   "metadata": {},
   "outputs": [],
   "source": [
    "# Ax=b equation to be solve by PCG\n",
    "R_tod = ReshapeOperator((d.shape), (invN.shapein))\n",
    "A = H.T * invN * H\n",
    "b = H.T * invN * R_tod(d)\n",
    "\n",
    "# I start from an atm map for the CMB and from a cmb map for the atmosphere\n",
    "x0 = true_maps * 0.9"
   ]
  },
  {
   "cell_type": "code",
   "execution_count": null,
   "metadata": {},
   "outputs": [],
   "source": [
    "print(\"A\", A.shapein, A.shapeout)\n",
    "print(\"Ax\", A(x0).shape)\n",
    "print(\"b\", b.shape)\n",
    "print(\"true_maps\", true_maps.shape)"
   ]
  },
  {
   "cell_type": "code",
   "execution_count": null,
   "metadata": {},
   "outputs": [],
   "source": [
    "### H dimension\n",
    "\n",
    "# H.operands[0] = H_gal / H.operands[1] = H_loc\n",
    "# H_operands[i].operands[0] = ReshapeOperator\n",
    "# H_operands[i].operands[1].operands = Nrec H_i\n",
    "# H_operands[i].operands[1].operands[j] = Nsub H_i for the band j"
   ]
  },
  {
   "cell_type": "code",
   "execution_count": null,
   "metadata": {},
   "outputs": [],
   "source": [
    "# Build Preconditionner\n",
    "no_det = 992\n",
    "\n",
    "stacked_dptdp_inv = np.zeros((true_maps.shape[0],12*params['nside']**2))\n",
    "\n",
    "cpt = 0\n",
    "### Loop on Maps\n",
    "for i_maps in range(2):\n",
    "    for j_freq in range(params['nrec']):\n",
    "        ### Extract Operators\n",
    "        h = H.operands[i_maps].operands[1].operands[j_freq].operands[int(params['nsub_in']/params['nrec']/2)]\n",
    "        D = h.operands[1]\n",
    "        P = h.operands[-1]\n",
    "        sh = P.matrix.data.index.shape\n",
    "\n",
    "        ### Compute the map P^t P\n",
    "        point_per_det = int(sh[0] / no_det)\n",
    "        mapPtP_perdet_seq = np.zeros((no_det, 12 * params['nside']**2))\n",
    "        sample_ranges = [(det * point_per_det, (det + 1) * point_per_det) for det in range(no_det)]\n",
    "        for det, (start, end) in enumerate(sample_ranges):\n",
    "            indices = P.matrix.data.index[start:end, :]  \n",
    "            weights = P.matrix.data.r11[start:end, :]\n",
    "            flat_indices = indices.ravel()\n",
    "            flat_weights = weights.ravel()\n",
    "\n",
    "            mapPitPi = np.zeros(12 * params['nside']**2)\n",
    "            np.add.at(mapPitPi, flat_indices, flat_weights**2)\n",
    "\n",
    "            mapPtP_perdet_seq[det, :] = mapPitPi\n",
    "            \n",
    "        D_elements = D.data\n",
    "        D_sq = D_elements**2\n",
    "        mapPtP_seq_scaled = D_sq[:, np.newaxis] * mapPtP_perdet_seq \n",
    "        dptdp = mapPtP_seq_scaled.sum(axis = 0)\n",
    "        dptdp_inv = 1 / dptdp\n",
    "        dptdp_inv[np.isinf(dptdp_inv)] = 0.\n",
    "            \n",
    "        stacked_dptdp_inv[cpt] = dptdp_inv\n",
    "        cpt += 1\n",
    "\n",
    "M = BlockDiagonalOperator( \\\n",
    "                    [DiagonalOperator(ci, broadcast='rightward') for ci in stacked_dptdp_inv],\n",
    "                    new_axisin=0)"
   ]
  },
  {
   "cell_type": "code",
   "execution_count": null,
   "metadata": {},
   "outputs": [],
   "source": [
    "# Run PCG\n",
    "\n",
    "algo = PCGAlgorithm(\n",
    "    A,\n",
    "    b,\n",
    "    comm,\n",
    "    x0=x0,\n",
    "    tol=1e-10,\n",
    "    maxiter=100,\n",
    "    disp=True,\n",
    "    M=M,\n",
    "    center=[0, -57],\n",
    "    reso=15,\n",
    "    seenpix=seenpix,\n",
    "    input=true_maps,\n",
    ")\n",
    "try:\n",
    "    result = algo.run()\n",
    "    success = True\n",
    "    message = 'Success'\n",
    "except AbnormalStopIteration as e:\n",
    "    result = algo.finalize()\n",
    "    success = False\n",
    "    message = str(e)"
   ]
  },
  {
   "cell_type": "code",
   "execution_count": null,
   "metadata": {},
   "outputs": [],
   "source": [
    "plt.plot(result['convergence'])\n",
    "plt.yscale('log')\n",
    "plt.xlabel('Iteration')\n",
    "plt.ylabel('Convergence')"
   ]
  },
  {
   "cell_type": "code",
   "execution_count": null,
   "metadata": {},
   "outputs": [],
   "source": [
    "input = true_maps\n",
    "output = result['x']\n",
    "residual = output - input"
   ]
  },
  {
   "cell_type": "code",
   "execution_count": null,
   "metadata": {},
   "outputs": [],
   "source": [
    "print(input.shape)"
   ]
  },
  {
   "cell_type": "code",
   "execution_count": null,
   "metadata": {},
   "outputs": [],
   "source": [
    "plt.figure(figsize=(15, 12))\n",
    "k=1\n",
    "\n",
    "istk = 0\n",
    "stk = ['I', 'Q', 'U']\n",
    "map = ['CMB', 'CMB', 'Atm', 'Atm']\n",
    "freq = ['150', '220', '150', '220']\n",
    "\n",
    "for imap in range(input.shape[0]):\n",
    "    print(imap)\n",
    "    hp.mollview(input[imap, :, istk],min=np.min(input[imap, seenpix[imap], istk]), max=np.max(input[imap, seenpix[imap], istk]), cmap='jet', sub=(input.shape[0], 3, k), title=f'{stk[istk]} - Input - {map[imap]} - {freq[imap]} GHz', notext=True)\n",
    "    hp.mollview(output[imap, :, istk],min=np.min(input[imap, seenpix[imap], istk]), max=np.max(input[imap, seenpix[imap], istk]), cmap='jet', sub=(input.shape[0], 3, k+1), title=f'{stk[istk]} - Output - {map[imap]} - {freq[imap]} GHz', notext=True)\n",
    "    hp.mollview(output[imap, :, istk] - input[imap, :, istk],min=np.min(input[imap, seenpix[imap], istk]), max=np.max(input[imap, seenpix[imap], istk]), cmap='jet', sub=(input.shape[0], 3, k+2), title=f'{stk[istk]} - {freq[imap]} GHz - Residual - {map[imap]}', notext=True)\n",
    "    k+=3\n",
    "    \n",
    "plt.tight_layout()"
   ]
  },
  {
   "cell_type": "code",
   "execution_count": null,
   "metadata": {},
   "outputs": [],
   "source": [
    "plt.figure(figsize=(15, 10))\n",
    "k=1\n",
    "\n",
    "istk = 0\n",
    "\n",
    "reso = 20\n",
    "center = [center_gal, center_gal, center_local, center_local]\n",
    "\n",
    "for imap in range(input.shape[0]):\n",
    "    hp.gnomview(input[imap, :, istk], min=np.min(input[imap, seenpix[imap], istk]), max=np.max(input[imap, seenpix[imap], istk]), rot=center[imap], reso=reso, cmap='jet', sub=(input.shape[0], 3, k), title=f'{stk[istk]} - Input - {map[imap]}', notext=True)\n",
    "    hp.gnomview(output[imap, :, istk], min=np.min(input[imap, seenpix[imap], istk]), max=np.max(input[imap, seenpix[imap], istk]), rot=center[imap], reso=reso, cmap='jet', sub=(input.shape[0], 3, k+1), title=f'{stk[istk]} - Output - {map[imap]}', notext=True)\n",
    "    hp.gnomview(output[imap, :, istk] - input[imap, :, istk], min=np.min(input[imap, seenpix[imap], istk]), max=np.max(input[imap, seenpix[imap], istk]), rot=center[imap], reso=reso, cmap='jet', sub=(input.shape[0], 3, k+2), title=f'{stk[istk]} - Residual - {map[imap]}', notext=True)\n",
    "    k+=3\n",
    "    \n",
    "plt.tight_layout()"
   ]
  },
  {
   "cell_type": "code",
   "execution_count": null,
   "metadata": {},
   "outputs": [],
   "source": [
    "plt.figure(figsize=(15, 10))\n",
    "k=1\n",
    "\n",
    "istk = 0\n",
    "\n",
    "input[0, ~seenpix_gal, :] = hp.UNSEEN\n",
    "input[1, ~seenpix_gal, :] = hp.UNSEEN\n",
    "output[0, ~seenpix_gal, :] = hp.UNSEEN\n",
    "output[1, ~seenpix_gal, :] = hp.UNSEEN\n",
    "input[2, ~seenpix_local, :] = hp.UNSEEN\n",
    "input[3, ~seenpix_local, :] = hp.UNSEEN\n",
    "output[2, ~seenpix_local, :] = hp.UNSEEN\n",
    "output[3, ~seenpix_local, :] = hp.UNSEEN\n",
    "\n",
    "\n",
    "reso = 20\n",
    "\n",
    "for imap in range(input.shape[0]):\n",
    "    hp.gnomview(input[imap, :, istk], rot=center[imap], reso=reso, cmap='jet', sub=(input.shape[0], 3, k), title=f'{stk[istk]} - Input - {map[imap]}', notext=True)\n",
    "    hp.gnomview(output[imap, :, istk], rot=center[imap], reso=reso, cmap='jet', sub=(input.shape[0], 3, k+1), title=f'{stk[istk]} - Output - {map[imap]}', notext=True)\n",
    "    hp.gnomview(output[imap, :, istk] - input[imap, :, istk], rot=center[imap], reso=reso, cmap='jet', sub=(input.shape[0], 3, k+2), title=f'{stk[istk]} - Residual - {map[imap]}', notext=True)\n",
    "    k+=3\n",
    "    \n",
    "plt.tight_layout()"
   ]
  },
  {
   "cell_type": "code",
   "execution_count": null,
   "metadata": {},
   "outputs": [],
   "source": [
    "plt.figure(figsize=(15, 10))\n",
    "k=1\n",
    "\n",
    "istk = 0\n",
    "stk = ['I', 'Q', 'U']\n",
    "\n",
    "for imap in range(input.shape[0]):\n",
    "    hp.mollview(input[imap, :, istk], cmap='jet', sub=(input.shape[0], 3, k), title=f'{stk[istk]} - Input - {map[imap]}', notext=True)\n",
    "    hp.mollview(output[imap, :, istk], cmap='jet', sub=(input.shape[0], 3, k+1), title=f'{stk[istk]} - Output - {map[imap]}', notext=True)\n",
    "    hp.mollview(output[imap, :, istk] - input[imap, :, istk], cmap='jet', sub=(input.shape[0], 3, k+2), title=f'{stk[istk]} - Residual - {map[imap]}', notext=True)\n",
    "    k+=3\n",
    "    \n",
    "plt.tight_layout()"
   ]
  },
  {
   "cell_type": "code",
   "execution_count": null,
   "metadata": {},
   "outputs": [],
   "source": []
  },
  {
   "cell_type": "code",
   "execution_count": null,
   "metadata": {},
   "outputs": [],
   "source": []
  },
  {
   "cell_type": "code",
   "execution_count": null,
   "metadata": {},
   "outputs": [],
   "source": []
  }
 ],
 "metadata": {
  "jupytext": {
   "formats": "ipynb,Rmd"
  },
  "kernelspec": {
   "display_name": "venv-qubic",
   "language": "python",
   "name": "python3"
  },
  "language_info": {
   "codemirror_mode": {
    "name": "ipython",
    "version": 3
   },
   "file_extension": ".py",
   "mimetype": "text/x-python",
   "name": "python",
   "nbconvert_exporter": "python",
   "pygments_lexer": "ipython3",
   "version": "3.12.9"
  }
 },
 "nbformat": 4,
 "nbformat_minor": 4
}
