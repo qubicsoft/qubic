{
 "cells": [
  {
   "cell_type": "code",
   "execution_count": null,
   "metadata": {},
   "outputs": [],
   "source": [
    "import numpy as np\n",
    "import matplotlib.pyplot as plt \n",
    "import healpy as hp\n",
    "\n",
    "from qubic.lib.MapMaking.Qatmosphere_2d import AtmosphereMaps\n",
    "\n",
    "import sys\n",
    "import yaml\n",
    "\n",
    "import qubic\n",
    "from qubic.lib.Instrument.Qacquisition import QubicDualBand\n",
    "\n",
    "from qubic.lib.MapMaking.Qmaps import InputMaps\n",
    "from qubic.lib.MapMaking.Qcg import PCGAlgorithm\n",
    "from pyoperators.iterative.core import AbnormalStopIteration\n",
    "\n",
    "from pyoperators import *\n",
    "\n",
    "\n",
    "\n",
    "comm = MPI.COMM_WORLD\n",
    "rank = comm.Get_rank()\n",
    "\n",
    "%matplotlib inline"
   ]
  },
  {
   "cell_type": "code",
   "execution_count": null,
   "metadata": {},
   "outputs": [],
   "source": [
    "# Import simulation parameters\n",
    "with open('params.yml', 'r') as file:\n",
    "    params = yaml.safe_load(file) "
   ]
  },
  {
   "cell_type": "code",
   "execution_count": null,
   "metadata": {},
   "outputs": [],
   "source": [
    "# Call the class which build the atmosphere maps\n",
    "atm = AtmosphereMaps(params)"
   ]
  },
  {
   "cell_type": "code",
   "execution_count": null,
   "metadata": {},
   "outputs": [],
   "source": [
    "atm.qubic_dict"
   ]
  },
  {
   "cell_type": "code",
   "execution_count": null,
   "metadata": {},
   "outputs": [],
   "source": [
    "# Import the atm absorption spectrum\n",
    "abs_spectrum = atm.absorption_spectrum()\n",
    "\n",
    "plt.plot(atm.integration_frequencies, abs_spectrum)\n",
    "plt.ylim(0, 0.0002)\n",
    "plt.xlabel('Frequency (GHz)')\n",
    "plt.ylabel(r'Absorption ($m^{2}/g$)')\n",
    "plt.title(\"Atmospheric Absorption Spectrum\")"
   ]
  },
  {
   "cell_type": "code",
   "execution_count": null,
   "metadata": {},
   "outputs": [],
   "source": [
    "# Import the atm temperature maps\n",
    "atm_maps = atm.get_temp_maps(atm.rho_map)\n",
    "print(atm_maps.shape)\n",
    "plt.imshow(atm_maps[0], cmap='jet', extent=[-params['size_atm'], params['size_atm'], -params['size_atm'], params['size_atm']])\n",
    "plt.title('Temperature fluctuations')\n",
    "plt.xlabel('m')\n",
    "plt.ylabel('m')\n",
    "plt.colorbar(label=r'$\\mu K_{CMB}$')\n",
    "\n",
    "# Import the atm integrated absorption spectrum\n",
    "integrated_abs_spectrum, frequencies = atm.integrated_absorption_spectrum()"
   ]
  },
  {
   "cell_type": "code",
   "execution_count": null,
   "metadata": {},
   "outputs": [],
   "source": [
    "mean_atm_maps = []\n",
    "for i in range(atm_maps.shape[0]):\n",
    "    mean_atm_maps.append(np.mean(atm_maps[i]))\n",
    "plt.figure()\n",
    "plt.plot(frequencies, mean_atm_maps, '.')\n",
    "plt.title('Atmosphere maps spectrum')\n",
    "plt.xlabel('Frequency (GHz)')\n",
    "plt.ylabel(r'Mean temperature ($\\mu K_{CMB}$)')\n",
    "plt.figure()\n",
    "plt.plot(frequencies, integrated_abs_spectrum, '.')\n",
    "plt.xlabel('Frequency (GHz)')\n",
    "plt.ylabel(r'Integrated absorption spectrum ($m^{2}/g$)')\n",
    "plt.title('Integrated absorption spectrum')"
   ]
  },
  {
   "cell_type": "code",
   "execution_count": null,
   "metadata": {},
   "outputs": [],
   "source": [
    "for i in range(len(frequencies)):\n",
    "    atm_maps[i] -= np.mean(atm_maps[i])\n",
    "    \n",
    "index_nu = 0\n",
    "plt.imshow(atm_maps[index_nu], cmap='jet', extent=[-params['size_atm'], params['size_atm'], -params['size_atm'], params['size_atm']])\n",
    "plt.colorbar(label=r'$µK_{CMB}$')\n",
    "plt.xlabel('m')\n",
    "plt.ylabel('m')\n",
    "plt.title('Atmosphere temperature map at {:.2f} GHz'.format(frequencies[index_nu]))"
   ]
  },
  {
   "cell_type": "code",
   "execution_count": null,
   "metadata": {},
   "outputs": [],
   "source": [
    "atm.get_healpy_atm_maps_2d(atm_maps, atm.qubic_dict['RA_center'], atm.qubic_dict['DEC_center']).shape"
   ]
  },
  {
   "cell_type": "code",
   "execution_count": null,
   "metadata": {},
   "outputs": [],
   "source": [
    "# Build input maps : Atmsophere (only for I map)\n",
    "# I substract the mean value to each map to keep only the temperature fluctuations\n",
    "input_maps = np.zeros((len(frequencies), hp.nside2npix(params['nside']), 3))\n",
    "\n",
    "index = np.where(atm.get_healpy_atm_maps_2d(atm_maps, atm.qubic_dict['RA_center'], atm.qubic_dict['DEC_center'])[0, :] != 0)\n",
    "input_maps[:, index, 0] += atm.get_healpy_atm_maps_2d(atm_maps, atm.qubic_dict['RA_center'], atm.qubic_dict['DEC_center'])[:, index]\n",
    "\n",
    "hp.mollview(input_maps[index_nu, :, 0] ,cmap='jet', unit='µK_CMB', title='Input map {:.2f} GHz'.format(frequencies[index_nu]))"
   ]
  },
  {
   "cell_type": "code",
   "execution_count": null,
   "metadata": {},
   "outputs": [],
   "source": [
    "# Compute the Nrec true maps from the Nsub maps\n",
    "true_maps = np.zeros((params['nrec'], 12*params['nside']**2, 3))\n",
    "true_frequencies = np.zeros(params['nrec'])\n",
    "fsub = int(params['nsub_in'] / params['nrec'])\n",
    "\n",
    "# Build the reconstructed maps and frequency by taking the mean inside each reconstructed frequency band\n",
    "for i in range(params['nrec']):\n",
    "    true_maps[i, :, :] = np.mean(input_maps[i*fsub:(i+1)*fsub, :, :], axis=0)\n",
    "    true_frequencies[i] = np.mean(frequencies[i*fsub:(i+1)*fsub])\n",
    "print(true_maps.shape) \n",
    "print(true_frequencies)   \n",
    "plt.plot(true_frequencies, np.mean(true_maps, axis=1)[..., 0], '.')\n",
    "plt.ylabel(r'Mean temperature ($\\mu K_{CMB}$)')\n",
    "plt.xlabel('Frequency (GHz)')\n",
    "plt.xlim(130, 250)"
   ]
  },
  {
   "cell_type": "code",
   "execution_count": null,
   "metadata": {},
   "outputs": [],
   "source": [
    "# Plot all the true maps\n",
    "for inu in range(len(true_frequencies)):\n",
    "    hp.mollview(true_maps[inu, :, 0], cmap='jet', title='True - {:.2f} GHz'.format(true_frequencies[inu]))"
   ]
  },
  {
   "cell_type": "markdown",
   "metadata": {},
   "source": [
    "# Map-making"
   ]
  },
  {
   "cell_type": "code",
   "execution_count": null,
   "metadata": {},
   "outputs": [],
   "source": [
    "# Build the QUBIC operators\n",
    "H_tod = QubicDualBand(atm.qubic_dict, nsub=params['nsub_in'], nrec=params['nsub_in']).get_operator()\n",
    "tod = H_tod(input_maps).ravel()\n",
    "del H_tod\n",
    "\n",
    "Qacq = QubicDualBand(atm.qubic_dict, nsub=params['nsub_in'], nrec=params['nrec'])"
   ]
  },
  {
   "cell_type": "code",
   "execution_count": null,
   "metadata": {},
   "outputs": [],
   "source": [
    "#! try to use diagonal operator or remove qubic noise\n",
    "invN = Qacq.get_invntt_operator()\n",
    "\n",
    "if params['nrec']==2:\n",
    "    H_rec = Qacq.get_operator().operands[1]\n",
    "else:\n",
    "    H_rec = Qacq.get_operator()\n",
    "\n",
    "R = ReshapeOperator(H_rec.shapeout, invN.shapein)\n",
    "H_rec = R*H_rec"
   ]
  },
  {
   "cell_type": "code",
   "execution_count": null,
   "metadata": {},
   "outputs": [],
   "source": [
    "coverage = Qacq.coverage\n",
    "\n",
    "covnorm = coverage / coverage.max()\n",
    "seenpix = covnorm > params['coverage_cut']\n",
    "\n",
    "center = np.array([0, -57])\n",
    "qubic_patch = qubic.lib.Qsamplings.equ2gal(center[0], center[1])"
   ]
  },
  {
   "cell_type": "code",
   "execution_count": null,
   "metadata": {},
   "outputs": [],
   "source": [
    "# Print Operators' shape\n",
    "print('H_rec', H_rec.shapein, H_rec.shapeout)\n",
    "print(\"invN\", invN.shapein, invN.shapeout)\n",
    "print(\"TOD\", tod.shape)"
   ]
  },
  {
   "cell_type": "code",
   "execution_count": null,
   "metadata": {},
   "outputs": [],
   "source": [
    "# Build PCG\n",
    "R = ReshapeOperator(tod.shape, invN.shapein)\n",
    "A = H_rec.T * invN * H_rec\n",
    "b = H_rec.T * invN * R(tod)\n",
    "x0 = true_maps*0"
   ]
  },
  {
   "cell_type": "code",
   "execution_count": null,
   "metadata": {},
   "outputs": [],
   "source": [
    "if params['nrec'] != 2:\n",
    "    print(\"Number of Physical Bands :\", len(H_rec.operands)) # operands[0] = 150 GHz / operands[1] = 220 GHz\n",
    "    print(\"Number of Reconstructed Sub-Bands within each physical Bands :\", len(H_rec.operands[0].operands))\n",
    "    print(\"Number of Sub-Bands within each reconstructed bands :\", len(H_rec.operands[0].operands[0].operands)) # operands[0] = 150 GHz / operands[1] = 220 GHz\n",
    "else:\n",
    "    H_rec = H_rec.operands[1]\n",
    "    print(\"Number of Reconstructed Sub-Bands within each physical Bands :\", len(H_rec.operands))\n",
    "    print(\"Number of Sub-Bands within each reconstructed bands :\", len(H_rec.operands[0].operands))"
   ]
  },
  {
   "cell_type": "markdown",
   "metadata": {},
   "source": [
    "Note about preconditioner: stacked_dptdp_inv should have the shape (Nrec, Npix). But, we can compute that from H, which contains Nsub acquisition operators. In the next cell, I am using only the first Nrec operators rather than Nsub, because I don't know how to reduce them.\n",
    "I tried to compute it with another H which had exactly Nrec sub-operators, but it didn't work.\n",
    "We need to find a solution to this problem."
   ]
  },
  {
   "cell_type": "code",
   "execution_count": null,
   "metadata": {},
   "outputs": [],
   "source": [
    "# Build Preconditionner\n",
    "fsub = int(params['nsub_in'] / params['nrec'])\n",
    "no_det = 992\n",
    "\n",
    "stacked_dptdp_inv = np.zeros((params['nrec'],12*params['nside']**2))\n",
    "\n",
    "### Loop on Focal Plane\n",
    "for i_fp in range(2):\n",
    "    stacked_dptdp_inv_fsub = np.zeros((params['nsub_in'],12*params['nside']**2))\n",
    "    ### Loop on Bands\n",
    "    for jsub in range(fsub):        \n",
    "        print(\"Focal plane :\", i_fp, \"Nsub band :\", jsub)\n",
    "\n",
    "        ### Extract Operators\n",
    "        if params['nrec'] == 2:\n",
    "            H_single = H_rec.operands[i_fp].operands[jsub]\n",
    "        else:\n",
    "            H_single = H_rec.operands[0].operands[i_fp].operands[jsub]\n",
    "        D = H_single.operands[1]\n",
    "        P = H_single.operands[-1]\n",
    "        sh = P.matrix.data.index.shape\n",
    "\n",
    "        ### Compute the map P^t P\n",
    "        point_per_det = int(sh[0] / no_det)\n",
    "        mapPtP_perdet_seq = np.zeros((no_det, 12 * params['nside']**2))\n",
    "        sample_ranges = [(det * point_per_det, (det + 1) * point_per_det) for det in range(no_det)]\n",
    "        for det, (start, end) in enumerate(sample_ranges):\n",
    "            indices = P.matrix.data.index[start:end, :]  \n",
    "            weights = P.matrix.data.r11[start:end, :]\n",
    "            flat_indices = indices.ravel()\n",
    "            flat_weights = weights.ravel()\n",
    "\n",
    "            mapPitPi = np.zeros(12 * params['nside']**2)\n",
    "            np.add.at(mapPitPi, flat_indices, flat_weights**2)\n",
    "\n",
    "            mapPtP_perdet_seq[det, :] = mapPitPi\n",
    "            \n",
    "        D_elements = D.data\n",
    "        D_sq = D_elements**2\n",
    "        mapPtP_seq_scaled = D_sq[:, np.newaxis] * mapPtP_perdet_seq \n",
    "        dptdp = mapPtP_seq_scaled.sum(axis = 0)\n",
    "        dptdp_inv = 1 / dptdp\n",
    "        dptdp_inv[np.isinf(dptdp_inv)] = 0.\n",
    "        stacked_dptdp_inv_fsub[jsub] = dptdp_inv\n",
    "        \n",
    "    stacked_dptdp_inv[i_fp] = np.mean(stacked_dptdp_inv_fsub, axis = 0)\n",
    "\n",
    "M = BlockDiagonalOperator( \\\n",
    "                    [DiagonalOperator(ci, broadcast='rightward') for ci in stacked_dptdp_inv],\n",
    "                    new_axisin=0)"
   ]
  },
  {
   "cell_type": "code",
   "execution_count": null,
   "metadata": {},
   "outputs": [],
   "source": [
    "# Run PCG\n",
    "algo = PCGAlgorithm(\n",
    "    A,\n",
    "    b,\n",
    "    comm,\n",
    "    x0=x0,\n",
    "    tol=1e-10,\n",
    "    maxiter=150,\n",
    "    disp=True,\n",
    "    M=M,\n",
    "    center=[0, -57],\n",
    "    reso=15,\n",
    "    seenpix=seenpix,\n",
    "    input=true_maps,\n",
    ")\n",
    "try:\n",
    "    output = algo.run()\n",
    "    success = True\n",
    "    message = 'Success'\n",
    "except AbnormalStopIteration as e:\n",
    "    output = algo.finalize()\n",
    "    success = False\n",
    "    message = str(e)"
   ]
  },
  {
   "cell_type": "code",
   "execution_count": null,
   "metadata": {},
   "outputs": [],
   "source": [
    "plt.plot(output['convergence'])\n",
    "plt.title(\"Polychromatic\")\n",
    "plt.yscale('log')\n",
    "plt.xlabel('Iteration')\n",
    "plt.ylabel('Convergence')"
   ]
  },
  {
   "cell_type": "code",
   "execution_count": null,
   "metadata": {},
   "outputs": [],
   "source": [
    "plt.figure(figsize=(12, 12), dpi=200)\n",
    "k=1\n",
    "# true_maps[:, ~seenpix, :] = hp.UNSEEN\n",
    "# output['x'][:, ~seenpix, :] = hp.UNSEEN\n",
    "\n",
    "stk = ['I', 'Q', 'U']\n",
    "istk = 0\n",
    "n_sig = 3\n",
    "reso = 15\n",
    "\n",
    "for inu in range(output['x'].shape[0]):\n",
    "    sigma = np.std(true_maps[inu, seenpix, istk])\n",
    "    hp.gnomview(true_maps[inu, :, istk], min=np.min(true_maps[inu, seenpix, istk]), max=np.max(true_maps[inu, seenpix, istk]), cmap='jet', rot=qubic_patch,title='{} - Input - {:.2f} GHz'.format(stk[istk], true_frequencies[inu]), reso=reso, sub=(output['x'].shape[0], 3, k), notext=True)\n",
    "    hp.gnomview(output['x'][inu, :, istk], min=np.min(true_maps[inu, seenpix, istk]), max=np.max(true_maps[inu, seenpix, istk]), cmap='jet', rot=qubic_patch,title='{} - Output - {:.2f} GHz'.format(stk[istk], true_frequencies[inu]), reso=reso, sub=(output['x'].shape[0], 3, k+1), notext=True)\n",
    "    hp.gnomview(output['x'][inu, :, istk] - true_maps[inu, :, istk], cmap='jet', rot=qubic_patch,title='{} - Residual - {:.2f} GHz'.format(stk[istk], true_frequencies[inu]), reso=reso, sub=(output['x'].shape[0], 3, k+2), notext=True)\n",
    "    k+=3"
   ]
  },
  {
   "cell_type": "code",
   "execution_count": null,
   "metadata": {},
   "outputs": [],
   "source": [
    "plt.figure(figsize=(12, 12), dpi=200)\n",
    "k=1\n",
    "true_maps[:, ~seenpix, :] = hp.UNSEEN\n",
    "output['x'][:, ~seenpix, :] = hp.UNSEEN\n",
    "\n",
    "stk = ['I', 'Q', 'U']\n",
    "istk = 0\n",
    "n_sig = 3\n",
    "reso = 15\n",
    "\n",
    "for inu in range(output['x'].shape[0]):\n",
    "    sigma = np.std(true_maps[inu, seenpix, istk])\n",
    "    hp.gnomview(true_maps[inu, :, istk], min=np.min(true_maps[inu, seenpix, istk]), max=np.max(true_maps[inu, seenpix, istk]), cmap='jet', rot=qubic_patch,title='{} - Input - {:.2f} GHz'.format(stk[istk], true_frequencies[inu]), reso=reso, sub=(output['x'].shape[0], 3, k), notext=True)\n",
    "    hp.gnomview(output['x'][inu, :, istk], min=np.min(true_maps[inu, seenpix, istk]), max=np.max(true_maps[inu, seenpix, istk]), cmap='jet', rot=qubic_patch,title='{} - Output - {:.2f} GHz'.format(stk[istk], true_frequencies[inu]), reso=reso, sub=(output['x'].shape[0], 3, k+1), notext=True)\n",
    "    hp.gnomview(output['x'][inu, :, istk] - true_maps[inu, :, 0], cmap='jet', rot=qubic_patch,title='{} - Residual - {:.2f} GHz'.format(stk[istk], true_frequencies[inu]), reso=reso, sub=(output['x'].shape[0], 3, k+2), notext=True)\n",
    "    k+=3"
   ]
  },
  {
   "cell_type": "code",
   "execution_count": null,
   "metadata": {},
   "outputs": [],
   "source": [
    "for inu in range(output['x'].shape[0]):\n",
    "    sigma = np.std(true_maps[inu, seenpix, istk])\n",
    "    hp.mollview(output['x'][inu, :, istk] - true_maps[inu, :, istk], cmap='jet',title='{} - Residual - {:.2f} GHz'.format(stk[istk], true_frequencies[inu]))"
   ]
  },
  {
   "cell_type": "code",
   "execution_count": null,
   "metadata": {},
   "outputs": [],
   "source": [
    "plt.figure(figsize=(12, 12), dpi=200)\n",
    "\n",
    "k=1\n",
    "\n",
    "istk = 1\n",
    "n_sig = 2\n",
    "\n",
    "for inu in range(output['x'].shape[0]):\n",
    "    sigma = np.std(true_maps[inu, seenpix, istk])\n",
    "    hp.gnomview(true_maps[inu, :, istk], cmap='jet', rot=qubic_patch,title='{} - Input - {:.2f} GHz'.format(stk[istk], true_frequencies[inu]), reso=15, sub=(output['x'].shape[0], 3, k), notext=True)\n",
    "    hp.gnomview(output['x'][inu, :, istk], cmap='jet', rot=qubic_patch,title='{} - Output - {:.2f} GHz'.format(stk[istk], true_frequencies[inu]), reso=15, sub=(output['x'].shape[0], 3, k+1), notext=True)\n",
    "    hp.gnomview(output['x'][inu, :, istk] - true_maps[inu, :, istk], cmap='jet', rot=qubic_patch,title='{} - Residual - {:.2f} GHz'.format(stk[istk], true_frequencies[inu]), reso=15, sub=(output['x'].shape[0], 3, k+2), notext=True)\n",
    "    k+=3"
   ]
  },
  {
   "cell_type": "code",
   "execution_count": null,
   "metadata": {},
   "outputs": [],
   "source": []
  },
  {
   "cell_type": "code",
   "execution_count": null,
   "metadata": {},
   "outputs": [],
   "source": []
  },
  {
   "cell_type": "code",
   "execution_count": null,
   "metadata": {},
   "outputs": [],
   "source": []
  },
  {
   "cell_type": "code",
   "execution_count": null,
   "metadata": {},
   "outputs": [],
   "source": []
  },
  {
   "cell_type": "code",
   "execution_count": null,
   "metadata": {},
   "outputs": [],
   "source": []
  },
  {
   "cell_type": "code",
   "execution_count": null,
   "metadata": {},
   "outputs": [],
   "source": []
  },
  {
   "cell_type": "code",
   "execution_count": null,
   "metadata": {},
   "outputs": [],
   "source": []
  },
  {
   "cell_type": "code",
   "execution_count": null,
   "metadata": {},
   "outputs": [],
   "source": []
  },
  {
   "cell_type": "code",
   "execution_count": null,
   "metadata": {},
   "outputs": [],
   "source": []
  },
  {
   "cell_type": "code",
   "execution_count": null,
   "metadata": {},
   "outputs": [],
   "source": []
  },
  {
   "cell_type": "code",
   "execution_count": null,
   "metadata": {},
   "outputs": [],
   "source": []
  },
  {
   "cell_type": "code",
   "execution_count": null,
   "metadata": {},
   "outputs": [],
   "source": []
  }
 ],
 "metadata": {
  "jupytext": {
   "formats": "ipynb,Rmd"
  },
  "kernelspec": {
   "display_name": "venv-qubic",
   "language": "python",
   "name": "python3"
  },
  "language_info": {
   "codemirror_mode": {
    "name": "ipython",
    "version": 3
   },
   "file_extension": ".py",
   "mimetype": "text/x-python",
   "name": "python",
   "nbconvert_exporter": "python",
   "pygments_lexer": "ipython3",
   "version": "3.9.18"
  }
 },
 "nbformat": 4,
 "nbformat_minor": 4
}
