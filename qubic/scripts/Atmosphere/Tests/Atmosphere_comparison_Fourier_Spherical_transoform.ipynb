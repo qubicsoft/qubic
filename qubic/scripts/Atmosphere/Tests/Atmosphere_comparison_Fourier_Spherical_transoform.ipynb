{
 "cells": [
  {
   "cell_type": "code",
   "execution_count": null,
   "metadata": {},
   "outputs": [],
   "source": [
    "import numpy as np\n",
    "import healpy as hp\n",
    "import matplotlib.pyplot as plt\n",
    "\n",
    "import pickle\n",
    "\n",
    "from qubic.lib.MapMaking.Qatmosphere_2d import AtmosphereMaps\n",
    " \n",
    "import yaml"
   ]
  },
  {
   "cell_type": "code",
   "execution_count": null,
   "metadata": {},
   "outputs": [],
   "source": [
    "# Import simulation parameters\n",
    "with open('params.yml', 'r') as file:\n",
    "    params = yaml.safe_load(file) \n",
    "    \n",
    "# Call the class which build the atmosphere maps\n",
    "atm = AtmosphereMaps(params)"
   ]
  },
  {
   "cell_type": "code",
   "execution_count": null,
   "metadata": {},
   "outputs": [],
   "source": [
    "kx, ky, knorm = atm.get_fourier_grid_2d(params['n_grid'], params['size_atm'])"
   ]
  },
  {
   "cell_type": "code",
   "execution_count": null,
   "metadata": {},
   "outputs": [],
   "source": [
    "water_vapor_fluctuations_fourier = atm.get_water_vapor_density_2d_map(0, angular=False)\n",
    "water_vapor_fluctuations_sph = atm.get_water_vapor_density_2d_map(0, angular=True)"
   ]
  },
  {
   "cell_type": "code",
   "execution_count": null,
   "metadata": {},
   "outputs": [],
   "source": [
    "plt.imshow(water_vapor_fluctuations_fourier, cmap='jet', extent=[-params['size_atm'], params['size_atm'], -params['size_atm'], params['size_atm']])\n",
    "plt.colorbar()\n",
    "plt.title('Water vapor fluctuations - Fourier')\n",
    "plt.xlabel('x (m)')\n",
    "plt.ylabel('y (m)')"
   ]
  },
  {
   "cell_type": "code",
   "execution_count": null,
   "metadata": {},
   "outputs": [],
   "source": [
    "hp.mollview(water_vapor_fluctuations_sph, cmap='jet', title='Water vapor fluctuations = Spherical Harmonics')"
   ]
  },
  {
   "cell_type": "code",
   "execution_count": null,
   "metadata": {},
   "outputs": [],
   "source": [
    "theta, phi = hp.pix2ang(params['nside'], np.arange(hp.nside2npix(params['nside'])))"
   ]
  },
  {
   "cell_type": "code",
   "execution_count": null,
   "metadata": {},
   "outputs": [],
   "source": [
    "def azel_to_cart(theta, phi, r):\n",
    "    x = r * np.sin(theta) * np.cos(phi)\n",
    "    y = r * np.sin(theta) * np.sin(phi)\n",
    "    z = r * np.cos(theta)\n",
    "    return x, y, z\n",
    "\n",
    "def cart_to_azel(x, y, z):\n",
    "    r = np.sqrt(x**2 + y**2 + z**2)\n",
    "    theta = np.arccos(z/r)\n",
    "    phi = np.arctan2(y, x)\n",
    "    return theta, phi"
   ]
  },
  {
   "cell_type": "code",
   "execution_count": null,
   "metadata": {},
   "outputs": [],
   "source": [
    "atm_altitude = params['altitude_atm_2d']\n",
    "x, y = np.meshgrid(np.linspace(-params['size_atm'], params['size_atm'], params['n_grid']), np.linspace(-params['size_atm'], params['size_atm'], params['n_grid']))\n",
    "\n",
    "theta_fourier, phi_fourier = cart_to_azel(x, y, atm_altitude)"
   ]
  },
  {
   "cell_type": "code",
   "execution_count": null,
   "metadata": {},
   "outputs": [],
   "source": [
    "test_sph = np.zeros(water_vapor_fluctuations_sph.shape[0])\n",
    "test_square = np.zeros(water_vapor_fluctuations_fourier.shape[0])\n",
    "\n",
    "idx = hp.ang2pix(params['nside'], theta_fourier, phi_fourier)\n",
    "\n",
    "test_sph[idx.ravel()] = water_vapor_fluctuations_sph[idx.ravel()]\n",
    "test_square = np.reshape(water_vapor_fluctuations_sph[idx.ravel()], water_vapor_fluctuations_fourier.shape)"
   ]
  },
  {
   "cell_type": "code",
   "execution_count": null,
   "metadata": {},
   "outputs": [],
   "source": [
    "hp.gnomview(test_sph, cmap='jet', rot=(90,90,0),reso=20,min=np.min(water_vapor_fluctuations_sph), max=np.max(water_vapor_fluctuations_sph), title='Patch with same size than 2d square atm')\n",
    "\n",
    "plt.figure()\n",
    "plt.imshow(test_square, cmap='jet', extent=[-params['size_atm'], params['size_atm'], -params['size_atm'], params['size_atm']])\n",
    "plt.colorbar()"
   ]
  },
  {
   "cell_type": "code",
   "execution_count": null,
   "metadata": {},
   "outputs": [],
   "source": [
    "fft_fourier = np.fft.fft2(water_vapor_fluctuations_fourier)\n",
    "fft_sph = np.fft.fft2(test_square)\n",
    "\n",
    "power_spectrum_fourier = np.abs(fft_fourier)**2\n",
    "power_spectrum_sph = np.abs(fft_sph)**2\n",
    "\n",
    "power_spectrum_flat_fourier = power_spectrum_fourier[0]\n",
    "power_spectrum_flat_sph = power_spectrum_sph[0]\n",
    "\n",
    "# Compute the logarithm of the power spectrum\n",
    "log_power_spectrum_fourier = np.log(power_spectrum_flat_fourier)\n",
    "log_power_spectrum_sph = np.log(power_spectrum_flat_sph)\n",
    "\n",
    "# Plot the power spectrum and the fit\n",
    "plt.figure(figsize=(8, 6))\n",
    "plt.plot((knorm[0]), log_power_spectrum_fourier, label='Fourier', alpha=0.7)\n",
    "plt.plot((knorm[0]), log_power_spectrum_sph, label='Spherical', alpha=0.7)\n",
    "plt.ylabel('Log(P(k))')\n",
    "plt.xlabel('Log(k)')\n",
    "plt.title('Power Spectrum of the water vapor distribution')\n",
    "plt.legend()\n",
    "plt.grid(True)\n",
    "plt.xscale('log')\n",
    "plt.show()"
   ]
  },
  {
   "cell_type": "code",
   "execution_count": null,
   "metadata": {},
   "outputs": [],
   "source": [
    "from qubic.lib.Calibration.Qfiber import profile\n",
    "nbins = 1000"
   ]
  },
  {
   "cell_type": "code",
   "execution_count": null,
   "metadata": {},
   "outputs": [],
   "source": [
    "fft_fourier = np.fft.fft2(water_vapor_fluctuations_fourier)\n",
    "fft_sph = np.fft.fft2(test_square)\n",
    "\n",
    "power_spectrum_fourier = np.abs(fft_fourier)**2\n",
    "power_spectrum_sph = np.abs(fft_sph)**2\n",
    "\n",
    "power_spectrum_flat_fourier = power_spectrum_fourier.ravel()\n",
    "power_spectrum_flat_sph = power_spectrum_sph.ravel()\n",
    "\n",
    "# Compute the logarithm of the power spectrum\n",
    "log_power_spectrum_fourier = np.log(power_spectrum_flat_fourier)\n",
    "log_power_spectrum_sph = np.log(power_spectrum_flat_sph)\n",
    "\n",
    "xx_fourier, yy_fourier, dx_fourier, dy_fourier, others_fourier = profile(np.log(knorm.ravel()), log_power_spectrum_fourier, nbins=nbins)\n",
    "xx_sph, yy_sph, dx_sph, dy_sph, others_sph = profile(np.log(knorm.ravel()), log_power_spectrum_sph, nbins=nbins)"
   ]
  },
  {
   "cell_type": "code",
   "execution_count": null,
   "metadata": {},
   "outputs": [],
   "source": [
    "# Plot the power spectrum and the fit\n",
    "plt.figure(figsize=(8, 6))\n",
    "plt.plot(xx_fourier, yy_fourier, label='Fourier', alpha=0.7)\n",
    "plt.plot(xx_sph, yy_sph, label='Spherical', alpha=0.7)\n",
    "plt.ylabel('Log(P(k))')\n",
    "plt.xlabel('Log(k)')\n",
    "plt.title('Power Spectrum of the water vapor distribution')\n",
    "plt.legend()\n",
    "plt.grid(True)\n",
    "plt.show()"
   ]
  },
  {
   "cell_type": "code",
   "execution_count": null,
   "metadata": {},
   "outputs": [],
   "source": [
    "xc_fourier, yval_fourier, dx_fourier, dy_fourier, others_fourier = profile(knorm.ravel(), power_spectrum_fourier.ravel(), nbins=nbins)\n",
    "xc_sph, yval_sph, dx_sph, dy_sph, others_sph = profile(knorm.ravel(), power_spectrum_sph.ravel(), nbins=nbins)\n",
    "\n",
    "# kolmogorov = atm.normalized_kolmogorov_spectrum_2d(knorm, params['correlation_length'])\n",
    "# xc_kolmogorov, yval_kolmogorov, dx_kolmogorov, dy_kolmogorov, others_kolmogorov = profile(knorm.ravel(), kolmogorov.ravel(), nbins=nbins)"
   ]
  },
  {
   "cell_type": "code",
   "execution_count": null,
   "metadata": {},
   "outputs": [],
   "source": [
    "from scipy.stats import linregress\n",
    "res_fourier = linregress(np.log(xc_fourier), np.log(yval_fourier))\n",
    "res_sph = linregress(np.log(xc_sph), np.log(yval_sph))\n",
    "#res_kolmogorov = linregress(np.log(xc_kolmogorov), np.log(yval_kolmogorov))\n",
    "\n",
    "slope_fourier, intercept_fourier = res_fourier.slope, res_fourier.intercept\n",
    "slope_sph, intercept_sph = res_sph.slope, res_sph.intercept\n",
    "#slope_kolmogorov, intercept_kolmogorov = res_kolmogorov.slope, res_kolmogorov.intercept"
   ]
  },
  {
   "cell_type": "code",
   "execution_count": null,
   "metadata": {},
   "outputs": [],
   "source": [
    "print('-8/3', -8/3)\n",
    "print('Fourier', slope_fourier)\n",
    "print('Spherical', slope_sph)\n",
    "#print('Kolmogorov', slope_kolmogorov)"
   ]
  },
  {
   "cell_type": "code",
   "execution_count": null,
   "metadata": {},
   "outputs": [],
   "source": [
    "plt.plot(xc_fourier, yval_fourier, label=f'Fourier - Slope = {slope_fourier:.2f}')\n",
    "plt.plot(xc_sph, yval_sph, label=f'Spherical - Slope = {slope_sph:.2f}')\n",
    "# plt.plot(xc_kolmogorov, yval_kolmogorov, label=f'Kolmogorov - Slope = {slope_kolmogorov:.2f}')\n",
    "plt.legend()\n",
    "plt.title('Comparison between fluctuations from Fourier and Spherical Harmonics transforms')\n",
    "plt.xlabel('Log(k)')\n",
    "plt.ylabel('Log(P(k))')\n",
    "plt.xscale('log')\n",
    "plt.yscale('log')"
   ]
  },
  {
   "cell_type": "code",
   "execution_count": null,
   "metadata": {},
   "outputs": [],
   "source": []
  },
  {
   "cell_type": "code",
   "execution_count": null,
   "metadata": {},
   "outputs": [],
   "source": []
  },
  {
   "cell_type": "code",
   "execution_count": null,
   "metadata": {},
   "outputs": [],
   "source": []
  },
  {
   "cell_type": "code",
   "execution_count": null,
   "metadata": {},
   "outputs": [],
   "source": []
  },
  {
   "cell_type": "code",
   "execution_count": null,
   "metadata": {},
   "outputs": [],
   "source": []
  },
  {
   "cell_type": "code",
   "execution_count": null,
   "metadata": {},
   "outputs": [],
   "source": []
  },
  {
   "cell_type": "code",
   "execution_count": null,
   "metadata": {},
   "outputs": [],
   "source": []
  },
  {
   "cell_type": "code",
   "execution_count": null,
   "metadata": {},
   "outputs": [],
   "source": []
  },
  {
   "cell_type": "code",
   "execution_count": null,
   "metadata": {},
   "outputs": [],
   "source": []
  }
 ],
 "metadata": {
  "jupytext": {
   "cell_metadata_filter": "-all",
   "formats": "ipynb,Rmd",
   "notebook_metadata_filter": "-all"
  },
  "kernelspec": {
   "display_name": "venv-qubic",
   "language": "python",
   "name": "python3"
  },
  "language_info": {
   "codemirror_mode": {
    "name": "ipython",
    "version": 3
   },
   "file_extension": ".py",
   "mimetype": "text/x-python",
   "name": "python",
   "nbconvert_exporter": "python",
   "pygments_lexer": "ipython3",
   "version": "3.9.18"
  }
 },
 "nbformat": 4,
 "nbformat_minor": 4
}
