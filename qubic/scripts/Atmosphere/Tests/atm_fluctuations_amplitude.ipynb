{
 "cells": [
  {
   "cell_type": "code",
   "execution_count": null,
   "id": "fdea0d47",
   "metadata": {},
   "outputs": [],
   "source": [
    "import yaml\n",
    "\n",
    "import numpy as np\n",
    "import matplotlib.pyplot as plt\n",
    "\n",
    "from qubic.lib.MapMaking.Qatmosphere_2d import AtmosphereMaps"
   ]
  },
  {
   "cell_type": "code",
   "execution_count": null,
   "id": "dfcbd11e",
   "metadata": {},
   "outputs": [],
   "source": [
    "# Atmosphere parameters\n",
    "atm_size = 1e4  # Atmospheric size (meters)\n",
    "npoints = 1000  # Number of points in each direction\n",
    "\n",
    "Lx = atm_size  # Atmosphere size in x-direction (meters)\n",
    "Ly = atm_size  # Atmosphere size in y-direction (meters)\n",
    "Nx = npoints  # Grid points in x-direction\n",
    "Ny = npoints  # Grid points in y-direction\n",
    "\n",
    "# Turbulence parameters\n",
    "r0 = 1000  # Maximal turbulence size (meters) - Typical values for Atacama desert are on the order of several hundred meters from Morris(2020) and Errard (2015)\n",
    "k_r0 = 2 * np.pi / r0  # Wavenumber corresponding to r0"
   ]
  },
  {
   "cell_type": "markdown",
   "id": "052b193a",
   "metadata": {},
   "source": [
    "# How to compute water vapor density variance from PWV\n",
    "\n",
    "## Definitions\n",
    "\n",
    "**Precipitable Water Vapor (PWV)** is defined as the total water vapor in the atmosphere expressed in millimeters (mm). It represents the equivalent depth of liquid water if all the water vapor were condensed.\n",
    "\n",
    "**Water Vapor Density** ($\\rho_{wv}$) is the mass of water vapor per unit volume, typically expressed in $\\text{g/m}^3$.\n",
    "\n",
    "The relationship between PWV and water vapor density is given by:\n",
    "$\n",
    "\\text{PWV} = \\int_0^H \\rho_{wv}(z)\\,dz,\n",
    "$\n",
    "where:\n",
    "- $H$ is the height of the atmospheric column,\n",
    "- $\\rho_{wv}(z)$ is the water vapor density as a function of altitude $z$.\n",
    "\n",
    "## Assumptions\n",
    "\n",
    "1. **Uniform Water Vapor Density:**  \n",
    "   It is assumed that\n",
    "   $\n",
    "   \\rho_{wv}(z) \\approx \\rho_{wv}\n",
    "   $\n",
    "   (i.e., the density is constant throughout the column).\n",
    "\n",
    "2. **Atmospheric Height:**  \n",
    "   The effective height of the water vapor layer is approximated as:\n",
    "   $\n",
    "   H \\approx 2000\\,\\text{m}.\n",
    "   $\n",
    "\n",
    "## Relation Between PWV and Density\n",
    "\n",
    "If $\\rho_{wv}$ is uniform, then:\n",
    "$\n",
    "\\text{PWV} = \\rho_{wv} \\cdot H.\n",
    "$\n",
    "Thus, the water vapor density can be expressed as:\n",
    "$\n",
    "\\rho_{wv} = \\frac{\\text{PWV}}{H}.\n",
    "$\n",
    "\n",
    "For example, for $\\text{PWV} = 1\\,\\text{mm} = 1\\times10^{-3}\\,\\text{m}$ and $H = 2000\\,\\text{m}$:\n",
    "$\n",
    "\\rho_{wv} = \\frac{1\\times10^{-3}}{2000} = 5\\times10^{-7}\\,\\text{m}^{-1}.\n",
    "$\n",
    "Converting this to $\\text{g/m}^3$ (by multiplying by $10^6$):\n",
    "$\n",
    "\\rho_{wv} = 0.5\\,\\text{g/m}^3.\n",
    "$\n",
    "\n",
    "## Variance of Water Vapor Density\n",
    "\n",
    "If $\\sigma^2_{\\text{PWV}}$ is the variance of PWV, then the variance of the water vapor density is given by:\n",
    "$\n",
    "\\sigma^2_{\\rho_{wv}} = \\frac{\\sigma^2_{\\text{PWV}}}{H^2}.\n",
    "$\n",
    "\n",
    "Assuming:\n",
    "$\n",
    "\\sigma^2_{\\text{PWV}} = (1\\,\\text{mm})^2 = (1\\times10^{-3}\\,\\text{m})^2 = 1\\times10^{-6}\\,\\text{m}^2,\n",
    "$\n",
    "with $H = 2000\\,\\text{m}$, we have:\n",
    "$\n",
    "\\sigma^2_{\\rho_{wv}} = \\frac{1\\times10^{-6}}{(2000)^2} = \\frac{1\\times10^{-6}}{4\\times10^6} = 2.5\\times10^{-13}\\,\\text{m}^{-2}.\n",
    "$\n",
    "\n",
    "Multiplying by $(10^6)^2$ to convert to $\\text{g}^2/\\text{m}^6$:\n",
    "$\n",
    "\\sigma^2_{\\rho_{wv}} = 0.25\\,\\text{g}^2/\\text{m}^6.\n",
    "$\n",
    "\n",
    "## Summary\n",
    "\n",
    "- **Mean Water Vapor Density:**\n",
    "  $\n",
    "  \\rho_{wv} = 0.5\\,\\text{g/m}^3.\n",
    "  $\n",
    "\n",
    "- **Variance of Water Vapor Density:**\n",
    "  $\n",
    "  \\sigma^2_{\\rho_{wv}} = 0.25\\,\\text{g}^2/\\text{m}^6.\n",
    "  $\n"
   ]
  },
  {
   "cell_type": "code",
   "execution_count": null,
   "id": "5c48500d",
   "metadata": {},
   "outputs": [],
   "source": [
    "sigma_wv = 0.25  # Variance of the water vapor density (g²/m⁶)"
   ]
  },
  {
   "cell_type": "code",
   "execution_count": null,
   "id": "a2a533ed",
   "metadata": {},
   "outputs": [],
   "source": [
    "dx = Lx / Nx\n",
    "dy = Ly / Ny\n",
    "\n",
    "# Wavenumbers (radians per meter)\n",
    "kx = 2 * np.pi * np.fft.fftfreq(Nx, dx)\n",
    "ky = 2 * np.pi * np.fft.fftfreq(Ny, dy)\n",
    "\n",
    "kx_2d, ky_2d = np.meshgrid(kx, ky, indexing=\"ij\")\n",
    "k_magnitude = np.sqrt(kx_2d**2 + ky_2d**2)"
   ]
  },
  {
   "cell_type": "code",
   "execution_count": null,
   "id": "5622eef1",
   "metadata": {},
   "outputs": [],
   "source": [
    "def kolmogorov_spectrum(k_magnitude, k_r0, sigma_wv):\n",
    "    # Compute normalization constant C\n",
    "    sum_kk = np.sum((k_r0**2 + k_magnitude**2) ** (-8 / 6))\n",
    "    C = (sigma_wv * Lx * Ly) / sum_kk\n",
    "\n",
    "    # Initialize power spectrum\n",
    "    P = np.zeros_like(k_magnitude)\n",
    "    P = C * (k_r0**2 + k_magnitude**2) ** (-8 / 6)\n",
    "\n",
    "    return P\n",
    "\n",
    "\n",
    "P = kolmogorov_spectrum(k_magnitude, k_r0, sigma_wv)"
   ]
  },
  {
   "cell_type": "code",
   "execution_count": null,
   "id": "ea2b887f",
   "metadata": {},
   "outputs": [],
   "source": [
    "# Plot the power spectrum in one dimension\n",
    "plt.figure(figsize=(8, 6))\n",
    "plt.plot(\n",
    "    k_magnitude[0],\n",
    "    kolmogorov_spectrum(k_magnitude[0], k_r0, sigma_wv),\n",
    "    label=\"1D Power Spectrum\",\n",
    ")\n",
    "plt.xscale(\"log\")\n",
    "plt.yscale(\"log\")\n",
    "plt.xlabel(\"Wavenumber\")\n",
    "plt.ylabel(\"Power Spectrum\")\n",
    "plt.title(\"Kolmogorov Power Spectrum\")\n",
    "plt.grid()\n",
    "plt.legend()\n",
    "plt.show()"
   ]
  },
  {
   "cell_type": "code",
   "execution_count": null,
   "id": "414d07d9",
   "metadata": {},
   "outputs": [],
   "source": [
    "# Generate random Fourier coefficients with Hermitian symmetry\n",
    "np.random.seed(0)  # For reproducibility\n",
    "noise_real = np.random.normal(0, 1, (Nx, Ny))\n",
    "noise_imag = np.random.normal(0, 1, (Nx, Ny))\n",
    "noise = noise_real + 1j * noise_imag\n",
    "\n",
    "# Scale by sqrt(P) and handle symmetry\n",
    "F = noise * np.sqrt(P)\n",
    "F_symmetric = np.fft.fft2(np.fft.ifft2(F).real)  # Ensures real field"
   ]
  },
  {
   "cell_type": "code",
   "execution_count": null,
   "id": "6aefa80a",
   "metadata": {},
   "outputs": [],
   "source": [
    "# Perform inverse FFT\n",
    "rho = np.fft.ifft2(F_symmetric).real\n",
    "\n",
    "# Normalize to ensure correct variance\n",
    "current_var = np.var(rho)\n",
    "rho *= np.sqrt(sigma_wv / current_var)"
   ]
  },
  {
   "cell_type": "code",
   "execution_count": null,
   "id": "4bb37069",
   "metadata": {},
   "outputs": [],
   "source": [
    "plt.imshow(rho, extent=[0, Lx / 1e3, 0, Ly / 1e3], cmap=\"jet\")\n",
    "plt.colorbar(label=\"Water Vapor Density (g/m^3)\")\n",
    "plt.xlabel(\"x (km)\")\n",
    "plt.ylabel(\"y (km)\")\n",
    "plt.title(\"2D Atmospheric Water Vapor Density Fluctuations\")\n",
    "plt.show()"
   ]
  },
  {
   "cell_type": "markdown",
   "id": "e0f37460",
   "metadata": {},
   "source": [
    "# Build Atmosphere class"
   ]
  },
  {
   "cell_type": "code",
   "execution_count": null,
   "id": "381bfdfa",
   "metadata": {},
   "outputs": [],
   "source": [
    "params = yaml.safe_load(open(\"params.yml\", \"r\"))\n",
    "atm = AtmosphereMaps(params)"
   ]
  },
  {
   "cell_type": "markdown",
   "id": "3f9d5b6c",
   "metadata": {},
   "source": [
    "# Build atm map"
   ]
  },
  {
   "cell_type": "code",
   "execution_count": null,
   "id": "041d0db9",
   "metadata": {},
   "outputs": [],
   "source": [
    "temp = atm.get_temp_maps(rho)"
   ]
  },
  {
   "cell_type": "code",
   "execution_count": null,
   "id": "c6917965",
   "metadata": {},
   "outputs": [],
   "source": [
    "plt.imshow(temp[0], extent=[0, Lx / 1e3, 0, Ly / 1e3], cmap=\"jet\")\n",
    "plt.colorbar(label=\"Temperature (µK)\")\n",
    "plt.xlabel(\"x (km)\")\n",
    "plt.ylabel(\"y (km)\")\n",
    "plt.title(\"2D Atmospheric Temperature Fluctuations\")\n",
    "plt.show()"
   ]
  },
  {
   "cell_type": "code",
   "execution_count": null,
   "id": "3eae658b",
   "metadata": {},
   "outputs": [],
   "source": []
  },
  {
   "cell_type": "code",
   "execution_count": null,
   "id": "20a4ccb5",
   "metadata": {},
   "outputs": [],
   "source": []
  }
 ],
 "metadata": {
  "kernelspec": {
   "display_name": "venv-qubic",
   "language": "python",
   "name": "python3"
  },
  "language_info": {
   "codemirror_mode": {
    "name": "ipython",
    "version": 3
   },
   "file_extension": ".py",
   "mimetype": "text/x-python",
   "name": "python",
   "nbconvert_exporter": "python",
   "pygments_lexer": "ipython3",
   "version": "3.9.18"
  }
 },
 "nbformat": 4,
 "nbformat_minor": 5
}
