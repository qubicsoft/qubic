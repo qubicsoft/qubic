{
 "cells": [
  {
   "cell_type": "code",
   "execution_count": null,
   "id": "0a0e605e",
   "metadata": {},
   "outputs": [],
   "source": [
    "import numpy as np\n",
    "import astropy.units as u\n",
    "import matplotlib.pyplot as plt\n",
    "from astropy.coordinates import SkyCoord, EarthLocation, AltAz\n",
    "from astropy.time import Time"
   ]
  },
  {
   "cell_type": "code",
   "execution_count": null,
   "id": "4c69cf53",
   "metadata": {},
   "outputs": [],
   "source": [
    "qubic_position = EarthLocation(lat=-24.70*u.deg, lon=-66.68*u.deg, height=5000*u.m)\n",
    "patch_center = SkyCoord(ra=0*u.deg, dec=-57*u.deg, frame='icrs')"
   ]
  },
  {
   "cell_type": "code",
   "execution_count": null,
   "id": "f0440ec3",
   "metadata": {},
   "outputs": [],
   "source": [
    "### Observation period\n",
    "observing_time = Time('2023-10-01 22:57:00.000') \n",
    "\n",
    "delta_t = 1*u.minute\n",
    "\n",
    "time = observing_time + np.arange(0, 24*60, delta_t.to(u.minute).value) * delta_t"
   ]
  },
  {
   "cell_type": "code",
   "execution_count": null,
   "id": "76a5c56e",
   "metadata": {},
   "outputs": [],
   "source": [
    "### Coordinates change\n",
    "altaz_frame = AltAz(obstime=time, location=qubic_position)\n",
    "patch_altaz = patch_center.transform_to(altaz_frame)"
   ]
  },
  {
   "cell_type": "code",
   "execution_count": null,
   "id": "785391bc",
   "metadata": {},
   "outputs": [],
   "source": [
    "plt.plot(patch_altaz.alt)"
   ]
  },
  {
   "cell_type": "code",
   "execution_count": null,
   "id": "587a0123",
   "metadata": {},
   "outputs": [],
   "source": [
    "index_not_visible = np.where(patch_altaz.alt < 30*u.deg)[0]\n",
    "\n",
    "time_not_visible = time[index_not_visible[0]]"
   ]
  },
  {
   "cell_type": "code",
   "execution_count": null,
   "id": "9e5a6fb1",
   "metadata": {},
   "outputs": [],
   "source": [
    "print(f'The patch is not visible at {time_not_visible.iso} UTC')\n",
    "print(f'The patch is visible from {observing_time.iso} to {time_not_visible.iso} UTC')"
   ]
  },
  {
   "cell_type": "code",
   "execution_count": null,
   "id": "2a50a64b",
   "metadata": {},
   "outputs": [],
   "source": [
    "npointings = 10000\n",
    "\n",
    "time_step = (time_not_visible - observing_time) / npointings\n",
    "print(f'Time step: {time_step.to(u.second).value} seconds')"
   ]
  },
  {
   "cell_type": "code",
   "execution_count": null,
   "id": "d625f377",
   "metadata": {},
   "outputs": [],
   "source": []
  }
 ],
 "metadata": {
  "kernelspec": {
   "display_name": "venv-qubic",
   "language": "python",
   "name": "python3"
  },
  "language_info": {
   "codemirror_mode": {
    "name": "ipython",
    "version": 3
   },
   "file_extension": ".py",
   "mimetype": "text/x-python",
   "name": "python",
   "nbconvert_exporter": "python",
   "pygments_lexer": "ipython3",
   "version": "3.9.18"
  }
 },
 "nbformat": 4,
 "nbformat_minor": 5
}
