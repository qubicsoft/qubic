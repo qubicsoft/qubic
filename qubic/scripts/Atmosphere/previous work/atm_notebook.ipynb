{
 "cells": [
  {
   "cell_type": "markdown",
   "id": "1a5f74af-36ef-4a79-b8d1-82a19214670f",
   "metadata": {},
   "source": [
    "# Packages"
   ]
  },
  {
   "cell_type": "code",
   "execution_count": null,
   "id": "8744a83a-9fae-474e-a235-15ea227dbbb3",
   "metadata": {},
   "outputs": [],
   "source": [
    "import os\n",
    "import os.path as op\n",
    "import sys\n",
    " \n",
    "import numpy as np\n",
    "import matplotlib.animation\n",
    "import matplotlib.pyplot as plt\n",
    "from IPython.display import HTML, display\n",
    "import scipy\n",
    "import scipy.ndimage\n",
    "from scipy.stats import linregress\n",
    "import healpy as hp\n",
    "import jdcal as jdcal\n",
    "import random                                                                                               \n",
    "import time\n",
    "\n",
    "from multiprocessing import Pool\n",
    "from getdist import plots, MCSamples\n",
    "import getdist\n",
    "import time\n",
    "\n",
    "from qubic import fibtools as ft\n",
    "\n",
    "%matplotlib inline"
   ]
  },
  {
   "cell_type": "markdown",
   "id": "d626ed35-a892-46f2-9364-4a99a1e9fb99",
   "metadata": {},
   "source": [
    "# Useful functions"
   ]
  },
  {
   "cell_type": "code",
   "execution_count": null,
   "id": "cbf9e6a0-6f25-42ca-922b-fe3ed5ed0e35",
   "metadata": {},
   "outputs": [],
   "source": [
    "def corr_function(r, r0):\n",
    "    if r==0:\n",
    "        return 1\n",
    "    return 2**(2/3) * (r/r0)**(1/3) * scipy.special.kv(1/3, r/r0) / scipy.special.gamma(1/3)"
   ]
  },
  {
   "cell_type": "code",
   "execution_count": null,
   "id": "df0eb83d-4b6d-4b7e-822f-2bbd5f29b971",
   "metadata": {},
   "outputs": [],
   "source": [
    "def f_to_k(f):\n",
    "    return 2*scipy.constants.pi*f / scipy.constants.c"
   ]
  },
  {
   "cell_type": "code",
   "execution_count": null,
   "id": "ac50e608-3a79-4c64-bb88-f9a3adea761f",
   "metadata": {},
   "outputs": [],
   "source": [
    "def water_vapor_density(z, rho_0, h0):\n",
    "    return rho_0 * np.exp(-np.log(2) * (z - 5190) / h0)"
   ]
  },
  {
   "cell_type": "markdown",
   "id": "aa7e7fae-16bd-4689-9990-dde60b2b0d91",
   "metadata": {},
   "source": [
    "# Simulation Parameters"
   ]
  },
  {
   "cell_type": "code",
   "execution_count": null,
   "id": "778f15bc-0d0e-4de7-8786-3abc4a6d33cf",
   "metadata": {},
   "outputs": [],
   "source": [
    "# Parameters\n",
    "N = 200                   # Grid size\n",
    "maximum_length = 300 # Correlation length for water vapor density (m)\n",
    "h = 4869                  # Height for QUBIC + 1km (m)\n",
    "h0 = 983                  # Reference height (m)\n",
    "rho_0 = 0.55              # Median density of water vapor at h0 (g/m3)\n",
    "L = 5000                  # Atm size (m)\n",
    "Lz = 1000                 # Atm depth (m)\n",
    "L_QUBIC = h * np.sin(np.radians(15))    \n",
    "\n",
    "# Calculate water vapor density\n",
    "water_vapor_0 = water_vapor_density(h, rho_0, h0)\n",
    "\n",
    "# Generate meshgrid\n",
    "x = np.linspace(-L, L, N)\n",
    "y = np.linspace(-L, L, N)\n",
    "X, Y = np.meshgrid(x, y)\n",
    "\n",
    "dx, dy = int(2 * L / N), int(2 * L / N)\n"
   ]
  },
  {
   "cell_type": "markdown",
   "id": "373f326f-6a1e-4667-bdea-1fe4448079a4",
   "metadata": {
    "jp-MarkdownHeadingCollapsed": true
   },
   "source": [
    "# Correlation matrix"
   ]
  },
  {
   "cell_type": "code",
   "execution_count": null,
   "id": "959e9fa4-02be-47e1-9123-36d20394ad25",
   "metadata": {},
   "outputs": [],
   "source": [
    "# Calculate distance from detector\n",
    "R = np.sqrt((X)**2 + (Y)**2 + h**2)\n",
    "\n",
    "# Calculate correlation function\n",
    "corr = np.zeros((len(R), len(R)))\n",
    "for i in range(len(R)):\n",
    "    for j in range(len(R)):\n",
    "        corr[i][j] = corr_function(R[i][j], maximum_length)\n",
    "\n",
    "# Plot correlation matrix around a central point\n",
    "plt.figure(figsize=(12, 6))\n",
    "plt.imshow(corr, extent=[-L, L, -L, L], origin='lower')\n",
    "plt.colorbar()\n",
    "plt.xlabel('m')\n",
    "plt.ylabel('m')\n",
    "plt.title('Correlation Matrix')\n",
    "plt.show()"
   ]
  },
  {
   "cell_type": "code",
   "execution_count": null,
   "id": "11b407eb-c256-4945-b024-d7b628867bf7",
   "metadata": {},
   "outputs": [],
   "source": [
    "# Calculate distances between all points on the grid\n",
    "distances = np.sqrt((X-X.T)**2 + (Y-Y.T)**2)\n",
    "\n",
    "# Calculate correlation function\n",
    "correlation_matrix = np.zeros((len(R), len(R)))\n",
    "for i in range(len(R)):\n",
    "    for j in range(len(R)):\n",
    "        correlation_matrix[i][j] = corr_function(distances[i][j], maximum_length)\n",
    "\n",
    "# Plot correlation matrix with distances\n",
    "plt.figure(figsize=(12, 6))\n",
    "plt.imshow(correlation_matrix, extent=[-L, L, -L, L], origin='lower')\n",
    "plt.colorbar()\n",
    "plt.xlabel('m')\n",
    "plt.ylabel('m')\n",
    "plt.title('Correlation Matrix')\n",
    "plt.show()"
   ]
  },
  {
   "cell_type": "code",
   "execution_count": null,
   "id": "3daf0444-bfc9-4470-a42f-f58ae2618424",
   "metadata": {},
   "outputs": [],
   "source": [
    "# Trial to simulate a random water vapor distribution using the cholesky decomposition of the correlation matrix\n",
    "# It doesn't work for know, need to think about it\n",
    "\n",
    "#cholesky_decomposition = np.linalg.cholesky(correlation_matrix)\n",
    "#uncorrelated_samples = np.random.randn(N, N)\n",
    "#correlated_samples = water_vapor_0 + np.dot(cholesky_decomposition, uncorrelated_samples)\n",
    "\n",
    "#plt.imshow(correlated_samples, extent=[-L, L, -L, L], cmap='jet')\n",
    "#plt.colorbar(label='Water vapor density')\n",
    "#plt.title('Water Vapor Spatial Fluctuations')\n",
    "#plt.xlabel('X')\n",
    "#plt.ylabel('Y')\n",
    "#plt.show()"
   ]
  },
  {
   "cell_type": "markdown",
   "id": "61cfc1f9-25e1-4ed7-b01a-fe07dc0c5027",
   "metadata": {
    "jp-MarkdownHeadingCollapsed": true
   },
   "source": [
    "# Water vapor density fluctuations"
   ]
  },
  {
   "cell_type": "markdown",
   "id": "825d7c42-68b6-4ec0-9fe7-7c239938d654",
   "metadata": {
    "jp-MarkdownHeadingCollapsed": true
   },
   "source": [
    "## 2D Simulation"
   ]
  },
  {
   "cell_type": "code",
   "execution_count": null,
   "id": "e853fdb0-bfad-4669-a615-59b99fc99e70",
   "metadata": {},
   "outputs": [],
   "source": [
    "# Generate spatial frequency in Fourier space\n",
    "k_distrib = np.fft.fftfreq(N, d=2*L/N) * 2*np.pi\n",
    "kx, ky = np.meshgrid(k_distrib, k_distrib)\n",
    "k_mag = np.sqrt(kx**2 + ky**2)"
   ]
  },
  {
   "cell_type": "code",
   "execution_count": null,
   "id": "4157f1cb-d081-4dcf-8e4e-c96c24a91809",
   "metadata": {},
   "outputs": [],
   "source": [
    "# We will use the Kolomogorov power spectrum to simulate turbulences in atmosphere\n",
    "def kolmogorov_spectra(k):\n",
    "    return (maximum_length**(-2) + np.abs(k)**2)**(-11/6)\n",
    "\n",
    "# We normalize to have the integral of the power spectrum over all k egal to 1\n",
    "def normalized_kolmogorov(k): \n",
    "    res, _ = scipy.integrate.quad(kolmogorov_spectra, np.min(k_mag), np.max(k_mag)) \n",
    "    return kolmogorov_spectra(k)/res\n",
    "\n",
    "print(scipy.integrate.quad(normalized_kolmogorov, np.min(k_mag), np.max(k_mag))[0])"
   ]
  },
  {
   "cell_type": "code",
   "execution_count": null,
   "id": "97271f1d-8c73-4c86-80d9-ba5eedf6ca5a",
   "metadata": {},
   "outputs": [],
   "source": [
    "k = np.sqrt(2*k_distrib**2)\n",
    "kol = np.abs(k)**(-11/3)\n",
    "kol_adj = (50**(-2) + np.abs(k)**2)**(-11/6)"
   ]
  },
  {
   "cell_type": "code",
   "execution_count": null,
   "id": "e16c083a-191e-42e5-a84b-9389882a7bab",
   "metadata": {},
   "outputs": [],
   "source": [
    "plt.plot(k, kol, label = 'Kolmogorov spectra')\n",
    "plt.plot(k, kol_adj, label = 'Adjusted Kolmogorov spectra, r0 = 100 m')\n",
    "plt.xscale('log')\n",
    "plt.yscale('log')\n",
    "plt.xlabel('Spatial Frequency')\n",
    "plt.ylabel('Power spectrum')\n",
    "plt.legend()\n",
    "plt.show()"
   ]
  },
  {
   "cell_type": "code",
   "execution_count": null,
   "id": "9e8b1346-61b5-4812-9d48-52a7e43737cb",
   "metadata": {},
   "outputs": [],
   "source": [
    "# Compute the Kolmogorov power spectrum \n",
    "P_k = normalized_kolmogorov(k_mag)\n",
    "\n",
    "# Generate spatial fluctuations using the spatial power spectrum\n",
    "phi = np.random.uniform(0, 2*np.pi, size=(N, N))\n",
    "delta_rho_k = np.sqrt(P_k) * np.exp(1j * phi) # PS = fluctuations amplitude\n",
    "\n",
    "# Apply inverse Fourier transform to obtain spatial fluctuations\n",
    "delta_rho = np.fft.ifft2(delta_rho_k).real\n",
    "rho = water_vapor_0 + delta_rho - np.mean(delta_rho)\n",
    "\n",
    "# Plot the water vapor density distribution\n",
    "plt.imshow(rho, extent=[-L, L, -L, L], cmap='Blues')\n",
    "#plt.colorbar(label='Water Vapor density (g/m3)')\n",
    "plt.title('Water Vapor distribution')\n",
    "plt.xlabel('X (m)')\n",
    "plt.ylabel('Y (m)')\n",
    "plt.show()"
   ]
  },
  {
   "cell_type": "markdown",
   "id": "94438dae-ed26-4591-b781-83d555fe75cb",
   "metadata": {
    "jp-MarkdownHeadingCollapsed": true
   },
   "source": [
    "## Verification"
   ]
  },
  {
   "cell_type": "code",
   "execution_count": null,
   "id": "514c8730-bb6a-4143-bf9b-2ee86dc9293f",
   "metadata": {},
   "outputs": [],
   "source": [
    "# Compute the 2D FT of the distribution \n",
    "fft_rho = np.fft.fft2(rho)\n",
    "\n",
    "# Compute the power spectrum of the distribution\n",
    "power_spectrum = np.abs(fft_rho)**2\n",
    "\n",
    "# Flatten the power spectrum and spatial frequency arrays\n",
    "power_spectrum_flat = power_spectrum.ravel()\n",
    "k_flat = k_mag.ravel()\n",
    "kolmogorov = kolmogorov_spectra(k_mag).ravel()\n",
    "norm_kolmogorov = normalized_kolmogorov(k_flat)\n",
    "\n",
    "# Remove zero frequency component\n",
    "power_spectrum_flat = power_spectrum_flat[1:]\n",
    "k_flat = k_flat[1:]\n",
    "kolmogorov = kolmogorov[1:]\n",
    "norm_kolmogorov = norm_kolmogorov[1:]\n",
    "\n",
    "# Compute the logarithm of the power spectrum\n",
    "log_power_spectrum = np.log(power_spectrum_flat)\n",
    "\n",
    "# Fit a line to the logarithm of the power spectrum\n",
    "res = linregress(np.log(k_flat), log_power_spectrum)\n",
    "slope, intercept, std_err = res.slope, res.intercept, res.stderr\n",
    "\n",
    "# Create bins for the power spectrum. Allows to understand the fitted line\n",
    "xx, yy, dx, dy, _ = ft.profile(np.log(k_flat), log_power_spectrum, rng=[min(np.log(k_flat)),max(np.log(k_flat))], nbins=30, plot=False)\n",
    "\n",
    "# Plot the power spectrum and the fit\n",
    "plt.figure(figsize=(8, 6))\n",
    "plt.scatter(np.log(k_flat), log_power_spectrum, s=1, color='blue', alpha = 0.5, label='Simulated power spectrum')\n",
    "plt.errorbar(xx, yy, xerr=dx, yerr=dy, fmt='ro', label='Binning of the simulated power spectrum')\n",
    "plt.plot(np.log(k_flat), slope * np.log(k_flat) + intercept, color='red', label=f'Slope: {slope:.2f} ' + \"\\u00B1\" + f' {std_err:.2f}')\n",
    "plt.plot(np.log(k_flat), np.log(kolmogorov) + intercept, label=f'Intercept + k^-11/3 spectra - Slope : -11/3 = {-11/3:.2f}')\n",
    "plt.plot(np.log(k_flat), np.log(norm_kolmogorov), label=f'Normalized Kolmogorov spectra - Slope : -11/3 = {-11/3:.2f}')\n",
    "plt.xlabel('Log(k)')\n",
    "plt.ylabel('Log(P(k))')\n",
    "plt.title('Power Spectrum of the water vapor distribution')\n",
    "plt.legend()\n",
    "plt.grid(True)\n",
    "plt.show()\n",
    "\n",
    "print(f\"Slope of the power spectrum: {slope:.2f}\")"
   ]
  },
  {
   "cell_type": "markdown",
   "id": "115bf31f-8414-4d53-88cb-21ccb3a83994",
   "metadata": {},
   "source": [
    "# Tests for 3D simulation"
   ]
  },
  {
   "cell_type": "markdown",
   "id": "6be11c98-4d97-4a2e-9065-334c0187cd8f",
   "metadata": {
    "jp-MarkdownHeadingCollapsed": true
   },
   "source": [
    "## Naive model"
   ]
  },
  {
   "cell_type": "code",
   "execution_count": null,
   "id": "191e92dd-8404-4388-ad9f-51f059dddd30",
   "metadata": {},
   "outputs": [],
   "source": [
    "# Générer les fréquences spatiales\n",
    "k_distrib = np.fft.fftfreq(N, d=2*L/N) * 2*np.pi\n",
    "kx, ky, kz = np.meshgrid(k_distrib, k_distrib, k_distrib)\n",
    "k_mag_3d = np.sqrt(kx**2 + ky**2 + kz**2)\n",
    "\n",
    "# Calculer le spectre de puissance spatial de Kolmogorov\n",
    "P_k_3d = normalized_kolmogorov(k_mag_3d)\n",
    "\n",
    "# Générer les fluctuations spatiales en utilisant le spectre de puissance spatial\n",
    "phi_3d = np.random.uniform(0, 2*np.pi, size=(N, N, N))\n",
    "delta_rho_k_3d = np.sqrt(P_k_3d) * np.exp(1j * phi_3d) # PS = fluctuations amplitude\n",
    "\n",
    "# Appliquer la transformation de Fourier inverse pour obtenir les fluctuations spatiales\n",
    "delta_rho_3d = np.fft.ifftn(delta_rho_k_3d).real"
   ]
  },
  {
   "cell_type": "code",
   "execution_count": null,
   "id": "e76341f4-e58f-4ddf-b36e-17b7a72d48c7",
   "metadata": {},
   "outputs": [],
   "source": [
    "rho_3d = np.zeros((N, N, N))\n",
    "rho_3d = water_vapor_0 + delta_rho_3d - np.mean(delta_rho_3d)\n",
    "\n",
    "fig = plt.figure(figsize = (10,8))\n",
    "ax = fig.add_subplot(111, projection='3d')\n",
    "z = np.linspace(h, h+Lz, N)\n",
    "dz = int(Lz / N)\n",
    "X, Y, Z = np.meshgrid(x, y, z)\n",
    "\n",
    "scatter = ax.scatter(X, Y, Z, c=rho_3d, cmap='jet')\n",
    "\n",
    "# Set labels\n",
    "ax.set_xlabel('X (m)')\n",
    "ax.set_ylabel('Y (m)')\n",
    "ax.set_zlabel('Z (m)')\n",
    "ax.set_title('3D Water Vapor Distribution')\n",
    "cbar = fig.colorbar(scatter, ax=ax, format = '%.5f', location='left')\n",
    "cbar.set_label('Water Vapor density (g/m3)')\n",
    "plt.show()"
   ]
  },
  {
   "cell_type": "markdown",
   "id": "46a41242-84dc-4897-a3db-bd67dd396a07",
   "metadata": {},
   "source": [
    "## Realistic 3D simulation"
   ]
  },
  {
   "cell_type": "code",
   "execution_count": null,
   "id": "13396cf8-ed0f-4a7d-ae8e-fff900cef9cd",
   "metadata": {},
   "outputs": [],
   "source": [
    "fig = plt.figure()\n",
    "ax = fig.add_subplot(111, projection='3d')\n",
    "\n",
    "water_vapor_real = water_vapor_density(z, rho_0, h0)\n",
    "rho_3d_real = np.zeros((N, N, N))\n",
    "for i in range(N):\n",
    "    rho_3d_real[:, :, i] = water_vapor_real[i] + delta_rho_3d[:, :, i] - np.mean(delta_rho_3d[:,:,i])\n",
    "\n",
    "scatter_real = ax.scatter(X, Y, Z, c=rho_3d_real, cmap='jet')\n",
    "\n",
    "# Set labels\n",
    "ax.set_xlabel('X (m)')\n",
    "ax.set_ylabel('Y (m)')\n",
    "ax.set_zlabel('Z (m)')\n",
    "ax.set_title('Water Vapor Distribution')\n",
    "cbar = fig.colorbar(scatter_real, ax=ax, location = 'left')\n",
    "cbar.set_label('Water Vapor density (g/m3)')\n",
    "plt.show()\n",
    "\n",
    "plt.figure()\n",
    "plt.imshow(rho_3d_real[:, :, 0], extent=[-L, L, -L, L], cmap='jet')\n",
    "plt.title('Lowest level')\n",
    "plt.colorbar(format = '%.5f')\n",
    "plt.show()\n",
    "\n",
    "plt.figure()\n",
    "plt.imshow(rho_3d_real[:, :, int(N/2)], extent=[-L, L, -L, L], cmap='jet')\n",
    "plt.title('Mid level')\n",
    "plt.colorbar(format = '%.5f')\n",
    "plt.show()\n",
    "\n",
    "plt.figure()\n",
    "plt.imshow(rho_3d_real[:, :, -1], extent=[-L, L, -L, L], cmap='jet')\n",
    "plt.title('Highest level')\n",
    "plt.colorbar(format = '%.5f')\n",
    "plt.show()"
   ]
  },
  {
   "cell_type": "markdown",
   "id": "4b3d53aa-8dc5-4944-8906-1618ff3d0d19",
   "metadata": {},
   "source": [
    "# Wind simulation"
   ]
  },
  {
   "cell_type": "markdown",
   "id": "b3de3322-dcfe-4359-8af1-8a332ce7cb3b",
   "metadata": {
    "jp-MarkdownHeadingCollapsed": true
   },
   "source": [
    "## Functions used to simulate wind"
   ]
  },
  {
   "cell_type": "code",
   "execution_count": null,
   "id": "2dac4bca-22ab-4a0a-afcb-e9375b55a44e",
   "metadata": {},
   "outputs": [],
   "source": [
    "# Functions to make a translation of the 2d atmosphere\n",
    "\n",
    "def x_translation(array, dx):\n",
    "    shape = np.shape(array)\n",
    "    copy = np.zeros(shape)\n",
    "    for x in range(shape[0]):\n",
    "        if x+dx >= N:\n",
    "            copy[x + dx - shape[0]] = array[x]\n",
    "        else:\n",
    "            copy[x+dx] = array[x]\n",
    "    return copy\n",
    "def y_translation(array, dy):\n",
    "    shape = np.shape(array)\n",
    "    copy = np.zeros(shape)\n",
    "    for y in range(shape[1]):\n",
    "        if y+dy >= N:\n",
    "            copy[:,y + dy - shape[1]] = array[:,y]\n",
    "        else:\n",
    "            copy[:,y+dy] = array[:,y]\n",
    "    return copy\n",
    "def z_translation(array, dz):\n",
    "    shape = np.shape(array)\n",
    "    copy = np.zeros(shape)\n",
    "    for z in range(shape[2]):\n",
    "        if z+dz >= N:\n",
    "            copy[:,:,z + dz - shape[2]] = array[:,:,z]\n",
    "        else:\n",
    "            copy[:,:,z+dz] = array[:,:,z]\n",
    "    return copy\n",
    "def translation(array, dx, dy):\n",
    "    array = x_translation(array, dx)\n",
    "    return y_translation(array, dy)\n",
    "def translation_3d(array, dx, dy, dz):\n",
    "    array = x_translation(array, dx)\n",
    "    array = y_translation(array, dy)\n",
    "    return z_translation(array, dz)"
   ]
  },
  {
   "cell_type": "markdown",
   "id": "8ab86018-d835-4749-9b94-5e0a872f98c8",
   "metadata": {
    "jp-MarkdownHeadingCollapsed": true
   },
   "source": [
    "## Constant wind"
   ]
  },
  {
   "cell_type": "code",
   "execution_count": null,
   "id": "53ec90d0-0595-47c8-aa96-4f092417191c",
   "metadata": {},
   "outputs": [],
   "source": [
    "# Create figure and axis\n",
    "fig, ax = plt.subplots()\n",
    "im = ax.imshow(rho, extent=[-L, L, -L, L], cmap='jet')\n",
    "fig.colorbar(mappable = im, ax=ax, label='Water Vapor density (g/m3)', format = '%.5f')\n",
    "ax.set_xlabel('X (m)')\n",
    "ax.set_ylabel('Y (m)')\n",
    "ax.set_title('Water vapor distribution with wind')\n",
    "\n",
    "# Animation parameters\n",
    "time = 50\n",
    "dt = 0.1\n",
    "Nt = int(time/dt)\n",
    "dux, duy = 1, 2\n",
    "\n",
    "# Animation function\n",
    "def update(frame):\n",
    "    global rho\n",
    "    if frame > 0:\n",
    "        rho = translation(rho, dux, duy)\n",
    "    im.set_array(rho)\n",
    "    return [im]\n",
    "\n",
    "# Create animation\n",
    "ani = matplotlib.animation.FuncAnimation(fig, update, frames=Nt+1, interval=100, blit=True)\n",
    "\n",
    "def display_animation(anim):\n",
    "    plt.close(anim._fig)\n",
    "    return HTML(anim.to_html5_video())\n",
    "\n",
    "# Display the animation\n",
    "display(display_animation(ani))"
   ]
  },
  {
   "cell_type": "markdown",
   "id": "2bbd7ee1-fa5d-4af9-a5ed-b740eee5dd94",
   "metadata": {
    "jp-MarkdownHeadingCollapsed": true
   },
   "source": [
    "## Alto Chorrillos wind data"
   ]
  },
  {
   "cell_type": "code",
   "execution_count": null,
   "id": "3c471aef-cc2b-40a1-a14d-a1cf9acc1d3e",
   "metadata": {},
   "outputs": [],
   "source": [
    "ts0, rec0, WS_ms_Avg, WS_ms_Std, WS_ms_Max, WS_ms_S_WVT, WindDir_D1_WVT, WindDir_SD1_WVT = np.loadtxt('chorrillo-t1m_cal.csv', usecols = [2,3,4,5,6,7,8,9]).T\n",
    "### ts0 is in seconds sampled every minute\n",
    "\n",
    "### Conversion in Julian days\n",
    "init = np.sum(jdcal.gcal2jd(1970,1,1))\n",
    "jd0 = ts0/3600/24\n",
    "jdcal.jd2gcal(init, jd0[0])\n",
    "jdcal.jd2gcal(init, jd0[-1])\n",
    "jdstartyear = np.sum(jdcal.gcal2jd(2011,1,1))\n",
    "jdsince0 = init + ts0/3600/24 - jdstartyear\n",
    "\n",
    "plt.plot(jdsince0, WS_ms_Max, 'r.', label='Max speed within 1 minute')\n",
    "plt.plot(jdsince0, WS_ms_Avg, label='Average speed within 1 minute')\n",
    "plt.plot(jdsince0, WS_ms_Std, label='RMS speed within 1 minute')\n",
    "plt.xlabel('JD since 2011')\n",
    "plt.ylabel('Wind Speed $[m/s]$')\n",
    "plt.legend()\n",
    "    \n",
    "def statstr(vec):\n",
    "    m=np.mean(vec)\n",
    "    s=np.std(vec)\n",
    "    return '{0:.4f} +/- {1:.4f}'.format(m,s)\n",
    "\n",
    "def statstr2(thedata, percentiles=[0.25, 0.5, 0.75]):\n",
    "    sd = np.sort(thedata)\n",
    "    truc = ''\n",
    "    vals = []\n",
    "    for perc in percentiles:\n",
    "        vals.append(sd[(int)(perc*len(sd))])\n",
    "        truc = truc + '{0:.1f} ({1:.0f}%) - '.format(sd[(int)(perc*len(sd))], perc*100)\n",
    "    return truc[0:-3], vals"
   ]
  },
  {
   "cell_type": "code",
   "execution_count": null,
   "id": "6a061058-c736-4ce5-acdf-fdcb7b1be6ce",
   "metadata": {},
   "outputs": [],
   "source": [
    "print(1100*24*60, len(WS_ms_Avg))"
   ]
  },
  {
   "cell_type": "markdown",
   "id": "e2199721-91ec-43ac-8136-78611c7d562e",
   "metadata": {
    "jp-MarkdownHeadingCollapsed": true
   },
   "source": [
    "## Average, RMS & max velocities histograms"
   ]
  },
  {
   "cell_type": "code",
   "execution_count": null,
   "id": "4d2e002d-b792-429f-bf21-c308c15b62db",
   "metadata": {},
   "outputs": [],
   "source": [
    "plt.figure(figsize=(15, 6))\n",
    "\n",
    "# Average wind speed plot\n",
    "plt.subplot(1, 3, 1)\n",
    "wind_speed_avg = plt.hist(WS_ms_Avg, range=[0, np.max(WS_ms_Avg)], bins=300, cumulative=True, density=True, alpha=0, stacked=True)\n",
    "hist_wind_speed_avg = plt.hist(WS_ms_Avg, range=[0,np.max(WS_ms_Avg)], bins=30, density=True, stacked=True, color='red')\n",
    "plt.plot(wind_speed_avg[1][0:-1], wind_speed_avg[0]*np.max(hist_wind_speed_avg[0]),'k', lw=3, label = statstr2(WS_ms_Avg)[0])\n",
    "plt.legend()\n",
    "plt.xlim(0,np.max(WS_ms_Avg))\n",
    "plt.grid()\n",
    "plt.xlabel('Wind Speed [m/s]')\n",
    "plt.title('Average over 1 minute')\n",
    "plt.ylim(0,np.max(hist_wind_speed_avg[0])*1.1)\n",
    "\n",
    "# RMS wind speed plot\n",
    "plt.subplot(1,3,2)\n",
    "wind_speed_rms=plt.hist(WS_ms_Std, range=[0,np.max(WS_ms_Std)], bins=300, cumulative=True,density=True, alpha=0., stacked=True)\n",
    "hist_wind_speed_rms = plt.hist(WS_ms_Std, range=[0,np.max(WS_ms_Std)], bins=30, density=True, stacked=True, color='red')\n",
    "plt.plot(wind_speed_rms[1][0:-1], wind_speed_rms[0]*np.max(hist_wind_speed_rms[0]),'k', lw=3, label = statstr2(WS_ms_Std)[0])\n",
    "plt.legend()\n",
    "plt.xlim(0,np.max(WS_ms_Std))\n",
    "plt.grid()\n",
    "plt.xlabel('Wind Speed [m/s]')\n",
    "plt.title('RMS over 1 minute')\n",
    "plt.ylim(0,np.max(hist_wind_speed_rms[0])*1.1)\n",
    "\n",
    "# Max wind speed plot\n",
    "plt.subplot(1,3,3)\n",
    "wind_speed_max=plt.hist(WS_ms_Max, range=[0,np.max(WS_ms_Max)], bins=300, cumulative=True,density=True, alpha=0., stacked=True)\n",
    "hist_wind_speed_max = plt.hist(WS_ms_Max, range=[0,np.max(WS_ms_Max)], bins=30, density=True, stacked=True, color='red')\n",
    "plt.plot(wind_speed_max[1][0:-1], wind_speed_max[0]*np.max(hist_wind_speed_max[0]),'k', lw=3, label = statstr2(WS_ms_Max)[0])\n",
    "plt.legend()\n",
    "plt.xlim(0,np.max(WS_ms_Max))\n",
    "plt.grid()\n",
    "plt.xlabel('Wind Speed [m/s]')\n",
    "plt.title('Max over 1 minute')\n",
    "plt.ylim(0,np.max(hist_wind_speed_max[0])*1.1)\n",
    "plt.show()"
   ]
  },
  {
   "cell_type": "markdown",
   "id": "2d3e800e-e2b3-4c1b-aa93-6738e6aec1fa",
   "metadata": {
    "jp-MarkdownHeadingCollapsed": true
   },
   "source": [
    "## Wind direction & amplitude 2D histogram"
   ]
  },
  {
   "cell_type": "code",
   "execution_count": null,
   "id": "9836f790-bd88-4878-8b4c-519582f1205d",
   "metadata": {},
   "outputs": [],
   "source": [
    "wind_x = WS_ms_Avg * np.cos(-np.pi/2-np.radians(WindDir_D1_WVT))\n",
    "wind_y = WS_ms_Avg * np.sin(-np.pi/2-np.radians(WindDir_D1_WVT))\n",
    "mask = (wind_x==0) & (wind_y==0)\n",
    "\n",
    "speed_limit_x, speed_limit_y = 20, 20 # m/s\n",
    "hist2d_wind, _, _, _ = plt.hist2d(wind_x[~mask],wind_y[~mask], bins=300, range=[[-speed_limit_x,speed_limit_x],[-speed_limit_y,speed_limit_y]],density=True)\n",
    "hist2d_wind_filtered = scipy.ndimage.gaussian_filter(hist2d_wind, 1.5)\n",
    "\n",
    "plt.clf()\n",
    "plt.imshow(hist2d_wind_filtered.T, origin='lower',cmap='jet', extent=[-speed_limit_x,speed_limit_x,-speed_limit_x,speed_limit_x])\n",
    "plt.xlabel('E/W (m/s)')\n",
    "plt.ylabel('N/S (m/s)')\n",
    "plt.colorbar()\n",
    "plt.title('Wind direction and amplitude histogram')"
   ]
  },
  {
   "cell_type": "markdown",
   "id": "5230ea82-9137-4936-acdd-b2c23027bc5e",
   "metadata": {
    "jp-MarkdownHeadingCollapsed": true
   },
   "source": [
    "## 2D Power Spectrum : unused"
   ]
  },
  {
   "cell_type": "code",
   "execution_count": null,
   "id": "9acfe68e-7d06-40d6-b2e8-67e9ced4cead",
   "metadata": {},
   "outputs": [],
   "source": [
    "# Compute the 2d power spectrum of the wind\n",
    "fft_wind = np.fft.fft2(hist2d_wind_filtered.T)\n",
    "power_spectrum_wind = np.abs(fft_wind)**2\n",
    "\n",
    "plt.plot(power_spectrum_wind)\n",
    "plt.title('Wind power spectrum at Alto Chorillos')\n",
    "plt.xscale('log')\n",
    "plt.yscale('log')"
   ]
  },
  {
   "cell_type": "markdown",
   "id": "6f31344b-fe3b-4f52-9efd-2ea937bfdfd1",
   "metadata": {
    "jp-MarkdownHeadingCollapsed": true
   },
   "source": [
    "## Wind velocity distribution along East/West & North/South axis"
   ]
  },
  {
   "cell_type": "code",
   "execution_count": null,
   "id": "6ba606cc-0ee4-4148-856d-61a391f1e649",
   "metadata": {},
   "outputs": [],
   "source": [
    "plt.figure()\n",
    "hist_y = plt.hist(wind_y[~mask], bins=300, density=True, label='N/S', alpha=0.8)\n",
    "hist_x = plt.hist(wind_x[~mask], bins=300, density=True, label='E/W', alpha=0.8)\n",
    "plt.xlabel('Wind speed m/s')\n",
    "plt.title('Wind velocity histogram')\n",
    "plt.legend()"
   ]
  },
  {
   "cell_type": "markdown",
   "id": "aeb168a0-c144-4765-a2d6-5c2c96add7ff",
   "metadata": {
    "jp-MarkdownHeadingCollapsed": true
   },
   "source": [
    "## Power Spectra along E/W & N/S axis"
   ]
  },
  {
   "cell_type": "code",
   "execution_count": null,
   "id": "10b713d0-0dff-4ca0-8a32-0a190b4f868b",
   "metadata": {},
   "outputs": [],
   "source": [
    "fft_x = np.fft.fft(wind_x[~mask])\n",
    "fft_y = np.fft.fft(wind_y[~mask])\n",
    "\n",
    "power_spectrum_x = np.abs(fft_x)**2\n",
    "power_spectrum_y = np.abs(fft_y)**2\n",
    "\n",
    "ff = np.fft.fftfreq(len(fft_x), d=60)\n",
    "\n",
    "plt.plot(ff, power_spectrum_x, label='E/W')\n",
    "plt.plot(ff, power_spectrum_y, label='N/S')\n",
    "plt.plot(ff, np.abs(fft_x*np.conjugate(fft_y)), label='Cross')\n",
    "plt.xscale('log')\n",
    "plt.yscale('log')\n",
    "plt.legend()\n",
    "plt.title('Wind Power Spectra')\n",
    "plt.xlabel('Frequency (Hz)')\n",
    "plt.ylabel('Power Spectrum')"
   ]
  },
  {
   "cell_type": "markdown",
   "id": "877d3560-80cc-4c32-b347-34418da89eed",
   "metadata": {
    "jp-MarkdownHeadingCollapsed": true
   },
   "source": [
    "## Random wind distriubtions along E/W & N/S axis"
   ]
  },
  {
   "cell_type": "code",
   "execution_count": null,
   "id": "f1939774-50d2-4230-beee-efd6884f4819",
   "metadata": {},
   "outputs": [],
   "source": [
    "# Generate random phases\n",
    "random_phases_x = np.exp(1j * np.random.uniform(0, 2*np.pi, size=len(power_spectrum_x)))\n",
    "random_phases_y = np.exp(1j * np.random.uniform(0, 2*np.pi, size=len(power_spectrum_y)))\n",
    "\n",
    "# Perform Inverse Fourier Transform to obtain the random wind field\n",
    "random_wind_x = np.fft.ifft(np.sqrt(power_spectrum_x) * random_phases_x).real\n",
    "random_wind_y = np.fft.ifft(np.sqrt(power_spectrum_y) * random_phases_y).real\n",
    "print(np.mean(random_wind_x) - np.mean(wind_x), np.mean(random_wind_y) - np.mean(wind_y))\n",
    "random_wind_x = random_wind_x - np.mean(random_wind_x) + np.mean(wind_x)\n",
    "random_wind_y = random_wind_y - np.mean(random_wind_y) + np.mean(wind_y)\n",
    "\n",
    "plt.figure()\n",
    "random_hist_x = plt.hist(random_wind_x, bins=300, density=True, label='E/W')\n",
    "random_hist_y = plt.hist(random_wind_y, bins=300, density=True, label='N/S')\n",
    "plt.xlabel('Wind speed m/s')\n",
    "plt.title('Random wind velocity histogram')\n",
    "plt.legend()"
   ]
  },
  {
   "cell_type": "code",
   "execution_count": null,
   "id": "54e20f0b-75c1-4fd4-bcf3-4e6eeed3796e",
   "metadata": {},
   "outputs": [],
   "source": [
    "plt.figure()\n",
    "speed_limit_x, speed_limit_y = 20, 20 # m/s\n",
    "random_hist2d_wind, _, _, _ = plt.hist2d(random_wind_x,random_wind_y, bins=300,range=[[-speed_limit_x,speed_limit_x],[-speed_limit_y,speed_limit_y]],density=False)\n",
    "random_hist2d_wind_filtered = scipy.ndimage.gaussian_filter(random_hist2d_wind, 1.5)\n",
    "plt.xlabel('E/W (m/s)')\n",
    "plt.ylabel('N/S (m/s)')\n",
    "plt.colorbar()\n",
    "plt.title('Random Wind direction and amplitude histogram')\n",
    "\n",
    "plt.figure()\n",
    "plt.imshow(random_hist2d_wind_filtered.T, origin='lower', cmap='jet', extent=[-speed_limit_x, speed_limit_x, -speed_limit_y, speed_limit_y])\n",
    "plt.colorbar()\n",
    "plt.xlabel('E/W (m/s)')\n",
    "plt.ylabel('N/S (m/s)')\n",
    "plt.title('Random Wind direction and amplitude histogram')"
   ]
  },
  {
   "cell_type": "markdown",
   "id": "f76a6ccd-03bd-45b2-8966-44459bcd92d1",
   "metadata": {
    "jp-MarkdownHeadingCollapsed": true
   },
   "source": [
    "## Comparison between Simulated and Real distributions"
   ]
  },
  {
   "cell_type": "code",
   "execution_count": null,
   "id": "e4092c24-4da8-4d26-a063-e2b07cc0e5d4",
   "metadata": {},
   "outputs": [],
   "source": [
    "plt.figure()\n",
    "plt.imshow(random_hist2d_wind_filtered.T - hist2d_wind_filtered.T, origin='lower', cmap='jet', extent=[-speed_limit_x, speed_limit_x, -speed_limit_y, speed_limit_y])\n",
    "plt.colorbar()\n",
    "plt.xlabel('E/W (m/s)')\n",
    "plt.ylabel('N/S (m/s)')\n",
    "plt.title('Comparison between Random wind & data')"
   ]
  },
  {
   "cell_type": "markdown",
   "id": "61303c89-dbc2-458b-9dff-60b32554bae3",
   "metadata": {
    "jp-MarkdownHeadingCollapsed": true
   },
   "source": [
    "## Methods to generate random wind from the simulated distribution"
   ]
  },
  {
   "cell_type": "code",
   "execution_count": null,
   "id": "c0b79c3c-2fcf-4b61-9e3a-1e52dbd774c4",
   "metadata": {},
   "outputs": [],
   "source": [
    "def random_wind_choice(random_wind_x, random_wind_y, nbins, speed_limit, Niter):\n",
    "    # Create wind velocity distributions\n",
    "    wind_velocity_distrib_x = np.linspace(-speed_limit[0], speed_limit[0], nbins)\n",
    "    wind_velocity_distrib_y = np.linspace(-speed_limit[1], speed_limit[1], nbins)\n",
    "\n",
    "    # Create coordinates distributions\n",
    "    x_coords, y_coords = np.meshgrid(np.arange(nbins), np.arange(nbins))\n",
    "    coord_tuples = np.empty((nbins, nbins), dtype=tuple)\n",
    "    for i in range(nbins):\n",
    "        for j in range(nbins):\n",
    "            coord_tuples[i, j] = (x_coords[i, j], y_coords[i, j])\n",
    "\n",
    "    # Compute the 2d probability distribution <=> 2d normalized histogram\n",
    "    random_hist2d_wind, _, _, _ = plt.hist2d(random_wind_x,random_wind_y, bins=300,range=[[-speed_limit[0], speed_limit[0]],[-speed_limit[1], speed_limit[1]]],density=False)\n",
    "\n",
    "    ind_flatten = coord_tuples.ravel()\n",
    "    probabilities = random_hist2d_wind.T \n",
    "    prob_flatten = probabilities.ravel() / np.mean(probabilities.ravel())\n",
    "    \n",
    "    velocity_x, velocity_y = [], []\n",
    "    dux, duy = [], []\n",
    "    for i in range(Niter):\n",
    "        random_number=random.choices(ind_flatten, weights=prob_flatten)\n",
    "        velocity_x.append(wind_velocity_distrib_x[random_number[0][0]])\n",
    "        velocity_y.append(wind_velocity_distrib_y[random_number[0][1]])\n",
    "        dux.append(int(wind_velocity_distrib_x[random_number[0][0]]))\n",
    "        duy.append(int(wind_velocity_distrib_y[random_number[0][1]]))\n",
    "\n",
    "    return velocity_x, velocity_y, dux, duy"
   ]
  },
  {
   "cell_type": "code",
   "execution_count": null,
   "id": "2aa4d9ca-35c4-4ac7-beda-4d17bed3fb85",
   "metadata": {},
   "outputs": [],
   "source": [
    "time = 365*24/12\n",
    "dt = 1\n",
    "Nt = int(time/dt)\n",
    "print(Nt)\n",
    "velocity_x, velocity_y, dux, duy = random_wind_choice(random_wind_x, random_wind_y, 300, [20, 20], Nt)\n",
    "\n",
    "plt.figure()\n",
    "hist_x = plt.hist(velocity_x, bins=300, density=True, label='E/W')\n",
    "hist_y = plt.hist(velocity_y, bins=300, density=True, label='N/S')\n",
    "plt.xlabel('Wind speed m/s')\n",
    "plt.title('Random wind velocity histogram')\n",
    "plt.legend()"
   ]
  },
  {
   "cell_type": "code",
   "execution_count": null,
   "id": "92b231de-716b-48bf-8bd0-7c71f0635413",
   "metadata": {},
   "outputs": [],
   "source": [
    "# Create figure and axis\n",
    "fig, ax = plt.subplots()\n",
    "im = ax.imshow(rho, extent=[-L, L, -L, L], cmap='jet')\n",
    "fig.colorbar(mappable = im, ax=ax, label='Water Vapor density (g/m3)', format = '%.5f')\n",
    "ax.set_xlabel('X (m)')\n",
    "ax.set_ylabel('Y (m)')\n",
    "ax.set_title('Water vapor distribution with wind')\n",
    "\n",
    "# Animation function\n",
    "def update_real(frame):\n",
    "    global rho\n",
    "    if frame > 0:\n",
    "        rho = translation(rho, dux[frame], duy[frame])\n",
    "    im.set_array(rho)\n",
    "    return [im]\n",
    "\n",
    "# Create animation\n",
    "ani = matplotlib.animation.FuncAnimation(fig, update_real, frames=Nt, interval=100, blit=True)\n",
    "\n",
    "def display_animation(anim):\n",
    "    plt.close(anim._fig)\n",
    "    return HTML(anim.to_html5_video())\n",
    "\n",
    "# Display the animation\n",
    "display(display_animation(ani))"
   ]
  },
  {
   "cell_type": "markdown",
   "id": "c18c1236-2de7-43fe-836a-18dc692d9192",
   "metadata": {},
   "source": [
    "## Simulated wind with time correlation"
   ]
  },
  {
   "cell_type": "code",
   "execution_count": null,
   "id": "7197c6c7-5ee2-4504-8adb-ee90d0d7966c",
   "metadata": {},
   "outputs": [],
   "source": [
    "mask = (wind_x==0) & (wind_y==0)\n",
    "\n",
    "\n",
    "fft_x = np.fft.fft(wind_x[~mask])\n",
    "fft_y = np.fft.fft(wind_y[~mask])\n",
    "\n",
    "# Build the power spectrum matrix\n",
    "Wx = np.abs(fft_x)#**2\n",
    "Wy = np.abs(fft_y)#**2\n",
    "Wxy = np.sqrt(np.abs(fft_x*np.conjugate(fft_y)))#np.abs(fft_x*np.conjugate(fft_y))\n",
    "Wyx = np.sqrt(np.abs(fft_y*np.conjugate(fft_x)))#np.abs(fft_y*np.conjugate(fft_x))\n",
    "\n",
    "W = np.array([[Wx, Wxy],[Wyx, Wy]]).transpose(2, 0, 1)\n",
    "\n",
    "# Random phases generation in Fourier space\n",
    "random_phases_x = np.exp(1j * np.random.uniform(0, 2*np.pi, size=W.shape[0]))\n",
    "random_phases_y = np.exp(1j * np.random.uniform(0, 2*np.pi, size=W.shape[0]))"
   ]
  },
  {
   "cell_type": "code",
   "execution_count": null,
   "id": "da800dc6-65f2-4ad4-960b-8b954cd6ecbf",
   "metadata": {},
   "outputs": [],
   "source": [
    "# We compute the eigenvalues and eigenvectors to diagonalize the matrix\n",
    "eigenvalues, eigenvectors = np.zeros((W.shape[0], 2), dtype='complex'), np.zeros((W.shape[0], 2, 2), dtype='complex')\n",
    "for i, matrix in enumerate(W):\n",
    "    eigenvalues[i], eigenvectors[i] = np.linalg.eig(matrix)"
   ]
  },
  {
   "cell_type": "code",
   "execution_count": null,
   "id": "d0873d11-f7d2-4373-be5f-523100db7b28",
   "metadata": {},
   "outputs": [],
   "source": [
    "stop"
   ]
  },
  {
   "cell_type": "code",
   "execution_count": null,
   "id": "3b5111e0-3ef5-496d-8090-ec8fca21b468",
   "metadata": {},
   "outputs": [],
   "source": [
    "# We build the diag matrix and add random phases\n",
    "diag_W = np.zeros((W.shape[0], 2, 2), dtype='complex')\n",
    "for i in range(W.shape[0]):\n",
    "    diag_W[i] = np.diag(eigenvalues[i])\n",
    "    diag_W[i][0][0] *= random_phases_x[i] #np.sqrt(diag_W[i][0][0]) * random_phases_x[i]\n",
    "    diag_W[i][1][1] *= random_phases_y[i] #np.sqrt(diag_W[i][1][1]) * random_phases_y[i]"
   ]
  },
  {
   "cell_type": "code",
   "execution_count": null,
   "id": "2b3d0827-5539-4892-8844-b113a23bcd63",
   "metadata": {},
   "outputs": [],
   "source": [
    "# We use the eigenvectors matrices to return in the first base (where W is not diagonal)\n",
    "new_W = np.zeros((np.shape(W)), dtype='complex')\n",
    "for i in range(W.shape[0]):\n",
    "    eigenvector_matrix = eigenvectors[i]\n",
    "    inv_eigenvector = np.linalg.inv(eigenvector_matrix)\n",
    "    new_W[i] = eigenvector_matrix @ diag_W[i] @ inv_eigenvector"
   ]
  },
  {
   "cell_type": "code",
   "execution_count": null,
   "id": "b5aabca8-6700-4f97-9675-7ece2927e8cd",
   "metadata": {},
   "outputs": [],
   "source": [
    "new_ps_x, new_ps_xy, new_ps_y, new_ps_yx = [], [], [], []\n",
    "for i in range(W.shape[0]):\n",
    "    new_ps_x.append(new_W[i][0][0])\n",
    "    new_ps_xy.append(new_W[i][0][1])\n",
    "    new_ps_y.append(new_W[i][1][1])\n",
    "    new_ps_yx.append(new_W[i][1][0])\n",
    "    \n",
    "new_ff = np.fft.fftfreq(len(fft_x), d=60)\n",
    "\n",
    "plt.plot(new_ff, np.abs(new_ps_x)**2, label='X')\n",
    "plt.plot(new_ff, np.abs(new_ps_y)**2, label='Y')\n",
    "plt.plot(new_ff, np.abs(new_ps_xy)**2, label='XY')\n",
    "plt.plot(new_ff, np.abs(new_ps_yx)**2, label='YX')\n",
    "plt.xscale('log')\n",
    "plt.yscale('log')\n",
    "plt.legend()\n",
    "plt.title('Wind Power Spectra')\n",
    "plt.xlabel('Frequency (Hz)')\n",
    "plt.ylabel('Power Spectrum')"
   ]
  },
  {
   "cell_type": "code",
   "execution_count": null,
   "id": "1a434d2e-204b-4f86-9fd3-d0a7681d77d7",
   "metadata": {},
   "outputs": [],
   "source": [
    "# We compute and then plot the random wind distribution\n",
    "new_random_wind_x = (np.fft.ifft(new_ps_x)).real - np.mean((np.fft.ifft(new_ps_x)).real) + np.mean(wind_x[~mask])\n",
    "new_random_wind_y = (np.fft.ifft(new_ps_y)).real - np.mean((np.fft.ifft(new_ps_y)).real) + np.mean(wind_y[~mask])\n",
    "mask_vx, mask_vy = (new_random_wind_x<20) & (new_random_wind_x>-20), (new_random_wind_y<20) & (new_random_wind_y>-20)\n",
    "plt.plot(new_random_wind_x, label='X', alpha = 0.8)\n",
    "plt.plot(new_random_wind_y, label='Y', alpha = 0.8)\n",
    "plt.legend()"
   ]
  },
  {
   "cell_type": "code",
   "execution_count": null,
   "id": "6e76b218-62f4-4d4e-9dc2-8885a18f8def",
   "metadata": {},
   "outputs": [],
   "source": [
    "new_random_hist2d_wind, _, _, _ = plt.hist2d(new_random_wind_x,new_random_wind_y, bins=300,range=[[-speed_limit_x,speed_limit_x],[-speed_limit_y,speed_limit_y]],density=True)\n",
    "plt.figure()\n",
    "plt.imshow(new_random_hist2d_wind.T, origin='lower', cmap='jet', extent=[-speed_limit_x, speed_limit_x, -speed_limit_y, speed_limit_y])\n",
    "plt.colorbar()\n",
    "plt.xlabel('E/W (m/s)')\n",
    "plt.ylabel('N/S (m/s)')\n",
    "plt.title('Simulated Wind direction and amplitude histogram')"
   ]
  },
  {
   "cell_type": "code",
   "execution_count": null,
   "id": "9a052ff9-6405-4d6e-bf2f-83c5bffe549b",
   "metadata": {},
   "outputs": [],
   "source": [
    "plt.figure()\n",
    "hist_sim_x = plt.hist(new_random_wind_x, bins=300, density=True, label='Simulated X',alpha=0.8)\n",
    "hist_sim_y = plt.hist(new_random_wind_y, bins=300, density=True, label='Simulated Y',alpha=0.8)\n",
    "plt.xlabel('Wind speed m/s')\n",
    "plt.title('Simulated wind velocity histogram')\n",
    "plt.legend()"
   ]
  },
  {
   "cell_type": "markdown",
   "id": "1bb5e92c-3d00-42c6-8d2e-f55b1336bb93",
   "metadata": {
    "jp-MarkdownHeadingCollapsed": true
   },
   "source": [
    "## Comparison between Simulated and real wind"
   ]
  },
  {
   "cell_type": "code",
   "execution_count": null,
   "id": "4bdd98be-4ea1-420f-b843-49f24b75977a",
   "metadata": {},
   "outputs": [],
   "source": [
    "plt.plot(new_ff, np.abs(new_ps_x)**2, label='Simulated Wind X')\n",
    "#plt.plot(new_ff, np.abs(new_ps_y)**2, label='simulated Y')\n",
    "#plt.plot(new_ff, np.abs(new_ps_xy)**2, label='simulated XY')\n",
    "plt.plot(new_ff, power_spectrum_x, label='Real wind X')\n",
    "#plt.plot(ff, power_spectrum_y, label='Real Y')\n",
    "#plt.plot(ff, np.abs(fft_x*np.conjugate(fft_y)), label='Real XY')\n",
    "plt.xscale('log')\n",
    "plt.yscale('log')\n",
    "plt.legend()\n",
    "plt.title('Wind X Power Spectra')\n",
    "plt.xlabel('Frequency')\n",
    "plt.ylabel('Power Spectrum')"
   ]
  },
  {
   "cell_type": "code",
   "execution_count": null,
   "id": "000e4944-5044-4384-bac0-0fb28d3a4a18",
   "metadata": {},
   "outputs": [],
   "source": [
    "################\n",
    "#Je peux essayer de split wind_x en somme de deux gaussiennes, appliquer la même méthode sur les deux nouvelles distributions obtenues \n",
    "#et les sommer à la fin pour garder cette structure non-gaussienne\n",
    "################"
   ]
  },
  {
   "cell_type": "code",
   "execution_count": null,
   "id": "88d4b6f1-b459-4153-8f61-99cbc70731e2",
   "metadata": {},
   "outputs": [],
   "source": [
    "plt.figure()\n",
    "hist_sim_x = plt.hist(new_random_wind_x, bins=300, density=True, label='Simulated X')\n",
    "hist_x = plt.hist(wind_x, bins=300, density=True, label='Real X',alpha=0.5)\n",
    "plt.xlabel('Wind speed m/s')\n",
    "plt.title('Wind velocity histogram')\n",
    "plt.xlim(-20,20)\n",
    "plt.legend()"
   ]
  },
  {
   "cell_type": "code",
   "execution_count": null,
   "id": "20ef6e9d-3768-4c6e-b4ef-f125c04efbb4",
   "metadata": {},
   "outputs": [],
   "source": [
    "plt.plot(new_ff, np.abs(new_ps_x)**2, label='simulated Y')\n",
    "plt.plot(new_ff, power_spectrum_x, label='Real Y')\n",
    "plt.xscale('log')\n",
    "plt.yscale('log')\n",
    "plt.legend()\n",
    "plt.title('Wind Y Power Spectra')\n",
    "plt.xlabel('Frequency (Hz)')\n",
    "plt.ylabel('Power Spectrum')"
   ]
  },
  {
   "cell_type": "code",
   "execution_count": null,
   "id": "d4d7be26-4e77-42bb-adfb-ebc2f186c6f6",
   "metadata": {},
   "outputs": [],
   "source": [
    "np.setdiff1d(new_ff, ff)"
   ]
  },
  {
   "cell_type": "code",
   "execution_count": null,
   "id": "c76fc768-0d10-4077-8c74-f27e33b97ea1",
   "metadata": {},
   "outputs": [],
   "source": [
    "plt.figure()\n",
    "hist_sim_y = plt.hist(new_random_wind_y, bins=300, density=True, range=[-speed_limit_x,speed_limit_x], label='Simulated Y')\n",
    "hist_y = plt.hist(wind_y, bins=300, density=True, label='Real Y', alpha=0.5)\n",
    "plt.xlabel('Wind speed m/s')\n",
    "plt.title('Wind velocity histogram')\n",
    "plt.legend()"
   ]
  },
  {
   "cell_type": "code",
   "execution_count": null,
   "id": "7dc67f00-dc64-4103-b89b-c523227b12d6",
   "metadata": {},
   "outputs": [],
   "source": [
    "plt.plot(wind_x, label='X', alpha = 0.8)\n",
    "plt.plot(new_random_wind_x, label='Simulated X', alpha = 0.8)\n",
    "plt.xlabel('Time')\n",
    "plt.ylabel('Wind speed (m/s)')\n",
    "plt.title('Wind speed evolution')\n",
    "plt.legend()"
   ]
  },
  {
   "cell_type": "code",
   "execution_count": null,
   "id": "4f01145f-1b42-4e21-ac88-13f4e78ce290",
   "metadata": {},
   "outputs": [],
   "source": [
    "plt.plot(wind_y, label='Y', alpha = 0.8)\n",
    "plt.plot(new_random_wind_y, label='Simulated Y', alpha = 0.8)\n",
    "plt.xlabel('Time')\n",
    "plt.ylabel('Wind speed (m/s)')\n",
    "plt.title('Wind speed evolution')\n",
    "plt.legend()"
   ]
  },
  {
   "cell_type": "code",
   "execution_count": null,
   "id": "6b5f3975-fd7d-42a4-a0fd-b9d046b82d88",
   "metadata": {},
   "outputs": [],
   "source": [
    "plt.plot(new_ff, np.abs(new_ps_xy)**2, label='simulated XY')\n",
    "plt.plot(new_ff, np.abs(fft_x*np.conjugate(fft_y)), label='Real XY')\n",
    "plt.xscale('log')\n",
    "plt.yscale('log')\n",
    "plt.legend()\n",
    "plt.title('Cross Power Spectra')\n",
    "plt.xlabel('Frequency (Hz)')\n",
    "plt.ylabel('Power Spectrum')"
   ]
  },
  {
   "cell_type": "markdown",
   "id": "a3efb8be-0a09-4b7f-9fd7-1db8d3756e57",
   "metadata": {
    "jp-MarkdownHeadingCollapsed": true
   },
   "source": [
    "## Animation with time correlated wind"
   ]
  },
  {
   "cell_type": "code",
   "execution_count": null,
   "id": "7318aff6-de03-432a-97e3-cfeb209df1dc",
   "metadata": {},
   "outputs": [],
   "source": [
    "dux, duy = [], []\n",
    "for i in range(len(new_random_wind_x)):\n",
    "    dux.append(int(new_random_wind_x[i]*60/50))\n",
    "    duy.append(int(new_random_wind_y[i]*60/50))\n",
    "    \n",
    "def frame_correlated(frame):\n",
    "    global rho\n",
    "    if frame > 0:\n",
    "        rho = translation(rho, dux[frame], duy[frame])\n",
    "    im.set_array(rho)\n",
    "    return [im]"
   ]
  },
  {
   "cell_type": "code",
   "execution_count": null,
   "id": "fe23862d-49c5-4aa5-a0d8-ab6e0c76acd6",
   "metadata": {},
   "outputs": [],
   "source": [
    "# Create animation\n",
    "ani = matplotlib.animation.FuncAnimation(fig, update_real, frames=200, interval=100, blit=True)\n",
    "\n",
    "def display_animation(anim):\n",
    "    plt.close(anim._fig)\n",
    "    return HTML(anim.to_html5_video())\n",
    "\n",
    "# Display the animation\n",
    "display(display_animation(ani))"
   ]
  },
  {
   "cell_type": "markdown",
   "id": "44caaf5d-c3d5-45d8-b2e5-6b59723bdba3",
   "metadata": {
    "jp-MarkdownHeadingCollapsed": true
   },
   "source": [
    "## Build routine functions to perform the wind simulation"
   ]
  },
  {
   "cell_type": "code",
   "execution_count": null,
   "id": "f9d5923c-bd7f-4282-b7f4-5c0bd99f570d",
   "metadata": {},
   "outputs": [],
   "source": [
    "def wind_mask(wx, wy):\n",
    "    mask = (wx == 0) & (wy == 0)\n",
    "    return mask\n",
    "\n",
    "def wind_ft(wx, wy):\n",
    "    mask = wind_mask(wx, wy)\n",
    "    fft_x = np.fft.fft(wx[~mask])\n",
    "    fft_y = np.fft.fft(wy[~mask])\n",
    "    return fft_x, fft_y\n",
    "\n",
    "def sqrt_wind_ps_matrix(wx, wy):\n",
    "    fft_x, fft_y = wind_ft(wx, wy)\n",
    "\n",
    "    Wx = np.abs(fft_x)\n",
    "    Wy = np.abs(fft_y)\n",
    "    Wxy = np.sqrt(np.abs(fft_x*np.conjugate(fft_y)))\n",
    "    Wyx = np.sqrt(np.abs(fft_y*np.conjugate(fft_x)))\n",
    "\n",
    "    return np.array([[Wx, Wxy],[Wyx, Wy]]).transpose(2, 0, 1)\n",
    "\n",
    "def random_phases(size):\n",
    "    random_phases_x = np.exp(1j * np.random.uniform(0, 2*np.pi, size=size))\n",
    "    random_phases_y = np.exp(1j * np.random.uniform(0, 2*np.pi, size=size))\n",
    "    return random_phases_x, random_phases_y\n",
    "    \n",
    "def ps_matrix_eigen(W):\n",
    "    eigenvalues, eigenvectors = np.zeros((W.shape[0], 2), dtype='complex'), np.zeros((W.shape[0], 2, 2), dtype='complex')\n",
    "    for i, matrix in enumerate(W):\n",
    "        eigenvalues[i], eigenvectors[i] = np.linalg.eig(matrix)\n",
    "    return eigenvalues, eigenvectors\n",
    "\n",
    "def diag_ps_matrix(W):\n",
    "    eigenvalues, _ = ps_matrix_eigen(W)\n",
    "    D = np.zeros((W.shape), dtype='complex')\n",
    "    for i in range(W.shape[0]):\n",
    "        D[i] = np.diag(eigenvalues[i])\n",
    "    return D\n",
    "\n",
    "def diag_ps_matrix_phases_generation(W):\n",
    "    random_phases_x, random_phases_y = random_phases(W.shape[0])\n",
    "    D = diag_ps_matrix(W)\n",
    "    for i in range(D.shape[0]):\n",
    "        D[i][0][0] *= random_phases_x[i]\n",
    "        D[i][1][1] *= random_phases_y[i]\n",
    "    return D\n",
    "\n",
    "def ps_matrix_random(W):\n",
    "    _, eigenvectors = ps_matrix_eigen(W)\n",
    "    D_random = diag_ps_matrix_phases_generation(W)\n",
    "    new_W = np.zeros((np.shape(W)), dtype='complex')\n",
    "    for i in range(W.shape[0]):\n",
    "        eigenvector_matrix = eigenvectors[i]\n",
    "        inv_eigenvector = np.linalg.inv(eigenvector_matrix)\n",
    "        new_W[i] = eigenvector_matrix @ D_random[i] @ inv_eigenvector\n",
    "    return new_W\n",
    "\n",
    "def ps_wind_simulation(W):\n",
    "    random_W = ps_matrix_random(W)\n",
    "\n",
    "    new_ps_x, new_ps_y = [], []\n",
    "    for i in range(W.shape[0]):\n",
    "        new_ps_x.append(random_W[i][0][0])\n",
    "        new_ps_y.append(random_W[i][1][1])\n",
    "\n",
    "    return new_ps_x, new_ps_y\n",
    "\n",
    "def wind_simulation(wx, wy):\n",
    "    mask = wind_mask(wx, wy)\n",
    "    W = sqrt_wind_ps_matrix(wx, wy)\n",
    "    new_ps_x, new_ps_y = ps_wind_simulation(W)\n",
    "\n",
    "    new_random_wind_x = (np.fft.ifft(new_ps_x)).real - np.mean((np.fft.ifft(new_ps_x)).real) + np.mean(wx[~mask])\n",
    "    new_random_wind_y = (np.fft.ifft(new_ps_y)).real - np.mean((np.fft.ifft(new_ps_y)).real) + np.mean(wy[~mask])\n",
    "\n",
    "    return new_random_wind_x, new_random_wind_y, new_ps_x, new_ps_y"
   ]
  },
  {
   "cell_type": "markdown",
   "id": "4952f68b-99b4-4ec2-a715-1ca618bdb878",
   "metadata": {
    "jp-MarkdownHeadingCollapsed": true
   },
   "source": [
    "## Stability of the random wind simulation"
   ]
  },
  {
   "cell_type": "code",
   "execution_count": null,
   "id": "e053d7fc-a071-44be-bfaa-ea129b251b4b",
   "metadata": {},
   "outputs": [],
   "source": [
    "new_wx, new_wy, new_ps_x, new_ps_y = wind_simulation(wind_x, wind_y)\n",
    "new_new_wx, new_new_wy, new_new_ps_x, new_new_ps_y = wind_simulation(wind_x, wind_y)\n",
    "new_new_new_wx, new_new_new_wy, new_new_new_ps_x, new_new_new_ps_y = wind_simulation(wind_x, wind_y)"
   ]
  },
  {
   "cell_type": "code",
   "execution_count": null,
   "id": "130baabb-a7f6-4cda-8ebd-670177f7b8bf",
   "metadata": {},
   "outputs": [],
   "source": [
    "plt.figure()\n",
    "hist_sim_x_test = plt.hist(new_wx, bins=300, density=True, label='Simulated X bis',alpha=0.6)\n",
    "hist_sim_x = plt.hist(new_new_wx, bins=300, density=True, label='Simulated X',alpha=0.6)\n",
    "hist_sim_x = plt.hist(new_new_new_wx, bins=300, density=True, label='Simulated X Ter',alpha=0.6)\n",
    "plt.xlabel('Wind speed m/s')\n",
    "plt.title('Simulated wind velocity histogram')\n",
    "plt.legend()"
   ]
  },
  {
   "cell_type": "code",
   "execution_count": null,
   "id": "125a0e05-6637-4002-8158-06930a008f24",
   "metadata": {},
   "outputs": [],
   "source": [
    "plt.plot(ff, power_spectrum_x, label='Real wind X')\n",
    "plt.plot(new_ff, np.abs(new_ps_x)**2, label='Simulated Wind X')\n",
    "plt.plot(new_ff, np.abs(new_new_ps_x)**2, label='Simulated Wind X bis')\n",
    "plt.xscale('log')\n",
    "plt.yscale('log')\n",
    "plt.legend()\n",
    "plt.title('Wind X Power Spectra')\n",
    "plt.xlabel('Frequency')\n",
    "plt.ylabel('Power Spectrum')"
   ]
  },
  {
   "cell_type": "code",
   "execution_count": null,
   "id": "4cef8d0c-22c7-482d-8255-ab73d41504a6",
   "metadata": {},
   "outputs": [],
   "source": [
    "plt.plot(ff, power_spectrum_x - np.abs(new_ps_x)**2)"
   ]
  },
  {
   "cell_type": "code",
   "execution_count": null,
   "id": "c9de0b7f-1c8f-4057-a6b3-4f7813101865",
   "metadata": {},
   "outputs": [],
   "source": [
    "plt.figure()\n",
    "hist_sim_y_test = plt.hist(new_wy, bins=300, density=True, label='Simulated Y bis',alpha=0.6)\n",
    "hist_sim_y = plt.hist(new_new_wy, bins=300, density=True, label='Simulated Y',alpha=0.6)\n",
    "hist_sim_y = plt.hist(new_new_new_wy, bins=300, density=True, label='Simulated Y Ter',alpha=0.6)\n",
    "plt.xlabel('Wind speed m/s')\n",
    "plt.title('Simulated wind velocity histogram')\n",
    "plt.legend()"
   ]
  },
  {
   "cell_type": "code",
   "execution_count": null,
   "id": "62f415a2-3df2-475d-99f9-5a7066cce60b",
   "metadata": {},
   "outputs": [],
   "source": [
    "plt.plot(new_ff, np.abs(new_ps_y)**2, label='Simulated Wind Y')\n",
    "plt.plot(new_ff, np.abs(new_new_ps_y)**2, label='Simulated Wind Y bis')\n",
    "plt.plot(ff, power_spectrum_y, label='Real wind Y')\n",
    "plt.xscale('log')\n",
    "plt.yscale('log')\n",
    "plt.legend()\n",
    "plt.title('Wind Y Power Spectra')\n",
    "plt.xlabel('Frequency')\n",
    "plt.ylabel('Power Spectrum')"
   ]
  },
  {
   "cell_type": "markdown",
   "id": "2c6b7d99-2900-4c91-a264-5c14d608d438",
   "metadata": {
    "jp-MarkdownHeadingCollapsed": true
   },
   "source": [
    "## Stability of the algorithm when applied to simulated data rather than real data"
   ]
  },
  {
   "cell_type": "code",
   "execution_count": null,
   "id": "12f277e9-9ed1-4dff-8a11-22055c637b69",
   "metadata": {},
   "outputs": [],
   "source": [
    "rand_wx, rand_wy, rand_ps_x, rand_ps_y = wind_simulation(wind_x, wind_y)\n",
    "rand_rand_wx, rand_rand_wy, rand_rand_ps_x, rand_rand_ps_y = wind_simulation(rand_wx, rand_wy)\n",
    "rand_rand_rand_wx, rand_rand_rand_wy, rand_rand_rand_ps_x, rand_rand_rand_ps_y = wind_simulation(rand_wx, rand_wy)"
   ]
  },
  {
   "cell_type": "code",
   "execution_count": null,
   "id": "551a0252-0f7d-4916-b031-93df477f7537",
   "metadata": {},
   "outputs": [],
   "source": [
    "plt.figure()\n",
    "hist_sim_x_test = plt.hist(rand_wx, bins=300, density=True, label='X from simulated wind',alpha=0.6)\n",
    "hist_sim_x = plt.hist(rand_rand_rand_wx, bins=300, density=True, label='X from simulated wind Bis',alpha=0.6)\n",
    "hist_sim_x = plt.hist(rand_rand_wx, bins=300, density=True, label='X from real wind',alpha=0.6)\n",
    "plt.xlabel('Wind speed m/s')\n",
    "plt.title('Simulated wind velocity histogram')\n",
    "plt.legend()"
   ]
  },
  {
   "cell_type": "code",
   "execution_count": null,
   "id": "350077b0-df4b-4be9-94b0-184448f53f19",
   "metadata": {},
   "outputs": [],
   "source": [
    "plt.plot(ff, power_spectrum_x, label='Real wind X')\n",
    "plt.plot(new_ff, np.abs(new_ps_x)**2, label='Simulated Wind X')\n",
    "plt.plot(new_ff, np.abs(new_new_ps_x)**2, label='Simulated Wind X bis')\n",
    "plt.xscale('log')\n",
    "plt.yscale('log')\n",
    "plt.legend()\n",
    "plt.title('Wind X Power Spectra')\n",
    "plt.xlabel('Frequency')\n",
    "plt.ylabel('Power Spectrum')"
   ]
  },
  {
   "cell_type": "code",
   "execution_count": null,
   "id": "b88bbe68-0ea4-40b6-a619-c17caaf567e7",
   "metadata": {},
   "outputs": [],
   "source": [
    "plt.figure()\n",
    "hist_sim_y_test = plt.hist(rand_wy, bins=300, density=True, label='Y from simulated wind',alpha=0.6)\n",
    "hist_sim_y = plt.hist(rand_rand_rand_wy, bins=300, density=True, label='Y from simulated wind bis',alpha=0.6)\n",
    "hist_sim_y = plt.hist(rand_rand_wy, bins=300, density=True, label='Y from real wind',alpha=0.6)\n",
    "plt.xlabel('Wind speed m/s')\n",
    "plt.title('Simulated wind velocity histogram')\n",
    "plt.legend()"
   ]
  },
  {
   "cell_type": "code",
   "execution_count": null,
   "id": "747d6a04-7bf4-4d9a-bc33-251d66bcd00d",
   "metadata": {},
   "outputs": [],
   "source": [
    "##########################################################################################################\n",
    "#### Il faut que je continue le travail de vérification du vent simulé en comparer les power spectrum ####\n",
    "##########################################################################################################"
   ]
  },
  {
   "cell_type": "markdown",
   "id": "3aedd9ee-b001-4797-87bf-ea2d2294edb3",
   "metadata": {},
   "source": [
    "# Atmospheric contribution to detectors"
   ]
  },
  {
   "cell_type": "markdown",
   "id": "d73bdbf6",
   "metadata": {},
   "source": [
    "## In beam centered cartesian coordinates"
   ]
  },
  {
   "cell_type": "code",
   "execution_count": null,
   "id": "d74a0d84",
   "metadata": {},
   "outputs": [],
   "source": [
    "d_qubic = 0.56 # in m \n",
    "height_list = np.linspace(h, 1e4, 5)"
   ]
  },
  {
   "cell_type": "code",
   "execution_count": null,
   "id": "7ea7621e-e99e-44a1-bc0a-0ca147a38e9f",
   "metadata": {},
   "outputs": [],
   "source": [
    "z_atm = 35000 # (m), typical height that depends on the observation site, on the order of ~10⁴ m\n",
    "temp_0 = 270 # (K), average ground temperature on the observation site\n",
    "\n",
    "def atm_temp(z):\n",
    "    return temp_0 * np.exp(-z/z_atm)"
   ]
  },
  {
   "cell_type": "code",
   "execution_count": null,
   "id": "c7695802",
   "metadata": {},
   "outputs": [],
   "source": [
    "plt.plot(atm_temp(height_list), height_list, label=r'$T_0$ =' + f'{temp_0} K , ' + r'$h_{atm}$ = ' + f'{z_atm} m')\n",
    "plt.xlabel('Temperature (K)')\n",
    "plt.ylabel('Altitude (m)')\n",
    "plt.legend()"
   ]
  },
  {
   "cell_type": "code",
   "execution_count": null,
   "id": "a78b761d-9c85-4f7f-8115-277711c10717",
   "metadata": {},
   "outputs": [],
   "source": [
    "# I need to find measurement of the coefficient to adjust its value\n",
    "k_H2O = 3e-27 # in m², around 200 GHz\n",
    "m_H2O = 2.987e-22 # in g\n",
    "\n",
    "def molecular_absorption_coeff():\n",
    "    return k_H2O / m_H2O\n",
    "\n",
    "print(molecular_absorption_coeff())"
   ]
  },
  {
   "cell_type": "code",
   "execution_count": null,
   "id": "28f3a78c",
   "metadata": {},
   "outputs": [],
   "source": [
    "def spherical_to_cartesian(r, theta, phi):\n",
    "    x = r * np.sin(theta) * np.cos(phi)\n",
    "    y = r * np.sin(theta) * np.sin(phi)\n",
    "    z = r * np.cos(theta)\n",
    "    return x, y, z\n",
    "\n",
    "def dist_from_height(h, theta):\n",
    "    return h / np.cos(theta)"
   ]
  },
  {
   "cell_type": "markdown",
   "id": "8f3e211b",
   "metadata": {},
   "source": [
    "## In cylindric coordinates"
   ]
  },
  {
   "cell_type": "code",
   "execution_count": null,
   "id": "7738ae76",
   "metadata": {},
   "outputs": [],
   "source": [
    "def cylinder_beam(r):\n",
    "    return np.pi * r**2\n",
    "\n",
    "def normalized_cylinder_beam(r):\n",
    "    return cylinder_beam(r) / scipy.integrate.quad(cylinder_beam, 0, d_qubic)[0]"
   ]
  },
  {
   "cell_type": "code",
   "execution_count": null,
   "id": "bf1f9fb5",
   "metadata": {},
   "outputs": [],
   "source": [
    "def rho_cylinder(z, r, theta, el):\n",
    "    return water_vapor_density(h + z * np.sin(el) + np.sin(el) * np.sin(theta) * r, rho_0, h0)\n",
    "\n",
    "def temp_cylinder(z, r, theta, el):\n",
    "    return atm_temp(h + z * np.sin(el) + np.sin(el) * np.sin(theta) * r)"
   ]
  },
  {
   "cell_type": "code",
   "execution_count": null,
   "id": "cefb98cc",
   "metadata": {},
   "outputs": [],
   "source": [
    "def integrand_without_perturbation_cylinder(z, r, theta, el):\n",
    "    return temp_cylinder(z, r, theta, el) * rho_cylinder(z, r, theta, el) * normalized_cylinder_beam(r)\n",
    "\n",
    "def atm_contribution_without_perturbation_cylinder(height, el):\n",
    "    return molecular_absorption_coeff() * scipy.integrate.tplquad(integrand_without_perturbation_cylinder, 0, 2*np.pi, 0, d_qubic,\n",
    "                                                                  0, (height-h) / np.sin(el), args=[el])[0]"
   ]
  },
  {
   "cell_type": "code",
   "execution_count": null,
   "id": "b8bbe6bb",
   "metadata": {},
   "outputs": [],
   "source": [
    "atm_contrib_vertical, atm_contrib_elevation, atm_contrib_elevation_bis = [], [], []\n",
    "for height in height_list:\n",
    "    atm_contrib_elevation.append(atm_contribution_without_perturbation_cylinder(height, np.radians(30)))\n",
    "    atm_contrib_elevation_bis.append(atm_contribution_without_perturbation_cylinder(height, np.radians(50)))\n",
    "    atm_contrib_vertical.append(atm_contribution_without_perturbation_cylinder(height, np.radians(90)))\n",
    "\n",
    "plt.plot(atm_contrib_elevation, height_list, label='Elevation = 30°')\n",
    "plt.plot(atm_contrib_elevation_bis, height_list, label='Elevation = 50°')\n",
    "plt.plot(atm_contrib_vertical, height_list, label ='Vertical line of sight')\n",
    "plt.xlabel('Atm contribution to one detector (K)')\n",
    "plt.ylabel('Altitude (m)')\n",
    "plt.title('Integration on beam volume')\n",
    "plt.legend()"
   ]
  },
  {
   "cell_type": "markdown",
   "id": "285c36c3",
   "metadata": {},
   "source": [
    "## Gaussian Beam"
   ]
  },
  {
   "cell_type": "code",
   "execution_count": null,
   "id": "ea44e8bf",
   "metadata": {},
   "outputs": [],
   "source": [
    "fwhm = [0.39, 0.27]\n",
    "nus = [150e9, 220e9]\n",
    "\n",
    "beam_opening = np.radians(12.9)\n",
    "\n",
    "def gaussian_beam_width(z, freq):\n",
    "    wavelenght = scipy.constants.c / freq\n",
    "    gaussian_beam_waist = wavelenght / (np.pi * beam_opening) * np.sqrt(2 * np.log(2))\n",
    "    return gaussian_beam_waist * np.sqrt(1 + wavelenght * z / (np.pi * gaussian_beam_waist**2))"
   ]
  },
  {
   "cell_type": "code",
   "execution_count": null,
   "id": "989319c2",
   "metadata": {},
   "outputs": [],
   "source": [
    "plt.plot(gaussian_beam_width(np.arange(0, 1.5e4), 150e9), np.arange(0, 1.5e4))\n",
    "plt.ylabel('Distance from the source (m)')\n",
    "plt.xlabel('Beam width (m)')\n",
    "plt.yscale('log')"
   ]
  },
  {
   "cell_type": "code",
   "execution_count": null,
   "id": "46e531c7",
   "metadata": {},
   "outputs": [],
   "source": [
    "def gaussian_beam(r, args):\n",
    "    z, freq = args\n",
    "    wavelenght = scipy.constants.c / freq\n",
    "    gaussian_beam_waist = wavelenght / (np.pi * beam_opening) * np.sqrt(2 * np.log(2))\n",
    "    wz = gaussian_beam_width(z, freq)\n",
    "    return (gaussian_beam_waist / wz)**2 * np.exp(- 2 * (r**2) / wz**2)\n",
    "\n",
    "def normalized_gaussian_beam(r, args):\n",
    "    z, freq = args\n",
    "    return gaussian_beam(r, args) / (2*np.pi * scipy.integrate.quad(gaussian_beam, 0, np.inf, args=[z, freq])[0])"
   ]
  },
  {
   "cell_type": "code",
   "execution_count": null,
   "id": "46368715",
   "metadata": {},
   "outputs": [],
   "source": [
    "normalized_gaussian_beam(0, [0, 150e9])"
   ]
  },
  {
   "cell_type": "code",
   "execution_count": null,
   "id": "3a87b0fe",
   "metadata": {},
   "outputs": [],
   "source": [
    "scipy.integrate.quad(normalized_gaussian_beam, 0, np.inf, args=[10000, 150e9])[0] * 2*np.pi"
   ]
  },
  {
   "cell_type": "code",
   "execution_count": null,
   "id": "6b9ce551",
   "metadata": {},
   "outputs": [],
   "source": [
    "plt.figure()\n",
    "plt.plot(np.linspace(0, 0.008),gaussian_beam(np.linspace(0, 0.008), [0, 150e9]), label = 'z = 0 m')\n",
    "plt.vlines(gaussian_beam_width(0, 150e9), 0, 1, 'r', label='Beam width')\n",
    "plt.hlines(1/np.exp(2) * np.max(gaussian_beam(np.linspace(0, 0.008), [0, 150e9])), 0, 0.008, 'orange', label='1/e² decrease')\n",
    "plt.title('Beam effective area')\n",
    "plt.legend()\n",
    "plt.xlabel('Radial distance from the line of sight (m)')\n",
    "\n",
    "plt.figure()\n",
    "plt.plot(np.linspace(0, 2),gaussian_beam(np.linspace(0, 2), [1000, 150e9]), label = 'z = 1000 m')\n",
    "plt.vlines(gaussian_beam_width(1000, 150e9), 0, np.max(gaussian_beam(np.linspace(0, 0.008), [1000, 150e9])), 'r', label='Beam width')\n",
    "plt.hlines(1/np.exp(2) * np.max(gaussian_beam(np.linspace(0, 0.008), [1000, 150e9])), 0, 2, 'orange', label='1/e² decrease')\n",
    "plt.title('Beam effective area')\n",
    "plt.xlabel('Radial distance from the line of sight (m)')\n",
    "plt.legend()\n",
    "\n",
    "plt.figure()\n",
    "plt.plot(np.linspace(0, 6),gaussian_beam(np.linspace(0, 6), [10000, 150e9]), label = 'z = 10000 m')\n",
    "plt.vlines(gaussian_beam_width(10000, 150e9), 0, np.max(gaussian_beam(np.linspace(0, 6), [10000, 150e9])), 'r', label='Beam width')\n",
    "plt.hlines(1/np.exp(2) * np.max(gaussian_beam(np.linspace(0, 6), [10000, 150e9])), 0, 6, 'orange', label='1/e² decrease')\n",
    "plt.title('Beam effective area')\n",
    "plt.xlabel('Radial distance from the line of sight (m)')\n",
    "plt.legend()\n",
    "\n",
    "plt.figure()\n",
    "plt.plot(np.linspace(0, 10),gaussian_beam(np.linspace(0, 10), [30000, 150e9]), label = 'z = 30000 m')\n",
    "plt.vlines(gaussian_beam_width(30000, 150e9), 0, np.max(gaussian_beam(np.linspace(0, 10), [30000, 150e9])), 'r', label='Beam width')\n",
    "plt.hlines(1/np.exp(2) * np.max(gaussian_beam(np.linspace(0, 10), [30000, 150e9])), 0, 10, 'orange', label='1/e² decrease')\n",
    "plt.title('Beam effective area')\n",
    "plt.xlabel('Radial distance from the line of sight (m)')\n",
    "plt.legend()"
   ]
  },
  {
   "cell_type": "code",
   "execution_count": null,
   "id": "9b64f23f",
   "metadata": {},
   "outputs": [],
   "source": [
    "plt.figure()\n",
    "plt.plot(np.linspace(0, 0.008),normalized_gaussian_beam(np.linspace(0, 0.008), [0, 150e9]), label = 'z = 0 m')\n",
    "plt.vlines(gaussian_beam_width(0, 150e9), 0, np.max(normalized_gaussian_beam(np.linspace(0, 2), [0, 150e9])), 'r', label='Beam width')\n",
    "plt.hlines(1/np.exp(2) * np.max(normalized_gaussian_beam(np.linspace(0, 0.008), [0, 150e9])), 0, 0.008, 'orange', label='1/e² decrease')\n",
    "plt.title('Beam effective area')\n",
    "plt.legend()\n",
    "plt.xlabel('Radial distance from the line of sight (m)')\n",
    "\n",
    "plt.figure()\n",
    "plt.plot(np.linspace(0, 2),normalized_gaussian_beam(np.linspace(0, 2), [1000, 150e9]), label = 'z = 1000 m')\n",
    "plt.vlines(gaussian_beam_width(1000, 150e9), 0, np.max(normalized_gaussian_beam(np.linspace(0, 2), [1000, 150e9])), 'r', label='Beam width')\n",
    "plt.hlines(1/np.exp(2) * np.max(normalized_gaussian_beam(np.linspace(0, 2), [1000, 150e9])), 0, 2, 'orange', label='1/e² decrease')\n",
    "plt.title('Beam effective area')\n",
    "plt.xlabel('Radial distance from the line of sight (m)')\n",
    "plt.legend()\n",
    "\n",
    "plt.figure()\n",
    "plt.plot(np.linspace(0, 6),normalized_gaussian_beam(np.linspace(0, 6), [10000, 150e9]), label = 'z = 10000 m')\n",
    "plt.vlines(gaussian_beam_width(10000, 150e9), 0, np.max(normalized_gaussian_beam(np.linspace(0, 6), [10000, 150e9])), 'r', label='Beam width')\n",
    "plt.hlines(1/np.exp(2) * np.max(normalized_gaussian_beam(np.linspace(0, 6), [10000, 150e9])), 0, 6, 'orange', label='1/e² decrease')\n",
    "plt.title('Beam effective area')\n",
    "plt.xlabel('Radial distance from the line of sight (m)')\n",
    "plt.legend()\n",
    "\n",
    "plt.figure()\n",
    "plt.plot(np.linspace(0, 10),normalized_gaussian_beam(np.linspace(0, 10), [30000, 150e9]), label = 'z = 30000 m')\n",
    "plt.vlines(gaussian_beam_width(30000, 150e9), 0, np.max(normalized_gaussian_beam(np.linspace(0, 10), [30000, 150e9])), 'r', label='Beam width')\n",
    "plt.hlines(1/np.exp(2) * np.max(normalized_gaussian_beam(np.linspace(0, 10), [30000, 150e9])), 0, 10, 'orange', label='1/e² decrease')\n",
    "plt.title('Beam effective area')\n",
    "plt.xlabel('Radial distance from the line of sight (m)')\n",
    "plt.legend()"
   ]
  },
  {
   "cell_type": "code",
   "execution_count": null,
   "id": "ece21a59",
   "metadata": {},
   "outputs": [],
   "source": [
    "def rho_gaussian(z, r, theta, el):\n",
    "    return water_vapor_density(h + z * np.sin(el) + np.sin(el) * np.sin(theta) * r, rho_0, h0)\n",
    "\n",
    "def temp_gaussian(z, r, theta, el):\n",
    "    return atm_temp(h + z * np.sin(el) + np.sin(el) * np.sin(theta) * r)"
   ]
  },
  {
   "cell_type": "code",
   "execution_count": null,
   "id": "457841d2",
   "metadata": {},
   "outputs": [],
   "source": [
    "def integrand_without_perturbation_gaussian(r, theta, z, el, freq):\n",
    "    return temp_gaussian(z, r, theta, el) * rho_gaussian(z, r, theta, el) * gaussian_beam(r, [z, freq])\n",
    "\n",
    "def atm_contribution_without_perturbation_gaussian(height, el, freq):\n",
    "    ''' \n",
    "    height : Height after which we consider that the contribution of the atmosphere is negligable\n",
    "\n",
    "    For now, integration on the section of the beam from 0 to w(z)\n",
    "    '''\n",
    "    return molecular_absorption_coeff() * scipy.integrate.tplquad(integrand_without_perturbation_gaussian, 0, (height-h) / np.sin(el),\n",
    "                                                                  0, 2*np.pi, 0, np.inf, args=[el, freq])[0]"
   ]
  },
  {
   "cell_type": "code",
   "execution_count": null,
   "id": "537bb94c",
   "metadata": {},
   "outputs": [],
   "source": [
    "r, theta, el, z, freq = 0, 0, np.radians(0), 0, 150e9\n",
    "print('Integrand computation time')\n",
    "%timeit integrand_without_perturbation_gaussian(r, theta, z, el, freq)\n",
    "print('Temperature computation time')\n",
    "%timeit temp_cylinder(z, r, theta, el)\n",
    "print('Water computation time')\n",
    "%timeit rho_cylinder(z, r, theta, el)\n",
    "print('Normalized beam computation time')\n",
    "%timeit normalized_gaussian_beam(r, [z, freq])\n",
    "print('Beam computation time')\n",
    "%timeit gaussian_beam(r, [z, freq])\n",
    "print('Beam width computation time')\n",
    "%timeit gaussian_beam_width(z, freq)"
   ]
  },
  {
   "cell_type": "code",
   "execution_count": null,
   "id": "d165958f",
   "metadata": {},
   "outputs": [],
   "source": [
    "%timeit atm_contribution_without_perturbation_gaussian(height, np.radians(90), 150e9)"
   ]
  },
  {
   "cell_type": "code",
   "execution_count": null,
   "id": "5125eeef",
   "metadata": {},
   "outputs": [],
   "source": [
    "atm_contrib_vertical, atm_contrib_elevation, atm_contrib_elevation_bis = [], [], []\n",
    "for height in height_list:\n",
    "    atm_contrib_elevation.append(atm_contribution_without_perturbation_gaussian(height, np.radians(30), 150e9))\n",
    "    atm_contrib_elevation_bis.append(atm_contribution_without_perturbation_gaussian(height, np.radians(50), 150e9))\n",
    "    atm_contrib_vertical.append(atm_contribution_without_perturbation_gaussian(height, np.radians(90), 150e9))"
   ]
  },
  {
   "cell_type": "code",
   "execution_count": null,
   "id": "fb4ee36d",
   "metadata": {},
   "outputs": [],
   "source": [
    "\n",
    "plt.figure()\n",
    "plt.plot(atm_contrib_elevation, height_list, label='Elevation = 30°')\n",
    "plt.plot(atm_contrib_elevation_bis, height_list, label='Elevation = 50°')\n",
    "plt.plot(atm_contrib_vertical, height_list, label ='Vertical line of sight')\n",
    "plt.xlabel('Atm contribution to one detector (K)')\n",
    "plt.ylabel('Altitude (m)')\n",
    "plt.title('Integration on beam volume')\n",
    "plt.legend()\n",
    "\n",
    "#hide x-axis\n",
    "plt.xticks([])"
   ]
  },
  {
   "cell_type": "markdown",
   "id": "be910d8b",
   "metadata": {},
   "source": [
    "## Atmospheric contribution to the detector aligned with the line of sight, taking into account the water vapor distribution"
   ]
  },
  {
   "cell_type": "code",
   "execution_count": null,
   "id": "15fd4fd5",
   "metadata": {},
   "outputs": [],
   "source": [
    "from scipy.interpolate import RegularGridInterpolator\n",
    "rho_3d_interpolated = RegularGridInterpolator((x ,y, z), rho_3d_real)"
   ]
  },
  {
   "cell_type": "code",
   "execution_count": null,
   "id": "64f08f71",
   "metadata": {},
   "outputs": [],
   "source": [
    "rho_3d_interpolated([x[0], y[0], z[0]])[0]"
   ]
  },
  {
   "cell_type": "code",
   "execution_count": null,
   "id": "c5424dc9",
   "metadata": {},
   "outputs": [],
   "source": [
    "fig = plt.figure()\n",
    "ax = fig.add_subplot(111, projection='3d')\n",
    "\n",
    "rho_3d_real_from_interpolation = np.zeros((N, N, N))\n",
    "for i_index, i in enumerate(x):\n",
    "    for j_index, j in enumerate(y):\n",
    "        for k_index, k in enumerate(z):\n",
    "            rho_3d_real_from_interpolation[i_index, j_index, k_index] = rho_3d_interpolated([i, j, k])[0]\n",
    "\n",
    "scatter_real = ax.scatter(X, Y, Z, c=rho_3d_real_from_interpolation, cmap='jet')\n",
    "\n",
    "# Set labels\n",
    "ax.set_xlabel('X (m)')\n",
    "ax.set_ylabel('Y (m)')\n",
    "ax.set_zlabel('Z (m)')\n",
    "ax.set_title('Water Vapor Distribution')\n",
    "cbar = fig.colorbar(scatter_real, ax=ax, location = 'left')\n",
    "cbar.set_label('Water Vapor density (g/m3)')\n",
    "plt.show()"
   ]
  },
  {
   "cell_type": "code",
   "execution_count": null,
   "id": "2e99e6b7",
   "metadata": {},
   "outputs": [],
   "source": [
    "def integrand_with_perturbation_gaussian(r, theta, z, el, freq):\n",
    "    return temp_gaussian(z, r, theta, el) * rho_3d_interpolated(z*np.cos(theta)*np.sin(el), z*np.sin(theta)*np.sin(el), z*np.sin(el)) * gaussian_beam(r, [z, freq])\n",
    "\n",
    "def atm_contribution_with_perturbation_gaussian(height, el, freq):\n",
    "    ''' \n",
    "    height : Height after which we consider that the contribution of the atmosphere is negligable\n",
    "\n",
    "    For now, integration on the section of the beam from 0 to w(z)\n",
    "    '''\n",
    "    return molecular_absorption_coeff() * scipy.integrate.tplquad(integrand_without_perturbation_gaussian, 0, (height-h) / np.sin(el),\n",
    "                                                                  0, 2*np.pi, 0, np.inf, args=[el, freq])[0]"
   ]
  },
  {
   "cell_type": "code",
   "execution_count": null,
   "id": "acaaa271",
   "metadata": {},
   "outputs": [],
   "source": [
    "atm_contrib_vertical_perturb, atm_contrib_elevation_perturb, atm_contrib_elevation_perturb_bis = [], [], []\n",
    "for height in height_list:\n",
    "    atm_contrib_elevation_perturb.append(atm_contribution_without_perturbation_gaussian(height, np.radians(30), 150e9))\n",
    "    atm_contrib_elevation_perturb_bis.append(atm_contribution_without_perturbation_gaussian(height, np.radians(50), 150e9))\n",
    "    atm_contrib_vertical_perturb.append(atm_contribution_without_perturbation_gaussian(height, np.radians(90), 150e9))"
   ]
  },
  {
   "cell_type": "code",
   "execution_count": null,
   "id": "6be9e740",
   "metadata": {},
   "outputs": [],
   "source": [
    "plt.figure()\n",
    "plt.plot(atm_contrib_elevation, height_list, label='Elevation = 30°')\n",
    "plt.plot(atm_contrib_elevation_bis, height_list, label='Elevation = 50°')\n",
    "plt.plot(atm_contrib_vertical, height_list, label ='Vertical line of sight')\n",
    "plt.plot(atm_contrib_elevation_perturb, height_list, label='Perturbation - Elevation = 30°')\n",
    "plt.plot(atm_contrib_elevation_perturb_bis, height_list, label='Perturbation - Elevation = 50°')\n",
    "plt.plot(atm_contrib_vertical_perturb, height_list, label ='Perturbation - Vertical line of sight')\n",
    "plt.xlabel('Atm contribution to one detector (K)')\n",
    "plt.ylabel('Altitude (m)')\n",
    "plt.title('Integration on beam volume')\n",
    "plt.legend()\n",
    "\n",
    "#hide x-axis\n",
    "plt.xticks([])"
   ]
  },
  {
   "cell_type": "code",
   "execution_count": null,
   "id": "1cc6764a",
   "metadata": {},
   "outputs": [],
   "source": [
    "plt.figure()\n",
    "diff = np.zeros((3, len(height_list)))\n",
    "for i in range(len(height_list)):\n",
    "    diff[0][i] = atm_contrib_elevation[i] - atm_contrib_elevation_perturb[i]\n",
    "    diff[1][i] = atm_contrib_elevation_bis[i] - atm_contrib_elevation_perturb_bis[i]\n",
    "    diff[2][i] = atm_contrib_vertical[i] - atm_contrib_vertical_perturb[i]\n",
    "plt.plot(diff[0], height_list, label='Difference - Elevation = 30°')\n",
    "plt.plot(diff[1], height_list, label='Difference - Elevation = 50°')\n",
    "plt.plot(diff[2], height_list, label ='Difference - Vertical line of sight')\n",
    "\n",
    "plt.xlabel('Difference to atm contribution to one detector (K)')\n",
    "plt.ylabel('Altitude (m)')\n",
    "plt.title('Integration on beam volume')\n",
    "plt.legend()"
   ]
  },
  {
   "cell_type": "code",
   "execution_count": null,
   "id": "6c215cea",
   "metadata": {},
   "outputs": [],
   "source": []
  },
  {
   "cell_type": "code",
   "execution_count": null,
   "id": "e290d1da",
   "metadata": {},
   "outputs": [],
   "source": []
  },
  {
   "cell_type": "code",
   "execution_count": null,
   "id": "fc16f8af",
   "metadata": {},
   "outputs": [],
   "source": []
  }
 ],
 "metadata": {
  "kernelspec": {
   "display_name": "Python 3 (ipykernel)",
   "language": "python",
   "name": "python3"
  },
  "language_info": {
   "codemirror_mode": {
    "name": "ipython",
    "version": 3
   },
   "file_extension": ".py",
   "mimetype": "text/x-python",
   "name": "python",
   "nbconvert_exporter": "python",
   "pygments_lexer": "ipython3",
   "version": "3.9.18"
  }
 },
 "nbformat": 4,
 "nbformat_minor": 5
}
