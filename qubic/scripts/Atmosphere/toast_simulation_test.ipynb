{
 "cells": [
  {
   "cell_type": "code",
   "execution_count": null,
   "metadata": {},
   "outputs": [],
   "source": [
    "import os\n",
    "import sys\n",
    "import argparse\n",
    "\n",
    "import toast\n",
    "from toast.mpi import MPI\n",
    "\n",
    "import toast.io\n",
    "import toast.schedule\n",
    "import toast.ops"
   ]
  },
  {
   "cell_type": "code",
   "execution_count": null,
   "metadata": {},
   "outputs": [],
   "source": [
    "toast.__version__"
   ]
  },
  {
   "cell_type": "code",
   "execution_count": null,
   "metadata": {},
   "outputs": [],
   "source": [
    "env = toast.utils.Environment.get()\n",
    "log = toast.utils.Logger.get()"
   ]
  },
  {
   "cell_type": "code",
   "execution_count": null,
   "metadata": {},
   "outputs": [],
   "source": [
    "# Get optional MPI parameters\n",
    "comm, procs, rank = toast.mpi.get_world()"
   ]
  },
  {
   "cell_type": "code",
   "execution_count": null,
   "metadata": {},
   "outputs": [],
   "source": [
    "# Get just our focalplane and schedule from the command line\n",
    "#! Work only for Python script\n",
    "parser = argparse.ArgumentParser(description=\"Simple Ground Simulation Example.\")\n",
    "\n",
    "parser.add_argument(\n",
    "    \"--focalplane\", required=True, default=None, help=\"Input fake focalplane\"\n",
    ")\n",
    "\n",
    "parser.add_argument(\n",
    "    \"--schedule\", required=True, default=None, help=\"Input observing schedule\"\n",
    ")\n",
    "\n",
    "parser.add_argument(\n",
    "    \"--thinfp\",\n",
    "    required=False,\n",
    "    default=1,\n",
    "    help=\"Focalplane thinning factor\",\n",
    "    type=int,\n",
    ")\n",
    "\n",
    "parser.add_argument(\n",
    "    \"--weather\",\n",
    "    required=False,\n",
    "    default=None,\n",
    "    help=\"Weather information. Infer from observing site if not provided.\",\n",
    ")"
   ]
  },
  {
   "cell_type": "code",
   "execution_count": null,
   "metadata": {},
   "outputs": [],
   "source": [
    "# Build the parser\n",
    "args = parser.parse_args(['--focalplane', '/home/laclavere/Documents/Thesis/qubic/qubic/scripts/Atmosphere/focalplanes/focalplane_SAT1_SAT_f095.h5',\n",
    "            '--schedule', '/home/laclavere/Documents/Thesis/qubic/qubic/scripts/Atmosphere/schedules/pole_schedule_sat.1ces.txt',\n",
    "            '--thinfp', '1'])\n"
   ]
  },
  {
   "cell_type": "code",
   "execution_count": null,
   "metadata": {},
   "outputs": [],
   "source": [
    "# Create our own directory\n",
    "out_dir = \"toast_sim_ground_simple\"\n",
    "if comm is not None or rank == 0:\n",
    "    if not os.path.exists(out_dir):\n",
    "        os.makedirs(out_dir)\n",
    "    else:\n",
    "        print(\"Output directory {} already exists\".format(out_dir))"
   ]
  },
  {
   "cell_type": "code",
   "execution_count": null,
   "metadata": {},
   "outputs": [],
   "source": [
    " # Load a generic focalplane file.\n",
    "focalplane = toast.instrument.Focalplane(thinfp=args.thinfp)\n",
    "with toast.io.H5File(args.focalplane, \"r\", comm=comm, force_serial=True) as f:\n",
    "    focalplane.load_hdf5(f.handle, comm=comm)"
   ]
  },
  {
   "cell_type": "code",
   "execution_count": null,
   "metadata": {},
   "outputs": [],
   "source": [
    "# Load the schedule file\n",
    "schedule = toast.schedule.GroundSchedule()\n",
    "schedule.read(args.schedule, comm=comm)"
   ]
  },
  {
   "cell_type": "code",
   "execution_count": null,
   "metadata": {},
   "outputs": [],
   "source": [
    "# Create a telescope for the simulation.  Again, for a specific experiment we\n",
    "# would use custom classes for the site.\n",
    "site = toast.instrument.GroundSite(\n",
    "    schedule.site_name,\n",
    "    schedule.site_lat,\n",
    "    schedule.site_lon,\n",
    "    schedule.site_alt,\n",
    ")\n",
    "telescope = toast.instrument.Telescope(\n",
    "    schedule.telescope_name, focalplane=focalplane, site=site\n",
    ")"
   ]
  },
  {
   "cell_type": "code",
   "execution_count": null,
   "metadata": {},
   "outputs": [],
   "source": [
    "# Create the toast communicator.  Use the default of one group.\n",
    "toast_comm = toast.Comm(world=comm)"
   ]
  },
  {
   "cell_type": "code",
   "execution_count": null,
   "metadata": {},
   "outputs": [],
   "source": [
    "# Create the (initially empty) data\n",
    "data = toast.Data(comm=toast_comm)"
   ]
  },
  {
   "cell_type": "markdown",
   "metadata": {},
   "source": [
    "# Simulate data\n",
    "    # ---------------------------------------------------------------"
   ]
  },
  {
   "cell_type": "code",
   "execution_count": null,
   "metadata": {},
   "outputs": [],
   "source": [
    "# Try using site name for weather if not user-provided\n",
    "weather = None\n",
    "if args.weather is None:\n",
    "    weather = schedule.site_name.lower()\n",
    "else:\n",
    "    weather = args.weather"
   ]
  },
  {
   "cell_type": "code",
   "execution_count": null,
   "metadata": {},
   "outputs": [],
   "source": [
    "# Simulate the telescope pointing\n",
    "sim_ground = toast.ops.SimGround(\n",
    "    telescope=telescope,\n",
    "    schedule=schedule,\n",
    "    detset_key=\"pixel\",\n",
    "    weather=weather,\n",
    ")\n",
    "sim_ground.apply(data)"
   ]
  },
  {
   "cell_type": "code",
   "execution_count": null,
   "metadata": {},
   "outputs": [],
   "source": [
    "# Construct a \"perfect\" noise model just from the focalplane parameters\n",
    "default_model = toast.ops.DefaultNoiseModel()\n",
    "default_model.apply(data)"
   ]
  },
  {
   "cell_type": "code",
   "execution_count": null,
   "metadata": {},
   "outputs": [],
   "source": [
    "# Set up detector pointing.  This just uses the focalplane offsets.\n",
    "det_pointing_azel = toast.ops.PointingDetectorSimple(\n",
    "    boresight=sim_ground.boresight_azel, quats=\"quats_azel\"\n",
    ")\n",
    "det_pointing_radec = toast.ops.PointingDetectorSimple(\n",
    "    boresight=sim_ground.boresight_radec, quats=\"quats_radec\"\n",
    ")"
   ]
  },
  {
   "cell_type": "code",
   "execution_count": null,
   "metadata": {},
   "outputs": [],
   "source": []
  },
  {
   "cell_type": "code",
   "execution_count": null,
   "metadata": {},
   "outputs": [],
   "source": []
  },
  {
   "cell_type": "code",
   "execution_count": null,
   "metadata": {},
   "outputs": [],
   "source": []
  },
  {
   "cell_type": "code",
   "execution_count": null,
   "metadata": {},
   "outputs": [],
   "source": []
  },
  {
   "cell_type": "code",
   "execution_count": null,
   "metadata": {},
   "outputs": [],
   "source": []
  },
  {
   "cell_type": "code",
   "execution_count": null,
   "metadata": {},
   "outputs": [],
   "source": []
  }
 ],
 "metadata": {
  "kernelspec": {
   "display_name": "venv-qubic",
   "language": "python",
   "name": "python3"
  },
  "language_info": {
   "codemirror_mode": {
    "name": "ipython",
    "version": 3
   },
   "file_extension": ".py",
   "mimetype": "text/x-python",
   "name": "python",
   "nbconvert_exporter": "python",
   "pygments_lexer": "ipython3",
   "version": "3.9.18"
  }
 },
 "nbformat": 4,
 "nbformat_minor": 2
}
