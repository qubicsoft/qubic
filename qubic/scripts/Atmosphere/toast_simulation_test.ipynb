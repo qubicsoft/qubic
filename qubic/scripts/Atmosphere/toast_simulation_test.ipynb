{
 "cells": [
  {
   "cell_type": "code",
   "execution_count": null,
   "metadata": {},
   "outputs": [],
   "source": [
    "import os\n",
    "import argparse\n",
    "\n",
    "import toast\n",
    "from toast.mpi import MPI"
   ]
  },
  {
   "cell_type": "code",
   "execution_count": null,
   "metadata": {},
   "outputs": [],
   "source": [
    "toast.__version__"
   ]
  },
  {
   "cell_type": "code",
   "execution_count": null,
   "metadata": {},
   "outputs": [],
   "source": [
    "env = toast.utils.Environment.get()\n",
    "log = toast.utils.Logger.get()"
   ]
  },
  {
   "cell_type": "code",
   "execution_count": null,
   "metadata": {},
   "outputs": [],
   "source": [
    "# Get optional MPI parameters\n",
    "comm, procs, rank = toast.mpi.get_world()"
   ]
  },
  {
   "cell_type": "code",
   "execution_count": null,
   "metadata": {},
   "outputs": [],
   "source": [
    "# Get just our focalplane and schedule from the command line\n",
    "parser = argparse.ArgumentParser(description=\"Simple Ground Simulation Example.\")\n",
    "\n",
    "parser.add_argument(\n",
    "    \"--focalplane\", required=True, default=None, help=\"Input fake focalplane\"\n",
    ")\n",
    "\n",
    "parser.add_argument(\n",
    "    \"--schedule\", required=True, default=None, help=\"Input observing schedule\"\n",
    ")\n",
    "\n",
    "parser.add_argument(\n",
    "    \"--thinfp\",\n",
    "    required=False,\n",
    "    default=1,\n",
    "    help=\"Focalplane thinning factor\",\n",
    "    type=int,\n",
    ")\n",
    "\n",
    "parser.add_argument(\n",
    "    \"--weather\",\n",
    "    required=False,\n",
    "    default=None,\n",
    "    help=\"Weather information. Infer from observing site if not provided.\",\n",
    ")\n",
    "\n",
    "args = parser.parse_args()"
   ]
  },
  {
   "cell_type": "code",
   "execution_count": null,
   "metadata": {},
   "outputs": [],
   "source": []
  },
  {
   "cell_type": "code",
   "execution_count": null,
   "metadata": {},
   "outputs": [],
   "source": []
  },
  {
   "cell_type": "code",
   "execution_count": null,
   "metadata": {},
   "outputs": [],
   "source": []
  },
  {
   "cell_type": "code",
   "execution_count": null,
   "metadata": {},
   "outputs": [],
   "source": []
  },
  {
   "cell_type": "code",
   "execution_count": null,
   "metadata": {},
   "outputs": [],
   "source": []
  }
 ],
 "metadata": {
  "kernelspec": {
   "display_name": "venv-qubic",
   "language": "python",
   "name": "python3"
  },
  "language_info": {
   "codemirror_mode": {
    "name": "ipython",
    "version": 3
   },
   "file_extension": ".py",
   "mimetype": "text/x-python",
   "name": "python",
   "nbconvert_exporter": "python",
   "pygments_lexer": "ipython3",
   "version": "3.9.18"
  }
 },
 "nbformat": 4,
 "nbformat_minor": 2
}
