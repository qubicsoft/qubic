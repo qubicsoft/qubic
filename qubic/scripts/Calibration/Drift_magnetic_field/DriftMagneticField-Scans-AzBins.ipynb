{
 "cells": [
  {
   "cell_type": "code",
   "execution_count": null,
   "id": "a68c48b7",
   "metadata": {},
   "outputs": [],
   "source": [
    "#%matplotlib notebook\n",
    "%matplotlib inline\n",
    "from matplotlib import rc\n",
    "rc('figure',figsize=(9,4.5))\n",
    "rc('font',size=12)\n",
    "rc('text',usetex=False)\n",
    "\n",
    "from qubicpack import qubicpack as qp\n",
    "import fibtools as ft\n",
    "import plotters as p\n",
    "import lin_lib as ll\n",
    "import demodulation_lib as dl\n",
    "import satorchipy as stpy\n",
    "from pysimulators import FitsArray\n",
    "\n",
    "import numpy as np\n",
    "from matplotlib.pyplot import *\n",
    "import matplotlib.mlab as mlab\n",
    "import scipy.ndimage.filters as f\n",
    "import glob\n",
    "import string\n",
    "import scipy.signal as scsig\n",
    "from scipy import interpolate\n",
    "import datetime as dt\n",
    "import pickle\n",
    "from qubic.utils import progress_bar\n"
   ]
  },
  {
   "cell_type": "code",
   "execution_count": null,
   "id": "37434522",
   "metadata": {},
   "outputs": [],
   "source": [
    "days = ['2019-07-01', '2019-07-02']\n",
    "alldirs = []\n",
    "for d in days:\n",
    "    data_dir = '/qubic/Data/Calib-TD/'+d+'/'\n",
    "    alldirs.append(np.sort(glob.glob(data_dir+'*ScanSmallMap_150GHz*')))\n",
    "dirs = np.append(alldirs[0], alldirs[1])  \n",
    "    \n",
    "el = []\n",
    "for i in range(len(dirs)):\n",
    "    d = dirs[i]\n",
    "    #print(d)\n",
    "    bla = str.split(d,'_')\n",
    "    #print(bla)\n",
    "    el.append(float(bla[-1]))\n",
    "el = np.array(el)\n",
    "delta_el = np.mean((el-np.roll(el,-1))[0:-1])\n",
    "print(delta_el)\n"
   ]
  },
  {
   "cell_type": "code",
   "execution_count": null,
   "id": "04aeef58",
   "metadata": {},
   "outputs": [],
   "source": [
    "def normalize(x):\n",
    "    return (x-np.nanmean(x))/np.nanstd(x)"
   ]
  },
  {
   "cell_type": "code",
   "execution_count": null,
   "id": "f98c5c23",
   "metadata": {},
   "outputs": [],
   "source": [
    "cth = np.cos(np.radians(50))\n",
    "azmin = -25\n",
    "azmax = 25\n",
    "nbins_az = (int)(np.floor((azmax-azmin)*cth/delta_el))\n",
    "print(nbins_az)\n",
    "azlims = np.linspace(azmin,azmax, nbins_az+1)\n",
    "az = (azlims[:-1]+azlims[1:])/2"
   ]
  },
  {
   "cell_type": "code",
   "execution_count": null,
   "id": "312bc68a",
   "metadata": {},
   "outputs": [],
   "source": [
    "rc('figure',figsize=(10,7))\n",
    "allslopes = np.zeros((len(dirs), nbins_az, 256))\n",
    "allerrslopes = np.zeros((len(dirs), nbins_az, 256))\n",
    "\n",
    "bar = progress_bar(len(dirs), 'Elevations')\n",
    "for ifile in range(len(dirs)):\n",
    "    bar.update()\n",
    "    theASIC = 1\n",
    "    theTESnum = 93\n",
    "    for AsicNum in [1,2]:\n",
    "        a = qp()\n",
    "        a.read_qubicstudio_dataset(dirs[ifile], asic=AsicNum)\n",
    "        data=a.azel_etc(TES=None)\n",
    "        az_tdata = np.interp(data['t_data'], data['t_azel'], data['az'])\n",
    "    #     if AsicNum == theASIC:\n",
    "    #         plot(data['t_data'], normalize(data['data'][theTESnum-1,:]), label='Data ASIC {} TESNum {}'.format(theASIC, theTESnum))\n",
    "    #         plot(data['t_data'], normalize(az_tdata), label='Azimuth')\n",
    "    #         legend()\n",
    "        for j in range(nbins_az):\n",
    "            good_az = (az_tdata >= azlims[j]) & (az_tdata < azlims[j+1])\n",
    "            for i in range(128):    \n",
    "                pol, cov = np.polyfit(az_tdata[good_az],data['data'][i,good_az], 1, full=False, cov=True)\n",
    "                allslopes[ifile, j,(AsicNum-1)*128+i] = pol[0]\n",
    "                allerrslopes[ifile, j, (AsicNum-1)*128+i] = np.sqrt(np.diag(cov))[0]\n",
    "\n"
   ]
  },
  {
   "cell_type": "code",
   "execution_count": null,
   "id": "ad13ebf8",
   "metadata": {},
   "outputs": [],
   "source": [
    "normalized_slopes = allslopes / np.mean(allslopes, axis=(0,1))\n",
    "print(normalized_slopes.shape)\n",
    "mean_normalized_slopes = np.mean(normalized_slopes, axis=2)\n",
    "spread_normalized_slopes = np.std(normalized_slopes, axis=2)"
   ]
  },
  {
   "cell_type": "code",
   "execution_count": null,
   "id": "5bf75e18",
   "metadata": {},
   "outputs": [],
   "source": [
    "import scipy.ndimage.filters as scf\n",
    "\n",
    "rc('figure',figsize=(15,8))\n",
    "m,s = ft.meancut(np.abs(mean_normalized_slopes),3)\n",
    "subplot(1,2,1)\n",
    "imshow(scf.gaussian_filter(np.abs(mean_normalized_slopes),10),vmin = 0, vmax=m+5*s,\n",
    "       extent = [azmin*cth,azmax*cth, np.min(el), np.max(el)], aspect='equal')\n",
    "colorbar()\n",
    "xlabel('Azimuth Mount')\n",
    "ylabel('Elevation Mount')\n",
    "title('Average Normalized Slope w.r.t. Az')\n",
    "\n",
    "subplot(1,2,2)\n",
    "imshow(scf.gaussian_filter(np.abs(spread_normalized_slopes/np.sqrt(256)),10),vmin = 0, vmax=m+5*s,\n",
    "       extent = [azmin*cth,azmax*cth, np.min(el), np.max(el)], aspect='equal')\n",
    "colorbar()\n",
    "xlabel('Azimuth Mount')\n",
    "ylabel('Elevation Mount')\n",
    "title('Error on Average Normalized Slope w.r.t. Az')"
   ]
  },
  {
   "cell_type": "code",
   "execution_count": null,
   "id": "f2a401c8",
   "metadata": {},
   "outputs": [],
   "source": [
    "rc('figure',figsize=(6,4.5))\n",
    "for TESNum in range(1,257):\n",
    "    clf()\n",
    "    img = np.abs(normalized_slopes[:,:,TESNum-1].T)\n",
    "    m,s = ft.meancut(img,3)\n",
    "    imshow(img,vmin=m-3*s,vmax=m+3*s,\n",
    "           extent = [azmin,azmax, np.min(el), np.max(el)])\n",
    "    colorbar()\n",
    "    xlabel('Azimuth Mount')\n",
    "    ylabel('Elevation Mount')\n",
    "    title('TES #{} Normalized Slope w.r.t. Az'.format(TESNum))\n",
    "    show()\n",
    "    a=raw_input()"
   ]
  },
  {
   "cell_type": "code",
   "execution_count": null,
   "id": "d8290719",
   "metadata": {},
   "outputs": [],
   "source": []
  }
 ],
 "metadata": {
  "kernelspec": {
   "display_name": "Python [default]",
   "language": "python",
   "name": "python2"
  }
 },
 "nbformat": 4,
 "nbformat_minor": 5
}
