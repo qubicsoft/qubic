{
 "cells": [
  {
   "cell_type": "code",
   "execution_count": null,
   "id": "d70488cc",
   "metadata": {},
   "outputs": [],
   "source": [
    "#%matplotlib notebook\n",
    "%matplotlib inline\n",
    "from matplotlib import rc\n",
    "rc('figure',figsize=(9,4.5))\n",
    "rc('font',size=12)\n",
    "rc('text',usetex=False)\n",
    "\n",
    "from qubicpack import qubicpack as qp\n",
    "import qubic.fibtools as ft\n",
    "import qubic.plotters as p\n",
    "import qubic.lin_lib as ll\n",
    "import qubic.demodulation_lib as dl\n",
    "import satorchipy as stpy\n",
    "from pysimulators import FitsArray\n",
    "\n",
    "import numpy as np\n",
    "from matplotlib.pyplot import *\n",
    "import matplotlib.mlab as mlab\n",
    "import scipy.ndimage.filters as f\n",
    "import glob\n",
    "import string\n",
    "import scipy.signal as scsig\n",
    "from scipy import interpolate\n",
    "import datetime as dt\n",
    "import pickle\n"
   ]
  },
  {
   "cell_type": "code",
   "execution_count": null,
   "id": "16b74db9",
   "metadata": {},
   "outputs": [],
   "source": [
    "days = ['2019-07-01', '2019-07-02']\n",
    "alldirs = []\n",
    "for d in days:\n",
    "    data_dir = '/qubic/Data/Calib-TD/'+d+'/'\n",
    "    alldirs.append(np.sort(glob.glob(data_dir+'*ScanSmallMap_150GHz*')))\n",
    "dirs = np.append(alldirs[0], alldirs[1])  \n",
    "    \n",
    "el = []\n",
    "for i in range(len(dirs)):\n",
    "    d = dirs[i]\n",
    "    #print(d)\n",
    "    bla = str.split(d,'_')\n",
    "    #print(bla)\n",
    "    el.append(float(bla[-1]))\n",
    "el = np.array(el)"
   ]
  },
  {
   "cell_type": "code",
   "execution_count": null,
   "id": "a46aafdf",
   "metadata": {},
   "outputs": [],
   "source": [
    "def normalize(x):\n",
    "    return (x-np.nanmean(x))/np.nanstd(x)"
   ]
  },
  {
   "cell_type": "code",
   "execution_count": null,
   "id": "979ecf2a",
   "metadata": {},
   "outputs": [],
   "source": [
    "### Uncomment if you want to run it\n",
    "\n",
    "# rc('figure',figsize=(10,7))\n",
    "# allslopes = np.zeros((len(dirs), 256))\n",
    "# for ifile in range(len(dirs)):\n",
    "#     theASIC = 1\n",
    "#     theTESnum = 93\n",
    "\n",
    "#     slopes = np.zeros(256)\n",
    "#     err_slopes = np.zeros(256)\n",
    "#     for AsicNum in [1,2]:\n",
    "#         a = qp()\n",
    "#         a.read_qubicstudio_dataset(dirs[ifile], asic=AsicNum)\n",
    "#         data=a.azel_etc(TES=None)\n",
    "#         az_tdata = np.interp(data['t_data'], data['t_azel'], data['az'])\n",
    "#     #     if AsicNum == theASIC:\n",
    "#     #         plot(data['t_data'], normalize(data['data'][theTESnum-1,:]), label='Data ASIC {} TESNum {}'.format(theASIC, theTESnum))\n",
    "#     #         plot(data['t_data'], normalize(az_tdata), label='Azimuth')\n",
    "#     #         legend()\n",
    "#         for i in range(128):\n",
    "#             pol, cov = np.polyfit(az_tdata,data['data'][i,:], 1, full=False, cov=True)\n",
    "#             slopes[(AsicNum-1)*128+i] = pol[0]\n",
    "#             err_slopes[(AsicNum-1)*128+i] = np.sqrt(np.diag(cov))[0]\n",
    "\n",
    "#     slopes_1 = np.reshape(slopes[:128], (4,32)).T\n",
    "#     slopes_2 = np.reshape(slopes[128:], (4,32)).T\n",
    "#     clf()\n",
    "#     subplot(2,3,1)\n",
    "#     img = ft.image_asics(all1=slopes)\n",
    "#     imshow(np.abs(img),vmin=0,vmax=40000)\n",
    "#     title('Elevation = {0:5.2f} deg.'.format(el[ifile]))\n",
    "#     colorbar()\n",
    "#     subplot(2,3,4)\n",
    "#     hist(np.log10(np.abs(slopes[:128])), range=[0.1,np.log10(np.max(np.abs(slopes)))+1], bins=20, alpha=0.5, label='Asic 1',color='blue')\n",
    "#     hist(np.log10(np.abs(slopes[128:])), range=[0.1,np.log10(np.max(np.abs(slopes)))+1], bins=20, alpha=0.5, label='Asic 2', color='red')\n",
    "#     legend()\n",
    "#     xlabel('Log10(|Slope| [ADU/Deg.])')\n",
    "#     subplot(1,3,2)\n",
    "#     imshow(np.abs(slopes_1), origin='lower',vmin=0,vmax=40000, extent=[0.5,4.5, 0.5, 32.5])\n",
    "#     colorbar()\n",
    "#     title('Asic 1')\n",
    "#     subplot(1,3,3)\n",
    "#     imshow(np.abs(slopes_2), origin='lower',vmin=0,vmax=40000, extent=[0.5,4.5, 0.5, 32.5])\n",
    "#     colorbar()\n",
    "#     title('Asic 2')\n",
    "#     #tight_layout()\n",
    "\n",
    "#     savefig('/Volumes/Data/Qubic/Calib-TD/MagneticLeak/plotslopes_el_{0:5.2f}.png'.format(el[ifile]))\n",
    "#     np.savetxt('/Volumes/Data/Qubic/Calib-TD/MagneticLeak/slopes_el_{0:5.2f}.txt'.format(el[ifile]),slopes)\n",
    "\n"
   ]
  },
  {
   "cell_type": "code",
   "execution_count": null,
   "id": "a386e74f",
   "metadata": {},
   "outputs": [],
   "source": [
    "allslopes = np.zeros((len(dirs), 256))\n",
    "for ifile in range(len(dirs)):\n",
    "    allslopes[ifile,:] = np.loadtxt('/Volumes/Data/Qubic/Calib-TD/MagneticLeak/slopes_el_{0:5.2f}.txt'.format(el[ifile]))"
   ]
  },
  {
   "cell_type": "code",
   "execution_count": null,
   "id": "a61a1244",
   "metadata": {},
   "outputs": [],
   "source": [
    "imshow(np.log10(np.abs(allslopes)),vmin=1,vmax=5)\n",
    "colorbar()\n",
    "print(el[75])"
   ]
  },
  {
   "cell_type": "code",
   "execution_count": null,
   "id": "feb45a84",
   "metadata": {},
   "outputs": [],
   "source": [
    "allslopes_renorm=(allslopes-np.mean(allslopes, axis=0))/np.std(allslopes, axis=0)\n",
    "imshow(allslopes_renorm,vmin=0,vmax=2, extent=[0,255,np.min(el),np.max(el)], aspect='auto')\n",
    "colorbar()\n",
    "xlabel('TES #')\n",
    "ylabel('Elevation')"
   ]
  },
  {
   "cell_type": "code",
   "execution_count": null,
   "id": "26adc26a",
   "metadata": {},
   "outputs": [],
   "source": [
    "for i in range(256):\n",
    "    plot(el, allslopes_renorm[:,i],'k',alpha=0.05)\n",
    "    ylim(-10,10)"
   ]
  },
  {
   "cell_type": "code",
   "execution_count": null,
   "id": "2558d9f5",
   "metadata": {},
   "outputs": [],
   "source": [
    "tes_el_slope = np.zeros(256)\n",
    "tes_err_el_slope = np.zeros(256)\n",
    "for i in range(256):\n",
    "    pol, cov = np.polyfit(el,allslopes[:,i], 1, full=False, cov=True)\n",
    "    tes_el_slope[i] = pol[0]\n",
    "    tes_err_el_slope[i] = np.sqrt(np.diag(cov))[0]\n",
    "tes_el_slopes_1 = np.reshape(tes_el_slope[:128], (4,32)).T\n",
    "tes_el_slopes_2 = np.reshape(tes_el_slope[128:], (4,32)).T\n",
    "\n",
    "subplot(1,2,1)\n",
    "imshow(np.abs(tes_el_slopes_1), origin='lower', extent=[0.5,4.5, 0.5, 32.5])\n",
    "title('ASIC 1')\n",
    "colorbar()\n",
    "subplot(1,2,2)\n",
    "imshow(np.abs(tes_el_slopes_2), origin='lower', extent=[0.5,4.5, 0.5, 32.5])\n",
    "title('ASIC 2')\n",
    "colorbar()"
   ]
  },
  {
   "cell_type": "code",
   "execution_count": null,
   "id": "57dd961e",
   "metadata": {},
   "outputs": [],
   "source": [
    "subplot(1,2,1)\n",
    "imshow(np.sign(tes_el_slopes_1), origin='lower', extent=[0.5,4.5, 0.5, 32.5])\n",
    "title('ASIC 1')\n",
    "colorbar()\n",
    "subplot(1,2,2)\n",
    "imshow(np.sign(tes_el_slopes_2), origin='lower', extent=[0.5,4.5, 0.5, 32.5])\n",
    "title('ASIC 2')\n",
    "colorbar()"
   ]
  },
  {
   "cell_type": "code",
   "execution_count": null,
   "id": "917fcad8",
   "metadata": {},
   "outputs": [],
   "source": []
  },
  {
   "cell_type": "code",
   "execution_count": null,
   "id": "d893a294",
   "metadata": {},
   "outputs": [],
   "source": []
  },
  {
   "cell_type": "code",
   "execution_count": null,
   "id": "4365d199",
   "metadata": {},
   "outputs": [],
   "source": []
  }
 ],
 "metadata": {
  "kernelspec": {
   "display_name": "Python 3",
   "language": "python",
   "name": "python3"
  }
 },
 "nbformat": 4,
 "nbformat_minor": 5
}
