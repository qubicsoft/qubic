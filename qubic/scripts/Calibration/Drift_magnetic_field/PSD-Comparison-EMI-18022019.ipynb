{
 "cells": [
  {
   "cell_type": "markdown",
   "id": "609e6de0",
   "metadata": {},
   "source": [
    "# Comparison on PSD between various configurations \n",
    "## Objective: improving EMI/EMC\n",
    "Data taken on Feb 18th 2019 by MP, FV and ST - Code by JCH"
   ]
  },
  {
   "cell_type": "code",
   "execution_count": null,
   "id": "e33e8470",
   "metadata": {},
   "outputs": [],
   "source": [
    "%matplotlib notebook\n",
    "from matplotlib import rc\n",
    "rc('figure',figsize=(8,5))\n",
    "rc('font',size=12)\n",
    "rc('text',usetex=False)\n",
    "\n",
    "import fibtools as ft\n",
    "import plotters as p\n",
    "from qubicpack import qubicpack as qp\n",
    "\n",
    "import numpy as np\n",
    "from matplotlib.pyplot import *\n",
    "import matplotlib.mlab as mlab\n",
    "import scipy.ndimage.filters as f\n",
    "import glob\n",
    "import string"
   ]
  },
  {
   "cell_type": "markdown",
   "id": "d9aaac45",
   "metadata": {},
   "source": [
    "Get the names of the directories that were created during this session:"
   ]
  },
  {
   "cell_type": "code",
   "execution_count": null,
   "id": "e3a7e058",
   "metadata": {},
   "outputs": [],
   "source": [
    "init_dir = '/Users/hamilton/Qubic/Grounding/2019-02-18'\n",
    "dirs = glob.glob(init_dir+'/*')\n",
    "for d in dirs: print d"
   ]
  },
  {
   "cell_type": "markdown",
   "id": "ba99372f",
   "metadata": {},
   "source": [
    "Get the last part of the string in order to have proper label for each file:"
   ]
  },
  {
   "cell_type": "code",
   "execution_count": null,
   "id": "b8e092a7",
   "metadata": {},
   "outputs": [],
   "source": [
    "lab = []\n",
    "for d in dirs:\n",
    "    bla = 'spectre'+str.split(d,'spectre')[1]\n",
    "    print bla\n",
    "    lab.append(bla)"
   ]
  },
  {
   "cell_type": "markdown",
   "id": "2565ddfb",
   "metadata": {},
   "source": [
    "Select a TES and plot the spectra:"
   ]
  },
  {
   "cell_type": "code",
   "execution_count": null,
   "id": "f5ef9242",
   "metadata": {},
   "outputs": [],
   "source": [
    "allspecs = []\n",
    "allfreqs = []\n",
    "medspec = []\n",
    "for i in xrange(len(dirs)):\n",
    "    print(i)\n",
    "    a1 = qp()\n",
    "    a1.read_qubicstudio_dataset(dirs[i], asic=1)\n",
    "    a2 = qp()\n",
    "    a2.read_qubicstudio_dataset(dirs[i], asic=2)\n",
    "    nsamples = len(a1.timeline(TES=7))\n",
    "    pow2 = int(np.log(nsamples)/np.log(2))\n",
    "    ns = 2**pow2\n",
    "    FREQ_SAMPLING = 1./a1.sample_period()\n",
    "    print(nsamples)\n",
    "    \n",
    "    specs = np.zeros((256, ns/2+1))\n",
    "    for j in xrange(128):\n",
    "        spectrum, freq = mlab.psd(a1.timeline(TES=j+1)[:ns], Fs=FREQ_SAMPLING, NFFT=ns, window=mlab.window_hanning)\n",
    "        specs[j,:] = spectrum\n",
    "        spectrum, freq = mlab.psd(a2.timeline(TES=j+1)[:ns], Fs=FREQ_SAMPLING, NFFT=ns, window=mlab.window_hanning)\n",
    "        specs[j+128,:] = spectrum\n",
    "    allspecs.append(specs)\n",
    "    allfreqs.append(freq)\n",
    "    medspec.append(np.median(specs,axis=0))"
   ]
  },
  {
   "cell_type": "markdown",
   "id": "72a9ef4c",
   "metadata": {},
   "source": [
    "Now displaying the TES Spectra in the various configurations. If `median=False` the TES whose number is given by `theTES` will be plotted, instead the median of all TES will be plotted.\n",
    "\n",
    "The spectra are smoothed by a gaussian of widh `filt`. Values like 10 or more are useful for looking at high frequency while smaller values are better at low frequency.\n",
    "\n",
    "There will be as many plots as there are elements in `minfreq`, `maxfreq` and `filt`\n"
   ]
  },
  {
   "cell_type": "code",
   "execution_count": null,
   "id": "b36657ef",
   "metadata": {},
   "outputs": [],
   "source": [
    "rc('figure',figsize=(10,5))\n",
    "theTES = 96\n",
    "median=True\n",
    "\n",
    "minfreq = [1., 10.]\n",
    "maxfreq = [10., FREQ_SAMPLING/2]\n",
    "filt = [1,5]\n",
    "\n",
    "clf()\n",
    "for j in xrange(len(allspecs)):\n",
    "    for k in xrange(len(minfreq)):\n",
    "        subplot(1,len(minfreq),k+1)\n",
    "        xscale('log')\n",
    "        yscale('log')\n",
    "        xlim(minfreq[k], maxfreq[k])\n",
    "        ylim(5e4, 5e7)\n",
    "        if median:\n",
    "            toplot = medspec[j]\n",
    "        else:\n",
    "            toplot = allspecs[j][theTES,:]\n",
    "        plot(allfreqs[j], f.gaussian_filter1d(toplot,filt[k]), label=lab[j], alpha=0.5)\n",
    "        legend(loc='upper left', fontsize=5)\n",
    "        xlabel('Frequency [Hz]')\n",
    "        if j==0: \n",
    "            if median:\n",
    "                title('Median')\n",
    "            else:\n",
    "                title('TES={}'.format(theTES))\n",
    "            \n",
    "        \n",
    "show()"
   ]
  },
  {
   "cell_type": "code",
   "execution_count": null,
   "id": "676edb43",
   "metadata": {},
   "outputs": [],
   "source": []
  },
  {
   "cell_type": "code",
   "execution_count": null,
   "id": "23b8d37d",
   "metadata": {},
   "outputs": [],
   "source": []
  }
 ],
 "metadata": {
  "kernelspec": {
   "display_name": "Python 2",
   "language": "python",
   "name": "python2"
  }
 },
 "nbformat": 4,
 "nbformat_minor": 5
}
