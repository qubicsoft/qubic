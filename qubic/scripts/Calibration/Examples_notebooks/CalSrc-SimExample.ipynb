{
 "cells": [
  {
   "cell_type": "code",
   "execution_count": null,
   "id": "3b3a1e4a",
   "metadata": {},
   "outputs": [],
   "source": [
    "import numpy as np\n",
    "from matplotlib.pyplot import *\n",
    "\n",
    "#### General imports and config\n",
    "%matplotlib inline\n",
    "from matplotlib import rc\n",
    "rc('figure',figsize=(20, 8))\n",
    "rc('font',size=12)\n",
    "rc('text',usetex=False)\n",
    "\n",
    "#### QUBIC imports\n",
    "import qubic.fibtools as ft\n",
    "import qubic.plotters as p\n",
    "import qubic.lin_lib as ll\n",
    "import qubic.demodulation_lib as dl\n",
    "\n",
    "\n",
    "#### TIME SAMPLING\n",
    "sampling = 75.   ## Hz\n",
    "duration = 5.   ## sec\n",
    "time = np.linspace(0,duration, int(duration*sampling))\n",
    "\n",
    "\n",
    "#### Source characteristics\n",
    "rf_freq = 150.     # GHz\n",
    "amplitude = 1     # Volts\n",
    "offset = 1        # volts\n",
    "phase = 0.         # radians\n",
    "frequency = 0.6    # Hz [Modulation Frequency] \n",
    "\n",
    "signal_src = -ll.sim_generator_power(time, amplitude, offset, frequency, phase, rf_freq = rf_freq)\n",
    "\n",
    "plot(time, signal_src)\n",
    "xlabel('Time [Sec]')\n",
    "ylabel('Source Power [Arb. Units]')"
   ]
  },
  {
   "cell_type": "code",
   "execution_count": null,
   "id": "e7181fc5",
   "metadata": {},
   "outputs": [],
   "source": [
    "#### Comparison with real data\n",
    "tt, ss = np.loadtxt('/Users/hamilton/Downloads/calsource_20191216T134401.dat').T\n",
    "tt = tt - tt[0]\n",
    "\n",
    "rf_freq = 150.     # GHz\n",
    "amplitude = 1     # Volts\n",
    "offset = 1        # volts\n",
    "phase = -2.1         # radians\n",
    "frequency = 1.    # Hz [Modulation Frequency] \n",
    "\n",
    "plot(tt, dl.renorm(ss), label='CalSrc Data')\n",
    "plot(tt, -dl.renorm(ll.sim_generator_power(tt, amplitude, offset, frequency, phase, rf_freq = rf_freq))-0.1, label='Simulation')\n",
    "legend()\n",
    "xlabel('Time [Sec]')\n",
    "ylabel('Source Power [Arb. Units]')"
   ]
  },
  {
   "cell_type": "code",
   "execution_count": null,
   "id": "45f7a225",
   "metadata": {},
   "outputs": [],
   "source": []
  }
 ],
 "metadata": {
  "kernelspec": {
   "display_name": "Python 3",
   "language": "python",
   "name": "python3"
  }
 },
 "nbformat": 4,
 "nbformat_minor": 5
}
