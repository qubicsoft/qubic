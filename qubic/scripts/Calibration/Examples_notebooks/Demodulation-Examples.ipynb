{
 "cells": [
  {
   "cell_type": "code",
   "execution_count": null,
   "id": "42844feb",
   "metadata": {},
   "outputs": [],
   "source": [
    "#%matplotlib notebook\n",
    "import os \n",
    "%matplotlib inline\n",
    "from matplotlib import rc\n",
    "rc('figure',figsize=(16,8))\n",
    "rc('font',size=12)\n",
    "rc('text',usetex=False)\n",
    "\n",
    "from qubicpack import qubicpack as qp\n",
    "import qubic.fibtools as ft\n",
    "import qubic.plotters as p\n",
    "import qubic.lin_lib as ll\n",
    "import qubic.demodulation_lib as dl\n",
    "import qubicpack\n",
    "from qubicpack.qubicfp import qubicfp\n",
    "\n",
    "import numpy as np\n",
    "import matplotlib.pyplot as plt\n",
    "import matplotlib.mlab as mlab\n",
    "import scipy.ndimage.filters as f\n",
    "import glob\n",
    "import string\n",
    "import scipy.signal as scsig\n",
    "from scipy import interpolate"
   ]
  },
  {
   "cell_type": "code",
   "execution_count": null,
   "id": "679baff7",
   "metadata": {},
   "outputs": [],
   "source": [
    "#Set paths\n",
    "if 'QUBIC_TODDIR' in os.environ.keys():\n",
    "    qubic_toddir = os.environ['QUBIC_TODDIR']\n",
    "    print(\"TOD directory: \",qubic_toddir)\n",
    "else:\n",
    "    raise ValueError(\"You have to specify a directory where the Time Ordered Data (TOD) are. \\\n",
    "    The ussual format of the TOD root directory is yyyy-mm-dd, e.g. /sps/qubic/Data/Calib-TD at CCA\")"
   ]
  },
  {
   "cell_type": "markdown",
   "id": "27478f36",
   "metadata": {},
   "source": [
    "## Dataset\n",
    "\n",
    "Get the directories corresponding to the day we consider:"
   ]
  },
  {
   "cell_type": "code",
   "execution_count": null,
   "id": "68cf02c6",
   "metadata": {},
   "outputs": [],
   "source": [
    "day = '2019-04-06'#'2020-11-10'\n",
    "keyword = '*2019*'\n",
    "data_dir = qubic_toddir + day + \"/\"\n",
    "dirs = np.sort(glob.glob(data_dir+keyword))\n",
    "print(dirs)\n",
    "labels = []\n",
    "for d in dirs:\n",
    "    bla = str.split(d,'__')\n",
    "    labels.append(bla[1])\n",
    "print(labels)\n",
    "thedir = dirs[0]"
   ]
  },
  {
   "cell_type": "markdown",
   "id": "aa07585a",
   "metadata": {},
   "source": [
    "## Reading Data for a given asic"
   ]
  },
  {
   "cell_type": "code",
   "execution_count": null,
   "id": "c6544a47",
   "metadata": {},
   "outputs": [],
   "source": [
    "AsicNum = 1\n",
    "a = qubicpack.qubicfp.qubicfp()\n",
    "a.read_qubicstudio_dataset(thedir, asic = AsicNum)"
   ]
  },
  {
   "cell_type": "markdown",
   "id": "16c3a701",
   "metadata": {},
   "source": [
    "## Reading TES data"
   ]
  },
  {
   "cell_type": "code",
   "execution_count": null,
   "id": "434b9f51",
   "metadata": {},
   "outputs": [],
   "source": [
    "TESNum = 96\n",
    "data = a.timeline(TES = TESNum, asic = AsicNum)\n",
    "t_data = a.timeaxis(axistype = 'pps', asic = AsicNum)\n",
    "\n",
    "plt.plot(t_data, (data-np.mean(data))/np.std(data), label = 'Data')"
   ]
  },
  {
   "cell_type": "markdown",
   "id": "b3a50530",
   "metadata": {},
   "source": [
    "## Reading Azimuth Data"
   ]
  },
  {
   "cell_type": "code",
   "execution_count": null,
   "id": "0713055e",
   "metadata": {},
   "outputs": [],
   "source": [
    "pps = a.pps(hk = 'INTERN_HK')\n",
    "gps = a.gps(hk = 'INTERN_HK')\n",
    "t_az = a.pps2date(pps,gps)\n",
    "az = a.hk['INTERN_HK']['Platform-Azimut']\n",
    "az = (az-2.**15)/(2.**16)*360\n",
    "\n",
    "print(t_az.shape)\n",
    "print(az.shape)\n",
    "plt.plot(t_az, az)"
   ]
  },
  {
   "cell_type": "markdown",
   "id": "973a0efe",
   "metadata": {},
   "source": [
    "## Plot Data and Azimuth together (they should match)"
   ]
  },
  {
   "cell_type": "code",
   "execution_count": null,
   "id": "dcaf28e0",
   "metadata": {},
   "outputs": [],
   "source": [
    "plt.plot(t_data, (data-np.mean(data))/np.std(data), label = 'Data')\n",
    "plt.plot(t_az, (az-np.mean(az))/np.std(az), label = 'Az')\n",
    "plt.legend()"
   ]
  },
  {
   "cell_type": "markdown",
   "id": "f5fa7819",
   "metadata": {},
   "source": [
    "Let's check the modulation frequency (main peak in data)"
   ]
  },
  {
   "cell_type": "code",
   "execution_count": null,
   "id": "694169b6",
   "metadata": {},
   "outputs": [],
   "source": [
    "FREQ_SAMPLING = 1./(t_data[1]-t_data[0])\n",
    "spectrum_f, freq_f = mlab.psd(data, \n",
    "                              Fs = FREQ_SAMPLING, \n",
    "                              NFFT = len(data), \n",
    "                              window = mlab.window_hanning)\n",
    "plt.plot(freq_f, f.gaussian_filter1d(spectrum_f,5), label = 'Data')\n",
    "plt.yscale('log')\n",
    "plt.xscale('log')\n",
    "plt.xlim(0.2,0.45)\n",
    "freq_mod = 0.333\n",
    "plt.plot([freq_mod, freq_mod], [1e6, 1e12], label='Modulation Frequency: {}'.format(freq_mod))\n",
    "plt.ylim(1e6, 1e12)\n",
    "plt.legend()"
   ]
  },
  {
   "cell_type": "markdown",
   "id": "efebbfb9",
   "metadata": {},
   "source": [
    "## Reading Calibration Source Data"
   ]
  },
  {
   "cell_type": "code",
   "execution_count": null,
   "id": "53a4be25",
   "metadata": {},
   "outputs": [],
   "source": [
    "##### The date format for calsrc has no '-' so we need to change the day to this very format.\n",
    "daycalsrc = \"\".join(str.split(day,'-'))\n",
    "fcalsrc = glob.glob( qubic_toddir + \"calsource/\"+'*'+daycalsrc+'*.dat')\n",
    "fcalsrc.sort()\n",
    "print (fcalsrc)\n",
    "\n",
    "t_src, data_src = dl.read_cal_src_data(fcalsrc)\n",
    "plt.plot(t_src, data_src,',', \n",
    "     label = 'Measured Source Signal')\n",
    "plt.legend()\n",
    "plt.ylim(0,200)"
   ]
  },
  {
   "cell_type": "markdown",
   "id": "04f1b46c",
   "metadata": {},
   "source": [
    "## Simulating CalSrc Data\n",
    "Here we use the model of the calibration source data (written by Daniele Mennella using the documentation of the source that describes the instricic non linearity of the source). We use this instead of the Calibration Source Data itself that may not always be available. The tricky part here is probably the relative timing...\n",
    "\n",
    "NB: the src_phase is to be adjusted manually (or will be fit later on)"
   ]
  },
  {
   "cell_type": "code",
   "execution_count": null,
   "id": "8216d2e1",
   "metadata": {},
   "outputs": [],
   "source": [
    "#### Source parameters\n",
    "src_amp = 5.          # Volts\n",
    "src_period = 1./0.333 # seconds\n",
    "src_phase = 0.6        # Radians\n",
    "src_offset = 2.5      # Volts\n",
    "\n",
    "#### Source in the data parameters\n",
    "src_amp_data = 5. \n",
    "src_off_data = -2.5\n",
    "\n",
    "src_pars = np.array([src_amp_data, src_off_data, src_amp, src_period, src_phase, src_offset])\n",
    "t_sim_src = t_data\n",
    "data_sim_src = ll.sinesat(t_sim_src, src_pars,)\n",
    "\n",
    "plt.plot(t_sim_src, data_sim_src,',', \n",
    "         label = 'Simulated Source Signal')"
   ]
  },
  {
   "cell_type": "markdown",
   "id": "e9ceb46a",
   "metadata": {},
   "source": [
    "## Now Plot Data, Azimuth, Simulated and Measured source signal altogether\n",
    "Data is filtered before plotting"
   ]
  },
  {
   "cell_type": "code",
   "execution_count": null,
   "id": "9cd715b5",
   "metadata": {},
   "outputs": [],
   "source": [
    "####\n",
    "lowcut = 0.05\n",
    "highcut = FREQ_SAMPLING/2\n",
    "filt = scsig.butter(5, [lowcut / FREQ_SAMPLING, highcut / FREQ_SAMPLING], \n",
    "                    btype = 'bandpass', output = 'sos')\n",
    "data_filtered = -scsig.sosfilt(filt, data)\n",
    "\n",
    "plt.subplot(2,1,1)\n",
    "plt.plot(t_sim_src - t_data[0], data_sim_src,\n",
    "     label = 'Simulated Source Signal', \n",
    "     alpha = 0.5)\n",
    "plt.plot(t_src - t_data[0], (data_src - np.mean(data_src))/np.std(data_src), \n",
    "     label = 'Measured Source Signal', alpha = 0.5)\n",
    "plt.plot(t_data - t_data[0], (data_filtered-np.mean(data_filtered))/np.std(data_filtered), \n",
    "         label = 'Filtered Data', alpha = 0.5)\n",
    "plt.ylim(-5,5)\n",
    "plt.legend()\n",
    "plt.subplot(2,2,3)\n",
    "plt.plot(t_sim_src-t_data[0], data_sim_src,\n",
    "         label = 'Simulated Source Signal', alpha = 0.5)\n",
    "plt.plot(t_src-t_data[0], (data_src-np.mean(data_src))/np.std(data_src), \n",
    "     label = 'Measured Source Signal', alpha = 0.5)\n",
    "plt.plot(t_data-t_data[0], (data_filtered-np.mean(data_filtered))/np.std(data_filtered), \n",
    "     label = 'Filtered Data', alpha = 0.5)\n",
    "plt.ylim(-5,5)\n",
    "plt.xlim(500,520)\n",
    "plt.legend()\n",
    "plt.subplot(2,2,4)\n",
    "plt.plot(t_sim_src-t_data[0], data_sim_src,\n",
    "         label = 'Simulated Source Signal', alpha = 0.5)\n",
    "plt.plot(t_src-t_data[0], (data_src-np.mean(data_src))/np.std(data_src), \n",
    "         label = 'Measured Source Signal', alpha = 0.5)\n",
    "plt.plot(t_data-t_data[0], (data_filtered-np.mean(data_filtered))/np.std(data_filtered), \n",
    "         label = 'Filtered Data', alpha = 0.5)\n",
    "plt.ylim(-5,5)\n",
    "plt.xlim(4800,4820)\n",
    "plt.legend()\n"
   ]
  },
  {
   "cell_type": "markdown",
   "id": "8e8443ae",
   "metadata": {},
   "source": [
    "For some reason (to be investigated with Steve...) the measured source signal is shifted w.r.t. the data... So we have to shift the t_sim_src by an amount adjusted by hand (VERY DIRTY AND NOT ACCURATE)"
   ]
  },
  {
   "cell_type": "code",
   "execution_count": null,
   "id": "0e281f97",
   "metadata": {},
   "outputs": [],
   "source": [
    "shift = 0.8\n",
    "\n",
    "plt.subplot(1,2,1)\n",
    "plt.plot(t_sim_src-t_data[0], data_sim_src,\n",
    "         label = 'Simulated Source Signal', alpha = 0.5)\n",
    "plt.plot(t_src-t_data[0]-shift, (data_src-np.mean(data_src))/np.std(data_src)*3, \n",
    "         label = 'Measured Source Signal', alpha = 0.5)\n",
    "plt.plot(t_data-t_data[0], (data_filtered-np.mean(data_filtered))/np.std(data_filtered),\n",
    "         label = 'Filtered Data', alpha = 0.5)\n",
    "#plt.ylim(-5,5)\n",
    "#plt.xlim(500,520)\n",
    "plt.legend()\n",
    "plt.subplot(1,2,2)\n",
    "plt.plot(t_sim_src-t_data[0], data_sim_src,\n",
    "         label = 'Simulated Source Signal', alpha = 0.5)\n",
    "plt.plot(t_src-t_data[0]-shift, (data_src-np.mean(data_src))/np.std(data_src)*3, \n",
    "         label = 'Measured Source Signal', alpha = 0.5)\n",
    "plt.plot(t_data-t_data[0], (data_filtered-np.mean(data_filtered))/np.std(data_filtered), \n",
    "         label = 'Filtered Data', alpha = 0.5)\n",
    "#plt.ylim(-5,5)\n",
    "#plt.xlim(4800,4820)\n",
    "plt.legend()\n"
   ]
  },
  {
   "cell_type": "code",
   "execution_count": null,
   "id": "c6d8d077",
   "metadata": {},
   "outputs": [],
   "source": [
    "t_src = t_src #-7200#-shift"
   ]
  },
  {
   "cell_type": "markdown",
   "id": "820b739f",
   "metadata": {},
   "source": [
    "#### As seen above, the source data is not always present for the whole time stream. So we focus on the common region between measured source data and TES data (end simulated source signal by construction) and we take data up to the first stop of the source data (here 2000 seconds after start)"
   ]
  },
  {
   "cell_type": "code",
   "execution_count": null,
   "id": "90acd93a",
   "metadata": {},
   "outputs": [],
   "source": [
    "maxtime_src = 20000\n",
    "oksrc = (t_src-t_data[0]) < maxtime_src\n",
    "new_t_src = t_src[oksrc]\n",
    "new_data_src = data_src[oksrc]\n",
    "\n",
    "tmin = np.max([np.min(t_data-t_data[0]), np.min(new_t_src-t_data[0]), np.min(t_az-t_data[0])])\n",
    "tmax = np.min([np.max(t_data-t_data[0]), np.max(new_t_src-t_data[0]), np.max(t_az-t_data[0])])\n",
    "\n",
    "print (tmin,tmax)\n",
    "print ('')\n",
    "print (np.min(t_data)-t_data[0], np.max(t_data)-t_data[0])\n",
    "print (np.min(t_az)-t_data[0], np.max(t_az)-t_data[0])\n",
    "print (np.min(t_src)-t_data[0], np.max(t_src)-t_data[0])\n",
    "print ('')\n",
    "okdata = ((t_data-t_data[0]) >= tmin) & ((t_data-t_data[0]) <= tmax)\n",
    "print (okdata.sum())\n",
    "okaz = ((t_az-t_data[0]) >= tmin) & ((t_az-t_data[0]) <= tmax)\n",
    "print (okaz.sum())\n",
    "oksrc = ((t_src-t_data[0]) >= tmin) & ((t_src-t_data[0]) <= tmax)\n",
    "print (oksrc.sum())\n",
    "\n",
    "plt.plot(t_az[okaz]-t_data[0], (az[okaz]-np.mean(az[okaz]))/np.std(az[okaz]), \n",
    "         alpha = 0.5, label = 'Az')\n",
    "plt.plot(t_data[okdata]-t_data[0], (data[okdata]-np.mean(data))/np.std(data[okdata]), \n",
    "         label = 'Raw Data', alpha = 0.5)\n",
    "plt.plot(t_sim_src[okdata]-t_data[0], data_sim_src[okdata],\n",
    "         label = 'Simulated Source Signal', alpha = 0.5)\n",
    "plt.plot(t_src[oksrc]-t_data[0], (data_src[oksrc]-np.mean(data_src[oksrc]))/np.std(data_src[oksrc])*3, \n",
    "         label = 'Measured Source Signal', alpha = 0.5)\n",
    "plt.plot(t_data[okdata]-t_data[0], \n",
    "         (data_filtered[okdata]-np.mean(data_filtered[okdata]))/np.std(data_filtered[okdata]), \n",
    "         label = 'Filtered Data', alpha = 0.5)\n",
    "#plt.ylim(-5,5)\n",
    "plt.legend()\n"
   ]
  },
  {
   "cell_type": "markdown",
   "id": "a6a236cd",
   "metadata": {},
   "source": [
    "We apply the cut"
   ]
  },
  {
   "cell_type": "code",
   "execution_count": null,
   "id": "688b8e32",
   "metadata": {},
   "outputs": [],
   "source": [
    "#data_obj = a.azel_etc()\n",
    "data_obj['data'] = a.timeline_array(asic = AsicNum)#data_obj['data %i' % AsicNum] # hack\n",
    "data_obj['t_data'] = a.timeaxis(datatype = \"science\", asic = AsicNum)#data_obj['t_data %i' % AsicNum] # hack"
   ]
  },
  {
   "cell_type": "code",
   "execution_count": null,
   "id": "6c7506a7",
   "metadata": {},
   "outputs": [],
   "source": [
    "t_data = t_data[okdata]\n",
    "data = data[okdata]\n",
    "data_filtered = data_filtered[okdata]\n",
    "#### Sim Src Signal has the same time axis as the data\n",
    "t_sim_src = t_sim_src[okdata]\n",
    "data_sim_src = data_sim_src[okdata]\n",
    "\n",
    "t_az = t_az[okaz]\n",
    "az = az[okaz]\n",
    "\n",
    "t_src = t_src[oksrc]\n",
    "data_src = data_src[oksrc]"
   ]
  },
  {
   "cell_type": "code",
   "execution_count": null,
   "id": "4d3fcc87",
   "metadata": {},
   "outputs": [],
   "source": [
    "plt.plot(t_az-t_data[0], (az-np.mean(az))/np.std(az), \n",
    "         alpha = 0.5, label = 'Az')\n",
    "plt.plot(t_data-t_data[0], (data-np.mean(data))/np.std(data), \n",
    "         label = 'Raw Data', alpha = 0.5)\n",
    "plt.plot(t_sim_src-t_data[0], data_sim_src,\n",
    "         label = 'Simulated Source Signal', alpha = 0.5)\n",
    "plt.plot(t_src-t_data[0], (data_src-np.mean(data_src))/np.std(data_src)*3, \n",
    "         label = 'Measured Source Signal', alpha = 0.5)\n",
    "plt.plot(t_data-t_data[0], (data_filtered-np.mean(data_filtered))/np.std(data_filtered), \n",
    "         label = 'Filtered Data', alpha = 0.5)\n",
    "plt.ylim(-5,5)\n",
    "plt.legend()\n"
   ]
  },
  {
   "cell_type": "markdown",
   "id": "3a3424b0",
   "metadata": {},
   "source": [
    "# Now we can start playing with demodulation"
   ]
  },
  {
   "cell_type": "markdown",
   "id": "399e63d4",
   "metadata": {},
   "source": [
    "## First Method: RMS per period\n",
    "we just measure the RMS of the signal in each period of the modulation signal. We then get the signal as a function of time. In the present case, we see the passing of the source with the synthesized beam. Note that this method does not require the knowledge of the signal of the source (be it measured or modelized)."
   ]
  },
  {
   "cell_type": "markdown",
   "id": "8be26095",
   "metadata": {},
   "source": [
    "## Second Method: Proper demodulation\n",
    "This method will require the use of a measure of the modulation source signal. We mutliply the data after filtering  by the modulation signal and get the moving average over a period. Here cone can use the measured source signal or the model."
   ]
  },
  {
   "cell_type": "code",
   "execution_count": null,
   "id": "a8f2520b",
   "metadata": {},
   "outputs": [],
   "source": [
    "#reload(dl)\n",
    "\n",
    "#### Parameters\n",
    "ppp = 1./freq_mod\n",
    "lowcut = 0.1\n",
    "highcut = 15.\n",
    "nbins = 150\n",
    "elevation = 50\n",
    "\n",
    "unbinned, binned = dl.general_demodulate(ppp, data_obj, #data, t_src, data_src, t_az, az, \n",
    "                                                    lowcut, highcut, #elevation, \n",
    "                                                    nbins=nbins, median=True, method='rms', \n",
    "                                                    doplot=True, #unbinned=False, \n",
    "                                                    renormalize_plot=True)"
   ]
  },
  {
   "cell_type": "code",
   "execution_count": null,
   "id": "3fbe5e48",
   "metadata": {},
   "outputs": [],
   "source": [
    "unbinned.keys(), binned"
   ]
  },
  {
   "cell_type": "code",
   "execution_count": null,
   "id": "22968828",
   "metadata": {},
   "outputs": [],
   "source": [
    "angle, sb, dsb, pars, err_pars = dl.general_demodulate(ppp, t_data, data, t_src, data_src, t_az, az, \n",
    "                                                    lowcut, highcut, elevation, \n",
    "                                                    nbins=nbins, median=True, method='demod', \n",
    "                                                    label='Src',\n",
    "                                                    doplot=True, unbinned=False, \n",
    "                                                    renormalize_plot=True)\n",
    "\n",
    "angle, sb, dsb, pars, err_pars = dl.general_demodulate(ppp, t_data, data, t_sim_src, data_sim_src, t_az, az, \n",
    "                                                    lowcut, highcut, elevation, \n",
    "                                                    nbins=nbins, median=True, method='demod', \n",
    "                                                    label='SimSrc',\n",
    "                                                    doplot=True, unbinned=False, \n",
    "                                                    renormalize_plot=True)"
   ]
  },
  {
   "cell_type": "markdown",
   "id": "966d1791",
   "metadata": {},
   "source": [
    "## Third Method: spline fitting of the modulation signal\n",
    "This method is mased on fitting slowly varying splines for the amplitude, offset and phase of the modulating signal. It looks efficient but very slow and should for now only be used for a single scan, with a very short time range as below."
   ]
  },
  {
   "cell_type": "code",
   "execution_count": null,
   "id": "97617001",
   "metadata": {},
   "outputs": [],
   "source": [
    "mid = 500\n",
    "dt = 300\n",
    "ok_data = np.abs(t_data-t_data[0]-mid) < dt\n",
    "ok_src = np.abs(t_src-t_data[0]-mid) < dt\n",
    "ok_az = np.abs(t_az-t_data[0]-mid) < dt\n",
    "\n",
    "reload(dl)\n",
    "angle2, sb2, dsb2, pars2, err_pars2 = dl.general_demodulate(ppp, \n",
    "                                                            t_data[ok_data], data[ok_data], \n",
    "                                                            t_src[ok_src], data_src[ok_src], \n",
    "                                                            t_az[ok_az], az[ok_az], \n",
    "                                                            lowcut, highcut, elevation, \n",
    "                                                            nbins=50, median=True, \n",
    "                                                            method='splfit', \n",
    "                                                            label='Src',\n",
    "                                                            doplot=True, unbinned=False, \n",
    "                                                            renormalize_plot=True)\n",
    "\n",
    "plt.errorbar(angle, sb/np.max(sb), \n",
    "             yerr = dsb/np.max(sb), \n",
    "             fmt='.', \n",
    "             label = 'demod method for comparison')\n",
    "plt.legend()"
   ]
  },
  {
   "cell_type": "markdown",
   "id": "2597612d",
   "metadata": {},
   "source": [
    "## Now loop on all TES with the two first methods"
   ]
  },
  {
   "cell_type": "code",
   "execution_count": null,
   "id": "00ee59a7",
   "metadata": {},
   "outputs": [],
   "source": [
    "reload(dl)\n",
    "\n",
    "#### Parameters\n",
    "ppp = 1./freq_mod\n",
    "lowcut = 0.1\n",
    "highcut = 15.\n",
    "nbins = 150\n",
    "elevation = 50\n",
    "\n",
    "methods = ['rms','demod']\n",
    "scans = np.zeros((len(methods), 128, nbins))\n",
    "allpars = np.zeros((len(methods), 128, 4))\n",
    "allpars_err = np.zeros((len(methods), 128, 4))\n",
    "\n",
    "for TESNum in np.arange(128)+1:\n",
    "    print(TESNum)\n",
    "    TESindex = (TESNum-1)\n",
    "    thedata = a.timeline(TES=TESNum)[okdata]\n",
    "    for im in xrange(len(methods)):\n",
    "        angle, sb, dsb, pars, err_pars = dl.general_demodulate(ppp, t_data, thedata, \n",
    "                                            t_src, data_src, t_az, az, \n",
    "                                            lowcut, highcut, elevation, \n",
    "                                            nbins=nbins, median=True, method=methods[im], \n",
    "                                            label='Src',\n",
    "                                            doplot=False, unbinned=False)\n",
    "        scans[im, TESindex, :] = sb\n",
    "        allpars[im, TESindex, :] = pars\n",
    "        allpars_err[im,TESindex,:] = err_pars\n",
    "\n",
    "\n",
    "    \n"
   ]
  },
  {
   "cell_type": "code",
   "execution_count": null,
   "id": "ff01146b",
   "metadata": {},
   "outputs": [],
   "source": [
    "plt.rc('figure',figsize=(16,6))\n",
    "for im in xrange(len(methods)):\n",
    "    plt.subplot(1,len(methods),im+1)\n",
    "    plt.imshow(scans[im,:,:])\n",
    "    plt.colorbar()\n",
    "    plt.title(methods[im])"
   ]
  },
  {
   "cell_type": "code",
   "execution_count": null,
   "id": "3077b99b",
   "metadata": {},
   "outputs": [],
   "source": [
    "plt.rc('figure',figsize=(16,6))\n",
    "for im in xrange(len(methods)):\n",
    "    plt.hist(allpars[im,:,1], bins=10, range=[0.1,3], alpha=0.5, label=methods[im])\n",
    "plt.legend()"
   ]
  },
  {
   "cell_type": "code",
   "execution_count": null,
   "id": "a5aef1d7",
   "metadata": {},
   "outputs": [],
   "source": [
    "plt.rc('figure',figsize=(16,6))\n",
    "for im in xrange(len(methods)):\n",
    "    plt.subplot(1,len(methods),im+1)\n",
    "    fwhm = allpars[im,:,1]\n",
    "    img = ft.image_asics(data1=fwhm)\n",
    "    plt.imshow(img,vmin=0,vmax=2)\n",
    "    plt.colorbar()\n",
    "    plt.title(methods[im])"
   ]
  },
  {
   "cell_type": "code",
   "execution_count": null,
   "id": "6cde78b5",
   "metadata": {},
   "outputs": [],
   "source": []
  }
 ],
 "metadata": {
  "kernelspec": {
   "display_name": "Python 2",
   "language": "python",
   "name": "python2"
  }
 },
 "nbformat": 4,
 "nbformat_minor": 5
}
