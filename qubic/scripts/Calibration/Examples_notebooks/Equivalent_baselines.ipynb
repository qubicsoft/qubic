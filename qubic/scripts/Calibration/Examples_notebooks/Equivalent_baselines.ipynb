{
 "cells": [
  {
   "cell_type": "markdown",
   "id": "947f2628",
   "metadata": {},
   "source": [
    "### Step-by-step computation of equivalent baselines\n",
    "\n",
    "##### by Claudia\n",
    "\n",
    "Given an array of horns, there is a certain number of baselines you can define. Afterwards, you can partitionate the set in subsets of equivalent baselines.\n",
    "\n",
    "Let's work in a square array of $N=n \\times n$ horns (for example, $n=8$ horns in a side of the array. Total number of horns: $N=64$)"
   ]
  },
  {
   "cell_type": "code",
   "execution_count": null,
   "id": "e90cb86b",
   "metadata": {},
   "outputs": [],
   "source": [
    "import numpy as np\n",
    "import matplotlib.pyplot as plt"
   ]
  },
  {
   "cell_type": "code",
   "execution_count": null,
   "id": "4daef1ea",
   "metadata": {},
   "outputs": [],
   "source": [
    "n=8\n",
    "\n",
    "N= n*n"
   ]
  },
  {
   "cell_type": "code",
   "execution_count": null,
   "id": "535c158e",
   "metadata": {},
   "outputs": [],
   "source": [
    "print(\"n= \",n, \"N= \",N)"
   ]
  },
  {
   "cell_type": "markdown",
   "id": "96f3e74a",
   "metadata": {},
   "source": [
    "### Let's define the coordinates of the horns"
   ]
  },
  {
   "cell_type": "code",
   "execution_count": null,
   "id": "5b186caa",
   "metadata": {},
   "outputs": [],
   "source": [
    "# Which are the coordinates of these horns? In normalized units (unit= separation of two horns in one axis):\n",
    "\n",
    "Coordinates_horns = []\n",
    "\n",
    "count = 0\n",
    "for i in range(n):\n",
    "    for j in range(n):\n",
    "        a = (i,j)\n",
    "        print(\"Coordinates (x,y) are \", a)\n",
    "        \n",
    "        Coordinates_horns.append(a)\n",
    "        \n",
    "        count += 1\n",
    "\n",
    "print(\"count: \", count)\n"
   ]
  },
  {
   "cell_type": "code",
   "execution_count": null,
   "id": "10c99389",
   "metadata": {},
   "outputs": [],
   "source": [
    "print(Coordinates_horns)"
   ]
  },
  {
   "cell_type": "code",
   "execution_count": null,
   "id": "0b31fefc",
   "metadata": {},
   "outputs": [],
   "source": [
    "Coordinates_horns = np.array(Coordinates_horns)\n",
    "Coordinates_horns.shape"
   ]
  },
  {
   "cell_type": "markdown",
   "id": "a1078262",
   "metadata": {},
   "source": [
    "**Note**:  The $i$ horn has coordinates $(x_i,y_i)$, which are stored in the $x_i*n +y_i$ element of the **Coordinates_horns** array.\n",
    "\n",
    "For example, for the horn with coordinates $(2,3)$, the position in the array is:\n",
    "\n",
    "\n",
    "$2n +3 = 19$\n",
    "\n",
    "We can take this number as the label of the horn.\n"
   ]
  },
  {
   "cell_type": "markdown",
   "id": "d175f4f8",
   "metadata": {},
   "source": [
    "### Now, let's compute the baselines"
   ]
  },
  {
   "cell_type": "markdown",
   "id": "e4958df0",
   "metadata": {},
   "source": [
    "The number of baselines that you can construct with $N$ horns is ${N(N-1)} \\over{2}$.\n",
    "\n",
    "(This gives all posible combinations of two **different** horns, without repetition).\n",
    "\n",
    "If we think of a $N \\times N$ matrix with all the possible combinations, we would only take the upper (or lower) triangle."
   ]
  },
  {
   "cell_type": "code",
   "execution_count": null,
   "id": "e65ff697",
   "metadata": {},
   "outputs": [],
   "source": [
    "N_baselines = N*(N-1)/2\n",
    "\n",
    "print(N_baselines)"
   ]
  },
  {
   "cell_type": "markdown",
   "id": "1eda55e4",
   "metadata": {},
   "source": [
    " Each baseline can be thought of as a pseudo-vector, with a given length $L$ and a given orientation $\\alpha$ (i.e., an oriented segment). To be able to compute $L$ and $\\alpha$, we need to know the position of the horns that form the baseline.\n",
    "\n",
    "Let's label somehow the baselines, using the label of the horns that constitute them.\n",
    "\n",
    "If a baseline is formed with horns $i$ and $j$, let's take the upper triangle. Then if $i$ labels the row and $j$ labels the column, we will have: $j > i$.\n",
    "\n",
    "So we do a loop over $i$ values, from $0$ to $N-1$, and then a nested loop over $j$ from $i+1$ to $N-1$.\n",
    "\n",
    "For each, I have a baseline. I compute the $L^2$ and the $\\tan (\\alpha)$\n",
    "\n",
    "$L^2= (x_i - x_j)^2 + ( y_i - y_j)^2 $\n",
    "\n",
    "$\\tan (\\alpha) = (y_j - y_i)/(x_j - x_i)$"
   ]
  },
  {
   "cell_type": "code",
   "execution_count": null,
   "id": "40fc2c25",
   "metadata": {},
   "outputs": [],
   "source": [
    "# Check how many combinations we have:\n",
    "count = 0\n",
    "for i in range(N):\n",
    "    for j in range(i+1,N):\n",
    "        count = count +1\n",
    "        print(count)"
   ]
  },
  {
   "cell_type": "code",
   "execution_count": null,
   "id": "e06059b0",
   "metadata": {},
   "outputs": [],
   "source": [
    "# Let's test the coordinates of the horns that form a given baseline.\n",
    "\n",
    "for i in range(N):\n",
    "    for j in range(i+1,N):\n",
    "        print(\"for the horn\", i,\" the coordinates are: \", Coordinates_horns[i])\n",
    "        print(\"for the horn\", j,\" the coordinates are: \", Coordinates_horns[j])\n",
    "        "
   ]
  },
  {
   "cell_type": "code",
   "execution_count": null,
   "id": "7c11b146",
   "metadata": {},
   "outputs": [],
   "source": [
    "# For each baseline, let us compute L2 and tan_alpha:\n",
    "\n",
    "baseline = []   #array that will keep L2 and the angle\n",
    "\n",
    "baseline_v2 = []    #array that will keep the label of the horns that form the baseline, L2 and the angle\n",
    "\n",
    "for i in range(N):\n",
    "    x_i,y_i = Coordinates_horns[i]\n",
    "\n",
    "    for j in range(i+1,N):\n",
    "        \n",
    "        x_j,y_j = Coordinates_horns[j]        \n",
    "\n",
    "\n",
    "        L2 = (x_i - x_j)**2 + (y_i - y_j)**2\n",
    "        \n",
    "        tan_alpha = (y_j - y_i)/(x_j - x_i)\n",
    "        \n",
    "        angle= np.arctan(tan_alpha)\n",
    "        \n",
    "        baseline.append([L2, angle])\n",
    "        \n",
    "        baseline_v2.append([i,j, L2, angle])\n",
    "        \n",
    "\n",
    "baseline = np.array(baseline)\n",
    "\n",
    "baseline_v2 = np.array(baseline_v2)\n"
   ]
  },
  {
   "cell_type": "code",
   "execution_count": null,
   "id": "5a31f950",
   "metadata": {},
   "outputs": [],
   "source": [
    "# I order following L2 and then following angle. Then, I will need to separate them in subgroups to count\n",
    "# how many there are in a given category.\n",
    "\n",
    "from operator import itemgetter\n",
    "\n",
    "ordered_baselines_v2 = sorted(baseline_v2, key= itemgetter(2,3))\n",
    "\n",
    "\n",
    "ordered_baselines_v2 = np.array(ordered_baselines_v2)"
   ]
  },
  {
   "cell_type": "code",
   "execution_count": null,
   "id": "f490d3f7",
   "metadata": {},
   "outputs": [],
   "source": []
  },
  {
   "cell_type": "code",
   "execution_count": null,
   "id": "58cd9bd3",
   "metadata": {},
   "outputs": [],
   "source": []
  },
  {
   "cell_type": "code",
   "execution_count": null,
   "id": "35e307f1",
   "metadata": {},
   "outputs": [],
   "source": [
    "# Check that we have an ordered array (and we have the explicit number of the horns)\n",
    "\n",
    "print(ordered_baselines_v2)"
   ]
  },
  {
   "cell_type": "code",
   "execution_count": null,
   "id": "ac8e4849",
   "metadata": {},
   "outputs": [],
   "source": [
    "# Another check to see if I'm getting what I want:\n",
    "\n",
    "count = 0\n",
    "for i in range(N):\n",
    "\n",
    "    for j in range(i+1,N):      \n",
    "        \n",
    "        \n",
    "        print(i,j, ordered_baselines_v2[count])\n",
    "        \n",
    "        count += 1\n",
    "        \n",
    "        \n",
    "        "
   ]
  },
  {
   "cell_type": "markdown",
   "id": "c2882ada",
   "metadata": {},
   "source": [
    " ### Intermediate computing.\n",
    "    \n",
    "In the following, we do some computations, to separate the baselines in categories according to the value of $L2$ and **angle**.\n",
    "\n",
    "\n",
    "This is inspired by the example in the next (commented) cell."
   ]
  },
  {
   "cell_type": "raw",
   "id": "64e8ca25",
   "metadata": {},
   "source": [
    "## useful example taken from:\n",
    "# https://stackoverflow.com/questions/31863083/python-split-numpy-array-based-on-values-in-the-array\n",
    "\n",
    "np.split(arr, np.where(np.diff(arr[:,1]))[0]+1)\n",
    "\n"
   ]
  },
  {
   "cell_type": "code",
   "execution_count": null,
   "id": "8dcae608",
   "metadata": {},
   "outputs": [],
   "source": [
    "# These are the L2 values:\n",
    "ordered_baselines_v2[:,2]"
   ]
  },
  {
   "cell_type": "code",
   "execution_count": null,
   "id": "b5550d12",
   "metadata": {},
   "outputs": [],
   "source": [
    "# I compute where the L2 value changes:\n",
    "np.diff(ordered_baselines_v2[:,2])"
   ]
  },
  {
   "cell_type": "code",
   "execution_count": null,
   "id": "0b55a414",
   "metadata": {},
   "outputs": [],
   "source": [
    "len(np.diff(ordered_baselines_v2[:,2]))"
   ]
  },
  {
   "cell_type": "code",
   "execution_count": null,
   "id": "5d13729e",
   "metadata": {},
   "outputs": [],
   "source": [
    "xx = np.diff(ordered_baselines_v2[:,2])"
   ]
  },
  {
   "cell_type": "code",
   "execution_count": null,
   "id": "7b3fcffd",
   "metadata": {},
   "outputs": [],
   "source": [
    "np.where(xx)[0]"
   ]
  },
  {
   "cell_type": "code",
   "execution_count": null,
   "id": "2c32eb9a",
   "metadata": {},
   "outputs": [],
   "source": [
    "# These are the indices where the L2 value changes \n",
    "np.where(xx)[0]+1"
   ]
  },
  {
   "cell_type": "code",
   "execution_count": null,
   "id": "8194f1a4",
   "metadata": {},
   "outputs": [],
   "source": [
    "# I split the array in the positions where L2 changes:\n",
    "\n",
    "zz= np.split(ordered_baselines_v2, np.where(np.diff(ordered_baselines_v2[:,2]))[0]+1)\n"
   ]
  },
  {
   "cell_type": "code",
   "execution_count": null,
   "id": "c8e8b65e",
   "metadata": {},
   "outputs": [],
   "source": []
  },
  {
   "cell_type": "code",
   "execution_count": null,
   "id": "f35c2bcc",
   "metadata": {},
   "outputs": [],
   "source": [
    "#Check:\n",
    "np.shape(zz)"
   ]
  },
  {
   "cell_type": "code",
   "execution_count": null,
   "id": "f96d42e0",
   "metadata": {},
   "outputs": [],
   "source": [
    "# Now, for each distinct value of L2, I split the array in different values of the angle.\n",
    "\n",
    "partitioned_baselines = []\n",
    "\n",
    "for i in range(len(zz)):\n",
    "\n",
    "    \n",
    "    aa = zz[i]\n",
    "    \n",
    "    bb = np.split(aa, np.where(np.diff(aa[:,3]))[0]+1)\n",
    "\n",
    "    bb = np.array(bb)\n",
    "    \n",
    "    partitioned_baselines.append(bb)\n",
    "    \n",
    "\n",
    "partitioned_baselines = np.array(partitioned_baselines)\n"
   ]
  },
  {
   "cell_type": "code",
   "execution_count": null,
   "id": "ddd7a5eb",
   "metadata": {},
   "outputs": [],
   "source": [
    "print(np.shape(partitioned_baselines))\n",
    "\n",
    "print(len(partitioned_baselines))\n"
   ]
  },
  {
   "cell_type": "code",
   "execution_count": null,
   "id": "025eeab5",
   "metadata": {},
   "outputs": [],
   "source": [
    "# for each value of L2, how many different values of the angle we have:\n",
    "\n",
    "for i in range(len(partitioned_baselines)):\n",
    "    print(len(partitioned_baselines[i]))\n",
    "    \n",
    "    "
   ]
  },
  {
   "cell_type": "markdown",
   "id": "f11f35a5",
   "metadata": {},
   "source": [
    "In the following cell, I compute each unique baseline (characterized by a given value of $L^2$ and an given angle), and compute how many equivalent baselines there are in each category. \n",
    "\n",
    "If we want to make tests using equivalent baselines, we can read the corresponding horns' labels from the $0$ and $1$ elements of the **partitioned_baselines** array, and make the appropriate selection."
   ]
  },
  {
   "cell_type": "code",
   "execution_count": null,
   "id": "71cbaee7",
   "metadata": {},
   "outputs": [],
   "source": [
    "# Now I compute the number of unique baselines, and for each of them, \n",
    "# I compute the number of equivalent baselines (i.e. how many elements there are in that category):\n",
    "\n",
    "N_unique = 0\n",
    "\n",
    "for i in range(len(partitioned_baselines)):\n",
    "\n",
    "    n_angles  = len(partitioned_baselines[i])\n",
    "    \n",
    "    for j in range(n_angles):\n",
    "\n",
    "        print(partitioned_baselines[i][j])\n",
    "         \n",
    "        print(\" \")\n",
    "        \n",
    "        N_eq = len(partitioned_baselines[i][j])\n",
    "\n",
    "        print(\" Number of equivalent baselines for this particular baseline: \", N_eq)\n",
    "        print(\" \")\n",
    "        print(\" \")\n",
    "        \n",
    "        N_unique += 1\n",
    "\n",
    "        \n",
    "print(\"Number of unique baselines: \", N_unique)\n",
    "        \n",
    "    \n",
    "    "
   ]
  },
  {
   "cell_type": "raw",
   "id": "c2fb088a",
   "metadata": {},
   "source": []
  },
  {
   "cell_type": "code",
   "execution_count": null,
   "id": "5fe4c53a",
   "metadata": {},
   "outputs": [],
   "source": []
  }
 ],
 "metadata": {
  "kernelspec": {
   "display_name": "Python 3",
   "language": "python",
   "name": "python3"
  }
 },
 "nbformat": 4,
 "nbformat_minor": 5
}
