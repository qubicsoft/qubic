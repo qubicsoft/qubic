{
 "cells": [
  {
   "cell_type": "markdown",
   "id": "617fa836",
   "metadata": {},
   "source": [
    "# Here is a basic demodulation\n",
    "Hopefully you have everything installed now and acces to the data"
   ]
  },
  {
   "cell_type": "code",
   "execution_count": null,
   "id": "7af99d67",
   "metadata": {},
   "outputs": [],
   "source": [
    "#%matplotlib notebook\n",
    "%matplotlib inline\n",
    "from matplotlib import rc\n",
    "rc('figure',figsize=(9,4.5))\n",
    "rc('font',size=12)\n",
    "rc('text',usetex=False)\n",
    "\n",
    "from qubicpack.qubicfp import qubicfp\n",
    "import qubic.fibtools as ft\n",
    "# import qubic.plotters as p\n",
    "# import qubic.lin_lib as ll\n",
    "import qubic.demodulation_lib as dl\n",
    "# import satorchipy as stpy\n",
    "from pysimulators import FitsArray\n",
    "\n",
    "import numpy as np\n",
    "from matplotlib.pyplot import *\n",
    "# import matplotlib.mlab as mlab\n",
    "import scipy.ndimage.filters as f\n",
    "import glob\n",
    "import string\n",
    "import scipy.signal as scsig\n",
    "from scipy import interpolate\n",
    "import datetime as dt\n",
    "# import pickle\n",
    "from importlib import reload\n",
    "import scipy.misc\n",
    "import pprint\n",
    "from scipy.signal import chirp, find_peaks, peak_widths\n",
    "import qubic.sb_fitting as sbfit\n",
    "import healpy as hp\n",
    "from qubic.io import write_map"
   ]
  },
  {
   "cell_type": "markdown",
   "id": "063f6635",
   "metadata": {},
   "source": [
    "# I usually copy the text from elog to describe the data analysed here\n",
    "\n",
    "\n",
    "## Setting the directory containing data\n",
    "\n",
    "Here are the vailable data:\n",
    "### 2020-07-30\n",
    "scan map of the sky\n",
    "\n",
    "##    Preparing the scanning:\n",
    "\n",
    "\n",
    "    T regulation ON: at 320mK on MMR3 ch2\n",
    "    Offset tuned\n",
    "    V_bias = 2.8V\n",
    "    I_FLL=160\n",
    "    7h38UT: start of scans at 150GHz  with script ScanMapFast2:\n",
    "        delta_az = 40deg\n",
    "        delta_el = 20deg\n",
    "        el_center = 50deg: yesterday the 1K fridge cycle finished when el ~ 55deg\n",
    "        nscans = 101\n",
    "        speed = VE5\n",
    "        Cal source modulated at 1Hz with 0.5V offset and 0.5V amplitude (sine modulation) to avoid saturations of TESs\n",
    "    1K fridge cyce finished at about 15h35UT, before the end of the scan"
   ]
  },
  {
   "cell_type": "markdown",
   "id": "f5767f2d",
   "metadata": {},
   "source": [
    "# find and load your dataset"
   ]
  },
  {
   "cell_type": "code",
   "execution_count": null,
   "id": "b15e733f",
   "metadata": {},
   "outputs": [],
   "source": [
    "day = '2020-07-30'\n",
    "#day= '2020-11-10'\n",
    "keyword = '*ScanFast*'\n",
    "#keyword= '*test'\n",
    "data_dir = '/sps/hep/qubic/Data/Calib-TD/'+day+'/'\n",
    "dirs = np.sort(glob.glob(data_dir+keyword))\n",
    "print(dirs)"
   ]
  },
  {
   "cell_type": "markdown",
   "id": "44083901",
   "metadata": {},
   "source": [
    "# Select the file if there are multiple that meet your criteria"
   ]
  },
  {
   "cell_type": "code",
   "execution_count": null,
   "id": "39e3452d",
   "metadata": {},
   "outputs": [],
   "source": [
    "ifile = 0\n",
    "thedir = dirs[ifile]\n",
    "print(thedir)\n",
    "\n",
    "#note here is how you load the data in memory!\n",
    "a = qubicfp()\n",
    "a.read_qubicstudio_dataset(thedir)"
   ]
  },
  {
   "cell_type": "markdown",
   "id": "a1d28535",
   "metadata": {},
   "source": [
    "# examine the keys like this"
   ]
  },
  {
   "cell_type": "code",
   "execution_count": null,
   "id": "614191a2",
   "metadata": {},
   "outputs": [],
   "source": [
    "print(a.hk.keys())\n",
    "a.hk.keys()\n",
    "\n",
    "print(\"The keys in this dictionary are:\\n\")\n",
    "for k in a.hk['CALSOURCE-CONF'].keys():\n",
    "    print(k, a.hk['CALSOURCE-CONF'][k])"
   ]
  },
  {
   "cell_type": "markdown",
   "id": "0c6f9f3b",
   "metadata": {},
   "source": [
    "# The following plot is useful for scan map demodulation\n",
    "note the time is plotted in hours here\n",
    "\n",
    "you can see the scanning in az-el and time "
   ]
  },
  {
   "cell_type": "code",
   "execution_count": null,
   "id": "c7836854",
   "metadata": {},
   "outputs": [],
   "source": [
    "rc('figure',figsize=(12,12))\n",
    "\n",
    "time_azel = a.timeaxis(datatype='hk',axistype='pps')\n",
    "az = a.azimuth()\n",
    "el = a.elevation()\n",
    "\n",
    "t_src = a.calsource()[0]\n",
    "data_src = a.calsource()[1]\n",
    "\n",
    "subplot(2,2,1)\n",
    "plot((time_azel-t0)/3600, az,',')\n",
    "xlabel('Time [h]')\n",
    "ylabel('Az')\n",
    "subplot(2,2,2)\n",
    "plot((time_azel-t0)/3600, el,',')\n",
    "xlabel('Time [h]')\n",
    "ylabel('El')\n",
    "ylim(30,70)\n",
    "\n",
    "subplot(2,2,3)\n",
    "plot(az*np.cos(np.radians(el)), el,',')\n",
    "xlabel('Az')\n",
    "ylabel('El')\n",
    "\n",
    "subplot(2,2,4)\n",
    "plot((t_src-t0)/3600, data_src,',')\n",
    "xlabel('Time [h]')\n",
    "ylabel('Src Data')"
   ]
  },
  {
   "cell_type": "markdown",
   "id": "128050dd",
   "metadata": {
    "lines_to_next_cell": 0
   },
   "source": [
    "# now plot the TOD and the calibration source\n",
    "dl.renorm is useful since the calsource and tod have different values\n",
    "\n",
    "def renorm(ar):\n",
    "\n",
    "    return (ar - np.mean(ar)) / np.std(ar)\n"
   ]
  },
  {
   "cell_type": "code",
   "execution_count": null,
   "id": "db19cfd2",
   "metadata": {},
   "outputs": [],
   "source": [
    "rc('figure',figsize=(16,12))\n",
    "#choose your favourite TES. Usually asic 1 has good SNR. TES 94, 93, 76 are popular but may be saturated\n",
    "TESNum = 94\n",
    "asic = 1\n",
    "tod = a.timeline(TES=TESNum, asic=asic)\n",
    "tt = a.timeaxis(axistype='pps', asic=asic)\n",
    "\n",
    "plot(t_src, dl.renorm(data_src), label='Calsource', color='tab:orange')\n",
    "plot(tt, dl.renorm(tod), label='Data TES {} ASIC {}'.format(TESNum,asic), color='tab:blue')\n",
    "xlabel('Unix Epoch (s)')\n",
    "\n",
    "legend(loc='upper left')\n",
    "title(thedir)"
   ]
  },
  {
   "cell_type": "markdown",
   "id": "8d347500",
   "metadata": {},
   "source": [
    "# Filtering\n",
    "we want to preserve the calsource signal and harmonics while filtering out pulse tubes at 1.724\n"
   ]
  },
  {
   "cell_type": "code",
   "execution_count": null,
   "id": "310bbbb9",
   "metadata": {},
   "outputs": [],
   "source": [
    "\"\"\"here we plot the frequency power spectrum. Want to highlight the source signal \n",
    "but filter out pulse tube frequency\"\"\"\n",
    "font = {'family' : 'normal',\n",
    "        'weight' : 'normal',\n",
    "        'size'   : 20}\n",
    "rc('font', **font)\n",
    "\n",
    "rc('figure',figsize=(16,8))\n",
    "#### Filtering\n",
    "reload(ft)\n",
    "\n",
    "#load the modulation frequency from the HK data\n",
    "thefreqmod = a.hk['CALSOURCE-CONF']['Mod_freq']\n",
    "\n",
    "#filtering parameters\n",
    "period = 1./ thefreqmod\n",
    "lowcut = 0.5\n",
    "highcut = 20\n",
    "\n",
    "#plot limits\n",
    "xmin = 0.01\n",
    "xmax = 90.\n",
    "ymin = 1e0\n",
    "ymax = 1e13\n",
    "\n",
    "############ Power spectrum RAW plot\n",
    "spectrum_f, freq_f = ft.power_spectrum(tt, tod, rebin=True)\n",
    "plot(freq_f, f.gaussian_filter1d(spectrum_f,1), label='Raw Data')\n",
    "yscale('log')\n",
    "xscale('log')\n",
    "xlabel('Frequency [Hz]')\n",
    "ylabel('Power Spectrum')\n",
    "xlim(xmin, xmax)\n",
    "ylim(ymin, ymax)\n",
    "#title('TES {} ASIC {}'.format(TESNum,asic))\n",
    "\n",
    "########## New Power spectrum filtered and plotted\n",
    "#number of harmonics\n",
    "nharm = 10\n",
    "#notch filter at each harmonic of the PTs\n",
    "notch = np.array([[1.724, 0.004, nharm]])\n",
    "\n",
    "newdata = ft.filter_data(tt, tod, lowcut, highcut, notch=notch, rebin=True, verbose=True, order=5)\n",
    "spectrum_f2, freq_f2 = ft.power_spectrum(tt, newdata, rebin=True)\n",
    "plot(freq_f2, f.gaussian_filter1d(spectrum_f2,1), label='Filtered data', alpha=0.9)\n",
    "\n",
    "#plot highcut low cut frdeqs\n",
    "plot([lowcut, lowcut],[ymin,ymax],'k', lw=3, label='Bandpass')\n",
    "plot([highcut, highcut],[ymin,ymax],'k', lw=3)\n",
    "\n",
    "#plot calsource harmonics\n",
    "plot([1./period,1./period],[ymin,ymax],'k--', lw=3, alpha=0.3, label='Calsource Harmonics')\n",
    "for i in range(10):\n",
    "    plot([1./period*i,1./period*i],[ymin,ymax],'k--', lw=3, alpha=0.3)\n",
    "\n",
    "#plot the pulse tube harmoncs\n",
    "plot([notch[0,0],notch[0,0]], [ymin,ymax],'m:', lw=3, label='Pulse Tube Harmonics')\n",
    "for i in range(nharm):\n",
    "    plot([notch[0,0]*(i+1),notch[0,0]*(i+1)], [ymin,ymax],'m:', lw=3)\n",
    "legend(loc='center left')\n",
    "\n",
    "tight_layout()\n",
    "\n",
    "#savefig(\"fpowspec.png\", bbox_inches='tight')"
   ]
  },
  {
   "cell_type": "markdown",
   "id": "907264a8",
   "metadata": {},
   "source": [
    "# to see the filtered data as TOD"
   ]
  },
  {
   "cell_type": "code",
   "execution_count": null,
   "id": "113e5fec",
   "metadata": {},
   "outputs": [],
   "source": [
    "figure(figsize=(16,8))\n",
    "plot(t_src, (data_src-np.mean(data_src))/np.std(data_src), color='tab:orange', label='calibration Source', alpha=0.5)\n",
    "plot(tt, (tod-np.mean(tod))/np.std(tod), label='Raw Data', color= 'tab:blue', alpha=0.5)\n",
    "plot(tt, (newdata-np.mean(newdata))/np.std(newdata), color= 'tab:green', label='Filtered Data', alpha=0.5)\n",
    "xlabel('Unix Epoch (s)')\n",
    "\n",
    "ylim(-5,5)\n",
    "legend()"
   ]
  },
  {
   "cell_type": "markdown",
   "id": "3de33d78",
   "metadata": {},
   "source": [
    "an open research question... be carefull\n",
    "# calsource and data synchronisation\n",
    "try to zoom in on some strong signal events + the start and endpoints"
   ]
  },
  {
   "cell_type": "code",
   "execution_count": null,
   "id": "3c536e50",
   "metadata": {},
   "outputs": [],
   "source": [
    "\n",
    "#make some start and endpoints for plotting\n",
    "endpt2  = max(tt) + 2\n",
    "endpt1  = max(tt) - 3\n",
    "startp1 = min(tt) - 1\n",
    "startp2 = min(tt) + 4\n",
    "\n",
    "figure(figsize=(16,12))\n",
    "#zoom on signal\n",
    "subplot(2,2,3)\n",
    "plot(t_src, (data_src-np.mean(data_src))/np.std(data_src), color='tab:orange', label='Measured Source Signal', alpha=0.5)\n",
    "plot(tt, (newdata-np.mean(newdata))/np.std(newdata),color= 'tab:green',  label='Filtered Data', alpha=0.5)\n",
    "ylim(-5,5)\n",
    "xlim(1.596100115e+09, 1.596100125e+09)\n",
    "legend(loc='lower right')\n",
    "#zoom on signal\n",
    "subplot(2,2,4)\n",
    "plot(t_src, (data_src-np.mean(data_src))/np.std(data_src), color='tab:orange', label='Measured Source Signal', alpha=0.5)\n",
    "plot(tt, (newdata-np.mean(newdata))/np.std(newdata), color= 'tab:green', label='Filtered Data', alpha=0.5)\n",
    "ylim(-5,5)\n",
    "xlim(1.59611721e+09, 1.59611722e+09)\n",
    "legend(loc='lower right')\n",
    "#start point\n",
    "figure(figsize=(16,6))\n",
    "subplot(1,2,1)\n",
    "plot(t_src, (data_src-np.mean(data_src))/np.std(data_src), color='tab:orange', label='Measured Source Signal', alpha=0.5)\n",
    "plot(tt, (newdata-np.mean(newdata))/np.std(newdata), color= 'tab:green',  label='Filtered Data', alpha=0.5)\n",
    "ylim(-5,5)\n",
    "xlim(startp1, startp2)\n",
    "legend(loc='lower right')\n",
    "#endpoint\n",
    "subplot(1,2,2)\n",
    "plot(t_src, (data_src-np.mean(data_src))/np.std(data_src), color='tab:orange', label='Measured Source Signal', alpha=0.5)\n",
    "plot(tt, (newdata-np.mean(newdata))/np.std(newdata),color= 'tab:green', label='Filtered Data', alpha=0.5)\n",
    "ylim(-5,5)\n",
    "xlim(endpt1, endpt2)\n",
    "legend(loc='lower right')"
   ]
  },
  {
   "cell_type": "markdown",
   "id": "34c29009",
   "metadata": {},
   "source": [
    "# demodulate 1 TES\n",
    "I suggest to use quadrature demodulation to start, it gets a good result. I can share another script if you want to find a better demodulation. Or if you know how to improve these methods, please tell!\n",
    "\n",
    "the calsource and instrument data do not have the same data shape so we have to interpolate (there is probably room for improvement here according to the chat from 'data-reduction')\n",
    "\n",
    "some links - http://web.mit.edu/6.02/www/s2012/handouts/14.pdf - https://ict.iitk.ac.in/wp-content/uploads/EE320A-Principles-Of-Communication-CommunicationSystems-4ed-Haykin.pdf"
   ]
  },
  {
   "cell_type": "code",
   "execution_count": null,
   "id": "a75b2653",
   "metadata": {},
   "outputs": [],
   "source": [
    "##### Filtering to be used same as above?\n",
    "lowcut = 0.5\n",
    "highcut = 20\n",
    "nharm = 10\n",
    "notch = np.array([[1.724, 0.004, nharm]]) #should probably keep same notch and filters the same as filter\n",
    "fourier_cuts = [lowcut, highcut, notch]\n",
    "freq_mod = a.hk['CALSOURCE-CONF']['Mod_freq']\n",
    "\n",
    "# internpolate\n",
    "src = [tt, np.interp(tt, t_src, data_src)]\n",
    "#demod in quadrature, should have no time dependance but increased RMS noise\n",
    "newt_demod, amp_demod, errors_demod = dl.demodulate_methods([tt, newdata],\n",
    "                                                            freq_mod, \n",
    "                                                            src_data_in=src,\n",
    "                                                            method='demod_quad', remove_noise=False,\n",
    "                                                            fourier_cuts=fourier_cuts)\n"
   ]
  },
  {
   "cell_type": "code",
   "execution_count": null,
   "id": "2db2077a",
   "metadata": {},
   "outputs": [],
   "source": [
    "print(newt_demod.shape, amp_demod.shape, errors_demod.shape)"
   ]
  },
  {
   "cell_type": "markdown",
   "id": "30d7b98b",
   "metadata": {},
   "source": [
    "# make a flat map!\n"
   ]
  },
  {
   "cell_type": "code",
   "execution_count": null,
   "id": "246c2f6f",
   "metadata": {},
   "outputs": [],
   "source": [
    "#for quad demod\n",
    "newaz = np.interp(newt_demod, time_azel, az)\n",
    "newel = np.interp(newt_demod, time_azel, el)\n",
    "\n",
    "azmin = min(az)\n",
    "azmax = max(az)\n",
    "elmin = min(el)\n",
    "elmax = max(el)\n",
    "naz = 101\n",
    "nel = 101\n",
    "#map for quad demod\n",
    "mymap, azmap, elmap = dl.coadd_flatmap(amp_demod, newaz, newel, \n",
    "                                    filtering=None,\n",
    "                                    azmin=azmin, azmax=azmax, \n",
    "                                    elmin=elmin, elmax=elmax, \n",
    "                                    naz=naz,nel=nel)"
   ]
  },
  {
   "cell_type": "code",
   "execution_count": null,
   "id": "6aafa950",
   "metadata": {},
   "outputs": [],
   "source": [
    "figure(figsize=(16,8))\n",
    "\n",
    "\n",
    "imshow(mymap, aspect='equal', origin='lower',\n",
    "       extent=[azmin, azmax, elmin, elmax])\n",
    "title(\"Quadrature\")\n",
    "colorbar()"
   ]
  },
  {
   "cell_type": "markdown",
   "id": "fc7c9019",
   "metadata": {},
   "source": [
    "# check the demodulation on TOD\n"
   ]
  },
  {
   "cell_type": "code",
   "execution_count": null,
   "id": "3baf47b6",
   "metadata": {},
   "outputs": [],
   "source": [
    "plot(tt, (tod-np.mean(tod))/np.std(tod), label='Raw Data', color='tab:blue', lw=3, alpha=0.5)\n",
    "plot(t_src, (data_src-np.mean(data_src))/np.std(data_src), color='tab:orange', lw=3, label='Calibration Source Signal')\n",
    "plot(tt, (newdata-np.mean(newdata))/np.std(newdata), label='Filtered Data', lw=3, color='tab:green')\n",
    "plot(newt_demod, (amp_demod-np.mean(amp_demod))/np.std(amp_demod), '--', color='r', lw=3,  label='Quadrature Demodulation')\n",
    "\n",
    "\n",
    "xlim(1596117208, 1596117224)\n",
    "ylabel(\"Normalised Signal\")\n",
    "xlabel(\"Unix Epoch (s)\")\n",
    "legend(loc='upper right')\n",
    "#ylim(-1.5e6, 1.5e6)\n",
    "ylim(-5,5)"
   ]
  },
  {
   "cell_type": "markdown",
   "id": "0ca17c7f",
   "metadata": {},
   "source": [
    "# how to save the flat map\n",
    "the flat maps require that you also ave the az and el data\n",
    "make a directory. It must have 'Flat' as a subdirectory\n",
    "we should eventua\n",
    "\n",
    "# then test load the flat map\n",
    "make note to use dirfile without the 'Flat'\n",
    "i think get_flatmap could be changed to work with asic specified."
   ]
  },
  {
   "cell_type": "code",
   "execution_count": null,
   "id": "5dac3de9",
   "metadata": {},
   "outputs": [],
   "source": [
    "print(\"saving flat map for single map, TESNum {} ASIC {}\".format(TESNum, asic))\n",
    "FitsArray(mymap).save('/sps/hep/qubic/Users/jdmurphy/synthdata/tutorial_data/Flat/imgflat_TESNum_{}.fits'.format(TESNum))\n",
    "\n",
    "\"\"\"save the az el files for flats...\"\"\"\n",
    "FitsArray(azmap).save('/sps/hep/qubic/Users/jdmurphy/synthdata/tutorial_data/Flat/azimuth.fits')\n",
    "FitsArray(elmap).save('/sps/hep/qubic/Users/jdmurphy/synthdata/tutorial_data/Flat/elevation.fits')\n"
   ]
  },
  {
   "cell_type": "code",
   "execution_count": null,
   "id": "fdd86c49",
   "metadata": {},
   "outputs": [],
   "source": [
    "dirfile = '/sps/hep/qubic/Users/jdmurphy/synthdata/tutorial_data'\n",
    "\n",
    "flatmap, az, el = sbfit.get_flatmap(TESNum, dirfile, azmin = azmin, azmax=azmax)\n",
    "AZ, EL = np.meshgrid(az, el)\n",
    "\n",
    "figure(figsize=(12,16))\n",
    "imshow(flatmap, aspect='equal', origin='lower',\n",
    "          extent=[np.min(AZ), np.max(AZ), np.min(EL), np.max(EL)])"
   ]
  },
  {
   "cell_type": "markdown",
   "id": "3bf2b680",
   "metadata": {},
   "source": [
    "# Healpix map\n",
    "use demodulated signal from before"
   ]
  },
  {
   "cell_type": "code",
   "execution_count": null,
   "id": "e202e85c",
   "metadata": {},
   "outputs": [],
   "source": [
    "\"\"\"seems okay, now try healpix and TEST before save files\"\"\"\n",
    "#make map\n",
    "hpmapa = dl.scan2hpmap(128, newaz*np.cos(np.radians(50)), newel-50, amp_demod)\n",
    "#plot map\n",
    "hp.mollview(hpmapa)\n",
    "hp.gnomview(hpmapa,reso=10,max=np.max(hpmapa)/5,min=0)\n",
    "#save a healpix map\n",
    "path = '/sps/hep/qubic/Users/jdmurphy/synthdata/tutorial_data/Healpix/'\n",
    "write_map(path+'healpix_'+'TESNum_'+str(TESNum)+'.fits', hpmapa)"
   ]
  },
  {
   "cell_type": "code",
   "execution_count": null,
   "id": "4746de10",
   "metadata": {},
   "outputs": [],
   "source": [
    "#testload and plot\n",
    "directory = '/sps/hep/qubic/Users/jdmurphy/synthdata/tutorial_data'\n",
    "hpmap = sbfit.get_hpmap(TESNum, directory)\n",
    "hp.gnomview(hpmap, reso=10, title='TES #{}'.format(TESNum),cmap='jet',max=np.max(hpmap)/5,min=0)"
   ]
  },
  {
   "cell_type": "markdown",
   "id": "d7ba3625",
   "metadata": {},
   "source": [
    "# Great! Congratulations! Have a beer and celebrate!\n",
    "now thats one tes done, we can just use loops to do for all tes on both ASICS!"
   ]
  },
  {
   "cell_type": "markdown",
   "id": "52e91127",
   "metadata": {},
   "source": [
    "# to do for all TES\n",
    "carefull with the demodulation, sometimes the the asics will have different demodulate lengths which may cause an issue here. the simple solution is to demodulate each asic separately and combine later\n",
    "\n",
    "doing this part can probably be improved. I think with jupyter only one core is used. Maybe somebody already knows how to multithread with jupyter, please tell!"
   ]
  },
  {
   "cell_type": "code",
   "execution_count": null,
   "id": "d2b7e133",
   "metadata": {},
   "outputs": [],
   "source": [
    "\"\"\"USE TO DEMOD BOTH ASICS\n",
    "\n",
    "This crashes on this dataset, revert to alternative method\"\"\"\n",
    "reload(dl)\n",
    "### Now do all maps with the same cuts\n",
    "\n",
    "\n",
    "##### Filtering to be used should keep the same as before\n",
    "# lowcut = 0.5\n",
    "# highcut = 20\n",
    "# nharm = 10\n",
    "# notch = np.array([[1.724, 0.004, nharm]])\n",
    "# fourier_cuts = [lowcut, highcut, notch]\n",
    "\n",
    "amps_demod = np.zeros((256, len(amp_demod)))\n",
    "\n",
    "#loop over each asic\n",
    "for asic in [1,2]:\n",
    "    #load time series data for the asic\n",
    "    tt = a.timeaxis(axistype='pps', asic=asic)\n",
    "    #build a structure form for dl.demodulate\n",
    "    #interpolate the source to match tt\n",
    "    src = [tt, np.interp(tt, t_src, data_src)]\n",
    "    #loop over each TES on an asic\n",
    "    for i in range(128):\n",
    "        print('Mapmaking for Asic {} TES {}'.format(asic,i+1))\n",
    "        #load TOD for TES on the ASIC\n",
    "        tod = a.timeline(TES=i+1,asic=asic)\n",
    "        #demodulate\n",
    "        print('- Demodulation')\n",
    "        newt_demod, amps_demod[i+128*(asic-1),:], errors_demod = dl.demodulate_methods([tt, tod],\n",
    "                                                                    freq_mod, \n",
    "                                                                    src_data_in=src,\n",
    "                                                                    method='demod_quad', remove_noise=True,\n",
    "                                                                   fourier_cuts=fourier_cuts)\n"
   ]
  },
  {
   "cell_type": "code",
   "execution_count": null,
   "id": "ed42c245",
   "metadata": {},
   "outputs": [],
   "source": [
    "# \"\"\"here we check the demodulation sizes if you demodualted each asic separately \"\"\"\n",
    "# print(\"amp demod size asic1\", len(amp_demodasic1))\n",
    "\n",
    "# print(\"amp demod size asic2\", len(amp_demodasic2))\n",
    "\n",
    "#if uneven - \n",
    "\n",
    "# #need to cut one of these to size of other\n",
    "# amps_demod = np.vstack([amps_demoda1, amps_demoda2[:,:len(amps_demoda1[0,:])]])\n",
    "# print(amps_demod.shape)"
   ]
  },
  {
   "cell_type": "markdown",
   "id": "37269196",
   "metadata": {},
   "source": [
    "# now make all flatmaps\n"
   ]
  },
  {
   "cell_type": "code",
   "execution_count": null,
   "id": "21755245",
   "metadata": {},
   "outputs": [],
   "source": [
    "\"\"\"create maps\"\"\"\n",
    "time_azel = a.timeaxis(datatype='hk',axistype='pps')\n",
    "az = a.azimuth()\n",
    "el = a.elevation()\n",
    "\n",
    "newaz = np.interp(newt_demod, time_azel, az)\n",
    "newel = np.interp(newt_demod, time_azel, el)\n",
    "azmin = min(az)\n",
    "azmax = max(az)\n",
    "elmin = min(el)\n",
    "elmax = max(el)\n",
    "naz = 101\n",
    "nel = 101\n",
    "nmaps = 256\n",
    "mapdata = np.zeros((256, nel, naz))\n",
    "\n",
    "\n",
    "mapdata, azmap, elmap = dl.coadd_flatmap(amps_demod, newaz, newel, \n",
    "                                                                filtering=None,\n",
    "                                                                azmin=azmin, azmax=azmax, \n",
    "                                                                elmin=elmin, elmax=elmax, \n",
    "                                                                naz=naz,nel=nel)\n",
    "print(mapdata.shape)\n",
    "#print(newt_demod.shape, time_azel.shape, az.shape)\n"
   ]
  },
  {
   "cell_type": "code",
   "execution_count": null,
   "id": "65329e71",
   "metadata": {},
   "outputs": [],
   "source": [
    "\"\"\"save the maps\n",
    "you can see the numbering here doesn't really reflect the real naming of TES we use\"\"\"\n",
    "\n",
    "for i in range(256):\n",
    "    print(\"saving flat map for tes {}\".format(i+1))\n",
    "    FitsArray(mapdata[i,:,:]).save('/sps/hep/qubic/Users/jdmurphy/synthdata/tutorial_data/Flat/imgflat_TESNum_{}.fits'.format(i+1))\n",
    "    \n",
    "\"\"\"save the az el files for flats...\"\"\"\n",
    "\n",
    "FitsArray(azmap).save('/sps/hep/qubic/Users/jdmurphy/synthdata/tutorial_data/Flat/azimuth.fits')\n",
    "FitsArray(elmap).save('/sps/hep/qubic/Users/jdmurphy/synthdata/tutorial_data/Flat/elevation.fits')   "
   ]
  },
  {
   "cell_type": "code",
   "execution_count": null,
   "id": "65544237",
   "metadata": {},
   "outputs": [],
   "source": [
    "\"\"\"load flat maps\"\"\"\n",
    "tesar = np.linspace(1, 256, 256)\n",
    "flatmaps = np.zeros([256, 101, 101])\n",
    "\n",
    "for i, tes in enumerate(tesar):\n",
    "\n",
    "    flatmap, az, el = sbfit.get_flatmap(int(tes), dirfile, azmin = azmin, azmax=azmax)\n",
    "    flatmaps[i, :, :] = flatmap\n",
    "print(flatmaps.shape)\n",
    "\n",
    "#contrast plot\n",
    "rc('figure',figsize=(16,8))\n",
    "nnx = 5\n",
    "nny=2\n",
    "k=0\n",
    "nplots = int(256/nnx/nny)+1\n",
    "\n",
    "elmin = min(el)\n",
    "elmax = max(el)\n",
    "azmin = min(az)\n",
    "azmax = max(az)\n",
    "\n",
    "for k in range(nplots):\n",
    "    figure()\n",
    "    for i in range(nnx*nny):\n",
    "        ites = i+k*nnx*nny\n",
    "        if ites < 256:\n",
    "            subplot(nny,nnx,i+1)\n",
    "            mm, ss = ft.meancut(flatmaps[ites,:,:],3)\n",
    "            \n",
    "            imshow(flatmaps[ites,:,:], aspect='equal', origin='lower',\n",
    "                   extent=[np.min(az), np.max(az), np.min(el), np.max(el)],\n",
    "            vmin=mm-3*ss, vmax=mm+50*ss)\n",
    "\n",
    "            title('TES {} 2020-08-02'.format(int(tesar[ites])), fontsize=16)\n",
    "            #plt.savefig('/sps/hep/qubic/Users/jdmurphy/synthdata/tutorial_data/imagescontrast/jj{}.png'.format(k), bbox_inches='tight')\n",
    "    tight_layout()\n",
    "    show()"
   ]
  },
  {
   "cell_type": "markdown",
   "id": "30cf5784",
   "metadata": {},
   "source": [
    "# Now save, load and test the healpix\n",
    "again the naming system here isn't smart.\n",
    "takes a while"
   ]
  },
  {
   "cell_type": "code",
   "execution_count": null,
   "id": "adc3ab16",
   "metadata": {},
   "outputs": [],
   "source": [
    "\"\"\"for each demodulated signal make a hpmap and save it\"\"\"\n",
    "\n",
    "path = '/sps/hep/qubic/Users/jdmurphy/synthdata/tutorial_data/Healpix/'\n",
    "\n",
    "for tes in np.linspace(0,255, 256, dtype=int):\n",
    "    tesnum=str(tes+1)\n",
    "    print(\"tes idx, tesnum \", tes, tes+1)\n",
    "    hpmap = dl.scan2hpmap(128, newaz*np.cos(np.radians(50)), newel-50, amps_demod[tes,:])\n",
    "    write_map(path+'healpix_'+'TESNum_'+tesnum+'.fits', hpmap)"
   ]
  },
  {
   "cell_type": "code",
   "execution_count": null,
   "id": "a9581f7e",
   "metadata": {},
   "outputs": [],
   "source": [
    "\"\"\"test loading and plotting healpix maps\"\"\"\n",
    "\n",
    "directory = '/sps/hep/qubic/Users/jdmurphy/synthdata/tutorial_data'\n",
    "tes =10\n",
    "hpmap = sbfit.get_hpmap(tes, directory)\n",
    "hp.gnomview(hpmap, reso=10, title='TES #{}'.format(tes),cmap='jet',max=np.max(hpmap)/5,min=0)\n",
    "\n",
    "print(hpmap.shape)"
   ]
  },
  {
   "cell_type": "code",
   "execution_count": null,
   "id": "9362095d",
   "metadata": {},
   "outputs": [],
   "source": []
  }
 ],
 "metadata": {
  "kernelspec": {
   "display_name": "Python 3",
   "language": "python",
   "name": "python3"
  }
 },
 "nbformat": 4,
 "nbformat_minor": 5
}
