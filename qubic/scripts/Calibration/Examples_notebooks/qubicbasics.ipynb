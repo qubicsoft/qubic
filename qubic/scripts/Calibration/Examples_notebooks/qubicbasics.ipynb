{
 "cells": [
  {
   "cell_type": "code",
   "execution_count": null,
   "id": "c418f673",
   "metadata": {},
   "outputs": [],
   "source": [
    "import os\n",
    "import qubic\n",
    "import numpy as np\n",
    "import glob\n",
    "from qubicpack.qubicfp import qubicfp\n",
    "import matplotlib.pyplot as plt"
   ]
  },
  {
   "cell_type": "code",
   "execution_count": null,
   "id": "1e311959",
   "metadata": {},
   "outputs": [],
   "source": [
    "#Set paths\n",
    "if 'QUBIC_TODDIR' in os.environ.keys():\n",
    "    qubic_toddir = os.environ['QUBIC_TODDIR']\n",
    "    print(\"TOD directory: \",qubic_toddir)\n",
    "else:\n",
    "    raise ValueError(\"You have to specify a directory where the Time Ordered Data (TOD) are. \\\n",
    "    The ussual format of the TOD root directory is yyyy-mm-dd, e.g. /sps/qubic/Data/Calib-TD at CCA\")"
   ]
  },
  {
   "cell_type": "code",
   "execution_count": null,
   "id": "c52e5e4e",
   "metadata": {},
   "outputs": [],
   "source": [
    "day = '2019-03-31'#'2020-11-10'\n",
    "#day = '2021-09-09'#'2020-11-10'\n",
    "keyword = '*2019*'\n",
    "data_dir = qubic_toddir + day + \"/\"#+ '/media/james/DATA/QUBIC_DATA/'+day+'/'\n",
    "dirs = np.sort(glob.glob(data_dir+keyword))\n",
    "print(dirs)\n",
    "print(data_dir+keyword)"
   ]
  },
  {
   "cell_type": "code",
   "execution_count": null,
   "id": "35771342",
   "metadata": {},
   "outputs": [],
   "source": [
    "print(\"select your file\")\n",
    "ifile = 1\n",
    "thedir = dirs[ifile]\n",
    "print(thedir)\n"
   ]
  },
  {
   "cell_type": "code",
   "execution_count": null,
   "id": "3168225b",
   "metadata": {},
   "outputs": [],
   "source": [
    "#this part here is important, it loads the data in memory\n",
    "\n",
    "a = qubicfp()\n",
    "a.read_qubicstudio_dataset(thedir)"
   ]
  },
  {
   "cell_type": "code",
   "execution_count": null,
   "id": "0e07d092",
   "metadata": {},
   "outputs": [],
   "source": [
    "fig, ax = plt.subplots(nrows = 1, ncols = 1, figsize = (12,8))\n",
    "ax.set_title(\"Data from Salta\",loc = \"left\", pad = 25, fontsize = 17, color = \"r\")\n",
    "#ax.text(4300,0.01, \"Data from Salta\")\n",
    "a.plot_timeline(TES=96,asic=1, ax = ax)"
   ]
  },
  {
   "cell_type": "code",
   "execution_count": null,
   "id": "ba552253",
   "metadata": {},
   "outputs": [],
   "source": [
    "a.quicklook()"
   ]
  },
  {
   "cell_type": "code",
   "execution_count": null,
   "id": "79826842",
   "metadata": {},
   "outputs": [],
   "source": [
    "plt.figure(figsize = (12,12))\n",
    "a.plot_timeline_focalplane()"
   ]
  },
  {
   "cell_type": "code",
   "execution_count": null,
   "id": "81869097",
   "metadata": {},
   "outputs": [],
   "source": [
    "print(\"what keys do we have?\")\n",
    "print(a.hk.keys())\n",
    "a.hk.keys()"
   ]
  },
  {
   "cell_type": "code",
   "execution_count": null,
   "id": "7987754a",
   "metadata": {},
   "outputs": [],
   "source": [
    "print(\"read key elements\")\n",
    "print(\"The keys in this dictionary are:\\n\")\n",
    "for k in a.hk['CALSOURCE-CONF'].keys():\n",
    "    print(k, a.hk['CALSOURCE-CONF'][k])"
   ]
  },
  {
   "cell_type": "code",
   "execution_count": null,
   "id": "b19dd51f",
   "metadata": {},
   "outputs": [],
   "source": [
    "print(\"plot az el\")\n",
    "#rc('figure',figsize=(12,12))\n",
    "\n",
    "time_azel = a.timeaxis(datatype='hk',axistype='pps')\n",
    "az = a.azimuth()\n",
    "el = a.elevation()\n",
    "\n",
    "t_src = a.calsource()[0]\n",
    "data_src = a.calsource()[1]\n",
    "\n",
    "t0 = time_azel[0]\n",
    "t9 = time_azel[-1]\n",
    "\n",
    "plt.figure(figsize=(16,8))\n",
    "plt.subplot(2,2,1)\n",
    "plt.plot((time_azel-t0)/3600, az,',')\n",
    "plt.xlabel('Time [h]')\n",
    "plt.ylabel('Az')\n",
    "plt.subplot(2,2,2)\n",
    "plt.plot((time_azel-t0)/3600, el,',')\n",
    "plt.xlabel('Time [h]')\n",
    "plt.ylabel('El')\n",
    "plt.ylim(30,70)\n",
    "\n",
    "plt.subplot(2,2,3)\n",
    "plt.plot(az*np.cos(np.radians(el)), el,',')\n",
    "plt.xlabel('Az')\n",
    "plt.ylabel('El')\n",
    "\n",
    "plt.subplot(2,2,4)\n",
    "plt.plot((t_src-t0)/3600, data_src,',')\n",
    "plt.xlabel('Time [h]')\n",
    "plt.ylabel('Src Data')"
   ]
  },
  {
   "cell_type": "code",
   "execution_count": null,
   "id": "2c7de48e",
   "metadata": {},
   "outputs": [],
   "source": [
    "hwppos = a.hwp_position()"
   ]
  },
  {
   "cell_type": "code",
   "execution_count": null,
   "id": "7c678677",
   "metadata": {},
   "outputs": [],
   "source": [
    "print(hwppos.shape, time_azel.shape)\n",
    "\n",
    "plt.plot( time_azel, hwppos)"
   ]
  },
  {
   "cell_type": "code",
   "execution_count": null,
   "id": "27fb624e",
   "metadata": {},
   "outputs": [],
   "source": [
    "TESNum = 76\n",
    "asic = 1\n",
    "tod = a.timeline(TES=TESNum, asic=asic)\n",
    "tt = a.timeaxis(axistype='pps', asic=asic)\n",
    "print(\"interpolate the calsource data to the shape of the TOD\")\n",
    "#interp_src = np.interp(tt, t_src, data_src)\n",
    "print(tt.shape)"
   ]
  },
  {
   "cell_type": "code",
   "execution_count": null,
   "id": "1577a2c9",
   "metadata": {},
   "outputs": [],
   "source": [
    "fig, ax = plt.subplots(nrows = 1, ncols = 1, figsize = (12,8))\n",
    "ax.set_title(\"Data from Salta\",loc = \"left\", pad = 25, fontsize = 17, color = \"r\")\n",
    "a.plot_hwp(ax =ax)"
   ]
  }
 ],
 "metadata": {
  "kernelspec": {
   "display_name": "Python 3",
   "language": "python",
   "name": "python3"
  }
 },
 "nbformat": 4,
 "nbformat_minor": 5
}
