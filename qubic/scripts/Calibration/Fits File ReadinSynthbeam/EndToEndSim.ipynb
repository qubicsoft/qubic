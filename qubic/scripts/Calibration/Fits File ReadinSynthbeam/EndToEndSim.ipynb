{
 "cells": [
  {
   "cell_type": "code",
   "execution_count": null,
   "id": "ef7a50bb",
   "metadata": {},
   "outputs": [],
   "source": [
    "##Loading modules. \n",
    "\n",
    "# General modules\n",
    "from __future__ import division, print_function\n",
    "# %matplotlib inline\n",
    "import os\n",
    "import sys\n",
    "import time\n",
    "import datetime\n",
    "import shutil"
   ]
  },
  {
   "cell_type": "code",
   "execution_count": null,
   "id": "eea9c5de",
   "metadata": {},
   "outputs": [],
   "source": [
    "# Specific science modules\n",
    "import healpy as hp\n",
    "import numpy as np\n",
    "import matplotlib.pyplot as plt\n",
    "import matplotlib.cm as cm\n"
   ]
  },
  {
   "cell_type": "code",
   "execution_count": null,
   "id": "b0774ed5",
   "metadata": {},
   "outputs": [],
   "source": [
    "# Specific qubic modules\n",
    "import pysm3\n",
    "import qubic\n",
    "from qubicpack.utilities import Qubic_DataDir\n",
    "from pysimulators import FitsArray\n"
   ]
  },
  {
   "cell_type": "code",
   "execution_count": null,
   "id": "9d259cf1",
   "metadata": {},
   "outputs": [],
   "source": [
    "from qubic import SpectroImLib as si\n",
    "from pysm3 import models\n",
    "from qubic import QubicSkySim as qss\n"
   ]
  },
  {
   "cell_type": "code",
   "execution_count": null,
   "id": "9435a62c",
   "metadata": {},
   "outputs": [],
   "source": [
    "# Repository for dictionary\n",
    "global_dir = Qubic_DataDir(datafile='instrument.py', datadir='../')\n",
    "dictfilename = global_dir + 'dicts/pipeline_demo.dict'"
   ]
  },
  {
   "cell_type": "code",
   "execution_count": null,
   "id": "70ec894e",
   "metadata": {},
   "outputs": [],
   "source": [
    "# Read dictionary chosen\n",
    "d = qubic.qubicdict.qubicDict()\n",
    "d.read_from_file(dictfilename)"
   ]
  },
  {
   "cell_type": "code",
   "execution_count": null,
   "id": "b720ced1",
   "metadata": {},
   "outputs": [],
   "source": [
    "# Set nf_sub to 1 to be in the monofreq case\n",
    "d['nf_sub'] = 1"
   ]
  },
  {
   "cell_type": "code",
   "execution_count": null,
   "id": "23f2b5e7",
   "metadata": {},
   "outputs": [],
   "source": [
    "# No spectroimaging\n",
    "d['nf_recon'] = 1"
   ]
  },
  {
   "cell_type": "code",
   "execution_count": null,
   "id": "7b97310f",
   "metadata": {},
   "outputs": [],
   "source": [
    "# Center of the patch observed in galactic coordinates\n",
    "center = qubic.equ2gal(d['RA_center'], d['DEC_center'])\n",
    "print(center)\n",
    "d['effective_duration'] = 4\n",
    "\n",
    "# Adjust some parameters in the dictionary\n",
    "d['npointings'] = 3000\n",
    "d['tol'] = 1e-5\n",
    "d['filter_nu'] = 220e9\n",
    "d['photon_noise'] = False\n",
    "d['noiseless'] = False\n"
   ]
  },
  {
   "cell_type": "code",
   "execution_count": null,
   "id": "e85c9de2",
   "metadata": {},
   "outputs": [],
   "source": [
    "print(d['filter_nu'])\n",
    "print(d['detector_nep'])\n",
    "print(d['photon_noise'])\n",
    "print(d['config'])\n",
    "print(d['effective_duration'])"
   ]
  },
  {
   "cell_type": "code",
   "execution_count": null,
   "id": "a3ec02fb",
   "metadata": {},
   "outputs": [],
   "source": [
    "# decide whether to use fits file synth beam\n",
    "d['use_synthbeam_fits_file']=True\n"
   ]
  },
  {
   "cell_type": "code",
   "execution_count": null,
   "id": "16abd5c9",
   "metadata": {},
   "outputs": [],
   "source": [
    "# Make a sky using PYSM\n",
    "### Pick one of these:\n",
    "seed = 42\n",
    "sky_config = {'CMB': 'c1'} \n",
    "# sky_config = {'cmb': 42}                ### CMB Only\n",
    "#sky_config = {'cmb': seed, 'dust':'d1'}   ### CMB + Dust"
   ]
  },
  {
   "cell_type": "code",
   "execution_count": null,
   "id": "4d2155b9",
   "metadata": {},
   "outputs": [],
   "source": [
    "### Generate the maps at each sub-frequency\n",
    "Qubic_sky = qss.Qubic_sky(sky_config, d)\n",
    "x0 = Qubic_sky.get_simple_sky_map()"
   ]
  },
  {
   "cell_type": "code",
   "execution_count": null,
   "id": "a8b7ae17",
   "metadata": {},
   "outputs": [],
   "source": [
    "print('sky shape: ', x0.shape)"
   ]
  },
  {
   "cell_type": "code",
   "execution_count": null,
   "id": "3f254d7a",
   "metadata": {},
   "outputs": [],
   "source": [
    "# Look at the input sky maps using Healpy\n",
    "istokes = 0 # Stokes parameter (I, Q, U)\n",
    "rr = 9 # Resolution in arcmin"
   ]
  },
  {
   "cell_type": "code",
   "execution_count": null,
   "id": "e483fa16",
   "metadata": {},
   "outputs": [],
   "source": [
    "plt.figure(figsize=(13,8))\n",
    "for istk in range(3):\n",
    "    plt.subplots_adjust(wspace=0.9)\n",
    "    hp.mollview(x0[0, :,istk], cmap='jet', sub = (3,2,2*istk+1), \n",
    "        title = 'Mollview {0} Stokes parameter'.format(d['kind'][istk]))\n",
    "    hp.gnomview(x0[0, :,istk], cmap ='jet', sub = (3,2,2*istk+2), rot=center, reso=rr, \n",
    "        title = 'Gnomview {0} Stokes parameter'.format(d['kind'][istk]))\n"
   ]
  },
  {
   "cell_type": "code",
   "execution_count": null,
   "id": "567f9013",
   "metadata": {},
   "outputs": [],
   "source": [
    "# Pointing strategy\n",
    "p = qubic.get_pointing(d)\n",
    "print('=== Pointing DONE! ===')"
   ]
  },
  {
   "cell_type": "code",
   "execution_count": null,
   "id": "790aa5f1",
   "metadata": {},
   "outputs": [],
   "source": [
    "# Model of the scene at the time of observation\n",
    "s = qubic.QubicScene(d)"
   ]
  },
  {
   "cell_type": "code",
   "execution_count": null,
   "id": "13499044",
   "metadata": {},
   "outputs": [],
   "source": [
    "# Create a monofrequency Instrument.\n",
    "q = qubic.QubicInstrument(d)"
   ]
  },
  {
   "cell_type": "code",
   "execution_count": null,
   "id": "77907606",
   "metadata": {},
   "outputs": [],
   "source": [
    "# Create an acquisition operator which combines all relevant information\n",
    "#scene, instrument configuration and pointing strategy. \n",
    "a = qubic.QubicAcquisition(q, p, s, d)"
   ]
  },
  {
   "cell_type": "code",
   "execution_count": null,
   "id": "5d7712f8",
   "metadata": {},
   "outputs": [],
   "source": [
    "# Monofreq TOD making\n",
    "TOD, maps_convolved = a.get_observation(x0[0], noiseless=d['noiseless'])#, convolution = True)"
   ]
  },
  {
   "cell_type": "code",
   "execution_count": null,
   "id": "c99ffd76",
   "metadata": {},
   "outputs": [],
   "source": [
    "print('TOD shape: ', TOD.shape)\n",
    "print('maps conv shape: ', maps_convolved.shape)"
   ]
  },
  {
   "cell_type": "code",
   "execution_count": null,
   "id": "e4952e54",
   "metadata": {},
   "outputs": [],
   "source": [
    "# Look at TOD for one TES\n",
    "print('--------- TOD with shape (#detectors, #pointings) : {} '.format(np.shape(TOD)))\n",
    "\n",
    "tes = 6\n",
    "plt.plot(TOD[tes, :], label='TES {}'.format(tes))\n",
    "plt.xlabel('Pointing index')\n",
    "plt.ylabel(f'TOD from TES {tes} [W]')\n",
    "plt.title('FI - 220GHz - Noiseless={} CMB - STD = {:.4} W'.format( d['noiseless'], np.std(TOD)))"
   ]
  },
  {
   "cell_type": "code",
   "execution_count": null,
   "id": "630b5d46",
   "metadata": {},
   "outputs": [],
   "source": [
    "# Get coverage map\n",
    "# i.e. how many times were seen each pixel of the sky (not trivial because of the synthetic beam)\n",
    "cov = a.get_coverage()\n",
    "\n",
    "print(cov.shape)\n",
    "hp.mollview(cov)"
   ]
  },
  {
   "cell_type": "code",
   "execution_count": null,
   "id": "fcb5a791",
   "metadata": {},
   "outputs": [],
   "source": [
    "# Check the pointing and the coverage coincide\n",
    "theta = p.galactic[:, 0]\n",
    "phi = p.galactic[:, 1]\n",
    "nside = d['nside']\n",
    "\n",
    "pix = hp.ang2pix(nside, theta, phi, lonlat=True)\n",
    "ptg_map = np.zeros(12 * nside**2)\n",
    "ptg_map[pix] = 200\n",
    "hp.mollview(ptg_map + cov)"
   ]
  },
  {
   "cell_type": "code",
   "execution_count": null,
   "id": "9bdefdda",
   "metadata": {},
   "outputs": [],
   "source": [
    "hitmap = a.get_hitmap(d['nside'])\n",
    "hp.mollview(hitmap)"
   ]
  },
  {
   "cell_type": "code",
   "execution_count": null,
   "id": "3bc7cad0",
   "metadata": {},
   "outputs": [],
   "source": [
    "# From TOD reconstruct sky maps.\n",
    "maps_recon, nit, error = a.tod2map(TOD, d, cov=cov)\n",
    "\n",
    "print('The shape of the reconstructed maps is (#pixels, #stokes) :', maps_recon.shape)\n",
    "print('{} iterations were needed to get an error of {}'.format(nit, error))"
   ]
  },
  {
   "cell_type": "code",
   "execution_count": null,
   "id": "c0ca39ff",
   "metadata": {},
   "outputs": [],
   "source": [
    "# Compare with the convolved maps\n",
    "diff = maps_recon - maps_convolved\n",
    "print(diff.shape)\n",
    "print(maps_recon.shape)"
   ]
  },
  {
   "cell_type": "code",
   "execution_count": null,
   "id": "cd6706cd",
   "metadata": {},
   "outputs": [],
   "source": [
    "# Keeping only the sky region which has been significantly observed\n",
    "# Pixels not seen enough are replaced by UNSEEN value\n",
    "maxcov = np.max(cov)\n",
    "unseen = cov < maxcov * 0.15\n",
    "\n",
    "maps_convolved[unseen, :] = hp.UNSEEN\n",
    "maps_recon[unseen, :] = hp.UNSEEN\n",
    "diff[unseen, :] = hp.UNSEEN"
   ]
  },
  {
   "cell_type": "code",
   "execution_count": null,
   "id": "8e6751e4",
   "metadata": {},
   "outputs": [],
   "source": [
    "rr = 14 # Resolution in arcmin\n",
    "stokes = ['I', 'Q', 'U']\n",
    "plt.figure(figsize=(15, 15))\n",
    "for istokes in range(3):\n",
    "    if istokes == 0:\n",
    "        min = -200\n",
    "        max = 200\n",
    "    else:\n",
    "        min = -8\n",
    "        max = 8\n",
    "    hp.gnomview(maps_convolved[:, istokes], cmap='jet', rot=center, sub=(3,3,3*istokes+1), reso=rr,\n",
    "                title='Input ' + stokes[istokes], unit='$\\mu K_{CMB}$', format='%g',  min=min, max=max)\n",
    "    hp.gnomview(maps_recon[:, istokes], cmap='jet',rot=center, sub=(3,3,3*istokes+2), reso=rr,\n",
    "                title='Output ' + stokes[istokes], unit='$\\mu K_{CMB}$', min=min, max=max)\n",
    "    hp.gnomview(diff[:, istokes], cmap='jet',rot=center, sub=(3,3,3*istokes+3), reso=rr,\n",
    "                title='Difference ' + stokes[istokes], unit='$\\mu K_{CMB}$', min=-2, max=2)\n",
    "hp.graticule(dpar = 5, dmer = 5, verbose = False, alpha = 0.5)\n",
    "plt.savefig('comparison_map.pdf')"
   ]
  },
  {
   "cell_type": "code",
   "execution_count": null,
   "id": "171a2a38",
   "metadata": {},
   "outputs": [],
   "source": [
    "# now run it all again with just the analytic calculation\n",
    "# decide whether to use fits file synth beam\n",
    "d['use_synthbeam_fits_file']=False\n",
    "# Pointing strategy\n",
    "p = qubic.get_pointing(d)\n",
    "print('=== Pointing DONE! ===')\n",
    "# Model of the scene at the time of observation\n",
    "s = qubic.QubicScene(d)\n",
    "# Create a monofrequency Instrument.\n",
    "q = qubic.QubicInstrument(d)\n",
    "# Create an acquisition operator which combines all relevant information\n",
    "#scene, instrument configuration and pointing strategy. \n",
    "a = qubic.QubicAcquisition(q, p, s, d)"
   ]
  },
  {
   "cell_type": "code",
   "execution_count": null,
   "id": "81c7d9aa",
   "metadata": {},
   "outputs": [],
   "source": [
    "# Monofreq TOD making\n",
    "TOD2, maps_convolved2 = a.get_observation(x0[0], noiseless=d['noiseless'])#, convolution = True)"
   ]
  },
  {
   "cell_type": "code",
   "execution_count": null,
   "id": "d96707f6",
   "metadata": {},
   "outputs": [],
   "source": [
    "# From TOD reconstruct sky maps.\n",
    "maps_recon2, nit2, error2 = a.tod2map(TOD, d, cov=cov)\n",
    "\n",
    "print('The shape of the reconstructed maps is (#pixels, #stokes) :', maps_recon2.shape)\n",
    "print('{} iterations were needed to get an error of {}'.format(nit2, error2))"
   ]
  },
  {
   "cell_type": "code",
   "execution_count": null,
   "id": "04dd9200",
   "metadata": {},
   "outputs": [],
   "source": [
    "# Keeping only the sky region which has been significantly observed\n",
    "# Pixels not seen enough are replaced by UNSEEN value\n",
    "maxcov = np.max(cov)\n",
    "unseen = cov < maxcov * 0.15\n",
    "\n",
    "maps_convolved2[unseen, :] = hp.UNSEEN"
   ]
  },
  {
   "cell_type": "code",
   "execution_count": null,
   "id": "a39658b5",
   "metadata": {},
   "outputs": [],
   "source": [
    "diff2 = maps_convolved2 - maps_convolved\n",
    "diff2[unseen, :] = hp.UNSEEN"
   ]
  },
  {
   "cell_type": "code",
   "execution_count": null,
   "id": "cf7aa619",
   "metadata": {},
   "outputs": [],
   "source": [
    "rr = 14 # Resolution in arcmin\n",
    "stokes = ['I', 'Q', 'U']\n",
    "plt.figure(figsize=(15, 15))\n",
    "for istokes in range(3):\n",
    "    if istokes == 0:\n",
    "        min = -200\n",
    "        max = 200\n",
    "    else:\n",
    "        min = -8\n",
    "        max = 8\n",
    "    hp.gnomview(maps_convolved2[:, istokes], cmap='jet', rot=center, sub=(3,3,3*istokes+1), reso=rr,\n",
    "                title='Input_Theoretical ' + stokes[istokes], unit='$\\mu K_{CMB}$', format='%g',  min=min, max=max)\n",
    "    hp.gnomview(maps_convolved[:, istokes], cmap='jet',rot=center, sub=(3,3,3*istokes+2), reso=rr,\n",
    "                title='Input_Fits ' + stokes[istokes], unit='$\\mu K_{CMB}$', min=min, max=max)\n",
    "    hp.gnomview(diff2[:, istokes], cmap='jet',rot=center, sub=(3,3,3*istokes+3), reso=rr,\n",
    "                title='Difference ' + stokes[istokes], unit='$\\mu K_{CMB}$', min=-2, max=2)\n",
    "hp.graticule(dpar = 5, dmer = 5, verbose = False, alpha = 0.5)\n",
    "plt.savefig('comparison_map.pdf')"
   ]
  },
  {
   "cell_type": "code",
   "execution_count": null,
   "id": "01edebc0",
   "metadata": {},
   "outputs": [],
   "source": []
  }
 ],
 "metadata": {
  "jupytext": {
   "formats": "ipynb,Rmd"
  },
  "kernelspec": {
   "display_name": "Python 3 (ipykernel)",
   "language": "python",
   "name": "python3"
  }
 },
 "nbformat": 4,
 "nbformat_minor": 5
}
