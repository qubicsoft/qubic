{
 "cells": [
  {
   "cell_type": "code",
   "execution_count": null,
   "id": "753f3d24",
   "metadata": {},
   "outputs": [],
   "source": [
    "#code to read in multiple fits files and merge them to one multifreq fits file"
   ]
  },
  {
   "cell_type": "code",
   "execution_count": null,
   "id": "2ed6d98f",
   "metadata": {},
   "outputs": [],
   "source": [
    "import healpy as hp\n",
    "import numpy as np\n",
    "from astropy.io import fits\n",
    "import matplotlib.pyplot as plt\n",
    "import matplotlib.cm as cm"
   ]
  },
  {
   "cell_type": "code",
   "execution_count": null,
   "id": "38d811b8",
   "metadata": {},
   "outputs": [],
   "source": [
    "#first read in each individual fits file\n",
    "#set up the frequencies\n",
    "freqarray=np.array([133,136,137,141,146,148,151,156,161,166,220])"
   ]
  },
  {
   "cell_type": "code",
   "execution_count": null,
   "id": "5b548c27",
   "metadata": {},
   "outputs": [],
   "source": [
    "#create the fits files\n",
    "theta=np.zeros((len(freqarray),992,9))\n",
    "phi=np.zeros((len(freqarray),992,9))\n",
    "val=np.zeros((len(freqarray),992,9))\n",
    "\n",
    "for i in range (len(freqarray)):\n",
    "    fstring=str(freqarray[i])\n",
    "    hdul = fits.open('synthbeam_fits_files/CalQubic_Synthbeam_Analytical_'+fstring+'_FI.fits')\n",
    "    theta[i,:,:]=hdul[0].data\n",
    "    phi[i,:,:]=hdul[1].data\n",
    "    val[i,:,:]=hdul[2].data"
   ]
  },
  {
   "cell_type": "code",
   "execution_count": null,
   "id": "505f994e",
   "metadata": {},
   "outputs": [],
   "source": [
    "#now need to save the files\n",
    "new_hdul = fits.HDUList()\n",
    "new_hdul.append(fits.ImageHDU(theta))\n",
    "new_hdul.append(fits.ImageHDU(phi))\n",
    "new_hdul.append(fits.ImageHDU(val))\n",
    "new_hdul.append(fits.ImageHDU(freqarray))\n",
    "    \n",
    "new_hdul.writeto('CalQubic_Synthbeam_Analytical_'+'Multifreq'+'_MJW_FI.fits', overwrite=True)"
   ]
  },
  {
   "cell_type": "code",
   "execution_count": null,
   "id": "f6b6a241",
   "metadata": {},
   "outputs": [],
   "source": [
    "#lets try reading and plotting this\n",
    "hdul = fits.open('CalQubic_Synthbeam_Analytical_Multifreq_MJW_FI.fits')"
   ]
  },
  {
   "cell_type": "code",
   "execution_count": null,
   "id": "29ec77e6",
   "metadata": {},
   "outputs": [],
   "source": [
    "theta[:,:,:]=hdul[0].data\n",
    "phi[:,:,:]=hdul[1].data\n",
    "val[:,:,:]=hdul[2].data\n",
    "freqarray=hdul[3].data"
   ]
  },
  {
   "cell_type": "code",
   "execution_count": null,
   "id": "d30dd6d8",
   "metadata": {},
   "outputs": [],
   "source": [
    "print(freqarray)"
   ]
  },
  {
   "cell_type": "code",
   "execution_count": null,
   "id": "e6da6675",
   "metadata": {},
   "outputs": [],
   "source": [
    "for i in range(len(freqarray)):\n",
    "    for j in range (35):\n",
    "        fig = plt.figure()\n",
    "        ax = fig.add_subplot(projection='polar')\n",
    "        c = ax.scatter(phi[i,j,:],theta[i,j,:] , c=val[i,j,:], s=30, cmap='cool', alpha=0.75)"
   ]
  },
  {
   "cell_type": "code",
   "execution_count": null,
   "id": "b010d1ab",
   "metadata": {},
   "outputs": [],
   "source": []
  }
 ],
 "metadata": {
  "jupytext": {
   "formats": "ipynb,qmd,Rmd"
  },
  "kernelspec": {
   "display_name": "Python 3 (ipykernel)",
   "language": "python",
   "name": "python3"
  }
 },
 "nbformat": 4,
 "nbformat_minor": 5
}
