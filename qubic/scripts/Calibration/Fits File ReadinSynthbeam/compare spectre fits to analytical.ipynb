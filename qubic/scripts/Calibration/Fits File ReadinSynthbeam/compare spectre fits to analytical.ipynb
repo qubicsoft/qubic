{
 "cells": [
  {
   "cell_type": "code",
   "execution_count": null,
   "id": "a44dd8a2",
   "metadata": {},
   "outputs": [],
   "source": [
    "import healpy as hp\n",
    "import numpy as np\n",
    "import matplotlib.pyplot as plt\n",
    "import matplotlib.cm as cm\n",
    "from astropy.io import fits"
   ]
  },
  {
   "cell_type": "code",
   "execution_count": null,
   "id": "59e24555",
   "metadata": {},
   "outputs": [],
   "source": [
    "#open fits file assuming file is in this directory\n",
    "hdul = fits.open('Multifreq_Images_From_Instrument.fits')"
   ]
  },
  {
   "cell_type": "code",
   "execution_count": null,
   "id": "4d8686a1",
   "metadata": {},
   "outputs": [],
   "source": [
    "# use .info command to get basic data for the file\n",
    "hdul.info()"
   ]
  },
  {
   "cell_type": "code",
   "execution_count": null,
   "id": "6f902e9f",
   "metadata": {},
   "outputs": [],
   "source": [
    "freq1=hdul[0].data\n",
    "freq2=hdul[1].data\n",
    "freq3=hdul[2].data"
   ]
  },
  {
   "cell_type": "code",
   "execution_count": null,
   "id": "0210a1d4",
   "metadata": {},
   "outputs": [],
   "source": [
    "#open fits file assuming file is in this directory\n",
    "hdu2 = fits.open('Multifreq_Images_From_Fits.fits')"
   ]
  },
  {
   "cell_type": "code",
   "execution_count": null,
   "id": "7b457094",
   "metadata": {},
   "outputs": [],
   "source": [
    "# use .info command to get basic data for the file\n",
    "hdu2.info()"
   ]
  },
  {
   "cell_type": "code",
   "execution_count": null,
   "id": "ae1be669",
   "metadata": {},
   "outputs": [],
   "source": [
    "Ffreq1=hdul[0].data\n",
    "Ffreq2=hdul[1].data\n",
    "Ffreq3=hdul[2].data"
   ]
  },
  {
   "cell_type": "code",
   "execution_count": null,
   "id": "33361c3a",
   "metadata": {},
   "outputs": [],
   "source": [
    "# Repository for dictionary and input maps\n",
    "import qubic\n",
    "from qubicpack.utilities import Qubic_DataDir\n",
    "global_dir = Qubic_DataDir(datafile='instrument.py', datadir='../')\n",
    "dictfilename = global_dir + 'dicts/pipeline_demo.dict'\n",
    "dictmaps = global_dir + 'doc/'\n",
    "\n",
    "# Read dictionary chosen\n",
    "d = qubic.qubicdict.qubicDict()\n",
    "d.read_from_file(dictfilename)"
   ]
  },
  {
   "cell_type": "code",
   "execution_count": null,
   "id": "bc92c739",
   "metadata": {},
   "outputs": [],
   "source": [
    "# Center of the patch observed in galactic coordinates\n",
    "center = qubic.equ2gal(d['RA_center'], d['DEC_center'])"
   ]
  },
  {
   "cell_type": "code",
   "execution_count": null,
   "id": "c95fe087",
   "metadata": {},
   "outputs": [],
   "source": [
    "rr=15 # Resolution in arcmin\n",
    "ifreq=2\n",
    "for istokes in [0,1,2]:\n",
    "    plt.figure(istokes,figsize=(12,12)) \n",
    "    hp.gnomview(freq1[ifreq, :,istokes], cmap='jet', rot=center, sub=(3,3,3*istokes+1), reso=rr,\n",
    "                title='Input '+d['kind'][istokes]+' SubFreq {}'.format(ifreq))\n",
    "    hp.gnomview(freq2[ifreq,:,istokes], cmap='jet',rot=center, sub=(3,3,3*istokes+2), reso=rr,\n",
    "                title='Output '+d['kind'][istokes]+' SubFreq {}'.format(ifreq))\n",
    "    hp.gnomview(freq3[ifreq,:,istokes], cmap='jet',rot=center, sub=(3,3,3*istokes+3), reso=rr,\n",
    "                title='diff '+d['kind'][istokes]+' SubFreq {}'.format(ifreq))\n",
    "plt.show()"
   ]
  },
  {
   "cell_type": "code",
   "execution_count": null,
   "id": "d004baa2",
   "metadata": {},
   "outputs": [],
   "source": [
    "rr=15 # Resolution in arcmin\n",
    "ifreq=2\n",
    "for istokes in [0,1,2]:\n",
    "    plt.figure(istokes,figsize=(12,12)) \n",
    "    hp.gnomview(Ffreq1[ifreq, :,istokes], cmap='jet', rot=center, sub=(3,3,3*istokes+1), reso=rr,\n",
    "                title='Input '+d['kind'][istokes]+' SubFreq {}'.format(ifreq))\n",
    "    hp.gnomview(Ffreq2[ifreq,:,istokes], cmap='jet',rot=center, sub=(3,3,3*istokes+2), reso=rr,\n",
    "                title='Output '+d['kind'][istokes]+' SubFreq {}'.format(ifreq))\n",
    "    hp.gnomview(Ffreq3[ifreq,:,istokes], cmap='jet',rot=center, sub=(3,3,3*istokes+3), reso=rr,\n",
    "                title='diff '+d['kind'][istokes]+' SubFreq {}'.format(ifreq))\n",
    "plt.show()"
   ]
  },
  {
   "cell_type": "code",
   "execution_count": null,
   "id": "e858e224",
   "metadata": {},
   "outputs": [],
   "source": [
    "diff1=freq1-Ffreq1\n",
    "diff2=freq2-Ffreq2\n",
    "diff3=freq3-Ffreq3\n",
    "\n",
    "\n"
   ]
  },
  {
   "cell_type": "code",
   "execution_count": null,
   "id": "2ae1d203",
   "metadata": {},
   "outputs": [],
   "source": [
    "for istokes in [0,1,2]:\n",
    "    plt.figure(istokes,figsize=(12,12)) \n",
    "    hp.gnomview(freq1[ifreq, :,istokes], cmap='jet', rot=center, sub=(3,3,3*istokes+1), reso=rr,\n",
    "                title='Instrument '+d['kind'][istokes])\n",
    "    hp.gnomview(Ffreq1[ifreq,:,istokes], cmap='jet',rot=center, sub=(3,3,3*istokes+2), reso=rr,\n",
    "                title='Fits '+d['kind'][istokes])\n",
    "    hp.gnomview(diff1[ifreq,:,istokes], cmap='jet',rot=center, sub=(3,3,3*istokes+3), reso=rr,\n",
    "                title='diff '+d['kind'][istokes])\n",
    "plt.show()"
   ]
  },
  {
   "cell_type": "code",
   "execution_count": null,
   "id": "ec7d6444",
   "metadata": {},
   "outputs": [],
   "source": [
    "fitss=fits.open('Multifreq_Images_From_Fits.fits')\n",
    "nofitss=fits.open('Multifreq_Images_From_Sim.fits')"
   ]
  },
  {
   "cell_type": "code",
   "execution_count": null,
   "id": "a56ddcec",
   "metadata": {},
   "outputs": [],
   "source": []
  }
 ],
 "metadata": {
  "jupytext": {
   "formats": "ipynb,Rmd"
  },
  "kernelspec": {
   "display_name": "Python 3 (ipykernel)",
   "language": "python",
   "name": "python3"
  }
 },
 "nbformat": 4,
 "nbformat_minor": 5
}
