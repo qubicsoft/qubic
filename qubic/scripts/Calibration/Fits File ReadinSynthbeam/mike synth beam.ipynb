{
 "cells": [
  {
   "cell_type": "code",
   "execution_count": null,
   "id": "3620a99d",
   "metadata": {},
   "outputs": [],
   "source": [
    "#create the qubic synthesized beam"
   ]
  },
  {
   "cell_type": "code",
   "execution_count": null,
   "id": "e4216943",
   "metadata": {},
   "outputs": [],
   "source": [
    "import numpy as np\n",
    "import scipy as sp\n",
    "import matplotlib.pyplot as plt\n",
    "import matplotlib.cm as cm\n",
    "import math as mt"
   ]
  },
  {
   "cell_type": "code",
   "execution_count": null,
   "id": "88502d7b",
   "metadata": {},
   "outputs": [],
   "source": [
    "def get_primbeam(th, lam, fwhmprimbeam_150=14.):\n",
    "    fwhmprim = 14. * lam / (3e8/150e9)\n",
    "    primbeam = np.exp(-0.5 * th**2 / (fwhmprim/2.35)**2)\n",
    "    return primbeam"
   ]
  },
  {
   "cell_type": "code",
   "execution_count": null,
   "id": "eeada030",
   "metadata": {},
   "outputs": [],
   "source": [
    "def give_sbcut(th, dx, lam, sqnh, Df=1., detpos=0., fwhmprimbeam_150=14.):\n",
    "    primbeam =  get_primbeam(th, lam, fwhmprimbeam_150=fwhmprimbeam_150)\n",
    "    theth = th - np.degrees(detpos/Df)\n",
    "    sb = np.sin(sqnh * np.pi * dx / lam * np.radians(theth))**2 / np.sin(np.pi * dx / lam * np.radians(theth))**2\n",
    "    return sb/np.max(sb)*primbeam"
   ]
  },
  {
   "cell_type": "code",
   "execution_count": null,
   "id": "ba84b0da",
   "metadata": {},
   "outputs": [],
   "source": [
    "#### Synthesized beam cut plot\n",
    "fwhmprim_150 = 14. #deg\n",
    "nu = 150e9\n",
    "lam = 3e8/nu    #m\n",
    "dx = 14./1000  #m\n",
    "sqnh = 20\n",
    "Df = 1. #m\n",
    "minth = -20.\n",
    "maxth = 20\n",
    "nth = 1000\n",
    "th = np.linspace(minth, maxth, nth)"
   ]
  },
  {
   "cell_type": "code",
   "execution_count": null,
   "id": "ff42c3ef",
   "metadata": {},
   "outputs": [],
   "source": [
    "sb = np.sin(sqnh * np.pi * dx / lam * np.radians(th))**2 / np.sin(np.pi * dx / lam * np.radians(th))**2\n",
    "sb = sb/max(sb)\n",
    "\n",
    "fwhmpeak = np.degrees(lam / sqnh / dx)\n",
    "thetapeak = np.degrees(lam / dx)"
   ]
  },
  {
   "cell_type": "code",
   "execution_count": null,
   "id": "ea7e9618",
   "metadata": {},
   "outputs": [],
   "source": [
    "sbth = give_sbcut(th, dx, lam, sqnh, Df=Df, detpos=0.)"
   ]
  },
  {
   "cell_type": "code",
   "execution_count": null,
   "id": "1ed982dc",
   "metadata": {},
   "outputs": [],
   "source": [
    "plt.figure()\n",
    "\n",
    "plt.subplot(1,2,1)\n",
    "dist = [0.]\n",
    "for d in dist:\n",
    "    nu0=140.\n",
    "    nu1=160.\n",
    "    lam0 = 3e8/(nu0*1e9)\n",
    "    lam1 = 3e8/(nu1*1e9)\n",
    "    b1 = give_sbcut(th, dx, lam0, sqnh, Df=Df, detpos=d/1000)\n",
    "    b2 = give_sbcut(th, dx, lam1, sqnh, Df=Df, detpos=d/1000)\n",
    "    plt.plot(th, b1, 'r', lw=2, label='Th. Synth. Beam at {0:3.0f} GHz'.format(nu0))\n",
    "    plt.plot(th, b2, 'b', lw=2, label='Th. Synth. Beam at {0:3.0f} GHz'.format(nu1))\n",
    "    plt.plot(th, get_primbeam(th, lam0), 'r--', lw=2, label='Th. Prim. Beam at {0:3.0f} GHz'.format(nu0))\n",
    "    plt.plot(th, get_primbeam(th, lam1), 'b--', lw=2, label='Th. Prim. Beam at {0:3.0f} GHz'.format(nu1))\n",
    "    plt.xlabel(r'$\\theta$ [deg.]')\n",
    "    plt.ylabel('Synthesized beam')\n",
    "    plt.draw()\n",
    "    plt.ylim(0,1.5)\n",
    "    plt.xlim(-20,20)\n",
    "    plt.legend(loc='upper left')\n",
    "    bb1 = b1/np.sqrt(np.sum(b1**2))\n",
    "    bb2 = b2/np.sqrt(np.sum(b2**2))\n",
    "    #print(np.sum(bb1*bb2))\n",
    "    "
   ]
  },
  {
   "cell_type": "code",
   "execution_count": null,
   "id": "74a11251",
   "metadata": {},
   "outputs": [],
   "source": [
    "# now lets do beam for detector offset from centre\n",
    "nu=150.\n",
    "lam=3e8/(nu*1e9)\n",
    "d1=0\n",
    "d2=20\n",
    "b1 = give_sbcut(th, dx, lam, sqnh, Df=Df, detpos=d1/1000)\n",
    "b2 = give_sbcut(th, dx, lam, sqnh, Df=Df, detpos=d2/1000)\n",
    "plt.plot(th, b1, 'g', lw=1, label='Th. Synth. Beam no offset'.format(nu0))\n",
    "plt.plot(th, b2, 'purple', lw=1, label='Th. Synth. Beam offset'.format(nu1))\n",
    "plt.plot(th, get_primbeam(th, lam), 'r--', lw=2, label='Th. Prim. Beam at 150 GHz'.format(nu0))\n",
    "plt.xlabel(r'$\\theta$ [deg.]')\n",
    "plt.ylabel('Synthesized beam')\n",
    "plt.draw()\n",
    "plt.ylim(0,1.5)\n",
    "plt.xlim(-20,20)\n",
    "plt.legend(loc='upper left')"
   ]
  },
  {
   "cell_type": "code",
   "execution_count": null,
   "id": "2da449a8",
   "metadata": {},
   "outputs": [],
   "source": [
    "def get_primbeam_2d(thy, thx, lam, fwhmprimbeam_150=14.):\n",
    "    fwhmprim = 14. * lam / (3e8/150e9)\n",
    "    dist=np.sqrt(thx**2+thy**2)\n",
    "    primbeam = np.exp(-0.5 * dist**2 / (fwhmprim/2.35)**2)\n",
    "    return primbeam"
   ]
  },
  {
   "cell_type": "code",
   "execution_count": null,
   "id": "431849a4",
   "metadata": {},
   "outputs": [],
   "source": [
    "def sb_2d(thx, thy, dx, lam, sqnh, Df=1., detposx=0., detposy=0., fwhmprimbeam_150=14.):\n",
    "    primbeam =  get_primbeam_2d(thx, thy, lam)\n",
    "    thetx = thx - np.degrees(detposx/Df)\n",
    "    thety = thy - np.degrees(detposy/Df)\n",
    "    sb = (np.sin(sqnh * np.pi * dx / lam * np.radians(thx))**2 / np.sin(np.pi * dx / lam * np.radians(thx))**2) *(np.sin(sqnh * np.pi * dx / lam * np.radians(thy))**2 / np.sin(np.pi * dx / lam * np.radians(thy))**2)\n",
    "    return sb/np.max(sb)*primbeam"
   ]
  },
  {
   "cell_type": "code",
   "execution_count": null,
   "id": "fae4caf1",
   "metadata": {},
   "outputs": [],
   "source": [
    "tx = np.linspace(minth, maxth, nth)\n",
    "ty=np.linspace(minth,maxth,nth)\n",
    "_thx,_thy=np.meshgrid(tx,ty)\n",
    "angle = 44.9"
   ]
  },
  {
   "cell_type": "code",
   "execution_count": null,
   "id": "0b75ac00",
   "metadata": {},
   "outputs": [],
   "source": [
    "thx = _thx * np.cos(angle * np.pi / 180) - _thy * np.sin(angle * np.pi / 180)\n",
    "thy = _thx * np.sin(angle * np.pi / 180) + _thy * np.cos(angle * np.pi / 180)"
   ]
  },
  {
   "cell_type": "code",
   "execution_count": null,
   "id": "d00669fe",
   "metadata": {},
   "outputs": [],
   "source": [
    "detposx=0.\n",
    "detposy=0."
   ]
  },
  {
   "cell_type": "code",
   "execution_count": null,
   "id": "aafe28d1",
   "metadata": {},
   "outputs": [],
   "source": [
    "sbeam=sb_2d(thx, thy, dx, lam, sqnh, Df, detposx, detposy)"
   ]
  },
  {
   "cell_type": "code",
   "execution_count": null,
   "id": "0ae34e4d",
   "metadata": {},
   "outputs": [],
   "source": [
    "plt.scatter(_thx,_thy, c=sbeam, s=5, cmap=cm.hot)\n",
    "cbar= plt.colorbar()\n",
    "plt.show()\n"
   ]
  },
  {
   "cell_type": "code",
   "execution_count": null,
   "id": "7fd0db40",
   "metadata": {},
   "outputs": [],
   "source": [
    "#now just peaks method\n",
    "import numexpr as ne\n",
    "c=3e8\n",
    "kmax=2\n",
    "horn_spacing=dx\n",
    "angle=44.9"
   ]
  },
  {
   "cell_type": "code",
   "execution_count": null,
   "id": "0e99afc9",
   "metadata": {},
   "outputs": [],
   "source": [
    "position=np.array([[0,0]])"
   ]
  },
  {
   "cell_type": "code",
   "execution_count": null,
   "id": "e76bf59c",
   "metadata": {},
   "outputs": [],
   "source": [
    "lmbda = c / 150e9\n",
    "#position = -position / np.sqrt(np.sum(position ** 2, axis=-1))[..., None]\n",
    "if angle != 0:\n",
    "    _kx, _ky = np.mgrid[-kmax:kmax + 1, -kmax:kmax + 1]\n",
    "    kx = _kx * np.cos(angle * np.pi / 180) - _ky * np.sin(angle * np.pi / 180)\n",
    "    ky = _kx * np.sin(angle * np.pi / 180) + _ky * np.cos(angle * np.pi / 180)\n",
    "else:\n",
    "    kx, ky = np.mgrid[-kmax:kmax + 1, -kmax:kmax + 1]\n",
    "\n",
    "nx = position[:, 0, None] - lmbda * kx.ravel() / horn_spacing\n",
    "ny = position[:, 1, None] - lmbda * ky.ravel() / horn_spacing\n",
    "local_dict = {'nx': nx, 'ny': ny}\n",
    "theta = ne.evaluate('arcsin(sqrt(nx**2 + ny**2))',local_dict=local_dict)\n",
    "phi = ne.evaluate('arctan2(ny, nx)', local_dict=local_dict)\n",
    "\n",
    "xdeg=np.degrees(nx)\n",
    "ydeg=np.degrees(ny)\n"
   ]
  },
  {
   "cell_type": "code",
   "execution_count": null,
   "id": "0b9ff4ef",
   "metadata": {},
   "outputs": [],
   "source": [
    "val = get_primbeam_2d(xdeg, ydeg, lam)"
   ]
  },
  {
   "cell_type": "code",
   "execution_count": null,
   "id": "62f64f33",
   "metadata": {},
   "outputs": [],
   "source": [
    "plt.scatter(xdeg,ydeg, c=val, s=20, cmap=cm.cool)\n",
    "cbar= plt.colorbar()\n",
    "plt.show()"
   ]
  },
  {
   "cell_type": "code",
   "execution_count": null,
   "id": "5142cb83",
   "metadata": {},
   "outputs": [],
   "source": [
    "#print theta phi and val\n",
    "print(theta)\n",
    "print(phi)\n",
    "print(val)"
   ]
  },
  {
   "cell_type": "code",
   "execution_count": null,
   "id": "e5e546da",
   "metadata": {},
   "outputs": [],
   "source": []
  },
  {
   "cell_type": "code",
   "execution_count": null,
   "id": "c22420ba",
   "metadata": {},
   "outputs": [],
   "source": []
  },
  {
   "cell_type": "code",
   "execution_count": null,
   "id": "51a77f31",
   "metadata": {},
   "outputs": [],
   "source": []
  },
  {
   "cell_type": "code",
   "execution_count": null,
   "id": "01914eb4",
   "metadata": {},
   "outputs": [],
   "source": []
  }
 ],
 "metadata": {
  "jupytext": {
   "formats": "ipynb,Rmd"
  },
  "kernelspec": {
   "display_name": "Python 3 (ipykernel)",
   "language": "python",
   "name": "python3"
  }
 },
 "nbformat": 4,
 "nbformat_minor": 5
}
