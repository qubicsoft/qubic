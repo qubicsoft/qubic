{
 "cells": [
  {
   "cell_type": "code",
   "execution_count": null,
   "id": "424bafca",
   "metadata": {},
   "outputs": [],
   "source": [
    "top_dir = '/home/qubic/Calib-TD/'\n",
    "\n",
    "\n",
    "dataset0 = top_dir+'/2023-03-02/2023-03-02_17.41.14__Fixed-DomeClosed-Amplitude1700'\n",
    "\n",
    "import numpy as np\n",
    "from qubicpack.qubicfp import qubicfp\n",
    "import sys,os\n",
    "import numpy as np\n",
    "\n",
    "from qubic import fibtools as ft\n",
    "\n",
    "import matplotlib.pyplot as plt\n",
    "from pysimulators import FitsArray\n",
    "\n",
    "from qubic import fibtools as ft\n",
    "from qubic.plotters import *\n",
    "from qubicpack.qubicfp import qubicfp\n",
    "import qubic.demodulation_lib as dl\n",
    "import qubic.sb_fitting as sbfit\n",
    "from qubic.io import write_map\n",
    "\n",
    "import matplotlib.mlab as mlab\n",
    "import scipy.ndimage.filters as f\n",
    "\n",
    "from scipy.signal import argrelextrema, find_peaks, find_peaks_cwt, savgol_filter "
   ]
  },
  {
   "cell_type": "code",
   "execution_count": null,
   "id": "66a8597f",
   "metadata": {},
   "outputs": [],
   "source": [
    "import bottleneck as bn\n",
    "from sklearn.cluster import DBSCAN"
   ]
  },
  {
   "cell_type": "code",
   "execution_count": null,
   "id": "3dc67a8d",
   "metadata": {},
   "outputs": [],
   "source": [
    "a = qubicfp()\n",
    "a.read_qubicstudio_dataset(dataset0)\n"
   ]
  },
  {
   "cell_type": "code",
   "execution_count": null,
   "id": "46caa13e",
   "metadata": {},
   "outputs": [],
   "source": [
    "tod = a.tod()\n",
    "timeaxis = tod[0]\n",
    "todarray = tod[1]\n"
   ]
  },
  {
   "cell_type": "code",
   "execution_count": null,
   "id": "eb20b6ac",
   "metadata": {},
   "outputs": [],
   "source": [
    "np.shape(todarray)"
   ]
  },
  {
   "cell_type": "code",
   "execution_count": null,
   "id": "c07d089a",
   "metadata": {},
   "outputs": [],
   "source": [
    "init = timeaxis[0]\n",
    "tt = timeaxis - init"
   ]
  },
  {
   "cell_type": "markdown",
   "id": "150bf9ca",
   "metadata": {},
   "source": [
    "First discard the saturated ones "
   ]
  },
  {
   "cell_type": "code",
   "execution_count": null,
   "id": "a42086ef",
   "metadata": {},
   "outputs": [],
   "source": [
    "def saturation(todarray): \n",
    "    \n",
    "    \n",
    "    #returns  ok = array of True and False \n",
    "    #         bad_idx = idx of the saturated TES in the focalplane \n",
    "    #         frac_sat_pertes = fraction of the TOD saturated in the TES\n",
    "    #         number = number of TES saturated more than 10% in the focalplane\n",
    "    \n",
    "    ok = np.ones(256,dtype=bool)\n",
    "    maxis = np.max(abs(todarray), axis=1)\n",
    "    upper_satval = np.max(maxis)\n",
    "    lower_satval = -np.max(maxis)\n",
    "    badtes = (maxis == np.max(maxis))\n",
    "    number = badtes.sum() #number of TES saturated in every measurement\n",
    "    bad_idx = np.array(np.where(badtes==True)) #index of the TES saturated\n",
    "    bad_idx = np.reshape(bad_idx, (bad_idx.shape[1]))\n",
    "\n",
    "    frac_sat_pertes = np.zeros((256))\n",
    "    size = todarray.shape[1]\n",
    "\n",
    "    for i in range(len(todarray)): \n",
    "        mask1 = todarray[i] == upper_satval\n",
    "        mask2 = todarray[i] == lower_satval\n",
    "        frac = (np.sum(mask1)+np.sum(mask2))/size\n",
    "        frac_sat_pertes[i] = frac\n",
    "    \n",
    "        if frac_sat_pertes[i] ==0:\n",
    "            ok[i] = True #good, no saturated\n",
    "        elif frac_sat_pertes[i] >0.1:\n",
    "            ok[i] = False #bad, saturated more than 10%\n",
    "        else: \n",
    "            ok[i] = True #good, saturated but less than 10%\n",
    "            \n",
    "    return ok, bad_idx, frac_sat_pertes, number"
   ]
  },
  {
   "cell_type": "code",
   "execution_count": null,
   "id": "4aa09743",
   "metadata": {},
   "outputs": [],
   "source": [
    "ok, bad_idx, frac, number = saturation(todarray)"
   ]
  },
  {
   "cell_type": "code",
   "execution_count": null,
   "id": "53902c06",
   "metadata": {},
   "outputs": [],
   "source": [
    "number"
   ]
  },
  {
   "cell_type": "code",
   "execution_count": null,
   "id": "b9dea9d6",
   "metadata": {},
   "outputs": [],
   "source": [
    "bad_tod = np.array(np.where(ok==False))\n",
    "bad_tod = np.reshape(bad_tod, (bad_tod.shape[1]))\n",
    "good_tod = np.array(np.where(ok==True))\n",
    "good_tod = np.reshape(good_tod, (good_tod.shape[1]))\n"
   ]
  },
  {
   "cell_type": "markdown",
   "id": "57e6b320",
   "metadata": {},
   "source": [
    "These is the list of detectors with saturation"
   ]
  },
  {
   "cell_type": "code",
   "execution_count": null,
   "id": "70746513",
   "metadata": {},
   "outputs": [],
   "source": [
    "bad_tod"
   ]
  },
  {
   "cell_type": "code",
   "execution_count": null,
   "id": "7b7dfb6f",
   "metadata": {},
   "outputs": [],
   "source": [
    "len(bad_tod)"
   ]
  },
  {
   "cell_type": "code",
   "execution_count": null,
   "id": "500c6be5",
   "metadata": {},
   "outputs": [],
   "source": [
    "%matplotlib notebook"
   ]
  },
  {
   "cell_type": "code",
   "execution_count": null,
   "id": "aa43d629",
   "metadata": {},
   "outputs": [],
   "source": [
    "for i in range(len(bad_tod)):\n",
    "    idx_bad = bad_tod[i]\n",
    "    plt.plot(tt, todarray[idx_bad], label='tod_{}'.format(idx_bad))\n",
    "plt.xlabel('time')\n",
    "plt.ylabel('Tod')\n",
    "plt.title('Tod with more than 10% saturation')\n",
    "plt.legend()\n",
    "plt.savefig('Tod_saturation_03-02.png')"
   ]
  },
  {
   "cell_type": "markdown",
   "id": "ef56159b",
   "metadata": {},
   "source": [
    "List of detectors to analyze "
   ]
  },
  {
   "cell_type": "code",
   "execution_count": null,
   "id": "cde08e10",
   "metadata": {},
   "outputs": [],
   "source": [
    "good_tod"
   ]
  },
  {
   "cell_type": "code",
   "execution_count": null,
   "id": "dae19091",
   "metadata": {},
   "outputs": [],
   "source": [
    "%matplotlib notebook"
   ]
  },
  {
   "cell_type": "code",
   "execution_count": null,
   "id": "14c63468",
   "metadata": {},
   "outputs": [],
   "source": [
    "plt.plot(tt, todarray[29])"
   ]
  },
  {
   "cell_type": "code",
   "execution_count": null,
   "id": "1a17110c",
   "metadata": {},
   "outputs": [],
   "source": [
    "plt.plot(tt, todarray[13])"
   ]
  },
  {
   "cell_type": "code",
   "execution_count": null,
   "id": "07f3d09f",
   "metadata": {
    "lines_to_next_cell": 0
   },
   "outputs": [],
   "source": [
    "plt.plot(tt, todarray[97])"
   ]
  },
  {
   "cell_type": "markdown",
   "id": "61d88200",
   "metadata": {},
   "source": [
    "\n"
   ]
  },
  {
   "cell_type": "code",
   "execution_count": null,
   "id": "8d2a10d1",
   "metadata": {},
   "outputs": [],
   "source": [
    "def jumps_new_2(todarray, size=130, treshold=0.2e6, doplot=False): \n",
    "    \n",
    "    #return xc = beginning of the jump \n",
    "    #       xcf = final of the jump \n",
    "    #       dif = diference between the final of a jump and the beginning of the next jump \n",
    "    #       nc = number of clusters/number of jumps\n",
    "    \n",
    "    \n",
    "    tod_sav = savgol_filter(todarray,window_length=401,polyorder=3, mode='nearest')\n",
    "    \n",
    "    def haar(x, size=100):\n",
    "        out = np.zeros(x.size)\n",
    "        xf = bn.move_median(x, size)[size:]   \n",
    "        out[size+size//2:-size+size//2] = xf[:-size] - xf[size:]\n",
    "        return out\n",
    "    \n",
    "    #treshold using that the difference is going to be a value between 0.25e6, 0.5e6, 1e6, 1.5e6, 2e6, 2.5e6\n",
    "    \n",
    "    tod_haar_sav = haar(tod_sav, size)\n",
    "    tod_haar = haar(todarray,size)\n",
    "    \n",
    "    #if you don't find any jump then don't make the savgol filter and try with the unfiltered TOD\n",
    "    if max(abs(tod_haar_sav)) < treshold:\n",
    "        #if the tood haar also is less than 0.2, probably is not a jump \n",
    "        if max(abs(tod_haar)) < 0.2e6:\n",
    "            number = 0\n",
    "            print('no jump')\n",
    "            return number\n",
    "        else:\n",
    "            jumps = np.abs(tod_haar) > treshold\n",
    "            no_sav = True #don't use the savgol filter\n",
    "    else:\n",
    "        no_sav = False\n",
    "        print('use savgol')\n",
    "        jumps = np.abs(tod_haar_sav) > treshold\n",
    "    \n",
    "    idx = np.arange(len(todarray))\n",
    "    #por el threshold que pones me parece que estas perdiendo valores por eso al indice le resto 50\n",
    "    idx_jumps = idx[jumps] - 50\n",
    "    time_jumps = tt[jumps]\n",
    "        \n",
    "    \n",
    "    clust = DBSCAN(eps=size//5, min_samples=1).fit(np.reshape(idx_jumps, (len(idx_jumps),1)))\n",
    "    nc = np.max(clust.labels_)+1\n",
    "    xc = np.zeros(nc, dtype=int) \n",
    "    xcf = np.zeros(nc, dtype=int)\n",
    "    for i in range(nc):\n",
    "        xc[i] = np.min(idx_jumps[clust.labels_ == i])\n",
    "        xcf[i]= np.max(idx_jumps[clust.labels_ == i])\n",
    "        \n",
    "    print(nc)\n",
    "    delta = xcf - xc #time samples of a jump candidate\n",
    "    print(delta)\n",
    "    for i in range(len(delta)):\n",
    "        if delta[i] < 90:\n",
    "            print(i)\n",
    "    del_idx = np.reshape(np.array(np.where(delta<90)),np.array(np.where(delta<90)).shape[1])\n",
    "    print(len(del_idx))\n",
    "    xcf = np.delete(xcf, del_idx) #if the amount of time samples is less than 90 probably is not a jump \n",
    "    xc = np.delete(xc, del_idx)\n",
    "    nc -= len(del_idx)\n",
    "    print(nc)\n",
    "    \n",
    "    #if no_sav == False:\n",
    "    #    for i in range(len(xcf)):\n",
    "    #        h = abs(tod_sav[xcf[i]+50]-tod_sav[xc[i]-50])\n",
    "    #        print(h)\n",
    "        \n",
    "    if nc!=0:\n",
    "        dif = np.zeros(nc-1) \n",
    "        for j in range(nc):\n",
    "        #print(j)\n",
    "            if j < nc-1:\n",
    "                dif[j] = xc[j+1]-xcf[j]\n",
    "    else:\n",
    "        dif = 0.\n",
    "            \n",
    "        \n",
    "    if doplot == True:\n",
    "        fig, ax = plt.subplots(3, figsize = (10,10))\n",
    "        if no_sav:\n",
    "            ax[0].plot(tt, todarray)\n",
    "            ax2 = ax[0].twinx()\n",
    "            ax2.plot(tt, tod_haar, color='red', label='haar filter')\n",
    "            ax[0].set_xlabel('time')\n",
    "            ax[0].set_ylabel('tod')\n",
    "            ax2.set_ylabel('haar filter')\n",
    "            ax2.legend()\n",
    "        else:\n",
    "            ax[0].plot(tt, tod_sav)\n",
    "            ax2 = ax[0].twinx()\n",
    "            ax2.plot(tt, tod_haar, color='red', label='haar filter')\n",
    "            ax[0].set_xlabel('time')\n",
    "            ax[0].set_ylabel('tod')\n",
    "            ax2.set_ylabel('haar filter')\n",
    "            ax2.legend()\n",
    "        \n",
    "        if no_sav:\n",
    "            ax[1].plot(tt, todarray)\n",
    "            ax[1].plot(tt[idx_jumps], todarray[idx_jumps], 'r.', label='time samples jumps')        \n",
    "            ax[1].set_xlabel('time')\n",
    "            ax[1].set_ylabel('tod')\n",
    "            ax[1].legend()\n",
    "        else:       \n",
    "            ax[1].plot(tt, tod_sav)\n",
    "            ax[1].plot(tt[idx_jumps], tod_sav[idx_jumps], 'r.', label='time samples jumps')        \n",
    "            ax[1].set_xlabel('time')\n",
    "            ax[1].set_ylabel('tod')\n",
    "            ax[1].legend()\n",
    "        \n",
    "        if no_sav:            \n",
    "            ax[2].plot(tt, tod_haar, label='haar filter')\n",
    "            ax[2].plot(tt[idx_jumps], tod_haar[idx_jumps], 'r.')\n",
    "            ax[2].plot(tt[xc], tod_haar[xc], 'g.')\n",
    "            ax[2].plot(tt[xcf], tod_haar[xcf], 'g.')\n",
    "            ax[2].legend()\n",
    "        else:\n",
    "            ax[2].plot(tt, tod_haar_sav, label='haar filter')\n",
    "            ax[2].plot(tt[idx_jumps], tod_haar_sav[idx_jumps], 'r.')\n",
    "            ax[2].plot(tt[xc], tod_haar_sav[xc], 'g.')\n",
    "            ax[2].plot(tt[xcf], tod_haar_sav[xcf], 'g.')\n",
    "            ax[2].legend()\n",
    "        \n",
    "    return xc, xcf, dif, nc"
   ]
  },
  {
   "cell_type": "code",
   "execution_count": null,
   "id": "6e5a0080",
   "metadata": {},
   "outputs": [],
   "source": [
    "prueba = jumps_new_2(todarray[29],doplot=False)"
   ]
  },
  {
   "cell_type": "code",
   "execution_count": null,
   "id": "6ddbf871",
   "metadata": {},
   "outputs": [],
   "source": [
    "xc_29, xcf_29, dif_29, nc_29 = prueba \n",
    "tod_29 = todarray[29]"
   ]
  },
  {
   "cell_type": "code",
   "execution_count": null,
   "id": "fa2c9ae6",
   "metadata": {},
   "outputs": [],
   "source": [
    "plt.plot(tt, tod_29)\n",
    "plt.plot(tt[xc_29], tod_29[xc_29], lw=0,color='red', marker='o', ms=5, label='beginning jump')\n",
    "plt.plot(tt[xcf_29], tod_29[xcf_29], lw=0,color='green', marker='o', ms=5, label='end jump')\n",
    "plt.xlabel('time')\n",
    "plt.ylabel('Tod')\n",
    "plt.title('TOD 29')\n",
    "plt.legend()\n",
    "plt.savefig('tod29_03-02.png')"
   ]
  },
  {
   "cell_type": "code",
   "execution_count": null,
   "id": "d54da751",
   "metadata": {},
   "outputs": [],
   "source": [
    "prueba_2 = jumps_new_2(todarray[13],doplot=True)"
   ]
  },
  {
   "cell_type": "code",
   "execution_count": null,
   "id": "ea05998f",
   "metadata": {},
   "outputs": [],
   "source": [
    "tod = todarray[good_tod]"
   ]
  },
  {
   "cell_type": "markdown",
   "id": "e52e4f56",
   "metadata": {},
   "source": [
    "Use the function in all the detectors and save the results in a variable called 'result'"
   ]
  },
  {
   "cell_type": "code",
   "execution_count": null,
   "id": "76c6ff53",
   "metadata": {},
   "outputs": [],
   "source": [
    "for i in range(len(tod)):\n",
    "    locals()['result_{}'.format(i)]=jumps_new_2(tod[i],doplot=False)"
   ]
  },
  {
   "cell_type": "markdown",
   "id": "d52d23fb",
   "metadata": {},
   "source": [
    "Split the detectos with jumps detected and no jumps detected"
   ]
  },
  {
   "cell_type": "code",
   "execution_count": null,
   "id": "e921a24b",
   "metadata": {},
   "outputs": [],
   "source": [
    "indice_jump = np.zeros((len(tod)))\n",
    "for i in range(len(tod)):\n",
    "    resultado = locals()['result_{}'.format(i)]\n",
    "    if resultado != 0.:\n",
    "        indice_jump[i] = True \n",
    "    else:\n",
    "        indice_jump[i] = False\n",
    "        \n",
    "indice_si = np.array(np.where(indice_jump==True))\n",
    "indice_no = np.array(np.where(indice_jump==False))"
   ]
  },
  {
   "cell_type": "code",
   "execution_count": null,
   "id": "c4b2149c",
   "metadata": {},
   "outputs": [],
   "source": [
    "indice_si = np.reshape(indice_si, (indice_si.shape[1]))"
   ]
  },
  {
   "cell_type": "code",
   "execution_count": null,
   "id": "d1d90bb5",
   "metadata": {},
   "outputs": [],
   "source": [
    "indice_si"
   ]
  },
  {
   "cell_type": "code",
   "execution_count": null,
   "id": "6497d561",
   "metadata": {},
   "outputs": [],
   "source": [
    "len(indice_si)"
   ]
  },
  {
   "cell_type": "code",
   "execution_count": null,
   "id": "0bbbbf26",
   "metadata": {},
   "outputs": [],
   "source": [
    "indice_no = np.reshape(indice_no, (indice_no.shape[1]))"
   ]
  },
  {
   "cell_type": "code",
   "execution_count": null,
   "id": "ccb9906d",
   "metadata": {},
   "outputs": [],
   "source": [
    "indice_no"
   ]
  },
  {
   "cell_type": "code",
   "execution_count": null,
   "id": "94c5bc01",
   "metadata": {},
   "outputs": [],
   "source": [
    "for i in range(len(indice_si)):\n",
    "    idx_si = indice_si[i]\n",
    "    plt.plot(tt, tod[idx_si])\n",
    "plt.xlabel('time')\n",
    "plt.ylabel('tod')\n",
    "plt.title('Tod with Jumps')\n",
    "plt.savefig('Tod_jumps_03-02.png')"
   ]
  },
  {
   "cell_type": "code",
   "execution_count": null,
   "id": "84481a15",
   "metadata": {},
   "outputs": [],
   "source": [
    "for i in range(len(indice_no)):\n",
    "    idx_no = indice_no[i]\n",
    "    plt.plot(tt, tod[idx_no])\n",
    "plt.xlabel('time')\n",
    "plt.ylabel('tod')\n",
    "plt.title('Tod with No Jumps')\n",
    "plt.savefig('Tod_nojumps_03-02.png')"
   ]
  },
  {
   "cell_type": "code",
   "execution_count": null,
   "id": "5c955d0a",
   "metadata": {},
   "outputs": [],
   "source": [
    "xc_13, xcf_13, dif_13, nc_13 = result_13\n",
    "tod_13 = tod[13]"
   ]
  },
  {
   "cell_type": "code",
   "execution_count": null,
   "id": "f72d5ba6",
   "metadata": {},
   "outputs": [],
   "source": [
    "plt.plot(tt, tod[13])\n",
    "plt.plot(tt[xc_13], tod_13[xc_13], lw=0,color='red', marker='o', ms=5, label='beginning jump')\n",
    "plt.plot(tt[xcf_13], tod_13[xcf_13], lw=0,color='green', marker='o', ms=5, label='end jump')\n",
    "plt.xlabel('time')\n",
    "plt.ylabel('Tod')\n",
    "plt.title('TOD 13')\n",
    "plt.legend()\n",
    "plt.savefig('tod13_03-02.png')"
   ]
  },
  {
   "cell_type": "code",
   "execution_count": null,
   "id": "2b9f95e0",
   "metadata": {},
   "outputs": [],
   "source": [
    "xc_19, xcf_19, dif_19, nc_19 = result_19\n",
    "tod_19 = tod[19]"
   ]
  },
  {
   "cell_type": "code",
   "execution_count": null,
   "id": "2f63aa64",
   "metadata": {},
   "outputs": [],
   "source": [
    "plt.plot(tt, tod[19])\n",
    "plt.plot(tt[xc_19], tod_19[xc_19], lw=0,color='red', marker='o', ms=5, label='beginning jump')\n",
    "plt.plot(tt[xcf_19], tod_19[xcf_19], lw=0,color='green', marker='o', ms=5, label='end jump')\n",
    "plt.xlabel('time')\n",
    "plt.ylabel('Tod')\n",
    "plt.title('TOD 19')\n",
    "plt.legend()\n",
    "plt.savefig('tod19_03-02.png')"
   ]
  },
  {
   "cell_type": "code",
   "execution_count": null,
   "id": "35ca25f0",
   "metadata": {},
   "outputs": [],
   "source": [
    "xc_27, xcf_27, dif_27, nc_27 = result_27\n",
    "tod_27 = tod[27]"
   ]
  },
  {
   "cell_type": "code",
   "execution_count": null,
   "id": "f61d2f5b",
   "metadata": {},
   "outputs": [],
   "source": [
    "plt.plot(tt, tod[27])\n",
    "plt.plot(tt[xc_27], tod_27[xc_27], lw=0,color='red', marker='o', ms=5, label='beginning jump')\n",
    "plt.plot(tt[xcf_27], tod_27[xcf_27], lw=0,color='green', marker='o', ms=5, label='end jump')\n",
    "plt.xlabel('time')\n",
    "plt.ylabel('Tod')\n",
    "plt.title('TOD 27')\n",
    "plt.legend()\n",
    "plt.savefig('tod27_03-02.png')"
   ]
  },
  {
   "cell_type": "code",
   "execution_count": null,
   "id": "5cc8640c",
   "metadata": {},
   "outputs": [],
   "source": [
    "xc_28, xcf_28, dif_28, nc_28 = result_28\n",
    "tod_28 = tod[28]"
   ]
  },
  {
   "cell_type": "code",
   "execution_count": null,
   "id": "ec4eecfc",
   "metadata": {},
   "outputs": [],
   "source": [
    "plt.plot(tt, tod[28])\n",
    "plt.plot(tt[xc_28], tod_28[xc_28], lw=0,color='red', marker='o', ms=5, label='beginning jump')\n",
    "plt.plot(tt[xcf_28], tod_28[xcf_28], lw=0,color='green', marker='o', ms=5, label='end jump')\n",
    "plt.xlabel('time')\n",
    "plt.ylabel('Tod')\n",
    "plt.title('TOD 28')\n",
    "plt.legend()\n",
    "plt.savefig('tod28_03-02.png')"
   ]
  },
  {
   "cell_type": "code",
   "execution_count": null,
   "id": "d20ad505",
   "metadata": {},
   "outputs": [],
   "source": [
    "xc_30, xcf_30, dif_30, nc_30 = result_28\n",
    "tod_30 = tod[30]"
   ]
  },
  {
   "cell_type": "code",
   "execution_count": null,
   "id": "8c33f834",
   "metadata": {},
   "outputs": [],
   "source": [
    "plt.plot(tt, tod[30])\n",
    "plt.plot(tt[xc_30], tod_30[xc_30], lw=0,color='red', marker='o', ms=5, label='beginning jump')\n",
    "plt.plot(tt[xcf_30], tod_30[xcf_30], lw=0,color='green', marker='o', ms=5, label='end jump')\n",
    "plt.xlabel('time')\n",
    "plt.ylabel('Tod')\n",
    "plt.title('TOD 30')\n",
    "plt.legend()\n",
    "plt.savefig('tod30_03-02.png')"
   ]
  },
  {
   "cell_type": "code",
   "execution_count": null,
   "id": "6d0dba6e",
   "metadata": {},
   "outputs": [],
   "source": []
  }
 ],
 "metadata": {
  "kernelspec": {
   "display_name": "Python 3 (ipykernel)",
   "language": "python",
   "name": "python3"
  }
 },
 "nbformat": 4,
 "nbformat_minor": 5
}
