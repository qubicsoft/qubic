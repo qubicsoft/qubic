{
 "cells": [
  {
   "cell_type": "code",
   "execution_count": null,
   "id": "41c94ce9",
   "metadata": {},
   "outputs": [],
   "source": [
    "top_dir = '/home/qubic/Calib-TD/'\n",
    "\n",
    "\n",
    "dataset0 = top_dir+'/2023-03-02/2023-03-02_17.41.14__Fixed-DomeClosed-Amplitude1700'\n",
    "\n",
    "import numpy as np\n",
    "from qubicpack.qubicfp import qubicfp\n",
    "import sys,os\n",
    "import numpy as np\n",
    "\n",
    "from qubic import fibtools as ft\n",
    "\n",
    "import matplotlib.pyplot as plt\n",
    "from pysimulators import FitsArray\n",
    "\n",
    "from qubic import fibtools as ft\n",
    "from qubic.plotters import *\n",
    "from qubicpack.qubicfp import qubicfp\n",
    "import qubic.demodulation_lib as dl\n",
    "import qubic.sb_fitting as sbfit\n",
    "from qubic.io import write_map\n",
    "\n",
    "import matplotlib.mlab as mlab\n",
    "import scipy.ndimage.filters as f\n",
    "\n",
    "from scipy.signal import argrelextrema, find_peaks, find_peaks_cwt, savgol_filter "
   ]
  },
  {
   "cell_type": "code",
   "execution_count": null,
   "id": "6129287a",
   "metadata": {},
   "outputs": [],
   "source": [
    "import bottleneck as bn\n",
    "from sklearn.cluster import DBSCAN"
   ]
  },
  {
   "cell_type": "code",
   "execution_count": null,
   "id": "471c77ee",
   "metadata": {},
   "outputs": [],
   "source": [
    "a = qubicfp()\n",
    "a.read_qubicstudio_dataset(dataset0)\n"
   ]
  },
  {
   "cell_type": "code",
   "execution_count": null,
   "id": "8d2ea659",
   "metadata": {},
   "outputs": [],
   "source": [
    "tod = a.tod()\n",
    "timeaxis = tod[0]\n",
    "todarray = tod[1]\n"
   ]
  },
  {
   "cell_type": "code",
   "execution_count": null,
   "id": "3313b2c6",
   "metadata": {},
   "outputs": [],
   "source": [
    "np.shape(todarray)"
   ]
  },
  {
   "cell_type": "code",
   "execution_count": null,
   "id": "9a3f4428",
   "metadata": {},
   "outputs": [],
   "source": [
    "init = timeaxis[0]\n",
    "tt = timeaxis - init"
   ]
  },
  {
   "cell_type": "markdown",
   "id": "7d0366bf",
   "metadata": {},
   "source": [
    "First discard the saturated ones "
   ]
  },
  {
   "cell_type": "code",
   "execution_count": null,
   "id": "363bb3b8",
   "metadata": {},
   "outputs": [],
   "source": [
    "def saturation(todarray): \n",
    "    \n",
    "    \n",
    "    #returns  ok = array of True and False \n",
    "    #         bad_idx = idx of the saturated TES in the focalplane \n",
    "    #         frac_sat_pertes = fraction of the TOD saturated in the TES\n",
    "    #         number = number of TES saturated more than 10% in the focalplane\n",
    "    \n",
    "    ok = np.ones(256,dtype=bool)\n",
    "    maxis = np.max(abs(todarray), axis=1)\n",
    "    upper_satval = np.max(maxis)\n",
    "    lower_satval = -np.max(maxis)\n",
    "    badtes = (maxis == np.max(maxis))\n",
    "    number = badtes.sum() #number of TES saturated in every measurement\n",
    "    bad_idx = np.array(np.where(badtes==True)) #index of the TES saturated\n",
    "    bad_idx = np.reshape(bad_idx, (bad_idx.shape[1]))\n",
    "\n",
    "    frac_sat_pertes = np.zeros((256))\n",
    "    size = todarray.shape[1]\n",
    "\n",
    "    for i in range(len(todarray)): \n",
    "        mask1 = todarray[i] == upper_satval\n",
    "        mask2 = todarray[i] == lower_satval\n",
    "        frac = (np.sum(mask1)+np.sum(mask2))/size\n",
    "        frac_sat_pertes[i] = frac\n",
    "    \n",
    "        if frac_sat_pertes[i] ==0:\n",
    "            ok[i] = True #good, no saturated\n",
    "        elif frac_sat_pertes[i] >0.1:\n",
    "            ok[i] = False #bad, saturated more than 10%\n",
    "        else: \n",
    "            ok[i] = True #good, saturated but less than 10%\n",
    "            \n",
    "    return ok, bad_idx, frac_sat_pertes, number"
   ]
  },
  {
   "cell_type": "code",
   "execution_count": null,
   "id": "2e3eecaf",
   "metadata": {},
   "outputs": [],
   "source": [
    "ok, bad_idx, frac, number = saturation(todarray)"
   ]
  },
  {
   "cell_type": "code",
   "execution_count": null,
   "id": "b192b514",
   "metadata": {},
   "outputs": [],
   "source": [
    "number"
   ]
  },
  {
   "cell_type": "code",
   "execution_count": null,
   "id": "47761765",
   "metadata": {},
   "outputs": [],
   "source": [
    "bad_tod = np.array(np.where(ok==False))\n",
    "bad_tod = np.reshape(bad_tod, (bad_tod.shape[1]))\n",
    "good_tod = np.array(np.where(ok==True))\n",
    "good_tod = np.reshape(good_tod, (good_tod.shape[1]))\n"
   ]
  },
  {
   "cell_type": "markdown",
   "id": "5dbb260b",
   "metadata": {},
   "source": [
    "These is the list of detectors with saturation"
   ]
  },
  {
   "cell_type": "code",
   "execution_count": null,
   "id": "4d06e598",
   "metadata": {},
   "outputs": [],
   "source": [
    "bad_tod"
   ]
  },
  {
   "cell_type": "code",
   "execution_count": null,
   "id": "55f0bf06",
   "metadata": {},
   "outputs": [],
   "source": [
    "len(bad_tod)"
   ]
  },
  {
   "cell_type": "code",
   "execution_count": null,
   "id": "59e4bc07",
   "metadata": {},
   "outputs": [],
   "source": [
    "%matplotlib notebook"
   ]
  },
  {
   "cell_type": "code",
   "execution_count": null,
   "id": "e9e59177",
   "metadata": {},
   "outputs": [],
   "source": [
    "for i in range(len(bad_tod)):\n",
    "    idx_bad = bad_tod[i]\n",
    "    plt.plot(tt, todarray[idx_bad], label='tod_{}'.format(idx_bad))\n",
    "plt.xlabel('time')\n",
    "plt.ylabel('Tod')\n",
    "plt.title('Tod with more than 10% saturation')\n",
    "plt.legend()\n",
    "plt.savefig('Tod_saturation_03-02.png')"
   ]
  },
  {
   "cell_type": "markdown",
   "id": "c7fc1216",
   "metadata": {},
   "source": [
    "List of detectors to analyze "
   ]
  },
  {
   "cell_type": "code",
   "execution_count": null,
   "id": "c6f7113f",
   "metadata": {},
   "outputs": [],
   "source": [
    "good_tod"
   ]
  },
  {
   "cell_type": "code",
   "execution_count": null,
   "id": "c7557bed",
   "metadata": {},
   "outputs": [],
   "source": [
    "%matplotlib notebook"
   ]
  },
  {
   "cell_type": "code",
   "execution_count": null,
   "id": "edf2b43c",
   "metadata": {},
   "outputs": [],
   "source": [
    "plt.plot(tt, todarray[29])"
   ]
  },
  {
   "cell_type": "code",
   "execution_count": null,
   "id": "884f11da",
   "metadata": {},
   "outputs": [],
   "source": [
    "plt.plot(tt, todarray[13])"
   ]
  },
  {
   "cell_type": "code",
   "execution_count": null,
   "id": "4d4ec9d7",
   "metadata": {
    "lines_to_next_cell": 0
   },
   "outputs": [],
   "source": [
    "plt.plot(tt, todarray[97])"
   ]
  },
  {
   "cell_type": "markdown",
   "id": "6351f312",
   "metadata": {},
   "source": [
    "\n"
   ]
  },
  {
   "cell_type": "code",
   "execution_count": null,
   "id": "74a0afdc",
   "metadata": {},
   "outputs": [],
   "source": [
    "def jumps_new_2(todarray, size=130, treshold=0.2e6, doplot=False): \n",
    "    \n",
    "    #return xc = beginning of the jump \n",
    "    #       xcf = final of the jump \n",
    "    #       dif = diference between the final of a jump and the beginning of the next jump \n",
    "    #       nc = number of clusters/number of jumps\n",
    "    \n",
    "    \n",
    "    tod_sav = savgol_filter(todarray,window_length=401,polyorder=3, mode='nearest')\n",
    "    \n",
    "    def haar(x, size=100):\n",
    "        out = np.zeros(x.size)\n",
    "        xf = bn.move_median(x, size)[size:]   \n",
    "        out[size+size//2:-size+size//2] = xf[:-size] - xf[size:]\n",
    "        return out\n",
    "    \n",
    "    #treshold using that the difference is going to be a value between 0.25e6, 0.5e6, 1e6, 1.5e6, 2e6, 2.5e6\n",
    "    \n",
    "    tod_haar_sav = haar(tod_sav, size)\n",
    "    tod_haar = haar(todarray,size)\n",
    "    \n",
    "    #if you don't find any jump then don't make the savgol filter and try with the unfiltered TOD\n",
    "    if max(abs(tod_haar_sav)) < treshold:\n",
    "        #if the tood haar also is less than 0.2, probably is not a jump \n",
    "        if max(abs(tod_haar)) < 0.2e6:\n",
    "            number = 0\n",
    "            print('no jump')\n",
    "            return number\n",
    "        else:\n",
    "            jumps = np.abs(tod_haar) > treshold\n",
    "            no_sav = True #don't use the savgol filter\n",
    "    else:\n",
    "        no_sav = False\n",
    "        print('use savgol')\n",
    "        jumps = np.abs(tod_haar_sav) > treshold\n",
    "    \n",
    "    idx = np.arange(len(todarray))\n",
    "    #por el threshold que pones me parece que estas perdiendo valores por eso al indice le resto 50\n",
    "    idx_jumps = idx[jumps] - 50\n",
    "    time_jumps = tt[jumps]\n",
    "        \n",
    "    \n",
    "    clust = DBSCAN(eps=size//5, min_samples=1).fit(np.reshape(idx_jumps, (len(idx_jumps),1)))\n",
    "    nc = np.max(clust.labels_)+1\n",
    "    xc = np.zeros(nc, dtype=int) \n",
    "    xcf = np.zeros(nc, dtype=int)\n",
    "    for i in range(nc):\n",
    "        xc[i] = np.min(idx_jumps[clust.labels_ == i])\n",
    "        xcf[i]= np.max(idx_jumps[clust.labels_ == i])\n",
    "        \n",
    "    print(nc)\n",
    "    delta = xcf - xc #time samples of a jump candidate\n",
    "    print(delta)\n",
    "    for i in range(len(delta)):\n",
    "        if delta[i] < 90:\n",
    "            print(i)\n",
    "    del_idx = np.reshape(np.array(np.where(delta<90)),np.array(np.where(delta<90)).shape[1])\n",
    "    print(len(del_idx))\n",
    "    xcf = np.delete(xcf, del_idx) #if the amount of time samples is less than 90 probably is not a jump \n",
    "    xc = np.delete(xc, del_idx)\n",
    "    nc -= len(del_idx)\n",
    "    print(nc)\n",
    "    \n",
    "    #if no_sav == False:\n",
    "    #    for i in range(len(xcf)):\n",
    "    #        h = abs(tod_sav[xcf[i]+50]-tod_sav[xc[i]-50])\n",
    "    #        print(h)\n",
    "        \n",
    "    if nc!=0:\n",
    "        dif = np.zeros(nc-1) \n",
    "        for j in range(nc):\n",
    "        #print(j)\n",
    "            if j < nc-1:\n",
    "                dif[j] = xc[j+1]-xcf[j]\n",
    "    else:\n",
    "        dif = 0.\n",
    "            \n",
    "        \n",
    "    if doplot == True:\n",
    "        fig, ax = plt.subplots(3, figsize = (10,10))\n",
    "        if no_sav:\n",
    "            ax[0].plot(tt, todarray)\n",
    "            ax2 = ax[0].twinx()\n",
    "            ax2.plot(tt, tod_haar, color='red', label='haar filter')\n",
    "            ax[0].set_xlabel('time')\n",
    "            ax[0].set_ylabel('tod')\n",
    "            ax2.set_ylabel('haar filter')\n",
    "            ax2.legend()\n",
    "        else:\n",
    "            ax[0].plot(tt, tod_sav)\n",
    "            ax2 = ax[0].twinx()\n",
    "            ax2.plot(tt, tod_haar, color='red', label='haar filter')\n",
    "            ax[0].set_xlabel('time')\n",
    "            ax[0].set_ylabel('tod')\n",
    "            ax2.set_ylabel('haar filter')\n",
    "            ax2.legend()\n",
    "        \n",
    "        if no_sav:\n",
    "            ax[1].plot(tt, todarray)\n",
    "            ax[1].plot(tt[idx_jumps], todarray[idx_jumps], 'r.', label='time samples jumps')        \n",
    "            ax[1].set_xlabel('time')\n",
    "            ax[1].set_ylabel('tod')\n",
    "            ax[1].legend()\n",
    "        else:       \n",
    "            ax[1].plot(tt, tod_sav)\n",
    "            ax[1].plot(tt[idx_jumps], tod_sav[idx_jumps], 'r.', label='time samples jumps')        \n",
    "            ax[1].set_xlabel('time')\n",
    "            ax[1].set_ylabel('tod')\n",
    "            ax[1].legend()\n",
    "        \n",
    "        if no_sav:            \n",
    "            ax[2].plot(tt, tod_haar, label='haar filter')\n",
    "            ax[2].plot(tt[idx_jumps], tod_haar[idx_jumps], 'r.')\n",
    "            ax[2].plot(tt[xc], tod_haar[xc], 'g.')\n",
    "            ax[2].plot(tt[xcf], tod_haar[xcf], 'g.')\n",
    "            ax[2].legend()\n",
    "        else:\n",
    "            ax[2].plot(tt, tod_haar_sav, label='haar filter')\n",
    "            ax[2].plot(tt[idx_jumps], tod_haar_sav[idx_jumps], 'r.')\n",
    "            ax[2].plot(tt[xc], tod_haar_sav[xc], 'g.')\n",
    "            ax[2].plot(tt[xcf], tod_haar_sav[xcf], 'g.')\n",
    "            ax[2].legend()\n",
    "        \n",
    "    return xc, xcf, dif, nc"
   ]
  },
  {
   "cell_type": "code",
   "execution_count": null,
   "id": "ecc4f12b",
   "metadata": {},
   "outputs": [],
   "source": [
    "prueba = jumps_new_2(todarray[29],doplot=False)"
   ]
  },
  {
   "cell_type": "code",
   "execution_count": null,
   "id": "374a5855",
   "metadata": {},
   "outputs": [],
   "source": [
    "xc_29, xcf_29, dif_29, nc_29 = prueba \n",
    "tod_29 = todarray[29]"
   ]
  },
  {
   "cell_type": "code",
   "execution_count": null,
   "id": "33d83ddb",
   "metadata": {},
   "outputs": [],
   "source": [
    "plt.plot(tt, tod_29)\n",
    "plt.plot(tt[xc_29], tod_29[xc_29], lw=0,color='red', marker='o', ms=5, label='beginning jump')\n",
    "plt.plot(tt[xcf_29], tod_29[xcf_29], lw=0,color='green', marker='o', ms=5, label='end jump')\n",
    "plt.xlabel('time')\n",
    "plt.ylabel('Tod')\n",
    "plt.title('TOD 29')\n",
    "plt.legend()\n",
    "plt.savefig('tod29_03-02.png')"
   ]
  },
  {
   "cell_type": "code",
   "execution_count": null,
   "id": "072cf4fa",
   "metadata": {},
   "outputs": [],
   "source": [
    "prueba_2 = jumps_new_2(todarray[13],doplot=True)"
   ]
  },
  {
   "cell_type": "code",
   "execution_count": null,
   "id": "cb7f9d59",
   "metadata": {},
   "outputs": [],
   "source": [
    "tod = todarray[good_tod]"
   ]
  },
  {
   "cell_type": "markdown",
   "id": "ccdf0bb7",
   "metadata": {},
   "source": [
    "Use the function in all the detectors and save the results in a variable called 'result'"
   ]
  },
  {
   "cell_type": "code",
   "execution_count": null,
   "id": "3f833e4d",
   "metadata": {},
   "outputs": [],
   "source": [
    "for i in range(len(tod)):\n",
    "    locals()['result_{}'.format(i)]=jumps_new_2(tod[i],doplot=False)"
   ]
  },
  {
   "cell_type": "markdown",
   "id": "45b8d240",
   "metadata": {},
   "source": [
    "Split the detectos with jumps detected and no jumps detected"
   ]
  },
  {
   "cell_type": "code",
   "execution_count": null,
   "id": "3cdbba1a",
   "metadata": {},
   "outputs": [],
   "source": [
    "bad_tod"
   ]
  },
  {
   "cell_type": "code",
   "execution_count": null,
   "id": "33b0e0c8",
   "metadata": {},
   "outputs": [],
   "source": [
    "indice_jump = np.zeros((len(tod)))\n",
    "for i in range(len(tod)):        \n",
    "    resultado = locals()['result_{}'.format(i)]\n",
    "    if resultado != 0.:\n",
    "        indice_jump[i] = True \n",
    "    else:\n",
    "        indice_jump[i] = False\n",
    "        \n",
    "indice_si = np.array(np.where(indice_jump==True))\n",
    "indice_no = np.array(np.where(indice_jump==False))"
   ]
  },
  {
   "cell_type": "code",
   "execution_count": null,
   "id": "c5203f85",
   "metadata": {},
   "outputs": [],
   "source": [
    "indice_si = np.reshape(indice_si, (indice_si.shape[1]))"
   ]
  },
  {
   "cell_type": "code",
   "execution_count": null,
   "id": "56800fea",
   "metadata": {},
   "outputs": [],
   "source": [
    "indice_si"
   ]
  },
  {
   "cell_type": "code",
   "execution_count": null,
   "id": "a89f550e",
   "metadata": {},
   "outputs": [],
   "source": [
    "len(indice_si)"
   ]
  },
  {
   "cell_type": "code",
   "execution_count": null,
   "id": "3dd1088d",
   "metadata": {},
   "outputs": [],
   "source": [
    "indice_no = np.reshape(indice_no, (indice_no.shape[1]))"
   ]
  },
  {
   "cell_type": "code",
   "execution_count": null,
   "id": "3135707c",
   "metadata": {},
   "outputs": [],
   "source": [
    "indice_no"
   ]
  },
  {
   "cell_type": "code",
   "execution_count": null,
   "id": "157928a5",
   "metadata": {},
   "outputs": [],
   "source": [
    "for i in range(len(indice_si)):\n",
    "    idx_si = indice_si[i]\n",
    "    plt.plot(tt, tod[idx_si])\n",
    "plt.xlabel('time')\n",
    "plt.ylabel('tod')\n",
    "plt.title('Tod with Jumps')\n",
    "plt.savefig('Tod_jumps_03-02.png')"
   ]
  },
  {
   "cell_type": "code",
   "execution_count": null,
   "id": "bf81fd65",
   "metadata": {},
   "outputs": [],
   "source": [
    "for i in range(len(indice_no)):\n",
    "    idx_no = indice_no[i]\n",
    "    plt.plot(tt, tod[idx_no])\n",
    "plt.xlabel('time')\n",
    "plt.ylabel('tod')\n",
    "plt.title('Tod with No Jumps')\n",
    "plt.savefig('Tod_nojumps_03-02.png')"
   ]
  },
  {
   "cell_type": "code",
   "execution_count": null,
   "id": "0a994625",
   "metadata": {},
   "outputs": [],
   "source": [
    "xc_13, xcf_13, dif_13, nc_13 = result_13\n",
    "tod_13 = tod[13]"
   ]
  },
  {
   "cell_type": "code",
   "execution_count": null,
   "id": "55a775d8",
   "metadata": {},
   "outputs": [],
   "source": [
    "plt.plot(tt, tod[13])\n",
    "plt.plot(tt[xc_13], tod_13[xc_13], lw=0,color='red', marker='o', ms=5, label='beginning jump')\n",
    "plt.plot(tt[xcf_13], tod_13[xcf_13], lw=0,color='green', marker='o', ms=5, label='end jump')\n",
    "plt.xlabel('time')\n",
    "plt.ylabel('Tod')\n",
    "#plt.title('TOD 13')\n",
    "plt.legend()\n",
    "plt.savefig('tod13_03-02.png')"
   ]
  },
  {
   "cell_type": "code",
   "execution_count": null,
   "id": "3e0d664d",
   "metadata": {},
   "outputs": [],
   "source": [
    "xc_19, xcf_19, dif_19, nc_19 = result_19\n",
    "tod_19 = tod[19]"
   ]
  },
  {
   "cell_type": "code",
   "execution_count": null,
   "id": "374c1ea8",
   "metadata": {},
   "outputs": [],
   "source": [
    "plt.plot(tt, tod[19])\n",
    "plt.plot(tt[xc_19], tod_19[xc_19], lw=0,color='red', marker='o', ms=5, label='beginning jump')\n",
    "plt.plot(tt[xcf_19], tod_19[xcf_19], lw=0,color='green', marker='o', ms=5, label='end jump')\n",
    "plt.xlabel('time')\n",
    "plt.ylabel('Tod')\n",
    "#plt.title('TOD 19')\n",
    "plt.legend()\n",
    "plt.savefig('tod19_03-02.png')"
   ]
  },
  {
   "cell_type": "code",
   "execution_count": null,
   "id": "a56bbe4c",
   "metadata": {},
   "outputs": [],
   "source": [
    "xc_27, xcf_27, dif_27, nc_27 = result_27\n",
    "tod_27 = tod[27]"
   ]
  },
  {
   "cell_type": "code",
   "execution_count": null,
   "id": "ca640ed0",
   "metadata": {},
   "outputs": [],
   "source": [
    "plt.plot(tt, tod[27])\n",
    "plt.plot(tt[xc_27], tod_27[xc_27], lw=0,color='red', marker='o', ms=5, label='beginning jump')\n",
    "plt.plot(tt[xcf_27], tod_27[xcf_27], lw=0,color='green', marker='o', ms=5, label='end jump')\n",
    "plt.xlabel('time')\n",
    "plt.ylabel('Tod')\n",
    "#plt.title('TOD 27')\n",
    "plt.legend()\n",
    "plt.savefig('tod27_03-02.png')"
   ]
  },
  {
   "cell_type": "code",
   "execution_count": null,
   "id": "21783c9d",
   "metadata": {},
   "outputs": [],
   "source": [
    "xc_28, xcf_28, dif_28, nc_28 = result_28\n",
    "tod_28 = tod[28]"
   ]
  },
  {
   "cell_type": "code",
   "execution_count": null,
   "id": "9319ed16",
   "metadata": {},
   "outputs": [],
   "source": [
    "plt.plot(tt, tod[28])\n",
    "plt.plot(tt[xc_28], tod_28[xc_28], lw=0,color='red', marker='o', ms=5, label='beginning jump')\n",
    "plt.plot(tt[xcf_28], tod_28[xcf_28], lw=0,color='green', marker='o', ms=5, label='end jump')\n",
    "plt.xlabel('time')\n",
    "plt.ylabel('Tod')\n",
    "#plt.title('TOD 28')\n",
    "plt.legend()\n",
    "plt.savefig('tod28_03-02.png')"
   ]
  },
  {
   "cell_type": "code",
   "execution_count": null,
   "id": "ae37d91e",
   "metadata": {},
   "outputs": [],
   "source": [
    "xc_30, xcf_30, dif_30, nc_30 = result_30\n",
    "tod_30 = tod[30]"
   ]
  },
  {
   "cell_type": "code",
   "execution_count": null,
   "id": "5c8435dc",
   "metadata": {},
   "outputs": [],
   "source": [
    "plt.plot(tt, tod[30])\n",
    "plt.plot(tt[xc_30], tod_30[xc_30], lw=0,color='red', marker='o', ms=5, label='beginning jump')\n",
    "plt.plot(tt[xcf_30], tod_30[xcf_30], lw=0,color='green', marker='o', ms=5, label='end jump')\n",
    "plt.xlabel('time')\n",
    "plt.ylabel('Tod')\n",
    "#plt.title('TOD 30')\n",
    "plt.legend()\n",
    "plt.savefig('tod30_03-02.png')"
   ]
  },
  {
   "cell_type": "code",
   "execution_count": null,
   "id": "4df38637",
   "metadata": {},
   "outputs": [],
   "source": []
  },
  {
   "cell_type": "markdown",
   "id": "96943dc8",
   "metadata": {},
   "source": [
    "Index in the array of todarray"
   ]
  },
  {
   "cell_type": "code",
   "execution_count": null,
   "id": "cc52ca4f",
   "metadata": {},
   "outputs": [],
   "source": [
    "index_todarray_jumps = good_tod[indice_si]"
   ]
  },
  {
   "cell_type": "code",
   "execution_count": null,
   "id": "805bdce0",
   "metadata": {},
   "outputs": [],
   "source": [
    "index_todarray_jumps"
   ]
  },
  {
   "cell_type": "code",
   "execution_count": null,
   "id": "64e357e0",
   "metadata": {},
   "outputs": [],
   "source": [
    "index_todarray_nojumps = good_tod[indice_no]"
   ]
  },
  {
   "cell_type": "code",
   "execution_count": null,
   "id": "93246450",
   "metadata": {},
   "outputs": [],
   "source": [
    "index_todarray_nojumps"
   ]
  },
  {
   "cell_type": "code",
   "execution_count": null,
   "id": "8fb5e7bf",
   "metadata": {},
   "outputs": [],
   "source": [
    "array_saturated_tod = todarray[bad_tod]\n",
    "np.save('saturated_tod_0302.npy', array_saturated_tod)\n",
    "array_jumps_tod = todarray[index_todarray_jumps]\n",
    "np.save('jumps_tod_0302.npy', array_saturated_tod)\n",
    "array_nojumps_tod = todarray[index_todarray_nojumps]\n",
    "np.save('nojumps_tod_0302.npy', array_saturated_tod)\n"
   ]
  },
  {
   "cell_type": "code",
   "execution_count": null,
   "id": "47e7e1e4",
   "metadata": {},
   "outputs": [],
   "source": []
  },
  {
   "cell_type": "code",
   "execution_count": null,
   "id": "a0f2a95b",
   "metadata": {},
   "outputs": [],
   "source": []
  },
  {
   "cell_type": "code",
   "execution_count": null,
   "id": "8239d5e8",
   "metadata": {},
   "outputs": [],
   "source": []
  }
 ],
 "metadata": {
  "kernelspec": {
   "display_name": "Python 3",
   "language": "python",
   "name": "python3"
  }
 },
 "nbformat": 4,
 "nbformat_minor": 5
}
