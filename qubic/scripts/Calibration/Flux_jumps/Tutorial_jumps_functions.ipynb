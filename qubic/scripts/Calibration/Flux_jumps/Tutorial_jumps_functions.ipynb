{
 "cells": [
  {
   "cell_type": "markdown",
   "id": "35fbb011",
   "metadata": {},
   "source": [
    "Tutorial to calculate the time samples of the flux jumps using the script jumps_functions.py"
   ]
  },
  {
   "cell_type": "code",
   "execution_count": null,
   "id": "757cdc06",
   "metadata": {},
   "outputs": [],
   "source": [
    "import numpy as np\n",
    "from qubicpack.qubicfp import qubicfp\n",
    "import sys,os\n",
    "import numpy as np\n",
    "import glob\n",
    "\n",
    "import matplotlib.pyplot as plt\n",
    "\n",
    "import matplotlib.mlab as mlab\n",
    "import scipy.ndimage.filters as f\n",
    "\n",
    "from scipy.signal import argrelextrema, find_peaks, find_peaks_cwt, savgol_filter \n",
    "\n",
    "import bottleneck as bn\n",
    "from sklearn.cluster import DBSCAN"
   ]
  },
  {
   "cell_type": "code",
   "execution_count": null,
   "id": "cdb3fc10",
   "metadata": {},
   "outputs": [],
   "source": [
    "import jumps_functions"
   ]
  },
  {
   "cell_type": "markdown",
   "id": "ccef0178",
   "metadata": {},
   "source": [
    "Choose a dataset and read it (sky dip example)"
   ]
  },
  {
   "cell_type": "code",
   "execution_count": null,
   "id": "8202a592",
   "metadata": {},
   "outputs": [],
   "source": [
    "day = '2023-04-18'\n",
    "data_dir = '/home/qubic/Calib-TD/'+day+'/'\n",
    "words = ['skydip']\n",
    "keywords = ['*{}*'.format(word) for word in words]\n",
    "for keyword in keywords:\n",
    "    dirs = np.sort(glob.glob(data_dir+keyword))\n",
    "    print(dirs)"
   ]
  },
  {
   "cell_type": "code",
   "execution_count": null,
   "id": "34271e7b",
   "metadata": {},
   "outputs": [],
   "source": [
    "if len(dirs)==1: \n",
    "    dataset0 = dirs[0]\n",
    "    a = qubicfp()\n",
    "    a.read_qubicstudio_dataset(dataset0)\n",
    "\n",
    "\n",
    "else: \n",
    "    for ifile in range(len(dirs)):\n",
    "        thedir = dirs[ifile]\n",
    "        print('================', thedir,)\n",
    "        locals()['qfp_{}'.format(ifile)] = qubicfp()\n",
    "        locals()['qfp_{}'.format(ifile)].read_qubicstudio_dataset(thedir)\n",
    "        locals()['tod_{}'.format(ifile)] = locals()['qfp_{}'.format(ifile)].tod()"
   ]
  },
  {
   "cell_type": "code",
   "execution_count": null,
   "id": "73472028",
   "metadata": {},
   "outputs": [],
   "source": [
    "tod = a.tod()\n",
    "timeaxis = tod[0]\n",
    "todarray = tod[1]\n",
    "\n"
   ]
  },
  {
   "cell_type": "code",
   "execution_count": null,
   "id": "bf86b936",
   "metadata": {},
   "outputs": [],
   "source": [
    "init = timeaxis[0]\n",
    "tt = timeaxis - init"
   ]
  },
  {
   "cell_type": "markdown",
   "id": "ac13e713",
   "metadata": {},
   "source": [
    "\"Saturation\" is a function that will give you the TES saturated, we are going to discard most of them, but can be used to study the flux jumps"
   ]
  },
  {
   "cell_type": "code",
   "execution_count": null,
   "id": "255a5122",
   "metadata": {},
   "outputs": [],
   "source": [
    "ok, bad_idx, frac, number = jumps_functions.saturation(todarray)\n"
   ]
  },
  {
   "cell_type": "code",
   "execution_count": null,
   "id": "939c59a2",
   "metadata": {},
   "outputs": [],
   "source": [
    "print('number of TES saturated in the focal plane:', number)"
   ]
  },
  {
   "cell_type": "code",
   "execution_count": null,
   "id": "ff8721c9",
   "metadata": {},
   "outputs": [],
   "source": [
    "print('index TES saturated:')\n",
    "print(bad_idx)"
   ]
  },
  {
   "cell_type": "code",
   "execution_count": null,
   "id": "9556d43a",
   "metadata": {},
   "outputs": [],
   "source": [
    "TES_saved = (frac < 0.1) & (frac >0.)\n",
    "TES_number = np.arange(256)\n",
    "index_TES_saved = TES_number[TES_saved]\n",
    "print('TES with saturation less than 10% and the signal can be saved')\n",
    "print(index_TES_saved)"
   ]
  },
  {
   "cell_type": "markdown",
   "id": "3da47650",
   "metadata": {},
   "source": [
    "We can find the jumps in the TES with not so much saturation\n",
    "\n",
    "The function 'jumps_detection' gives the number (nc) of flux jumps in a given TES, the time samples of the beginning of these jumps (xc) and the time samples of the end of the flux jumps (xcf)"
   ]
  },
  {
   "cell_type": "markdown",
   "id": "c705f5aa",
   "metadata": {},
   "source": [
    "Now we can continue with the other TES with no saturation and see if they have flux jumps"
   ]
  },
  {
   "cell_type": "code",
   "execution_count": null,
   "id": "bfcc2640",
   "metadata": {},
   "outputs": [],
   "source": [
    "print('index TES with no saturation:')\n",
    "good_tod = np.array(np.where(ok==True))\n",
    "good_tod = np.reshape(good_tod, (good_tod.shape[1]))\n",
    "print(good_tod)"
   ]
  },
  {
   "cell_type": "code",
   "execution_count": null,
   "id": "f1761906",
   "metadata": {},
   "outputs": [],
   "source": [
    "for i in range(len(good_tod)):\n",
    "    idx_good = good_tod[i]\n",
    "    print('Analisis TES', idx_good)\n",
    "    locals()['nc_{}'.format(idx_good)], locals()['xc_{}'.format(idx_good)],  locals()['xcf_{}'.format(idx_good)],  locals()['delta_{}'.format(idx_good)]=jumps_functions.jumps_detection(tt, todarray[idx_good], offset_cond=False)"
   ]
  },
  {
   "cell_type": "code",
   "execution_count": null,
   "id": "76e06bec",
   "metadata": {},
   "outputs": [],
   "source": [
    "TES_jump = np.ones(len(good_tod), dtype=int)\n",
    "for i in range(len(good_tod)):\n",
    "    idx = good_tod[i]   \n",
    "    result = locals()['nc_{}'.format(idx)]\n",
    "    if result == 0.:\n",
    "        TES_jump[i] = 0 \n",
    "        \n",
    "TES_yes = np.array(np.where(TES_jump==1))\n",
    "TES_yes = good_tod[TES_yes]\n",
    "TES_no = np.array(np.where(TES_jump==0))\n",
    "TES_no = good_tod[TES_no]"
   ]
  },
  {
   "cell_type": "code",
   "execution_count": null,
   "id": "3ebd71ce",
   "metadata": {},
   "outputs": [],
   "source": [
    "print('index of TES with candidates to flux jumps detected:')\n",
    "print(TES_yes)"
   ]
  },
  {
   "cell_type": "code",
   "execution_count": null,
   "id": "81c0802c",
   "metadata": {},
   "outputs": [],
   "source": [
    "TES_yes = np.reshape(TES_yes, TES_yes.shape[1])\n",
    "TES_no = np.reshape(TES_no, TES_no.shape[1])"
   ]
  },
  {
   "cell_type": "code",
   "execution_count": null,
   "id": "954bf33f",
   "metadata": {},
   "outputs": [],
   "source": [
    "len(TES_yes)"
   ]
  },
  {
   "cell_type": "markdown",
   "id": "b14785c9",
   "metadata": {},
   "source": [
    "We have 116 TES with flux jumps detected, but if we plot some of them we can see that many of them are not real flux jumps (confused by the data itself)"
   ]
  },
  {
   "cell_type": "code",
   "execution_count": null,
   "id": "e993824c",
   "metadata": {},
   "outputs": [],
   "source": []
  },
  {
   "cell_type": "code",
   "execution_count": null,
   "id": "4329990c",
   "metadata": {},
   "outputs": [],
   "source": [
    "plt.plot(tt, todarray[206])\n",
    "plt.plot(tt[xc_206], todarray[206][xc_206], 'r.')\n",
    "plt.plot(tt[xcf_206], todarray[206][xcf_206], 'g.')"
   ]
  },
  {
   "cell_type": "code",
   "execution_count": null,
   "id": "cc301398",
   "metadata": {},
   "outputs": [],
   "source": [
    "plt.plot(tt, todarray[140])\n",
    "plt.plot(tt[xc_140], todarray[140][xc_140], 'r.')\n",
    "plt.plot(tt[xcf_140], todarray[140][xcf_140], 'g.')"
   ]
  },
  {
   "cell_type": "code",
   "execution_count": null,
   "id": "6c462709",
   "metadata": {},
   "outputs": [],
   "source": [
    "plt.plot(tt, todarray[103])\n",
    "plt.plot(tt[xc_103], todarray[103][xc_103], 'r.')\n",
    "plt.plot(tt[xcf_103], todarray[103][xcf_103], 'g.')"
   ]
  },
  {
   "cell_type": "code",
   "execution_count": null,
   "id": "442113f1",
   "metadata": {},
   "outputs": [],
   "source": [
    "plt.plot(tt, todarray[58])\n",
    "plt.plot(tt[xc_58], todarray[58][xc_58], 'r.')\n",
    "plt.plot(tt[xcf_58], todarray[58][xcf_58], 'g.')"
   ]
  },
  {
   "cell_type": "code",
   "execution_count": null,
   "id": "083724ca",
   "metadata": {},
   "outputs": [],
   "source": [
    "plt.plot(tt, todarray[54])\n",
    "plt.plot(tt[xc_54], todarray[54][xc_54], 'r.')\n",
    "plt.plot(tt[xcf_54], todarray[54][xcf_54], 'g.')"
   ]
  },
  {
   "cell_type": "code",
   "execution_count": null,
   "id": "7446ea85",
   "metadata": {},
   "outputs": [],
   "source": [
    "plt.plot(tt, todarray[19])\n",
    "plt.plot(tt[xc_19], todarray[19][xc_19], 'r.')\n",
    "plt.plot(tt[xcf_19], todarray[19][xcf_19], 'g.')"
   ]
  },
  {
   "cell_type": "code",
   "execution_count": null,
   "id": "0a313cd5",
   "metadata": {},
   "outputs": [],
   "source": [
    "plt.plot(tt, todarray[15])\n",
    "plt.plot(tt[xc_15], todarray[15][xc_15], 'r.')\n",
    "plt.plot(tt[xcf_15], todarray[15][xcf_15], 'g.')"
   ]
  },
  {
   "cell_type": "markdown",
   "id": "2d744b54",
   "metadata": {},
   "source": [
    "Apply discrimination functions that can estimate if it's a real jump or not: \n",
    "\n",
    "- Threshold to the size of a jump (very tiny jumps are probably not jumps)\n",
    "- Take a region near the jump detected and analyze the derivation, the derivative of a peak won't change a lot as the derivative of a jump (in general it's deeper). Here we made an iteration over many characteristic thresholds in the derivative "
   ]
  },
  {
   "cell_type": "code",
   "execution_count": null,
   "id": "7a5e54c2",
   "metadata": {},
   "outputs": [],
   "source": [
    "thr_deriv = np.array([4000,3000,2500, 2300, 1800])\n",
    "idx_real = np.zeros(len(TES_yes), dtype=int)\n",
    "for i in range(len(TES_yes)):\n",
    "    index = TES_yes[i]\n",
    "    tod = todarray[index] \n",
    "    nc_old = locals()['nc_{}'.format(index)]\n",
    "    xc_old = locals()['xc_{}'.format(index)]\n",
    "    xcf_old = locals()['xcf_{}'.format(index)]\n",
    "    delta = locals()['delta_{}'.format(index)]\n",
    "    locals()['nc_new_{}'.format(index)], locals()['xc_new_{}'.format(index)], locals()['xcf_new_{}'.format(index)] = jumps_functions.redefine_jumps(tt, nc_old, xc_old, xcf_old, delta)\n",
    "    \n",
    "    nc_new = locals()['nc_new_{}'.format(index)]    \n",
    "    xc_new = locals()['xc_new_{}'.format(index)]\n",
    "    xcf_new = locals()['xcf_new_{}'.format(index)]\n",
    "    \n",
    "    for j in range(nc_new):            \n",
    "        time_portion, tod_portion, smooth_tod, deriv_tod = jumps_functions.derivation(tt, tod, xc_new[j], xcf_new[j], region=10)\n",
    "        for k in range(len(thr_deriv)):\n",
    "            if max(abs(deriv_tod)) > thr_deriv[k]:\n",
    "                idx_real[i] = 1"
   ]
  },
  {
   "cell_type": "code",
   "execution_count": null,
   "id": "69005838",
   "metadata": {},
   "outputs": [],
   "source": [
    "tes_real_jump = TES_yes[idx_real==1]\n",
    "tes_no_jump = TES_yes[idx_real == 0]"
   ]
  },
  {
   "cell_type": "code",
   "execution_count": null,
   "id": "afc25c2b",
   "metadata": {},
   "outputs": [],
   "source": [
    "TES_yesjumps = tes_real_jump"
   ]
  },
  {
   "cell_type": "code",
   "execution_count": null,
   "id": "fad11a03",
   "metadata": {},
   "outputs": [],
   "source": [
    "total = []\n",
    "for i in TES_yesjumps:\n",
    "    total.append(locals()['nc_new_{}'.format(i)])"
   ]
  },
  {
   "cell_type": "code",
   "execution_count": null,
   "id": "5185fb53",
   "metadata": {},
   "outputs": [],
   "source": [
    "TES_yesjumps"
   ]
  },
  {
   "cell_type": "code",
   "execution_count": null,
   "id": "7066168b",
   "metadata": {},
   "outputs": [],
   "source": [
    "len(TES_yesjumps)"
   ]
  },
  {
   "cell_type": "markdown",
   "id": "e050fd18",
   "metadata": {},
   "source": [
    "After discrimination functions we obtain 17 TES with flux jumps detected. If we plot them we can see that TES 30, 62, 90, 236 and 238 are confused as Jumps, which is not correct. \n",
    "\n",
    "One important thing is that we are not losing any TES with possible flux jumps.\n"
   ]
  },
  {
   "cell_type": "code",
   "execution_count": null,
   "id": "3eb9f7e6",
   "metadata": {},
   "outputs": [],
   "source": [
    "total"
   ]
  },
  {
   "cell_type": "code",
   "execution_count": null,
   "id": "0697d49e",
   "metadata": {},
   "outputs": [],
   "source": [
    "np.sum(total)"
   ]
  },
  {
   "cell_type": "code",
   "execution_count": null,
   "id": "d551a191",
   "metadata": {},
   "outputs": [],
   "source": [
    "for i in TES_yesjumps:\n",
    "    plt.plot(tt, todarray[i])\n",
    "    #plt.legend()"
   ]
  },
  {
   "cell_type": "code",
   "execution_count": null,
   "id": "7b302303",
   "metadata": {},
   "outputs": [],
   "source": [
    "tes_no_jump"
   ]
  },
  {
   "cell_type": "code",
   "execution_count": null,
   "id": "cf69a5ab",
   "metadata": {},
   "outputs": [],
   "source": [
    "for i in tes_no_jump:\n",
    "    plt.plot(tt, todarray[i])\n",
    "    #plt.legend()"
   ]
  },
  {
   "cell_type": "code",
   "execution_count": null,
   "id": "1e8c9b8e",
   "metadata": {},
   "outputs": [],
   "source": [
    "for i in TES_yesjumps:\n",
    "    tod = todarray[i]    \n",
    "    locals()['off_lin_{}'.format(i)], locals()['off_pol_{}'.format(i)] = jumps_functions.offset_funct(tt, tod, locals()['xc_new_{}'.format(i)], locals()['xcf_new_{}'.format(i)], locals()['nc_new_{}'.format(i)])\n",
    "  "
   ]
  },
  {
   "cell_type": "code",
   "execution_count": null,
   "id": "14a3ff45",
   "metadata": {},
   "outputs": [],
   "source": [
    "TES_yesjumps"
   ]
  },
  {
   "cell_type": "code",
   "execution_count": null,
   "id": "a8b5b27b",
   "metadata": {},
   "outputs": [],
   "source": [
    "no = [30, 62, 90, 236, 238]\n",
    "yes = [15, 19, 54, 58, 103, 119, 140, 189, 206, 248, 250, 254]"
   ]
  },
  {
   "cell_type": "code",
   "execution_count": null,
   "id": "ac4f2593",
   "metadata": {},
   "outputs": [],
   "source": [
    "for i in yes:\n",
    "    plt.plot(abs(locals()['off_lin_{}'.format(i)]), marker='s', label='TES_{}'.format(i))\n",
    "    plt.legend()\n",
    "plt.axhspan(ymin=3.5e5, ymax=5.5e5, color='grey', alpha=0.3)\n",
    "plt.xlabel('Jump Number')\n",
    "plt.ylabel('Amplitude')\n",
    "plt.title('Real flux jumps')"
   ]
  },
  {
   "cell_type": "code",
   "execution_count": null,
   "id": "5a4f9036",
   "metadata": {},
   "outputs": [],
   "source": [
    "for i in no:\n",
    "    plt.plot(abs(locals()['off_lin_{}'.format(i)]), marker='s', label='TES_{}'.format(i))\n",
    "    plt.legend()\n",
    "plt.axhspan(ymin=3.5e5, ymax=5.5e5, color='grey', alpha=0.3)\n",
    "plt.xlabel('Jump Number')\n",
    "plt.ylabel('Amplitude')\n",
    "plt.title('Non-real flux jumps')"
   ]
  },
  {
   "cell_type": "code",
   "execution_count": null,
   "id": "b028980d",
   "metadata": {},
   "outputs": [],
   "source": [
    "fig, ax = plt.subplots(1,2, figsize=(10,7))\n",
    "\n",
    "for i in yes:\n",
    "    ax[0].plot(abs(locals()['off_lin_{}'.format(i)]), marker='s', label='TES_{}'.format(i))\n",
    "    ax[0].legend()\n",
    "ax[0].axhspan(ymin=3.5e5, ymax=5.5e5, color='grey', alpha=0.3)\n",
    "ax[0].set_xlim(-1,20)\n",
    "ax[0].set_xlabel('# jumps')\n",
    "ax[0].set_ylabel('Offset')\n",
    "ax[0].set_title('Real flux jumps')\n",
    "\n",
    "\n",
    "\n",
    "for i in no:\n",
    "    ax[1].plot(abs(locals()['off_lin_{}'.format(i)]), marker='s', label='TES_{}'.format(i))\n",
    "    ax[1].legend()\n",
    "ax[1].axhspan(ymin=3.5e5, ymax=5.5e5, color='grey', alpha=0.3)\n",
    "ax[1].set_xlabel('# jumps')\n",
    "ax[1].set_ylabel('Offset')\n",
    "ax[1].set_title('Non-real flux jumps')"
   ]
  },
  {
   "cell_type": "markdown",
   "id": "768e7b12",
   "metadata": {},
   "source": [
    "We can notice that the non-real flux jumps have amplitudes smaller than the gray region, therefore study the amplitude of the flux jumps is a feasible method to use to distinguish between real and non-real."
   ]
  },
  {
   "cell_type": "code",
   "execution_count": null,
   "id": "e36fb3c3",
   "metadata": {},
   "outputs": [],
   "source": []
  },
  {
   "cell_type": "code",
   "execution_count": null,
   "id": "7b38638a",
   "metadata": {},
   "outputs": [],
   "source": []
  },
  {
   "cell_type": "markdown",
   "id": "a48f711f",
   "metadata": {},
   "source": [
    "## Amplitude condition\n",
    "\n",
    "\n",
    "We restart the analysis adding the condition in the amplitude to see if there is improvement. We only have to put True in the argument offset_cond of the jumps_detection function"
   ]
  },
  {
   "cell_type": "code",
   "execution_count": null,
   "id": "f9e2e0fc",
   "metadata": {},
   "outputs": [],
   "source": [
    "for i in range(len(good_tod)):\n",
    "    idx_good = good_tod[i]\n",
    "    print('Analisis TES', idx_good)\n",
    "    locals()['nc_{}'.format(idx_good)], locals()['xc_{}'.format(idx_good)],  locals()['xcf_{}'.format(idx_good)],  locals()['delta_{}'.format(idx_good)]=jumps_functions.jumps_detection(tt, todarray[idx_good], offset_cond=True)"
   ]
  },
  {
   "cell_type": "code",
   "execution_count": null,
   "id": "265fe0e1",
   "metadata": {},
   "outputs": [],
   "source": [
    "TES_jump = np.ones(len(good_tod), dtype=int)\n",
    "for i in range(len(good_tod)):\n",
    "    idx = good_tod[i]   \n",
    "    result = locals()['nc_{}'.format(idx)]\n",
    "    if result == 0.:\n",
    "        TES_jump[i] = 0 \n",
    "        \n",
    "TES_yes = np.array(np.where(TES_jump==1))\n",
    "TES_yes = good_tod[TES_yes]\n",
    "TES_no = np.array(np.where(TES_jump==0))\n",
    "TES_no = good_tod[TES_no]\n",
    "\n",
    "TES_yes = np.reshape(TES_yes, TES_yes.shape[1])\n",
    "TES_no = np.reshape(TES_no, TES_no.shape[1])"
   ]
  },
  {
   "cell_type": "code",
   "execution_count": null,
   "id": "b8b09318",
   "metadata": {},
   "outputs": [],
   "source": [
    "TES_yes"
   ]
  },
  {
   "cell_type": "code",
   "execution_count": null,
   "id": "1ef797d3",
   "metadata": {},
   "outputs": [],
   "source": [
    "for i in TES_yes:\n",
    "    plt.plot(tt, todarray[i])\n",
    "    #plt.legend()"
   ]
  },
  {
   "cell_type": "code",
   "execution_count": null,
   "id": "cc5ed78a",
   "metadata": {},
   "outputs": [],
   "source": []
  },
  {
   "cell_type": "markdown",
   "id": "82c70ce8",
   "metadata": {},
   "source": [
    "Using the condition in the amplitude in the gray region we have found the real flux jumps without confusion, therefore it is an improvement using the offset as a characterization. We have only lose the TES 103 "
   ]
  },
  {
   "cell_type": "code",
   "execution_count": null,
   "id": "98a3907d",
   "metadata": {},
   "outputs": [],
   "source": []
  }
 ],
 "metadata": {
  "kernelspec": {
   "display_name": "Python 3",
   "language": "python",
   "name": "python3"
  }
 },
 "nbformat": 4,
 "nbformat_minor": 5
}
