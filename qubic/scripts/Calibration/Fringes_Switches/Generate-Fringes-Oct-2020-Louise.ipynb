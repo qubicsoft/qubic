{
 "cells": [
  {
   "cell_type": "markdown",
   "id": "e645b161",
   "metadata": {},
   "source": [
    "# Generate Fringes from datasets\n",
    "\n",
    "Edited by Louise 03/2021\n",
    "\n",
    "In this notebook we produce the fringes files from the raw QUBIC datasets from 2020/01/13, 27/10/2020 and 28/10/2020. \n",
    "\n",
    "We mainly use the libraries `fringes_lib.py` and `selfcal_lib.py` from QUBIC soft.\n",
    "\n",
    "Fringes are saved into **fits** files. PDF with plots can also be produced.\n",
    " "
   ]
  },
  {
   "cell_type": "code",
   "execution_count": null,
   "id": "b2bbf1ee",
   "metadata": {},
   "outputs": [],
   "source": [
    "%matplotlib inline\n",
    "%matplotlib notebook\n",
    "\n",
    "from importlib import reload\n",
    "\n",
    "# Specific science modules\n",
    "import scipy\n",
    "import glob\n",
    "import numpy as np\n",
    "import matplotlib.pyplot as plt\n",
    "\n",
    "import qubic\n",
    "from qubicpack.utilities import Qubic_DataDir\n",
    "from qubicpack import qubicpack as qp\n",
    "from qubicpack.qubicfp import qubicfp\n",
    "import qubic.fibtools as ft\n",
    "from qubic import fringes_lib as flib\n",
    "from qubic import selfcal_lib as scal\n",
    "\n",
    "rc('figure',figsize=(12,6))\n",
    "rc('font',size=12)"
   ]
  },
  {
   "cell_type": "markdown",
   "id": "09f97f9b",
   "metadata": {},
   "source": [
    "## Make a QUBIC instrument and get TES coordinates"
   ]
  },
  {
   "cell_type": "code",
   "execution_count": null,
   "id": "5fc4d4cd",
   "metadata": {},
   "outputs": [],
   "source": [
    "basedir = Qubic_DataDir(datafile='instrument.py', )\n",
    "dictfilename = basedir + '/dicts/global_source_oneDet.dict'\n",
    "d = qubic.qubicdict.qubicDict()\n",
    "d.read_from_file(dictfilename)\n",
    "q = qubic.QubicInstrument(d)"
   ]
  },
  {
   "cell_type": "code",
   "execution_count": null,
   "id": "f40a1404",
   "metadata": {},
   "outputs": [],
   "source": [
    "# Try just for one TES\n",
    "TES = 46\n",
    "ASIC = 1 # If q is a TD, it should be 1 or 2\n",
    "xONAFP, yONAFP, FP_index, index_q = scal.TES_Instru2coord(TES, ASIC, q, frame='ONAFP')\n",
    "\n",
    "# Get coordinates for all TES\n",
    "xTES, yTES, allFP_index, allindex_q = scal.get_TES_Instru_coords(q, frame='ONAFP')"
   ]
  },
  {
   "cell_type": "markdown",
   "id": "9a5fe9fa",
   "metadata": {},
   "source": [
    "## Look at the dataset"
   ]
  },
  {
   "cell_type": "code",
   "execution_count": null,
   "id": "cace9014",
   "metadata": {},
   "outputs": [],
   "source": [
    "global_dir = '/home/lmousset/QUBIC/Qubic_work/Calibration/datas/Fringes/'\n",
    "# date = '2020-10-27'\n",
    "# date = '2020-01-13'\n",
    "date = '2019-06-07'\n",
    "\n",
    "print(global_dir)\n",
    "vtes = 5\n",
    "eco = 1\n",
    "\n",
    "out_dir = global_dir \n",
    "# Check that out_dir exists, if not try to create\n",
    "try:\n",
    "    os.makedirs(out_dir, exist_ok = True)\n",
    "except OSError as e:\n",
    "    print('Unable to create Output Directory: ' + out_dir)"
   ]
  },
  {
   "cell_type": "code",
   "execution_count": null,
   "id": "a9038669",
   "metadata": {},
   "outputs": [],
   "source": [
    "# Get the datasets\n",
    "def get_fringes_datasets(rep, keyword, q):\n",
    "    \"\"\"\n",
    "    Get the dataset with fringes measurements and classify the baselines\n",
    "    by type of equivalency.\n",
    "    Parameters\n",
    "    ----------\n",
    "    rep: str\n",
    "        Repository with the data.\n",
    "    keyword: str\n",
    "        Key word in the data folders you want to look at.\n",
    "    q: QubicInstrument\n",
    "\n",
    "    Returns\n",
    "    -------\n",
    "    datasets: List with all the data folders\n",
    "    allBLs: List with all the baselines.\n",
    "    allNcycles: List with the Ncycles corresponding to each data folder.\n",
    "    allstable_time: List with the waiting times corresponding to each data folder.\n",
    "    \"\"\"\n",
    "    if rep[-1] != '/':\n",
    "        rep += '/'\n",
    "\n",
    "    datasets = np.sort(glob.glob(rep + '*' + keyword + '*'))\n",
    "    print('Number of folders in the dataset:', len(datasets))\n",
    "\n",
    "    allBLs, allNcycles, allstable_time = [], [], []\n",
    "    for ds in datasets:\n",
    "        strs = ds.split('_')\n",
    "        print(strs)\n",
    "        allNcycles.append(20)\n",
    "        allstable_time.append(1000.)\n",
    "#         allNcycles.append(float(strs[strs.index('ncycles') + 1]))\n",
    "#         allstable_time.append(float(strs[strs.index('wt') + 1]))\n",
    "        allBLs.append([int(strs[-2]), int(strs[-1])])\n",
    "\n",
    "    return datasets, allBLs, allNcycles, allstable_time\n",
    "\n",
    "datasets, allBLs, allNcycles, allstable_time = get_fringes_datasets(global_dir + date, '*' + 'RF_switch', q)\n",
    "BLs_sort, BLs_type = scal.find_equivalent_baselines(allBLs, q)\n",
    "\n",
    "nBLs = len(allBLs)\n",
    "print('nBLs:', nBLs)\n",
    "print('Ncycles:', allNcycles)\n",
    "print('Stable time:', allstable_time)\n",
    "print('Baselines:', allBLs)\n",
    "print('BL sorted:', BLs_sort)\n",
    "print('BL Type:', BLs_type)   \n",
    "\n",
    "# Plot the baselines\n",
    "scal.plot_BLs_eq(allBLs, BLs_sort, q)"
   ]
  },
  {
   "cell_type": "markdown",
   "id": "ffed3249",
   "metadata": {},
   "source": [
    "## Simulation to compare "
   ]
  },
  {
   "cell_type": "code",
   "execution_count": null,
   "id": "26279728",
   "metadata": {},
   "outputs": [],
   "source": [
    "rep = '/home/lmousset/QUBIC/Qubic_work/Calibration/RF_switch/simu_creidhe_aberrations/creidhe_files/'\n",
    "for baseline in allBLs[5:6]:\n",
    "    Model_May = scal.Model_Fringes_Maynooth(q, baseline,\n",
    "                                            rep=rep,\n",
    "                                            theta_source=np.deg2rad(0.),\n",
    "                                            nu_source=150e9,\n",
    "                                            frame='ONAFP')\n",
    "\n",
    "    xONAFP, yONAFP, fringes = Model_May.get_fringes_from_combination(verbose=True)\n",
    "\n",
    "#     print('fringes shape:', fringes.shape)\n",
    "\n",
    "\n"
   ]
  },
  {
   "cell_type": "code",
   "execution_count": null,
   "id": "63c4f441",
   "metadata": {},
   "outputs": [],
   "source": [
    "lim = np.max(np.abs(fringes))\n",
    "fig = plt.figure(figsize=(7, 7))\n",
    "ax = fig.gca()\n",
    "scal.scatter_plot_FP(q, xONAFP, yONAFP, fringes, frame='ONAFP', s=350, fig=fig, ax=ax, unit=None,\n",
    "                    title=f'Simulation - Baseline {allBLs[5]}', cmap='bwr',\n",
    "                    vmin=-lim, vmax=lim, fontsize=20)\n",
    "fig.tight_layout()\n",
    "# fig.savefig('/home/lmousset/QUBIC/Images/simu_fringes_49-51_Maynooth.pdf')"
   ]
  },
  {
   "cell_type": "code",
   "execution_count": null,
   "id": "41ad139b",
   "metadata": {},
   "outputs": [],
   "source": [
    "for baseline in allBLs[5:6]:\n",
    "    Model_QS = scal.Model_Fringes_QubicSoft(q, baseline,\n",
    "                                            theta_source=0., phi_source=0.,\n",
    "                                            nu_source=150e9, spec_irrad_source=1.,\n",
    "                                            frame='ONAFP', external_A=None, hwp_position=0)\n",
    "\n",
    "    xONAFP, yONAFP, fringes = Model_QS.get_fringes_from_combination(doplot=True, verbose=True, norm=None, unit=None, s=180)\n",
    "\n",
    "#     print('fringes shape:', fringes.shape)\n",
    "\n",
    "\n",
    "lim = np.max(np.abs(fringes))\n",
    "fig = plt.figure(figsize=(7, 7))\n",
    "ax = fig.gca()\n",
    "scal.scatter_plot_FP(q, xONAFP, yONAFP, fringes, frame='ONAFP', s=350, fig=fig, ax=ax, unit=None,\n",
    "                    title=f'Simulation - Baseline {allBLs[5]}', cmap='bwr',\n",
    "                    vmin=-lim, vmax=lim)\n"
   ]
  },
  {
   "cell_type": "code",
   "execution_count": null,
   "id": "d501f2b9",
   "metadata": {},
   "outputs": [],
   "source": [
    "baseline=allBLs[5]\n",
    "Model_ana = scal.Model_Fringes_Ana(q, baseline,\n",
    "                                    theta_source=0.,\n",
    "                                    nu_source=150e9,\n",
    "                                    frame='ONAFP')\n",
    "\n",
    "xONAFP, yONAFP, fringes = Model_ana.get_fringes(times_gaussian=True)\n",
    "\n",
    "fig = plt.figure(figsize=(7, 7))\n",
    "ax = fig.gca()\n",
    "scal.scatter_plot_FP(q, xONAFP, yONAFP, fringes, frame='ONAFP', s=350, fig=fig, ax=ax, unit=None,\n",
    "                    title=f'Simulation - Baseline {allBLs[5]}', cmap='bwr')\n"
   ]
  },
  {
   "cell_type": "markdown",
   "id": "82833216",
   "metadata": {},
   "source": [
    "## Fringes Analysis"
   ]
  },
  {
   "cell_type": "markdown",
   "id": "80d5a0f9",
   "metadata": {},
   "source": [
    "#### Analysis"
   ]
  },
  {
   "cell_type": "code",
   "execution_count": null,
   "id": "dd97d5bc",
   "metadata": {},
   "outputs": [],
   "source": [
    "allBLs"
   ]
  },
  {
   "cell_type": "code",
   "execution_count": null,
   "id": "644936bf",
   "metadata": {},
   "outputs": [],
   "source": [
    "allm_points, allerr_m_points = [], []\n",
    "allMcycles, allerr_Mcycles = [], []\n",
    "allfringes1D, allerr_fringes1D = [], []\n",
    "allfringes1D_percycle, allerr_fringes1D_percycle = [], []\n",
    "allTODresiduals = []\n",
    "allmask_bad_TES = []\n",
    "\n",
    "# Loop on the BLs\n",
    "for i, BL in enumerate(allBLs[-1]):\n",
    "    i=7\n",
    "    print(f'\\n ===================== Measurement {i+1}/{nBLs} - BL {BL} starting ===================')   \n",
    "    print(\"Data folder:\", datasets[i])\n",
    "\n",
    "    # Analysis\n",
    "    Fringes_Ana = flib.FringesAnalysis(datasets[i], date, q, BL, stable_time=1., ncycles=20, \n",
    "                                       refTESnum=None, refASICnum=None, fraction_bad_TES=0.75, \n",
    "                                       sigma_conv_astropy=0.5, verbose=True, sort_TES=True)\n",
    "#     allmask_bad_TES.append(Fringes_Ana.mask_bad_TES)\n",
    "    Fringes_Ana.plot_TOD()\n",
    "#     m_points, err_m_points, Mcycles, err_Mcycles, \\\n",
    "#     fringes1D, err_fringes1D, fringes1D_percycle, err_fringes1D_percycle = Fringes_Ana.analyse_fringes(\n",
    "#                               doplotTESsort=[0, 30],\n",
    "#                               median=True,\n",
    "#                               Ncycles_to_use=None,\n",
    "#                               remove_median_allh=True,\n",
    "#                               rm_slope_percycle=False)\n",
    "\n",
    "#     allm_points.append(m_points)\n",
    "#     allerr_m_points.append(err_m_points)\n",
    "#     allMcycles.append(Mcycles)\n",
    "#     allerr_Mcycles.append(err_Mcycles)\n",
    "    \n",
    "#     allfringes1D.append(fringes1D)\n",
    "#     allerr_fringes1D.append(err_fringes1D)\n",
    "    \n",
    "#     allfringes1D_percycle.append(fringes1D_percycle)\n",
    "#     allerr_fringes1D_percycle.append(err_fringes1D_percycle)"
   ]
  },
  {
   "cell_type": "markdown",
   "id": "279bac15",
   "metadata": {},
   "source": [
    "## Make some plots\n",
    "\n",
    "#### Plot the fringes on the FP"
   ]
  },
  {
   "cell_type": "code",
   "execution_count": null,
   "id": "6ee3ab17",
   "metadata": {},
   "outputs": [],
   "source": [
    "k = 0\n",
    "cmap_bwr = flib.make_cmap_nan_black('bwr')\n",
    "\n",
    "fig, axs = plt.subplots(1, 2)\n",
    "ax1, ax2 = axs.ravel()\n",
    "# Scatter plot\n",
    "flib.plot_fringes_scatter(q, xTES, yTES, allfringes1D[k]* allmask_bad_TES[k], s=150, \n",
    "                          fig=fig, ax=ax1, cmap=cmap_bwr)\n",
    "\n",
    "# Imshow after a convolution with Astropy (gaussian kernel)\n",
    "fringes2D = flib.make2Dfringes_data(allfringes1D[k] * allmask_bad_TES[k])\n",
    "fringes2D_conv = flib.astropy_convolution(fringes2D, sigma=0.7)\n",
    "flib.plot_fringes_imshow(fringes2D_conv, normalize=True, fig=fig, ax=ax2, cmap=cmap_bwr, \n",
    "                         title='Gaussian convolution', mask=flib.make_mask2D_thermometers_TD())\n"
   ]
  },
  {
   "cell_type": "markdown",
   "id": "98aba6c5",
   "metadata": {},
   "source": [
    "#### Plot the fringes value as a function of the cycle"
   ]
  },
  {
   "cell_type": "code",
   "execution_count": null,
   "id": "37d30e2e",
   "metadata": {},
   "outputs": [],
   "source": [
    "k = 0\n",
    "ASIC = 1\n",
    "for TES in [70, 35, 95, 100]:\n",
    "    Fringes_Ana._plot_fringes_measurement_perTES(allfringes1D[k], \n",
    "                                                 allerr_fringes1D[k], \n",
    "                                                 allfringes1D_percycle[k], \n",
    "                                                 allerr_fringes1D_percycle[k],\n",
    "                                                 TES=TES,\n",
    "                                                 ASIC=ASIC)\n"
   ]
  },
  {
   "cell_type": "markdown",
   "id": "8360a5a2",
   "metadata": {},
   "source": [
    "#### Plot time response with and without bad TES "
   ]
  },
  {
   "cell_type": "code",
   "execution_count": null,
   "id": "ffac3790",
   "metadata": {},
   "outputs": [],
   "source": [
    "ctimes = Fringes_Ana.ctimes\n",
    "plt.figure()\n",
    "plt.hist(np.ravel(ctimes), bins=15, alpha=0.4, label='with all TES')\n",
    "plt.hist(np.ravel(ctimes)*Fringes_Ana.mask_bad_TES, bins=15, alpha=0.4, label='without the 25% worst TES')\n",
    "plt.legend()\n",
    "plt.xlabel('Time response [s]', fontsize=16)"
   ]
  },
  {
   "cell_type": "markdown",
   "id": "a1a482c8",
   "metadata": {},
   "source": [
    "#### Look at some TODs"
   ]
  },
  {
   "cell_type": "code",
   "execution_count": null,
   "id": "7952a2ac",
   "metadata": {},
   "outputs": [],
   "source": [
    "for TES in range(1):\n",
    "    Fringes_Ana.plot_TOD(ASIC=1, TES=70)\n",
    "    plt.xlabel('Time [s]', fontsize=16)\n",
    "    plt.ylabel('TOD [A.U.]', fontsize=16)"
   ]
  },
  {
   "cell_type": "markdown",
   "id": "f8d53f96",
   "metadata": {},
   "source": [
    "#### Look at the average made on each cycle for some TES"
   ]
  },
  {
   "cell_type": "code",
   "execution_count": null,
   "id": "c2c6fa21",
   "metadata": {},
   "outputs": [],
   "source": [
    "for TES in range(2):\n",
    "    Fringes_Ana.plot_average_over_steps(m_points[TES], err_m_points[TES], Mcycles[TES], err_Mcycles[TES])"
   ]
  },
  {
   "cell_type": "markdown",
   "id": "34d40ead",
   "metadata": {},
   "source": [
    "## Save the data"
   ]
  },
  {
   "cell_type": "code",
   "execution_count": null,
   "id": "b5d535ff",
   "metadata": {},
   "outputs": [],
   "source": [
    "Save_class = flib.SaveFringesFitsPdf(q, date, allBLs[:], allstable_time[:], allNcycles[:], xTES, yTES, \n",
    "                                       allfringes1D, allerr_fringes1D, allmask_bad_TES=allmask_bad_TES,\n",
    "                                       nsteps=6, ecosorb='yes', frame='ONAFP')\n",
    "\n",
    "save_name = 'Fringes_' + date + f'_{Save_class.nBLs}BLs_RemoveSlopePerTES_medianTrue_refTESautomatic_maskbadTES0.75'\n",
    "Save_class.save_fringes_pdf_plots(global_dir, save_name=save_name + '.pdf', mask=flib.make_mask2D_thermometers_TD())\n",
    "\n",
    "Save_class.write_fits_fringes(global_dir, save_name=save_name + '.fits')\n"
   ]
  },
  {
   "cell_type": "code",
   "execution_count": null,
   "id": "8b988195",
   "metadata": {},
   "outputs": [],
   "source": []
  },
  {
   "cell_type": "markdown",
   "id": "b57bc6ec",
   "metadata": {},
   "source": [
    "## Find the bad TES using all images"
   ]
  },
  {
   "cell_type": "code",
   "execution_count": null,
   "id": "f86d70c5",
   "metadata": {},
   "outputs": [],
   "source": [
    "# Load a fits file already saved with several images\n",
    "myfringes = 'Fringes_2020-10-27_12BLs_RemoveSlopePerTES_medianTrue_refTESautomatic_maskbadTES0.75.fits'\n",
    "\n",
    "header, fdict = flib.read_fits_fringes(global_dir + myfringes)\n",
    "print(fdict.keys())\n",
    "allmask_bad_TES = fdict['MASK_BAD_TES']\n"
   ]
  },
  {
   "cell_type": "code",
   "execution_count": null,
   "id": "627ffc34",
   "metadata": {},
   "outputs": [],
   "source": [
    "cmap = flib.make_cmap_nan_black('bwr')\n",
    "flib.plot_fringes_scatter(q, xTES, yTES, allmask_bad_TES[0], normalize=False, cbar=False, s=180, cmap=cmap)"
   ]
  },
  {
   "cell_type": "code",
   "execution_count": null,
   "id": "ccdd0475",
   "metadata": {},
   "outputs": [],
   "source": [
    "thecond = np.arange(2, 13)\n",
    "nbad = []\n",
    "\n",
    "for cond in thecond:\n",
    "    the_mask = flib.decide_bad_TES(allmask_bad_TES, condition=cond)\n",
    "#     print(the_mask)\n",
    "    nbad.append(int(256 - np.nansum(the_mask)))\n",
    "\n",
    "plt.figure()\n",
    "plt.plot(thecond, nbad, 'bo')\n",
    "plt.xlabel('Number of images where the TES is NAN')\n",
    "plt.ylabel('Number of bad TES')\n",
    "plt.grid()\n"
   ]
  },
  {
   "cell_type": "code",
   "execution_count": null,
   "id": "18796641",
   "metadata": {},
   "outputs": [],
   "source": [
    "the_mask = flib.decide_bad_TES(allmask_bad_TES, condition=9)\n",
    "nbad = int(256 - np.nansum(the_mask))\n",
    "\n",
    "print(the_mask)\n",
    "\n",
    "badTES = flib.give_index_bad_TES(the_mask)\n",
    "print(badTES.T)\n",
    "\n",
    "flib.plot_fringes_scatter(q, xTES, yTES, the_mask, normalize=False, s=140, cbar=False)"
   ]
  },
  {
   "cell_type": "code",
   "execution_count": null,
   "id": "bb9729b3",
   "metadata": {},
   "outputs": [],
   "source": [
    "# Plot TOD of the one bad TES on all images\n",
    "ibad = 0 # Bad TES index\n",
    "for i, BL in enumerate(allBLs[:]):\n",
    "    print(f'\\n ===================== Measurement {i+1}/{nBLs} - BL {BL} starting ===================')   \n",
    "    print(\"Data folder:\", datasets[i])\n",
    "\n",
    "    Fringes_Ana = flib.FringesAnalysis(datasets[i], date, q, BL, stable_time=5., ncycles=20, \n",
    "                                       refTESnum=95, refASICnum=1, fraction_bad_TES=0.75, \n",
    "                                       sigma_conv_astropy=0.7, sort_TES=False, verbose=True)\n",
    "\n",
    "    Fringes_Ana.plot_TOD(ASIC=badTES[ibad, 1], TES=badTES[ibad, 0])"
   ]
  },
  {
   "cell_type": "code",
   "execution_count": null,
   "id": "1085709e",
   "metadata": {},
   "outputs": [],
   "source": [
    "# Plot TOD of all bad TES on one image\n",
    "img = 6 # image index\n",
    " \n",
    "print(\"Data folder:\", datasets[img])\n",
    "\n",
    "Fringes_Ana = flib.FringesAnalysis(datasets[img], date, q, BL, stable_time=5., ncycles=20, \n",
    "                                   refTESnum=95, refASICnum=1, fraction_bad_TES=0.75, \n",
    "                                   sigma_conv_astropy=0.7, sort_TES=False, verbose=True)\n",
    "for ibad in range(nbad):\n",
    "    Fringes_Ana.plot_TOD(ASIC=badTES[ibad, 1], TES=badTES[ibad, 0])"
   ]
  }
 ],
 "metadata": {
  "kernelspec": {
   "display_name": "Python 3",
   "language": "python",
   "name": "python3"
  }
 },
 "nbformat": 4,
 "nbformat_minor": 5
}
