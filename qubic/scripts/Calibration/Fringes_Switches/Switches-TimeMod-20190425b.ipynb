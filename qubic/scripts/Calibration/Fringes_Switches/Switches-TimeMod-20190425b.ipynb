{
 "cells": [
  {
   "cell_type": "code",
   "execution_count": null,
   "id": "a75f8839",
   "metadata": {},
   "outputs": [],
   "source": [
    "%matplotlib notebook\n",
    "#%matplotlib inline\n",
    "from matplotlib import rc\n",
    "rc('figure',figsize=(9,4.5))\n",
    "rc('font',size=12)\n",
    "rc('text',usetex=False)\n",
    "\n",
    "from qubicpack import qubicpack as qp\n",
    "import fibtools as ft\n",
    "import plotters as p\n",
    "import lin_lib as ll\n",
    "import demodulation_lib as dl\n",
    "import satorchipy as stpy\n",
    "from pysimulators import FitsArray\n",
    "\n",
    "import numpy as np\n",
    "from matplotlib.pyplot import *\n",
    "import matplotlib.mlab as mlab\n",
    "import scipy.ndimage.filters as f\n",
    "import glob\n",
    "import string\n",
    "import scipy.signal as scsig\n",
    "from scipy import interpolate\n",
    "import datetime as dt\n",
    "import pickle\n"
   ]
  },
  {
   "cell_type": "code",
   "execution_count": null,
   "id": "8a3bfc1d",
   "metadata": {},
   "outputs": [],
   "source": [
    "day = '2019-04-25'\n",
    "data_dir = '/qubic/Data/Calib-TD/'+day+'/'\n",
    "#dirs = np.sort(glob.glob(data_dir+'*test_sw*'))\n",
    "dirs = np.sort(glob.glob(data_dir+'*switch*'))\n",
    "print (dirs)\n",
    "print (len(dirs))\n",
    "\n",
    "labels = []\n",
    "for d in dirs:\n",
    "    bla = str.split(d,'__')\n",
    "    labels.append(bla[1])\n",
    "print labels"
   ]
  },
  {
   "cell_type": "code",
   "execution_count": null,
   "id": "8ebc615c",
   "metadata": {},
   "outputs": [],
   "source": [
    "#thedir = '/qubic/Data/Calib-TD/2019-04-18/2019-04-18_16.56.51__RF_switch_cont'\n",
    "thedir = dirs[11]\n",
    "print(thedir)\n",
    "AsicNum = 1\n",
    "a = qp()\n",
    "a.read_qubicstudio_dataset(thedir, asic=AsicNum)\n",
    "data=a.azel_etc(TES=None)\n",
    "print(a.max_bias)"
   ]
  },
  {
   "cell_type": "code",
   "execution_count": null,
   "id": "7eedcabf",
   "metadata": {},
   "outputs": [],
   "source": [
    "TESNum = 70\n",
    "#rc('figure',figsize=(8,4))\n",
    "t0 = data['t_data'][0]\n",
    "plot(data['t_data']-t0, data['data'][TESNum-1,:])\n",
    "#xlim(0,50)"
   ]
  },
  {
   "cell_type": "code",
   "execution_count": null,
   "id": "ecb1add0",
   "metadata": {},
   "outputs": [],
   "source": [
    "### Withraw first XX seconds (before things operate) and last ponts if needed\n",
    "tdeb = 5.1\n",
    "tfin = 100\n",
    "ok = ((data['t_data']-t0) > tdeb) & ((data['t_data']-t0) < tfin)\n",
    "data['t_data'] = data['t_data'][ok]-t0-tdeb\n",
    "data['data'] = data['data'][:,ok]"
   ]
  },
  {
   "cell_type": "code",
   "execution_count": null,
   "id": "aeddd947",
   "metadata": {},
   "outputs": [],
   "source": [
    "plot(data['t_data'], data['data'][TESNum-1,:])\n",
    "#xlim(0,36)\n"
   ]
  },
  {
   "cell_type": "code",
   "execution_count": null,
   "id": "f7effea5",
   "metadata": {},
   "outputs": [],
   "source": [
    "period_sampling = data['t_data'][1] - data['t_data'][0]\n",
    "FREQ_SAMPLING = 1. / period_sampling\n",
    "spectrum_f, freq_f = mlab.psd(data['data'][TESNum-1,:], Fs=FREQ_SAMPLING, NFFT=2**int(np.log(len(data['data'][TESNum-1,:]))/np.log(2)), \n",
    "                              window=mlab.window_hanning)\n",
    "plot(freq_f, spectrum_f)\n",
    "yscale('log')\n",
    "xscale('log')\n",
    "#xlim(0.001, 1)\n",
    "print FREQ_SAMPLING\n",
    "plot([1./18.1, 1./18.1],[10,10**11])"
   ]
  },
  {
   "cell_type": "code",
   "execution_count": null,
   "id": "05dfdfaa",
   "metadata": {},
   "outputs": [],
   "source": [
    "period = 18.1\n",
    "lowcut = 0.001\n",
    "highcut = 10.\n",
    "nbins = 180\n",
    "folded, t, folded_nonorm= ft.fold_data(data['t_data'], data['data'], period, lowcut, highcut, nbins)"
   ]
  },
  {
   "cell_type": "code",
   "execution_count": null,
   "id": "c774bd08",
   "metadata": {},
   "outputs": [],
   "source": [
    "#TESNum = 58\n",
    "subplot(2,1,1)\n",
    "plot(data['t_data'], data['data'][TESNum-1,:])\n",
    "xlim(0,period)\n",
    "subplot(2,1,2)\n",
    "plot(t, folded_nonorm[TESNum-1,:])\n",
    "xlim(0,period)"
   ]
  },
  {
   "cell_type": "code",
   "execution_count": null,
   "id": "39470565",
   "metadata": {},
   "outputs": [],
   "source": [
    "period=18.1\n",
    "plot(data['t_data'] % period, data['data'][TESNum-1,:])\n",
    "xlim(0,period)\n"
   ]
  },
  {
   "cell_type": "code",
   "execution_count": null,
   "id": "3bee3a39",
   "metadata": {},
   "outputs": [],
   "source": [
    "tm1=0.3\n",
    "tm2=0.3\n",
    "per=period/6.\n",
    "w=np.zeros_like(t)\n",
    "for i in range(len(w)):\n",
    "        if ((t[i] % per) > tm1) and ((t[i] % per) < per-tm2):\n",
    "            if (((t[i]//per) % 2) == 1): w[i]=1./3\n",
    "            elif (((t[i]//per) % 6) == 4) : w[i]=1.\n",
    "            else: w[i]=-1.\n",
    "ind = np.where(w <> 0.)\n",
    "temp = np.zeros_like(w)\n",
    "temp[ind]=1.\n",
    "npts=np.sum(temp)\n",
    "npts"
   ]
  },
  {
   "cell_type": "code",
   "execution_count": null,
   "id": "12f3985a",
   "metadata": {},
   "outputs": [],
   "source": [
    "np.sum(w)"
   ]
  },
  {
   "cell_type": "code",
   "execution_count": null,
   "id": "57388f02",
   "metadata": {},
   "outputs": [],
   "source": [
    "#TESNum=58\n",
    "plot(t, folded_nonorm[TESNum-1,:])\n",
    "xlim(0,period)\n",
    "plot(t,w*100000.,'+')"
   ]
  },
  {
   "cell_type": "code",
   "execution_count": null,
   "id": "15fd144f",
   "metadata": {},
   "outputs": [],
   "source": [
    "# Analysis for both ASICs\n",
    "allres = np.zeros(256)\n",
    "#period = 18.1\n",
    "#tdeb = 258.5\n",
    "#tfin = 296\n",
    "lowcut = 0.001\n",
    "highcut = 10.\n",
    "nbins = 180\n",
    "tmax=1000\n",
    "\n",
    "for AsicNum in [1,2]:\n",
    "    a = qp()\n",
    "    a.read_qubicstudio_dataset(thedir, asic=AsicNum)\n",
    "    data=a.azel_etc(TES=None)\n",
    "    t0 = data['t_data'][0]\n",
    "    ok = ((data['t_data']-t0) > tdeb) & ((data['t_data']-t0) < tfin)\n",
    "    data['t_data'] = data['t_data'][ok]-t0-tdeb\n",
    "    data['data'] = data['data'][:,ok]\n",
    "    ok = (data['t_data'] < tmax) \n",
    "    data['t_data'] = data['t_data'][ok]\n",
    "    data['data'] = data['data'][:,ok]\n",
    "    folded, t, folded_nonorm= ft.fold_data(data['t_data'], data['data'], period, lowcut, highcut, nbins)\n",
    "    for TESNum in np.arange(128)+1:\n",
    "        TESindex = (TESNum-1) + 128 *(AsicNum -1)\n",
    "        allres[TESindex]=np.sum(folded_nonorm[TESNum-1,:]*w)/npts"
   ]
  },
  {
   "cell_type": "code",
   "execution_count": null,
   "id": "1c0fc083",
   "metadata": {},
   "outputs": [],
   "source": [
    "# Check demod signal\n",
    "TESNum=58\n",
    "plot(t, folded_nonorm[TESNum-1,:])\n",
    "xlim(0,period)\n",
    "plot(t,w*10000.,'+')"
   ]
  },
  {
   "cell_type": "code",
   "execution_count": null,
   "id": "c5c6d924",
   "metadata": {},
   "outputs": [],
   "source": [
    "fringe = ft.image_asics(all1=allres)\n",
    "imshow(fringe,vmin=-3e3,vmax=3e3)\n",
    "colorbar()"
   ]
  },
  {
   "cell_type": "code",
   "execution_count": null,
   "id": "e012528c",
   "metadata": {},
   "outputs": [],
   "source": [
    "intercal=array([              nan,               nan,               nan,\n",
    "                     nan,               nan,  3756516.32874732,\n",
    "                     nan,               nan,  4324426.82308633,\n",
    "                     nan,               nan,               nan,\n",
    "                     nan,               nan,               nan,\n",
    "        4199319.79855224,               nan, 27948003.93697466,\n",
    "                     nan,               nan,               nan,\n",
    "        4386138.08263202,               nan,  4562055.29944225,\n",
    "                     nan,  1922144.62218649,  9257745.94460161,\n",
    "        4092219.28769395,               nan,               nan,\n",
    "                     nan,               nan,               nan,\n",
    "                     nan,               nan,               nan,\n",
    "        1039756.4297414 ,   842825.35323397,               nan,\n",
    "                     nan,               nan,               nan,\n",
    "                     nan,  1336519.59254463,  4362408.75000775,\n",
    "        2038516.60085449,               nan,               nan,\n",
    "         955375.32144017, 43405253.78636663,  7487440.29036504,\n",
    "                     nan,               nan,   944287.40581007,\n",
    "                     nan,               nan,  1816886.71400112,\n",
    "       81165941.21168634,  2304047.08751202,   264833.70542944,\n",
    "                     nan,               nan,  2043080.95569693,\n",
    "       23627839.03311189,               nan,               nan,\n",
    "                     nan,               nan,               nan,\n",
    "                     nan,               nan,   744664.70637487,\n",
    "        2979070.54921478,  5466616.64848401,  3387189.77805213,\n",
    "        4675714.16473412,  1160164.86875154,  1261728.75883455,\n",
    "        1419284.64650026, 33420970.95778618,  2628486.09334166,\n",
    "        1322109.79981949,  7500325.28459446,               nan,\n",
    "                     nan,               nan,  3910550.03306765,\n",
    "        1798869.82909859,               nan,   502281.80753792,\n",
    "                     nan,               nan, 35529920.18904863,\n",
    "        2715294.25302842,  2739752.20750913,  2711714.95335516,\n",
    "                     nan,               nan, 15240266.16506861,\n",
    "                     nan,   416572.15751505,               nan,\n",
    "                     nan,               nan,               nan,\n",
    "                     nan,  7948997.61336653,               nan,\n",
    "        3696976.71549511,  1903038.35603601,               nan,\n",
    "                     nan,               nan,               nan,\n",
    "                     nan,               nan,   876661.07126208,\n",
    "        2528874.6625329 ,  2331462.8118209 , 45572416.75245366,\n",
    "                     nan,   893022.98249283,  2512434.92423654,\n",
    "        1567265.23301556,               nan,               nan,\n",
    "         564574.35427909,               nan,  1535840.71743949,\n",
    "        2625598.15252569,  2531389.80567746,               nan,\n",
    "         511828.49994563, 17643525.77927609,  4209480.69882371,\n",
    "       15476638.86374939,  1007896.69987857,               nan,\n",
    "                     nan,  2379130.05856821, 27330779.13115629,\n",
    "        1755034.40287495,               nan,               nan,\n",
    "                     nan,               nan,               nan,\n",
    "                     nan,  2491920.33227193, 75974728.32301582,\n",
    "                     nan,  2411937.92481115,               nan,\n",
    "                     nan,               nan,               nan,\n",
    "         725338.50719985,               nan,               nan,\n",
    "                     nan,               nan,               nan,\n",
    "        2331455.84968783,               nan, 47033060.6203033 ,\n",
    "        4373214.76972836,               nan, 35597822.35442027,\n",
    "        1920364.47809285,  8989429.89907642,  2771156.77730114,\n",
    "        2366137.13659833,  1854515.68619982,               nan,\n",
    "        1765541.89142939,  1203333.89341859,  4307632.06239068,\n",
    "        1910591.29806109,               nan,   804352.44814279,\n",
    "        5053628.43656786,               nan, 14493983.82510887,\n",
    "        1370198.0401658 ,   960104.04495456, 14485036.04198473,\n",
    "                     nan,               nan,  5113027.86053435,\n",
    "                     nan, 26390410.18689758,  1131749.03979249,\n",
    "        1617213.96685688,               nan, 28899330.40537374,\n",
    "                     nan,  3690107.87439743,  2024186.57506375,\n",
    "        1951412.26701228,  1705352.14032169,  3623894.36492262,\n",
    "                     nan,               nan,               nan,\n",
    "        2311480.05313472, 11783661.77331793,               nan,\n",
    "        5769083.92669821,               nan,  4992213.97585892,\n",
    "                     nan, 14704978.01119558, 37409293.75621312,\n",
    "        1241225.81614789,               nan,  1926407.51135998,\n",
    "                     nan,  2162894.29580697,  1956668.81321565,\n",
    "         329768.61600974,   837385.56288894,               nan,\n",
    "        9260885.46845245, 11783700.14293095,               nan,\n",
    "       23876227.75833941,  1919559.93367914,               nan,\n",
    "        1313816.41391297,  4176509.93374429,  1044522.75699002,\n",
    "                     nan,               nan,               nan,\n",
    "        2827003.01608449,  5458770.3489204 ,  2551835.6973714 ,\n",
    "                     nan,  1519088.65012722,               nan,\n",
    "                     nan,               nan,               nan,\n",
    "         641169.77673346,               nan,               nan,\n",
    "        1660046.82146439,               nan,               nan,\n",
    "                     nan,               nan,               nan,\n",
    "                     nan,               nan,               nan,\n",
    "                     nan])\n",
    "\n",
    "intercal = intercal / np.nanmean(intercal)\n",
    "print intercal"
   ]
  },
  {
   "cell_type": "code",
   "execution_count": null,
   "id": "e197c51b",
   "metadata": {},
   "outputs": [],
   "source": [
    "fringe = ft.image_asics(all1=(allres/intercal))\n",
    "factor_recal = ft.image_asics(all1=1./intercal)\n",
    "fringe_nointercal = ft.image_asics(all1=allres)\n",
    "good = isfinite(fringe)\n",
    "fringe_nointercal[~good] = np.nan\n",
    "\n",
    "rc('figure',figsize=(16,5))\n",
    "subplot(1,3,1)\n",
    "imshow(factor_recal,vmin=0,vmax=10)\n",
    "title('Factor Intercal')\n",
    "colorbar()\n",
    "subplot(1,3,2)\n",
    "imshow(fringe,vmin=-5e3,vmax=5e3)\n",
    "title('Intercalibrated Fringe')\n",
    "colorbar()\n",
    "subplot(1,3,3)\n",
    "imshow(fringe_nointercal,vmin=-5e3,vmax=5e3)\n",
    "colorbar()\n",
    "title('Raw Fringe')\n"
   ]
  },
  {
   "cell_type": "code",
   "execution_count": null,
   "id": "31849c2d",
   "metadata": {},
   "outputs": [],
   "source": []
  },
  {
   "cell_type": "code",
   "execution_count": null,
   "id": "cccbacbf",
   "metadata": {},
   "outputs": [],
   "source": [
    "reload(ft)\n",
    "import selfcal_lib as sl\n",
    "reload(sl)\n",
    "\n",
    "# def tes2imgpix(tesnum, extra_args=None):\n",
    "#     if extra_args is None:\n",
    "#         a1 = qp()\n",
    "#         a1.assign_asic(1)\n",
    "#         a2 = qp()\n",
    "#         a2.assign_asic(2)\n",
    "#     else:\n",
    "#         a1 = extra_args[0]\n",
    "#         a2 = extra_args[1]\n",
    "        \n",
    "#     ij = np.zeros((len(tesnum),2))\n",
    "#     for i in xrange(len(tesnum)):\n",
    "#         if i < 128:\n",
    "#             pixnum = a1.tes2pix(tesnum[i])\n",
    "#             ww = where(a1.pix_grid == pixnum)\n",
    "#         else:\n",
    "#             pixnum = a2.tes2pix(tesnum[i]-128)\n",
    "#             ww = where(a2.pix_grid == pixnum)\n",
    "#         if len(ww[0])>0:\n",
    "#             ij[i,:] = ww\n",
    "#         else:\n",
    "#             ij[i,:] = [17,17]\n",
    "#     return ij\n",
    "\n",
    "# def fringe_focalplane(x, pars, extra_args=None):    \n",
    "#     baseline = pars[0]\n",
    "#     alpha = pars[1]\n",
    "#     phase = pars[2]\n",
    "#     amplitude = pars[3]\n",
    "#     nu = 150e9\n",
    "#     lam = 3e8/nu\n",
    "#     f = 300e-3 # Focal Length in mm\n",
    "#     freq_fringe = baseline / lam\n",
    "#     TESsize = 3.e-3\n",
    "\n",
    "#     ijtes = tes2imgpix(np.arange(256)+1, extra_args=extra_args)\n",
    "    \n",
    "#     fringe=amplitude*np.cos(2.*np.pi*freq_fringe*(ijtes[:,0]*np.cos(alpha*np.pi/180)+ijtes[:,1]*np.sin(alpha*np.pi/180))*TESsize/f+phase*np.pi/180)\n",
    "#     thermos = [4-1,36-1, 68-1, 100-1, 4-1+128, 36-1+128, 68-1+128, 100-1+128]\n",
    "#     fringe[thermos] = 0\n",
    "#     mask = x > 0\n",
    "#     fringe[~mask] = 0\n",
    "#     return fringe\n",
    "    \n",
    "bl=14e-3*np.sqrt(5.) #baseline\n",
    "alpha=-18.4\n",
    "phase=np.degrees(-1.5)+60\n",
    "amplitude = 5e3\n",
    "parnames = ['Baseline [mm]', 'Angle [deg]', 'Phase [deg]', 'Amplitude [ADU]']\n",
    "pars = np.array([bl, alpha, phase, amplitude])\n",
    "\n",
    "\n",
    "fringe = (allres/intercal)\n",
    "#fringe = (allres)\n",
    "maskok = np.isfinite(fringe)\n",
    "imgfringe = ft.image_asics(all1=fringe)\n",
    "\n",
    "tes_index = np.arange(256)\n",
    "tes_index[~isfinite(fringe)] = -1\n",
    "fringe_th = sl.fringe_focalplane(tes_index, pars)\n",
    "fringe_th[~maskok] = np.nan\n",
    "imgfringe_th = ft.image_asics(all1=fringe_th)\n",
    "\n",
    "a1 = qp()\n",
    "a1.assign_asic(1)\n",
    "a2 = qp()\n",
    "a2.assign_asic(2)\n",
    "\n",
    "res = ft.do_minuit(tes_index, np.nan_to_num(fringe), np.ones(256), pars, functname=fringe_focalplane, \n",
    "                fixpars=[1,1,0,0], nohesse=True,\n",
    "              force_chi2_ndf=True, extra_args=[a1, a2])\n",
    "\n"
   ]
  },
  {
   "cell_type": "code",
   "execution_count": null,
   "id": "85cb9034",
   "metadata": {},
   "outputs": [],
   "source": [
    "subplot(1,3,1)\n",
    "imshow(imgfringe, vmin = -5e3, vmax = 5e3)\n",
    "colorbar()\n",
    "title('Data')\n",
    "\n",
    "subplot(1,3 ,2)\n",
    "imshow(imgfringe_th)\n",
    "colorbar()\n",
    "title('Input Guess')\n",
    "\n",
    "fringe_fit = sl.fringe_focalplane(tes_index, res[1])\n",
    "fringe_fit[~maskok] = np.nan\n",
    "imgfringe_fit = ft.image_asics(all1=fringe_fit)\n",
    "subplot(1,3,3)\n",
    "imshow(imgfringe_fit)\n",
    "colorbar()\n",
    "title('Fit')\n",
    "\n",
    "print 'Input guess:'\n",
    "for i in range(len(res[1])):\n",
    "    print parnames[i],': {}'.format(pars[i])\n",
    "\n",
    "print 'Fit:'\n",
    "for i in range(len(res[1])):\n",
    "    print parnames[i],': {} +/- {}'.format(res[1][i], res[2][i])\n"
   ]
  },
  {
   "cell_type": "code",
   "execution_count": null,
   "id": "5a8ea58e",
   "metadata": {},
   "outputs": [],
   "source": [
    "import selfcal_lib as sl\n",
    "reload(sl)\n",
    "\n",
    "\n",
    "#baseline = [63,46]\n",
    "baseline = [46,61] ## for 90deg rotation\n",
    "aa = sl.get_fringes_TD(baseline, phi=np.array([np.radians(-3.11)]), theta=np.array([np.radians(88.)]))"
   ]
  },
  {
   "cell_type": "code",
   "execution_count": null,
   "id": "fcb707b3",
   "metadata": {},
   "outputs": [],
   "source": [
    "subplot(1,3,1)\n",
    "imshow(ft.image_asics(all1=aa))\n",
    "colorbar()\n",
    "title('Sim Louise')\n",
    "subplot(1,3,2)\n",
    "aacut = aa.copy()\n",
    "aacut[~maskok]=np.nan\n",
    "imshow(ft.image_asics(all1=aacut))\n",
    "colorbar()\n",
    "title('Sim Louise Cut')\n",
    "subplot(1,3,3)\n",
    "imshow(imgfringe, vmin = -5e3, vmax = 5e3)\n",
    "colorbar()\n",
    "title('Data')\n"
   ]
  },
  {
   "cell_type": "code",
   "execution_count": null,
   "id": "1ecd84c9",
   "metadata": {},
   "outputs": [],
   "source": [
    "plot(aacut,fringe,'o')\n",
    "ylim(-10000,30000)"
   ]
  },
  {
   "cell_type": "code",
   "execution_count": null,
   "id": "7efcf507",
   "metadata": {},
   "outputs": [],
   "source": [
    "np.corrcoef(aacut[maskok,0], fringe[maskok])[0,1]"
   ]
  },
  {
   "cell_type": "code",
   "execution_count": null,
   "id": "f2142c3f",
   "metadata": {},
   "outputs": [],
   "source": [
    "xx = np.linspace(-3,3,11)\n",
    "yy = np.linspace(0,10,10)\n",
    "coeff = np.zeros((len(xx), len(yy)))\n",
    "for i in xrange(len(xx)):\n",
    "    for j in xrange(len(yy)):\n",
    "        aa = sl.get_fringes_TD(baseline, phi=np.array([np.radians(xx[i])]), \n",
    "                               theta=np.array([np.radians(yy[j])]))\n",
    "        coeff[i,j] = np.corrcoef(aa[maskok,0], fringe[maskok])[0,1]"
   ]
  },
  {
   "cell_type": "code",
   "execution_count": null,
   "id": "136fafd2",
   "metadata": {},
   "outputs": [],
   "source": [
    "imshow(coeff, extent=[np.min(yy), np.max(yy), np.min(xx), np.max(xx)], aspect='equal')\n",
    "xlabel('Theta')\n",
    "ylabel('Phi')\n",
    "colorbar()"
   ]
  },
  {
   "cell_type": "code",
   "execution_count": null,
   "id": "cea22cb4",
   "metadata": {},
   "outputs": [],
   "source": [
    "aa = sl.get_fringes_TD(baseline, phi=np.array([np.radians(0)]), \n",
    "                       theta=np.array([np.radians(9)]))\n",
    "subplot(1,3,1)\n",
    "imshow(ft.image_asics(all1=aa))\n",
    "colorbar()\n",
    "title('Sim Louise')\n",
    "subplot(1,3,2)\n",
    "aacut = aa.copy()\n",
    "aacut[~maskok]=np.nan\n",
    "imshow(ft.image_asics(all1=aacut))\n",
    "colorbar()\n",
    "title('Sim Louise Cut')\n",
    "subplot(1,3,3)\n",
    "imshow(imgfringe, vmin = -5e3, vmax = 5e3)\n",
    "colorbar()\n",
    "title('Data')\n"
   ]
  },
  {
   "cell_type": "code",
   "execution_count": null,
   "id": "64df9214",
   "metadata": {},
   "outputs": [],
   "source": [
    "coeff0 = np.corrcoef(aa[maskok,0], fringe[maskok])[0,1]\n",
    "\n",
    "nn = 10000\n",
    "allcoeffs = np.zeros(nn)\n",
    "for i in xrange(nn):\n",
    "    rndorder = argsort(np.random.rand(256))\n",
    "    aarnd = aa[rndorder].copy()\n",
    "    aarnd[~maskok]=np.nan\n",
    "    allcoeffs[i] = np.corrcoef(aarnd[maskok,0], fringe[maskok])[0,1]"
   ]
  },
  {
   "cell_type": "code",
   "execution_count": null,
   "id": "4cdf94ff",
   "metadata": {},
   "outputs": [],
   "source": [
    "h=hist(allcoeffs,range=[-2,2], bins=100)\n",
    "plot(coeff0,0,'ro')\n",
    "print coeff0"
   ]
  },
  {
   "cell_type": "code",
   "execution_count": null,
   "id": "477c73e5",
   "metadata": {},
   "outputs": [],
   "source": []
  },
  {
   "cell_type": "code",
   "execution_count": null,
   "id": "3a5f18b3",
   "metadata": {},
   "outputs": [],
   "source": []
  },
  {
   "cell_type": "code",
   "execution_count": null,
   "id": "6c20fca6",
   "metadata": {},
   "outputs": [],
   "source": []
  },
  {
   "cell_type": "code",
   "execution_count": null,
   "id": "52ea4400",
   "metadata": {},
   "outputs": [],
   "source": []
  },
  {
   "cell_type": "code",
   "execution_count": null,
   "id": "fcd74163",
   "metadata": {},
   "outputs": [],
   "source": []
  },
  {
   "cell_type": "code",
   "execution_count": null,
   "id": "f18c79ef",
   "metadata": {},
   "outputs": [],
   "source": []
  },
  {
   "cell_type": "code",
   "execution_count": null,
   "id": "b60aca87",
   "metadata": {},
   "outputs": [],
   "source": []
  },
  {
   "cell_type": "code",
   "execution_count": null,
   "id": "bc30fac6",
   "metadata": {},
   "outputs": [],
   "source": []
  },
  {
   "cell_type": "code",
   "execution_count": null,
   "id": "30128731",
   "metadata": {},
   "outputs": [],
   "source": [
    "tes_index = np.arange(256)\n",
    "tes_index[0:128] *= np.nan\n",
    "print tes_index[0:10]\n",
    "print np.nan"
   ]
  },
  {
   "cell_type": "code",
   "execution_count": null,
   "id": "9e30e926",
   "metadata": {},
   "outputs": [],
   "source": [
    "thefringe = fringe.copy()\n",
    "print(thefringe[0,:])\n",
    "profiley = np.nanmedian(thefringe, axis=1)\n",
    "err_profiley = np.nanstd(thefringe, axis=1)/np.sqrt(np.sum(np.isfinite(thefringe),axis=1))\n",
    "profilex = np.nanmedian(thefringe, axis=0)\n",
    "err_profilex = np.nanstd(thefringe, axis=0)/np.sqrt(np.sum(np.isfinite(thefringe),axis=0))\n",
    "errorbar(arange(17),profiley, yerr=err_profiley,fmt='ro-',label='Y')\n",
    "errorbar(arange(17),profilex, yerr=err_profilex,fmt='bo-',label='X')\n",
    "legend()\n",
    "ylim(-10000,10000)"
   ]
  },
  {
   "cell_type": "code",
   "execution_count": null,
   "id": "91990fb9",
   "metadata": {},
   "outputs": [],
   "source": [
    "print(fringe[0,:])\n",
    "profiley = np.nanmedian(fringe, axis=1)\n",
    "err_profiley = np.nanstd(fringe, axis=1)/np.sqrt(np.sum(np.isfinite(fringe),axis=1))\n",
    "profilex = np.nanmedian(fringe, axis=0)\n",
    "err_profilex = np.nanstd(fringe, axis=0)/np.sqrt(np.sum(np.isfinite(fringe),axis=0))\n",
    "errorbar(arange(17),profiley, yerr=err_profiley,fmt='ro-',label='Y')\n",
    "errorbar(arange(17),profilex, yerr=err_profilex,fmt='bo-',label='X')\n",
    "legend()\n",
    "ylim(-10000,10000)"
   ]
  },
  {
   "cell_type": "code",
   "execution_count": null,
   "id": "55774f08",
   "metadata": {},
   "outputs": [],
   "source": []
  },
  {
   "cell_type": "code",
   "execution_count": null,
   "id": "126a15d4",
   "metadata": {},
   "outputs": [],
   "source": []
  },
  {
   "cell_type": "code",
   "execution_count": null,
   "id": "47c61d77",
   "metadata": {},
   "outputs": [],
   "source": []
  },
  {
   "cell_type": "code",
   "execution_count": null,
   "id": "66fdde7b",
   "metadata": {},
   "outputs": [],
   "source": [
    "# Responsivity from max range of 150GHz healpix maps\n",
    "f = open('ASIC-150GHz.txt')\n",
    "li = [ ln.split() for ln in f ]\n",
    "f.close()\n",
    "tableau = np.array(li)\n",
    "Resp = np.array([float(tableau[0,_]) for _ in range(256)])\n",
    "Resp[Resp < 5.5e3] = np.nan\n",
    "maskresp=ft.image_asics(all1=Resp/np.nanmean(Resp))"
   ]
  },
  {
   "cell_type": "code",
   "execution_count": null,
   "id": "bad07015",
   "metadata": {},
   "outputs": [],
   "source": [
    "# Respo from small maps 20190425\n",
    "Resp=pickle.load(open('Resp_Small_Maps_20190425', 'rb'))\n",
    "maskresp=ft.image_asics(all1=Resp/np.nanmean(Resp))"
   ]
  },
  {
   "cell_type": "code",
   "execution_count": null,
   "id": "77499efc",
   "metadata": {},
   "outputs": [],
   "source": [
    "# Resp from maps 20190406\n",
    "Resp=pickle.load(open('Resp_150GHz-2019-04-06', 'rb'))\n",
    "maskresp=ft.image_asics(all1=Resp/np.nanmean(Resp))"
   ]
  },
  {
   "cell_type": "code",
   "execution_count": null,
   "id": "2954fad5",
   "metadata": {},
   "outputs": [],
   "source": [
    "fringen=fringe/maskresp\n",
    "#fringen=fringe/img_norm"
   ]
  },
  {
   "cell_type": "code",
   "execution_count": null,
   "id": "22a7c401",
   "metadata": {},
   "outputs": [],
   "source": [
    "# Mask to remove the 8 ref pixels\n",
    "mask=np.ones_like(fringe)\n",
    "mask[0,12:]=np.nan\n",
    "mask[1:5,16]=np.nan\n",
    "# Mask to remove bad pixels\n",
    "bad1=np.array([1,2,3,29,30,31,32,33,34,35,61,62,63,64,65,66,67,93,94,95,96,97,98,99,125,126,127,128,108,105,116,7,17,47,102,114,28,25])-1\n",
    "bad2=np.array([1,2,3,29,30,31,32,33,34,35,61,62,63,64,65,66,67,93,94,95,96,97,98,99,125,126,127,128,120,122,24,55,123,118,112,114,113,18,28,41,104,102,116,107])+127\n",
    "maskres=np.ones_like(allres)\n",
    "maskres[bad1]=np.nan\n",
    "maskres[bad2]=np.nan\n",
    "mask2=ft.image_asics(all1=maskres)"
   ]
  },
  {
   "cell_type": "code",
   "execution_count": null,
   "id": "a4cf6b5b",
   "metadata": {},
   "outputs": [],
   "source": [
    "imshow(fringen*mask,vmin=-10e3,vmax=10e3,interpolation='gaussian')\n",
    "colorbar()"
   ]
  },
  {
   "cell_type": "code",
   "execution_count": null,
   "id": "6dddde63",
   "metadata": {},
   "outputs": [],
   "source": [
    "plot(np.nanmedian(fringen*mask*mask2,axis=0),label='Med axis 0 norm')\n",
    "plot(np.nanmedian(fringen*mask*mask2,axis=1),label='Med axis 1 norm')\n",
    "grid()\n",
    "legend()"
   ]
  },
  {
   "cell_type": "code",
   "execution_count": null,
   "id": "61f26fef",
   "metadata": {},
   "outputs": [],
   "source": [
    "plot(np.nanmedian(fringe*mask*mask2,axis=0),label='Med axis 0 no norm')\n",
    "plot(np.nanmedian(fringe*mask*mask2,axis=1),label='Med axis 1 no norm')\n",
    "grid()\n",
    "legend()\n",
    "#ylim(-100000,100000)"
   ]
  },
  {
   "cell_type": "code",
   "execution_count": null,
   "id": "a91db7df",
   "metadata": {},
   "outputs": [],
   "source": [
    "# Comparison with fringes at 90°\n",
    "fringe2=pickle.load(open('Fringe_39_53_20190425', 'rb'))"
   ]
  },
  {
   "cell_type": "code",
   "execution_count": null,
   "id": "26a575d6",
   "metadata": {},
   "outputs": [],
   "source": [
    "rcParams[\"image.cmap\"]='jet'\n",
    "imshow((fringe2/fringe)*mask*mask2,vmin=-10,vmax=10)\n",
    "colorbar()"
   ]
  },
  {
   "cell_type": "code",
   "execution_count": null,
   "id": "0ee69de0",
   "metadata": {},
   "outputs": [],
   "source": [
    "maskresp[10,:]"
   ]
  },
  {
   "cell_type": "code",
   "execution_count": null,
   "id": "ca190165",
   "metadata": {},
   "outputs": [],
   "source": [
    "ff=fringen*mask*mask2\n",
    "errorbar(np.arange(17),np.nanmean(ff,axis=0),np.nanstd(ff,axis=0)/np.sqrt(np.sum(ff != np.nan,axis=0)),label='med axis 0')\n",
    "errorbar(np.arange(17),np.nanmean(ff,axis=1),np.nanstd(ff,axis=1)/np.sqrt(np.sum(ff != np.nan,axis=1)),label='med axis 1')\n",
    "legend()\n",
    "ylim(-8000,8000)\n",
    "grid()\n",
    "\n"
   ]
  },
  {
   "cell_type": "code",
   "execution_count": null,
   "id": "fcb15c9b",
   "metadata": {},
   "outputs": [],
   "source": [
    "np.nanstd(ff,axis=0)"
   ]
  },
  {
   "cell_type": "code",
   "execution_count": null,
   "id": "17a466c5",
   "metadata": {},
   "outputs": [],
   "source": [
    "ff[:,2]"
   ]
  },
  {
   "cell_type": "code",
   "execution_count": null,
   "id": "420826b9",
   "metadata": {},
   "outputs": [],
   "source": [
    "# Responsivity from linearity measurements\n",
    "img_norm=pickle.load(open('Linearty_20190419_img_norm', 'rb'))"
   ]
  },
  {
   "cell_type": "code",
   "execution_count": null,
   "id": "5cef78bb",
   "metadata": {},
   "outputs": [],
   "source": [
    "# Comparison\n",
    "imshow(maskresp/img_norm,vmin=0,vmax=2)\n",
    "colorbar()"
   ]
  },
  {
   "cell_type": "code",
   "execution_count": null,
   "id": "5c4c0c77",
   "metadata": {},
   "outputs": [],
   "source": [
    "# T stability\n",
    "plot(a.hk['MMR_HK']['MMR3_CH2_X'])"
   ]
  },
  {
   "cell_type": "code",
   "execution_count": null,
   "id": "e8529981",
   "metadata": {},
   "outputs": [],
   "source": [
    "spectrum_f, freq_f = mlab.psd(a.hk['MMR_HK']['MMR3_CH2_X'], Fs=1., NFFT=len(a.hk['MMR_HK']['MMR3_CH2_X']), \n",
    "                              window=mlab.window_hanning,detrend='mean')\n",
    "plot(freq_f, np.sqrt(spectrum_f))\n",
    "yscale('log')\n",
    "xscale('log')\n",
    "grid()\n",
    "#xlim(0.001, 1)"
   ]
  },
  {
   "cell_type": "code",
   "execution_count": null,
   "id": "8ac84c22",
   "metadata": {},
   "outputs": [],
   "source": [
    "a.max_bias"
   ]
  },
  {
   "cell_type": "code",
   "execution_count": null,
   "id": "4d355902",
   "metadata": {},
   "outputs": [],
   "source": [
    "a.hk['MMR_HK'].keys()"
   ]
  },
  {
   "cell_type": "code",
   "execution_count": null,
   "id": "ee9c5212",
   "metadata": {},
   "outputs": [],
   "source": [
    "tMMR=a.hk['MMR_HK']['ComputerDate']\n",
    "print(tMMR[21]-tMMR[20])\n",
    "plot(np.diff(tMMR))\n",
    "print(np.median(np.diff(tMMR)))"
   ]
  },
  {
   "cell_type": "code",
   "execution_count": null,
   "id": "055e0802",
   "metadata": {},
   "outputs": [],
   "source": [
    "(64.*63/2)/4"
   ]
  },
  {
   "cell_type": "code",
   "execution_count": null,
   "id": "953ebe18",
   "metadata": {},
   "outputs": [],
   "source": []
  }
 ],
 "metadata": {
  "kernelspec": {
   "display_name": "Python [default]",
   "language": "python",
   "name": "python2"
  }
 },
 "nbformat": 4,
 "nbformat_minor": 5
}
