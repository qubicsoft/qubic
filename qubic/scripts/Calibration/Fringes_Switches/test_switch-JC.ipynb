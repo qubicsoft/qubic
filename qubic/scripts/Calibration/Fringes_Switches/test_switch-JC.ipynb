{
 "cells": [
  {
   "cell_type": "code",
   "execution_count": null,
   "id": "84a14762",
   "metadata": {},
   "outputs": [],
   "source": [
    "#%matplotlib notebook\n",
    "%matplotlib inline\n",
    "from matplotlib import rc\n",
    "rc('figure',figsize=(16,8))\n",
    "rc('font',size=12)\n",
    "rc('text',usetex=False)\n",
    "\n",
    "from qubicpack import qubicpack as qp\n",
    "import fibtools as ft\n",
    "import plotters as p\n",
    "import lin_lib as ll\n",
    "import demodulation_lib as dl\n",
    "from qubic.utils import progress_bar\n",
    "\n",
    "import numpy as np\n",
    "from matplotlib.pyplot import *\n",
    "import matplotlib.mlab as mlab\n",
    "import scipy.ndimage.filters as f\n",
    "import glob\n",
    "import string\n",
    "import scipy.signal as scsig\n",
    "from scipy import interpolate"
   ]
  },
  {
   "cell_type": "code",
   "execution_count": null,
   "id": "d26b1a5d",
   "metadata": {},
   "outputs": [],
   "source": [
    "day = '2019-04-01'\n",
    "data_dir = '/qubic/Data/Calib-TD/'+day+'/'\n",
    "dirs = np.sort(glob.glob(data_dir+'*test_sw*'))\n",
    "print (dirs)\n",
    "print (len(dirs))\n",
    "\n",
    "labels = []\n",
    "for d in dirs:\n",
    "    bla = str.split(d,'__')\n",
    "    labels.append(bla[1])\n",
    "print labels\n",
    "\n",
    "thedir = dirs[0]\n",
    "print(thedir)"
   ]
  },
  {
   "cell_type": "markdown",
   "id": "9e60f6bf",
   "metadata": {},
   "source": [
    "## Reading Data for a given asic"
   ]
  },
  {
   "cell_type": "code",
   "execution_count": null,
   "id": "7220f589",
   "metadata": {},
   "outputs": [],
   "source": [
    "AsicNum = 2\n",
    "a = qp()\n",
    "a.read_qubicstudio_dataset(thedir, asic=AsicNum)"
   ]
  },
  {
   "cell_type": "markdown",
   "id": "ccb48c50",
   "metadata": {},
   "source": [
    "## Reading TES Data"
   ]
  },
  {
   "cell_type": "code",
   "execution_count": null,
   "id": "a947d688",
   "metadata": {},
   "outputs": [],
   "source": [
    "TESNum = 44\n",
    "data = a.timeline(TES=TESNum)\n",
    "#data = data[:18000]\n",
    "t_data = a.timeline_timeaxis(axistype='pps')\n",
    "print(len(t_data))\n",
    "plot((data-np.mean(data))/np.std(data), label='Data')\n",
    "\n"
   ]
  },
  {
   "cell_type": "markdown",
   "id": "61ca8a8d",
   "metadata": {},
   "source": [
    "## Let's use the amplitude of the first harmonic in the data as a measure of the signal"
   ]
  },
  {
   "cell_type": "code",
   "execution_count": null,
   "id": "fe70c591",
   "metadata": {},
   "outputs": [],
   "source": [
    "reload(dl)\n",
    "period_sampling = t_data[1] - t_data[0]\n",
    "FREQ_SAMPLING = 1. / (t_data[1] - t_data[0])\n",
    "print('FREQ_SAMPLING = {}'.format(FREQ_SAMPLING))\n",
    "print('Period_SAMPLING = {}'.format(period_sampling))\n",
    "\n",
    "spectrum_f, freq_f = mlab.psd(data, Fs=FREQ_SAMPLING, NFFT=len(data), \n",
    "                              window=mlab.window_hanning)\n",
    "\n",
    "freq_mod = 1.\n",
    "okfit = np.abs(freq_f-freq_mod) < 0.1\n",
    "\n",
    "guess = np.array([freq_mod, 0.01, np.max(spectrum_f[okfit]), np.median(spectrum_f[okfit])])\n",
    "res = ft.do_minuit(freq_f[okfit], spectrum_f[okfit], np.ones(okfit.sum()), guess, \n",
    "                   functname=dl.gauss, fixpars=[1,0,0,0,0], \n",
    "                   nohesse=True,\n",
    "                   force_chi2_ndf=True)\n",
    "\n",
    "# Look at the amplitude of the peak\n",
    "print('Amplitude = {}'.format(res[1][2]))\n",
    "\n",
    "plot(freq_f, spectrum_f,label='Data')\n",
    "plot(freq_f[okfit], dl.gauss(freq_f[okfit], res[1]), \n",
    "     label='Gaussian: amplitude = {0:5.3g}'.format(res[1][2]))\n",
    "plot([freq_mod, freq_mod], [1e6, 1e15], label='Modulation Frequency: {}'.format(freq_mod))\n",
    "yscale('log')\n",
    "xscale('log')\n",
    "xlim(freq_mod-0.2, freq_mod+0.2)\n",
    "ylim(1e4, 1e15)\n",
    "legend()"
   ]
  },
  {
   "cell_type": "markdown",
   "id": "9eb9aade",
   "metadata": {},
   "source": [
    "### Now do the same on both asics and all TES"
   ]
  },
  {
   "cell_type": "code",
   "execution_count": null,
   "id": "2b1fda59",
   "metadata": {},
   "outputs": [],
   "source": [
    "allres = np.zeros((256,4))\n",
    "allerr = np.zeros((256,4))\n",
    "allamp1hz = np.zeros(256)\n",
    "\n",
    "for AsicNum in [1,2]:\n",
    "    a = qp()\n",
    "    a.read_qubicstudio_dataset(thedir, asic=AsicNum)\n",
    "    t_data = a.timeline_timeaxis(axistype='index')\n",
    "    FREQ_SAMPLING = 1. / (t_data[1] - t_data[0])\n",
    "    bar = progress_bar(128, 'ASIC #{}'.format(AsicNum))\n",
    "    for TESNum in np.arange(128)+1:\n",
    "        bar.update()\n",
    "        TESindex = (TESNum-1) + 128 * (AsicNum-1)\n",
    "        thedata = a.timeline(TES=TESNum)\n",
    "        spectrum_f, freq_f = mlab.psd(thedata, Fs=FREQ_SAMPLING, NFFT=len(thedata), \n",
    "                              window=mlab.window_hanning)\n",
    "        freq_mod = 1.\n",
    "        allamp1hz[TESindex] = np.interp(freq_mod, freq_f, spectrum_f)\n",
    "        okfit = np.abs(freq_f-freq_mod) < 0.1\n",
    "        guess = np.array([freq_mod, 0.01, np.max(spectrum_f[okfit]), np.median(spectrum_f[okfit])])\n",
    "        res = ft.do_minuit(freq_f[okfit], spectrum_f[okfit], np.ones(okfit.sum()), guess, \n",
    "                   functname=dl.gauss, fixpars=[1,0,0,0,0], \n",
    "                   nohesse=True, verbose=False,\n",
    "                   force_chi2_ndf=True)\n",
    "        allres[TESindex,:] = res[1]\n",
    "        allerr[TESindex,:] = res[2]\n",
    "        "
   ]
  },
  {
   "cell_type": "code",
   "execution_count": null,
   "id": "8b95cd42",
   "metadata": {},
   "outputs": [],
   "source": [
    "amps = allres[:,2]\n",
    "img = ft.image_asics(all1=amps)\n",
    "mm = np.median(amps)\n",
    "print(mm)\n",
    "ss = np.std(amps)\n",
    "print(ss)\n",
    "imshow(img, vmin = 0, vmax=mm+3*ss)\n",
    "colorbar()"
   ]
  },
  {
   "cell_type": "markdown",
   "id": "544ced64",
   "metadata": {},
   "source": [
    "# Now loop on all files"
   ]
  },
  {
   "cell_type": "code",
   "execution_count": null,
   "id": "ef9f9c7b",
   "metadata": {},
   "outputs": [],
   "source": [
    "allres_tot = np.zeros((len(dirs),256,4))\n",
    "allerr_tot = np.zeros((len(dirs),256,4))\n",
    "allamp_peak = np.zeros((len(dirs), 256))\n",
    "from qubic.utils import progress_bar\n",
    "\n",
    "for idir in xrange(len(dirs)):\n",
    "    thedir = dirs[idir]\n",
    "    for AsicNum in [1,2]:\n",
    "        a = qp()\n",
    "        a.read_qubicstudio_dataset(thedir, asic=AsicNum)\n",
    "        t_data = a.timeline_timeaxis(axistype='index')\n",
    "        FREQ_SAMPLING = 1./(t_data[1]-t_data[0])\n",
    "        bar = progress_bar(128, 'ASIC #{}'.format(AsicNum))\n",
    "        for TESNum in np.arange(128)+1:\n",
    "            bar.update()\n",
    "            TESindex = (TESNum-1)+128*(AsicNum-1)\n",
    "            thedata = a.timeline(TES=TESNum)\n",
    "            spectrum_f, freq_f = mlab.psd(thedata, Fs=FREQ_SAMPLING, NFFT=len(thedata), \n",
    "                                  window=mlab.window_hanning)\n",
    "            freq_mod = 1.\n",
    "            allamp_peak[idir,TESindex] = np.interp(freq_mod, freq_f, spectrum_f)\n",
    "            okfit = np.abs(freq_f-freq_mod) < 0.1\n",
    "            guess = np.array([freq_mod, 0.01, np.max(spectrum_f[okfit]), np.median(spectrum_f[okfit])])\n",
    "            res = ft.do_minuit(freq_f[okfit], spectrum_f[okfit], np.ones(okfit.sum()), guess, \n",
    "                       functname=dl.gauss, fixpars=[1,0,0,0,0], \n",
    "                       nohesse=True, verbose=False,\n",
    "                       force_chi2_ndf=True)\n",
    "            allres_tot[idir, TESindex,:] = res[1]\n",
    "            allerr_tot[idir, TESindex,:] = res[2]"
   ]
  },
  {
   "cell_type": "code",
   "execution_count": null,
   "id": "ba41b632",
   "metadata": {},
   "outputs": [],
   "source": [
    "print('Fini')\n",
    "allres_tot.shape"
   ]
  },
  {
   "cell_type": "markdown",
   "id": "80175952",
   "metadata": {},
   "source": [
    "## Amplitude on the focal plane for each file"
   ]
  },
  {
   "cell_type": "code",
   "execution_count": null,
   "id": "507ec7a2",
   "metadata": {},
   "outputs": [],
   "source": [
    "allamp_peak"
   ]
  },
  {
   "cell_type": "code",
   "execution_count": null,
   "id": "3b74d06a",
   "metadata": {},
   "outputs": [],
   "source": [
    "rc('figure',figsize=(16,12))\n",
    "mm,ss = ft.meancut(allres_tot[:,:,2],3)\n",
    "#mm,ss = ft.meancut(allres_tot,3)\n",
    "allimg = np.zeros((len(dirs), 17, 17))\n",
    "for i in xrange(len(dirs)):\n",
    "    subplot(4,4,i+1)\n",
    "    amps = allres_tot[i,:,2]\n",
    "    #amps = allamp_peak[i,:]\n",
    "    img = ft.image_asics(all1=amps)\n",
    "    allimg[i,:,:] = img\n",
    "    imshow(img, vmin=0, vmax=5*ss)\n",
    "    colorbar()\n",
    "    title(labels[i])\n",
    "tight_layout()"
   ]
  },
  {
   "cell_type": "code",
   "execution_count": null,
   "id": "b58e9a19",
   "metadata": {},
   "outputs": [],
   "source": [
    "rc('figure',figsize=(16,12))\n",
    "mm,ss = ft.meancut(allres_tot[:,:,2],3)\n",
    "#mm,ss = ft.meancut(allamp_peak,3)\n",
    "allimg = np.zeros((len(dirs), 17, 17))\n",
    "for i in xrange(len(dirs)):\n",
    "    amps = allres_tot[i,:,2]\n",
    "    #amps = allamp_peak[i,:]\n",
    "    allimg[i,:,:] = ft.image_asics(all1=amps)\n",
    "\n",
    "iref = 1\n",
    "for i in xrange(len(dirs)):\n",
    "    subplot(4,4,i+1)\n",
    "    imshow(allimg[i,:,:]/allimg[iref,:,:], vmin=0, vmax=2)\n",
    "    colorbar()\n",
    "    title(labels[i])\n",
    "tight_layout()"
   ]
  },
  {
   "cell_type": "code",
   "execution_count": null,
   "id": "b0179a31",
   "metadata": {},
   "outputs": [],
   "source": [
    "amplitudes = allres_tot[:,:,2]\n",
    "\n",
    "#### This is Stot\n",
    "index_tot = 0\n",
    "\n",
    "#### These are C-i, C-j and S-ij\n",
    "index_11_14 = ['11_14', 1, 2, 3]\n",
    "\n",
    "allsets = [index_11_14]\n",
    "\n",
    "allimg = np.zeros((len(allsets), 17, 17))\n",
    "for iset in xrange(len(allsets)):\n",
    "    theset = allsets[iset]\n",
    "    tit = theset[0]\n",
    "    Stot = amplitudes[index_tot, :]\n",
    "    #Stot = Stot / np.median(Stot)\n",
    "    C_i = amplitudes[theset[1], :]\n",
    "    #C_i = C_i / np.median(C_i) * 63./64\n",
    "    C_j = amplitudes[theset[2], :]\n",
    "    #C_j = C_j / np.median(C_j) * 63./64\n",
    "    S_ij = amplitudes[theset[3], :]\n",
    "    #S_ij = S_ij / np.median(S_ij) * 62./64\n",
    "    fringe = Stot + S_ij - C_i - C_j\n",
    "    allimg[iset,:,:] = ft.image_asics(all1=fringe)"
   ]
  },
  {
   "cell_type": "code",
   "execution_count": null,
   "id": "2e3a22f5",
   "metadata": {},
   "outputs": [],
   "source": [
    "rc('figure',figsize=(16,5))\n",
    "mm,ss = ft.meancut(allimg[np.isfinite(allimg)],3)\n",
    "rng = ss\n",
    "figure()\n",
    "for i in xrange(len(allsets)):\n",
    "    #subplot(2,2,i+1)\n",
    "    imshow(allimg[i,:,:], vmin=-rng, vmax=rng)\n",
    "    title(allsets[i][0])\n",
    "    colorbar()\n",
    "\n",
    "tight_layout()"
   ]
  },
  {
   "cell_type": "markdown",
   "id": "b0f9c3ec",
   "metadata": {},
   "source": [
    "## Try to normalize by all open"
   ]
  },
  {
   "cell_type": "code",
   "execution_count": null,
   "id": "fc9c6509",
   "metadata": {},
   "outputs": [],
   "source": [
    "amps_ref = np.abs(allres_tot[0,:,2])\n",
    "#amps_ref = allamp_peak[0,:]\n",
    "img_ref = ft.image_asics(all1=amps_ref)\n",
    "\n",
    "# do lists with amplitudes and images\n",
    "allamps = []\n",
    "allimages = []\n",
    "for i in xrange(len(dirs)):\n",
    "    amps = np.abs(allres_tot[i,:,2])\n",
    "    #amps = allamp_peak[i,:]\n",
    "    allamps.append(amps)\n",
    "    \n",
    "    img = ft.image_asics(all1=amps)\n",
    "    allimages.append(img)\n",
    "    \n",
    "    subplot(1,4,i+1)\n",
    "    imshow(img/img_ref, vmin=0, vmax=2)\n",
    "    title(labels[i])\n",
    "    \n",
    "tight_layout()"
   ]
  },
  {
   "cell_type": "code",
   "execution_count": null,
   "id": "53b3bb69",
   "metadata": {},
   "outputs": [],
   "source": [
    "index_11_14 = ['11_14', 1, 2, 3]\n",
    "\n",
    "allsets = [index_11_14]\n",
    "\n",
    "S_tot = img_ref\n",
    "figure()\n",
    "for i in xrange(len(allsets)):\n",
    "    theset = allsets[i]\n",
    "    C_i = allimages[theset[1]]\n",
    "    C_j = allimages[theset[2]]\n",
    "    S_ij = allimages[theset[3]]\n",
    "    fringe = S_tot + S_ij - C_i - C_j\n",
    "    \n",
    "    #subplot(2,2,i+1)\n",
    "    #imshow(fringe/Stot, vmin=-1, vmax=1)\n",
    "    imshow(fringe,vmin=-1e11,vmax=1e11)\n",
    "    title(theset[0])\n",
    "    colorbar()\n",
    "    "
   ]
  },
  {
   "cell_type": "code",
   "execution_count": null,
   "id": "da6cc48c",
   "metadata": {},
   "outputs": [],
   "source": []
  },
  {
   "cell_type": "code",
   "execution_count": null,
   "id": "cfcdb857",
   "metadata": {},
   "outputs": [],
   "source": []
  }
 ],
 "metadata": {
  "kernelspec": {
   "display_name": "Python [conda env:anaconda]",
   "language": "python",
   "name": "conda-env-anaconda-py"
  }
 },
 "nbformat": 4,
 "nbformat_minor": 5
}
