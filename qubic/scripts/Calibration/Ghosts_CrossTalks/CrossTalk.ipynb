{
 "cells": [
  {
   "cell_type": "code",
   "execution_count": null,
   "id": "f51c3e1c",
   "metadata": {},
   "outputs": [],
   "source": [
    "##### %matplotlib notebook\n",
    "%matplotlib inline\n",
    "from matplotlib import rc\n",
    "rc('figure',figsize=(15,15))\n",
    "rc('font',size=12)\n",
    "rc('text',usetex=False)\n",
    "\n",
    "from qubicpack import qubicpack as qp\n",
    "import fibtools as ft\n",
    "import plotters as p\n",
    "import lin_lib as ll\n",
    "import demodulation_lib as dl\n",
    "import qubic.io\n",
    "\n",
    "from pysimulators import FitsArray\n",
    "\n",
    "import numpy as np\n",
    "from matplotlib.pyplot import *\n",
    "import matplotlib.mlab as mlab\n",
    "import scipy.ndimage.filters as f\n",
    "import glob\n",
    "import string\n",
    "import scipy.signal as scsig\n",
    "from scipy import interpolate\n",
    "import os\n",
    "import healpy as hp\n",
    "import pandas as pd"
   ]
  },
  {
   "cell_type": "code",
   "execution_count": null,
   "id": "af6e79b8",
   "metadata": {},
   "outputs": [],
   "source": [
    "dirfreq = '140GHz-2019-04-10/'\n",
    "dirallfreqs = '/Users/hamilton/Google Drive/QUBIC/Calib-TD/Files/Synthesized Beams/Synthesized_Beams_Files/'\n",
    "dirfiles = dirallfreqs+dirfreq\n",
    "allfiles = glob.glob(dirfiles+'Healpix/*TESNum*.fits')"
   ]
  },
  {
   "cell_type": "code",
   "execution_count": null,
   "id": "a6d871ee",
   "metadata": {},
   "outputs": [],
   "source": [
    "reload(dl)\n",
    "### Get the median image\n",
    "mm, nn = dl.get_lines(arange(32)+1, dirfiles)\n",
    "med = np.median(mm,axis=[0,1])\n",
    "hp.gnomview(med, reso=10)"
   ]
  },
  {
   "cell_type": "code",
   "execution_count": null,
   "id": "7196cd8e",
   "metadata": {},
   "outputs": [],
   "source": [
    "rc('figure',figsize=(15,20))\n",
    "#mm, nn = get_lines(arange(64)+1, dirfiles)\n",
    "mm, nn = get_lines([25,26,27,28], dirfiles)\n",
    "\n",
    "## Remove median image from all\n",
    "sh = np.shape(mm)\n",
    "for i in xrange(sh[0]):\n",
    "    for j in xrange(sh[1]):\n",
    "        mm[i,j,:] -= med\n",
    "        \n",
    "## Show the lines\n",
    "show_lines(mm,nn,min=-1e3,max=1e4)"
   ]
  },
  {
   "cell_type": "code",
   "execution_count": null,
   "id": "b94aab31",
   "metadata": {},
   "outputs": [],
   "source": [
    "okpix = np.prod(mm,axis=(0,1)) != 0\n",
    "mmok = mm[:,:,okpix]\n",
    "\n",
    "\n",
    "rc('figure',figsize=(10,10))\n",
    "\n",
    "subplot(1,2,1)\n",
    "sh = mmok.shape\n",
    "mmall = np.reshape(mmok, (sh[0]*sh[1],sh[2]))\n",
    "bla = np.corrcoef(mmall)\n",
    "matshow(bla)\n",
    "for i in xrange(sh[0]):\n",
    "    plot([-0.5,sh[0]*sh[1]-0.5], [i*4-0.5, i*4-0.5], 'w',lw=1)\n",
    "    plot([i*4-0.5, i*4-0.5], [-0.5,sh[0]*sh[1]-0.5], 'w',lw=1)\n",
    "tt = np.reshape(np.repeat('   ', sh[0]*sh[1]),(sh[0],sh[1]))\n",
    "for k in xrange(sh[0]): tt[k,1]=str(nn[k,0])\n",
    "plt.xticks(range(sh[0]*sh[1]), np.ravel(tt))\n",
    "plt.yticks(range(sh[0]*sh[1]), np.ravel(tt))\n",
    "colorbar()\n",
    "xlabel('Asic Line Number')\n",
    "ylabel('Asic Line Number')\n",
    "\n",
    "subplot(1,2,2)\n",
    "bla = np.cov(mmall)\n",
    "matshow(np.log10(np.abs(bla)),vmin=4,vmax=9)\n",
    "for i in xrange(sh[0]):\n",
    "    plot([-0.5,sh[0]*sh[1]-0.5], [i*4-0.5, i*4-0.5], 'w',lw=1)\n",
    "    plot([i*4-0.5, i*4-0.5], [-0.5,sh[0]*sh[1]-0.5], 'w',lw=1)\n",
    "tt = np.reshape(np.repeat('   ', sh[0]*sh[1]),(sh[0],sh[1]))\n",
    "for k in xrange(sh[0]): tt[k,1]=str(nn[k,0])\n",
    "plt.xticks(range(sh[0]*sh[1]), np.ravel(tt))\n",
    "plt.yticks(range(sh[0]*sh[1]), np.ravel(tt))\n",
    "colorbar()\n",
    "xlabel('Asic Line Number')\n",
    "ylabel('Asic Line Number')\n"
   ]
  },
  {
   "cell_type": "code",
   "execution_count": null,
   "id": "c3307fdc",
   "metadata": {},
   "outputs": [],
   "source": []
  },
  {
   "cell_type": "code",
   "execution_count": null,
   "id": "f7272db4",
   "metadata": {},
   "outputs": [],
   "source": []
  }
 ],
 "metadata": {
  "kernelspec": {
   "display_name": "Python [default]",
   "language": "python",
   "name": "python2"
  }
 },
 "nbformat": 4,
 "nbformat_minor": 5
}
