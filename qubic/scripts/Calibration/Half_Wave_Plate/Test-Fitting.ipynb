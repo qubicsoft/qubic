{
 "cells": [
  {
   "cell_type": "code",
   "execution_count": null,
   "id": "aaf8a59c",
   "metadata": {},
   "outputs": [],
   "source": [
    "%matplotlib inline\n",
    "from matplotlib import rc\n",
    "rc('figure',figsize=(9,4.5))\n",
    "rc('font',size=12)\n",
    "rc('text',usetex=False)\n",
    "\n",
    "from qubicpack.qubicfp import qubicfp\n",
    "import qubic.fibtools as ft\n",
    "import qubic.plotters as p\n",
    "import qubic.lin_lib as ll\n",
    "import qubic.demodulation_lib as dl\n",
    "import satorchipy as stpy\n",
    "from pysimulators import FitsArray\n",
    "\n",
    "import numpy as np\n",
    "from matplotlib.pyplot import *\n",
    "import matplotlib.mlab as mlab\n",
    "import scipy.ndimage.filters as f\n",
    "import glob\n",
    "import string\n",
    "import scipy.signal as scsig\n",
    "from scipy import interpolate\n",
    "import datetime as dt\n",
    "import pickle\n",
    "from importlib import reload\n",
    "import corner\n"
   ]
  },
  {
   "cell_type": "markdown",
   "id": "ea47da89",
   "metadata": {},
   "source": [
    "# Some Data"
   ]
  },
  {
   "cell_type": "code",
   "execution_count": null,
   "id": "0450b930",
   "metadata": {},
   "outputs": [],
   "source": [
    "x = np.arange(10)\n",
    "signoise = np.ones(len(x))*2.5\n",
    "y = 3 * x + 5 + np.random.randn(len(x))*signoise\n",
    "errorbar(x, y, yerr=signoise, fmt='ro')"
   ]
  },
  {
   "cell_type": "markdown",
   "id": "6acb70e9",
   "metadata": {},
   "source": [
    "# Fitting models"
   ]
  },
  {
   "cell_type": "code",
   "execution_count": null,
   "id": "4bd50fc9",
   "metadata": {},
   "outputs": [],
   "source": [
    "def myfct_pars(x, pars, extra_args=None):\n",
    "    return pars[0] + pars[1]*x\n",
    "\n",
    "def myfct_martin(x, a, b, extra_args = None):\n",
    "    return a + b * x"
   ]
  },
  {
   "cell_type": "markdown",
   "id": "1c7f9ad9",
   "metadata": {},
   "source": [
    "# Now do the fit using Martin's way"
   ]
  },
  {
   "cell_type": "code",
   "execution_count": null,
   "id": "a4fe987b",
   "metadata": {},
   "outputs": [],
   "source": [
    "# guess = np.array([0., 1.])\n",
    "# myfit = ft.do_minuit(x, y, signoise, guess, functname=myfct_martin)\n",
    "\n",
    "# errorbar(x, y, yerr=signoise, fmt='ro')\n",
    "# plot(x, myfct_martin(x, *myfit[1]))"
   ]
  },
  {
   "cell_type": "markdown",
   "id": "d22fb6ca",
   "metadata": {},
   "source": [
    "# Now do it the old way"
   ]
  },
  {
   "cell_type": "code",
   "execution_count": null,
   "id": "3d194708",
   "metadata": {},
   "outputs": [],
   "source": [
    "guess = np.array([0., 1.])\n",
    "myfit = ft.do_minuit(x, y, signoise, guess, functname=myfct_pars)\n",
    "\n",
    "errorbar(x, y, yerr=signoise, fmt='ro')\n",
    "plot(x, myfct_pars(x, myfit[1]))"
   ]
  },
  {
   "cell_type": "code",
   "execution_count": null,
   "id": "eb62aa32",
   "metadata": {},
   "outputs": [],
   "source": []
  }
 ],
 "metadata": {
  "kernelspec": {
   "display_name": "Python 3",
   "language": "python",
   "name": "python3"
  }
 },
 "nbformat": 4,
 "nbformat_minor": 5
}
