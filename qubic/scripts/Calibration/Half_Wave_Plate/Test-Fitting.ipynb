{
 "cells": [
  {
   "cell_type": "code",
   "execution_count": null,
   "id": "e80e638a",
   "metadata": {},
   "outputs": [],
   "source": [
    "%matplotlib inline\n",
    "from matplotlib import rc\n",
    "rc('figure',figsize=(9,4.5))\n",
    "rc('font',size=12)\n",
    "rc('text',usetex=False)\n",
    "\n",
    "from qubicpack.qubicfp import qubicfp\n",
    "import qubic.fibtools as ft\n",
    "import qubic.plotters as p\n",
    "import qubic.lin_lib as ll\n",
    "import qubic.demodulation_lib as dl\n",
    "import satorchipy as stpy\n",
    "from pysimulators import FitsArray\n",
    "\n",
    "import numpy as np\n",
    "from matplotlib.pyplot import *\n",
    "import matplotlib.mlab as mlab\n",
    "import scipy.ndimage.filters as f\n",
    "import glob\n",
    "import string\n",
    "import scipy.signal as scsig\n",
    "from scipy import interpolate\n",
    "import datetime as dt\n",
    "import pickle\n",
    "from importlib import reload\n",
    "import corner\n"
   ]
  },
  {
   "cell_type": "markdown",
   "id": "0749d311",
   "metadata": {},
   "source": [
    "# Some Data"
   ]
  },
  {
   "cell_type": "code",
   "execution_count": null,
   "id": "2afe52d3",
   "metadata": {},
   "outputs": [],
   "source": [
    "x = np.arange(10)\n",
    "signoise = np.ones(len(x))*2.5\n",
    "y = 3 * x + 5 + np.random.randn(len(x))*signoise\n",
    "errorbar(x, y, yerr=signoise, fmt='ro')"
   ]
  },
  {
   "cell_type": "markdown",
   "id": "3576e59b",
   "metadata": {},
   "source": [
    "# Fitting models"
   ]
  },
  {
   "cell_type": "code",
   "execution_count": null,
   "id": "464c3ddf",
   "metadata": {},
   "outputs": [],
   "source": [
    "def myfct_pars(x, pars, extra_args=None):\n",
    "    return pars[0] + pars[1]*x\n",
    "\n",
    "def myfct_martin(x, a, b, extra_args = None):\n",
    "    return a + b * x"
   ]
  },
  {
   "cell_type": "markdown",
   "id": "0a78d6e2",
   "metadata": {},
   "source": [
    "# Now do the fit using Martin's way"
   ]
  },
  {
   "cell_type": "code",
   "execution_count": null,
   "id": "143cbfdf",
   "metadata": {},
   "outputs": [],
   "source": [
    "# guess = np.array([0., 1.])\n",
    "# myfit = ft.do_minuit(x, y, signoise, guess, functname=myfct_martin)\n",
    "\n",
    "# errorbar(x, y, yerr=signoise, fmt='ro')\n",
    "# plot(x, myfct_martin(x, *myfit[1]))"
   ]
  },
  {
   "cell_type": "markdown",
   "id": "9e45a353",
   "metadata": {},
   "source": [
    "# Now do it the old way"
   ]
  },
  {
   "cell_type": "code",
   "execution_count": null,
   "id": "52b7cc19",
   "metadata": {},
   "outputs": [],
   "source": [
    "guess = np.array([0., 1.])\n",
    "myfit = ft.do_minuit(x, y, signoise, guess, functname=myfct_pars)\n",
    "\n",
    "errorbar(x, y, yerr=signoise, fmt='ro')\n",
    "plot(x, myfct_pars(x, myfit[1]))"
   ]
  },
  {
   "cell_type": "code",
   "execution_count": null,
   "id": "8813c686",
   "metadata": {},
   "outputs": [],
   "source": []
  }
 ],
 "metadata": {
  "kernelspec": {
   "display_name": "Python 3",
   "language": "python",
   "name": "python3"
  }
 },
 "nbformat": 4,
 "nbformat_minor": 5
}
