{
 "cells": [
  {
   "cell_type": "code",
   "execution_count": null,
   "id": "43daa4bd",
   "metadata": {},
   "outputs": [],
   "source": [
    "# Config notebook\n",
    "from IPython.display import display, HTML\n",
    "display(HTML(\"<style>.container { width:95% !important; }</style>\"))"
   ]
  },
  {
   "cell_type": "markdown",
   "id": "f1f7d006",
   "metadata": {},
   "source": [
    "## Analyze Moon data"
   ]
  },
  {
   "cell_type": "code",
   "execution_count": null,
   "id": "058063eb",
   "metadata": {},
   "outputs": [],
   "source": [
    "#%matplotlib notebook\n",
    "%matplotlib inline\n",
    "from matplotlib import rc\n",
    "rc('figure',figsize=(9,4.5))\n",
    "rc('font',size=12)\n",
    "rc('text',usetex=False)\n",
    "\n",
    "import matplotlib.pyplot as plt\n",
    "from qubicpack.qubicfp import qubicfp\n",
    "import qubic.fibtools as ft\n",
    "import qubic.plotters as p\n",
    "import qubic.lin_lib as ll\n",
    "import qubic.demodulation_lib as dl\n",
    "import satorchipy as stpy\n",
    "from pysimulators import FitsArray\n",
    "\n",
    "import numpy as np\n",
    "from matplotlib.pyplot import *\n",
    "import matplotlib.mlab as mlab\n",
    "import scipy.ndimage.filters as f\n",
    "import glob\n",
    "import string\n",
    "import scipy.signal as scsig\n",
    "from scipy import interpolate\n",
    "import datetime as dt\n",
    "import pickle\n",
    "from importlib import reload"
   ]
  },
  {
   "cell_type": "code",
   "execution_count": null,
   "id": "ac4b3cb8",
   "metadata": {},
   "outputs": [],
   "source": [
    "day = '2022-07-14'\n",
    "keyword = '*MoonScan*'\n",
    "data_dir = '/home/qubic/Calib-TD/'+day+'/'\n",
    "dirs = np.sort(glob.glob(data_dir+keyword))\n",
    "print (dirs)"
   ]
  },
  {
   "cell_type": "code",
   "execution_count": null,
   "id": "73054400",
   "metadata": {},
   "outputs": [],
   "source": [
    "ifile = 0\n",
    "thedir = dirs[ifile]\n",
    "print(thedir)\n",
    "qubic_focplane = qubicfp()\n",
    "qubic_focplane.read_qubicstudio_dataset(thedir)"
   ]
  },
  {
   "cell_type": "code",
   "execution_count": null,
   "id": "b7f92968",
   "metadata": {},
   "outputs": [],
   "source": [
    "ta1 = qubic_focplane.timeaxis(axistype = 'pps', asic = 1)\n",
    "ta2 = qubic_focplane.timeaxis(axistype = 'pps', asic = 2)"
   ]
  },
  {
   "cell_type": "code",
   "execution_count": null,
   "id": "6a1827ae",
   "metadata": {},
   "outputs": [],
   "source": [
    "plt.plot(np.arange(len(ta1)),ta1-ta2, alpha = 0.4)\n",
    "print(\"timeaxis element 0 from (asic 1 - asic 2) differ in {}~ms\".format((ta1[0]-ta2[0])*1000))\n",
    "print(\"timeaxis element -1 from (asic 1 - asic 2) differ in {}~ms\".format((ta1[-1]-ta2[-1])*1000))\n",
    "print(ta1[1:-1]-ta2[1:-1])"
   ]
  },
  {
   "cell_type": "code",
   "execution_count": null,
   "id": "33fb4a4d",
   "metadata": {},
   "outputs": [],
   "source": [
    "qubic_focplane.tod()"
   ]
  },
  {
   "cell_type": "code",
   "execution_count": null,
   "id": "807a11b8",
   "metadata": {},
   "outputs": [],
   "source": []
  }
 ],
 "metadata": {
  "kernelspec": {
   "display_name": "Python 3",
   "language": "python",
   "name": "python3"
  }
 },
 "nbformat": 4,
 "nbformat_minor": 5
}
