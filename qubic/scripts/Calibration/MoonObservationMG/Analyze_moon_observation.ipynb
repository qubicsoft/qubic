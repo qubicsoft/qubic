{
 "cells": [
  {
   "cell_type": "code",
   "execution_count": null,
   "id": "116a3dd7",
   "metadata": {},
   "outputs": [],
   "source": [
    "# Config notebook\n",
    "from IPython.display import display, HTML\n",
    "display(HTML(\"<style>.container { width:95% !important; }</style>\"))"
   ]
  },
  {
   "cell_type": "markdown",
   "id": "46797433",
   "metadata": {},
   "source": [
    "## Analyze Moon data"
   ]
  },
  {
   "cell_type": "code",
   "execution_count": null,
   "id": "8972d706",
   "metadata": {},
   "outputs": [],
   "source": [
    "#%matplotlib notebook\n",
    "%matplotlib inline\n",
    "from matplotlib import rc\n",
    "rc('figure',figsize=(9,4.5))\n",
    "rc('font',size=12)\n",
    "rc('text',usetex=False)\n",
    "\n",
    "import matplotlib.pyplot as plt\n",
    "from qubicpack.qubicfp import qubicfp\n",
    "import qubic.fibtools as ft\n",
    "import qubic.plotters as p\n",
    "import qubic.lin_lib as ll\n",
    "import qubic.demodulation_lib as dl\n",
    "import satorchipy as stpy\n",
    "from pysimulators import FitsArray\n",
    "\n",
    "import numpy as np\n",
    "from matplotlib.pyplot import *\n",
    "import matplotlib.mlab as mlab\n",
    "import scipy.ndimage.filters as f\n",
    "import glob\n",
    "import string\n",
    "import scipy.signal as scsig\n",
    "from scipy import interpolate\n",
    "import datetime as dt\n",
    "import pickle\n",
    "from importlib import reload"
   ]
  },
  {
   "cell_type": "code",
   "execution_count": null,
   "id": "468729cd",
   "metadata": {},
   "outputs": [],
   "source": [
    "day = '2022-07-14'\n",
    "keyword = '*MoonScan*'\n",
    "data_dir = '/home/qubic/Calib-TD/'+day+'/'\n",
    "dirs = np.sort(glob.glob(data_dir+keyword))\n",
    "print (dirs)"
   ]
  },
  {
   "cell_type": "code",
   "execution_count": null,
   "id": "2bf35c58",
   "metadata": {},
   "outputs": [],
   "source": [
    "ifile = 0\n",
    "thedir = dirs[ifile]\n",
    "print(thedir)\n",
    "qubic_focplane = qubicfp()\n",
    "qubic_focplane.read_qubicstudio_dataset(thedir)"
   ]
  },
  {
   "cell_type": "code",
   "execution_count": null,
   "id": "e3431052",
   "metadata": {},
   "outputs": [],
   "source": [
    "ta1 = qubic_focplane.timeaxis(axistype = 'pps', asic = 1)\n",
    "ta2 = qubic_focplane.timeaxis(axistype = 'pps', asic = 2)"
   ]
  },
  {
   "cell_type": "code",
   "execution_count": null,
   "id": "1f733445",
   "metadata": {},
   "outputs": [],
   "source": [
    "plt.plot(np.arange(len(ta1)),ta1-ta2, alpha = 0.4)\n",
    "print(\"timeaxis element 0 from (asic 1 - asic 2) differ in {}~ms\".format((ta1[0]-ta2[0])*1000))\n",
    "print(\"timeaxis element -1 from (asic 1 - asic 2) differ in {}~ms\".format((ta1[-1]-ta2[-1])*1000))\n",
    "print(ta1[1:-1]-ta2[1:-1])"
   ]
  },
  {
   "cell_type": "code",
   "execution_count": null,
   "id": "e2ec78d0",
   "metadata": {},
   "outputs": [],
   "source": [
    "qubic_focplane.tod()"
   ]
  },
  {
   "cell_type": "code",
   "execution_count": null,
   "id": "7f769448",
   "metadata": {},
   "outputs": [],
   "source": []
  }
 ],
 "metadata": {
  "kernelspec": {
   "display_name": "Python 3",
   "language": "python",
   "name": "python3"
  }
 },
 "nbformat": 4,
 "nbformat_minor": 5
}
