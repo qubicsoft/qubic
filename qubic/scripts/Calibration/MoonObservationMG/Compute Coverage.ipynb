{
 "cells": [
  {
   "cell_type": "code",
   "execution_count": null,
   "id": "99f4f6a0",
   "metadata": {},
   "outputs": [],
   "source": [
    "# Config notebook\n",
    "from IPython.display import display, HTML\n",
    "display(HTML(\"<style>.container { width:95% !important; }</style>\"))"
   ]
  },
  {
   "cell_type": "code",
   "execution_count": null,
   "id": "16eb61f2",
   "metadata": {},
   "outputs": [],
   "source": [
    "import numpy as np\n",
    "import matplotlib.pyplot as plt\n",
    "import healpy as hp\n",
    "import seaborn as sns\n",
    "\n",
    "import sys\n",
    "from importlib import reload\n",
    "from astropy.visualization import astropy_mpl_style, quantity_support\n",
    "plt.style.use(astropy_mpl_style)\n",
    "quantity_support()\n",
    "import astropy.units as u\n",
    "from astropy.time import Time\n",
    "from astropy.coordinates import SkyCoord, EarthLocation, AltAz, get_moon, get_sun#, HADec, BaseRADecFrame\n",
    "\n",
    "import qubic"
   ]
  },
  {
   "cell_type": "code",
   "execution_count": null,
   "id": "d15b1451",
   "metadata": {},
   "outputs": [],
   "source": [
    "Salta = EarthLocation(lat=-24.731358*u.deg, lon=-65.409535*u.deg, height=1152*u.m)\n",
    "utcoffset = -3*u.hour  # Eastern Daylight Time\n",
    "door_az = 116.4\n",
    "az_span = 50.\n",
    "el_min = 30.\n",
    "el_max = 50."
   ]
  },
  {
   "cell_type": "code",
   "execution_count": null,
   "id": "e5c8ba95",
   "metadata": {},
   "outputs": [],
   "source": [
    "days = ['2022-07-12']\n",
    "day = '2022-07-12'"
   ]
  },
  {
   "cell_type": "markdown",
   "id": "93285222",
   "metadata": {},
   "source": [
    "Split the observation time in three different blocks to simulate Ken's strategy"
   ]
  },
  {
   "cell_type": "code",
   "execution_count": null,
   "id": "025c437a",
   "metadata": {},
   "outputs": [],
   "source": [
    "#Entire Block \n",
    "start_obs_hour = '00:00:00'\n",
    "date = Time(day+ ' 00:00:00')\n",
    "start_obs_date = day +' '+start_obs_hour\n",
    "delta_time = np.linspace(12,30, 1000)*u.hour\n",
    "time0 = Time(start_obs_date)-utcoffset\n",
    "alltimes = time0 + delta_time\n",
    "local_time_hours = ((Time(start_obs_date) + delta_time).cxcsec - date.cxcsec)/3600\n",
    "### Local coordinates\n",
    "frame_Salta = AltAz(obstime=alltimes, location=Salta)\n",
    "### Moon\n",
    "moon_Salta = get_moon(alltimes)\n",
    "moonaltazs_Salta = moon_Salta.transform_to(frame_Salta)  \n",
    "### Moon\n",
    "sun_Salta = get_sun(alltimes)\n",
    "sunaltazs_Salta = sun_Salta.transform_to(frame_Salta)  \n",
    "delta_el = 20\n",
    "valid = (moonaltazs_Salta.alt.value < (el_max+delta_el)) & \\\n",
    "        (moonaltazs_Salta.alt.value > (el_min-delta_el)) & \\\n",
    "        (moonaltazs_Salta.az.value > 80) & \\\n",
    "        (moonaltazs_Salta.az.value < 145)\n",
    "tstart = np.min(local_time_hours[valid])\n",
    "tstop = np.max(local_time_hours[valid])\n",
    "local_start = str(Time(start_obs_date)+tstart*u.hour)[:16]\n",
    "local_stop = str(Time(start_obs_date)+tstop*u.hour)[:16]\n",
    "UTC_start = str(Time(start_obs_date)-utcoffset+tstart*u.hour)[:16]\n",
    "UTC_stop = str(Time(start_obs_date)-utcoffset+tstop*u.hour)[:16]"
   ]
  },
  {
   "cell_type": "code",
   "execution_count": null,
   "id": "6e40fb2a",
   "metadata": {},
   "outputs": [],
   "source": [
    "sum(valid)/3"
   ]
  },
  {
   "cell_type": "code",
   "execution_count": null,
   "id": "26c7351b",
   "metadata": {},
   "outputs": [],
   "source": [
    "#split the entire block in 3 differents blocks\n",
    "nblocks = 3\n",
    "#block 1\n",
    "valid_block1 = valid[]\n"
   ]
  },
  {
   "cell_type": "code",
   "execution_count": null,
   "id": "90b41030",
   "metadata": {},
   "outputs": [],
   "source": [
    "d = qubic.qubicdict.qubicDict()\n",
    "d.read_from_file('MoonObservation.dict')\n",
    "d['nf_sub'] = 1\n",
    "d['date_obs'] = str(Time(start_obs_date)-utcoffset+tstart*u.hour)\n",
    "d['latitude'] = -24.731377    ### Salta Regional Noroeste\n",
    "d['longitude'] = -65.409546   ### Salta Regional Noroeste\n",
    "d['sampling'] = 1.\n",
    "moon_ra_mean = np.mean(moon_Salta.ra[valid]/u.deg)\n",
    "moon_dec_mean = np.mean(moon_Salta.dec[valid]/u.deg)\n",
    "d['RA_center'] = moon_ra_mean #deg\n",
    "d['DEC_center'] = moon_dec_mean #deg\n",
    "d['duration'] = tstop-tstart # Hours\n",
    "d['angspeed'] = 0.8 #deg/s\n",
    "d['delta_az'] = az_span #deg\n",
    "d['nsweeps_per_elevation'] = 1\n",
    "d['angspeed_psi'] = 0. #deg/s\n",
    "backforthdt = d['delta_az'] / d['angspeed'] * 2\n",
    "print('Scan Duration: ',backforthdt)\n",
    "d['dead_time'] = 0.\n",
    "print('Dead Time = {}'.format(d['dead_time']))"
   ]
  },
  {
   "cell_type": "code",
   "execution_count": null,
   "id": "ab26b98b",
   "metadata": {},
   "outputs": [],
   "source": [
    "n_elevations = 3\n",
    "el_step = 0#np.round((el_max - el_min) / 3 * 100) / 100\n",
    "d['fix_azimuth'] = {'apply':True,'az':116.4,\n",
    "                     'el':40,'el_step':el_step, 'fix_hwp':True, 'fix_pitch':True}\n",
    "print(d['fix_azimuth'])\n",
    "print('call')\n",
    "p = qubic.get_pointing(d)\n",
    "print(p.elevation)\n",
    "\n",
    "el_min_final = np.min(p.elevation)\n",
    "el_max_final = np.max(p.elevation)"
   ]
  },
  {
   "cell_type": "code",
   "execution_count": null,
   "id": "9e1e27e0",
   "metadata": {},
   "outputs": [],
   "source": []
  },
  {
   "cell_type": "code",
   "execution_count": null,
   "id": "e41eabda",
   "metadata": {},
   "outputs": [],
   "source": []
  }
 ],
 "metadata": {
  "kernelspec": {
   "display_name": "Python 3",
   "language": "python",
   "name": "python3"
  }
 },
 "nbformat": 4,
 "nbformat_minor": 5
}
