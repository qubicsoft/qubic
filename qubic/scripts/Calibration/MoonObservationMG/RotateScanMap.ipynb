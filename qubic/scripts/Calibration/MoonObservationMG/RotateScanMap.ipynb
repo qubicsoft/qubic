{
 "cells": [
  {
   "cell_type": "code",
   "execution_count": null,
   "id": "cb469cc4",
   "metadata": {},
   "outputs": [],
   "source": [
    "# Config notebook\n",
    "from IPython.display import display, HTML\n",
    "display(HTML(\"<style>.container { width:95% !important; }</style>\"))"
   ]
  },
  {
   "cell_type": "code",
   "execution_count": null,
   "id": "dc0a3729",
   "metadata": {},
   "outputs": [],
   "source": [
    "from importlib import reload\n",
    "import numpy as np\n",
    "import matplotlib.pyplot as plt\n",
    "import healpy as hp\n",
    "\n",
    "import sys\n",
    "from importlib import reload\n",
    "from astropy.visualization import astropy_mpl_style, quantity_support\n",
    "plt.style.use(astropy_mpl_style)\n",
    "quantity_support()\n",
    "import astropy.units as u\n",
    "from astropy.time import Time\n",
    "from astropy.coordinates import SkyCoord, EarthLocation, AltAz, get_moon, get_sun#, HADec, BaseRADecFrame\n",
    "\n",
    "import qubic\n",
    "from qubicpack.qubicfp import qubicfp\n",
    "import qubic.fibtools as ft\n",
    "import qubic.plotters as p\n",
    "import qubic.lin_lib as ll\n",
    "import qubic.demodulation_lib as dl\n",
    "#import satorchipy as stpy\n",
    "from pysimulators import FitsArray\n",
    "\n",
    "import glob\n",
    "import string\n",
    "import datetime as dt\n",
    "\n",
    "from pyoperators import (\n",
    "    Cartesian2SphericalOperator, Rotation3dOperator,\n",
    "    Spherical2CartesianOperator, rule_manager)\n",
    "from pyoperators.utils import deprecated, isscalarlike\n",
    "from pysimulators import (\n",
    "    CartesianEquatorial2GalacticOperator,\n",
    "    CartesianEquatorial2HorizontalOperator,\n",
    "    CartesianHorizontal2EquatorialOperator,\n",
    "    CartesianGalactic2EquatorialOperator,\n",
    "    SamplingHorizontal,\n",
    "    SphericalEquatorial2GalacticOperator,\n",
    "    SphericalGalactic2EquatorialOperator,\n",
    "    SphericalEquatorial2HorizontalOperator,\n",
    "    SphericalHorizontal2EquatorialOperator)\n"
   ]
  },
  {
   "cell_type": "markdown",
   "id": "c32be90f",
   "metadata": {
    "lines_to_next_cell": 0
   },
   "source": [
    "## First we will understand\n",
    "the different conventions of the coordinate system. We ussually use $\\texttt{HEALPix}$ projection, but we could plot our coordinates using some projection ($\\emph{e.g.} \\texttt{mollweide}$) $\\texttt{matplotlib}$.\n",
    "\n",
    "We have to separate $\\texttt{sky reference}$ (SR) system to the one used by the $\\texttt{projection reference}$ (PR) software.\n",
    "\n",
    "1. SR celestial equatorial (SR-CE)\n",
    "    + (RA, DEC) ([0h-24h], [-90°,90°]) \n",
    "2. SR horizontal (SR-H)\n",
    "    + (a, h) ([0°, 360°], [-90°,90°])\n",
    "\n",
    "And you may want to project such coordinates in $\\texttt{HEALPix}$ ($\\phi, \\theta$) with ([0, $2\\pi$], [0, $\\pi$]) or using mollweide projection of $\\texttt{matplotlib}$ figure ($lon, lat$) with ([-$\\pi$, $\\pi$], [-$\\pi/2$, $\\pi/2$]).\n",
    "\n",
    "* SR-CE to HEALPix\n",
    "\n",
    "    $\\phi = \\alpha * np.pi/12$\n",
    "    \n",
    "    $\\theta$ = ...\n"
   ]
  },
  {
   "cell_type": "code",
   "execution_count": null,
   "id": "02f37d00",
   "metadata": {},
   "outputs": [],
   "source": [
    "Salta = EarthLocation(lat=-24.731358*u.deg, lon=-65.409535*u.deg, height=1152*u.m)\n",
    "utcoffset = -3*u.hour  # Eastern Daylight Time\n",
    "door_az = 115.\n",
    "az_span = 50.\n",
    "el_min = 30.\n",
    "el_max = 50."
   ]
  },
  {
   "cell_type": "code",
   "execution_count": null,
   "id": "e86f4915",
   "metadata": {},
   "outputs": [],
   "source": [
    "days = ['2022-07-12']\n",
    "day = '2022-07-12'"
   ]
  },
  {
   "cell_type": "code",
   "execution_count": null,
   "id": "20c74ef5",
   "metadata": {},
   "outputs": [],
   "source": [
    "start_obs_hour = '00:00:00'\n",
    "date = Time(day+ ' 00:00:00')\n",
    "start_obs_date = day +' '+start_obs_hour\n",
    "delta_time = np.linspace(12,30, 1000)*u.hour\n",
    "time0 = Time(start_obs_date)-utcoffset\n",
    "alltimes = time0 + delta_time\n",
    "local_time_hours = ((Time(start_obs_date) + delta_time).cxcsec - date.cxcsec)/3600\n",
    "### Local coordinates\n",
    "frame_Salta = AltAz(obstime=alltimes, location=Salta)\n",
    "### Moon\n",
    "moon_Salta = get_moon(alltimes)\n",
    "moonaltazs_Salta = moon_Salta.transform_to(frame_Salta)  \n",
    "### Moon\n",
    "sun_Salta = get_sun(alltimes)\n",
    "sunaltazs_Salta = sun_Salta.transform_to(frame_Salta)  \n",
    "delta_el = 20\n",
    "valid = (moonaltazs_Salta.alt.value < (el_max+delta_el)) & \\\n",
    "        (moonaltazs_Salta.alt.value > (el_min-delta_el)) & \\\n",
    "        (moonaltazs_Salta.az.value > 80) & \\\n",
    "        (moonaltazs_Salta.az.value < 145)\n",
    "tstart = np.min(local_time_hours[valid])\n",
    "tstop = np.max(local_time_hours[valid])\n",
    "local_start = str(Time(start_obs_date)+tstart*u.hour)[:16]\n",
    "local_stop = str(Time(start_obs_date)+tstop*u.hour)[:16]\n",
    "UTC_start = str(Time(start_obs_date)-utcoffset+tstart*u.hour)[:16]\n",
    "UTC_stop = str(Time(start_obs_date)-utcoffset+tstop*u.hour)[:16]"
   ]
  },
  {
   "cell_type": "code",
   "execution_count": null,
   "id": "da63d562",
   "metadata": {},
   "outputs": [],
   "source": [
    "d = qubic.qubicdict.qubicDict()\n",
    "d.read_from_file('MoonObservation.dict')\n",
    "d['nf_sub'] = 1\n",
    "d['date_obs'] = str(Time(start_obs_date)-utcoffset+tstart*u.hour)\n",
    "d['latitude'] = -24.731377    ### Salta Regional Noroeste\n",
    "d['longitude'] = -65.409546   ### Salta Regional Noroeste\n",
    "d['sampling'] = 1.\n",
    "moon_ra_mean = np.mean(moon_Salta.ra[valid]/u.deg)\n",
    "moon_dec_mean = np.mean(moon_Salta.dec[valid]/u.deg)\n",
    "d['RA_center'] = moon_ra_mean #deg\n",
    "d['DEC_center'] = moon_dec_mean #deg\n",
    "d['duration'] = tstop-tstart # Hours\n",
    "d['angspeed'] = 0.8 #deg/s\n",
    "d['delta_az'] = az_span #deg\n",
    "d['nsweeps_per_elevation'] = 1\n",
    "d['angspeed_psi'] = 0. #deg/s\n",
    "backforthdt = d['delta_az'] / d['angspeed'] * 2\n",
    "print('Scan Duration: ',backforthdt)\n",
    "d['dead_time'] = 0.\n",
    "print('Dead Time = {}'.format(d['dead_time']))\n",
    "print('Sampling strategy, sweep?: {}, rand? {}, repeat? {}'.format(d['sweeping_pointing'],\n",
    "                                                                  d['random_pointing'],\n",
    "                                                                  d['repeat_pointing']))\n"
   ]
  },
  {
   "cell_type": "code",
   "execution_count": null,
   "id": "89d370ab",
   "metadata": {},
   "outputs": [],
   "source": [
    "el_min = 30.\n",
    "el_max = 50.\n",
    "n_elevations = int(d['duration']*3600/(backforthdt+d['dead_time']))+1\n",
    "el_step = np.round((el_max - el_min) / n_elevations * 100) / 100\n",
    "d['fix_azimuth'] = {'apply':True,'az':116.4,\n",
    "                     'el':40,'el_step':el_step, 'fix_hwp':True, 'fix_pitch':True}\n",
    "print(d['fix_azimuth'])\n",
    "print('call')\n",
    "p = qubic.get_pointing(d)\n",
    "print(p.elevation)\n",
    "\n",
    "el_min_final = np.min(p.elevation)\n",
    "el_max_final = np.max(p.elevation)"
   ]
  },
  {
   "cell_type": "code",
   "execution_count": null,
   "id": "da7c078d",
   "metadata": {},
   "outputs": [],
   "source": [
    "#d['RA_center'], d['DEC_center'] = 60,45#qubic.gal2equ(60, -45)\n",
    "s = qubic.QubicScene(d)\n",
    "    \n",
    "q = qubic.QubicInstrument(d)\n",
    "#q = qubic.QubicMultibandInstrument(d)\n",
    "atod = qubic.QubicAcquisition(q, p, s, d)\n"
   ]
  },
  {
   "cell_type": "code",
   "execution_count": null,
   "id": "cc0b8584",
   "metadata": {},
   "outputs": [],
   "source": [
    "d1 = d.copy()\n",
    "d1['sweeping_pointing'] = False\n",
    "d1['repeat_pointing'] = True\n",
    "d1['npointings'] = 9000\n",
    "p1 = qubic.get_pointing(d1)\n",
    "s1 = qubic.QubicScene(d1)    \n",
    "q1 = qubic.QubicInstrument(d1)\n",
    "#q = qubic.QubicMultibandInstrument(d)\n",
    "atod1 = qubic.QubicAcquisition(q1, p1, s1, d1)\n",
    "cov1 = atod1.get_coverage()"
   ]
  },
  {
   "cell_type": "code",
   "execution_count": null,
   "id": "02ef63c2",
   "metadata": {},
   "outputs": [],
   "source": [
    "cov = atod.get_coverage()"
   ]
  },
  {
   "cell_type": "code",
   "execution_count": null,
   "id": "7d6b4d56",
   "metadata": {},
   "outputs": [],
   "source": [
    "# quiero ver qué coordenadas de salida tiene usa el mapa healix en cada estrategia de apuntamiento\n",
    "# Get the indexes of healpy map of the coverage map of sweeping\n",
    "covmask = cov > 0\n",
    "covindex = np.arange(0,12*256**2)[covmask] \n",
    "angscov = np.radians(np.array(hp.pix2ang(d['nside'], covindex, lonlat = True))) #theta, phi\n",
    "# Same for repeat strategy\n",
    "covmask1 = cov1 > 0\n",
    "covindex1 = np.arange(0,12*256**2)[covmask1] \n",
    "angscov1 = np.radians(np.array(hp.pix2ang(d['nside'], covindex1, lonlat = True))) #theta, phi"
   ]
  },
  {
   "cell_type": "code",
   "execution_count": null,
   "id": "5bd8dc2f",
   "metadata": {},
   "outputs": [],
   "source": [
    "print(\"center COV (sweep) in (lon, lat) = \", np.degrees(np.mean(angscov[0][:])), np.degrees(np.mean(angscov[1][:])))\n",
    "print(\"center az,el coord input in (az, el)=\", d['fix_azimuth']['az'], d['fix_azimuth']['el'])"
   ]
  },
  {
   "cell_type": "markdown",
   "id": "c357a083",
   "metadata": {},
   "source": [
    "#### The mean values of the coverage map in $(lon,lat)$ coord (HEALPix) are almost the $(az,el)_{\\rm center}$ values\n",
    "--> __the coordinates of the coverage map in sweeping pointing is in horizontal coordinates__!!"
   ]
  },
  {
   "cell_type": "markdown",
   "id": "be0ef3b9",
   "metadata": {},
   "source": [
    "### Before rotation we check that coverage map of the random pointing is in another coordinates (equatorial)"
   ]
  },
  {
   "cell_type": "code",
   "execution_count": null,
   "id": "f9043697",
   "metadata": {},
   "outputs": [],
   "source": [
    "plt.figure(figsize= (12,4))\n",
    "plt.subplot(121)\n",
    "# convert to 1st and 4th quadrant the coordinates\n",
    "fourth = angscov1[0][:] > np.pi\n",
    "angscov1[0][fourth] = angscov1[0][fourth]-2*np.pi \n",
    "plt.scatter(angscov[0][:]-np.pi, angscov[1][:], label = 'sweep')\n",
    "plt.scatter(angscov1[0][:], angscov1[1][:], label = 'repeat')\n",
    "plt.xlabel(r'$long$')\n",
    "plt.ylabel(r'$lat$')\n",
    "plt.legend()\n",
    "plt.subplot(122)\n",
    "plt.plot(cov, label = 'sweep')\n",
    "plt.plot(cov1, label = 'repeat')\n",
    "plt.xlabel('index hp')\n",
    "plt.ylabel('coverage')\n",
    "plt.legend()"
   ]
  },
  {
   "cell_type": "code",
   "execution_count": null,
   "id": "40fe6af9",
   "metadata": {},
   "outputs": [],
   "source": [
    "plt.figure(figsize = (14,6))\n",
    "hp.mollview(cov, sub = 121, cmap = 'Reds', title = 'COV sweep - Hor coords')\n",
    "hp.projscatter(np.pi/2-np.mean(angscov[1][:]), np.mean(angscov[0][:]),\n",
    "           color = 'w', marker = '+')\n",
    "hp.projtext(np.pi/2-np.mean(angscov[1][:])+0.2, np.mean(angscov[0][:])+0.9, \n",
    "            'mean coords from masked coverage map')\n",
    "hp.mollview(cov1, sub = 122, cmap = 'Blues', title = 'COV repeat - Eq coords')\n",
    "hp.graticule(dmer = 30)\n",
    "\n"
   ]
  },
  {
   "cell_type": "markdown",
   "id": "c03d6bdd",
   "metadata": {},
   "source": [
    "Lets plot it in mollweide projection using matplotlib"
   ]
  },
  {
   "cell_type": "code",
   "execution_count": null,
   "id": "91bef9ff",
   "metadata": {},
   "outputs": [],
   "source": [
    "plt.figure(figsize = (12,8))\n",
    "plt.subplot(111, projection = 'mollweide')\n",
    "plt.plot(angscov[0][:]-np.pi, angscov[1][:], label = 'sweep cov in H', alpha = 0.6, color = 'm')\n",
    "plt.scatter(np.mean(angscov[0][:]-np.pi), np.mean(angscov[1][:]),\n",
    "           color = 'k', marker = '+', s = 70, label = 'mean coords masked cov ')\n",
    "plt.plot(angscov1[0][:], angscov1[1][:],label = 'repeat -- cov in G', color = 'b', alpha = 0.6)\n",
    "plt.scatter(np.radians(qubic.equ2gal(d['RA_center'], d['DEC_center'])[0]), \n",
    "            np.radians(qubic.equ2gal(d['RA_center'], d['DEC_center'])[1]), \n",
    "            color = 'brown', marker = '*', s = 70, label = 'dict(RA,DEC) -> gal')\n",
    "plt.legend()"
   ]
  },
  {
   "cell_type": "markdown",
   "id": "637defc0",
   "metadata": {},
   "source": [
    "Rotate horizontal coordinates to equatorial"
   ]
  },
  {
   "cell_type": "code",
   "execution_count": null,
   "id": "96de23ff",
   "metadata": {},
   "outputs": [],
   "source": [
    "print(\"Center Random pointing in GalacticCoordinates\", qubic.equ2gal(d['RA_center'], d['DEC_center']))\n",
    "print(\"Center Sweep pointing in Horizontal coordinates\", )"
   ]
  },
  {
   "cell_type": "code",
   "execution_count": null,
   "id": "6c2a0993",
   "metadata": {},
   "outputs": [],
   "source": [
    "# Check start observation date and time\n",
    "print(d['date_obs'])"
   ]
  },
  {
   "cell_type": "markdown",
   "id": "766d6e9a",
   "metadata": {},
   "source": [
    "Rotate sweeping pointing to (RA, DEC) coordinates using $\\texttt{date_obs}$ and $\\texttt{p.time}$ using $\\texttt{qubicsoft.hor2equ}$"
   ]
  },
  {
   "cell_type": "code",
   "execution_count": null,
   "id": "98928b4c",
   "metadata": {},
   "outputs": [],
   "source": [
    "lentime = len(p.time)\n",
    "racoord, decoord = np.zeros((lentime,)), np.zeros((lentime,))\n",
    "for i in range(lentime):\n",
    "    racoord[i], decoord[i] = qubic.hor2equ(p.azimuth[i], p.elevation[i], p.time[i], d['date_obs'] )"
   ]
  },
  {
   "cell_type": "code",
   "execution_count": null,
   "id": "c505344d",
   "metadata": {},
   "outputs": [],
   "source": [
    "plt.plot(racoord*24/360, decoord)"
   ]
  },
  {
   "cell_type": "code",
   "execution_count": null,
   "id": "80929b53",
   "metadata": {},
   "outputs": [],
   "source": [
    "plt.figure(figsize = (12,8))\n",
    "plt.subplot(111, projection = 'mollweide')\n",
    "plt.plot(np.radians(racoord-180), np.radians(decoord), label = r'($\\alpha, \\delta$) using qubic.get_sampling', alpha = 0.6, color = 'm')\n",
    "plt.plot(np.radians(float(d['RA_center'])), np.radians(float(d['DEC_center'])), color = 'r', marker = '*')\n",
    "plt.legend()"
   ]
  },
  {
   "cell_type": "markdown",
   "id": "33a8ebbe",
   "metadata": {},
   "source": [
    "Now read the data from housekeeping data"
   ]
  },
  {
   "cell_type": "markdown",
   "id": "4121dafe",
   "metadata": {},
   "source": [
    "# 2022-07-12 scan\n",
    "1) Team: F. Rodriguez, M. Platino, E. Batistelli, M. Piat, G. Ramos, M. Régnier, S. Torchinsky\n",
    "\n",
    "2) Tasks:\n",
    "2.1) The moon scanning script was tested today starting at 17:30 local time. The script used is the StartMoonScan that runs at a preset given time and stores data of the complete scan. The scan was completed at 22:01.\n",
    "\n",
    "2.2) Before scanning the offset optimizaion script (before starting FLL regulations) and the FLL optimization script (after starting FLL regulations) was performed before the scan.\n",
    "\n",
    "2.3) Azimuth limits of the sweep were set to +15ª / -35°\n",
    "\n",
    "3) Materials used: QUBIC Studio\n",
    "\n",
    "4) Suppliers of the materials: APC\n",
    "\n",
    "5) Problems encountered: The cooldown was delayed by 1 hour to fit the scanning schedule. \n",
    "\n",
    "6) Reference to procedures followed: ATRIUM-425478 \"AT-8 Acquisition chain setup\""
   ]
  },
  {
   "cell_type": "code",
   "execution_count": null,
   "id": "0cd0045b",
   "metadata": {},
   "outputs": [],
   "source": [
    "day = '2022-07-12'\n",
    "keyword = '*MoonScan*'\n",
    "data_dir = '/home/mgamboa/qubic/QUBIC/qubiccalibration/Data/'+day+'/'\n",
    "dirs = np.sort(glob.glob(data_dir+keyword))\n",
    "\n",
    "print (dirs)"
   ]
  },
  {
   "cell_type": "code",
   "execution_count": null,
   "id": "76f9f648",
   "metadata": {},
   "outputs": [],
   "source": [
    "ifile = 0\n",
    "thedir = dirs[ifile]\n",
    "print(thedir)\n",
    "qubicFp = qubicfp()\n",
    "qubicFp.read_qubicstudio_dataset(thedir)"
   ]
  },
  {
   "cell_type": "code",
   "execution_count": null,
   "id": "4fbc4fb2",
   "metadata": {},
   "outputs": [],
   "source": [
    "#Check plot in az el\n",
    "plt.figure(figsize = (12,8))\n",
    "time_azel = qubicFp.timeaxis(datatype='hk',axistype='pps')\n",
    "az = qubicFp.azimuth()\n",
    "el = qubicFp.elevation()\n",
    "t0 = time_azel[0]\n",
    "\n",
    "plt.subplot(2,2,1)\n",
    "plt.plot((time_azel-t0)/3600, az,',')\n",
    "plt.xlabel('Time [h]')\n",
    "plt.ylabel('Az')\n",
    "plt.plot((time_azel-t0)/3600, el,',')\n",
    "plt.xlabel('Time [h]')\n",
    "plt.ylabel('El')\n",
    "plt.ylim(30,70)\n",
    "\n",
    "plt.subplot(2,2,3)\n",
    "plt.plot(az*np.cos(np.radians(el)), el,',')\n",
    "plt.xlabel('Az')\n",
    "plt.ylabel('El')"
   ]
  },
  {
   "cell_type": "code",
   "execution_count": null,
   "id": "fa7f18e4",
   "metadata": {},
   "outputs": [],
   "source": [
    "plt.figure(figsize = (12,6))\n",
    "plt.subplot(121)\n",
    "plt.plot(time_azel-t0, el)\n",
    "plt.subplot(122)\n",
    "plt.plot(p.time, p.elevation)"
   ]
  },
  {
   "cell_type": "markdown",
   "id": "4878823f",
   "metadata": {},
   "source": [
    "## Rotate to equatorial coordinate real data"
   ]
  },
  {
   "cell_type": "code",
   "execution_count": null,
   "id": "c911409b",
   "metadata": {},
   "outputs": [],
   "source": [
    "#check lengths\n",
    "print(len(az)//10, len(el)//10, len(time_azel))"
   ]
  },
  {
   "cell_type": "code",
   "execution_count": null,
   "id": "30c1cd93",
   "metadata": {},
   "outputs": [],
   "source": [
    "lentime_data = len(time_azel)\n",
    "racoord_data, decoord_data = np.zeros((lentime_data,)), np.zeros((lentime_data,))\n",
    "for i,j in enumerate(range(0,lentime)):\n",
    "    racoord_data[i], decoord_data[i] = qubic.hor2equ(az[i]+115.5, el[i], time_azel[i]-t0, d['date_obs'] )"
   ]
  },
  {
   "cell_type": "markdown",
   "id": "96e3a29a",
   "metadata": {},
   "source": [
    "No matter the reference system you are using, you have to substract 180° in RA coordinate to plot it in mollweide projection (matplotlib) because mollweide project between ()"
   ]
  },
  {
   "cell_type": "code",
   "execution_count": null,
   "id": "de7c279c",
   "metadata": {},
   "outputs": [],
   "source": [
    "racoord_data_copy = np.copy(racoord_data)\n",
    "decoord_data_copy = np.copy(decoord_data)"
   ]
  },
  {
   "cell_type": "code",
   "execution_count": null,
   "id": "0d14aa09",
   "metadata": {},
   "outputs": [],
   "source": [
    "# Convert RA coordinate from 3rd and 4th quadrant (angles between 180 and 360) \n",
    "#to negative values to plot with mollweide projection from matplotlib(-180 - 0)\n",
    "racoord_data_copy = racoord_data_copy - 360"
   ]
  },
  {
   "cell_type": "code",
   "execution_count": null,
   "id": "437ed9ae",
   "metadata": {},
   "outputs": [],
   "source": [
    "moon_RA, moon_DEC = np.array([278.57813183, 278.59096645, 278.60380113, 278.61663587,\n",
    "            278.62947066, 278.64230551, 278.65514041, 278.66797537,\n",
    "            278.68081039, 278.69364546, 278.70648058, 278.71931576,\n",
    "            278.73215099, 278.74498628, 278.75782162, 278.77065701,\n",
    "            278.78349245, 278.79632795, 278.80916349, 278.82199909,\n",
    "            278.83483474, 278.84767044, 278.86050619, 278.87334198,\n",
    "            278.88617783, 278.89901373, 278.91184968, 278.92468567,\n",
    "            278.93752171, 278.9503578 , 278.96319394, 278.97603012,\n",
    "            278.98886636, 279.00170263, 279.01453896, 279.02737533,\n",
    "            279.04021174, 279.0530482 , 279.0658847 , 279.07872125,\n",
    "            279.09155784, 279.10439448, 279.11723116, 279.13006788,\n",
    "            279.14290464, 279.15574145, 279.1685783 , 279.18141519,\n",
    "            279.19425212, 279.20708909, 279.2199261 , 279.23276315,\n",
    "            279.24560024, 279.25843737, 279.27127454, 279.28411175,\n",
    "            279.296949  , 279.30978628, 279.32262361, 279.33546097,\n",
    "            279.34829836, 279.3611358 , 279.37397326, 279.38681077,\n",
    "            279.39964831, 279.41248589, 279.4253235 , 279.43816114,\n",
    "            279.45099882, 279.46383654, 279.47667428, 279.48951206,\n",
    "            279.50234988, 279.51518772, 279.5280256 , 279.54086351,\n",
    "            279.55370145, 279.56653942, 279.57937742, 279.59221545,\n",
    "            279.60505351, 279.6178916 , 279.63072973, 279.64356788,\n",
    "            279.65640605, 279.66924426, 279.6820825 , 279.69492076,\n",
    "            279.70775905, 279.72059736, 279.73343571, 279.74627408,\n",
    "            279.75911247, 279.77195089, 279.78478934, 279.7976278 ,\n",
    "            279.8104663 , 279.82330482, 279.83614336, 279.84898192,\n",
    "            279.86182051, 279.87465912, 279.88749776, 279.90033641,\n",
    "            279.91317509, 279.92601379, 279.93885251, 279.95169125,\n",
    "            279.96453001, 279.97736879, 279.99020759, 280.00304641,\n",
    "            280.01588524, 280.0287241 , 280.04156297, 280.05440186,\n",
    "            280.06724077, 280.0800797 , 280.09291864, 280.1057576 ,\n",
    "            280.11859658, 280.13143557, 280.14427458, 280.1571136 ,\n",
    "            280.16995263, 280.18279169, 280.19563075, 280.20846983,\n",
    "            280.22130892, 280.23414803, 280.24698714, 280.25982627,\n",
    "            280.27266541, 280.28550457, 280.29834373, 280.3111829 ,\n",
    "            280.32402209, 280.33686128, 280.34970049, 280.3625397 ,\n",
    "            280.37537893, 280.38821816, 280.4010574 , 280.41389665,\n",
    "            280.42673591, 280.43957517, 280.45241444, 280.46525372,\n",
    "            280.478093  , 280.49093229, 280.50377159, 280.51661089,\n",
    "            280.52945019, 280.5422895 , 280.55512882, 280.56796814,\n",
    "            280.58080746, 280.59364678, 280.60648611, 280.61932544,\n",
    "            280.63216477, 280.64500411, 280.65784344, 280.67068278,\n",
    "            280.68352212, 280.69636146, 280.70920079, 280.72204013,\n",
    "            280.73487947, 280.7477188 , 280.76055814, 280.77339747,\n",
    "            280.7862368 , 280.79907613, 280.81191546, 280.82475478,\n",
    "            280.8375941 , 280.85043341, 280.86327273, 280.87611203,\n",
    "            280.88895133, 280.90179063, 280.91462992, 280.92746921,\n",
    "            280.94030849, 280.95314776, 280.96598703, 280.97882628,\n",
    "            280.99166553, 281.00450478, 281.01734401, 281.03018324,\n",
    "            281.04302245, 281.05586166, 281.06870086, 281.08154005,\n",
    "            281.09437923, 281.10721839, 281.12005755, 281.13289669,\n",
    "            281.14573582, 281.15857495, 281.17141405, 281.18425315,\n",
    "            281.19709223, 281.2099313 , 281.22277035, 281.23560939,\n",
    "            281.24844842, 281.26128743, 281.27412642, 281.2869654 ,\n",
    "            281.29980437, 281.31264332, 281.32548225, 281.33832116,\n",
    "            281.35116006, 281.36399894, 281.3768378 , 281.38967664,\n",
    "            281.40251546, 281.41535427, 281.42819305, 281.44103182,\n",
    "            281.45387056, 281.46670929, 281.47954799, 281.49238667,\n",
    "            281.50522534, 281.51806398, 281.53090259, 281.54374119,\n",
    "            281.55657976, 281.56941831, 281.58225683, 281.59509533,\n",
    "            281.60793381, 281.62077226, 281.63361069, 281.64644909,\n",
    "            281.65928747, 281.67212582, 281.68496414, 281.69780244,\n",
    "            281.71064071, 281.72347895, 281.73631716, 281.74915535,\n",
    "            281.76199351, 281.77483164, 281.78766974, 281.80050781,\n",
    "            281.81334585, 281.82618386, 281.83902184, 281.85185979,\n",
    "            281.8646977 , 281.87753559, 281.89037344, 281.90321127,\n",
    "            281.91604906, 281.92888681, 281.94172453, 281.95456222]) - 360, np.array([-26.93543675, -26.93544409, -26.93545028, -26.93545529,\n",
    "            -26.93545915, -26.93546184, -26.93546337, -26.93546373,\n",
    "            -26.93546293, -26.93546097, -26.93545785, -26.93545356,\n",
    "            -26.93544811, -26.93544149, -26.93543371, -26.93542477,\n",
    "            -26.93541467, -26.9354034 , -26.93539097, -26.93537738,\n",
    "            -26.93536262, -26.9353467 , -26.93532961, -26.93531136,\n",
    "            -26.93529195, -26.93527138, -26.93524964, -26.93522674,\n",
    "            -26.93520267, -26.93517744, -26.93515105, -26.93512349,\n",
    "            -26.93509478, -26.93506489, -26.93503385, -26.93500164,\n",
    "            -26.93496826, -26.93493373, -26.93489802, -26.93486116,\n",
    "            -26.93482313, -26.93478394, -26.93474358, -26.93470207,\n",
    "            -26.93465938, -26.93461554, -26.93457053, -26.93452435,\n",
    "            -26.93447702, -26.93442851, -26.93437885, -26.93432802,\n",
    "            -26.93427603, -26.93422287, -26.93416855, -26.93411307,\n",
    "            -26.93405642, -26.93399861, -26.93393964, -26.9338795 ,\n",
    "            -26.93381819, -26.93375573, -26.9336921 , -26.9336273 ,\n",
    "            -26.93356135, -26.93349422, -26.93342594, -26.93335649,\n",
    "            -26.93328588, -26.9332141 , -26.93314116, -26.93306705,\n",
    "            -26.93299178, -26.93291535, -26.93283775, -26.93275899,\n",
    "            -26.93267907, -26.93259798, -26.93251572, -26.93243231,\n",
    "            -26.93234773, -26.93226198, -26.93217507, -26.932087  ,\n",
    "            -26.93199776, -26.93190736, -26.9318158 , -26.93172307,\n",
    "            -26.93162918, -26.93153412, -26.9314379 , -26.93134051,\n",
    "            -26.93124196, -26.93114225, -26.93104137, -26.93093933,\n",
    "            -26.93083613, -26.93073176, -26.93062622, -26.93051953,\n",
    "            -26.93041166, -26.93030264, -26.93019245, -26.93008109,\n",
    "            -26.92996858, -26.92985489, -26.92974005, -26.92962404,\n",
    "            -26.92950686, -26.92938852, -26.92926902, -26.92914835,\n",
    "            -26.92902652, -26.92890353, -26.92877937, -26.92865404,\n",
    "            -26.92852756, -26.9283999 , -26.92827109, -26.92814111,\n",
    "            -26.92800996, -26.92787766, -26.92774418, -26.92760955,\n",
    "            -26.92747374, -26.92733678, -26.92719865, -26.92705936,\n",
    "            -26.9269189 , -26.92677728, -26.92663449, -26.92649054,\n",
    "            -26.92634543, -26.92619915, -26.9260517 , -26.9259031 ,\n",
    "            -26.92575333, -26.92560239, -26.92545029, -26.92529703,\n",
    "            -26.9251426 , -26.92498701, -26.92483025, -26.92467233,\n",
    "            -26.92451325, -26.924353  , -26.92419158, -26.92402901,\n",
    "            -26.92386527, -26.92370036, -26.92353429, -26.92336706,\n",
    "            -26.92319866, -26.9230291 , -26.92285837, -26.92268648,\n",
    "            -26.92251342, -26.92233921, -26.92216382, -26.92198727,\n",
    "            -26.92180956, -26.92163069, -26.92145065, -26.92126944,\n",
    "            -26.92108708, -26.92090354, -26.92071885, -26.92053299,\n",
    "            -26.92034596, -26.92015777, -26.91996842, -26.9197779 ,\n",
    "            -26.91958622, -26.91939338, -26.91919937, -26.91900419,\n",
    "            -26.91880786, -26.91861035, -26.91841169, -26.91821186,\n",
    "            -26.91801086, -26.91780871, -26.91760538, -26.9174009 ,\n",
    "            -26.91719525, -26.91698843, -26.91678045, -26.91657131,\n",
    "            -26.916361  , -26.91614953, -26.9159369 , -26.9157231 ,\n",
    "            -26.91550814, -26.91529201, -26.91507472, -26.91485626,\n",
    "            -26.91463665, -26.91441586, -26.91419392, -26.9139708 ,\n",
    "            -26.91374653, -26.91352109, -26.91329449, -26.91306672,\n",
    "            -26.91283779, -26.9126077 , -26.91237644, -26.91214401,\n",
    "            -26.91191043, -26.91167568, -26.91143976, -26.91120269,\n",
    "            -26.91096444, -26.91072504, -26.91048447, -26.91024273,\n",
    "            -26.90999984, -26.90975577, -26.90951055, -26.90926416,\n",
    "            -26.90901661, -26.90876789, -26.90851801, -26.90826697,\n",
    "            -26.90801476, -26.90776139, -26.90750685, -26.90725115,\n",
    "            -26.90699429, -26.90673626, -26.90647707, -26.90621671,\n",
    "            -26.9059552 , -26.90569251, -26.90542867, -26.90516366,\n",
    "            -26.90489749, -26.90463015, -26.90436165, -26.90409199,\n",
    "            -26.90382116, -26.90354917, -26.90327601, -26.9030017 ,\n",
    "            -26.90272621, -26.90244957, -26.90217176, -26.90189279,\n",
    "            -26.90161265, -26.90133135, -26.90104889, -26.90076526,\n",
    "            -26.90048047, -26.90019452, -26.8999074 , -26.89961912,\n",
    "            -26.89932968, -26.89903907, -26.8987473 , -26.89845437,\n",
    "            -26.89816027, -26.89786501, -26.89756858, -26.897271  ])"
   ]
  },
  {
   "cell_type": "code",
   "execution_count": null,
   "id": "805ca6a8",
   "metadata": {},
   "outputs": [],
   "source": [
    "fig = plt.figure(figsize = (12,6), facecolor = 'white')\n",
    "ax = fig.add_subplot(111, projection = 'mollweide')\n",
    "ax.set_title('FOV equatorial coordinates', fontsize = 20)\n",
    "ax.scatter(np.radians(racoord_data_copy), np.radians(decoord_data_copy), \n",
    "         alpha = 0.6, color = 'r',)\n",
    "          #label = r'FOV in ($\\alpha, \\delta$)', )\n",
    "tick_ = np.array([-150, -120, -90, -60, -30, -0, 30, 60, 90, 120, 150])\n",
    "\n",
    "xtick_labels = np.array(['14h', '16h', '18h', '20h', '22h', '0h', '2h', '4h', '6h', '8h', '10h'])\n",
    "ytick_labels = np.array(['-75°', '-60°', '-45°', '-30°', '-15°', '0°', '15°', '30°', '45°', '60°', '75°'])\n",
    "\n",
    "ax.set_xticklabels(xtick_labels, **{'weight': 'normal',\n",
    "                                   'fontsize': 16,\n",
    "                                   'color': 'k'})\n",
    "ax.set_yticklabels(ytick_labels, **{'weight': 'normal',\n",
    "                                    'fontsize': 16,\n",
    "                                    'color': 'k'})\n",
    "ax.set_ylabel(r'$\\delta$', fontsize = 22, rotation = 0, \n",
    "           fontdict = {'weight': 'bold',\n",
    "                      'size': 16})\n",
    "ax.set_xlabel(r'$\\alpha$', fontsize = 22, rotation = 0, x = 0.5, y = 0.5)\n",
    "ax.set_facecolor('lightgrey')\n",
    "\n",
    "ax.scatter(np.radians(moon_RA), np.radians(moon_DEC), color = 'k', s = 20, label = 'Moon')\n",
    "ax.legend(fontsize = 18)\n",
    "ax"
   ]
  },
  {
   "cell_type": "code",
   "execution_count": null,
   "id": "47a5f1ad",
   "metadata": {},
   "outputs": [],
   "source": [
    "plt.figure(figsize = (10,4))\n",
    "plt.scatter(racoord_data*12/180, decoord_data, \n",
    "            color = 'r', alpha = 0.6,\n",
    "           label = 'hor2equ(az,el)')\n",
    "plt.xlim(15,20)\n",
    "plt.xlabel(r'$\\alpha [h]$', fontsize = 14)\n",
    "plt.ylabel(r'$\\delta [deg]$', fontsize = 14)\n",
    "#plt.xticks()\n",
    "plt.scatter((moon_RA+360)*24/360, moon_DEC, color = 'k', s = 20, label = 'Moon')\n",
    "\n",
    "plt.legend(fontsize = 13)"
   ]
  },
  {
   "cell_type": "code",
   "execution_count": null,
   "id": "66e32de5",
   "metadata": {},
   "outputs": [],
   "source": []
  }
 ],
 "metadata": {
  "kernelspec": {
   "display_name": "Python 3",
   "language": "python",
   "name": "python3"
  }
 },
 "nbformat": 4,
 "nbformat_minor": 5
}
