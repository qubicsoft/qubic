{
 "cells": [
  {
   "cell_type": "markdown",
   "id": "2214c467",
   "metadata": {},
   "source": [
    "## Simulation of the Moon observed by QUBIC-TD"
   ]
  },
  {
   "cell_type": "markdown",
   "id": "66b9fdb3",
   "metadata": {},
   "source": [
    "Author: M.M. Gamboa Lerena complement of the work done by JCh\n",
    "\n",
    "This notebook aims to simulate the observation of the Moon by the QUBIC-TD using the current configuration of the instrument and the sampling modeled by JCh. "
   ]
  },
  {
   "cell_type": "code",
   "execution_count": null,
   "id": "3f484dbd",
   "metadata": {},
   "outputs": [],
   "source": [
    "# Config notebook\n",
    "from IPython.display import display, HTML\n",
    "display(HTML(\"<style>.container { width:95% !important; }</style>\"))"
   ]
  },
  {
   "cell_type": "code",
   "execution_count": null,
   "id": "0c349e6a",
   "metadata": {},
   "outputs": [],
   "source": [
    "%matplotlib inline\n",
    "import numpy as np\n",
    "import matplotlib.pyplot as plt\n",
    "import healpy as hp\n",
    "#import seaborn as sns\n",
    "\n",
    "import sys\n",
    "from importlib import reload\n",
    "from astropy.visualization import astropy_mpl_style, quantity_support\n",
    "plt.style.use(astropy_mpl_style)\n",
    "quantity_support()\n",
    "import astropy.units as u\n",
    "from astropy.time import Time\n",
    "from astropy.coordinates import SkyCoord, EarthLocation, AltAz, get_moon, get_sun#, HADec, BaseRADecFrame\n",
    "\n",
    "import qubic"
   ]
  },
  {
   "cell_type": "code",
   "execution_count": null,
   "id": "1a22bc78",
   "metadata": {},
   "outputs": [],
   "source": [
    "def f(val, fwhm, sigma2fwhm):\n",
    "    return np.nan_to_num(np.exp(-0.5*val**2/(np.radians(fwhm)/sigma2fwhm)**2))"
   ]
  },
  {
   "cell_type": "code",
   "execution_count": null,
   "id": "1dbc915f",
   "metadata": {},
   "outputs": [],
   "source": [
    "Salta = EarthLocation(lat=-24.731358*u.deg, lon=-65.409535*u.deg, height=1152*u.m)\n",
    "utcoffset = -3*u.hour  # Eastern Daylight Time\n",
    "door_az = 116.4\n",
    "az_span = 50.\n",
    "el_min = 30.\n",
    "el_max = 50."
   ]
  },
  {
   "cell_type": "code",
   "execution_count": null,
   "id": "4e08b9bc",
   "metadata": {},
   "outputs": [],
   "source": [
    "days = ['2022-07-14']\n",
    "day = '2022-07-14'"
   ]
  },
  {
   "cell_type": "code",
   "execution_count": null,
   "id": "93c0b00c",
   "metadata": {},
   "outputs": [],
   "source": [
    "start_obs_hour = '00:00:00'\n",
    "date = Time(day+ ' 00:00:00')\n",
    "start_obs_date = day +' '+start_obs_hour\n",
    "delta_time = np.linspace(12,30, 1000)*u.hour\n",
    "time0 = Time(start_obs_date)-utcoffset\n",
    "alltimes = time0 + delta_time\n",
    "local_time_hours = ((Time(start_obs_date) + delta_time).cxcsec - date.cxcsec)/3600\n",
    "### Local coordinates\n",
    "frame_Salta = AltAz(obstime=alltimes, location=Salta)\n",
    "### Moon\n",
    "moon_Salta = get_moon(alltimes)\n",
    "moonaltazs_Salta = moon_Salta.transform_to(frame_Salta)  \n",
    "from astropy.coordinates import get_body\n",
    "from astropy.coordinates import EarthLocation\n",
    "#t = Time(\"2014-09-22 23:22\")\n",
    "loc = EarthLocation.of_site('greenwich') \n",
    "with solar_system_ephemeris.set('builtin'):\n",
    "    moon_Salta_body = get_body('moon', alltimes, Salta)\n",
    "### Moon\n",
    "sun_Salta = get_sun(alltimes)\n",
    "sunaltazs_Salta = sun_Salta.transform_to(frame_Salta)  \n",
    "delta_el = 20\n",
    "valid = (moonaltazs_Salta.alt.value < (el_max+delta_el)) & \\\n",
    "        (moonaltazs_Salta.alt.value > (el_min-delta_el)) & \\\n",
    "        (moonaltazs_Salta.az.value > 80) & \\\n",
    "        (moonaltazs_Salta.az.value < 145)\n",
    "tstart = np.min(local_time_hours[valid])\n",
    "tstop = np.max(local_time_hours[valid])\n",
    "local_start = str(Time(start_obs_date)+tstart*u.hour)[:16]\n",
    "local_stop = str(Time(start_obs_date)+tstop*u.hour)[:16]\n",
    "UTC_start = str(Time(start_obs_date)-utcoffset+tstart*u.hour)[:16]\n",
    "UTC_stop = str(Time(start_obs_date)-utcoffset+tstop*u.hour)[:16]"
   ]
  },
  {
   "cell_type": "code",
   "execution_count": null,
   "id": "bdc09eb7",
   "metadata": {},
   "outputs": [],
   "source": [
    "d = qubic.qubicdict.qubicDict()\n",
    "d.read_from_file('MoonObservation.dict')\n",
    "d['nf_sub'] = 1\n",
    "d['date_obs'] = str(Time(start_obs_date)-utcoffset+tstart*u.hour)\n",
    "d['latitude'] = -24.731377    ### Salta Regional Noroeste\n",
    "d['longitude'] = -65.409546   ### Salta Regional Noroeste\n",
    "d['sampling'] = 1.\n",
    "moon_ra_mean = np.mean(moon_Salta.ra[valid]/u.deg)\n",
    "moon_dec_mean = np.mean(moon_Salta.dec[valid]/u.deg)\n",
    "d['RA_center'] = moon_ra_mean #deg\n",
    "d['DEC_center'] = moon_dec_mean #deg\n",
    "d['duration'] = tstop-tstart # Hours\n",
    "d['angspeed'] = 0.8 #deg/s\n",
    "d['delta_az'] = az_span #deg\n",
    "d['nsweeps_per_elevation'] = 1\n",
    "d['angspeed_psi'] = 0. #deg/s\n",
    "backforthdt = d['delta_az'] / d['angspeed'] * 2\n",
    "print('Scan Duration: ',backforthdt)\n",
    "d['dead_time'] = 0.\n",
    "print('Dead Time = {}'.format(d['dead_time']))"
   ]
  },
  {
   "cell_type": "code",
   "execution_count": null,
   "id": "d9fdd548",
   "metadata": {},
   "outputs": [],
   "source": [
    "n_elevations = int(d['duration']*3600/(backforthdt+d['dead_time']))+1\n",
    "el_step = np.round((el_max - el_min) / n_elevations * 100) / 100\n",
    "d['fix_azimuth'] = {'apply':True,'az':116.4,\n",
    "                     'el':40,'el_step':el_step, 'fix_hwp':True, 'fix_pitch':True}\n",
    "print(d['fix_azimuth'])\n",
    "print('call')\n",
    "p = qubic.get_pointing(d)\n",
    "print(p.elevation)\n",
    "\n",
    "el_min_final = np.min(p.elevation)\n",
    "el_max_final = np.max(p.elevation)"
   ]
  },
  {
   "cell_type": "code",
   "execution_count": null,
   "id": "fbc2bab3",
   "metadata": {},
   "outputs": [],
   "source": [
    "d1 = d.copy()\n",
    "moonaltazs_Salta_body = moon_Salta_body.transform_to(frame_Salta)  \n",
    "moon_ra_mean_body = np.mean(moon_Salta_body.ra[valid]/u.deg)\n",
    "moon_dec_mean_body = np.mean(moon_Salta_body.dec[valid]/u.deg)\n",
    "d1['RA_center'] = moon_ra_mean_body #deg\n",
    "d1['DEC_center'] = moon_dec_mean_body #deg\n",
    "print(d['fix_azimuth'])\n",
    "p1 = qubic.get_pointing(d1)"
   ]
  },
  {
   "cell_type": "code",
   "execution_count": null,
   "id": "1a846be7",
   "metadata": {},
   "outputs": [],
   "source": [
    "d1['RA_center']-d['RA_center'], d1['DEC_center']-d['DEC_center']"
   ]
  },
  {
   "cell_type": "code",
   "execution_count": null,
   "id": "79f26a8f",
   "metadata": {},
   "outputs": [],
   "source": [
    "# Elapsed time between observation sample and beginning of the observation\n",
    "elapsed_time_sec = (local_time_hours[valid]- local_time_hours[valid][0])*3600"
   ]
  },
  {
   "cell_type": "code",
   "execution_count": null,
   "id": "a0fb003a",
   "metadata": {},
   "outputs": [],
   "source": [
    "fig1 = plt.figure(figsize = (14,8))\n",
    "plt.plot(p.azimuth, p.elevation, alpha=0.5, \n",
    "     label = '{} scans with Δaz = {} deg, Δel = {} deg el_min={:5.2f} deg, el_max={:5.2f} deg, \\\n",
    "                 az_center={:5.1f} deg, dead_time={} sec'.format(n_elevations, \n",
    "                    d['delta_az'], el_step, el_min_final, el_max_final, d['fix_azimuth']['az'], d['dead_time']))\n",
    "plt.scatter(moonaltazs_Salta.az[valid], moonaltazs_Salta.alt[valid],\n",
    "            c=local_time_hours[valid], label='Moon', lw=0, s=20, marker='o', cmap='jet')\n",
    "plt.plot(sunaltazs_Salta.az[valid], sunaltazs_Salta.alt[valid], 'r', lw=3, label='Sun (needs to be far)')\n",
    "plt.fill_between([door_az-az_span/2, door_az+az_span/2], \n",
    "             [el_max,el_max], y2=[el_min, el_min], color='r', alpha=0.5, \n",
    "             label='Observing Window' )\n",
    "plt.legend(loc='upper left', fontsize=10)\n",
    "plt.title('Operations from {} to {} (local time)'.format(local_start, local_stop))\n",
    "plt.colorbar().set_label('Local Time')\n",
    "plt.xlabel('Absolute Azimuth [deg]')\n",
    "plt.ylabel('Absolute Elevation [deg]')\n",
    "plt.xlim(door_az-az_span/2-10, door_az+az_span/2+10)\n",
    "plt.ylim(5, 75)\n"
   ]
  },
  {
   "cell_type": "code",
   "execution_count": null,
   "id": "255081c2",
   "metadata": {},
   "outputs": [],
   "source": [
    "fig = plt.figure(figsize = (15,6))\n",
    "fig.suptitle(\"Difference between get_moon and get_body methods from AstroPy\", fontsize = 20)\n",
    "plt.subplot(121)\n",
    "#plt.plot(3600*(moonaltazs_Salta.alt[valid]/u.deg-moonaltazs_Salta_body.alt[valid]/u.deg), 'r.',\n",
    "#            label='Moon')\n",
    "plt.plot((moon_Salta.dec[valid]/u.deg - moon_Salta_body.dec[valid]/u.deg), 'r.',\n",
    "            label='Moon')\n",
    "plt.xlabel('Samples')\n",
    "plt.ylabel(r'$\\Delta \\delta$ = dec_moon - dec_body (degs)')\n",
    "plt.subplot(122)\n",
    "plt.plot((moon_Salta.ra[valid]/u.deg - moon_Salta_body.ra[valid]/u.deg), 'b.',\n",
    "            label='Moon')\n",
    "plt.ylabel(r'$\\Delta \\alpha$ = ra_moon - ra_body (degs)')\n",
    "plt.xlabel('Samples')"
   ]
  },
  {
   "cell_type": "code",
   "execution_count": null,
   "id": "b1483448",
   "metadata": {},
   "outputs": [],
   "source": [
    "fig2 = plt.figure(figsize = (14,8))\n",
    "plt.plot(p.equatorial[:,0]*12/180, p.equatorial[:,1], alpha=0.5, \n",
    "     label = '{} scans with Δaz = {} deg, Δel = {} deg el_min={:5.2f} deg, el_max={:5.2f} deg, az_center={:5.1f} deg, dead_time={} sec'.format(n_elevations, \n",
    "                    d['delta_az'], el_step, el_min_final, el_max_final, d['fix_azimuth']['az'], d['dead_time']))\n",
    "plt.scatter(moon_Salta.ra[valid]/u.deg*12/180, moon_Salta.dec[valid]/u.deg,\n",
    "            c=local_time_hours[valid], label='Moon', lw=0, s=200, marker='o', cmap='jet')\n",
    "plt.scatter(moon_Salta_body.ra[valid]/u.deg*12/180, moon_Salta_body.dec[valid]/u.deg,\n",
    "            c=local_time_hours[valid], label='Moon', lw=0, s=200, marker='o', cmap='jet')\n",
    "plt.plot(sun_Salta.ra[valid]/u.deg*12/180, sun_Salta.ra[valid]/u.deg, 'r', lw=3, label='Sun (needs to be far)')\n",
    "plt.colorbar().set_label('Local Time')\n",
    "plt.legend(loc='upper left', fontsize=10)\n",
    "plt.title('Operations from {} to {} (local time)'.format(local_start, local_stop))\n",
    "plt.xlabel('RA[h]')\n",
    "plt.ylabel('DEC')\n",
    "plt.xlim((np.min(p.equatorial[:,0])-5)*12/180, (np.max(p.equatorial[:,0])+5)*12/180)\n",
    "plt.ylim(np.min(p.equatorial[:,1])-5, np.max(p.equatorial[:,1])+5)"
   ]
  },
  {
   "cell_type": "code",
   "execution_count": null,
   "id": "1ecfcf64",
   "metadata": {},
   "outputs": [],
   "source": [
    "fig, ax = plt.subplots(nrows = 1, ncols = 2, figsize = (14,10))\n",
    "#What if I test rotating p.azimuth, p.elevation and using p.time and d['date_obs']\n",
    "ra, dec = qubic.hor2equ(p.azimuth, p.elevation, p.time, d['date_obs'],\n",
    "                       latitude = -24.731358, longitude = -65.409535)\n",
    "ax[0].plot(p.equatorial[:,0]*12/180, p.equatorial[:,1], alpha=0.2, \n",
    "     label = 'from get_sampling')\n",
    "ax[0].plot(ra*12/180, dec, alpha = 0.2, \n",
    "     label = 'from qubic.hor2equ')\n",
    "# Moon rotation #Sideral time? \n",
    "ramoon, decmoon = qubic.hor2equ(np.array(moonaltazs_Salta.az[valid]), \n",
    "                                    np.array(moonaltazs_Salta.alt[valid]), \n",
    "                                    elapsed_time_sec, d['date_obs'],\n",
    "                               latitude = -24.731358, longitude = -65.409535)\n",
    "ramoon_body, decmoon_body = qubic.hor2equ(np.array(moonaltazs_Salta_body.az[valid]), \n",
    "                                    np.array(moonaltazs_Salta_body.alt[valid]), \n",
    "                                    elapsed_time_sec, d['date_obs'],\n",
    "                               latitude = -24.731358, longitude = -65.409535)\n",
    "ax[0].scatter(moon_Salta.ra[valid]/u.deg*12/180, moon_Salta.dec[valid]/u.deg,\n",
    "            c=local_time_hours[valid], label='Moon from astropy (get_moon)', lw=0, s=20, marker='o', cmap='jet')\n",
    "ax[0].scatter(moon_Salta_body.ra[valid]/u.deg*12/180, moon_Salta_body.dec[valid]/u.deg,\n",
    "            c=local_time_hours[valid], label='Moon from astropy (get_body)', lw=0, s=20, marker='o', cmap='jet')\n",
    "ax[0].scatter(ramoon*12/180, decmoon, c = elapsed_time_sec*1/3600, label = 'from hor2equ')\n",
    "ax[0].legend()\n",
    "#\n",
    "#\n",
    "# not exactly the same but it shouldn't be a problem by now\n",
    "#\n",
    "#\n",
    "ax[1].scatter(moon_Salta.ra[valid]/u.deg*12/180, moon_Salta.dec[valid]/u.deg,\n",
    "            c='green', label='Moon from astropy (get_moon)', lw=0, s=200, marker='.')\n",
    "ax[1].scatter(moon_Salta_body.ra[valid]/u.deg*12/180, moon_Salta_body.dec[valid]/u.deg,\n",
    "            c='DarkGreen', label='Moon from astropy (get_body)', lw=0, s=200, marker='.')\n",
    "ax[1].scatter(ramoon*12/180, decmoon, c = 'r', label = 'from hor2equ')\n",
    "ax[1].scatter(ramoon_body*12/180, decmoon_body, c = 'orange', label = 'from hor2equ (body)')\n",
    "ax[1].legend()\n",
    "ax[1].set_ylabel('dec[deg]')\n",
    "ax[1].set_xlabel('RA[h]')\n"
   ]
  },
  {
   "cell_type": "code",
   "execution_count": null,
   "id": "add35d7c",
   "metadata": {},
   "outputs": [],
   "source": [
    "plt.figure(figsize = (14,4))\n",
    "plt.subplot(131)\n",
    "plt.title(r'$\\alpha_{qs} - \\alpha_{astropy}$')\n",
    "plt.plot(p.equatorial[:,0]*12/180 - ra*12/180, 'r.', ms = 1)\n",
    "plt.xlabel('time')\n",
    "plt.subplot(132)\n",
    "plt.title(r'$\\delta_{qs} - \\delta_{astropy}$')\n",
    "plt.plot(p.equatorial[:,1] -dec, 'g.', ms = 1)\n",
    "plt.xlabel('time')"
   ]
  },
  {
   "cell_type": "code",
   "execution_count": null,
   "id": "7b5a954e",
   "metadata": {},
   "outputs": [],
   "source": [
    "plt.figure(figsize = (12,6))\n",
    "plt.scatter(moon_Salta.ra[valid]/u.deg*12/180, moon_Salta.dec[valid]/u.deg,\n",
    "            c=local_time_hours[valid], label='Moon from astropy', lw=0, s=40, \n",
    "            marker='o', cmap='jet')\n",
    "plt.scatter(ramoon*12/180, decmoon, c = elapsed_time_sec*1/3600, \n",
    "            marker = 's', s = 40, label = 'from hor2equ',\n",
    "           cmap='jet')\n",
    "#plt.colorbar(label = '')\n",
    "plt.xlabel('RA[h]')\n",
    "plt.ylabel('DEC[deg]')\n",
    "plt.legend()\n"
   ]
  },
  {
   "cell_type": "code",
   "execution_count": null,
   "id": "3344f84d",
   "metadata": {},
   "outputs": [],
   "source": [
    "fig3 = plt.figure(figsize = (14,8))\n",
    "plt.title('Operations from {} to {} (local time)'.format(local_start, local_stop))\n",
    "plt.subplot(2,1,1)\n",
    "plt.plot(local_time_hours[valid][0]+p.time/3600, p.azimuth, label='Scanning')\n",
    "plt.plot(local_time_hours[valid], moonaltazs_Salta.az[valid], label='Moon')\n",
    "plt.plot(local_time_hours[valid], sunaltazs_Salta.az[valid], label='Sun')\n",
    "plt.xlabel('Local Time in hour')\n",
    "plt.ylabel('Absolute Azimuth [deg]')\n",
    "plt.legend(loc='upper left')\n",
    "plt.ylim(door_az-az_span/2-10, door_az+az_span/2+10)\n",
    "plt.subplot(2,1,2)\n",
    "plt.plot(local_time_hours[valid][0]+p.time/3600, p.elevation, label='Scanning')\n",
    "plt.plot(local_time_hours[valid], moonaltazs_Salta.alt[valid], label='Moon')\n",
    "plt.plot(local_time_hours[valid], sunaltazs_Salta.alt[valid], label='Sun')\n",
    "plt.xlabel('Local Time in hour')\n",
    "plt.ylabel('Absolute Elevation [deg]')\n",
    "plt.legend(loc='upper left')\n",
    "plt.ylim(5, 75)\n",
    "plt.show()"
   ]
  },
  {
   "cell_type": "markdown",
   "id": "5d967c7b",
   "metadata": {},
   "source": [
    "Prepare qubicsoft for simulation\n",
    "* Create point source. I will model the Moon sky as follow:\n",
    "     + Fix a position in the sky in (RA, DEC) \n",
    "     + Set to 30 arcmin size of the point source. \n",
    "     + Continum and constant emission across the frequencies\n",
    "     + Arbitrary amplitude (high at the beggining = 1e5 $\\mu$K$_{\\rm CMB}$)\n",
    "     + Create 10 equal structures ($SkyMoon_i$) changing the RA, DEC of the Moon\n",
    "     + Sum $MoonSky = \\sum_{i} MoonSky_i$"
   ]
  },
  {
   "cell_type": "code",
   "execution_count": null,
   "id": "dbf0f9a9",
   "metadata": {},
   "outputs": [],
   "source": [
    "# Center of the patch observed in galactic coordinates\n",
    "#center = np.array([d['RA_center'], d['DEC_center']])\n",
    "#center = qubic.equ2gal(d['RA_center'], d['DEC_center'])\n",
    "d['nside'] = 256\n",
    "nside = d['nside']"
   ]
  },
  {
   "cell_type": "markdown",
   "id": "17070b45",
   "metadata": {},
   "source": [
    "**Set coverage map in the center of the FOV** and see the moon moving towards it"
   ]
  },
  {
   "cell_type": "code",
   "execution_count": null,
   "id": "b844a17c",
   "metadata": {},
   "outputs": [],
   "source": [
    "#d['RA_center'], d['DEC_center'] = 60,45#qubic.gal2equ(60, -45)\n",
    "s = qubic.QubicScene(d)\n",
    "    \n",
    "q = qubic.QubicInstrument(d)\n",
    "#q = qubic.QubicMultibandInstrument(d)\n",
    "atod = qubic.QubicAcquisition(q, p, s, d)\n",
    "#atod = qubic.QubicMultibandAcquisition(q, p, s, d, nus_edge_in)\n",
    "\n",
    "#          COVERAGE MAP\n",
    "#\n",
    "# To study coordinates of coverage map\n",
    "cov = atod.get_coverage()\n",
    "\n",
    "hp.mollview(cov, title = \"Coverage map\")\n",
    "hp.graticule(dpar = 15, dmer = 8, color = 'w', verbose = False)\n"
   ]
  },
  {
   "cell_type": "markdown",
   "id": "6df86dc0",
   "metadata": {},
   "source": [
    "According with qubicsoft, coverage map is computed using the horizontal coordinates and then rotated to the instrumental ones. This means that zero's point of the coverage are -116.4 in azimuth and 40 in elevation?\n",
    "\n",
    "See this point rotating 116.4, 40 and see if it's ok. \n",
    "\n",
    "It's OK! So, the coordinates of the moon are the ones in the coordinate system of the insturment\n",
    "\n",
    "USING COVERAGE MAP FROM SWEEPING POINTING, THE COORDINATES OF THE SKY HAVE TO BE IN (AZ, EL) (== LON, LAT from HEALPix)"
   ]
  },
  {
   "cell_type": "code",
   "execution_count": null,
   "id": "cbcc409a",
   "metadata": {},
   "outputs": [],
   "source": [
    "plt.figure(figsize = (14,8))\n",
    "hp.mollview(cov, rot = (116.4, 40), sub = (121), title = \"Coverage map\")\n",
    "hp.graticule(dpar = 15, dmer = 8, color = 'w', verbose = False)\n",
    "hp.projscatter(114, 40, color = 'darkgreen', s = 200,\n",
    "               lonlat = True)\n",
    "hp.gnomview(cov, rot = (116.4, 40), reso = 12, sub = (122), title = \"Coverage map\")\n",
    "hp.graticule(dpar = 15, dmer = 8, color = 'w', verbose = False)\n",
    "hp.projscatter(114, 40, color = 'darkgreen', s = 200,\n",
    "               lonlat = True)\n",
    "plt.tight_layout()"
   ]
  },
  {
   "cell_type": "code",
   "execution_count": null,
   "id": "2aea3b8d",
   "metadata": {},
   "outputs": [],
   "source": [
    "sigma2fwhm = np.sqrt(8*np.log(2))\n",
    "#cte = 58.44\n",
    "cteTD = 175.3\n",
    "_, nus_edge_in, nus_in, _, _, _ = qubic.compute_freq(d['filter_nu'] / 1e9, \n",
    "                                    d['nf_sub'],\n",
    "                                    d['filter_relative_bandwidth'])\n",
    "#nu = np.array([nus_in[innu0],])\n",
    "fwhm_in = cteTD/nus_in # nus to fwhm\n"
   ]
  },
  {
   "cell_type": "markdown",
   "id": "6eea37e6",
   "metadata": {},
   "source": [
    "Compute one position of the moon. It works (position of the moon is in the region of the coverage map).. "
   ]
  },
  {
   "cell_type": "code",
   "execution_count": null,
   "id": "b0b4ffa4",
   "metadata": {},
   "outputs": [],
   "source": [
    "#ji = 100\n",
    "#MoonPosition = hp.pixelfunc.ang2pix(nside, np.array(moonaltazs_Salta.az[valid][ji]),\n",
    "#                                    np.array(moonaltazs_Salta.alt[valid][ji]), \n",
    "#                                    lonlat = True)\n",
    "#MoonVec = hp.pix2vec(nside, MoonPosition)\n",
    "#MoonVecs = hp.pix2vec(nside, np.arange(12*nside**2))\n",
    "#MoonAng = np.arccos(np.dot(MoonVec, MoonVecs)) #measure in minutes\n",
    "\n",
    "## Amplitude of the signal\n",
    "#MoonAmp = 1e5\n",
    "#MoonMap = np.zeros((d['nf_sub'], 12*nside**2, 3))\n",
    "##MoonMapDisc = np.zeros((d['nf_sub'], 12*nside**2, 3))\n",
    "#smooth = False\n",
    "##for i in range(len(nus_in)):\n",
    "##    MoonMap[i,:,0] += MoonAmp*f(MoonAng, fwhm_in[i], sigma2fwhm)\n",
    "#for i in range(len(nus_in)):\n",
    "#    MoonMap[i,MoonAng < np.radians(0.5),0] += MoonAmp\n",
    "#    MoonMap[i,(np.radians(0.5) < MoonAng)&\\\n",
    "#                (MoonAng < np.radians(0.6)),0] += MoonAmp*0.5\n",
    "#    if smooth: \n",
    "#        MoonMap[i,:,0] = hp.smoothing(MoonMap[i,:,0], \n",
    "#                                          fwhm = np.radians(fwhm_in[i]), \n",
    "#                                          verbose = False)\n",
    "## Plot\n",
    "#plt.figure(figsize = (12,8))\n",
    "#hp.mollview(MoonMap[0,:,0],  sub = 122, title = \"Moon\")"
   ]
  },
  {
   "cell_type": "markdown",
   "id": "8bd30341",
   "metadata": {},
   "source": [
    "For one position it works. Now I loop over all the positions of the Moon in the interval of the observation\n"
   ]
  },
  {
   "cell_type": "code",
   "execution_count": null,
   "id": "c26a1c24",
   "metadata": {},
   "outputs": [],
   "source": [
    "# Amplitude of the signal\n",
    "MoonAmp = 1e5\n",
    "#MoonMap = np.zeros((d['nf_sub'], 12*nside**2, 3))\n",
    "nintervals = 50\n",
    "MoonMap4scan = np.zeros((nintervals, d['nf_sub'], 12*nside**2, len(d['kind'])))\n",
    "\n",
    "#MoonMapDisc = np.zeros((d['nf_sub'], 12*nside**2, 3))\n",
    "smooth = False\n",
    "#for i in range(len(nus_in)):\n",
    "#    MoonMap[i,:,0] += MoonAmp*f(MoonAng, fwhm_in[i], sigma2fwhm)\n",
    "# sample positions of the moon duyring scan simulation\n",
    "samp_moon_azalt = len(np.array(moonaltazs_Salta.az[valid]))\n",
    "index = [i*samp_moon_azalt//nintervals for i in range(nintervals)]\n",
    "\n",
    "for j, ipos in enumerate(index):\n",
    "    MoonPosition = hp.pixelfunc.ang2pix(nside, np.array(moonaltazs_Salta.az[valid][ipos]),\n",
    "                                    np.array(moonaltazs_Salta.alt[valid][ipos]), \n",
    "                                    lonlat = True)        \n",
    "    # Moon has no 1 healpy-pixel size, but more. So we fill put a disc\n",
    "    MoonVec = hp.pix2vec(nside, MoonPosition)\n",
    "    MoonVecs = hp.pix2vec(nside, np.arange(12*nside**2))\n",
    "    MoonAng = np.arccos(np.dot(MoonVec, MoonVecs)) #measure in minutes\n",
    "\n",
    "    for i in range(len(nus_in)):\n",
    "        MoonMap4scan[j, i, MoonAng < np.radians(0.5),0] += MoonAmp\n",
    "        MoonMap4scan[j, i,(np.radians(0.5) < MoonAng)&\\\n",
    "                    (MoonAng < np.radians(0.6)),0] += MoonAmp*0.5\n",
    "\n",
    "        if smooth:\n",
    "            MoonMap4scan[j, i,:,0] = hp.smoothing(MoonMap4scan[j, i,:,0], \n",
    "                                             fwhm = np.radians(fwhm_in[i]),\n",
    "                                            verbose = False)\n",
    "            \n",
    "# Plot\n",
    "plt.figure(figsize = (16,12))\n",
    "hp.gnomview(np.sum(MoonMap4scan, axis = 0)[0,:,0], rot = (116.4,40), title = \"Moon 1 freq\", \n",
    "            sub = (121), reso = 16)\n",
    "hp.gnomview(cov , title = \"Cov map + Moon\", sub = (122), rot = (116.4,40), reso = 16)\n",
    "hp.projscatter(np.array(moonaltazs_Salta.az[valid]), np.array(moonaltazs_Salta.alt[valid]),\n",
    "               lonlat = True, marker = 'o', s = 30, c = 'darkgreen')\n"
   ]
  },
  {
   "cell_type": "markdown",
   "id": "22dd191a",
   "metadata": {},
   "source": [
    "Make dicretize positions of the moon to chunk\n",
    "\n",
    "In (az, el) coords, the Moon varies: $(\\Delta A, \\Delta el) = (-13.68, 20)$ deg"
   ]
  },
  {
   "cell_type": "code",
   "execution_count": null,
   "id": "9aeba437",
   "metadata": {},
   "outputs": [],
   "source": [
    "# #Longest interval\n",
    "# print(\"Sampling interval from {} to {} seconds starting at {} (UTC) in {} intervals\".format(p.time[0],\n",
    "#                                                                                            p.time[-1], \n",
    "#                                                                                            d['date_obs'],\n",
    "#                                                                                           len(p.time)))\n",
    "# print(\"Moon data from {} to {} seconds starting at {} in {} intervals\".format(elapsed_time_sec[0], \n",
    "#                                                                               elapsed_time_sec[-1],\n",
    "#                                                                              UTC_start,\n",
    "#                                                                              len(elapsed_time_sec)))\n",
    "# print(\"We split the observation in different positions of the Moon. To do that \\n we define \\\n",
    "# the number of divisions, and we average the position of the Moon in that interval of time. \\n \\\n",
    "# Then we create an observation with the pointing up to that time\")\n",
    "# print(\"{} different positions of the Moon\".format(len(local_time_hours)))\n",
    "# nparts_samples = 10#len(local_time_hours)\n",
    "\n",
    "# az_chunks = np.zeros((len(moonaltazs_Salta.az[valid])))\n",
    "# el_chunks = np.zeros((len(moonaltazs_Salta.alt[valid])))\n",
    "\n",
    "# print(\"We split the TOD in {} samples\".format(len(elapsed_time_sec),))\n",
    "# #j = 0\n",
    "# inichunk = int(j * 264 / 10)\n",
    "# endchunk = int((j + 1) * 264 / 10)\n",
    "# #plt.figure(figsize = (16,4))\n",
    "# #plt.plot(p.time[maskchunk],p.time[maskchunk], 'r-', alpha = 1)\n",
    "# #plt.plot(p.time[~maskchunk],p.time[~maskchunk], 'r-', alpha = 0.4)\n",
    "# print(\"Shape of azimuth and elevation Moon data {}\".format(len(moonaltazs_Salta.az[valid]) ))\n",
    "# print(\"Average the az, el of the moon within that chunk\")\n",
    "# azmean_chunk = np.mean(moonaltazs_Salta.az[valid][inichunk:endchunk])\n",
    "# elmean_chunk = np.mean(moonaltazs_Salta.alt[valid][inichunk:endchunk])\n",
    "# #plt.figure(figsize = (10,8))\n",
    "# #plt.plot(np.array(moonaltazs_Salta.az[valid]), np.array(moonaltazs_Salta.alt[valid]), 'co', label = 'Full')\n",
    "# #plt.plot(azmean_chunk, elmean_chunk, 'r*', label = 'avrg')\n",
    "# #plt.legend()\n",
    "# print(\"Start the chunks in the sampling \")\n",
    "# inichunk_samp = int(j * 170595 / 10)\n",
    "# endchunk_samp = int((j + 1) * 170595 / 10) if j != 9 else 170594\n",
    "# print(endchunk_samp)\n",
    "# maskchunk = (p.time > p.time[inichunk_samp]) & (p.time < p.time[endchunk_samp])\n",
    "# print(\"Number of samples per chunk \", maskchunk.sum())\n",
    "# pchunks = p[inichunk_samp:endchunk_samp]\n",
    "# #plt.figure(figsize = (14,6))\n",
    "# #colors = sns.color_palette(n_colors = 10)\n",
    "# #plt.plot(pchunks.azimuth, pchunks.elevation, 'o', color = colors[j], ms = 2, alpha=0.01)\n",
    "# #plt.plot(azmean_chunk, elmean_chunk, 'o', markersize = 5, color = colors[j])\n",
    "# #plt.ylim(10,80)\n",
    "\n",
    "# print(\"DONE\")\n",
    "# print(\"The first part...\")\n",
    "#=======\n"
   ]
  },
  {
   "cell_type": "markdown",
   "id": "bb3c0ef8",
   "metadata": {},
   "source": [
    "### Now loop in chunks"
   ]
  },
  {
   "cell_type": "code",
   "execution_count": null,
   "id": "59dbfd8c",
   "metadata": {},
   "outputs": [],
   "source": [
    "#!conda install --yes --prefix {sys.prefix} seaborn\n"
   ]
  },
  {
   "cell_type": "code",
   "execution_count": null,
   "id": "2e86ec80",
   "metadata": {},
   "outputs": [],
   "source": [
    "#Longest interval\n",
    "print(\"Sampling interval from {} to {} seconds starting at {} (UTC) in {} intervals\".format(p.time[0],\n",
    "                                                                                           p.time[-1], \n",
    "                                                                                           d['date_obs'],\n",
    "                                                                                          len(p.time)))\n",
    "print(\"Moon data from {} to {} seconds starting at {} in {} intervals\".format(elapsed_time_sec[0], \n",
    "                                                                              elapsed_time_sec[-1],\n",
    "                                                                             UTC_start,\n",
    "                                                                             len(elapsed_time_sec)))\n",
    "print(\"We split the observation in different positions of the Moon. To do that \\n we define \\\n",
    "the number of divisions, and we average the position of the Moon in that interval of time. \\n \\\n",
    "Then we create an observation with the pointing up to that time\")\n",
    "print(\"{} different positions of the Moon\".format(len(local_time_hours)))\n",
    "nparts_samples = 50   #len(local_time_hours)\n",
    "\n",
    "az_chunks = np.zeros((len(moonaltazs_Salta.az[valid])))\n",
    "el_chunks = np.zeros((len(moonaltazs_Salta.alt[valid])))\n",
    "\n",
    "print(\"We split the TOD in {} samples\".format(len(elapsed_time_sec),))\n",
    "\n",
    "pchunks = []\n",
    "for j in range(nparts_samples):\n",
    "    # The dims of the moon positions is different from the dims of the coordinates (264 vs ~170000)\n",
    "    inichunk = int(j * 264 / nparts_samples)\n",
    "    endchunk = int((j + 1) * 264 / nparts_samples)\n",
    "    print(inichunk,endchunk)\n",
    "    #plt.figure(figsize = (16,4))\n",
    "    #plt.plot(p.time[maskchunk],p.time[maskchunk], 'r-', alpha = 1)\n",
    "    #plt.plot(p.time[~maskchunk],p.time[~maskchunk], 'r-', alpha = 0.4)\n",
    "    print(\"Shape of azimuth and elevation Moon data {}\".format(len(moonaltazs_Salta.az[valid]) ))\n",
    "    print(\"Average the az, el of the moon within that chunk\")\n",
    "    az_chunks[j] = np.mean(np.array(moonaltazs_Salta.az[valid][inichunk:endchunk]))\n",
    "    el_chunks[j] = np.mean(np.array(moonaltazs_Salta.alt[valid][inichunk:endchunk]))\n",
    "    #plt.figure(figsize = (10,8))\n",
    "    #plt.plot(np.array(moonaltazs_Salta.az[valid]), np.array(moonaltazs_Salta.alt[valid]), 'co', label = 'Full')\n",
    "    #plt.plot(azmean_chunk, elmean_chunk, 'r*', label = 'avrg')\n",
    "    #plt.legend()\n",
    "    print(\"Start the chunks in the sampling \")\n",
    "    inichunk_samp = int(j * len(p.time) / nparts_samples)\n",
    "    endchunk_samp = int((j + 1) * len(p.time) / nparts_samples)-1 #if j != nparts_samples-1 else 170594\n",
    "    print(inichunk_samp,endchunk_samp)\n",
    "    maskchunk = (p.time > p.time[inichunk_samp]) & (p.time < p.time[endchunk_samp])\n",
    "    print(\"Number of samples per chunk \", maskchunk.sum())\n",
    "    pchunks.append(p[inichunk_samp:endchunk_samp+1])\n",
    "plt.figure(figsize = (14,6))\n",
    "colors = sns.color_palette(palette = 'tab10', n_colors = nparts_samples)\n",
    "for j in range(nparts_samples):\n",
    "    plt.plot(pchunks[j].azimuth, pchunks[j].elevation, '.', color = colors[j], ms = 4, alpha=0.04)\n",
    "    plt.plot(az_chunks[j], el_chunks[j], 'o', markersize = 5, color = colors[j])\n",
    "plt.ylim(10,80)\n",
    "plt.xlabel(\"Az[deg]\")\n",
    "plt.ylabel(\"El[deg]\")\n",
    "print(\"DONE\")\n",
    "print(\"The first part...\")\n"
   ]
  },
  {
   "cell_type": "code",
   "execution_count": null,
   "id": "f33533c9",
   "metadata": {},
   "outputs": [],
   "source": [
    "from matplotlib.animation import FuncAnimation\n"
   ]
  },
  {
   "cell_type": "code",
   "execution_count": null,
   "id": "94f16658",
   "metadata": {},
   "outputs": [],
   "source": [
    "### GIF\n",
    "colors = sns.color_palette(palette = 'tab10', n_colors = nparts_samples)\n",
    "for j in range(nparts_samples):\n",
    "    plt.plot(pchunks[j].azimuth, pchunks[j].elevation, '.', color = colors[j], ms = 4, alpha=0.04)\n",
    "    plt.plot(az_chunks[j], el_chunks[j], 'o', markersize = 5, color = colors[j])\n",
    "plt.ylim(10,80)\n",
    "plt.xlabel(\"Az[deg]\")\n",
    "plt.ylabel(\"El[deg]\")\n",
    "\n",
    "for ibnd in [2,3,4,5]:\n",
    "    fig = plt.figure(figsize = (14,6))\n",
    "    ax = fig.gca()\n",
    "    \n",
    "    points, = ax.plot(pchunks[0].azimuth, \n",
    "                      pchunks[0].elevation, '.', color = colors[0], ms = 4, alpha = 0.4)\n",
    "    points1, = ax.plot(az_chunks[0], el_chunks[0], 'o', ms = 5, color = colors[0])\n",
    "    #line = ax.axvline(data_array['nu_in'][0], color = 'k', ls = '--')\n",
    "    \n",
    "    #line_spl, = ax.plot(xvals + data_array['nu_in'][0],\n",
    "    #                    data_array['SplFunc'](xvals), color = 'k', ls = '-')\n",
    "    #print(line_spl)\n",
    "    #text = ax.text(140, 1, r'$\\nu_i=${:3.2f} GHz'.format(data_array['nu_in'][0]), fontsize=14)\n",
    "\n",
    "    def init():\n",
    "        #ax.axhline(0, color = 'k', ls = '-', alpha = 0.2)\n",
    "        #c = ['b', 'g', 'y', 'orange', 'r']\n",
    "        #for ib in range(ibnd):\n",
    "        #    ax.axvspan(xmin = data_array['nu_edge'][ib], xmax = data_array['nu_edge'][ib + 1], \n",
    "        #               alpha = 0.2, color = c[ib])\n",
    "        ax.set_ylim(10,80)\n",
    "        ax.set_xlabel(\"Az[deg]\")\n",
    "        ax.set_ylabel(\"El[deg]\")\n",
    "        return points, points1\n",
    "\n",
    "    def animate(i):\n",
    "        points.set_data(ax.plot(pchunks[i].azimuth, \n",
    "                      pchunks[i].elevation, '.', color = colors[i], ms = 4, alpha = 0.4))\n",
    "        #line_spl.set_xdata(xvals + data_array['nu_in'][i])\n",
    "        points1.set_data(az_chunks[i], el_chunks[i], 'o', marksize = 5, color = colors[i])\n",
    "        return(points, points1)\n",
    "\n",
    "    steps = np.arange(nparts_samples)\n",
    "    anim = FuncAnimation(fig, animate, steps, init_func = init, \n",
    "                         interval = 3000, blit = False, repeat = False)\n",
    "\n",
    "    # Save a .gif\n",
    "    fig.tight_layout()\n",
    "    anim.save('./pointing_chuncks.gif'.format(ibnd), writer='imagemagick')"
   ]
  },
  {
   "cell_type": "code",
   "execution_count": null,
   "id": "246d10b7",
   "metadata": {},
   "outputs": [],
   "source": [
    "#plt.figure(figsize = (12,8))\n",
    "#for j in range(0,nintervals-1, 4):\n",
    "#    hp.gnomview(MoonMap4scan[j, 0,:,0], title = '{} pos'.format(j), reso = 20,\n",
    "#                rot = (116.4, 40), notext = True)\n",
    "#    hp.graticule(color = 'w',dpar = 8, dmer = 8, verbose = False)\n",
    "### \n",
    "##\n",
    "#\n",
    "# Is it moving in the opposite direction?\n",
    "#\n",
    "##\n",
    "###"
   ]
  },
  {
   "cell_type": "markdown",
   "id": "590afd35",
   "metadata": {},
   "source": [
    "**We have to define** a criterion to determine what is the best time sampling in the simulation. "
   ]
  },
  {
   "cell_type": "code",
   "execution_count": null,
   "id": "16312b4f",
   "metadata": {},
   "outputs": [],
   "source": [
    "#print(\"Number of samplings for qubicsoft\", len(p))\n",
    "#print(\"Number of sampled moon positions\", len(moon_Salta))\n",
    "#print(\"Plot the Delta positions in equatorial coordinates\")\n",
    "#plt.scatter(p.equatorial[:,0], p.equatorial[:,1])\n",
    "#plt.scatter(moon_Salta.ra, moon_Salta.dec)"
   ]
  },
  {
   "cell_type": "markdown",
   "id": "c2b0e8d0",
   "metadata": {},
   "source": [
    "## $\\texttt{qubicsoft}$ simulation "
   ]
  },
  {
   "cell_type": "markdown",
   "id": "716da879",
   "metadata": {},
   "source": [
    "### Compare coverage map of sweeping pointing vs repeat pointing\n",
    "\n",
    "see another notebook in this dir"
   ]
  },
  {
   "cell_type": "code",
   "execution_count": null,
   "id": "df197928",
   "metadata": {},
   "outputs": [],
   "source": [
    "#d1 = d.copy()\n",
    "#d1['sweeping_pointing'] = False\n",
    "#d1['repeat_pointing'] = True\n",
    "#d1['npointings'] = 9000\n",
    "#p1 = qubic.get_pointing(d1)\n",
    "#s1 = qubic.QubicScene(d1)    \n",
    "#q1 = qubic.QubicInstrument(d1)\n",
    "##q = qubic.QubicMultibandInstrument(d)\n",
    "#atod1 = qubic.QubicAcquisition(q1, p1, s1, d1)\n",
    "#cov1 = atod1.get_coverage()\n",
    "\n",
    "#\n",
    "# PLOT\n",
    "#\n",
    "#plt.figure(figsize = (12,10))\n",
    "#hp.mollview(cov, sub = 121, \n",
    "#            rot = np.degrees(hp.pix2ang(nside, (np.where(cov == cov.max())[0][0]) ))[::-1],\n",
    "#            title = 'sweep RA, DEC = {:2.1f},{:2.1f}'.format(d['RA_center'], d['DEC_center']))\n",
    "#hp.mollview(cov1, sub = 122, title = 'rand RA, DEC = {:2.1f}, {:2.1f}'.format(d1['RA_center'], d1['DEC_center']))"
   ]
  },
  {
   "cell_type": "markdown",
   "id": "75e0b300",
   "metadata": {},
   "source": [
    "## Plot coverage map & moon in healpix"
   ]
  },
  {
   "cell_type": "code",
   "execution_count": null,
   "id": "b8df2567",
   "metadata": {},
   "outputs": [],
   "source": [
    "dchunk = d.copy()"
   ]
  },
  {
   "cell_type": "code",
   "execution_count": null,
   "id": "afb8871b",
   "metadata": {},
   "outputs": [],
   "source": [
    "#tstart_chunk = np.min(local_time_hours[valid][inichunk:endchunk])\n",
    "#tstop_chunk = np.max(local_time_hours[valid][inichunk:endchunk])\n",
    "#local_start_chunk = str(Time(start_obs_date)+tstart_chunk*u.hour)[:16]\n",
    "#local_stop_chunk = str(Time(start_obs_date)+tstop_chunk*u.hour)[:16]\n",
    "#UTC_start_chunk = str(Time(start_obs_date)-utcoffset+tstart_chunk*u.hour)[:16]\n",
    "#UTC_stop_chunk = str(Time(start_obs_date)-utcoffset+tstop_chunk*u.hour)[:16]"
   ]
  },
  {
   "cell_type": "code",
   "execution_count": null,
   "id": "1a7dc6d8",
   "metadata": {},
   "outputs": [],
   "source": [
    "# Prepare dict for each chunk\n",
    "#moon_ra_mean = np.mean(moon_Salta.ra[valid][inichunk:endchunk]/u.deg)\n",
    "#moon_dec_mean = np.mean(moon_Salta.dec[valid][inichunk:endchunk]/u.deg)\n",
    "#dchunk['RA_center'] = moon_ra_mean #deg\n",
    "#dchunk['DEC_center'] = moon_dec_mean #deg\n",
    "#dchunk['duration'] = tstop_chunk - tstart_chunk # Hours\n",
    "#d['angspeed'] = 0.8 #deg/s\n",
    "#d['delta_az'] = az_span #deg\n",
    "#d['nsweeps_per_elevation'] = 1\n",
    "#d['angspeed_psi'] = 0. #deg/s\n",
    "#backforthdt = d['delta_az'] / d['angspeed'] * 2\n",
    "#print('Scan Duration: ',backforthdt)\n",
    "#d['dead_time'] = 0.\n",
    "#print('Dead Time = {}'.format(d['dead_time']))\n",
    "\n",
    "#n_elevations = int(d['duration']*3600/(backforthdt+d['dead_time']))+1\n",
    "#el_step = np.round((el_max - el_min) / n_elevations * 100) / 100\n",
    "#d['fix_azimuth'] = {'apply':True,'az':116.4,\n",
    "#                     'el':40,'el_step':el_step, 'fix_hwp':True, 'fix_pitch':True}\n",
    "#print(d['fix_azimuth'])\n",
    "#print('call')\n",
    "#p = qubic.get_pointing(d)\n",
    "#print(p.elevation)\n",
    "\n",
    "#el_min_final = np.min(p.elevation)\n",
    "#el_max_final = np.max(p.elevation)"
   ]
  },
  {
   "cell_type": "code",
   "execution_count": null,
   "id": "f920ea0e",
   "metadata": {},
   "outputs": [],
   "source": [
    "#Create maps for the chunk\n",
    "MoonAmp = 1e5\n",
    "MoonMap4scan = np.zeros((nparts_samples, d['nf_sub'], 12*nside**2, len(d['kind'])))\n",
    "\n",
    "for j in range(nparts_samples):\n",
    "    MoonPosition = hp.pixelfunc.ang2pix(nside, np.array(az_chunks[j]),\n",
    "                                    np.array(el_chunks[j]), \n",
    "                                    lonlat = True)        \n",
    "    # Moon has no 1 healpy-pixel size, but more. So we fill put a disc\n",
    "    MoonVec = hp.pix2vec(nside, MoonPosition)\n",
    "    MoonVecs = hp.pix2vec(nside, np.arange(12*nside**2))\n",
    "    MoonAng = np.arccos(np.dot(MoonVec, MoonVecs)) #measure in minutes\n",
    "\n",
    "    for i in range(len(nus_in)):\n",
    "        MoonMap4scan[j, i, MoonAng < np.radians(0.5),0] += MoonAmp\n",
    "        MoonMap4scan[j, i,(np.radians(0.5) < MoonAng)&\\\n",
    "                (MoonAng < np.radians(0.6)),0] += MoonAmp*0.5\n",
    "\n",
    "    if smooth:\n",
    "        MoonMap4scan[j, i,:,0] = hp.smoothing(MoonMap4scan[j, i,:,0], \n",
    "                                         fwhm = np.radians(fwhm_in[i]),\n",
    "                                        verbose = False)\n"
   ]
  },
  {
   "cell_type": "code",
   "execution_count": null,
   "id": "58d59521",
   "metadata": {},
   "outputs": [],
   "source": [
    "#hp.gnomview(MoonMap4scan[7,0,:,0], rot = (116.4,40), reso = 20)"
   ]
  },
  {
   "cell_type": "code",
   "execution_count": null,
   "id": "2edb6d09",
   "metadata": {},
   "outputs": [],
   "source": [
    "s = qubic.QubicScene(d)\n",
    "    \n",
    "q = qubic.QubicInstrument(d)\n",
    "#q = qubic.QubicMultibandInstrument(d)\n",
    "atod_chunks = []\n",
    "for i in range(nparts_samples):\n",
    "    #print(i)\n",
    "    atod_chunks.append(qubic.QubicAcquisition(q, pchunks[i], s, d))\n",
    "    #atod = qubic.QubicMultibandAcquisition(q, p, s, d, nus_edge_in)\n"
   ]
  },
  {
   "cell_type": "code",
   "execution_count": null,
   "id": "c0b18712",
   "metadata": {},
   "outputs": [],
   "source": [
    "ndets = len(q) #monochromatic instrument\n",
    "nsamples = len(p)\n",
    "TOD = []#np.zeros((nparts_samples, ndets, nsamples))\n",
    "\n",
    "if d['nf_sub'] == 1:\n",
    "    for j in range(nparts_samples):\n",
    "        print(j)\n",
    "        TOD.append(atod_chunks[j].get_observation(MoonMap4scan[j, 0, :, 0], noiseless = d['noiseless'], convolution=False))\n"
   ]
  },
  {
   "cell_type": "code",
   "execution_count": null,
   "id": "dafe2de6",
   "metadata": {},
   "outputs": [],
   "source": [
    "todjoint = TOD[0]#np.zeros((248,nsamples))\n",
    "for k in range(1,nparts_samples):\n",
    "    todjoint = np.concatenate((todjoint, TOD[k]), axis = 1) \n",
    "    #print(np.shape(todjoint))"
   ]
  },
  {
   "cell_type": "code",
   "execution_count": null,
   "id": "8f93f9f1",
   "metadata": {},
   "outputs": [],
   "source": [
    "#Plot coadded map\n",
    "plt.scatter(ra*12/180, dec, s = todjoint[0], marker = 'o')\n",
    "plt.colorbar()"
   ]
  },
  {
   "cell_type": "markdown",
   "id": "dabca336",
   "metadata": {},
   "source": [
    "Map-making"
   ]
  },
  {
   "cell_type": "code",
   "execution_count": null,
   "id": "47147f72",
   "metadata": {},
   "outputs": [],
   "source": [
    "d['tol'] = 1e-5\n",
    "if d['nf_sub'] == 1:\n",
    "    #_, nus_edge, nus, _, _, _ = qubic.compute_freq(d['filter_nu'] / 1e9, 1, d['filter_relative_bandwidth'])\n",
    "    arec = qubic.QubicAcquisition(q, p, s, d)\n",
    "    cov = arec.get_coverage()\n",
    "    maps_recon, nit, error = arec.tod2map(todjoint, d, cov=cov)\n",
    "    #_, maps_convolved = arec.get_observation(MoonMap4qs, noiseless = d['noiseless'], convolution = True)\n",
    "else: \n",
    "    arec = qubic.QubicMultibandAcquisition(q, p, s, d, nus_edge)\n",
    "    cov = arec.get_coverage()\n",
    "    maps_recon, nit, error = arec.tod2map(TOD, d, cov=cov)\n",
    "    _, maps_convolved = arec.get_observation(x0, noiseless=d['noiseless'], convolution=True)\n",
    "    cov = np.sum(cov, axis=0)\n",
    "    "
   ]
  },
  {
   "cell_type": "code",
   "execution_count": null,
   "id": "78a21940",
   "metadata": {},
   "outputs": [],
   "source": [
    "_, maps_convolved = arec.get_observation(MoonMap4scan[5,0,:,0], noiseless=d['noiseless'], convolution=True)\n",
    "maxcov = np.max(cov)\n",
    "unseen = cov < maxcov * 0.1"
   ]
  },
  {
   "cell_type": "code",
   "execution_count": null,
   "id": "296620b5",
   "metadata": {},
   "outputs": [],
   "source": [
    "maps_convolved.shape, unseen.sum(), maps_recon.shape"
   ]
  },
  {
   "cell_type": "code",
   "execution_count": null,
   "id": "ed557822",
   "metadata": {},
   "outputs": [],
   "source": [
    "if d['nf_sub'] == 1:\n",
    "    maps_convolved = np.array(maps_convolved)\n",
    "    maps_convolved[unseen] = hp.UNSEEN\n",
    "    maps_recon[unseen] = hp.UNSEEN"
   ]
  },
  {
   "cell_type": "code",
   "execution_count": null,
   "id": "7a108fce",
   "metadata": {},
   "outputs": [],
   "source": [
    "plt.figure(figsize = (16,8))\n",
    "hp.gnomview(maps_recon, rot = (116.4,40), sub = 132, title = 'Reconstructed tol={}, chunks = {}'.format(d['tol'],\n",
    "                                                                                                       nparts_samples),\n",
    "           reso = 12, xsize = 250, ysize = 200)\n",
    "hp.graticule(dpar = 8, dmer = 8, color = 'w', verbose = False)\n",
    "hp.gnomview(maps_convolved, rot = (116.4,40),  sub = 131, title = 'Convolved (1 chunk)',\n",
    "           reso = 12, xsize = 250, ysize = 200)\n",
    "hp.graticule(dpar = 8, dmer = 8, color = 'w', verbose = False)\n",
    "hp.gnomview(cov, rot = (116.4,40), sub = 133, title = 'Coverage',\n",
    "           reso = 12, xsize = 250, ysize = 200)\n",
    "hp.graticule(dpar = 8, dmer = 8, color = 'w', verbose = False)\n",
    "#hp.projscatter(az_chunks, el_chunks, label = 'input Moon',\n",
    "#               lonlat = True, marker = 'o', s = 30, c = 'darkgreen')\n",
    "plt.legend()"
   ]
  },
  {
   "cell_type": "markdown",
   "id": "29bfeb79",
   "metadata": {},
   "source": [
    "Now in equatorial coordinates"
   ]
  },
  {
   "cell_type": "code",
   "execution_count": null,
   "id": "64bf99a1",
   "metadata": {},
   "outputs": [],
   "source": [
    "covmsk = cov > np.max(cov)*0.1\n",
    "covmsked = cov.copy()\n",
    "covmsked[~covmsk] = hp.UNSEEN\n",
    "hp.mollview(covmsked)"
   ]
  },
  {
   "cell_type": "code",
   "execution_count": null,
   "id": "5b2801c0",
   "metadata": {},
   "outputs": [],
   "source": [
    "# Convert all coords from healpix pixels (in lon, lat) in (az, el)\n",
    "lonlat = hp.pix2ang(nside, np.arange(12*nside**2), lonlat = True)"
   ]
  },
  {
   "cell_type": "code",
   "execution_count": null,
   "id": "f3b12ea9",
   "metadata": {},
   "outputs": [],
   "source": [
    "# Convert (az, el) in (ra, dec)\n",
    "lentime = len(p.time)\n",
    "racoord, decoord = np.zeros((lentime,)), np.zeros((lentime,))\n",
    "for i in range(12*256**2):\n",
    "    racoord[i], decoord[i] = qubic.hor2equ(lonlat[0][i], lonlat[1][i], p.time[i], d['date_obs'] )"
   ]
  },
  {
   "cell_type": "code",
   "execution_count": null,
   "id": "58e436ed",
   "metadata": {},
   "outputs": [],
   "source": [
    "# Convert (ra, dec) to (lon, lat)\n",
    "lonlat_new = racoord[]"
   ]
  },
  {
   "cell_type": "code",
   "execution_count": null,
   "id": "88545de1",
   "metadata": {},
   "outputs": [],
   "source": [
    "angs = hp.pix2ang(nside, np.arange(12*nside**2))\n"
   ]
  },
  {
   "cell_type": "code",
   "execution_count": null,
   "id": "34e31635",
   "metadata": {},
   "outputs": [],
   "source": []
  }
 ],
 "metadata": {
  "kernelspec": {
   "display_name": "Python 3 (ipykernel)",
   "language": "python",
   "name": "python3"
  }
 },
 "nbformat": 4,
 "nbformat_minor": 5
}
