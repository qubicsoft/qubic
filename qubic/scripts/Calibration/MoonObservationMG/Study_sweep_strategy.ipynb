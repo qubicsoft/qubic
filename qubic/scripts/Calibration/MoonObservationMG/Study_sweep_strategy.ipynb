{
 "cells": [
  {
   "cell_type": "code",
   "execution_count": null,
   "id": "d06931e2",
   "metadata": {},
   "outputs": [],
   "source": [
    "# Config notebook\n",
    "from IPython.display import display, HTML\n",
    "display(HTML(\"<style>.container { width:95% !important; }</style>\"))"
   ]
  },
  {
   "cell_type": "code",
   "execution_count": null,
   "id": "42a9a83a",
   "metadata": {},
   "outputs": [],
   "source": [
    "import numpy as np\n",
    "import matplotlib.pyplot as plt\n",
    "import healpy as hp\n",
    "\n",
    "import sys\n",
    "from importlib import reload\n",
    "from astropy.visualization import astropy_mpl_style, quantity_support\n",
    "plt.style.use(astropy_mpl_style)\n",
    "quantity_support()\n",
    "import astropy.units as u\n",
    "from astropy.time import Time\n",
    "from astropy.coordinates import SkyCoord, EarthLocation, AltAz, get_moon, get_sun#, HADec, BaseRADecFrame\n",
    "\n",
    "import qubic"
   ]
  },
  {
   "cell_type": "code",
   "execution_count": null,
   "id": "39b8bcbc",
   "metadata": {},
   "outputs": [],
   "source": [
    "from pyoperators import (\n",
    "    Cartesian2SphericalOperator, Rotation3dOperator,\n",
    "    Spherical2CartesianOperator, rule_manager)\n",
    "from pyoperators.utils import deprecated, isscalarlike\n",
    "from pysimulators import (\n",
    "    CartesianEquatorial2GalacticOperator,\n",
    "    CartesianEquatorial2HorizontalOperator,\n",
    "    CartesianHorizontal2EquatorialOperator,\n",
    "    CartesianGalactic2EquatorialOperator,\n",
    "    SamplingHorizontal,\n",
    "    SphericalEquatorial2GalacticOperator,\n",
    "    SphericalGalactic2EquatorialOperator,\n",
    "    SphericalEquatorial2HorizontalOperator,\n",
    "    SphericalHorizontal2EquatorialOperator)\n"
   ]
  },
  {
   "cell_type": "code",
   "execution_count": null,
   "id": "96c95c8f",
   "metadata": {},
   "outputs": [],
   "source": [
    "Salta = EarthLocation(lat=-24.731358*u.deg, lon=-65.409535*u.deg, height=1152*u.m)\n",
    "utcoffset = -3*u.hour  # Eastern Daylight Time\n",
    "door_az = 115.\n",
    "az_span = 50.\n",
    "el_min = 30.\n",
    "el_max = 50."
   ]
  },
  {
   "cell_type": "code",
   "execution_count": null,
   "id": "fe8bb56b",
   "metadata": {},
   "outputs": [],
   "source": [
    "days = ['2022-07-12']\n",
    "day = '2022-07-12'"
   ]
  },
  {
   "cell_type": "code",
   "execution_count": null,
   "id": "93fb445b",
   "metadata": {},
   "outputs": [],
   "source": [
    "start_obs_hour = '00:00:00'\n",
    "date = Time(day+ ' 00:00:00')\n",
    "start_obs_date = day +' '+start_obs_hour\n",
    "delta_time = np.linspace(12,30, 1000)*u.hour\n",
    "time0 = Time(start_obs_date)-utcoffset\n",
    "alltimes = time0 + delta_time\n",
    "local_time_hours = ((Time(start_obs_date) + delta_time).cxcsec - date.cxcsec)/3600\n",
    "### Local coordinates\n",
    "frame_Salta = AltAz(obstime=alltimes, location=Salta)\n",
    "### Moon\n",
    "moon_Salta = get_moon(alltimes)\n",
    "moonaltazs_Salta = moon_Salta.transform_to(frame_Salta)  \n",
    "### Moon\n",
    "sun_Salta = get_sun(alltimes)\n",
    "sunaltazs_Salta = sun_Salta.transform_to(frame_Salta)  \n",
    "delta_el = 20\n",
    "valid = (moonaltazs_Salta.alt.value < (el_max+delta_el)) & \\\n",
    "        (moonaltazs_Salta.alt.value > (el_min-delta_el)) & \\\n",
    "        (moonaltazs_Salta.az.value > 80) & \\\n",
    "        (moonaltazs_Salta.az.value < 145)\n",
    "tstart = np.min(local_time_hours[valid])\n",
    "tstop = np.max(local_time_hours[valid])\n",
    "local_start = str(Time(start_obs_date)+tstart*u.hour)[:16]\n",
    "local_stop = str(Time(start_obs_date)+tstop*u.hour)[:16]\n",
    "UTC_start = str(Time(start_obs_date)-utcoffset+tstart*u.hour)[:16]\n",
    "UTC_stop = str(Time(start_obs_date)-utcoffset+tstop*u.hour)[:16]"
   ]
  },
  {
   "cell_type": "code",
   "execution_count": null,
   "id": "67570d44",
   "metadata": {},
   "outputs": [],
   "source": [
    "d = qubic.qubicdict.qubicDict()\n",
    "d.read_from_file('MoonObservation.dict')\n",
    "d['nf_sub'] = 1\n",
    "d['date_obs'] = str(Time(start_obs_date)-utcoffset+tstart*u.hour)\n",
    "d['latitude'] = -24.731377    ### Salta Regional Noroeste\n",
    "d['longitude'] = -65.409546   ### Salta Regional Noroeste\n",
    "d['sampling'] = 1.\n",
    "moon_ra_mean = np.mean(moon_Salta.ra[valid]/u.deg)\n",
    "moon_dec_mean = np.mean(moon_Salta.dec[valid]/u.deg)\n",
    "d['RA_center'] = moon_ra_mean #deg\n",
    "d['DEC_center'] = moon_dec_mean #deg\n",
    "d['duration'] = tstop-tstart # Hours\n",
    "d['angspeed'] = 0.8 #deg/s\n",
    "d['delta_az'] = az_span #deg\n",
    "d['nsweeps_per_elevation'] = 1\n",
    "d['angspeed_psi'] = 0. #deg/s\n",
    "backforthdt = d['delta_az'] / d['angspeed'] * 2\n",
    "print('Scan Duration: ',backforthdt)\n",
    "d['dead_time'] = 0.\n",
    "print('Dead Time = {}'.format(d['dead_time']))\n",
    "print('Sampling strategy, sweep?: {}, rand? {}, repeat? {}'.format(d['sweeping_pointing'],\n",
    "                                                                  d['random_pointing'],\n",
    "                                                                  d['repeat_pointing']))\n"
   ]
  },
  {
   "cell_type": "code",
   "execution_count": null,
   "id": "19fddb2e",
   "metadata": {},
   "outputs": [],
   "source": [
    "el_min = 30.\n",
    "el_max = 50.\n",
    "n_elevations = int(d['duration']*3600/(backforthdt+d['dead_time']))+1\n",
    "el_step = np.round((el_max - el_min) / n_elevations * 100) / 100\n",
    "d['fix_azimuth'] = {'apply':True,'az':105.,\n",
    "                     'el':40,'el_step':el_step, 'fix_hwp':True, 'fix_pitch':True}\n",
    "print(d['fix_azimuth'])\n",
    "print('call')\n",
    "p = qubic.get_pointing(d)\n",
    "print(p.elevation)\n",
    "\n",
    "el_min_final = np.min(p.elevation)\n",
    "el_max_final = np.max(p.elevation)"
   ]
  },
  {
   "cell_type": "code",
   "execution_count": null,
   "id": "37ae812e",
   "metadata": {},
   "outputs": [],
   "source": [
    "#d['RA_center'], d['DEC_center'] = 60,45#qubic.gal2equ(60, -45)\n",
    "s = qubic.QubicScene(d)\n",
    "    \n",
    "q = qubic.QubicInstrument(d)\n",
    "#q = qubic.QubicMultibandInstrument(d)\n",
    "atod = qubic.QubicAcquisition(q, p, s, d)\n"
   ]
  },
  {
   "cell_type": "code",
   "execution_count": null,
   "id": "10c613ff",
   "metadata": {},
   "outputs": [],
   "source": [
    "d1 = d.copy()\n",
    "d1['sweeping_pointing'] = False\n",
    "d1['repeat_pointing'] = True\n",
    "d1['npointings'] = 9000\n",
    "p1 = qubic.get_pointing(d1)\n",
    "s1 = qubic.QubicScene(d1)    \n",
    "q1 = qubic.QubicInstrument(d1)\n",
    "#q = qubic.QubicMultibandInstrument(d)\n",
    "atod1 = qubic.QubicAcquisition(q1, p1, s1, d1)\n",
    "cov1 = atod1.get_coverage()"
   ]
  },
  {
   "cell_type": "code",
   "execution_count": null,
   "id": "4ab46402",
   "metadata": {},
   "outputs": [],
   "source": [
    "cov = atod.get_coverage()"
   ]
  },
  {
   "cell_type": "code",
   "execution_count": null,
   "id": "c1dd25ca",
   "metadata": {},
   "outputs": [],
   "source": [
    "plt.figure(figsize = (12,10))\n",
    "hp.mollview(cov, title = \"sweep\", sub = 121)\n",
    "hp.mollview(cov1, title = \"repeat\", sub = 122)"
   ]
  },
  {
   "cell_type": "markdown",
   "id": "2b7eb163",
   "metadata": {},
   "source": [
    "Plot in pyplot projected manually"
   ]
  },
  {
   "cell_type": "code",
   "execution_count": null,
   "id": "05120a54",
   "metadata": {},
   "outputs": [],
   "source": [
    "plt.plot(cov1)\n",
    "plt.plot(cov)"
   ]
  },
  {
   "cell_type": "code",
   "execution_count": null,
   "id": "28a89b89",
   "metadata": {},
   "outputs": [],
   "source": [
    "# quiero ver qué coordenadas de salida tiene usa el mapa healix en cada estrategia de apuntamiento\n",
    "# Get the indexes of healpy map of the coverage map of sweeping\n",
    "covmask = cov > 0\n",
    "covindex = np.arange(0,12*256**2)[covmask] \n",
    "angscov = np.radians(np.array(hp.pix2ang(d['nside'], covindex, lonlat = True))) #theta, phi\n",
    "# Same for repeat strategy\n",
    "covmask1 = cov1 > 0\n",
    "covindex1 = np.arange(0,12*256**2)[covmask1] \n",
    "angscov1 = np.radians(np.array(hp.pix2ang(d['nside'], covindex1, lonlat = True))) #theta, phi"
   ]
  },
  {
   "cell_type": "code",
   "execution_count": null,
   "id": "cea9123f",
   "metadata": {},
   "outputs": [],
   "source": [
    "plt.figure(figsize= (12,4))\n",
    "plt.subplot(121)\n",
    "# convert to 1st and 4th quadrant the coordinates\n",
    "fourth = angscov1[0][:] > np.pi\n",
    "angscov1[0][fourth] = angscov1[0][fourth]-2*np.pi \n",
    "plt.scatter(angscov[0][:], angscov[1][:], label = 'sweep')\n",
    "plt.scatter(angscov1[0][:], angscov1[1][:], label = 'repeat')\n",
    "plt.xlabel(r'$long$')\n",
    "plt.ylabel(r'$lat$')\n",
    "plt.legend()\n",
    "plt.subplot(122)\n",
    "plt.plot(cov, label = 'sweep')\n",
    "plt.plot(cov1, label = 'repeat')\n",
    "plt.xlabel('index hp')\n",
    "plt.ylabel('coverage')\n",
    "plt.legend()"
   ]
  },
  {
   "cell_type": "code",
   "execution_count": null,
   "id": "3d08cda3",
   "metadata": {},
   "outputs": [],
   "source": [
    "plt.figure(figsize = (12,8))\n",
    "plt.subplot(111, projection = 'mollweide')\n",
    "plt.plot(angscov[0][:], angscov[1][:], label = 'sweep')\n",
    "plt.plot(angscov1[0][:], angscov1[1][:],label = 'repeat')\n",
    "plt.legend()"
   ]
  },
  {
   "cell_type": "markdown",
   "id": "fe8fd729",
   "metadata": {},
   "source": [
    "**Possible bug in rotations from horizontal2instrument (if fix_az) and galactic2instrument** (module: instrument.py, method: get_projection_operator, lines: 1255-1258)"
   ]
  },
  {
   "cell_type": "markdown",
   "id": "d226abf7",
   "metadata": {},
   "source": [
    "Should we translate the az, el positions in p to galactic coordinates? "
   ]
  },
  {
   "cell_type": "code",
   "execution_count": null,
   "id": "278fdd58",
   "metadata": {},
   "outputs": [],
   "source": [
    "#Look at the centers\n",
    "print(\"d\", d['RA_center'], d['DEC_center'])\n",
    "print(\"d1\", d1['RA_center'], d1['DEC_center'])"
   ]
  },
  {
   "cell_type": "code",
   "execution_count": null,
   "id": "35f243bc",
   "metadata": {},
   "outputs": [],
   "source": [
    "np.mean(p.equatorial, axis = 0), np.mean(p1.equatorial, axis = 0)\n",
    "plt.figure(figsize = (12,4))\n",
    "plt.subplot(121)\n",
    "plt.scatter(p.equatorial[:,0], p.equatorial[:,1], alpha = 0.3, color = 'brown')\n",
    "plt.scatter(p1.equatorial[:,0], p1.equatorial[:,1], alpha = 0.3, color = 'cyan')\n",
    "plt.subplot(122)\n",
    "mask = p.galactic[:,0] > 180\n",
    "mask1 = p1.galactic[:,0] > 180\n",
    "plt.scatter(p.galactic[mask,0]-360, p.galactic[mask,1], alpha = 0.3, color = 'brown')\n",
    "plt.scatter(p.galactic[~mask,0], p.galactic[~mask,1], alpha = 0.3, color = 'brown')\n",
    "plt.scatter(p1.galactic[mask1,0]-360, p1.galactic[mask1,1], alpha = 0.3, color = 'cyan')\n",
    "plt.scatter(p1.galactic[~mask1,0], p1.galactic[~mask1,1], alpha = 0.3, color = 'cyan')\n"
   ]
  },
  {
   "cell_type": "markdown",
   "id": "8cd41c42",
   "metadata": {},
   "source": [
    "Debug sweep method"
   ]
  },
  {
   "cell_type": "code",
   "execution_count": null,
   "id": "4da81232",
   "metadata": {},
   "outputs": [],
   "source": [
    "def local_sweep(\n",
    "        center, duration, period, angspeed, delta_az, nsweeps_per_elevation,\n",
    "        angspeed_psi, maxpsi, hwp_stepsize, date_obs=None, latitude=None, longitude=None, fix_azimuth=None, random_hwp=True):\n",
    "\n",
    "    nsamples = int(np.ceil(duration * 3600 / period))\n",
    "    out = qubic.QubicSampling(\n",
    "        nsamples, date_obs=date_obs, period=period, latitude=latitude,\n",
    "        longitude=longitude)\n",
    "    racenter = center[0]\n",
    "    deccenter = center[1]\n",
    "    backforthdt = delta_az / angspeed * 2\n",
    "\n",
    "    # compute the sweep number\n",
    "    isweeps = np.floor(out.time / backforthdt).astype(int)\n",
    "\n",
    "    # azimuth/elevation of the center of the field as a function of time\n",
    "\n",
    "    if fix_azimuth['apply']:\n",
    "        azcenter = out.time * 0 + fix_azimuth['az']\n",
    "        elcenter = out.time * 0 + fix_azimuth['el']\n",
    "        print(azcenter, elcenter)\n",
    "        #rot = Rotation3dOperator(\"ZY'\", center[0], 90 - center[1], degrees=True)\n",
    "        #s2c = Spherical2CartesianOperator('zenith,azimuth', degrees=True)\n",
    "        #rotation = c2s(e2h(rot(s2c)))\n",
    "        #coords = rotation(np.asarray([theta.T, phi.T]).T)\n",
    "        #p.azimuth = coords[..., 0]\n",
    "        #p.elevation = coords[..., 1]\n",
    "    else:\n",
    "        azcenter, elcenter = equ2hor(racenter, deccenter, out.time, date_obs=out.date_obs, latitude=out.latitude,\n",
    "                                     longitude=out.longitude)\n",
    "\n",
    "    # compute azimuth offset for all time samples\n",
    "    daz = out.time * angspeed\n",
    "    daz = daz % (delta_az * 2)\n",
    "    mask = daz > delta_az\n",
    "    daz[mask] = -daz[mask] + 2 * delta_az\n",
    "    daz -= delta_az / 2\n",
    "\n",
    "    # elevation is kept constant during nsweeps_per_elevation\n",
    "    elcst = np.zeros(nsamples)\n",
    "    ielevations = isweeps // nsweeps_per_elevation\n",
    "    nelevations = ielevations[-1] + 1\n",
    "    for i in range(nelevations):\n",
    "        mask = ielevations == i\n",
    "        elcst[mask] = np.mean(elcenter[mask])\n",
    "        if fix_azimuth is not None:\n",
    "            if fix_azimuth['apply']:\n",
    "                el_step = fix_azimuth['el_step']\n",
    "                elcst[mask] = elcenter[mask] - nelevations / 2 * el_step + i * el_step\n",
    "\n",
    "    # azimuth and elevations to use for pointing\n",
    "    azptg = azcenter + daz\n",
    "    elptg = elcst\n",
    "    plt.scatter(azptg, elptg)\n",
    "\n",
    "    ### scan psi as well\n",
    "    pitch = out.time * angspeed_psi\n",
    "    pitch = pitch % (4 * maxpsi)\n",
    "    mask = pitch > (2 * maxpsi)\n",
    "    pitch[mask] = -pitch[mask] + 4 * maxpsi\n",
    "    pitch -= maxpsi\n",
    "\n",
    "    out.azimuth = azptg\n",
    "    out.elevation = elptg\n",
    "    out.pitch = pitch\n",
    "    if random_hwp:\n",
    "        out.angle_hwp = np.random.randint(0, int(90 / hwp_stepsize + 1), nsamples) * hwp_stepsize\n",
    "    else:\n",
    "        out.angle_hwp = np.zeros(nsamples)\n",
    "        max_sweeps = np.max(isweeps)\n",
    "        delta = int(nsamples / max_sweeps)\n",
    "        for i in range(max_sweeps):\n",
    "            out.angle_hwp[i * delta:(i + 1) * delta] = hwp_stepsize * np.mod(i, int(90 / hwp_stepsize + 1))\n",
    "\n",
    "    if fix_azimuth['apply']:\n",
    "        out.fix_az = True\n",
    "        if fix_azimuth['fix_hwp']:\n",
    "            out.angle_hwp = out.pitch * 0 + hwp_stepsize\n",
    "        if fix_azimuth['fix_pitch']:\n",
    "            out.pitch = 0\n",
    "    else:\n",
    "        out.fix_az = False\n",
    "\n",
    "    return out"
   ]
  },
  {
   "cell_type": "code",
   "execution_count": null,
   "id": "a7bc573e",
   "metadata": {},
   "outputs": [],
   "source": [
    "center = (d['RA_center'], d['DEC_center'])\n",
    "local_p = local_sweep(center, d['duration'], d['period'],\n",
    "             d['angspeed'], d['delta_az'],\n",
    "             d['nsweeps_per_elevation'],\n",
    "             d['angspeed_psi'], d['maxpsi'], d['hwp_stepsize'],\n",
    "             date_obs=d['date_obs'],\n",
    "             latitude=d['latitude'],\n",
    "             longitude=d['longitude'],\n",
    "             fix_azimuth=d['fix_azimuth'], random_hwp=d['random_hwp'])"
   ]
  },
  {
   "cell_type": "code",
   "execution_count": null,
   "id": "44ce21e1",
   "metadata": {},
   "outputs": [],
   "source": [
    "maparr = np.zeros((12*d['nside']**2))\n",
    "maparr[hp.ang2pix(256, np.radians(90-local_p.elevation), np.radians(local_p.azimuth))] = 1\n",
    "hp.mollview(maparr)"
   ]
  },
  {
   "cell_type": "markdown",
   "id": "fd69cff1",
   "metadata": {},
   "source": [
    "In Healpix space the coverage is computed in a horizontal reference frame. Not in equatorial or galactic one. We have to perform a rotation so all the pointings has the same output"
   ]
  },
  {
   "cell_type": "code",
   "execution_count": null,
   "id": "6f4b0d9d",
   "metadata": {},
   "outputs": [],
   "source": [
    "def local_sweep_rotated(\n",
    "        center, duration, period, angspeed, delta_az, nsweeps_per_elevation,\n",
    "        angspeed_psi, maxpsi, hwp_stepsize, date_obs=None, latitude=None, longitude=None, fix_azimuth=None, random_hwp=True):\n",
    "\n",
    "    nsamples = int(np.ceil(duration * 3600 / period))\n",
    "    out = qubic.QubicSampling(\n",
    "        nsamples, date_obs=date_obs, period=period, latitude=latitude,\n",
    "        longitude=longitude)\n",
    "    racenter = center[0]\n",
    "    deccenter = center[1]\n",
    "    backforthdt = delta_az / angspeed * 2\n",
    "\n",
    "    # compute the sweep number\n",
    "    isweeps = np.floor(out.time / backforthdt).astype(int)\n",
    "\n",
    "    # azimuth/elevation of the center of the field as a function of time\n",
    "\n",
    "    if fix_azimuth['apply']:\n",
    "        azcenter = out.time * 0 + fix_azimuth['az']\n",
    "        elcenter = out.time * 0 + fix_azimuth['el']\n",
    "        print(azcenter, elcenter)\n",
    "    else:\n",
    "        azcenter, elcenter = equ2hor(racenter, deccenter, out.time, date_obs=out.date_obs, latitude=out.latitude,\n",
    "                                     longitude=out.longitude)\n",
    "\n",
    "    # compute azimuth offset for all time samples\n",
    "    daz = out.time * angspeed\n",
    "    daz = daz % (delta_az * 2)\n",
    "    mask = daz > delta_az\n",
    "    daz[mask] = -daz[mask] + 2 * delta_az\n",
    "    daz -= delta_az / 2\n",
    "\n",
    "    # elevation is kept constant during nsweeps_per_elevation\n",
    "    elcst = np.zeros(nsamples)\n",
    "    ielevations = isweeps // nsweeps_per_elevation\n",
    "    nelevations = ielevations[-1] + 1\n",
    "    for i in range(nelevations):\n",
    "        mask = ielevations == i\n",
    "        elcst[mask] = np.mean(elcenter[mask])\n",
    "        if fix_azimuth is not None:\n",
    "            if fix_azimuth['apply']:\n",
    "                el_step = fix_azimuth['el_step']\n",
    "                elcst[mask] = elcenter[mask] - nelevations / 2 * el_step + i * el_step\n",
    "\n",
    "    # azimuth and elevations to use for pointing\n",
    "    azptg = azcenter + daz\n",
    "    elptg = elcst\n",
    "    plt.scatter(azptg, elptg)\n",
    "    # Rotation\n",
    "    rot = Rotation3dOperator(\"ZY'\", azcenter[0], 90 - elcenter[0], degrees=True)\n",
    "    s2c = Spherical2CartesianOperator('zenith,azimuth', degrees=True)\n",
    "    rotation = rot(s2c)\n",
    "    coords = rotation(np.asarray([np.radians(90-elptg).T, np.radians(azptg).T]).T)\n",
    "    azptg = coords[..., 0]\n",
    "    elptg = coords[..., 1]\n",
    "\n",
    "    ### scan psi as well\n",
    "    pitch = out.time * angspeed_psi\n",
    "    pitch = pitch % (4 * maxpsi)\n",
    "    mask = pitch > (2 * maxpsi)\n",
    "    pitch[mask] = -pitch[mask] + 4 * maxpsi\n",
    "    pitch -= maxpsi\n",
    "\n",
    "    out.azimuth = azptg\n",
    "    out.elevation = elptg\n",
    "    out.pitch = pitch\n",
    "    if random_hwp:\n",
    "        out.angle_hwp = np.random.randint(0, int(90 / hwp_stepsize + 1), nsamples) * hwp_stepsize\n",
    "    else:\n",
    "        out.angle_hwp = np.zeros(nsamples)\n",
    "        max_sweeps = np.max(isweeps)\n",
    "        delta = int(nsamples / max_sweeps)\n",
    "        for i in range(max_sweeps):\n",
    "            out.angle_hwp[i * delta:(i + 1) * delta] = hwp_stepsize * np.mod(i, int(90 / hwp_stepsize + 1))\n",
    "\n",
    "    if fix_azimuth['apply']:\n",
    "        out.fix_az = True\n",
    "        if fix_azimuth['fix_hwp']:\n",
    "            out.angle_hwp = out.pitch * 0 + hwp_stepsize\n",
    "        if fix_azimuth['fix_pitch']:\n",
    "            out.pitch = 0\n",
    "    else:\n",
    "        out.fix_az = False\n",
    "\n",
    "    return out"
   ]
  },
  {
   "cell_type": "code",
   "execution_count": null,
   "id": "94942ce1",
   "metadata": {},
   "outputs": [],
   "source": [
    "local_sweep_rotated(center, d['duration'], d['period'],\n",
    "             d['angspeed'], d['delta_az'],\n",
    "             d['nsweeps_per_elevation'],\n",
    "             d['angspeed_psi'], d['maxpsi'], d['hwp_stepsize'],\n",
    "             date_obs=d['date_obs'],\n",
    "             latitude=d['latitude'],\n",
    "             longitude=d['longitude'],\n",
    "             fix_azimuth=d['fix_azimuth'], random_hwp=d['random_hwp'])"
   ]
  },
  {
   "cell_type": "code",
   "execution_count": null,
   "id": "32a54565",
   "metadata": {},
   "outputs": [],
   "source": [
    "maparr_rot = np.zeros((12*d['nside']**2))\n",
    "maparr_rot[hp.ang2pix(256, np.radians(90-local_p.elevation), np.radians(local_p.azimuth))] = 1\n",
    "hp.mollview(maparr_rot)"
   ]
  },
  {
   "cell_type": "markdown",
   "id": "f71d949f",
   "metadata": {},
   "source": [
    "See hit_map()...looks fine"
   ]
  },
  {
   "cell_type": "code",
   "execution_count": null,
   "id": "cd74b00c",
   "metadata": {},
   "outputs": [],
   "source": [
    "hp.mollview(atod1.get_hitmap(), )\n",
    "hp.mollview(atod.get_hitmap())"
   ]
  },
  {
   "cell_type": "code",
   "execution_count": null,
   "id": "4a737f36",
   "metadata": {},
   "outputs": [],
   "source": []
  }
 ],
 "metadata": {
  "kernelspec": {
   "display_name": "Python 3",
   "language": "python",
   "name": "python3"
  }
 },
 "nbformat": 4,
 "nbformat_minor": 5
}
