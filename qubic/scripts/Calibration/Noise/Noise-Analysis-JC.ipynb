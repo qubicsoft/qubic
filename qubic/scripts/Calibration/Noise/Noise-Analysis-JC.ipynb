{
 "cells": [
  {
   "cell_type": "code",
   "execution_count": null,
   "id": "812f2c1e",
   "metadata": {},
   "outputs": [],
   "source": [
    "#%matplotlib notebook\n",
    "%matplotlib inline\n",
    "from matplotlib import rc\n",
    "rc('figure',figsize=(15,8))\n",
    "rc('font',size=12)\n",
    "rc('text',usetex=False)\n",
    "\n",
    "from qubicpack.qubicfp import qubicfp\n",
    "import qubic.fibtools as ft\n",
    "import qubic.plotters as p\n",
    "import qubic.lin_lib as ll\n",
    "import qubic.demodulation_lib as dl\n",
    "import satorchipy as stpy\n",
    "from pysimulators import FitsArray\n",
    "\n",
    "import numpy as np\n",
    "from matplotlib.pyplot import *\n",
    "import matplotlib.mlab as mlab\n",
    "import scipy.ndimage.filters as f\n",
    "import glob\n",
    "import string\n",
    "import scipy.signal as scsig\n",
    "from scipy import interpolate\n",
    "import datetime as dt\n",
    "import pickle\n",
    "from importlib import reload"
   ]
  },
  {
   "cell_type": "markdown",
   "id": "20558918",
   "metadata": {},
   "source": [
    "We use data from 2020-01-07 taken while the 1K stage was cooling down, so with variable loading on the TES."
   ]
  },
  {
   "cell_type": "code",
   "execution_count": null,
   "id": "0a46d5c4",
   "metadata": {},
   "outputs": [],
   "source": [
    "day = '2020-01-07'\n",
    "keyword = '*Noise*'\n",
    "#data_dir = '/qubic/Data/Calib-TD/'+day+'/'\n",
    "data_dir = '/Users/hamilton/Qubic/Calib-TD/'+day+'/'\n",
    "dirs = np.sort(glob.glob(data_dir+keyword))\n",
    "print (dirs)\n"
   ]
  },
  {
   "cell_type": "code",
   "execution_count": null,
   "id": "f1ce4dc3",
   "metadata": {},
   "outputs": [],
   "source": [
    "ifile = 0\n",
    "thedir = dirs[ifile]\n",
    "print(thedir)\n",
    "a = qubicfp()\n",
    "a.read_qubicstudio_dataset(thedir)\n",
    "a.timeaxis(asic=1,datatype='sci',axistype='index')\n",
    "data=a.azel_etc(TES=None)\n",
    "t0=data['t_data 1'][0]"
   ]
  },
  {
   "cell_type": "code",
   "execution_count": null,
   "id": "c0307cce",
   "metadata": {},
   "outputs": [],
   "source": [
    "print('HK Keys:')\n",
    "print(a.hk.keys())\n",
    "print('')\n",
    "print('HK Extern Keys:')\n",
    "print(a.hk['EXTERN_HK'].keys())\n",
    "print('')\n",
    "print('HK Intern Keys:')\n",
    "print(a.hk['INTERN_HK'].keys())\n",
    "print('')\n",
    "print('Data Keys:')\n",
    "print(data.keys())"
   ]
  },
  {
   "cell_type": "code",
   "execution_count": null,
   "id": "be0deed3",
   "metadata": {},
   "outputs": [],
   "source": [
    "### 1K temperature from '1K stage back'->AVS47_2_CH3 or M2->AVS47_1_CH7\n",
    "time_1k = a.hk['EXTERN_HK']['GPSDate']-t0\n",
    "temp_1k = a.hk['EXTERN_HK']['AVS47_2_CH3']\n",
    "temp_M2 = a.hk['EXTERN_HK']['AVS47_1_CH7']\n",
    "\n",
    "plot(time_1k, temp_1k)\n",
    "plot(time_1k, temp_M2)"
   ]
  },
  {
   "cell_type": "markdown",
   "id": "c7a38f46",
   "metadata": {},
   "source": [
    "Plot some TES"
   ]
  },
  {
   "cell_type": "code",
   "execution_count": null,
   "id": "c870cd9d",
   "metadata": {},
   "outputs": [],
   "source": [
    "tesnums = [95, 2]\n",
    "asicnums = [1, 2]\n",
    "\n",
    "subplot(1,3,1)\n",
    "for i in range(len(tesnums)):\n",
    "    plot(data['t_data {}'.format(asicnums[i])]-t0, -dl.renorm(data['data {}'.format(asicnums[i])][tesnums[i],:]),\n",
    "        label='Data TES{} ASIC {}'.format(tesnums[i], asicnums[i]))\n",
    "plot(time_1k, dl.renorm(temp_1k),label='1K Stage Back')\n",
    "plot(time_1k, dl.renorm(temp_M2),label='M2')\n",
    "legend()\n",
    "\n",
    "subplot(1,3,2)\n",
    "plot(data['data {}'.format(asicnums[0])][tesnums[0],:], data['data {}'.format(asicnums[1])][tesnums[1],:],',')\n",
    "xlabel('TES {} - ASIC {}'.format(tesnums[0], asicnums[0]))\n",
    "ylabel('TES {} - ASIC {}'.format(tesnums[0], asicnums[0]))\n",
    "tight_layout()\n",
    "\n"
   ]
  },
  {
   "cell_type": "markdown",
   "id": "fc0c6097",
   "metadata": {},
   "source": [
    "First thing that appears: does the RMS of the data change with temperature of the 1K stage ?"
   ]
  },
  {
   "cell_type": "code",
   "execution_count": null,
   "id": "b66dac9f",
   "metadata": {},
   "outputs": [],
   "source": [
    "tesnums = [95]\n",
    "asicnums = [1]\n",
    "\n",
    "i=0\n",
    "thett = data['t_data {}'.format(asicnums[i])]-t0\n",
    "thedd = data['data {}'.format(asicnums[i])][tesnums[i],:]\n",
    "lowcut = 0.1\n",
    "highcut = 10.\n",
    "newdd = ft.filter_data(thett, thedd, lowcut, highcut, rebin=True, verbose=True, order=5)\n",
    "\n",
    "newT1K = np.interp(thett, time_1k, temp_1k)\n",
    "subplot(2,2,1)\n",
    "plot(thett, thedd,label='Data')\n",
    "plot(thett, newdd, label='Data Filtered (between {} and {} Hz)'.format(lowcut, highcut))\n",
    "legend()\n",
    "subplot(2,2,2)\n",
    "plot(newT1K,newdd, ',')\n",
    "xlabel('T 1K Stage')\n",
    "ylabel('Filtered Data')\n",
    "temp, ampdata, dtemp, ddata, o = ft.profile(newT1K,newdd, nbins=25, dispersion=True, clip=3)\n",
    "#xlim(2.52, 2.53)\n",
    "ylim(-10000,10000)\n",
    "subplot(2,1,2)\n",
    "plot(temp,ddata,label='RMS data per T1K bin')\n",
    "plot(temp, ddata*0 + np.mean(ddata),'k:')\n",
    "xlabel('T 1K Stage')\n",
    "ylabel('RMS Filterd Data')\n",
    "ylim(0, np.max(ddata)*1.2)\n",
    "legend()"
   ]
  },
  {
   "cell_type": "markdown",
   "id": "a81bfd1e",
   "metadata": {},
   "source": [
    "### Study power spectra at various temperatures"
   ]
  },
  {
   "cell_type": "code",
   "execution_count": null,
   "id": "570f2d4e",
   "metadata": {},
   "outputs": [],
   "source": [
    "nT1Kbins = 3\n",
    "lims = np.linspace(np.min(temp_1k), np.max(temp_1k), nT1Kbins+1)\n",
    "print(lims)\n",
    "\n",
    "plot(time_1k, temp_1k)\n",
    "for \n",
    "\n"
   ]
  },
  {
   "cell_type": "markdown",
   "id": "f09990d0",
   "metadata": {},
   "source": [
    "### Analysis of the correlation with 1K\n",
    "Work with a reduced time range for a start (a region late in the file where 1K is stable)"
   ]
  },
  {
   "cell_type": "code",
   "execution_count": null,
   "id": "4954a6a5",
   "metadata": {},
   "outputs": [],
   "source": [
    "### ASIC 1 as a start\n",
    "asic = 1\n",
    "time_range = [9000,10000]\n",
    "print(np.min(data['t_data 1']-t0), np.max(data['t_data 1']-t0))\n",
    "ok = ((data['t_data {}'.format(asic)]-t0) >= time_range[0]) & ((data['t_data {}'.format(asic)]-t0) < time_range[1])\n",
    "tt = data['t_data {}'.format(asic)][ok]-t0\n",
    "dd = data['data {}'.format(asic)][:,ok]\n",
    "dd = (dd.T - np.mean(dd, axis=1)).T\n",
    "\n",
    "T1K = np.interp(tt, time_1k, temp_1k)\n",
    "TM2 = np.interp(tt, time_1k, temp_M2)\n",
    "\n",
    "# Some TES are constant all the way\n",
    "notzero = np.sum(dd, axis=1) != 0\n",
    "nums = np.arange(128)+1\n",
    "dd = dd[notzero,:]\n",
    "nums = nums[notzero]\n",
    "ndet = len(nums)\n",
    "\n",
    "ii = where(nums == 95)[0][0]\n",
    "print(ii)\n",
    "plot(tt, dl.renorm(dd[ii,:]))\n",
    "plot(tt, dl.renorm(T1K))\n",
    "plot(tt, dl.renorm(TM2))"
   ]
  },
  {
   "cell_type": "code",
   "execution_count": null,
   "id": "66dfe542",
   "metadata": {},
   "outputs": [],
   "source": [
    "mm,ss = ft.meancut(dd,3)\n",
    "imshow(dd, aspect='auto', vmin=mm-5*ss, vmax=mm+5*ss)"
   ]
  },
  {
   "cell_type": "code",
   "execution_count": null,
   "id": "a60c3f72",
   "metadata": {},
   "outputs": [],
   "source": [
    "subplot(1,2,1)\n",
    "imshow(np.corrcoef(dd))\n",
    "colorbar()\n",
    "title('Correlation Matrix')\n",
    "subplot(1,2,2)\n",
    "imshow(np.log1p(np.abs(np.cov(dd))))\n",
    "title('Covariance Matrix (Log10)')\n",
    "colorbar()"
   ]
  },
  {
   "cell_type": "code",
   "execution_count": null,
   "id": "7273196d",
   "metadata": {},
   "outputs": [],
   "source": [
    "### Correlation with 1K:\n",
    "corr_1K = np.zeros(ndet)\n",
    "corr_M2 = np.zeros(ndet)\n",
    "for i in range(ndet):\n",
    "    mat = np.corrcoef(dl.renorm(dd[i,:]), y=dl.renorm(T1K))\n",
    "    corr_1K[i] = mat[0,1]\n",
    "    mat = np.corrcoef(dl.renorm(dd[i,:]), y=dl.renorm(TM2))\n",
    "    corr_M2[i] = mat[0,1]\n",
    "\n",
    "plot(nums, corr_1K)\n",
    "plot(nums, corr_M2)"
   ]
  },
  {
   "cell_type": "code",
   "execution_count": null,
   "id": "ad2e2a33",
   "metadata": {},
   "outputs": [],
   "source": [
    "# from sklearn.decomposition import FastICA, PCA\n",
    "\n",
    "# # Compute ICA\n",
    "# ica = FastICA(n_components=10)\n",
    "# S_ = ica.fit_transform(dd.T)  # Reconstruct signals\n",
    "# A_ = ica.mixing_  # Get estimated mixing matrix\n",
    "\n",
    "# sh = S_.shape\n",
    "# for i in range(sh[1]):\n",
    "#     plot(tt, S_[:,i], label='ICA{}'.format(i))\n",
    "\n"
   ]
  },
  {
   "cell_type": "code",
   "execution_count": null,
   "id": "623ea40c",
   "metadata": {},
   "outputs": [],
   "source": [
    "from sklearn.decomposition import PCA\n",
    "pca = PCA(n_components=10)\n",
    "pca.fit(dd.T)\n",
    "subplot(1,2,1)\n",
    "plot(pca.explained_variance_ratio_)\n",
    "subplot(1,2,2)\n",
    "plot(pca.singular_values_)\n",
    "#sh = H.shape\n",
    "#for i in range(sh[1]):\n",
    "#    plot(tt, H[:,i], label='PCA{}'.format(i))\n",
    "\n",
    "\n"
   ]
  },
  {
   "cell_type": "code",
   "execution_count": null,
   "id": "291abfc3",
   "metadata": {},
   "outputs": [],
   "source": []
  }
 ],
 "metadata": {
  "kernelspec": {
   "display_name": "Python 3",
   "language": "python",
   "name": "python3"
  }
 },
 "nbformat": 4,
 "nbformat_minor": 5
}
