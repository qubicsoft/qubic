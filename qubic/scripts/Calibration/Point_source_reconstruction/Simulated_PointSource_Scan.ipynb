{
 "cells": [
  {
   "cell_type": "markdown",
   "id": "469cb50c",
   "metadata": {},
   "source": [
    " one thing that wuld be useful by the way, and maybe you could have a lok at this if you want:\n",
    "we would be in a much better situation for developping the reconstruction code if we had simualted data to play with. I mean simulate the observation of a source in the hall at 150 GHz with the theoretical SB => reproduce the Flat Beam Maps but with the theory, with the exact same pointing values\n",
    "so that we could:\n",
    "- test the reconstruction code\n",
    "- Try the SB Peak fitting on these\n",
    "- See how the multiband reconstruction behaves with \"true peak positions\" and with the fitted values\n"
   ]
  },
  {
   "cell_type": "code",
   "execution_count": null,
   "id": "64202e59",
   "metadata": {},
   "outputs": [],
   "source": [
    "%matplotlib inline\n",
    "\n",
    "# system packages\n",
    "import os\n",
    "import sys\n",
    "from importlib import reload \n",
    "import time\n",
    "from warnings import warn\n",
    "\n",
    "# scientific packages\n",
    "import numpy as np\n",
    "import healpy as hp\n",
    "from matplotlib.pyplot import *\n",
    "from scipy.fftpack import rfft, rfftfreq\n",
    "from tqdm import tqdm #progress bar\n",
    "\n",
    "# QUBIC packages\n",
    "import qubic\n",
    "from qubicpack.utilities import Qubic_DataDir\n",
    "from pysimulators import FitsArray\n",
    "from qubic import demodulation_lib as dl\n",
    "from qubic import sb_fitting as sbfit\n",
    "import toolfit_hpmap as fh\n",
    "from qubicpack import pixel_translation as pt\n",
    "import jchinstrument as jcinst\n",
    "\n",
    "from qubicpack.pix2tes import assign_tes_grid, tes2pix\n",
    "from pyoperators import (\n",
    "    Cartesian2SphericalOperator,\n",
    "    Rotation3dOperator,\n",
    "    Spherical2CartesianOperator)\n",
    "from pysimulators import ( \n",
    "    CartesianEquatorial2HorizontalOperator,\n",
    "    CartesianHorizontal2EquatorialOperator)\n",
    "from astropy.time import Time, TimeDelta"
   ]
  },
  {
   "cell_type": "markdown",
   "id": "75358c17",
   "metadata": {},
   "source": [
    "- First attemp with nf_sub = 10  , noiseless = True"
   ]
  },
  {
   "cell_type": "code",
   "execution_count": null,
   "id": "5c845d06",
   "metadata": {},
   "outputs": [],
   "source": [
    "d = qubic.qubicdict.qubicDict()\n",
    "d.read_from_file(os.environ['QUBIC_DICT']+'global_source_oneDet.dict')\n",
    "d['MultiBand'] = True\n",
    "d['nf_sub'] = 6\n",
    "d['kind'] = 'I'\n",
    "d['config'] = 'TD'\n",
    "d['nside'] = 256\n",
    "d['dtheta'] = 8\n",
    "d['random_pointing'] = True\n",
    "d['repeat_pointing'] = False\n",
    "d['sweeping_pointing'] = False\n",
    "#d['RA_denter'], d['DEC_center'] = 0,0 #qubic.hor2equ(0, 0, 0)\n",
    "d['synthbeam_fraction'] = 0.99\n",
    "d['noiseless'] = True"
   ]
  },
  {
   "cell_type": "markdown",
   "id": "a74a5fb5",
   "metadata": {},
   "source": [
    "Understanding step by step random_pointing... ok, understood it"
   ]
  },
  {
   "cell_type": "code",
   "execution_count": null,
   "id": "321ac602",
   "metadata": {},
   "outputs": [],
   "source": [
    "reload(fh)\n",
    "directory = os.environ['QUBIC_TODDIR'] + '150GHz-2019-04-06/'\n",
    "\n",
    "az = FitsArray(directory + 'Flat/azimuth.fits')\n",
    "el = FitsArray(directory + 'Flat/elevation.fits')\n",
    "d['npointings'] = len(az) * len(el)\n",
    "\n",
    "azcen_fov = np.mean(az)\n",
    "elcen_fov = np.mean(el)\n",
    "\n",
    "period = 0.1\n",
    "p = fh.create_hall_pointing(d, az, el, hor_center = [azcen_fov, elcen_fov], doplot = True,\n",
    "                            fillfield = False, period = period, verbose = False)"
   ]
  },
  {
   "cell_type": "code",
   "execution_count": null,
   "id": "9bdd654b",
   "metadata": {},
   "outputs": [],
   "source": [
    "s = qubic.QubicScene(d)\n",
    "q = qubic.QubicMultibandInstrument(d)\n",
    "\n",
    "#Compute frequencies\n",
    "_, nus_edge_in, nus_in, _, _, _ = qubic.compute_freq(d['filter_nu'] / 1e9, d['nf_sub'],\n",
    "                                                d['filter_relative_bandwidth'])\n",
    "a = qubic.QubicMultibandAcquisition(q, p, s, d, nus_edge_in)\n",
    "#del cov"
   ]
  },
  {
   "cell_type": "markdown",
   "id": "1b709b37",
   "metadata": {},
   "source": [
    "pq = qubic.get_pointing(d)\n",
    "aq = qubic.QubicMultibandAcquisition(q, pq, s, d, nus_edge_in)\n",
    "if (\"covq\" not in locals()):\n",
    "    covq = aq.get_coverage()\n",
    "    covq = np.mean(covq, axis = 0)\n",
    "    maskovq = covq > 0.1* np.max(covq)\n",
    "    covq[~maskovq] = hp.UNSEEN"
   ]
  },
  {
   "cell_type": "markdown",
   "id": "b88ec092",
   "metadata": {},
   "source": [
    "Testing coverage map.... ok"
   ]
  },
  {
   "cell_type": "code",
   "execution_count": null,
   "id": "d224fa86",
   "metadata": {},
   "outputs": [],
   "source": [
    "if (\"cov\" not in locals()):\n",
    "    cov = a.get_coverage()\n",
    "    cov = np.mean(cov, axis = 0)\n",
    "    maskov = cov > 0.1* np.max(cov)\n",
    "    cov[~maskov] = hp.UNSEEN\n",
    "centGal = qubic.equ2gal(d['RA_center'], d['DEC_center'])\n",
    "hp.gnomview(cov, title = \"Coverage map\", \n",
    "            rot = [azcen_fov, elcen_fov], reso = 14)"
   ]
  },
  {
   "cell_type": "markdown",
   "id": "66e5de03",
   "metadata": {},
   "source": [
    "subplot(221)\n",
    "#xlim(28000,28500)\n",
    "plot(p.azimuth)\n",
    "subplot(223)\n",
    "#xlim(28000,28500)\n",
    "plot(p.elevation)\n",
    "subplot(222)\n",
    "xlim(28000,28500)\n",
    "plot(p.azimuth)\n",
    "subplot(224)\n",
    "xlim(28000,28500)\n",
    "plot(p.elevation)\n"
   ]
  },
  {
   "cell_type": "markdown",
   "id": "a9c1c40e",
   "metadata": {},
   "source": [
    "See at the scan... Ok, works fine\n",
    "\n",
    "o --->--->--->---> ... --->\n",
    "\n",
    "                 v\n",
    "\n",
    "o --->--->--->---> ... --->\n",
    "\n",
    "                 v\n",
    "\n",
    "o --->--->--->---> ... --->|"
   ]
  },
  {
   "cell_type": "markdown",
   "id": "7ed28524",
   "metadata": {},
   "source": [
    "lim = 70\n",
    "ylim(63,66)\n",
    "scatter(p.azimuth[:lim], p.elevation[:lim], color = 'k', marker = '.', s = 5)\n",
    "scatter(p.azimuth[lim:2*lim], p.elevation[lim:2*lim], color = 'r', marker = '.', s = 5)\n",
    "scatter(p.azimuth[2*lim:3*lim], p.elevation[2*lim:3*lim], color = 'b', marker = '.', s = 5)"
   ]
  },
  {
   "cell_type": "markdown",
   "id": "ae90c15a",
   "metadata": {},
   "source": [
    "#### Generate QUBIC objects (scene, instrument, acquisition)"
   ]
  },
  {
   "cell_type": "code",
   "execution_count": null,
   "id": "0e4894a3",
   "metadata": {},
   "outputs": [],
   "source": [
    "#Create object with TES - PIXEL information and translation between data and simulation\n",
    "# pix --> qubicsoft (1-256 or 248)\n",
    "# tes --> qubicdata (1-128)\n",
    "# index -> TRANSLATOR\n",
    "FPidentity = pt.make_id_focalplane()\n",
    "#Check consistncy:\n",
    "\n",
    "#print(\"This convert indexes in qinstrument into fp ones\")\n",
    "#print(\"Index \\t TES \\t qpix\")\n",
    "#for idet in q[0].detector:\n",
    "#    print(idet.index[0], '\\t', FPidentity[idet.index[0]].TES, '\\t', FPidentity[idet.index[0]].PIX)\n",
    "#    print(\" \", \"\\t\", \" \", \"\\t\" , tes2pix(FPidentity[idet.index[0]].TES, FPidentity[idet.index[0]].ASIC))"
   ]
  },
  {
   "cell_type": "markdown",
   "id": "39d9d4ad",
   "metadata": {},
   "source": [
    "#### Generate point source"
   ]
  },
  {
   "cell_type": "markdown",
   "id": "63f44fdc",
   "metadata": {},
   "source": [
    "It doesn't change the equatorial coordinates when changing center...weird. This could be related with the period in QubicSampling"
   ]
  },
  {
   "cell_type": "code",
   "execution_count": null,
   "id": "9699629b",
   "metadata": {},
   "outputs": [],
   "source": [
    "#150GHz\n",
    "idx = 3\n",
    "psmap = np.zeros((d['nf_sub'], 12 * d['nside'] ** 2))\n",
    "central_pix = hp.ang2pix(d['nside'], np.deg2rad(90 - elcen_fov), np.deg2rad(azcen_fov))\n",
    "neig_pixs = hp.get_all_neighbours(d['nside'], central_pix)\n",
    "psmap[idx, central_pix] = 1e9\n",
    "psmap[idx] = hp.smoothing(psmap[idx], np.deg2rad(1.0), verbose = False)\n",
    "\n",
    "fig, ax = subplots(nrows = 1, ncols = 2, figsize = (15,5))\n",
    "axes(ax[0])\n",
    "hp.gnomview(psmap[idx], rot = [0,50],#rot = (d['RA_center'], d['DEC_center']), \n",
    "            title = 'PS@{:.2f}GHz'.format(nus_in[idx]),\n",
    "            reso = 10, hold = True)\n",
    "\n",
    "ax[1].plot(p.equatorial.T[0], label = 'RA')\n",
    "ax[1].plot(p.equatorial.T[1], label = 'DEC')\n",
    "ax[1].legend()\n"
   ]
  },
  {
   "cell_type": "markdown",
   "id": "22476bb0",
   "metadata": {},
   "source": [
    "#### Generate freqs, acquisition operator and observation"
   ]
  },
  {
   "cell_type": "code",
   "execution_count": null,
   "id": "6895618d",
   "metadata": {},
   "outputs": [],
   "source": [
    "TOD, maps_convolved_useless = a.get_observation(psmap, noiseless = d['noiseless'])#, convolution = True)"
   ]
  },
  {
   "cell_type": "markdown",
   "id": "db0938fb",
   "metadata": {},
   "source": [
    "Look at the TODs... okk.."
   ]
  },
  {
   "cell_type": "markdown",
   "id": "f35b882b",
   "metadata": {},
   "source": [
    "showtes, showasic = 93, 1\n",
    "showpix = tes2pix(showtes,showasic)\n",
    "print(showpix)\n",
    "imshow(np.reshape(TOD[showpix][::-1], (len(el),len(az)) ))"
   ]
  },
  {
   "cell_type": "markdown",
   "id": "3fbf0f42",
   "metadata": {},
   "source": [
    "Save flatmaps projection for each TES... is it neccessary to invert elevation? "
   ]
  },
  {
   "cell_type": "code",
   "execution_count": null,
   "id": "9e8431ee",
   "metadata": {},
   "outputs": [],
   "source": [
    "# OLD (22 Feb 2021)\n",
    "#reload(fh)\n",
    "#for ipix in range(len(q[0].detector)):\n",
    "#    idet = q[0].detector[ipix]\n",
    "#    qtes, _asic_ = FPidentity[idet.index[0]].TES, FPidentity[idet.index[0]].ASIC\n",
    "#    # convert to qubicpack numeration (1-248)\n",
    "#    qtes = qtes if _asic_ == 1 else qtes + 128\n",
    "#    #print (FPidentity[idet.index[0]].PIX , ipix, qtes)\n",
    "#    #FitsArray(np.reshape(TOD[ipix], \n",
    "#    #                 (len(el), len(az))) ).save(directory + \\\n",
    "#    #                'Simulations/Flat/imgflat_TESNum_{}.fits'.format(qtes))"
   ]
  },
  {
   "cell_type": "markdown",
   "id": "affd4ccf",
   "metadata": {},
   "source": [
    "#### Choose a qpix (or TES, ASIC) to fit peak position with:\n",
    "\n",
    "* Flat\n",
    "\n",
    "* Healpy"
   ]
  },
  {
   "cell_type": "code",
   "execution_count": null,
   "id": "ae2291c2",
   "metadata": {},
   "outputs": [],
   "source": [
    "## Selecting TES number in absolute (1-248) notation:\n",
    "#TES = [37, ] #[149, 28, 37, 60, 96, 101, 122, 124, 137, 140, 149]\n",
    "#tes = np.zeros((len(TES), ), dtype = int)\n",
    "#asic = np.zeros((len(TES), ), dtype = int)\n",
    "#qpix = np.zeros((len(TES), ), dtype = int)\n",
    "#for j, iTES in enumerate(TES):\n",
    "#    tes[j], asic[j] = (iTES, 1) if (iTES < 128) else (iTES - 128, 2)\n",
    "#    # Transform to qubicsoft notation\n",
    "#    print(tes[j], asic[j])\n",
    "#    qpix[j] = tes2pix(tes[j], asic[j]) - 1\n",
    "#    print(qpix[j])\n",
    "#\n",
    "## Select tod to fit in healpy and flat projections (just one)\n",
    "#tod = TOD[qpix[0]]"
   ]
  },
  {
   "cell_type": "markdown",
   "id": "5b392eeb",
   "metadata": {},
   "source": [
    "#### Fit flatmap"
   ]
  },
  {
   "cell_type": "markdown",
   "id": "2e172914",
   "metadata": {},
   "source": [
    "# Build model\n",
    "sbfitmodel = sbfit.SbModelIndepPeaks(nrings=2, common_fwhm=True, \n",
    "                                     no_xy_shift=False, distortion=False)\n",
    "\n",
    "# Do fit for 1 TES\n",
    "thexypeaks = np.zeros((len(tes), 4, 9))\n",
    "flatmaps = np.zeros((len(tes), len(el), len(az) ))\n",
    "t0 = time.time()\n",
    "\n",
    "for j, ites in enumerate(tes): \n",
    "\n",
    "    print(\"TES number {} asic number {}\".format(ites, asic[j]))\n",
    "    print(\"Index number: qpack {} qsoft {} \".format(\\\n",
    "                                pt.tes2index(ites, asic[j]), q[0].detector[qpix[j]].index[0] ))\n",
    "    print(\"qubicsoft number: {}\".format(qpix[j]))\n",
    "    _, thexypeaks[j], flatmaps[j] = sbfit.fit_sb(np.reshape(tod, (len(el), len(az))), \n",
    "                                                 az, el, sbfitmodel, resample = False, newsize = 150, \n",
    "                                                 nsiglo = 100, nsighi = 1e7,\n",
    "        az_center = azcen_fov, el_center = elcen_fov,\n",
    "         verbose = False, doplot = True, return_fitted =True,\n",
    "    figsave = os.environ['QUBIC_DATADIR'] + 'scripts/fit_theoretical_SB/TES{}_flatmap_peaks_fit'.format(ites),\n",
    "         extra_title='TES #{}'.format(ites))\n",
    "    clf()\n",
    "\n",
    "print((time.time()-t0)/60 , 'minutes')"
   ]
  },
  {
   "cell_type": "markdown",
   "id": "a9c643dd",
   "metadata": {},
   "source": [
    "#### Saving flat fitting"
   ]
  },
  {
   "cell_type": "code",
   "execution_count": null,
   "id": "2fdfb1b0",
   "metadata": {},
   "outputs": [],
   "source": [
    "#dirfiles = os.environ['QUBIC_TODDIR']+'150GHz-2019-04-06/'\n",
    "#FitsArray(thexypeaks).save(dirfiles + 'FitSB/FlatMaps/fitted_peaks_test')"
   ]
  },
  {
   "cell_type": "markdown",
   "id": "a967943d",
   "metadata": {},
   "source": [
    "To generate Healpix maps from flat projections I need the pointing (az, el) from hk-data. Each (az, el) represents the sky direction towards QUBIC points. Each TES cover a different region in sky. \n",
    "\n",
    "* The first point is generate a coverage map for each TES for each frequency in a full scan."
   ]
  },
  {
   "cell_type": "markdown",
   "id": "3a88f878",
   "metadata": {},
   "source": [
    "##### See at the coverage map... seems to be OK! =)"
   ]
  },
  {
   "cell_type": "markdown",
   "id": "47776da0",
   "metadata": {},
   "source": [
    "#flat to hp with data\n",
    "hp_pix = hp.ang2pix(d['nside'], np.radians(90 - p.elevation), np.radians(p.azimuth))\n",
    "\n",
    "regionmap = np.zeros((12*d['nside']**2,))\n",
    "regionmap[hp_pix] = 1e7\n",
    "figure(figsize = (11,6))\n",
    "hp.gnomview(cov, rot = (azcen_fov, elcen_fov), title = 'Coverage', reso = 14, sub = 121)\n",
    "hp.gnomview(regionmap, rot = (azcen_fov, elcen_fov), title = 'Conv', reso = 14, sub = 122)"
   ]
  },
  {
   "cell_type": "markdown",
   "id": "f2087f9d",
   "metadata": {},
   "source": [
    "##### Test if reads is according with format...ok"
   ]
  },
  {
   "cell_type": "markdown",
   "id": "5569745c",
   "metadata": {},
   "source": [
    "pruebaxypeaks = np.array(FitsArray(dirfiles + 'FitSB/fitted_peaks_flatmap'))\n",
    "for i in range(len(TES2fit)):\n",
    "    scatter(pruebaxypeaks[i,0], pruebaxypeaks[i,1])"
   ]
  },
  {
   "cell_type": "markdown",
   "id": "dc2f7551",
   "metadata": {},
   "source": [
    "##### Fit peak positions in healpy map (data)"
   ]
  },
  {
   "cell_type": "code",
   "execution_count": null,
   "id": "c9c2bfee",
   "metadata": {},
   "outputs": [],
   "source": [
    "#===============\n",
    "reload(fh)\n",
    "reload(sbfit)\n",
    "fullTES = np.arange(1, 257, dtype = int) \n",
    "thermos_index = np.array([4, 36, 68, 100, 4+128, 36+128, 68+128, 100+128]) - 1\n",
    "\n",
    "fulltes = np.zeros((len(fullTES), ), dtype = int)\n",
    "fullasic = np.zeros((len(fullTES), ), dtype = int)\n",
    "fullqpix = np.zeros((len(fullTES), ), dtype = int)\n",
    "for j, iTES in enumerate(fullTES):\n",
    "    fulltes[j], fullasic[j] = (iTES, 1) if (iTES <= 128) else (iTES - 128, 2)\n",
    "    # Transform to qubicsoft indexes\n",
    "    fullqpix[j] = tes2pix(fulltes[j], fullasic[j]) - 1\n",
    "    \n",
    "fullTES = np.delete(fullTES, thermos_index)\n",
    "fulltes = np.delete(fulltes, thermos_index)\n",
    "fullasic = np.delete(fullasic, thermos_index)\n",
    "fullqpix = np.delete(fullqpix, thermos_index)\n",
    "\n",
    "print(\"TES \\t ASIC \\t Qsoft \\t Filename\")\n",
    "for j in range(len(fullTES)):\n",
    "    print(\"{} \\t {} \\t {} \\t {} \\n\".format(fulltes[j], fullasic[j], \n",
    "                                       fullqpix[j], fullTES[j]))\n",
    "    \n",
    "    # Select tod to fit in healpy and flat projections (just one)\n",
    "    #tod = TOD[_fullqpix_[j]]"
   ]
  },
  {
   "cell_type": "markdown",
   "id": "dc334440",
   "metadata": {},
   "source": [
    "q_plot = qubic.QubicInstrument(d_plot)\n",
    "\n",
    "#Example index\n",
    "indx = 0\n",
    "x_all_asic1 = q_plot.detector.center[_fullqpix_[:124],0]\n",
    "y_all_asic1 = q_plot.detector.center[_fullqpix_[:124],1]\n",
    "plot(x_all_asic1, y_all_asic1, 'b+')\n",
    "x_all_asic2 = q_plot.detector.center[_fullqpix_[124:],0]\n",
    "y_all_asic2 = q_plot.detector.center[_fullqpix_[124:],1]\n",
    "plot(x_all_asic2, y_all_asic2, 'm+')\n",
    "x_tes = q_plot.detector.center[_fullqpix_[indx],0]\n",
    "y_tes = q_plot.detector.center[_fullqpix_[indx],1]\n",
    "plot(x_tes, y_tes, 'rs')\n",
    "text(x_tes - 0.004, y_tes+0.004, \n",
    "     \"TES {} ASIC {}\".format(_fulltes_[indx], _fullasic_[indx]), bbox=dict(facecolor='w', alpha=1))"
   ]
  },
  {
   "cell_type": "markdown",
   "id": "4ad3583f",
   "metadata": {},
   "source": [
    "x_all = np.zeros((len(_fulltes_), ))\n",
    "y_all = np.zeros((len(_fulltes_), ))\n",
    "for indx in range(248):\n",
    "    x_all[indx], y_all[indx] = q_plot.detector.center[_fullqpix_[indx],0], q_plot.detector.center[_fullqpix_[indx],1]\n",
    "FitsArray([x_all, y_all, _fulltes_, _fullasic_]).save(\"tespositions.fits\")\n",
    "np.savetxt(\"tespositions.txt\",  np.array([x_all, y_all, _fulltes_, _fullasic_]).T, header = \"x \\t y \\t TES \\t ASIC\",\n",
    "          fmt = \"%1.4f %1.4f %i %i\")"
   ]
  },
  {
   "cell_type": "markdown",
   "id": "7c99bfa3",
   "metadata": {},
   "source": [
    "x_test, y_test, testest, asictest = np.loadtxt(\"tespositions.txt\", unpack = True, dtype='float,float,int,int')\n",
    "plot(x_test[:124], y_test[:124], 'b+')\n",
    "plot(x_test[124:], y_test[124:], 'm+')\n",
    "plot(x_tes, y_tes, 'rs')\n",
    "indx = 0\n",
    "text(x_tes - 0.004, y_tes+0.004, \n",
    "     \"TES {} ASIC {}\".format(testest[indx], asictest[indx]), bbox=dict(facecolor='w', alpha=1))"
   ]
  },
  {
   "cell_type": "code",
   "execution_count": null,
   "id": "36bd8cfa",
   "metadata": {},
   "outputs": [],
   "source": [
    "#==============\n",
    "# OLD WAY DEPRACATED\n",
    "#oldway = False\n",
    "#if oldway:\n",
    "#    hpnest, thphpeaksnew, absmaxpx = fh.fit_hpmap(TES[0], q[3], s, dirfiles, plot = False, verbose = True,\n",
    "#                                              simulation = True, maps = convmap,\n",
    "#                                       filterbeam = 2, threshold = 4, threshold0 = 3, plotcenter = False)\n",
    "#else:\n",
    "#===============\n",
    "dirfiles = directory#os.environ['QUBIC_TODDIR']+'150GHz-2019-04-06/'\n",
    "reload(fh)\n",
    "reload(sbfit)\n",
    "generate_files = False\n",
    "makeflat = False\n",
    "makehp = False\n",
    "if generate_files:\n",
    "    # Selecting TES number in absolute (1-248) notation:\n",
    "    #fullTES = np.arange(1, 257, dtype = int) #[28, 37, 60, 96, 101, 122, 124, 137, 140, 149]\n",
    "    #thermos_index = np.array([4, 36, 68, 100, 4+128, 36+128, 68+128, 100+128]) - 1\n",
    "\n",
    "    #fullTES = np.delete(fullTES, thermos_index)\n",
    "    #fulltes = np.zeros((len(fullTES), ), dtype = int)\n",
    "    #fullasic = np.zeros((len(fullTES), ), dtype = int)\n",
    "    #fullqpix = np.zeros((len(fullTES), ), dtype = int)\n",
    "\n",
    "    if makeflat:\n",
    "        flatthph = np.zeros((len(fullTES), 4, 9))\n",
    "        flatmaps = np.zeros((len(fullTES), len(el), len(az) ))\n",
    "    if makehp:\n",
    "        hpnest = np.zeros((len(fullTES), 12 * d['nside'] ** 2))\n",
    "        hpthph = np.zeros((len(fullTES), 4, 9))\n",
    "\n",
    "    #Flat Model\n",
    "    sbfitmodel = sbfit.SbModelIndepPeaks(nrings=2, common_fwhm=True, \n",
    "                                         no_xy_shift=False, distortion=False)\n",
    "    #print(fullTES)\n",
    "    #for k, _ in tqdm(range(len(fullTES)), desc = \"Flat and Healpix ...\", ascii = False):\n",
    "    ti = time.time()\n",
    "    for j, iTES in enumerate(fullTES):\n",
    "        print(\"Doing TES {} ({}/{})\".format(iTES, j, len(fullTES)))\n",
    "        t0 = time.time()\n",
    "        #fulltes[j], fullasic[j] = (iTES, 1) if (iTES <= 128) else (iTES - 128, 2)\n",
    "        ## Transform to qubicsoft notation\n",
    "        #fullqpix[j] = tes2pix(fulltes[j], fullasic[j]) - 1\n",
    "\n",
    "        # Select tod to fit in healpy and flat projections (just one)\n",
    "        tod = TOD[fullqpix[j]]\n",
    "\n",
    "        if makeflat:\n",
    "            #Flatmaps\n",
    "            _, flatthph[j], flatmaps[j] = sbfit.fit_sb(np.reshape(tod, (len(el), len(az))), \n",
    "                                                     az, el, sbfitmodel, resample = False, newsize = 150, \n",
    "                                                     nsiglo = 100, nsighi = 1e7,\n",
    "                                                     az_center = azcen_fov, el_center = elcen_fov,\n",
    "                                                     verbose = False, doplot = False, return_fitted =True,\n",
    "                                                     extra_title='TES #{}'.format(iTES))\n",
    "\n",
    "            # Save peaks location in flat maps\n",
    "            # Invert indexes to have th and ph and convert az,el to ph,th\n",
    "            flatthph[j,[1,0]] = np.radians(flatthph[j,[0,1],::-1])\n",
    "            flatthph[j,0] = np.pi/2 - flatthph[j,0]\n",
    "            \n",
    "            FitsArray(flatthph[j]).save(dirfiles + \\\n",
    "                                      'Simulations/Flat/peaks/fitted_peaks_flat_ASIC{}TES{}.fits'.format(fullasic[j],\n",
    "                                                                                                         fulltes[j]\n",
    "                                                                                                   ))\n",
    "            # Save flat maps\n",
    "            FitsArray(np.reshape(tod, \n",
    "                         (len(el), len(az)))[:, ::-1] ).save(directory + \\\n",
    "                        'Simulations/Flat/synth_beam/flat_ASIC{}TES{}.fits'.format(fullasic[j], fulltes[j]))\n",
    "\n",
    "            #print('Flat done in {:.2f} minutes'.format((time.time()-t0)/60))\n",
    "\n",
    "            t1 = time.time()\n",
    "            \n",
    "        if makehp:\n",
    "            #HEalpix maps\n",
    "            convmap = fh.flat2hp_map(tod, p.azimuth, p.elevation, nside = d['nside'])\n",
    "\n",
    "            InitSearch = fh.SbHealpyModel(d, q[3], s, fullTES[j], az, el, dirfiles, nest = False,\n",
    "                                         simulation = True, maps = convmap, verbose = False)\n",
    "\n",
    "            hpnest[j], hpthph[j] = InitSearch(simulation = True, maps = convmap, threshold = 3,\n",
    "                                                    filterbeam = 1.5, delta = 9, doplot = False, \n",
    "                                                        factor_corrector = 1.5)\n",
    "\n",
    "            #Save file\n",
    "            #print(\"saving fits position for TES {} in healpy map\".format(fulltes[j]))\n",
    "            FitsArray(hpthph[j]).save(dirfiles + \\\n",
    "                                'Simulations/Healpix/peaks/fitted_peaks_hp_ASIC{}TES{}.fits'.format(fullasic[j],\n",
    "                                                                                                    fulltes[j]))\n",
    "            # Save healpix maps\n",
    "            FitsArray(hpnest[j]).save(directory + \\\n",
    "                            'Simulations/Healpix/synth_beam/hp_ASIC{}TES{}.fits'.format(fullasic[j], fulltes[j]))\n",
    "\n",
    "            print('Healpy done in {:.2f} minutes '.format((time.time()-t1)/60))\n",
    "\n",
    "            print('TES {} ASIC {} done in {:.2f} minutes.'.format(fulltes[j], fullasic[j], (time.time()-t0)/60 ))\n",
    "\n",
    "    print(\"ALL DONE in {:.2f}\".format((time.time()-ti)/60) ) \n",
    "    \n",
    "    #Save all peaks in a single calibration file\n",
    "    if makeflat:\n",
    "        fitflatpeaks = os.environ['QUBIC_PEAKS'] + '150GHz-2019-04-06/Simulations/Flat/flatpeaks.fits'\n",
    "        FitsArray(flatthph).save(fitflatpeaks)\n",
    "    if makehp:\n",
    "        fithppeaks = os.environ['QUBIC_PEAKS'] + '150GHz-2019-04-06/Simulations/Healpix/healpypeaks.fits'\n",
    "        FitsArray(hpthph).save(fithppeaks)\n",
    "\n",
    "elif not generate_files:\n",
    "    print(\"Reading files...\")\n",
    "    # Selecting TES number in absolute (1-248) notation:\n",
    "    #fullTES = np.arange(1, 257, dtype = int) #[28, 37, 60, 96, 101, 122, 124, 137, 140, 149]\n",
    "    #thermos_index = np.array([4, 36, 68, 100, 4+128, 36+128, 68+128, 100+128]) - 1\n",
    "    #fullTES = np.delete(fullTES, thermos_index)\n",
    "    #fulltes = np.zeros((len(fullTES), ), dtype = int)\n",
    "    \n",
    "    #fullasic = np.zeros((len(fullTES), ), dtype = int)\n",
    "    #fullqpix = np.zeros((len(fullTES), ), dtype = int)\n",
    "\n",
    "    flatthph = np.zeros((len(fullTES), 4, 9))\n",
    "    flatmaps = np.zeros((len(fullTES), len(el), len(az) ))\n",
    "    hpnest = np.zeros((len(fullTES), 12 * d['nside'] ** 2))\n",
    "    hpthph = np.zeros((len(fullTES), 4, 9))\n",
    "\n",
    "    fitflatpeaks = os.environ['QUBIC_PEAKS'] + '150GHz-2019-04-06/Simulations/Flat/flatpeaks.fits'\n",
    "    flatthph = FitsArray(fitflatpeaks)\n",
    "    \n",
    "    fithppeaks = os.environ['QUBIC_PEAKS'] + '150GHz-2019-04-06/Simulations/Healpix/healpypeaks.fits'\n",
    "    hpthph = FitsArray(fithppeaks)\n",
    "    for j, iTES in enumerate(fullTES):\n",
    "        #fulltes[j], fullasic[j] = (iTES, 1) if (iTES <= 128) else (iTES - 128, 2)\n",
    "        ## Transform to qubicsoft notation\n",
    "        #fullqpix[j] = tes2pix(fulltes[j], fullasic[j]) - 1\n",
    "\n",
    "        # Select tod to fit in healpy and flat projections (just one)\n",
    "        tod = TOD[fullqpix[j]]\n",
    "        #print(fullasic[j], fulltes[j],np.shape(FitsArray(directory + \\\n",
    "        #                     'Simulations/Flat/synth_beam/flat_ASIC{}TES{}.fits'.format(fullasic[j], \n",
    "        #                                                                                fulltes[j]))))\n",
    "        #Flatmaps\n",
    "        flatmaps[j] = FitsArray(directory + \\\n",
    "                             'Simulations/Flat/synth_beam/flat_ASIC{}TES{}.fits'.format(fullasic[j], \n",
    "                                                                                        fulltes[j]))\n",
    "        #HEalpix maps\n",
    "        hpnest[j] = FitsArray(directory + \\\n",
    "                              'Simulations/Healpix/synth_beam/hp_ASIC{}TES{}.fits'.format(fullasic[j], \n",
    "                                                                                          fulltes[j]))\n",
    "print(\"Done it.\")"
   ]
  },
  {
   "cell_type": "code",
   "execution_count": null,
   "id": "22f797f8",
   "metadata": {},
   "outputs": [],
   "source": [
    "print(np.shape(flatthph), np.shape(hpthph))\n",
    "\n",
    "for i in range(9):\n",
    "    hpthph[: , 3, i] = int(i)\n",
    "    flatthph[: , 3, i] = int(i)\n",
    "#flatthph[:,1,:] = np.pi/2 - flatthph[:, 1, :] \n",
    "#thphpeaksnew[: , 3, 2]\n",
    "#thphpeaksnew[: , 3, 3]\n",
    "#flatbla = flatthph\n",
    "#hpbla = hpthph"
   ]
  },
  {
   "cell_type": "code",
   "execution_count": null,
   "id": "dd726c1a",
   "metadata": {},
   "outputs": [],
   "source": [
    "##Save all peaks in a single calibration file\n",
    "#fitflatpeaks = os.environ['QUBIC_PEAKS'] + '150GHz-2019-04-06/Simulations/Flat/flatpeaks.fits'\n",
    "#FitsArray(flatbla).save(fitflatpeaks)\n",
    "#fithppeaks = os.environ['QUBIC_PEAKS'] + '150GHz-2019-04-06/Simulations/Healpix/healpypeaks.fits'\n",
    "#FitsArray(hpbla).save(fithppeaks)"
   ]
  },
  {
   "cell_type": "markdown",
   "id": "5bc1b7c2",
   "metadata": {},
   "source": [
    "#### See plots... ok"
   ]
  },
  {
   "cell_type": "code",
   "execution_count": null,
   "id": "3c3778bc",
   "metadata": {},
   "outputs": [],
   "source": [
    "mmm = hpthph[0,1] < 2\n",
    "#from matplotlib.pyplot import cm\n",
    "color = ['r','g','b','y','m','c','orange','purple','brown']#iter(cm.jet_r(range(9)))\n",
    "\n",
    "for i in range(9):\n",
    "    plot(np.rad2deg(flatthph[0,1, i]), 90 - np.rad2deg(flatthph[0,0, i]), 'o', color = color[i])\n",
    "    mterm = 0 if mmm[i] else 2*np.pi\n",
    "    plot(np.rad2deg(hpthph[0,1, i] - mterm), 90 - np.rad2deg(hpthph[0,0, i]), 'o', color = color[i])\n",
    "    text(np.rad2deg(flatthph[0,1, i])*0.95, 90 - np.rad2deg(flatthph[0,0, i]), \"{}\".format(i), fontsize = 12)\n",
    "    text(np.rad2deg(hpthph[0,1, i] - mterm)*1.15, 90 - np.rad2deg(hpthph[0,0, i])*0.95, \"{}\".format(i), fontsize = 12, \n",
    "         fontweight = \"bold\")\n",
    "xlabel(\"azimuth\", fontsize = 14)\n",
    "ylabel(\"elevation\", fontsize = 14)\n",
    "pause(0.5)"
   ]
  },
  {
   "cell_type": "code",
   "execution_count": null,
   "id": "de8ffca6",
   "metadata": {},
   "outputs": [],
   "source": [
    "#from matplotlib.backends.backend_pdf import PdfPages\n",
    "#import matplotlib.gridspec as gridspec\n",
    "\n",
    "cm2inch = lambda cm: cm/2.54\n",
    "nperpage = 4\n",
    "#with PdfPages('flat-healpix_peaks.pdf') as pdf:\n",
    "#    rc('figure', figsize=(20,28))#(cm2inch(21), cm2inch(29.7)))\n",
    "for j in [140, ]:\n",
    "    fig, ax = subplots(nrows = 1, ncols = 2, figsize = (12,6))\n",
    "    tod = TOD[fullqpix[j-1]]\n",
    "    axes(ax[0])\n",
    "\n",
    "    funcpr= hp.gnomview\n",
    "    msk = np.where(cov == hp.UNSEEN, )\n",
    "    hpnest[j-1, msk] = hp.UNSEEN\n",
    "    funcpr(hpnest[j-1], nest = False, min = 0, cbar= False, rot = (azcen_fov, elcen_fov),\n",
    "                title = 'Fitting (hp) TES = {}, asic = {}'.format(fulltes[j-1], fullasic[j-1]),\n",
    "           xsize = 200, ysize = 200, hold = True, reso = 10)\n",
    "    hp.projscatter(hpthph[j-1,0], hpthph[j-1,1], color = 'r', marker = '.')\n",
    "    #hp.projscatter(np.radians(55), np.radians(-5), color = 'y', s = 200,marker = 'o')\n",
    "    hp.projtext(np.radians(25), np.radians(30), \"> 25% CovMax\", color = \"w\",\n",
    "                weight='bold')\n",
    "\n",
    "    hp.graticule(verbose = 0, alpha = 0.4)\n",
    "\n",
    "    im = ax[1].imshow(np.reshape(tod, (len(el), len(az)))[:, ::-1], \n",
    "                 extent = [np.max(az) * np.cos(np.radians(elcen_fov)),\n",
    "                                   np.min(az) * np.cos(np.radians(elcen_fov)),\n",
    "                                   np.min(el), np.max(el)],  )\n",
    "    ax[1].set_ylabel('El[°]')\n",
    "    ax[1].set_xlabel('Az[°]')\n",
    "    ax[1].plot(np.rad2deg(flatthph[j-1,1]), 90-np.rad2deg(flatthph[j-1,0]), 'r.')\n",
    "    ax[1].set_title('Fitting (flat) TES {} asic {}'.format(fulltes[j-1], fullasic[j-1]))"
   ]
  },
  {
   "cell_type": "code",
   "execution_count": null,
   "id": "cd355652",
   "metadata": {},
   "outputs": [],
   "source": [
    "fitfile"
   ]
  },
  {
   "cell_type": "code",
   "execution_count": null,
   "id": "11f3aa1e",
   "metadata": {},
   "outputs": [],
   "source": [
    "#MM flat maps\n",
    "import mapmaking_datafiles as mm\n",
    "reload(jcinst)\n",
    "reload(mm)\n",
    "doproj = \"flat\" #\"flat\"\n",
    "if doproj == \"healpix\":\n",
    "    dirfiles = directory + 'Simulations/Healpix/synth_beam/'\n",
    "    fitfile = fithppeaks \n",
    "elif doproj == \"flat\":\n",
    "    dirfiles = directory + 'Simulations/Flat/synth_beam/'\n",
    "    fitfile = fitflatpeaks \n",
    "#map-making flatmaps\n",
    "#detnums =  np.array([28, 37, 60, 96, 101, 122, 124, 137, 140, 149]) #\n",
    "detnums =  np.array([28,140,])\n",
    "\n",
    "maps_recon, qcut, cov_rec, nus, nus_edge = mm.do_some_dets(detnums,\n",
    "                            d, p, dirfiles, fitfile, az, el, doproj, nf_sub_rec = 3, \n",
    "                custom=True, \n",
    "                 nside=None, tol=5e-3, refit=False, resample=False, newsize=70, \n",
    "                 doplot=False, verbose=False, sbfitmodel=None, angs=None, usepeaks=None,\n",
    "                 azmin=None, azmax=None, remove=None, fitted_directory=None, weighted=False,\n",
    "                lowcut=1e-3, highcut=0.3)\n"
   ]
  },
  {
   "cell_type": "code",
   "execution_count": null,
   "id": "a03b85ce",
   "metadata": {},
   "outputs": [],
   "source": []
  },
  {
   "cell_type": "code",
   "execution_count": null,
   "id": "93b998d6",
   "metadata": {},
   "outputs": [],
   "source": [
    "thetatest, phitest, valtest, numpeakstest = FitsArray(fitflatpeaks)[140]\n",
    "print(np.shape(FitsArray(fitflatpeaks)[140]))\n",
    "print(numpeakstest)"
   ]
  },
  {
   "cell_type": "code",
   "execution_count": null,
   "id": "8863a14f",
   "metadata": {},
   "outputs": [],
   "source": [
    "hp.gnomview(maps_recon, rot = (azcen_fov, elcen_fov), reso = 10, xsize =300, ysize=260,\n",
    "            title = \"TES {}\".format(detnums),\n",
    "           min = 0, max = 7e5)"
   ]
  },
  {
   "cell_type": "code",
   "execution_count": null,
   "id": "c391119c",
   "metadata": {},
   "outputs": [],
   "source": [
    "hp.gnomview(cov_rec, rot = (azcen_fov, elcen_fov), reso = 10, xsize =300, ysize=200,)"
   ]
  },
  {
   "cell_type": "markdown",
   "id": "24cf2579",
   "metadata": {},
   "source": [
    "Testing rotation to be implemented in toolfit_healpy.... it works using sbfit tools"
   ]
  },
  {
   "cell_type": "markdown",
   "id": "64a4d502",
   "metadata": {},
   "source": [
    "auxth,auxph = fh.thph_qsoft(q[2], s, 96, PiRot = True)\n",
    "auxth, auxph = auxth[0], auxph[0]\n",
    "hp.mollview(np.zeros((12*d['nside']**2,)), cmap = \"bwr\" , rot = (0,70))\n",
    "hp.graticule(verbose = False)\n",
    "hp.projscatter(auxth, auxph, color = \"r\", )#rot = [0, 20, 0])\n",
    "newth, newph = sbfit.rotate_q2m(auxth, auxph, angs = np.radians(np.array([azcen_fov, elcen_fov, azcen_fov])))\n",
    "#rotation(np.asarray([np.rad2deg(auxth).T, np.rad2deg(auxph).T]).T).T\n",
    "hp.projscatter(newth, newph, color = \"b\",)# rot = (0,0,0))\n",
    "\n",
    "sbfit.rotate_q2m"
   ]
  },
  {
   "cell_type": "markdown",
   "id": "7cb1bb00",
   "metadata": {},
   "source": [
    "Testing fh function to convert from id's systems... it works fine! "
   ]
  },
  {
   "cell_type": "markdown",
   "id": "e8a8f506",
   "metadata": {},
   "source": [
    "reload(fh)\n",
    "fh.test_fit(q[2], s, 149, id_fp_sys = \"FileName\", verbose = True)\n",
    "fh.test_fit(q[2], s, 21, asic = 2, id_fp_sys = \"TESName\", verbose = True)\n",
    "fh.test_fit(q[2], s, 96, id_fp_sys = \"qsName\", verbose = True)\n"
   ]
  },
  {
   "cell_type": "markdown",
   "id": "57e7bf59",
   "metadata": {},
   "source": [
    "## Fitting"
   ]
  },
  {
   "cell_type": "code",
   "execution_count": null,
   "id": "38bfb2d8",
   "metadata": {},
   "outputs": [],
   "source": [
    "#hp.gnomview(hp.ud_grade(hpnest, int(d['nside']/2), order_in = 'NEST', order_out = 'RING'), \n",
    "#             rot = (0,50), reso = 12) \n",
    "#hp.projscatter(thphpeaksnew.T, color = 'r', marker = '.')\n",
    "# Select region of pixel 1 (lower middle)\n",
    "from lmfit import Model\n",
    "\n",
    "ipeak = 1\n",
    "def sel_reg(pa, info = 'px'):\n",
    "    auxmap = np.zeros((12 * d['nside'] ** 2,), dtype = bool)\n",
    "    if info == 'px':\n",
    "        mask = np.arccos(np.dot(hp.pix2vec(d['nside'], \n",
    "                                           pa, nest = True),hp.pix2vec(d['nside'], \n",
    "                                                          np.arange(12*d['nside']**2), nest = True))) < np.deg2rad(5)\n",
    "    elif info == 'thph':\n",
    "        mask = np.arccos(np.dot(hp.ang2vec(pa[0], pa[1]),\n",
    "                                list(hp.pix2vec(d['nside'], \n",
    "                                           np.arange(12 * d['nside'] ** 2))) ))< np.deg2rad(5)\n",
    "    return mask\n",
    "\n",
    "#See regions\n",
    "#for i in range(9):\n",
    "#    regpx = sel_reg(thphpeaksnew[i].T, info = 'thph')\n",
    "#    hp.gnomview(np.array(regpx, dtype = float), rot = (0,50), reso = 12)\n",
    "#    hp.projscatter(thphpeaksnew.T, color = 'r', marker = '.')\n",
    "#    pause(2)\n",
    "\n",
    "#The mask works fine.\n",
    "# Lo hago para un pico, luego lo generalizo\n",
    "regpx = sel_reg(thphpeaksnew[0].T, info = 'thph')\n",
    "newmap = np.zeros_like(hpnest)\n",
    "newmap[regpx] = hp.reorder(hpnest,inp = 'NEST', out = 'RING')[regpx]\n",
    "newmap[~regpx] = hp.UNSEEN\n",
    "#hp.gnomview(newmap, rot=(0,50), reso = 12, nest = 0)\n",
    "\n",
    "thang, phang = hp.pix2ang(d['nside'], np.arange(0, 12 * d['nside'] ** 2)[regpx])\n",
    "xydata = np.array([np.sin(thang)*np.cos(phang), np.sin(thang)*np.sin(phang)])\n",
    "datamap = newmap[regpx]\n",
    "print(np.shape(pxs2angs))\n",
    "figure(figsize = (8,8))\n",
    "plot(xydata[0], xydata[1], 'bo')\n",
    "xlabel(\"x(th, ph)\")\n",
    "ylabel(\"y(th, ph)\")\n",
    "\n",
    "def g2dModel(x,y, amp, xmean, ymean, xstd, ystd):\n",
    "    \"\"\"2-d gaussian model\"\"\"\n",
    "    \n",
    "    #amp = 1 / (2 * np.pi * xstd * ystd)\n",
    "    xterm = ((x - xmean) / xstd) ** 2\n",
    "    yterm = ((y - ymean) / ystd) ** 2\n",
    "    return amp * np.exp(- 0.5 * ( xterm + yterm ) )\n",
    "    \n",
    "gmodel = Model(g2dModel, independent_vars=[\"x\", \"y\"], \n",
    "               param_names=[\"amp\", \"xmean\", \"ymean\", \"xstd\", \"ystd\"],)\n",
    "print('parameter names: {}'.format(gmodel.param_names))\n",
    "print('independent variables: {}'.format(gmodel.independent_vars))\n",
    "\n"
   ]
  },
  {
   "cell_type": "code",
   "execution_count": null,
   "id": "ba597e3f",
   "metadata": {},
   "outputs": [],
   "source": [
    "params = gmodel.make_params(amp = 1e-15, xmean=0.74, ymean = -0.05, xstd = 0.03, ystd = 0.03)\n",
    "result = gmodel.fit(datamap, x = xydata[0], y = xydata[1], params = params )\n"
   ]
  },
  {
   "cell_type": "code",
   "execution_count": null,
   "id": "e5af0260",
   "metadata": {},
   "outputs": [],
   "source": [
    "imshow(datamap)"
   ]
  },
  {
   "cell_type": "code",
   "execution_count": null,
   "id": "f47594e4",
   "metadata": {},
   "outputs": [],
   "source": [
    "result.best_fit)"
   ]
  },
  {
   "cell_type": "code",
   "execution_count": null,
   "id": "97fdd5ac",
   "metadata": {},
   "outputs": [],
   "source": [
    "import matplotlib.pyplot as plt\n",
    "xydata2 = np.meshgrid(xydata[0], xydata[1])\n",
    "plt.contourf(xydata2[0], xydata2[1],datamap)\n"
   ]
  },
  {
   "cell_type": "code",
   "execution_count": null,
   "id": "8de09c74",
   "metadata": {},
   "outputs": [],
   "source": [
    "from lmfit import Model\n",
    "from lmfit.model import save_modelresult"
   ]
  },
  {
   "cell_type": "code",
   "execution_count": null,
   "id": "d2d74b8a",
   "metadata": {},
   "outputs": [],
   "source": [
    "def model_pro(x, a,b):\n",
    "    return a*x + b\n",
    "\n",
    "gmodel_pol = Model(model_pro, independent_vars=['x',], )\n",
    "params_pol = gmodel_pol.make_params()\n"
   ]
  },
  {
   "cell_type": "code",
   "execution_count": null,
   "id": "779ef3c6",
   "metadata": {},
   "outputs": [],
   "source": [
    "gmodel_pol.independent_vars"
   ]
  },
  {
   "cell_type": "code",
   "execution_count": null,
   "id": "62ff312b",
   "metadata": {},
   "outputs": [],
   "source": [
    "result_pol = gmodel_pol.fit(yFPSF, params_pol, x=xFPSF)\n",
    "parspol = list(result_pol.best_values.values())"
   ]
  },
  {
   "cell_type": "markdown",
   "id": "0c31eb51",
   "metadata": {},
   "source": [
    "Get healpix map for a tes in q instrument"
   ]
  },
  {
   "cell_type": "code",
   "execution_count": null,
   "id": "5bda829a",
   "metadata": {},
   "outputs": [],
   "source": [
    "hp.gnomview(q[2].get_synthbeam(s)[qpix[0]], rot = [azcen_fov, elcen_fov], reso = 12)"
   ]
  },
  {
   "cell_type": "code",
   "execution_count": null,
   "id": "b9962002",
   "metadata": {},
   "outputs": [],
   "source": []
  },
  {
   "cell_type": "code",
   "execution_count": null,
   "id": "23ad11b0",
   "metadata": {},
   "outputs": [],
   "source": []
  },
  {
   "cell_type": "markdown",
   "id": "01e5312d",
   "metadata": {},
   "source": [
    "H = a.get_operator()"
   ]
  },
  {
   "cell_type": "markdown",
   "id": "20498d0f",
   "metadata": {},
   "source": [
    "print(np.shape(H.T),)# 196608/12/128/128, 12*128**2, d['npointings'] * 248)"
   ]
  },
  {
   "cell_type": "markdown",
   "id": "cca77639",
   "metadata": {},
   "source": [
    "#print('Operator ', a.get_operator())\n",
    "print(len(a.instrument), len(a.sampling))\n",
    "print(a.instrument.comm.allreduce(len(a.instrument)))\n",
    "print(a.sampling.comm.allreduce(len(a.sampling)))\n",
    "print('Period ', a.sampling.period)\n",
    "print(a.instrument.comm.allreduce(len(a.instrument)) * a.sampling.comm.allreduce(len(a.sampling)) * a.sampling.period)"
   ]
  },
  {
   "cell_type": "code",
   "execution_count": null,
   "id": "b3c1a653",
   "metadata": {},
   "outputs": [],
   "source": [
    "cov = a.get_coverage()"
   ]
  },
  {
   "cell_type": "code",
   "execution_count": null,
   "id": "282473f3",
   "metadata": {},
   "outputs": [],
   "source": [
    "figure(figsize = (14,6))\n",
    "hp.mollview(cov, sub = (131), rot = (0,0))\n",
    "hp.mollview(psmap[0], sub=(132), rot = (0,0))"
   ]
  },
  {
   "cell_type": "markdown",
   "id": "a08f9f7d",
   "metadata": {},
   "source": [
    "d['tol'] = 1e-3\n",
    "d['nf_recon'] = 1\n",
    "maps_recon, _, _ = a.tod2map(TOD, d, cov = cov)"
   ]
  },
  {
   "cell_type": "code",
   "execution_count": null,
   "id": "94621c6e",
   "metadata": {},
   "outputs": [],
   "source": []
  }
 ],
 "metadata": {
  "kernelspec": {
   "display_name": "Python 3 (ipykernel)",
   "language": "python",
   "name": "python3"
  }
 },
 "nbformat": 4,
 "nbformat_minor": 5
}
