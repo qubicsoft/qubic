{
 "cells": [
  {
   "cell_type": "markdown",
   "id": "00729e24",
   "metadata": {},
   "source": [
    "# Pipeline for reconstruction point source from raw data\n",
    "\n",
    "Auth: M. Gamboa"
   ]
  },
  {
   "cell_type": "markdown",
   "id": "305ce580",
   "metadata": {},
   "source": [
    "Data used for JCh \n",
    "\n",
    "* 130GHz-2019-04-18\n",
    "* 140GHz-2019-04-10\n",
    "* 150GHz-2019-03-31 o 150GHz-2019-04-06\n",
    "* 160GHz-2019-04-08\n",
    "* 170GHz-2019-04-14"
   ]
  },
  {
   "cell_type": "markdown",
   "id": "6c9c05ac",
   "metadata": {
    "lines_to_next_cell": 0
   },
   "source": [
    "**Measured data** taken from CCA: `/sps/qubic/Data/Calib-TD`\n",
    "\n",
    "* If you are working in your personal computer, you can copy the dataset by running: \n",
    "\n",
    "&nbsp;&nbsp;&nbsp;&nbsp;`scp -r USER-CCA@cca.in2p3.fr:/sps/qubic/Data/Calib-TD/2019-04-06 .`\n",
    "\n",
    "in a terminal and getting a directory called `2019-04-06` (`2019-04-06`) in your current working directory. It tooks more than 20  minutes (hours) (depens on your network speed and others probably) and size aprox 2GB (13GB). \n",
    "\n",
    "**Calibration source data** taken from CCA: `/sps/qubic/Data/Calib-TD/calsource`\n",
    "\n",
    "* If you are working in your personal computer, you can copy the dataset by running: \n",
    "\n",
    "&nbsp;&nbsp;&nbsp;&nbsp;`scp -r USER-CCA@cca.in2p3.fr:/sps/qubic/Data/Calib-TD/calsource/*20190406* .`\n",
    "\n",
    "    in a terminal.\n"
   ]
  },
  {
   "cell_type": "markdown",
   "id": "d622a818",
   "metadata": {},
   "source": [
    "## 2022-04-14\n",
    "\n",
    "\n",
    "1) Team: S. Torchinsky, M. Piat, C. Rodriguez, F. Rodriguez, G. Ramos, M. Platino\n",
    "\n",
    "2) Tasks: \n",
    "\n",
    "2.1) We generated a map in Salta @170 GHz. The scanned region was +/- 20 deg in both az and el. The velocity of the scan was V14. No modulation on the calibration source\n",
    "\n",
    "Note that the signal generator does not accept offset=0, so it was set to offset=0.001.  In fact, we should just turn off the modulator when we don't want modulation.\n",
    "\n",
    "FLL PID=0,300,0\n",
    "\n",
    "script:  ScanMapFastNoModulation.dscript\n",
    "\n",
    "2.2) Calsource configuration:\n",
    "\n",
    "Calsource: frequency=170.00GHz\n",
    "modulator: frequency=N/A shape=dc amplitude=N/A offset=0.001Vdc duty_cycle=N/A\n",
    "amplifier: filter_mode=12db_low_pass dynamic_range=low_noise gain=2000 filter_low_frequency=10.0 filter_high_frequency=0.3 coupling=dc invert=ON\n",
    "\n",
    "3) Materials used: QUBIC Studio, QUBIC Central, QUBIC\n",
    "\n",
    "4) Providers for the materials: APC.\n",
    "\n",
    "5) Problems found: We had to use a value of 0.001 V for the offset setting of the CalS because it did not respond to seting the offset value to 0V.\n",
    "\n",
    "6) Reference to a Procedure followed: N/A"
   ]
  },
  {
   "cell_type": "code",
   "execution_count": null,
   "id": "b8ca71b8",
   "metadata": {},
   "outputs": [],
   "source": [
    "%matplotlib inline\n",
    "\n",
    "# Importation modules\n",
    "import os\n",
    "import sys\n",
    "import glob\n",
    "import inspect\n",
    "from importlib import reload\n",
    "\n",
    "import scipy.ndimage.filters as f\n",
    "import healpy as hp\n",
    "import pickle\n",
    "import numpy as np\n",
    "from matplotlib import rc\n",
    "import matplotlib.pyplot as plt\n",
    "from matplotlib import rc\n",
    "from pysimulators import FitsArray as fa\n",
    "\n",
    "rc('figure', figsize=(15,8))\n",
    "rc('font', size=12)\n",
    "rc('text', usetex=False)\n",
    "rc('image', cmap='viridis')\n",
    "\n",
    "import qubic\n",
    "from qubicpack.qubicfp import qubicfp\n",
    "import qubic.io\n",
    "from pysimulators import FitsArray\n",
    "import qubic.fibtools as ft\n",
    "import qubic.demodulation_lib as dl\n",
    "import qubic.sb_fitting as sbfit\n",
    "import qubic.SpectroImLib as si\n",
    "import qubic.selfcal_lib as sc\n",
    "import qubicpack as qp\n",
    "\n",
    "# Super local module (tools)\n",
    "import mapmaking_datafiles as md\n",
    "# Super local module (plots)\n",
    "import mapmaking_plots as mmp\n",
    "import psutil\n",
    "initram = psutil.virtual_memory()[0]/1e9 # in Gb\n",
    "print(\"RAM available in GB %5.2f\" %(initram))\n",
    "print(\"RAM used in GB %5.2f\" %(psutil.virtual_memory()[3]/1e9))"
   ]
  },
  {
   "cell_type": "markdown",
   "id": "984ee79c",
   "metadata": {},
   "source": [
    "**0th)** Set local paths --> `Paths` dictionary containing all the directories needed to run the notebook"
   ]
  },
  {
   "cell_type": "code",
   "execution_count": null,
   "id": "96979e92",
   "metadata": {},
   "outputs": [],
   "source": [
    "def check_dir(dirfile):\n",
    "    if os.path.isdir( dirfile): \n",
    "        print('TOD directory {} exists'.format(dirfile)) \n",
    "    else: \n",
    "        raise ValueError('dirfile {} is not an existing directory'.format(dirfile) )\n",
    "        \n",
    "if 'QUBIC_TODDIR' in os.environ.keys():\n",
    "    qubic_toddir = os.environ['QUBIC_TODDIR']\n",
    "    print(\"TOD directory: \",qubic_toddir)\n",
    "    check_dir(qubic_toddir)\n",
    "else:\n",
    "    qubic_toddir = input(\"You have to specify a directory where the Time Ordered Data (TOD) are. \\\n",
    "    The usual format of TOD root directories is yyyy-mm-dd, e.g. /sps/qubic/Data/Calib-TD at CCA\")\n",
    "    print(\"Enter the directory where the TOD's are: \",qubic_toddir)\n",
    "    check_dir(qubic_toddir)"
   ]
  },
  {
   "cell_type": "code",
   "execution_count": null,
   "id": "4dca6b0d",
   "metadata": {},
   "outputs": [],
   "source": [
    "# Setup\n",
    "verbose = True\n",
    "\n",
    "#Directories\n",
    "# Read data\n",
    "reload(md)\n",
    "confg = \"new\"\n",
    "if confg == \"new\":\n",
    "    day = '2020-07-30'\n",
    "    keyword = '*2020*'\n",
    "    #day = '2022-04-14'\n",
    "    #keyword = '*ScanMap*'\n",
    "    dirfile = None\n",
    "    savedirtest = '/home/mgamboa/pruebas/qubicpipenew/'\n",
    "elif confg == \"old\":\n",
    "    #day = '2019-04-06'\n",
    "    day = '2019-03-31'\n",
    "    keyword = '*ScanMap*'\n",
    "    dirfile = qubic_toddir + \"calsource/\"\n",
    "    savedirtest = '/home/mgamboa/pruebas/qubicpipeold/'\n",
    "\n",
    "# Directory where the raw TOD are save\n",
    "data_dir = qubic_toddir + day + '/'\n",
    "\n",
    "if not os.path.isdir(savedirtest):\n",
    "    print(\"Creating {} directory to save demodulated TODs\".format(savedirtest))\n",
    "    os.mkdir(savedirtest)\n",
    "    print(\"Done? {}\".format(os.path.isdir(savedirtest)))\n",
    "# Where to save the demodulated data \n",
    "savetoddemod = savedirtest + \"Demod_TOD/\"\n",
    "saveflatmaps = savedirtest + \"Flat/\"\n",
    "#create directory if None\n",
    "if not os.path.isdir(savetoddemod):\n",
    "    print(\"Creating {} directory to save demodulated TODs\".format(savetoddemod))\n",
    "    os.mkdir(savetoddemod)\n",
    "    print(\"Done? {}\".format(os.path.isdir(savetoddemod)))\n",
    "else: \n",
    "    print(\"Demodulated TODs in\")\n",
    "    check_dir(savetoddemod)\n",
    "if not os.path.isdir(saveflatmaps):\n",
    "    print(\"Creating {} directory to save maps\".format(saveflatmaps))\n",
    "    os.mkdir(saveflatmaps)\n",
    "    print(\"Done? {}\".format(os.path.isdir(saveflatmaps)))\n",
    "else:\n",
    "    print(\"Flat maps in .fits format in\")\n",
    "    check_dir(saveflatmaps)\n",
    "\n",
    "Paths = {\"RawTodDir\": data_dir,\n",
    "         \"parent_dir_work\": savedirtest,\n",
    "         \"demod_tod_work\": savetoddemod,\n",
    "         \"flat_maps_work\": saveflatmaps,\n",
    "         \"calsource_data\": dirfile}\n",
    "#take files from raw data (TOD) diretory\n",
    "dirs = np.sort(glob.glob(Paths[\"RawTodDir\"] + keyword))\n",
    "\n",
    "Paths.update({\"sweeps_data\": dirs})"
   ]
  },
  {
   "cell_type": "markdown",
   "id": "d3f7f873",
   "metadata": {},
   "source": [
    "**1st)** Use `fit_sb` from `demodulation_lib` module from `qubicsoft` package. \n",
    "\n",
    "[Local]Output files in: `/home/mgamboa/qubic/QUBIC/qubiccalibration/Data/150GHz-2019-04-06/[Flat, Healpix]`\n",
    "\n",
    "script used: `Analyse-Scan-2020-01-15-MemorySave.Rmd` and `Sample_Demodulation`"
   ]
  },
  {
   "cell_type": "code",
   "execution_count": null,
   "id": "91f42ff1",
   "metadata": {},
   "outputs": [],
   "source": [
    "# Create focal plane object \n",
    "ram0_loc = psutil.virtual_memory()[3]/1e9 # in Gb\n",
    "\n",
    "QubicFP = qubicfp()\n",
    "sweep = 0\n",
    "QubicFP.read_qubicstudio_dataset(Paths[\"sweeps_data\"][sweep])\n",
    "\n",
    "print(\"RAM used %5.2f Gb\" %(psutil.virtual_memory()[3]/1e9 - ram0_loc))"
   ]
  },
  {
   "cell_type": "markdown",
   "id": "3ec8cd32",
   "metadata": {},
   "source": [
    "### Read calibration data"
   ]
  },
  {
   "cell_type": "code",
   "execution_count": null,
   "id": "60593c11",
   "metadata": {},
   "outputs": [],
   "source": [
    "reload(md)\n",
    "ram0_loc = psutil.virtual_memory()[3]/1e9 # in Gb\n",
    "\n",
    "t_src, data_src = md.read_calsource_data(QubicFP, date = day,\n",
    "                      keyword = keyword, datadir = Paths[\"RawTodDir\"],\n",
    "                      datacal = Paths[\"calsource_data\"], verbose = True)\n",
    "\n",
    "print(\"RAM used %5.2f Gb\" %(psutil.virtual_memory()[3]/1e9 - ram0_loc))"
   ]
  },
  {
   "cell_type": "code",
   "execution_count": null,
   "id": "b8984564",
   "metadata": {},
   "outputs": [],
   "source": [
    "#Read azimuth and elevation from raw data\n",
    "az = QubicFP.azimuth()\n",
    "el = QubicFP.elevation()\n",
    "#if verbose: QubicFP.read_qubicstudio_dataset(Paths[\"sweeps_data\"][sweep])"
   ]
  },
  {
   "cell_type": "code",
   "execution_count": null,
   "id": "b45a2555",
   "metadata": {},
   "outputs": [],
   "source": [
    "print(QubicFP.hk[\"CALSOURCE-CONF\"][\"Amp_lfreq\"], \n",
    "      QubicFP.hk[\"CALSOURCE-CONF\"][\"Amp_hfreq\"], \n",
    "      QubicFP.hk[\"CALSOURCE-CONF\"])"
   ]
  },
  {
   "cell_type": "code",
   "execution_count": null,
   "id": "15a046aa",
   "metadata": {},
   "outputs": [],
   "source": [
    "time_azel = QubicFP.timeaxis(datatype = 'hk', axistype = 'pps')\n",
    "t0 = time_azel[0]"
   ]
  },
  {
   "cell_type": "markdown",
   "id": "476a791f",
   "metadata": {},
   "source": [
    "#### check plot ... ok"
   ]
  },
  {
   "cell_type": "code",
   "execution_count": null,
   "id": "d19c22d6",
   "metadata": {},
   "outputs": [],
   "source": [
    "plt.figure(figsize = (16,6))\n",
    "plt.subplot(121)\n",
    "plt.plot(time_azel, az, 'b-')\n",
    "plt.plot(time_azel, el-np.mean(el), 'r-')\n",
    "plt.yticks([])\n",
    "plt.xlabel('tiempo [s]')\n",
    "plt.subplot(122)\n",
    "plt.plot(time_azel[400:16000], az[400:16000], 'b-')\n",
    "plt.plot(time_azel[400:16000], el[400:16000]-np.mean(el), 'r-')\n",
    "plt.yticks([])\n",
    "plt.xlabel('tiempo [s]')\n"
   ]
  },
  {
   "cell_type": "code",
   "execution_count": null,
   "id": "d9c04989",
   "metadata": {},
   "outputs": [],
   "source": [
    "reload(mmp)\n",
    "mmp.plot_scan(time_azel, t_src, data_src, az, el)"
   ]
  },
  {
   "cell_type": "code",
   "execution_count": null,
   "id": "ac22034d",
   "metadata": {},
   "outputs": [],
   "source": [
    "# Read the timeline to test the way to do it\n",
    "TESNum = 94\n",
    "asic = 1\n",
    "tod_data = QubicFP.timeline(TES = TESNum, asic = asic)\n",
    "tod_time = QubicFP.timeaxis(axistype = 'pps', asic = asic)"
   ]
  },
  {
   "cell_type": "markdown",
   "id": "99e58989",
   "metadata": {},
   "source": [
    "`check plot` TOD(tes) data and calsource ... ok"
   ]
  },
  {
   "cell_type": "code",
   "execution_count": null,
   "id": "ab9fd867",
   "metadata": {},
   "outputs": [],
   "source": [
    "reload(mmp)\n",
    "mmp.plot_raw_data(tod_time, tod_data, t_src, data_src, TESNum = TESNum, asic = asic)"
   ]
  },
  {
   "cell_type": "markdown",
   "id": "76e84a98",
   "metadata": {},
   "source": [
    "## Filtering data"
   ]
  },
  {
   "cell_type": "code",
   "execution_count": null,
   "id": "7985a520",
   "metadata": {},
   "outputs": [],
   "source": [
    "QubicFP.hk[\"CALSOURCE-CONF\"][\"Amp_lfreq\"], QubicFP.hk[\"CALSOURCE-CONF\"][\"Amp_lfreq\"][0]"
   ]
  },
  {
   "cell_type": "code",
   "execution_count": null,
   "id": "a497bb3b",
   "metadata": {},
   "outputs": [],
   "source": [
    "# Set parameters for harmonics of PT\n",
    "#load the modulation frequency from the HK data\n",
    "thefreqmod = QubicFP.hk['CALSOURCE-CONF']['Mod_freq']\n",
    "\n",
    "period = 1./ thefreqmod\n",
    "#Set parameters for filtering data\n",
    "lowcut = QubicFP.hk[\"CALSOURCE-CONF\"][\"Amp_hfreq\"][0]\n",
    "highcut = QubicFP.hk[\"CALSOURCE-CONF\"][\"Amp_lfreq\"][0]\n",
    "# New spectra\n",
    "# Using 10 harmonics\n",
    "nharm = 10\n",
    "#notch filter at each harmonic of the PTs\n",
    "notch = np.array([[1.724, 0.005, nharm]])\n",
    "#fourier_cuts = [lowcut, highcut, notch]"
   ]
  },
  {
   "cell_type": "code",
   "execution_count": null,
   "id": "e9a167bf",
   "metadata": {},
   "outputs": [],
   "source": [
    "plt.subplot(2,1,1)\n",
    "plt.plot((tod_time - t0)/3600, dl.renorm(tod_data), \n",
    "     label='Data TES {} ASIC {}'.format(TESNum,asic))\n",
    "plt.plot((t_src - t0)/3600, dl.renorm(data_src)-5, label = 'source')\n",
    "plt.xlabel('Hours')\n",
    "plt.legend(loc = 'upper left')\n",
    "plt.title(\"bla\")\n",
    "plt.ylim(-10,10)\n",
    "\n",
    "plt.subplot(2,1,2)\n",
    "tzoom = 1.2940\n",
    "dtzoom = 0.005\n",
    "oktime_d = np.abs((tod_time - t0)/3600-tzoom) < dtzoom\n",
    "oktime_s = np.abs((t_src - t0)/3600-tzoom) < dtzoom\n",
    "plt.plot((tod_time - t0)[oktime_d]/3600, dl.renorm(tod_data[oktime_d]), \n",
    "     label='Data TES {} ASIC {}'.format(TESNum,asic))\n",
    "plt.plot((t_src[oktime_s]-t0)/3600, dl.renorm(data_src[oktime_s]), label='source')\n",
    "plt.xlabel('Hours')\n",
    "plt.legend(loc='upper left')\n",
    "#plt.title(\"bla\")"
   ]
  },
  {
   "cell_type": "code",
   "execution_count": null,
   "id": "eb75bfe0",
   "metadata": {},
   "outputs": [],
   "source": [
    "# Power spectra without filtering (raw power spectra of TOD)\n",
    "# spectrum, freq = old \"spectrum_f\", \"freq_f\"\n",
    "ram0_loc = psutil.virtual_memory()[3]/1e9\n",
    "\n",
    "spectrum_raw, freq_raw = ft.power_spectrum(tod_time, tod_data, \n",
    "                                       rebin = True)\n",
    "#tod_data_filtered = old \"newdata\"\n",
    "tod_data_filtered = ft.filter_data(tod_time, tod_data, lowcut, highcut, \n",
    "                         notch = notch, rebin = True, \n",
    "                         verbose = True, order = 5)\n",
    "# spectrum_filtered, freq_filtered ex \"spectrum_f2\", \"freq_f2\"\n",
    "spectrum_filtered, freq_filtered = ft.power_spectrum(tod_time, tod_data_filtered, rebin=True)\n",
    "\n",
    "print(\"RAM used %5.2f Gb\" %(psutil.virtual_memory()[3]/1e9 - ram0_loc))\n",
    "\n",
    "tod_data_filtered2 = ft.filter_data(tod_time, tod_data, 0.03, 10, \n",
    "                         notch = notch, rebin = True, \n",
    "                         verbose = True, order = 5)\n",
    "# spectrum_filtered, freq_filtered ex \"spectrum_f2\", \"freq_f2\"\n",
    "spectrum_filtered2, freq_filtered2 = ft.power_spectrum(tod_time, tod_data_filtered2, rebin=True)"
   ]
  },
  {
   "cell_type": "markdown",
   "id": "5e1c4925",
   "metadata": {},
   "source": [
    "`check plot` spectras for RAW data and filtered data"
   ]
  },
  {
   "cell_type": "code",
   "execution_count": null,
   "id": "6462fecc",
   "metadata": {},
   "outputs": [],
   "source": [
    "reload(mmp)\n",
    "\n",
    "mmp.plot_spectra_comparisson(freq_raw, spectrum_raw, freq_filtered, \n",
    "                             spectrum_filtered, period, lowcut, highcut, notch)"
   ]
  },
  {
   "cell_type": "code",
   "execution_count": null,
   "id": "af197ac0",
   "metadata": {},
   "outputs": [],
   "source": [
    "plt.subplot(211)\n",
    "plt.xscale(\"log\")\n",
    "plt.yscale(\"log\")\n",
    "plt.plot(freq_raw, spectrum_raw)\n",
    "plt.plot(freq_filtered, spectrum_filtered, label = \"freq from hk\")\n",
    "plt.plot(freq_filtered2, spectrum_filtered2, label = \"manual values\")\n",
    "plt.xlim(1e-2,9e1)\n",
    "plt.ylim(1e1, 1e17)\n",
    "plt.legend()\n",
    "plt.subplot(212)\n",
    "plt.xscale(\"log\")\n",
    "plt.yscale(\"log\")\n",
    "plt.plot(freq_filtered2, abs(spectrum_filtered - spectrum_filtered2), 'r-')\n",
    "plt.xlim(1e-2,9e1)\n",
    "plt.ylim(1e1, 1e17)\n"
   ]
  },
  {
   "cell_type": "markdown",
   "id": "2c909ddf",
   "metadata": {},
   "source": [
    "`Check plot` comparing clasoruce data, raw and filtered tod... okk"
   ]
  },
  {
   "cell_type": "code",
   "execution_count": null,
   "id": "adb7e9de",
   "metadata": {},
   "outputs": [],
   "source": [
    "reload(mmp)\n",
    "#kwargs_plot = {\"xmin\": 0, \"xmax\": max(tod_time),\n",
    "#               \"ymin\": -5, \"ymax\": 5}\n",
    "mmp.plot_data_and_src(tod_time, tod_data, \n",
    "                      tod_data_filtered,\n",
    "                      t_src, data_src,\n",
    "                     )#**kwargs_plot)\n",
    "mmp.plot_data_and_src(tod_time, tod_data, \n",
    "                      tod_data_filtered2,\n",
    "                      t_src, data_src)\n"
   ]
  },
  {
   "cell_type": "code",
   "execution_count": null,
   "id": "35aa7a23",
   "metadata": {},
   "outputs": [],
   "source": [
    "reload(md)\n",
    "\n",
    "##### Filtering to be used\n",
    "demod_kwvars = {\"method\": \"demod_quad\",\n",
    "                \"remove_noise\": False}\n",
    "\n",
    "demodulate = False\n",
    "\n",
    "ram0_loc = psutil.virtual_memory()[3]/1e9\n",
    "newt_demod, amps_demod = md.pipe_demodulation(QubicFP, t_src, data_src,\n",
    "                                             savetoddemod,\n",
    "                                             demodulate = demodulate,\n",
    "                                             verbose = True,\n",
    "                                             **demod_kwvars)\n",
    "print(\"RAM used %5.2f Gb\" %(psutil.virtual_memory()[3]/1e9 - ram0_loc))\n"
   ]
  },
  {
   "cell_type": "code",
   "execution_count": null,
   "id": "9cace0d3",
   "metadata": {},
   "outputs": [],
   "source": [
    "QubicFP.azimuth(), QubicFP.elevation(), QubicFP.hk[\"INTERN_HK\"][\"Platform-Azimut\"]"
   ]
  },
  {
   "cell_type": "code",
   "execution_count": null,
   "id": "0cb84a91",
   "metadata": {},
   "outputs": [],
   "source": [
    "reload(mmp)\n",
    "mmp.plot_synchronizated_data(tod_time, t_src, tod_data_filtered, data_src)"
   ]
  },
  {
   "cell_type": "code",
   "execution_count": null,
   "id": "58f9437f",
   "metadata": {},
   "outputs": [],
   "source": [
    "print(\"RAM available in GB %5.2f\" %(psutil.virtual_memory()[0]/1e9))\n",
    "print(\"RAM used in GB %5.2f\" %(psutil.virtual_memory()[3]/1e9))"
   ]
  },
  {
   "cell_type": "code",
   "execution_count": null,
   "id": "dfc2fbd3",
   "metadata": {},
   "outputs": [],
   "source": [
    "azindex = (naz * (newaz - azmin) / (azmax - azmin)).astype(int)\n",
    "elindex = (nel * (newel - elmin) / (elmax - elmin)).astype(int)\n",
    "\n",
    "# ## Keeping only the inner part\n",
    "inside = (azindex >= 0) & (azindex < naz) & (elindex >= 0) & (elindex < nel)"
   ]
  },
  {
   "cell_type": "code",
   "execution_count": null,
   "id": "4fcf67be",
   "metadata": {},
   "outputs": [],
   "source": [
    "time_azel = QubicFP.timeaxis(datatype = 'hk', axistype = 'pps')\n",
    "\n",
    "azmin = min(az)\n",
    "azmax = max(az)\n",
    "elmin = min(el)\n",
    "elmax = max(el)\n",
    "\n",
    "ComputeFlatMaps = True\n",
    "if ComputeFlatMaps:\n",
    "    newaz = np.interp(newt_demod, time_azel, az)\n",
    "    newel = np.interp(newt_demod, time_azel, el)\n",
    "\n",
    "    naz = 101\n",
    "    nel = 101\n",
    "    nmaps = 256\n",
    "    mapdata = np.zeros((nmaps, nel, naz))\n",
    "\n",
    "    mapdata, azmap, elmap = dl.coadd_flatmap(amps_demod, newaz, newel, \n",
    "                                            filtering = None,\n",
    "                                            azmin = azmin, azmax = azmax, \n",
    "                                            elmin = elmin, elmax = elmax, \n",
    "                                            naz = naz, nel = nel)\n",
    "    FitsArray(azmap).save(savetoddemod + 'azimuth.fits')    \n",
    "    FitsArray(elmap).save(savetoddemod + 'elevation.fits')    \n",
    "    for i in range(256):\n",
    "        FitsArray(mapdata[i,:,:]).save(saveflatmaps + 'imgflat_TESNum_{}.fits'.format(i+1))  \n",
    "    \n",
    "elif not ComputeFlatMaps:\n",
    "    azmap = np.array(FitsArray(savetoddemod + 'azimuth.fits'))\n",
    "    elmap = np.array(FitsArray(savetoddemod + 'elevation.fits'))\n",
    "    mapdata = np.zeros((256, len(azmap), len(elmap)))\n",
    "    for i in range(256):\n",
    "        mapdata[i,:,:] = np.array(FitsArray(saveflatmaps + 'imgflat_TESNum_{}.fits'.format(i+1)))"
   ]
  },
  {
   "cell_type": "code",
   "execution_count": null,
   "id": "39e17730",
   "metadata": {},
   "outputs": [],
   "source": [
    "#Look at one map\n",
    "TESNum = 93\n",
    "ites = TESNum - 1\n",
    "mm, ss = ft.meancut(mapdata[ites,:,:],3)\n",
    "plt.imshow(mapdata[ites,:,:], aspect = 'equal',\n",
    "       #extent = [np.cos(np.radians(50)) * azmin, \n",
    "       #          np.cos(np.radians(50)) * azmax, \n",
    "       #          elmin, \n",
    "       #          elmax],\n",
    "          )#vmin = 0, vmax = 2e6)\n",
    "plt.title('TES {}'.format(ites+1))"
   ]
  },
  {
   "cell_type": "code",
   "execution_count": null,
   "id": "6d3ccd7d",
   "metadata": {},
   "outputs": [],
   "source": [
    "blil = sbfit.get_flatmap(93, \"/home/mgamboa/qubic/QUBIC/qubiccalibration/Data/150GHz-2019-04-06/\", \n",
    "                        azmin = azmin, azmax = azmax, \n",
    "                        remove = None)[0]\n",
    "blil2 = sbfit.get_flatmap(93, \"/home/mgamboa/pruebas/qubicpipe/\", \n",
    "                        azmin = azmin, azmax = azmax, \n",
    "                        remove = None)[0]"
   ]
  },
  {
   "cell_type": "code",
   "execution_count": null,
   "id": "80c7f7eb",
   "metadata": {},
   "outputs": [],
   "source": [
    "blil.shape"
   ]
  },
  {
   "cell_type": "code",
   "execution_count": null,
   "id": "88c41f5e",
   "metadata": {},
   "outputs": [],
   "source": [
    "plt.subplot(121)\n",
    "plt.imshow(blil, vmin = 0, \n",
    "           vmax = 1e5, cmap = \"bwr\")\n",
    "plt.subplot(122)\n",
    "plt.imshow(blil2, vmin = 0, \n",
    "           vmax = 1e5, cmap = \"bwr\")\n",
    "plt.tight_layout()"
   ]
  },
  {
   "cell_type": "markdown",
   "id": "9991b1c0",
   "metadata": {},
   "source": [
    "All TES. Save flat maps in files. \n",
    "\n",
    "from James's notebook `Examples_notebooks/Sample_Demodulation.Rmd`\n",
    "\n",
    "carefull with the demodulation, sometimes the the asics will have different demodulate lengths which may cause an issue here. the simple solution is to demodulate each asic separately and combine later\n",
    "\n",
    "doing this part can probably be improved. I think with jupyter only one core is used. Maybe somebody already knows how to multithread with jupyter, please tell!"
   ]
  },
  {
   "cell_type": "code",
   "execution_count": null,
   "id": "8c60b944",
   "metadata": {},
   "outputs": [],
   "source": [
    "\"\"\"save the maps\n",
    "you can see the numbering here doesn't really reflect the real naming of TES we use\"\"\"\n",
    "\n",
    "for i in range(256):\n",
    "    print(\"saving flat map for tes {}\".format(i+1))\n",
    "    FitsArray(mapdata[i,:,:]).save(savedirtest+'Flat/imgflat_TESNum_{}.fits'.format(i+1))    \n",
    "    FitsArray(mapdata[i,:,:]).save(savedirtest+'Flat/imgflat_TESNum_{}.fits'.format(i+1))"
   ]
  },
  {
   "cell_type": "markdown",
   "id": "b74664a4",
   "metadata": {},
   "source": [
    "Test load the maps...ok!"
   ]
  },
  {
   "cell_type": "markdown",
   "id": "d755cf49",
   "metadata": {},
   "source": [
    "flattest = np.zeros([nmaps, nel, naz])\n",
    "flattest[0,:,:], az, el = sbfit.get_flatmap(256, savedirtest, \n",
    "                                     azmin = azmin, azmax = azmax, \n",
    "                                     remove = None)\n",
    "imshow(flattest[0,:,:], aspect = 'equal',\n",
    "       extent = [np.cos(np.radians(50)) * azmin, \n",
    "                 np.cos(np.radians(50)) * azmax, \n",
    "                 elmin, \n",
    "                 elmax],\n",
    "      vmin=0, vmax=2.e6)"
   ]
  },
  {
   "cell_type": "markdown",
   "id": "0be39e84",
   "metadata": {},
   "source": [
    "**2nd)** Once we have the flat/*helapy* maps we fit the position of the peaks for each TES. To do that we can select between fitting symetric gaussian or asymetric (`sym` or `asym`) for each peak."
   ]
  },
  {
   "cell_type": "code",
   "execution_count": null,
   "id": "5b832e49",
   "metadata": {},
   "outputs": [],
   "source": [
    "keys_sym = ['xc', 'yc', 'dist', 'angle', 'distx', 'disty', 'ampgauss', \n",
    "            'xcgauss', 'ycgauss', 'fwhmgauss', 'fwhmpeaks']\n",
    "\n",
    "keys_asym = ['xc', 'yc', 'dist', 'angle', 'distx', 'disty', 'ampgauss', \n",
    "            'xcgauss', 'ycgauss', 'fwhmgauss']\n",
    "for i in range(9):\n",
    "    keys_asym.append('fwhmxpeak_{}'.format(i))\n",
    "for i in range(9):\n",
    "    keys_asym.append('fwhmypeak_{}'.format(i))\n",
    "for i in range(9):\n",
    "    keys_asym.append('rhopeak_{}'.format(i))"
   ]
  },
  {
   "cell_type": "code",
   "execution_count": null,
   "id": "1e04f028",
   "metadata": {},
   "outputs": [],
   "source": [
    "#import debugging_fit as df\n",
    "#reload(df)\n",
    "#flat_map, azinit, elinit, fitout, xxyynew = df.fit_sb(93, savedirtest)"
   ]
  },
  {
   "cell_type": "markdown",
   "id": "0684fb01",
   "metadata": {},
   "source": [
    "### I couldn't make this work but it works for JCh so I read the fit of the synthesized beam from files"
   ]
  },
  {
   "cell_type": "code",
   "execution_count": null,
   "id": "40f210fd",
   "metadata": {},
   "outputs": [],
   "source": [
    "#import debugging_fit as df\n",
    "\n",
    "sbfitmodel = sbfit.SbModelIndepPeaks(nrings=2, common_fwhm=True, \n",
    "                                 no_xy_shift=False, distortion=False)\n",
    "detnums = [1,2,3,4]\n",
    "if verbose: \n",
    "    print('Using Fit Model {} for TES #{}'.format(sbfitmodel.name,detnums[i]))\n",
    "\n",
    "flattest, az, el = sbfit.get_flatmap(detnums[1], savedirtest, azmin = azmin, azmax = azmax, remove = None)\n",
    "figure()\n",
    "fit, thexypeaks = sbfit.fit_sb(flattest, az, el, sbfitmodel, resample=False, newsize=70,\n",
    "                               verbose=True, doplot=True, \n",
    "                               extra_title='TES #{}'.format(detnums[1]))"
   ]
  },
  {
   "cell_type": "code",
   "execution_count": null,
   "id": "b1fd1094",
   "metadata": {},
   "outputs": [],
   "source": [
    "# Read the data\n",
    "for TESNum in range(1, 257):\n",
    "    print(TESNum)\n",
    "    flatmap, az, el = sbfit.get_flatmap(TESNum, savedirtest, remove=None, azmin=azmin, azmax=azmax)\n",
    "\n",
    "    #### Instantiate a model\n",
    "    sbfitmodel3 = sbfit.SbModelIndepPeaks(nrings=2, common_fwhm=True, no_xy_shift=False, distortion=False)\n",
    "    \n",
    "    fit, xypeaks = sbfit.fit_sb(flatmap, az, el, sbfitmodel3, verbose=False, resample=False, \n",
    "                            doplot=False, extra_title='TES #{}'.format(TESNum))"
   ]
  },
  {
   "cell_type": "code",
   "execution_count": null,
   "id": "61db25c0",
   "metadata": {},
   "outputs": [],
   "source": [
    "GaussianShape = 'sym'\n",
    "if GaussianShape == 'sym':\n",
    "    funcfit = dl.fit_sb\n",
    "elif GaussianShape == 'asym':\n",
    "    funcfit = dl.fit_sb_asym"
   ]
  },
  {
   "cell_type": "code",
   "execution_count": null,
   "id": "b205427f",
   "metadata": {},
   "outputs": [],
   "source": [
    "flatmap_init, az_init, el_init = sbfit.get_flatmap(2, dirfiles)\n",
    "flatmap = flatmap_init\n",
    "az = az_init\n",
    "el = el_init\n",
    "az2d, el2d = np.meshgrid(az * np.cos(np.radians(50)), np.flip(el))\n",
    "distance_max = 5.\n",
    "az_center=0.\n",
    "el_center=50.\n",
    "scaling=140e3\n",
    "mask = (np.sqrt((az2d - az_center) ** 2 + (el2d - el_center) ** 2) < distance_max).astype(int)\n",
    "wmax = np.where((flatmap * mask) == np.max(flatmap * mask))\n",
    "maxval = flatmap[wmax][0]\n",
    "x = [az2d, el2d]\n",
    "parsinit = np.array([az2d[wmax][0], el2d[wmax][0], 8.3, 44., 0., 0.009, maxval / scaling, 0., 50., 13., 1.])\n",
    "rng = [[az2d[wmax][0] - 1., az2d[wmax][0] + 1.],\n",
    "           [el2d[wmax][0] - 1., el2d[wmax][0] + 1.],\n",
    "           [8., 8.75],\n",
    "           [43., 47.],\n",
    "           [-0.02, 0.02],\n",
    "           [-0.02, 0.02],\n",
    "           [0, 1000],\n",
    "           [-3, 3],\n",
    "           [47., 53],\n",
    "           [10., 16.],\n",
    "           [0.5, 1.5]]\n"
   ]
  },
  {
   "cell_type": "code",
   "execution_count": null,
   "id": "b360cba3",
   "metadata": {},
   "outputs": [],
   "source": [
    "fit = ft.do_minuit(x, np.ravel(flatmap / scaling), np.ones_like(np.ravel(flatmap)), parsinit,\n",
    "                       functname=dl.flattened_qubic_sb_model, chi2=ft.MyChi2_nocov, rangepars=rng,\n",
    "                       force_chi2_ndf=True)\n"
   ]
  },
  {
   "cell_type": "code",
   "execution_count": null,
   "id": "8809dfe3",
   "metadata": {},
   "outputs": [],
   "source": [
    "machine = os.uname()[1]\n",
    "dirfreq = \"150GHz-2019-04-06/\"\n",
    "if machine == 'shaka':\n",
    "\tdirallfreqs = \"/home/mgamboa/qubic/QUBIC/qubiccalibration/Data/\"\n",
    "elif machine == 'hain':\n",
    "\tdirallfreqs = \"/home/martin/QUBIC/qubiccalibration/Data/Calib-TD/\"\n",
    "\n",
    "dirfiles = dirallfreqs+dirfreq\n",
    "dirsave = dirallfreqs+dirfreq+\"FitSB/\"\n",
    "\n",
    "ft.printnow(\"====================================\")\n",
    "ft.printnow(\"====================================\")\n",
    "ft.printnow(\"Starting \\n\")\n",
    "ft.printnow(\"====================================\")\n",
    "ft.printnow(\"====================================\")\n",
    "\n",
    "t0 = time.time()\n",
    "\n",
    "for TESIndex in range(2):\n",
    "    TESNum = TESIndex+1\n",
    "    if GaussianShape == 'sym':\n",
    "        flatmap, az, el, fit, xypeaks = dl.fit_sb(TESNum, dirfiles)\n",
    "    elif GaussianShape == 'asym':\n",
    "        flatmap, az, el, fit, xypeaks = dl.fit_sb_asym(TESNum, dirfiles)\n",
    "    \n",
    "    FitsArray(fit[1]).save(dirsave+'/fit_sb_{}_TESNum_{}.fits'.format(\n",
    "        GaussianShape, TESNum))\n",
    "    FitsArray(fit[2]).save(dirsave+'/errfit_sb_{}_TESNum_{}.fits'.format(\n",
    "        GaussianShape, TESNum))\n",
    "    ft.printnow(\"Done (sym) TES = {}\".format(TESIndex+1))\n",
    "    \n",
    "t1 = time.time()\n",
    "ft.printnow(\"====================================\")\n",
    "ft.printnow(\"====================================\")\n",
    "ft.printnow(\"Sym done in {:.2f} \\n\".format((t1 - t0)/60  ))\n",
    "ft.printnow(\"====================================\")\n",
    "ft.printnow(\"====================================\")\n",
    "\n",
    "t2 = time.time()\n"
   ]
  },
  {
   "cell_type": "markdown",
   "id": "31f5fd13",
   "metadata": {},
   "source": [
    "**3rd)** Once we had create the flat and healpix maps, we have our demodulated data. We now read it doing"
   ]
  },
  {
   "cell_type": "code",
   "execution_count": null,
   "id": "170718da",
   "metadata": {},
   "outputs": [],
   "source": [
    "# INSTRUMENT\n",
    "ns = 256\n",
    "d = qubic.qubicdict.qubicDict()\n",
    "d.read_from_file('global_source_oneDet_multiband.dict')\n",
    "\n",
    "print(d['kind'])\n",
    "d['kind']='I'\n",
    "print(d['kind'])\n",
    "d['nside']=ns\n",
    "\n",
    "fittedpeakfile = os.environ['QUBIC_TODDIR'] + '150GHz-2019-04-06/FitSB/fitted_peaks.fits'\n",
    "directory = os.environ['QUBIC_TODDIR'] + '150GHz-2019-04-06/'"
   ]
  },
  {
   "cell_type": "code",
   "execution_count": null,
   "id": "87fefcb2",
   "metadata": {},
   "outputs": [],
   "source": [
    "c50 = np.cos(np.radians(50))\n",
    "azmin = -15./c50\n",
    "azmax = 15./c50\n",
    "flatmap, az, el = sbfit.get_flatmap(1, directory, azmin=azmin, azmax=azmax)\n",
    "npix = len(np.ravel(flatmap))\n",
    "alldata_renorm = np.zeros((256, npix))\n",
    "for i in range(256):\n",
    "    flatmap, az, el = sbfit.get_flatmap(i+1, directory, azmin=azmin, azmax=azmax)\n",
    "    mm,ss = ft.meancut(flatmap,3)\n",
    "    alldata_renorm[i,:] = np.ravel((flatmap-mm)/ss)  \n",
    "\n",
    "med = np.reshape(np.median(alldata_renorm,axis=0),np.shape(flatmap))\n",
    "mm = np.mean(med)\n",
    "ss = np.std(med)\n",
    "\n",
    "plt.rc('figure', figsize=(15,8))\n",
    "plt.imshow(np.reshape(med, np.shape(flatmap)),\n",
    "       extent=[np.min(az)*c50, np.max(az)*c50, np.min(el), np.max(el)], aspect='equal')\n",
    "plt.colorbar()\n",
    "plt.title('Median over all S.B. images (renormalized)')"
   ]
  },
  {
   "cell_type": "code",
   "execution_count": null,
   "id": "e66584b4",
   "metadata": {},
   "outputs": [],
   "source": []
  }
 ],
 "metadata": {
  "kernelspec": {
   "display_name": "Python 3",
   "language": "python",
   "name": "python3"
  }
 },
 "nbformat": 4,
 "nbformat_minor": 5
}
