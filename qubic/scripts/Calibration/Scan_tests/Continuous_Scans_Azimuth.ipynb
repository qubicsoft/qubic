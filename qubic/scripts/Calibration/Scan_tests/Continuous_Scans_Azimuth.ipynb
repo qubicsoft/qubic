{
 "cells": [
  {
   "cell_type": "code",
   "execution_count": null,
   "id": "250f54ac",
   "metadata": {},
   "outputs": [],
   "source": [
    "#%matplotlib notebook\n",
    "%matplotlib inline\n",
    "from matplotlib import rc\n",
    "rc('figure',figsize=(10,7))\n",
    "rc('font',size=12)\n",
    "rc('text',usetex=False)\n",
    "\n",
    "from qubicpack import qubicpack as qp\n",
    "import fibtools as ft\n",
    "import plotters as p\n",
    "\n",
    "import numpy as np\n",
    "from matplotlib.pyplot import *\n",
    "import matplotlib.mlab as mlab\n",
    "import scipy.ndimage.filters as f\n",
    "import glob\n",
    "import string"
   ]
  },
  {
   "cell_type": "code",
   "execution_count": null,
   "id": "626c6624",
   "metadata": {},
   "outputs": [],
   "source": [
    "rc('figure',figsize=(10,7))"
   ]
  },
  {
   "cell_type": "markdown",
   "id": "3a937282",
   "metadata": {},
   "source": [
    "Get the directories corresponding to the day we consider:"
   ]
  },
  {
   "cell_type": "code",
   "execution_count": null,
   "id": "06e2441c",
   "metadata": {},
   "outputs": [],
   "source": [
    "day = '2019-02-22'\n",
    "data_dir = '/qubic/Data/Calib-TD/'+day+'/'\n",
    "dirs = glob.glob(data_dir+'/*')\n",
    "dirs"
   ]
  },
  {
   "cell_type": "code",
   "execution_count": null,
   "id": "5f9103ce",
   "metadata": {},
   "outputs": [],
   "source": [
    "labels = []\n",
    "for d in dirs:\n",
    "    bla = str.split(d,'__')\n",
    "    print bla\n",
    "    labels.append(bla[1])\n",
    "labels"
   ]
  },
  {
   "cell_type": "markdown",
   "id": "e9673b43",
   "metadata": {},
   "source": [
    "So we first look at pixel 63 in ASIC2 in first dataset (Source_scan1). Same pixel as Michel did on QubicStudio,  read the Azimuth and put both times starting at zero"
   ]
  },
  {
   "cell_type": "code",
   "execution_count": null,
   "id": "e1d3ee77",
   "metadata": {},
   "outputs": [],
   "source": [
    "thedir = dirs[0]\n",
    "a = qp()\n",
    "a.read_qubicstudio_dataset(thedir, asic=2)\n",
    "nsamples = len(a.timeline(TES=63))\n",
    "pow2 = int(np.log(nsamples)/np.log(2))\n",
    "ns = 2**pow2\n",
    "FREQ_SAMPLING = 1./a.sample_period()\n",
    "\n",
    "t_data = a.timeline_timeaxis(axistype='pps')\n",
    "#t_data = a.timeline_timeaxis(axistype='index')\n",
    "\n",
    "t_az, azinit = ft.read_hkintern(thedir,thefieldname='Platform-Azimut')\n",
    "az = (azinit-2.**15)/2.**16*360\n",
    "\n",
    "mini_t_data = np.min(t_data)\n",
    "t_data = t_data-mini_t_data\n",
    "t_az = t_az-mini_t_data"
   ]
  },
  {
   "cell_type": "code",
   "execution_count": null,
   "id": "1e6108b0",
   "metadata": {},
   "outputs": [],
   "source": []
  },
  {
   "cell_type": "code",
   "execution_count": null,
   "id": "0e7ac817",
   "metadata": {},
   "outputs": [],
   "source": [
    "# print(told)\n",
    "# print(tnew-tnew[0])\n",
    "# TESnum = 63\n",
    "# data = a.timeline(TES=TESnum)\n",
    "# plot(told, data, alpha=0.5)\n",
    "# plot(tnew-np.min(tnew)-122, data, alpha=0.5)"
   ]
  },
  {
   "cell_type": "markdown",
   "id": "e753516a",
   "metadata": {},
   "source": [
    "## Calibration of the number of step motor per degree "
   ]
  },
  {
   "cell_type": "code",
   "execution_count": null,
   "id": "08bd9cbd",
   "metadata": {},
   "outputs": [],
   "source": [
    "angle_given = 10.\n",
    "angle_measured = np.max(az) - np.min(az)\n",
    "print(angle_given, angle_measured)\n",
    "\n",
    "nb_encoder_step_per_degree = (np.max(azinit) - np.min(azinit)) / angle_measured\n",
    "print(nb_encoder_step_per_degree)\n",
    "\n",
    "nb_motor_step_per_degree = 168830\n",
    "nb_motor_step_per_degree_new = nb_motor_step_per_degree / (angle_measured / angle_given)\n",
    "print (nb_motor_step_per_degree_new)"
   ]
  },
  {
   "cell_type": "code",
   "execution_count": null,
   "id": "9ba8a032",
   "metadata": {},
   "outputs": [],
   "source": [
    "print(t_data)\n",
    "print(t_az)\n",
    "\n",
    "TESnum = 63\n",
    "data = a.timeline(TES=TESnum)\n",
    "plot(t_data,(data-np.mean(data))/np.std(data),label='TES')\n",
    "plot(t_az-np.min(t_az), (az-np.mean(az))/np.std(az),label='Az')\n",
    "legend()\n",
    "print(np.min(az),np.max(az))\n",
    "\n",
    "thedata = data - f.gaussian_filter1d(data, 1000)"
   ]
  },
  {
   "cell_type": "code",
   "execution_count": null,
   "id": "cf7fa24c",
   "metadata": {},
   "outputs": [],
   "source": [
    "new_az = np.interp(t_data, t_az-min(t_az), az)\n",
    "plot(new_az, data,'b,')\n",
    "xlabel('Azimuth [deg]')\n",
    "ylabel('Data')"
   ]
  },
  {
   "cell_type": "code",
   "execution_count": null,
   "id": "b123e41a",
   "metadata": {},
   "outputs": [],
   "source": [
    "ppp = 3.\n",
    "period = ppp*(t_data/int(ppp)).astype(int)\n",
    "allperiods = np.unique(period)\n",
    "tper = np.zeros(len(allperiods))\n",
    "azper = np.zeros(len(allperiods))\n",
    "ampdata = np.zeros(len(allperiods))\n",
    "for i in xrange(len(allperiods)):\n",
    "    ok = (period == allperiods[i])\n",
    "    azper[i] = np.mean(new_az[ok])\n",
    "    tper[i] = np.mean(t_data[ok])\n",
    "    ampdata[i] = np.std(data[ok])\n",
    "plot(tper,ampdata,'b')"
   ]
  },
  {
   "cell_type": "code",
   "execution_count": null,
   "id": "c7c8b685",
   "metadata": {},
   "outputs": [],
   "source": [
    "plot(azper,ampdata,'b')"
   ]
  },
  {
   "cell_type": "code",
   "execution_count": null,
   "id": "d853e473",
   "metadata": {},
   "outputs": [],
   "source": [
    "elevation = 50.\n",
    "nbins = 180\n",
    "azfinalbins = min(azper)+(max(azper)-min(azper))*np.linspace(0,1,nbins+1)\n",
    "angfinal = np.zeros(nbins)\n",
    "ampfinal = np.zeros(nbins)\n",
    "err_ampfinal = np.zeros(nbins)\n",
    "for i in xrange(nbins):\n",
    "    ok = (azper >= azfinalbins[i]) & (azper < azfinalbins[i+1])\n",
    "    angfinal[i] = 0.5 * (azfinalbins[i] + azfinalbins[i+1]) * np.cos(np.radians(elevation))\n",
    "    ampfinal[i] = np.mean(ampdata[ok])\n",
    "    err_ampfinal[i] = np.std(ampdata[ok])/np.sqrt(ok.sum())\n",
    "\n",
    "def gauss(x,par):\n",
    "    return par[3]+par[2]*np.exp(-0.5 * (x-par[0])**2 / par[1]**2)\n",
    "\n",
    "thecut = 350000\n",
    "okfit = (ampfinal < thecut) & (err_ampfinal != 0)\n",
    "print(okfit.sum())\n",
    "guess = np.array([3., 2., np.max(ampfinal)-np.min(ampfinal), np.min(ampfinal)])\n",
    "res = ft.do_minuit(angfinal[okfit], ampfinal[okfit], err_ampfinal[okfit], guess, functname=gauss, verbose=False)\n",
    "\n",
    "rc('figure',figsize=(12,7))\n",
    "\n",
    "subplot(1,2,1)\n",
    "plot(angfinal, ampfinal,'b',label='Data')\n",
    "plot(angfinal[okfit], ampfinal[okfit],'b.',label='Data for fit')\n",
    "plot(angfinal, gauss(angfinal, res[1]), 'r', label='Fit: FWHM={0:4.2f} deg'.format(res[1][1]*2.35))\n",
    "plot(angfinal, angfinal*0+thecut, 'k:',label='Cut for fit')\n",
    "xlabel('Angle on Sky')\n",
    "ylabel('Beam')\n",
    "title('TES #{}'.format(TESnum))\n",
    "legend(fontsize=9)\n",
    "\n",
    "ampfinaldB = 10 * np.log10(np.abs((ampfinal-res[1][3])/res[1][2]))\n",
    "subplot(1,2,2)\n",
    "plot(angfinal, ampfinaldB,'b')\n",
    "plot(angfinal[okfit], ampfinaldB[okfit],'b.')\n",
    "plot(angfinal, 10*np.log10((gauss(angfinal, res[1])-res[1][3])/res[1][2]), 'r', label='Fit')\n",
    "xlabel('Angle on Sky')\n",
    "ylabel('Beam [dB]')\n",
    "title('TES #{}'.format(TESnum))\n",
    "ylim(-25,0)\n",
    "tight_layout()"
   ]
  },
  {
   "cell_type": "code",
   "execution_count": null,
   "id": "10d21744",
   "metadata": {},
   "outputs": [],
   "source": [
    "fcalsrc = np.sort(glob.glob('/qubic/Data/Calib-TD/calsource/calsource_20190222*'))\n",
    "print fcalsrc\n",
    "tt = []\n",
    "dd = []\n",
    "for ff in fcalsrc:\n",
    "    thett, thedd = np.loadtxt(ff).T\n",
    "    tt.append(thett)\n",
    "    dd.append(thedd)\n",
    "\n",
    "tt = np.concatenate(tt)\n",
    "dd = np.concatenate(dd)\n",
    "tt += 3600-mini_t_data\n",
    "dd = (dd-np.mean(dd))/np.std(dd)\n",
    "plot(tt,dd,',')\n",
    "ylim(-1,1)"
   ]
  },
  {
   "cell_type": "code",
   "execution_count": null,
   "id": "555888ee",
   "metadata": {},
   "outputs": [],
   "source": [
    "\n",
    "fct = np.sin((t_data+0.75)*2*np.pi/(1./0.333))/2\n",
    "\n",
    "shift = -0.45\n",
    "subplot(2,1,1)\n",
    "plot(t_data, thedata/np.max(thedata), alpha=0.5, label='data')\n",
    "plot(tt-np.min(t_az)-shift, dd, alpha=0.5, label='Source')\n",
    "plot(t_data, fct, alpha=0.5, label='Sinewave on t_data')\n",
    "ylim(-1,1)\n",
    "legend(loc='lower left')\n",
    "\n",
    "subplot(2,3,4)\n",
    "plot(t_data, thedata/np.max(thedata))\n",
    "plot(tt-np.min(t_az)-shift, dd)\n",
    "plot(t_data, fct)\n",
    "ylim(-1,1)\n",
    "xlim(520,530)\n",
    "\n",
    "subplot(2,3,5)\n",
    "plot(t_data, thedata/np.max(thedata))\n",
    "plot(tt-np.min(t_az)-shift, dd)\n",
    "plot(t_data, fct)\n",
    "ylim(-1,1)\n",
    "xlim(1900,1910)\n",
    "\n",
    "subplot(2,3,6)\n",
    "plot(t_data, thedata/np.max(thedata))\n",
    "plot(tt-np.min(t_az)-shift, dd)\n",
    "plot(t_data, fct)\n",
    "ylim(-1,1)\n",
    "xlim(4790,4800)\n"
   ]
  },
  {
   "cell_type": "code",
   "execution_count": null,
   "id": "c5796099",
   "metadata": {},
   "outputs": [],
   "source": []
  },
  {
   "cell_type": "code",
   "execution_count": null,
   "id": "6aaa97c2",
   "metadata": {},
   "outputs": [],
   "source": []
  }
 ],
 "metadata": {
  "kernelspec": {
   "display_name": "Python [default]",
   "language": "python",
   "name": "python2"
  }
 },
 "nbformat": 4,
 "nbformat_minor": 5
}
