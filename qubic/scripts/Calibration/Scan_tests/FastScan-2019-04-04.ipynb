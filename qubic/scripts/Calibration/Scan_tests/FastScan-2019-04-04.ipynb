{
 "cells": [
  {
   "cell_type": "code",
   "execution_count": null,
   "id": "264422fc",
   "metadata": {},
   "outputs": [],
   "source": [
    "#%matplotlib notebook\n",
    "%matplotlib inline\n",
    "from matplotlib import rc\n",
    "rc('figure',figsize=(16,8))\n",
    "rc('font',size=12)\n",
    "rc('text',usetex=False)\n",
    "\n",
    "from qubicpack import qubicpack as qp\n",
    "import fibtools as ft\n",
    "import plotters as p\n",
    "import lin_lib as ll\n",
    "import demodulation_lib as dl\n",
    "import satorchipy as stpy\n",
    "from pysimulators import FitsArray\n",
    "\n",
    "import numpy as np\n",
    "from matplotlib.pyplot import *\n",
    "import matplotlib.mlab as mlab\n",
    "import scipy.ndimage.filters as f\n",
    "import glob\n",
    "import string\n",
    "import scipy.signal as scsig\n",
    "from scipy import interpolate\n",
    "import datetime as dt\n"
   ]
  },
  {
   "cell_type": "markdown",
   "id": "ab28adea",
   "metadata": {},
   "source": [
    "## Dataset\n",
    "Lets get the directories corresponding to each dataset:"
   ]
  },
  {
   "cell_type": "code",
   "execution_count": null,
   "id": "5de5324b",
   "metadata": {},
   "outputs": [],
   "source": [
    "# name = '2019-04-04_18.47.51__ScanMap_Speed_VE20_FastNoMod'\n",
    "# day = '2019-04-04'\n",
    "name = '2019-04-05_14.58.57__ScanMap_Speed_VE20_FastNoMod'\n",
    "day = '2019-04-05'\n",
    "\n",
    "datasets=[]\n",
    "thedir = glob.glob('/qubic/Data/Calib-TD/'+day+'/*'+name+'*')[0]\n",
    "\n",
    "print thedir\n",
    "\n",
    "AsicNum = 1\n",
    "TESNum = 93\n",
    "data = dl.read_data_azel_src(thedir, AsicNum, TESNum=TESNum, verbose=True)\n"
   ]
  },
  {
   "cell_type": "markdown",
   "id": "839ff3a8",
   "metadata": {},
   "source": [
    "### Plot Data and Azimuth and source together (they should match)"
   ]
  },
  {
   "cell_type": "code",
   "execution_count": null,
   "id": "79ea3959",
   "metadata": {},
   "outputs": [],
   "source": [
    "t0 = data['t_data'][0]\n",
    "fdata = f.gaussian_filter1d(dl.renorm(data['data']),10)\n",
    "plot(data['t_data']-t0, dl.renorm(fdata), label='Data')\n",
    "plot(data['t_azel']-t0, dl.renorm(data['az']), label='Az')\n",
    "plot(data['t_azel']-t0, dl.renorm(data['el']), label='el')\n",
    "legend()\n"
   ]
  },
  {
   "cell_type": "code",
   "execution_count": null,
   "id": "d61d4f92",
   "metadata": {},
   "outputs": [],
   "source": [
    "newaz = np.interp(data['t_data'], data['t_azel'], data['az'])\n",
    "newel = np.interp(data['t_data'], data['t_azel'], data['el'])\n",
    "plot(newaz, data['data'])"
   ]
  },
  {
   "cell_type": "code",
   "execution_count": null,
   "id": "55fd3e98",
   "metadata": {},
   "outputs": [],
   "source": [
    "import scipy.stats as scistat\n",
    "reg = scistat.linregress(newaz, data['data'])\n",
    "print reg\n",
    "print reg[0], reg[1]\n",
    "\n",
    "subplot(2,1,1)\n",
    "plot(newaz, data['data'])\n",
    "plot(newaz, reg[0]*newaz+reg[1])\n",
    "plot(newaz, data['data']-reg[0]*newaz-reg[1])\n",
    "\n",
    "data_detrend = data['data']-reg[0]*newaz-reg[1]\n",
    "\n",
    "subplot(2,1,2)\n",
    "plot(newel,data_detrend)"
   ]
  },
  {
   "cell_type": "code",
   "execution_count": null,
   "id": "30b1dab7",
   "metadata": {},
   "outputs": [],
   "source": [
    "FREQ_SAMPLING = 1./(data['t_data'][1]-data['t_data'][0])\n",
    "\n",
    "newt = np.linspace(data['t_data'][0], data['t_data'][-1], len(data['t_data']))\n",
    "newdata = np.interp(newt, data['t_data'], data_detrend)\n",
    "#newdata = np.interp(newt, data['t_data'], data['data'])\n",
    "spectrum_f, freq_f = mlab.psd(newdata, Fs=1./(newt[1]-newt[0]), NFFT=len(data['data']), window=mlab.window_hanning)\n",
    "plot(freq_f, f.gaussian_filter1d(spectrum_f,1),label='Data')\n",
    "yscale('log')\n",
    "xscale('log')\n",
    "ylim(1e4, 1e15)\n",
    "legend()"
   ]
  },
  {
   "cell_type": "code",
   "execution_count": null,
   "id": "b81821aa",
   "metadata": {},
   "outputs": [],
   "source": [
    "##### Filter Data and Source Signal the same way\n",
    "lowcut = 0.001\n",
    "highcut = 50\n",
    "FREQ_SAMPLING = 1./(data['t_data'][1]-data['t_data'][0])\n",
    "filt = scsig.butter(5, [lowcut / FREQ_SAMPLING, highcut / FREQ_SAMPLING], btype='bandpass', output='sos')\n",
    "# Filter Data and change its sign to be in the same as Src\n",
    "newdata = np.interp(newt, data['t_data'], data_detrend)\n",
    "new_data = -scsig.sosfilt(filt, newdata)\n",
    "\n",
    "subplot(1,3,1)\n",
    "plot(data['t_data'], new_data)\n",
    "subplot(1,3,2)\n",
    "plot(newaz, new_data)\n",
    "\n",
    "nbaz = 100\n",
    "dd = 0.1\n",
    "azmin = np.min(newaz)-dd\n",
    "azmax = np.max(newaz)+dd\n",
    "azimg = np.linspace(azmin, azmax, nbaz+1)\n",
    "nbel = 40\n",
    "elmin = np.min(newel)-dd\n",
    "elmax = np.max(newel)+dd\n",
    "elimg = np.linspace(elmin, elmax, nbel+1)\n",
    "\n",
    "img = np.zeros((nbel,nbaz))\n",
    "for i in xrange(nbel):\n",
    "    ok_el = (newel >= elimg[i]) & (newel < elimg[i+1])\n",
    "    mm, ss = ft.meancut(new_data[ok_el], 3)\n",
    "    for j in xrange(nbaz):\n",
    "        ok_az = (newaz >= azimg[j]) & (newaz < azimg[j+1])\n",
    "        ok = ok_el & ok_az\n",
    "        mm2, ss2 = ft.meancut(new_data[ok]-mm, 3)\n",
    "        img[i,j] = mm2\n",
    "        \n",
    "subplot(1,3,3)\n",
    "mm, ss = ft.meancut(img,3)\n",
    "imshow(img, extent=[azmin*np.cos(np.radians(50)), azmax*np.cos(np.radians(50)), elmin, elmax], aspect='equal',vmin=-50000, vmax=100000)\n",
    "colorbar()\n",
    "xlabel('Az')\n",
    "ylabel('el')"
   ]
  },
  {
   "cell_type": "code",
   "execution_count": null,
   "id": "f783c501",
   "metadata": {},
   "outputs": [],
   "source": []
  },
  {
   "cell_type": "code",
   "execution_count": null,
   "id": "c467a1c5",
   "metadata": {},
   "outputs": [],
   "source": []
  },
  {
   "cell_type": "code",
   "execution_count": null,
   "id": "be74054e",
   "metadata": {},
   "outputs": [],
   "source": []
  }
 ],
 "metadata": {
  "kernelspec": {
   "display_name": "Python [conda env:anaconda]",
   "language": "python",
   "name": "conda-env-anaconda-py"
  }
 },
 "nbformat": 4,
 "nbformat_minor": 5
}
