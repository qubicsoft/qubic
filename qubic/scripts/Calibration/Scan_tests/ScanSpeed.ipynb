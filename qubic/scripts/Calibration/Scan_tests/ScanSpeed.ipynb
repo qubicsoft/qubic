{
 "cells": [
  {
   "cell_type": "code",
   "execution_count": null,
   "id": "382c635a",
   "metadata": {},
   "outputs": [],
   "source": [
    "#%matplotlib notebook\n",
    "%matplotlib inline\n",
    "from matplotlib import rc\n",
    "rc('figure',figsize=(16,8))\n",
    "rc('font',size=12)\n",
    "rc('text',usetex=False)\n",
    "\n",
    "from qubicpack import qubicpack as qp\n",
    "import fibtools as ft\n",
    "import plotters as p\n",
    "import lin_lib as ll\n",
    "import demodulation_lib as dl\n",
    "\n",
    "from pysimulators import FitsArray\n",
    "\n",
    "import numpy as np\n",
    "from matplotlib.pyplot import *\n",
    "import matplotlib.mlab as mlab\n",
    "import scipy.ndimage.filters as f\n",
    "import glob\n",
    "import string\n",
    "import scipy.signal as scsig\n",
    "from scipy import interpolate"
   ]
  },
  {
   "cell_type": "code",
   "execution_count": null,
   "id": "73f19e7c",
   "metadata": {},
   "outputs": [],
   "source": []
  },
  {
   "cell_type": "markdown",
   "id": "e8812a89",
   "metadata": {},
   "source": [
    "## Dataset\n"
   ]
  },
  {
   "cell_type": "code",
   "execution_count": null,
   "id": "aac1472b",
   "metadata": {},
   "outputs": [],
   "source": [
    "names = ['ScanMap_VE1','ScanMap_VE3','ScanMap_VE5','ScanMap_VE10']\n",
    "days = [['2019-03-27'],['2019-03-27'],['2019-03-27'],['2019-03-27']]\n",
    "el_start = [50., 50., 50., 50.]\n",
    "delta_el = 0\n",
    "\n",
    "all_elevation = []\n",
    "datasets=[]\n",
    "for inames in xrange(len(names)):\n",
    "    n = names[inames]\n",
    "    print n, ' Elevation starts at {}'.format(el_start[inames])\n",
    "    datasets.append([])\n",
    "    for d in days[inames]:\n",
    "        dd = glob.glob('/qubic/Data/Calib-TD/'+d+'/*'+n)\n",
    "        for i in xrange(len(dd)): \n",
    "            datasets[inames].append(dd[i])\n",
    "        print '  * ',d,' : {} files'.format(len(dd))\n",
    "    print '  => Total = {} files'.format(len(datasets[inames]))\n",
    "    elevations = el_start[inames]+arange(len(datasets[inames]))*delta_el\n",
    "    all_elevation.append(elevations)\n",
    "    print '  => Elevation ends at {}'.format(np.max(elevations))\n"
   ]
  },
  {
   "cell_type": "markdown",
   "id": "82372a8a",
   "metadata": {},
   "source": [
    "We start with the forst dataset ('ScanMap'):"
   ]
  },
  {
   "cell_type": "code",
   "execution_count": null,
   "id": "7ea0ed32",
   "metadata": {},
   "outputs": [],
   "source": [
    "index = 2\n",
    "dirs = datasets[index]\n",
    "elevation = all_elevation[index]\n",
    "\n",
    "labels = []\n",
    "dir_time = []\n",
    "for d in dirs:\n",
    "    bla = str.split(d,'__')\n",
    "    blo = str.split(bla[0],'/')\n",
    "    labels.append(bla[1])\n",
    "    dir_time.append(blo[-1])\n",
    "    \n",
    "for i in xrange(len(labels)): \n",
    "    print labels[i], dir_time[i], 'Elevation: ', elevation[i]\n"
   ]
  },
  {
   "cell_type": "markdown",
   "id": "5c4de7c1",
   "metadata": {},
   "source": [
    "And we first start with the middle file: i=21"
   ]
  },
  {
   "cell_type": "code",
   "execution_count": null,
   "id": "bdd88fe1",
   "metadata": {},
   "outputs": [],
   "source": [
    "ii = 0\n",
    "thedir = datasets[index][ii]\n",
    "print thedir, 'Elevation =',all_elevation[index][ii]"
   ]
  },
  {
   "cell_type": "markdown",
   "id": "97f6bccc",
   "metadata": {},
   "source": [
    "## Reading Data for a given asic"
   ]
  },
  {
   "cell_type": "code",
   "execution_count": null,
   "id": "10390679",
   "metadata": {},
   "outputs": [],
   "source": [
    "AsicNum = 1\n",
    "a = qp()\n",
    "a.read_qubicstudio_dataset(thedir, asic=AsicNum)"
   ]
  },
  {
   "cell_type": "markdown",
   "id": "d1983bfa",
   "metadata": {},
   "source": [
    "## Reading TES data"
   ]
  },
  {
   "cell_type": "code",
   "execution_count": null,
   "id": "de085ab0",
   "metadata": {},
   "outputs": [],
   "source": [
    "TESNum = 93\n",
    "data = a.timeline(TES=TESNum)\n",
    "t_data = a.timeline_timeaxis(axistype='index')\n",
    "\n",
    "plot(t_data-t_data[0], (data-np.mean(data))/np.std(data), label='Data')\n",
    "#a.plot_timestamp_diagnostic()"
   ]
  },
  {
   "cell_type": "markdown",
   "id": "ab3b039e",
   "metadata": {},
   "source": [
    "## Reading Azimuth Data"
   ]
  },
  {
   "cell_type": "code",
   "execution_count": null,
   "id": "4a823ee1",
   "metadata": {},
   "outputs": [],
   "source": [
    "az = a.azimuth()\n",
    "#t_az = a.timeaxis(datatype='hk',axistype='pps')\n",
    "t_az = (np.max(t_data)-np.min(t_data))*np.linspace(0,1,len(az))\n",
    "\n",
    "plot(t_az, az)"
   ]
  },
  {
   "cell_type": "code",
   "execution_count": null,
   "id": "0ee6ab09",
   "metadata": {},
   "outputs": [],
   "source": [
    "plot(t_az, np.abs(np.gradient(az,t_az[1]-t_az[0])))\n",
    "plot(t_az, t_az*0+np.median(np.abs(np.gradient(az,t_az[1]-t_az[0]))))"
   ]
  },
  {
   "cell_type": "markdown",
   "id": "bdb60071",
   "metadata": {},
   "source": [
    "### Plot Data and Azimuth together (they should match)"
   ]
  },
  {
   "cell_type": "code",
   "execution_count": null,
   "id": "0c717872",
   "metadata": {},
   "outputs": [],
   "source": [
    "subplot(1,2,1)\n",
    "plot(t_data, f.gaussian_filter1d((data-np.mean(data))/np.std(data),15), label='Data')\n",
    "plot(t_az, (az-np.mean(az))/np.std(az), label='Az')\n",
    "legend()\n",
    "\n",
    "subplot(1,2,2)\n",
    "plot(np.interp(t_data, t_az, az), data-f.gaussian_filter1d(data,1000))\n",
    "xlim(-5,5)"
   ]
  },
  {
   "cell_type": "markdown",
   "id": "7f47ddd3",
   "metadata": {},
   "source": [
    "Let's check the modulation frequency (main peak in data)"
   ]
  },
  {
   "cell_type": "code",
   "execution_count": null,
   "id": "213470ea",
   "metadata": {},
   "outputs": [],
   "source": [
    "FREQ_SAMPLING = 1./(t_data[1]-t_data[0])\n",
    "\n",
    "newt = np.linspace(t_data[0], t_data[-1], len(t_data))\n",
    "print len(t_data), t_data[0], t_data[-1]\n",
    "print len(newt), newt[0], newt[-1]\n",
    "newdata = np.interp(newt, t_data, data)\n",
    "spectrum_f, freq_f = mlab.psd(newdata, Fs=1./(newt[1]-newt[0]), NFFT=len(data), window=mlab.window_hanning)\n",
    "plot(freq_f, f.gaussian_filter1d(spectrum_f,1),label='Data')\n",
    "yscale('log')\n",
    "xscale('log')\n",
    "xlim(0.8,1.2)\n",
    "freq_mod = 1.\n",
    "plot([freq_mod, freq_mod], [1e6, 1e12], label='Modulation Frequency: {}'.format(freq_mod))\n",
    "ylim(1e6, 1e12)\n",
    "legend()"
   ]
  },
  {
   "cell_type": "markdown",
   "id": "4262c51e",
   "metadata": {},
   "source": [
    "# Demodulation with RMS per period"
   ]
  },
  {
   "cell_type": "code",
   "execution_count": null,
   "id": "d4d89b1e",
   "metadata": {},
   "outputs": [],
   "source": [
    "reload(dl)\n",
    "\n",
    "#### Parameters\n",
    "ppp = 1./freq_mod\n",
    "lowcut = 0.1\n",
    "highcut = 15.\n",
    "nbins = 100\n",
    "elevation = 50\n",
    "\n",
    "t_src = []\n",
    "data_src = []\n",
    "angle, sb, dsb, pars, err_pars = dl.general_demodulate(ppp, t_data, data, t_src, data_src, t_az, az, \n",
    "                                                    lowcut, highcut, elevation, \n",
    "                                                    nbins=nbins, median=True, method='rms', \n",
    "                                                    doplot=True, unbinned=True, \n",
    "                                                    renormalize_plot=False)\n",
    "\n"
   ]
  },
  {
   "cell_type": "markdown",
   "id": "589cc63a",
   "metadata": {},
   "source": [
    "Now we loop on the TES"
   ]
  },
  {
   "cell_type": "code",
   "execution_count": null,
   "id": "b8fc897a",
   "metadata": {},
   "outputs": [],
   "source": [
    "ppp = 1./freq_mod\n",
    "lowcut = 0.3\n",
    "highcut = 10.\n",
    "nbins = 100\n",
    "elevation = 50\n",
    "\n",
    "reload(dl)\n",
    "reload(ft)\n",
    "all = []\n",
    "angs = []\n",
    "parfit = []\n",
    "err_parfit = []\n",
    "speeds = []\n",
    "for ids in xrange(len(datasets)):\n",
    "    dirs = datasets[ids]\n",
    "    for ii in xrange(len(dirs)):\n",
    "        thedir = dirs[ii]\n",
    "        print '##############################################################'\n",
    "        print 'Dataset {} / {} :'.format(ids,len(datasets)),names[ids]\n",
    "        print 'Directory {} / {} :'.format(ii, len(dirs)), thedir\n",
    "        print '##############################################################'\n",
    "        alldemod = np.zeros((256,nbins))\n",
    "        allpars = np.zeros((256,4))\n",
    "        allerrpars = np.zeros((256,4))\n",
    "        for iasic in [0,1]:\n",
    "            print '======== ASIC {} ====================='.format(iasic)\n",
    "            AsicNum = iasic+1\n",
    "            a = qp()\n",
    "            a.read_qubicstudio_dataset(thedir, asic=AsicNum)\n",
    "#             t_data = a.timeline_timeaxis(axistype='index')\n",
    "#             FREQ_SAMPLING = 1./(t_data[1]-t_data[0])\n",
    "#             az = a.azimuth()\n",
    "#             t_az = (np.max(t_data)-np.min(t_data))*np.linspace(0,1,len(az))\n",
    "            t_data = a.timeline_timeaxis(axistype='pps')\n",
    "            FREQ_SAMPLING = 1./(t_data[1]-t_data[0])\n",
    "            az = a.azimuth()\n",
    "            t_az = a.timeaxis(datatype='hk',axistype='pps')\n",
    "            speed = np.median(np.abs(np.gradient(az,t_az[1]-t_az[0])))\n",
    "            print '############# SPEED', speed\n",
    "            #for TESNum in np.arange(128*0)+1:\n",
    "            TESNum = 96\n",
    "            if (16*(TESNum/16))==TESNum: print(TESNum)\n",
    "            TESindex = iasic*128+(TESNum-1)\n",
    "            thedata = a.timeline(TES=TESNum)\n",
    "            t_src=[]\n",
    "            data_src=[]\n",
    "            angle, sb, dsb, pars, err_pars = dl.general_demodulate(ppp, t_data, thedata, t_src, data_src, t_az, az, \n",
    "                                                        lowcut, highcut, all_elevation[ids][ii], \n",
    "                                                        nbins=nbins, median=False, method='rms', \n",
    "                                                        doplot=False, unbinned=False)\n",
    "            alldemod[TESindex,:] = sb\n",
    "            allpars[TESindex,:] = pars\n",
    "            allerrpars[TESindex,:] = err_pars\n",
    "        speeds.append(speed)    \n",
    "        angs.append(angle)\n",
    "        all.append(alldemod)\n",
    "        parfit.append(allpars)\n",
    "        err_parfit.append(allerrpars)"
   ]
  },
  {
   "cell_type": "code",
   "execution_count": null,
   "id": "0aadf5f7",
   "metadata": {},
   "outputs": [],
   "source": [
    "print 'Fini'"
   ]
  },
  {
   "cell_type": "code",
   "execution_count": null,
   "id": "98f28dd2",
   "metadata": {},
   "outputs": [],
   "source": [
    "TESNum = 96\n",
    "xxx = np.linspace(np.nanmin(angs), np.nanmax(angs), 1000)\n",
    "for i in xrange(len(names)*0+3):\n",
    "    #subplot(2,2,1+i)\n",
    "    p=plot(angs[i],all[i][TESNum-1,:], 'o-', label=names[i]+' - Speed={0:5.3f} deg/sec - FWHM = {1:5.2f} +/- {2:5.2f}'.format(speeds[i],parfit[i][TESNum-1,1],err_parfit[i][TESNum-1,1]),lw=3)\n",
    "    plot(xxx, dl.gauss(xxx, parfit[i][TESNum-1,:]), color=p[0].get_color())\n",
    "legend()"
   ]
  },
  {
   "cell_type": "code",
   "execution_count": null,
   "id": "e38868e5",
   "metadata": {},
   "outputs": [],
   "source": []
  },
  {
   "cell_type": "code",
   "execution_count": null,
   "id": "9a5b2788",
   "metadata": {},
   "outputs": [],
   "source": []
  }
 ],
 "metadata": {
  "kernelspec": {
   "display_name": "Python [conda env:anaconda]",
   "language": "python",
   "name": "conda-env-anaconda-py"
  }
 },
 "nbformat": 4,
 "nbformat_minor": 5
}
