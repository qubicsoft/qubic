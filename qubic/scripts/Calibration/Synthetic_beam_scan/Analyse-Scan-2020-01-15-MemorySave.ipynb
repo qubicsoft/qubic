{
 "cells": [
  {
   "cell_type": "code",
   "execution_count": null,
   "id": "16d455b9",
   "metadata": {},
   "outputs": [],
   "source": [
    "#%matplotlib notebook\n",
    "%matplotlib inline\n",
    "from matplotlib import rc\n",
    "rc('figure',figsize=(9,4.5))\n",
    "rc('font',size=12)\n",
    "rc('text',usetex=False)\n",
    "\n",
    "from qubicpack.qubicfp import qubicfp\n",
    "import qubic.fibtools as ft\n",
    "import qubic.plotters as p\n",
    "import qubic.lin_lib as ll\n",
    "import qubic.demodulation_lib as dl\n",
    "import satorchipy as stpy\n",
    "from pysimulators import FitsArray\n",
    "\n",
    "import numpy as np\n",
    "from matplotlib.pyplot import *\n",
    "import matplotlib.mlab as mlab\n",
    "import scipy.ndimage.filters as f\n",
    "import glob\n",
    "import string\n",
    "import scipy.signal as scsig\n",
    "from scipy import interpolate\n",
    "import datetime as dt\n",
    "import pickle\n",
    "from importlib import reload"
   ]
  },
  {
   "cell_type": "markdown",
   "id": "acaee0e7",
   "metadata": {},
   "source": [
    "# Setting the directory containing data\n",
    "\n",
    "Here are the vailable data:\n",
    "### 2020-01-14: \n",
    "- 2020-01-14_18.38.23__ScanFast_Speed_VE5_DeltaAz_40_DeltaEl_30_NScans_151_Cycle_0: \n",
    "    - Long acquisition during the night with SOurce Modulation \n",
    "    - Note that the computer experienced a reboot during the night (at ~5AM) due to some windows update probably. As a result the scan is not fully complete and STeve had to modify by hand some fits files in order to make them readable. After discussion with Wilfried, it seems that there is a solution to this kind of issues in the way QS files a re written and this will soon be implemented.\n",
    "    - Edit (16/01/2020): Steve has corrected the dataset so in principle it can be read and analysed\n",
    "    \n",
    "### 2020-01-15: \n",
    "- 2020-01-15_21.34.32__ScanFast_Speed_VE10_DeltaAz_40_DeltaEl_30_NScans_151_Cycle_0:\n",
    "    - Long acquisition overnight. It was intended to be without the modulation of the source but acttually the source was modulating in sine. So it should be analysed with the current cript instead of the one not using modulation.\n",
    "\n",
    "### 2020-03-16: \n",
    "- 2020-03-16_10.55.31__ScanFast_Speed_VE10_DeltaAz_10_DeltaEl_10_NScans_1_Cycle_0:\n",
    "    - Short test\n",
    "- 2020-03-16_11.04.58__ScanFast_Speed_VE12_DeltaAz_50_DeltaEl_10_NScans_1_Cycle_0:\n",
    "    - short test\n",
    "- 2020-03-16_11.14.29__ScanFast_Speed_VE12_DeltaAz_50_DeltaEl_30_NScans_51_Cycle_0:\n",
    "    - interrupted\n",
    "- 2020-03-16_12.46.27__ScanFast_Speed_VE12_DeltaAz_50_DeltaEl_30_NScans_51_Cycle_0:\n",
    "    - Full Cycle\n",
    "\n"
   ]
  },
  {
   "cell_type": "code",
   "execution_count": null,
   "id": "68bddfe2",
   "metadata": {},
   "outputs": [],
   "source": [
    "#day = '2020-03-16'\n",
    "#keyword = '*ScanMap'\n",
    "#day = '2022-04-14'\n",
    "#keyword = '*ScanFast*'\n",
    "day = '2022-04-23'\n",
    "keyword = '*ScanMap*'\n",
    "data_dir = '/qubic/Data/Calib-TD/'+day+'/'\n",
    "#data_dir = '/Users/hamilton/Qubic/Calib-TD/'+day+'/'\n",
    "dirs = np.sort(glob.glob(data_dir+keyword))\n",
    "\n",
    "print (dirs)\n"
   ]
  },
  {
   "cell_type": "code",
   "execution_count": null,
   "id": "8c148af8",
   "metadata": {},
   "outputs": [],
   "source": [
    "ifile = 3\n",
    "thedir = dirs[ifile]\n",
    "print(thedir)\n",
    "a = qubicfp()\n",
    "a.read_qubicstudio_dataset(thedir)"
   ]
  },
  {
   "cell_type": "code",
   "execution_count": null,
   "id": "f83a1b3f",
   "metadata": {},
   "outputs": [],
   "source": [
    "print(a.hk.keys())"
   ]
  },
  {
   "cell_type": "code",
   "execution_count": null,
   "id": "ff805ef9",
   "metadata": {},
   "outputs": [],
   "source": [
    "print(a.hk['INTERN_HK'].keys())"
   ]
  },
  {
   "cell_type": "code",
   "execution_count": null,
   "id": "b3e56875",
   "metadata": {},
   "outputs": [],
   "source": [
    "print(a.hk['EXTERN_HK'].keys())"
   ]
  },
  {
   "cell_type": "code",
   "execution_count": null,
   "id": "dc802820",
   "metadata": {},
   "outputs": [],
   "source": [
    "print(a.hk['CALSOURCE-CONF'].keys())"
   ]
  },
  {
   "cell_type": "code",
   "execution_count": null,
   "id": "e6d0a4e0",
   "metadata": {},
   "outputs": [],
   "source": [
    "rc('figure',figsize=(12,12))\n",
    "\n",
    "time_azel = a.timeaxis(datatype='hk',axistype='pps')\n",
    "az = a.azimuth()\n",
    "el = a.elevation()\n",
    "\n",
    "t_src = a.calsource()[0]\n",
    "data_src = a.calsource()[1]\n",
    "\n",
    "t0 = time_azel[0]\n",
    "\n",
    "subplot(2,2,1)\n",
    "plot((time_azel-t0)/3600, az,',')\n",
    "xlabel('Time [h]')\n",
    "ylabel('Az')\n",
    "subplot(2,2,2)\n",
    "plot((time_azel-t0)/3600, el,',')\n",
    "xlabel('Time [h]')\n",
    "ylabel('El')\n",
    "ylim(30,70)\n",
    "\n",
    "subplot(2,2,3)\n",
    "plot(az*cos(np.radians(el)), el,',')\n",
    "xlabel('Az')\n",
    "ylabel('El')\n",
    "\n",
    "subplot(2,2,4)\n",
    "plot((t_src-t0)/3600, data_src,',')\n",
    "xlabel('Time [h]')\n",
    "ylabel('Src Data')\n"
   ]
  },
  {
   "cell_type": "code",
   "execution_count": null,
   "id": "1256831c",
   "metadata": {},
   "outputs": [],
   "source": [
    "TESNum = 95\n",
    "asic = 1\n",
    "tod = a.timeline(TES=TESNum,asic=asic)\n",
    "tt = a.timeaxis(axistype='pps', asic=asic)\n",
    "\n",
    "subplot(2,1,1)\n",
    "plot((tt-t0)/3600, dl.renorm(tod), \n",
    "     label='Data TES {} ASIC {}'.format(TESNum,asic))\n",
    "plot((t_src-t0)/3600, dl.renorm(data_src)-5, label='source')\n",
    "xlabel('Hours')\n",
    "legend(loc='upper left')\n",
    "title(thedir)\n",
    "ylim(-10,10)\n",
    "\n",
    "subplot(2,1,2)\n",
    "tzoom = 1.2940\n",
    "dtzoom = 0.005\n",
    "oktime_d = np.abs((tt-t0)/3600-tzoom) < dtzoom\n",
    "oktime_s = np.abs((t_src-t0)/3600-tzoom) < dtzoom\n",
    "plot((tt-t0)[oktime_d]/3600, dl.renorm(tod[oktime_d]), \n",
    "     label='Data TES {} ASIC {}'.format(TESNum,asic))\n",
    "plot((t_src[oktime_s]-t0)/3600, dl.renorm(data_src[oktime_s]), label='source')\n",
    "xlabel('Hours')\n",
    "legend(loc='upper left')\n",
    "title(thedir)\n"
   ]
  },
  {
   "cell_type": "code",
   "execution_count": null,
   "id": "ca6d0cfa",
   "metadata": {},
   "outputs": [],
   "source": [
    "rc('figure',figsize=(13,8))\n",
    "#### Filtering\n",
    "reload(ft)\n",
    "\n",
    "thefreqmod = 1.\n",
    "\n",
    "period = 1./ thefreqmod\n",
    "lowcut = 0.5\n",
    "highcut = 20\n",
    "\n",
    "xmin = 0.01\n",
    "xmax = 90.\n",
    "ymin = 1e1\n",
    "ymax = 1e17\n",
    "\n",
    "############ Power spectrum\n",
    "spectrum_f, freq_f = ft.power_spectrum(tt, tod, rebin=True)\n",
    "plot(freq_f, f.gaussian_filter1d(spectrum_f,1),label='Raw Data')\n",
    "yscale('log')\n",
    "xscale('log')\n",
    "xlabel('Frequency [Hz]')\n",
    "ylabel('Power Spectrum')\n",
    "xlim(xmin, xmax)\n",
    "ylim(ymin, ymax)\n",
    "title('TES {} ASIC {}'.format(TESNum,asic))\n",
    "\n",
    "for i in range(10):\n",
    "    plot([1./period*i,1./period*i],[ymin,ymax],'k--',alpha=0.3)\n",
    "\n",
    "plot([lowcut, lowcut],[ymin,ymax],'k')\n",
    "plot([highcut, highcut],[ymin,ymax],'k')\n",
    "legend()\n",
    "\n",
    "########## New Power spectrum\n",
    "nharm = 10\n",
    "notch = np.array([[1.724, 0.005, nharm]])\n",
    "newdata = ft.filter_data(tt, tod, lowcut, highcut, notch=notch, rebin=True, verbose=True, order=5)\n",
    "spectrum_f2, freq_f2 = ft.power_spectrum(tt, newdata, rebin=True)\n",
    "plot(freq_f2, f.gaussian_filter1d(spectrum_f2,1),label='Filtered data')\n",
    "for i in range(nharm):\n",
    "    plot([notch[0,0]*(i+1),notch[0,0]*(i+1)], [ymin,ymax],'m:')\n",
    "legend(loc='upper left')\n",
    "\n",
    "tight_layout()"
   ]
  },
  {
   "cell_type": "code",
   "execution_count": null,
   "id": "6d4cd961",
   "metadata": {},
   "outputs": [],
   "source": [
    "plot((tt-t0)/3600, dl.renorm(newdata), \n",
    "     label='Data TES {} ASIC {}'.format(TESNum,asic))\n",
    "plot((t_src-t0)/3600, dl.renorm(data_src)-5, label='source')\n",
    "xlabel('Hours')\n",
    "legend()\n",
    "title(thedir)\n",
    "ylim(-20,20)\n"
   ]
  },
  {
   "cell_type": "code",
   "execution_count": null,
   "id": "73991302",
   "metadata": {},
   "outputs": [],
   "source": [
    "tzoom = 2.101\n",
    "dtzoom = 0.003\n",
    "oktime_d = np.abs((tt-t0)/3600-tzoom) < dtzoom\n",
    "oktime_s = np.abs((t_src-t0)/3600-tzoom) < dtzoom\n",
    "plot((tt-t0)[oktime_d]/3600, dl.renorm(newdata[oktime_d]), \n",
    "     label='Data TES {} ASIC {}'.format(TESNum,asic))\n",
    "plot((t_src[oktime_s]-t0)/3600, dl.renorm(data_src[oktime_s]), label='source')\n",
    "xlabel('Hours')\n",
    "legend()\n",
    "title(thedir)\n"
   ]
  },
  {
   "cell_type": "markdown",
   "id": "96a4a9d6",
   "metadata": {},
   "source": [
    "Now we apply demodualtion with the source data"
   ]
  },
  {
   "cell_type": "code",
   "execution_count": null,
   "id": "825136c3",
   "metadata": {},
   "outputs": [],
   "source": [
    "reload(dl)\n",
    "##### Filtering to be used\n",
    "lowcut = 0.5\n",
    "highcut = 70\n",
    "nharm = 10\n",
    "notch = np.array([[1.724, 0.005, nharm]])\n",
    "fourier_cuts = [lowcut, highcut, notch]\n",
    "\n",
    "TESNum = 96\n",
    "asic = 1\n",
    "\n",
    "tod = a.timeline(TES=TESNum,asic=asic)\n",
    "tt = a.timeaxis(axistype='pps', asic=asic)\n",
    "\n",
    "src = [tt, np.interp(tt, t_src, data_src)]\n",
    "period = 1.\n",
    "newt_demod, amp_demod, errors_demod = dl.demodulate_methods([tt, tod],\n",
    "                                                            1./period, \n",
    "                                                            src_data_in=src,\n",
    "                                                            method='demod_quad', remove_noise=True,\n",
    "                                                           fourier_cuts=fourier_cuts)\n",
    "tzoom = 2.101\n",
    "dtzoom = 0.03\n",
    "oktime_d = np.abs((tt-t0)/3600-tzoom) < dtzoom\n",
    "plot((tt[oktime_d]-t0)/3600, (newdata[oktime_d]), \n",
    "     label='Data TES {} ASIC {}'.format(TESNum,asic))\n",
    "\n",
    "okdemod = np.abs((newt_demod-t0)/3600-tzoom) < dtzoom\n",
    "plot((newt_demod[okdemod]-t0)/3600, (amp_demod[okdemod]), label='demodulated')\n",
    "\n",
    "xlabel('Hours')\n",
    "legend()\n",
    "title(thedir)\n"
   ]
  },
  {
   "cell_type": "code",
   "execution_count": null,
   "id": "2817d2a9",
   "metadata": {},
   "outputs": [],
   "source": [
    "oktime_azel = np.abs((time_azel-t0)/3600-tzoom) < dtzoom\n",
    "print(el[oktime_azel])"
   ]
  },
  {
   "cell_type": "code",
   "execution_count": null,
   "id": "223ae3b8",
   "metadata": {},
   "outputs": [],
   "source": [
    "newaz = np.interp(newt_demod, time_azel, az)\n",
    "newel = np.interp(newt_demod, time_azel, el)\n",
    "azmin = -20\n",
    "azmax = 20\n",
    "elmin = 35\n",
    "elmax = 65\n",
    "naz = 100\n",
    "nel = 51\n",
    "mymap, azmap, elmap = dl.coadd_flatmap(amp_demod, newaz, newel, \n",
    "                                    filtering=None,\n",
    "                                    azmin=azmin, azmax=azmax, \n",
    "                                    elmin=elmin, elmax=elmax, \n",
    "                                    naz=naz,nel=nel)\n"
   ]
  },
  {
   "cell_type": "code",
   "execution_count": null,
   "id": "0d16c900",
   "metadata": {},
   "outputs": [],
   "source": [
    "imshow(mymap, aspect='equal',\n",
    "       extent=[np.cos(np.radians(50))*azmin, np.cos(np.radians(50))*azmax, elmax, elmin])\n",
    "title('TES {}'.format(TESNum))\n",
    "xlabel('Cos(50) x Az')\n",
    "ylabel('El')\n",
    "colorbar()"
   ]
  },
  {
   "cell_type": "code",
   "execution_count": null,
   "id": "14c94cb9",
   "metadata": {},
   "outputs": [],
   "source": []
  },
  {
   "cell_type": "code",
   "execution_count": null,
   "id": "c6c22681",
   "metadata": {},
   "outputs": [],
   "source": []
  },
  {
   "cell_type": "code",
   "execution_count": null,
   "id": "f0a91006",
   "metadata": {},
   "outputs": [],
   "source": []
  },
  {
   "cell_type": "code",
   "execution_count": null,
   "id": "2a6d62bf",
   "metadata": {},
   "outputs": [],
   "source": [
    "len(amp_demod)"
   ]
  },
  {
   "cell_type": "markdown",
   "id": "6613e61e",
   "metadata": {},
   "source": [
    "Now loop on all TES and all ASICs"
   ]
  },
  {
   "cell_type": "code",
   "execution_count": null,
   "id": "02e59622",
   "metadata": {},
   "outputs": [],
   "source": [
    "reload(dl)\n",
    "### Now do all maps with the same cuts\n",
    "###\n",
    "Period = 1.\n",
    "\n",
    "##### Filtering to be used\n",
    "lowcut = 0.5\n",
    "highcut = 70\n",
    "nharm = 10\n",
    "notch = np.array([[1.724, 0.005, nharm]])\n",
    "fourier_cuts = [lowcut, highcut, notch]\n",
    "\n",
    "amps_demod = np.zeros((256, len(amp_demod)))\n",
    "\n",
    "for asic in [1,2]:\n",
    "    tt = a.timeaxis(axistype='pps', asic=asic)\n",
    "    src = [tt, np.interp(tt, t_src, data_src)]\n",
    "    for i in range(128):\n",
    "        print('Mapmaking for Asic {} TES {}'.format(asic,i+1))    \n",
    "        tod = a.timeline(TES=i+1,asic=asic)\n",
    "\n",
    "        print('- Demodulation')\n",
    "        newt_demod, amps_demod[i+128*(asic-1),:], errors_demod = dl.demodulate_methods([tt, tod],\n",
    "                                                                    1./period, \n",
    "                                                                    src_data_in=src,\n",
    "                                                                    method='demod_quad', remove_noise=True,\n",
    "                                                                   fourier_cuts=fourier_cuts)\n"
   ]
  },
  {
   "cell_type": "code",
   "execution_count": null,
   "id": "481ec2dc",
   "metadata": {},
   "outputs": [],
   "source": [
    "azmin = -20\n",
    "azmax = 20\n",
    "elmin = 35\n",
    "elmax = 65\n",
    "naz = 51\n",
    "nel = 51\n",
    "nmaps = 256\n",
    "mapdata = np.zeros((256, nel, naz))\n",
    "newaz = np.interp(newt_demod, time_azel, az)\n",
    "newel = np.interp(newt_demod, time_azel, el)\n",
    "\n",
    "mapdata, azmap, elmap = dl.coadd_flatmap(-amps_demod, newaz, newel, \n",
    "                                                                filtering=None,\n",
    "                                                                azmin=azmin, azmax=azmax, \n",
    "                                                                elmin=elmin, elmax=elmax, \n",
    "                                                                naz=naz,nel=nel)\n"
   ]
  },
  {
   "cell_type": "code",
   "execution_count": null,
   "id": "6173f65c",
   "metadata": {},
   "outputs": [],
   "source": [
    "TESNum = 93\n",
    "ites = TESNum-1\n",
    "mm, ss = ft.meancut(mapdata[ites,:,:],3)\n",
    "imshow(-mapdata[ites,:,:], aspect='equal',\n",
    "       extent=[np.cos(np.radians(50))*azmin, np.cos(np.radians(50))*azmax, elmin, elmax],\n",
    "       vmin=mm-ss, vmax=mm+30*ss)\n",
    "title('TES {}'.format(ites+1))\n"
   ]
  },
  {
   "cell_type": "code",
   "execution_count": null,
   "id": "b8adc9a0",
   "metadata": {},
   "outputs": [],
   "source": [
    "rc('figure',figsize=(16,8))\n",
    "nnx = 5\n",
    "nny=2\n",
    "k=0\n",
    "nplots = int(256/nnx/nny)+1\n",
    "\n",
    "\n",
    "for k in range(nplots):\n",
    "    figure()\n",
    "    for i in range(nnx*nny):\n",
    "        ites = i+k*nnx*nny\n",
    "        if ites < 256:\n",
    "            subplot(nny,nnx,i+1)\n",
    "            mm, ss = ft.meancut(mapdata[ites,:,:],3)\n",
    "            imshow(-mapdata[ites,:,:], aspect='equal',\n",
    "                   extent=[np.cos(np.radians(50))*azmin, np.cos(np.radians(50))*azmax, elmin, elmax],\n",
    "                   vmin=mm-ss, vmax=mm+30*ss)\n",
    "            title('TES {}'.format(ites+1))\n",
    "            savefig('toto{}.png'.format(k))\n",
    "    tight_layout()\n",
    "    show()"
   ]
  },
  {
   "cell_type": "code",
   "execution_count": null,
   "id": "3d881969",
   "metadata": {},
   "outputs": [],
   "source": [
    "TESNum = 213\n",
    "mm, ss = ft.meancut(mapdata[TESNum-1,:,:],3)\n",
    "imshow(-mapdata[TESNum-1,:,:], aspect='equal',\n",
    "       extent=[np.cos(np.radians(50))*azmin, np.cos(np.radians(50))*azmax, elmin, elmax],\n",
    "       vmin=mm-3*ss, vmax=mm+50*ss)\n",
    "title('TES {}'.format(TESNum))\n"
   ]
  },
  {
   "cell_type": "code",
   "execution_count": null,
   "id": "e18b8ffe",
   "metadata": {},
   "outputs": [],
   "source": [
    "az2d, el2d = np.meshgrid(azmap,elmap)\n",
    "\n",
    "from mpl_toolkits.mplot3d import Axes3D\n",
    "\n",
    "fig = figure()\n",
    "ax = fig.gca(projection='3d')\n",
    "surf = ax.plot_surface(az2d, el2d, -mapdata[TESNum-1,:,:], cmap=cm.coolwarm,\n",
    "                       linewidth=0, antialiased=False)\n"
   ]
  },
  {
   "cell_type": "code",
   "execution_count": null,
   "id": "80878294",
   "metadata": {},
   "outputs": [],
   "source": [
    "pwd"
   ]
  },
  {
   "cell_type": "code",
   "execution_count": null,
   "id": "9eed7794",
   "metadata": {},
   "outputs": [],
   "source": []
  }
 ],
 "metadata": {
  "kernelspec": {
   "display_name": "Python 3",
   "language": "python",
   "name": "python3"
  }
 },
 "nbformat": 4,
 "nbformat_minor": 5
}
