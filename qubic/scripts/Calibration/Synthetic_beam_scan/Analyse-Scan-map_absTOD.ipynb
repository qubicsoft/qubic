{
 "cells": [
  {
   "cell_type": "code",
   "execution_count": null,
   "id": "cad3c0d9",
   "metadata": {},
   "outputs": [],
   "source": [
    "%matplotlib inline\n",
    "from matplotlib import rc\n",
    "rc('figure',figsize=(9,4.5))\n",
    "rc('font',size=12)\n",
    "rc('text',usetex=False)\n",
    "\n",
    "from qubicpack.qubicfp import qubicfp\n",
    "import qubic.demodulation_lib as dl\n",
    "\n",
    "import glob\n",
    "import numpy as np\n",
    "import matplotlib.pyplot as plt"
   ]
  },
  {
   "cell_type": "markdown",
   "id": "1a81af59",
   "metadata": {},
   "source": [
    "# Map the synthetized beam\n",
    "\n",
    "This is a test for the new software. We want to check that the dupplication of the peaks is not a data analysis bug. \n",
    "\n",
    "We make a map for one TES with the absolute value of the raw TOD (no filtering and no demodulation). The only thing done is an average of the time samples in each pixel."
   ]
  },
  {
   "cell_type": "code",
   "execution_count": null,
   "id": "50022698",
   "metadata": {},
   "outputs": [],
   "source": [
    "data_dir = '/home/louisemousset/QUBIC/Qubic_work/Calibration/datas/'\n",
    "\n",
    "keyword = '*ScanFast*'\n",
    "\n",
    "thedir = glob.glob(data_dir + keyword)[0]\n",
    "\n",
    "print(thedir)\n",
    "\n",
    "a = qubicfp()\n",
    "a.read_qubicstudio_dataset(thedir, asic=1)\n",
    "\n",
    "time_azel = a.timeaxis(datatype='hk', axistype='pps')\n",
    "az = a.azimuth()\n",
    "el = a.elevation()\n",
    "asic = 1\n",
    "tt = a.timeaxis(datatype='sci', axistype='pps', asic=asic)\n"
   ]
  },
  {
   "cell_type": "code",
   "execution_count": null,
   "id": "f8314799",
   "metadata": {},
   "outputs": [],
   "source": [
    "# Check tt and time_azel start together\n",
    "print(tt[0], tt[-1])\n",
    "print(time_azel[0], time_azel[-1])\n",
    "\n",
    "\n",
    "print(min((tt)/3600) - max((tt)/3600))\n",
    "print(min((time_azel)/3600)-max((time_azel)/3600))\n",
    "\n",
    "print(min((time_azel))-min((tt)))\n",
    "print(max((time_azel))-max((tt)))\n"
   ]
  },
  {
   "cell_type": "code",
   "execution_count": null,
   "id": "9917b880",
   "metadata": {},
   "outputs": [],
   "source": [
    "TESNum = 62\n",
    "tod = a.timeline(TES=TESNum, asic=asic)\n",
    "\n",
    "todabs = np.abs(tod)\n",
    "# todabs = dl.demodulate_methods(tod, 1., method='absolute_value')\n",
    "print(np.min(todabs))"
   ]
  },
  {
   "cell_type": "code",
   "execution_count": null,
   "id": "74652f6f",
   "metadata": {},
   "outputs": [],
   "source": [
    "newaz = np.interp(tt, time_azel, az)\n",
    "newel = np.interp(tt, time_azel, el)\n",
    "\n",
    "plt.plot((tt-tt[0])/3600, dl.renorm(todabs))\n",
    "plt.plot((tt-tt[0])/3600, dl.renorm(newaz))\n",
    "plt.plot((tt-tt[0])/3600, dl.renorm(newel))\n",
    "#plt.plot((time_azel-time_azel[0])/3600, dl.renorm(az))\n",
    "#plt.plot((time_azel-time_azel[0])/3600, dl.renorm(el))\n",
    "print(min((tt-tt[0])/3600), max((tt-tt[0])/3600))\n",
    "print(min((time_azel-time_azel[0])/3600), max((time_azel-time_azel[0])/3600))\n",
    "print(min((tt)/3600), max((tt)/3600))\n",
    "print(min((time_azel)/3600), max((time_azel)/3600))\n",
    "newaz"
   ]
  },
  {
   "cell_type": "code",
   "execution_count": null,
   "id": "9d6c0e08",
   "metadata": {},
   "outputs": [],
   "source": [
    "azmin = np.round(np.min(az))\n",
    "azmax = np.round(np.max(az))\n",
    "elmin = np.round(np.min(el))\n",
    "elmax = np.round(np.max(el))\n",
    "print(azmin, azmax, elmin, elmax)\n",
    "naz = 100\n",
    "nel = 100\n",
    "\n",
    "# Parameter for filtering\n",
    "lowcut = 0.001\n",
    "highcut = 20\n",
    "nharm = 10\n",
    "notch = np.array([[1.724, 0.005, nharm]])\n",
    "filtering = [tt, lowcut, highcut, notch]\n",
    "\n",
    "mymap, azmap, elmap = dl.coadd_flatmap(todabs,\n",
    "                                       newaz, \n",
    "                                       newel, \n",
    "                                       filtering=None,\n",
    "                                       azmin=azmin,\n",
    "                                       azmax=azmax, \n",
    "                                       elmin=elmin, \n",
    "                                       elmax=elmax, \n",
    "                                       naz=naz,\n",
    "                                       nel=nel,\n",
    "                                       remove_eltrend=True)\n",
    "\n"
   ]
  },
  {
   "cell_type": "code",
   "execution_count": null,
   "id": "fd27194d",
   "metadata": {},
   "outputs": [],
   "source": [
    "print(np.min(mymap))\n",
    "plt.imshow(mymap, \n",
    "           aspect='equal',\n",
    "           extent=[np.cos(np.radians(50))*azmin, np.cos(np.radians(50))*azmax, elmax, elmin],\n",
    "           vmin=-20000.,\n",
    "           vmax=30000)\n",
    "\n",
    "plt.title('TES {}'.format(TESNum))\n",
    "plt.xlabel('Cos(50) x Az')\n",
    "plt.ylabel('El')\n",
    "plt.colorbar()"
   ]
  },
  {
   "cell_type": "code",
   "execution_count": null,
   "id": "1c7bb1dc",
   "metadata": {},
   "outputs": [],
   "source": []
  }
 ],
 "metadata": {
  "kernelspec": {
   "display_name": "Python 3",
   "language": "python",
   "name": "python3"
  }
 },
 "nbformat": 4,
 "nbformat_minor": 5
}
