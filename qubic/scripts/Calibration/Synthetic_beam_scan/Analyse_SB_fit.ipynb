{
 "cells": [
  {
   "cell_type": "code",
   "execution_count": null,
   "id": "497a8a36",
   "metadata": {},
   "outputs": [],
   "source": [
    "##### %matplotlib notebook\n",
    "%matplotlib inline\n",
    "from matplotlib import rc\n",
    "rc('figure',figsize=(12,12))\n",
    "rc('font',size=12)\n",
    "rc('text',usetex=False)\n",
    "\n",
    "from qubicpack import qubicpack as qp\n",
    "from qubic import fibtools as ft\n",
    "from qubic import plotters as p\n",
    "from qubic import lin_lib as ll\n",
    "from qubic import demodulation_lib as dl\n",
    "import qubic.io\n",
    "\n",
    "from importlib import reload\n",
    "\n",
    "from pysimulators import FitsArray\n",
    "\n",
    "import numpy as np\n",
    "import pickle as pk\n",
    "from matplotlib.pyplot import *\n",
    "import matplotlib.mlab as mlab\n",
    "import scipy.ndimage.filters as f\n",
    "import glob\n",
    "import string\n",
    "import scipy.signal as scsig\n",
    "from scipy import interpolate\n",
    "import os\n",
    "import time\n",
    "import healpy as hp\n",
    "import pandas as pd"
   ]
  },
  {
   "cell_type": "code",
   "execution_count": null,
   "id": "c167a3bb",
   "metadata": {},
   "outputs": [],
   "source": [
    "#### We look at the symmetric version first\n",
    "#### Teh variables are the following:\n",
    "#     xc = pars[0]\n",
    "#     yc = pars[1]\n",
    "#     dist = pars[2]\n",
    "#     angle = pars[3]\n",
    "#     distx = pars[4]\n",
    "#     disty = pars[5]\n",
    "#     ampgauss = pars[6]\n",
    "#     xcgauss = pars[7]\n",
    "#     ycgauss = pars[8]\n",
    "#     fwhmgauss = pars[9]\n",
    "#     fwhmpeaks = pars[10]\n",
    "keys_sym = ['xc', 'yc', 'dist', 'angle', 'distx', 'disty', 'ampgauss', \n",
    "            'xcgauss', 'ycgauss', 'fwhmgauss', 'fwhmpeaks']\n",
    "print(keys_sym)\n",
    "### For the asymetric files:\n",
    "#     xc = pars[0]\n",
    "#     yc = pars[1]\n",
    "#     dist = pars[2]\n",
    "#     angle = pars[3]\n",
    "#     distx = pars[4]\n",
    "#     disty = pars[5]\n",
    "#     ampgauss = pars[6]\n",
    "#     xcgauss = pars[7]\n",
    "#     ycgauss = pars[8]\n",
    "#     fwhmgauss = pars[9]\n",
    "#     fwhmxpeaks = pars[10:19]\n",
    "#     fwhmypeaks = pars[19:28]\n",
    "#     rhopeaks = pars[28:37]\n",
    "keys_asym = ['xc', 'yc', 'dist', 'angle', 'distx', 'disty', 'ampgauss', \n",
    "            'xcgauss', 'ycgauss', 'fwhmgauss']\n",
    "for i in range(9):\n",
    "    keys_asym.append('fwhmxpeak_{}'.format(i))\n",
    "for i in range(9):\n",
    "    keys_asym.append('fwhmypeak_{}'.format(i))\n",
    "for i in range(9):\n",
    "    keys_asym.append('rhopeak_{}'.format(i))\n",
    "print(len(keys_asym))\n",
    "print(len(keys_sym))\n"
   ]
  },
  {
   "cell_type": "code",
   "execution_count": null,
   "id": "04e3ba11",
   "metadata": {},
   "outputs": [],
   "source": [
    "machine = os.uname()[1]\n",
    "if (machine=='apcdhcp52.in2p3.fr') or (machine=='MacJCH-2.local'):\n",
    "    dirfreq = '150GHz-2019-04-06/'\n",
    "    dirallfreqs = '/Users/hamilton/Google Drive/QUBIC/Calib-TD/Files/Synthesized Beams/Synthesized_Beams_Files/'\n",
    "    dirfiles = dirallfreqs+dirfreq\n",
    "    dirsave = '/Users/hamilton/Qubic/Calib-TD/Synthesized_beams_fits/'+dirfreq\n",
    "    dir_sym = '/Users/hamilton/Qubic/Calib-TD/Synthesized_beams_fits/'+dirfreq\n",
    "    dir_asym = '/Users/hamilton/Qubic/Calib-TD/Synthesized_beams_fits/'+dirfreq\n",
    "elif machine == \"hain\":\n",
    "    dirfreq = '150GHz-2019-04-06/'\n",
    "    dirallfreqs = '/home/martin/QUBIC/qubiccalibration/Data/Calib-TD/'\n",
    "    dirfiles = dirallfreqs+dirfreq\n",
    "    dirsave = dirfiles + \"FitSB\"\n",
    "    dir_sym = dirsave\n",
    "    dir_asym = dirsave\n",
    "print(dirallfreqs, \"\\n\",dirfreq, \"\\n\",dirfiles, \"\\n\",dirsave)"
   ]
  },
  {
   "cell_type": "code",
   "execution_count": null,
   "id": "c2622555",
   "metadata": {},
   "outputs": [],
   "source": [
    "t0 = time.time()\n",
    "print(\"Start {}\".format(t0))\n",
    "flat_map, azinit, elinit, fitout, xxyynew = dl.fit_sb(93, \n",
    "                                                      dirfiles)\n",
    "print(\"Done in {:.2f}\".format( (time.time() - t0) / 60 ) )"
   ]
  },
  {
   "cell_type": "code",
   "execution_count": null,
   "id": "c57ffaaa",
   "metadata": {},
   "outputs": [],
   "source": [
    "fitout[1]\n"
   ]
  },
  {
   "cell_type": "code",
   "execution_count": null,
   "id": "3d4e4cf2",
   "metadata": {},
   "outputs": [],
   "source": [
    "sbfitmodel3 = sbfit.SbModelIndepPeaks(nrings = 2, \n",
    "                                      common_fwhm = True, \n",
    "                                      no_xy_shift = False, \n",
    "                                      distortion = False)\n",
    "flatmap, az, el = sbfit.get_flatmap(93, \n",
    "                                    dirfiles)"
   ]
  },
  {
   "cell_type": "code",
   "execution_count": null,
   "id": "b31ad604",
   "metadata": {},
   "outputs": [],
   "source": [
    "t0 = time.time()\n",
    "print(\"Start {}\".format(t0))\n",
    "fit, xypeaks = sbfit.fit_sb(flatmap, az, el, \n",
    "                            sbfitmodel3, precision = 4)\n",
    "print(\"Done in {:.2f}\".format( (time.time() - t0) / 60 ) )"
   ]
  },
  {
   "cell_type": "code",
   "execution_count": null,
   "id": "72aa6507",
   "metadata": {},
   "outputs": [],
   "source": [
    "az2d, el2d = np.meshgrid(azinit*np.cos(np.radians(50)), \n",
    "                         np.flip(elinit))\n",
    "x = [az2d,el2d]\n",
    "themap, newxxyy = dl.qubic_sb_model(x,fit[1], return_peaks=True)"
   ]
  },
  {
   "cell_type": "code",
   "execution_count": null,
   "id": "e59460ea",
   "metadata": {},
   "outputs": [],
   "source": [
    "figure(figsize = (14,6))\n",
    "subplot(1,3,1)\n",
    "imshow(flatmap,extent=[np.min(az)*np.cos(np.radians(50)),\n",
    "                    np.max(az)*np.cos(np.radians(50)), \n",
    "                    np.min(el), np.max(el)])\n",
    "colorbar()\n",
    "title('data')\n",
    "for i in range(9):\n",
    "    ax=plot(xxyynew[0,i], xxyynew[1,i], 'r.')\n",
    "\n",
    "subplot(1,3,2)\n",
    "imshow(themap,extent=[np.min(az)*np.cos(np.radians(50)), \n",
    "                    np.max(az)*np.cos(np.radians(50)), \n",
    "                    np.min(el), np.max(el)])\n",
    "title('fit')\n",
    "colorbar()\n",
    "#for i in range(9):\n",
    "#    ax=plot(xxyynew[0,i], xxyynew[1,i], 'r.')\n",
    "\n",
    "subplot(1,3,3)\n",
    "imshow(flatmap-themap,extent=[np.min(az)*np.cos(np.radians(50)), \n",
    "                    np.max(az)*np.cos(np.radians(50)), \n",
    "                    np.min(el), np.max(el)])\n",
    "title('residuals')\n",
    "colorbar()\n",
    "np.sum((flatmap-themap)**2)/1e9"
   ]
  },
  {
   "cell_type": "code",
   "execution_count": null,
   "id": "a3780ca8",
   "metadata": {},
   "outputs": [],
   "source": [
    "#reload(dl)\n",
    "def show_flatmap_fit_res(directory, dirfit, TESNum, cbar=False, defname='fit_sb_TESNum_', doplot=True):\n",
    "    \n",
    "    flatmap, az, el = sbfit.get_flatmap(TESNum, dirfiles)\n",
    "    \n",
    "    #fit = np.array(FitsArray(dirfit+'/'+defname+'{}.fits'.format(TESNum)))\n",
    "    filexample = dirfit + \"fit-TES{}.pk\".format(TESNum)\n",
    "    filename = open(filexample, \"rb\")\n",
    "    fit = pk.load(filename)\n",
    "    print(fit)\n",
    "    az2d, el2d = np.meshgrid(az*np.cos(np.radians(50)), np.flip(el))\n",
    "    x = [az2d,el2d]\n",
    "    themap, newxxyy = dl.qubic_sb_model(x,fit, return_peaks=True)\n",
    "\n",
    "    if doplot:\n",
    "        subplot(1,3,1)\n",
    "        imshow(flatmap,extent=[np.min(az)*np.cos(np.radians(50)), \n",
    "                        np.max(az)*np.cos(np.radians(50)), \n",
    "                        np.min(el), np.max(el)])\n",
    "        title('Data TES #{}'.format(TESNum))\n",
    "        if cbar: colorbar()\n",
    "\n",
    "        subplot(1,3,2)\n",
    "        imshow(themap,extent=[np.min(az)*np.cos(np.radians(50)), \n",
    "                        np.max(az)*np.cos(np.radians(50)), \n",
    "                        np.min(el), np.max(el)])\n",
    "        title('Fit TES #{}'.format(TESNum))\n",
    "        if cbar: colorbar()\n",
    "\n",
    "        subplot(1,3,3)\n",
    "        imshow(flatmap-themap,extent=[np.min(az)*np.cos(np.radians(50)), \n",
    "                        np.max(az)*np.cos(np.radians(50)), \n",
    "                        np.min(el), np.max(el)])\n",
    "        title('Residuals TES #{}'.format(TESNum))\n",
    "        if cbar: colorbar()\n",
    "    return newxxyy\n"
   ]
  },
  {
   "cell_type": "code",
   "execution_count": null,
   "id": "acbbf7be",
   "metadata": {},
   "outputs": [],
   "source": [
    "rc('figure',figsize=(15,3))\n",
    "newxxyy=show_flatmap_fit_res(dirfiles, dir_sym , 96, cbar=True)\n",
    "subplot(1,3,2)\n",
    "for i in range(9):\n",
    "    plot(newxxyy[0,i], newxxyy[1,i],'r+')"
   ]
  },
  {
   "cell_type": "code",
   "execution_count": null,
   "id": "564d2c7b",
   "metadata": {},
   "outputs": [],
   "source": [
    "newxxyy = show_flatmap_fit_res(dirfiles + \"FitSB/\", dir_sym , \n",
    "                               93, cbar=True, doplot=False)\n",
    "#print newxxyy.T"
   ]
  },
  {
   "cell_type": "code",
   "execution_count": null,
   "id": "eeef8360",
   "metadata": {},
   "outputs": [],
   "source": [
    "rc('figure',figsize=(15,3))\n",
    "show_flatmap_fit_res(dirfiles, dir_asym , 93, cbar=True, defname='fit_sb_asym_TESNum_')"
   ]
  },
  {
   "cell_type": "code",
   "execution_count": null,
   "id": "dedc50c5",
   "metadata": {},
   "outputs": [],
   "source": [
    "#### Restore all of the paramters\n",
    "ndets = 3\n",
    "npasym = len(keys_asym)\n",
    "npsym = len(keys_sym)\n",
    "\n",
    "allpars = np.zeros((ndets, npsym))\n",
    "allerr = np.zeros((ndets, npsym))\n",
    "integ = np.zeros(ndets)\n",
    "allpars_asym = np.zeros((ndets, npasym))\n",
    "allerr_asym = np.zeros((ndets, npasym))\n",
    "integ_asym = np.zeros(ndets)\n",
    "\n",
    "data_sym = {}\n",
    "data_asym = {}\n",
    "err_sym = {}\n",
    "err_asym = {}\n",
    "\n",
    "for i in range(3):\n",
    "    TESNum = i+1\n",
    "    if (32*(i/32))==i: print(i)\n",
    "    allpars[i,:] = np.array(FitsArray(dirsave+'fit_sb_TESNum_{}.fits'.format(TESNum)))\n",
    "    allerr[i,:]  = np.array(FitsArray(dirsave+'errfit_sb_TESNum_{}.fits'.format(TESNum)))\n",
    "    themap_sym, newxxyy_sym = dl.qubic_sb_model(x,allpars[i,:], return_peaks=True)\n",
    "    integ[i] = np.sum(themap_sym)\n",
    "\n",
    "    allpars_asym[i,:] = np.array(FitsArray(dirsave+'fit_sb_asym_TESNum_{}.fits'.format(TESNum)))\n",
    "    allerr_asym[i,:] = np.array(FitsArray(dirsave+'errfit_sb_asym_TESNum_{}.fits'.format(TESNum)))\n",
    "    themap_asym, newxxyy_asym = dl.qubic_sb_model_asym(x,allpars_asym[i,:], return_peaks=True)\n",
    "    integ_asym[i] = np.sum(themap_asym)\n",
    "\n",
    "    \n",
    "for i in range(len(keys_sym)):\n",
    "    data_sym[keys_sym[i]] = allpars[:,i]\n",
    "    err_sym[keys_sym[i]] = allerr[:,i]\n",
    "data_sym['integ'] = integ\n",
    "err_sym['integ'] = 0\n",
    "\n",
    "for i in xrange(len(keys_asym)):\n",
    "    data_asym[keys_asym[i]] = allpars_asym[:,i]\n",
    "    err_asym[keys_asym[i]] = allerr_asym[:,i]\n",
    "data_asym['integ'] = integ_asym\n",
    "err_asym['integ'] = 0\n",
    "\n"
   ]
  },
  {
   "cell_type": "code",
   "execution_count": null,
   "id": "73133e14",
   "metadata": {},
   "outputs": [],
   "source": [
    "rc('figure',figsize=(10,10))\n",
    "subplot(3,1,1)\n",
    "plot(data_sym['integ'], label='Symmetric')\n",
    "plot(data_asym['integ'], label='Asymetric')\n",
    "ylim(1e5,1e9)\n",
    "yscale('log')\n",
    "legend()\n",
    "xlabel('TES #')\n",
    "ylabel('SB Integral [ADU]')\n",
    "\n",
    "subplot(3,2,3)\n",
    "imshow(ft.image_asics(all1=data_sym['integ']), vmin=0,vmax=5e7)\n",
    "title('SB integral - Sym')\n",
    "colorbar()\n",
    "subplot(3,2,4)\n",
    "imshow(ft.image_asics(all1=data_asym['integ']), vmin=0,vmax=5e7)\n",
    "title('SB integral - Asym')\n",
    "colorbar()\n",
    "\n",
    "subplot(3,2,5)\n",
    "imshow(ft.image_asics(all1=np.log10(data_sym['integ'])))\n",
    "title('Log(SB integral) - Sym')\n",
    "colorbar()\n",
    "subplot(3,2,6)\n",
    "imshow(ft.image_asics(all1=np.log10(data_asym['integ'])))\n",
    "title('Log(SB integral) - Asym')\n",
    "colorbar()\n",
    "\n",
    "tight_layout()"
   ]
  },
  {
   "cell_type": "code",
   "execution_count": null,
   "id": "26401985",
   "metadata": {},
   "outputs": [],
   "source": [
    "rc('figure',figsize=(15,5))\n",
    "for i in xrange(10):\n",
    "    subplot(2,5,i+1)\n",
    "    toplot = data_sym[keys_sym[i]].copy()\n",
    "    toplot[~okfwhmpeaks] = np.nan\n",
    "    imshow(ft.image_asics(all1=toplot))\n",
    "    colorbar()\n",
    "    title(keys_sym[i]+' - Sym')\n",
    "tight_layout()"
   ]
  },
  {
   "cell_type": "code",
   "execution_count": null,
   "id": "1f4c7ed1",
   "metadata": {},
   "outputs": [],
   "source": [
    "# Location of the \"central pixel\"\n",
    "ax=subplot(1,2,1)\n",
    "scatter(allpars[:,0], allpars[:,1], c=arange(256),marker='.')\n",
    "ax.set_aspect(1)\n",
    "title('Central Pixel location')\n",
    "xlabel('Az Ang')\n",
    "ylabel('El')\n",
    "colorbar()\n",
    "\n",
    "# Location of the Gaussian Primary Beam\n",
    "ax=subplot(1,2,2)\n",
    "scatter(allpars[:,7], allpars[:,8], c=arange(256), marker='.')\n",
    "ax.set_aspect(1)\n",
    "title('Primary Beam center')\n",
    "xlabel('Az Ang')\n",
    "ylabel('El')\n",
    "colorbar()"
   ]
  },
  {
   "cell_type": "code",
   "execution_count": null,
   "id": "efb26b04",
   "metadata": {},
   "outputs": [],
   "source": [
    "def plot_hist(data, name, cutbad=None, okin=None):\n",
    "    if okin is None:\n",
    "        okin = np.ones(256).astype(bool)\n",
    "    \n",
    "    rc('figure',figsize=(15,7))\n",
    "    subplot(2,3,1)\n",
    "    toplot = data.copy()\n",
    "    toplot[~okin] = np.nan\n",
    "    imshow(ft.image_asics(all1=toplot))\n",
    "    colorbar()\n",
    "    title(name)\n",
    "    \n",
    "    if cutbad is None:\n",
    "        cutbad = [np.min(data[okin]), np.max(data[okin])]\n",
    "    \n",
    "    subplot(2,3,2)\n",
    "    a=hist(data[okin],bins=20, range=[np.min(data[okin]), np.max(data[okin])],label='All')\n",
    "    ok = (data >= cutbad[0]) & (data <= cutbad[1])\n",
    "    ok = ok & okin\n",
    "    a=hist(data[ok],bins=20, range=[np.min(data[okin]), np.max(data[okin])], \n",
    "       label='Bad Fit removed: {0:4.2f} +/- {1:4.2f}'.format(np.mean(data[ok]), \n",
    "                                                                 np.std(data[ok])))\n",
    "    xlabel(name)\n",
    "    legend(fontsize=10)\n",
    "\n",
    "    subplot(2,3,3)\n",
    "    toplot = data.copy()\n",
    "    toplot[~ok] = np.nan\n",
    "    imshow(ft.image_asics(all1=toplot))\n",
    "    colorbar()\n",
    "    title(name+' n={}'.format(ok.sum()))\n",
    "    \n",
    "    newrejected = (~ok) & okin\n",
    "    nums = np.arange(256)+1\n",
    "    print 'Rejected at this step:'\n",
    "    print nums[newrejected]\n",
    "    \n",
    "    return ok, newrejected\n"
   ]
  },
  {
   "cell_type": "code",
   "execution_count": null,
   "id": "4ecb7806",
   "metadata": {},
   "outputs": [],
   "source": [
    "okfwhmpeaks, rejected = plot_hist(data_sym['fwhmpeaks'], 'fwhmpeaks', cutbad = [0.6,1.4])"
   ]
  },
  {
   "cell_type": "code",
   "execution_count": null,
   "id": "be3be6c6",
   "metadata": {},
   "outputs": [],
   "source": [
    "okxc, rejected = plot_hist(data_sym['xc'], 'xc', okin=okfwhmpeaks)"
   ]
  },
  {
   "cell_type": "code",
   "execution_count": null,
   "id": "915f7d1f",
   "metadata": {},
   "outputs": [],
   "source": [
    "okyc, rejected = plot_hist(data_sym['yc'], 'yc', okin=okxc)"
   ]
  },
  {
   "cell_type": "code",
   "execution_count": null,
   "id": "4023ce61",
   "metadata": {},
   "outputs": [],
   "source": [
    "okdist, rejected = plot_hist(data_sym['dist'], 'dist', okin=okyc, cutbad=[8.,8.25])"
   ]
  },
  {
   "cell_type": "code",
   "execution_count": null,
   "id": "967e7e91",
   "metadata": {},
   "outputs": [],
   "source": [
    "okangle, rejected = plot_hist(data_sym['angle'], 'angle', okin=okdist)"
   ]
  },
  {
   "cell_type": "code",
   "execution_count": null,
   "id": "19248e6f",
   "metadata": {},
   "outputs": [],
   "source": [
    "okdistx, rejected = plot_hist(data_sym['distx'], 'distx', okin=okangle, cutbad=[-0.015,0.01] )"
   ]
  },
  {
   "cell_type": "code",
   "execution_count": null,
   "id": "5e19e2be",
   "metadata": {},
   "outputs": [],
   "source": [
    "okdisty, rejected = plot_hist(data_sym['disty'], 'disty', okin=okdistx, cutbad=[-0.005, 0.016])"
   ]
  },
  {
   "cell_type": "code",
   "execution_count": null,
   "id": "8d86ba4f",
   "metadata": {},
   "outputs": [],
   "source": [
    "okampgauss, rejected = plot_hist(data_sym['ampgauss'], 'ampgauss', okin=okdisty, cutbad=[0, 1e6])"
   ]
  },
  {
   "cell_type": "code",
   "execution_count": null,
   "id": "49c531b5",
   "metadata": {},
   "outputs": [],
   "source": [
    "okxcgauss, rejected = plot_hist(data_sym['xcgauss'], 'xcgauss', okin=okampgauss, cutbad=[-2., 2.])"
   ]
  },
  {
   "cell_type": "code",
   "execution_count": null,
   "id": "58dac35c",
   "metadata": {},
   "outputs": [],
   "source": [
    "okycgauss, rejected = plot_hist(data_sym['ycgauss'], 'ycgauss', okin=okxcgauss, cutbad=[48., 52.5])"
   ]
  },
  {
   "cell_type": "code",
   "execution_count": null,
   "id": "e465c630",
   "metadata": {},
   "outputs": [],
   "source": [
    "okfwhmgauss, rejected = plot_hist(data_sym['fwhmgauss'], 'fwhmgauss', okin=okycgauss)"
   ]
  },
  {
   "cell_type": "code",
   "execution_count": null,
   "id": "52c88b8c",
   "metadata": {},
   "outputs": [],
   "source": [
    "rc('figure',figsize=(15,15))\n",
    "reload(dl)\n",
    "dl.show_flatmaps_list(dirfiles, (np.arange(256)+1)[rejected], nx=5, tight=True)"
   ]
  },
  {
   "cell_type": "code",
   "execution_count": null,
   "id": "22579f46",
   "metadata": {},
   "outputs": [],
   "source": [
    "rc('figure',figsize=(15,3))\n",
    "show_flatmap_fit_res(dirfiles, dir_sym , 115, cbar=True)"
   ]
  },
  {
   "cell_type": "code",
   "execution_count": null,
   "id": "5ab591f9",
   "metadata": {},
   "outputs": [],
   "source": [
    "toto, tata = plot_hist(data_sym['integ'], 'integ',okin=okfwhmgauss)"
   ]
  },
  {
   "cell_type": "code",
   "execution_count": null,
   "id": "4713b4c3",
   "metadata": {},
   "outputs": [],
   "source": [
    "a=hist(data_sym['integ'][okfwhmgauss], range=[0,0.2e8], bins=100)"
   ]
  },
  {
   "cell_type": "code",
   "execution_count": null,
   "id": "37a8da73",
   "metadata": {},
   "outputs": [],
   "source": [
    "rc('figure',figsize=(7,7))\n",
    "nominal = np.degrees(2./(8*14.0))\n",
    "a=hist(data_sym['fwhmpeaks'][okfwhmgauss], range=[0.5,1.5], bins=15, \n",
    "       label=ft.statstr(data_sym['fwhmpeaks'][okfwhmgauss])+' deg.')\n",
    "plot([nominal, nominal],[0,30],'r--',label='Nominal: {0:5.2f} deg.'.format(nominal))\n",
    "legend()\n",
    "ylim(0,30)\n",
    "xlabel('FWHM Synthesized Beam [deg]')"
   ]
  },
  {
   "cell_type": "code",
   "execution_count": null,
   "id": "164eeee2",
   "metadata": {},
   "outputs": [],
   "source": [
    "allpars = np.zeros((256, 4, 9))\n",
    "for i in xrange(256):\n",
    "    if 10*(i/10)==i: print(i)\n",
    "    allpars[i,:,:]=show_flatmap_fit_res(dirfiles, dir_sym , i+1, cbar=True, doplot=False)\n"
   ]
  },
  {
   "cell_type": "code",
   "execution_count": null,
   "id": "41809970",
   "metadata": {},
   "outputs": [],
   "source": [
    "FitsArray(allpars).save('fitted_peaks.fits')"
   ]
  },
  {
   "cell_type": "code",
   "execution_count": null,
   "id": "731bfcc4",
   "metadata": {},
   "outputs": [],
   "source": [
    "peaks = np.array(FitsArray('fitted_peaks.fits'))"
   ]
  },
  {
   "cell_type": "code",
   "execution_count": null,
   "id": "18d4d884",
   "metadata": {},
   "outputs": [],
   "source": [
    "peaks.shape"
   ]
  },
  {
   "cell_type": "code",
   "execution_count": null,
   "id": "584d16f3",
   "metadata": {},
   "outputs": [],
   "source": []
  }
 ],
 "metadata": {
  "kernelspec": {
   "display_name": "Python 3",
   "language": "python",
   "name": "python3"
  }
 },
 "nbformat": 4,
 "nbformat_minor": 5
}
