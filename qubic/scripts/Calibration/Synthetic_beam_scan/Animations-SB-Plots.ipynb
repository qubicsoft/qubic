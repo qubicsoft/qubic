{
 "cells": [
  {
   "cell_type": "code",
   "execution_count": null,
   "id": "9dc73f2d",
   "metadata": {},
   "outputs": [],
   "source": [
    "#%matplotlib notebook\n",
    "%matplotlib inline\n",
    "from matplotlib import rc\n",
    "rc('figure',figsize=(16,8))\n",
    "rc('font',size=12)\n",
    "rc('text',usetex=False)\n",
    "\n",
    "from qubicpack import qubicpack as qp\n",
    "import fibtools as ft\n",
    "import plotters as p\n",
    "import lin_lib as ll\n",
    "import demodulation_lib as dl\n",
    "import qubic\n",
    "\n",
    "from pysimulators import FitsArray\n",
    "\n",
    "import numpy as np\n",
    "from matplotlib.pyplot import *\n",
    "import matplotlib.mlab as mlab\n",
    "import scipy.ndimage.filters as f\n",
    "import glob\n",
    "import string\n",
    "import scipy.signal as scsig\n",
    "from scipy import interpolate\n",
    "import os\n",
    "import healpy as hp"
   ]
  },
  {
   "cell_type": "code",
   "execution_count": null,
   "id": "5cca64dc",
   "metadata": {},
   "outputs": [],
   "source": [
    "dirallfreqs = '/Users/hamilton/Google Drive/QUBIC/Calib-TD/Files/Synthesized Beams/Synthesized_Beams_Files/'\n",
    "dirfreq = ['130GHz-2019-04-18/', '140GHz-2019-04-10/', '150GHz-2019-04-06/', '160GHz-2019-04-08/', '170GHz-2019-04-14/']\n",
    "freqs = np.array([130, 140, 150, 160, 170])"
   ]
  },
  {
   "cell_type": "code",
   "execution_count": null,
   "id": "f7060354",
   "metadata": {},
   "outputs": [],
   "source": [
    "reload(dl)\n",
    "ifreq = 1\n",
    "img, az, el = dl.get_flatmap(93, dirallfreqs+dirfreq[ifreq])\n",
    "\n",
    "def disp(img, az, el, nsmin=2, nsmax=40, vmin = None, vmax = None):\n",
    "    mm, ss = ft.meancut(img, 3)\n",
    "    if vmin is None:\n",
    "        vmin = mm-nsmin*ss\n",
    "    if vmax is None:\n",
    "        vmax = mm+nsmax*ss\n",
    "    imshow(img, extent=[np.min(az)*np.cos(np.radians(50)), np.max(az)*np.cos(np.radians(50)), np.min(el), np.max(el)],\n",
    "       aspect='equal', vmin=vmin, vmax=vmax)\n",
    "    xlabel(r'$Az \\times \\cos(50)$')\n",
    "    ylabel(r'$Elevation$')\n",
    "    title('Frequency: {} GHz'.format(freqs[ifreq]))\n",
    "    colorbar()\n",
    "\n",
    "disp(img, az, el)\n",
    "mm, ss = ft.meancut(img, 3)"
   ]
  },
  {
   "cell_type": "code",
   "execution_count": null,
   "id": "14b4ac58",
   "metadata": {},
   "outputs": [],
   "source": [
    "nbl = len(el)\n",
    "nbaz = len(az)\n",
    "nperaz = 1\n",
    "daz = nbaz/nperaz\n",
    "ifile = 0\n",
    "theimg = np.zeros_like(img)\n",
    "for i in xrange(len(el)):\n",
    "    clf()\n",
    "    theimg[i,:] += img[i,:]\n",
    "    disp(theimg, az, el, vmin=mm-2*ss, vmax=mm+40*ss)\n",
    "    savefig('/Volumes/Data/Qubic/Calib-TD/Animations/scan_150GHz/imgscan_{0:04d}.png'.format(ifile))\n",
    "    ifile += 1"
   ]
  },
  {
   "cell_type": "code",
   "execution_count": null,
   "id": "f8a2bf78",
   "metadata": {},
   "outputs": [],
   "source": [
    "reload(dl)\n",
    "for ifreq in xrange(len(freqs)):\n",
    "    img = dl.get_hpmap(93, dirallfreqs+dirfreq[ifreq])\n",
    "    clf()\n",
    "    mm, ss = ft.meancut(img[img != 0],3)\n",
    "    hp.gnomview(img, reso=10, min=mm-2*ss, max=mm+60*ss, title='Frequency: {} GHz'.format(freqs[ifreq]))\n",
    "    savefig('/Volumes/Data/Qubic/Calib-TD/Animations/all_freqs/imgscan_{0:04d}.png'.format(freqs[ifreq]))"
   ]
  },
  {
   "cell_type": "code",
   "execution_count": null,
   "id": "e380df57",
   "metadata": {},
   "outputs": [],
   "source": [
    "from __future__ import division\n",
    "import healpy as hp\n",
    "import numpy as np\n",
    "import matplotlib.pyplot as mp\n",
    "from pysimulators import FitsArray\n",
    "import time\n",
    "import qubic\n",
    "\n",
    "dictfilename = '/Users/hamilton/testTD.dict'\n",
    "\n",
    "d = qubic.qubicdict.qubicDict()\n",
    "d.read_from_file(dictfilename)\n",
    "d['nside'] = 256\n",
    "d['filter_relative_bandwidth'] = 0.35\n",
    "\n",
    "\n",
    "for ff in freqs:\n",
    "    d['filter_nu'] = ff*1e9\n",
    "\n",
    "    # Create scene\n",
    "    s = qubic.QubicScene(d)\n",
    "\n",
    "    # Create instrument model\n",
    "    inst = qubic.QubicInstrument(d)\n",
    "    sb = inst[180].get_synthbeam(s)[0]\n",
    "    clf()\n",
    "    hp.gnomview(sb/np.max(sb), reso=10, rot=[0,90],min=0, max=0.15,cmap='viridis',title='Frequency = {} GHz'.format(ff))\n",
    "    savefig('/Volumes/Data/Qubic/Calib-TD/Animations/all_freqs/imgTrue_{0:04d}.png'.format(ff))"
   ]
  },
  {
   "cell_type": "code",
   "execution_count": null,
   "id": "1e75a36f",
   "metadata": {},
   "outputs": [],
   "source": [
    "reload(dl)\n",
    "for ifreq in xrange(len(freqs)):\n",
    "    img = dl.get_hpmap(93, dirallfreqs+dirfreq[ifreq])\n",
    "    clf()\n",
    "    mm, ss = ft.meancut(img[img != 0],3)\n",
    "    hp.gnomview(img, reso=10, min=mm-1*ss, max=mm+60*ss, title='Frequency: {} GHz - Data'.format(freqs[ifreq]),\n",
    "               sub=(1,2,1))\n",
    "    \n",
    "    ff = freqs[ifreq]\n",
    "    d['filter_nu'] = ff*1e9\n",
    "    # Create scene\n",
    "    s = qubic.QubicScene(d)\n",
    "    # Create instrument model\n",
    "    inst = qubic.QubicInstrument(d)\n",
    "    sb = inst[180].get_synthbeam(s)[0]\n",
    "    hp.gnomview(sb/np.max(sb), reso=10, rot=[0,90],min=0, max=0.15,cmap='viridis',\n",
    "                title='Frequency = {} GHz - Theory'.format(ff), sub=(1,2,2))\n",
    "    \n",
    "    savefig('/Volumes/Data/Qubic/Calib-TD/Animations/all_freqs/imgscan_and_True_{0:04d}.png'.format(freqs[ifreq]))\n",
    "    "
   ]
  },
  {
   "cell_type": "code",
   "execution_count": null,
   "id": "225244e5",
   "metadata": {},
   "outputs": [],
   "source": []
  }
 ],
 "metadata": {
  "kernelspec": {
   "display_name": "Python 2",
   "language": "python",
   "name": "python2"
  }
 },
 "nbformat": 4,
 "nbformat_minor": 5
}
