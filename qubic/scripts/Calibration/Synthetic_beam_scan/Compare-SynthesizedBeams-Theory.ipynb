{
 "cells": [
  {
   "cell_type": "code",
   "execution_count": null,
   "id": "10a4a4fa",
   "metadata": {},
   "outputs": [],
   "source": [
    "##### %matplotlib notebook\n",
    "%matplotlib inline\n",
    "from matplotlib import rc\n",
    "rc('figure',figsize=(16,4))\n",
    "rc('font',size=12)\n",
    "rc('text',usetex=False)\n",
    "rc('image', cmap='viridis')\n",
    "\n",
    "from qubicpack import qubicpack as qp\n",
    "import qubic.fibtools as ft\n",
    "import qubic.plotters as p\n",
    "import qubic.lin_lib as ll\n",
    "import qubic.demodulation_lib as dl\n",
    "import qubic.io\n",
    "import qubic.sb_fitting as sbfit\n",
    "\n",
    "from pysimulators import FitsArray\n",
    "\n",
    "import numpy as np\n",
    "from matplotlib.pyplot import *\n",
    "import matplotlib.mlab as mlab\n",
    "import scipy.ndimage.filters as f\n",
    "import glob\n",
    "import string\n",
    "import scipy.signal as scsig\n",
    "from scipy import interpolate\n",
    "import os\n",
    "import healpy as hp\n",
    "import pandas as pd\n",
    "from importlib import reload\n"
   ]
  },
  {
   "cell_type": "markdown",
   "id": "c7fdf748",
   "metadata": {},
   "source": [
    "### Reading measured Synthesized Beam"
   ]
  },
  {
   "cell_type": "code",
   "execution_count": null,
   "id": "108a5107",
   "metadata": {},
   "outputs": [],
   "source": [
    "dirfreq = '150GHz-2019-04-06/'\n",
    "dirallfreqs = '/Users/hamilton/Google Drive/QUBIC/Calib-TD/Files/Synthesized Beams/Synthesized_Beams_Files/'\n",
    "dirfiles = dirallfreqs+dirfreq\n",
    "c50 = np.cos(np.radians(50))\n",
    "azmin = -15./c50\n",
    "azmax = 15./c50\n",
    "\n",
    "\n",
    "TESNum = 96\n",
    "hpmap = sbfit.get_hpmap(TESNum, dirfiles)\n",
    "hp.gnomview(hpmap, reso=10, title='TES #{}'.format(TESNum),cmap='jet',max=np.max(hpmap)/5,min=0)\n",
    "pixok = hpmap != 0\n",
    "npixok = np.sum(pixok)"
   ]
  },
  {
   "cell_type": "code",
   "execution_count": null,
   "id": "79a40983",
   "metadata": {},
   "outputs": [],
   "source": [
    "npix=512\n",
    "myimage = hp.gnomview(hpmap, reso=10*200./npix, title='TES #{}'.format(TESNum),cmap='jet',max=np.max(hpmap)/5,min=0, return_projected_map=True,xsize=npix)"
   ]
  },
  {
   "cell_type": "code",
   "execution_count": null,
   "id": "f696b834",
   "metadata": {},
   "outputs": [],
   "source": [
    "imshow(myimage, origin='lower',vmin=-10000,vmax=10000)\n",
    "colorbar()\n",
    "print(myimage.shape)"
   ]
  },
  {
   "cell_type": "code",
   "execution_count": null,
   "id": "ddc7431d",
   "metadata": {},
   "outputs": [],
   "source": [
    "plot(myimage[256,:],'.')"
   ]
  },
  {
   "cell_type": "code",
   "execution_count": null,
   "id": "1135d0ab",
   "metadata": {},
   "outputs": [],
   "source": [
    "imshow(myimage[200:250,:][:,200:250], origin='lower',vmin=-10000,vmax=10000)\n"
   ]
  },
  {
   "cell_type": "markdown",
   "id": "df972ef9",
   "metadata": {},
   "source": [
    "### Comparison with theory"
   ]
  },
  {
   "cell_type": "code",
   "execution_count": null,
   "id": "9a588764",
   "metadata": {},
   "outputs": [],
   "source": [
    "TESNum=93\n",
    "hpmap = sbfit.get_hpmap(TESNum, dirfiles)\n",
    "\n",
    "rc('figure',figsize=(10,10))\n",
    "# INSTRUMENT\n",
    "reload(qubic)\n",
    "ns = 512\n",
    "\n",
    "d = qubic.qubicdict.qubicDict()\n",
    "d.read_from_file('/Users/hamilton/Python/GitQubicMousset/qubic/qubic/dicts/global_source_oneDet.dict')\n",
    "d['nside']=ns\n",
    "\n",
    "q = qubic.QubicInstrument(d)\n",
    "s = qubic.QubicScene(d)\n",
    "\n",
    "def select_det(q,id):\n",
    "    #### For now the ids are not matched... so we only take the len(id) first detectors...\n",
    "    detector_i = q.detector[id]\n",
    "    q.detector = detector_i\n",
    "    return(q)\n",
    "\n",
    "from qubicpack.pixel_translation import tes2index\n",
    "from qubicpack.pixel_translation import make_id_focalplane\n",
    "fpmatrix = make_id_focalplane()\n",
    "\n",
    "if TESNum > 128: \n",
    "    asicnum=2\n",
    "    thetes = TESNum-128\n",
    "else:\n",
    "    asicnum =1\n",
    "    thetes = TESNum\n",
    "    \n",
    "idx = tes2index(thetes,asicnum)\n",
    "iii = np.where(q.detector.index == idx)[0]\n",
    "\n",
    "q = select_det(q,iii)\n",
    "sb = q.get_synthbeam(s,0)\n",
    "xr=0.1*np.max(sb)\n",
    "\n",
    "hp.gnomview(hpmap, reso=10, sub=(1,2,1), title='Data TES #{}'.format(TESNum))\n",
    "img=hp.gnomview(sb, rot=[0,90], reso=10,sub=(1,2,2), title='Theory TES #{}'.format(TESNum))\n",
    "tight_layout()"
   ]
  },
  {
   "cell_type": "code",
   "execution_count": null,
   "id": "969cca5a",
   "metadata": {},
   "outputs": [],
   "source": [
    "rc('figure',figsize=(10,6))\n",
    "### Check the window functions\n",
    "cldata = hp.anafast(hpmap/np.mean(hpmap), lmax=256)\n",
    "pixwin = (hp.pixwin(hp.npix2nside(len(hpmap)))[0:257])\n",
    "cldatacorr = cldata / pixwin**2\n",
    "\n",
    "clth = hp.anafast(sb/np.mean(sb), lmax=256)\n",
    "#plot(cldata, label='Data')\n",
    "plot(cldatacorr, label='Data (pixwin corrected)')\n",
    "plot(clth,label='Theory')\n",
    "#plot(pixwin, label='Pixwin**2')\n",
    "legend()"
   ]
  },
  {
   "cell_type": "code",
   "execution_count": null,
   "id": "327404c5",
   "metadata": {},
   "outputs": [],
   "source": [
    "#plot((cldata/np.mean(cldata))/(clth/mean(clth)))\n",
    "plot(cldatacorr/clth)\n",
    "axhline(y=1, color='k', ls='--')\n",
    "ylim(0,2)\n"
   ]
  },
  {
   "cell_type": "code",
   "execution_count": null,
   "id": "2e93aae1",
   "metadata": {},
   "outputs": [],
   "source": []
  },
  {
   "cell_type": "code",
   "execution_count": null,
   "id": "86d7252a",
   "metadata": {},
   "outputs": [],
   "source": []
  },
  {
   "cell_type": "markdown",
   "id": "c71e9ff4",
   "metadata": {},
   "source": [
    "## These are unfinished attemps to measure the peaks FWHM. But saturation makes it complicated."
   ]
  },
  {
   "cell_type": "code",
   "execution_count": null,
   "id": "40f66d93",
   "metadata": {},
   "outputs": [],
   "source": [
    "fact_res = 1\n",
    "img=hp.gnomview(sb, rot=[0,90], reso=10/fact_res, title='Theory TES #{}'.format(TESNum), \n",
    "                xsize=200*fact_res, return_projected_map=True, sub=(1,3,1))\n",
    "imgdata=hp.gnomview(hpmap, reso=10/fact_res, title='Data #{}'.format(TESNum), \n",
    "                xsize=200*fact_res, return_projected_map=True, sub=(1,3,2))\n",
    "sh = img.shape\n",
    "reso = 10./fact_res\n",
    "print(reso)\n",
    "dx = 200*fact_res *reso /60\n",
    "x = np.linspace(-dx/2,dx/2,sh[0])\n",
    "xx,yy= np.meshgrid(x,x)\n",
    "\n",
    "subplot(1,3,3)\n",
    "imshow(img, extent=[-dx/2, dx/2, -dx/2, dx/2])\n"
   ]
  },
  {
   "cell_type": "code",
   "execution_count": null,
   "id": "3e624d81",
   "metadata": {},
   "outputs": [],
   "source": [
    "#### Test method\n",
    "fwhm_true = 0.69\n",
    "img_sim = np.exp(-0.5*(xx**2+yy**2)/(fwhm_true/2.35)**2)\n",
    "subplot(1,2,1)\n",
    "imshow(img_sim, extent=[-dx/2, dx/2, -dx/2, dx/2])\n",
    "\n",
    "fwhm_rec = np.sqrt(np.sum(img_sim/np.sum(img_sim)*xx**2))*2.35\n",
    "print(fwhm_rec)\n",
    "\n",
    "subplot(1,2,2)\n",
    "okx = np.abs(x) < 3\n",
    "oky = np.abs(x) < 3\n",
    "newmap = img_sim[oky,:][:,okx]\n",
    "imshow(newmap, extent = [np.min(x[okx]), np.max(x[okx]), np.min(x[oky]), np.max(x[oky])])\n",
    "print(np.sqrt(np.sum(newmap/np.sum(newmap)*xx[okx,:][:,oky]**2))*2.35)"
   ]
  },
  {
   "cell_type": "code",
   "execution_count": null,
   "id": "abe53abf",
   "metadata": {},
   "outputs": [],
   "source": [
    "## Now real and model QUBIC data\n",
    "subplot(1,2,1)\n",
    "imshow(img, extent=[-dx/2, dx/2, -dx/2, dx/2], origin='lower')\n",
    "\n",
    "okx = np.abs(x+5) < 3\n",
    "oky = np.abs(x+7) < 3\n",
    "newmap = img[oky,:][:,okx]\n",
    "subplot(1,2,2)\n",
    "imshow(newmap,extent = [np.min(x[okx]), np.max(x[okx]), np.min(x[oky]), np.max(x[oky])], origin='lower')\n",
    "\n",
    "print(np.sqrt(np.sum(newmap/np.sum(newmap)*xx[oky,:][:,okx]**2))*2.35)"
   ]
  },
  {
   "cell_type": "code",
   "execution_count": null,
   "id": "1c4695c4",
   "metadata": {},
   "outputs": [],
   "source": [
    "## Now real and model QUBIC data\n",
    "subplot(1,2,1)\n",
    "imshow(imgdata, extent=[-dx/2, dx/2, -dx/2, dx/2], origin='lower')\n",
    "\n",
    "okx = np.abs(x+5) < 3\n",
    "oky = np.abs(x+7) < 3\n",
    "newmap = imgdata[oky,:][:,okx]\n",
    "subplot(1,2,2)\n",
    "imshow(newmap,extent = [np.min(x[okx]), np.max(x[okx]), np.min(x[oky]), np.max(x[oky])], origin='lower')\n",
    "\n",
    "print(np.sqrt(np.sum(newmap/np.sum(newmap)*xx[oky,:][:,okx]**2))*2.35)"
   ]
  },
  {
   "cell_type": "code",
   "execution_count": null,
   "id": "f638eded",
   "metadata": {},
   "outputs": [],
   "source": [
    "lamb = 2.e-3\n",
    "P = 8.*np.sqrt(2)\n",
    "delta_x = 13.e-3\n",
    "print(np.degrees(lamb/(P*delta_x)))\n"
   ]
  },
  {
   "cell_type": "code",
   "execution_count": null,
   "id": "ad027c02",
   "metadata": {},
   "outputs": [],
   "source": [
    "\n",
    "img=hp.gnomview(sb, rot=[0,90], reso=10,sub=(1,2,2), \n",
    "                title='Theory TES #{}'.format(TESNum),\n",
    "                min=1000, max=np.max(sb)/2, \n",
    "                cmap='jet')\n",
    "\n",
    "\n"
   ]
  },
  {
   "cell_type": "code",
   "execution_count": null,
   "id": "6300108d",
   "metadata": {},
   "outputs": [],
   "source": [
    "hp.gnomview?"
   ]
  },
  {
   "cell_type": "code",
   "execution_count": null,
   "id": "7161331c",
   "metadata": {},
   "outputs": [],
   "source": []
  }
 ],
 "metadata": {
  "kernelspec": {
   "display_name": "Python 3 (ipykernel)",
   "language": "python",
   "name": "python3"
  }
 },
 "nbformat": 4,
 "nbformat_minor": 5
}
