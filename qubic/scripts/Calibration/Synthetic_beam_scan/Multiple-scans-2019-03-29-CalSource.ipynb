{
 "cells": [
  {
   "cell_type": "code",
   "execution_count": null,
   "id": "da6b03be",
   "metadata": {},
   "outputs": [],
   "source": [
    "#%matplotlib notebook\n",
    "%matplotlib inline\n",
    "from matplotlib import rc\n",
    "rc('figure',figsize=(16,8))\n",
    "rc('font',size=12)\n",
    "rc('text',usetex=False)\n",
    "\n",
    "from qubicpack import qubicpack as qp\n",
    "import fibtools as ft\n",
    "import plotters as p\n",
    "import lin_lib as ll\n",
    "import demodulation_lib as dl\n",
    "import satorchipy as stpy\n",
    "from pysimulators import FitsArray\n",
    "\n",
    "import numpy as np\n",
    "from matplotlib.pyplot import *\n",
    "import matplotlib.mlab as mlab\n",
    "import scipy.ndimage.filters as f\n",
    "import glob\n",
    "import string\n",
    "import scipy.signal as scsig\n",
    "from scipy import interpolate\n",
    "import datetime as dt\n"
   ]
  },
  {
   "cell_type": "markdown",
   "id": "b4b5490a",
   "metadata": {},
   "source": [
    "## Dataset\n",
    "Lets get the directories corresponding to each dataset:"
   ]
  },
  {
   "cell_type": "code",
   "execution_count": null,
   "id": "aa0ef483",
   "metadata": {},
   "outputs": [],
   "source": [
    "# n = 'ScanMap_Speed_VE4_El'\n",
    "# days = ['2019-03-28', '2019-03-29']\n",
    "# n = 'ScanMap_Speed_VE4_El'\n",
    "# days = ['2019-03-30', '2019-03-31']\n",
    "n = 'ScanMap_Speed_VE4_El'\n",
    "days = ['2019-04-05', '2019-04-06']\n",
    "# n = 'ScanMap_160GHz_Speed_VE4_El'\n",
    "# days = ['2019-04-07', '2019-04-08']\n",
    "# n = 'ScanMap_170GHz_Speed_VE4_El'\n",
    "# days = ['2019-04-11', '2019-04-12']\n",
    "# n = 'ScanSmallMap_150GHz_1V_AllOpen_Speed_VE4'\n",
    "# days = ['2019-04-28']\n",
    "\n",
    "dirs = []\n",
    "elevations=[]\n",
    "for d in days:\n",
    "    dd = glob.glob('/qubic/Data/Calib-TD/'+d+'/*'+n+'*')\n",
    "    for i in xrange(len(dd)): \n",
    "        #print dd[i]\n",
    "        truc = str.split(dd[i],'_')\n",
    "        the_el = truc[-1]\n",
    "        try:\n",
    "            elfloat = float(the_el)\n",
    "            elevations.append(float(the_el))\n",
    "            dirs.append(dd[i])\n",
    "        except:\n",
    "            print 'File '+dd[i]+' has a format that des not comply with expectations => rejected'\n",
    "            continue\n",
    "    print '  * ',d,' : {} files'.format(len(dd))\n",
    "print '  => Total = {} files'.format(len(dirs))\n",
    "print '  => Elevation ranges from {} to {}'.format(np.min(elevations),np.max(elevations))\n"
   ]
  },
  {
   "cell_type": "code",
   "execution_count": null,
   "id": "144b8f6e",
   "metadata": {},
   "outputs": [],
   "source": [
    "labels = []\n",
    "dir_time = []\n",
    "for d in dirs:\n",
    "    bla = str.split(d,'__')\n",
    "    blo = str.split(bla[0],'/')\n",
    "    labels.append(bla[1])\n",
    "    dir_time.append(blo[-1])\n",
    "    \n",
    "for i in xrange(len(labels)): \n",
    "    print i, labels[i], dir_time[i], 'Elevation: ', elevations[i]\n"
   ]
  },
  {
   "cell_type": "markdown",
   "id": "9fa0c156",
   "metadata": {},
   "source": [
    "# Demodulation"
   ]
  },
  {
   "cell_type": "code",
   "execution_count": null,
   "id": "b2987a07",
   "metadata": {},
   "outputs": [],
   "source": [
    "ii = 65\n",
    "thedir = dirs[ii]\n",
    "print thedir, 'Elevation =',elevations[ii]\n",
    "AsicNum = 1\n",
    "a = qp()\n",
    "a.read_qubicstudio_dataset(thedir, asic=AsicNum)\n",
    "data=a.azel_etc(TES=None)\n",
    "data['t_src'] += 7200\n",
    "\n",
    "data['data'] = data['data'][92:98]\n",
    "print data['data'].shape\n"
   ]
  },
  {
   "cell_type": "code",
   "execution_count": null,
   "id": "a5c36465",
   "metadata": {},
   "outputs": [],
   "source": [
    "rc('figure',figsize=(16,8))\n",
    "#plot(data['t_data']-data['t_data'][0], data['data'][0,:])\n",
    "#plot(data['t_azel']-data['t_data'][0], data['az'])\n",
    "\n",
    "plot(np.interp(data['t_data'], data['t_azel'], data['az']), data['data'][0,:])\n",
    "xlim(-5,5)"
   ]
  },
  {
   "cell_type": "code",
   "execution_count": null,
   "id": "ac9bb5bb",
   "metadata": {},
   "outputs": [],
   "source": [
    "rc('figure',figsize=(16,8))\n",
    "#plot(data['t_data']-data['t_data'][0], data['data'][0,:])\n",
    "#plot(data['t_azel']-data['t_data'][0], data['az'])\n",
    "\n",
    "plot(np.interp(data['t_data'], data['t_azel'], data['az']), data['data'][0,:])"
   ]
  },
  {
   "cell_type": "code",
   "execution_count": null,
   "id": "0ea6d134",
   "metadata": {},
   "outputs": [],
   "source": [
    "reload(dl)\n",
    "reload(ft)\n",
    "\n",
    "#### Parameters\n",
    "freq_mod = 1.\n",
    "ppp = 1./freq_mod\n",
    "lowcut = 0.3\n",
    "highcut = 10.\n",
    "nbins = 200\n",
    "elevation = 50\n",
    "\n",
    "method = 'rms'\n",
    "\n",
    "unbinned, binned = dl.general_demodulate(ppp, data, lowcut, highcut,\n",
    "                                                    nbins=nbins, median=True, method=method, \n",
    "                                                    doplot=True, rebin=True, \n",
    "                                                    renormalize_plot=False, verbose=True)\n",
    "ylim(-10000, 500000)\n",
    "print 'Un-Binned:'\n",
    "for k in unbinned.keys(): print k, unbinned[k].shape\n",
    "if binned:\n",
    "    print 'Binned:'\n",
    "    for k in binned.keys(): print k, binned[k].shape\n",
    "\n"
   ]
  },
  {
   "cell_type": "code",
   "execution_count": null,
   "id": "00855077",
   "metadata": {},
   "outputs": [],
   "source": []
  },
  {
   "cell_type": "markdown",
   "id": "1bb97034",
   "metadata": {},
   "source": [
    "## Run on all TES and all files"
   ]
  },
  {
   "cell_type": "code",
   "execution_count": null,
   "id": "a8b1a80e",
   "metadata": {},
   "outputs": [],
   "source": [
    "#### Parameters\n",
    "ppp = 1./freq_mod\n",
    "lowcut = 0.3\n",
    "highcut = 10.\n",
    "method = 'demod'\n",
    "\n",
    "nbins = 250\n",
    "\n",
    "reload(dl)\n",
    "reload(ft)\n",
    "savedir = '/Volumes/Data/Qubic/Calib-TD/ScanData_2019-03-31_DemodSrc_NewCode/'\n",
    "\n",
    "ids=0\n",
    "\n",
    "for ids in xrange(len(datasets)):\n",
    "    dirs = datasets[ids]\n",
    "    #for ii in xrange(len(dirs)):\n",
    "    for ii in [22]:\n",
    "        thedir = dirs[ii]\n",
    "        print '##############################################################'\n",
    "        print 'Dataset {} / {} :'.format(ids,len(datasets)),names[ids]\n",
    "        print 'Directory {} / {} :'.format(ii, len(dirs)), thedir\n",
    "        print '##############################################################'\n",
    "        allsb = []\n",
    "        all_az_el_azang = []\n",
    "        for iasic in [0,1]:\n",
    "            print '======== ASIC {} ====================='.format(iasic)\n",
    "            AsicNum = iasic+1\n",
    "            a = qp()\n",
    "            a.read_qubicstudio_dataset(thedir, asic=AsicNum)\n",
    "            data=a.azel_etc(TES=None)\n",
    "            data['t_src'] += 7200\n",
    "            unbinned, binned = dl.general_demodulate(ppp, data, \n",
    "                                                    lowcut, highcut,\n",
    "                                                    nbins=nbins, median=True, method=method, \n",
    "                                                    doplot=False, rebin=False, verbose=False)\n",
    "            all_az_el_azang.append(np.array([unbinned['az'], unbinned['el'], unbinned['az_ang']]))\n",
    "            allsb.append(unbinned['sb'])\n",
    "        sh0 = allsb[0].shape\n",
    "        sh1 = allsb[1].shape\n",
    "        mini = np.min([sh0[1], sh1[1]])\n",
    "        print sh0, sh1, mini\n",
    "        sb = np.append(allsb[0][:,:mini], allsb[1][:,:mini], axis=0)\n",
    "        az_el_azang = np.append(all_az_el_azang[0][:,:mini], all_az_el_azang[1][:,:mini])\n",
    "        print sb.shape\n",
    "        print az_el_azang.shape\n",
    "        print savedir+'alltes_unbinned_{}_{}.fits'.format(names[ids],elevations[ii])\n",
    "        print savedir+'angles_unbinned_{}_{}.fits'.format(names[ids],elevations[ii])\n",
    "        #FitsArray(sb).save(savedir+'alltes_unbinned_{}_{}.fits'.format(names[ids],elevations[ii]))\n",
    "        #FitsArray(az_el_azang).save(savedir+'angles_unbinned_{}_{}.fits'.format(names[ids],elevations[ii]))\n",
    "\n"
   ]
  },
  {
   "cell_type": "code",
   "execution_count": null,
   "id": "c24dc842",
   "metadata": {},
   "outputs": [],
   "source": [
    "467*3*2"
   ]
  },
  {
   "cell_type": "markdown",
   "id": "f8ca7179",
   "metadata": {},
   "source": [
    "Now we loop on the TES"
   ]
  },
  {
   "cell_type": "code",
   "execution_count": null,
   "id": "9f23183f",
   "metadata": {},
   "outputs": [],
   "source": [
    "# #### Parameters\n",
    "# ppp = 1./freq_mod\n",
    "# lowcut = 0.3\n",
    "# highcut = 10.\n",
    "# nbins = int((np.max(t_data)-np.min(t_data))/ppp/2)\n",
    "# elevation = 50\n",
    "\n",
    "# reload(dl)\n",
    "# reload(ft)\n",
    "# savedir = '/Volumes/Data/Qubic/Calib-TD/ScanData_2019-03-31_DemodSrc/'\n",
    "\n",
    "# ids=0\n",
    "# FitsArray(angle).save(savedir+'az_ang_{}.fits'.format(names[ids]))\n",
    "\n",
    "\n",
    "# for ids in xrange(len(datasets)):\n",
    "#     dirs = datasets[ids]\n",
    "#     for ii in xrange(len(dirs)):\n",
    "#         thedir = dirs[ii]\n",
    "#         print '##############################################################'\n",
    "#         print 'Dataset {} / {} :'.format(ids,len(datasets)),names[ids]\n",
    "#         print 'Directory {} / {} :'.format(ii, len(dirs)), thedir\n",
    "#         print '##############################################################'\n",
    "#         alldemod = np.zeros((256,nbins))\n",
    "#         for iasic in [0,1]:\n",
    "#             print '======== ASIC {} ====================='.format(iasic)\n",
    "#             AsicNum = iasic+1\n",
    "#             a = qp()\n",
    "#             a.read_qubicstudio_dataset(thedir, asic=AsicNum)\n",
    "#             #t_data = a.timeline_timeaxis(axistype='index')\n",
    "#             #FREQ_SAMPLING = 1./(t_data[1]-t_data[0])\n",
    "#             #az = a.azimuth()\n",
    "#             #t_az = (np.max(t_data)-np.min(t_data))*np.linspace(0,1,len(az))\n",
    "#             t_data = a.timeline_timeaxis(axistype='pps')\n",
    "#             FREQ_SAMPLING = 1./(t_data[1]-t_data[0])\n",
    "#             az = a.azimuth()\n",
    "#             t_az = a.timeaxis(datatype='platform',axistype='pps')\n",
    "#             for TESNum in np.arange(128)+1:\n",
    "#                 if (16*(TESNum/16))==TESNum: print(TESNum)\n",
    "#                 TESindex = iasic*128+(TESNum-1)\n",
    "#                 thedata = a.timeline(TES=TESNum)\n",
    "#                 #t_src=[]\n",
    "#                 #data_src=[]\n",
    "#                 angle, sb, dsb = dl.general_demodulate(ppp, t_data, thedata, t_src, data_src, t_az, az, \n",
    "#                                                             lowcut, highcut, all_elevation[ids][ii], \n",
    "#                                                             nbins=nbins, median=True, method='demod', \n",
    "#                                                             doplot=False, unbinned=False)\n",
    "#                 alldemod[TESindex,:] = sb\n",
    "#         FitsArray(alldemod).save(savedir+'alltes_{}_el_{}.fits'.format(names[ids],all_elevation[ids][ii]))\n",
    "\n"
   ]
  },
  {
   "cell_type": "code",
   "execution_count": null,
   "id": "09860480",
   "metadata": {},
   "outputs": [],
   "source": [
    "print 'Fini'"
   ]
  },
  {
   "cell_type": "code",
   "execution_count": null,
   "id": "7738d0eb",
   "metadata": {},
   "outputs": [],
   "source": []
  },
  {
   "cell_type": "code",
   "execution_count": null,
   "id": "a2d9f557",
   "metadata": {},
   "outputs": [],
   "source": []
  },
  {
   "cell_type": "code",
   "execution_count": null,
   "id": "a66e1cff",
   "metadata": {},
   "outputs": [],
   "source": []
  },
  {
   "cell_type": "code",
   "execution_count": null,
   "id": "44c7627d",
   "metadata": {},
   "outputs": [],
   "source": [
    "bla = np.random.rand(256)\n",
    "img = ft.image_asics(all1=bla)\n",
    "imshow(img)"
   ]
  },
  {
   "cell_type": "code",
   "execution_count": null,
   "id": "3f0001df",
   "metadata": {},
   "outputs": [],
   "source": []
  }
 ],
 "metadata": {
  "kernelspec": {
   "display_name": "Python [conda env:anaconda]",
   "language": "python",
   "name": "conda-env-anaconda-py"
  }
 },
 "nbformat": 4,
 "nbformat_minor": 5
}
