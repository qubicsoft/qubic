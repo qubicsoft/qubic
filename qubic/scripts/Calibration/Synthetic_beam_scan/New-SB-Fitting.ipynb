{
 "cells": [
  {
   "cell_type": "code",
   "execution_count": null,
   "id": "9d866396",
   "metadata": {},
   "outputs": [],
   "source": [
    "##### %matplotlib notebook\n",
    "%matplotlib inline\n",
    "from matplotlib import rc\n",
    "rc('figure',figsize=(16,6))\n",
    "rc('font',size=12)\n",
    "rc('text',usetex=False)\n",
    "rc('image', cmap='viridis')\n",
    "\n",
    "from qubicpack import qubicpack as qp\n",
    "import fibtools as ft\n",
    "import plotters as p\n",
    "import lin_lib as ll\n",
    "import demodulation_lib as dl\n",
    "import qubic.io\n",
    "import sb_fitting as sbfit\n",
    "\n",
    "from pysimulators import FitsArray\n",
    "\n",
    "import numpy as np\n",
    "from matplotlib.pyplot import *\n",
    "import matplotlib.mlab as mlab\n",
    "import scipy.ndimage.filters as f\n",
    "import glob\n",
    "import string\n",
    "import scipy.signal as scsig\n",
    "from scipy import interpolate\n",
    "import os\n",
    "import healpy as hp\n",
    "import pandas as pd\n"
   ]
  },
  {
   "cell_type": "code",
   "execution_count": null,
   "id": "e5b6b671",
   "metadata": {},
   "outputs": [],
   "source": [
    "dirfreq = '150GHz-2019-04-06/'\n",
    "dirallfreqs = '/Users/hamilton/Google Drive/QUBIC/Calib-TD/Files/Synthesized Beams/Synthesized_Beams_Files/'\n",
    "dirfiles = dirallfreqs+dirfreq\n",
    "c50 = np.cos(np.radians(50))\n",
    "azmin = -15./c50\n",
    "azmax = 15./c50\n",
    "\n",
    "\n",
    "TESNum = 37\n",
    "reload(sbfit)\n",
    "flatmap, az, el = sbfit.get_flatmap(TESNum, dirfiles, azmin = azmin, azmax=azmax)\n",
    "npix = len(np.ravel(flatmap))\n",
    "\n",
    "subplot(1,2,1)\n",
    "imshow(flatmap,\n",
    "       extent=[np.min(az)*c50, np.max(az)*c50, np.min(el), np.max(el)], aspect='equal',\n",
    "      vmin=-3000, vmax=3000)\n",
    "colorbar()\n"
   ]
  },
  {
   "cell_type": "code",
   "execution_count": null,
   "id": "1a3aa28d",
   "metadata": {},
   "outputs": [],
   "source": [
    "alldata_renorm = np.zeros((256, npix))\n",
    "for i in range(256):\n",
    "    flatmap, az, el = sbfit.get_flatmap(i+1, dirfiles, azmin=azmin, azmax=azmax)\n",
    "    mm,ss = ft.meancut(flatmap,3)\n",
    "    alldata_renorm[i,:] = np.ravel((flatmap-mm)/ss)  "
   ]
  },
  {
   "cell_type": "code",
   "execution_count": null,
   "id": "1937cb5a",
   "metadata": {},
   "outputs": [],
   "source": [
    "##### Estimating the median of all SB images - to be removed - Origin still unexplained...\n",
    "med = np.reshape(np.median(alldata_renorm,axis=0),np.shape(flatmap))\n",
    "mm=np.mean(med)\n",
    "ss = np.std(med)\n",
    "\n",
    "imshow(np.reshape(med, np.shape(flatmap)),\n",
    "       extent=[np.min(az)*c50, np.max(az)*c50, np.min(el), np.max(el)], aspect='equal')\n",
    "colorbar()\n",
    "title('Median over all S.B. images')"
   ]
  },
  {
   "cell_type": "code",
   "execution_count": null,
   "id": "8272f303",
   "metadata": {},
   "outputs": [],
   "source": [
    "reload(sbfit)\n",
    "TESNum = 16\n",
    "flatmap, az, el = sbfit.get_flatmap(TESNum, dirfiles, remove=med, azmin=azmin, azmax=azmax)\n",
    "#### Instantiate a model\n",
    "sbfitmodel3 = sbfit.SbModelIndepPeaks(nrings=2, common_fwhm=True, no_xy_shift=False,distortion=False)\n",
    "figure()\n",
    "fit, xypeaks = sbfit.fit_sb(flatmap, az, el, sbfitmodel3, verbose=False, \n",
    "                            doplot=True, extra_title='TES #{}'.format(TESNum))\n",
    "#savefig('Fit-TES#{}.png'.format(TESNum))"
   ]
  },
  {
   "cell_type": "code",
   "execution_count": null,
   "id": "e8550b09",
   "metadata": {},
   "outputs": [],
   "source": []
  },
  {
   "cell_type": "code",
   "execution_count": null,
   "id": "40182228",
   "metadata": {},
   "outputs": [],
   "source": []
  },
  {
   "cell_type": "code",
   "execution_count": null,
   "id": "fb10cca4",
   "metadata": {},
   "outputs": [],
   "source": []
  },
  {
   "cell_type": "code",
   "execution_count": null,
   "id": "c5fc19a5",
   "metadata": {},
   "outputs": [],
   "source": []
  },
  {
   "cell_type": "code",
   "execution_count": null,
   "id": "2dc880f6",
   "metadata": {},
   "outputs": [],
   "source": [
    "\n",
    "reload(sbfit)\n",
    "#### Instantiate a model\n",
    "sbfitmodel0 = sbfit.SimpleSbModel(nrings=2)\n",
    "fit0, xypeaks0 = sbfit.fit_sb(flatmap, az, el, sbfitmodel0, verbose=True, doplot=True)"
   ]
  },
  {
   "cell_type": "code",
   "execution_count": null,
   "id": "d11cc27c",
   "metadata": {},
   "outputs": [],
   "source": [
    "reload(sbfit)\n",
    "#### Instantiate a model\n",
    "sbfitmodel1 = sbfit.SbModelIndepPeaksAmpFWHM(nrings=2, common_fwhm=True)\n",
    "\n",
    "fit1, xypeaks1 = sbfit.fit_sb(flatmap, az, el, sbfitmodel1, verbose=True, doplot=True)"
   ]
  },
  {
   "cell_type": "code",
   "execution_count": null,
   "id": "ec60d7d3",
   "metadata": {},
   "outputs": [],
   "source": [
    "reload(sbfit)\n",
    "#### Instantiate a model\n",
    "sbfitmodel2 = sbfit.SbModelIndepPeaksAmpFWHM(nrings=2, common_fwhm=False)\n",
    "figure()\n",
    "fit, xypeaks = sbfit.fit_sb(flatmap, az, el, sbfitmodel2, verbose=True, doplot=True,newsize=70)"
   ]
  },
  {
   "cell_type": "code",
   "execution_count": null,
   "id": "71b344cc",
   "metadata": {},
   "outputs": [],
   "source": [
    "reload(sbfit)\n",
    "#### Instantiate a model\n",
    "sbfitmodel3 = sbfit.SbModelIndepPeaks(nrings=2, common_fwhm=True, no_xy_shift=False,distortion=False)\n",
    "figure()\n",
    "fit, xypeaks = sbfit.fit_sb(flatmap, az, el, sbfitmodel3, verbose=True, doplot=True)"
   ]
  },
  {
   "cell_type": "code",
   "execution_count": null,
   "id": "92617fb1",
   "metadata": {},
   "outputs": [],
   "source": [
    "reload(sbfit)\n",
    "#### Instantiate a model\n",
    "sbfitmodel3 = sbfit.SbModelIndepPeaks(nrings=2, common_fwhm=False, no_xy_shift=False,distortion=False)\n",
    "figure()\n",
    "fit, xypeaks = sbfit.fit_sb(flatmap, az, el, sbfitmodel3, verbose=True, doplot=True)"
   ]
  },
  {
   "cell_type": "code",
   "execution_count": null,
   "id": "375f6a8a",
   "metadata": {},
   "outputs": [],
   "source": []
  }
 ],
 "metadata": {
  "kernelspec": {
   "display_name": "Python [default]",
   "language": "python",
   "name": "python2"
  }
 },
 "nbformat": 4,
 "nbformat_minor": 5
}
