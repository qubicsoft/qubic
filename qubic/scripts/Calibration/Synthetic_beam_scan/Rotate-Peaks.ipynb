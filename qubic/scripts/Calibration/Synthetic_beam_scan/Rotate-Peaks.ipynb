{
 "cells": [
  {
   "cell_type": "markdown",
   "id": "50814307",
   "metadata": {},
   "source": [
    "# Rotation of measured synthesized in order to put it into the boresight reference frame that is used in QubicSoft\n",
    "#### J.-Ch. Hamilton heavily inspired by Martin Gamboa's notebook scanSource_oneDet.ipynb\n",
    "\n",
    "#### Beware: Part of the code needs to be modified to account for the new pixel numbering !"
   ]
  },
  {
   "cell_type": "code",
   "execution_count": null,
   "id": "22368989",
   "metadata": {},
   "outputs": [],
   "source": [
    "%matplotlib inline\n",
    "#%matplotlib notebook\n",
    "from matplotlib import rc\n",
    "rc('figure', figsize=(15,8))\n",
    "rc('font', size=12)\n",
    "rc('text', usetex=False)\n",
    "rc('image', cmap='viridis')\n",
    "\n",
    "import healpy as hp\n",
    "import qubic.io\n",
    "from pysimulators import FitsArray\n",
    "import fibtools as ft\n",
    "import demodulation_lib as dl\n",
    "import sb_fitting as sbfit\n",
    "\n",
    "ns = 256"
   ]
  },
  {
   "cell_type": "code",
   "execution_count": null,
   "id": "f745e1cb",
   "metadata": {},
   "outputs": [],
   "source": [
    "TESNum = 37\n",
    "thecos = np.cos(np.radians(50))\n",
    "\n",
    "dirallfreqs = '/Users/hamilton/Google Drive/QUBIC/Calib-TD/Files/Synthesized Beams/Synthesized_Beams_Files/'\n",
    "dirfreq='150GHz-2019-04-06/'\n",
    "flatmap, az, el, fitmap, peaks = sbfit.get_flatmap(TESNum, dirallfreqs+dirfreq, \n",
    "                                                     fitted_directory = '/Users/hamilton/Google Drive/QUBIC/Calib-TD/FitSB/')\n",
    "print(peaks[0,:])\n",
    "print(peaks[1,:])\n",
    "print(peaks[2,:])\n",
    "print(peaks[3,:])\n",
    "print('')\n",
    "\n",
    "### In measurement coordinate system\n",
    "thetas_measured_M = np.radians(90-(peaks[1,:]-50))\n",
    "phis_measured_M = np.radians(-peaks[0,:])\n",
    "amps_measured_M = peaks[2,:]\n",
    "fwhm_measured_M = peaks[3,:]\n",
    "\n",
    "\n",
    "\n",
    "directory = '/Users/hamilton/Google Drive/QUBIC/Calib-TD/Files/Synthesized Beams/Synthesized_Beams_Files/150GHz-2019-04-06/'\n",
    "\n",
    "filename = directory + 'Flat/imgflat_TESNum_{}.fits'.format(TESNum)\n",
    "img = FitsArray(filename)\n",
    "az = FitsArray(directory + 'Flat/azimuth.fits')\n",
    "el = FitsArray(directory + 'Flat/elevation.fits')\n",
    "\n",
    "mm, ss = ft.meancut(img[img != 0], 3)\n",
    "subplot(1,2,1)\n",
    "imshow(img, \n",
    "       extent = [np.min(az)*thecos, np.max(az)*thecos, np.min(el), np.max(el)], \n",
    "       cmap='viridis',\n",
    "       vmin = -3*ss, vmax = 10*ss)\n",
    "plot(peaks[0,:],peaks[1,:],'rX', label='Fitted')\n",
    "legend()\n",
    "\n",
    "mymap = qubic.io.read_map(directory+'/Healpix/healpix_TESNum_{}.fits'.format(TESNum))\n",
    "hp.gnomview(mymap, reso=10, sub=(1,2,2), min=-3*ss, max=10*ss,cmap='viridis')\n",
    "hp.projscatter(-peaks[0,:],peaks[1,:]-50, lonlat=True, marker='X',color='r', label='Fitted')\n",
    "legend()"
   ]
  },
  {
   "cell_type": "code",
   "execution_count": null,
   "id": "493692f8",
   "metadata": {},
   "outputs": [],
   "source": [
    "did_det={'93':180, '94':197, '95':214, '96':231}#180sim == 93real, 197sim == 94 real, 214sim == 95real, 231sim == 96real \n",
    "\n",
    "def select_det(q,id):\n",
    "    # Select detector number id from a QubicInstrument instance q\n",
    "    # Return:\n",
    "    #     A QubicInstrument object with only detector id (insted full detector array)\n",
    "    id=[id]\n",
    "    detector_i = q.detector[id]\n",
    "    q.detector = detector_i\n",
    "    return(q)"
   ]
  },
  {
   "cell_type": "markdown",
   "id": "048684c0",
   "metadata": {},
   "source": [
    "### Findng realistic peaks locations in the right reference frame\n",
    "We instantiate a QUBIC instrument, get the synthesized beam for a given detector and plot the synthesized beam in the Qubic System, meaning that it is oriented towards the zenith. We also extract the locations of the peaks from the QUBIC software."
   ]
  },
  {
   "cell_type": "code",
   "execution_count": null,
   "id": "9218d932",
   "metadata": {},
   "outputs": [],
   "source": [
    "sel_det=True #If you want to select one detector\n",
    "TESid = TESNum\n",
    "\n",
    "# INSTRUMENT\n",
    "d = qubic.qubicdict.qubicDict()\n",
    "d.read_from_file('../pointsource/global_source_oneDet.dict')\n",
    "print(d['kind'])\n",
    "d['kind']='I'\n",
    "print(d['kind'])\n",
    "d['nside']=ns\n",
    "\n",
    "q = qubic.QubicInstrument(d)\n",
    "# plt.title('Detector array')\n",
    "# plt.plot(q.detector.center[did_det['93']][0],q.detector.center[did_det['93']][1], 'ko')\n",
    "# q.detector.plot()\n",
    "\n",
    "############################# THIS NEEDS TO BE MODEIFIED WITH THE NEW PIXEL NUMBERING ####################\n",
    "if sel_det:\n",
    "    if str(TESid) not in did_det.keys():\n",
    "        q =select_det(q,TESid)\n",
    "    else:\n",
    "        q=select_det(q,did_det['{}'.format(TESid)])\n",
    "        \n",
    "s = qubic.QubicScene(d)\n",
    "\n",
    "nu = q.filter.nu\n",
    "detcenter = q.detector.center\n",
    "synthbeam = q.synthbeam\n",
    "horn = getattr(q, 'horn', None)\n",
    "primary_beam = getattr(q, 'primary_beam', None)\n",
    "synthbeam.kmax = 2\n",
    "thetas, phis, vals  = q._peak_angles(s, nu, detcenter, synthbeam, horn, primary_beam)\n",
    "thetas = np.reshape(thetas, thetas.shape[1])\n",
    "phis = np.reshape(phis, phis.shape[1])\n",
    "vals = np.reshape(vals, vals.shape[1])\n",
    "\n",
    "sb = q.get_synthbeam(s, 0, detpos=q.detector.center[0])\n",
    "xr=0.1*np.max(sb)"
   ]
  },
  {
   "cell_type": "markdown",
   "id": "935d3307",
   "metadata": {},
   "source": [
    "Now let's overplot the Synthesized beam and the peak locations in mollweide with no healpix map rotation: peaks appear towards the zenith. We also plot the same bt using healpix rotation of the map in order to have the SB on the equator, and then we plot in gnomonic (with the same rotation of course)."
   ]
  },
  {
   "cell_type": "code",
   "execution_count": null,
   "id": "a0e7c4df",
   "metadata": {},
   "outputs": [],
   "source": [
    "hp.mollview(sb, min=0, max=xr, title='Qubic reference frame: optical center towards z (90,0)', sub=(2,2,1))\n",
    "hp.mollview(sb, min=0, max=xr, rot=[0,90], title='Qubic reference frame: optical center towards z (90,0) - Healpix Rotated', sub=(2,2,3))\n",
    "hp.gnomview(sb, rot=[0,90],reso=10, min=0, max=xr,cmap='viridis', sub=(1,2,2), title='Qubic reference frame: optical center towards z (90,0) - Healpix Rotated')\n",
    "\n",
    "#Overplotting (for some reason ot plots on both subplots...)\n",
    "hp.projscatter(thetas,phis, marker='X',color='r', label='True Positions', alpha=0.4)\n",
    "legend()\n"
   ]
  },
  {
   "cell_type": "markdown",
   "id": "9075b786",
   "metadata": {},
   "source": [
    "Similarly, we plot the measured synthesized beam (that is in another reference frame: towards the x axis instead of z) and overplot the location of the fitted peaks."
   ]
  },
  {
   "cell_type": "code",
   "execution_count": null,
   "id": "51e7c4c5",
   "metadata": {},
   "outputs": [],
   "source": [
    "hp.mollview(hp.ud_grade(mymap, 128), min=-3*ss, max=10*ss, title='Measurement reference frame: optical center towards x (0,0)', sub=(1,2,1))\n",
    "\n",
    "hp.gnomview(hp.ud_grade(mymap, 128), reso=10, sub=(1,2,2), min=-3*ss, max=10*ss,cmap='viridis', title='Measurement frame: optical center towards X <=> (0,0)')\n",
    "hp.projscatter(thetas_measured_M,phis_measured_M, marker='X',color='r', label='Fitted', alpha=0.4)\n",
    "legend()"
   ]
  },
  {
   "cell_type": "markdown",
   "id": "a3cd8c0d",
   "metadata": {},
   "source": [
    "The exercize is to be able to convert the peaks locations from one reference frame to the other\n",
    "\n",
    "Let's define some angular transformation functions and try to combine them in order to perform the desired rotation."
   ]
  },
  {
   "cell_type": "code",
   "execution_count": null,
   "id": "3c930256",
   "metadata": {},
   "outputs": [],
   "source": [
    "\n",
    "##### Test: we draw a cross in initial reference frame (towards z) and rotate it to the new one. \n",
    "##### We also do the reverse transformation to the points we obtained and check that we are back.\n",
    "th0 = np.radians([0., 5., 5., 5., 5.])\n",
    "ph0 = np.radians([0., 0., 90., 180., 270.])\n",
    "\n",
    "th1, ph1 = sbfit.rotate_q2m(th0, ph0)\n",
    "hp.mollview(np.zeros(12), title='From Q to M')\n",
    "hp.projscatter(th0,ph0, marker='X',color='r', alpha=0.4, label='Initial points')\n",
    "hp.projscatter(th1,ph1, marker='+',color='b', alpha=0.4, label='Rotated points')\n",
    "\n",
    "th2, ph2 = sbfit.rotate_q2m(th1, ph1, inverse=True)\n",
    "hp.projscatter(th2,ph2, marker='+',color='k', alpha=0.4, label='ReRotated-back points')\n",
    "legend()\n",
    "\n",
    "print(th0-th2)\n",
    "print((ph0-ph2) % (2*np.pi))"
   ]
  },
  {
   "cell_type": "markdown",
   "id": "03d7a3a9",
   "metadata": {},
   "source": [
    "OK ! It's working well apparently !\n",
    "\n",
    "Now we apply this to the data: we transform the QUBIC theoretical peak locations into the measurement reference frame and overplot them onto the measured synthesized beam."
   ]
  },
  {
   "cell_type": "code",
   "execution_count": null,
   "id": "1820d1a3",
   "metadata": {},
   "outputs": [],
   "source": [
    "#angs = np.radians(np.array([0.4, 87.2, 0.8]))     ### Fitted minimizing the residuals around pt src...\n",
    "angs = np.radians(np.array([0, 90, 0]))\n",
    "#angs = np.radians(np.array([0.4, 90.5, -2.5]))\n",
    "\n",
    "thetas_new, phis_new = sbfit.rotate_q2m(thetas, phis, angs=angs)\n",
    "\n",
    "hp.mollview(hp.ud_grade(mymap, 128), min=-3*ss, max=10*ss, title='Measurement reference frame: optical center towards x (0,0)', sub=(1,2,1))\n",
    "\n",
    "hp.gnomview(hp.ud_grade(mymap, 128), reso=10,min=-3*ss, max=10*ss, title='Measurement reference frame: optical center towards x (0,0)', sub=(1,2,2), cmap='viridis')\n",
    "hp.projscatter(thetas_new,phis_new, marker='X',color='r', s=100,label='Theoretical rotated')\n",
    "hp.projscatter(thetas_measured_M,phis_measured_M, marker='*',color='k',s=100, label='Fitted')\n",
    "\n",
    "legend()"
   ]
  },
  {
   "cell_type": "markdown",
   "id": "78e9b3dd",
   "metadata": {},
   "source": [
    "Seems to be working OK !\n",
    "\n",
    "Let's do the opposite (which is actually what we want): rotate the measured synthesized beam peaks and overplot them onto the theoretical one."
   ]
  },
  {
   "cell_type": "code",
   "execution_count": null,
   "id": "59a2ed63",
   "metadata": {},
   "outputs": [],
   "source": [
    "thetas_measured_Q, phis_measured_Q = sbfit.rotate_q2m(thetas_measured_M, phis_measured_M, angs=angs, inverse=True)\n",
    "\n",
    "hp.mollview(sb, min=0, max=xr, title='Qubic reference frame: optical center towards z (90,0)', sub=(2,2,1))\n",
    "hp.mollview(sb, min=0, max=xr, rot=[0,90], title='Qubic reference frame: optical center towards z (90,0) - Healpix Rotated', sub=(2,2,3))\n",
    "\n",
    "hp.gnomview(sb, rot=[0,90],reso=10, min=0, max=xr,cmap='viridis', sub=(1,2,2), title='Qubic reference frame: optical center towards z (90,0) - Healpix Rotated')\n",
    "hp.projscatter(thetas,phis, marker='X',color='r', label='Theoretical Positions',s=100)\n",
    "hp.projscatter(thetas_measured_Q,phis_measured_Q, marker='*',color='g',s=300, label='Fitted Positions')\n",
    "legend()\n"
   ]
  },
  {
   "cell_type": "markdown",
   "id": "2cb0ecf7",
   "metadata": {},
   "source": [
    "So the nes values to put in the QUBIC reconstruction software are:"
   ]
  },
  {
   "cell_type": "code",
   "execution_count": null,
   "id": "9da37cb8",
   "metadata": {},
   "outputs": [],
   "source": [
    "print('Thetas:')\n",
    "print(thetas_measured_Q)\n",
    "print('Phis:')\n",
    "print(phis_measured_Q)\n",
    "\n",
    "#normalization similar to instrument.py line 920\n",
    "### Note: here we use the fitted amplitudes but they are heavily affected by saturation of the TES, \n",
    "### so it may turn out to be a better approximation to use the primary beam shape at these locations...\n",
    "### To be revisited later\n",
    "amps_measured_Q = amps_measured_M/np.max(amps_measured_M)*synthbeam.peak150.solid_angle * (150e9 / nu)**2 / s.solid_angle * len(horn)\n",
    "print('Amps:')\n",
    "print(amps_measured_Q)"
   ]
  },
  {
   "cell_type": "markdown",
   "id": "d4dd6aa2",
   "metadata": {},
   "source": [
    "Now we need to put this into the QUBIC Software"
   ]
  },
  {
   "cell_type": "code",
   "execution_count": null,
   "id": "09fbefc8",
   "metadata": {},
   "outputs": [],
   "source": []
  },
  {
   "cell_type": "code",
   "execution_count": null,
   "id": "3a5c0d90",
   "metadata": {},
   "outputs": [],
   "source": []
  }
 ],
 "metadata": {
  "kernelspec": {
   "display_name": "Python 2",
   "language": "python",
   "name": "python2"
  }
 },
 "nbformat": 4,
 "nbformat_minor": 5
}
