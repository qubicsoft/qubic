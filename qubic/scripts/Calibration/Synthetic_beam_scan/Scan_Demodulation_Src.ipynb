{
 "cells": [
  {
   "cell_type": "code",
   "execution_count": null,
   "id": "ffc63b79",
   "metadata": {},
   "outputs": [],
   "source": [
    "#%matplotlib notebook\n",
    "%matplotlib inline\n",
    "from matplotlib import rc\n",
    "rc('figure',figsize=(16,8))\n",
    "rc('font',size=12)\n",
    "rc('text',usetex=False)\n",
    "\n",
    "from qubicpack import qubicpack as qp\n",
    "import fibtools as ft\n",
    "import plotters as p\n",
    "\n",
    "import numpy as np\n",
    "from matplotlib.pyplot import *\n",
    "import matplotlib.mlab as mlab\n",
    "import scipy.ndimage.filters as f\n",
    "import glob\n",
    "import string"
   ]
  },
  {
   "cell_type": "code",
   "execution_count": null,
   "id": "ca92e2f6",
   "metadata": {},
   "outputs": [],
   "source": [
    "rc('figure',figsize=(10,7))"
   ]
  },
  {
   "cell_type": "markdown",
   "id": "297f8ba0",
   "metadata": {},
   "source": [
    "## Dataset\n",
    "\n",
    "Get the directories corresponding to the day we consider:"
   ]
  },
  {
   "cell_type": "code",
   "execution_count": null,
   "id": "089e1d85",
   "metadata": {},
   "outputs": [],
   "source": [
    "day = '2019-02-22'\n",
    "data_dir = '/qubic/Data/Calib-TD/'+day+'/'\n",
    "dirs = np.sort(glob.glob(data_dir+'/*'))\n",
    "print dirs\n",
    "labels = []\n",
    "for d in dirs:\n",
    "    bla = str.split(d,'__')\n",
    "    labels.append(bla[1])\n",
    "print labels"
   ]
  },
  {
   "cell_type": "markdown",
   "id": "336b9d6d",
   "metadata": {},
   "source": [
    "## Select one directory to start with"
   ]
  },
  {
   "cell_type": "code",
   "execution_count": null,
   "id": "97b8098a",
   "metadata": {},
   "outputs": [],
   "source": [
    "thedir = dirs[1]"
   ]
  },
  {
   "cell_type": "markdown",
   "id": "ce051caf",
   "metadata": {},
   "source": [
    "## Reading Azimuth data"
   ]
  },
  {
   "cell_type": "code",
   "execution_count": null,
   "id": "b221196e",
   "metadata": {},
   "outputs": [],
   "source": [
    "t_az, azinit = ft.read_hkintern(thedir,thefieldname='Platform-Azimut')\n",
    "az = (azinit-2.**15)/(2.**16)*360\n",
    "plot(t_az, az)"
   ]
  },
  {
   "cell_type": "markdown",
   "id": "ad702329",
   "metadata": {},
   "source": [
    "## Reading data for a given asic and pixel"
   ]
  },
  {
   "cell_type": "code",
   "execution_count": null,
   "id": "4e0cc9df",
   "metadata": {},
   "outputs": [],
   "source": [
    "AsicNum = 1\n",
    "TESNum = 96\n",
    "\n",
    "a = qp()\n",
    "a.read_qubicstudio_dataset(thedir, asic=AsicNum)\n",
    "data = a.timeline(TES=TESNum)\n",
    "\n",
    "#t_data = a.timeline_timeaxis(axistype='pps')\n",
    "#t_data = a.timeline_timeaxis(axistype='index')\n",
    "t_data = a.timeline_timeaxis(axistype='index')\n",
    "pps=a.pps()\n",
    "gps=a.gps()\n",
    "t0 = np.min(a.pps2date(pps,gps))\n",
    "t_data = t_data + t0\n",
    "\n",
    "plot(t_data, data)"
   ]
  },
  {
   "cell_type": "markdown",
   "id": "5913584b",
   "metadata": {},
   "source": [
    "## Reading CalSrc Data"
   ]
  },
  {
   "cell_type": "code",
   "execution_count": null,
   "id": "c6536a54",
   "metadata": {},
   "outputs": [],
   "source": [
    "##### The date format for calsrc has no '-' so we need to change the day to this very format.\n",
    "daycalsrc = \"\".join(str.split(day,'-'))\n",
    "fcalsrc = glob.glob('/qubic/Data/Calib-TD/calsource/*'+daycalsrc+'*')\n",
    "fcalsrc.sort()\n",
    "print fcalsrc\n",
    "\n",
    "ttsrc_i = []\n",
    "ddsrc_i = []\n",
    "for ff in fcalsrc:\n",
    "    thett, thedd = np.loadtxt(ff).T\n",
    "    ttsrc_i.append(thett+3600)\n",
    "    ddsrc_i.append(thedd)\n",
    "    \n",
    "t_src = np.concatenate(ttsrc_i)\n",
    "data_src = np.concatenate(ddsrc_i)\n",
    "\n",
    "############### Plot this data\n",
    "plot(t_src,data_src,',')\n",
    "ylim(0,256)\n",
    "title('Calibration Source Data \\n Whole dataset (one cloud of points for each file)')\n",
    "ylabel('ADU (source)')\n",
    "xlabel('Time (s)')\n"
   ]
  },
  {
   "cell_type": "markdown",
   "id": "67216116",
   "metadata": {},
   "source": [
    "## Display Data along with Azimuth and CalSrc, synchronize them"
   ]
  },
  {
   "cell_type": "markdown",
   "id": "cc85d174",
   "metadata": {},
   "source": [
    "We first check for synchronization of the three datasets"
   ]
  },
  {
   "cell_type": "code",
   "execution_count": null,
   "id": "9e36b773",
   "metadata": {},
   "outputs": [],
   "source": [
    "plot(t_data, (data-np.mean(data))/np.std(data),',',label='TES')\n",
    "plot(t_az, (az-np.mean(az))/np.std(az),',',label='Az')\n",
    "plot(t_src, (data_src-np.mean(data_src))/np.std(data_src)/5,',',label='CalSrc')\n",
    "legend()\n",
    "ylim(-3,3)"
   ]
  },
  {
   "cell_type": "markdown",
   "id": "fc0ffd3d",
   "metadata": {},
   "source": [
    "We will focus on the first part where there is common data... we loose the rest for now but may get it back if we use the model of the source signal instead of the source itself."
   ]
  },
  {
   "cell_type": "code",
   "execution_count": null,
   "id": "fea3d4cc",
   "metadata": {},
   "outputs": [],
   "source": [
    "tmin = np.max([np.min(t_data), np.min(t_az), np.min(ttsrc_i[0])])\n",
    "tmax = np.min([np.max(t_data), np.max(t_az), np.max(ttsrc_i[0])])\n",
    "\n",
    "okdata = (t_data >= tmin) & (t_data <= tmax)\n",
    "t_data = t_data[okdata]\n",
    "data = data[okdata]\n",
    "\n",
    "okaz = (t_az >= tmin) & (t_az <= tmax)\n",
    "t_az = t_az[okaz]\n",
    "az = az[okaz]\n",
    "\n",
    "oksrc = (t_src >= tmin) & (t_src <= tmax)\n",
    "t_src = t_src[oksrc]\n",
    "data_src = data_src[oksrc]"
   ]
  },
  {
   "cell_type": "code",
   "execution_count": null,
   "id": "0b3c6c7b",
   "metadata": {},
   "outputs": [],
   "source": [
    "plot(t_data, (data-np.mean(data))/np.std(data),',',label='TES')\n",
    "plot(t_az, (az-np.mean(az))/np.std(az),',',label='Az')\n",
    "plot(t_src, (data_src-np.mean(data_src))/np.std(data_src)/5,',',label='CalSrc', alpha=0.3)\n",
    "legend()\n",
    "ylim(-3,3)"
   ]
  },
  {
   "cell_type": "markdown",
   "id": "deb50225",
   "metadata": {},
   "source": [
    "# Beam Measurement"
   ]
  },
  {
   "cell_type": "markdown",
   "id": "7ef1efd5",
   "metadata": {},
   "source": [
    "## First Method: RMS over a period\n",
    "This method is really a poorman's approach to demodulation but it has the advantage of being fast: we measure the RMS of the data for each epriod of the source signal and knowing the azimuth for each of these period we can plot the amplitude of the source as a function of azimuth. It has the advantage of naturally getting rid of the varying offset of the data. This method does not use the CalSrc signal, only its modulation frequency (0.333 Hz)\n",
    "\n",
    "We first need to measure the epriod of the signal:"
   ]
  },
  {
   "cell_type": "code",
   "execution_count": null,
   "id": "890d92fe",
   "metadata": {},
   "outputs": [],
   "source": [
    "FREQ_SAMPLING = 1./(t_data[1]-t_data[0])\n",
    "spectrum_f, freq_f = mlab.psd(data, Fs=FREQ_SAMPLING, NFFT=len(data), window=mlab.window_hanning)\n",
    "plot(freq_f, f.gaussian_filter1d(spectrum_f,2))\n",
    "yscale('log')\n",
    "xscale('log')\n",
    "xlim(0.2,0.45)\n",
    "freq_mod = 0.333\n",
    "plot([freq_mod, freq_mod], [1e6, 1e12])\n",
    "ylim(1e6, 1e12)"
   ]
  },
  {
   "cell_type": "markdown",
   "id": "a14dbf27",
   "metadata": {},
   "source": [
    "Now we go for the RMS per period analysis"
   ]
  },
  {
   "cell_type": "code",
   "execution_count": null,
   "id": "68b40427",
   "metadata": {},
   "outputs": [],
   "source": [
    "### Interpolate azimuth on the \n",
    "new_az = np.interp(t_data, t_az, az)\n",
    "\n",
    "### Period of the modulation in sec\n",
    "ppp = 1./freq_mod\n",
    "\n",
    "def return_rms_period(period, time, azimuth, data):\n",
    "    ### we label each data sample with a period\n",
    "    period_index = ((time-time[0])/period).astype(int)\n",
    "    ### We loop on periods to measure their respective amplitude and azimuth\n",
    "    allperiods = np.unique(period_index)\n",
    "    tper = np.zeros(len(allperiods))\n",
    "    azper = np.zeros(len(allperiods))\n",
    "    ampdata = np.zeros(len(allperiods))\n",
    "    err_ampdata = np.zeros(len(allperiods))\n",
    "    for i in xrange(len(allperiods)):\n",
    "        ok = (period_index == allperiods[i])\n",
    "        azper[i] = np.mean(azimuth[ok])\n",
    "        tper[i] = np.mean(time[ok])\n",
    "        ampdata[i] = np.std(data[ok])\n",
    "        err_ampdata[i] = np.std(data[ok])/np.sqrt(2*ok.sum())\n",
    "    return tper, azper, ampdata, err_ampdata\n",
    "\n",
    "tper, azper, ampdata, err_ampdata = return_rms_period(ppp, t_data, new_az, data)"
   ]
  },
  {
   "cell_type": "code",
   "execution_count": null,
   "id": "589409c9",
   "metadata": {},
   "outputs": [],
   "source": [
    "### Correct for cos(elevation) in order to get angles on the sky\n",
    "elevation = 50.\n",
    "angle = azper * np.cos(np.radians(elevation))\n",
    "\n",
    "def gauss(x,par):\n",
    "    return par[3]+par[2]*np.exp(-0.5 * (x-par[0])**2 / par[1]**2)\n",
    "\n",
    "thecut = 3500000\n",
    "okfit = (ampdata < thecut) & (err_ampdata > 0)\n",
    "\n",
    "### Guess for the peak location\n",
    "amprenorm = (ampdata-np.min(ampdata))\n",
    "amprenorm = amprenorm / np.sum(amprenorm)\n",
    "peak_guess = np.sum(azper * (amprenorm))\n",
    "\n",
    "reload(ft)\n",
    "guess = np.array([peak_guess, 1., np.max(ampdata)-np.min(ampdata), np.min(ampdata)])\n",
    "res = ft.do_minuit(angle[okfit], ampdata[okfit], err_ampdata[okfit], guess, \n",
    "                   functname=gauss, verbose=False,nohesse=True)\n",
    "\n",
    "xxx = np.linspace(np.min(angle), np.max(angle), 1000)\n",
    "\n",
    "rc('figure',figsize=(15,8))\n",
    "subplot(1,2,1)\n",
    "plot(tper,ampdata,'b')\n",
    "xlabel('Time')\n",
    "ylabel('RMS over a period')\n",
    "subplot(1,2,2)\n",
    "plot(angle,ampdata,'b.', label='Data')\n",
    "plot(xxx, gauss(xxx, res[1]),'r',lw=2, \n",
    "     label='FWHM = {0:5.2f} +/- {1:5.2f} deg.'.format(2.35*res[1][1], 2*35*res[2][1]))\n",
    "plot()\n",
    "xlabel('Azimuth')\n",
    "ylabel('RMS over a period')\n",
    "legend()\n",
    "tight_layout()"
   ]
  },
  {
   "cell_type": "markdown",
   "id": "4ded91ba",
   "metadata": {},
   "source": [
    "We now can loop on TES to get the result for the whole array"
   ]
  },
  {
   "cell_type": "code",
   "execution_count": null,
   "id": "8520064d",
   "metadata": {},
   "outputs": [],
   "source": [
    "allamps = np.zeros((256, len(angle)))\n",
    "allres = np.zeros((256,4))\n",
    "allerr = np.zeros((256,4))\n",
    "\n",
    "\n",
    "for AsicNum in [1,2]:\n",
    "    a = qp()\n",
    "    a.read_qubicstudio_dataset(thedir, asic=AsicNum)\n",
    "    for TESNum in np.arange(128)+1:\n",
    "        print(TESNum)\n",
    "        TESindex = (TESNum-1)+128*(AsicNum-1)\n",
    "        thedata = a.timeline(TES=TESNum)[okdata]\n",
    "        tper, azper, ampdata, err_ampdata = return_rms_period(ppp, t_data, new_az, thedata)\n",
    "        thecut = 3500000\n",
    "        okfit = (ampdata < thecut) & (err_ampdata > 0)\n",
    "        ### Guess for the peak location\n",
    "        amprenorm = (ampdata-np.min(ampdata))\n",
    "        amprenorm = amprenorm / np.sum(amprenorm)\n",
    "        peak_guess = np.sum(azper * (amprenorm))\n",
    "        guess = np.array([peak_guess, 1., np.max(ampdata)-np.min(ampdata), np.min(ampdata)])\n",
    "        res = ft.do_minuit(angle[okfit], ampdata[okfit], err_ampdata[okfit], guess, \n",
    "                       functname=gauss, verbose=False,nohesse=True, force_chi2_ndf=True)\n",
    "        allamps[TESindex,:] = ampdata\n",
    "        allres[TESindex,:] = res[1]\n",
    "        allerr[TESindex,:] = res[2]\n",
    "        "
   ]
  },
  {
   "cell_type": "code",
   "execution_count": null,
   "id": "3479757e",
   "metadata": {},
   "outputs": [],
   "source": [
    "subplot(1,2,1)\n",
    "hist(allres[:,1]*2.35, range=[0.,5], bins=10)\n",
    "title('FWHM')\n",
    "subplot(1,2,2)\n",
    "vals = np.zeros(256)+np.nan\n",
    "okfwhm = (np.abs(allres[:,1])*2.35 < 5) & ((allres[:,1]*2.35)<5)\n",
    "vals[okfwhm] = np.abs(allres[okfwhm,1]*2.35)\n",
    "imgfwhm = ft.image_asics(all1=vals)\n",
    "imshow(imgfwhm)\n",
    "title('FWHM')\n",
    "colorbar()\n",
    "tight_layout()"
   ]
  },
  {
   "cell_type": "code",
   "execution_count": null,
   "id": "61f6fd90",
   "metadata": {},
   "outputs": [],
   "source": [
    "TESNum =6\n",
    "plot(angle, allamps[TESNum-1,:],'.-')\n",
    "plot(xxx, gauss(xxx, allres[TESNum-1,:]),\n",
    "                label='FWHM = {0:5.2f} +/- {1:5.2f} deg.'.format(2.35*allres[TESNum,1], 2.35*allerr[TESNum,1]))\n",
    "legend()\n",
    "title('TES {}'.format(TESNum))"
   ]
  },
  {
   "cell_type": "code",
   "execution_count": null,
   "id": "bf2a5bdd",
   "metadata": {},
   "outputs": [],
   "source": [
    "rc('figure',figsize=(12,12))\n",
    "imshow(allamps,aspect='auto')"
   ]
  },
  {
   "cell_type": "code",
   "execution_count": null,
   "id": "20da5fc6",
   "metadata": {},
   "outputs": [],
   "source": [
    "nbins=150\n",
    "angfinalbins = min(angle)+(max(angle)-min(angle))*np.linspace(0,1,nbins+1)\n",
    "angfinal = np.zeros(nbins)\n",
    "ampfinal = np.zeros((256,nbins))\n",
    "for ites in xrange(256):\n",
    "    for i in xrange(nbins):\n",
    "        ok = (angle >= angfinalbins[i]) & (angle < angfinalbins[i+1])\n",
    "        angfinal[i] = 0.5 * (angfinalbins[i] + angfinalbins[i+1])\n",
    "        ampfinal[ites, i] = np.mean(allamps[ites,ok])\n",
    "\n",
    "rc('figure',figsize=(8,8))\n",
    "imshow(ampfinal,aspect='auto', extent=[np.min(angle), np.max(angle),1,256], vmin=0, vmax=50000)\n",
    "colorbar()"
   ]
  },
  {
   "cell_type": "code",
   "execution_count": null,
   "id": "cf218145",
   "metadata": {},
   "outputs": [],
   "source": [
    "bla = ((ampfinal.T-np.median(ampfinal, axis=1))/(np.max(ampfinal,axis=1)-np.min(ampfinal,axis=1))).T\n",
    "imshow(bla,aspect='auto', extent=[np.min(angle), np.max(angle),1,256],vmin=0,vmax=1)\n",
    "colorbar()\n",
    "xlabel('Sky Angle')\n",
    "ylabel('TES Number')\n",
    "title('Azimuth Scan Amplitude')"
   ]
  },
  {
   "cell_type": "markdown",
   "id": "5bdc3480",
   "metadata": {},
   "source": [
    "## Second Method: Demodulation"
   ]
  },
  {
   "cell_type": "code",
   "execution_count": null,
   "id": "3fd0d15a",
   "metadata": {},
   "outputs": [],
   "source": [
    "FREQ_SAMPLING = 1./(t_data[1]-t_data[0])\n",
    "spectrum_f, freq_f = mlab.psd(data, Fs=FREQ_SAMPLING, NFFT=len(data), window=mlab.window_hanning)\n",
    "plot(freq_f, f.gaussian_filter1d(spectrum_f,2))\n",
    "yscale('log')\n",
    "xscale('log')\n",
    "xlim(0.2,0.45)\n",
    "freq_mod = 0.333\n",
    "plot([freq_mod, freq_mod], [1e6, 1e12])\n",
    "ylim(1e6, 1e12)"
   ]
  },
  {
   "cell_type": "code",
   "execution_count": null,
   "id": "f939b12a",
   "metadata": {},
   "outputs": [],
   "source": [
    "def demodulate_and_rebin(time, data, t_az, az, t_src, src, lowcut, highcut, fmod, nbins, elevation):\n",
    "    import scipy.signal as scsig\n",
    "    \n",
    "    ### Filter Data and Source Signal the same way\n",
    "    FREQ_SAMPLING = 1./(time[1]-time[0])\n",
    "    filt = scsig.butter(5, [lowcut / FREQ_SAMPLING, highcut / FREQ_SAMPLING], btype='bandpass', output='sos')\n",
    "    # Filter Data and change its sign to be in the same as Src\n",
    "    new_data = -scsig.sosfilt(filt, data)\n",
    "    # Interpolate Src on data times and filter it\n",
    "    new_src = scsig.sosfilt(filt, np.interp(time, t_src, src))\n",
    "\n",
    "    # Make the product for demodulation\n",
    "    product = new_data * new_src / np.sum(new_src**2)\n",
    "\n",
    "    # Smooth it over a period\n",
    "    ppp = 1./fmod\n",
    "    size_period = int(FREQ_SAMPLING * ppp)+1\n",
    "    filter_period = np.ones((size_period,))/size_period\n",
    "    mov_av = np.convolve(product, filter_period, mode='same')\n",
    "    \n",
    "    # Rebin this demodulated data as a function of azimuth corrected for elevation\n",
    "    ang_bin, amp_bin, dang, damp = ft.profile(np.interp(time, t_az, az)*np.cos(np.radians(elevation)), \n",
    "                                              mov_av, nbins=nbins,\n",
    "                                              dispersion=True, plot=False, median=True)\n",
    "    \n",
    "    return ang_bin, amp_bin, dang, damp\n",
    "\n"
   ]
  },
  {
   "cell_type": "code",
   "execution_count": null,
   "id": "05c02006",
   "metadata": {},
   "outputs": [],
   "source": [
    "lowcut = 0.1\n",
    "highcut = 15.\n",
    "nbins = 100\n",
    "freq_mod = 0.333\n",
    "elevation = 50\n",
    "ang_bin, amp_bin, dang, damp = demodulate_and_rebin(t_data, data, t_az, az, t_src, data_src, \n",
    "                                                    lowcut, highcut, freq_mod, nbins, elevation)\n",
    "\n",
    "### Guess for the peak location\n",
    "amp_bin_renorm = (amp_bin-np.min(amp_bin))\n",
    "amp_bin_renorm = amp_bin_renorm / np.sum(amp_bin_renorm)\n",
    "peak_guess = np.sum(ang_bin * (amp_bin_renorm))\n",
    "amp_bin_renorm=0\n",
    "guess = np.array([peak_guess, 1., np.max(amp_bin)-np.min(amp_bin), np.min(amp_bin)])\n",
    "res = ft.do_minuit(ang_bin, amp_bin, damp, guess, \n",
    "               functname=gauss, verbose=False,nohesse=True, force_chi2_ndf=False)\n",
    "\n",
    "\n",
    "subplot(1,2,2)\n",
    "errorbar(ang_bin, amp_bin, yerr=damp,fmt='r.')\n",
    "xxx = np.linspace(np.min(ang_bin), np.max(ang_bin), 1000)\n",
    "plot(xxx, gauss(xxx, res[1]),'k-',\n",
    "                label='FWHM = {0:5.2f} +/- {1:5.2f} deg.'.format(2.35*res[1][1], 2.35*res[2][1]))\n",
    "legend()"
   ]
  },
  {
   "cell_type": "code",
   "execution_count": null,
   "id": "1a7921c2",
   "metadata": {},
   "outputs": [],
   "source": [
    "### On all TES\n",
    "\n",
    "lowcut = 0.1\n",
    "highcut = 15.\n",
    "nbins = 100\n",
    "freq_mod = 0.333\n",
    "elevation = 50\n",
    "\n",
    "allamps = np.zeros((256, nbins))\n",
    "allres = np.zeros((256,4))\n",
    "allerr = np.zeros((256,4))\n",
    "\n",
    "\n",
    "for AsicNum in [1,2]:\n",
    "    a = qp()\n",
    "    a.read_qubicstudio_dataset(thedir, asic=AsicNum)\n",
    "    for TESNum in np.arange(128)+1:\n",
    "        print(TESNum)\n",
    "        TESindex = (TESNum-1)+128*(AsicNum-1)\n",
    "        thedata = a.timeline(TES=TESNum)[okdata]\n",
    "        \n",
    "        ang_bin, amp_bin, dang, damp = demodulate_and_rebin(t_data, thedata, t_az, az, t_src, data_src, \n",
    "                                                    lowcut, highcut, freq_mod, nbins, elevation)\n",
    "        \n",
    "        thecut = 3500000\n",
    "        okfit = (amp_bin < thecut) & (damp > 0)\n",
    "        ### Guess for the peak location\n",
    "        amp_bin_renorm = (amp_bin-np.min(amp_bin))\n",
    "        amp_bin_renorm = amp_bin_renorm / np.sum(amp_bin_renorm)\n",
    "        peak_guess = np.sum(ang_bin * (amp_bin_renorm))\n",
    "        amp_bin_renorm=0\n",
    "        guess = np.array([peak_guess, 1., np.max(amp_bin)-np.min(amp_bin), np.min(amp_bin)])\n",
    "\n",
    "        res = ft.do_minuit(ang_bin[okfit], amp_bin[okfit], damp[okfit], guess, \n",
    "                       functname=gauss, verbose=False,nohesse=True, force_chi2_ndf=False)\n",
    "        allamps[TESindex,:] = amp_bin\n",
    "        allres[TESindex,:] = res[1]\n",
    "        allerr[TESindex,:] = res[2]\n",
    "        "
   ]
  },
  {
   "cell_type": "code",
   "execution_count": null,
   "id": "ca5b910f",
   "metadata": {},
   "outputs": [],
   "source": [
    "TESNum =7\n",
    "plot(ang_bin, allamps[TESNum-1,:],'.-')\n",
    "plot(xxx, gauss(xxx, allres[TESNum-1,:]),\n",
    "                label='FWHM = {0:5.2f} +/- {1:5.2f} deg.'.format(2.35*allres[TESNum,1], 2.35*allerr[TESNum,1]))\n",
    "legend()\n",
    "title('TES {}'.format(TESNum))"
   ]
  },
  {
   "cell_type": "code",
   "execution_count": null,
   "id": "efa039a7",
   "metadata": {},
   "outputs": [],
   "source": [
    "subplot(1,2,1)\n",
    "imshow(allamps,aspect='auto', extent=[np.min(ang_bin), np.max(ang_bin),1,256])\n",
    "colorbar()\n",
    "\n",
    "subplot(1,2,2)\n",
    "bla = ((ampfinal.T-np.median(ampfinal, axis=1))/(np.max(ampfinal,axis=1)-np.min(ampfinal,axis=1))).T\n",
    "imshow(bla,aspect='auto', extent=[np.min(angle), np.max(angle),1,256],vmin=0,vmax=1)\n",
    "colorbar()\n",
    "xlabel('Sky Angle')\n",
    "ylabel('TES Number')\n",
    "title('Azimuth Scan Amplitude')"
   ]
  },
  {
   "cell_type": "code",
   "execution_count": null,
   "id": "2c50d67a",
   "metadata": {},
   "outputs": [],
   "source": [
    "subplot(2,2,1)\n",
    "plot(np.abs(allres[:,0]), allerr[:,0],'k.')\n",
    "xscale('log')\n",
    "yscale('log')\n",
    "xlabel('Peak loc.')\n",
    "ylabel('Peal loc. Error')\n",
    "\n",
    "subplot(2,2,2)\n",
    "plot(np.abs(allres[:,1]*2.35), allerr[:,1]*2.35,'k.')\n",
    "xscale('log')\n",
    "yscale('log')\n",
    "xlabel('FWHM')\n",
    "ylabel('FWHM Error')\n",
    "\n",
    "subplot(2,2,3)\n",
    "plot(np.abs(allres[:,2]), allerr[:,2],'k.')\n",
    "xscale('log')\n",
    "yscale('log')\n",
    "xlabel('Amplitude')\n",
    "ylabel('Amplitude Error')\n",
    "\n",
    "subplot(2,2,4)\n",
    "plot(np.abs(allerr[:,2]/allres[:,2]),'k.')\n",
    "ylim(0,10)\n",
    "\n",
    "ratio_error = np.product(allerr/allres, axis=1)\n",
    "okfwhm = (ratio_error < 1) & ((allres[:,1]*2.35)<5)"
   ]
  },
  {
   "cell_type": "code",
   "execution_count": null,
   "id": "f1f8d3b7",
   "metadata": {},
   "outputs": [],
   "source": [
    "subplot(1,3,2)\n",
    "hist(allres[okfwhm,1]*2.35, range=[0.,5], bins=20)\n",
    "title('FWHM')\n",
    "subplot(1,3,3)\n",
    "vals = np.zeros(256)+np.nan\n",
    "vals[okfwhm] = np.abs(allres[okfwhm,1]*2.35)\n",
    "imgfwhm = ft.image_asics(all1=vals)\n",
    "imshow(imgfwhm)\n",
    "title('FWHM')\n",
    "colorbar()\n",
    "tight_layout()"
   ]
  },
  {
   "cell_type": "code",
   "execution_count": null,
   "id": "aeb485e2",
   "metadata": {},
   "outputs": [],
   "source": []
  }
 ],
 "metadata": {
  "kernelspec": {
   "display_name": "Python 2",
   "language": "python",
   "name": "python2"
  }
 },
 "nbformat": 4,
 "nbformat_minor": 5
}
