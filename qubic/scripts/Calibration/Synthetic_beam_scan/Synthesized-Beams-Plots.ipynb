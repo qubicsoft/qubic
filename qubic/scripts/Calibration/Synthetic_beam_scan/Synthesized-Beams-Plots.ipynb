{
 "cells": [
  {
   "cell_type": "markdown",
   "id": "eb00bc49",
   "metadata": {},
   "source": [
    "# Comparing Ideal and NUI Synthesized Beams\n",
    "## JCH - Feb. 2024"
   ]
  },
  {
   "cell_type": "code",
   "execution_count": null,
   "id": "332d5bd4",
   "metadata": {},
   "outputs": [],
   "source": [
    "%config InlineBackend.figure_format='retina'\n",
    "from IPython.display import display, HTML\n",
    "display(HTML(\"<style>.container { width:95% !important; }</style>\"))\n",
    "\n",
    "\n",
    "import importlib\n",
    "import healpy as hp\n",
    "import qubic\n",
    "from importlib import reload\n",
    "\n",
    "rc('figure',figsize=(20,10))\n",
    "rc('font',size=15)\n",
    "\n",
    "\n",
    "### QUBIC Instrument instanciation\n",
    "ns = 1024\n",
    "d = qubic.qubicdict.qubicDict()\n",
    "d.read_from_file('/Users/hamilton/Python/GitQubicMousset/qubic/qubic/dicts/global_source_oneDet.dict')\n",
    "d['nside']=ns\n",
    "q = qubic.QubicInstrument(d)\n",
    "s = qubic.QubicScene(d)"
   ]
  },
  {
   "cell_type": "markdown",
   "id": "7365cf11",
   "metadata": {},
   "source": [
    "## Ideal Synthesized beam\n",
    "There is a direct function to get the synthesized beam in the QUBIC library: `get_synthbeam()` from the class `QubicInstrument`."
   ]
  },
  {
   "cell_type": "code",
   "execution_count": null,
   "id": "46c3ce40",
   "metadata": {},
   "outputs": [],
   "source": [
    "# idet = 64 ### This detector is on the edge of the focal plane\n",
    "idet = 231 ### This detector is near the center of the focal plane\n",
    "sb = q.get_synthbeam(s,idet)\n",
    "hp.gnomview(sb/np.max(sb), rot=[0,90], reso=10, min=0, max=1,sub=(1,2,1), title='Theory TES #{}'.format(idet))\n",
    "hp.gnomview(10*np.log10(sb/np.max(sb)), rot=[0,90], reso=10, min=-40, max=0, unit='dB',sub=(1,2,2), title='Theory TES #{} [decibels]'.format(idet))\n",
    "print(np.shape(sb))"
   ]
  },
  {
   "cell_type": "markdown",
   "id": "6ee53825",
   "metadata": {},
   "source": [
    "## Beam from NUI calculations\n",
    "We have files with the phase and amplitude on the focal plane originating from each horn. They are obtained using Physical Optics simulations by Maynooth team (rather odl files... maybe there are more recent ones)."
   ]
  },
  {
   "cell_type": "code",
   "execution_count": null,
   "id": "125afcd4",
   "metadata": {},
   "outputs": [],
   "source": [
    "\n",
    "import glob\n",
    "rep = '/Users/hamilton/Qubic/SynthBeam/NewSimsMaynooth/QUBIC Basic/'\n",
    "files = glob.glob(rep+'*.dat')\n",
    "\n",
    "nn = 161\n",
    "xmin = -60./1000\n",
    "xmax = 60./1000\n",
    "ymin = -60./1000\n",
    "ymax = 60./1000\n",
    "xx = np.linspace(-60,60,nn)/1000\n",
    "yy = np.linspace(-60,60,nn)/1000\n",
    "nbhorns = len(q.horn)\n",
    "allampX = np.zeros((nbhorns,nn,nn))\n",
    "allphiX = np.zeros((nbhorns,nn,nn))\n",
    "allampY = np.zeros((nbhorns,nn,nn))\n",
    "allphiY = np.zeros((nbhorns,nn,nn))\n",
    "#### Read the files\n",
    "bar = qubic.progress_bar(nbhorns)\n",
    "for i in range(nbhorns):\n",
    "    bar.update()\n",
    "    data = np.loadtxt(rep+'x{0:02d}y{1:02d}.dat'.format(q.horn.row[i]-1, q.horn.column[i]-1), skiprows=4)\n",
    "    if i==0:\n",
    "        print(np.shape(data))\n",
    "    allampX[i,:,:] = np.reshape(data[:,0],(nn,nn))\n",
    "    allphiX[i,:,:] = np.reshape(data[:,1],(nn,nn))\n",
    "    allampY[i,:,:] = np.reshape(data[:,2],(nn,nn))\n",
    "    allphiY[i,:,:] = np.reshape(data[:,3],(nn,nn))\n",
    "external_A = [xx, yy, allampX, allampY, allphiX, allphiY]\n",
    "\n",
    "horn_num = 0\n",
    "subplot(2,2,1)\n",
    "imshow(allampX[horn_num,:,:], \n",
    "       extent=[np.min(xx), np.max(xx), np.min(yy), np.max(yy)], \n",
    "       origin='lower', vmin=0, vmax=1)\n",
    "xlabel('Xgrf [m]')\n",
    "xlabel('Ygrf [m]')\n",
    "title('Amplitude X')\n",
    "colorbar()\n",
    "\n",
    "subplot(2,2,2)\n",
    "imshow(allampY[horn_num,:,:], \n",
    "       extent=[np.min(xx), np.max(xx), np.min(yy), np.max(yy)], \n",
    "       origin='lower', vmin=0, vmax=1)\n",
    "xlabel('Xgrf [m]')\n",
    "xlabel('Ygrf [m]')\n",
    "title('Amplitude Y')\n",
    "colorbar()\n",
    "\n",
    "\n",
    "subplot(2,2,3)\n",
    "imshow(allphiX[horn_num,:,:], \n",
    "       extent=[np.min(xx), np.max(xx), np.min(yy), np.max(yy)], \n",
    "       origin='lower', vmin=-np.pi, vmax=np.pi)\n",
    "xlabel('Xgrf [m]')\n",
    "xlabel('Ygrf [m]')\n",
    "title('Phase X')\n",
    "colorbar()\n",
    "\n",
    "\n",
    "subplot(2,2,4)\n",
    "imshow(allphiY[horn_num,:,:], \n",
    "       extent=[np.min(xx), np.max(xx), np.min(yy), np.max(yy)], \n",
    "       origin='lower', vmin=-np.pi, vmax=np.pi)\n",
    "xlabel('Xgrf [m]')\n",
    "xlabel('Ygrf [m]')\n",
    "title('Phase Y')\n",
    "colorbar()\n",
    "\n",
    "tight_layout()"
   ]
  },
  {
   "cell_type": "markdown",
   "id": "118905e4",
   "metadata": {},
   "source": [
    "We use the same `get_synthbeam()` function, but adding the `external_A` data from Maynooth."
   ]
  },
  {
   "cell_type": "code",
   "execution_count": null,
   "id": "7bb971e5",
   "metadata": {},
   "outputs": [],
   "source": [
    "\n",
    "sb_nui = q.get_synthbeam(s, idet, external_A=external_A)\n",
    "figure()\n",
    "hp.gnomview(sb_nui/np.max(sb_nui), rot=[0,90], \n",
    "        reso=10, min=0, max=1, title='Nui Beam - Detector #{}'.format(idet), sub=(1,2,1))\n",
    "hp.gnomview(10*np.log10(sb_nui/np.max(sb_nui)), rot=[0,90], \n",
    "        reso=10, min=-40, max=0, unit='dB', title='NUI Beam - Detector #{}'.format(idet), sub=(1,2,2))\n"
   ]
  },
  {
   "cell_type": "markdown",
   "id": "468fd831",
   "metadata": {},
   "source": [
    "## Comparing Window functions"
   ]
  },
  {
   "cell_type": "code",
   "execution_count": null,
   "id": "38dcef4e",
   "metadata": {},
   "outputs": [],
   "source": [
    "wf = hp.anafast(sb/np.max(sb), lmax=512)\n",
    "wf_nui = hp.anafast(sb_nui / np.max(sb_nui), lmax=512)\n",
    "ell = np.arange(len(wf))+2\n",
    "\n",
    "subplot(1,2,1)\n",
    "plot(ell, wf, label='Ideal beam')\n",
    "plot(ell, wf_nui, label='NUI Beam')\n",
    "#yscale('log')\n",
    "xlabel('$\\ell$')\n",
    "ylabel('$W_\\ell$')\n",
    "legend()\n",
    "\n",
    "subplot(1,2,2)\n",
    "plot(ell, wf/wf_nui, label=r'$\\frac{W_\\ell^{Ideal}}{W_\\ell^{NUI}}$')\n",
    "xlabel('$\\ell$')\n",
    "ylabel('Ratio')\n",
    "axhline(y=1, color='k', ls='--')\n",
    "legend()\n",
    "ylim(0,1.5)"
   ]
  },
  {
   "cell_type": "code",
   "execution_count": null,
   "id": "75a62ea3",
   "metadata": {},
   "outputs": [],
   "source": []
  }
 ],
 "metadata": {
  "kernelspec": {
   "display_name": "Python 3 (ipykernel)",
   "language": "python",
   "name": "python3"
  }
 },
 "nbformat": 4,
 "nbformat_minor": 5
}
