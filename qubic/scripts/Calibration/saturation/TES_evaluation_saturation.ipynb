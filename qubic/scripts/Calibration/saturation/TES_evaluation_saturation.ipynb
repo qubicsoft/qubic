{
 "cells": [
  {
   "cell_type": "code",
   "execution_count": null,
   "id": "c16858d3",
   "metadata": {},
   "outputs": [],
   "source": [
    "%matplotlib inline\n",
    "import matplotlib as plt\n",
    "#%matplotlib inline\n",
    "from matplotlib import rc\n",
    "rc('figure',figsize=(9,4.5))\n",
    "rc('font',size=12)\n",
    "rc('text',usetex=False)\n",
    "import matplotlib.mlab as mlab\n",
    "from matplotlib.pyplot import *\n",
    "\n",
    "import sys,os\n",
    "import glob\n",
    "import string\n",
    "import datetime as dt\n",
    "import pickle\n",
    "from importlib import reload\n",
    "\n",
    "import numpy as np\n",
    "\n",
    "import scipy.ndimage.filters as f\n",
    "import scipy.signal as scsig\n",
    "from scipy import interpolate\n",
    "\n",
    "import qubic\n",
    "from qubicpack.demodulate import fold_data as qp_fold_data\n",
    "from qubic import fibtools as ft\n",
    "from qubicpack.qubicfp import qubicfp\n",
    "from qubicpack.pix2tes import *\n",
    "from qubicpack.pixel_translation import *\n",
    "import qubic.plotters as p\n",
    "import qubic.lin_lib as ll\n",
    "from qubicpack import demodulate\n",
    "from qubic import demodulation_lib as dl\n",
    "from qubicpack.utilities import Qubic_DataDir\n",
    "from qubic.utils import progress_bar\n",
    "\n",
    "from pysimulators import FitsArray"
   ]
  },
  {
   "cell_type": "code",
   "execution_count": null,
   "id": "9b4be556",
   "metadata": {},
   "outputs": [],
   "source": [
    "day = '2022-08-18'\n",
    "data_dir = '/sps/qubic/Data/Calib-TD/'+day+'/'\n",
    "words = ['bandpass']\n",
    "keywords = ['*{}*'.format(word) for word in words]\n",
    "for keyword in keywords:\n",
    "    dirs = np.sort(glob.glob(data_dir+keyword))\n",
    "    print(dirs)"
   ]
  },
  {
   "cell_type": "code",
   "execution_count": null,
   "id": "ef68f98c",
   "metadata": {},
   "outputs": [],
   "source": [
    "def saturation(todarray): \n",
    "    ok = np.ones(256,dtype=bool)\n",
    "    maxis = np.max(abs(todarray), axis=1)\n",
    "    upper_satval = np.max(maxis)\n",
    "    lower_satval = -np.max(maxis)\n",
    "    badtes = (maxis == np.max(maxis))\n",
    "    number = badtes.sum() #number of TES saturated in every measurement\n",
    "    bad_idx = np.array(np.where(badtes==True)) #index of the TES saturated\n",
    "    bad_idx = np.reshape(bad_idx, (bad_idx.shape[1]))\n",
    "\n",
    "    frac_sat_pertes = np.zeros((256))\n",
    "    size = todarray.shape[1]\n",
    "\n",
    "    for i in range(len(todarray)): \n",
    "        mask1 = todarray[i] == upper_satval\n",
    "        mask2 = todarray[i] == lower_satval\n",
    "        frac = (np.sum(mask1)+np.sum(mask2))/size\n",
    "        frac_sat_pertes[i] = frac\n",
    "    \n",
    "        if frac_sat_pertes[i] ==0:\n",
    "            ok[i] = True #good, no saturated\n",
    "        elif frac_sat_pertes[i] >0.1:\n",
    "            ok[i] = False #bad, saturated more than 10%\n",
    "        else: \n",
    "            ok[i] = True #good, saturated but less than 10%\n",
    "    return ok, bad_idx, frac_sat_pertes, number"
   ]
  },
  {
   "cell_type": "code",
   "execution_count": null,
   "id": "3900049b",
   "metadata": {},
   "outputs": [],
   "source": [
    "def flag(ok,todarray): \n",
    "    size = 5\n",
    "    flags = np.zeros((256,len(timeaxis)))\n",
    "    maxis = np.max(abs(todarray), axis=1)\n",
    "    for i in range(256):\n",
    "        tod = todarray[i]\n",
    "        flag = flags[i]\n",
    "        for j in range(len(tod)):\n",
    "            if abs(tod[j]) == np.max(maxis): \n",
    "                flag[j-size:j+size]=1\n",
    "    return flags"
   ]
  },
  {
   "cell_type": "code",
   "execution_count": null,
   "id": "875209be",
   "metadata": {},
   "outputs": [],
   "source": [
    "for ifile in range(len(dirs)):\n",
    "    print(ifile)\n",
    "    thedir = dirs[ifile]\n",
    "    print('================', thedir,)\n",
    "    locals()['qfp_{}'.format(ifile)] = qubicfp()\n",
    "    locals()['qfp_{}'.format(ifile)].read_qubicstudio_dataset(thedir)\n",
    "    locals()['tod_{}'.format(ifile)] = locals()['qfp_{}'.format(ifile)].tod()"
   ]
  },
  {
   "cell_type": "code",
   "execution_count": null,
   "id": "57ba408b",
   "metadata": {},
   "outputs": [],
   "source": [
    "for ifile in range(len(dirs)):\n",
    "    print(ifile)\n",
    "    timeaxis = locals()['tod_{}'.format(ifile)][0]\n",
    "    locals()['todarray_{}'.format(ifile)] = locals()['tod_{}'.format(ifile)][1]\n",
    "    locals()['ok_{}'.format(ifile)], locals()['bad_idx_{}'.format(ifile)], locals()['frac_sat_pertes_{}'.format(ifile)], locals()['num_{}'.format(ifile)] = saturation(locals()['todarray_{}'.format(ifile)])\n",
    "    locals()['flags_{}'.format(ifile)] = flag(locals()['ok_{}'.format(ifile)], locals()['todarray_{}'.format(ifile)])\n"
   ]
  },
  {
   "cell_type": "code",
   "execution_count": null,
   "id": "643d84d4",
   "metadata": {},
   "outputs": [],
   "source": [
    "count_good = np.zeros(256)\n",
    "for i in range(len(dirs)): \n",
    "    print('medicion {}'.format(i))\n",
    "    a = locals()['ok_{}'.format(i)]\n",
    "    for j in range(256): \n",
    "        valor = a[j]\n",
    "        if valor==True: \n",
    "            count_good[j] += 1\n"
   ]
  },
  {
   "cell_type": "code",
   "execution_count": null,
   "id": "678262be",
   "metadata": {},
   "outputs": [],
   "source": [
    "count_good"
   ]
  },
  {
   "cell_type": "code",
   "execution_count": null,
   "id": "f26f05a3",
   "metadata": {},
   "outputs": [],
   "source": [
    "count_bad = np.zeros(256)\n",
    "for i in range(len(dirs)): \n",
    "    print('medicion {}'.format(i))\n",
    "    a = locals()['ok_{}'.format(i)]\n",
    "    for j in range(256): \n",
    "        valor = a[j]\n",
    "        if valor==False: \n",
    "            count_bad[j] += 1\n"
   ]
  },
  {
   "cell_type": "code",
   "execution_count": null,
   "id": "daf4327a",
   "metadata": {},
   "outputs": [],
   "source": [
    "count_bad"
   ]
  },
  {
   "cell_type": "code",
   "execution_count": null,
   "id": "b93ef73f",
   "metadata": {},
   "outputs": [],
   "source": [
    "%matplotlib inline"
   ]
  },
  {
   "cell_type": "code",
   "execution_count": null,
   "id": "017697b2",
   "metadata": {},
   "outputs": [],
   "source": [
    "tes = np.arange(256)"
   ]
  },
  {
   "cell_type": "code",
   "execution_count": null,
   "id": "4d5317c2",
   "metadata": {},
   "outputs": [],
   "source": [
    "plt.hist(tes, bins=256, weights = count_good)\n",
    "plt.xlabel('TES number')\n",
    "plt.ylabel('Number of times TES is evaluated as GOOD')\n",
    "plt.title('Histogram of saturation with 61 measurements')"
   ]
  },
  {
   "cell_type": "code",
   "execution_count": null,
   "id": "c1bb9020",
   "metadata": {},
   "outputs": [],
   "source": []
  },
  {
   "cell_type": "code",
   "execution_count": null,
   "id": "3836c35d",
   "metadata": {},
   "outputs": [],
   "source": []
  },
  {
   "cell_type": "code",
   "execution_count": null,
   "id": "3e8fb9e8",
   "metadata": {},
   "outputs": [],
   "source": []
  },
  {
   "cell_type": "code",
   "execution_count": null,
   "id": "c211235c",
   "metadata": {},
   "outputs": [],
   "source": [
    "#we have an array of flags for every measurement (61) with size (256,nsamples)\n",
    "np.shape(flags_0)"
   ]
  },
  {
   "cell_type": "code",
   "execution_count": null,
   "id": "f9b282fc",
   "metadata": {},
   "outputs": [],
   "source": [
    "fig, ax=plt.subplots(ncols = 1, nrows= 1)\n",
    "ax.plot(timeaxis-timeaxis[0], flags_0[224], '.', label='flags')\n",
    "ax.set_xlabel('time')\n",
    "ax.set_ylabel('flag')\n",
    "ax2=ax.twinx()\n",
    "ax2.plot(timeaxis-timeaxis[0], todarray_0[224], 'r', label='tod')\n",
    "ax2.set_ylabel('tod')\n",
    "#plt.title('TES 12')\n",
    "#plt.legend()\n",
    "ax.legend()\n",
    "ax2.legend()\n",
    "plt.title('TES 225 18/08 120GHz')"
   ]
  },
  {
   "cell_type": "code",
   "execution_count": null,
   "id": "c0c3911b",
   "metadata": {},
   "outputs": [],
   "source": [
    "from qubic.TES_evaluation import *"
   ]
  },
  {
   "cell_type": "code",
   "execution_count": null,
   "id": "be25859b",
   "metadata": {},
   "outputs": [],
   "source": [
    "for ifile in range(len(dirs1)):\n",
    "    print(ifile)\n",
    "    thedir = dirs1[ifile]\n",
    "    dataset = thedir[36:]\n",
    "    oklist = locals()['ok_{}'.format(i)]\n",
    "    write_goodbad(oklist,\n",
    "              analyser=\"Belen Costanza\",\n",
    "              analysis=\"Saturation\",\n",
    "              dataset=dataset,\n",
    "              wikipage='http://qubic.in2p3.fr/wiki/pmwiki.php/DataAnalysis/SaturationResults',\n",
    "              elog='no elog')"
   ]
  }
 ],
 "metadata": {
  "kernelspec": {
   "display_name": "QUBIC with Python 3.8",
   "language": "python",
   "name": "python-3.8"
  }
 },
 "nbformat": 4,
 "nbformat_minor": 5
}
