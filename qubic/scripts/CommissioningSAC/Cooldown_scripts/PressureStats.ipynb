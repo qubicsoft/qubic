{
 "cells": [
  {
   "cell_type": "code",
   "execution_count": null,
   "id": "4bcc3044",
   "metadata": {},
   "outputs": [],
   "source": [
    "import datetime as dt"
   ]
  },
  {
   "cell_type": "code",
   "execution_count": null,
   "id": "11a76a8c",
   "metadata": {},
   "outputs": [],
   "source": [
    "t, P = np.loadtxt('/Users/hamilton/Downloads/PRESSURE1.txt', comments='\\x00').T\n",
    "plot(t,P)\n",
    "yscale('log')\n",
    "time = np.array([dt.datetime.fromtimestamp(t[i]) for i in range(len(t))])\n"
   ]
  },
  {
   "cell_type": "code",
   "execution_count": null,
   "id": "d64cc207",
   "metadata": {},
   "outputs": [],
   "source": [
    "ok = t > 1.7127e9\n",
    "t = t[ok]\n",
    "P = P[ok]\n",
    "time = time[ok]"
   ]
  },
  {
   "cell_type": "code",
   "execution_count": null,
   "id": "fa64f812",
   "metadata": {},
   "outputs": [],
   "source": [
    "plot(time,P)\n",
    "yscale('log')"
   ]
  },
  {
   "cell_type": "code",
   "execution_count": null,
   "id": "0c5f184d",
   "metadata": {},
   "outputs": [],
   "source": [
    "dP_dt = np.gradient(P, t)\n",
    "plot(t, dP_dt)\n",
    "xlabel('Date')\n",
    "ylabel('dP/dt [mBars/sec]')\n",
    "ylim(-1e-4, 1e-4)"
   ]
  },
  {
   "cell_type": "code",
   "execution_count": null,
   "id": "0aeb579f",
   "metadata": {},
   "outputs": [],
   "source": [
    "# This code is from ChatGPT ;-)\n",
    "from scipy.signal import find_peaks, find_peaks_cwt\n",
    "def detect_pressure_rises(t, P, threshold, min_region_length):\n",
    "    # Calculate the time derivative of pressure\n",
    "    dP_dt = np.gradient(P, t)\n",
    "\n",
    "    # Find peaks in the derivative array\n",
    "    peaks, _ = find_peaks(dP_dt, height=threshold, distance=min_region_length)\n",
    "\n",
    "    # Initialize regions list\n",
    "    regions = []\n",
    "\n",
    "    # Find rising segments starting from the peaks\n",
    "    for peak_idx in peaks:\n",
    "        # Find the end of the rising segment\n",
    "        end_idx = peak_idx + 1\n",
    "        while end_idx < len(dP_dt) and dP_dt[end_idx] > 0:\n",
    "            end_idx += 1\n",
    "        \n",
    "        # Add the rising segment to the regions list if it exceeds min_region_length\n",
    "        if t[end_idx - 1] - t[peak_idx] >= min_region_length:\n",
    "            regions.append((peak_idx, end_idx - 1))\n",
    "\n",
    "    # Convert indices to time intervals\n",
    "    time_regions = [(t[start], t[end]) for start, end in regions]\n",
    "\n",
    "    return time_regions\n",
    "\n"
   ]
  },
  {
   "cell_type": "code",
   "execution_count": null,
   "id": "f192b969",
   "metadata": {},
   "outputs": [],
   "source": [
    "from scipy.ndimage import gaussian_filter1d\n",
    "\n",
    "threshold = 3e-5\n",
    "min_length = 10\n",
    "\n",
    "kernel = 100\n",
    "\n",
    "regions = detect_pressure_rises(t, gaussian_filter1d(P, kernel), threshold, min_length)\n",
    "print(\"Regions where pressure rises more than the threshold:\")\n",
    "# for region in regions:\n",
    "#     print(f\"Start: {region[0]}, End: {region[1]}, Duration: {region[1]-region[0]}\")\n",
    "    \n",
    "\n",
    "\n",
    "subplot(2,1,1)\n",
    "plot(t-t[0], dP_dt)\n",
    "axhline(y=threshold,ls='--', color='k')\n",
    "xlabel('Date')\n",
    "ylabel('dP/dt [mBars/sec]')\n",
    "ylim(-1e-4, 1e-4)\n",
    "for r in regions:\n",
    "    axvline(x=r[0]-t[0], color='r', alpha=0.3)\n",
    "    axvline(x=r[1]-t[0], color='g', alpha=0.3)\n",
    "\n",
    "xlim(50000, 60000)\n",
    "\n",
    "subplot(2,1,2)\n",
    "plot(t-t[0], P)\n",
    "xlabel('Date')\n",
    "ylabel('P [mBars]')\n",
    "for r in regions:\n",
    "    axvline(x=r[0]-t[0], color='r', alpha=0.3)\n",
    "    axvline(x=r[1]-t[0], color='g', alpha=0.3)\n",
    "yscale('log')\n",
    "tight_layout()\n"
   ]
  },
  {
   "cell_type": "code",
   "execution_count": null,
   "id": "c17b8d60",
   "metadata": {},
   "outputs": [],
   "source": [
    "tinit = np.zeros(len(regions))\n",
    "meanderivative = np.zeros(len(regions))\n",
    "for r,i in zip(regions, arange(len(regions))):\n",
    "    this = (t >= r[0]) & (t <= r[1])\n",
    "    meanderivative[i] = np.mean(np.gradient(P[this], t[this]))\n",
    "    tinit[i] = t[this][0]\n",
    "    plot(t[this]-r[0], P[this])\n",
    "yscale('log')"
   ]
  },
  {
   "cell_type": "code",
   "execution_count": null,
   "id": "fcfde0be",
   "metadata": {},
   "outputs": [],
   "source": [
    "fig, ax = plt.subplots(1)\n",
    "fig.autofmt_xdate()\n",
    "\n",
    "dateinit = np.array([dt.datetime.fromtimestamp(tinit[i]) for i in range(len(tinit))])\n",
    "plot(dateinit, meanderivative, 'ro-')\n",
    "yscale('log')\n",
    "ylabel('Pressure increase mBars/sec')\n",
    "\n",
    "tight_layout()"
   ]
  },
  {
   "cell_type": "code",
   "execution_count": null,
   "id": "87dab915",
   "metadata": {},
   "outputs": [],
   "source": []
  }
 ],
 "metadata": {
  "kernelspec": {
   "display_name": "Python 3 (ipykernel)",
   "language": "python",
   "name": "python3"
  }
 },
 "nbformat": 4,
 "nbformat_minor": 5
}
