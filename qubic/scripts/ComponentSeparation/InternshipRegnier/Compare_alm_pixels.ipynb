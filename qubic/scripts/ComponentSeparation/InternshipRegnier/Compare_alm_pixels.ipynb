{
 "cells": [
  {
   "cell_type": "code",
   "execution_count": 1,
   "id": "collectible-repeat",
   "metadata": {},
   "outputs": [],
   "source": [
    "import pysm3\n",
    "import pysm3.units as u\n",
    "import numpy as np\n",
    "import numpy.ma as ma\n",
    "import healpy as hp\n",
    "import pickle\n",
    "import matplotlib.pyplot as plt\n",
    "from matplotlib.ticker import FuncFormatter\n",
    "import pickle\n",
    "import qubic\n",
    "import os\n",
    "from astropy.io import fits\n",
    "from qubic import camb_interface as qc\n",
    "import fgbuster as fgb\n",
    "from qubicpack.utilities import Qubic_DataDir\n",
    "from qubic import QubicSkySim as qss\n",
    "from qubic import fibtools as ft\n",
    "from qubic import camb_interface as qc\n",
    "from qubic import SpectroImLib as si\n",
    "from importlib import reload\n",
    "from qubic import NamasterLib as nam\n",
    "from comp_tools import format_alms, same_resolution\n",
    "from fgbuster import get_instrument, get_sky, get_observation, ilc, basic_comp_sep, harmonic_ilc, weighted_comp_sep, multi_res_comp_sep, harmonic_ilc_alm  # Predefined instrumental and sky-creation configurations\n",
    "# Imports needed for component separation\n",
    "from fgbuster import (separation_recipes, xForecast, CMB, Dust, Synchrotron, FreeFree, PowerLaw,  # sky-fitting model\n",
    "                      basic_comp_sep)\n",
    "import ComponentSeparation"
   ]
  },
  {
   "cell_type": "code",
   "execution_count": 2,
   "id": "dominican-aircraft",
   "metadata": {},
   "outputs": [],
   "source": [
    "### Some initializations, to be replaced with specific path, or to modify in bash\n",
    "os.environ['QUBIC_DATADIR'] = '/home/mathias/Bureau/qubic/qubic'\n",
    "os.environ['QUBIC_DICT'] = '/home/mathias/Bureau/qubic/qubic/dicts'\n",
    "global_dir = Qubic_DataDir(datafile='instrument.py', datadir=os.environ['QUBIC_DATADIR'])\n",
    "\n",
    "### Qubic dictionaries for 150GHz and 220Ghz\n",
    "config_150, config_220 = 'FI-150', 'FI-220'\n",
    "dictfilename150 = global_dir + '/doc/FastSimulator/FastSimDemo_{}.dict'.format(config_150)\n",
    "dictfilename220 = global_dir + '/doc/FastSimulator/FastSimDemo_{}.dict'.format(config_220)\n",
    "d150, d220 = qubic.qubicdict.qubicDict(), qubic.qubicdict.qubicDict()\n",
    "d150.read_from_file(dictfilename150)\n",
    "d220.read_from_file(dictfilename220)\n",
    "qub_dic = {'150': d150, '220': d220}\n",
    "center = qubic.equ2gal(d220['RA_center'], d220['DEC_center'])\n",
    "\n",
    "\n",
    "# Read dictionary chosen\n",
    "d150['focal_length'] = 0.3\n",
    "d150['nside'] = 256\n",
    "\n",
    "#Define the number of reconstruction bands:\n",
    "nbands = 5\n",
    "d150['nf_recon'] = nbands\n",
    "d150['nf_sub'] = nbands\n",
    "\n",
    "# Read dictionary chosen\n",
    "d220['focal_length'] = 0.3\n",
    "d220['nside'] = 256\n",
    "\n",
    "#Define the number of reconstruction bands:\n",
    "d220['nf_recon'] = nbands\n",
    "d220['nf_sub'] = nbands\n",
    "\n",
    "npix = 12 * d150['nside'] ** 2\n",
    "Nf = int(d150['nf_sub'])\n",
    "band = d150['filter_nu'] / 1e9\n",
    "filter_relative_bandwidth = d150['filter_relative_bandwidth']\n",
    "npix = 12 * d220['nside'] ** 2\n",
    "Nf = int(d220['nf_sub'])\n",
    "band = d220['filter_nu'] / 1e9\n",
    "filter_relative_bandwidth = d220['filter_relative_bandwidth']\n",
    "a, nus_edge, nus_in, df, e, Nbbands_in = qubic.compute_freq(band, Nf, filter_relative_bandwidth)\n",
    "\n",
    "def give_me_freqs_fwhm(dic, Nb) :\n",
    "    band = dic['filter_nu'] / 1e9\n",
    "    filter_relative_bandwidth = dic['filter_relative_bandwidth']\n",
    "    a, nus_edge, nus_in, df, e, Nbbands_in = qubic.compute_freq(band, Nb, filter_relative_bandwidth)\n",
    "    return nus_in, dic['synthbeam_peak150_fwhm'] * 150 / nus_in\n",
    "\n",
    "\n",
    "def open_picklefile(directory, name, var) :\n",
    "\n",
    "    \"\"\"\n",
    "    Open a pickle file from saved data\n",
    "    \"\"\"\n",
    "\n",
    "    tab = pickle.load(open(directory + name, 'rb'))\n",
    "    variable = tab[var]\n",
    "    return variable\n",
    "\n",
    "cov150 = open_picklefile('/home/mathias/Bureau/FG-Buster/', 'Coverage_dtheta_15_pointing_3000_256.pkl', 'coverage')\n",
    "\n",
    "\n",
    "def give_me_mask_apo(okpix = None, lmin = 2, lmax = 512, delta_ell = 16) :\n",
    "    mask = np.zeros(12 * d150['nside']**2)\n",
    "    mask[okpix] = 1\n",
    "    # Namaster object\n",
    "    Namaster = nam.Namaster(mask, lmin=2, lmax=512, delta_ell=16)\n",
    "    apo = Namaster.mask_apo\n",
    "    return apo\n",
    "\n",
    "# Define okpix\n",
    "okpix_inside = (cov150 > (0.4*np.max(cov150)))\n",
    "okpix = (cov150 > (0.1*np.max(cov150)))\n",
    "\n",
    "apo = give_me_mask_apo(okpix = okpix)\n",
    "\n",
    "okpix_fullsky = np.ones(12*d150['nside']**2)"
   ]
  },
  {
   "cell_type": "code",
   "execution_count": null,
   "id": "sized-calvin",
   "metadata": {},
   "outputs": [],
   "source": []
  },
  {
   "cell_type": "code",
   "execution_count": null,
   "id": "according-jacksonville",
   "metadata": {},
   "outputs": [],
   "source": []
  },
  {
   "cell_type": "code",
   "execution_count": 3,
   "id": "affiliated-lafayette",
   "metadata": {},
   "outputs": [
    {
     "name": "stderr",
     "output_type": "stream",
     "text": [
      "/home/mathias/miniconda3/envs/qubic_env/lib/python3.7/site-packages/healpy/projaxes.py:907: MatplotlibDeprecationWarning: You are modifying the state of a globally registered colormap. This has been deprecated since 3.3 and in 3.6, you will not be able to modify a registered colormap in-place. To remove this warning, you can make a copy of the colormap first. cmap = mpl.cm.get_cmap(\"viridis\").copy()\n",
      "  newcm.set_over(newcm(1.0))\n",
      "/home/mathias/miniconda3/envs/qubic_env/lib/python3.7/site-packages/healpy/projaxes.py:908: MatplotlibDeprecationWarning: You are modifying the state of a globally registered colormap. This has been deprecated since 3.3 and in 3.6, you will not be able to modify a registered colormap in-place. To remove this warning, you can make a copy of the colormap first. cmap = mpl.cm.get_cmap(\"viridis\").copy()\n",
      "  newcm.set_under(bgcolor)\n",
      "/home/mathias/miniconda3/envs/qubic_env/lib/python3.7/site-packages/healpy/projaxes.py:909: MatplotlibDeprecationWarning: You are modifying the state of a globally registered colormap. This has been deprecated since 3.3 and in 3.6, you will not be able to modify a registered colormap in-place. To remove this warning, you can make a copy of the colormap first. cmap = mpl.cm.get_cmap(\"viridis\").copy()\n",
      "  newcm.set_bad(badcolor)\n",
      "/home/mathias/miniconda3/envs/qubic_env/lib/python3.7/site-packages/healpy/projaxes.py:209: MatplotlibDeprecationWarning: Passing parameters norm and vmin/vmax simultaneously is deprecated since 3.3 and will become an error two minor releases later. Please pass vmin/vmax directly to the norm when creating it.\n",
      "  **kwds\n"
     ]
    },
    {
     "data": {
      "image/png": "[encoded data removed]",
      "text/plain": [
       "<Figure size 1152x720 with 6 Axes>"
      ]
     },
     "metadata": {
      "needs_background": "light"
     },
     "output_type": "display_data"
    }
   ],
   "source": [
    "okpix_fullsky = np.ones(12*d150['nside']**2)\n",
    "okpix_fullsky = okpix_fullsky != 0\n",
    "okpix = cov150 != 0\n",
    "okpix_inside = (cov150 > (0.5*np.max(cov150)))\n",
    "nbands = 5\n",
    "d150['nf_recon'] = nbands\n",
    "d150['nf_sub'] = 4*nbands\n",
    "d220['nf_recon'] = nbands\n",
    "d220['nf_sub'] = 4*nbands\n",
    "\n",
    "plt.figure(figsize = (16, 10))\n",
    "hp.mollview(okpix_fullsky, sub = (1, 3, 1), min = 0, max = 1)\n",
    "hp.mollview(okpix, sub = (1, 3, 2), min = 0, max = 1)\n",
    "hp.mollview(okpix_inside, sub = (1, 3, 3), min = 0, max = 1)\n",
    "plt.show()"
   ]
  },
  {
   "cell_type": "code",
   "execution_count": 7,
   "id": "colonial-machinery",
   "metadata": {
    "scrolled": false
   },
   "outputs": [
    {
     "name": "stderr",
     "output_type": "stream",
     "text": [
      "/home/mathias/miniconda3/envs/qubic_env/lib/python3.7/site-packages/healpy/fitsfunc.py:187: FutureWarning: The default dtype of write_map() will change in a future version: explicitly set the dtype if it is important to you\n",
      "  category=FutureWarning)\n",
      "/home/mathias/miniconda3/envs/qubic_env/lib/python3.7/site-packages/pysm3/utils/data.py:37: UserWarning: Access data from /tmp/fRrIukhy8A\n",
      "  warnings.warn(f\"Access data from {full_path}\")\n",
      "/home/mathias/miniconda3/envs/qubic_env/lib/python3.7/site-packages/pysm3/utils/data.py:42: UserWarning: Retrieve data for pysm_2/dust_t_new.fits (if not cached already)\n",
      "  warnings.warn(f\"Retrieve data for {filename} (if not cached already)\")\n",
      "/home/mathias/miniconda3/envs/qubic_env/lib/python3.7/site-packages/pysm3/utils/data.py:42: UserWarning: Retrieve data for pysm_2/dust_q_new.fits (if not cached already)\n",
      "  warnings.warn(f\"Retrieve data for {filename} (if not cached already)\")\n",
      "/home/mathias/miniconda3/envs/qubic_env/lib/python3.7/site-packages/pysm3/utils/data.py:42: UserWarning: Retrieve data for pysm_2/dust_u_new.fits (if not cached already)\n",
      "  warnings.warn(f\"Retrieve data for {filename} (if not cached already)\")\n"
     ]
    },
    {
     "name": "stdout",
     "output_type": "stream",
     "text": [
      "<_io.BufferedReader name='/home/mathias/miniconda3/envs/qubic_env/lib/python3.7/site-packages/qubic/data/FastSimulator_version01/DataFastSimulator_FI150_nfsub_5.pkl'>\n"
     ]
    },
    {
     "name": "stderr",
     "output_type": "stream",
     "text": [
      "/home/mathias/Bureau/FG-Buster/ComponentSeparation.py:648: UserWarning: Pandas doesn't allow columns to be created via a new attribute name - see https://pandas.pydata.org/pandas-docs/stable/indexing.html#attribute-access\n",
      "  ins.frequency = freqs\n",
      "/home/mathias/Bureau/FG-Buster/ComponentSeparation.py:649: UserWarning: Pandas doesn't allow columns to be created via a new attribute name - see https://pandas.pydata.org/pandas-docs/stable/indexing.html#attribute-access\n",
      "  ins.fwhm = fwhmdegs\n",
      "/home/mathias/Bureau/FG-Buster/ComponentSeparation.py:653: UserWarning: Pandas doesn't allow columns to be created via a new attribute name - see https://pandas.pydata.org/pandas-docs/stable/indexing.html#attribute-access\n",
      "  ins.depth_i = give_me_rms_I(N[:, :, okpix], self.nside)\n",
      "/home/mathias/Bureau/FG-Buster/ComponentSeparation.py:654: UserWarning: Pandas doesn't allow columns to be created via a new attribute name - see https://pandas.pydata.org/pandas-docs/stable/indexing.html#attribute-access\n",
      "  ins.depth_p = give_me_rms_I(N[:, :, okpix], self.nside)*np.sqrt(2)\n"
     ]
    },
    {
     "name": "stdout",
     "output_type": "stream",
     "text": [
      "Minimization started\n"
     ]
    },
    {
     "name": "stderr",
     "output_type": "stream",
     "text": [
      "/home/mathias/miniconda3/envs/qubic_env/lib/python3.7/site-packages/healpy/fitsfunc.py:187: FutureWarning: The default dtype of write_map() will change in a future version: explicitly set the dtype if it is important to you\n",
      "  category=FutureWarning)\n",
      "/home/mathias/miniconda3/envs/qubic_env/lib/python3.7/site-packages/pysm3/utils/data.py:37: UserWarning: Access data from /tmp/GWlOmkbwpp\n",
      "  warnings.warn(f\"Access data from {full_path}\")\n",
      "/home/mathias/miniconda3/envs/qubic_env/lib/python3.7/site-packages/pysm3/utils/data.py:42: UserWarning: Retrieve data for pysm_2/dust_t_new.fits (if not cached already)\n",
      "  warnings.warn(f\"Retrieve data for {filename} (if not cached already)\")\n",
      "/home/mathias/miniconda3/envs/qubic_env/lib/python3.7/site-packages/pysm3/utils/data.py:42: UserWarning: Retrieve data for pysm_2/dust_q_new.fits (if not cached already)\n",
      "  warnings.warn(f\"Retrieve data for {filename} (if not cached already)\")\n",
      "/home/mathias/miniconda3/envs/qubic_env/lib/python3.7/site-packages/pysm3/utils/data.py:42: UserWarning: Retrieve data for pysm_2/dust_u_new.fits (if not cached already)\n",
      "  warnings.warn(f\"Retrieve data for {filename} (if not cached already)\")\n"
     ]
    },
    {
     "name": "stdout",
     "output_type": "stream",
     "text": [
      "<_io.BufferedReader name='/home/mathias/miniconda3/envs/qubic_env/lib/python3.7/site-packages/qubic/data/FastSimulator_version01/DataFastSimulator_FI150_nfsub_5.pkl'>\n"
     ]
    },
    {
     "name": "stderr",
     "output_type": "stream",
     "text": [
      "/home/mathias/Bureau/FG-Buster/ComponentSeparation.py:648: UserWarning: Pandas doesn't allow columns to be created via a new attribute name - see https://pandas.pydata.org/pandas-docs/stable/indexing.html#attribute-access\n",
      "  ins.frequency = freqs\n",
      "/home/mathias/Bureau/FG-Buster/ComponentSeparation.py:649: UserWarning: Pandas doesn't allow columns to be created via a new attribute name - see https://pandas.pydata.org/pandas-docs/stable/indexing.html#attribute-access\n",
      "  ins.fwhm = fwhmdegs\n",
      "/home/mathias/Bureau/FG-Buster/ComponentSeparation.py:653: UserWarning: Pandas doesn't allow columns to be created via a new attribute name - see https://pandas.pydata.org/pandas-docs/stable/indexing.html#attribute-access\n",
      "  ins.depth_i = give_me_rms_I(N[:, :, okpix], self.nside)\n",
      "/home/mathias/Bureau/FG-Buster/ComponentSeparation.py:654: UserWarning: Pandas doesn't allow columns to be created via a new attribute name - see https://pandas.pydata.org/pandas-docs/stable/indexing.html#attribute-access\n",
      "  ins.depth_p = give_me_rms_I(N[:, :, okpix], self.nside)*np.sqrt(2)\n"
     ]
    },
    {
     "name": "stdout",
     "output_type": "stream",
     "text": [
      "Minimization started\n",
      "[1.55638334 1.55395231]\n",
      "1.555167824832346\n",
      "0.0012155167034838543\n"
     ]
    }
   ],
   "source": [
    "reload(ComponentSeparation)\n",
    "N = 2\n",
    "method = 'alms'\n",
    "\n",
    "beta_fs_noapo_150 = np.zeros(N)\n",
    "\n",
    "for i in range(N) :\n",
    "\n",
    "    r_alms_fs_noapo_150, _, _ = ComponentSeparation.Apply(d150).do_comparison_pixels_alms(d150, \n",
    "                                                                   nbands, \n",
    "                                                                   3, \n",
    "                                                                   okpix_fullsky, \n",
    "                                                                   seed = None,\n",
    "                                                                   map1 = None, \n",
    "                                                                   map_noise = None, \n",
    "                                                                   do_apo = False, \n",
    "                                                                   noiseless = False, \n",
    "                                                                   method = method, \n",
    "                                                                   dust_only = False)\n",
    "    \n",
    "    beta_fs_noapo_150[i] = r_alms_fs_noapo_150.x[0]\n",
    "    \n",
    "print(beta_fs_noapo_150)\n",
    "print(np.mean(beta_fs_noapo_150))\n",
    "print(np.std(beta_fs_noapo_150))"
   ]
  },
  {
   "cell_type": "code",
   "execution_count": 14,
   "id": "victorian-delight",
   "metadata": {
    "scrolled": true
   },
   "outputs": [
    {
     "name": "stderr",
     "output_type": "stream",
     "text": [
      "/home/mathias/miniconda3/envs/qubic_env/lib/python3.7/site-packages/healpy/fitsfunc.py:187: FutureWarning: The default dtype of write_map() will change in a future version: explicitly set the dtype if it is important to you\n",
      "  category=FutureWarning)\n",
      "/home/mathias/miniconda3/envs/qubic_env/lib/python3.7/site-packages/pysm3/utils/data.py:37: UserWarning: Access data from /tmp/AkP2nWEoxI\n",
      "  warnings.warn(f\"Access data from {full_path}\")\n",
      "/home/mathias/miniconda3/envs/qubic_env/lib/python3.7/site-packages/pysm3/utils/data.py:42: UserWarning: Retrieve data for pysm_2/dust_t_new.fits (if not cached already)\n",
      "  warnings.warn(f\"Retrieve data for {filename} (if not cached already)\")\n",
      "/home/mathias/miniconda3/envs/qubic_env/lib/python3.7/site-packages/pysm3/utils/data.py:42: UserWarning: Retrieve data for pysm_2/dust_q_new.fits (if not cached already)\n",
      "  warnings.warn(f\"Retrieve data for {filename} (if not cached already)\")\n",
      "/home/mathias/miniconda3/envs/qubic_env/lib/python3.7/site-packages/pysm3/utils/data.py:42: UserWarning: Retrieve data for pysm_2/dust_u_new.fits (if not cached already)\n",
      "  warnings.warn(f\"Retrieve data for {filename} (if not cached already)\")\n"
     ]
    },
    {
     "name": "stdout",
     "output_type": "stream",
     "text": [
      "<_io.BufferedReader name='/home/mathias/miniconda3/envs/qubic_env/lib/python3.7/site-packages/qubic/data/FastSimulator_version01/DataFastSimulator_FI150_nfsub_5.pkl'>\n"
     ]
    },
    {
     "name": "stderr",
     "output_type": "stream",
     "text": [
      "/home/mathias/Bureau/FG-Buster/ComponentSeparation.py:648: UserWarning: Pandas doesn't allow columns to be created via a new attribute name - see https://pandas.pydata.org/pandas-docs/stable/indexing.html#attribute-access\n",
      "  ins.frequency = freqs\n",
      "/home/mathias/Bureau/FG-Buster/ComponentSeparation.py:649: UserWarning: Pandas doesn't allow columns to be created via a new attribute name - see https://pandas.pydata.org/pandas-docs/stable/indexing.html#attribute-access\n",
      "  ins.fwhm = fwhmdegs\n",
      "/home/mathias/Bureau/FG-Buster/ComponentSeparation.py:653: UserWarning: Pandas doesn't allow columns to be created via a new attribute name - see https://pandas.pydata.org/pandas-docs/stable/indexing.html#attribute-access\n",
      "  ins.depth_i = give_me_rms_I(N[:, :, okpix], self.nside)\n",
      "/home/mathias/Bureau/FG-Buster/ComponentSeparation.py:654: UserWarning: Pandas doesn't allow columns to be created via a new attribute name - see https://pandas.pydata.org/pandas-docs/stable/indexing.html#attribute-access\n",
      "  ins.depth_p = give_me_rms_I(N[:, :, okpix], self.nside)*np.sqrt(2)\n"
     ]
    },
    {
     "name": "stdout",
     "output_type": "stream",
     "text": [
      "Minimization started\n"
     ]
    },
    {
     "name": "stderr",
     "output_type": "stream",
     "text": [
      "/home/mathias/miniconda3/envs/qubic_env/lib/python3.7/site-packages/healpy/fitsfunc.py:187: FutureWarning: The default dtype of write_map() will change in a future version: explicitly set the dtype if it is important to you\n",
      "  category=FutureWarning)\n",
      "/home/mathias/miniconda3/envs/qubic_env/lib/python3.7/site-packages/pysm3/utils/data.py:37: UserWarning: Access data from /tmp/i2c26R2bc1\n",
      "  warnings.warn(f\"Access data from {full_path}\")\n",
      "/home/mathias/miniconda3/envs/qubic_env/lib/python3.7/site-packages/pysm3/utils/data.py:42: UserWarning: Retrieve data for pysm_2/dust_t_new.fits (if not cached already)\n",
      "  warnings.warn(f\"Retrieve data for {filename} (if not cached already)\")\n",
      "/home/mathias/miniconda3/envs/qubic_env/lib/python3.7/site-packages/pysm3/utils/data.py:42: UserWarning: Retrieve data for pysm_2/dust_q_new.fits (if not cached already)\n",
      "  warnings.warn(f\"Retrieve data for {filename} (if not cached already)\")\n",
      "/home/mathias/miniconda3/envs/qubic_env/lib/python3.7/site-packages/pysm3/utils/data.py:42: UserWarning: Retrieve data for pysm_2/dust_u_new.fits (if not cached already)\n",
      "  warnings.warn(f\"Retrieve data for {filename} (if not cached already)\")\n"
     ]
    },
    {
     "name": "stdout",
     "output_type": "stream",
     "text": [
      "<_io.BufferedReader name='/home/mathias/miniconda3/envs/qubic_env/lib/python3.7/site-packages/qubic/data/FastSimulator_version01/DataFastSimulator_FI220_nfsub_5.pkl'>\n"
     ]
    },
    {
     "name": "stderr",
     "output_type": "stream",
     "text": [
      "/home/mathias/Bureau/FG-Buster/ComponentSeparation.py:648: UserWarning: Pandas doesn't allow columns to be created via a new attribute name - see https://pandas.pydata.org/pandas-docs/stable/indexing.html#attribute-access\n",
      "  ins.frequency = freqs\n",
      "/home/mathias/Bureau/FG-Buster/ComponentSeparation.py:649: UserWarning: Pandas doesn't allow columns to be created via a new attribute name - see https://pandas.pydata.org/pandas-docs/stable/indexing.html#attribute-access\n",
      "  ins.fwhm = fwhmdegs\n",
      "/home/mathias/Bureau/FG-Buster/ComponentSeparation.py:653: UserWarning: Pandas doesn't allow columns to be created via a new attribute name - see https://pandas.pydata.org/pandas-docs/stable/indexing.html#attribute-access\n",
      "  ins.depth_i = give_me_rms_I(N[:, :, okpix], self.nside)\n",
      "/home/mathias/Bureau/FG-Buster/ComponentSeparation.py:654: UserWarning: Pandas doesn't allow columns to be created via a new attribute name - see https://pandas.pydata.org/pandas-docs/stable/indexing.html#attribute-access\n",
      "  ins.depth_p = give_me_rms_I(N[:, :, okpix], self.nside)*np.sqrt(2)\n"
     ]
    },
    {
     "name": "stdout",
     "output_type": "stream",
     "text": [
      "Minimization started\n"
     ]
    },
    {
     "name": "stderr",
     "output_type": "stream",
     "text": [
      "/home/mathias/miniconda3/envs/qubic_env/lib/python3.7/site-packages/healpy/fitsfunc.py:187: FutureWarning: The default dtype of write_map() will change in a future version: explicitly set the dtype if it is important to you\n",
      "  category=FutureWarning)\n",
      "/home/mathias/miniconda3/envs/qubic_env/lib/python3.7/site-packages/pysm3/utils/data.py:37: UserWarning: Access data from /tmp/uYHgTGsLHU\n",
      "  warnings.warn(f\"Access data from {full_path}\")\n",
      "/home/mathias/miniconda3/envs/qubic_env/lib/python3.7/site-packages/pysm3/utils/data.py:42: UserWarning: Retrieve data for pysm_2/dust_t_new.fits (if not cached already)\n",
      "  warnings.warn(f\"Retrieve data for {filename} (if not cached already)\")\n",
      "/home/mathias/miniconda3/envs/qubic_env/lib/python3.7/site-packages/pysm3/utils/data.py:42: UserWarning: Retrieve data for pysm_2/dust_q_new.fits (if not cached already)\n",
      "  warnings.warn(f\"Retrieve data for {filename} (if not cached already)\")\n",
      "/home/mathias/miniconda3/envs/qubic_env/lib/python3.7/site-packages/pysm3/utils/data.py:42: UserWarning: Retrieve data for pysm_2/dust_u_new.fits (if not cached already)\n",
      "  warnings.warn(f\"Retrieve data for {filename} (if not cached already)\")\n"
     ]
    },
    {
     "name": "stdout",
     "output_type": "stream",
     "text": [
      "<_io.BufferedReader name='/home/mathias/miniconda3/envs/qubic_env/lib/python3.7/site-packages/qubic/data/FastSimulator_version01/DataFastSimulator_FI150_nfsub_5.pkl'>\n"
     ]
    },
    {
     "name": "stderr",
     "output_type": "stream",
     "text": [
      "/home/mathias/Bureau/FG-Buster/ComponentSeparation.py:648: UserWarning: Pandas doesn't allow columns to be created via a new attribute name - see https://pandas.pydata.org/pandas-docs/stable/indexing.html#attribute-access\n",
      "  ins.frequency = freqs\n",
      "/home/mathias/Bureau/FG-Buster/ComponentSeparation.py:649: UserWarning: Pandas doesn't allow columns to be created via a new attribute name - see https://pandas.pydata.org/pandas-docs/stable/indexing.html#attribute-access\n",
      "  ins.fwhm = fwhmdegs\n",
      "/home/mathias/Bureau/FG-Buster/ComponentSeparation.py:653: UserWarning: Pandas doesn't allow columns to be created via a new attribute name - see https://pandas.pydata.org/pandas-docs/stable/indexing.html#attribute-access\n",
      "  ins.depth_i = give_me_rms_I(N[:, :, okpix], self.nside)\n",
      "/home/mathias/Bureau/FG-Buster/ComponentSeparation.py:654: UserWarning: Pandas doesn't allow columns to be created via a new attribute name - see https://pandas.pydata.org/pandas-docs/stable/indexing.html#attribute-access\n",
      "  ins.depth_p = give_me_rms_I(N[:, :, okpix], self.nside)*np.sqrt(2)\n"
     ]
    },
    {
     "name": "stdout",
     "output_type": "stream",
     "text": [
      "Minimization started\n"
     ]
    },
    {
     "name": "stderr",
     "output_type": "stream",
     "text": [
      "/home/mathias/miniconda3/envs/qubic_env/lib/python3.7/site-packages/healpy/fitsfunc.py:187: FutureWarning: The default dtype of write_map() will change in a future version: explicitly set the dtype if it is important to you\n",
      "  category=FutureWarning)\n",
      "/home/mathias/miniconda3/envs/qubic_env/lib/python3.7/site-packages/pysm3/utils/data.py:37: UserWarning: Access data from /tmp/JcaZbeE1hL\n",
      "  warnings.warn(f\"Access data from {full_path}\")\n",
      "/home/mathias/miniconda3/envs/qubic_env/lib/python3.7/site-packages/pysm3/utils/data.py:42: UserWarning: Retrieve data for pysm_2/dust_t_new.fits (if not cached already)\n",
      "  warnings.warn(f\"Retrieve data for {filename} (if not cached already)\")\n",
      "/home/mathias/miniconda3/envs/qubic_env/lib/python3.7/site-packages/pysm3/utils/data.py:42: UserWarning: Retrieve data for pysm_2/dust_q_new.fits (if not cached already)\n",
      "  warnings.warn(f\"Retrieve data for {filename} (if not cached already)\")\n",
      "/home/mathias/miniconda3/envs/qubic_env/lib/python3.7/site-packages/pysm3/utils/data.py:42: UserWarning: Retrieve data for pysm_2/dust_u_new.fits (if not cached already)\n",
      "  warnings.warn(f\"Retrieve data for {filename} (if not cached already)\")\n"
     ]
    },
    {
     "name": "stdout",
     "output_type": "stream",
     "text": [
      "<_io.BufferedReader name='/home/mathias/miniconda3/envs/qubic_env/lib/python3.7/site-packages/qubic/data/FastSimulator_version01/DataFastSimulator_FI220_nfsub_5.pkl'>\n"
     ]
    },
    {
     "name": "stderr",
     "output_type": "stream",
     "text": [
      "/home/mathias/Bureau/FG-Buster/ComponentSeparation.py:648: UserWarning: Pandas doesn't allow columns to be created via a new attribute name - see https://pandas.pydata.org/pandas-docs/stable/indexing.html#attribute-access\n",
      "  ins.frequency = freqs\n",
      "/home/mathias/Bureau/FG-Buster/ComponentSeparation.py:649: UserWarning: Pandas doesn't allow columns to be created via a new attribute name - see https://pandas.pydata.org/pandas-docs/stable/indexing.html#attribute-access\n",
      "  ins.fwhm = fwhmdegs\n",
      "/home/mathias/Bureau/FG-Buster/ComponentSeparation.py:653: UserWarning: Pandas doesn't allow columns to be created via a new attribute name - see https://pandas.pydata.org/pandas-docs/stable/indexing.html#attribute-access\n",
      "  ins.depth_i = give_me_rms_I(N[:, :, okpix], self.nside)\n",
      "/home/mathias/Bureau/FG-Buster/ComponentSeparation.py:654: UserWarning: Pandas doesn't allow columns to be created via a new attribute name - see https://pandas.pydata.org/pandas-docs/stable/indexing.html#attribute-access\n",
      "  ins.depth_p = give_me_rms_I(N[:, :, okpix], self.nside)*np.sqrt(2)\n"
     ]
    },
    {
     "name": "stdout",
     "output_type": "stream",
     "text": [
      "Minimization started\n"
     ]
    },
    {
     "name": "stderr",
     "output_type": "stream",
     "text": [
      "/home/mathias/miniconda3/envs/qubic_env/lib/python3.7/site-packages/healpy/fitsfunc.py:187: FutureWarning: The default dtype of write_map() will change in a future version: explicitly set the dtype if it is important to you\n",
      "  category=FutureWarning)\n",
      "/home/mathias/miniconda3/envs/qubic_env/lib/python3.7/site-packages/pysm3/utils/data.py:37: UserWarning: Access data from /tmp/o3s1CFKAHX\n",
      "  warnings.warn(f\"Access data from {full_path}\")\n",
      "/home/mathias/miniconda3/envs/qubic_env/lib/python3.7/site-packages/pysm3/utils/data.py:42: UserWarning: Retrieve data for pysm_2/dust_t_new.fits (if not cached already)\n",
      "  warnings.warn(f\"Retrieve data for {filename} (if not cached already)\")\n",
      "/home/mathias/miniconda3/envs/qubic_env/lib/python3.7/site-packages/pysm3/utils/data.py:42: UserWarning: Retrieve data for pysm_2/dust_q_new.fits (if not cached already)\n",
      "  warnings.warn(f\"Retrieve data for {filename} (if not cached already)\")\n",
      "/home/mathias/miniconda3/envs/qubic_env/lib/python3.7/site-packages/pysm3/utils/data.py:42: UserWarning: Retrieve data for pysm_2/dust_u_new.fits (if not cached already)\n",
      "  warnings.warn(f\"Retrieve data for {filename} (if not cached already)\")\n"
     ]
    },
    {
     "name": "stdout",
     "output_type": "stream",
     "text": [
      "<_io.BufferedReader name='/home/mathias/miniconda3/envs/qubic_env/lib/python3.7/site-packages/qubic/data/FastSimulator_version01/DataFastSimulator_FI150_nfsub_5.pkl'>\n"
     ]
    },
    {
     "name": "stderr",
     "output_type": "stream",
     "text": [
      "/home/mathias/Bureau/FG-Buster/ComponentSeparation.py:648: UserWarning: Pandas doesn't allow columns to be created via a new attribute name - see https://pandas.pydata.org/pandas-docs/stable/indexing.html#attribute-access\n",
      "  ins.frequency = freqs\n",
      "/home/mathias/Bureau/FG-Buster/ComponentSeparation.py:649: UserWarning: Pandas doesn't allow columns to be created via a new attribute name - see https://pandas.pydata.org/pandas-docs/stable/indexing.html#attribute-access\n",
      "  ins.fwhm = fwhmdegs\n",
      "/home/mathias/Bureau/FG-Buster/ComponentSeparation.py:653: UserWarning: Pandas doesn't allow columns to be created via a new attribute name - see https://pandas.pydata.org/pandas-docs/stable/indexing.html#attribute-access\n",
      "  ins.depth_i = give_me_rms_I(N[:, :, okpix], self.nside)\n",
      "/home/mathias/Bureau/FG-Buster/ComponentSeparation.py:654: UserWarning: Pandas doesn't allow columns to be created via a new attribute name - see https://pandas.pydata.org/pandas-docs/stable/indexing.html#attribute-access\n",
      "  ins.depth_p = give_me_rms_I(N[:, :, okpix], self.nside)*np.sqrt(2)\n"
     ]
    },
    {
     "name": "stdout",
     "output_type": "stream",
     "text": [
      "Minimization started\n"
     ]
    },
    {
     "name": "stderr",
     "output_type": "stream",
     "text": [
      "/home/mathias/miniconda3/envs/qubic_env/lib/python3.7/site-packages/healpy/fitsfunc.py:187: FutureWarning: The default dtype of write_map() will change in a future version: explicitly set the dtype if it is important to you\n",
      "  category=FutureWarning)\n",
      "/home/mathias/miniconda3/envs/qubic_env/lib/python3.7/site-packages/pysm3/utils/data.py:37: UserWarning: Access data from /tmp/vY6gQkuvue\n",
      "  warnings.warn(f\"Access data from {full_path}\")\n",
      "/home/mathias/miniconda3/envs/qubic_env/lib/python3.7/site-packages/pysm3/utils/data.py:42: UserWarning: Retrieve data for pysm_2/dust_t_new.fits (if not cached already)\n",
      "  warnings.warn(f\"Retrieve data for {filename} (if not cached already)\")\n",
      "/home/mathias/miniconda3/envs/qubic_env/lib/python3.7/site-packages/pysm3/utils/data.py:42: UserWarning: Retrieve data for pysm_2/dust_q_new.fits (if not cached already)\n",
      "  warnings.warn(f\"Retrieve data for {filename} (if not cached already)\")\n",
      "/home/mathias/miniconda3/envs/qubic_env/lib/python3.7/site-packages/pysm3/utils/data.py:42: UserWarning: Retrieve data for pysm_2/dust_u_new.fits (if not cached already)\n",
      "  warnings.warn(f\"Retrieve data for {filename} (if not cached already)\")\n"
     ]
    },
    {
     "name": "stdout",
     "output_type": "stream",
     "text": [
      "<_io.BufferedReader name='/home/mathias/miniconda3/envs/qubic_env/lib/python3.7/site-packages/qubic/data/FastSimulator_version01/DataFastSimulator_FI220_nfsub_5.pkl'>\n"
     ]
    },
    {
     "name": "stderr",
     "output_type": "stream",
     "text": [
      "/home/mathias/Bureau/FG-Buster/ComponentSeparation.py:648: UserWarning: Pandas doesn't allow columns to be created via a new attribute name - see https://pandas.pydata.org/pandas-docs/stable/indexing.html#attribute-access\n",
      "  ins.frequency = freqs\n",
      "/home/mathias/Bureau/FG-Buster/ComponentSeparation.py:649: UserWarning: Pandas doesn't allow columns to be created via a new attribute name - see https://pandas.pydata.org/pandas-docs/stable/indexing.html#attribute-access\n",
      "  ins.fwhm = fwhmdegs\n",
      "/home/mathias/Bureau/FG-Buster/ComponentSeparation.py:653: UserWarning: Pandas doesn't allow columns to be created via a new attribute name - see https://pandas.pydata.org/pandas-docs/stable/indexing.html#attribute-access\n",
      "  ins.depth_i = give_me_rms_I(N[:, :, okpix], self.nside)\n",
      "/home/mathias/Bureau/FG-Buster/ComponentSeparation.py:654: UserWarning: Pandas doesn't allow columns to be created via a new attribute name - see https://pandas.pydata.org/pandas-docs/stable/indexing.html#attribute-access\n",
      "  ins.depth_p = give_me_rms_I(N[:, :, okpix], self.nside)*np.sqrt(2)\n"
     ]
    },
    {
     "name": "stdout",
     "output_type": "stream",
     "text": [
      "Minimization started\n"
     ]
    },
    {
     "name": "stderr",
     "output_type": "stream",
     "text": [
      "/home/mathias/miniconda3/envs/qubic_env/lib/python3.7/site-packages/healpy/fitsfunc.py:187: FutureWarning: The default dtype of write_map() will change in a future version: explicitly set the dtype if it is important to you\n",
      "  category=FutureWarning)\n",
      "/home/mathias/miniconda3/envs/qubic_env/lib/python3.7/site-packages/pysm3/utils/data.py:37: UserWarning: Access data from /tmp/HLN4ilU9pa\n",
      "  warnings.warn(f\"Access data from {full_path}\")\n",
      "/home/mathias/miniconda3/envs/qubic_env/lib/python3.7/site-packages/pysm3/utils/data.py:42: UserWarning: Retrieve data for pysm_2/dust_t_new.fits (if not cached already)\n",
      "  warnings.warn(f\"Retrieve data for {filename} (if not cached already)\")\n",
      "/home/mathias/miniconda3/envs/qubic_env/lib/python3.7/site-packages/pysm3/utils/data.py:42: UserWarning: Retrieve data for pysm_2/dust_q_new.fits (if not cached already)\n",
      "  warnings.warn(f\"Retrieve data for {filename} (if not cached already)\")\n",
      "/home/mathias/miniconda3/envs/qubic_env/lib/python3.7/site-packages/pysm3/utils/data.py:42: UserWarning: Retrieve data for pysm_2/dust_u_new.fits (if not cached already)\n",
      "  warnings.warn(f\"Retrieve data for {filename} (if not cached already)\")\n"
     ]
    },
    {
     "name": "stdout",
     "output_type": "stream",
     "text": [
      "<_io.BufferedReader name='/home/mathias/miniconda3/envs/qubic_env/lib/python3.7/site-packages/qubic/data/FastSimulator_version01/DataFastSimulator_FI150_nfsub_5.pkl'>\n"
     ]
    },
    {
     "name": "stderr",
     "output_type": "stream",
     "text": [
      "/home/mathias/Bureau/FG-Buster/ComponentSeparation.py:648: UserWarning: Pandas doesn't allow columns to be created via a new attribute name - see https://pandas.pydata.org/pandas-docs/stable/indexing.html#attribute-access\n",
      "  ins.frequency = freqs\n",
      "/home/mathias/Bureau/FG-Buster/ComponentSeparation.py:649: UserWarning: Pandas doesn't allow columns to be created via a new attribute name - see https://pandas.pydata.org/pandas-docs/stable/indexing.html#attribute-access\n",
      "  ins.fwhm = fwhmdegs\n",
      "/home/mathias/Bureau/FG-Buster/ComponentSeparation.py:653: UserWarning: Pandas doesn't allow columns to be created via a new attribute name - see https://pandas.pydata.org/pandas-docs/stable/indexing.html#attribute-access\n",
      "  ins.depth_i = give_me_rms_I(N[:, :, okpix], self.nside)\n",
      "/home/mathias/Bureau/FG-Buster/ComponentSeparation.py:654: UserWarning: Pandas doesn't allow columns to be created via a new attribute name - see https://pandas.pydata.org/pandas-docs/stable/indexing.html#attribute-access\n",
      "  ins.depth_p = give_me_rms_I(N[:, :, okpix], self.nside)*np.sqrt(2)\n"
     ]
    },
    {
     "name": "stdout",
     "output_type": "stream",
     "text": [
      "Minimization started\n"
     ]
    },
    {
     "name": "stderr",
     "output_type": "stream",
     "text": [
      "/home/mathias/miniconda3/envs/qubic_env/lib/python3.7/site-packages/healpy/fitsfunc.py:187: FutureWarning: The default dtype of write_map() will change in a future version: explicitly set the dtype if it is important to you\n",
      "  category=FutureWarning)\n",
      "/home/mathias/miniconda3/envs/qubic_env/lib/python3.7/site-packages/pysm3/utils/data.py:37: UserWarning: Access data from /tmp/iA2wN7vcyG\n",
      "  warnings.warn(f\"Access data from {full_path}\")\n",
      "/home/mathias/miniconda3/envs/qubic_env/lib/python3.7/site-packages/pysm3/utils/data.py:42: UserWarning: Retrieve data for pysm_2/dust_t_new.fits (if not cached already)\n",
      "  warnings.warn(f\"Retrieve data for {filename} (if not cached already)\")\n",
      "/home/mathias/miniconda3/envs/qubic_env/lib/python3.7/site-packages/pysm3/utils/data.py:42: UserWarning: Retrieve data for pysm_2/dust_q_new.fits (if not cached already)\n",
      "  warnings.warn(f\"Retrieve data for {filename} (if not cached already)\")\n",
      "/home/mathias/miniconda3/envs/qubic_env/lib/python3.7/site-packages/pysm3/utils/data.py:42: UserWarning: Retrieve data for pysm_2/dust_u_new.fits (if not cached already)\n",
      "  warnings.warn(f\"Retrieve data for {filename} (if not cached already)\")\n"
     ]
    },
    {
     "name": "stdout",
     "output_type": "stream",
     "text": [
      "<_io.BufferedReader name='/home/mathias/miniconda3/envs/qubic_env/lib/python3.7/site-packages/qubic/data/FastSimulator_version01/DataFastSimulator_FI220_nfsub_5.pkl'>\n"
     ]
    },
    {
     "name": "stderr",
     "output_type": "stream",
     "text": [
      "/home/mathias/Bureau/FG-Buster/ComponentSeparation.py:648: UserWarning: Pandas doesn't allow columns to be created via a new attribute name - see https://pandas.pydata.org/pandas-docs/stable/indexing.html#attribute-access\n",
      "  ins.frequency = freqs\n",
      "/home/mathias/Bureau/FG-Buster/ComponentSeparation.py:649: UserWarning: Pandas doesn't allow columns to be created via a new attribute name - see https://pandas.pydata.org/pandas-docs/stable/indexing.html#attribute-access\n",
      "  ins.fwhm = fwhmdegs\n",
      "/home/mathias/Bureau/FG-Buster/ComponentSeparation.py:653: UserWarning: Pandas doesn't allow columns to be created via a new attribute name - see https://pandas.pydata.org/pandas-docs/stable/indexing.html#attribute-access\n",
      "  ins.depth_i = give_me_rms_I(N[:, :, okpix], self.nside)\n",
      "/home/mathias/Bureau/FG-Buster/ComponentSeparation.py:654: UserWarning: Pandas doesn't allow columns to be created via a new attribute name - see https://pandas.pydata.org/pandas-docs/stable/indexing.html#attribute-access\n",
      "  ins.depth_p = give_me_rms_I(N[:, :, okpix], self.nside)*np.sqrt(2)\n"
     ]
    },
    {
     "name": "stdout",
     "output_type": "stream",
     "text": [
      "Minimization started\n"
     ]
    },
    {
     "name": "stderr",
     "output_type": "stream",
     "text": [
      "/home/mathias/miniconda3/envs/qubic_env/lib/python3.7/site-packages/healpy/fitsfunc.py:187: FutureWarning: The default dtype of write_map() will change in a future version: explicitly set the dtype if it is important to you\n",
      "  category=FutureWarning)\n",
      "/home/mathias/miniconda3/envs/qubic_env/lib/python3.7/site-packages/pysm3/utils/data.py:37: UserWarning: Access data from /tmp/yhlu24CEbT\n",
      "  warnings.warn(f\"Access data from {full_path}\")\n",
      "/home/mathias/miniconda3/envs/qubic_env/lib/python3.7/site-packages/pysm3/utils/data.py:42: UserWarning: Retrieve data for pysm_2/dust_t_new.fits (if not cached already)\n",
      "  warnings.warn(f\"Retrieve data for {filename} (if not cached already)\")\n",
      "/home/mathias/miniconda3/envs/qubic_env/lib/python3.7/site-packages/pysm3/utils/data.py:42: UserWarning: Retrieve data for pysm_2/dust_q_new.fits (if not cached already)\n",
      "  warnings.warn(f\"Retrieve data for {filename} (if not cached already)\")\n",
      "/home/mathias/miniconda3/envs/qubic_env/lib/python3.7/site-packages/pysm3/utils/data.py:42: UserWarning: Retrieve data for pysm_2/dust_u_new.fits (if not cached already)\n",
      "  warnings.warn(f\"Retrieve data for {filename} (if not cached already)\")\n"
     ]
    },
    {
     "name": "stdout",
     "output_type": "stream",
     "text": [
      "<_io.BufferedReader name='/home/mathias/miniconda3/envs/qubic_env/lib/python3.7/site-packages/qubic/data/FastSimulator_version01/DataFastSimulator_FI150_nfsub_5.pkl'>\n"
     ]
    },
    {
     "name": "stderr",
     "output_type": "stream",
     "text": [
      "/home/mathias/Bureau/FG-Buster/ComponentSeparation.py:648: UserWarning: Pandas doesn't allow columns to be created via a new attribute name - see https://pandas.pydata.org/pandas-docs/stable/indexing.html#attribute-access\n",
      "  ins.frequency = freqs\n",
      "/home/mathias/Bureau/FG-Buster/ComponentSeparation.py:649: UserWarning: Pandas doesn't allow columns to be created via a new attribute name - see https://pandas.pydata.org/pandas-docs/stable/indexing.html#attribute-access\n",
      "  ins.fwhm = fwhmdegs\n",
      "/home/mathias/Bureau/FG-Buster/ComponentSeparation.py:653: UserWarning: Pandas doesn't allow columns to be created via a new attribute name - see https://pandas.pydata.org/pandas-docs/stable/indexing.html#attribute-access\n",
      "  ins.depth_i = give_me_rms_I(N[:, :, okpix], self.nside)\n",
      "/home/mathias/Bureau/FG-Buster/ComponentSeparation.py:654: UserWarning: Pandas doesn't allow columns to be created via a new attribute name - see https://pandas.pydata.org/pandas-docs/stable/indexing.html#attribute-access\n",
      "  ins.depth_p = give_me_rms_I(N[:, :, okpix], self.nside)*np.sqrt(2)\n"
     ]
    },
    {
     "name": "stdout",
     "output_type": "stream",
     "text": [
      "Minimization started\n"
     ]
    },
    {
     "name": "stderr",
     "output_type": "stream",
     "text": [
      "/home/mathias/miniconda3/envs/qubic_env/lib/python3.7/site-packages/healpy/fitsfunc.py:187: FutureWarning: The default dtype of write_map() will change in a future version: explicitly set the dtype if it is important to you\n",
      "  category=FutureWarning)\n",
      "/home/mathias/miniconda3/envs/qubic_env/lib/python3.7/site-packages/pysm3/utils/data.py:37: UserWarning: Access data from /tmp/Ntw5u1HSRS\n",
      "  warnings.warn(f\"Access data from {full_path}\")\n",
      "/home/mathias/miniconda3/envs/qubic_env/lib/python3.7/site-packages/pysm3/utils/data.py:42: UserWarning: Retrieve data for pysm_2/dust_t_new.fits (if not cached already)\n",
      "  warnings.warn(f\"Retrieve data for {filename} (if not cached already)\")\n",
      "/home/mathias/miniconda3/envs/qubic_env/lib/python3.7/site-packages/pysm3/utils/data.py:42: UserWarning: Retrieve data for pysm_2/dust_q_new.fits (if not cached already)\n",
      "  warnings.warn(f\"Retrieve data for {filename} (if not cached already)\")\n",
      "/home/mathias/miniconda3/envs/qubic_env/lib/python3.7/site-packages/pysm3/utils/data.py:42: UserWarning: Retrieve data for pysm_2/dust_u_new.fits (if not cached already)\n",
      "  warnings.warn(f\"Retrieve data for {filename} (if not cached already)\")\n"
     ]
    },
    {
     "name": "stdout",
     "output_type": "stream",
     "text": [
      "<_io.BufferedReader name='/home/mathias/miniconda3/envs/qubic_env/lib/python3.7/site-packages/qubic/data/FastSimulator_version01/DataFastSimulator_FI220_nfsub_5.pkl'>\n"
     ]
    },
    {
     "name": "stderr",
     "output_type": "stream",
     "text": [
      "/home/mathias/Bureau/FG-Buster/ComponentSeparation.py:648: UserWarning: Pandas doesn't allow columns to be created via a new attribute name - see https://pandas.pydata.org/pandas-docs/stable/indexing.html#attribute-access\n",
      "  ins.frequency = freqs\n",
      "/home/mathias/Bureau/FG-Buster/ComponentSeparation.py:649: UserWarning: Pandas doesn't allow columns to be created via a new attribute name - see https://pandas.pydata.org/pandas-docs/stable/indexing.html#attribute-access\n",
      "  ins.fwhm = fwhmdegs\n",
      "/home/mathias/Bureau/FG-Buster/ComponentSeparation.py:653: UserWarning: Pandas doesn't allow columns to be created via a new attribute name - see https://pandas.pydata.org/pandas-docs/stable/indexing.html#attribute-access\n",
      "  ins.depth_i = give_me_rms_I(N[:, :, okpix], self.nside)\n",
      "/home/mathias/Bureau/FG-Buster/ComponentSeparation.py:654: UserWarning: Pandas doesn't allow columns to be created via a new attribute name - see https://pandas.pydata.org/pandas-docs/stable/indexing.html#attribute-access\n",
      "  ins.depth_p = give_me_rms_I(N[:, :, okpix], self.nside)*np.sqrt(2)\n"
     ]
    },
    {
     "name": "stdout",
     "output_type": "stream",
     "text": [
      "Minimization started\n"
     ]
    },
    {
     "name": "stderr",
     "output_type": "stream",
     "text": [
      "/home/mathias/miniconda3/envs/qubic_env/lib/python3.7/site-packages/healpy/fitsfunc.py:187: FutureWarning: The default dtype of write_map() will change in a future version: explicitly set the dtype if it is important to you\n",
      "  category=FutureWarning)\n",
      "/home/mathias/miniconda3/envs/qubic_env/lib/python3.7/site-packages/pysm3/utils/data.py:37: UserWarning: Access data from /tmp/u6rBQ2lDjW\n",
      "  warnings.warn(f\"Access data from {full_path}\")\n",
      "/home/mathias/miniconda3/envs/qubic_env/lib/python3.7/site-packages/pysm3/utils/data.py:42: UserWarning: Retrieve data for pysm_2/dust_t_new.fits (if not cached already)\n",
      "  warnings.warn(f\"Retrieve data for {filename} (if not cached already)\")\n",
      "/home/mathias/miniconda3/envs/qubic_env/lib/python3.7/site-packages/pysm3/utils/data.py:42: UserWarning: Retrieve data for pysm_2/dust_q_new.fits (if not cached already)\n",
      "  warnings.warn(f\"Retrieve data for {filename} (if not cached already)\")\n",
      "/home/mathias/miniconda3/envs/qubic_env/lib/python3.7/site-packages/pysm3/utils/data.py:42: UserWarning: Retrieve data for pysm_2/dust_u_new.fits (if not cached already)\n",
      "  warnings.warn(f\"Retrieve data for {filename} (if not cached already)\")\n"
     ]
    },
    {
     "name": "stdout",
     "output_type": "stream",
     "text": [
      "<_io.BufferedReader name='/home/mathias/miniconda3/envs/qubic_env/lib/python3.7/site-packages/qubic/data/FastSimulator_version01/DataFastSimulator_FI150_nfsub_5.pkl'>\n"
     ]
    },
    {
     "name": "stderr",
     "output_type": "stream",
     "text": [
      "/home/mathias/Bureau/FG-Buster/ComponentSeparation.py:648: UserWarning: Pandas doesn't allow columns to be created via a new attribute name - see https://pandas.pydata.org/pandas-docs/stable/indexing.html#attribute-access\n",
      "  ins.frequency = freqs\n",
      "/home/mathias/Bureau/FG-Buster/ComponentSeparation.py:649: UserWarning: Pandas doesn't allow columns to be created via a new attribute name - see https://pandas.pydata.org/pandas-docs/stable/indexing.html#attribute-access\n",
      "  ins.fwhm = fwhmdegs\n",
      "/home/mathias/Bureau/FG-Buster/ComponentSeparation.py:653: UserWarning: Pandas doesn't allow columns to be created via a new attribute name - see https://pandas.pydata.org/pandas-docs/stable/indexing.html#attribute-access\n",
      "  ins.depth_i = give_me_rms_I(N[:, :, okpix], self.nside)\n",
      "/home/mathias/Bureau/FG-Buster/ComponentSeparation.py:654: UserWarning: Pandas doesn't allow columns to be created via a new attribute name - see https://pandas.pydata.org/pandas-docs/stable/indexing.html#attribute-access\n",
      "  ins.depth_p = give_me_rms_I(N[:, :, okpix], self.nside)*np.sqrt(2)\n"
     ]
    },
    {
     "name": "stdout",
     "output_type": "stream",
     "text": [
      "Minimization started\n"
     ]
    },
    {
     "name": "stderr",
     "output_type": "stream",
     "text": [
      "/home/mathias/miniconda3/envs/qubic_env/lib/python3.7/site-packages/healpy/fitsfunc.py:187: FutureWarning: The default dtype of write_map() will change in a future version: explicitly set the dtype if it is important to you\n",
      "  category=FutureWarning)\n",
      "/home/mathias/miniconda3/envs/qubic_env/lib/python3.7/site-packages/pysm3/utils/data.py:37: UserWarning: Access data from /tmp/kjLi12Kyr3\n",
      "  warnings.warn(f\"Access data from {full_path}\")\n",
      "/home/mathias/miniconda3/envs/qubic_env/lib/python3.7/site-packages/pysm3/utils/data.py:42: UserWarning: Retrieve data for pysm_2/dust_t_new.fits (if not cached already)\n",
      "  warnings.warn(f\"Retrieve data for {filename} (if not cached already)\")\n",
      "/home/mathias/miniconda3/envs/qubic_env/lib/python3.7/site-packages/pysm3/utils/data.py:42: UserWarning: Retrieve data for pysm_2/dust_q_new.fits (if not cached already)\n",
      "  warnings.warn(f\"Retrieve data for {filename} (if not cached already)\")\n",
      "/home/mathias/miniconda3/envs/qubic_env/lib/python3.7/site-packages/pysm3/utils/data.py:42: UserWarning: Retrieve data for pysm_2/dust_u_new.fits (if not cached already)\n",
      "  warnings.warn(f\"Retrieve data for {filename} (if not cached already)\")\n"
     ]
    },
    {
     "name": "stdout",
     "output_type": "stream",
     "text": [
      "<_io.BufferedReader name='/home/mathias/miniconda3/envs/qubic_env/lib/python3.7/site-packages/qubic/data/FastSimulator_version01/DataFastSimulator_FI220_nfsub_5.pkl'>\n"
     ]
    },
    {
     "name": "stderr",
     "output_type": "stream",
     "text": [
      "/home/mathias/Bureau/FG-Buster/ComponentSeparation.py:648: UserWarning: Pandas doesn't allow columns to be created via a new attribute name - see https://pandas.pydata.org/pandas-docs/stable/indexing.html#attribute-access\n",
      "  ins.frequency = freqs\n",
      "/home/mathias/Bureau/FG-Buster/ComponentSeparation.py:649: UserWarning: Pandas doesn't allow columns to be created via a new attribute name - see https://pandas.pydata.org/pandas-docs/stable/indexing.html#attribute-access\n",
      "  ins.fwhm = fwhmdegs\n",
      "/home/mathias/Bureau/FG-Buster/ComponentSeparation.py:653: UserWarning: Pandas doesn't allow columns to be created via a new attribute name - see https://pandas.pydata.org/pandas-docs/stable/indexing.html#attribute-access\n",
      "  ins.depth_i = give_me_rms_I(N[:, :, okpix], self.nside)\n",
      "/home/mathias/Bureau/FG-Buster/ComponentSeparation.py:654: UserWarning: Pandas doesn't allow columns to be created via a new attribute name - see https://pandas.pydata.org/pandas-docs/stable/indexing.html#attribute-access\n",
      "  ins.depth_p = give_me_rms_I(N[:, :, okpix], self.nside)*np.sqrt(2)\n"
     ]
    },
    {
     "name": "stdout",
     "output_type": "stream",
     "text": [
      "Minimization started\n"
     ]
    },
    {
     "name": "stderr",
     "output_type": "stream",
     "text": [
      "/home/mathias/miniconda3/envs/qubic_env/lib/python3.7/site-packages/healpy/fitsfunc.py:187: FutureWarning: The default dtype of write_map() will change in a future version: explicitly set the dtype if it is important to you\n",
      "  category=FutureWarning)\n",
      "/home/mathias/miniconda3/envs/qubic_env/lib/python3.7/site-packages/pysm3/utils/data.py:37: UserWarning: Access data from /tmp/V0R0t1s6b0\n",
      "  warnings.warn(f\"Access data from {full_path}\")\n",
      "/home/mathias/miniconda3/envs/qubic_env/lib/python3.7/site-packages/pysm3/utils/data.py:42: UserWarning: Retrieve data for pysm_2/dust_t_new.fits (if not cached already)\n",
      "  warnings.warn(f\"Retrieve data for {filename} (if not cached already)\")\n",
      "/home/mathias/miniconda3/envs/qubic_env/lib/python3.7/site-packages/pysm3/utils/data.py:42: UserWarning: Retrieve data for pysm_2/dust_q_new.fits (if not cached already)\n",
      "  warnings.warn(f\"Retrieve data for {filename} (if not cached already)\")\n",
      "/home/mathias/miniconda3/envs/qubic_env/lib/python3.7/site-packages/pysm3/utils/data.py:42: UserWarning: Retrieve data for pysm_2/dust_u_new.fits (if not cached already)\n",
      "  warnings.warn(f\"Retrieve data for {filename} (if not cached already)\")\n"
     ]
    },
    {
     "name": "stdout",
     "output_type": "stream",
     "text": [
      "<_io.BufferedReader name='/home/mathias/miniconda3/envs/qubic_env/lib/python3.7/site-packages/qubic/data/FastSimulator_version01/DataFastSimulator_FI150_nfsub_5.pkl'>\n"
     ]
    },
    {
     "name": "stderr",
     "output_type": "stream",
     "text": [
      "/home/mathias/Bureau/FG-Buster/ComponentSeparation.py:648: UserWarning: Pandas doesn't allow columns to be created via a new attribute name - see https://pandas.pydata.org/pandas-docs/stable/indexing.html#attribute-access\n",
      "  ins.frequency = freqs\n",
      "/home/mathias/Bureau/FG-Buster/ComponentSeparation.py:649: UserWarning: Pandas doesn't allow columns to be created via a new attribute name - see https://pandas.pydata.org/pandas-docs/stable/indexing.html#attribute-access\n",
      "  ins.fwhm = fwhmdegs\n",
      "/home/mathias/Bureau/FG-Buster/ComponentSeparation.py:653: UserWarning: Pandas doesn't allow columns to be created via a new attribute name - see https://pandas.pydata.org/pandas-docs/stable/indexing.html#attribute-access\n",
      "  ins.depth_i = give_me_rms_I(N[:, :, okpix], self.nside)\n",
      "/home/mathias/Bureau/FG-Buster/ComponentSeparation.py:654: UserWarning: Pandas doesn't allow columns to be created via a new attribute name - see https://pandas.pydata.org/pandas-docs/stable/indexing.html#attribute-access\n",
      "  ins.depth_p = give_me_rms_I(N[:, :, okpix], self.nside)*np.sqrt(2)\n"
     ]
    },
    {
     "name": "stdout",
     "output_type": "stream",
     "text": [
      "Minimization started\n"
     ]
    },
    {
     "name": "stderr",
     "output_type": "stream",
     "text": [
      "/home/mathias/miniconda3/envs/qubic_env/lib/python3.7/site-packages/healpy/fitsfunc.py:187: FutureWarning: The default dtype of write_map() will change in a future version: explicitly set the dtype if it is important to you\n",
      "  category=FutureWarning)\n",
      "/home/mathias/miniconda3/envs/qubic_env/lib/python3.7/site-packages/pysm3/utils/data.py:37: UserWarning: Access data from /tmp/U6dqy4F1LA\n",
      "  warnings.warn(f\"Access data from {full_path}\")\n",
      "/home/mathias/miniconda3/envs/qubic_env/lib/python3.7/site-packages/pysm3/utils/data.py:42: UserWarning: Retrieve data for pysm_2/dust_t_new.fits (if not cached already)\n",
      "  warnings.warn(f\"Retrieve data for {filename} (if not cached already)\")\n",
      "/home/mathias/miniconda3/envs/qubic_env/lib/python3.7/site-packages/pysm3/utils/data.py:42: UserWarning: Retrieve data for pysm_2/dust_q_new.fits (if not cached already)\n",
      "  warnings.warn(f\"Retrieve data for {filename} (if not cached already)\")\n",
      "/home/mathias/miniconda3/envs/qubic_env/lib/python3.7/site-packages/pysm3/utils/data.py:42: UserWarning: Retrieve data for pysm_2/dust_u_new.fits (if not cached already)\n",
      "  warnings.warn(f\"Retrieve data for {filename} (if not cached already)\")\n"
     ]
    },
    {
     "name": "stdout",
     "output_type": "stream",
     "text": [
      "<_io.BufferedReader name='/home/mathias/miniconda3/envs/qubic_env/lib/python3.7/site-packages/qubic/data/FastSimulator_version01/DataFastSimulator_FI220_nfsub_5.pkl'>\n"
     ]
    },
    {
     "name": "stderr",
     "output_type": "stream",
     "text": [
      "/home/mathias/Bureau/FG-Buster/ComponentSeparation.py:648: UserWarning: Pandas doesn't allow columns to be created via a new attribute name - see https://pandas.pydata.org/pandas-docs/stable/indexing.html#attribute-access\n",
      "  ins.frequency = freqs\n",
      "/home/mathias/Bureau/FG-Buster/ComponentSeparation.py:649: UserWarning: Pandas doesn't allow columns to be created via a new attribute name - see https://pandas.pydata.org/pandas-docs/stable/indexing.html#attribute-access\n",
      "  ins.fwhm = fwhmdegs\n",
      "/home/mathias/Bureau/FG-Buster/ComponentSeparation.py:653: UserWarning: Pandas doesn't allow columns to be created via a new attribute name - see https://pandas.pydata.org/pandas-docs/stable/indexing.html#attribute-access\n",
      "  ins.depth_i = give_me_rms_I(N[:, :, okpix], self.nside)\n",
      "/home/mathias/Bureau/FG-Buster/ComponentSeparation.py:654: UserWarning: Pandas doesn't allow columns to be created via a new attribute name - see https://pandas.pydata.org/pandas-docs/stable/indexing.html#attribute-access\n",
      "  ins.depth_p = give_me_rms_I(N[:, :, okpix], self.nside)*np.sqrt(2)\n"
     ]
    },
    {
     "name": "stdout",
     "output_type": "stream",
     "text": [
      "Minimization started\n"
     ]
    },
    {
     "name": "stderr",
     "output_type": "stream",
     "text": [
      "/home/mathias/miniconda3/envs/qubic_env/lib/python3.7/site-packages/healpy/fitsfunc.py:187: FutureWarning: The default dtype of write_map() will change in a future version: explicitly set the dtype if it is important to you\n",
      "  category=FutureWarning)\n",
      "/home/mathias/miniconda3/envs/qubic_env/lib/python3.7/site-packages/pysm3/utils/data.py:37: UserWarning: Access data from /tmp/KLRHrfZEKX\n",
      "  warnings.warn(f\"Access data from {full_path}\")\n",
      "/home/mathias/miniconda3/envs/qubic_env/lib/python3.7/site-packages/pysm3/utils/data.py:42: UserWarning: Retrieve data for pysm_2/dust_t_new.fits (if not cached already)\n",
      "  warnings.warn(f\"Retrieve data for {filename} (if not cached already)\")\n",
      "/home/mathias/miniconda3/envs/qubic_env/lib/python3.7/site-packages/pysm3/utils/data.py:42: UserWarning: Retrieve data for pysm_2/dust_q_new.fits (if not cached already)\n",
      "  warnings.warn(f\"Retrieve data for {filename} (if not cached already)\")\n",
      "/home/mathias/miniconda3/envs/qubic_env/lib/python3.7/site-packages/pysm3/utils/data.py:42: UserWarning: Retrieve data for pysm_2/dust_u_new.fits (if not cached already)\n",
      "  warnings.warn(f\"Retrieve data for {filename} (if not cached already)\")\n"
     ]
    },
    {
     "name": "stdout",
     "output_type": "stream",
     "text": [
      "<_io.BufferedReader name='/home/mathias/miniconda3/envs/qubic_env/lib/python3.7/site-packages/qubic/data/FastSimulator_version01/DataFastSimulator_FI150_nfsub_5.pkl'>\n"
     ]
    },
    {
     "name": "stderr",
     "output_type": "stream",
     "text": [
      "/home/mathias/Bureau/FG-Buster/ComponentSeparation.py:648: UserWarning: Pandas doesn't allow columns to be created via a new attribute name - see https://pandas.pydata.org/pandas-docs/stable/indexing.html#attribute-access\n",
      "  ins.frequency = freqs\n",
      "/home/mathias/Bureau/FG-Buster/ComponentSeparation.py:649: UserWarning: Pandas doesn't allow columns to be created via a new attribute name - see https://pandas.pydata.org/pandas-docs/stable/indexing.html#attribute-access\n",
      "  ins.fwhm = fwhmdegs\n",
      "/home/mathias/Bureau/FG-Buster/ComponentSeparation.py:653: UserWarning: Pandas doesn't allow columns to be created via a new attribute name - see https://pandas.pydata.org/pandas-docs/stable/indexing.html#attribute-access\n",
      "  ins.depth_i = give_me_rms_I(N[:, :, okpix], self.nside)\n",
      "/home/mathias/Bureau/FG-Buster/ComponentSeparation.py:654: UserWarning: Pandas doesn't allow columns to be created via a new attribute name - see https://pandas.pydata.org/pandas-docs/stable/indexing.html#attribute-access\n",
      "  ins.depth_p = give_me_rms_I(N[:, :, okpix], self.nside)*np.sqrt(2)\n"
     ]
    },
    {
     "name": "stdout",
     "output_type": "stream",
     "text": [
      "Minimization started\n"
     ]
    },
    {
     "name": "stderr",
     "output_type": "stream",
     "text": [
      "/home/mathias/miniconda3/envs/qubic_env/lib/python3.7/site-packages/healpy/fitsfunc.py:187: FutureWarning: The default dtype of write_map() will change in a future version: explicitly set the dtype if it is important to you\n",
      "  category=FutureWarning)\n",
      "/home/mathias/miniconda3/envs/qubic_env/lib/python3.7/site-packages/pysm3/utils/data.py:37: UserWarning: Access data from /tmp/wRXh8oG41k\n",
      "  warnings.warn(f\"Access data from {full_path}\")\n",
      "/home/mathias/miniconda3/envs/qubic_env/lib/python3.7/site-packages/pysm3/utils/data.py:42: UserWarning: Retrieve data for pysm_2/dust_t_new.fits (if not cached already)\n",
      "  warnings.warn(f\"Retrieve data for {filename} (if not cached already)\")\n",
      "/home/mathias/miniconda3/envs/qubic_env/lib/python3.7/site-packages/pysm3/utils/data.py:42: UserWarning: Retrieve data for pysm_2/dust_q_new.fits (if not cached already)\n",
      "  warnings.warn(f\"Retrieve data for {filename} (if not cached already)\")\n",
      "/home/mathias/miniconda3/envs/qubic_env/lib/python3.7/site-packages/pysm3/utils/data.py:42: UserWarning: Retrieve data for pysm_2/dust_u_new.fits (if not cached already)\n",
      "  warnings.warn(f\"Retrieve data for {filename} (if not cached already)\")\n"
     ]
    },
    {
     "name": "stdout",
     "output_type": "stream",
     "text": [
      "<_io.BufferedReader name='/home/mathias/miniconda3/envs/qubic_env/lib/python3.7/site-packages/qubic/data/FastSimulator_version01/DataFastSimulator_FI220_nfsub_5.pkl'>\n"
     ]
    },
    {
     "name": "stderr",
     "output_type": "stream",
     "text": [
      "/home/mathias/Bureau/FG-Buster/ComponentSeparation.py:648: UserWarning: Pandas doesn't allow columns to be created via a new attribute name - see https://pandas.pydata.org/pandas-docs/stable/indexing.html#attribute-access\n",
      "  ins.frequency = freqs\n",
      "/home/mathias/Bureau/FG-Buster/ComponentSeparation.py:649: UserWarning: Pandas doesn't allow columns to be created via a new attribute name - see https://pandas.pydata.org/pandas-docs/stable/indexing.html#attribute-access\n",
      "  ins.fwhm = fwhmdegs\n",
      "/home/mathias/Bureau/FG-Buster/ComponentSeparation.py:653: UserWarning: Pandas doesn't allow columns to be created via a new attribute name - see https://pandas.pydata.org/pandas-docs/stable/indexing.html#attribute-access\n",
      "  ins.depth_i = give_me_rms_I(N[:, :, okpix], self.nside)\n",
      "/home/mathias/Bureau/FG-Buster/ComponentSeparation.py:654: UserWarning: Pandas doesn't allow columns to be created via a new attribute name - see https://pandas.pydata.org/pandas-docs/stable/indexing.html#attribute-access\n",
      "  ins.depth_p = give_me_rms_I(N[:, :, okpix], self.nside)*np.sqrt(2)\n"
     ]
    },
    {
     "name": "stdout",
     "output_type": "stream",
     "text": [
      "Minimization started\n"
     ]
    },
    {
     "name": "stderr",
     "output_type": "stream",
     "text": [
      "/home/mathias/miniconda3/envs/qubic_env/lib/python3.7/site-packages/healpy/fitsfunc.py:187: FutureWarning: The default dtype of write_map() will change in a future version: explicitly set the dtype if it is important to you\n",
      "  category=FutureWarning)\n",
      "/home/mathias/miniconda3/envs/qubic_env/lib/python3.7/site-packages/pysm3/utils/data.py:37: UserWarning: Access data from /tmp/aqdWeOAaeE\n",
      "  warnings.warn(f\"Access data from {full_path}\")\n",
      "/home/mathias/miniconda3/envs/qubic_env/lib/python3.7/site-packages/pysm3/utils/data.py:42: UserWarning: Retrieve data for pysm_2/dust_t_new.fits (if not cached already)\n",
      "  warnings.warn(f\"Retrieve data for {filename} (if not cached already)\")\n",
      "/home/mathias/miniconda3/envs/qubic_env/lib/python3.7/site-packages/pysm3/utils/data.py:42: UserWarning: Retrieve data for pysm_2/dust_q_new.fits (if not cached already)\n",
      "  warnings.warn(f\"Retrieve data for {filename} (if not cached already)\")\n",
      "/home/mathias/miniconda3/envs/qubic_env/lib/python3.7/site-packages/pysm3/utils/data.py:42: UserWarning: Retrieve data for pysm_2/dust_u_new.fits (if not cached already)\n",
      "  warnings.warn(f\"Retrieve data for {filename} (if not cached already)\")\n"
     ]
    },
    {
     "name": "stdout",
     "output_type": "stream",
     "text": [
      "<_io.BufferedReader name='/home/mathias/miniconda3/envs/qubic_env/lib/python3.7/site-packages/qubic/data/FastSimulator_version01/DataFastSimulator_FI150_nfsub_5.pkl'>\n"
     ]
    },
    {
     "name": "stderr",
     "output_type": "stream",
     "text": [
      "/home/mathias/Bureau/FG-Buster/ComponentSeparation.py:648: UserWarning: Pandas doesn't allow columns to be created via a new attribute name - see https://pandas.pydata.org/pandas-docs/stable/indexing.html#attribute-access\n",
      "  ins.frequency = freqs\n",
      "/home/mathias/Bureau/FG-Buster/ComponentSeparation.py:649: UserWarning: Pandas doesn't allow columns to be created via a new attribute name - see https://pandas.pydata.org/pandas-docs/stable/indexing.html#attribute-access\n",
      "  ins.fwhm = fwhmdegs\n",
      "/home/mathias/Bureau/FG-Buster/ComponentSeparation.py:653: UserWarning: Pandas doesn't allow columns to be created via a new attribute name - see https://pandas.pydata.org/pandas-docs/stable/indexing.html#attribute-access\n",
      "  ins.depth_i = give_me_rms_I(N[:, :, okpix], self.nside)\n",
      "/home/mathias/Bureau/FG-Buster/ComponentSeparation.py:654: UserWarning: Pandas doesn't allow columns to be created via a new attribute name - see https://pandas.pydata.org/pandas-docs/stable/indexing.html#attribute-access\n",
      "  ins.depth_p = give_me_rms_I(N[:, :, okpix], self.nside)*np.sqrt(2)\n"
     ]
    },
    {
     "name": "stdout",
     "output_type": "stream",
     "text": [
      "Minimization started\n"
     ]
    },
    {
     "name": "stderr",
     "output_type": "stream",
     "text": [
      "/home/mathias/miniconda3/envs/qubic_env/lib/python3.7/site-packages/healpy/fitsfunc.py:187: FutureWarning: The default dtype of write_map() will change in a future version: explicitly set the dtype if it is important to you\n",
      "  category=FutureWarning)\n",
      "/home/mathias/miniconda3/envs/qubic_env/lib/python3.7/site-packages/pysm3/utils/data.py:37: UserWarning: Access data from /tmp/VKGr2GIvxX\n",
      "  warnings.warn(f\"Access data from {full_path}\")\n",
      "/home/mathias/miniconda3/envs/qubic_env/lib/python3.7/site-packages/pysm3/utils/data.py:42: UserWarning: Retrieve data for pysm_2/dust_t_new.fits (if not cached already)\n",
      "  warnings.warn(f\"Retrieve data for {filename} (if not cached already)\")\n",
      "/home/mathias/miniconda3/envs/qubic_env/lib/python3.7/site-packages/pysm3/utils/data.py:42: UserWarning: Retrieve data for pysm_2/dust_q_new.fits (if not cached already)\n",
      "  warnings.warn(f\"Retrieve data for {filename} (if not cached already)\")\n",
      "/home/mathias/miniconda3/envs/qubic_env/lib/python3.7/site-packages/pysm3/utils/data.py:42: UserWarning: Retrieve data for pysm_2/dust_u_new.fits (if not cached already)\n",
      "  warnings.warn(f\"Retrieve data for {filename} (if not cached already)\")\n"
     ]
    },
    {
     "name": "stdout",
     "output_type": "stream",
     "text": [
      "<_io.BufferedReader name='/home/mathias/miniconda3/envs/qubic_env/lib/python3.7/site-packages/qubic/data/FastSimulator_version01/DataFastSimulator_FI220_nfsub_5.pkl'>\n"
     ]
    },
    {
     "name": "stderr",
     "output_type": "stream",
     "text": [
      "/home/mathias/Bureau/FG-Buster/ComponentSeparation.py:648: UserWarning: Pandas doesn't allow columns to be created via a new attribute name - see https://pandas.pydata.org/pandas-docs/stable/indexing.html#attribute-access\n",
      "  ins.frequency = freqs\n",
      "/home/mathias/Bureau/FG-Buster/ComponentSeparation.py:649: UserWarning: Pandas doesn't allow columns to be created via a new attribute name - see https://pandas.pydata.org/pandas-docs/stable/indexing.html#attribute-access\n",
      "  ins.fwhm = fwhmdegs\n",
      "/home/mathias/Bureau/FG-Buster/ComponentSeparation.py:653: UserWarning: Pandas doesn't allow columns to be created via a new attribute name - see https://pandas.pydata.org/pandas-docs/stable/indexing.html#attribute-access\n",
      "  ins.depth_i = give_me_rms_I(N[:, :, okpix], self.nside)\n",
      "/home/mathias/Bureau/FG-Buster/ComponentSeparation.py:654: UserWarning: Pandas doesn't allow columns to be created via a new attribute name - see https://pandas.pydata.org/pandas-docs/stable/indexing.html#attribute-access\n",
      "  ins.depth_p = give_me_rms_I(N[:, :, okpix], self.nside)*np.sqrt(2)\n"
     ]
    },
    {
     "name": "stdout",
     "output_type": "stream",
     "text": [
      "Minimization started\n"
     ]
    },
    {
     "name": "stderr",
     "output_type": "stream",
     "text": [
      "/home/mathias/miniconda3/envs/qubic_env/lib/python3.7/site-packages/healpy/fitsfunc.py:187: FutureWarning: The default dtype of write_map() will change in a future version: explicitly set the dtype if it is important to you\n",
      "  category=FutureWarning)\n",
      "/home/mathias/miniconda3/envs/qubic_env/lib/python3.7/site-packages/pysm3/utils/data.py:37: UserWarning: Access data from /tmp/dycJMCU54I\n",
      "  warnings.warn(f\"Access data from {full_path}\")\n",
      "/home/mathias/miniconda3/envs/qubic_env/lib/python3.7/site-packages/pysm3/utils/data.py:42: UserWarning: Retrieve data for pysm_2/dust_t_new.fits (if not cached already)\n",
      "  warnings.warn(f\"Retrieve data for {filename} (if not cached already)\")\n",
      "/home/mathias/miniconda3/envs/qubic_env/lib/python3.7/site-packages/pysm3/utils/data.py:42: UserWarning: Retrieve data for pysm_2/dust_q_new.fits (if not cached already)\n",
      "  warnings.warn(f\"Retrieve data for {filename} (if not cached already)\")\n",
      "/home/mathias/miniconda3/envs/qubic_env/lib/python3.7/site-packages/pysm3/utils/data.py:42: UserWarning: Retrieve data for pysm_2/dust_u_new.fits (if not cached already)\n",
      "  warnings.warn(f\"Retrieve data for {filename} (if not cached already)\")\n"
     ]
    },
    {
     "name": "stdout",
     "output_type": "stream",
     "text": [
      "<_io.BufferedReader name='/home/mathias/miniconda3/envs/qubic_env/lib/python3.7/site-packages/qubic/data/FastSimulator_version01/DataFastSimulator_FI150_nfsub_5.pkl'>\n"
     ]
    },
    {
     "name": "stderr",
     "output_type": "stream",
     "text": [
      "/home/mathias/Bureau/FG-Buster/ComponentSeparation.py:648: UserWarning: Pandas doesn't allow columns to be created via a new attribute name - see https://pandas.pydata.org/pandas-docs/stable/indexing.html#attribute-access\n",
      "  ins.frequency = freqs\n",
      "/home/mathias/Bureau/FG-Buster/ComponentSeparation.py:649: UserWarning: Pandas doesn't allow columns to be created via a new attribute name - see https://pandas.pydata.org/pandas-docs/stable/indexing.html#attribute-access\n",
      "  ins.fwhm = fwhmdegs\n",
      "/home/mathias/Bureau/FG-Buster/ComponentSeparation.py:653: UserWarning: Pandas doesn't allow columns to be created via a new attribute name - see https://pandas.pydata.org/pandas-docs/stable/indexing.html#attribute-access\n",
      "  ins.depth_i = give_me_rms_I(N[:, :, okpix], self.nside)\n",
      "/home/mathias/Bureau/FG-Buster/ComponentSeparation.py:654: UserWarning: Pandas doesn't allow columns to be created via a new attribute name - see https://pandas.pydata.org/pandas-docs/stable/indexing.html#attribute-access\n",
      "  ins.depth_p = give_me_rms_I(N[:, :, okpix], self.nside)*np.sqrt(2)\n"
     ]
    },
    {
     "name": "stdout",
     "output_type": "stream",
     "text": [
      "Minimization started\n"
     ]
    },
    {
     "name": "stderr",
     "output_type": "stream",
     "text": [
      "/home/mathias/miniconda3/envs/qubic_env/lib/python3.7/site-packages/healpy/fitsfunc.py:187: FutureWarning: The default dtype of write_map() will change in a future version: explicitly set the dtype if it is important to you\n",
      "  category=FutureWarning)\n",
      "/home/mathias/miniconda3/envs/qubic_env/lib/python3.7/site-packages/pysm3/utils/data.py:37: UserWarning: Access data from /tmp/nzUzpEIKp0\n",
      "  warnings.warn(f\"Access data from {full_path}\")\n",
      "/home/mathias/miniconda3/envs/qubic_env/lib/python3.7/site-packages/pysm3/utils/data.py:42: UserWarning: Retrieve data for pysm_2/dust_t_new.fits (if not cached already)\n",
      "  warnings.warn(f\"Retrieve data for {filename} (if not cached already)\")\n",
      "/home/mathias/miniconda3/envs/qubic_env/lib/python3.7/site-packages/pysm3/utils/data.py:42: UserWarning: Retrieve data for pysm_2/dust_q_new.fits (if not cached already)\n",
      "  warnings.warn(f\"Retrieve data for {filename} (if not cached already)\")\n",
      "/home/mathias/miniconda3/envs/qubic_env/lib/python3.7/site-packages/pysm3/utils/data.py:42: UserWarning: Retrieve data for pysm_2/dust_u_new.fits (if not cached already)\n",
      "  warnings.warn(f\"Retrieve data for {filename} (if not cached already)\")\n"
     ]
    },
    {
     "name": "stdout",
     "output_type": "stream",
     "text": [
      "<_io.BufferedReader name='/home/mathias/miniconda3/envs/qubic_env/lib/python3.7/site-packages/qubic/data/FastSimulator_version01/DataFastSimulator_FI220_nfsub_5.pkl'>\n"
     ]
    },
    {
     "name": "stderr",
     "output_type": "stream",
     "text": [
      "/home/mathias/Bureau/FG-Buster/ComponentSeparation.py:648: UserWarning: Pandas doesn't allow columns to be created via a new attribute name - see https://pandas.pydata.org/pandas-docs/stable/indexing.html#attribute-access\n",
      "  ins.frequency = freqs\n",
      "/home/mathias/Bureau/FG-Buster/ComponentSeparation.py:649: UserWarning: Pandas doesn't allow columns to be created via a new attribute name - see https://pandas.pydata.org/pandas-docs/stable/indexing.html#attribute-access\n",
      "  ins.fwhm = fwhmdegs\n",
      "/home/mathias/Bureau/FG-Buster/ComponentSeparation.py:653: UserWarning: Pandas doesn't allow columns to be created via a new attribute name - see https://pandas.pydata.org/pandas-docs/stable/indexing.html#attribute-access\n",
      "  ins.depth_i = give_me_rms_I(N[:, :, okpix], self.nside)\n",
      "/home/mathias/Bureau/FG-Buster/ComponentSeparation.py:654: UserWarning: Pandas doesn't allow columns to be created via a new attribute name - see https://pandas.pydata.org/pandas-docs/stable/indexing.html#attribute-access\n",
      "  ins.depth_p = give_me_rms_I(N[:, :, okpix], self.nside)*np.sqrt(2)\n"
     ]
    },
    {
     "name": "stdout",
     "output_type": "stream",
     "text": [
      "Minimization started\n"
     ]
    },
    {
     "name": "stderr",
     "output_type": "stream",
     "text": [
      "/home/mathias/miniconda3/envs/qubic_env/lib/python3.7/site-packages/healpy/fitsfunc.py:187: FutureWarning: The default dtype of write_map() will change in a future version: explicitly set the dtype if it is important to you\n",
      "  category=FutureWarning)\n",
      "/home/mathias/miniconda3/envs/qubic_env/lib/python3.7/site-packages/pysm3/utils/data.py:37: UserWarning: Access data from /tmp/IaYtl6Tqpp\n",
      "  warnings.warn(f\"Access data from {full_path}\")\n",
      "/home/mathias/miniconda3/envs/qubic_env/lib/python3.7/site-packages/pysm3/utils/data.py:42: UserWarning: Retrieve data for pysm_2/dust_t_new.fits (if not cached already)\n",
      "  warnings.warn(f\"Retrieve data for {filename} (if not cached already)\")\n",
      "/home/mathias/miniconda3/envs/qubic_env/lib/python3.7/site-packages/pysm3/utils/data.py:42: UserWarning: Retrieve data for pysm_2/dust_q_new.fits (if not cached already)\n",
      "  warnings.warn(f\"Retrieve data for {filename} (if not cached already)\")\n",
      "/home/mathias/miniconda3/envs/qubic_env/lib/python3.7/site-packages/pysm3/utils/data.py:42: UserWarning: Retrieve data for pysm_2/dust_u_new.fits (if not cached already)\n",
      "  warnings.warn(f\"Retrieve data for {filename} (if not cached already)\")\n"
     ]
    },
    {
     "name": "stdout",
     "output_type": "stream",
     "text": [
      "<_io.BufferedReader name='/home/mathias/miniconda3/envs/qubic_env/lib/python3.7/site-packages/qubic/data/FastSimulator_version01/DataFastSimulator_FI150_nfsub_5.pkl'>\n"
     ]
    },
    {
     "name": "stderr",
     "output_type": "stream",
     "text": [
      "/home/mathias/Bureau/FG-Buster/ComponentSeparation.py:648: UserWarning: Pandas doesn't allow columns to be created via a new attribute name - see https://pandas.pydata.org/pandas-docs/stable/indexing.html#attribute-access\n",
      "  ins.frequency = freqs\n",
      "/home/mathias/Bureau/FG-Buster/ComponentSeparation.py:649: UserWarning: Pandas doesn't allow columns to be created via a new attribute name - see https://pandas.pydata.org/pandas-docs/stable/indexing.html#attribute-access\n",
      "  ins.fwhm = fwhmdegs\n",
      "/home/mathias/Bureau/FG-Buster/ComponentSeparation.py:653: UserWarning: Pandas doesn't allow columns to be created via a new attribute name - see https://pandas.pydata.org/pandas-docs/stable/indexing.html#attribute-access\n",
      "  ins.depth_i = give_me_rms_I(N[:, :, okpix], self.nside)\n",
      "/home/mathias/Bureau/FG-Buster/ComponentSeparation.py:654: UserWarning: Pandas doesn't allow columns to be created via a new attribute name - see https://pandas.pydata.org/pandas-docs/stable/indexing.html#attribute-access\n",
      "  ins.depth_p = give_me_rms_I(N[:, :, okpix], self.nside)*np.sqrt(2)\n"
     ]
    },
    {
     "name": "stdout",
     "output_type": "stream",
     "text": [
      "Minimization started\n"
     ]
    },
    {
     "name": "stderr",
     "output_type": "stream",
     "text": [
      "/home/mathias/miniconda3/envs/qubic_env/lib/python3.7/site-packages/healpy/fitsfunc.py:187: FutureWarning: The default dtype of write_map() will change in a future version: explicitly set the dtype if it is important to you\n",
      "  category=FutureWarning)\n",
      "/home/mathias/miniconda3/envs/qubic_env/lib/python3.7/site-packages/pysm3/utils/data.py:37: UserWarning: Access data from /tmp/MYoemk4zyh\n",
      "  warnings.warn(f\"Access data from {full_path}\")\n",
      "/home/mathias/miniconda3/envs/qubic_env/lib/python3.7/site-packages/pysm3/utils/data.py:42: UserWarning: Retrieve data for pysm_2/dust_t_new.fits (if not cached already)\n",
      "  warnings.warn(f\"Retrieve data for {filename} (if not cached already)\")\n",
      "/home/mathias/miniconda3/envs/qubic_env/lib/python3.7/site-packages/pysm3/utils/data.py:42: UserWarning: Retrieve data for pysm_2/dust_q_new.fits (if not cached already)\n",
      "  warnings.warn(f\"Retrieve data for {filename} (if not cached already)\")\n",
      "/home/mathias/miniconda3/envs/qubic_env/lib/python3.7/site-packages/pysm3/utils/data.py:42: UserWarning: Retrieve data for pysm_2/dust_u_new.fits (if not cached already)\n",
      "  warnings.warn(f\"Retrieve data for {filename} (if not cached already)\")\n"
     ]
    },
    {
     "name": "stdout",
     "output_type": "stream",
     "text": [
      "<_io.BufferedReader name='/home/mathias/miniconda3/envs/qubic_env/lib/python3.7/site-packages/qubic/data/FastSimulator_version01/DataFastSimulator_FI220_nfsub_5.pkl'>\n"
     ]
    },
    {
     "name": "stderr",
     "output_type": "stream",
     "text": [
      "/home/mathias/Bureau/FG-Buster/ComponentSeparation.py:648: UserWarning: Pandas doesn't allow columns to be created via a new attribute name - see https://pandas.pydata.org/pandas-docs/stable/indexing.html#attribute-access\n",
      "  ins.frequency = freqs\n",
      "/home/mathias/Bureau/FG-Buster/ComponentSeparation.py:649: UserWarning: Pandas doesn't allow columns to be created via a new attribute name - see https://pandas.pydata.org/pandas-docs/stable/indexing.html#attribute-access\n",
      "  ins.fwhm = fwhmdegs\n",
      "/home/mathias/Bureau/FG-Buster/ComponentSeparation.py:653: UserWarning: Pandas doesn't allow columns to be created via a new attribute name - see https://pandas.pydata.org/pandas-docs/stable/indexing.html#attribute-access\n",
      "  ins.depth_i = give_me_rms_I(N[:, :, okpix], self.nside)\n",
      "/home/mathias/Bureau/FG-Buster/ComponentSeparation.py:654: UserWarning: Pandas doesn't allow columns to be created via a new attribute name - see https://pandas.pydata.org/pandas-docs/stable/indexing.html#attribute-access\n",
      "  ins.depth_p = give_me_rms_I(N[:, :, okpix], self.nside)*np.sqrt(2)\n"
     ]
    },
    {
     "name": "stdout",
     "output_type": "stream",
     "text": [
      "Minimization started\n"
     ]
    },
    {
     "name": "stderr",
     "output_type": "stream",
     "text": [
      "/home/mathias/miniconda3/envs/qubic_env/lib/python3.7/site-packages/healpy/fitsfunc.py:187: FutureWarning: The default dtype of write_map() will change in a future version: explicitly set the dtype if it is important to you\n",
      "  category=FutureWarning)\n",
      "/home/mathias/miniconda3/envs/qubic_env/lib/python3.7/site-packages/pysm3/utils/data.py:37: UserWarning: Access data from /tmp/PMzbYOLeYe\n",
      "  warnings.warn(f\"Access data from {full_path}\")\n",
      "/home/mathias/miniconda3/envs/qubic_env/lib/python3.7/site-packages/pysm3/utils/data.py:42: UserWarning: Retrieve data for pysm_2/dust_t_new.fits (if not cached already)\n",
      "  warnings.warn(f\"Retrieve data for {filename} (if not cached already)\")\n",
      "/home/mathias/miniconda3/envs/qubic_env/lib/python3.7/site-packages/pysm3/utils/data.py:42: UserWarning: Retrieve data for pysm_2/dust_q_new.fits (if not cached already)\n",
      "  warnings.warn(f\"Retrieve data for {filename} (if not cached already)\")\n",
      "/home/mathias/miniconda3/envs/qubic_env/lib/python3.7/site-packages/pysm3/utils/data.py:42: UserWarning: Retrieve data for pysm_2/dust_u_new.fits (if not cached already)\n",
      "  warnings.warn(f\"Retrieve data for {filename} (if not cached already)\")\n"
     ]
    },
    {
     "name": "stdout",
     "output_type": "stream",
     "text": [
      "<_io.BufferedReader name='/home/mathias/miniconda3/envs/qubic_env/lib/python3.7/site-packages/qubic/data/FastSimulator_version01/DataFastSimulator_FI150_nfsub_5.pkl'>\n"
     ]
    },
    {
     "name": "stderr",
     "output_type": "stream",
     "text": [
      "/home/mathias/Bureau/FG-Buster/ComponentSeparation.py:648: UserWarning: Pandas doesn't allow columns to be created via a new attribute name - see https://pandas.pydata.org/pandas-docs/stable/indexing.html#attribute-access\n",
      "  ins.frequency = freqs\n",
      "/home/mathias/Bureau/FG-Buster/ComponentSeparation.py:649: UserWarning: Pandas doesn't allow columns to be created via a new attribute name - see https://pandas.pydata.org/pandas-docs/stable/indexing.html#attribute-access\n",
      "  ins.fwhm = fwhmdegs\n",
      "/home/mathias/Bureau/FG-Buster/ComponentSeparation.py:653: UserWarning: Pandas doesn't allow columns to be created via a new attribute name - see https://pandas.pydata.org/pandas-docs/stable/indexing.html#attribute-access\n",
      "  ins.depth_i = give_me_rms_I(N[:, :, okpix], self.nside)\n",
      "/home/mathias/Bureau/FG-Buster/ComponentSeparation.py:654: UserWarning: Pandas doesn't allow columns to be created via a new attribute name - see https://pandas.pydata.org/pandas-docs/stable/indexing.html#attribute-access\n",
      "  ins.depth_p = give_me_rms_I(N[:, :, okpix], self.nside)*np.sqrt(2)\n"
     ]
    },
    {
     "name": "stdout",
     "output_type": "stream",
     "text": [
      "Minimization started\n"
     ]
    },
    {
     "name": "stderr",
     "output_type": "stream",
     "text": [
      "/home/mathias/miniconda3/envs/qubic_env/lib/python3.7/site-packages/healpy/fitsfunc.py:187: FutureWarning: The default dtype of write_map() will change in a future version: explicitly set the dtype if it is important to you\n",
      "  category=FutureWarning)\n",
      "/home/mathias/miniconda3/envs/qubic_env/lib/python3.7/site-packages/pysm3/utils/data.py:37: UserWarning: Access data from /tmp/uvW0ihACIe\n",
      "  warnings.warn(f\"Access data from {full_path}\")\n",
      "/home/mathias/miniconda3/envs/qubic_env/lib/python3.7/site-packages/pysm3/utils/data.py:42: UserWarning: Retrieve data for pysm_2/dust_t_new.fits (if not cached already)\n",
      "  warnings.warn(f\"Retrieve data for {filename} (if not cached already)\")\n",
      "/home/mathias/miniconda3/envs/qubic_env/lib/python3.7/site-packages/pysm3/utils/data.py:42: UserWarning: Retrieve data for pysm_2/dust_q_new.fits (if not cached already)\n",
      "  warnings.warn(f\"Retrieve data for {filename} (if not cached already)\")\n",
      "/home/mathias/miniconda3/envs/qubic_env/lib/python3.7/site-packages/pysm3/utils/data.py:42: UserWarning: Retrieve data for pysm_2/dust_u_new.fits (if not cached already)\n",
      "  warnings.warn(f\"Retrieve data for {filename} (if not cached already)\")\n"
     ]
    },
    {
     "name": "stdout",
     "output_type": "stream",
     "text": [
      "<_io.BufferedReader name='/home/mathias/miniconda3/envs/qubic_env/lib/python3.7/site-packages/qubic/data/FastSimulator_version01/DataFastSimulator_FI220_nfsub_5.pkl'>\n"
     ]
    },
    {
     "name": "stderr",
     "output_type": "stream",
     "text": [
      "/home/mathias/Bureau/FG-Buster/ComponentSeparation.py:648: UserWarning: Pandas doesn't allow columns to be created via a new attribute name - see https://pandas.pydata.org/pandas-docs/stable/indexing.html#attribute-access\n",
      "  ins.frequency = freqs\n",
      "/home/mathias/Bureau/FG-Buster/ComponentSeparation.py:649: UserWarning: Pandas doesn't allow columns to be created via a new attribute name - see https://pandas.pydata.org/pandas-docs/stable/indexing.html#attribute-access\n",
      "  ins.fwhm = fwhmdegs\n",
      "/home/mathias/Bureau/FG-Buster/ComponentSeparation.py:653: UserWarning: Pandas doesn't allow columns to be created via a new attribute name - see https://pandas.pydata.org/pandas-docs/stable/indexing.html#attribute-access\n",
      "  ins.depth_i = give_me_rms_I(N[:, :, okpix], self.nside)\n",
      "/home/mathias/Bureau/FG-Buster/ComponentSeparation.py:654: UserWarning: Pandas doesn't allow columns to be created via a new attribute name - see https://pandas.pydata.org/pandas-docs/stable/indexing.html#attribute-access\n",
      "  ins.depth_p = give_me_rms_I(N[:, :, okpix], self.nside)*np.sqrt(2)\n"
     ]
    },
    {
     "name": "stdout",
     "output_type": "stream",
     "text": [
      "Minimization started\n"
     ]
    },
    {
     "name": "stderr",
     "output_type": "stream",
     "text": [
      "/home/mathias/miniconda3/envs/qubic_env/lib/python3.7/site-packages/healpy/fitsfunc.py:187: FutureWarning: The default dtype of write_map() will change in a future version: explicitly set the dtype if it is important to you\n",
      "  category=FutureWarning)\n",
      "/home/mathias/miniconda3/envs/qubic_env/lib/python3.7/site-packages/pysm3/utils/data.py:37: UserWarning: Access data from /tmp/7KIC5gSPx2\n",
      "  warnings.warn(f\"Access data from {full_path}\")\n",
      "/home/mathias/miniconda3/envs/qubic_env/lib/python3.7/site-packages/pysm3/utils/data.py:42: UserWarning: Retrieve data for pysm_2/dust_t_new.fits (if not cached already)\n",
      "  warnings.warn(f\"Retrieve data for {filename} (if not cached already)\")\n",
      "/home/mathias/miniconda3/envs/qubic_env/lib/python3.7/site-packages/pysm3/utils/data.py:42: UserWarning: Retrieve data for pysm_2/dust_q_new.fits (if not cached already)\n",
      "  warnings.warn(f\"Retrieve data for {filename} (if not cached already)\")\n",
      "/home/mathias/miniconda3/envs/qubic_env/lib/python3.7/site-packages/pysm3/utils/data.py:42: UserWarning: Retrieve data for pysm_2/dust_u_new.fits (if not cached already)\n",
      "  warnings.warn(f\"Retrieve data for {filename} (if not cached already)\")\n"
     ]
    },
    {
     "name": "stdout",
     "output_type": "stream",
     "text": [
      "<_io.BufferedReader name='/home/mathias/miniconda3/envs/qubic_env/lib/python3.7/site-packages/qubic/data/FastSimulator_version01/DataFastSimulator_FI150_nfsub_5.pkl'>\n"
     ]
    },
    {
     "name": "stderr",
     "output_type": "stream",
     "text": [
      "/home/mathias/Bureau/FG-Buster/ComponentSeparation.py:648: UserWarning: Pandas doesn't allow columns to be created via a new attribute name - see https://pandas.pydata.org/pandas-docs/stable/indexing.html#attribute-access\n",
      "  ins.frequency = freqs\n",
      "/home/mathias/Bureau/FG-Buster/ComponentSeparation.py:649: UserWarning: Pandas doesn't allow columns to be created via a new attribute name - see https://pandas.pydata.org/pandas-docs/stable/indexing.html#attribute-access\n",
      "  ins.fwhm = fwhmdegs\n",
      "/home/mathias/Bureau/FG-Buster/ComponentSeparation.py:653: UserWarning: Pandas doesn't allow columns to be created via a new attribute name - see https://pandas.pydata.org/pandas-docs/stable/indexing.html#attribute-access\n",
      "  ins.depth_i = give_me_rms_I(N[:, :, okpix], self.nside)\n",
      "/home/mathias/Bureau/FG-Buster/ComponentSeparation.py:654: UserWarning: Pandas doesn't allow columns to be created via a new attribute name - see https://pandas.pydata.org/pandas-docs/stable/indexing.html#attribute-access\n",
      "  ins.depth_p = give_me_rms_I(N[:, :, okpix], self.nside)*np.sqrt(2)\n"
     ]
    },
    {
     "name": "stdout",
     "output_type": "stream",
     "text": [
      "Minimization started\n"
     ]
    },
    {
     "name": "stderr",
     "output_type": "stream",
     "text": [
      "/home/mathias/miniconda3/envs/qubic_env/lib/python3.7/site-packages/healpy/fitsfunc.py:187: FutureWarning: The default dtype of write_map() will change in a future version: explicitly set the dtype if it is important to you\n",
      "  category=FutureWarning)\n",
      "/home/mathias/miniconda3/envs/qubic_env/lib/python3.7/site-packages/pysm3/utils/data.py:37: UserWarning: Access data from /tmp/FhldWCSVti\n",
      "  warnings.warn(f\"Access data from {full_path}\")\n",
      "/home/mathias/miniconda3/envs/qubic_env/lib/python3.7/site-packages/pysm3/utils/data.py:42: UserWarning: Retrieve data for pysm_2/dust_t_new.fits (if not cached already)\n",
      "  warnings.warn(f\"Retrieve data for {filename} (if not cached already)\")\n",
      "/home/mathias/miniconda3/envs/qubic_env/lib/python3.7/site-packages/pysm3/utils/data.py:42: UserWarning: Retrieve data for pysm_2/dust_q_new.fits (if not cached already)\n",
      "  warnings.warn(f\"Retrieve data for {filename} (if not cached already)\")\n",
      "/home/mathias/miniconda3/envs/qubic_env/lib/python3.7/site-packages/pysm3/utils/data.py:42: UserWarning: Retrieve data for pysm_2/dust_u_new.fits (if not cached already)\n",
      "  warnings.warn(f\"Retrieve data for {filename} (if not cached already)\")\n"
     ]
    },
    {
     "name": "stdout",
     "output_type": "stream",
     "text": [
      "<_io.BufferedReader name='/home/mathias/miniconda3/envs/qubic_env/lib/python3.7/site-packages/qubic/data/FastSimulator_version01/DataFastSimulator_FI220_nfsub_5.pkl'>\n"
     ]
    },
    {
     "name": "stderr",
     "output_type": "stream",
     "text": [
      "/home/mathias/Bureau/FG-Buster/ComponentSeparation.py:648: UserWarning: Pandas doesn't allow columns to be created via a new attribute name - see https://pandas.pydata.org/pandas-docs/stable/indexing.html#attribute-access\n",
      "  ins.frequency = freqs\n",
      "/home/mathias/Bureau/FG-Buster/ComponentSeparation.py:649: UserWarning: Pandas doesn't allow columns to be created via a new attribute name - see https://pandas.pydata.org/pandas-docs/stable/indexing.html#attribute-access\n",
      "  ins.fwhm = fwhmdegs\n",
      "/home/mathias/Bureau/FG-Buster/ComponentSeparation.py:653: UserWarning: Pandas doesn't allow columns to be created via a new attribute name - see https://pandas.pydata.org/pandas-docs/stable/indexing.html#attribute-access\n",
      "  ins.depth_i = give_me_rms_I(N[:, :, okpix], self.nside)\n",
      "/home/mathias/Bureau/FG-Buster/ComponentSeparation.py:654: UserWarning: Pandas doesn't allow columns to be created via a new attribute name - see https://pandas.pydata.org/pandas-docs/stable/indexing.html#attribute-access\n",
      "  ins.depth_p = give_me_rms_I(N[:, :, okpix], self.nside)*np.sqrt(2)\n"
     ]
    },
    {
     "name": "stdout",
     "output_type": "stream",
     "text": [
      "Minimization started\n"
     ]
    },
    {
     "name": "stderr",
     "output_type": "stream",
     "text": [
      "/home/mathias/miniconda3/envs/qubic_env/lib/python3.7/site-packages/healpy/fitsfunc.py:187: FutureWarning: The default dtype of write_map() will change in a future version: explicitly set the dtype if it is important to you\n",
      "  category=FutureWarning)\n",
      "/home/mathias/miniconda3/envs/qubic_env/lib/python3.7/site-packages/pysm3/utils/data.py:37: UserWarning: Access data from /tmp/9YpMHfGwuC\n",
      "  warnings.warn(f\"Access data from {full_path}\")\n",
      "/home/mathias/miniconda3/envs/qubic_env/lib/python3.7/site-packages/pysm3/utils/data.py:42: UserWarning: Retrieve data for pysm_2/dust_t_new.fits (if not cached already)\n",
      "  warnings.warn(f\"Retrieve data for {filename} (if not cached already)\")\n",
      "/home/mathias/miniconda3/envs/qubic_env/lib/python3.7/site-packages/pysm3/utils/data.py:42: UserWarning: Retrieve data for pysm_2/dust_q_new.fits (if not cached already)\n",
      "  warnings.warn(f\"Retrieve data for {filename} (if not cached already)\")\n",
      "/home/mathias/miniconda3/envs/qubic_env/lib/python3.7/site-packages/pysm3/utils/data.py:42: UserWarning: Retrieve data for pysm_2/dust_u_new.fits (if not cached already)\n",
      "  warnings.warn(f\"Retrieve data for {filename} (if not cached already)\")\n"
     ]
    },
    {
     "name": "stdout",
     "output_type": "stream",
     "text": [
      "<_io.BufferedReader name='/home/mathias/miniconda3/envs/qubic_env/lib/python3.7/site-packages/qubic/data/FastSimulator_version01/DataFastSimulator_FI150_nfsub_5.pkl'>\n"
     ]
    },
    {
     "name": "stderr",
     "output_type": "stream",
     "text": [
      "/home/mathias/Bureau/FG-Buster/ComponentSeparation.py:648: UserWarning: Pandas doesn't allow columns to be created via a new attribute name - see https://pandas.pydata.org/pandas-docs/stable/indexing.html#attribute-access\n",
      "  ins.frequency = freqs\n",
      "/home/mathias/Bureau/FG-Buster/ComponentSeparation.py:649: UserWarning: Pandas doesn't allow columns to be created via a new attribute name - see https://pandas.pydata.org/pandas-docs/stable/indexing.html#attribute-access\n",
      "  ins.fwhm = fwhmdegs\n",
      "/home/mathias/Bureau/FG-Buster/ComponentSeparation.py:653: UserWarning: Pandas doesn't allow columns to be created via a new attribute name - see https://pandas.pydata.org/pandas-docs/stable/indexing.html#attribute-access\n",
      "  ins.depth_i = give_me_rms_I(N[:, :, okpix], self.nside)\n",
      "/home/mathias/Bureau/FG-Buster/ComponentSeparation.py:654: UserWarning: Pandas doesn't allow columns to be created via a new attribute name - see https://pandas.pydata.org/pandas-docs/stable/indexing.html#attribute-access\n",
      "  ins.depth_p = give_me_rms_I(N[:, :, okpix], self.nside)*np.sqrt(2)\n"
     ]
    },
    {
     "name": "stdout",
     "output_type": "stream",
     "text": [
      "Minimization started\n"
     ]
    },
    {
     "name": "stderr",
     "output_type": "stream",
     "text": [
      "/home/mathias/miniconda3/envs/qubic_env/lib/python3.7/site-packages/healpy/fitsfunc.py:187: FutureWarning: The default dtype of write_map() will change in a future version: explicitly set the dtype if it is important to you\n",
      "  category=FutureWarning)\n",
      "/home/mathias/miniconda3/envs/qubic_env/lib/python3.7/site-packages/pysm3/utils/data.py:37: UserWarning: Access data from /tmp/HsYyyUnDfX\n",
      "  warnings.warn(f\"Access data from {full_path}\")\n",
      "/home/mathias/miniconda3/envs/qubic_env/lib/python3.7/site-packages/pysm3/utils/data.py:42: UserWarning: Retrieve data for pysm_2/dust_t_new.fits (if not cached already)\n",
      "  warnings.warn(f\"Retrieve data for {filename} (if not cached already)\")\n",
      "/home/mathias/miniconda3/envs/qubic_env/lib/python3.7/site-packages/pysm3/utils/data.py:42: UserWarning: Retrieve data for pysm_2/dust_q_new.fits (if not cached already)\n",
      "  warnings.warn(f\"Retrieve data for {filename} (if not cached already)\")\n",
      "/home/mathias/miniconda3/envs/qubic_env/lib/python3.7/site-packages/pysm3/utils/data.py:42: UserWarning: Retrieve data for pysm_2/dust_u_new.fits (if not cached already)\n",
      "  warnings.warn(f\"Retrieve data for {filename} (if not cached already)\")\n"
     ]
    },
    {
     "name": "stdout",
     "output_type": "stream",
     "text": [
      "<_io.BufferedReader name='/home/mathias/miniconda3/envs/qubic_env/lib/python3.7/site-packages/qubic/data/FastSimulator_version01/DataFastSimulator_FI220_nfsub_5.pkl'>\n"
     ]
    },
    {
     "name": "stderr",
     "output_type": "stream",
     "text": [
      "/home/mathias/Bureau/FG-Buster/ComponentSeparation.py:648: UserWarning: Pandas doesn't allow columns to be created via a new attribute name - see https://pandas.pydata.org/pandas-docs/stable/indexing.html#attribute-access\n",
      "  ins.frequency = freqs\n",
      "/home/mathias/Bureau/FG-Buster/ComponentSeparation.py:649: UserWarning: Pandas doesn't allow columns to be created via a new attribute name - see https://pandas.pydata.org/pandas-docs/stable/indexing.html#attribute-access\n",
      "  ins.fwhm = fwhmdegs\n",
      "/home/mathias/Bureau/FG-Buster/ComponentSeparation.py:653: UserWarning: Pandas doesn't allow columns to be created via a new attribute name - see https://pandas.pydata.org/pandas-docs/stable/indexing.html#attribute-access\n",
      "  ins.depth_i = give_me_rms_I(N[:, :, okpix], self.nside)\n",
      "/home/mathias/Bureau/FG-Buster/ComponentSeparation.py:654: UserWarning: Pandas doesn't allow columns to be created via a new attribute name - see https://pandas.pydata.org/pandas-docs/stable/indexing.html#attribute-access\n",
      "  ins.depth_p = give_me_rms_I(N[:, :, okpix], self.nside)*np.sqrt(2)\n"
     ]
    },
    {
     "name": "stdout",
     "output_type": "stream",
     "text": [
      "Minimization started\n"
     ]
    },
    {
     "name": "stderr",
     "output_type": "stream",
     "text": [
      "/home/mathias/miniconda3/envs/qubic_env/lib/python3.7/site-packages/healpy/fitsfunc.py:187: FutureWarning: The default dtype of write_map() will change in a future version: explicitly set the dtype if it is important to you\n",
      "  category=FutureWarning)\n",
      "/home/mathias/miniconda3/envs/qubic_env/lib/python3.7/site-packages/pysm3/utils/data.py:37: UserWarning: Access data from /tmp/1NUOfpDjkN\n",
      "  warnings.warn(f\"Access data from {full_path}\")\n",
      "/home/mathias/miniconda3/envs/qubic_env/lib/python3.7/site-packages/pysm3/utils/data.py:42: UserWarning: Retrieve data for pysm_2/dust_t_new.fits (if not cached already)\n",
      "  warnings.warn(f\"Retrieve data for {filename} (if not cached already)\")\n",
      "/home/mathias/miniconda3/envs/qubic_env/lib/python3.7/site-packages/pysm3/utils/data.py:42: UserWarning: Retrieve data for pysm_2/dust_q_new.fits (if not cached already)\n",
      "  warnings.warn(f\"Retrieve data for {filename} (if not cached already)\")\n",
      "/home/mathias/miniconda3/envs/qubic_env/lib/python3.7/site-packages/pysm3/utils/data.py:42: UserWarning: Retrieve data for pysm_2/dust_u_new.fits (if not cached already)\n",
      "  warnings.warn(f\"Retrieve data for {filename} (if not cached already)\")\n"
     ]
    },
    {
     "name": "stdout",
     "output_type": "stream",
     "text": [
      "<_io.BufferedReader name='/home/mathias/miniconda3/envs/qubic_env/lib/python3.7/site-packages/qubic/data/FastSimulator_version01/DataFastSimulator_FI150_nfsub_5.pkl'>\n"
     ]
    },
    {
     "name": "stderr",
     "output_type": "stream",
     "text": [
      "/home/mathias/Bureau/FG-Buster/ComponentSeparation.py:648: UserWarning: Pandas doesn't allow columns to be created via a new attribute name - see https://pandas.pydata.org/pandas-docs/stable/indexing.html#attribute-access\n",
      "  ins.frequency = freqs\n",
      "/home/mathias/Bureau/FG-Buster/ComponentSeparation.py:649: UserWarning: Pandas doesn't allow columns to be created via a new attribute name - see https://pandas.pydata.org/pandas-docs/stable/indexing.html#attribute-access\n",
      "  ins.fwhm = fwhmdegs\n",
      "/home/mathias/Bureau/FG-Buster/ComponentSeparation.py:653: UserWarning: Pandas doesn't allow columns to be created via a new attribute name - see https://pandas.pydata.org/pandas-docs/stable/indexing.html#attribute-access\n",
      "  ins.depth_i = give_me_rms_I(N[:, :, okpix], self.nside)\n",
      "/home/mathias/Bureau/FG-Buster/ComponentSeparation.py:654: UserWarning: Pandas doesn't allow columns to be created via a new attribute name - see https://pandas.pydata.org/pandas-docs/stable/indexing.html#attribute-access\n",
      "  ins.depth_p = give_me_rms_I(N[:, :, okpix], self.nside)*np.sqrt(2)\n"
     ]
    },
    {
     "name": "stdout",
     "output_type": "stream",
     "text": [
      "Minimization started\n"
     ]
    },
    {
     "name": "stderr",
     "output_type": "stream",
     "text": [
      "/home/mathias/miniconda3/envs/qubic_env/lib/python3.7/site-packages/healpy/fitsfunc.py:187: FutureWarning: The default dtype of write_map() will change in a future version: explicitly set the dtype if it is important to you\n",
      "  category=FutureWarning)\n",
      "/home/mathias/miniconda3/envs/qubic_env/lib/python3.7/site-packages/pysm3/utils/data.py:37: UserWarning: Access data from /tmp/gk7yzCNFT4\n",
      "  warnings.warn(f\"Access data from {full_path}\")\n",
      "/home/mathias/miniconda3/envs/qubic_env/lib/python3.7/site-packages/pysm3/utils/data.py:42: UserWarning: Retrieve data for pysm_2/dust_t_new.fits (if not cached already)\n",
      "  warnings.warn(f\"Retrieve data for {filename} (if not cached already)\")\n",
      "/home/mathias/miniconda3/envs/qubic_env/lib/python3.7/site-packages/pysm3/utils/data.py:42: UserWarning: Retrieve data for pysm_2/dust_q_new.fits (if not cached already)\n",
      "  warnings.warn(f\"Retrieve data for {filename} (if not cached already)\")\n",
      "/home/mathias/miniconda3/envs/qubic_env/lib/python3.7/site-packages/pysm3/utils/data.py:42: UserWarning: Retrieve data for pysm_2/dust_u_new.fits (if not cached already)\n",
      "  warnings.warn(f\"Retrieve data for {filename} (if not cached already)\")\n"
     ]
    },
    {
     "name": "stdout",
     "output_type": "stream",
     "text": [
      "<_io.BufferedReader name='/home/mathias/miniconda3/envs/qubic_env/lib/python3.7/site-packages/qubic/data/FastSimulator_version01/DataFastSimulator_FI220_nfsub_5.pkl'>\n"
     ]
    },
    {
     "name": "stderr",
     "output_type": "stream",
     "text": [
      "/home/mathias/Bureau/FG-Buster/ComponentSeparation.py:648: UserWarning: Pandas doesn't allow columns to be created via a new attribute name - see https://pandas.pydata.org/pandas-docs/stable/indexing.html#attribute-access\n",
      "  ins.frequency = freqs\n",
      "/home/mathias/Bureau/FG-Buster/ComponentSeparation.py:649: UserWarning: Pandas doesn't allow columns to be created via a new attribute name - see https://pandas.pydata.org/pandas-docs/stable/indexing.html#attribute-access\n",
      "  ins.fwhm = fwhmdegs\n",
      "/home/mathias/Bureau/FG-Buster/ComponentSeparation.py:653: UserWarning: Pandas doesn't allow columns to be created via a new attribute name - see https://pandas.pydata.org/pandas-docs/stable/indexing.html#attribute-access\n",
      "  ins.depth_i = give_me_rms_I(N[:, :, okpix], self.nside)\n",
      "/home/mathias/Bureau/FG-Buster/ComponentSeparation.py:654: UserWarning: Pandas doesn't allow columns to be created via a new attribute name - see https://pandas.pydata.org/pandas-docs/stable/indexing.html#attribute-access\n",
      "  ins.depth_p = give_me_rms_I(N[:, :, okpix], self.nside)*np.sqrt(2)\n"
     ]
    },
    {
     "name": "stdout",
     "output_type": "stream",
     "text": [
      "Minimization started\n"
     ]
    }
   ],
   "source": [
    "reload(ComponentSeparation)\n",
    "N = 5\n",
    "method = 'pixels'\n",
    "\n",
    "beta_pixels_fs_noapo_150 = np.zeros(N)\n",
    "beta_pixels_fs_noapo_220 = np.zeros(N)\n",
    "beta_pixels_qs_noapo_150 = np.zeros(N)\n",
    "beta_pixels_qs_noapo_220 = np.zeros(N)\n",
    "beta_pixels_qs_apo_150 = np.zeros(N)\n",
    "beta_pixels_qs_apo_220 = np.zeros(N)\n",
    "\n",
    "for i in range(N) :\n",
    "\n",
    "    r_pixels_fs_noapo_150, _, _ = ComponentSeparation.Apply(d150).do_comparison_pixels_alms(d150, \n",
    "                                                                   nbands, \n",
    "                                                                   3, \n",
    "                                                                   okpix_fullsky, \n",
    "                                                                   seed = i+1,\n",
    "                                                                   map1 = None, \n",
    "                                                                   map_noise = None, \n",
    "                                                                   do_apo = False, \n",
    "                                                                   noiseless = False, \n",
    "                                                                   method = method, \n",
    "                                                                   dust_only = False)\n",
    "    \n",
    "    r_pixels_fs_noapo_220, _, _ = ComponentSeparation.Apply(d220).do_comparison_pixels_alms(d220, \n",
    "                                                                   nbands, \n",
    "                                                                   3, \n",
    "                                                                   okpix_fullsky, \n",
    "                                                                   seed = i+1,\n",
    "                                                                   map1 = None, \n",
    "                                                                   map_noise = None, \n",
    "                                                                   do_apo = False, \n",
    "                                                                   noiseless = False, \n",
    "                                                                   method = method, \n",
    "                                                                   dust_only = False)\n",
    "    \n",
    "    r_pixels_qs_noapo_150, _, _ = ComponentSeparation.Apply(d150).do_comparison_pixels_alms(d150, \n",
    "                                                                   nbands, \n",
    "                                                                   3, \n",
    "                                                                   okpix, \n",
    "                                                                   seed = i+1,\n",
    "                                                                   map1 = None, \n",
    "                                                                   map_noise = None, \n",
    "                                                                   do_apo = False, \n",
    "                                                                   noiseless = False, \n",
    "                                                                   method = method, \n",
    "                                                                   dust_only = False)\n",
    "    \n",
    "    r_pixels_qs_noapo_220, _, _ = ComponentSeparation.Apply(d220).do_comparison_pixels_alms(d220, \n",
    "                                                                   nbands, \n",
    "                                                                   3, \n",
    "                                                                   okpix, \n",
    "                                                                   seed = i+1,\n",
    "                                                                   map1 = None, \n",
    "                                                                   map_noise = None, \n",
    "                                                                   do_apo = False, \n",
    "                                                                   noiseless = False, \n",
    "                                                                   method = method, \n",
    "                                                                   dust_only = False)\n",
    "    \n",
    "    r_pixels_qs_apo_150, _, _ = ComponentSeparation.Apply(d150).do_comparison_pixels_alms(d150, \n",
    "                                                                   nbands, \n",
    "                                                                   3, \n",
    "                                                                   okpix, \n",
    "                                                                   seed = i+1,\n",
    "                                                                   map1 = None, \n",
    "                                                                   map_noise = None, \n",
    "                                                                   do_apo = True, \n",
    "                                                                   noiseless = False, \n",
    "                                                                   method = method, \n",
    "                                                                   dust_only = False)\n",
    "    \n",
    "    r_pixels_qs_apo_220, _, _ = ComponentSeparation.Apply(d150).do_comparison_pixels_alms(d220, \n",
    "                                                                   nbands, \n",
    "                                                                   3, \n",
    "                                                                   okpix, \n",
    "                                                                   seed = i+1,\n",
    "                                                                   map1 = None, \n",
    "                                                                   map_noise = None, \n",
    "                                                                   do_apo = True, \n",
    "                                                                   noiseless = False, \n",
    "                                                                   method = method, \n",
    "                                                                   dust_only = False)\n",
    "    \n",
    "    beta_pixels_fs_noapo_150 = r_pixels_fs_noapo_150.x[0]\n",
    "    beta_pixels_fs_noapo_220 = r_pixels_fs_noapo_220.x[0]\n",
    "    beta_pixels_qs_noapo_150 = r_pixels_qs_noapo_150.x[0]\n",
    "    beta_pixels_qs_noapo_220 = r_pixels_qs_noapo_220.x[0]\n",
    "    beta_pixels_qs_apo_150 = r_pixels_qs_apo_150.x[0]\n",
    "    beta_pixels_qs_apo_220 = r_pixels_qs_apo_220.x[0]"
   ]
  },
  {
   "cell_type": "code",
   "execution_count": 19,
   "id": "female-denmark",
   "metadata": {},
   "outputs": [],
   "source": [
    "mean_beta_pixels_fs_noapo_150 = np.mean(beta_pixels_fs_noapo_150)\n",
    "mean_beta_pixels_fs_noapo_220 = np.mean(beta_pixels_fs_noapo_220)\n",
    "mean_beta_pixels_qs_noapo_150 = np.mean(beta_pixels_qs_noapo_150)\n",
    "mean_beta_pixels_qs_noapo_220 = np.mean(beta_pixels_qs_noapo_220)\n",
    "mean_beta_pixels_qs_apo_150 = np.mean(beta_pixels_qs_apo_150)\n",
    "mean_beta_pixels_qs_apo_220 = np.mean(beta_pixels_qs_apo_220)\n",
    "\n",
    "mean_beta_alms_fs_noapo_150 = np.mean(beta_alms_fs_noapo_150)\n",
    "mean_beta_alms_fs_noapo_220 = np.mean(beta_alms_fs_noapo_220)\n",
    "mean_beta_alms_qs_noapo_150 = np.mean(beta_alms_qs_noapo_150)\n",
    "mean_beta_alms_qs_noapo_220 = np.mean(beta_alms_qs_noapo_220)\n",
    "mean_beta_alms_qs_apo_150 = np.mean(beta_alms_qs_apo_150)\n",
    "mean_beta_alms_qs_apo_220 = np.mean(beta_alms_qs_apo_220)\n",
    "\n",
    "std_beta_pixels_fs_noapo_150 = np.std(beta_pixels_fs_noapo_150)\n",
    "std_beta_pixels_fs_noapo_220 = np.std(beta_pixels_fs_noapo_220)\n",
    "std_beta_pixels_qs_noapo_150 = np.std(beta_pixels_qs_noapo_150)\n",
    "std_beta_pixels_qs_noapo_220 = np.std(beta_pixels_qs_noapo_220)\n",
    "std_beta_pixels_qs_apo_150 = np.std(beta_pixels_qs_apo_150)\n",
    "std_beta_pixels_qs_apo_220 = np.std(beta_pixels_qs_apo_220)\n",
    "\n",
    "std_beta_alms_fs_noapo_150 = np.std(beta_alms_fs_noapo_150)\n",
    "std_beta_alms_fs_noapo_220 = np.std(beta_alms_fs_noapo_220)\n",
    "std_beta_alms_qs_noapo_150 = np.std(beta_alms_qs_noapo_150)\n",
    "std_beta_alms_qs_noapo_220 = np.std(beta_alms_qs_noapo_220)\n",
    "std_beta_alms_qs_apo_150 = np.std(beta_alms_qs_apo_150)\n",
    "std_beta_alms_qs_apo_220 = np.std(beta_alms_qs_apo_220)"
   ]
  },
  {
   "cell_type": "code",
   "execution_count": 21,
   "id": "protective-glasgow",
   "metadata": {},
   "outputs": [
    {
     "data": {
      "text/plain": [
       "1.5391924590325747"
      ]
     },
     "execution_count": 21,
     "metadata": {},
     "output_type": "execute_result"
    }
   ],
   "source": [
    "beta_pixels_fs_noapo_150"
   ]
  },
  {
   "cell_type": "code",
   "execution_count": 20,
   "id": "governmental-public",
   "metadata": {},
   "outputs": [
    {
     "name": "stdout",
     "output_type": "stream",
     "text": [
      "For full sky without apo : \n",
      "\n",
      "    Alms : \n",
      "\n",
      "        150 GHz : 1.55292 +/- 0.000000000000\n",
      "\n",
      "        220 GHz : 1.54010 +/- 0.000000000000\n",
      "\n",
      "    Pixels : \n",
      "\n",
      "        150 GHz : 1.53919 +/- 0.000000000000\n",
      "\n",
      "        220 GHz : 1.53977 +/- 0.000000000000\n",
      "\n",
      " For QUBIC sky without apo : \n",
      "\n",
      "    Alms : \n",
      "\n",
      "        150 GHz : 1.51156 +/- 0.000000000000\n",
      "\n",
      "        220 GHz : 1.54722 +/- 0.000000000000\n",
      "\n",
      "    Pixels : \n",
      "\n",
      "        150 GHz : 1.33370 +/- 0.000000000000\n",
      "\n",
      "        220 GHz : 1.54165 +/- 0.000000000000\n",
      "\n",
      " For QUBIC sky with apo : \n",
      "\n",
      "    Alms : \n",
      "\n",
      "        150 GHz : 2.01424 +/- 0.000000000000\n",
      "\n",
      "        220 GHz : 1.55129 +/- 0.000000000000\n",
      "\n",
      "    Pixels : \n",
      "\n",
      "        150 GHz : 1.53992 +/- 0.000000000000\n",
      "\n",
      "        220 GHz : 1.54071 +/- 0.000000000000\n"
     ]
    }
   ],
   "source": [
    "print(\"For full sky without apo : \")\n",
    "print(\"\\n    Alms : \")\n",
    "print(\"\\n        150 GHz : {:.5f} +/- {:.12f}\".format(mean_beta_alms_fs_noapo_150, std_beta_alms_fs_noapo_150))\n",
    "print(\"\\n        220 GHz : {:.5f} +/- {:.12f}\".format(mean_beta_alms_fs_noapo_220, std_beta_alms_fs_noapo_220))\n",
    "print(\"\\n    Pixels : \")\n",
    "print(\"\\n        150 GHz : {:.5f} +/- {:.12f}\".format(mean_beta_pixels_fs_noapo_150, std_beta_pixels_fs_noapo_150))\n",
    "print(\"\\n        220 GHz : {:.5f} +/- {:.12f}\".format(mean_beta_pixels_fs_noapo_220, std_beta_pixels_fs_noapo_220))\n",
    "\n",
    "print(\"\\n For QUBIC sky without apo : \")\n",
    "print(\"\\n    Alms : \")\n",
    "print(\"\\n        150 GHz : {:.5f} +/- {:.12f}\".format(mean_beta_alms_qs_noapo_150, std_beta_alms_qs_noapo_150))\n",
    "print(\"\\n        220 GHz : {:.5f} +/- {:.12f}\".format(mean_beta_alms_qs_noapo_220, std_beta_alms_qs_noapo_220))\n",
    "print(\"\\n    Pixels : \")\n",
    "print(\"\\n        150 GHz : {:.5f} +/- {:.12f}\".format(mean_beta_pixels_qs_noapo_150, std_beta_pixels_qs_noapo_150))\n",
    "print(\"\\n        220 GHz : {:.5f} +/- {:.12f}\".format(mean_beta_pixels_qs_noapo_220, std_beta_pixels_qs_noapo_220))\n",
    "\n",
    "print(\"\\n For QUBIC sky with apo : \")\n",
    "print(\"\\n    Alms : \")\n",
    "print(\"\\n        150 GHz : {:.5f} +/- {:.12f}\".format(mean_beta_alms_qs_apo_150, std_beta_alms_qs_apo_150))\n",
    "print(\"\\n        220 GHz : {:.5f} +/- {:.12f}\".format(mean_beta_alms_qs_apo_220, std_beta_alms_qs_apo_220))\n",
    "print(\"\\n    Pixels : \")\n",
    "print(\"\\n        150 GHz : {:.5f} +/- {:.12f}\".format(mean_beta_pixels_qs_apo_150, std_beta_pixels_qs_apo_150))\n",
    "print(\"\\n        220 GHz : {:.5f} +/- {:.12f}\".format(mean_beta_pixels_qs_apo_220, std_beta_pixels_qs_apo_220))"
   ]
  },
  {
   "cell_type": "code",
   "execution_count": null,
   "id": "phantom-brown",
   "metadata": {},
   "outputs": [],
   "source": []
  },
  {
   "cell_type": "code",
   "execution_count": null,
   "id": "communist-regulation",
   "metadata": {},
   "outputs": [],
   "source": []
  },
  {
   "cell_type": "code",
   "execution_count": null,
   "id": "visible-league",
   "metadata": {},
   "outputs": [],
   "source": []
  },
  {
   "cell_type": "code",
   "execution_count": null,
   "id": "superior-heart",
   "metadata": {},
   "outputs": [],
   "source": []
  },
  {
   "cell_type": "code",
   "execution_count": null,
   "id": "choice-length",
   "metadata": {},
   "outputs": [],
   "source": []
  },
  {
   "cell_type": "code",
   "execution_count": null,
   "id": "polar-employer",
   "metadata": {},
   "outputs": [],
   "source": []
  },
  {
   "cell_type": "code",
   "execution_count": null,
   "id": "powered-convergence",
   "metadata": {},
   "outputs": [],
   "source": []
  }
 ],
 "metadata": {
  "kernelspec": {
   "display_name": "Python 3",
   "language": "python",
   "name": "python3"
  },
  "language_info": {
   "codemirror_mode": {
    "name": "ipython",
    "version": 3
   },
   "file_extension": ".py",
   "mimetype": "text/x-python",
   "name": "python",
   "nbconvert_exporter": "python",
   "pygments_lexer": "ipython3",
   "version": "3.7.9"
  }
 },
 "nbformat": 4,
 "nbformat_minor": 5
}
