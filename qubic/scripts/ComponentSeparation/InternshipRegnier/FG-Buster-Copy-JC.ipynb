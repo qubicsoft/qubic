{
 "cells": [
  {
   "cell_type": "markdown",
   "id": "98b82ae4",
   "metadata": {},
   "source": [
    "# Contents\n",
    "- [Importation](#Importation)\n",
    "\n",
    "- [Coverage map](#Coverage-map)\n",
    "\n",
    "- [Difference between 2 frequencies](#Difference-between-2-frequencies)\n",
    "\n",
    "- [Definitions](#Definitions)\n",
    "    - [Same resol maps](#Same-resol-maps)\n",
    "    - [SED](#SED)\n",
    "    - [plot maps diff freq](#plot-maps-diff-freq)\n",
    "    - [Plot maps](#Plot-maps)\n",
    "- [Main program](#Main-program)\n",
    "    - [Sed](#Sed)\n",
    "    - [Difference between Qubic and PySM (for the same frequency)](#Difference-between-Qubic-and-PySM-(for-the-same-frequency))\n",
    "    - [Difference between 2 frequencies](#Difference-between-2-frequencies)\n",
    "- [FG-Buster](#FG-Buster)    \n",
    "    - [Maps of foregrounds](#Maps-of-foregrounds)\n",
    "    - [Histograms of foregrounds](#Histograms-of-foregrounds)"
   ]
  },
  {
   "cell_type": "markdown",
   "id": "d74cb0d4",
   "metadata": {},
   "source": [
    "## Importation"
   ]
  },
  {
   "cell_type": "code",
   "execution_count": null,
   "id": "3a056826",
   "metadata": {},
   "outputs": [],
   "source": [
    "import random\n",
    "import healpy as hp\n",
    "import glob\n",
    "from scipy.optimize import curve_fit\n",
    "import pickle\n",
    "from importlib import reload\n",
    "import time\n",
    "import scipy\n",
    "import os\n",
    "import numpy as np\n",
    "import matplotlib.pyplot as plt\n",
    "import sys\n",
    "import pylab\n",
    "from pylab import arange, show, cm\n",
    "from astropy import units as uq\n",
    "\n",
    "### Specific qubic modules\n",
    "from qubicpack.utilities import Qubic_DataDir\n",
    "from pysimulators import FitsArray\n",
    "import pysm3 \n",
    "import pysm3.units as u\n",
    "import qubic\n",
    "from qubic import QubicSkySim as qss\n",
    "from qubic import fibtools as ft\n",
    "from qubic import camb_interface as qc\n",
    "from qubic import SpectroImLib as si\n",
    "from qubic import NamasterLib as nam\n",
    "from qubic import mcmc\n",
    "from pysimulators.interfaces.healpy import HealpixConvolutionGaussianOperator\n",
    "\n",
    "### FGBuster functions module\n",
    "from fgbuster import get_instrument, get_sky, get_observation, basic_comp_sep  # Predefined instrumental and sky-creation configurations\n",
    "from fgbuster.visualization import corner_norm, plot_component\n",
    "from fgbuster.mixingmatrix import MixingMatrix\n",
    "from fgbuster.observation_helpers import _rj2cmb, _jysr2rj\n",
    "\n",
    "# Imports needed for component separation\n",
    "from fgbuster import (separation_recipes, xForecast, CMB, Dust, Synchrotron,  # sky-fitting model\n",
    "                      basic_comp_sep)  # separation routine\n",
    "\n",
    "# Widgets\n",
    "\n",
    "import ipywidgets as widgets\n",
    "\n",
    "reload(qss)\n",
    "reload(ft)\n",
    "\n",
    "plt.rc('figure', figsize=(16, 10))\n",
    "plt.rc('font', size=15)\n",
    "plt.rcParams['image.cmap'] = 'jet'"
   ]
  },
  {
   "cell_type": "code",
   "execution_count": null,
   "id": "7060462a",
   "metadata": {},
   "outputs": [],
   "source": [
    "### Some initializations, to be replaced with specific path, or to modify in bash\n",
    "# os.environ['QUBIC_DATADIR'] = '/home/mathias/Bureau/qubic/qubic'\n",
    "# os.environ['QUBIC_DICT'] = '/home/mathias/Bureau/qubic/qubic/dicts'\n",
    "global_dir = Qubic_DataDir(datafile='instrument.py', datadir=os.environ['QUBIC_DATADIR'])"
   ]
  },
  {
   "cell_type": "code",
   "execution_count": null,
   "id": "f82ee0bd",
   "metadata": {},
   "outputs": [],
   "source": [
    "### This is for the FI\n",
    "config = 'FI-150'\n",
    "### Read some stuff\n",
    "    # Read dictionary chosen\n",
    "dictfilename = global_dir + '/doc/FastSimulator/FastSimDemo_{}.dict'.format(config)\n",
    "d = qubic.qubicdict.qubicDict()\n",
    "d.read_from_file(dictfilename)\n",
    "#d['focal_length'] = 0.3\n",
    "d['nside'] = 512\n",
    "    #Define the number of reconstruction bands:\n",
    "nbands = 3\n",
    "d['nf_recon'] = nbands\n",
    "\n",
    "center = qubic.equ2gal(d['RA_center'], d['DEC_center'])"
   ]
  },
  {
   "cell_type": "markdown",
   "id": "82932ee6",
   "metadata": {},
   "source": [
    "## Coverage map"
   ]
  },
  {
   "cell_type": "markdown",
   "id": "a36a52e1",
   "metadata": {},
   "source": [
    "Here we compute the \"view\" area of our instrument. It is always at the same place but depends on the number of samples"
   ]
  },
  {
   "cell_type": "code",
   "execution_count": null,
   "id": "b51bb949",
   "metadata": {},
   "outputs": [],
   "source": [
    "d['nf_sub'] = nbands\n",
    "d['npointings'] = 3000\n",
    "\n",
    "p = qubic.get_pointing(d)\n",
    "\n",
    "s = qubic.QubicScene(d)\n",
    "\n",
    "# Qubic Instrument\n",
    "\n",
    "q = qubic.QubicMultibandInstrument(d)\n",
    "\n",
    "# number of sub frequencies for reconstruction\n",
    "\n",
    "_, nus_edge, _, _, _, _ = qubic.compute_freq(150, d['nf_sub'])\n",
    "\n",
    "# Operator for Maps Reconstruction\n",
    "\n",
    "a = qubic.QubicMultibandAcquisition(q, p, s, d, nus_edge)\n",
    "\n",
    "# Coverage\n",
    "\n",
    "coverage = a.get_coverage()\n",
    "coverage = np.sum(coverage, axis=0)# Sum the bands\n",
    "coverage /= np.max(coverage)# Normalize by the max"
   ]
  },
  {
   "cell_type": "code",
   "execution_count": null,
   "id": "b4337225",
   "metadata": {},
   "outputs": [],
   "source": [
    "hp.mollview(coverage)\n",
    "plt.show()"
   ]
  },
  {
   "cell_type": "code",
   "execution_count": null,
   "id": "3338a3f6",
   "metadata": {},
   "outputs": [],
   "source": [
    "a=0\n",
    "seenpix = coverage != 0\n",
    "Stokes = ['I', 'Q', 'U']"
   ]
  },
  {
   "cell_type": "markdown",
   "id": "bfd07434",
   "metadata": {},
   "source": [
    "## Definitions"
   ]
  },
  {
   "cell_type": "markdown",
   "id": "26959ee4",
   "metadata": {},
   "source": [
    "### Same resol maps"
   ]
  },
  {
   "cell_type": "markdown",
   "id": "a5c5dc18",
   "metadata": {},
   "source": [
    "The same_resol_maps definition take **2 maps**, the **Full Width at Half Maximum** (FWHM), the **map of coverage** to know where the instrument \"see\" and the dictionnary **d**. The returns are both maps at the same resolution."
   ]
  },
  {
   "cell_type": "code",
   "execution_count": null,
   "id": "e744f72f",
   "metadata": {},
   "outputs": [],
   "source": [
    "#Same resolution function\n",
    "def same_resol_maps(freq_map_qubic, freq_map_pysm, FWHMs, coverage, d):\n",
    "    \n",
    "    \"\"\"\n",
    "    Function that returns QSS maps and PySm maps at the resolution of the lowest frequency of QSS\n",
    "    \n",
    "    input:\n",
    "        freq_map_qubic, freq_map_pysm: np.array, corresponding maps\n",
    "        FWHMs: list, of FWHMs for the convolution kernel\n",
    "        coverage: np.array, coverage map\n",
    "        d: dict, qubic dictionary\n",
    "        \n",
    "    returns:\n",
    "        freq_map_qubic, freq_map_pysm: np.array at the good resolution \n",
    "    \"\"\"\n",
    "    \n",
    "    def get_sigma_iband(q, iband):\n",
    "        \"\"\"Get the sigma of one band.\"\"\"\n",
    "        sigma = q[iband].synthbeam.peak150.sigma * (150e9 / q[iband].filter.nu)\n",
    "        return sigma\n",
    "\n",
    "    def get_sigma_prime(q, iband):\n",
    "        \"\"\"Get the sigma needed to convolve one band at the first band resolution.\"\"\"\n",
    "        sigma_band0 = get_sigma_iband(q, 0)\n",
    "        sigma_bandi = get_sigma_iband(q, iband)\n",
    "        sigma_prime = np.sqrt(sigma_band0**2 - sigma_bandi**2)\n",
    "        #print(sigma_band0, sigma_bandi, sigma_prime)\n",
    "        return sigma_prime\n",
    "    \n",
    "    seenpix = coverage != 0\n",
    "    freq_map_pysm[:,:,~seenpix] = 0\n",
    "    #print('')\n",
    "    print('Reconvolving PySM to QSS resolutions')\n",
    "    for i in range(d['nf_recon']):\n",
    "        myFWHM = np.deg2rad(FWHMs[i])\n",
    "        print('Convolving PySM band {} with {} rad {} deg'.format(i, myFWHM, FWHMs[i]))\n",
    "        freq_map_pysm[i,:,:] = hp.sphtfunc.smoothing(freq_map_pysm[i,:,:], fwhm=myFWHM, verbose=False)\n",
    "    freq_map_pysm[:,:,~seenpix] = 0 \n",
    "    #print('')\n",
    "    #print(np.std((freq_map_pysm - freq_map_qubic)[:,:,seenpix], axis=2))\n",
    "    #print('')\n",
    "    print('Now convolving PySM and QSS to worst resolution')\n",
    "    for i in range(d['nf_recon']):\n",
    "        myFWHM = 2.35*get_sigma_prime(q,i)\n",
    "        print('Convolving PySM band {} with {} rad {} deg'.format(i, myFWHM, np.rad2deg(myFWHM)))\n",
    "            #print(np.sqrt(FWHMs[i]**2 + np.rad2deg(myFWHM)**2))\n",
    "        freq_map_pysm[i,:,:] = hp.sphtfunc.smoothing(freq_map_pysm[i,:,:], fwhm=myFWHM, verbose=False) \n",
    "        print('Convolving QSS band {} with {} rad {} deg'.format(i, myFWHM, np.rad2deg(myFWHM)))\n",
    "        freq_map_qubic[i,:,:] = hp.sphtfunc.smoothing(freq_map_qubic[i,:,:], fwhm=myFWHM, verbose=False)\n",
    "    freq_map_qubic[:,:,~seenpix] = 0   \n",
    "    freq_map_pysm[:,:,~seenpix] = 0\n",
    "    \n",
    "    return(freq_map_qubic, freq_map_pysm)"
   ]
  },
  {
   "cell_type": "markdown",
   "id": "9245d7e9",
   "metadata": {},
   "source": [
    "### SED"
   ]
  },
  {
   "cell_type": "markdown",
   "id": "0fa04022",
   "metadata": {},
   "source": [
    "The SED definition create a figure which show us the spectrale energy density for different maps and for different stokes parameter."
   ]
  },
  {
   "cell_type": "code",
   "execution_count": null,
   "id": "90326247",
   "metadata": {},
   "outputs": [],
   "source": [
    "def SED(q, coverage, d, pix):\n",
    "    \n",
    "    \"\"\"\n",
    "    Procedure that returns the amplitude value of a pixel as a function of frequency\n",
    "    \n",
    "    inputs:\n",
    "        q: dict, qubic dict\n",
    "        coverage: np.array, coverage map\n",
    "        d: dict, qubic dictionary\n",
    "        pix: list, index of the seen pixels\n",
    "    \n",
    "    returns:\n",
    "        plots of the SEDs\n",
    "    \"\"\"\n",
    "    \n",
    "    global Stokes\n",
    "    reload(qss)\n",
    "    # Can be modified ... \n",
    "    sky_config_1 = {'dust': 'd0'}\n",
    "    sky_config_2 = {'CMB':'c1'}\n",
    "    Qubic_sky_1 = qss.Qubic_sky(sky_config_1, d)\n",
    "    Qubic_sky_2 = qss.Qubic_sky(sky_config_2, d)\n",
    "    _, qss_d0, _, _ = Qubic_sky_1.get_partial_sky_maps_withnoise(spatial_noise=False, coverage=coverage)             # map of dust with Qubic instrument\n",
    "    _, qss_c1, _, _ = Qubic_sky_2.get_partial_sky_maps_withnoise(spatial_noise=False, coverage=coverage)\t\t\t   # CMB map with Qubic instrument\n",
    "    FWHMs1 = Qubic_sky_1.dictionary['synthbeam_peak150_fwhm'] * 150. / Qubic_sky_1.qubic_central_nus * Qubic_sky_1.fi2td\n",
    "    FWHMs2 = Qubic_sky_2.dictionary['synthbeam_peak150_fwhm'] * 150. / Qubic_sky_2.qubic_central_nus * Qubic_sky_2.fi2td\n",
    "    \n",
    "    #print(FWHMs1)\n",
    "    #print(FWHMs2)\n",
    "    \n",
    "    qss_d0 = np.transpose(qss_d0, (0, 2, 1)) \n",
    "    qss_c1 = np.transpose(qss_c1, (0, 2, 1))\n",
    "\n",
    "    instrument = get_instrument('Qubic' + str(nbands) + 'bands')\n",
    "\n",
    "    pysm_d0 = get_observation(instrument, 'd0', nside=d['nside'])\n",
    "    pysm_c1 = get_observation(instrument, 'c1', nside=d['nside'])\n",
    "\n",
    "    qss_d0, pysm_d0 = same_resol_maps(qss_d0, pysm_d0, FWHMs1, coverage, d)\n",
    "    qss_c1, pysm_c1 = same_resol_maps(qss_c1, pysm_c1, FWHMs2, coverage, d)\n",
    "    \n",
    "    p_qss_d0 = np.where(qss_d0 != 0)[2]\n",
    "    p_pysm_d0 = np.where(pysm_d0 != 0)[2]\n",
    "    \n",
    "    p_qss_c1 = np.where(qss_c1 != 0)[2]\n",
    "    p_pysm_c1 = np.where(pysm_c1 != 0)[2]\n",
    "    \n",
    "    #X = instrument.frequency\n",
    "    ind = 30\n",
    "    X = nus_in\n",
    "    fig, axs = plt.subplots(2, 3)\n",
    "    for i in range(3):\n",
    "        axs[0,i].plot(X, qss_d0[:, i, p_qss_d0[ind]], 'b-x', label = 'd0 QSS ' + Stokes[i])\n",
    "        axs[0,i].plot(X, pysm_d0[:, i, p_pysm_d0[ind]], 'g-x', label = 'd0 PySM ' + Stokes[i])\n",
    "        axs[0,i].set_xlabel(\"f [GHz]\")\n",
    "        axs[0,i].set_title(\"{} Stokes parameter\".format(Stokes[i]))\n",
    "        axs[0,i].legend()\n",
    "        axs[1,i].plot(X, qss_c1[:, i, p_qss_c1[ind]], 'b-x', label = 'c1 QSS ' + Stokes[i])\n",
    "        axs[1,i].plot(X, pysm_c1[:, i, p_pysm_c1[ind]], 'g-x',label = 'c1 PySM ' + Stokes[i])\n",
    "        axs[1,i].set_xlabel(\"f [GHz]\")\n",
    "        axs[1,i].legend()"
   ]
  },
  {
   "cell_type": "markdown",
   "id": "8e0b7a2a",
   "metadata": {},
   "source": [
    "### plot maps diff freq"
   ]
  },
  {
   "cell_type": "code",
   "execution_count": null,
   "id": "63fedbb0",
   "metadata": {},
   "outputs": [],
   "source": [
    "def plot_maps_diff_freq(map1, qub_dic, seenpix, sub_freq1, sub_freq2, ind_stokes, title):\n",
    "    \n",
    "    \"\"\"\n",
    "    inputs:\n",
    "        map1, map2: np.array, of the format (nband, npix, nStokes)\n",
    "        qub_dic: dict, with QSS attributes\n",
    "        sub_freq: int, at which subfrequency we plot the maps\n",
    "        \n",
    "    returns\n",
    "        matplotlib plot 1x3 of input map, estimated map, difference between frequency\n",
    "    \"\"\"\n",
    "    \n",
    "    sig1 = np.std(map1[sub_freq1, ind_stokes, :])\n",
    "    sig2 = np.std(map1[sub_freq2, ind_stokes, :])\n",
    "    \n",
    "    nsig = 3\n",
    "    Stokes = ['I', 'Q', 'U']\n",
    "    center = qubic.equ2gal(qub_dic['RA_center'], qub_dic['DEC_center'])\n",
    "    freq1 = np.round(nus_in[sub_freq1], 2)\n",
    "    freq2 = np.round(nus_in[sub_freq2], 2)\n",
    "    fig = plt.figure()\n",
    "    \n",
    "    hp.gnomview(map1[sub_freq1, ind_stokes, :], rot = center, reso = 15, sub = (1, 3, 1), min = - nsig * sig1, max = nsig * sig1, title = '$\\mathbf{s}^{' + Stokes[ind_stokes] + '}_{' + str(freq1) + ' GHz}$')\n",
    "    hp.gnomview(map1[sub_freq2, ind_stokes, :], rot = center, reso = 15, sub = (1, 3, 2), min = - nsig * sig1, max = nsig * sig1, title = '$\\hat{\\mathbf{s}}^{' + Stokes[ind_stokes] + '}_{' + str(freq2) + ' GHz}$')\n",
    "    hp.gnomview(map1[sub_freq2, ind_stokes, :] - map1[sub_freq1, ind_stokes, :], rot = center, reso = 15, sub = (1, 3, 3), min = - nsig * sig1, max = nsig * sig1, title = '$\\hat{\\mathbf{s}}^{' + Stokes[ind_stokes] + '}_{' + str(freq2) + 'GHz} - \\mathbf{s}^{' + Stokes[ind_stokes] + '}_{' + str(freq1) + 'GHz}$')\n",
    "    \n",
    "    plt.suptitle(title)\n",
    "    \n",
    "    #plt.tight_layout(pad=2.5)"
   ]
  },
  {
   "cell_type": "markdown",
   "id": "659bd52b",
   "metadata": {},
   "source": [
    "### Plot maps"
   ]
  },
  {
   "cell_type": "code",
   "execution_count": null,
   "id": "b595f42a",
   "metadata": {},
   "outputs": [],
   "source": [
    "def plot_maps(map1, map2, qub_dic, sub_freq, seenpix):\n",
    "    \n",
    "    \"\"\"\n",
    "    inputs:\n",
    "        map1, map2: np.array, of the format (nband, npix, nStokes)\n",
    "        qub_dic: dict, with QSS attributes\n",
    "        sub_freq: int, at which subfrequency we plot the maps\n",
    "        \n",
    "    returns\n",
    "        matplotlib plot 3x3 of input map, estimated map, difference\n",
    "    \"\"\"\n",
    "    \n",
    "    nsig = 3\n",
    "    Stokes = ['I', 'Q', 'U']\n",
    "    center = qubic.equ2gal(qub_dic['RA_center'], qub_dic['DEC_center'])\n",
    "    fig = plt.figure()\n",
    "    \n",
    "    for i in range(3):\n",
    "        \n",
    "        sig = np.std(map1[sub_freq, i, seenpix])      # Compute standard deviation of the map1 to the bare sub-frequency sub_freq\n",
    "        \n",
    "        hp.gnomview(map1[sub_freq, i, :], rot=center, reso=15, sub=(3, 3, 3*i+1), min=-nsig*sig, max=nsig*sig, title= '$\\mathbf{s}^{' + Stokes[i] +  '}$')   \n",
    "      \n",
    "        hp.gnomview(map2[0, i, :], rot=center, reso=15, sub=(3, 3, 3*i+2), min=-nsig*sig, max=nsig*sig, title='$\\hat{\\mathbf{s}}^{' + Stokes[i] + '}$')\n",
    "        \n",
    "        hp.gnomview(map2[sub_freq, i, :] - map1[sub_freq, i, :], min=-nsig*sig, max=nsig*sig, rot=center, reso=15, sub=(3, 3, 3*i+3), title='$\\hat{\\mathbf{s}}^{' + Stokes[i] + '} - \\mathbf{s}^{' + Stokes[i] + '}$ \\n mm: ')\n",
    "        \n",
    "    plt.tight_layout(pad=2.5)"
   ]
  },
  {
   "cell_type": "markdown",
   "id": "a57cc40b",
   "metadata": {},
   "source": [
    "## Main program"
   ]
  },
  {
   "cell_type": "markdown",
   "id": "3e50e99d",
   "metadata": {},
   "source": [
    "We apply now the FG-Buster algorithm to create some maps of the foreground components."
   ]
  },
  {
   "cell_type": "code",
   "execution_count": null,
   "id": "7c1f2699",
   "metadata": {},
   "outputs": [],
   "source": [
    "reload(qss)\n",
    "\n",
    "sky_config = {'dust':'d0'}\n",
    "Qubic_sky = qss.Qubic_sky(sky_config, d)\n",
    "\n",
    "#Raw qss map\n",
    "raw_qss_map = np.transpose(Qubic_sky.get_fullsky_convolved_maps(), (0, 2, 1))\n",
    "#Raw pysm map (with bp)\n",
    "raw_pysm_map = np.transpose(Qubic_sky.get_simple_sky_map(), (0, 2, 1))\n",
    "instrument = get_instrument('Qubic' + str(nbands) + 'bands')"
   ]
  },
  {
   "cell_type": "code",
   "execution_count": null,
   "id": "11ff06f8",
   "metadata": {},
   "outputs": [],
   "source": [
    "npix = 12 * d['nside'] ** 2     # 12*nside**2\n",
    "Nf = int(d['nf_sub'])           # 3\n",
    "band = d['filter_nu'] / 1e9     # 150 GHz\n",
    "filter_relative_bandwidth = d['filter_relative_bandwidth']     # 0.25\n",
    "_, nus_edge, nus_in, _, _, Nbbands_in = qubic.compute_freq(band, Nf, filter_relative_bandwidth)"
   ]
  },
  {
   "cell_type": "code",
   "execution_count": null,
   "id": "4b471eca",
   "metadata": {},
   "outputs": [],
   "source": [
    "new_list_of_freqs = []\n",
    "'''\n",
    "for i in range(Nf):\n",
    "    nfreqinteg = 50\n",
    "    freqs = np.linspace(nus_edge[i], nus_edge[i + 1], nfreqinteg)\n",
    "    weights_flat = np.ones(nfreqinteg)\n",
    "    weights = weights_flat / _jysr2rj(freqs)\n",
    "    weights /= _rj2cmb(freqs)\n",
    "    weights /= np.trapz(weights, freqs * 1e9)\n",
    "    new_list_of_freqs.append((freqs, weights))\n",
    "'''\n",
    "new_list_of_freqs = []\n",
    "for i in range(instrument.frequency.shape[0]) :\n",
    "    new_list_of_freqs.append(instrument.frequency[i])\n",
    "#print(new_list_of_freqs)"
   ]
  },
  {
   "cell_type": "code",
   "execution_count": null,
   "id": "efc56902",
   "metadata": {},
   "outputs": [],
   "source": [
    "FWHMs = Qubic_sky.dictionary['synthbeam_peak150_fwhm'] * 150. / Qubic_sky.qubic_central_nus * Qubic_sky.fi2td\n",
    "freq_map_qubic, freq_map_pysm = same_resol_maps(raw_qss_map, raw_pysm_map, FWHMs, coverage, d)"
   ]
  },
  {
   "cell_type": "code",
   "execution_count": null,
   "id": "d6022ec2",
   "metadata": {},
   "outputs": [],
   "source": [
    "plt.figure(1)\n",
    "k = 0\n",
    "for i in range(nbands):\n",
    "    for j in range(3):\n",
    "    \thp.gnomview(freq_map_qubic[i, j, :], title = r'{} - f = {} GHz'.format(Stokes[j], str(np.round(nus_in[i], 2))), sub = (nbands, 3, k+1), rot=center, reso=15)\n",
    "    \tk += 1\n",
    "\n",
    "plt.show() "
   ]
  },
  {
   "cell_type": "markdown",
   "id": "0ca15d87",
   "metadata": {},
   "source": [
    "### Sed"
   ]
  },
  {
   "cell_type": "code",
   "execution_count": null,
   "id": "11f47711",
   "metadata": {},
   "outputs": [],
   "source": [
    "SED(q, coverage, d, np.where(seenpix == True)[0])"
   ]
  },
  {
   "cell_type": "markdown",
   "id": "b8c85776",
   "metadata": {},
   "source": [
    "### Difference between Qubic and PySM (for the same frequency)"
   ]
  },
  {
   "cell_type": "code",
   "execution_count": null,
   "id": "d3ed1c81",
   "metadata": {},
   "outputs": [],
   "source": [
    "ind_freq = 0\n",
    "\n",
    "plot_maps(freq_map_qubic, freq_map_pysm, d, ind_freq, seenpix)"
   ]
  },
  {
   "cell_type": "markdown",
   "id": "b4d5cfef",
   "metadata": {},
   "source": [
    "### Difference between 2 frequencies"
   ]
  },
  {
   "cell_type": "code",
   "execution_count": null,
   "id": "94fff368",
   "metadata": {},
   "outputs": [],
   "source": [
    "ind_freq1 = 0\n",
    "ind_freq2 = 2\n",
    "stokes_par = 0\n",
    "\n",
    "for i in range(3) :\n",
    "    plot_maps_diff_freq(freq_map_qubic, d, seenpix, ind_freq1, ind_freq2, i, 'Difference between 2 frequencies for ' + str(Stokes[i]))"
   ]
  },
  {
   "cell_type": "markdown",
   "id": "e51539b7",
   "metadata": {},
   "source": [
    "## FG-Buster"
   ]
  },
  {
   "cell_type": "markdown",
   "id": "b3234093",
   "metadata": {},
   "source": [
    "To compare, we compute the foreground maps with **fgbuster** module."
   ]
  },
  {
   "cell_type": "code",
   "execution_count": null,
   "id": "525d2b44",
   "metadata": {},
   "outputs": [],
   "source": [
    "instrument = get_instrument('Qubic' + str(nbands) + 'bands')"
   ]
  },
  {
   "cell_type": "code",
   "execution_count": null,
   "id": "4feaa019",
   "metadata": {},
   "outputs": [],
   "source": [
    "freq_maps = get_observation(instrument, 'c1d0s0', nside = d['nside'])"
   ]
  },
  {
   "cell_type": "code",
   "execution_count": null,
   "id": "38239e78",
   "metadata": {},
   "outputs": [],
   "source": [
    "components = []\n",
    "\n",
    "for i in range(nbands) :\n",
    "    print('band {}/'.format(i+1) + str(nbands))\n",
    "    components.append([CMB(), Dust(nus_in[i])])\n",
    "print('Done !')"
   ]
  },
  {
   "cell_type": "code",
   "execution_count": null,
   "id": "aed661e5",
   "metadata": {},
   "outputs": [],
   "source": [
    "res = []\n",
    "\n",
    "for i in range(nbands) :\n",
    "    print('band {}/'.format(i+1) + str(nbands))\n",
    "    res.append(basic_comp_sep(components[i], instrument, freq_maps))\n",
    "print('Done !')"
   ]
  },
  {
   "cell_type": "code",
   "execution_count": null,
   "id": "fa54d9db",
   "metadata": {},
   "outputs": [],
   "source": [
    "if nbands == 3 : \n",
    "    b = widgets.Dropdown(options = [(str(np.round(nus_in[0], 2)) + ' GHz', 0), (str(np.round(nus_in[1], 2)) + ' GHz', 1), (str(np.round(nus_in[2], 2)) + ' GHz', 2)], value = 0, desciption = 'Stokes parameter : ')\n",
    "elif nbands == 4 :\n",
    "    b = widgets.Dropdown(options = [(str(np.round(nus_in[0], 2)) + ' GHz', 0), (str(np.round(nus_in[1], 2)) + ' GHz', 1), (str(np.round(nus_in[2], 2)) + ' GHz', 2), (str(np.round(nus_in[3], 3)) + ' GHz', 3)], value = 0, desciption = 'Stokes parameter : ')\n",
    "elif nbands == 5 :\n",
    "    b = widgets.Dropdown(options = [(str(np.round(nus_in[0], 2)) + ' GHz', 0), (str(np.round(nus_in[1], 2)) + ' GHz', 1), (str(np.round(nus_in[2], 2)) + ' GHz', 2), (str(np.round(nus_in[3], 3)) + ' GHz', 3), (str(np.round(nus_in[4], 4)) + ' GHz', 4)], value = 0, desciption = 'Stokes parameter : ')    \n",
    "else :\n",
    "    pass\n",
    "b"
   ]
  },
  {
   "cell_type": "markdown",
   "id": "9227f533",
   "metadata": {},
   "source": [
    "### Maps of foregrounds"
   ]
  },
  {
   "cell_type": "code",
   "execution_count": null,
   "id": "5e267b95",
   "metadata": {},
   "outputs": [],
   "source": [
    "#ind_stokes = a.value\n",
    "ind_freq = b.value\n",
    "\n",
    "\n",
    "nsig = 3\n",
    "\n",
    "plt.figure()\n",
    "for j in range(3) :\n",
    "    sig1 = np.std(freq_map_qubic[ind_freq, j, :])\n",
    "    hp.gnomview(freq_map_qubic[ind_freq, j, :], min = - nsig * sig1, max = nsig * sig1, reso = 15, \n",
    "                    rot = center, sub = (3, 3, 3*j+1), title = 'Qubic map - {}'.format(Stokes[j]))\n",
    "    hp.gnomview(res[ind_freq].s[1, j, :], min = - nsig * sig1, max = nsig * sig1, reso = 15, rot = center, \n",
    "                    sub = (3, 3, 3*j+2), title = 'FG-buster - {}'.format(Stokes[j]))\n",
    "    hp.gnomview(freq_map_qubic[ind_freq, j, :] - res[ind_freq].s[1, j, :], cmap = 'bwr', min = - nsig * sig1, \n",
    "                    max = nsig * sig1, reso = 15, rot = center, sub = (3, 3, 3*j+3), title = 'map1 - map2')\n",
    "\n",
    "plt.tight_layout(pad = 2.5)\n",
    "plt.show()"
   ]
  },
  {
   "cell_type": "markdown",
   "id": "a7f66d4d",
   "metadata": {},
   "source": [
    "### Histograms of foregrounds"
   ]
  },
  {
   "cell_type": "markdown",
   "id": "90c15e91",
   "metadata": {},
   "source": [
    "To compare both, we can plot histograms for each stokes parameters at each frequencies. If the reconstruction is good, these histograms look like approximately the same."
   ]
  },
  {
   "cell_type": "code",
   "execution_count": null,
   "id": "c1eb80fe",
   "metadata": {},
   "outputs": [],
   "source": [
    "seenpix = coverage != 0\n",
    "\n",
    "fig, axs = plt.subplots(nbands, 3)\n",
    "for i in range(nbands) :\n",
    "    for j in range(3) :\n",
    "        if j == 0 :\n",
    "            axs[i, j].hist(res[i].s[1, j, seenpix], bins = 100, alpha = 0.3, label = 'FGbuster', color = 'r', range = [0, 20])\n",
    "            axs[i, j].hist(freq_map_qubic[i, j, seenpix], bins = 100, alpha = 0.3, label = 'Qubic', color = 'b', range = [0, 20])\n",
    "        else :\n",
    "            axs[i, j].hist(res[i].s[1, j, seenpix], bins = 100, alpha = 0.3, label = 'FGbuster', color = 'r')\n",
    "            axs[i, j].hist(freq_map_qubic[i, j, seenpix], bins = 100, alpha = 0.3, label = 'Qubic', color = 'b')\n",
    "        axs[i, j].set_title('f = {} GHz - {}'.format(np.round(nus_in[i], 2), Stokes[j]))\n",
    "        axs[i, j].legend()\n",
    "fig.tight_layout(pad=2.5)"
   ]
  },
  {
   "cell_type": "code",
   "execution_count": null,
   "id": "f73e230c",
   "metadata": {},
   "outputs": [],
   "source": []
  }
 ],
 "metadata": {
  "jupytext": {
   "formats": "ipynb,Rmd"
  },
  "kernelspec": {
   "display_name": "Python 3",
   "language": "python",
   "name": "python3"
  }
 },
 "nbformat": 4,
 "nbformat_minor": 5
}
