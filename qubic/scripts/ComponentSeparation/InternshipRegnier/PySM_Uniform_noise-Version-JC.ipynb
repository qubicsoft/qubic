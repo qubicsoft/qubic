{
 "cells": [
  {
   "cell_type": "code",
   "execution_count": null,
   "id": "fa30e200",
   "metadata": {},
   "outputs": [],
   "source": [
    "import random\n",
    "import healpy as hp\n",
    "import glob\n",
    "from scipy.optimize import curve_fit\n",
    "import pickle\n",
    "from importlib import reload\n",
    "import time\n",
    "import scipy\n",
    "import os\n",
    "import numpy as np\n",
    "import matplotlib.pyplot as plt\n",
    "import sys\n",
    "import pylab\n",
    "from pylab import arange, show, cm\n",
    "from astropy import units as uq\n",
    "import gc\n",
    "\n",
    "### Specific qubic modules\n",
    "from qubicpack.utilities import Qubic_DataDir\n",
    "from pysimulators import FitsArray\n",
    "import pysm3 \n",
    "import pysm3.units as u\n",
    "import pysm3.utils as utils\n",
    "import qubic\n",
    "from qubic import QubicSkySim as qss\n",
    "from qubic import fibtools as ft\n",
    "from qubic import camb_interface as qc\n",
    "from qubic import SpectroImLib as si\n",
    "from qubic import NamasterLib as nam\n",
    "from qubic import mcmc\n",
    "from pysimulators.interfaces.healpy import HealpixConvolutionGaussianOperator\n",
    "\n",
    "### FGBuster functions module\n",
    "from fgbuster import get_instrument, get_sky, get_observation, ilc, basic_comp_sep, harmonic_ilc, weighted_comp_sep, multi_res_comp_sep  # Predefined instrumental and sky-creation configurations\n",
    "from fgbuster.visualization import corner_norm, plot_component\n",
    "from fgbuster.mixingmatrix import MixingMatrix\n",
    "from fgbuster.observation_helpers import _rj2cmb, _jysr2rj, get_noise_realization\n",
    "\n",
    "# Imports needed for component separation\n",
    "from fgbuster import (separation_recipes, xForecast, CMB, Dust, Synchrotron, FreeFree, PowerLaw,  # sky-fitting model\n",
    "                      basic_comp_sep)  # separation routine\n",
    "\n",
    "from ComponentSeparation import CompSep\n",
    "from Plots import Plots as plts\n",
    "\n",
    "# Widgets\n",
    "\n",
    "import ipywidgets as widgets\n",
    "\n",
    "reload(qss)\n",
    "reload(ft)\n",
    "\n",
    "plt.rc('figure', figsize=(16, 10))\n",
    "plt.rc('font', size=15)\n",
    "plt.rcParams['image.cmap'] = 'jet'"
   ]
  },
  {
   "cell_type": "code",
   "execution_count": null,
   "id": "1e16df6a",
   "metadata": {},
   "outputs": [],
   "source": [
    "### Some initializations, to be replaced with specific path, or to modify in bash\n",
    "# os.environ['QUBIC_DATADIR'] = '/home/mathias/Bureau/qubic/qubic'\n",
    "# os.environ['QUBIC_DICT'] = '/home/mathias/Bureau/qubic/qubic/dicts'\n",
    "global_dir = Qubic_DataDir(datafile='instrument.py', datadir=os.environ['QUBIC_DATADIR'])"
   ]
  },
  {
   "cell_type": "code",
   "execution_count": null,
   "id": "339aaa77",
   "metadata": {},
   "outputs": [],
   "source": [
    "### Qubic dictionaries for 150GHz and 220Ghz\n",
    "config_150, config_220 = 'FI-150', 'FI-220'\n",
    "dictfilename150 = global_dir + '/doc/FastSimulator/FastSimDemo_{}.dict'.format(config_150)\n",
    "dictfilename220 = global_dir + '/doc/FastSimulator/FastSimDemo_{}.dict'.format(config_220)\n",
    "d150, d220 = qubic.qubicdict.qubicDict(), qubic.qubicdict.qubicDict()\n",
    "d150.read_from_file(dictfilename150)\n",
    "d220.read_from_file(dictfilename220)\n",
    "qub_dic = {'150': d150, '220': d220}\n",
    "center = qubic.equ2gal(d150['RA_center'], d150['DEC_center'])\n",
    "print(center)"
   ]
  },
  {
   "cell_type": "code",
   "execution_count": null,
   "id": "e9a0b5e2",
   "metadata": {},
   "outputs": [],
   "source": [
    "### Read some stuff\n",
    "    # Read dictionary chosen\n",
    "d150['focal_length'] = 0.3\n",
    "d150['nside'] = 256\n",
    "    #Define the number of reconstruction bands:\n",
    "nbands = 3\n",
    "d150['nf_recon'] = nbands"
   ]
  },
  {
   "cell_type": "code",
   "execution_count": null,
   "id": "57e3ad24",
   "metadata": {},
   "outputs": [],
   "source": [
    "def coverage_func(qub_dic, nbands, is_2_band, fq, npoints):\n",
    "    \n",
    "    \"\"\"\n",
    "    Procedure that returns coverage maps either at both 150 and 220 or only 150 or 220\n",
    "    \n",
    "    inputs:\n",
    "        qub_dic: dict, of the form {'150': qub_dic_150, '220': ...}\n",
    "        nbands: int, number of subbands\n",
    "        is_2_band: boolean, if user wants coverage for only 1 frequency band or for 2\n",
    "        fq: int, either 150 or 220\n",
    "        npoints: int, number of pointing points\n",
    "    \n",
    "    returns:\n",
    "        q: qubic object\n",
    "        cov: np.array, coverage map\n",
    "    \"\"\"\n",
    "    \n",
    "    if is_2_band == True:\n",
    "        qubic_dict_150, qubic_dict_220 = qub_dic['150'], qub_dic['220']\n",
    "        qubic_dict_150['nside'], qubic_dict_220['nside'] = 256, 256\n",
    "        qubic_dict_150['nf_recon'] = nbands\n",
    "        qubic_dict_220['nf_recon'] = nbands\n",
    "        qubic_dict_150['nf_sub'] = nbands\n",
    "        qubic_dict_220['nf_sub'] = nbands\n",
    "        qubic_dict_150['npointings'] = npoints\n",
    "        qubic_dict_220['npointings'] = npoints\n",
    "        p150 = qubic.get_pointing(qubic_dict_150)\n",
    "        p220 = qubic.get_pointing(qubic_dict_220)\n",
    "        s150 = qubic.QubicScene(qubic_dict_150)\n",
    "        s220 = qubic.QubicScene(qubic_dict_220)\n",
    "        q150 = qubic.QubicMultibandInstrument(qubic_dict_150)\n",
    "        q220 = qubic.QubicMultibandInstrument(qubic_dict_220)\n",
    "        _, nus_edge_150, _, _, _, _ = qubic.compute_freq(150, qubic_dict_150['nf_sub'])\n",
    "        _, nus_edge_220, _, _, _, _ = qubic.compute_freq(220, qubic_dict_220['nf_sub'])\n",
    "        a150 = qubic.QubicMultibandAcquisition(q150, p150, s150, qubic_dict_150, nus_edge_150)\n",
    "        a220 = qubic.QubicMultibandAcquisition(q220, p220, s220, qubic_dict_220, nus_edge_220)\n",
    "        cov1 = a150.get_coverage()\n",
    "        cov2 = a220.get_coverage()\n",
    "        a150 = 0\n",
    "        a220 = 0\n",
    "        cov1 = np.sum(cov1, axis=0)\n",
    "        cov2 = np.sum(cov2, axis=0)\n",
    "        cov1 /= np.max(cov1)\n",
    "        cov2 /= np.max(cov2)\n",
    "        return q150, q220, cov1, cov2\n",
    "    else:\n",
    "        gc.collect()\n",
    "        qubic_dict = qub_dic[str(fq)]\n",
    "        qubic_dict['nside'] = 256\n",
    "        qubic_dict['nf_recon'] = nbands\n",
    "        qubic_dict['nf_sub'] = nbands\n",
    "        qubic_dict['npointings'] = npoints\n",
    "        p = qubic.get_pointing(qubic_dict)\n",
    "        s = qubic.QubicScene(qubic_dict)\n",
    "        q = qubic.QubicMultibandInstrument(qubic_dict)\n",
    "        _, nus_edge, _, _, _, _ = qubic.compute_freq(fq, qubic_dict['nf_sub'])\n",
    "        a = qubic.QubicMultibandAcquisition(q, p, s, qubic_dict, nus_edge)\n",
    "        cov = a.get_coverage()\n",
    "        a = 0\n",
    "        cov = np.sum(cov, axis=0)\n",
    "        cov /= np.max(cov)\n",
    "        return q, cov"
   ]
  },
  {
   "cell_type": "code",
   "execution_count": null,
   "id": "eb5ff2ec",
   "metadata": {},
   "outputs": [],
   "source": [
    "npix = 12 * d150['nside'] ** 2\n",
    "Nf = int(d150['nf_sub'])\n",
    "band = d150['filter_nu'] / 1e9\n",
    "filter_relative_bandwidth = d150['filter_relative_bandwidth']\n",
    "_, nus_edge, nus_in, _, _, Nbbands_in = qubic.compute_freq(band, Nf, filter_relative_bandwidth)"
   ]
  },
  {
   "cell_type": "code",
   "execution_count": null,
   "id": "577d3266",
   "metadata": {},
   "outputs": [],
   "source": [
    "### Example of how it works ...\n",
    "q150, cov150 = coverage_func(qub_dic, nbands, False, 150, 3000)"
   ]
  },
  {
   "cell_type": "code",
   "execution_count": null,
   "id": "c2a651bb",
   "metadata": {},
   "outputs": [],
   "source": [
    "def give_me_simple_maps(mysky, freqs, fwhmdeg, okpix=None, signoise=None):\n",
    "    \n",
    "    allmaps = np.zeros((len(freqs), 3, 12*256**2))\n",
    "    allmaps_noise = np.zeros((len(freqs), 3, 12*256**2))\n",
    "    for i in range(len(freqs)):\n",
    "        \n",
    "        ### Get maps at infinite resolution\n",
    "        mymaps = mysky.sky.get_emission(freqs[i] * u.GHz) * utils.bandpass_unit_conversion(freqs[i] * u.GHz, 1, u.uK_CMB).T\n",
    "        \n",
    "        ### Convolve them to appropriate resolution\n",
    "        mymaps = hp.sphtfunc.smoothing(mymaps, fwhm=np.deg2rad(fwhmdeg[i]))\n",
    "        \n",
    "        if okpix is not None:\n",
    "            mymaps[:,~okpix] = 0\n",
    "        \n",
    "        if signoise is not None:\n",
    "            npixok = np.sum(okpix)\n",
    "            \n",
    "            a = np.random.randn(npixok)*signoise\n",
    "            b = np.random.randn(npixok)*signoise*np.sqrt(2)\n",
    "            c = np.random.randn(npixok)*signoise*np.sqrt(2)\n",
    "            \n",
    "            allmaps_noise[i, 0, okpix] = a\n",
    "            allmaps_noise[i, 1, okpix] = b\n",
    "            allmaps_noise[i, 2, okpix] = c\n",
    "            \n",
    "            mymaps[0,okpix] += a\n",
    "            mymaps[1,okpix] += b\n",
    "            mymaps[2,okpix] += c\n",
    "            \n",
    "        allmaps[i,:,:] = mymaps\n",
    "            \n",
    "    return allmaps, allmaps_noise"
   ]
  },
  {
   "cell_type": "code",
   "execution_count": null,
   "id": "bcf16e2f",
   "metadata": {},
   "outputs": [],
   "source": [
    "fwhmdeg = [0.42999269, 0.39543908, 0.36366215]\n",
    "# fwhmdeg = [0.39543908, 0.39543908, 0.39543908]"
   ]
  },
  {
   "cell_type": "code",
   "execution_count": null,
   "id": "1f0380ad",
   "metadata": {},
   "outputs": [],
   "source": [
    "okpix = (cov150 > (0.1*np.max(cov150)))\n",
    "\n",
    "signoise = 1.\n",
    "seed = 42\n",
    "sky_config = {'dust': 'd0', 'cmb': seed}\n",
    "Qubic_sky_150 = qss.Qubic_sky(sky_config, d150)\n",
    "\n",
    "freqs = [90, 150, 220]\n",
    "#freqs = [136.984337, 148.954079, 161.969742]\n",
    "\n",
    "\n",
    "cmbdust, noise_cmbdust = give_me_simple_maps(Qubic_sky_150, freqs, fwhmdeg, okpix=okpix, signoise=signoise)\n",
    "cmbdust_only = cmbdust - noise_cmbdust"
   ]
  },
  {
   "cell_type": "code",
   "execution_count": null,
   "id": "9445d6c6",
   "metadata": {},
   "outputs": [],
   "source": [
    "sky_config = {'cmb': seed}\n",
    "Qubic_sky_150 = qss.Qubic_sky(sky_config, d150)\n",
    "\n",
    "cmb, noise_cmb = give_me_simple_maps(Qubic_sky_150, freqs, fwhmdeg, okpix=okpix, signoise=signoise)\n",
    "cmb_only = cmb - noise_cmb"
   ]
  },
  {
   "cell_type": "code",
   "execution_count": null,
   "id": "b41bc149",
   "metadata": {},
   "outputs": [],
   "source": [
    "sky_config = {'dust': 'd0'}\n",
    "Qubic_sky_150 = qss.Qubic_sky(sky_config, d150)\n",
    "\n",
    "dust, noise_dust = give_me_simple_maps(Qubic_sky_150, freqs, fwhmdeg, okpix=okpix, signoise=signoise)\n",
    "dust_only = dust - noise_dust"
   ]
  },
  {
   "cell_type": "code",
   "execution_count": null,
   "id": "72b0d5cb",
   "metadata": {},
   "outputs": [],
   "source": [
    "# Function to get all maps at the same resolution\n",
    "def same_resol(map1, fwhm, fwhm_target=None, verbose=False) :\n",
    "    sh = np.shape(map1)\n",
    "    nb_bands = sh[0]\n",
    "    if fwhm_target is None:\n",
    "        myfwhm = np.max(fwhm)\n",
    "    else:\n",
    "        myfwhm = fwhm_target\n",
    "    print(myfwhm, np.max(fwhm))\n",
    "    maps_out = np.zeros_like(map1)\n",
    "    fwhm_out = np.zeros(nb_bands)\n",
    "    for i in range(nb_bands):\n",
    "        delta_fwhm_deg = np.sqrt(myfwhm**2-fwhm[i]**2)\n",
    "        if verbose:\n",
    "            print('Sub {0:}: Going from {1:5.2f} to {2:5.2f}'.format(i, fwhm[i], myfwhm))\n",
    "        if delta_fwhm_deg != 0:\n",
    "            print('   -> Convolution with {0:5.2f}'.format(delta_fwhm_deg))\n",
    "            maps_out[i,:,:] = hp.sphtfunc.smoothing(map1[i,:,:], \n",
    "                                                    fwhm=np.radians(delta_fwhm_deg), \n",
    "                                                    verbose=False)\n",
    "        else:\n",
    "            print('   -> No Convolution'.format(delta_fwhm_deg))\n",
    "            maps_out[i,:,:] = map1[i,:,:]\n",
    "            \n",
    "        fwhm_out[i] = np.sqrt(fwhm[i]**2 + delta_fwhm_deg**2)\n",
    "    \n",
    "    return maps_out, fwhm_out\n",
    "    "
   ]
  },
  {
   "cell_type": "code",
   "execution_count": null,
   "id": "5642d9ce",
   "metadata": {},
   "outputs": [],
   "source": [
    "maps, tab_fwhms = same_resol(cmb_only, fwhmdeg, verbose=True)"
   ]
  },
  {
   "cell_type": "code",
   "execution_count": null,
   "id": "061a0e7d",
   "metadata": {},
   "outputs": [],
   "source": [
    "stk = ['I','Q','U']\n",
    "jstk = 0\n",
    "\n",
    "itest = 0\n",
    "for i in range(len(freqs)):\n",
    "    hp.gnomview(cmb_only[i,jstk,:]-cmb_only[itest,jstk,:], rot=center, reso=15,\n",
    "                sub=(4,len(freqs),len(freqs)*i+1), min=-1, max=1,\n",
    "                title='$\\Delta$CMBin {}-{} for {}'.format(i,itest,stk[jstk]))\n",
    "    hp.gnomview(maps[i,jstk,:]-maps[itest,jstk,:], rot=center, reso=15,\n",
    "                sub=(4,len(freqs),len(freqs)*i+2), min=-1, max=1,\n",
    "                title='$\\Delta$CMBout {}-{} for {}'.format(i,itest,stk[jstk]))\n",
    "tight_layout()"
   ]
  },
  {
   "cell_type": "code",
   "execution_count": null,
   "id": "e3ee6058",
   "metadata": {},
   "outputs": [],
   "source": []
  },
  {
   "cell_type": "code",
   "execution_count": null,
   "id": "7fadc9ae",
   "metadata": {},
   "outputs": [],
   "source": [
    "indf = 1"
   ]
  },
  {
   "cell_type": "code",
   "execution_count": null,
   "id": "e04f6953",
   "metadata": {},
   "outputs": [],
   "source": [
    "print(freqs[indf])\n",
    "R = CompSep.fg_buster(nbands, cmbdust, Dust(freqs[indf], temp=20))\n",
    "print(R.x)"
   ]
  },
  {
   "cell_type": "code",
   "execution_count": null,
   "id": "b7b33bb2",
   "metadata": {},
   "outputs": [],
   "source": [
    "cmb_est_fg, dust_est_fg = CompSep.basic_2_tab(R, nbands)"
   ]
  },
  {
   "cell_type": "code",
   "execution_count": null,
   "id": "5883f44d",
   "metadata": {},
   "outputs": [],
   "source": [
    "plts.all_components(dust_est_fg, indf, center, 15, 'dust est')\n",
    "plts.all_components(dust_only, indf, center, 15, 'dust')"
   ]
  },
  {
   "cell_type": "code",
   "execution_count": null,
   "id": "03d9870c",
   "metadata": {},
   "outputs": [],
   "source": [
    "plts.diff_2_maps(dust_only, dust_est_fg, cov150, indf, center, 15, 'Dust', 'Dust est')"
   ]
  },
  {
   "cell_type": "code",
   "execution_count": null,
   "id": "97fb83c4",
   "metadata": {},
   "outputs": [],
   "source": [
    "plts.diff_2_maps(cmb_only, cmb_est_fg, cov150, indf, center, 15, 'CMB', 'CMB est')"
   ]
  },
  {
   "cell_type": "code",
   "execution_count": null,
   "id": "37ebf1e4",
   "metadata": {},
   "outputs": [],
   "source": [
    "a1, b1, a2, b2 = plts.diff_2_hist(cmb_only, cmb_est_fg, cov150, indf, 'CMB In', 'CMB Out')"
   ]
  },
  {
   "cell_type": "code",
   "execution_count": null,
   "id": "bbaef477",
   "metadata": {},
   "outputs": [],
   "source": [
    "a1, b1, a2, b2 = plts.diff_2_hist(dust_only, dust_est_fg, cov150, indf, 'Dust In', 'Dust Out')"
   ]
  },
  {
   "cell_type": "code",
   "execution_count": null,
   "id": "033a3984",
   "metadata": {},
   "outputs": [],
   "source": []
  },
  {
   "cell_type": "code",
   "execution_count": null,
   "id": "aacbea00",
   "metadata": {},
   "outputs": [],
   "source": []
  },
  {
   "cell_type": "code",
   "execution_count": null,
   "id": "cbf0f877",
   "metadata": {},
   "outputs": [],
   "source": []
  },
  {
   "cell_type": "code",
   "execution_count": null,
   "id": "0fc77218",
   "metadata": {},
   "outputs": [],
   "source": []
  },
  {
   "cell_type": "code",
   "execution_count": null,
   "id": "bc8f3189",
   "metadata": {},
   "outputs": [],
   "source": []
  },
  {
   "cell_type": "code",
   "execution_count": null,
   "id": "17dedbdf",
   "metadata": {},
   "outputs": [],
   "source": []
  },
  {
   "cell_type": "code",
   "execution_count": null,
   "id": "be6b2be7",
   "metadata": {},
   "outputs": [],
   "source": []
  },
  {
   "cell_type": "code",
   "execution_count": null,
   "id": "0e8041fe",
   "metadata": {},
   "outputs": [],
   "source": []
  },
  {
   "cell_type": "code",
   "execution_count": null,
   "id": "f59b6e21",
   "metadata": {},
   "outputs": [],
   "source": []
  },
  {
   "cell_type": "code",
   "execution_count": null,
   "id": "6c186ce6",
   "metadata": {},
   "outputs": [],
   "source": []
  },
  {
   "cell_type": "code",
   "execution_count": null,
   "id": "b076f576",
   "metadata": {},
   "outputs": [],
   "source": []
  },
  {
   "cell_type": "code",
   "execution_count": null,
   "id": "44792bd9",
   "metadata": {},
   "outputs": [],
   "source": []
  },
  {
   "cell_type": "code",
   "execution_count": null,
   "id": "201f1116",
   "metadata": {},
   "outputs": [],
   "source": []
  },
  {
   "cell_type": "code",
   "execution_count": null,
   "id": "84ea3bd6",
   "metadata": {},
   "outputs": [],
   "source": []
  }
 ],
 "metadata": {
  "kernelspec": {
   "display_name": "Python 3",
   "language": "python",
   "name": "python3"
  }
 },
 "nbformat": 4,
 "nbformat_minor": 5
}
