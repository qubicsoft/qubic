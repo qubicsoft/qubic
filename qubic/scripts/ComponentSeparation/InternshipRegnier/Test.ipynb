{
 "cells": [
  {
   "cell_type": "code",
   "execution_count": null,
   "id": "ca9aadc5",
   "metadata": {},
   "outputs": [],
   "source": [
    "import fgbuster as fgb\n",
    "from fgbuster import basic_comp_sep, get_instrument\n",
    "\n",
    "instr_s4 = get_instrument('CMBS4')\n",
    "\n",
    "##### 1 beta\n",
    "print()\n",
    "print('1 beta model with 1.54, 20')\n",
    "comp = [fgb.component_model.Dust(nu0=145., units='K_CMB'), \n",
    "        fgb.component_model.CMB()]\n",
    "true_values = [1.54, 20.]\n",
    "A_s4 = fgb.MixingMatrix(*comp)\n",
    "A_ev_s4 = A_s4.evaluator(instr_s4.frequency)\n",
    "A_maxL_s4 = A_ev_s4(true_values)\n",
    "print(A_maxL_s4)\n",
    "\n",
    "\n",
    "##### 2 beta\n",
    "print()\n",
    "print('1 beta model with 1.54, 1.54, 260, 20')\n",
    "comp = [fgb.component_model.Dust_2b(nu0=145., units='K_CMB'), \n",
    "        fgb.component_model.CMB()]\n",
    "true_values = [1.54, 1.54, 260, 20.]\n",
    "A_s4 = fgb.MixingMatrix(*comp)\n",
    "A_ev_s4 = A_s4.evaluator(instr_s4.frequency)\n",
    "A_maxL_s4 = A_ev_s4(true_values)\n",
    "print(A_maxL_s4)\n",
    "\n",
    "\n",
    "print()\n",
    "##### 2 beta\n",
    "print('1 beta model with 1.44, 1.64, 260, 20')\n",
    "comp = [fgb.component_model.Dust_2b(nu0=145., units='K_CMB'), \n",
    "        fgb.component_model.CMB()]\n",
    "true_values = [1.44, 1.64, 260, 20.]\n",
    "A_s4 = fgb.MixingMatrix(*comp)\n",
    "A_ev_s4 = A_s4.evaluator(instr_s4.frequency)\n",
    "A_maxL_s4 = A_ev_s4(true_values)\n",
    "print(A_maxL_s4)\n"
   ]
  },
  {
   "cell_type": "code",
   "execution_count": null,
   "id": "92fe64de",
   "metadata": {},
   "outputs": [],
   "source": []
  },
  {
   "cell_type": "code",
   "execution_count": null,
   "id": "b02f5327",
   "metadata": {},
   "outputs": [],
   "source": []
  },
  {
   "cell_type": "code",
   "execution_count": null,
   "id": "870792c3",
   "metadata": {},
   "outputs": [],
   "source": []
  },
  {
   "cell_type": "code",
   "execution_count": null,
   "id": "d0e423d9",
   "metadata": {},
   "outputs": [],
   "source": []
  },
  {
   "cell_type": "code",
   "execution_count": null,
   "id": "dba346e7",
   "metadata": {},
   "outputs": [],
   "source": []
  }
 ],
 "metadata": {
  "kernelspec": {
   "display_name": "Python 3",
   "language": "python",
   "name": "python3"
  }
 },
 "nbformat": 4,
 "nbformat_minor": 5
}
