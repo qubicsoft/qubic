{
 "cells": [
  {
   "cell_type": "code",
   "execution_count": null,
   "id": "5ce0a9f4",
   "metadata": {},
   "outputs": [],
   "source": [
    "from IPython.display import set_matplotlib_formats\n",
    "set_matplotlib_formats('retina')\n",
    "from IPython.core.display import display, HTML\n",
    "display(HTML(\"<style>.container { width:95% !important; }</style>\"))\n"
   ]
  },
  {
   "cell_type": "code",
   "execution_count": null,
   "id": "868b573a",
   "metadata": {},
   "outputs": [],
   "source": [
    "rc('figure', figsize=(10,6))\n",
    "rc('font', size=15)\n",
    "db = np.linspace(-1,1,7)\n",
    "ms4 = np.array([1.09480967e-03, 3.12351627e-04, 1.18298431e-05, 0.00000000e+00, 3.87325902e-04, 1.27348463e-03, 2.68802881e-03])\n",
    "ss4 = np.array([0.00070362, 0.00041402, 0.0002024, 0.00013825, 0.0002818, 0.00048278, 0.00069992])\n",
    "mbi = np.array([1.22702984e-03, 4.57175477e-04, 7.22358640e-05, 0.00000000e+00, 1.13902263e-04, 5.49624322e-04, 1.45751556e-03])\n",
    "sbi = np.array([0.00054134, 0.00037518, 0.00024544, 0.00021596, 0.00026093, 0.00039958,0.00054146])\n",
    "\n",
    "errorbar(db, ms4, yerr=ss4, fmt='ro', label='S4')\n",
    "errorbar(db, mbi, yerr=sbi, fmt='bo', label='BI')\n",
    "axhline(y=0., color='k', ls=':')\n",
    "ylim(-0.0005, 0.004)\n",
    "xlabel(r'$\\Delta \\beta$')\n",
    "ylabel(r'$\\Delta r(\\mathcal{L}_{max})$')"
   ]
  },
  {
   "cell_type": "markdown",
   "id": "f34e0022",
   "metadata": {},
   "source": [
    "In order to compare the data we consider that each one is a measurement centered on the data point with a Gaussian error given by the $\\sigma$.\n",
    "\n",
    "We can then calculate the distance between the meaurements normalized by their uncertainty (often called \"z-score\"). \n",
    "\n",
    "For this we take as an error the quadratic sum of bot errors and the distance between the two points:\n",
    "$$z = \\frac{\\left| \\mu_1 - \\mu_2 \\right|}{\\sqrt{\\sigma_1^2 + \\sigma_2^2}}$$\n",
    "\n",
    "Then we use this quantity to calculate the probability to get a distance larger than this from a Gaussian distribution, callee 'p-value'. This is done using `1. - scipy.stats.norm.cdf()`. This gives yu the probability that both measurements are actually compatoble statistically (that theeir difference is only duee to noise)."
   ]
  },
  {
   "cell_type": "code",
   "execution_count": null,
   "id": "a707bc0d",
   "metadata": {},
   "outputs": [],
   "source": [
    "import scipy.stats\n",
    "\n",
    "zvals = np.abs(ms4 - mbi) / np.sqrt(ss4**2 + sbi**2)\n",
    "subplot(1,2,1)\n",
    "plot(db, zvals, 'ko')\n",
    "xlabel(r'$\\Delta \\beta$')\n",
    "ylabel('Number of $\\sigma$')\n",
    "\n",
    "pvals = 1-scipy.stats.norm.cdf(zvals)\n",
    "subplot(1,2,2)\n",
    "plot(db, pvals, 'ko')\n",
    "xlabel(r'$\\Delta \\beta$')\n",
    "ylabel('p-value')\n"
   ]
  },
  {
   "cell_type": "code",
   "execution_count": null,
   "id": "aaf42bdf",
   "metadata": {},
   "outputs": [],
   "source": []
  },
  {
   "cell_type": "code",
   "execution_count": null,
   "id": "2375ce8d",
   "metadata": {},
   "outputs": [],
   "source": []
  }
 ],
 "metadata": {
  "kernelspec": {
   "display_name": "Python 3",
   "language": "python",
   "name": "python3"
  }
 },
 "nbformat": 4,
 "nbformat_minor": 5
}
