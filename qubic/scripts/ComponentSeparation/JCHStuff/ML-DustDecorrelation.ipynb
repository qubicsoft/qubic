{
 "cells": [
  {
   "cell_type": "code",
   "execution_count": null,
   "id": "7817f53a",
   "metadata": {},
   "outputs": [],
   "source": [
    "import pandas as pd\n",
    "\n",
    "%config InlineBackend.figure_format='retina'\n",
    "from IPython.display import display, HTML\n",
    "display(HTML(\"<style>.container { width:95% !important; }</style>\"))\n",
    "\n",
    "rc('figure',figsize=(20,8))\n",
    "rc('font',size=12)\n"
   ]
  },
  {
   "cell_type": "code",
   "execution_count": null,
   "id": "d447a938",
   "metadata": {},
   "outputs": [],
   "source": [
    "obj = pd.read_pickle('r_sigr.pkl')\n",
    "obj.keys()\n",
    "for k in obj.keys():\n",
    "    print(k, np.shape(obj[k]))\n",
    "r = obj['r']\n",
    "sigr = obj['sigr']\n",
    "nsub = obj['nsub']\n",
    "correlation_length = obj['correlation_length']\n",
    "\n",
    "allnsub = np.zeros_like(r)\n",
    "allcorr = np.zeros_like(r)\n",
    "for i in range(len(nsub)):\n",
    "    allnsub[:,i,:] = nsub[i]\n",
    "    \n",
    "for i in range(len(correlation_length)):\n",
    "    allcorr[i,:,:] = correlation_length[i]\n",
    "    \n",
    "# dd = {'r': np.ravel(r),\n",
    "#      'sigr': np.ravel(sigr),\n",
    "#      'nsub}\n"
   ]
  },
  {
   "cell_type": "code",
   "execution_count": null,
   "id": "f1775e76",
   "metadata": {},
   "outputs": [],
   "source": [
    "mm = np.zeros((len(correlation_length), len(nsub)))\n",
    "ss = np.zeros((len(correlation_length), len(nsub)))\n",
    "\n",
    "subplot(1,2,1)\n",
    "for k in range(len(correlation_length)):\n",
    "    mm[k,:] = np.mean(r[k,:,:], axis=1)\n",
    "    ss[k,:] = np.std(r[k,:,:], axis=1)\n",
    "    errorbar(nsub, mm[k,:], yerr=ss[k,:], fmt='o', \n",
    "             label='Corr Length={}'.format(correlation_length[k]))\n",
    "ylabel('Reconstructed r')\n",
    "xlabel('Nsub')\n",
    "legend()\n"
   ]
  },
  {
   "cell_type": "code",
   "execution_count": null,
   "id": "511cacc3",
   "metadata": {},
   "outputs": [],
   "source": [
    "### Now reorder\n",
    "sh = np.shape(r)\n",
    "print(sh)\n",
    "\n",
    "myrvalues = np.zeros((sh[2]*sh[0], sh[1]))\n",
    "mycorrl = np.zeros(sh[2]*sh[0])\n",
    "for i in range(sh[2]):\n",
    "    for k in range(sh[0]):\n",
    "        index = i*sh[0]+k\n",
    "        myrvalues[index,:] = r[k,:,i]\n",
    "        mycorrl[index] = correlation_length[k]\n",
    "\n",
    "ok = (np.min(myrvalues, axis=1) > 0 ) & (np.min(myrvalues, axis=1) < 0.05 )\n",
    "myrvalues = myrvalues[ok,:]\n",
    "mycorrl = mycorrl[ok]"
   ]
  },
  {
   "cell_type": "code",
   "execution_count": null,
   "id": "346a74df",
   "metadata": {},
   "outputs": [],
   "source": [
    "myrvalues_normed = (myrvalues.T / myrvalues[:,0]).T\n",
    "\n",
    "subplot(1,2,1)\n",
    "for i in range(len(correlation_length)):\n",
    "    this = mycorrl == correlation_length[i]\n",
    "    errorbar(nsub, np.mean(myrvalues_normed[this,:], axis=0), \n",
    "             yerr = np.std(myrvalues_normed[this,:], axis=0)/np.sqrt(np.sum(this)), fmt='o', label='Corr Length = {}'.format(correlation_length[i]))\n",
    "legend()"
   ]
  },
  {
   "cell_type": "code",
   "execution_count": null,
   "id": "db5acff3",
   "metadata": {},
   "outputs": [],
   "source": [
    "dd = {'ns=3':myrvalues_normed[:,1],\n",
    "     'ns=5':myrvalues_normed[:,2],\n",
    "     'ns=8':myrvalues_normed[:,3],\n",
    "     'CorrLength': mycorrl}\n",
    "DataMathias = pd.DataFrame(dd)\n",
    "DataMathias\n"
   ]
  },
  {
   "cell_type": "code",
   "execution_count": null,
   "id": "c515021b",
   "metadata": {},
   "outputs": [],
   "source": [
    "\n",
    "import seaborn as sn\n",
    "\n",
    "target_column = \"CorrLength\"\n",
    "columns = [\"ns=3\", \"ns=5\", \"ns=8\"]\n",
    "_ = sn.pairplot(\n",
    "    data=DataMathias,\n",
    "    vars=columns,\n",
    "    hue=target_column,\n",
    "    plot_kws={\"alpha\": 0.2},\n",
    "    height=2,\n",
    ")"
   ]
  },
  {
   "cell_type": "code",
   "execution_count": null,
   "id": "c2d6dc9d",
   "metadata": {},
   "outputs": [],
   "source": [
    "data = DataMathias[['ns=3', 'ns=5', 'ns=8']]\n",
    "target = DataMathias['CorrLength']\n",
    "target.value_counts()"
   ]
  },
  {
   "cell_type": "code",
   "execution_count": null,
   "id": "8a94970a",
   "metadata": {},
   "outputs": [],
   "source": [
    "from sklearn.pipeline import make_pipeline\n",
    "from sklearn.linear_model import LinearRegression, LogisticRegression\n",
    "from sklearn.preprocessing import StandardScaler\n",
    "from sklearn.model_selection import cross_validate\n",
    "\n",
    "#model = make_pipeline(StandardScaler(), LogisticRegression())\n",
    "model = make_pipeline(StandardScaler(), LinearRegression())\n",
    "#model = make_pipeline(LogisticRegression())\n",
    "#model = make_pipeline(StandardScaler(), KNeighborsClassifier())\n",
    "\n",
    "cv_result = cross_validate(model, data, target, cv=5, \n",
    "                           return_train_score=True)\n",
    "cv_result = pd.DataFrame(cv_result)\n",
    "print(cv_result)\n",
    "print()\n",
    "print(cv_result.mean())\n"
   ]
  },
  {
   "cell_type": "code",
   "execution_count": null,
   "id": "21018ca1",
   "metadata": {},
   "outputs": [],
   "source": [
    "model.fit(data, target)\n",
    "plot(target.values, model.predict(data), 'ro')"
   ]
  },
  {
   "cell_type": "code",
   "execution_count": null,
   "id": "66695760",
   "metadata": {},
   "outputs": [],
   "source": [
    "import sys\n",
    "sys.path.append(\"/Users/hamilton/Python/GitQubic/qubic/qubic/scripts/DiversJC/CalibSalta\")\n",
    "import fitting as fit\n",
    "\n",
    "\n",
    "subplot(1,2,1)\n",
    "tgu = np.sort(target.unique())\n",
    "for i in range(len(tgu)):\n",
    "    ok = target.values == tgu[i]\n",
    "    print(tgu[i])\n",
    "    fit.myhist(model.predict(data[ok]), range=[10,20], bins=100, alpha=0.5, label='Target = {}: '.format(tgu[i]))\n",
    "legend()\n",
    "xlabel('Reconstructed Correlation Length (training sample)')\n"
   ]
  },
  {
   "cell_type": "code",
   "execution_count": null,
   "id": "0d42fc10",
   "metadata": {},
   "outputs": [],
   "source": []
  },
  {
   "cell_type": "code",
   "execution_count": null,
   "id": "8b803a1e",
   "metadata": {},
   "outputs": [],
   "source": []
  }
 ],
 "metadata": {
  "kernelspec": {
   "display_name": "Python 3 (ipykernel)",
   "language": "python",
   "name": "python3"
  }
 },
 "nbformat": 4,
 "nbformat_minor": 5
}
