{
 "cells": [
  {
   "cell_type": "code",
   "execution_count": null,
   "id": "c3e8006b",
   "metadata": {},
   "outputs": [],
   "source": [
    "from IPython.display import set_matplotlib_formats\n",
    "set_matplotlib_formats('retina')\n",
    "from IPython.core.display import display, HTML\n",
    "display(HTML(\"<style>.container { width:95% !important; }</style>\"))\n",
    "rc('figure', figsize=(12, 10))\n",
    "rc('font', size=15)\n",
    "import pickle\n",
    "with open('/Users/hamilton/Downloads/r0.000_nolensing_fixtempfixsync_param_cls_iib10_1000reals.pkl', 'rb') as f:\n",
    "    data = pickle.load(f)\n",
    "leff=data[0]\n",
    "maxL=data[1]\n",
    "rlim68=data[2]\n",
    "rlim95=data[3]\n",
    "parameters=data[4][0]\n",
    "clsBB=data[5]\n"
   ]
  },
  {
   "cell_type": "code",
   "execution_count": null,
   "id": "ba15bd0e",
   "metadata": {},
   "outputs": [],
   "source": [
    "deltabeta = np.linspace(-0.05, 0.05, 11)\n",
    "print(deltabeta)\n",
    "\n",
    "print(7*1.6)"
   ]
  },
  {
   "cell_type": "code",
   "execution_count": null,
   "id": "41af7488",
   "metadata": {},
   "outputs": [],
   "source": [
    "rc('figure', figsize=(5, 5))\n",
    "rc('font', size=15)\n",
    "\n",
    "labs = ['CMB-S4', '20% BI', '50% BI', '100% BI']\n",
    "for i in [0,3]:\n",
    "    themaxl = np.mean(maxL[i,:,:], axis=0)\n",
    "    errmaxl = np.mean(rlim68[i,:,:], axis=0) / np.sqrt(1000)\n",
    "#     errmaxl = np.mean(rlim95[i,:,:], axis=0) / np.sqrt(1000)\n",
    "#     errmaxl = np.std(maxL[i,:,:], axis=0) / np.sqrt(1000)\n",
    "    errorbar(deltabeta, themaxl-themaxl[5], yerr=errmaxl, fmt='o-', lw=2, ms=10, label=labs[i])\n",
    "xlim(0,0.05)\n",
    "axhline(y=0,color='k', ls=':')\n",
    "axhline(y=5e-4,color='r', ls='--', label='CMB-S4 Target')\n",
    "legend(loc='upper left', fontsize=13)\n",
    "xlim(0, 0.052)\n",
    "xlabel(r'$\\Delta \\beta$')\n",
    "ylabel('Bias on r')"
   ]
  },
  {
   "cell_type": "code",
   "execution_count": null,
   "id": "06a0d08e",
   "metadata": {
    "lines_to_next_cell": 0
   },
   "outputs": [],
   "source": []
  },
  {
   "cell_type": "markdown",
   "id": "a035eb4b",
   "metadata": {},
   "source": [
    "\n"
   ]
  }
 ],
 "metadata": {
  "kernelspec": {
   "display_name": "Python 3",
   "language": "python",
   "name": "python3"
  }
 },
 "nbformat": 4,
 "nbformat_minor": 5
}
