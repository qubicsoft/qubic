{
 "cells": [
  {
   "cell_type": "code",
   "execution_count": null,
   "metadata": {},
   "outputs": [],
   "source": [
    "import numpy as np\n",
    "import matplotlib.pyplot as plt\n",
    "import healpy as hp\n",
    "\n",
    "from pyoperators import MPI\n",
    "\n",
    "import qubic\n",
    "from qubic.lib.Qdictionary import qubicDict\n",
    "from qubic.lib.Calibration.Qselfcal import scatter_plot_FP, get_TEScoordinates_ONAFP\n",
    "from qubic.lib.Instrument.Qinstrument import QubicInstrument, QubicMultibandInstrument\n",
    "from qubic.lib.Instrument.Qacquisition import QubicMultiAcquisitions\n",
    "from qubic.lib.Qsamplings import get_pointing"
   ]
  },
  {
   "cell_type": "code",
   "execution_count": null,
   "metadata": {},
   "outputs": [],
   "source": [
    "nside = 128"
   ]
  },
  {
   "cell_type": "markdown",
   "metadata": {},
   "source": [
    "# Initialize QUBIC Instance"
   ]
  },
  {
   "cell_type": "markdown",
   "metadata": {},
   "source": [
    "Build the QUBIC dictionary, mandatory to use the QUBIC functions"
   ]
  },
  {
   "cell_type": "code",
   "execution_count": null,
   "metadata": {},
   "outputs": [],
   "source": [
    "dictfilename = 'qubic/qubic/dicts/pipeline_demo.dict'\n",
    "d = qubic.lib.qubicDict()\n",
    "d.read_from_file(dictfilename)\n",
    "\n",
    "center = qubic.lib.equ2gal(d['RA_center'], d['DEC_center'])\n",
    "\n",
    "d['nf_recon'] = 2\n",
    "d['MultiBand'] = True\n",
    "\n",
    "d['npointings'] = 20\n",
    "d['synthbeam_kmax'] = 1\n",
    "nf_sub = d['nf_sub']\n",
    "d['synthbeam_fraction'] = 1\n",
    "\n",
    "d['noiseless'] = True\n",
    "d['photon_noise'] = False\n",
    "d['use_synthbeam_fits_file'] = False"
   ]
  },
  {
   "cell_type": "code",
   "execution_count": null,
   "metadata": {},
   "outputs": [],
   "source": [
    "d['nf_sub'] = 20"
   ]
  },
  {
   "cell_type": "code",
   "execution_count": null,
   "metadata": {},
   "outputs": [],
   "source": []
  },
  {
   "cell_type": "code",
   "execution_count": null,
   "metadata": {},
   "outputs": [],
   "source": [
    "# Build MPI communicator and qubic dict\n",
    "comm = MPI.COMM_WORLD\n",
    "dict_qubic = d"
   ]
  },
  {
   "cell_type": "code",
   "execution_count": null,
   "metadata": {},
   "outputs": [],
   "source": [
    "# Build scanning strategy\n",
    "sampling = get_pointing(dict_qubic)\n",
    "\n",
    "# Build QubicInstrument\n",
    "q = QubicInstrument(dict_qubic)"
   ]
  },
  {
   "cell_type": "code",
   "execution_count": null,
   "metadata": {},
   "outputs": [],
   "source": [
    "# Number of sub-acquisitions\n",
    "nsub = d['nf_sub'] / d['nf_recon']"
   ]
  },
  {
   "cell_type": "code",
   "execution_count": null,
   "metadata": {},
   "outputs": [],
   "source": [
    "# Initialize the Qubic multi-frequency acquisition\n",
    "# I multiply by 2 Nsub to have Nsub bands in each band, the rest of the code will only use the first Nsub bands (meaning the ones in the 150 GHz band)\n",
    "acq = QubicMultiAcquisitions(dict_qubic, d['nf_sub'], 2, sampling=sampling)\n",
    "\n",
    "# Build a list that contains all sub-ProjectionOperators, meaning the ProjectionOperators for each sub-bands\n",
    "Proj_list = []\n",
    "for i in range(d['nf_sub']):\n",
    "    op = acq.subacqs[i].get_operator().operands[-1]\n",
    "    print(op)\n",
    "    Proj_list.append(op)"
   ]
  },
  {
   "cell_type": "markdown",
   "metadata": {},
   "source": [
    "# Plot Synthesized Beam"
   ]
  },
  {
   "cell_type": "markdown",
   "metadata": {},
   "source": [
    "Plot the shape of the beams"
   ]
  },
  {
   "cell_type": "code",
   "execution_count": null,
   "metadata": {},
   "outputs": [],
   "source": [
    "idet = 0"
   ]
  },
  {
   "cell_type": "code",
   "execution_count": null,
   "metadata": {},
   "outputs": [],
   "source": [
    "sb = acq.subacqs[0].instrument[idet].get_synthbeam(acq.subacqs[0].scene)[0]\n",
    "hp.gnomview(np.log10(sb/np.max(sb)), rot=[0,90], reso=20, min=-3, title=\"Synthesized Beam - log scale\")"
   ]
  },
  {
   "cell_type": "code",
   "execution_count": null,
   "metadata": {},
   "outputs": [],
   "source": [
    "# This is the analytical synthesized for a pixel at the focal plane center \n",
    "# without accounting for the primary beam (just the mukltple peaks)\n",
    "# def sb_noprim(th_deg, nu):\n",
    "#     th = np.radians(th_deg)\n",
    "#     lam = 3e8/nu\n",
    "#     P = 20\n",
    "#     deltax = 0.013\n",
    "#     abscissa = np.pi * deltax/lam * th\n",
    "#     sb = np.sin(P*abscissa)**2 / np.sin(abscissa)**2\n",
    "#     return sb/np.max(sb)\n",
    "\n",
    "# N = 5000\n",
    "# thetas = np.linspace(-30, 30, N)\n",
    "# phis = 0\n",
    "# prim_beam = np.zeros((nsub, N))\n",
    "# thetas_peak = []\n",
    "# thetas_test = np.linspace(-15, -5, N)\n",
    "\n",
    "# colors = ['blue', 'red', 'green', 'orange']\n",
    "# plt.figure(figsize=(10, 8))\n",
    "# for i in range(nsub):\n",
    "#     prim_beam[i] = acq.multiinstrument[i].primary_beam(np.radians(np.abs(thetas)), phis)\n",
    "#     ind_peak = np.where((prim_beam[i]*sb_noprim(thetas_test, acq.allnus[i]*1e9)) == np.max(prim_beam[i]*sb_noprim(thetas_test, acq.allnus[i]*1e9)))[0]\n",
    "#     thetas_peak.append(thetas_test[ind_peak])\n",
    "#     plt.plot(thetas, prim_beam[i], '--', color = colors[i], label='Prim. Beam - nu={0:6.1f} GHz'.format(acq.allnus[i]))\n",
    "#     plt.plot(thetas, prim_beam[i] * sb_noprim(thetas, acq.allnus[i]*1e9), color = colors[i], label='Synth. Beam - nu={0:6.1f} GHz'.format(acq.allnus[i]))\n",
    "# plt.xlim(-20, 20)\n",
    "# plt.xlabel('$\\\\theta$ [deg]')\n",
    "# plt.ylabel('Normalized beam')\n",
    "# plt.legend()"
   ]
  },
  {
   "cell_type": "markdown",
   "metadata": {},
   "source": [
    "# Plot Primary and Synthesized Beams"
   ]
  },
  {
   "cell_type": "code",
   "execution_count": null,
   "metadata": {},
   "outputs": [],
   "source": [
    "idet = 231"
   ]
  },
  {
   "cell_type": "code",
   "execution_count": null,
   "metadata": {},
   "outputs": [],
   "source": [
    "isubband = 0"
   ]
  },
  {
   "cell_type": "code",
   "execution_count": null,
   "metadata": {},
   "outputs": [],
   "source": [
    "# Compute Synthetisized Beam for a given detector \n",
    "synth = acq.multiinstrument[isubband].get_synthbeam(acq.scene)[idet]\n",
    "\n",
    "npix = hp.nside2npix(nside)\n",
    "prim_beam = np.zeros(npix)\n",
    "\n",
    "# Compute Primary Beam\n",
    "prim = acq.multiinstrument[isubband].primary_beam\n",
    "for i in range(npix):\n",
    "    theta, phi = hp.pix2ang(nside, i)\n",
    "    prim_beam[i] = prim(theta, phi)"
   ]
  },
  {
   "cell_type": "code",
   "execution_count": null,
   "metadata": {},
   "outputs": [],
   "source": [
    "# Compute the position of the secondary peaks using _peak_angles_kmax\n",
    "th, ph = acq.subacqs[isubband].instrument._peak_angles_kmax(acq.subacqs[isubband].instrument.synthbeam.kmax, \n",
    "                                                     acq.subacqs[isubband].instrument.horn.spacing, \n",
    "                                                     acq.subacqs[isubband].instrument.horn.angle, \n",
    "                                                     acq.subacqs[isubband].instrument.filter.nu, \n",
    "                                                     acq.subacqs[isubband].instrument.detector.center)\n",
    "# Compute the amplitude of each peaks\n",
    "val = np.array(prim(th, ph), dtype=float, copy=False)"
   ]
  },
  {
   "cell_type": "code",
   "execution_count": null,
   "metadata": {},
   "outputs": [],
   "source": [
    "# Compute the position and the amplitude of the secondary peaks using _peak_angles\n",
    "# This function uses _peak_angles_kmax\n",
    "thetas, phis, vals = acq.subacqs[isubband].instrument._peak_angles(acq.scene, acq.allnus[isubband]*1e9, \n",
    "                                    acq.subacqs[isubband].instrument.detector.center,\n",
    "                                    acq.subacqs[isubband].instrument.synthbeam,\n",
    "                                    acq.subacqs[isubband].instrument.horn,\n",
    "                                    acq.subacqs[isubband].instrument.primary_beam)"
   ]
  },
  {
   "cell_type": "code",
   "execution_count": null,
   "metadata": {},
   "outputs": [],
   "source": [
    "# Compare the result, to see if these functions compute properly the peak position\n",
    "hp.gnomview(prim_beam, rot=[0,90], reso=20, title=\"Primary Beam\")\n",
    "hp.projplot(thetas[idet], phis[idet], 'rx', lonlat=False)\n",
    "hp.gnomview(np.log10(synth/np.max(synth)), rot=[0, 90], min=-3, reso=15, title=\"Synthesized Beam - peak_angles\")\n",
    "hp.projplot(thetas[idet], phis[idet], 'rx', lonlat=False)\n",
    "hp.gnomview(np.log10(synth/np.max(synth)), rot=[0, 90], min=-3, reso=15, title=\"Synthesized Beam - peak_angles_kmax\")\n",
    "hp.projplot(th[idet], ph[idet], 'rx', lonlat=False)"
   ]
  },
  {
   "cell_type": "code",
   "execution_count": null,
   "metadata": {},
   "outputs": [],
   "source": [
    "# Relative diff between primary beams\n",
    "isubband_a, isubband_b = 3, 2\n",
    "\n",
    "prim_a = acq.multiinstrument[isubband_a].primary_beam\n",
    "prim_b  = acq.multiinstrument[isubband_b].primary_beam\n",
    "\n",
    "npix = hp.nside2npix(nside)\n",
    "prim_beam_a = np.zeros(npix)\n",
    "prim_beam_b = np.zeros(npix)\n",
    "\n",
    "for i in range(npix):\n",
    "    theta, phi = hp.pix2ang(nside, i)\n",
    "    prim_beam_a[i] = prim(theta, phi)\n",
    "    prim_beam_b[i] = prim_b(theta, phi)\n",
    "\n",
    "hp.gnomview(prim_beam_a, rot=[0,90], reso=20, sub = (1,3,1), title=f\"PB at {acq.allnus[isubband_a].round(2)} GHz\")\n",
    "hp.gnomview(prim_beam_b, rot=[0,90], reso=20, sub = (1,3,2), title=f\"PB at {acq.allnus[isubband_b].round(2)} GHz\")\n",
    "\n",
    "hp.gnomview((prim_beam_a / prim_beam_b), rot=[0,90], reso=20, sub = (1,3,3), title=f\" PBs at {acq.allnus[isubband_a].round(2)} and {acq.allnus[isubband_b].round(2)} GHz Divided\")"
   ]
  },
  {
   "cell_type": "markdown",
   "metadata": {},
   "source": [
    "# Compare Primary and Synthesized Beams evolution with frequency"
   ]
  },
  {
   "cell_type": "code",
   "execution_count": null,
   "metadata": {},
   "outputs": [],
   "source": [
    "n_pointings = Proj_list[0].matrix.data.r11.shape[0] / 992"
   ]
  },
  {
   "cell_type": "code",
   "execution_count": null,
   "metadata": {},
   "outputs": [],
   "source": [
    " #matrix.data.index su samo indexirane kombinacije detektora*vrijeme\n",
    " #u r11 peakovi su spremljeni tako da ide (0 - 18) za prvi detektor i 18 pointinga\n",
    "#znaci za \n",
    "\n",
    "#for det in range(992):\n",
    " #   for peak in range(sh[1]):\n",
    "  #      for sample in range(det*18, (det+1)*18): #za 18 pointinga i nulti detektor ovo ce bit od 0 do 17\n",
    "   #         mapPitPi[P0.matrix.data.index[sample,peak]"
   ]
  },
  {
   "cell_type": "code",
   "execution_count": null,
   "metadata": {},
   "outputs": [],
   "source": [
    "i = 0 # frequency choice, lowest subband"
   ]
  },
  {
   "cell_type": "code",
   "execution_count": null,
   "metadata": {},
   "outputs": [],
   "source": [
    "idet = 0"
   ]
  },
  {
   "cell_type": "markdown",
   "metadata": {},
   "source": [
    "#### Peak_angles_kmax returns thetas and phis of the 9 retained peaks per detector (unsorted):"
   ]
  },
  {
   "cell_type": "code",
   "execution_count": null,
   "metadata": {},
   "outputs": [],
   "source": [
    "thetas_pakm, phis_pakm = acq.subacqs[0].instrument._peak_angles_kmax(acq.subacqs[i].instrument.synthbeam.kmax, \n",
    "                                                           acq.subacqs[i].instrument.horn.spacing,\n",
    "                                                           acq.subacqs[i].instrument.horn.angle, \n",
    "                                                          acq.allnus[i]*1e9,\n",
    "                                                          acq.subacqs[i].instrument.detector.center)"
   ]
  },
  {
   "cell_type": "code",
   "execution_count": null,
   "metadata": {},
   "outputs": [],
   "source": [
    "thetas_pakm[idet, :]"
   ]
  },
  {
   "cell_type": "markdown",
   "metadata": {},
   "source": [
    "#### Primary beam gives intesity of peaks at given theta and phi. Returned thetas, phis, and vals are not sorted:"
   ]
  },
  {
   "cell_type": "code",
   "execution_count": null,
   "metadata": {},
   "outputs": [],
   "source": [
    "vals_pm = np.array(acq.multiinstrument[0].primary_beam(thetas_pakm, phis_pakm), dtype=float, copy=False)"
   ]
  },
  {
   "cell_type": "code",
   "execution_count": null,
   "metadata": {},
   "outputs": [],
   "source": [
    "vals_pm[idet, :] "
   ]
  },
  {
   "cell_type": "markdown",
   "metadata": {},
   "source": [
    "#### Finally, peak_angles sorts thetas, phis, and vals by the intensity of each peak. "
   ]
  },
  {
   "cell_type": "code",
   "execution_count": null,
   "metadata": {},
   "outputs": [],
   "source": [
    "def _argsort_reverse(a, axis=-1):\n",
    "    i = list(np.ogrid[[slice(x) for x in a.shape]])\n",
    "    i[axis] = a.argsort(axis)[:, ::-1]\n",
    "    return i"
   ]
  },
  {
   "cell_type": "code",
   "execution_count": null,
   "metadata": {},
   "outputs": [],
   "source": [
    "vals = np.zeros((vals_pm.shape))"
   ]
  },
  {
   "cell_type": "code",
   "execution_count": null,
   "metadata": {},
   "outputs": [],
   "source": [
    "vals[~np.isfinite(vals_pm)] = 0\n",
    "index = _argsort_reverse(vals_pm)\n",
    "thetas = thetas_pakm[tuple(index)]\n",
    "phis = phis_pakm[tuple(index)]\n",
    "vals = vals_pm[tuple(index)]\n",
    "cumval = np.cumsum(vals, axis=-1)\n",
    "imaxs = np.argmax(cumval >= acq.subacqs[0].instrument.synthbeam.fraction * cumval[:, -1, None],\n",
    "                  axis=-1) + 1\n",
    "imax = max(imaxs)\n",
    "\n",
    "# slice initial arrays to discard the non-significant peaks\n",
    "thetas = thetas[:, :imax]\n",
    "phis = phis[:, :imax]\n",
    "vals = vals[:, :imax]"
   ]
  },
  {
   "cell_type": "code",
   "execution_count": null,
   "metadata": {},
   "outputs": [],
   "source": [
    "thetas_pakm[idet], vals_pm[idet]"
   ]
  },
  {
   "cell_type": "code",
   "execution_count": null,
   "metadata": {},
   "outputs": [],
   "source": [
    "thetas[idet], vals[idet]"
   ]
  },
  {
   "cell_type": "code",
   "execution_count": null,
   "metadata": {},
   "outputs": [],
   "source": [
    "th_pa, ph_pa, v_pa = acq.subacqs[i].instrument._peak_angles(acq.scene, acq.allnus[i]*1e9, \n",
    "                                        acq.subacqs[i].instrument.detector.center,\n",
    "                                        acq.subacqs[i].instrument.synthbeam,\n",
    "                                        acq.subacqs[i].instrument.horn,\n",
    "                                        acq.subacqs[i].instrument.primary_beam)"
   ]
  },
  {
   "cell_type": "code",
   "execution_count": null,
   "metadata": {},
   "outputs": [],
   "source": [
    "thetas[idet] == th_pa[idet]"
   ]
  },
  {
   "cell_type": "markdown",
   "metadata": {},
   "source": [
    "#### Thetas and phis remain the same, but peak_angles additionaly scales each val. This adds a $(\\frac{1}{\\nu})^2$ dependancy."
   ]
  },
  {
   "cell_type": "code",
   "execution_count": null,
   "metadata": {},
   "outputs": [],
   "source": [
    "vals[idet], v_pa[idet]"
   ]
  },
  {
   "cell_type": "code",
   "execution_count": null,
   "metadata": {},
   "outputs": [],
   "source": [
    "acq.subacqs[i].instrument.synthbeam.peak150.solid_angle * (150 / (acq.allnus[i])) ** 2 / acq.scene.solid_angle * len(acq.subacqs[i].instrument.horn)"
   ]
  },
  {
   "cell_type": "code",
   "execution_count": null,
   "metadata": {},
   "outputs": [],
   "source": [
    "solid_angle = acq.subacqs[i].instrument.synthbeam.peak150.solid_angle * (150 / (acq.allnus[i])) ** 2 # znaci za duplo vecu frekvenciju promjena je 1/4\n",
    "vals_scaled = vals * solid_angle / acq.scene.solid_angle * len(acq.subacqs[i].instrument.horn)"
   ]
  },
  {
   "cell_type": "code",
   "execution_count": null,
   "metadata": {},
   "outputs": [],
   "source": [
    "print('vals scaled')\n",
    "print(vals_scaled[idet])\n",
    "print('vals from peak_angles')\n",
    "print(v_pa[idet])\n",
    "print('ratio vals to v_pa')\n",
    "print(vals_scaled[idet] / v_pa[idet])"
   ]
  },
  {
   "cell_type": "markdown",
   "metadata": {},
   "source": [
    "#### Finally, the same scaled values are found in the data of the Projection operator:"
   ]
  },
  {
   "cell_type": "code",
   "execution_count": null,
   "metadata": {},
   "outputs": [],
   "source": [
    "Proj_list[i].matrix.data.r11[int(idet*(n_pointings))+time_index, :]"
   ]
  },
  {
   "cell_type": "code",
   "execution_count": null,
   "metadata": {},
   "outputs": [],
   "source": [
    "i = 0"
   ]
  },
  {
   "cell_type": "code",
   "execution_count": null,
   "metadata": {},
   "outputs": [],
   "source": [
    "th, ph, v = acq.subacqs[i].instrument._peak_angles(acq.scene, acq.allnus[i]*1e9, \n",
    "                                        acq.subacqs[i].instrument.detector.center,\n",
    "                                        acq.subacqs[i].instrument.synthbeam,\n",
    "                                        acq.subacqs[i].instrument.horn,\n",
    "                                        acq.subacqs[i].instrument.primary_beam)"
   ]
  },
  {
   "cell_type": "markdown",
   "metadata": {},
   "source": [
    "#### The primary beam returns the sorted but unscaled values (because we feed it sorted thetas and phis):"
   ]
  },
  {
   "cell_type": "code",
   "execution_count": null,
   "metadata": {},
   "outputs": [],
   "source": [
    "prim_freq[i](th[idet, :], ph[idet, :])"
   ]
  },
  {
   "cell_type": "code",
   "execution_count": null,
   "metadata": {},
   "outputs": [],
   "source": [
    "vals[idet]"
   ]
  },
  {
   "cell_type": "code",
   "execution_count": null,
   "metadata": {},
   "outputs": [],
   "source": [
    "scaling_factor = [acq.subacqs[j].instrument.synthbeam.peak150.solid_angle * (150 / (acq.allnus[j])) ** 2 / acq.scene.solid_angle * len(acq.subacqs[j].instrument.horn) for j in range(len(acq.subacqs))]\n",
    "np.array(scaling_factor)"
   ]
  },
  {
   "cell_type": "code",
   "execution_count": null,
   "metadata": {},
   "outputs": [],
   "source": [
    "freqs = acq.allnus\n",
    "freqs"
   ]
  },
  {
   "cell_type": "code",
   "execution_count": null,
   "metadata": {},
   "outputs": [],
   "source": [
    "one_over_nu_squared = 1 / (acq.allnus)**2"
   ]
  },
  {
   "cell_type": "code",
   "execution_count": null,
   "metadata": {},
   "outputs": [],
   "source": [
    "one_over_nu_squared"
   ]
  },
  {
   "cell_type": "code",
   "execution_count": null,
   "metadata": {},
   "outputs": [],
   "source": [
    "scaling_factor / one_over_nu_squared"
   ]
  },
  {
   "cell_type": "code",
   "execution_count": null,
   "metadata": {},
   "outputs": [],
   "source": [
    "#therefore scaling_factor is 29977432.60401282 * one_over_nu_squared\n",
    "29977432.60401282 * one_over_nu_squared"
   ]
  },
  {
   "cell_type": "markdown",
   "metadata": {},
   "source": [
    "#### Dividing by scaling factors gives the original unscaled vals, so the dependancy with $(\\frac{1}{\\nu})^2$ works as expected:"
   ]
  },
  {
   "cell_type": "code",
   "execution_count": null,
   "metadata": {},
   "outputs": [],
   "source": [
    "Proj_list[i].matrix.data.r11[int(idet*(n_pointings))+time_index, :] / scaling_factor[i]"
   ]
  },
  {
   "cell_type": "code",
   "execution_count": null,
   "metadata": {},
   "outputs": [],
   "source": [
    "ipeak = 0\n",
    "time_index = 0\n",
    "idet = 0\n",
    "i = 0"
   ]
  },
  {
   "cell_type": "code",
   "execution_count": null,
   "metadata": {},
   "outputs": [],
   "source": [
    "acq.allnus"
   ]
  },
  {
   "cell_type": "code",
   "execution_count": null,
   "metadata": {},
   "outputs": [],
   "source": [
    "[Proj_list[i].matrix.data.r11[int(idet*(n_pointings))+time_index, ipeak] for i in range(20)]"
   ]
  },
  {
   "cell_type": "code",
   "execution_count": null,
   "metadata": {},
   "outputs": [],
   "source": [
    "[Proj_list[i].matrix.data.r11[int(idet*(n_pointings))+time_index, ipeak] / scaling_factor[i] for i in range(20)] "
   ]
  },
  {
   "cell_type": "markdown",
   "metadata": {},
   "source": [
    "### This means that the data is NOT following a power-law 1/f squared! If we scale an array with 1/f squared and it rises than falls it means the original data has a slower power law 1/f^n where n<2"
   ]
  },
  {
   "cell_type": "code",
   "execution_count": null,
   "metadata": {},
   "outputs": [],
   "source": [
    "acq.subacqs[i].instrument.synthbeam.peak150.solid_angle"
   ]
  },
  {
   "cell_type": "code",
   "execution_count": null,
   "metadata": {},
   "outputs": [],
   "source": [
    "idet = 231\n",
    "limit = 10"
   ]
  },
  {
   "cell_type": "code",
   "execution_count": null,
   "metadata": {},
   "outputs": [],
   "source": [
    "time_index = 0\n",
    "\n",
    "for ipeak in range(thetas.shape[1]):\n",
    "    peak_amplitude = [] \n",
    "    peak_amplitude_unscaled = []\n",
    "    fig, ax1 = plt.subplots()\n",
    "\n",
    "    prim_freq = [acq.multiinstrument[freq].primary_beam for freq in range(len(acq.multiinstrument[:limit]))]\n",
    "    v_freq = []\n",
    "    for i in range(len(acq.multiinstrument[:limit])):\n",
    "        th, ph, v = acq.subacqs[i].instrument._peak_angles(acq.scene, acq.allnus[i]*1e9, \n",
    "                                        acq.subacqs[i].instrument.detector.center,\n",
    "                                        acq.subacqs[i].instrument.synthbeam,\n",
    "                                        acq.subacqs[i].instrument.horn,\n",
    "                                        acq.subacqs[i].instrument.primary_beam)\n",
    "        v_freq.append(v[idet, ipeak])\n",
    "        \n",
    "        #ax1.plot(acq.allnus[i], prim_freq[i](th[idet, ipeak], ph[idet, ipeak]), '.b', color = 'blue')\n",
    "  \n",
    "        peak_amplitude.append(Proj_list[i].matrix.data.r11[int(idet*(n_pointings))+time_index, ipeak])\n",
    "        peak_amplitude_unscaled.append(Proj_list[i].matrix.data.r11[int(idet*(n_pointings))+time_index, ipeak] / scaling_factor[i])\n",
    "    #ax1.plot(acq.allnus, v_freq, 'x', label = 'Peak Amplitude (Q_instrument._peak_angles)')\n",
    "\n",
    "    ax1.set_xlabel('Frequency (GHz)')\n",
    "    ax1.plot(acq.allnus[:limit], peak_amplitude_unscaled, 'x', color = 'green')\n",
    "    ax1.set_ylabel('Primary beam amplitudes', color = 'green')\n",
    "    ax1.set_title('Primary beam and peak amplitude at peak %d for detector %d' % (ipeak, idet))\n",
    "    ax1.legend(loc = 'best')\n",
    "    \n",
    "    ax2 = ax1.twinx()\n",
    "    ax2.plot(acq.allnus[:limit], peak_amplitude, '.r')\n",
    "    ax2.set_ylabel(\"Peak Amplitude after solid angle correction\", color = 'r')\n",
    "    \n",
    "    plt.show()"
   ]
  },
  {
   "cell_type": "code",
   "execution_count": null,
   "metadata": {},
   "outputs": [],
   "source": [
    "time_index = 0\n",
    "\n",
    "for ipeak in range(1):\n",
    "    peak_amplitude = [] \n",
    "    peak_amplitude_scaled = []\n",
    "    fig, ax1 = plt.subplots()\n",
    "\n",
    "    prim_freq = [acq.multiinstrument[freq].primary_beam for freq in range(len(acq.multiinstrument))]\n",
    "    v_freq = []\n",
    "    for i in range(len(acq.multiinstrument)):\n",
    "        th, ph, v = acq.subacqs[i].instrument._peak_angles(acq.scene, acq.allnus[i]*1e9, \n",
    "                                        acq.subacqs[i].instrument.detector.center,\n",
    "                                        acq.subacqs[i].instrument.synthbeam,\n",
    "                                        acq.subacqs[i].instrument.horn,\n",
    "                                        acq.subacqs[i].instrument.primary_beam)\n",
    "        v_freq.append(v[idet, ipeak])\n",
    "        \n",
    "        #ax1.plot(acq.allnus[i], prim_freq[i](th[idet, ipeak], ph[idet, ipeak]), '.b', color = 'blue')\n",
    "  \n",
    "        peak_amplitude.append(Proj_list[i].matrix.data.r11[int(idet*(n_pointings))+time_index, ipeak])\n",
    "        peak_amplitude_scaled.append(Proj_list[i].matrix.data.r11[int(idet*(n_pointings))+time_index, ipeak] / scaling_factor[i])\n",
    "    #ax1.plot(acq.allnus, v_freq, 'x', label = 'Peak Amplitude (Q_instrument._peak_angles)')\n",
    "\n",
    "    ax1.set_xlabel('Frequency (GHz)')\n",
    "    #ax1.plot(acq.allnus[:], peak_amplitude_scaled, 'x', color = 'green')\n",
    "    ax1.plot(acq.allnus[:], one_over_nu_squared, 'x')\n",
    "    ax1.plot(acq.allnus[:], 1 / acq.allnus[:]**2, alpha = 0.5)\n",
    "    ax1.set_ylabel('One over nu squared', color = 'blue')\n",
    "    ax1.set_title('Peak amplitude')\n",
    "    ax1.legend(loc = 'best')\n",
    "    \n",
    "    ax2 = ax1.twinx()\n",
    "    ax2.plot(acq.allnus[:], peak_amplitude, '.r')\n",
    "    ax2.set_ylabel(\"Peak Amplitude (r11)\", color = 'r')\n",
    "    \n",
    "    plt.show()"
   ]
  },
  {
   "cell_type": "code",
   "execution_count": null,
   "metadata": {},
   "outputs": [],
   "source": []
  },
  {
   "cell_type": "code",
   "execution_count": null,
   "metadata": {},
   "outputs": [],
   "source": [
    "time_index = 10\n",
    "\n",
    "for ipeak in range(thetas.shape[1]):\n",
    "    peak_amplitude = [] \n",
    "    fig, ax1 = plt.subplots()\n",
    "\n",
    "    prim_freq = [acq.multiinstrument[i].primary_beam for i in range(len(acq.multiinstrument))]\n",
    "    v_freq = []\n",
    "    for i in range(len(acq.multiinstrument)):\n",
    "        th, ph, v = acq.subacqs[i].instrument._peak_angles(acq.scene, acq.allnus[i]*1e9, \n",
    "                                        acq.subacqs[i].instrument.detector.center,\n",
    "                                        acq.subacqs[i].instrument.synthbeam,\n",
    "                                        acq.subacqs[i].instrument.horn,\n",
    "                                        acq.subacqs[i].instrument.primary_beam)\n",
    "        v_freq.append(v[idet, ipeak])\n",
    "  \n",
    "        peak_amplitude.append(Proj_list[i].matrix.data.r11[int(idet*(n_pointings))+time_index, ipeak])\n",
    "    ax1.plot(acq.allnus, v_freq, 'x')\n",
    "\n",
    "    ax1.set_xlabel('Frequency (GHz)')\n",
    "    ax1.set_ylabel('Peak Amplitude (Q_instrument._peak_angles)', color = 'blue')\n",
    "    ax1.set_title('Primary beam and peak amplitude at peak %d for detector %d' % (ipeak, idet))\n",
    "    \n",
    "    ax2 = ax1.twinx()\n",
    "    ax2.plot(acq.allnus[:], peak_amplitude, '.r')\n",
    "    ax2.set_ylabel(\"Peak Amplitude (r11)\", color = 'r')\n",
    "    \n",
    "    plt.show()"
   ]
  },
  {
   "cell_type": "code",
   "execution_count": null,
   "metadata": {},
   "outputs": [],
   "source": [
    "time_index = 0\n",
    "\n",
    "for ipeak in range(thetas.shape[1]):\n",
    "    peak_amplitude = [] \n",
    "    fig, ax1 = plt.subplots()\n",
    "\n",
    "    prim_freq = [acq.multiinstrument[i].primary_beam for i in range(len(acq.multiinstrument))]\n",
    "    v_freq = []\n",
    "    for i in range(len(acq.multiinstrument)):\n",
    "        th, ph, v = acq.subacqs[i].instrument._peak_angles(acq.scene, acq.allnus[i]*1e9, \n",
    "                                        acq.subacqs[i].instrument.detector.center,\n",
    "                                        acq.subacqs[i].instrument.synthbeam,\n",
    "                                        acq.subacqs[i].instrument.horn,\n",
    "                                        acq.subacqs[i].instrument.primary_beam)\n",
    "        v_freq.append(v[idet, ipeak])\n",
    "        ax1.plot(acq.allnus[i], prim_freq[i](th[idet, ipeak], ph[idet, ipeak]), '.b')\n",
    "  \n",
    "        peak_amplitude.append(Proj_list[i].matrix.data.r11[int(idet*(n_pointings))+time_index, ipeak])\n",
    "\n",
    "    ax1.set_xlabel('Frequency (GHz)')\n",
    "    ax1.set_ylabel('Primary beam (Q_instrument.primary_beam)', color = 'blue')\n",
    "    ax1.set_title('Primary beam and peak amplitude at peak %d for detector %d' % (ipeak, idet))\n",
    "    ax1.legend(loc = 'best')\n",
    "    \n",
    "    ax2 = ax1.twinx()\n",
    "    ax2.plot(acq.allnus, v_freq, 'x', color = 'g', label = 'Peak Amplitude (Q_instrument._peak_angles)')\n",
    "    ax2.set_ylabel(\"Peak Amplitude (Q_instrument._peak_angles)\", color = 'g')\n",
    "    \n",
    "    plt.show()"
   ]
  },
  {
   "cell_type": "code",
   "execution_count": null,
   "metadata": {},
   "outputs": [],
   "source": []
  },
  {
   "cell_type": "markdown",
   "metadata": {},
   "source": [
    "# Build TOD"
   ]
  },
  {
   "cell_type": "code",
   "execution_count": null,
   "metadata": {},
   "outputs": [],
   "source": [
    "# Create uniform maps of \"1\"\n",
    "input_maps = np.ones((d['nf_sub'], hp.nside2npix(nside), 3))\n",
    "#input_maps[..., 1] *= 0 \n",
    "\n",
    "# Build the list of sub-TODs\n",
    "tod = []\n",
    "for i in range(d['nf_sub']):\n",
    "    tod.append(Proj_list[i](input_maps[i]))"
   ]
  },
  {
   "cell_type": "code",
   "execution_count": null,
   "metadata": {},
   "outputs": [],
   "source": [
    "hp.gnomview(input_maps[0,:,0], rot = center, reso = 20)"
   ]
  },
  {
   "cell_type": "code",
   "execution_count": null,
   "metadata": {},
   "outputs": [],
   "source": [
    "istokes = 0"
   ]
  },
  {
   "cell_type": "code",
   "execution_count": null,
   "metadata": {},
   "outputs": [],
   "source": [
    "tod[isubband][idet,time_index,0] # svaki detektor vidi jednu vrijednost priko svih pointinga za pojedini stokes (medju stokesima se razlikuje)"
   ]
  },
  {
   "cell_type": "markdown",
   "metadata": {},
   "source": [
    "# Relative difference between succesive sub-TODs"
   ]
  },
  {
   "cell_type": "code",
   "execution_count": null,
   "metadata": {},
   "outputs": [],
   "source": [
    "tod[i][:, time_index, 0].mean(), tod[i][:, time_index, 0].std()"
   ]
  },
  {
   "cell_type": "code",
   "execution_count": null,
   "metadata": {},
   "outputs": [],
   "source": [
    "tod[i][:, time_index, 1].mean(), tod[i][:, time_index, 1].std()"
   ]
  },
  {
   "cell_type": "code",
   "execution_count": null,
   "metadata": {},
   "outputs": [],
   "source": [
    "plt.figure()\n",
    "mean_diff = []\n",
    "for i in range(d['nf_sub']-1):\n",
    "    diff = np.abs((tod[i+1][:, time_index, istokes] - tod[i][:, time_index, istokes])/tod[i][:, time_index, istokes])\n",
    "    # Need to remove 'nan' due to division by 0\n",
    "    # Mean on detectors\n",
    "    #mean_diff.append(np.mean(diff[~np.isnan(diff)]))\n",
    "    mean_diff = np.mean(diff[~np.isnan(diff)])\n",
    "    plt.plot(acq.allnus[i], mean_diff, '.')\n",
    "#plt.plot(acq.allnus[0:-1], mean_diff, '.')\n",
    "plt.title(r\"$H = \\mathcal{P}_{roj}$ - Intensity map\")\n",
    "plt.ylabel(r'$\\frac{| H(Imap)^{i+1} - H(Imap)^i |}{| H(Imap)^{i} |}$', fontsize=15, labelpad=10)\n",
    "plt.xlabel('Frequency (GHz)')"
   ]
  },
  {
   "cell_type": "code",
   "execution_count": null,
   "metadata": {},
   "outputs": [],
   "source": [
    "plt.figure()\n",
    "for i in range(d['nf_sub']-1):\n",
    "    diff = np.abs((tod[i+1][:, time_index, 1] - tod[i][:, time_index, 1]))#/tod[i][:, time_index, 1])\n",
    "    # Need to remove 'nan' due to division by 0\n",
    "    # Mean on detectors\n",
    "    mean_diff = np.median(diff[~np.isnan(diff)])\n",
    "    plt.plot(acq.allnus[i], mean_diff, '.')\n",
    "plt.title(r\"$H = \\mathcal{P}_{roj}$ - Q map\")\n",
    "plt.ylabel(r'$\\frac{| H(Qmap)^{i+1} - H(Qmap)^i |}{| H(Qmap)^{i} |}$', fontsize=15, labelpad=10)\n",
    "plt.xlabel('Frequency (GHz)')"
   ]
  },
  {
   "cell_type": "code",
   "execution_count": null,
   "metadata": {},
   "outputs": [],
   "source": [
    "plt.figure()\n",
    "for i in range(d['nf_sub']-1):\n",
    "    diff = np.abs((tod[i+1][:, time_index, 2] - tod[i][:, time_index, 2]))#/tod[i][:, time_index, 1])\n",
    "    # Need to remove 'nan' due to division by 0\n",
    "    # Mean on detectors\n",
    "    mean_diff = np.mean(diff[~np.isnan(diff)])\n",
    "    plt.plot(acq.allnus[i], mean_diff, '.')\n",
    "plt.title(r\"$H = \\mathcal{P}_{roj}$ - U map\")\n",
    "plt.ylabel(r'$| H(Umap)^{i+1} - H(Umap)^i |$', fontsize=15, labelpad=10)\n",
    "plt.xlabel('Frequency (GHz)')"
   ]
  },
  {
   "cell_type": "code",
   "execution_count": null,
   "metadata": {},
   "outputs": [],
   "source": [
    "plt.figure()\n",
    "idet = 245\n",
    "for idet in range(200, 210):\n",
    "    for i in range(d['nf_sub']-1):\n",
    "        diff = (tod[i+1][idet, time_index, 1] - tod[i][idet, time_index, 1])/tod[i][idet, time_index, 1]#np.abs((tod[i+1][idet, 0, 1] - tod[i][idet, 0, 1])/tod[i][idet, 0, 1])\n",
    "        plt.plot(acq.allnus[i], diff, '.b')\n",
    "    plt.title(r\"$H = \\mathcal{P}_{roj}$ - Q map - \" + f'Detector index = {idet}')\n",
    "    plt.ylabel(r'$\\frac{ H(Qmap)^{i+1} - H(Qmap)^i |}{| H(Qmap)^{i}}$', fontsize=15, labelpad=10)\n",
    "    plt.xlabel('Frequency (GHz)')\n",
    "    plt.show()"
   ]
  },
  {
   "cell_type": "code",
   "execution_count": null,
   "metadata": {},
   "outputs": [],
   "source": [
    "np.abs(tod[i][:, time_index, 1]).min()"
   ]
  },
  {
   "cell_type": "code",
   "execution_count": null,
   "metadata": {},
   "outputs": [],
   "source": [
    "fig, ax = plt.subplots(figsize=(5, 5))\n",
    "scatter_plot_FP(q, xTES, yTES, tod[i][:, time_index, 0], frame='ONAFP', s=150, title=r'Intensity map - $\\frac{ \\mathcal{P}_{roj}(Imap)^{n+1} - \\mathcal{P}_{roj}(Imap)^{n} }{ \\mathcal{P}_{roj}(Imap)^{n} } x 100$', fig=fig, ax = ax, unit='%')"
   ]
  },
  {
   "cell_type": "code",
   "execution_count": null,
   "metadata": {},
   "outputs": [],
   "source": [
    "fig, ax = plt.subplots(figsize=(5, 5))\n",
    "scatter_plot_FP(q, xTES, yTES, tod[11][:, 10, 1], frame='ONAFP', s=150, title=r'Q map - $\\frac{ \\mathcal{P}_{roj}(Imap)^{n+1} - \\mathcal{P}_{roj}(Imap)^{n} }{ \\mathcal{P}_{roj}(Imap)^{n} } x 100$', fig=fig, ax = ax, unit='%')"
   ]
  },
  {
   "cell_type": "code",
   "execution_count": null,
   "metadata": {},
   "outputs": [],
   "source": [
    "fig, ax = plt.subplots(figsize=(5, 5))\n",
    "scatter_plot_FP(q, xTES, yTES, tod[i][:, time_index, 2], frame='ONAFP', s=150, title=r'Intensity map - $\\frac{ \\mathcal{P}_{roj}(Imap)^{n+1} - \\mathcal{P}_{roj}(Imap)^{n} }{ \\mathcal{P}_{roj}(Imap)^{n} } x 100$', fig=fig, ax = ax, unit='%')"
   ]
  },
  {
   "cell_type": "markdown",
   "metadata": {},
   "source": [
    "# Relative difference on the focal plane"
   ]
  },
  {
   "cell_type": "markdown",
   "metadata": {},
   "source": [
    "Plot the difference between two successive tods, at a given time, on the focal plane. The polarisation case seems very strange with respect to the intensity case."
   ]
  },
  {
   "cell_type": "code",
   "execution_count": null,
   "metadata": {},
   "outputs": [],
   "source": [
    "xTES, yTES, vertex = get_TEScoordinates_ONAFP(q)"
   ]
  },
  {
   "cell_type": "code",
   "execution_count": null,
   "metadata": {},
   "outputs": [],
   "source": [
    "fig, ax = plt.subplots(figsize=(10, 10))\n",
    "#these are frequencies not detectors\n",
    "ifreq_a, ifreq_b = 3, 2\n",
    "relative_diff = (tod[ifreq_a]-tod[ifreq_b])#/tod[ifreq_b]*100\n",
    "print(relative_diff.shape)\n",
    "scatter_plot_FP(q, xTES, yTES, np.mean(relative_diff[...,0], axis=1), frame='ONAFP', s=150, title=r'Intensity map - $\\frac{ \\mathcal{P}_{roj}(Imap)^{n+1} - \\mathcal{P}_{roj}(Imap)^{n} }{ \\mathcal{P}_{roj}(Imap)^{n} } x 100$', fig=fig, ax = ax, unit='%')"
   ]
  },
  {
   "cell_type": "code",
   "execution_count": null,
   "metadata": {},
   "outputs": [],
   "source": [
    "np.argmax((tod[ifreq_a][:, 0, 1]-tod[ifreq_b][:, 0, 1])/tod[ifreq_b][:, 0, 1]*100)"
   ]
  },
  {
   "cell_type": "code",
   "execution_count": null,
   "metadata": {},
   "outputs": [],
   "source": [
    "tod[ifreq_b][472,0,1]"
   ]
  },
  {
   "cell_type": "code",
   "execution_count": null,
   "metadata": {},
   "outputs": [],
   "source": [
    "fig, ax = plt.subplots(figsize=(10, 10))\n",
    "relative_diff = (tod[ifreq_a]-tod[ifreq_b])#/tod[ifreq_a]\n",
    "scatter_plot_FP(q, xTES, yTES, relative_diff[:, 0, 1], frame='ONAFP', s=150, title=r'Q map - $\\frac{| \\mathcal{P}_{roj}(Qmap)^{n+1} - \\mathcal{P}_{roj}(Qmap)^{n} |}{| \\mathcal{P}_{roj}(Qmap)^{n} |} x 100$', fig=fig, ax = ax, unit='%')"
   ]
  },
  {
   "cell_type": "code",
   "execution_count": null,
   "metadata": {},
   "outputs": [],
   "source": [
    "fig, ax = plt.subplots(figsize=(10, 10))\n",
    "relative_diff = (tod[idet_a]-tod[idet_b])/tod[idet_b]*100\n",
    "scatter_plot_FP(q, xTES, yTES, relative_diff[:, 0, 2], frame='ONAFP', s=150, title=r'U map - $\\frac{| \\mathcal{P}_{roj}(Umap)^{n+1} - \\mathcal{P}_{roj}(Umap)^{n} |}{| \\mathcal{P}_{roj}(Umap)^{n} |} x 100$', fig=fig, ax = ax, unit='%')"
   ]
  },
  {
   "cell_type": "markdown",
   "metadata": {},
   "source": [
    "# Projection angle"
   ]
  },
  {
   "cell_type": "code",
   "execution_count": null,
   "metadata": {},
   "outputs": [],
   "source": [
    "P = Proj_list[-1]\n",
    "\n",
    "alpha_from_r22 = 0.5 * np.arccos(P.matrix.data.r22 / P.matrix.data.r11)\n",
    "alpha_from_r32 = 0.5 * np.arcsin(- P.matrix.data.r32 / P.matrix.data.r11)\n",
    "\n",
    "cos2_sin2 = (P.matrix.data.r22**2 + P.matrix.data.r32**2) / P.matrix.data.r11**2"
   ]
  },
  {
   "cell_type": "code",
   "execution_count": null,
   "metadata": {},
   "outputs": [],
   "source": [
    "cos2_sin2[0]"
   ]
  },
  {
   "cell_type": "code",
   "execution_count": null,
   "metadata": {},
   "outputs": [],
   "source": [
    "plt.plot(cos2_sin2[0], '.', label=r'$cos^2 + sin^2$')\n",
    "plt.hlines(1, 0, (2*dict_qubic['synthbeam_kmax'] + 1)**2, 'grey', linestyle='--', alpha=0.5)\n",
    "plt.xlabel('Peaks index')\n",
    "plt.legend()"
   ]
  },
  {
   "cell_type": "markdown",
   "metadata": {},
   "source": [
    "# Peak Amplitude evolution with frequency"
   ]
  },
  {
   "cell_type": "markdown",
   "metadata": {},
   "source": [
    "P.matrix.data is build such that you have all the points for the same detector at all the different time samples, then the next detector at all the different time samples, etc."
   ]
  },
  {
   "cell_type": "code",
   "execution_count": null,
   "metadata": {},
   "outputs": [],
   "source": [
    "peak_index = 0\n",
    "N_sample = 0\n",
    "time_index = 0\n",
    "det_index = 205\n",
    "for peak_index in range((2*dict_qubic['synthbeam_kmax']+1)**2):\n",
    "    plt.figure()\n",
    "    peak_amplitude = []\n",
    "    for i in range(nsub):\n",
    "        peak_amplitude.append(Proj_list[i].matrix.data.r11[(det_index*N_sample)+time_index, peak_index])\n",
    "\n",
    "    plt.plot(acq.allnus[:nsub], peak_amplitude)\n",
    "    plt.xlabel(\"Frequency (GHz)\")\n",
    "    plt.ylabel(\"Peak Amplitude\")\n",
    "    plt.title(f\"Detector Index = {det_index} | Time Sample Index = {time_index} | Peak Index = {peak_index}\")\n",
    "    plt.show()"
   ]
  },
  {
   "cell_type": "code",
   "execution_count": null,
   "metadata": {},
   "outputs": [],
   "source": []
  },
  {
   "cell_type": "markdown",
   "metadata": {},
   "source": [
    "# TOD change with frequency  "
   ]
  },
  {
   "cell_type": "code",
   "execution_count": null,
   "metadata": {},
   "outputs": [],
   "source": [
    "dictfilename = 'qubic/qubic/dicts/pipeline_demo.dict'\n",
    "d = qubic.lib.qubicDict()\n",
    "d.read_from_file(dictfilename)\n",
    "\n",
    "center = qubic.lib.equ2gal(d['RA_center'], d['DEC_center'])\n",
    "\n",
    "d['nf_recon'] = 2\n",
    "d['MultiBand'] = True\n",
    "\n",
    "d['npointings'] = 20\n",
    "d['synthbeam_kmax'] = 1\n",
    "nf_sub = d['nf_sub']\n",
    "d['synthbeam_fraction'] = 1\n",
    "\n",
    "d['noiseless'] = True\n",
    "d['photon_noise'] = False\n",
    "d['use_synthbeam_fits_file'] = False\n",
    "\n",
    "comm = MPI.COMM_WORLD"
   ]
  },
  {
   "cell_type": "markdown",
   "metadata": {},
   "source": [
    "### I will still try to remain at the same frequency. This code stores the Projection operator at 148.83 ghz"
   ]
  },
  {
   "cell_type": "code",
   "execution_count": null,
   "metadata": {},
   "outputs": [],
   "source": [
    "Proj_list_nsub = []\n",
    "nsubs_no = []\n",
    "j = 0\n",
    "proj_nus = []\n",
    "for i in range(2, 50, 4):\n",
    "    nsubs_no.append(i)\n",
    "    d['nf_sub'] = i\n",
    "    sampling = get_pointing(d)\n",
    "    q = QubicInstrument(d)\n",
    "    acq = QubicMultiAcquisitions(d, i, 2, sampling=sampling)\n",
    "    op = acq.subacqs[j].get_operator().operands[-1] #always take the lowest frequency\n",
    "    Proj_list_nsub.append(op)\n",
    "    proj_nus.append(acq.allnus[j])\n",
    "    j = j + 1 # ode ide step iz range / 4\n",
    "    print(i/2)"
   ]
  },
  {
   "cell_type": "code",
   "execution_count": null,
   "metadata": {},
   "outputs": [],
   "source": [
    "proj_nus"
   ]
  },
  {
   "cell_type": "code",
   "execution_count": null,
   "metadata": {},
   "outputs": [],
   "source": [
    "for i in range(2, 50, 4):\n",
    "    print(i/2)"
   ]
  },
  {
   "cell_type": "code",
   "execution_count": null,
   "metadata": {},
   "outputs": [],
   "source": [
    "fig, axes = plt.subplots(1, 2, figsize=(10, 5))\n",
    "axes[0].scatter(nsubs_no, proj_nus)\n",
    "axes[0].set_title('Middle frequency by Nsub')\n",
    "axes[1].scatter(nsubs_no[1:], proj_nus[1:])\n",
    "axes[1].set_title('Without first one (zoom)')"
   ]
  },
  {
   "cell_type": "code",
   "execution_count": null,
   "metadata": {},
   "outputs": [],
   "source": [
    "input_maps = np.ones((d['nf_sub'], hp.nside2npix(nside), 3))\n",
    "tod_lowfrq_nsub = []\n",
    "for i in range(len(Proj_list_nsub)):\n",
    "    tod_lowfrq_nsub.append(Proj_list_nsub[i](input_maps[i]))"
   ]
  },
  {
   "cell_type": "code",
   "execution_count": null,
   "metadata": {},
   "outputs": [],
   "source": [
    "fig, axes = plt.subplots(1, 3, figsize=(15, 5))\n",
    "\n",
    "istokes_lbl = ['I', 'Q', 'U']\n",
    "time_index = 0\n",
    "for istokes in range(3):\n",
    "    mean_diff_per_det = []\n",
    "    \n",
    "    for i in range(len(tod_lowfrq_nsub)):\n",
    "        diff_per_det = np.abs((tod_lowfrq_nsub[i][:, time_index, istokes] - tod_lowfrq_nsub[-1][:, time_index, istokes])) / np.abs(tod_lowfrq_nsub[-1][:, time_index, istokes])\n",
    "        mean_diff_per_det = np.mean(diff_per_det)\n",
    "        axes[istokes].plot(nsubs_no[i], mean_diff_per_det, '.')\n",
    "    axes[istokes].set_title(r\"$\\mathcal{P}_{roj}$ - \" + istokes_lbl[istokes])\n",
    "    axes[0].set_ylabel(r'$\\frac{| P(Imap)^{i} - P(Imap)^{max} |}{| P(Imap)^{max} |}$', fontsize=15, labelpad=10)\n",
    "    axes[istokes].set_xlabel('Nsub')\n",
    "    axes[istokes].set_yscale('log')"
   ]
  },
  {
   "cell_type": "code",
   "execution_count": null,
   "metadata": {},
   "outputs": [],
   "source": [
    "fig, axes = plt.subplots(1, 3, figsize=(15, 5))\n",
    "\n",
    "istokes_lbl = ['I', 'Q', 'U']\n",
    "time_index = 0\n",
    "for istokes in range(3):\n",
    "    mean_diff_per_det = []\n",
    "    \n",
    "    for i in range(len(tod_lowfrq_nsub)):\n",
    "        diff_per_det = np.abs((tod_lowfrq_nsub[i][:, time_index, istokes] - tod_lowfrq_nsub[-1][:, time_index, istokes])) \n",
    "        mean_diff_per_det = np.mean(diff_per_det)\n",
    "        axes[istokes].plot(nsubs_no[i], mean_diff_per_det, '.')\n",
    "    axes[istokes].set_title(r\"$\\mathcal{P}_{roj}$ - \" + istokes_lbl[istokes])\n",
    "    axes[0].set_ylabel(r'$| P(Imap)^{i} - P(Imap)^{max} |$', fontsize=15, labelpad=10)\n",
    "    axes[istokes].set_xlabel('Nsub')\n",
    "    axes[istokes].set_yscale('log')"
   ]
  },
  {
   "cell_type": "code",
   "execution_count": null,
   "metadata": {},
   "outputs": [],
   "source": [
    "plt.figure()\n",
    "mean_diff_per_det = []\n",
    "istokes = 0\n",
    "time_index = 0\n",
    "for i in range(len(Proj_list_nsub)):\n",
    "    diff_per_det = np.abs((tod_lowfrq_nsub[i][:, time_index, istokes] - tod_lowfrq_nsub[-1][:, time_index, istokes])) / np.abs(tod_lowfrq_nsub[-1][:, time_index, istokes])\n",
    "    mean_diff_per_det = np.mean(diff_per_det)\n",
    "    plt.plot(nsubs_no[i], mean_diff_per_det, '.')\n",
    "#plt.plot(acq.allnus[0:-1], mean_diff, '.')\n",
    "plt.title(r\"$\\mathcal{P}_{roj}$ - Intensity\")\n",
    "plt.ylabel(r'$\\frac{| P(Imap)^{i} - P(Imap)^{max} |}{| P(Imap)^{max} |}$', fontsize=15, labelpad=10)\n",
    "plt.xlabel('Nsub')"
   ]
  },
  {
   "cell_type": "code",
   "execution_count": null,
   "metadata": {},
   "outputs": [],
   "source": [
    "plt.figure()\n",
    "mean_diff_per_det = []\n",
    "istokes = 1\n",
    "time_index = 0\n",
    "for i in range(len(Proj_list_nsub)):\n",
    "    diff_per_det = np.abs((tod_lowfrq_nsub[i][:, time_index, istokes] - tod_lowfrq_nsub[-1][:, time_index, istokes])) / np.abs(tod[-1][:, time_index, istokes])\n",
    "    mean_diff_per_det = np.mean(diff_per_det)\n",
    "    plt.plot(nsubs_no[i], mean_diff_per_det, '.')\n",
    "#plt.plot(acq.allnus[0:-1], mean_diff, '.')\n",
    "plt.title(r\"$\\mathcal{P}_{roj}$ - Q\")\n",
    "plt.ylabel(r'$\\frac{| P(Imap)^{i} - P(Imap)^{max} |}{| P(Imap)^{max} |}$', fontsize=15, labelpad=10)\n",
    "plt.xlabel('Nsub')"
   ]
  },
  {
   "cell_type": "code",
   "execution_count": null,
   "metadata": {},
   "outputs": [],
   "source": [
    "plt.figure()\n",
    "mean_diff_per_det = []\n",
    "istokes = 2\n",
    "time_index = 0\n",
    "for i in range(len(Proj_list_nsub)):\n",
    "    diff_per_det = np.abs((tod_lowfrq_nsub[i][:, time_index, istokes] - tod_lowfrq_nsub[-1][:, time_index, istokes])) / np.abs(tod[-1][:, time_index, istokes])\n",
    "    mean_diff_per_det = np.mean(diff_per_det)\n",
    "    plt.plot(nsubs_no[i], mean_diff_per_det, '.')\n",
    "#plt.plot(acq.allnus[0:-1], mean_diff, '.')\n",
    "plt.title(r\"$\\mathcal{P}_{roj}$ - U\")\n",
    "plt.ylabel(r'$\\frac{| P(Imap)^{i} - P(Imap)^{max} |}{| P(Imap)^{max} |}$', fontsize=15, labelpad=10)\n",
    "plt.xlabel('Nsub')"
   ]
  },
  {
   "cell_type": "markdown",
   "metadata": {},
   "source": [
    "# Linear spacing"
   ]
  },
  {
   "cell_type": "code",
   "execution_count": null,
   "metadata": {},
   "outputs": [],
   "source": [
    "dictfilename = 'qubic/qubic/dicts/pipeline_demo.dict'\n",
    "d = qubic.lib.qubicDict()\n",
    "d.read_from_file(dictfilename)\n",
    "\n",
    "center = qubic.lib.equ2gal(d['RA_center'], d['DEC_center'])\n",
    "\n",
    "d['nf_recon'] = 2\n",
    "d['MultiBand'] = True\n",
    "\n",
    "d['npointings'] = 20\n",
    "d['synthbeam_kmax'] = 1\n",
    "nf_sub = d['nf_sub']\n",
    "d['synthbeam_fraction'] = 1\n",
    "\n",
    "d['noiseless'] = True\n",
    "d['photon_noise'] = False\n",
    "d['use_synthbeam_fits_file'] = False\n",
    "\n",
    "comm = MPI.COMM_WORLD"
   ]
  },
  {
   "cell_type": "markdown",
   "metadata": {},
   "source": [
    "### I will still try to remain at the same frequency. This code stores the Projection operator at 148.83 ghz"
   ]
  },
  {
   "cell_type": "code",
   "execution_count": null,
   "metadata": {},
   "outputs": [],
   "source": [
    "Proj_list_nsub = []\n",
    "nsubs_no = []\n",
    "j = 0\n",
    "proj_nus = []\n",
    "for i in range(2, 100, 16):\n",
    "    nsubs_no.append(i)\n",
    "    d['nf_sub'] = i\n",
    "    sampling = get_pointing(d)\n",
    "    q = QubicInstrument(d)\n",
    "    acq = QubicMultiAcquisitions(d, i, 2, sampling=sampling)\n",
    "    op = acq.subacqs[j].get_operator().operands[-1] #always take the middle frequency\n",
    "    Proj_list_nsub.append(op)\n",
    "    proj_nus.append(acq.allnus[j])\n",
    "    j = j + 4 # ode ide step iz range / 4"
   ]
  },
  {
   "cell_type": "code",
   "execution_count": null,
   "metadata": {},
   "outputs": [],
   "source": [
    "proj_nus"
   ]
  },
  {
   "cell_type": "code",
   "execution_count": null,
   "metadata": {},
   "outputs": [],
   "source": [
    "for i in range(2, 100, 16):\n",
    "    print(i/2)"
   ]
  },
  {
   "cell_type": "code",
   "execution_count": null,
   "metadata": {},
   "outputs": [],
   "source": [
    "fig, axes = plt.subplots(1, 2, figsize=(10, 5))\n",
    "axes[0].scatter(nsubs_no, proj_nus)\n",
    "axes[0].set_title('Middle frequency by Nsub')\n",
    "axes[1].scatter(nsubs_no[1:], proj_nus[1:])\n",
    "axes[1].set_title('Without first one (zoom)')"
   ]
  },
  {
   "cell_type": "code",
   "execution_count": null,
   "metadata": {},
   "outputs": [],
   "source": [
    "input_maps = np.ones((d['nf_sub'], hp.nside2npix(nside), 3))\n",
    "tod_lowfrq_nsub = []\n",
    "for i in range(len(Proj_list_nsub)):\n",
    "    tod_lowfrq_nsub.append(Proj_list_nsub[i](input_maps[i]))"
   ]
  },
  {
   "cell_type": "code",
   "execution_count": null,
   "metadata": {},
   "outputs": [],
   "source": [
    "fig, axes = plt.subplots(1, 3, figsize=(15, 5))\n",
    "\n",
    "istokes_lbl = ['I', 'Q', 'U']\n",
    "time_index = 0\n",
    "for istokes in range(3):\n",
    "    mean_diff_per_det = []\n",
    "    \n",
    "    for i in range(len(tod_lowfrq_nsub)):\n",
    "        diff_per_det = np.abs((tod_lowfrq_nsub[i][:, time_index, istokes] - tod_lowfrq_nsub[-1][:, time_index, istokes])) / np.abs(tod_lowfrq_nsub[-1][:, time_index, istokes])\n",
    "        mean_diff_per_det = np.mean(diff_per_det)\n",
    "        axes[istokes].plot(nsubs_no[i], mean_diff_per_det, '.')\n",
    "    axes[istokes].set_title(r\"$\\mathcal{P}_{roj}$ - \" + istokes_lbl[istokes])\n",
    "    axes[0].set_ylabel(r'$\\frac{| P(Imap)^{i} - P(Imap)^{max} |}{| P(Imap)^{max} |}$', fontsize=15, labelpad=10)\n",
    "    axes[istokes].set_xlabel('Nsub')\n",
    "    #axes[istokes].set_yscale('log')"
   ]
  },
  {
   "cell_type": "code",
   "execution_count": null,
   "metadata": {},
   "outputs": [],
   "source": [
    "fig, axes = plt.subplots(1, 3, figsize=(15, 5))\n",
    "\n",
    "istokes_lbl = ['I', 'Q', 'U']\n",
    "time_index = 0\n",
    "for istokes in range(3):\n",
    "    mean_diff_per_det = []\n",
    "    \n",
    "    for i in range(len(tod_lowfrq_nsub)):\n",
    "        diff_per_det = np.abs((tod_lowfrq_nsub[i][:, time_index, istokes] - tod_lowfrq_nsub[-1][:, time_index, istokes])) \n",
    "        mean_diff_per_det = np.mean(diff_per_det)\n",
    "        axes[istokes].plot(nsubs_no[i], mean_diff_per_det, '.')\n",
    "    axes[istokes].set_title(r\"$\\mathcal{P}_{roj}$ - \" + istokes_lbl[istokes])\n",
    "    axes[0].set_ylabel(r'$| P(Imap)^{i} - P(Imap)^{max} |$', fontsize=15, labelpad=10)\n",
    "    axes[istokes].set_xlabel('Nsub')\n",
    "    #axes[istokes].set_yscale('log')"
   ]
  },
  {
   "cell_type": "code",
   "execution_count": null,
   "metadata": {},
   "outputs": [],
   "source": [
    "plt.figure()\n",
    "mean_diff_per_det = []\n",
    "istokes = 0\n",
    "time_index = 0\n",
    "for i in range(len(Proj_list_nsub)):\n",
    "    diff_per_det = np.abs((tod_lowfrq_nsub[i][:, time_index, istokes] - tod_lowfrq_nsub[-1][:, time_index, istokes])) / np.abs(tod_lowfrq_nsub[-1][:, time_index, istokes])\n",
    "    mean_diff_per_det = np.mean(diff_per_det)\n",
    "    plt.plot(nsubs_no[i], mean_diff_per_det, '.')\n",
    "#plt.plot(acq.allnus[0:-1], mean_diff, '.')\n",
    "plt.title(r\"$\\mathcal{P}_{roj}$ - Intensity\")\n",
    "plt.ylabel(r'$\\frac{| P(Imap)^{i} - P(Imap)^{max} |}{| P(Imap)^{max} |}$', fontsize=15, labelpad=10)\n",
    "plt.xlabel('Nsub')"
   ]
  },
  {
   "cell_type": "code",
   "execution_count": null,
   "metadata": {},
   "outputs": [],
   "source": [
    "plt.figure()\n",
    "mean_diff = []\n",
    "istokes = 0\n",
    "\n",
    "for i in range(d['nf_sub']-1):\n",
    "    diff = np.abs((tod[i+1][:, time_index, istokes] - tod[i][:, time_index, istokes]))#/tod[i][:, time_index, istokes])\n",
    "    # Need to remove 'nan' due to division by 0\n",
    "    # Mean on detectors\n",
    "    #mean_diff.append(np.mean(diff[~np.isnan(diff)]))\n",
    "    mean_diff = np.mean(diff[~np.isnan(diff)])\n",
    "    plt.plot(acq.allnus[i], mean_diff, '.')\n",
    "#plt.plot(acq.allnus[0:-1], mean_diff, '.')\n",
    "plt.title(r\"$H = \\mathcal{P}_{roj}$ - Intensity map\")\n",
    "plt.ylabel(r'$| H(Imap)^{i+1} - H(Imap)^i |$', fontsize=15, labelpad=10)\n",
    "plt.ylim(0,400)\n",
    "plt.xlabel('Frequency (GHz)')"
   ]
  },
  {
   "cell_type": "code",
   "execution_count": null,
   "metadata": {},
   "outputs": [],
   "source": [
    "plt.figure()\n",
    "istokes = 1\n",
    "\n",
    "for i in range(d['nf_sub']-1):\n",
    "    diff = np.abs((tod[i+1][:, time_index, 1] - tod[i][:, time_index, 1]))#/tod[i][:, time_index, 1])\n",
    "    # Need to remove 'nan' due to division by 0\n",
    "    # Mean on detectors\n",
    "    mean_diff = np.mean(diff[~np.isnan(diff)])\n",
    "    plt.plot(acq.allnus[i], mean_diff, '.')\n",
    "plt.title(r\"$H = \\mathcal{P}_{roj}$ - Q map\")\n",
    "plt.ylabel(r'$| H(Imap)^{i+1} - H(Imap)^i |$', fontsize=15, labelpad=10)\n",
    "plt.ylim(0,400)\n",
    "plt.xlabel('Frequency (GHz)')"
   ]
  },
  {
   "cell_type": "code",
   "execution_count": null,
   "metadata": {},
   "outputs": [],
   "source": [
    "plt.figure()\n",
    "istokes = 2\n",
    "\n",
    "for i in range(d['nf_sub']-1):\n",
    "    diff = np.abs((tod[i+1][:, time_index, istokes] - tod[i][:, time_index, istokes]))#/tod[i][:, time_index, 1])\n",
    "    # Need to remove 'nan' due to division by 0\n",
    "    # Mean on detectors\n",
    "    mean_diff = np.mean(diff[~np.isnan(diff)])\n",
    "    plt.plot(acq.allnus[i], mean_diff, '.')\n",
    "plt.title(r\"$H = \\mathcal{P}_{roj}$ - U map\")\n",
    "plt.ylabel(r'$| H(Umap)^{i+1} - H(Umap)^i |$', fontsize=15, labelpad=10)\n",
    "plt.ylim(0,400)\n",
    "plt.xlabel('Frequency (GHz)')"
   ]
  },
  {
   "cell_type": "code",
   "execution_count": null,
   "metadata": {},
   "outputs": [],
   "source": [
    "plt.figure()\n",
    "idet = 245\n",
    "for idet in range(200, 210):\n",
    "    for i in range(d['nf_sub']-1):\n",
    "        diff = (tod[i+1][idet, time_index, 1] - tod[i][idet, time_index, 1])/tod[i][idet, time_index, 1]#np.abs((tod[i+1][idet, 0, 1] - tod[i][idet, 0, 1])/tod[i][idet, 0, 1])\n",
    "        plt.plot(acq.allnus[i], diff, '.b')\n",
    "    plt.title(r\"$H = \\mathcal{P}_{roj}$ - Q map - \" + f'Detector index = {idet}')\n",
    "    plt.ylabel(r'$\\frac{ H(Qmap)^{i+1} - H(Qmap)^i |}{| H(Qmap)^{i}}$', fontsize=15, labelpad=10)\n",
    "    plt.xlabel('Frequency (GHz)')\n",
    "    plt.show()"
   ]
  },
  {
   "cell_type": "code",
   "execution_count": null,
   "metadata": {},
   "outputs": [],
   "source": [
    "xTES, yTES, vertex = get_TEScoordinates_ONAFP(q)"
   ]
  },
  {
   "cell_type": "code",
   "execution_count": null,
   "metadata": {},
   "outputs": [],
   "source": [
    "fig, ax = plt.subplots(figsize=(10, 10))\n",
    "#these are frequencies not detectors\n",
    "ifreq_a, ifreq_b = 3, 2\n",
    "relative_diff = (tod[ifreq_a]-tod[ifreq_b])#/tod[ifreq_b]*100\n",
    "print(relative_diff.shape)\n",
    "scatter_plot_FP(q, xTES, yTES, np.mean(relative_diff[...,0], axis=1), frame='ONAFP', s=150, title=r'Intensity map - $ \\mathcal{P}_{roj}(Imap)^{n+1} - \\mathcal{P}_{roj}(Imap)^{n} $', fig=fig, ax = ax, unit='%')"
   ]
  },
  {
   "cell_type": "code",
   "execution_count": null,
   "metadata": {},
   "outputs": [],
   "source": [
    "fig, axes = plt.subplots(1, 3, figsize=(12, 12))\n",
    "relative_diff = (tod[ifreq_a]-tod[ifreq_b])#/tod[ifreq_a]\n",
    "\n",
    "scatter_plot_FP(q, xTES, yTES, tod[ifreq_a][:, 0, 1], frame='ONAFP', s=150, title=r'Q map - $| \\mathcal{P}_{roj}(Qmap)^{n+1}  | $', fig=fig, ax = axes[0], unit='%')\n",
    "scatter_plot_FP(q, xTES, yTES, tod[ifreq_b][:, 0, 1], frame='ONAFP', s=150, title=r'Q map - $|  \\mathcal{P}_{roj}(Qmap)^{n} | $', fig=fig, ax = axes[1], unit='%')\n",
    "scatter_plot_FP(q, xTES, yTES, relative_diff[:, 0, 1], frame='ONAFP', s=150, title=r'Q map - $| \\mathcal{P}_{roj}(Qmap)^{n+1} - \\mathcal{P}_{roj}(Qmap)^{n} | $', fig=fig, ax = axes[2], unit='%')"
   ]
  },
  {
   "cell_type": "markdown",
   "metadata": {},
   "source": [
    "## Lets see if the error also disappeared from H:"
   ]
  },
  {
   "cell_type": "markdown",
   "metadata": {},
   "source": [
    "## First, for fixed frequency (similar to how we looked at P)"
   ]
  },
  {
   "cell_type": "code",
   "execution_count": null,
   "metadata": {},
   "outputs": [],
   "source": [
    "H_list_nsub = []\n",
    "nsubsH_no = []\n",
    "j = 0\n",
    "H_nus = []\n",
    "for i in range(2, 100, 16):\n",
    "    nsubsH_no.append(i)\n",
    "    d['nf_sub'] = i\n",
    "    sampling = get_pointing(d)\n",
    "    q = QubicInstrument(d)\n",
    "    acq = QubicMultiAcquisitions(d, i, 2, sampling=sampling)\n",
    "    op = acq.subacqs[j].get_operator() #always take the middle frequency\n",
    "    H_list_nsub.append(op)\n",
    "    j = j + 4 # ode ide step iz range / 4"
   ]
  },
  {
   "cell_type": "code",
   "execution_count": null,
   "metadata": {},
   "outputs": [],
   "source": [
    "tod_H = []\n",
    "for i in range(len(H_list_nsub)):\n",
    "    tod_H.append(H_list_nsub[i](input_maps[i]))"
   ]
  },
  {
   "cell_type": "code",
   "execution_count": null,
   "metadata": {},
   "outputs": [],
   "source": []
  },
  {
   "cell_type": "code",
   "execution_count": null,
   "metadata": {},
   "outputs": [],
   "source": [
    "mean_diff = []\n",
    "plt.figure()\n",
    "for i in range(len(H_list_nsub)-1):\n",
    "    diff = np.abs((tod_H[-1][:, time_index] - tod_H[i][:, time_index]))#/tod_H[-1][:, time_index])\n",
    "    mean_diff.append(np.mean(diff))\n",
    "    plt.plot(nsubsH_no[i], np.mean(diff), '.')\n",
    "plt.title(r\"H with linear spacing\")\n",
    "plt.ylabel(r'$| H(Imap)^{max} - H(Imap)^i |$', fontsize=15, labelpad=10)\n",
    "plt.xlabel('Nsub')"
   ]
  },
  {
   "cell_type": "markdown",
   "metadata": {},
   "source": [
    "## Seems like the problem disappeared but lets try to look at real sky (CMB instead of uniform) to replicate the exact plot Tom made"
   ]
  },
  {
   "cell_type": "code",
   "execution_count": null,
   "metadata": {},
   "outputs": [],
   "source": [
    "from qubic.lib.MapMaking.FrequencyMapMaking.Qspectra_component import CMBModel\n",
    "\n",
    "np.random.seed(3)\n",
    "nsubs_no_final = []\n",
    "TODs_final = []\n",
    "check_acq_bandwidth = []\n",
    "cl_cmb = CMBModel(None).give_cl_cmb(r=0, Alens=1)\n",
    "cmb_map = hp.synfast(cl_cmb, nside, new=True, verbose=False).T\n",
    "\n",
    "for i in range(2, 33, 4):\n",
    "    nsubs_no_final.append(i)\n",
    "    sky_config = {'cmb': 3}\n",
    "    \n",
    "    d['nf_sub'] = i\n",
    "    Qubic_sky = qubic.lib.QskySim.Qubic_sky(sky_config, d)\n",
    "    sky_map = Qubic_sky.get_simple_sky_map()\n",
    "\n",
    "    # sky_map = sky_map[None] + np.zeros((i, hp.nside2npix(nside), 3))\n",
    "    print(sky_map.shape)\n",
    "    \n",
    "    sampling = get_pointing(d)\n",
    "    acq = QubicMultiAcquisitions(d, i, 2, sampling=sampling)\n",
    "    summ = 0\n",
    "    for i in range(len(acq.H)):\n",
    "        summ = summ + (acq.H[i](sky_map[i])) # we have to add the delta nu to summation acq.subacqs[i].get_filter_operator()\n",
    "    #TOD, _ = acq.get_observation(sky_map, noiseless=d['noiseless'])\n",
    "    TODs_final.append(summ)\n",
    "    check_acq_bandwidth.append(acq.subacqs[0].get_filter_operator())"
   ]
  },
  {
   "cell_type": "code",
   "execution_count": null,
   "metadata": {},
   "outputs": [],
   "source": [
    "plt.figure(figsize = (10,10))\n",
    "for i in range(len(TODs_final)):\n",
    "    plt.plot(range(len(TODs_final[0][:30,0])), TODs_final[i][:30,0], label = 'nsub '+str(nsubs_no_final[i]))\n",
    "plt.legend(loc = 'best')\n",
    "plt.title('First 30 pointings of TOD per nsub')\n",
    "plt.ylabel('TOD')\n",
    "plt.xlabel('pointing')"
   ]
  },
  {
   "cell_type": "code",
   "execution_count": null,
   "metadata": {},
   "outputs": [],
   "source": [
    "plt.figure(figsize = (10,10))\n",
    "plt.plot(range(len(TODs_final[0][0,:])), TODs_final[0][0,:], label = 'nsub '+str(nsubs_no_final[i]))\n",
    "plt.legend(loc = 'best')\n",
    "plt.title('First 30 pointings of TOD per nsub')\n",
    "plt.ylabel('TOD')\n",
    "plt.xlabel('pointing')"
   ]
  },
  {
   "cell_type": "code",
   "execution_count": null,
   "metadata": {},
   "outputs": [],
   "source": [
    "time_index = 0"
   ]
  },
  {
   "cell_type": "code",
   "execution_count": null,
   "metadata": {},
   "outputs": [],
   "source": [
    "mean_diff = []\n",
    "for i in range(len(TODs_final)):\n",
    "    diff = np.abs((TODs_final[i][:, time_index] - TODs_final[-1][:, time_index])/TODs_final[-1][:, time_index])\n",
    "    mean_diff.append(np.mean(diff))"
   ]
  },
  {
   "cell_type": "code",
   "execution_count": null,
   "metadata": {},
   "outputs": [],
   "source": [
    "plt.figure()\n",
    "plt.plot(nsubs_no_final, mean_diff, '.')\n",
    "plt.title(r\"H with linear spacing (all frequencies) TODs\")\n",
    "plt.ylabel(r'$\\frac{| H(Imap)^{max} - H(Imap)^i |}{H(Imap)^{max}}$', fontsize=15, labelpad=10)\n",
    "plt.xlabel('Nsub')\n",
    "plt.yscale('log')"
   ]
  },
  {
   "cell_type": "code",
   "execution_count": null,
   "metadata": {},
   "outputs": [],
   "source": [
    "nsubs_no_qubicsoft = [2, 10, 18, 26, 34, 42, 50, 58, 74, 90, 130]\n",
    "mean_diff_qubic_soft = [0.23328019, 0.05593016, 0.02726084, 0.01733298, 0.015180879912922126, 0.011851136572479338, 0.009573197553846079, 0.009183327526276779, 0.006966553326405692, 0.00631729577513964, 0.004212596032614286]"
   ]
  },
  {
   "cell_type": "code",
   "execution_count": null,
   "metadata": {},
   "outputs": [],
   "source": [
    "plt.figure()\n",
    "plt.plot(nsubs_no_final, mean_diff, '.', label = 'New H (from MapMaking or reorg)')\n",
    "plt.plot(nsubs_no_qubicsoft, mean_diff_qubic_soft, '.', label = 'Old H')\n",
    "plt.title(r\"H with linear spacing (all frequencies)\")\n",
    "plt.ylabel(r'$\\frac{| H(Imap)^{max} - H(Imap)^i |}{H(Imap)^{max}}$', fontsize=15, labelpad=10)\n",
    "plt.xlabel('Nsub')\n",
    "plt.legend(loc = 'best')\n",
    "#plt.yscale('log')"
   ]
  },
  {
   "cell_type": "code",
   "execution_count": null,
   "metadata": {},
   "outputs": [],
   "source": [
    "plt.figure()\n",
    "plt.plot(nsubs_no_final, mean_diff, '.', label = 'New H (from MapMaking or reorg)')\n",
    "plt.plot(nsubs_no_qubicsoft, mean_diff_qubic_soft, '.', label = 'Old H')\n",
    "plt.title(r\"H with linear spacing (all frequencies)\")\n",
    "plt.ylabel(r'$\\frac{| H(Imap)^{max} - H(Imap)^i |}{H(Imap)^{max}}$', fontsize=15, labelpad=10)\n",
    "plt.xlabel('Nsub')\n",
    "plt.legend(loc = 'best')\n",
    "plt.yscale('log')"
   ]
  },
  {
   "cell_type": "code",
   "execution_count": null,
   "metadata": {},
   "outputs": [],
   "source": []
  },
  {
   "cell_type": "code",
   "execution_count": null,
   "metadata": {},
   "outputs": [],
   "source": [
    "d"
   ]
  },
  {
   "cell_type": "code",
   "execution_count": null,
   "metadata": {},
   "outputs": [],
   "source": []
  },
  {
   "cell_type": "code",
   "execution_count": null,
   "metadata": {},
   "outputs": [],
   "source": []
  },
  {
   "cell_type": "code",
   "execution_count": null,
   "metadata": {},
   "outputs": [],
   "source": []
  }
 ],
 "metadata": {
  "kernelspec": {
   "display_name": "venv-qubic",
   "language": "python",
   "name": "python3"
  },
  "language_info": {
   "codemirror_mode": {
    "name": "ipython",
    "version": 3
   },
   "file_extension": ".py",
   "mimetype": "text/x-python",
   "name": "python",
   "nbconvert_exporter": "python",
   "pygments_lexer": "ipython3",
   "version": "3.9.18"
  }
 },
 "nbformat": 4,
 "nbformat_minor": 4
}
