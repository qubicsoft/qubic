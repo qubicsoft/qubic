{
 "cells": [
  {
   "cell_type": "code",
   "execution_count": null,
   "metadata": {},
   "outputs": [],
   "source": [
    "import numpy as np\n",
    "import matplotlib.pyplot as plt\n",
    "import healpy as hp\n",
    "\n",
    "import yaml\n",
    "\n",
    "from pyoperators import *\n",
    "from pysimulators.interfaces.healpy import HealpixConvolutionGaussianOperator\n",
    "\n",
    "import qubic\n",
    "from qubic.lib.Calibration.Qselfcal import scatter_plot_FP, get_TEScoordinates_ONAFP\n",
    "from qubic.lib.Instrument.Qinstrument import QubicInstrument\n",
    "from qubic.lib.Instrument.Qacquisition import QubicMultiAcquisitions\n",
    "from qubic.lib.MapMaking.Qmaps import InputMaps\n",
    "from qubic.lib.Qsamplings import get_pointing\n",
    "%matplotlib inline"
   ]
  },
  {
   "cell_type": "markdown",
   "metadata": {},
   "source": [
    "# Nsub_in"
   ]
  },
  {
   "cell_type": "code",
   "execution_count": null,
   "metadata": {},
   "outputs": [],
   "source": [
    "def get_dict(params, comm, key='in'):\n",
    "    \"\"\"QUBIC dictionary.\n",
    "\n",
    "    Method to modify the qubic dictionary.\n",
    "\n",
    "    Parameters\n",
    "    ----------\n",
    "    key : str, optional\n",
    "        Can be \"in\" or \"out\".\n",
    "        It is used to build respectively the instances to generate the TODs or to reconstruct the sky maps,\n",
    "        by default \"in\".\n",
    "\n",
    "    Returns\n",
    "    -------\n",
    "    dict_qubic: dict\n",
    "        Modified QUBIC dictionary.\n",
    "\n",
    "    \"\"\"\n",
    "\n",
    "    args = {\n",
    "        \"npointings\": params[\"QUBIC\"][\"npointings\"],\n",
    "        \"nf_recon\": params[\"QUBIC\"][\"nrec\"],\n",
    "        \"nf_sub\": params[\"QUBIC\"][f\"nsub_{key}\"],\n",
    "        \"nside\": params[\"SKY\"][\"nside\"],\n",
    "        \"MultiBand\": True,\n",
    "        \"period\": 1,\n",
    "        \"RA_center\": params[\"SKY\"][\"RA_center\"],\n",
    "        \"DEC_center\": params[\"SKY\"][\"DEC_center\"],\n",
    "        \"filter_nu\": 150 * 1e9,\n",
    "        \"noiseless\": False,\n",
    "        \"comm\": comm,\n",
    "        \"dtheta\": params[\"QUBIC\"][\"dtheta\"],\n",
    "        \"nprocs_sampling\": 1,\n",
    "        \"nprocs_instrument\": comm.Get_size(),\n",
    "        \"photon_noise\": True,\n",
    "        \"nhwp_angles\": 3,\n",
    "        #'effective_duration':3,\n",
    "        \"effective_duration150\": 3,\n",
    "        \"effective_duration220\": 3,\n",
    "        \"filter_relative_bandwidth\": 0.25,\n",
    "        \"type_instrument\": \"two\",\n",
    "        \"TemperatureAtmosphere150\": None,\n",
    "        \"TemperatureAtmosphere220\": None,\n",
    "        \"EmissivityAtmosphere150\": None,\n",
    "        \"EmissivityAtmosphere220\": None,\n",
    "        \"detector_nep\": float(params[\"QUBIC\"][\"NOISE\"][\"detector_nep\"]),\n",
    "        \"synthbeam_kmax\": params[\"QUBIC\"][\"SYNTHBEAM\"][\"synthbeam_kmax\"],\n",
    "        \"synthbeam_fraction\": 0.95,\n",
    "        \"beam_shape\": 'gaussian',\n",
    "        \"debug\":False,\n",
    "    }\n",
    "\n",
    "    ### Get the default dictionary\n",
    "    dictfilename = \"dicts/pipeline_demo.dict\"\n",
    "    dict_qubic = qubic.lib.Qdictionary.qubicDict()\n",
    "    dict_qubic.read_from_file(dictfilename)\n",
    "\n",
    "    for i in args.keys():\n",
    "\n",
    "        dict_qubic[str(i)] = args[i]\n",
    "\n",
    "    return dict_qubic"
   ]
  },
  {
   "cell_type": "code",
   "execution_count": null,
   "metadata": {},
   "outputs": [],
   "source": []
  },
  {
   "cell_type": "code",
   "execution_count": null,
   "metadata": {},
   "outputs": [],
   "source": [
    "def get_sky_config(params, comm):\n",
    "        \"\"\"Sky configuration.\n",
    "\n",
    "        Method that read 'params.yml' file and create dictionary containing sky emission model.\n",
    "\n",
    "        Returns\n",
    "        -------\n",
    "        dict_sky: dict\n",
    "            Sky config dictionary.\n",
    "\n",
    "        Notes\n",
    "        -----\n",
    "        Note that the key denote the emission and the value denote the sky model using PySM convention.\n",
    "        For CMB, seed denote the realization.\n",
    "\n",
    "        Example\n",
    "        -------\n",
    "        d = {'cmb':seed, 'dust':'d0', 'synchrotron':'s0'}\n",
    "\n",
    "        \"\"\"\n",
    "\n",
    "        dict_sky = {}\n",
    "\n",
    "        if params[\"CMB\"][\"cmb\"]:\n",
    "            if params[\"CMB\"][\"seed\"] == 0:\n",
    "                if comm.Get_rank() == 0:\n",
    "                    seed = np.random.randint(10000000)\n",
    "                else:\n",
    "                    seed = None\n",
    "                seed = comm.bcast(seed, root=0)\n",
    "            else:\n",
    "                seed = params[\"CMB\"][\"seed\"]\n",
    "                \n",
    "            dict_sky[\"cmb\"] = seed\n",
    "\n",
    "        for j in params[\"Foregrounds\"]:\n",
    "            # print(j, params['Foregrounds'][j])\n",
    "            if j == \"Dust\":\n",
    "                if params[\"Foregrounds\"][j]:\n",
    "                    dict_sky[\"dust\"] = \"d0\"\n",
    "            elif j == \"Synchrotron\":\n",
    "                if params[\"Foregrounds\"][j]:\n",
    "                    dict_sky[\"synchrotron\"] = \"s0\"\n",
    "\n",
    "        return dict_sky"
   ]
  },
  {
   "cell_type": "code",
   "execution_count": null,
   "metadata": {},
   "outputs": [],
   "source": [
    "# Initialize pipeline arguments\n",
    "comm = MPI.COMM_WORLD\n",
    "\n",
    "with open('params.yml', 'r') as file:\n",
    "    params = yaml.safe_load(file)"
   ]
  },
  {
   "cell_type": "code",
   "execution_count": null,
   "metadata": {},
   "outputs": [],
   "source": []
  },
  {
   "cell_type": "code",
   "execution_count": null,
   "metadata": {},
   "outputs": [],
   "source": [
    "# Acquisition arguments\n",
    "dict_qubic = get_dict(params, comm)"
   ]
  },
  {
   "cell_type": "code",
   "execution_count": null,
   "metadata": {},
   "outputs": [],
   "source": [
    "sky = get_sky_config(params, comm)\n",
    "sampling = get_pointing(dict_qubic)\n",
    "q = QubicInstrument(dict_qubic)"
   ]
  },
  {
   "cell_type": "code",
   "execution_count": null,
   "metadata": {},
   "outputs": [],
   "source": [
    "center = qubic.lib.Qsamplings.equ2gal(dict_qubic['RA_center'], dict_qubic['DEC_center'])"
   ]
  },
  {
   "cell_type": "code",
   "execution_count": null,
   "metadata": {},
   "outputs": [],
   "source": []
  },
  {
   "cell_type": "markdown",
   "metadata": {},
   "source": [
    "# Sub-TOD"
   ]
  },
  {
   "cell_type": "code",
   "execution_count": null,
   "metadata": {},
   "outputs": [],
   "source": [
    "nsub_max = 50\n",
    "nsub_list = np.arange(0, nsub_max)"
   ]
  },
  {
   "cell_type": "code",
   "execution_count": null,
   "metadata": {},
   "outputs": [],
   "source": [
    "acq = QubicMultiAcquisitions(dict_qubic, nsub_max*2, params['QUBIC']['nrec'], sampling=sampling)\n",
    "ext = InputMaps(sky, acq.allnus, params['QUBIC']['nrec'], params['SKY']['nside'])\n",
    "\n",
    "H = acq.H[:nsub_max]\n",
    "input_maps = ext.m_nu\n",
    "input_maps_ones = np.ones(np.shape(input_maps))\n",
    "# input_maps_ones[..., 1] = 0\n",
    "# input_maps_ones[..., 2] = 0"
   ]
  },
  {
   "cell_type": "code",
   "execution_count": null,
   "metadata": {},
   "outputs": [],
   "source": [
    "TOD_ones = []\n",
    "for i in range(nsub_max):\n",
    "    C = HealpixConvolutionGaussianOperator(acq.allfwhm[i])\n",
    "    TOD_ones.append(H[i](C(input_maps_ones[i])))"
   ]
  },
  {
   "cell_type": "code",
   "execution_count": null,
   "metadata": {},
   "outputs": [],
   "source": [
    "TOD_ones[0].shape"
   ]
  },
  {
   "cell_type": "code",
   "execution_count": null,
   "metadata": {},
   "outputs": [],
   "source": [
    "plt.figure()\n",
    "for i in range(nsub_max-1):\n",
    "    plt.plot(nsub_list[i], np.mean(np.abs((TOD_ones[i+1] - TOD_ones[i])/TOD_ones[i])), '.')\n",
    "plt.legend()\n",
    "plt.title(r\"Averaged relative difference between $N_{sub}^{i+1}$ & $N_{sub}^i$ - Uniform Sky\")\n",
    "plt.ylabel(r'$\\frac{| N_{sub}^{i+1} - N_{sub}^i |}{| N_{sub}^{i} |}$', fontsize=15, labelpad=10)\n",
    "plt.yscale('log')\n",
    "plt.xlabel(r'$N_{sub}^i$')\n",
    "plt.xticks(np.arange(0, nsub_max-1, 2))"
   ]
  },
  {
   "cell_type": "code",
   "execution_count": null,
   "metadata": {},
   "outputs": [],
   "source": [
    "xTES, yTES, vertex = get_TEScoordinates_ONAFP(q)\n",
    "fig, ax = plt.subplots(figsize=(10, 10))\n",
    "relative_diff = np.abs(TOD_ones[20] - TOD_ones[19]) / np.abs(TOD_ones[19]) * 100\n",
    "scatter_plot_FP(q, xTES, yTES, np.mean(relative_diff, axis=1), frame='ONAFP', s=150, title=r'$\\frac{| TOD[20] - TOD[19] |}{| TOD[19] |} x 100$', fig=fig, ax = ax, unit='%')"
   ]
  },
  {
   "cell_type": "markdown",
   "metadata": {},
   "source": [
    "# Operators details"
   ]
  },
  {
   "cell_type": "code",
   "execution_count": null,
   "metadata": {},
   "outputs": [],
   "source": [
    "H[0].operands"
   ]
  },
  {
   "cell_type": "code",
   "execution_count": null,
   "metadata": {},
   "outputs": [],
   "source": [
    "Rdet_list = []\n",
    "Tinst_list = []\n",
    "Idet_list = []\n",
    "Pol_list = []\n",
    "Proj_list = []\n",
    "Hwp_list = []\n",
    "Filt_list = []\n",
    "Ap_list = []\n",
    "Unit_list = []\n",
    "C_list = []\n",
    "for i in range(nsub_max):\n",
    "    Rdet_list.append(acq.subacqs[i].get_detector_response_operator())\n",
    "    Tinst_list.append(acq.multiinstrument[i].get_transmission_operator())\n",
    "    Idet_list.append(acq.subacqs[i].get_detector_integration_operator())\n",
    "    Pol_list.append(acq.subacqs[i].get_polarizer_operator())\n",
    "    Proj_list.append(acq.subacqs[i].get_projection_operator())\n",
    "    Hwp_list.append(acq.multiinstrument[i].get_hwp_operator(sampling, acq.scene))\n",
    "    Filt_list.append(acq.subacqs[i].get_filter_operator())\n",
    "    Ap_list.append(acq.subacqs[i].get_aperture_integration_operator())\n",
    "    Unit_list.append(acq.subacqs[i].get_unit_conversion_operator())\n",
    "    C_list.append(HealpixConvolutionGaussianOperator(acq.allfwhm[i]))"
   ]
  },
  {
   "cell_type": "code",
   "execution_count": null,
   "metadata": {},
   "outputs": [],
   "source": [
    "Proj_list[0].shapeout"
   ]
  },
  {
   "cell_type": "markdown",
   "metadata": {},
   "source": [
    "## Input Maps"
   ]
  },
  {
   "cell_type": "code",
   "execution_count": null,
   "metadata": {},
   "outputs": [],
   "source": [
    "plt.figure()\n",
    "for i in range(len(nsub_list)-1):\n",
    "    plt.plot(nsub_list[i], np.mean(input_maps_ones[i]), '.')\n",
    "plt.legend()\n",
    "plt.title(r\"Comparing input maps\")\n",
    "plt.ylabel(r'$map^i$', fontsize=15, labelpad=10)\n",
    "plt.xlabel(r'$i$')"
   ]
  },
  {
   "cell_type": "code",
   "execution_count": null,
   "metadata": {},
   "outputs": [],
   "source": [
    "plt.figure()\n",
    "for i in range(len(nsub_list)-1):\n",
    "    plt.plot(nsub_list[i], np.mean(np.abs((input_maps_ones[i+1] - input_maps_ones[i])/input_maps_ones[i])), '.')\n",
    "plt.legend()\n",
    "plt.title(r\"Comparing input maps\")\n",
    "plt.ylabel(r'$\\frac{| map^{i+1} - map^i |}{| map^{i} |}$', fontsize=15, labelpad=10)\n",
    "plt.xlabel(r'$i$')"
   ]
  },
  {
   "cell_type": "markdown",
   "metadata": {},
   "source": [
    "GOOD"
   ]
  },
  {
   "cell_type": "markdown",
   "metadata": {},
   "source": [
    "## Convolution operator"
   ]
  },
  {
   "cell_type": "code",
   "execution_count": null,
   "metadata": {},
   "outputs": [],
   "source": [
    "test_conv = []\n",
    "for i in range(nsub_max):\n",
    "    C = C_list[i]\n",
    "    test_conv.append(C(input_maps_ones[i]))"
   ]
  },
  {
   "cell_type": "code",
   "execution_count": null,
   "metadata": {},
   "outputs": [],
   "source": [
    "test_conv[0].shape"
   ]
  },
  {
   "cell_type": "code",
   "execution_count": null,
   "metadata": {},
   "outputs": [],
   "source": [
    "plt.figure()\n",
    "for i in range(len(nsub_list)-1):\n",
    "    plt.plot(acq.allnus[i], np.mean(np.abs((test_conv[i+1] - test_conv[i])/test_conv[i])), '.')\n",
    "plt.legend()\n",
    "plt.title(r\"Comparing convolved input maps\")\n",
    "plt.ylabel(r'$\\frac{| C(map)^{i+1} - C(map)^i |}{| C(map)^{i} |}$', fontsize=15, labelpad=10)\n",
    "plt.xlabel(r'Frequency (GHz)')"
   ]
  },
  {
   "cell_type": "markdown",
   "metadata": {},
   "source": [
    "### I, Q and U"
   ]
  },
  {
   "cell_type": "code",
   "execution_count": null,
   "metadata": {},
   "outputs": [],
   "source": [
    "plt.figure()\n",
    "for i in range(len(nsub_list)-1):\n",
    "    plt.plot(acq.allnus[i], np.mean(np.abs((test_conv[i+1][:, 0] - test_conv[i][:, 0])/test_conv[i][:, 0])), '.')\n",
    "plt.legend()\n",
    "plt.title(r\"Comparing convolved input maps - Intensity\")\n",
    "plt.ylabel(r'$\\frac{| C(map)^{i+1} - C(map)^i |}{| C(map)^{i} |}$', fontsize=15, labelpad=10)\n",
    "plt.xlabel(r'Frequency (GHz)')"
   ]
  },
  {
   "cell_type": "code",
   "execution_count": null,
   "metadata": {},
   "outputs": [],
   "source": [
    "plt.figure()\n",
    "for i in range(len(nsub_list)-1):\n",
    "    plt.plot(acq.allnus[i], np.mean(np.abs((test_conv[i+1][:, 1] - test_conv[i][:, 1])/test_conv[i][:, 1])), '.')\n",
    "plt.legend()\n",
    "plt.title(r\"Comparing convolved input maps - Q polarisation\")\n",
    "plt.ylabel(r'$\\frac{| C(map)^{i+1} - C(map)^i |}{| C(map)^{i} |}$', fontsize=15, labelpad=10)\n",
    "plt.xlabel(r'Frequency (GHz)')"
   ]
  },
  {
   "cell_type": "code",
   "execution_count": null,
   "metadata": {},
   "outputs": [],
   "source": [
    "plt.figure()\n",
    "for i in range(len(nsub_list)-1):\n",
    "    plt.plot(acq.allnus[i], np.mean(np.abs((test_conv[i+1][:, 2] - test_conv[i][:, 2])/test_conv[i][:, 2])), '.')\n",
    "plt.legend()\n",
    "plt.title(r\"Comparing convolved input maps - U polarisation\")\n",
    "plt.ylabel(r'$\\frac{| C(map)^{i+1} - C(map)^i |}{| C(map)^{i} |}$', fontsize=15, labelpad=10)\n",
    "plt.xlabel(r'Frequency (GHz)')"
   ]
  },
  {
   "cell_type": "markdown",
   "metadata": {},
   "source": [
    "### FWHM"
   ]
  },
  {
   "cell_type": "code",
   "execution_count": null,
   "metadata": {},
   "outputs": [],
   "source": [
    "plt.plot(acq.allnus[:nsub_max], acq.allfwhm[:nsub_max], '.')\n",
    "plt.xlabel('Frequency (GHz)')\n",
    "plt.ylabel('FWHM')"
   ]
  },
  {
   "cell_type": "code",
   "execution_count": null,
   "metadata": {},
   "outputs": [],
   "source": [
    "plt.figure()\n",
    "for i in range(len(nsub_list)-1):\n",
    "    plt.plot(acq.allnus[i], np.abs(acq.allfwhm[i+1]-acq.allfwhm[i])/acq.allfwhm[i] , '.')\n",
    "plt.legend()\n",
    "plt.ylabel(r'$\\frac{|FWHM_{i+1} - FWHM_{i}|}{FWHM_{i}}$', fontsize=16)\n",
    "plt.xlabel(r'$Frequency (GHz)$')\n",
    "plt.title('Compison between successive FWHM')"
   ]
  },
  {
   "cell_type": "markdown",
   "metadata": {},
   "source": [
    "OK"
   ]
  },
  {
   "cell_type": "markdown",
   "metadata": {},
   "source": [
    "## Temperature Operator"
   ]
  },
  {
   "cell_type": "code",
   "execution_count": null,
   "metadata": {},
   "outputs": [],
   "source": [
    "test_temp = []\n",
    "for i in range(nsub_max):\n",
    "    Unit = Unit_list[i]\n",
    "    test_temp.append(Unit(input_maps_ones[i]))"
   ]
  },
  {
   "cell_type": "code",
   "execution_count": null,
   "metadata": {},
   "outputs": [],
   "source": [
    "test_temp[0].shape"
   ]
  },
  {
   "cell_type": "code",
   "execution_count": null,
   "metadata": {},
   "outputs": [],
   "source": [
    "plt.figure()\n",
    "for i in range(len(nsub_list)-1):\n",
    "    plt.plot(acq.allnus[i], np.mean(np.abs((test_temp[i+1] - test_temp[i])/test_temp[i])), '.')\n",
    "plt.legend()\n",
    "plt.title(r\"$H = \\mathcal{U}_{nit}$\")\n",
    "plt.ylabel(r'$\\frac{| H(map)^{i+1} - H(map)^i |}{| H(map)^{i} |}$', fontsize=15, labelpad=10)\n",
    "plt.xlabel('Frequency (GHz)')"
   ]
  },
  {
   "cell_type": "code",
   "execution_count": null,
   "metadata": {},
   "outputs": [],
   "source": [
    "plt.figure()\n",
    "for i in range(len(nsub_list)):\n",
    "    plt.plot(acq.allnus[i], np.mean(test_temp[i]), '.')\n",
    "plt.legend()\n",
    "plt.title(r\"$H = \\mathcal{U}_{nit}$\")\n",
    "plt.ylabel(r'$H(map)^i$', fontsize=15, labelpad=10)\n",
    "plt.xlabel(r'$Frequency (GHz) $')"
   ]
  },
  {
   "cell_type": "markdown",
   "metadata": {},
   "source": [
    "$\\mathcal{U}_{nit} = \\frac{10^{-6}}{T} \\frac{2\\Omega_{pix}h\\nu^3}{c^2} \\frac{h\\nu}{kT} \\frac{e^{\\frac{h\\nu}{kT}}}{(e^{\\frac{h\\nu}{kT}} - 1)^2}$"
   ]
  },
  {
   "cell_type": "code",
   "execution_count": null,
   "metadata": {},
   "outputs": [],
   "source": [
    "from scipy.constants import c, h, k\n",
    "def u_nit(nu):\n",
    "    a = 2 * acq.scene.solid_angle * h * nu**3 / c**2\n",
    "    T = acq.scene.temperature\n",
    "    hnu_kt = h * nu / (k * T)\n",
    "    return 1e-6 * a * hnu_kt * np.exp(hnu_kt) / (np.expm1(hnu_kt)**2 * T)"
   ]
  },
  {
   "cell_type": "code",
   "execution_count": null,
   "metadata": {},
   "outputs": [],
   "source": [
    "plt.plot(u_nit(np.linspace(0, 300, 300)*1e9))\n",
    "plt.xlabel('Frequency (GHz)')\n",
    "plt.ylabel(r'$\\mathcal{U}_{nit} (W / m^2 / Hz / K)$')"
   ]
  },
  {
   "cell_type": "code",
   "execution_count": null,
   "metadata": {},
   "outputs": [],
   "source": [
    "plt.plot(acq.allnus[:nsub_max], u_nit(acq.allnus[:nsub_max]*1e9))\n",
    "plt.xlabel(\"Frequency (GHz)\")\n",
    "plt.ylabel(r'$\\mathcal{U}_{nit}$ ($W / m^2 / Hz / K$)')\n",
    "plt.title(r'$\\mathcal{U}_{nit}$')"
   ]
  },
  {
   "cell_type": "code",
   "execution_count": null,
   "metadata": {},
   "outputs": [],
   "source": [
    "for i in range(nsub_max):\n",
    "    plt.plot(acq.allnus[i], Unit_list[i](1), '.r')\n",
    "    plt.plot(acq.allnus[i], u_nit(acq.allnus[i]*1e9), '.b')\n",
    "plt.xlabel(\"Frequency (GHz)\")\n",
    "plt.ylabel(r'$\\mathcal{U}_{nit}$ ($W / m^2 / Hz / K$)')\n",
    "plt.title(r'Comparison between PyOperators and formula')\n",
    "plt.plot([], [], '.r', label='PyOperators')\n",
    "plt.plot([], [], '.b', label='Formula')\n",
    "plt.legend()"
   ]
  },
  {
   "cell_type": "code",
   "execution_count": null,
   "metadata": {},
   "outputs": [],
   "source": [
    "print((acq.allnus*1e9) - np.array([acq.multiinstrument[i].filter.nu for i in range(len(acq.multiinstrument))]))"
   ]
  },
  {
   "cell_type": "code",
   "execution_count": null,
   "metadata": {},
   "outputs": [],
   "source": [
    "a = asoperator(u_nit(acq.allnus[0]))(input_maps_ones[0])[..., 0]\n",
    "b = asoperator(u_nit(acq.allnus[1]))(input_maps_ones[1])[..., 0]"
   ]
  },
  {
   "cell_type": "code",
   "execution_count": null,
   "metadata": {},
   "outputs": [],
   "source": [
    "hp.mollview(a)\n",
    "print(a[0])\n",
    "print(b[0])\n",
    "print(np.abs(a[0] - b[0])/a[0])"
   ]
  },
  {
   "cell_type": "markdown",
   "metadata": {},
   "source": [
    "## Transmitivity atmosphere"
   ]
  },
  {
   "cell_type": "code",
   "execution_count": null,
   "metadata": {},
   "outputs": [],
   "source": [
    "acq.scene.atmosphere.transmission"
   ]
  },
  {
   "cell_type": "markdown",
   "metadata": {},
   "source": [
    "## Aperture Operator"
   ]
  },
  {
   "cell_type": "markdown",
   "metadata": {},
   "source": [
    "Convert $W / m^2 / Hz$ to $W / Hz$.\n",
    "It is a homothety of value $ \\lambda = N_{horn}S_{horn} = N_{horn}\\pi r^2$"
   ]
  },
  {
   "cell_type": "code",
   "execution_count": null,
   "metadata": {},
   "outputs": [],
   "source": [
    "test_ap = []\n",
    "for i in range(nsub_max):\n",
    "    Ap = Ap_list[i]\n",
    "    test_ap.append(Ap(input_maps_ones[i]))"
   ]
  },
  {
   "cell_type": "code",
   "execution_count": null,
   "metadata": {},
   "outputs": [],
   "source": [
    "test_ap[0].shape"
   ]
  },
  {
   "cell_type": "code",
   "execution_count": null,
   "metadata": {},
   "outputs": [],
   "source": [
    "plt.figure()\n",
    "for i in range(nsub_max-1):\n",
    "    plt.plot(acq.allnus[i], np.mean(np.abs((test_ap[i+1] - test_ap[i])/test_ap[i])), '.')\n",
    "plt.legend()\n",
    "plt.title(r\"$H = \\mathcal{A}_p$\")\n",
    "plt.ylabel(r'$\\frac{| H(map)^{i+1} - H(map)^i |}{| H(map)^{i} |}$', fontsize=15, labelpad=10)\n",
    "plt.xlabel(r'Frequency (GHz)')"
   ]
  },
  {
   "cell_type": "code",
   "execution_count": null,
   "metadata": {},
   "outputs": [],
   "source": [
    "for i in range(nsub_max):\n",
    "    plt.plot(acq.allnus[i], acq.multiinstrument[i].horn.radeff, '.')\n",
    "plt.xlabel('Frequency (GHz)')\n",
    "plt.ylabel('Effective horn radius')"
   ]
  },
  {
   "cell_type": "code",
   "execution_count": null,
   "metadata": {},
   "outputs": [],
   "source": [
    "print(acq.multiinstrument[0].horn.radius)"
   ]
  },
  {
   "cell_type": "markdown",
   "metadata": {},
   "source": [
    "## Filter operator"
   ]
  },
  {
   "cell_type": "code",
   "execution_count": null,
   "metadata": {},
   "outputs": [],
   "source": [
    "test_filt = []\n",
    "for i in range(nsub_max):\n",
    "    Filt = Filt_list[i]\n",
    "    test_filt.append(Filt(input_maps_ones[i]))"
   ]
  },
  {
   "cell_type": "code",
   "execution_count": null,
   "metadata": {},
   "outputs": [],
   "source": [
    "test_filt[0].shape"
   ]
  },
  {
   "cell_type": "code",
   "execution_count": null,
   "metadata": {},
   "outputs": [],
   "source": [
    "acq.allnus"
   ]
  },
  {
   "cell_type": "code",
   "execution_count": null,
   "metadata": {},
   "outputs": [],
   "source": [
    "plt.figure()\n",
    "for i in range(0, len(nsub_list)-1):\n",
    "    plt.plot(acq.allnus[i], np.mean(np.abs((test_filt[i+1][..., 0] - test_filt[i][..., 0])/test_filt[i][..., 0])), '.')\n",
    "plt.legend()\n",
    "plt.title(r\"$H = \\mathcal{F}_{ilt}$\")\n",
    "plt.ylabel(r'$\\frac{| H(map)^{i+1} - H(map)^i |}{| H(map)^{i} |}$', fontsize=15, labelpad=10)\n",
    "plt.xlabel('Frequency (GHz)')\n"
   ]
  },
  {
   "cell_type": "code",
   "execution_count": null,
   "metadata": {},
   "outputs": [],
   "source": [
    "bandwidth_list = []\n",
    "for i in range(nsub_max):\n",
    "    bandwidth_list.append(acq.multiinstrument[i].filter.bandwidth/1e9)\n",
    "    plt.plot(acq.allnus[i], acq.multiinstrument[i].filter.bandwidth/1e9, '.')\n",
    "plt.xlabel('Sub-band frequency (GHz)')\n",
    "plt.ylabel('Filter bandwidth (GHz)')"
   ]
  },
  {
   "cell_type": "code",
   "execution_count": null,
   "metadata": {},
   "outputs": [],
   "source": [
    "for i in range(nsub_max):\n",
    "    plt.errorbar(acq.multiinstrument[i].filter.nu/1e9, acq.multiinstrument[i].filter.nu/1e9, xerr=acq.multiinstrument[i].filter.bandwidth/2e9, capsize=5, fmt='.')\n",
    "plt.vlines(131.25, 125, 150, color='black', linestyle='--', label='131.25 GHz')\n",
    "plt.vlines(168.75, 150, 175, color='red', linestyle='--', label='168.75 GHz')\n",
    "plt.legend(loc='upper left')\n",
    "plt.xlabel('Frequency (GHz)')\n",
    "plt.ylabel('Frequency (GHz)')"
   ]
  },
  {
   "cell_type": "code",
   "execution_count": null,
   "metadata": {},
   "outputs": [],
   "source": [
    "def compute_freq(band, Nfreq=None, relative_bandwidth=0.25):\n",
    "    \"\"\"\n",
    "    Prepare frequency bands parameters\n",
    "    band -- int,\n",
    "        QUBIC frequency band, in GHz.\n",
    "        Typical values: 150, 220\n",
    "    relative_bandwidth -- float, optional\n",
    "        Ratio of the difference between the edges of the\n",
    "        frequency band over the average frequency of the band:\n",
    "        2 * (nu_max - nu_min) / (nu_max + nu_min)\n",
    "        Typical value: 0.25\n",
    "    Nfreq -- int, optional\n",
    "        Number of frequencies within the wide band.\n",
    "        If not specified, then Nfreq = 15 if band == 150\n",
    "        and Nfreq = 20 if band = 220\n",
    "    \"\"\"\n",
    "\n",
    "    if Nfreq is None:\n",
    "        Nfreq = {150: 15, 220: 20}[band]\n",
    "\n",
    "    nu_min = band * (1 - relative_bandwidth / 2)\n",
    "    nu_max = band * (1 + relative_bandwidth / 2)\n",
    "\n",
    "    Nfreq_edges = Nfreq + 1\n",
    "    base = (nu_max / nu_min) ** (1. / Nfreq)\n",
    "\n",
    "    nus_edge = nu_min * np.logspace(0, Nfreq, Nfreq_edges, endpoint=True, base=base)\n",
    "    nus = np.array([(nus_edge[i] + nus_edge[i - 1]) / 2 for i in range(1, Nfreq_edges)])\n",
    "    deltas = np.array([(nus_edge[i] - nus_edge[i - 1]) for i in range(1, Nfreq_edges)])\n",
    "    Delta = nu_max - nu_min\n",
    "    Nbbands = len(nus)\n",
    "    return Nfreq_edges, nus_edge, nus, deltas, Delta, Nbbands\n",
    "\n",
    "\n",
    "Nf, nus_edge, filter_nus, deltas, Delta, Nbbands = compute_freq(\n",
    "    150, Nfreq=10-1, relative_bandwidth=0.25)"
   ]
  },
  {
   "cell_type": "code",
   "execution_count": null,
   "metadata": {},
   "outputs": [],
   "source": [
    "deltas_trap_filter_nus = np.array([IntegrationTrapezeOperator(filter_nus).operands[i].todense(shapein=1)[0][0] for i in range(len(filter_nus))])\n",
    "deltas_trap_nus_edge = np.array([IntegrationTrapezeOperator(nus_edge).operands[i].todense(shapein=1)[0][0] for i in range(len(nus_edge))])"
   ]
  },
  {
   "cell_type": "code",
   "execution_count": null,
   "metadata": {},
   "outputs": [],
   "source": [
    "for i in range(1, 10-1):\n",
    "    plt.errorbar(nus_edge[i], nus_edge[i], xerr=deltas_trap_nus_edge[i]/2, capsize=5, fmt='.')\n",
    "plt.errorbar(nus_edge[0], nus_edge[0], xerr=[[0], [deltas_trap_nus_edge[0]/2]], capsize=5, fmt='.')\n",
    "plt.errorbar(nus_edge[-1], nus_edge[-1], xerr=[[deltas_trap_nus_edge[-1]/2], [0]], capsize=5, fmt='.')\n",
    "plt.vlines(131.25, 125, 150, color='black', linestyle='--', label='131.25 GHz')\n",
    "plt.vlines(168.75, 150, 175, color='red', linestyle='--', label='168.75 GHz')\n",
    "plt.legend(loc='upper left')\n",
    "plt.xlabel('Frequency (GHz)')\n",
    "plt.ylabel('Frequency (GHz)')"
   ]
  },
  {
   "cell_type": "code",
   "execution_count": null,
   "metadata": {},
   "outputs": [],
   "source": [
    "plt.plot(filter_nus, deltas_trap_filter_nus, label='compute_freq + IntegrationTrapezeOperator - Centered')\n",
    "plt.plot(nus_edge, deltas_trap_nus_edge, label='compute_freq + IntegrationTrapezeOperator - Edges')\n",
    "plt.plot(filter_nus, deltas, label='compute_freq')\n",
    "plt.legend()\n",
    "plt.xlabel('Frequency (GHz)')\n",
    "plt.ylabel('Bandwidth (GHz)')"
   ]
  },
  {
   "cell_type": "code",
   "execution_count": null,
   "metadata": {},
   "outputs": [],
   "source": [
    "print(filter_nus)\n",
    "print(nus_edge)"
   ]
  },
  {
   "cell_type": "code",
   "execution_count": null,
   "metadata": {},
   "outputs": [],
   "source": [
    "print(np.sum(deltas_trap_filter_nus / filter_nus))\n",
    "print(np.sum(deltas_trap_nus_edge / nus_edge))\n",
    "print(np.sum(deltas / filter_nus))"
   ]
  },
  {
   "cell_type": "code",
   "execution_count": null,
   "metadata": {},
   "outputs": [],
   "source": [
    "print(Delta / 150)"
   ]
  },
  {
   "cell_type": "markdown",
   "metadata": {},
   "source": [
    "## Projection Operator"
   ]
  },
  {
   "cell_type": "code",
   "execution_count": null,
   "metadata": {},
   "outputs": [],
   "source": [
    "test_proj = []\n",
    "\n",
    "for i in range(nsub_max):\n",
    "    Proj = Proj_list[i]\n",
    "    test_proj.append(Proj(input_maps_ones[i]))"
   ]
  },
  {
   "cell_type": "code",
   "execution_count": null,
   "metadata": {},
   "outputs": [],
   "source": [
    "test_proj[0].shape"
   ]
  },
  {
   "cell_type": "code",
   "execution_count": null,
   "metadata": {},
   "outputs": [],
   "source": [
    "plt.figure()\n",
    "for i in range(len(nsub_list)-1):\n",
    "    diff = np.abs((test_proj[i+1][:, 0, 0] - test_proj[i][:, 0, 0])/test_proj[i][:, 0, 0])\n",
    "    # Need to remove 'nan' due to division by 0\n",
    "    mean_diff = np.mean(diff[~np.isnan(diff)])\n",
    "    plt.plot(acq.allnus[i], mean_diff, '.')\n",
    "plt.legend()\n",
    "plt.title(r\"$H = \\mathcal{P}_{roj}$ - Intensity map\")\n",
    "plt.ylabel(r'$\\frac{| H(Imap)^{i+1} - H(Imap)^i |}{| H(Imap)^{i} |}$', fontsize=15, labelpad=10)\n",
    "plt.xlabel('Frequency (GHz)')"
   ]
  },
  {
   "cell_type": "code",
   "execution_count": null,
   "metadata": {},
   "outputs": [],
   "source": [
    "plt.figure()\n",
    "for i in range(len(nsub_list)-1):\n",
    "    diff = np.abs((test_proj[i+1][..., 1] - test_proj[i][..., 1])/test_proj[i][..., 1])\n",
    "    # Need to remove 'nan' due to division by 0\n",
    "    mean_diff = np.mean(diff[~np.isnan(diff)])\n",
    "    plt.plot(acq.allnus[i], mean_diff, '.')\n",
    "plt.legend()\n",
    "plt.title(r\"$H = \\mathcal{P}_{roj}$ - Q map\")\n",
    "plt.ylabel(r'$\\frac{| H(Qmap)^{i+1} - H(Qmap)^i |}{| H(Qmap)^{i} |}$', fontsize=15, labelpad=10)\n",
    "plt.xlabel('Frequency (GHz)')"
   ]
  },
  {
   "cell_type": "code",
   "execution_count": null,
   "metadata": {},
   "outputs": [],
   "source": [
    "for i in range(nsub_max):\n",
    "    plt.plot(acq.allnus[i], np.mean(test_proj[i][..., 0]), '.')\n",
    "plt.xlabel('Frequency (GHz)')\n",
    "plt.title(r\"$H = \\mathcal{P}_{roj}$\")\n",
    "plt.ylabel(r'$H(map)^{i}$', fontsize=15, labelpad=10)"
   ]
  },
  {
   "cell_type": "code",
   "execution_count": null,
   "metadata": {},
   "outputs": [],
   "source": [
    "fig, ax = plt.subplots(figsize=(10, 10))\n",
    "relative_diff = np.abs(test_proj[20]-test_proj[19])/test_proj[19]*100\n",
    "scatter_plot_FP(q, xTES, yTES, np.mean(relative_diff[...,0], axis=1), frame='ONAFP', s=150, title=r'Intensity map - $\\frac{| \\mathcal{P}_{roj}(Imap)^{20} - \\mathcal{P}_{roj}(Imap)^{19} |}{| \\mathcal{P}_{roj}(Imap)^{19} |} x 100$', fig=fig, ax = ax, unit='%')"
   ]
  },
  {
   "cell_type": "code",
   "execution_count": null,
   "metadata": {},
   "outputs": [],
   "source": [
    "test_proj[0].shape"
   ]
  },
  {
   "cell_type": "code",
   "execution_count": null,
   "metadata": {},
   "outputs": [],
   "source": [
    "fig, ax = plt.subplots(figsize=(10, 10))\n",
    "relative_diff = np.abs(test_proj[20]-test_proj[19])/test_proj[19]*100\n",
    "scatter_plot_FP(q, xTES, yTES, relative_diff[:, 0, 1], frame='ONAFP', s=150, title=r'Q map - $\\frac{| \\mathcal{P}_{roj}(Qmap)^{20} - \\mathcal{P}_{roj}(Qmap)^{19} |}{| \\mathcal{P}_{roj}(Qmap)^{19} |} x 100$', fig=fig, ax = ax, unit='%')"
   ]
  },
  {
   "cell_type": "code",
   "execution_count": null,
   "metadata": {},
   "outputs": [],
   "source": [
    "idet, isamples = 0, 50\n",
    "stokes = ['R11 = A = I', r'R22 - R32 = A($cos2\\alpha + sin2\\alpha$) = Q', r'R32 + R22 = A($- sin2\\alpha + cos2\\alpha$) = U']\n",
    "fig, ax = plt.subplots(1, 3, figsize=(15, 5))\n",
    "for i in range(0, nsub_max, 5):\n",
    "    P = Proj_list[i]\n",
    "    amplitude_I = P.matrix.data.r11[len(acq.sampling.index)*idet+isamples]\n",
    "    amplitude_Q = P.matrix.data.r22[len(acq.sampling.index)*idet+isamples] - P.matrix.data.r32[len(acq.sampling.index)*idet+isamples]\n",
    "    amplitude_U = P.matrix.data.r22[len(acq.sampling.index)*idet+isamples] + P.matrix.data.r32[len(acq.sampling.index)*idet+isamples]\n",
    "    amplitude = np.array([amplitude_I, amplitude_Q, amplitude_U])\n",
    "    index = P.matrix.data.index[len(acq.sampling.index)*idet+isamples]\n",
    "    for istk in range(3):\n",
    "        ax[istk].plot(amplitude[istk], label=f'{round(acq.allnus[i],2)} GHz')\n",
    "        ax[istk].set_title(f'{stokes[istk]}')\n",
    "        ax[istk].set_xlabel('Peak index')\n",
    "        ax[istk].set_ylabel('Peak amplitude')\n",
    "        ax[istk].legend()\n",
    "fig.suptitle('Projection matrix elements for a given detector at a given time - Uniform sky')"
   ]
  },
  {
   "cell_type": "code",
   "execution_count": null,
   "metadata": {},
   "outputs": [],
   "source": [
    "alpha_from_r22 = 0.5 * np.arccos(P.matrix.data.r22 / P.matrix.data.r11)\n",
    "alpha_from_r32 = 0.5 * np.arcsin(- P.matrix.data.r32 / P.matrix.data.r11)\n",
    "\n",
    "cos2_sin2 = (P.matrix.data.r22**2 + P.matrix.data.r32**2) / P.matrix.data.r11**2"
   ]
  },
  {
   "cell_type": "code",
   "execution_count": null,
   "metadata": {},
   "outputs": [],
   "source": [
    "print(alpha_from_r22.shape, alpha_from_r32.shape)"
   ]
  },
  {
   "cell_type": "code",
   "execution_count": null,
   "metadata": {},
   "outputs": [],
   "source": [
    "plt.plot(alpha_from_r22[0], label=r'$\\alpha_{22}$')\n",
    "#plt.plot(np.abs(alpha_from_r32[0]), label=r'$|\\alpha_{32}|$')\n",
    "plt.plot(alpha_from_r32[0], label=r'$\\alpha_{32}$')\n",
    "# plt.plot(alpha_from_r22[0] % (np.pi/2), label=r'$\\alpha_{22}$ mod $\\pi/2$')\n",
    "#plt.plot(alpha_from_r32[0] % (np.pi/2), label=r'$\\alpha_{22} \\ mod \\ (\\pi/2)$')\n",
    "plt.legend()\n",
    "plt.xlabel('Peaks index')\n",
    "plt.ylabel('Angle (rad)')"
   ]
  },
  {
   "cell_type": "code",
   "execution_count": null,
   "metadata": {},
   "outputs": [],
   "source": [
    "plt.hlines(0, 0, len(alpha_from_r22[0]), 'grey', linestyle='--', alpha=0.5)\n",
    "plt.plot(alpha_from_r22[0] - (alpha_from_r32[0]), label=r'$\\alpha_{22} - \\alpha_{32}$')\n",
    "plt.plot(alpha_from_r22[0] - np.abs(alpha_from_r32[0]), label=r'$\\alpha_{22} - |\\alpha_{32}|$')\n",
    "plt.plot(alpha_from_r22[0] - (alpha_from_r32[0] % (np.pi/2)), label=r'$\\alpha_{22} - \\alpha_{32} \\ mod \\ (\\pi/2)$')\n",
    "plt.legend()\n",
    "plt.xlabel('Peaks index')\n",
    "plt.ylabel('Angle (rad)')"
   ]
  },
  {
   "cell_type": "code",
   "execution_count": null,
   "metadata": {},
   "outputs": [],
   "source": [
    "plt.plot(np.degrees(alpha_from_r22[:99, 0]), label=r'$\\alpha$ from M22')\n",
    "plt.plot(np.degrees(alpha_from_r32[:99, 0]), label=r'$\\alpha$ from M32')\n",
    "#plt.plot(acq.sampling.pitch, label='pitch angle')\n",
    "plt.legend()\n",
    "plt.xlabel('Time sample x Detector index')\n",
    "plt.ylabel('Angle (deg)')"
   ]
  },
  {
   "cell_type": "code",
   "execution_count": null,
   "metadata": {},
   "outputs": [],
   "source": [
    "fig, (ax1, ax2, ax3) = plt.subplots(1, 3, figsize=(15, 5))\n",
    "\n",
    "ax1.plot(np.mean(test_proj[20][..., 0], axis=0), 'b', label='I')\n",
    "ax1.legend()\n",
    "ax1.set_title('TOD averaged over detectors (I)')\n",
    "ax1.set_xlabel('Time sampling')\n",
    "\n",
    "ax2.plot(np.mean(test_proj[20][..., 1], axis=0), 'r', label='Q')\n",
    "ax2.legend()\n",
    "ax2.set_title('TOD averaged over detectors (Q)')\n",
    "ax2.set_xlabel('Time sampling')\n",
    "\n",
    "ax3.plot(np.mean(test_proj[20][..., 2], axis=0), 'g', label='U')\n",
    "ax3.legend()\n",
    "ax3.set_title('TOD averaged over detectors (U)')\n",
    "ax3.set_xlabel('Time sampling')\n",
    "\n",
    "plt.tight_layout()"
   ]
  },
  {
   "cell_type": "code",
   "execution_count": null,
   "metadata": {},
   "outputs": [],
   "source": [
    "plt.plot(np.radians(sampling.pitch))"
   ]
  },
  {
   "cell_type": "code",
   "execution_count": null,
   "metadata": {},
   "outputs": [],
   "source": [
    "fig, (ax1, ax2, ax3) = plt.subplots(1, 3, figsize=(20, 5))\n",
    "\n",
    "ax1.plot(np.mean((test_proj[20][..., 0]-test_proj[19][..., 0])/test_proj[19][..., 0], axis=0), 'b', label='I')\n",
    "ax1.legend()\n",
    "ax1.set_title('Relative Diff between two consecutive TOD averaged over detectors (I)')\n",
    "ax1.set_xlabel('Time sampling')\n",
    "\n",
    "ax2.plot(np.mean((test_proj[20][..., 1]-test_proj[19][..., 1])/test_proj[19][..., 1], axis=0), 'r', label='Q')\n",
    "ax2.legend()\n",
    "ax2.set_title('Relative Diff between two consecutive TOD averaged over detectors (Q)')\n",
    "ax2.set_xlabel('Time sampling')\n",
    "\n",
    "ax3.plot(np.mean((test_proj[20][..., 2]-test_proj[19][..., 2])/test_proj[19][..., 2], axis=0), 'g', label='U')\n",
    "ax3.legend()\n",
    "ax3.set_title('Relative Diff between two consecutive TOD averaged over detectors (U)')\n",
    "ax3.set_xlabel('Time sampling')\n",
    "\n",
    "plt.tight_layout()"
   ]
  },
  {
   "cell_type": "code",
   "execution_count": null,
   "metadata": {},
   "outputs": [],
   "source": [
    "fig, (ax1, ax2, ax3) = plt.subplots(1, 3, figsize=(15, 5))\n",
    "\n",
    "ax1.plot(np.mean(test_proj[20][..., 0], axis=1), 'b', label='I')\n",
    "ax1.legend()\n",
    "ax1.set_title('TOD averaged over sampling (I)')\n",
    "ax1.set_xlabel('Detector index')\n",
    "\n",
    "ax2.plot(np.mean(test_proj[20][..., 1], axis=1), 'r', label='Q')\n",
    "ax2.legend()\n",
    "ax2.set_title('TOD averaged over sampling (Q)')\n",
    "ax2.set_xlabel('Detector index')\n",
    "\n",
    "ax3.plot(np.mean(test_proj[20][..., 2], axis=1), 'g', label='U')\n",
    "ax3.legend()\n",
    "ax3.set_title('TOD averaged over sampling (U)')\n",
    "ax3.set_xlabel('Detector index')\n",
    "\n",
    "plt.tight_layout()\n"
   ]
  },
  {
   "cell_type": "code",
   "execution_count": null,
   "metadata": {},
   "outputs": [],
   "source": [
    "print(np.mean(test_proj[20][:int(992/4), :, 0]) - np.mean(test_proj[20][int(992/4):int(992/2), :, 0]))"
   ]
  },
  {
   "cell_type": "code",
   "execution_count": null,
   "metadata": {},
   "outputs": [],
   "source": [
    "fig, (ax1, ax2, ax3) = plt.subplots(1, 3, figsize=(20, 5))\n",
    "\n",
    "ax1.plot(np.mean((test_proj[20][..., 0]-test_proj[19][..., 0])/test_proj[19][..., 0], axis=1), 'b', label='I')\n",
    "ax1.legend()\n",
    "ax1.set_title('Relative Diff between two consecutive TOD averaged over sampling (I)')\n",
    "ax1.set_xlabel('Detector index')\n",
    "\n",
    "ax2.plot(np.mean((test_proj[20][..., 1]-test_proj[19][..., 1])/test_proj[19][..., 1], axis=1), 'r', label='Q')\n",
    "ax2.legend()\n",
    "ax2.set_title('Relative Diff between two consecutive TOD averaged over sampling (Q)')\n",
    "ax2.set_xlabel('Detector index')\n",
    "\n",
    "ax3.plot(np.mean((test_proj[20][..., 2]-test_proj[19][..., 2])/test_proj[19][..., 2], axis=1), 'g', label='U')\n",
    "ax3.legend()\n",
    "ax3.set_title('Relative Diff between two consecutive TOD averaged over sampling (U)')\n",
    "ax3.set_xlabel('Detector index')\n",
    "\n",
    "plt.tight_layout()"
   ]
  },
  {
   "cell_type": "markdown",
   "metadata": {},
   "source": [
    "## Half-Wave Plate Operator"
   ]
  },
  {
   "cell_type": "code",
   "execution_count": null,
   "metadata": {},
   "outputs": [],
   "source": [
    "test_hwp = []\n",
    "for i in range(nsub_max):\n",
    "    Proj = Proj_list[i]\n",
    "    Hwp = Hwp_list[i]\n",
    "    test_hwp.append((Hwp * Proj)(input_maps_ones[i]))"
   ]
  },
  {
   "cell_type": "code",
   "execution_count": null,
   "metadata": {},
   "outputs": [],
   "source": [
    "test_hwp[0].shape"
   ]
  },
  {
   "cell_type": "code",
   "execution_count": null,
   "metadata": {},
   "outputs": [],
   "source": [
    "plt.figure()\n",
    "for i in range(len(nsub_list)-1):\n",
    "    plt.plot(nsub_list[i], np.mean(np.abs((test_hwp[i+1][..., 0] - test_hwp[i][..., 0])/test_hwp[i][..., 0])), '.')\n",
    "plt.legend()\n",
    "plt.title(r\"$H = \\mathcal{H}_{WP} \\mathcal{P}_{roj}$\")\n",
    "plt.ylabel(r'$\\frac{| H(map)^{i+1} - H(map)^i |}{| H(map)^{i} |}$', fontsize=15, labelpad=10)\n",
    "plt.xlabel(r'$i$')"
   ]
  },
  {
   "cell_type": "markdown",
   "metadata": {},
   "source": [
    "## Polarizer Operator"
   ]
  },
  {
   "cell_type": "code",
   "execution_count": null,
   "metadata": {},
   "outputs": [],
   "source": [
    "test_pol = []\n",
    "for i in range(nsub_max):\n",
    "    Pol = Pol_list[i]\n",
    "    Proj = Proj_list[i]\n",
    "    Hwp = Hwp_list[i]\n",
    "    test_pol.append((Pol * Hwp * Proj)(input_maps_ones[i]))"
   ]
  },
  {
   "cell_type": "code",
   "execution_count": null,
   "metadata": {},
   "outputs": [],
   "source": [
    "test_pol[0].shape"
   ]
  },
  {
   "cell_type": "code",
   "execution_count": null,
   "metadata": {},
   "outputs": [],
   "source": [
    "plt.figure()\n",
    "for i in range(len(nsub_list)-1):\n",
    "    plt.plot(nsub_list[i], np.mean(np.abs((test_pol[i+1] - test_pol[i])/test_pol[i])), '.')\n",
    "plt.legend()\n",
    "plt.title(r\"$H = \\mathcal{P}_{ol} \\mathcal{H}_{WP} \\mathcal{P}_{roj}$\")\n",
    "plt.ylabel(r'$\\frac{| H(map)^{i+1} - H(map)^i |}{| H(map)^{i} |}$', fontsize=15, labelpad=10)\n",
    "plt.xlabel(r'$i$')"
   ]
  },
  {
   "cell_type": "markdown",
   "metadata": {},
   "source": [
    "## Detector Integration Operator"
   ]
  },
  {
   "cell_type": "code",
   "execution_count": null,
   "metadata": {},
   "outputs": [],
   "source": [
    "test_idet = []\n",
    "for i in range(nsub_max):\n",
    "    Idet = Idet_list[i]\n",
    "    Pol = Pol_list[i]\n",
    "    Proj = Proj_list[i]\n",
    "    Hwp = Hwp_list[i]\n",
    "    test_idet.append((Idet * Pol * Hwp * Proj)(input_maps_ones[i]))"
   ]
  },
  {
   "cell_type": "code",
   "execution_count": null,
   "metadata": {},
   "outputs": [],
   "source": [
    "test_idet[0].shape"
   ]
  },
  {
   "cell_type": "code",
   "execution_count": null,
   "metadata": {},
   "outputs": [],
   "source": [
    "plt.figure()\n",
    "for i in range(len(nsub_list)-1):\n",
    "    plt.plot(nsub_list[i], np.mean(np.abs((test_idet[i+1] - test_idet[i])/test_idet[i])), '.')\n",
    "print(np.mean(np.abs((test_idet[i+1] - test_idet[i])/test_idet[i])))\n",
    "plt.legend()\n",
    "plt.title(r\"$H = \\mathcal{I}_{det} \\mathcal{P}_{ol} \\mathcal{H}_{WP} \\mathcal{P}_{roj}$\")\n",
    "plt.ylabel(r'$\\frac{| H(map)^{i+1} - H(map)^i |}{| H(map)^{i} |}$', fontsize=15, labelpad=10)\n",
    "plt.xlabel(r'$i$')"
   ]
  },
  {
   "cell_type": "markdown",
   "metadata": {},
   "source": [
    "## Transmission Operator"
   ]
  },
  {
   "cell_type": "code",
   "execution_count": null,
   "metadata": {},
   "outputs": [],
   "source": [
    "test_trans = []\n",
    "for i in range(nsub_max):\n",
    "    Tinst = Tinst_list[i]\n",
    "    Idet = Idet_list[i]\n",
    "    Pol = Pol_list[i]\n",
    "    Proj = Proj_list[i]\n",
    "    Hwp = Hwp_list[i]\n",
    "    test_trans.append((Tinst * Idet * Pol * Hwp * Proj)(input_maps_ones[i]))"
   ]
  },
  {
   "cell_type": "code",
   "execution_count": null,
   "metadata": {},
   "outputs": [],
   "source": [
    "test_trans[0].shape"
   ]
  },
  {
   "cell_type": "code",
   "execution_count": null,
   "metadata": {},
   "outputs": [],
   "source": [
    "plt.figure()\n",
    "for i in range(len(nsub_list)-1):\n",
    "    plt.plot(nsub_list[i], np.mean(np.abs((test_trans[i+1] - test_trans[i])/test_trans[i])), '.')\n",
    "print(np.mean(np.abs((test_trans[i+1] - test_trans[i])/test_trans[i])))\n",
    "plt.legend()\n",
    "plt.title(r\"$H = \\mathcal{T}_{inst} \\mathcal{I}_{det} \\mathcal{P}_{ol} \\mathcal{H}_{WP} \\mathcal{P}_{roj}$\")\n",
    "plt.ylabel(r'$\\frac{| H(map)^{i+1} - H(map)^i |}{| H(map)^{i} |}$', fontsize=15, labelpad=10)\n",
    "plt.xlabel(r'$i$')"
   ]
  },
  {
   "cell_type": "markdown",
   "metadata": {},
   "source": [
    "## Detector Response Operator"
   ]
  },
  {
   "cell_type": "code",
   "execution_count": null,
   "metadata": {},
   "outputs": [],
   "source": [
    "test_resp = []\n",
    "for i in range(nsub_max):\n",
    "    Rdet = Rdet_list[i]\n",
    "    Tinst = Tinst_list[i]\n",
    "    Idet = Idet_list[i]\n",
    "    Pol = Pol_list[i]\n",
    "    Proj = Proj_list[i]\n",
    "    Hwp = Hwp_list[i]\n",
    "    test_resp.append((Rdet * Tinst * Idet * Pol * Hwp * Proj)(input_maps_ones[i]))"
   ]
  },
  {
   "cell_type": "code",
   "execution_count": null,
   "metadata": {},
   "outputs": [],
   "source": [
    "test_resp[0].shape"
   ]
  },
  {
   "cell_type": "code",
   "execution_count": null,
   "metadata": {},
   "outputs": [],
   "source": [
    "plt.figure()\n",
    "for i in range(len(nsub_list)-1):\n",
    "    plt.plot(nsub_list[i], np.mean(np.abs((test_resp[i+1] - test_resp[i])/test_resp[i])), '.')\n",
    "print(np.mean(np.abs((test_resp[i+1] - test_resp[i])/test_resp[i])))\n",
    "plt.legend()\n",
    "plt.title(r\"$H = \\mathcal{R}_{det} \\mathcal{T}_{inst} \\mathcal{I}_{det} \\mathcal{P}_{ol} \\mathcal{H}_{WP} \\mathcal{P}_{roj}$\")\n",
    "plt.ylabel(r'$\\frac{| H(map)^{i+1} - H(map)^i |}{| H(map)^{i} |}$', fontsize=15, labelpad=10)\n",
    "plt.xlabel(r'$i$')"
   ]
  },
  {
   "cell_type": "markdown",
   "metadata": {},
   "source": [
    "## Add the first conversion operators"
   ]
  },
  {
   "cell_type": "code",
   "execution_count": null,
   "metadata": {},
   "outputs": [],
   "source": [
    "test = []\n",
    "for i in range(nsub_max):\n",
    "    Rdet = Rdet_list[i]\n",
    "    Tinst = Tinst_list[i]\n",
    "    Idet = Idet_list[i]\n",
    "    Pol = Pol_list[i]\n",
    "    Proj = Proj_list[i]\n",
    "    Hwp = Hwp_list[i]\n",
    "    Filt = Filt_list[i]\n",
    "    test.append((Rdet * Tinst * Idet * Pol * Hwp * Proj * Filt)(input_maps_ones[i]))\n",
    "\n",
    "print(test[0].shape)\n",
    "    \n",
    "plt.figure()\n",
    "for i in range(len(nsub_list)-1):\n",
    "    plt.plot(nsub_list[i], np.mean(np.abs((test[i+1] - test[i])/test[i])), '.')\n",
    "print(np.mean(np.abs((test[i+1] - test[i])/test[i])))\n",
    "plt.legend()\n",
    "plt.title(r\"$H = \\mathcal{R}_{det} \\mathcal{T}_{inst} \\mathcal{I}_{det} \\mathcal{P}_{ol} \\mathcal{H}_{WP} \\mathcal{P}_{roj} \\mathcal{F}_{ilt}$\")\n",
    "plt.ylabel(r'$\\frac{| H(map)^{i+1} - H(map)^i |}{| H(map)^{i} |}$', fontsize=15, labelpad=10)\n",
    "plt.xlabel(r'$i$')"
   ]
  },
  {
   "cell_type": "code",
   "execution_count": null,
   "metadata": {},
   "outputs": [],
   "source": [
    "test = []\n",
    "for i in range(nsub_max):\n",
    "    Rdet = Rdet_list[i]\n",
    "    Tinst = Tinst_list[i]\n",
    "    Idet = Idet_list[i]\n",
    "    Pol = Pol_list[i]\n",
    "    Proj = Proj_list[i]\n",
    "    Hwp = Hwp_list[i]\n",
    "    Filt = Filt_list[i]\n",
    "    Ap = Ap_list[i]\n",
    "    test.append((Rdet * Tinst * Idet * Pol * Hwp * Proj * Filt * Ap)(input_maps_ones[i]))\n",
    "    \n",
    "plt.figure()\n",
    "for i in range(len(nsub_list)-1):\n",
    "    plt.plot(nsub_list[i], np.mean(np.abs((test[i+1] - test[i])/test[i])), '.')\n",
    "print(np.mean(np.abs((test[i+1] - test[i])/test[i])))\n",
    "plt.legend()\n",
    "plt.title(r\"$H = \\mathcal{R}_{det} \\mathcal{T}_{inst} \\mathcal{I}_{det} \\mathcal{P}_{ol} \\mathcal{H}_{WP} \\mathcal{P}_{roj} \\mathcal{F}_{ilt} \\mathcal{A}_p $\")\n",
    "plt.ylabel(r'$\\frac{| H(map)^{i+1} - H(map)^i |}{| H(map)^{i} |}$', fontsize=15, labelpad=10)\n",
    "plt.xlabel(r'$i$')"
   ]
  },
  {
   "cell_type": "code",
   "execution_count": null,
   "metadata": {},
   "outputs": [],
   "source": [
    "test = []\n",
    "\n",
    "for i in range(nsub_max):\n",
    "    Rdet = Rdet_list[i]\n",
    "    Tinst = Tinst_list[i]\n",
    "    Idet = Idet_list[i]\n",
    "    Pol = Pol_list[i]\n",
    "    Proj = Proj_list[i]\n",
    "    Hwp = Hwp_list[i]\n",
    "    Filt = Filt_list[i]\n",
    "    Ap = Ap_list[i]\n",
    "    Unit = Unit_list[i]\n",
    "    test.append((Rdet * Tinst * Idet * Pol * Hwp * Proj * Filt * Ap * Unit)(input_maps_ones[i]))\n",
    "    \n",
    "plt.figure()\n",
    "for i in range(len(nsub_list)-1):\n",
    "    plt.plot(nsub_list[i], np.mean(np.abs((test[i+1] - test[i])/test[i])), '.')\n",
    "print(np.mean(np.abs((test[i+1] - test[i])/test[i])))\n",
    "plt.legend()\n",
    "plt.title(r\"$H = \\mathcal{R}_{det} \\mathcal{T}_{inst} \\mathcal{I}_{det} \\mathcal{P}_{ol} \\mathcal{H}_{WP} \\mathcal{P}_{roj} \\mathcal{F}_{ilt} \\mathcal{A}_p \\mathcal{U}_{nit} $\")\n",
    "plt.ylabel(r'$\\frac{| H(map)^{i+1} - H(map)^i |}{| H(map)^{i} |}$', fontsize=15, labelpad=10)\n",
    "plt.xlabel(r'$i$')"
   ]
  },
  {
   "cell_type": "code",
   "execution_count": null,
   "metadata": {},
   "outputs": [],
   "source": [
    "test = []\n",
    "for i in range(nsub_max):\n",
    "    Rdet = Rdet_list[i]\n",
    "    Tinst = Tinst_list[i]\n",
    "    Idet = Idet_list[i]\n",
    "    Pol = Pol_list[i]\n",
    "    Proj = Proj_list[i]\n",
    "    Hwp = Hwp_list[i]\n",
    "    Filt = Filt_list[i]\n",
    "    Ap = Ap_list[i]\n",
    "    Unit = Unit_list[i]\n",
    "    C = C_list[i]\n",
    "    test.append((Rdet * Tinst * Idet * Pol * Hwp * Proj * Filt * Ap * Unit * C)(input_maps_ones[i]))\n",
    "    \n",
    "plt.figure()\n",
    "for i in range(len(nsub_list)-1):\n",
    "    plt.plot(nsub_list[i], np.mean(np.abs((test[i+1] - test[i])/test[i])), '.')\n",
    "print(np.mean(np.abs((test[i+1] - test[i])/test[i])))\n",
    "plt.legend()\n",
    "plt.title(r\"$H = \\mathcal{R}_{det} \\mathcal{T}_{inst} \\mathcal{I}_{det} \\mathcal{P}_{ol} \\mathcal{H}_{WP} \\mathcal{P}_{roj} \\mathcal{F}_{ilt} \\mathcal{A}_p \\mathcal{U}_{nit} C $\")\n",
    "plt.ylabel(r'$\\frac{| H(map)^{i+1} - H(map)^i |}{| H(map)^{i} |}$', fontsize=15, labelpad=10)\n",
    "plt.xlabel(r'$i$')\n",
    "plt.yscale('log')"
   ]
  },
  {
   "cell_type": "code",
   "execution_count": null,
   "metadata": {},
   "outputs": [],
   "source": [
    "test = []\n",
    "for i in range(nsub_max):\n",
    "    H_i = acq.subacqs[i].get_operator()\n",
    "    test.append(H_i(C_list[i](input_maps_ones[i])))"
   ]
  },
  {
   "cell_type": "code",
   "execution_count": null,
   "metadata": {},
   "outputs": [],
   "source": [
    "plt.figure()\n",
    "for i in range(len(nsub_list)-1):\n",
    "    plt.plot(nsub_list[i], np.mean(np.abs((test[i+1] - test[i])/test[i])), '.')\n",
    "print(np.mean(np.abs((test[i+1] - test[i])/test[i])))\n",
    "plt.legend()\n",
    "plt.title(r\"$H = MultiAcquisition $\")\n",
    "plt.ylabel(r'$\\frac{| H(map)^{i+1} - H(map)^i |}{| H(map)^{i} |}$', fontsize=15, labelpad=10)\n",
    "plt.xlabel(r'$i$')\n",
    "plt.yscale('log')"
   ]
  },
  {
   "cell_type": "code",
   "execution_count": null,
   "metadata": {},
   "outputs": [],
   "source": []
  },
  {
   "cell_type": "code",
   "execution_count": null,
   "metadata": {},
   "outputs": [],
   "source": [
    "stop"
   ]
  },
  {
   "cell_type": "markdown",
   "metadata": {},
   "source": [
    "# CMB"
   ]
  },
  {
   "cell_type": "code",
   "execution_count": null,
   "metadata": {},
   "outputs": [],
   "source": [
    "nsub_list = np.arange(10, 61, 10)\n",
    "print(nsub_list)"
   ]
  },
  {
   "cell_type": "code",
   "execution_count": null,
   "metadata": {},
   "outputs": [],
   "source": [
    "TOD_list = []\n",
    "TOD_ones_list = []\n",
    "for isub in nsub_list:\n",
    "    print(isub)\n",
    "    \n",
    "    TOD = []\n",
    "    TOD_ones = []\n",
    "    acq = QubicMultiAcquisitions(dict_qubic, isub, params['QUBIC']['nrec'], sampling=sampling)\n",
    "    ext = InputMaps(sky, acq.allnus, params['QUBIC']['nrec'], params['SKY']['nside'])\n",
    "    \n",
    "    H = acq.H[:int(isub/2)]\n",
    "    input_maps = ext.m_nu\n",
    "    input_maps_ones = np.ones(np.shape(input_maps))\n",
    "    \n",
    "    for i in range(int(isub/2)):\n",
    "        C = HealpixConvolutionGaussianOperator(acq.allfwhm[i])\n",
    "        TOD.append(H[i](C(input_maps[i])))\n",
    "        TOD_ones.append(H[i](C(input_maps_ones[i])))\n",
    "    TOD_list.append(np.sum(TOD, axis=0))\n",
    "    TOD_ones_list.append(np.sum(TOD_ones, axis=0))\n",
    "nsub_list = np.arange(4, int(i/2), 4)"
   ]
  },
  {
   "cell_type": "code",
   "execution_count": null,
   "metadata": {},
   "outputs": [],
   "source": [
    "det_index = 0\n",
    "sampling_index = 0\n",
    "plt.figure(figsize=(15, 8))\n",
    "plt.plot(sampling.index, TOD[-1][det_index], label=f'Nsub = {nsub_list[-1]}', color='black', lw=5)\n",
    "#plt.plot(sampling.index, TOD_list[5][det_index], label=f'Nsub = {nsub_list[5]}')\n",
    "plt.plot(sampling.index, TOD[4][det_index], label=f'Nsub = {nsub_list[4]}')\n",
    "plt.plot(sampling.index, TOD[1][det_index], label=f'Nsub = {nsub_list[1]}')\n",
    "#plt.plot(sampling.index, TOD_list[0][det_index], label=f'Nsub = {nsub_list[0]}')\n",
    "plt.legend()"
   ]
  },
  {
   "cell_type": "code",
   "execution_count": null,
   "metadata": {},
   "outputs": [],
   "source": [
    "plt.figure()\n",
    "for i in range(len(nsub_list)):\n",
    "    plt.plot(nsub_list[i], TOD_list[i][det_index][sampling_index], '.')\n",
    "plt.legend()\n",
    "plt.title('TOD value for a given detector at a given moment - CMB')\n",
    "plt.xlabel('Nsub input')"
   ]
  },
  {
   "cell_type": "code",
   "execution_count": null,
   "metadata": {},
   "outputs": [],
   "source": [
    "plt.figure()\n",
    "for i in range(len(nsub_list)):\n",
    "    plt.plot(nsub_list[i], np.abs((TOD_list[-1][det_index, sampling_index] - TOD_list[i][det_index, sampling_index])/TOD_list[-1][det_index, sampling_index]), '.')\n",
    "plt.title(r\"Relative difference at a given time between $N_{sub}^{max}$ & $N_{sub}^i$ - CMB\")\n",
    "plt.ylabel(r'$\\frac{| N_{sub}^{max} - N_{sub}^i |}{| N_{sub}^{max} |}$', fontsize=15, labelpad=10)\n",
    "plt.xlabel(r'$N_{sub}^i$')\n",
    "plt.yscale('log')"
   ]
  },
  {
   "cell_type": "code",
   "execution_count": null,
   "metadata": {},
   "outputs": [],
   "source": [
    "plt.figure()\n",
    "for i in range(len(nsub_list)):\n",
    "    plt.plot(nsub_list[i], np.mean(np.abs((TOD_list[-1][:, sampling_index] - TOD_list[i][:, sampling_index])/TOD_list[-1][:, sampling_index])), '.')\n",
    "plt.title(r\"Averaged relative difference at a given time between $N_{sub}^{max}$ & $N_{sub}^i$ - CMB\")\n",
    "plt.yscale('log')\n",
    "plt.ylabel(r'$\\frac{| N_{sub}^{max} - N_{sub}^i |}{| N_{sub}^{max} |}$', fontsize=15, labelpad=10)\n",
    "plt.xlabel(r'$N_{sub}^i$')"
   ]
  },
  {
   "cell_type": "code",
   "execution_count": null,
   "metadata": {},
   "outputs": [],
   "source": [
    "plt.figure()\n",
    "for i in range(len(nsub_list)):\n",
    "    for jdet in range(400):\n",
    "        plt.plot(nsub_list[i], np.abs((TOD_list[-1][jdet, sampling_index] - TOD_list[i][jdet, sampling_index])/TOD_list[-1][jdet, sampling_index]), '.')\n",
    "plt.title(r\"Averaged relative difference at a given time between $N_{sub}^{max}$ & $N_{sub}^i$ - CMB\")\n",
    "plt.yscale('log')\n",
    "plt.ylabel(r'$\\frac{| N_{sub}^{max} - N_{sub}^i |}{| N_{sub}^{max} |}$', fontsize=15, labelpad=10)\n",
    "plt.xlabel(r'$N_{sub}^i$')"
   ]
  },
  {
   "cell_type": "code",
   "execution_count": null,
   "metadata": {},
   "outputs": [],
   "source": [
    "xTES, yTES, vertex = get_TEScoordinates_ONAFP(q)\n",
    "fig, ax = plt.subplots(figsize=(10, 10))\n",
    "relative_diff = np.abs(TOD_list[-1] - TOD_list[-2]) / np.abs(TOD_list[-1]) * 100\n",
    "scatter_plot_FP(q, xTES, yTES, np.mean(relative_diff, axis=1), frame='ONAFP', s=150, title=r'$\\frac{| TOD(Nsub=34) - TOD(Nsub=28) |}{| TOD(Nsub=34) |} x 100$', fig=fig, ax = ax, unit='%')"
   ]
  },
  {
   "cell_type": "code",
   "execution_count": null,
   "metadata": {},
   "outputs": [],
   "source": [
    "plt.figure()\n",
    "for i in range(len(nsub_list)):\n",
    "    plt.plot(nsub_list[i], np.mean(np.mean(np.abs((TOD_list[-1] - TOD_list[i])/TOD_list[-1]), axis=0)), '.')\n",
    "plt.title(r\"Averaged relative difference between $N_{sub}^{max}$ & $N_{sub}^i$ - CMB\")\n",
    "plt.yscale('log')\n",
    "plt.ylabel(r'$\\frac{| N_{sub}^{max} - N_{sub}^i |}{| N_{sub}^{max} |}$', fontsize=15, labelpad=10)\n",
    "plt.xlabel(r'$N_{sub}^i$')"
   ]
  },
  {
   "cell_type": "code",
   "execution_count": null,
   "metadata": {},
   "outputs": [],
   "source": [
    "plt.figure()\n",
    "for i in range(len(nsub_list)):\n",
    "    plt.plot(nsub_list[i], np.mean(np.abs((TOD_list[-1] - TOD_list[i])/TOD_list[-1])), '.')\n",
    "plt.legend()\n",
    "plt.title(r\"Averaged relative difference between $N_{sub}^{max}$ & $N_{sub}^i$ - CMB\")\n",
    "plt.yscale('log')\n",
    "plt.xlabel(r'$N_{sub}^i$')"
   ]
  },
  {
   "cell_type": "code",
   "execution_count": null,
   "metadata": {},
   "outputs": [],
   "source": [
    "plt.figure()\n",
    "for idet in range(100):\n",
    "    plt.plot(nsub_list/2, np.std(TOD_list, axis=2)[:, idet]/np.std(TOD_list, axis=2)[-1, idet], 'grey', alpha=0.2, linewidth=1)\n",
    "plt.plot(nsub_list/2, np.mean(np.std(TOD_list, axis=2)/np.std(TOD_list, axis=2)[-1], axis=1), 'r', label='Mean over all detectors')\n",
    "plt.hlines(1, np.min(nsub_list/2), np.max(nsub_list/2), linestyles='--', colors='k')\n",
    "plt.xlabel(r'$N_{sub}$')\n",
    "plt.ylabel('RMS')\n",
    "plt.xticks(nsub_list[::2]/2)\n",
    "plt.title('Evolution of the RMS with Nsub for each detectors at 150 GHz')\n",
    "plt.ylim(0.96, 1.04)\n",
    "plt.legend()"
   ]
  },
  {
   "cell_type": "code",
   "execution_count": null,
   "metadata": {},
   "outputs": [],
   "source": [
    "np.std(TOD_list[i][jdet])"
   ]
  },
  {
   "cell_type": "markdown",
   "metadata": {},
   "source": [
    "# Uniform Sky"
   ]
  },
  {
   "cell_type": "code",
   "execution_count": null,
   "metadata": {},
   "outputs": [],
   "source": [
    "plt.figure()\n",
    "for i in range(len(nsub_list)):\n",
    "    plt.plot(nsub_list[i], TOD_ones_list[i][det_index][sampling_index], '.')#, label=f\"Nsub_in = {nsub_list[i]}\")\n",
    "plt.legend()\n",
    "plt.title('TOD value for a given detector at a given moment - Uniform sky')\n",
    "plt.xlabel('Nsub input')"
   ]
  },
  {
   "cell_type": "code",
   "execution_count": null,
   "metadata": {},
   "outputs": [],
   "source": [
    "plt.figure()\n",
    "for i in range(len(nsub_list)):\n",
    "    plt.plot(nsub_list[i], np.abs((TOD_ones_list[-1][det_index, sampling_index] - TOD_ones_list[i][det_index, sampling_index])/TOD_ones_list[-1][det_index, sampling_index]), '.')\n",
    "plt.legend()\n",
    "plt.title(r\"Relative difference between $N_{sub}^{max}$ & $N_{sub}^i$ - Uniform sky\")\n",
    "#plt.yscale('log')\n",
    "plt.xlabel(r'$N_{sub}^i$')"
   ]
  },
  {
   "cell_type": "code",
   "execution_count": null,
   "metadata": {},
   "outputs": [],
   "source": [
    "plt.figure()\n",
    "for i in range(len(nsub_list)):\n",
    "    plt.plot(nsub_list[i], np.mean(np.abs((TOD_ones_list[-1][:, sampling_index] - TOD_ones_list[i][:, sampling_index])/TOD_ones_list[-1][:, sampling_index])), '.')\n",
    "plt.legend()\n",
    "plt.title(r\"Averaged relative difference at a given time between $N_{sub}^{max}$ & $N_{sub}^i$ - Uniorm sky\")\n",
    "plt.yscale('log')\n",
    "plt.ylabel(r'$\\frac{| N_{sub}^{max} - N_{sub}^i |}{| N_{sub}^{max} |}$', fontsize=15, labelpad=10)\n",
    "plt.xlabel(r'$N_{sub}^i$')"
   ]
  },
  {
   "cell_type": "code",
   "execution_count": null,
   "metadata": {},
   "outputs": [],
   "source": [
    "xTES, yTES, vertex = get_TEScoordinates_ONAFP(q)\n",
    "fig, ax = plt.subplots(figsize=(10, 10))\n",
    "relative_diff = np.abs(TOD_ones_list[-1] - TOD_ones_list[-2]) / np.abs(TOD_ones_list[-1]) * 100\n",
    "scatter_plot_FP(q, xTES, yTES, np.mean(relative_diff, axis=1), frame='ONAFP', s=150, title=r'$\\frac{| TOD(Nsub=34) - TOD(Nsub=28) |}{| TOD(Nsub=34) |}$', fig=fig, ax = ax, unit='%')"
   ]
  },
  {
   "cell_type": "code",
   "execution_count": null,
   "metadata": {},
   "outputs": [],
   "source": []
  },
  {
   "cell_type": "code",
   "execution_count": null,
   "metadata": {},
   "outputs": [],
   "source": [
    "stop"
   ]
  },
  {
   "cell_type": "code",
   "execution_count": null,
   "metadata": {},
   "outputs": [],
   "source": []
  },
  {
   "cell_type": "code",
   "execution_count": null,
   "metadata": {},
   "outputs": [],
   "source": []
  },
  {
   "cell_type": "code",
   "execution_count": null,
   "metadata": {},
   "outputs": [],
   "source": []
  },
  {
   "cell_type": "code",
   "execution_count": null,
   "metadata": {},
   "outputs": [],
   "source": []
  },
  {
   "cell_type": "code",
   "execution_count": null,
   "metadata": {},
   "outputs": [],
   "source": []
  }
 ],
 "metadata": {
  "jupytext": {
   "formats": "ipynb,Rmd"
  },
  "kernelspec": {
   "display_name": "venv-qubic",
   "language": "python",
   "name": "python3"
  },
  "language_info": {
   "codemirror_mode": {
    "name": "ipython",
    "version": 3
   },
   "file_extension": ".py",
   "mimetype": "text/x-python",
   "name": "python",
   "nbconvert_exporter": "python",
   "pygments_lexer": "ipython3",
   "version": "3.9.18"
  }
 },
 "nbformat": 4,
 "nbformat_minor": 4
}
