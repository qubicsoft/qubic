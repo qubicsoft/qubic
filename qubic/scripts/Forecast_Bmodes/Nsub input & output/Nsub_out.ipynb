{
 "cells": [
  {
   "cell_type": "code",
   "execution_count": null,
   "metadata": {},
   "outputs": [],
   "source": [
    "import numpy as np\n",
    "import matplotlib.pyplot as plt\n",
    "import healpy as hp\n",
    "import glob\n",
    "\n",
    "import pickle as pkl\n",
    "import yaml\n",
    "\n",
    "from pyoperators import *\n",
    "from pysimulators.interfaces.healpy import HealpixConvolutionGaussianOperator\n",
    "\n",
    "import qubic\n",
    "from qubic.scripts.MapMaking.src.FMM import pipeline\n",
    "\n",
    "%matplotlib inline"
   ]
  },
  {
   "cell_type": "markdown",
   "metadata": {},
   "source": [
    "# Nsub_in"
   ]
  },
  {
   "cell_type": "code",
   "execution_count": null,
   "metadata": {},
   "outputs": [],
   "source": [
    "# Initialize pipeline arguments\n",
    "    \n",
    "with open('/home/laclavere/Documents/Thesis/qubic/qubic/scripts/Forecast_Bmodes/Nsub in & out/params.yml', 'r') as file:\n",
    "    params = yaml.safe_load(file)\n",
    "    \n",
    "comm = MPI.COMM_WORLD\n",
    "\n",
    "file = '/home/laclavere/Documents/Thesis/qubic/qubic/scripts/Forecast_Bmodes/Nsub in & out'"
   ]
  },
  {
   "cell_type": "code",
   "execution_count": null,
   "metadata": {},
   "outputs": [],
   "source": []
  },
  {
   "cell_type": "code",
   "execution_count": null,
   "metadata": {},
   "outputs": [],
   "source": []
  },
  {
   "cell_type": "code",
   "execution_count": null,
   "metadata": {},
   "outputs": [],
   "source": [
    "stop"
   ]
  },
  {
   "cell_type": "markdown",
   "metadata": {},
   "source": [
    "# Nsub_out"
   ]
  },
  {
   "cell_type": "code",
   "execution_count": null,
   "metadata": {},
   "outputs": [],
   "source": [
    "ifreq = 0\n",
    "istk = 1"
   ]
  },
  {
   "cell_type": "code",
   "execution_count": null,
   "metadata": {},
   "outputs": [],
   "source": [
    "pkl_test = pkl.load(open('/home/laclavere/Documents/Thesis/Pipeline/testmaps/FastSim_wo_convolutions_nsub_in=20_out=20_None.pkl', 'rb'))\n",
    "map_test = pkl_test['maps']\n",
    "input_map_test = pkl_test['maps_in']\n",
    "\n",
    "plt.figure(figsize=(15,8))\n",
    "plt.axis(\"off\")\n",
    "plt.title('Corrected - Nsub_in = 20 / Nsub_out = 16')\n",
    "\n",
    "coverage = pkl_test['coverage']\n",
    "covnorm = coverage / coverage.max()\n",
    "seenpix = covnorm > 0.2\n",
    "\n",
    "map_test[:, ~seenpix, :] = hp.UNSEEN\n",
    "input_map_test[:, ~seenpix, :] = hp.UNSEEN\n",
    "\n",
    "sigma = np.max([np.std(input_map_test[ifreq, seenpix, istk]), np.std(map_test[ifreq, seenpix, istk])])\n",
    "n = 2\n",
    "C = HealpixConvolutionGaussianOperator(pkl_test['fwhm_rec'][ifreq])\n",
    "C_test = HealpixConvolutionGaussianOperator(0.001)\n",
    "\n",
    "hp.gnomview(C*input_map_test[ifreq, :, istk],min=-n*sigma, max=n*sigma, rot=pkl_test['center'],reso=15, notext=True, cmap='jet', title='input', sub=(1, 3, 1))\n",
    "hp.gnomview(C_test*map_test[ifreq, :, istk],min=-n*sigma, max=n*sigma, rot=pkl_test['center'], reso=15, notext=True, cmap='jet', title='reconstructed', sub=(1, 3, 2))\n",
    "hp.gnomview(C*input_map_test[ifreq, :, istk]-C_test*map_test[ifreq, :, istk],min=-n*sigma, max=n*sigma, rot=pkl_test['center'], reso=15, notext=True, cmap='jet', title='residual', sub=(1, 3, 3))"
   ]
  },
  {
   "cell_type": "code",
   "execution_count": null,
   "metadata": {},
   "outputs": [],
   "source": [
    "pkl_list_wo = []\n",
    "nsub_wo = ['4', '8', '12', '16', '20']\n",
    "for i in nsub_wo:\n",
    "    path = glob.glob(f'/pbs/home/t/tlaclave/sps/FMM_data/test/maps/noiseless_wo_convolutions_nsub_in=20_out={i}*')[0]\n",
    "    pkl_ = pkl.load(open(path, 'rb'))\n",
    "    pkl_list_wo.append(pkl_)"
   ]
  },
  {
   "cell_type": "code",
   "execution_count": null,
   "metadata": {},
   "outputs": [],
   "source": [
    "pkl_list_w = []\n",
    "nsub_w = ['4', '8', '12', '16', '20']\n",
    "for i in nsub_w:\n",
    "    path = glob.glob(f'/pbs/home/t/tlaclave/sps/FMM_data/test/maps/noiseless_w_convolutions_nsub_in=20_out={i}*')[0]\n",
    "    pkl_ = pkl.load(open(path, 'rb'))\n",
    "    pkl_list_w.append(pkl_)"
   ]
  },
  {
   "cell_type": "code",
   "execution_count": null,
   "metadata": {},
   "outputs": [],
   "source": [
    "hist_list = []\n",
    "for i in range(len(pkl_list_w)):\n",
    "    plt.figure(figsize=(15,8))\n",
    "    plt.axis(\"off\")\n",
    "    plt.title('With convolutions - Nsub_in = 20 / Nsub_out = ' + nsub_w[i])\n",
    "    pkl_file = pkl_list_w[i]\n",
    "\n",
    "    maps = pkl_file['maps']\n",
    "    input_maps = pkl_file['maps_in']\n",
    "    \n",
    "    coverage = pkl_file['coverage']\n",
    "    covnorm = coverage / coverage.max()\n",
    "    seenpix = covnorm > 0.2\n",
    "    \n",
    "    maps[:, ~seenpix, :] = hp.UNSEEN\n",
    "    input_maps[:, ~seenpix, :] = hp.UNSEEN\n",
    "    residual = input_maps[ifreq, :, istk]-maps[ifreq, :, istk]\n",
    "    \n",
    "    sigma = np.max([np.std(input_maps[ifreq, seenpix, istk]), np.std(maps[ifreq, seenpix, istk])])\n",
    "    n = 3\n",
    "    \n",
    "    hp.gnomview(input_maps[ifreq, :, istk],min=-n*sigma, max=n*sigma, rot=pkl_file['center'],reso=15, notext=True, cmap='jet', title='input', sub=(1, 3, 1))\n",
    "    hp.gnomview(maps[ifreq, :, istk],min=-n*sigma, max=n*sigma, rot=pkl_file['center'], reso=15, notext=True, cmap='jet', title='reconstructed', sub=(1, 3, 2))\n",
    "    hp.gnomview(residual,min=-n*sigma, max=n*sigma, rot=pkl_file['center'], reso=15, notext=True, cmap='jet', title='residual', sub=(1, 3, 3))\n",
    "         \n",
    "    hist_list.append(np.histogram(residual))"
   ]
  },
  {
   "cell_type": "code",
   "execution_count": null,
   "metadata": {},
   "outputs": [],
   "source": [
    "plt.figure()\n",
    "for i, ihist in enumerate(hist_list):\n",
    "    print(nsub_w[i], ihist[0])\n",
    "    plt.plot(ihist[0], label=f'Nsub = {nsub_w[i]}')\n",
    "plt.legend()"
   ]
  },
  {
   "cell_type": "code",
   "execution_count": null,
   "metadata": {},
   "outputs": [],
   "source": [
    "hist_list = []\n",
    "for i in range(len(pkl_list_w)):\n",
    "    plt.figure(figsize=(15,8))\n",
    "    plt.axis(\"off\")\n",
    "    plt.title('With convolutions - Nsub_in = 20 / Nsub_out = ' + nsub_w[i])\n",
    "    pkl_file = pkl_list_w[i]\n",
    "\n",
    "    fwhm = pkl_file['fwhm_rec']\n",
    "    C = HealpixConvolutionGaussianOperator(fwhm[ifreq], lmax=2*256)\n",
    "    maps = pkl_file['maps']\n",
    "    input_maps = pkl_file['maps_in']\n",
    "    print(pkl_file['parameters']['QUBIC'])\n",
    "    \n",
    "    coverage = pkl_file['coverage']\n",
    "    covnorm = coverage / coverage.max()\n",
    "    seenpix = covnorm > 0.2\n",
    "    \n",
    "    maps[:, ~seenpix, :] = hp.UNSEEN\n",
    "    input_maps[:, ~seenpix, :] = hp.UNSEEN\n",
    "    residual = C*input_maps[ifreq, :, istk]-maps[ifreq, :, istk]\n",
    "    \n",
    "    sigma = np.max([np.std(input_maps[ifreq, seenpix, istk]), np.std(maps[ifreq, seenpix, istk])])\n",
    "    n = 3\n",
    "    \n",
    "    hp.gnomview(C*input_maps[ifreq, :, istk],min=-n*sigma, max=n*sigma, rot=pkl_file['center'],reso=15, notext=True, cmap='jet', title='input', sub=(1, 3, 1))\n",
    "    hp.gnomview(maps[ifreq, :, istk],min=-n*sigma, max=n*sigma, rot=pkl_file['center'], reso=15, notext=True, cmap='jet', title='reconstructed', sub=(1, 3, 2))\n",
    "    hp.gnomview(residual,min=-n*sigma, max=n*sigma, rot=pkl_file['center'], reso=15, notext=True, cmap='jet', title='residual', sub=(1, 3, 3))\n",
    "\n",
    "    hist_list.append(np.hstack((C*input_maps[ifreq, :, istk]-maps[ifreq, :, istk])[seenpix]))"
   ]
  },
  {
   "cell_type": "code",
   "execution_count": null,
   "metadata": {},
   "outputs": [],
   "source": [
    "plt.figure()\n",
    "for i, ihist in enumerate(hist_list):\n",
    "    print(nsub_w[i], ihist[0])\n",
    "    plt.hist(ihist, bins='auto',histtype='step',label=f'Nsub_out = {nsub_w[i]}', alpha=0.5)\n",
    "plt.legend()\n",
    "plt.xlabel('Pixels value in QUBIC patch')\n",
    "plt.title('With convolutions - Nsub_in = 20')"
   ]
  },
  {
   "cell_type": "code",
   "execution_count": null,
   "metadata": {},
   "outputs": [],
   "source": [
    "for i in range(len(pkl_list_w)):\n",
    "    plt.figure(figsize=(15,8))\n",
    "    plt.axis(\"off\")\n",
    "    plt.title('Without convolutions - Nsub_in = 20 / Nsub_out = ' + nsub_wo[i])\n",
    "    pkl_file = pkl_list_wo[i]\n",
    "\n",
    "    fwhm = pkl_file['fwhm_rec']\n",
    "    C = HealpixConvolutionGaussianOperator(fwhm[ifreq], lmax=2*256)\n",
    "    maps = pkl_file['maps']\n",
    "    input_maps = pkl_file['maps_in']\n",
    "    print(pkl_file['parameters']['QUBIC'])\n",
    "    \n",
    "    coverage = pkl_file['coverage']\n",
    "    covnorm = coverage / coverage.max()\n",
    "    seenpix = covnorm > 0.2\n",
    "    \n",
    "    maps[:, ~seenpix, :] = hp.UNSEEN\n",
    "    input_maps[:, ~seenpix, :] = hp.UNSEEN\n",
    "    \n",
    "    sigma = np.max([np.std(input_maps[ifreq, seenpix, istk]), np.std(maps[ifreq, seenpix, istk])])\n",
    "    n = 3\n",
    "    \n",
    "    hp.gnomview(C*input_maps[ifreq, :, istk],min=-n*sigma, max=n*sigma, rot=pkl_file['center'],reso=15, notext=True, cmap='jet', title='input', sub=(1, 3, 1))\n",
    "    hp.gnomview(maps[ifreq, :, istk],min=-n*sigma, max=n*sigma, rot=pkl_file['center'], reso=15, notext=True, cmap='jet', title='reconstructed', sub=(1, 3, 2))\n",
    "    hp.gnomview(C*input_maps[ifreq, :, istk]-maps[ifreq, :, istk],min=-n*sigma, max=n*sigma, rot=pkl_file['center'], reso=15, notext=True, cmap='jet', title='residual', sub=(1, 3, 3))\n"
   ]
  },
  {
   "cell_type": "code",
   "execution_count": null,
   "metadata": {},
   "outputs": [],
   "source": [
    "plt.figure()\n",
    "for i, ihist in enumerate(hist_list):\n",
    "    print(nsub_wo[i], ihist[0])\n",
    "    plt.hist(ihist, bins='auto',histtype='step',label=f'Nsub_out = {nsub_wo[i]}', alpha=0.5)\n",
    "plt.legend()\n",
    "plt.xlabel('Pixels value in QUBIC patch')\n",
    "plt.title('Without convolutions - Nsub_in = 20')"
   ]
  },
  {
   "cell_type": "code",
   "execution_count": null,
   "metadata": {},
   "outputs": [],
   "source": [
    "pkl_list = []\n",
    "nsub = ['4', '8', '12', '16', '20']\n",
    "for i in nsub:\n",
    "    path = glob.glob(f'/pbs/home/t/tlaclave/sps/FMM_data/test/maps/noiseless_wo_convolutions_nsub_in=20_out={i}_pla*')[0]\n",
    "    pkl_ = pkl.load(open(path, 'rb'))\n",
    "    pkl_list.append(pkl_)"
   ]
  },
  {
   "cell_type": "code",
   "execution_count": null,
   "metadata": {},
   "outputs": [],
   "source": [
    "hist_list = []\n",
    "for i in range(len(pkl_list)):\n",
    "    plt.figure(figsize=(15,8))\n",
    "    plt.axis(\"off\")\n",
    "    plt.title('Without convolutions - Nsub_in = 20 / Nsub_out = ' + nsub[i] + ' - Planck (outside the patch)')\n",
    "    pkl_file = pkl_list[i]\n",
    "\n",
    "    fwhm = pkl_file['fwhm_rec']\n",
    "    C = HealpixConvolutionGaussianOperator(fwhm[ifreq], lmax=2*256)\n",
    "    C_test = HealpixConvolutionGaussianOperator(0.001, lmax=512)\n",
    "    \n",
    "    maps = pkl_file['maps']\n",
    "    input_maps = pkl_file['maps_in']\n",
    "    \n",
    "    coverage = pkl_file['coverage']\n",
    "    covnorm = coverage / coverage.max()\n",
    "    seenpix = covnorm > 0.2\n",
    "    \n",
    "    maps[:, ~seenpix, :] = hp.UNSEEN\n",
    "    input_maps[:, ~seenpix, :] = hp.UNSEEN\n",
    "    residual = C*input_maps[ifreq, :, istk]-C_test*maps[ifreq, :, istk]\n",
    "    \n",
    "    sigma = np.max([np.std(input_maps[ifreq, seenpix, istk]), np.std(maps[ifreq, seenpix, istk])])\n",
    "    n = 3\n",
    "    \n",
    "    hp.gnomview(C*input_maps[ifreq, :, istk],min=-n*sigma, max=n*sigma, rot=pkl_file['center'],reso=15, notext=True, cmap='jet', title='input', sub=(1, 3, 1))\n",
    "    hp.gnomview(C_test*maps[ifreq, :, istk],min=-n*sigma, max=n*sigma, rot=pkl_file['center'], reso=15, notext=True, cmap='jet', title='reconstructed', sub=(1, 3, 2))\n",
    "    hp.gnomview(residual,min=-n*sigma, max=n*sigma, rot=pkl_file['center'], reso=15, notext=True, cmap='jet', title='residual', sub=(1, 3, 3))\n",
    "\n",
    "    hist_list.append(np.hstack((residual)[seenpix]))"
   ]
  },
  {
   "cell_type": "code",
   "execution_count": null,
   "metadata": {},
   "outputs": [],
   "source": [
    "plt.figure()\n",
    "for i, ihist in enumerate(hist_list):\n",
    "    print(nsub[i], ihist[0])\n",
    "    plt.hist(ihist, bins='auto',histtype='step',label=f'Nsub_out = {nsub[i]}', alpha=0.5)\n",
    "plt.legend()\n",
    "plt.xlabel('Pixels value in QUBIC patch')\n",
    "plt.title('Without convolutions - Nsub_in = 20 - With Planck (outside the patch)')"
   ]
  },
  {
   "cell_type": "code",
   "execution_count": null,
   "metadata": {},
   "outputs": [],
   "source": [
    "pkl_list = []\n",
    "nsub = ['4', '8', '12', '16', '20']\n",
    "for i in nsub:\n",
    "    path = glob.glob(f'/pbs/home/t/tlaclave/sps/FMM_data/test/maps/CMB_noiseless_wo_convolutions_nsub_in=20_out={i}*')[0]\n",
    "    pkl_ = pkl.load(open(path, 'rb'))\n",
    "    pkl_list.append(pkl_)"
   ]
  },
  {
   "cell_type": "code",
   "execution_count": null,
   "metadata": {},
   "outputs": [],
   "source": [
    "hist_list = []\n",
    "for i in range(len(pkl_list)):\n",
    "    plt.figure(figsize=(15,8))\n",
    "    plt.axis(\"off\")\n",
    "    plt.title('Without convolutions - Nsub_in = 20 / Nsub_out = ' + nsub[i] + ' - CMB only')\n",
    "    pkl_file = pkl_list[i]\n",
    "\n",
    "    fwhm = pkl_file['fwhm_rec']\n",
    "    C = HealpixConvolutionGaussianOperator(fwhm[ifreq], lmax=2*256)\n",
    "    C_test = HealpixConvolutionGaussianOperator(0.001, lmax=512)\n",
    "    \n",
    "    maps = pkl_file['maps']\n",
    "    input_maps = pkl_file['maps_in']\n",
    "    \n",
    "    coverage = pkl_file['coverage']\n",
    "    covnorm = coverage / coverage.max()\n",
    "    seenpix = covnorm > 0.2\n",
    "    \n",
    "    maps[:, ~seenpix, :] = hp.UNSEEN\n",
    "    input_maps[:, ~seenpix, :] = hp.UNSEEN\n",
    "    residual = C*input_maps[ifreq, :, istk]-C_test*maps[ifreq, :, istk]\n",
    "    \n",
    "    sigma = np.max([np.std(input_maps[ifreq, seenpix, istk]), np.std(maps[ifreq, seenpix, istk])])\n",
    "    n = 3\n",
    "    \n",
    "    hp.gnomview(C*input_maps[ifreq, :, istk],min=-n*sigma, max=n*sigma, rot=pkl_file['center'],reso=15, notext=True, cmap='jet', title='input', sub=(1, 3, 1))\n",
    "    hp.gnomview(C_test*maps[ifreq, :, istk],min=-n*sigma, max=n*sigma, rot=pkl_file['center'], reso=15, notext=True, cmap='jet', title='reconstructed', sub=(1, 3, 2))\n",
    "    hp.gnomview(residual,min=-n*sigma, max=n*sigma, rot=pkl_file['center'], reso=15, notext=True, cmap='jet', title='residual', sub=(1, 3, 3))\n",
    "\n",
    "    hist_list.append(np.hstack((residual)[seenpix]))"
   ]
  },
  {
   "cell_type": "code",
   "execution_count": null,
   "metadata": {},
   "outputs": [],
   "source": [
    "plt.figure()\n",
    "for i, ihist in enumerate(hist_list):\n",
    "    print(nsub[i], ihist[0])\n",
    "    plt.hist(ihist, bins='auto',histtype='step',label=f'Nsub_out = {nsub[i]}', alpha=0.5)\n",
    "plt.legend()\n",
    "plt.xlabel('Pixels value in QUBIC patch')\n",
    "plt.title('Without convolutions - Nsub_in = 20 - CMB only')"
   ]
  },
  {
   "cell_type": "code",
   "execution_count": null,
   "metadata": {},
   "outputs": [],
   "source": [
    "pkl_list_ = []\n",
    "nsub_ = ['10', '20', '30', '35']\n",
    "for i in nsub_:\n",
    "    path = glob.glob(f'/pbs/home/t/tlaclave/sps/FMM_data/test/maps/noiseless_w_convolutions_nsub_in=40_out={i}*')[0]\n",
    "    pkl_ = pkl.load(open(path, 'rb'))\n",
    "    pkl_list_.append(pkl_)"
   ]
  },
  {
   "cell_type": "code",
   "execution_count": null,
   "metadata": {},
   "outputs": [],
   "source": [
    "hist_list = []\n",
    "for i in range(len(pkl_list_)):\n",
    "    plt.figure(figsize=(15,8))\n",
    "    plt.axis(\"off\")\n",
    "    plt.title('Without convolutions - Nsub_in = 40 / Nsub_out = ' + nsub_[i])\n",
    "    pkl_file = pkl_list_[i]\n",
    "\n",
    "    fwhm = pkl_file['fwhm_rec']\n",
    "    C = HealpixConvolutionGaussianOperator(fwhm[ifreq], lmax=2*256)\n",
    "    maps = pkl_file['maps']\n",
    "    input_maps = pkl_file['maps_in']\n",
    "    \n",
    "    coverage = pkl_file['coverage']\n",
    "    covnorm = coverage / coverage.max()\n",
    "    seenpix = covnorm > 0.2\n",
    "    \n",
    "    maps[:, ~seenpix, :] = hp.UNSEEN\n",
    "    input_maps[:, ~seenpix, :] = hp.UNSEEN\n",
    "    residual = C*input_maps[ifreq, :, istk]-maps[ifreq, :, istk]\n",
    "    \n",
    "    sigma = np.max([np.std(input_maps[ifreq, seenpix, istk]), np.std(maps[ifreq, seenpix, istk])])\n",
    "    n = 2\n",
    "    \n",
    "    hp.gnomview(C*input_maps[ifreq, :, istk],min=-n*sigma, max=n*sigma, rot=pkl_file['center'],reso=15, notext=True, cmap='jet', title='input', sub=(1, 3, 1))\n",
    "    hp.gnomview(maps[ifreq, :, istk],min=-n*sigma, max=n*sigma, rot=pkl_file['center'], reso=15, notext=True, cmap='jet', title='reconstructed', sub=(1, 3, 2))\n",
    "    hp.gnomview(residual,min=-n*sigma, max=n*sigma, rot=pkl_file['center'], reso=15, notext=True, cmap='jet', title='residual', sub=(1, 3, 3))\n",
    "\n",
    "    hist_list.append(np.hstack((residual)[seenpix]))"
   ]
  },
  {
   "cell_type": "code",
   "execution_count": null,
   "metadata": {},
   "outputs": [],
   "source": [
    "plt.figure()\n",
    "for i, ihist in enumerate(hist_list):\n",
    "    print(nsub_[i], ihist[0])\n",
    "    plt.hist(ihist, bins='auto',histtype='step',label=f'Nsub_out = {nsub_[i]}', alpha=0.5)\n",
    "plt.legend()\n",
    "plt.xlabel('Pixels value in QUBIC patch')\n",
    "plt.title('With convolutions - Nsub_in = 40')"
   ]
  },
  {
   "cell_type": "code",
   "execution_count": null,
   "metadata": {},
   "outputs": [],
   "source": []
  },
  {
   "cell_type": "code",
   "execution_count": null,
   "metadata": {},
   "outputs": [],
   "source": []
  },
  {
   "cell_type": "code",
   "execution_count": null,
   "metadata": {},
   "outputs": [],
   "source": []
  }
 ],
 "metadata": {
  "jupytext": {
   "formats": "ipynb,Rmd"
  },
  "kernelspec": {
   "display_name": "Python 3 (ipykernel)",
   "language": "python",
   "name": "python3"
  },
  "language_info": {
   "codemirror_mode": {
    "name": "ipython",
    "version": 3
   },
   "file_extension": ".py",
   "mimetype": "text/x-python",
   "name": "python",
   "nbconvert_exporter": "python",
   "pygments_lexer": "ipython3",
   "version": "3.9.18"
  }
 },
 "nbformat": 4,
 "nbformat_minor": 4
}
