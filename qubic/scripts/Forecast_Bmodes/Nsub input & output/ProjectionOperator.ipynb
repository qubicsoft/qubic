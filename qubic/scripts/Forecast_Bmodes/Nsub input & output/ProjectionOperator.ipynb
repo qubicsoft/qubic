{
 "cells": [
  {
   "cell_type": "code",
   "execution_count": null,
   "metadata": {},
   "outputs": [],
   "source": [
    "import numpy as np\n",
    "import matplotlib.pyplot as plt\n",
    "import healpy as hp\n",
    "\n",
    "from pyoperators import MPI\n",
    "\n",
    "import qubic\n",
    "from qubic.lib.Qdictionary import qubicDict\n",
    "from qubic.lib.Calibration.Qselfcal import scatter_plot_FP, get_TEScoordinates_ONAFP\n",
    "from qubic.lib.Instrument.Qinstrument import QubicInstrument\n",
    "from qubic.lib.Instrument.Qacquisition import QubicMultiAcquisitions\n",
    "from qubic.lib.Qsamplings import get_pointing"
   ]
  },
  {
   "cell_type": "code",
   "execution_count": null,
   "metadata": {},
   "outputs": [],
   "source": [
    "nside = 128"
   ]
  },
  {
   "cell_type": "markdown",
   "metadata": {},
   "source": [
    "# Initialize QUBIC Instance"
   ]
  },
  {
   "cell_type": "markdown",
   "metadata": {},
   "source": [
    "Build the QUBIC dictionary, mandatory to use the QUBIC functions"
   ]
  },
  {
   "cell_type": "code",
   "execution_count": null,
   "metadata": {},
   "outputs": [],
   "source": [
    "def get_dict(comm, key='in'):\n",
    "    \"\"\"QUBIC dictionary.\n",
    "\n",
    "    Method to modify the qubic dictionary.\n",
    "\n",
    "    Parameters\n",
    "    ----------\n",
    "    key : str, optional\n",
    "        Can be \"in\" or \"out\".\n",
    "        It is used to build respectively the instances to generate the TODs or to reconstruct the sky maps,\n",
    "        by default \"in\".\n",
    "\n",
    "    Returns\n",
    "    -------\n",
    "    dict_qubic: dict\n",
    "        Modified QUBIC dictionary.\n",
    "\n",
    "    \"\"\"\n",
    "\n",
    "    args = {\n",
    "        \"npointings\": 1,\n",
    "        \"nf_recon\": 2,\n",
    "        \"nf_sub\": 20,\n",
    "        \"nside\": nside,\n",
    "        \"MultiBand\": True,\n",
    "        \"period\": 1,\n",
    "        \"RA_center\": 0,\n",
    "        \"DEC_center\": -57,\n",
    "        \"filter_nu\": 150 * 1e9,\n",
    "        \"noiseless\": True,\n",
    "        \"comm\": comm,\n",
    "        \"dtheta\": 15,\n",
    "        \"nprocs_sampling\": 1,\n",
    "        \"nprocs_instrument\": comm.Get_size(),\n",
    "        \"photon_noise\": False,\n",
    "        \"nhwp_angles\": 1,\n",
    "        #'effective_duration':3,\n",
    "        \"effective_duration150\": 3,\n",
    "        \"effective_duration220\": 3,\n",
    "        \"filter_relative_bandwidth\": 0.25,\n",
    "        \"type_instrument\": \"two\",\n",
    "        \"TemperatureAtmosphere150\": None,\n",
    "        \"TemperatureAtmosphere220\": None,\n",
    "        \"EmissivityAtmosphere150\": None,\n",
    "        \"EmissivityAtmosphere220\": None,\n",
    "        \"detector_nep\": float(4.7e-17),\n",
    "        \"synthbeam_kmax\": 1,\n",
    "        \"synthbeam_fraction\": 1,\n",
    "        \"beam_shape\": \"gaussian\",\n",
    "        \"debug\":False,\n",
    "        \"kind\": \"IQU\",\n",
    "    }\n",
    "\n",
    "    ### Get the default dictionary\n",
    "    dictfilename = \"dicts/pipeline_demo.dict\"\n",
    "    dict_qubic = qubicDict()\n",
    "    dict_qubic.read_from_file(dictfilename)\n",
    "\n",
    "    for i in args.keys():\n",
    "\n",
    "        dict_qubic[str(i)] = args[i]\n",
    "\n",
    "    return dict_qubic"
   ]
  },
  {
   "cell_type": "code",
   "execution_count": null,
   "metadata": {},
   "outputs": [],
   "source": [
    "# Build MPI communicator and qubic dict\n",
    "comm = MPI.COMM_WORLD\n",
    "dict_qubic = get_dict(comm)"
   ]
  },
  {
   "cell_type": "code",
   "execution_count": null,
   "metadata": {},
   "outputs": [],
   "source": [
    "# Build scanning strategy\n",
    "sampling = get_pointing(dict_qubic)\n",
    "\n",
    "# Build QubicInstrument\n",
    "q = QubicInstrument(dict_qubic)"
   ]
  },
  {
   "cell_type": "code",
   "execution_count": null,
   "metadata": {},
   "outputs": [],
   "source": [
    "# Number of sub-acquisitions\n",
    "nsub = 10"
   ]
  },
  {
   "cell_type": "code",
   "execution_count": null,
   "metadata": {},
   "outputs": [],
   "source": [
    "# Initialize the Qubic multi-frequency acquisition\n",
    "# I multiply by 2 Nsub to have Nsub bands in each band, the rest of the code will only use the first Nsub bands (meaning the ones in the 150 GHz band)\n",
    "acq = QubicMultiAcquisitions(dict_qubic, nsub*2, 2, sampling=sampling)\n",
    "\n",
    "# Build a list that contains all sub-ProjectionOperators, meaning the ProjectionOperators for each sub-bands\n",
    "Proj_list = []\n",
    "for i in range(nsub):\n",
    "    Proj_list.append(acq.subacqs[i].get_projection_operator())"
   ]
  },
  {
   "cell_type": "markdown",
   "metadata": {},
   "source": [
    "# Plot Synthesized Beam"
   ]
  },
  {
   "cell_type": "markdown",
   "metadata": {},
   "source": [
    "Plot the shape of the beams"
   ]
  },
  {
   "cell_type": "code",
   "execution_count": null,
   "metadata": {},
   "outputs": [],
   "source": [
    "sb = acq.subacqs[0].instrument[210].get_synthbeam(acq.subacqs[0].scene)[0]\n",
    "hp.gnomview(np.log10(sb/np.max(sb)), rot=[0,90], reso=10, min=-3, title=\"Synthesized Beam - log scale\")"
   ]
  },
  {
   "cell_type": "code",
   "execution_count": null,
   "metadata": {},
   "outputs": [],
   "source": [
    "# This is the analytical synthesized for a pixel at the focal plane center \n",
    "# without accounting for the primary beam (just the mukltple peaks)\n",
    "# def sb_noprim(th_deg, nu):\n",
    "#     th = np.radians(th_deg)\n",
    "#     lam = 3e8/nu\n",
    "#     P = 20\n",
    "#     deltax = 0.013\n",
    "#     abscissa = np.pi * deltax/lam * th\n",
    "#     sb = np.sin(P*abscissa)**2 / np.sin(abscissa)**2\n",
    "#     return sb/np.max(sb)\n",
    "\n",
    "# N = 5000\n",
    "# thetas = np.linspace(-30, 30, N)\n",
    "# phis = 0\n",
    "# prim_beam = np.zeros((nsub, N))\n",
    "# thetas_peak = []\n",
    "# thetas_test = np.linspace(-15, -5, N)\n",
    "\n",
    "# colors = ['blue', 'red', 'green', 'orange']\n",
    "# plt.figure(figsize=(10, 8))\n",
    "# for i in range(nsub):\n",
    "#     prim_beam[i] = acq.multiinstrument[i].primary_beam(np.radians(np.abs(thetas)), phis)\n",
    "#     ind_peak = np.where((prim_beam[i]*sb_noprim(thetas_test, acq.allnus[i]*1e9)) == np.max(prim_beam[i]*sb_noprim(thetas_test, acq.allnus[i]*1e9)))[0]\n",
    "#     thetas_peak.append(thetas_test[ind_peak])\n",
    "#     plt.plot(thetas, prim_beam[i], '--', color = colors[i], label='Prim. Beam - nu={0:6.1f} GHz'.format(acq.allnus[i]))\n",
    "#     plt.plot(thetas, prim_beam[i] * sb_noprim(thetas, acq.allnus[i]*1e9), color = colors[i], label='Synth. Beam - nu={0:6.1f} GHz'.format(acq.allnus[i]))\n",
    "# plt.xlim(-20, 20)\n",
    "# plt.xlabel('$\\\\theta$ [deg]')\n",
    "# plt.ylabel('Normalized beam')\n",
    "# plt.legend()"
   ]
  },
  {
   "cell_type": "markdown",
   "metadata": {},
   "source": [
    "# Plot Primary and Synthesized Beams"
   ]
  },
  {
   "cell_type": "code",
   "execution_count": null,
   "metadata": {},
   "outputs": [],
   "source": [
    "idet = 204\n",
    "\n",
    "# Compute Synthetisized Beam for a given detector \n",
    "synth = acq.multiinstrument[0].get_synthbeam(acq.scene)[idet]\n",
    "\n",
    "npix = hp.nside2npix(nside)\n",
    "prim_beam = np.zeros(npix)\n",
    "\n",
    "# Compute Primary Beam\n",
    "prim = acq.multiinstrument[0].primary_beam\n",
    "for i in range(npix):\n",
    "    theta, phi = hp.pix2ang(nside, i)\n",
    "    prim_beam[i] = prim(theta, phi)"
   ]
  },
  {
   "cell_type": "code",
   "execution_count": null,
   "metadata": {},
   "outputs": [],
   "source": [
    "# Compute the position of the secondary peaks using _peak_angles_kmax\n",
    "th, ph = acq.subacqs[0].instrument._peak_angles_kmax(acq.subacqs[0].instrument.synthbeam.kmax, \n",
    "                                                     acq.subacqs[0].instrument.horn.spacing, \n",
    "                                                     acq.subacqs[0].instrument.horn.angle, \n",
    "                                                     acq.subacqs[0].instrument.filter.nu, \n",
    "                                                     acq.subacqs[0].instrument.detector.center)\n",
    "# Compute the amplitude of each peaks\n",
    "val = np.array(prim(th, ph), dtype=float, copy=False)"
   ]
  },
  {
   "cell_type": "code",
   "execution_count": null,
   "metadata": {},
   "outputs": [],
   "source": [
    "# Compute the position and the amplitude of the secondary peaks using _peak_angles\n",
    "# This function uses _peak_angles_kmax\n",
    "thetas, phis, vals = acq.subacqs[0].instrument._peak_angles(acq.scene, acq.allnus[0]*1e9, \n",
    "                                    acq.subacqs[0].instrument.detector.center,\n",
    "                                    acq.subacqs[0].instrument.synthbeam,\n",
    "                                    acq.subacqs[0].instrument.horn,\n",
    "                                    acq.subacqs[0].instrument.primary_beam)"
   ]
  },
  {
   "cell_type": "code",
   "execution_count": null,
   "metadata": {},
   "outputs": [],
   "source": [
    "# Compare the result, to see if these functions compute properly the peak position\n",
    "hp.gnomview(prim_beam, rot=[0,90], reso=20, title=\"Primary Beam\")\n",
    "hp.projplot(thetas[idet], phis[idet], 'rx', lonlat=False)\n",
    "hp.gnomview(np.log10(synth/np.max(synth)), rot=[0, 90], min=-3, reso=15, title=\"Synthesized Beam - peak_angles\")\n",
    "hp.projplot(thetas[idet], phis[idet], 'rx', lonlat=False)\n",
    "hp.gnomview(np.log10(synth/np.max(synth)), rot=[0, 90], min=-3, reso=15, title=\"Synthesized Beam - peak_angles_kmax\")\n",
    "hp.projplot(th[idet], ph[idet], 'rx', lonlat=False)"
   ]
  },
  {
   "cell_type": "code",
   "execution_count": null,
   "metadata": {},
   "outputs": [],
   "source": [
    "# Relative diff between primary beams\n",
    "ind_a, ind_b = 3, 2\n",
    "\n",
    "prim_a = acq.multiinstrument[ind_a].primary_beam\n",
    "prim_b  = acq.multiinstrument[ind_b].primary_beam\n",
    "\n",
    "npix = hp.nside2npix(nside)\n",
    "prim_beam_a = np.zeros(npix)\n",
    "prim_beam_b = np.zeros(npix)\n",
    "\n",
    "for i in range(npix):\n",
    "    theta, phi = hp.pix2ang(nside, i)\n",
    "    prim_beam_a[i] = prim(theta, phi)\n",
    "    prim_beam_b[i] = prim_b(theta, phi)\n",
    "\n",
    "hp.gnomview(prim_beam_a, rot=[0,90], reso=20, title=f\"Primary Beams at {acq.allnus[ind_a].round(2)} GHz\")\n",
    "hp.gnomview(prim_beam_b, rot=[0,90], reso=20, title=f\"Primary Beams at {acq.allnus[ind_b].round(2)} GHz\")\n",
    "\n",
    "hp.gnomview((prim_beam_a - prim_beam_b), rot=[0,90], reso=20, title=f\"Relative Diff between Primary Beams at {acq.allnus[ind_a].round(2)} and {acq.allnus[ind_b].round(2)} GHz\")"
   ]
  },
  {
   "cell_type": "markdown",
   "metadata": {},
   "source": [
    "# Compare Primary and Synthesized Beams evolution with frequency"
   ]
  },
  {
   "cell_type": "code",
   "execution_count": null,
   "metadata": {},
   "outputs": [],
   "source": [
    "idet = 0\n",
    "N_sample = 0\n",
    "time_index = 0\n",
    "\n",
    "for ipeak in range(thetas.shape[1]):\n",
    "    peak_amplitude = [] \n",
    "    fig, ax1 = plt.subplots()\n",
    "\n",
    "    prim_freq = [acq.multiinstrument[i].primary_beam for i in range(nsub)]\n",
    "\n",
    "    for i in range(nsub):\n",
    "        th, ph, v = acq.subacqs[i].instrument._peak_angles(acq.scene, acq.allnus[i]*1e9, \n",
    "                                        acq.subacqs[i].instrument.detector.center,\n",
    "                                        acq.subacqs[i].instrument.synthbeam,\n",
    "                                        acq.subacqs[i].instrument.horn,\n",
    "                                        acq.subacqs[i].instrument.primary_beam)\n",
    "\n",
    "        ax1.plot(acq.allnus[i], prim_freq[i](th[idet, ipeak], ph[idet, ipeak]), '.b')\n",
    "           \n",
    "        peak_amplitude.append(Proj_list[i].matrix.data.r11[(idet*N_sample)+time_index, ipeak])\n",
    "\n",
    "    ax1.set_xlabel('Frequency (GHz)')\n",
    "    ax1.set_ylabel('Primary beam', color = 'blue')\n",
    "    ax1.set_title('Primary beam and peak amplitude at peak %d for detector %d' % (ipeak, idet))\n",
    "\n",
    "    ax2 = ax1.twinx()\n",
    "    ax2.plot(acq.allnus[:nsub], peak_amplitude, '.r')\n",
    "    ax2.set_ylabel(\"Peak Amplitude\", color = 'r')\n",
    "    plt.show()"
   ]
  },
  {
   "cell_type": "markdown",
   "metadata": {},
   "source": [
    "# Build TOD"
   ]
  },
  {
   "cell_type": "code",
   "execution_count": null,
   "metadata": {},
   "outputs": [],
   "source": [
    "# Create uniform maps of \"1\"\n",
    "input_maps = np.ones((nsub, hp.nside2npix(nside), 3))\n",
    "input_maps[..., 1] *= 0 \n",
    "\n",
    "# Build the list of sub-TODs\n",
    "tod = []\n",
    "for i in range(nsub):\n",
    "    tod.append(Proj_list[i](input_maps[i]))"
   ]
  },
  {
   "cell_type": "code",
   "execution_count": null,
   "metadata": {},
   "outputs": [],
   "source": [
    "print(tod[0].shape)"
   ]
  },
  {
   "cell_type": "markdown",
   "metadata": {},
   "source": [
    "# Relative difference between succesive sub-TODs"
   ]
  },
  {
   "cell_type": "code",
   "execution_count": null,
   "metadata": {},
   "outputs": [],
   "source": [
    "plt.figure()\n",
    "for i in range(nsub-1):\n",
    "    diff = np.abs((tod[i+1][:, 0, 0] - tod[i][:, 0, 0])/tod[i][:, 0, 0])\n",
    "    # Need to remove 'nan' due to division by 0\n",
    "    # Mean on detectors\n",
    "    mean_diff = np.mean(diff[~np.isnan(diff)])\n",
    "    plt.plot(acq.allnus[i], mean_diff, '.')\n",
    "plt.title(r\"$H = \\mathcal{P}_{roj}$ - Intensity map\")\n",
    "plt.ylabel(r'$\\frac{| H(Imap)^{i+1} - H(Imap)^i |}{| H(Imap)^{i} |}$', fontsize=15, labelpad=10)\n",
    "plt.xlabel('Frequency (GHz)')"
   ]
  },
  {
   "cell_type": "code",
   "execution_count": null,
   "metadata": {},
   "outputs": [],
   "source": [
    "plt.figure()\n",
    "for i in range(nsub-1):\n",
    "    diff = np.abs((tod[i+1][:, 0, 1] - tod[i][:, 0, 1])/tod[i][:, 0, 1])\n",
    "    # Need to remove 'nan' due to division by 0\n",
    "    # Mean on detectors\n",
    "    mean_diff = np.mean(diff[~np.isnan(diff)])\n",
    "    plt.plot(acq.allnus[i], mean_diff, '.')\n",
    "plt.title(r\"$H = \\mathcal{P}_{roj}$ - Q map\")\n",
    "plt.ylabel(r'$\\frac{| H(Qmap)^{i+1} - H(Qmap)^i |}{| H(Qmap)^{i} |}$', fontsize=15, labelpad=10)\n",
    "plt.xlabel('Frequency (GHz)')"
   ]
  },
  {
   "cell_type": "code",
   "execution_count": null,
   "metadata": {},
   "outputs": [],
   "source": [
    "plt.figure()\n",
    "idet = 245\n",
    "for idet in range(200, 210):\n",
    "    for i in range(nsub-1):\n",
    "        diff = (tod[i+1][idet, 0, 1] - tod[i][idet, 0, 1])/tod[i][idet, 0, 1]#np.abs((tod[i+1][idet, 0, 1] - tod[i][idet, 0, 1])/tod[i][idet, 0, 1])\n",
    "        plt.plot(acq.allnus[i], diff, '.b')\n",
    "    plt.title(r\"$H = \\mathcal{P}_{roj}$ - Q map - \" + f'Detector index = {idet}')\n",
    "    plt.ylabel(r'$\\frac{ H(Qmap)^{i+1} - H(Qmap)^i |}{| H(Qmap)^{i}}$', fontsize=15, labelpad=10)\n",
    "    plt.xlabel('Frequency (GHz)')\n",
    "    plt.show()"
   ]
  },
  {
   "cell_type": "markdown",
   "metadata": {},
   "source": [
    "# Relative difference on the focal plane"
   ]
  },
  {
   "cell_type": "markdown",
   "metadata": {},
   "source": [
    "Plot the difference between two successive tods, at a given time, on the focal plane. The polarisation case seems very strange with respect to the intensity case."
   ]
  },
  {
   "cell_type": "code",
   "execution_count": null,
   "metadata": {},
   "outputs": [],
   "source": [
    "xTES, yTES, vertex = get_TEScoordinates_ONAFP(q)"
   ]
  },
  {
   "cell_type": "code",
   "execution_count": null,
   "metadata": {},
   "outputs": [],
   "source": [
    "print(tod[0].shape)"
   ]
  },
  {
   "cell_type": "code",
   "execution_count": null,
   "metadata": {},
   "outputs": [],
   "source": [
    "fig, ax = plt.subplots(figsize=(10, 10))\n",
    "ind_a, ind_b = 3, 2\n",
    "relative_diff = (tod[ind_a]-tod[ind_b])/tod[ind_b]*100\n",
    "print(relative_diff.shape)\n",
    "scatter_plot_FP(q, xTES, yTES, np.mean(relative_diff[...,0], axis=1), frame='ONAFP', s=150, title=r'Intensity map - $\\frac{ \\mathcal{P}_{roj}(Imap)^{n+1} - \\mathcal{P}_{roj}(Imap)^{n} }{ \\mathcal{P}_{roj}(Imap)^{n} } x 100$', fig=fig, ax = ax, unit='%')"
   ]
  },
  {
   "cell_type": "code",
   "execution_count": null,
   "metadata": {},
   "outputs": [],
   "source": [
    "fig, ax = plt.subplots(figsize=(10, 10))\n",
    "relative_diff = (tod[ind_a]-tod[ind_b])/tod[ind_b]*100\n",
    "scatter_plot_FP(q, xTES, yTES, relative_diff[:, 0, 1], frame='ONAFP', s=150, title=r'Q map - $\\frac{| \\mathcal{P}_{roj}(Qmap)^{n+1} - \\mathcal{P}_{roj}(Qmap)^{n} |}{| \\mathcal{P}_{roj}(Qmap)^{n} |} x 100$', fig=fig, ax = ax, unit='%')"
   ]
  },
  {
   "cell_type": "code",
   "execution_count": null,
   "metadata": {},
   "outputs": [],
   "source": [
    "fig, ax = plt.subplots(figsize=(10, 10))\n",
    "relative_diff = (tod[ind_a]-tod[ind_b])/tod[ind_b]*100\n",
    "scatter_plot_FP(q, xTES, yTES, relative_diff[:, 0, 2], frame='ONAFP', s=150, title=r'U map - $\\frac{| \\mathcal{P}_{roj}(Umap)^{n+1} - \\mathcal{P}_{roj}(Umap)^{n} |}{| \\mathcal{P}_{roj}(Umap)^{n} |} x 100$', fig=fig, ax = ax, unit='%')"
   ]
  },
  {
   "cell_type": "markdown",
   "metadata": {},
   "source": [
    "# Projection angle"
   ]
  },
  {
   "cell_type": "code",
   "execution_count": null,
   "metadata": {},
   "outputs": [],
   "source": [
    "P = Proj_list[-1]\n",
    "\n",
    "alpha_from_r22 = 0.5 * np.arccos(P.matrix.data.r22 / P.matrix.data.r11)\n",
    "alpha_from_r32 = 0.5 * np.arcsin(- P.matrix.data.r32 / P.matrix.data.r11)\n",
    "\n",
    "cos2_sin2 = (P.matrix.data.r22**2 + P.matrix.data.r32**2) / P.matrix.data.r11**2"
   ]
  },
  {
   "cell_type": "code",
   "execution_count": null,
   "metadata": {},
   "outputs": [],
   "source": [
    "cos2_sin2[0]"
   ]
  },
  {
   "cell_type": "code",
   "execution_count": null,
   "metadata": {},
   "outputs": [],
   "source": [
    "plt.plot(cos2_sin2[0], '.', label=r'$cos^2 + sin^2$')\n",
    "plt.hlines(1, 0, (2*dict_qubic['synthbeam_kmax'] + 1)**2, 'grey', linestyle='--', alpha=0.5)\n",
    "plt.xlabel('Peaks index')\n",
    "plt.legend()"
   ]
  },
  {
   "cell_type": "markdown",
   "metadata": {},
   "source": [
    "# Peak Amplitude evolution with frequency"
   ]
  },
  {
   "cell_type": "markdown",
   "metadata": {},
   "source": [
    "P.matrix.data is build such that you have all the points for the same detector at all the different time samples, then the next detector at all the different time samples, etc."
   ]
  },
  {
   "cell_type": "code",
   "execution_count": null,
   "metadata": {},
   "outputs": [],
   "source": [
    "peak_index = 0\n",
    "N_sample = 0\n",
    "time_index = 0\n",
    "det_index = 205\n",
    "for peak_index in range((2*dict_qubic['synthbeam_kmax']+1)**2):\n",
    "    plt.figure()\n",
    "    peak_amplitude = []\n",
    "    for i in range(nsub):\n",
    "        peak_amplitude.append(Proj_list[i].matrix.data.r11[(det_index*N_sample)+time_index, peak_index])\n",
    "\n",
    "    plt.plot(acq.allnus[:nsub], peak_amplitude)\n",
    "    plt.xlabel(\"Frequency (GHz)\")\n",
    "    plt.ylabel(\"Peak Amplitude\")\n",
    "    plt.title(f\"Detector Index = {det_index} | Time Sample Index = {time_index} | Peak Index = {peak_index}\")\n",
    "    plt.show()"
   ]
  },
  {
   "cell_type": "code",
   "execution_count": null,
   "metadata": {},
   "outputs": [],
   "source": []
  },
  {
   "cell_type": "code",
   "execution_count": null,
   "metadata": {},
   "outputs": [],
   "source": []
  },
  {
   "cell_type": "code",
   "execution_count": null,
   "metadata": {},
   "outputs": [],
   "source": []
  },
  {
   "cell_type": "code",
   "execution_count": null,
   "metadata": {},
   "outputs": [],
   "source": []
  }
 ],
 "metadata": {
  "kernelspec": {
   "display_name": "venv-qubic",
   "language": "python",
   "name": "python3"
  },
  "language_info": {
   "codemirror_mode": {
    "name": "ipython",
    "version": 3
   },
   "file_extension": ".py",
   "mimetype": "text/x-python",
   "name": "python",
   "nbconvert_exporter": "python",
   "pygments_lexer": "ipython3",
   "version": "3.9.18"
  }
 },
 "nbformat": 4,
 "nbformat_minor": 2
}
