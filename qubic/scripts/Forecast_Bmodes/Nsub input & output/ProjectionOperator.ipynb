{
 "cells": [
  {
   "cell_type": "code",
   "execution_count": null,
   "metadata": {},
   "outputs": [],
   "source": [
    "import numpy as np\n",
    "import matplotlib.pyplot as plt\n",
    "import healpy as hp\n",
    "\n",
    "from pyoperators import MPI\n",
    "\n",
    "import qubic\n",
    "from qubic.lib.Qdictionary import qubicDict\n",
    "from qubic.lib.Calibration.Qselfcal import scatter_plot_FP, get_TEScoordinates_ONAFP\n",
    "from qubic.lib.Instrument.Qinstrument import QubicInstrument\n",
    "from qubic.lib.Instrument.Qacquisition import QubicMultiAcquisitions\n",
    "from qubic.lib.Qsamplings import get_pointing"
   ]
  },
  {
   "cell_type": "code",
   "execution_count": null,
   "metadata": {},
   "outputs": [],
   "source": [
    "nside = 128"
   ]
  },
  {
   "cell_type": "markdown",
   "metadata": {},
   "source": [
    "Build the QUBIC dictionary, mandatory to use the QUBIC functions"
   ]
  },
  {
   "cell_type": "code",
   "execution_count": null,
   "metadata": {},
   "outputs": [],
   "source": [
    "def get_dict(comm, key='in'):\n",
    "    \"\"\"QUBIC dictionary.\n",
    "\n",
    "    Method to modify the qubic dictionary.\n",
    "\n",
    "    Parameters\n",
    "    ----------\n",
    "    key : str, optional\n",
    "        Can be \"in\" or \"out\".\n",
    "        It is used to build respectively the instances to generate the TODs or to reconstruct the sky maps,\n",
    "        by default \"in\".\n",
    "\n",
    "    Returns\n",
    "    -------\n",
    "    dict_qubic: dict\n",
    "        Modified QUBIC dictionary.\n",
    "\n",
    "    \"\"\"\n",
    "\n",
    "    args = {\n",
    "        \"npointings\": 30,\n",
    "        \"nf_recon\": 2,\n",
    "        \"nf_sub\": 20,\n",
    "        \"nside\": nside,\n",
    "        \"MultiBand\": True,\n",
    "        \"period\": 1,\n",
    "        \"RA_center\": 0,\n",
    "        \"DEC_center\": -57,\n",
    "        \"filter_nu\": 150 * 1e9,\n",
    "        \"noiseless\": False,\n",
    "        \"comm\": comm,\n",
    "        \"dtheta\": 15,\n",
    "        \"nprocs_sampling\": 1,\n",
    "        \"nprocs_instrument\": comm.Get_size(),\n",
    "        \"photon_noise\": True,\n",
    "        \"nhwp_angles\": 3,\n",
    "        #'effective_duration':3,\n",
    "        \"effective_duration150\": 3,\n",
    "        \"effective_duration220\": 3,\n",
    "        \"filter_relative_bandwidth\": 0.25,\n",
    "        \"type_instrument\": \"two\",\n",
    "        \"TemperatureAtmosphere150\": None,\n",
    "        \"TemperatureAtmosphere220\": None,\n",
    "        \"EmissivityAtmosphere150\": None,\n",
    "        \"EmissivityAtmosphere220\": None,\n",
    "        \"detector_nep\": float(4.7e-17),\n",
    "        \"synthbeam_kmax\": 2,\n",
    "        \"synthbeam_fraction\": 1,\n",
    "        \"beam_shape\": 'gaussian',\n",
    "        \"debug\":False,\n",
    "    }\n",
    "\n",
    "    ### Get the default dictionary\n",
    "    dictfilename = \"dicts/pipeline_demo.dict\"\n",
    "    dict_qubic = qubicDict()\n",
    "    dict_qubic.read_from_file(dictfilename)\n",
    "\n",
    "    for i in args.keys():\n",
    "\n",
    "        dict_qubic[str(i)] = args[i]\n",
    "\n",
    "    return dict_qubic"
   ]
  },
  {
   "cell_type": "code",
   "execution_count": null,
   "metadata": {},
   "outputs": [],
   "source": [
    "# Build MPI communicator and qubic dict\n",
    "comm = MPI.COMM_WORLD\n",
    "dict_qubic = get_dict(comm)"
   ]
  },
  {
   "cell_type": "code",
   "execution_count": null,
   "metadata": {},
   "outputs": [],
   "source": [
    "# Build scanning strategy\n",
    "sampling = get_pointing(dict_qubic)\n",
    "\n",
    "# Initialize QubicInstrument instance\n",
    "q = QubicInstrument(dict_qubic)"
   ]
  },
  {
   "cell_type": "code",
   "execution_count": null,
   "metadata": {},
   "outputs": [],
   "source": [
    "# Number of sub-acquisitions\n",
    "nsub = 15"
   ]
  },
  {
   "cell_type": "code",
   "execution_count": null,
   "metadata": {},
   "outputs": [],
   "source": [
    "# Initialize the Qubic multi-frequency acquisition\n",
    "# I multiply by 2 Nsub to have Nsub bands in each band, the rest of the code will only use the first Nsub bands (meaning the ones in the 150 GHz band)\n",
    "acq = QubicMultiAcquisitions(dict_qubic, nsub*2, 2, sampling=sampling)"
   ]
  },
  {
   "cell_type": "code",
   "execution_count": null,
   "metadata": {},
   "outputs": [],
   "source": [
    "# Build a list that contains all sub-ProjectionOperators, meaning the ProjectionOperators for each sub-bands\n",
    "Proj_list = []\n",
    "for i in range(nsub):\n",
    "    Proj_list.append(acq.subacqs[i].get_projection_operator())"
   ]
  },
  {
   "cell_type": "code",
   "execution_count": null,
   "metadata": {},
   "outputs": [],
   "source": [
    "# Create uniform maps of \"1\"\n",
    "input_maps = np.ones((nsub, hp.nside2npix(nside), 3))\n",
    "\n",
    "# Build the list of sub-TODs\n",
    "tod = []\n",
    "for i in range(nsub):\n",
    "    tod.append(Proj_list[i](input_maps[i]))"
   ]
  },
  {
   "cell_type": "code",
   "execution_count": null,
   "metadata": {},
   "outputs": [],
   "source": [
    "print(tod[0].shape)"
   ]
  },
  {
   "cell_type": "code",
   "execution_count": null,
   "metadata": {},
   "outputs": [],
   "source": [
    "plt.figure()\n",
    "for i in range(nsub-1):\n",
    "    diff = np.abs((tod[i+1][:, 0, 0] - tod[i][:, 0, 0])/tod[i][:, 0, 0])\n",
    "    # Need to remove 'nan' due to division by 0\n",
    "    mean_diff = np.mean(diff[~np.isnan(diff)])\n",
    "    plt.plot(acq.allnus[i], mean_diff, '.')\n",
    "plt.legend()\n",
    "plt.title(r\"$H = \\mathcal{P}_{roj}$ - Intensity map\")\n",
    "plt.ylabel(r'$\\frac{| H(Imap)^{i+1} - H(Imap)^i |}{| H(Imap)^{i} |}$', fontsize=15, labelpad=10)\n",
    "plt.xlabel('Frequency (GHz)')"
   ]
  },
  {
   "cell_type": "code",
   "execution_count": null,
   "metadata": {},
   "outputs": [],
   "source": [
    "plt.figure()\n",
    "for i in range(nsub-1):\n",
    "    diff = np.abs((tod[i+1][..., 1] - tod[i][..., 1])/tod[i][..., 1])\n",
    "    # Need to remove 'nan' due to division by 0\n",
    "    mean_diff = np.mean(diff[~np.isnan(diff)])\n",
    "    plt.plot(acq.allnus[i], mean_diff, '.')\n",
    "plt.legend()\n",
    "plt.title(r\"$H = \\mathcal{P}_{roj}$ - Q map\")\n",
    "plt.ylabel(r'$\\frac{| H(Qmap)^{i+1} - H(Qmap)^i |}{| H(Qmap)^{i} |}$', fontsize=15, labelpad=10)\n",
    "plt.xlabel('Frequency (GHz)')"
   ]
  },
  {
   "cell_type": "markdown",
   "metadata": {},
   "source": [
    "Plot the difference between two successive tods, at a given time, on the focal plane. The polarisation case seems very strange with respect to the intensity case."
   ]
  },
  {
   "cell_type": "code",
   "execution_count": null,
   "metadata": {},
   "outputs": [],
   "source": [
    "xTES, yTES, vertex = get_TEScoordinates_ONAFP(q)"
   ]
  },
  {
   "cell_type": "code",
   "execution_count": null,
   "metadata": {},
   "outputs": [],
   "source": [
    "fig, ax = plt.subplots(figsize=(10, 10))\n",
    "relative_diff = np.abs(tod[10]-tod[9])/tod[9]*100\n",
    "scatter_plot_FP(q, xTES, yTES, np.mean(relative_diff[...,0], axis=1), frame='ONAFP', s=150, title=r'Intensity map - $\\frac{| \\mathcal{P}_{roj}(Imap)^{20} - \\mathcal{P}_{roj}(Imap)^{19} |}{| \\mathcal{P}_{roj}(Imap)^{19} |} x 100$', fig=fig, ax = ax, unit='%')"
   ]
  },
  {
   "cell_type": "code",
   "execution_count": null,
   "metadata": {},
   "outputs": [],
   "source": [
    "fig, ax = plt.subplots(figsize=(10, 10))\n",
    "relative_diff = np.abs(tod[10]-tod[9])/tod[9]*100\n",
    "scatter_plot_FP(q, xTES, yTES, relative_diff[:, 0, 1], frame='ONAFP', s=150, title=r'Q map - $\\frac{| \\mathcal{P}_{roj}(Qmap)^{20} - \\mathcal{P}_{roj}(Qmap)^{19} |}{| \\mathcal{P}_{roj}(Qmap)^{19} |} x 100$', fig=fig, ax = ax, unit='%')"
   ]
  },
  {
   "cell_type": "code",
   "execution_count": null,
   "metadata": {},
   "outputs": [],
   "source": [
    "P = Proj_list[-1]\n",
    "\n",
    "alpha_from_r22 = 0.5 * np.arccos(P.matrix.data.r22 / P.matrix.data.r11)\n",
    "alpha_from_r32 = 0.5 * np.arcsin(- P.matrix.data.r32 / P.matrix.data.r11)\n",
    "\n",
    "cos2_sin2 = (P.matrix.data.r22**2 + P.matrix.data.r32**2) / P.matrix.data.r11**2"
   ]
  },
  {
   "cell_type": "code",
   "execution_count": null,
   "metadata": {},
   "outputs": [],
   "source": [
    "plt.plot(alpha_from_r22[0], label=r'$\\alpha_{22}$')\n",
    "plt.plot(alpha_from_r32[0], label=r'$\\alpha_{32}$')\n",
    "\n",
    "plt.legend()\n",
    "plt.xlabel('Peaks index')\n",
    "plt.ylabel('Angle (rad)')"
   ]
  },
  {
   "cell_type": "code",
   "execution_count": null,
   "metadata": {},
   "outputs": [],
   "source": [
    "plt.plot(alpha_from_r22[0], label=r'$\\alpha_{22}$')\n",
    "plt.plot(alpha_from_r32[0], label=r'$\\alpha_{32}$')\n",
    "plt.plot(np.abs(alpha_from_r32[0]), label=r'$|\\alpha_{32}|$')\n",
    "\n",
    "plt.legend()\n",
    "plt.xlabel('Peaks index')\n",
    "plt.ylabel('Angle (rad)')"
   ]
  },
  {
   "cell_type": "code",
   "execution_count": null,
   "metadata": {},
   "outputs": [],
   "source": [
    "plt.hlines(0, 0, len(alpha_from_r22[0]), 'grey', linestyle='--', alpha=0.5)\n",
    "plt.plot(alpha_from_r22[0] - (alpha_from_r32[0]), label=r'$\\alpha_{22} - \\alpha_{32}$')\n",
    "plt.plot(alpha_from_r22[0] - np.abs(alpha_from_r32[0]), label=r'$\\alpha_{22} - |\\alpha_{32}|$')\n",
    "plt.plot(alpha_from_r22[0] - (alpha_from_r32[0] % (np.pi/2)), label=r'$\\alpha_{22} - \\alpha_{32} \\ mod \\ (\\pi/2)$')\n",
    "plt.legend()\n",
    "plt.xlabel('Peaks index')\n",
    "plt.ylabel('Angle (rad)')"
   ]
  },
  {
   "cell_type": "code",
   "execution_count": null,
   "metadata": {},
   "outputs": [],
   "source": []
  }
 ],
 "metadata": {
  "kernelspec": {
   "display_name": "venv-qubic",
   "language": "python",
   "name": "python3"
  },
  "language_info": {
   "codemirror_mode": {
    "name": "ipython",
    "version": 3
   },
   "file_extension": ".py",
   "mimetype": "text/x-python",
   "name": "python",
   "nbconvert_exporter": "python",
   "pygments_lexer": "ipython3",
   "version": "3.9.18"
  }
 },
 "nbformat": 4,
 "nbformat_minor": 2
}
