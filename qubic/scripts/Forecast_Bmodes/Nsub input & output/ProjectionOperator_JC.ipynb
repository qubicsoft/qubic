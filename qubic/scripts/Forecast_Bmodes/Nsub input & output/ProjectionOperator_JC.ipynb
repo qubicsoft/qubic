{
 "cells": [
  {
   "cell_type": "code",
   "execution_count": null,
   "metadata": {},
   "outputs": [],
   "source": [
    "import numpy as np\n",
    "import matplotlib.pyplot as plt\n",
    "import healpy as hp\n",
    "\n",
    "from pyoperators import MPI\n",
    "\n",
    "from qubic.lib.Qdictionary import qubicDict\n",
    "from qubic.lib.Calibration.Qselfcal import scatter_plot_FP, get_TEScoordinates_ONAFP\n",
    "from qubic.lib.Instrument.Qinstrument import QubicInstrument\n",
    "from qubic.lib.Instrument.Qacquisition import QubicMultiAcquisitions\n",
    "from qubic.lib.Qsamplings import get_pointing, equ2gal"
   ]
  },
  {
   "cell_type": "code",
   "execution_count": null,
   "metadata": {},
   "outputs": [],
   "source": [
    "nside = 128"
   ]
  },
  {
   "cell_type": "markdown",
   "metadata": {},
   "source": [
    "# Initialize QUBIC instance"
   ]
  },
  {
   "cell_type": "markdown",
   "metadata": {},
   "source": [
    "Build the QUBIC dictionary, mandatory to use the QUBIC functions"
   ]
  },
  {
   "cell_type": "code",
   "execution_count": null,
   "metadata": {},
   "outputs": [],
   "source": [
    "def get_dict(comm, key='in'):\n",
    "    \"\"\"QUBIC dictionary.\n",
    "\n",
    "    Method to modify the qubic dictionary.\n",
    "\n",
    "    Parameters\n",
    "    ----------\n",
    "    key : str, optional\n",
    "        Can be \"in\" or \"out\".\n",
    "        It is used to build respectively the instances to generate the TODs or to reconstruct the sky maps,\n",
    "        by default \"in\".\n",
    "\n",
    "    Returns\n",
    "    -------\n",
    "    dict_qubic: dict\n",
    "        Modified QUBIC dictionary.\n",
    "\n",
    "    \"\"\"\n",
    "\n",
    "    args = {\n",
    "        \"npointings\": 1,\n",
    "        \"nf_recon\": 2,\n",
    "        \"nf_sub\": 10,\n",
    "        \"nside\": nside,\n",
    "        \"MultiBand\": True,\n",
    "        \"period\": 1,\n",
    "        \"RA_center\": 0,\n",
    "        \"DEC_center\": -57,\n",
    "        \"filter_nu\": 150 * 1e9,\n",
    "        \"noiseless\": True,\n",
    "        \"comm\": comm,\n",
    "        \"dtheta\": 15,\n",
    "        \"nprocs_sampling\": 1,\n",
    "        \"nprocs_instrument\": comm.Get_size(),\n",
    "        \"photon_noise\": False,\n",
    "        \"nhwp_angles\": 1,\n",
    "        \"effective_duration150\": 3,\n",
    "        \"effective_duration220\": 3,\n",
    "        \"filter_relative_bandwidth\": 0.25,\n",
    "        \"type_instrument\": \"two\",\n",
    "        \"TemperatureAtmosphere150\": None,\n",
    "        \"TemperatureAtmosphere220\": None,\n",
    "        \"EmissivityAtmosphere150\": None,\n",
    "        \"EmissivityAtmosphere220\": None,\n",
    "        \"detector_nep\": float(4.7e-17),\n",
    "        \"synthbeam_kmax\": 1,\n",
    "        \"synthbeam_fraction\": 1,\n",
    "        \"beam_shape\": \"gaussian\",\n",
    "        \"debug\":False,\n",
    "        \"kind\": \"IQU\",\n",
    "    }\n",
    "\n",
    "    ### Get the default dictionary\n",
    "    dictfilename = \"dicts/pipeline_demo.dict\"\n",
    "    dict_qubic = qubicDict()\n",
    "    dict_qubic.read_from_file(dictfilename)\n",
    "\n",
    "    for i in args.keys():\n",
    "\n",
    "        dict_qubic[str(i)] = args[i]\n",
    "\n",
    "    return dict_qubic"
   ]
  },
  {
   "cell_type": "code",
   "execution_count": null,
   "metadata": {},
   "outputs": [],
   "source": [
    "# Build MPI communicator and qubic dict\n",
    "comm = MPI.COMM_WORLD\n",
    "dict_qubic = get_dict(comm)"
   ]
  },
  {
   "cell_type": "code",
   "execution_count": null,
   "metadata": {},
   "outputs": [],
   "source": [
    "dict_qubic"
   ]
  },
  {
   "cell_type": "code",
   "execution_count": null,
   "metadata": {},
   "outputs": [],
   "source": [
    "dict_qubic['center_detector'] = False"
   ]
  },
  {
   "cell_type": "code",
   "execution_count": null,
   "metadata": {},
   "outputs": [],
   "source": [
    "dict_qubic[\"use_synthbeam_fits_file\"] = False\n",
    "print(dict_qubic[\"use_synthbeam_fits_file\"])\n",
    "print(dict_qubic[\"synthbeam\"])\n",
    "print(dict_qubic[\"primbeam\"])"
   ]
  },
  {
   "cell_type": "code",
   "execution_count": null,
   "metadata": {},
   "outputs": [],
   "source": [
    "# Build scanning strategy\n",
    "sampling = get_pointing(dict_qubic)\n",
    "\n",
    "# Build QubicInstrument\n",
    "q = QubicInstrument(dict_qubic)"
   ]
  },
  {
   "cell_type": "code",
   "execution_count": null,
   "metadata": {},
   "outputs": [],
   "source": [
    "# Number of sub-acquisitions\n",
    "nsub = 20"
   ]
  },
  {
   "cell_type": "code",
   "execution_count": null,
   "metadata": {},
   "outputs": [],
   "source": [
    "# Initialize the Qubic multi-frequency acquisition\n",
    "# I multiply by 2 Nsub to have Nsub bands in each band, the rest of the code will only use the first Nsub bands (meaning the ones in the 150 GHz band)\n",
    "acq = QubicMultiAcquisitions(dict_qubic, nsub*2, 2, sampling=sampling)\n",
    "\n",
    "# Build a list that contains all sub-ProjectionOperators, meaning the ProjectionOperators for each sub-bands\n",
    "Proj_list = []\n",
    "for i in range(2*nsub):\n",
    "    #Proj_list.append(acq.subacqs[i].get_projection_operator())*\n",
    "    print(acq.H[i].operands[-1])\n",
    "    Proj_list.append(acq.H[i].operands[-1])"
   ]
  },
  {
   "cell_type": "code",
   "execution_count": null,
   "metadata": {},
   "outputs": [],
   "source": [
    "print(Proj_list[0].shapein, Proj_list[0].shapeout)\n",
    "print(Proj_list[0].matrix.data.r11.shape)"
   ]
  },
  {
   "cell_type": "code",
   "execution_count": null,
   "metadata": {},
   "outputs": [],
   "source": [
    "thetas, phis = np.zeros((len(acq.allnus), (2*dict_qubic['synthbeam_kmax'] + 1)**2)), np.zeros((len(acq.allnus), (2*dict_qubic['synthbeam_kmax'] + 1)**2))\n",
    "\n",
    "Qacq = acq.subacqs \n",
    "idet = 0\n",
    "kmax = dict_qubic['synthbeam_kmax']\n",
    "\n",
    "for i in range(len(acq.allnus)):\n",
    "    theta, phi = Qacq[i].instrument._peak_angles_kmax(kmax, Qacq[i].instrument.horn.spacing, Qacq[i].instrument.horn.angle, acq.allnus[i] * 1e9, Qacq[i].instrument.detector.center)\n",
    "    thetas[i] = theta[idet]\n",
    "    phis[i] = phi[idet]"
   ]
  },
  {
   "cell_type": "code",
   "execution_count": null,
   "metadata": {},
   "outputs": [],
   "source": [
    "plt.plot(acq.allnus, np.degrees(thetas[:, 0]), 'o', label='theta')\n",
    "plt.plot(acq.allnus, np.degrees(phis[:, 0]), 'o', label='phi')\n",
    "plt.legend()\n",
    "plt.xlabel('Frequency [GHz]')\n",
    "plt.ylabel('Angle [deg]')"
   ]
  },
  {
   "cell_type": "code",
   "execution_count": null,
   "metadata": {},
   "outputs": [],
   "source": [
    "hp.gnomview(np.zeros(hp.nside2npix(nside)), rot=[0,90], reso=20, title=\"Synth Beam\")\n",
    "hp.projplot(thetas[0], phis[0], 'rx', lonlat=False)"
   ]
  },
  {
   "cell_type": "code",
   "execution_count": null,
   "metadata": {},
   "outputs": [],
   "source": [
    "npix = hp.nside2npix(nside)\n",
    "hp.gnomview(np.zeros(npix), rot=[0,90], reso=15, title=f\"Synth Beam - Det {idet}\")\n",
    "\n",
    "for i in range(len(acq.allnus[:nsub])):\n",
    "    hp.projplot(thetas[i], phis[i], 'rx', lonlat=False)#, label='%.2f GHz' % acq.allnus[i])"
   ]
  },
  {
   "cell_type": "code",
   "execution_count": null,
   "metadata": {},
   "outputs": [],
   "source": [
    "prim1_beam = np.zeros(npix)\n",
    "\n",
    "# Compute Prim1ary Beam\n",
    "prim1 = acq.multiinstrument[0].primary_beam\n",
    "for i in range(npix):\n",
    "    theta, phi = hp.pix2ang(nside, i)\n",
    "    prim1_beam[i] = prim1(theta, phi)\n",
    "\n",
    "hp.gnomview(prim1_beam, rot=[0,90], reso=20, title=f\"Primary Beam {acq.allnus[0].round(2)} GHz - Synth Beam Det {idet}\")\n",
    "for i in range(len(acq.allnus[:nsub])):\n",
    "    hp.projplot(thetas[i], phis[i], 'rx', lonlat=False)#, label='%.2f GHz' % acq.allnus[i])"
   ]
  },
  {
   "cell_type": "markdown",
   "metadata": {},
   "source": [
    "# Build TOD"
   ]
  },
  {
   "cell_type": "code",
   "execution_count": null,
   "metadata": {},
   "outputs": [],
   "source": [
    "# Create uniform maps of \"1\"\n",
    "input_maps = np.ones((2*nsub, hp.nside2npix(nside), 3))\n",
    "\n",
    "# Build the list of sub-TODs\n",
    "tod = []\n",
    "for i in range(2*nsub):\n",
    "    tod.append(Proj_list[i](input_maps[i]))"
   ]
  },
  {
   "cell_type": "code",
   "execution_count": null,
   "metadata": {},
   "outputs": [],
   "source": [
    "print(\"Number of sub-TODs: \", len(tod))\n",
    "print(\"sub-TODs shape: \", tod[0].shape, \" = (Ndet, Nsample, Nstk)\")"
   ]
  },
  {
   "cell_type": "markdown",
   "metadata": {},
   "source": [
    "# Comparing TODs for different Nsub"
   ]
  },
  {
   "cell_type": "code",
   "execution_count": null,
   "metadata": {},
   "outputs": [],
   "source": [
    "nsub_max = 50\n",
    "nsub_list = np.arange(10, nsub_max+1, 10)\n",
    "\n",
    "TOD_list = []\n",
    "freq_list = []\n",
    "\n",
    "for insub in nsub_list:\n",
    "    input_maps = np.ones((insub, hp.nside2npix(nside), 3))\n",
    "    \n",
    "    Qacq = QubicMultiAcquisitions(dict_qubic, 2*insub, 2, sampling=sampling)\n",
    "    H = Qacq.H[:int(insub/2)]\n",
    "    \n",
    "    tod_proj = []\n",
    "    for i in range(int(insub/2)):\n",
    "        P = H[i].operands[-1]\n",
    "        print(P)\n",
    "        tod_proj.append(P(input_maps[i]))\n",
    "    TOD_list.append(tod_proj)\n",
    "    freq_list.append(Qacq.allnus)"
   ]
  },
  {
   "cell_type": "code",
   "execution_count": null,
   "metadata": {},
   "outputs": [],
   "source": [
    "# TOD_list[len(nsub_list)][Nsub][Nsub, Npointings, Nstk]\n",
    "print(TOD_list[0][0].shape)\n",
    "\n",
    "idet, isamples = 0, 0\n",
    "\n",
    "for i in range(len(nsub_list)):\n",
    "    plt.plot(nsub_list[i], np.mean(TOD_list[i], axis=0)[idet, isamples, 0], '.r', label=\"I\" if i==0 else \"\")\n",
    "    plt.plot(nsub_list[i], np.mean(TOD_list[i], axis=0)[idet, isamples, 1], 'xb', label=\"Q\" if i==0 else \"\")\n",
    "    plt.plot(nsub_list[i], np.mean(TOD_list[i], axis=0)[idet, isamples, 2], '.g', label=\"U\" if i==0 else \"\")\n",
    "plt.legend()\n",
    "plt.xlabel(\"Nsub\")\n",
    "plt.ylabel(\"TOD\")"
   ]
  },
  {
   "cell_type": "code",
   "execution_count": null,
   "metadata": {},
   "outputs": [],
   "source": [
    "### Sum detectors\n",
    "\n",
    "fig, ax = plt.subplots(1, 3, figsize=(15, 5))\n",
    "for i in range(len(nsub_list)):\n",
    "    ax[0].plot(nsub_list[i], np.sum(np.mean(TOD_list[i], axis=0), axis=0)[0, 0], '.r')\n",
    "    ax[1].plot(nsub_list[i], np.sum(np.mean(TOD_list[i], axis=0), axis=0)[0, 1], 'xb')\n",
    "    ax[2].plot(nsub_list[i], np.sum(np.mean(TOD_list[i], axis=0), axis=0)[0, 2], '.g')\n",
    "\n",
    "ax[0].set_title('Intensity')\n",
    "ax[1].set_title('Polarization Q')\n",
    "ax[2].set_title('Polarization U')\n",
    "for iax in range(ax.size):\n",
    "    ax[iax].set_xlabel('Nsub')\n",
    "    #ax[iax].set_yscale('log')\n",
    "ax[0].set_ylabel('TOD')\n",
    "fig.suptitle('TOD sum over detectors - One Time Sample')"
   ]
  },
  {
   "cell_type": "code",
   "execution_count": null,
   "metadata": {},
   "outputs": [],
   "source": [
    "### One detector\n",
    "\n",
    "idet = 0\n",
    "\n",
    "fig, ax = plt.subplots(1, 3, figsize=(15, 5))\n",
    "for i in range(len(nsub_list)):\n",
    "    ax[0].plot(nsub_list[i], np.mean(TOD_list[i], axis=0)[idet, 0, 0], '.r')\n",
    "    ax[1].plot(nsub_list[i], np.mean(TOD_list[i], axis=0)[idet, 0, 1], 'xb')\n",
    "    ax[2].plot(nsub_list[i], np.mean(TOD_list[i], axis=0)[idet, 0, 2], '.g')\n",
    "\n",
    "ax[0].set_title('Intensity')\n",
    "ax[1].set_title('Polarization Q')\n",
    "ax[2].set_title('Polarization U')\n",
    "for iax in range(ax.size):\n",
    "    ax[iax].set_xlabel('Nsub')\n",
    "    #ax[iax].set_yscale('log')\n",
    "ax[0].set_ylabel('TOD')\n",
    "fig.suptitle('TOD sum over detectors - One Time Sample')"
   ]
  },
  {
   "cell_type": "code",
   "execution_count": null,
   "metadata": {},
   "outputs": [],
   "source": [
    "### On the focal plane\n",
    "\n",
    "# Compute the position of the TES in the focal plane\n",
    "xTES, yTES, vertex = get_TEScoordinates_ONAFP(q)\n",
    "\n",
    "fig, axs = plt.subplots(3, len(nsub_list), figsize=(30,20))\n",
    "for i in range(len(nsub_list)):\n",
    "    scatter_plot_FP(q, xTES, yTES, np.mean(TOD_list[i], axis=0)[:, 0, 0], frame='ONAFP', s=150, title=f'I - Nsub = {nsub_list[i]}', fig=fig, ax = axs[0][i], unit=None, cbar = True)\n",
    "    scatter_plot_FP(q, xTES, yTES, np.mean(TOD_list[i], axis=0)[:, 0, 1], frame='ONAFP', s=150, title=f'Q - Nsub = {nsub_list[i]}', fig=fig, ax = axs[1, i], unit=None, cbar = True)\n",
    "    scatter_plot_FP(q, xTES, yTES, np.mean(TOD_list[i], axis=0)[:, 0, 2], frame='ONAFP', s=150, title=f'U - Nsub = {nsub_list[i]}', fig=fig, ax = axs[2, i], unit=None, cbar = True)\n",
    "\n",
    "fig.suptitle(\"TOD at one time sample on the focal plane\", fontsize=20)"
   ]
  },
  {
   "cell_type": "code",
   "execution_count": null,
   "metadata": {},
   "outputs": [],
   "source": [
    "### On the focal plane\n",
    "\n",
    "fig, axs = plt.subplots(3, len(nsub_list), figsize=(30,20))\n",
    "for i in range(1, len(nsub_list)):\n",
    "    scatter_plot_FP(q, xTES, yTES, np.mean(TOD_list[i], axis=0)[:, 0, 0] - np.mean(TOD_list[i], axis=0)[:, 0, 0], frame='ONAFP', s=150, title=f'I - Nsub = {nsub_list[i]}', fig=fig, ax = axs[0][i], unit=None, cbar = True)\n",
    "    scatter_plot_FP(q, xTES, yTES, np.mean(TOD_list[i], axis=0)[:, 0, 0] - np.mean(TOD_list[i], axis=0)[:, 0, 1], frame='ONAFP', s=150, title=f'Q - Nsub = {nsub_list[i]}', fig=fig, ax = axs[1, i], unit=None, cbar = True)\n",
    "    scatter_plot_FP(q, xTES, yTES, np.mean(TOD_list[i], axis=0)[:, 0, 0] - np.mean(TOD_list[i], axis=0)[:, 0, 2], frame='ONAFP', s=150, title=f'U - Nsub = {nsub_list[i]}', fig=fig, ax = axs[2, i], unit=None, cbar = True)\n",
    "\n",
    "fig.suptitle(\"Difference with TOD Nsub = 10 on the focal plane\", fontsize=20)"
   ]
  },
  {
   "cell_type": "code",
   "execution_count": null,
   "metadata": {},
   "outputs": [],
   "source": [
    "### All detectors\n",
    "for i in range(len(nsub_list)):\n",
    "    for j in range(992):\n",
    "        plt.plot(nsub_list[i], np.sum(TOD_list[i], axis=0)[j, 0, 0], '.r')\n",
    "\n",
    "\n",
    "plt.xlabel('Nsub')\n",
    "plt.ylabel('TOD')\n",
    "plt.title('TOD  for all detectors - One Time Sample - Intensity')"
   ]
  },
  {
   "cell_type": "code",
   "execution_count": null,
   "metadata": {},
   "outputs": [],
   "source": [
    "for i in range(len(nsub_list)):\n",
    "    for j in range(len(TOD_list[i])):\n",
    "        plt.plot(nsub_list[i], TOD_list[i][j][0, 0, 0], '.r', label=\"I\" if (i==0 and j==0) else \"\")\n",
    "        plt.plot(nsub_list[i], TOD_list[i][j][0, 0, 1], 'xb', label=\"Q\" if (i==0 and j==0) else \"\")\n",
    "        plt.plot(nsub_list[i], TOD_list[i][j][0, 0, 2], '.g', label=\"U\" if (i==0 and j==0) else \"\")\n",
    "plt.legend()\n",
    "plt.xlabel(\"Nsub\")\n",
    "plt.ylabel(\"TOD\")"
   ]
  },
  {
   "cell_type": "code",
   "execution_count": null,
   "metadata": {},
   "outputs": [],
   "source": []
  },
  {
   "cell_type": "code",
   "execution_count": null,
   "metadata": {},
   "outputs": [],
   "source": []
  },
  {
   "cell_type": "markdown",
   "metadata": {},
   "source": [
    "# Plot sub-TODs"
   ]
  },
  {
   "cell_type": "code",
   "execution_count": null,
   "metadata": {},
   "outputs": [],
   "source": [
    "# Plot of the TOD, taking the mean over the detectors\n",
    "\n",
    "for i in range(nsub):\n",
    "    plt.plot(acq.allnus[i], np.mean(tod[i][:, 0, 0]), '.r', label=\"I\" if i==0 else \"\")\n",
    "    plt.plot(acq.allnus[i], np.mean(tod[i][:, 0, 1]), 'xb', label=\"Q\" if i==0 else \"\")\n",
    "    plt.plot(acq.allnus[i], np.mean(tod[i][:, 0, 2]), '.g', label=\"U\" if i==0 else \"\")\n",
    "plt.legend()\n",
    "plt.xlabel(\"Frequency [GHz]\")\n",
    "plt.ylabel(r\"$P_{roj}(map)$\")\n",
    "plt.title(\"TODs\")\n",
    "plt.show()\n",
    "\n",
    "plt.figure()\n",
    "plt.title(\"Zoom on Polarisation\")\n",
    "for i in range(nsub):\n",
    "    plt.plot(acq.allnus[i], np.mean(tod[i][:, 0, 1]), 'xb', label=\"Q\" if i==0 else \"\")\n",
    "    plt.plot(acq.allnus[i], np.mean(tod[i][:, 0, 2]), '.g', label=\"U\" if i==0 else \"\")\n",
    "plt.legend()\n",
    "plt.xlabel(\"Frequency [GHz]\")\n",
    "plt.ylabel(r\"$P_{roj}(map)$\")"
   ]
  },
  {
   "cell_type": "code",
   "execution_count": null,
   "metadata": {},
   "outputs": [],
   "source": [
    "for i in range(nsub):\n",
    "    plt.plot(Proj_list[i].matrix.data.r11[0], '.r', label=\"A\" if i==0 else \"\")\n",
    "    plt.plot(Proj_list[i].matrix.data.r22[0], 'xb', label=r\"$A\\cos(2\\alpha)$\" if i==0 else \"\")\n",
    "    plt.plot(Proj_list[i].matrix.data.r32[0], '.g', label=r\"$-A\\sin(2\\alpha)$\" if i==0 else \"\")\n",
    "plt.legend()\n",
    "plt.xlabel('Peak index')\n",
    "plt.ylabel('Projection matrix element')\n",
    "\n",
    "plt.figure()\n",
    "colors = plt.cm.viridis(np.linspace(0, 1, nsub))\n",
    "for i in range(nsub):\n",
    "    for ipeak in range((2*dict_qubic['synthbeam_kmax']+1)**2):\n",
    "        plt.scatter(ipeak, Proj_list[i].matrix.data.r11[0, ipeak], c=colors[i], marker = '.', label=\"A\" if (i==0 and ipeak == 0) else \"\")\n",
    "        plt.scatter(ipeak, Proj_list[i].matrix.data.r22[0, ipeak], c=colors[i], marker = 'x', label=r\"$A\\cos(2\\alpha)$\" if (i==0 and ipeak == 0) else \"\")\n",
    "        plt.scatter(ipeak, Proj_list[i].matrix.data.r32[0, ipeak], c=colors[i], marker = 'o', label=r\"$-A\\sin(2\\alpha)$\" if (i==0 and ipeak == 0) else \"\")\n",
    "plt.legend()\n",
    "plt.colorbar()  # Add colorbar\n",
    "plt.xlabel('Peak index')\n",
    "plt.ylabel('Projection matrix element')"
   ]
  },
  {
   "cell_type": "code",
   "execution_count": null,
   "metadata": {},
   "outputs": [],
   "source": [
    "import matplotlib as mpl\n",
    "\n",
    "fig, ax = plt.subplots()\n",
    "\n",
    "cmap = plt.cm.jet\n",
    "norm = mpl.colors.Normalize(vmin=np.min(acq.allnus[:nsub]), vmax=np.max(acq.allnus[:nsub]))\n",
    "colors = cmap(norm(acq.allnus[:nsub]))\n",
    "\n",
    "for i in range(nsub):\n",
    "    for ipeak in range((2 * dict_qubic['synthbeam_kmax'] + 1) ** 2):\n",
    "        ax.scatter(ipeak, Proj_list[i].matrix.data.r11[0, ipeak],\n",
    "                   color=colors[i],\n",
    "                   marker='.',\n",
    "                   label=\"A\" if (i == 0 and ipeak == 0) else \"\")\n",
    "        ax.scatter(ipeak, Proj_list[i].matrix.data.r22[0, ipeak],\n",
    "                   color=colors[i],\n",
    "                   marker='x',\n",
    "                   label=r\"$A\\cos(2\\alpha)$\" if (i == 0 and ipeak == 0) else \"\")\n",
    "        ax.scatter(ipeak, Proj_list[i].matrix.data.r32[0, ipeak],\n",
    "                   color=colors[i],\n",
    "                   marker='^',\n",
    "                   label=r\"$-A\\sin(2\\alpha)$\" if (i == 0 and ipeak == 0) else \"\")\n",
    "\n",
    "ax.legend()\n",
    "ax.set_xlabel('Peak index')\n",
    "ax.set_ylabel('Projection matrix element')\n",
    "\n",
    "sm = mpl.cm.ScalarMappable(cmap=cmap, norm=norm)\n",
    "sm.set_array([]) \n",
    "\n",
    "cbar = fig.colorbar(sm, ax=ax)\n",
    "cbar.set_label('Frequency (GHz)')"
   ]
  },
  {
   "cell_type": "code",
   "execution_count": null,
   "metadata": {},
   "outputs": [],
   "source": [
    "base_colors = [(1, 0, 0), (0, 1, 0), (0, 0, 1)]\n",
    "\n",
    "color_variations = {0: [], 1: [], 2: []}\n",
    "for i in range(nsub):\n",
    "    factor = 0.5 + 0.5 * i / (nsub - 1)  # varies from 0.5 to 1\n",
    "    for idx, base in enumerate(base_colors):\n",
    "        varied_color = tuple(np.clip(np.array(base) * factor, 0, 1))\n",
    "        color_variations[idx].append(varied_color)\n",
    "\n",
    "plt.figure()\n",
    "\n",
    "for i in range(nsub):\n",
    "    for ipeak in range((2 * dict_qubic['synthbeam_kmax'] + 1) ** 2):\n",
    "        plt.scatter(ipeak, Proj_list[i].matrix.data.r11[0, ipeak],\n",
    "                    color=color_variations[0][i],\n",
    "                    label=\"A\" if (i == 0 and ipeak == 0) else \"\")\n",
    "        plt.scatter(ipeak, Proj_list[i].matrix.data.r22[0, ipeak],\n",
    "                    color=color_variations[1][i],\n",
    "                    label=r\"$A\\cos(2\\alpha)$\" if (i == 0 and ipeak == 0) else \"\")\n",
    "        plt.scatter(ipeak, Proj_list[i].matrix.data.r32[0, ipeak],\n",
    "                    color=color_variations[2][i],\n",
    "                    label=r\"$-A\\sin(2\\alpha)$\" if (i == 0 and ipeak == 0) else \"\")\n",
    "\n",
    "plt.legend()\n",
    "plt.xlabel('Peak Index')\n",
    "plt.ylabel('Projection matrix element')\n",
    "plt.title('Projection matrix elements for different sub-bands. The darker the color, the higher the frequency.')\n",
    "plt.show()"
   ]
  },
  {
   "cell_type": "markdown",
   "metadata": {},
   "source": [
    "# Relative difference between succesive sub-TODs"
   ]
  },
  {
   "cell_type": "markdown",
   "metadata": {},
   "source": [
    "## Mean on detectors"
   ]
  },
  {
   "cell_type": "code",
   "execution_count": null,
   "metadata": {},
   "outputs": [],
   "source": [
    "plt.figure()\n",
    "for i in range(nsub-1):\n",
    "    diff_I = np.abs((tod[i+1][:, 0, 0] - tod[i][:, 0, 0])/tod[i][:, 0, 0])\n",
    "    mean_diff_I = np.mean(diff_I)\n",
    "    plt.plot(acq.allnus[i], mean_diff_I, '.r', label=\"I\" if i==0 else \"\")\n",
    "    diff_Q = np.abs((tod[i+1][:, 0, 1] - tod[i][:, 0, 1])/tod[i][:, 0, 1])\n",
    "    mean_diff_Q = np.mean(diff_Q)\n",
    "    plt.plot(acq.allnus[i], mean_diff_Q, 'xb', label=\"Q\" if i==0 else \"\")\n",
    "    diff_U = np.abs((tod[i+1][:, 0, 2] - tod[i][:, 0, 2])/tod[i][:, 0, 2])\n",
    "    mean_diff_U = np.mean(diff_U)\n",
    "    plt.plot(acq.allnus[i], mean_diff_U, '.g', label=\"U\" if i==0 else \"\")\n",
    "    \n",
    "plt.title(r\"$H = \\mathcal{P}_{roj}$\")\n",
    "plt.ylabel(r'$\\frac{| H(map)^{i+1} - H(map)^i |}{| H(map)^{i} |}$', fontsize=15, labelpad=10)\n",
    "plt.xlabel('Frequency (GHz)')\n",
    "plt.legend()"
   ]
  },
  {
   "cell_type": "code",
   "execution_count": null,
   "metadata": {},
   "outputs": [],
   "source": [
    "# Intensity\n",
    "plt.figure()\n",
    "for i in range(nsub-1):\n",
    "    diff = np.abs((tod[i+1][:, 0, 0] - tod[i][:, 0, 0])/tod[i][:, 0, 0])\n",
    "    mean_diff = np.mean(diff)\n",
    "    plt.plot(acq.allnus[i], mean_diff, '.')\n",
    "    \n",
    "plt.title(r\"$H = \\mathcal{P}_{roj}$ - Intensity map\")\n",
    "plt.ylabel(r'$\\frac{| H(Imap)^{i+1} - H(Imap)^i |}{| H(Imap)^{i} |}$', fontsize=15, labelpad=10)\n",
    "plt.xlabel('Frequency (GHz)')"
   ]
  },
  {
   "cell_type": "code",
   "execution_count": null,
   "metadata": {},
   "outputs": [],
   "source": [
    "# Polarisation\n",
    "plt.figure()\n",
    "for i in range(nsub-1):\n",
    "    diff = np.abs((tod[i+1][:, 0, 1] - tod[i][:, 0, 1])/tod[i][:, 0, 1])\n",
    "    mean_diff = np.mean(diff)\n",
    "    plt.plot(acq.allnus[i], mean_diff, '.')\n",
    "    \n",
    "plt.title(r\"$H = \\mathcal{P}_{roj}$ - Q map\")\n",
    "plt.ylabel(r'$\\frac{| H(Qmap)^{i+1} - H(Qmap)^i |}{| H(Qmap)^{i} |}$', fontsize=15, labelpad=10)\n",
    "plt.xlabel('Frequency (GHz)')\n",
    "\n",
    "plt.figure()\n",
    "for i in range(nsub-1):\n",
    "    diff = np.abs((tod[i+1][:, 0, 2] - tod[i][:, 0, 2])/tod[i][:, 0, 2])\n",
    "    mean_diff = np.mean(diff)\n",
    "    plt.plot(acq.allnus[i], mean_diff, '.')\n",
    "    \n",
    "plt.title(r\"$H = \\mathcal{P}_{roj}$ - U map\")\n",
    "plt.ylabel(r'$\\frac{| H(Umap)^{i+1} - H(Umap)^i |}{| H(Umap)^{i} |}$', fontsize=15, labelpad=10)\n",
    "plt.xlabel('Frequency (GHz)')"
   ]
  },
  {
   "cell_type": "markdown",
   "metadata": {},
   "source": [
    "## For each detectors"
   ]
  },
  {
   "cell_type": "code",
   "execution_count": null,
   "metadata": {},
   "outputs": [],
   "source": [
    "plt.figure()\n",
    "\n",
    "# Range of detectors for which we want to plot the difference\n",
    "idet_min, idet_max = 200, 210\n",
    "\n",
    "for idet in range(idet_min, idet_max):\n",
    "    for i in range(nsub-1):\n",
    "        diff = (tod[i+1][idet, 0, 1] - tod[i][idet, 0, 1])/tod[i][idet, 0, 1] #np.abs((tod[i+1][idet, 0, 1] - tod[i][idet, 0, 1])/tod[i][idet, 0, 1])\n",
    "        plt.plot(acq.allnus[i], diff, '.b')\n",
    "        \n",
    "    plt.title(r\"$H = \\mathcal{P}_{roj}$ - Q map - \" + f'Detector index = {idet}')\n",
    "    plt.ylabel(r'$\\frac{ H(Qmap)^{i+1} - H(Qmap)^i }{ H(Qmap)^{i}}$', fontsize=15, labelpad=10)\n",
    "    plt.xlabel('Frequency (GHz)')\n",
    "    plt.show()"
   ]
  },
  {
   "cell_type": "markdown",
   "metadata": {},
   "source": [
    "# Relative difference on the focal plane"
   ]
  },
  {
   "cell_type": "markdown",
   "metadata": {},
   "source": [
    "Plot the difference between two successive tods, at a given time, on the focal plane. The polarisation case seems very strange with respect to the intensity case."
   ]
  },
  {
   "cell_type": "code",
   "execution_count": null,
   "metadata": {},
   "outputs": [],
   "source": [
    "# Compute the position of the TES in the focal plane\n",
    "xTES, yTES, vertex = get_TEScoordinates_ONAFP(q)"
   ]
  },
  {
   "cell_type": "code",
   "execution_count": null,
   "metadata": {},
   "outputs": [],
   "source": [
    "# Sub-bands indices for the comparison\n",
    "ind_a, ind_b = 3, 2\n",
    "\n",
    "# Intensity\n",
    "fig, ax = plt.subplots(figsize=(10, 10))\n",
    "relative_diff = (tod[ind_a]-tod[ind_b])/tod[ind_b]*100\n",
    "print(relative_diff.shape)\n",
    "scatter_plot_FP(q, xTES, yTES, np.mean(relative_diff[...,0], axis=1), frame='ONAFP', s=150, title=r'Intensity map - $\\frac{ \\mathcal{P}_{roj}(Imap)^{n+1} - \\mathcal{P}_{roj}(Imap)^{n} }{ \\mathcal{P}_{roj}(Imap)^{n} } x 100$', fig=fig, ax = ax, unit='%')"
   ]
  },
  {
   "cell_type": "code",
   "execution_count": null,
   "metadata": {},
   "outputs": [],
   "source": [
    "# Polarisation Q\n",
    "fig, ax = plt.subplots(figsize=(10, 10))\n",
    "relative_diff = (np.abs(tod[ind_a]-tod[ind_b]))/tod[ind_b]*100\n",
    "scatter_plot_FP(q, xTES, yTES, relative_diff[:, 0, 1], frame='ONAFP', s=150, title=r'Q map - $\\frac{ \\mathcal{P}_{roj}(Qmap)^{n+1} - \\mathcal{P}_{roj}(Qmap)^{n} }{ \\mathcal{P}_{roj}(Qmap)^{n} } x 100$', fig=fig, ax = ax, unit='%')"
   ]
  },
  {
   "cell_type": "code",
   "execution_count": null,
   "metadata": {},
   "outputs": [],
   "source": [
    "# Polarisation U\n",
    "fig, ax = plt.subplots(figsize=(10, 10))\n",
    "relative_diff = (tod[ind_a]-tod[ind_b])/tod[ind_b]*100\n",
    "scatter_plot_FP(q, xTES, yTES, relative_diff[:, 0, 2], frame='ONAFP', s=150, title=r'U map - $\\frac{ \\mathcal{P}_{roj}(Umap)^{n+1} - \\mathcal{P}_{roj}(Umap)^{n} }{ \\mathcal{P}_{roj}(Umap)^{n} } x 100$', fig=fig, ax = ax, unit='%')"
   ]
  },
  {
   "cell_type": "markdown",
   "metadata": {},
   "source": [
    "# Peak Amplitude evolution with frequency"
   ]
  },
  {
   "cell_type": "markdown",
   "metadata": {},
   "source": [
    "P.matrix.data is build such that you have all the points for the same detector at all the different time samples, then the next detector at all the different time samples, etc."
   ]
  },
  {
   "cell_type": "code",
   "execution_count": null,
   "metadata": {},
   "outputs": [],
   "source": [
    "# Indices to compute the amplitude of peaks\n",
    "peak_index = 0\n",
    "N_sample = 0\n",
    "time_index = 0\n",
    "det_index = 203\n",
    "\n",
    "# Plot the amplitude of the peak for each sub-band\n",
    "for peak_index in range((2*dict_qubic['synthbeam_kmax']+1)**2 - 1):\n",
    "    plt.figure()\n",
    "    peak_amplitude = []\n",
    "    for i in range(nsub):\n",
    "        peak_amplitude.append(Proj_list[i].matrix.data.r11[(det_index*N_sample)+time_index, peak_index])\n",
    "\n",
    "    plt.plot(acq.allnus[:nsub], peak_amplitude)\n",
    "    plt.xlabel(\"Frequency (GHz)\")\n",
    "    plt.ylabel(\"Peak Amplitude\")\n",
    "    plt.title(f\"Detector Index = {det_index} | Time Sample Index = {time_index} | Peak Index = {peak_index}\")\n",
    "    plt.show()"
   ]
  },
  {
   "cell_type": "markdown",
   "metadata": {},
   "source": [
    "# Comparing Primary and Synthesized Beams evolution with frequency"
   ]
  },
  {
   "cell_type": "code",
   "execution_count": null,
   "metadata": {},
   "outputs": [],
   "source": [
    "# Indices for the plot\n",
    "idet = 0\n",
    "N_sample = 0\n",
    "time_index = 0\n",
    "\n",
    "# Store the primary beam for each sub-band\n",
    "primbeam_frequencies = [acq.multiinstrument[i].primary_beam for i in range(nsub)]\n",
    "\n",
    "for ipeak in range((2*dict_qubic['synthbeam_kmax']+1)**2):\n",
    "    peak_amplitude = [] \n",
    "    fig, ax1 = plt.subplots()\n",
    "    for i in range(nsub):\n",
    "        # Sub-acquisition for the i-th sub-band\n",
    "        subacq_i = acq.subacqs[i]\n",
    "\n",
    "        # Compute the peaks position and ampplitude\n",
    "        th, ph, v = subacq_i.instrument._peak_angles(acq.scene, acq.allnus[i]*1e9, \n",
    "                                        subacq_i.instrument.detector.center,\n",
    "                                        subacq_i.instrument.synthbeam,\n",
    "                                        subacq_i.instrument.horn,\n",
    "                                        subacq_i.instrument.primary_beam)\n",
    "\n",
    "        # Plot the amplitude of the primary beam at peaks' position\n",
    "        ax1.plot(acq.allnus[i], primbeam_frequencies[i](th[idet, ipeak], ph[idet, ipeak]), '.b')\n",
    "        \n",
    "        # Store the amplitude of the peak\n",
    "        # Note: I checked that both gives the same result \n",
    "        peak_amplitude.append(v[idet, ipeak])\n",
    "        #peak_amplitude.append(Proj_list[i].matrix.data.r11[(idet*N_sample)+time_index, ipeak])\n",
    "\n",
    "    ax1.set_xlabel('Frequency (GHz)')\n",
    "    ax1.set_ylabel('Primary beam', color = 'blue')\n",
    "    ax1.set_title('Primary beam and peak amplitude at peak %d for detector %d' % (ipeak, idet))\n",
    "\n",
    "    ax2 = ax1.twinx()\n",
    "    ax2.plot(acq.allnus[:nsub], peak_amplitude, '.r')\n",
    "    ax2.set_ylabel(\"Peak Amplitude\", color = 'r')\n",
    "    plt.show()"
   ]
  },
  {
   "cell_type": "code",
   "execution_count": null,
   "metadata": {},
   "outputs": [],
   "source": []
  },
  {
   "cell_type": "code",
   "execution_count": null,
   "metadata": {},
   "outputs": [],
   "source": []
  },
  {
   "cell_type": "code",
   "execution_count": null,
   "metadata": {},
   "outputs": [],
   "source": []
  },
  {
   "cell_type": "code",
   "execution_count": null,
   "metadata": {},
   "outputs": [],
   "source": []
  },
  {
   "cell_type": "code",
   "execution_count": null,
   "metadata": {},
   "outputs": [],
   "source": []
  },
  {
   "cell_type": "code",
   "execution_count": null,
   "metadata": {},
   "outputs": [],
   "source": []
  },
  {
   "cell_type": "code",
   "execution_count": null,
   "metadata": {},
   "outputs": [],
   "source": []
  },
  {
   "cell_type": "code",
   "execution_count": null,
   "metadata": {},
   "outputs": [],
   "source": []
  },
  {
   "cell_type": "code",
   "execution_count": null,
   "metadata": {},
   "outputs": [],
   "source": []
  }
 ],
 "metadata": {
  "kernelspec": {
   "display_name": "venv-qubic",
   "language": "python",
   "name": "python3"
  },
  "language_info": {
   "codemirror_mode": {
    "name": "ipython",
    "version": 3
   },
   "file_extension": ".py",
   "mimetype": "text/x-python",
   "name": "python",
   "nbconvert_exporter": "python",
   "pygments_lexer": "ipython3",
   "version": "3.9.18"
  }
 },
 "nbformat": 4,
 "nbformat_minor": 2
}
