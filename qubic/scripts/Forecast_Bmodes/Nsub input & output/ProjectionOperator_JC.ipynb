{
 "cells": [
  {
   "cell_type": "code",
   "execution_count": null,
   "metadata": {},
   "outputs": [],
   "source": [
    "import numpy as np\n",
    "import matplotlib.pyplot as plt\n",
    "import healpy as hp\n",
    "\n",
    "from pyoperators import MPI\n",
    "\n",
    "import qubic\n",
    "from qubic.lib.Qdictionary import qubicDict\n",
    "from qubic.lib.Calibration.Qselfcal import scatter_plot_FP, get_TEScoordinates_ONAFP\n",
    "from qubic.lib.Instrument.Qinstrument import QubicInstrument\n",
    "from qubic.lib.Instrument.Qacquisition import QubicMultiAcquisitions\n",
    "from qubic.lib.Qsamplings import get_pointing"
   ]
  },
  {
   "cell_type": "code",
   "execution_count": null,
   "metadata": {},
   "outputs": [],
   "source": [
    "nside = 128"
   ]
  },
  {
   "cell_type": "markdown",
   "metadata": {},
   "source": [
    "# Initialize QUBIC instance"
   ]
  },
  {
   "cell_type": "markdown",
   "metadata": {},
   "source": [
    "Build the QUBIC dictionary, mandatory to use the QUBIC functions"
   ]
  },
  {
   "cell_type": "code",
   "execution_count": null,
   "metadata": {},
   "outputs": [],
   "source": [
    "def get_dict(comm, key='in'):\n",
    "    \"\"\"QUBIC dictionary.\n",
    "\n",
    "    Method to modify the qubic dictionary.\n",
    "\n",
    "    Parameters\n",
    "    ----------\n",
    "    key : str, optional\n",
    "        Can be \"in\" or \"out\".\n",
    "        It is used to build respectively the instances to generate the TODs or to reconstruct the sky maps,\n",
    "        by default \"in\".\n",
    "\n",
    "    Returns\n",
    "    -------\n",
    "    dict_qubic: dict\n",
    "        Modified QUBIC dictionary.\n",
    "\n",
    "    \"\"\"\n",
    "\n",
    "    args = {\n",
    "        \"npointings\": 1,\n",
    "        \"nf_recon\": 2,\n",
    "        \"nf_sub\": 20,\n",
    "        \"nside\": nside,\n",
    "        \"MultiBand\": True,\n",
    "        \"period\": 1,\n",
    "        \"RA_center\": 0,\n",
    "        \"DEC_center\": -57,\n",
    "        \"filter_nu\": 150 * 1e9,\n",
    "        \"noiseless\": True,\n",
    "        \"comm\": comm,\n",
    "        \"dtheta\": 15,\n",
    "        \"nprocs_sampling\": 1,\n",
    "        \"nprocs_instrument\": comm.Get_size(),\n",
    "        \"photon_noise\": False,\n",
    "        \"nhwp_angles\": 1,\n",
    "        \"effective_duration150\": 3,\n",
    "        \"effective_duration220\": 3,\n",
    "        \"filter_relative_bandwidth\": 0.25,\n",
    "        \"type_instrument\": \"two\",\n",
    "        \"TemperatureAtmosphere150\": None,\n",
    "        \"TemperatureAtmosphere220\": None,\n",
    "        \"EmissivityAtmosphere150\": None,\n",
    "        \"EmissivityAtmosphere220\": None,\n",
    "        \"detector_nep\": float(4.7e-17),\n",
    "        \"synthbeam_kmax\": 2,\n",
    "        \"synthbeam_fraction\": 1,\n",
    "        \"beam_shape\": \"gaussian\",\n",
    "        \"debug\":False,\n",
    "        \"kind\": \"IQU\",\n",
    "    }\n",
    "\n",
    "    ### Get the default dictionary\n",
    "    dictfilename = \"dicts/pipeline_demo.dict\"\n",
    "    dict_qubic = qubicDict()\n",
    "    dict_qubic.read_from_file(dictfilename)\n",
    "\n",
    "    for i in args.keys():\n",
    "\n",
    "        dict_qubic[str(i)] = args[i]\n",
    "\n",
    "    return dict_qubic"
   ]
  },
  {
   "cell_type": "code",
   "execution_count": null,
   "metadata": {},
   "outputs": [],
   "source": [
    "# Build MPI communicator and qubic dict\n",
    "comm = MPI.COMM_WORLD\n",
    "dict_qubic = get_dict(comm)"
   ]
  },
  {
   "cell_type": "code",
   "execution_count": null,
   "metadata": {},
   "outputs": [],
   "source": [
    "# Build scanning strategy\n",
    "sampling = get_pointing(dict_qubic)\n",
    "\n",
    "# Build QubicInstrument\n",
    "q = QubicInstrument(dict_qubic)"
   ]
  },
  {
   "cell_type": "code",
   "execution_count": null,
   "metadata": {},
   "outputs": [],
   "source": [
    "# Number of sub-acquisitions\n",
    "nsub = 10"
   ]
  },
  {
   "cell_type": "code",
   "execution_count": null,
   "metadata": {},
   "outputs": [],
   "source": [
    "# Initialize the Qubic multi-frequency acquisition\n",
    "# I multiply by 2 Nsub to have Nsub bands in each band, the rest of the code will only use the first Nsub bands (meaning the ones in the 150 GHz band)\n",
    "acq = QubicMultiAcquisitions(dict_qubic, nsub*2, 2, sampling=sampling)\n",
    "\n",
    "# Build a list that contains all sub-ProjectionOperators, meaning the ProjectionOperators for each sub-bands\n",
    "Proj_list = []\n",
    "for i in range(nsub):\n",
    "    Proj_list.append(acq.subacqs[i].get_projection_operator())"
   ]
  },
  {
   "cell_type": "markdown",
   "metadata": {},
   "source": [
    "# Build TOD"
   ]
  },
  {
   "cell_type": "code",
   "execution_count": null,
   "metadata": {},
   "outputs": [],
   "source": [
    "# Create uniform maps of \"1\"\n",
    "input_maps = np.ones((nsub, hp.nside2npix(nside), 3))\n",
    "\n",
    "# Build the list of sub-TODs\n",
    "tod = []\n",
    "for i in range(nsub):\n",
    "    tod.append(Proj_list[i](input_maps[i]))"
   ]
  },
  {
   "cell_type": "code",
   "execution_count": null,
   "metadata": {},
   "outputs": [],
   "source": [
    "print(\"Number of sub-TODs: \", len(tod))\n",
    "print(\"sub-TODs shape: \", tod[0].shape, \" = (Ndet, Nsample, Nstk)\")"
   ]
  },
  {
   "cell_type": "markdown",
   "metadata": {},
   "source": [
    "# Relative difference between succesive sub-TODs"
   ]
  },
  {
   "cell_type": "markdown",
   "metadata": {},
   "source": [
    "## Mean on detectors"
   ]
  },
  {
   "cell_type": "code",
   "execution_count": null,
   "metadata": {},
   "outputs": [],
   "source": [
    "# Intensity\n",
    "plt.figure()\n",
    "for i in range(nsub-1):\n",
    "    diff = np.abs((tod[i+1][:, 0, 0] - tod[i][:, 0, 0])/tod[i][:, 0, 0])\n",
    "    mean_diff = np.mean(diff)\n",
    "    plt.plot(acq.allnus[i], mean_diff, '.')\n",
    "    \n",
    "plt.title(r\"$H = \\mathcal{P}_{roj}$ - Intensity map\")\n",
    "plt.ylabel(r'$\\frac{| H(Imap)^{i+1} - H(Imap)^i |}{| H(Imap)^{i} |}$', fontsize=15, labelpad=10)\n",
    "plt.xlabel('Frequency (GHz)')"
   ]
  },
  {
   "cell_type": "code",
   "execution_count": null,
   "metadata": {},
   "outputs": [],
   "source": [
    "# Polarisation\n",
    "plt.figure()\n",
    "for i in range(nsub-1):\n",
    "    diff = np.abs((tod[i+1][:, 0, 1] - tod[i][:, 0, 1])/tod[i][:, 0, 1])\n",
    "    mean_diff = np.mean(diff)\n",
    "    plt.plot(acq.allnus[i], mean_diff, '.')\n",
    "    \n",
    "plt.title(r\"$H = \\mathcal{P}_{roj}$ - Q map\")\n",
    "plt.ylabel(r'$\\frac{| H(Qmap)^{i+1} - H(Qmap)^i |}{| H(Qmap)^{i} |}$', fontsize=15, labelpad=10)\n",
    "plt.xlabel('Frequency (GHz)')"
   ]
  },
  {
   "cell_type": "markdown",
   "metadata": {},
   "source": [
    "## For each detectors"
   ]
  },
  {
   "cell_type": "code",
   "execution_count": null,
   "metadata": {},
   "outputs": [],
   "source": [
    "plt.figure()\n",
    "\n",
    "# Range of detectors for which we want to plot the difference\n",
    "idet_min, idet_max = 200, 210\n",
    "\n",
    "for idet in range(idet_min, idet_max):\n",
    "    for i in range(nsub-1):\n",
    "        diff = (tod[i+1][idet, 0, 1] - tod[i][idet, 0, 1])/tod[i][idet, 0, 1] #np.abs((tod[i+1][idet, 0, 1] - tod[i][idet, 0, 1])/tod[i][idet, 0, 1])\n",
    "        plt.plot(acq.allnus[i], diff, '.b')\n",
    "        \n",
    "    plt.title(r\"$H = \\mathcal{P}_{roj}$ - Q map - \" + f'Detector index = {idet}')\n",
    "    plt.ylabel(r'$\\frac{ H(Qmap)^{i+1} - H(Qmap)^i }{ H(Qmap)^{i}}$', fontsize=15, labelpad=10)\n",
    "    plt.xlabel('Frequency (GHz)')\n",
    "    plt.show()"
   ]
  },
  {
   "cell_type": "markdown",
   "metadata": {},
   "source": [
    "# Relative difference on the focal plane"
   ]
  },
  {
   "cell_type": "markdown",
   "metadata": {},
   "source": [
    "Plot the difference between two successive tods, at a given time, on the focal plane. The polarisation case seems very strange with respect to the intensity case."
   ]
  },
  {
   "cell_type": "code",
   "execution_count": null,
   "metadata": {},
   "outputs": [],
   "source": [
    "# Compute the position of the TES in the focal plane\n",
    "xTES, yTES, vertex = get_TEScoordinates_ONAFP(q)"
   ]
  },
  {
   "cell_type": "code",
   "execution_count": null,
   "metadata": {},
   "outputs": [],
   "source": [
    "# Sub-bands indices for the comparison\n",
    "ind_a, ind_b = 3, 2\n",
    "\n",
    "# Intensity\n",
    "fig, ax = plt.subplots(figsize=(10, 10))\n",
    "relative_diff = (tod[ind_a]-tod[ind_b])/tod[ind_b]*100\n",
    "print(relative_diff.shape)\n",
    "scatter_plot_FP(q, xTES, yTES, np.mean(relative_diff[...,0], axis=1), frame='ONAFP', s=150, title=r'Intensity map - $\\frac{ \\mathcal{P}_{roj}(Imap)^{n+1} - \\mathcal{P}_{roj}(Imap)^{n} }{ \\mathcal{P}_{roj}(Imap)^{n} } x 100$', fig=fig, ax = ax, unit='%')"
   ]
  },
  {
   "cell_type": "code",
   "execution_count": null,
   "metadata": {},
   "outputs": [],
   "source": [
    "# Polarisation Q\n",
    "fig, ax = plt.subplots(figsize=(10, 10))\n",
    "relative_diff = (tod[ind_a]-tod[ind_b])/tod[ind_b]*100\n",
    "scatter_plot_FP(q, xTES, yTES, relative_diff[:, 0, 1], frame='ONAFP', s=150, title=r'Q map - $\\frac{ \\mathcal{P}_{roj}(Qmap)^{n+1} - \\mathcal{P}_{roj}(Qmap)^{n} }{ \\mathcal{P}_{roj}(Qmap)^{n} } x 100$', fig=fig, ax = ax, unit='%')"
   ]
  },
  {
   "cell_type": "code",
   "execution_count": null,
   "metadata": {},
   "outputs": [],
   "source": [
    "# Polarisation U\n",
    "fig, ax = plt.subplots(figsize=(10, 10))\n",
    "relative_diff = (tod[ind_a]-tod[ind_b])/tod[ind_b]*100\n",
    "scatter_plot_FP(q, xTES, yTES, relative_diff[:, 0, 2], frame='ONAFP', s=150, title=r'U map - $\\frac{ \\mathcal{P}_{roj}(Umap)^{n+1} - \\mathcal{P}_{roj}(Umap)^{n} }{ \\mathcal{P}_{roj}(Umap)^{n} } x 100$', fig=fig, ax = ax, unit='%')"
   ]
  },
  {
   "cell_type": "markdown",
   "metadata": {},
   "source": [
    "# Peak Amplitude evolution with frequency"
   ]
  },
  {
   "cell_type": "markdown",
   "metadata": {},
   "source": [
    "P.matrix.data is build such that you have all the points for the same detector at all the different time samples, then the next detector at all the different time samples, etc."
   ]
  },
  {
   "cell_type": "code",
   "execution_count": null,
   "metadata": {},
   "outputs": [],
   "source": [
    "# Indices to compute the amplitude of peaks\n",
    "peak_index = 0\n",
    "N_sample = 0\n",
    "time_index = 0\n",
    "det_index = 23\n",
    "\n",
    "# Plot the amplitude of the peak for each sub-band\n",
    "for peak_index in range((2*dict_qubic['synthbeam_kmax']+1)**2):\n",
    "    plt.figure()\n",
    "    peak_amplitude = []\n",
    "    for i in range(nsub):\n",
    "        peak_amplitude.append(Proj_list[i].matrix.data.r11[(det_index*N_sample)+time_index, peak_index])\n",
    "\n",
    "    plt.plot(acq.allnus[:nsub], peak_amplitude)\n",
    "    plt.xlabel(\"Frequency (GHz)\")\n",
    "    plt.ylabel(\"Peak Amplitude\")\n",
    "    plt.title(f\"Detector Index = {det_index} | Time Sample Index = {time_index} | Peak Index = {peak_index}\")\n",
    "    plt.show()"
   ]
  },
  {
   "cell_type": "markdown",
   "metadata": {},
   "source": [
    "# Comparing Primary and Synthesized Beams evolution with frequency"
   ]
  },
  {
   "cell_type": "code",
   "execution_count": null,
   "metadata": {},
   "outputs": [],
   "source": [
    "# Indices for the plot\n",
    "idet = 0\n",
    "N_sample = 0\n",
    "time_index = 0\n",
    "\n",
    "# Store the primary beam for each sub-band\n",
    "primbeam_frequencies = [acq.multiinstrument[i].primary_beam for i in range(nsub)]\n",
    "\n",
    "for ipeak in range((2*dict_qubic['synthbeam_kmax']+1)**2):\n",
    "    peak_amplitude = [] \n",
    "    fig, ax1 = plt.subplots()\n",
    "    for i in range(nsub):\n",
    "        # Sub-acquisition for the i-th sub-band\n",
    "        subacq_i = acq.subacqs[i]\n",
    "\n",
    "        # Compute the peaks position and ampplitude\n",
    "        th, ph, v = subacq_i.instrument._peak_angles(acq.scene, acq.allnus[i]*1e9, \n",
    "                                        subacq_i.instrument.detector.center,\n",
    "                                        subacq_i.instrument.synthbeam,\n",
    "                                        subacq_i.instrument.horn,\n",
    "                                        subacq_i.instrument.primary_beam)\n",
    "\n",
    "        # Plot the amplitude of the primary beam at peaks' position\n",
    "        ax1.plot(acq.allnus[i], primbeam_frequencies[i](th[idet, ipeak], ph[idet, ipeak]), '.b')\n",
    "        \n",
    "        # Store the amplitude of the peak\n",
    "        # Note: I checked that both gives the same result \n",
    "        peak_amplitude.append(v[idet, ipeak])\n",
    "        #peak_amplitude.append(Proj_list[i].matrix.data.r11[(idet*N_sample)+time_index, ipeak])\n",
    "\n",
    "    ax1.set_xlabel('Frequency (GHz)')\n",
    "    ax1.set_ylabel('Primary beam', color = 'blue')\n",
    "    ax1.set_title('Primary beam and peak amplitude at peak %d for detector %d' % (ipeak, idet))\n",
    "\n",
    "    ax2 = ax1.twinx()\n",
    "    ax2.plot(acq.allnus[:nsub], peak_amplitude, '.r')\n",
    "    ax2.set_ylabel(\"Peak Amplitude\", color = 'r')\n",
    "    plt.show()"
   ]
  },
  {
   "cell_type": "code",
   "execution_count": null,
   "metadata": {},
   "outputs": [],
   "source": []
  },
  {
   "cell_type": "code",
   "execution_count": null,
   "metadata": {},
   "outputs": [],
   "source": []
  },
  {
   "cell_type": "code",
   "execution_count": null,
   "metadata": {},
   "outputs": [],
   "source": []
  }
 ],
 "metadata": {
  "kernelspec": {
   "display_name": "venv-qubic",
   "language": "python",
   "name": "python3"
  },
  "language_info": {
   "codemirror_mode": {
    "name": "ipython",
    "version": 3
   },
   "file_extension": ".py",
   "mimetype": "text/x-python",
   "name": "python",
   "nbconvert_exporter": "python",
   "pygments_lexer": "ipython3",
   "version": "3.9.18"
  }
 },
 "nbformat": 4,
 "nbformat_minor": 2
}
