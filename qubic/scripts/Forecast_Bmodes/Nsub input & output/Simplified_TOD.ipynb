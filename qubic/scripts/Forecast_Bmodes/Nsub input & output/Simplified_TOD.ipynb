{
 "cells": [
  {
   "cell_type": "markdown",
   "metadata": {},
   "source": [
    "# **Goal** :\n",
    "This notebook aims at producing TOD in a very simplified manner : project the QUBIC beam on the sky, take the value of the pixel, and add it to the TOD. \n",
    "This simplified TOD production will be used to test the convergence issue of the TOD with Nsub, and in particular to test our hypothesis about the pixellisation effect."
   ]
  },
  {
   "cell_type": "markdown",
   "metadata": {},
   "source": [
    "# Importation"
   ]
  },
  {
   "cell_type": "code",
   "execution_count": null,
   "metadata": {},
   "outputs": [],
   "source": [
    "\n",
    "import numpy as np\n",
    "import matplotlib.pyplot as plt\n",
    "import healpy as hp\n",
    "\n",
    "from tqdm import tqdm\n",
    "\n",
    "from qubic.lib.Qdictionary import qubicDict\n",
    "from qubic.lib.Instrument.Qacquisition import QubicMultiAcquisitions, compute_freq\n",
    "from qubic.lib.Qsamplings import get_pointing, equ2gal\n",
    "from qubic.lib.Qscene import QubicScene\n",
    "from qubic.lib.MapMaking.FrequencyMapMaking.Qspectra_component import CMBModel\n",
    "\n",
    "from pysimulators.interfaces.healpy import HealpixConvolutionGaussianOperator\n",
    "\n",
    "%matplotlib inline"
   ]
  },
  {
   "cell_type": "code",
   "execution_count": null,
   "metadata": {},
   "outputs": [],
   "source": [
    "nside = 128\n",
    "\n",
    "nreal = 20"
   ]
  },
  {
   "cell_type": "markdown",
   "metadata": {},
   "source": [
    "# Initialize QUBIC instance"
   ]
  },
  {
   "cell_type": "markdown",
   "metadata": {},
   "source": [
    "Build the QUBIC dictionary, mandatory to use the QUBIC functions"
   ]
  },
  {
   "cell_type": "code",
   "execution_count": null,
   "metadata": {},
   "outputs": [],
   "source": [
    "# Build MPI communicator and qubic dict\n",
    "dictfilename = 'qubic/qubic/dicts/pipeline_demo.dict'\n",
    "d = qubicDict()\n",
    "d.read_from_file(dictfilename)\n",
    "\n",
    "center = equ2gal(d['RA_center'], d['DEC_center'])\n",
    "\n",
    "d['nf_recon'] = 2\n",
    "d['MultiBand'] = True\n",
    "d['nside'] = nside\n",
    "\n",
    "d['npointings'] = 20\n",
    "d['synthbeam_kmax'] = 1\n",
    "d['synthbeam_fraction'] = 1\n",
    "\n",
    "d['noiseless'] = True\n",
    "d['photon_noise'] = False\n",
    "d['use_synthbeam_fits_file'] = False"
   ]
  },
  {
   "cell_type": "code",
   "execution_count": null,
   "metadata": {},
   "outputs": [],
   "source": [
    "# Build scanning strategy\n",
    "sampling = get_pointing(d)\n",
    "\n",
    "# Build scene\n",
    "scene = QubicScene(d)"
   ]
  },
  {
   "cell_type": "code",
   "execution_count": null,
   "metadata": {},
   "outputs": [],
   "source": [
    "# Number of sub-acquisitions\n",
    "nsub_max = 84\n",
    "nsub_list = np.arange(4, nsub_max + 1, 8)"
   ]
  },
  {
   "cell_type": "code",
   "execution_count": null,
   "metadata": {},
   "outputs": [],
   "source": [
    "# Build acquisition operator\n",
    "Qacq = QubicMultiAcquisitions(d, 4, 2, sampling=sampling)\n",
    "\n",
    "# Use Qacq to save the userful parameters\n",
    "horn_spacing = Qacq.multiinstrument[0].horn.spacing\n",
    "horn_angle = Qacq.multiinstrument[0].horn.angle\n",
    "detectors_position =  Qacq.multiinstrument[0].detector.center\n",
    "\n",
    "# Build the synthesised beam resolution\n",
    "fwhm_synthbeam150 = Qacq.multiinstrument[0].synthbeam.peak150.fwhm"
   ]
  },
  {
   "cell_type": "markdown",
   "metadata": {},
   "source": [
    "# Compute peaks position on the sky & Build TOD from them"
   ]
  },
  {
   "cell_type": "code",
   "execution_count": null,
   "metadata": {},
   "outputs": [],
   "source": [
    "nreal_tod_w_interp = []\n",
    "nreal_tod_wo_interp = []\n",
    "\n",
    "for ireal in range(nreal):\n",
    "    peaks_index_list = []\n",
    "    tod_list_wo_interp = []\n",
    "    tod_list_w_interp = []\n",
    "    freq_list = []\n",
    "    fwhm_list = []\n",
    "    bandwidth_list = []\n",
    "\n",
    "    # Build CMB map\n",
    "    cl_cmb = CMBModel(None).give_cl_cmb(r=0, Alens=1)\n",
    "    cmb_map = hp.synfast(cl_cmb, nside, new=True, verbose=False).T\n",
    "\n",
    "    for nsub in tqdm(nsub_list):\n",
    "        peaks_index = []\n",
    "        tod_w, tod_wo = [], []\n",
    "        \n",
    "        _, _, filter_nus150, deltas150, _, _ = compute_freq(\n",
    "                150, int(nsub / 2), relative_bandwidth=d[\"filter_relative_bandwidth\"], frequency_spacing=\"log\")\n",
    "        _, _, filter_nus220, deltas220, _, _ = compute_freq(\n",
    "                220, int(nsub / 2), relative_bandwidth=d[\"filter_relative_bandwidth\"], frequency_spacing=\"log\")\n",
    "        \n",
    "        nus = np.concatenate((filter_nus150, filter_nus220)) * 1e9\n",
    "        bandwidth = np.concatenate((deltas150, deltas220))\n",
    "        fwhm = fwhm_synthbeam150 * 150e9 / nus\n",
    "        for isub in range(nsub):\n",
    "            theta, phi = Qacq.multiinstrument[0]._peak_angles_kmax(\n",
    "                d['synthbeam_kmax'],\n",
    "                horn_spacing,\n",
    "                horn_angle,\n",
    "                nus[isub],\n",
    "                detectors_position,\n",
    "            )\n",
    "            # print('Frequency: ', nus[isub], 'Theta: ', theta, 'Phi: ', phi)\n",
    "\n",
    "            peaks_index.append(hp.ang2pix(nside, theta, phi))\n",
    "            ConvOp = HealpixConvolutionGaussianOperator(fwhm[isub])\n",
    "            \n",
    "            # I only take the intensity and then, I sum over the peaks values\n",
    "            value_interp = hp.get_interp_val((cmb_map[..., 0]), theta, phi, nest=True)\n",
    "            value = cmb_map[hp.ang2pix(nside, theta, phi)][..., 0]\n",
    "            \n",
    "            tod_w.append(np.sum(value_interp, axis = -1))\n",
    "            tod_wo.append(np.sum(value, axis = -1))\n",
    "            \n",
    "        peaks_index_list.append(np.array(peaks_index))\n",
    "        tod_list_w_interp.append(np.array(tod_w))\n",
    "        tod_list_wo_interp.append(np.array(tod_wo))\n",
    "        freq_list.append(nus/1e9)\n",
    "        fwhm_list.append(fwhm)\n",
    "        bandwidth_list.append(bandwidth)\n",
    "        \n",
    "    nreal_tod_w_interp.append(tod_list_w_interp)\n",
    "    nreal_tod_wo_interp.append(tod_list_wo_interp)\n",
    "    \n",
    "print(\"Shape nreal tod list : (Nreal), (len(nsub_list)), (nsub, npix)\")"
   ]
  },
  {
   "cell_type": "code",
   "execution_count": null,
   "metadata": {},
   "outputs": [],
   "source": [
    "# Plot the projection of the peaks on the sky\n",
    "test = np.zeros(hp.nside2npix(nside))\n",
    "\n",
    "for i in range(np.shape(peaks_index_list[-1])[0]):\n",
    "    test[peaks_index_list[-1][i, 0]] = i\n",
    "\n",
    "colors = plt.cm.jet(np.linspace(0, 1, nsub))\n",
    "hp.mollview(test, title=f\"Peaks pointing on the sky - Nside = {nside}\", cmap=plt.cm.colors.ListedColormap(colors), unit=\"Nsub index\")\n",
    "hp.gnomview(test, reso=15, rot=[0, 100], title=f\"Peaks pointing on the sky - Nside = {nside}\", cmap=plt.cm.colors.ListedColormap(colors), unit=\"Nsub index\")"
   ]
  },
  {
   "cell_type": "markdown",
   "metadata": {},
   "source": [
    "# Plot TOD"
   ]
  },
  {
   "cell_type": "code",
   "execution_count": null,
   "metadata": {},
   "outputs": [],
   "source": [
    "plt.figure(figsize=(10, 6))\n",
    "\n",
    "idet = 0\n",
    "ireal = 0\n",
    "\n",
    "for isub in range(len(nsub_list)):\n",
    "    color = plt.cm.jet(isub/len(nsub_list))\n",
    "    plt.plot(freq_list[isub], nreal_tod_w_interp[ireal][isub][:, idet], 'x', color=color, label=f\"Nsub = {nsub_list[isub]}\")\n",
    "    plt.hlines(np.mean(nreal_tod_w_interp[ireal][isub][:, idet]), xmin=131.25, xmax=245, color=color, linestyle='--', linewidth=1)\n",
    "    \n",
    "plt.title(f\"TOD - Nside = {nside} - Detector index = {idet} - Interpolated Sky = True\")\n",
    "plt.xlabel(\"Frequency (GHz)\")\n",
    "plt.ylabel(\"TOD\")\n",
    "plt.legend(bbox_to_anchor=(1.05, 1), loc='upper left')\n",
    "plt.xlim(131.25, 245)"
   ]
  },
  {
   "cell_type": "code",
   "execution_count": null,
   "metadata": {},
   "outputs": [],
   "source": [
    "plt.figure(figsize=(10, 6))\n",
    "\n",
    "idet = 0\n",
    "ireal = 0\n",
    "\n",
    "for isub in range(len(nsub_list)):\n",
    "    color = plt.cm.jet(isub/len(nsub_list))\n",
    "    plt.plot(freq_list[isub], nreal_tod_wo_interp[ireal][isub][:, idet], 'x', color=color, label=f\"Nsub = {nsub_list[isub]}\")\n",
    "    plt.hlines(np.mean(nreal_tod_wo_interp[ireal][isub][:, idet]), xmin=131.25, xmax=245, color=color, linestyle='--', linewidth=1)\n",
    "    \n",
    "plt.title(f\"TOD - Nside = {nside} - Detector index = {idet} - Interpolated Sky = False\")\n",
    "plt.xlabel(\"Frequency (GHz)\")\n",
    "plt.ylabel(\"TOD\")\n",
    "plt.legend(bbox_to_anchor=(1.05, 1), loc='upper left')\n",
    "plt.xlim(131.25, 245)"
   ]
  },
  {
   "cell_type": "code",
   "execution_count": null,
   "metadata": {},
   "outputs": [],
   "source": [
    "np.shape(nreal_tod_w_interp[0][0])"
   ]
  },
  {
   "cell_type": "markdown",
   "metadata": {},
   "source": [
    "Be careful, when I sum over the sub-tods, I have to multiply by the bandwidth of the sub-bands"
   ]
  },
  {
   "cell_type": "code",
   "execution_count": null,
   "metadata": {},
   "outputs": [],
   "source": [
    "rel_diff_w_list = []\n",
    "rel_diff_wo_list = []\n",
    "\n",
    "for ireal in range(nreal):\n",
    "    rel_diff_w, rel_diff_wo = [], []\n",
    "    for insub in range(len(nsub_list)):\n",
    "        rel_diff_w.append((np.sum(nreal_tod_w_interp[ireal][insub][:, idet]*bandwidth_list[insub], axis=0) - np.sum(nreal_tod_w_interp[ireal][-1][:, idet]*bandwidth_list[-1], axis=0)) / np.sum(nreal_tod_w_interp[ireal][-1][:, idet]*bandwidth_list[-1], axis=0))\n",
    "        rel_diff_wo.append((np.sum(nreal_tod_wo_interp[ireal][insub][:, idet]*bandwidth_list[insub], axis=0) - np.sum(nreal_tod_wo_interp[ireal][-1][:, idet]*bandwidth_list[-1], axis=0)) / np.sum(nreal_tod_wo_interp[ireal][-1][:, idet]*bandwidth_list[-1], axis=0))        \n",
    "    rel_diff_w_list.append(rel_diff_w)\n",
    "    rel_diff_wo_list.append(rel_diff_wo)"
   ]
  },
  {
   "cell_type": "code",
   "execution_count": null,
   "metadata": {},
   "outputs": [],
   "source": [
    "fig, (ax1, ax2) = plt.subplots(1, 2, figsize=(12, 5))\n",
    "\n",
    "for i in range(len(nsub_list)):    \n",
    "    ax1.plot(nsub_list[i], np.abs(np.sum(rel_diff_w_list, axis=0)[i]), '.r', label='With interpolation' if i == 0 else '')\n",
    "    ax2.plot(nsub_list[i], np.abs(np.sum(rel_diff_w_list, axis=0)[i]), '.r', label='With interpolation' if i == 0 else '')\n",
    "    \n",
    "    ax1.plot(nsub_list[i], np.abs(np.sum(rel_diff_wo_list, axis=0)[i]), '.b', label='Without interpolation' if i == 0 else '')\n",
    "    ax2.plot(nsub_list[i], np.abs(np.sum(rel_diff_wo_list, axis=0)[i]), '.b', label='Without interpolation' if i == 0 else '')\n",
    "\n",
    "for ax in [ax1, ax2]:\n",
    "    ax.set_xlabel('Nsub')\n",
    "    ax.set_ylabel(r'|$\\frac{H(map)^{max} - H(map)^{i}}{H(map)^{max}}$|')\n",
    "    ax.legend()\n",
    "\n",
    "ax2.set_yscale('log')\n",
    "fig.suptitle(f\"TODs' convergence - Average over {nreal} realisations - Nside = {nside}\")\n",
    "plt.tight_layout()\n",
    "plt.show()"
   ]
  }
 ],
 "metadata": {
  "kernelspec": {
   "display_name": "venv-qubic",
   "language": "python",
   "name": "python3"
  },
  "language_info": {
   "codemirror_mode": {
    "name": "ipython",
    "version": 3
   },
   "file_extension": ".py",
   "mimetype": "text/x-python",
   "name": "python",
   "nbconvert_exporter": "python",
   "pygments_lexer": "ipython3",
   "version": "3.9.18"
  }
 },
 "nbformat": 4,
 "nbformat_minor": 2
}
