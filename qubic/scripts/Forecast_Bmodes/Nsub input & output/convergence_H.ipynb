{
 "cells": [
  {
   "cell_type": "code",
   "execution_count": null,
   "metadata": {},
   "outputs": [],
   "source": [
    "import numpy as np\n",
    "import matplotlib.pyplot as plt\n",
    "import healpy as hp\n",
    "\n",
    "from qubic.lib.Qdictionary import qubicDict\n",
    "from qubic.lib.Instrument.Qacquisition import QubicMultiAcquisitions\n",
    "from qubic.lib.Qsamplings import get_pointing, equ2gal\n",
    "from qubic.lib.MapMaking.FrequencyMapMaking.Qspectra_component import CMBModel\n",
    "\n",
    "%matplotlib inline"
   ]
  },
  {
   "cell_type": "code",
   "execution_count": null,
   "metadata": {},
   "outputs": [],
   "source": [
    "nside = 128"
   ]
  },
  {
   "cell_type": "markdown",
   "metadata": {},
   "source": [
    "# Initialize QUBIC instance"
   ]
  },
  {
   "cell_type": "markdown",
   "metadata": {},
   "source": [
    "Build the QUBIC dictionary, mandatory to use the QUBIC functions"
   ]
  },
  {
   "cell_type": "code",
   "execution_count": null,
   "metadata": {},
   "outputs": [],
   "source": [
    "# Build MPI communicator and qubic dict\n",
    "dictfilename = 'qubic/qubic/dicts/pipeline_demo.dict'\n",
    "d = qubicDict()\n",
    "d.read_from_file(dictfilename)\n",
    "\n",
    "center = equ2gal(d['RA_center'], d['DEC_center'])\n",
    "\n",
    "d['nf_recon'] = 2\n",
    "d['MultiBand'] = True\n",
    "d['nside'] = nside\n",
    "\n",
    "d['npointings'] = 20\n",
    "d['synthbeam_kmax'] = 1\n",
    "nf_sub = d['nf_sub']\n",
    "d['synthbeam_fraction'] = 1\n",
    "\n",
    "d['noiseless'] = True\n",
    "d['photon_noise'] = False\n",
    "d['use_synthbeam_fits_file'] = False"
   ]
  },
  {
   "cell_type": "code",
   "execution_count": null,
   "metadata": {},
   "outputs": [],
   "source": [
    "d[\"interp_projection\"] = False"
   ]
  },
  {
   "cell_type": "code",
   "execution_count": null,
   "metadata": {},
   "outputs": [],
   "source": [
    "# Build scanning strategy\n",
    "sampling = get_pointing(d)"
   ]
  },
  {
   "cell_type": "code",
   "execution_count": null,
   "metadata": {},
   "outputs": [],
   "source": [
    "# Number of sub-acquisitions\n",
    "nsub_max = 54\n",
    "nsub_list = np.arange(4, nsub_max + 1, 10)"
   ]
  },
  {
   "cell_type": "code",
   "execution_count": null,
   "metadata": {},
   "outputs": [],
   "source": [
    "TOD_list = []\n",
    "freq_list = []\n",
    "maps_list = []\n",
    "\n",
    "np.random.seed(d['seed'])\n",
    "\n",
    "# Build CMB map\n",
    "cl_cmb = CMBModel(None).give_cl_cmb(r=0, Alens=1)\n",
    "cmb_map = hp.synfast(cl_cmb, nside, new=True, verbose=False).T\n",
    "\n",
    "for insub in nsub_list:\n",
    "    print(f\"Processing {insub} sub-acquisitions\")\n",
    "    input_maps = np.ones((insub, hp.nside2npix(nside), 3)) * cmb_map[None, ...]\n",
    "    \n",
    "    # Build acquisition operator\n",
    "    Qacq = QubicMultiAcquisitions(d, insub, 2, sampling=sampling)\n",
    "    \n",
    "    # Build TOD\n",
    "    tod = []\n",
    "    map_list = []\n",
    "    for i in range(insub):\n",
    "        tod.append(Qacq.H[i](input_maps[i]))\n",
    "        map_list.append(Qacq.H[i].T(tod[-1]))\n",
    "\n",
    "    TOD_list.append(np.sum(tod, axis=0))\n",
    "    maps_list.append(np.mean(map_list, axis=0))\n",
    "    freq_list.append(np.array(Qacq.allnus))"
   ]
  },
  {
   "cell_type": "code",
   "execution_count": null,
   "metadata": {},
   "outputs": [],
   "source": [
    "for i in range(nsub_list.size):\n",
    "    plt.plot(np.mean(TOD_list[i], axis=0), label=f\"Nsub = {nsub_list[i]}\")\n",
    "\n",
    "plt.title(\"Mean over detector\")\n",
    "plt.xlabel(\"Pointing\")\n",
    "plt.ylabel(\"TOD\")\n",
    "plt.legend(loc='best')"
   ]
  },
  {
   "cell_type": "code",
   "execution_count": null,
   "metadata": {},
   "outputs": [],
   "source": [
    "det_index = 200\n",
    "\n",
    "for i in range(nsub_list.size):\n",
    "    plt.plot(TOD_list[i][det_index], label=f\"Nsub = {nsub_list[i]}\")\n",
    "\n",
    "plt.title(f\"Detector {det_index}\")\n",
    "plt.xlabel(\"Pointing\")\n",
    "plt.ylabel(\"TOD\")\n",
    "plt.legend(loc='best')"
   ]
  },
  {
   "cell_type": "code",
   "execution_count": null,
   "metadata": {},
   "outputs": [],
   "source": [
    "fig, (ax1, ax2) = plt.subplots(1, 2, figsize=(12, 6))\n",
    "\n",
    "for i in range(len(TOD_list)):\n",
    "    rel_error = np.mean(np.abs((TOD_list[i] - TOD_list[-1]) / TOD_list[-1]))\n",
    "    \n",
    "    ax1.plot(nsub_list[i], rel_error, '.')\n",
    "    ax2.plot(nsub_list[i], rel_error, '.')\n",
    "\n",
    "ax1.set_xlabel('Nsub')\n",
    "ax1.set_ylabel(r'|$\\frac{H(map)^{max} - H(map)^{i}}{H(map)^{max}}$|')\n",
    "ax1.set_title('Convergence of H (linear scale)')\n",
    "\n",
    "ax2.set_xlabel('Nsub')\n",
    "ax2.set_ylabel(r'|$\\frac{H(map)^{max} - H(map)^{i}}{H(map)^{max}}$|')\n",
    "ax2.set_title('Convergence of H (log scale)')\n",
    "ax2.set_yscale('log')"
   ]
  },
  {
   "cell_type": "code",
   "execution_count": null,
   "metadata": {},
   "outputs": [],
   "source": [
    "fig, (ax1, ax2) = plt.subplots(1, 2, figsize=(12, 6))\n",
    "\n",
    "for i in range(len(TOD_list)):\n",
    "    rel_error = np.mean(np.abs((TOD_list[-1][:, 0] - TOD_list[i][:, 0]) / TOD_list[-1][:, 0]))\n",
    "    \n",
    "    ax1.plot(nsub_list[i], rel_error, '.')\n",
    "    ax2.plot(nsub_list[i], rel_error, '.')\n",
    "\n",
    "ax1.set_xlabel('Nsub')\n",
    "ax1.set_ylabel(r'|$\\frac{H(map)^{max} - H(map)^{i}}{H(map)^{max}}$|')\n",
    "ax1.set_title('Convergence of H (linear scale)')\n",
    "\n",
    "ax2.set_xlabel('Nsub')\n",
    "ax2.set_ylabel(r'|$\\frac{H(map)^{max} - H(map)^{i}}{H(map)^{max}}$|')\n",
    "ax2.set_title('Convergence of H (log scale)')\n",
    "ax2.set_yscale('log')"
   ]
  },
  {
   "cell_type": "code",
   "execution_count": null,
   "metadata": {},
   "outputs": [],
   "source": [
    "print(TOD_list[-1].shape)"
   ]
  },
  {
   "cell_type": "code",
   "execution_count": null,
   "metadata": {},
   "outputs": [],
   "source": [
    "plt.figure(figsize=(10,6))\n",
    "idet = 40\n",
    "for i in range(len(TOD_list)):\n",
    "    rel_error = np.mean(np.abs((TOD_list[-1][idet] - TOD_list[i][idet]) / TOD_list[-1][idet]))\n",
    "    \n",
    "    plt.plot(nsub_list[i], rel_error, '.')\n",
    "plt.xlabel('Number of subbands')\n",
    "plt.ylabel(r'|$\\frac{H(map)^{max} - H(map)^{i}}{H(map)^{max}}$|')\n",
    "plt.yscale('log')\n",
    "plt.legend()\n",
    "plt.title(f'Convergence with number of subbands - Nside {nside} - Interpolation {d[\"interp_projection\"]} - Detector {idet}')\n",
    "plt.show()"
   ]
  },
  {
   "cell_type": "code",
   "execution_count": null,
   "metadata": {},
   "outputs": [],
   "source": [
    "plt.figure(figsize=(10,6))\n",
    "for i in range(len(TOD_list)):\n",
    "    rel_error = np.mean(np.abs((TOD_list[-1] - TOD_list[i]) / TOD_list[-1]))\n",
    "    \n",
    "    plt.plot(nsub_list[i], rel_error, '.')\n",
    "plt.xlabel('Number of subbands')\n",
    "plt.ylabel(r'|$\\frac{H(map)^{max} - H(map)^{i}}{H(map)^{max}}$|')\n",
    "plt.yscale('log')\n",
    "plt.legend()\n",
    "plt.title(f'Convergence with number of subbands - Nside {nside} - Interpolation {d[\"interp_projection\"]}')\n",
    "plt.show()"
   ]
  }
 ],
 "metadata": {
  "kernelspec": {
   "display_name": "venv-qubic",
   "language": "python",
   "name": "python3"
  },
  "language_info": {
   "codemirror_mode": {
    "name": "ipython",
    "version": 3
   },
   "file_extension": ".py",
   "mimetype": "text/x-python",
   "name": "python",
   "nbconvert_exporter": "python",
   "pygments_lexer": "ipython3",
   "version": "3.9.18"
  }
 },
 "nbformat": 4,
 "nbformat_minor": 2
}
