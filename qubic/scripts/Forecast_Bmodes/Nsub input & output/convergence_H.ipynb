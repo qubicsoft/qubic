{
 "cells": [
  {
   "cell_type": "code",
   "execution_count": null,
   "metadata": {},
   "outputs": [],
   "source": [
    "import numpy as np\n",
    "import matplotlib.pyplot as plt\n",
    "import healpy as hp\n",
    "\n",
    "from pyoperators import MPI\n",
    "\n",
    "from qubic.lib.Qdictionary import qubicDict\n",
    "from qubic.lib.Calibration.Qselfcal import scatter_plot_FP, get_TEScoordinates_ONAFP\n",
    "from qubic.lib.Instrument.Qinstrument import QubicInstrument\n",
    "from qubic.lib.Instrument.Qacquisition import QubicMultiAcquisitions\n",
    "from qubic.lib.Qsamplings import get_pointing, equ2gal"
   ]
  },
  {
   "cell_type": "code",
   "execution_count": null,
   "metadata": {},
   "outputs": [],
   "source": [
    "nside = 128"
   ]
  },
  {
   "cell_type": "markdown",
   "metadata": {},
   "source": [
    "# Initialize QUBIC instance"
   ]
  },
  {
   "cell_type": "markdown",
   "metadata": {},
   "source": [
    "Build the QUBIC dictionary, mandatory to use the QUBIC functions"
   ]
  },
  {
   "cell_type": "code",
   "execution_count": null,
   "metadata": {},
   "outputs": [],
   "source": [
    "def get_dict(comm, key='in'):\n",
    "    \"\"\"QUBIC dictionary.\n",
    "\n",
    "    Method to modify the qubic dictionary.\n",
    "\n",
    "    Parameters\n",
    "    ----------\n",
    "    key : str, optional\n",
    "        Can be \"in\" or \"out\".\n",
    "        It is used to build respectively the instances to generate the TODs or to reconstruct the sky maps,\n",
    "        by default \"in\".\n",
    "\n",
    "    Returns\n",
    "    -------\n",
    "    dict_qubic: dict\n",
    "        Modified QUBIC dictionary.\n",
    "\n",
    "    \"\"\"\n",
    "\n",
    "    args = {\n",
    "        \"npointings\": 1,\n",
    "        \"nf_recon\": 2,\n",
    "        \"nf_sub\": 10,\n",
    "        \"nside\": nside,\n",
    "        \"MultiBand\": True,\n",
    "        \"period\": 1,\n",
    "        \"RA_center\": 0,\n",
    "        \"DEC_center\": -57,\n",
    "        \"filter_nu\": 150 * 1e9,\n",
    "        \"noiseless\": True,\n",
    "        \"comm\": comm,\n",
    "        \"dtheta\": 15,\n",
    "        \"nprocs_sampling\": 1,\n",
    "        \"nprocs_instrument\": comm.Get_size(),\n",
    "        \"photon_noise\": False,\n",
    "        \"nhwp_angles\": 1,\n",
    "        \"effective_duration150\": 3,\n",
    "        \"effective_duration220\": 3,\n",
    "        \"filter_relative_bandwidth\": 0.25,\n",
    "        \"type_instrument\": \"two\",\n",
    "        \"TemperatureAtmosphere150\": None,\n",
    "        \"TemperatureAtmosphere220\": None,\n",
    "        \"EmissivityAtmosphere150\": None,\n",
    "        \"EmissivityAtmosphere220\": None,\n",
    "        \"detector_nep\": float(4.7e-17),\n",
    "        \"synthbeam_kmax\": 1,\n",
    "        \"synthbeam_fraction\": 1,\n",
    "        \"beam_shape\": \"gaussian\",\n",
    "        \"debug\":False,\n",
    "        \"kind\": \"IQU\",\n",
    "    }\n",
    "\n",
    "    ### Get the default dictionary\n",
    "    dictfilename = \"dicts/pipeline_demo.dict\"\n",
    "    dict_qubic = qubicDict()\n",
    "    dict_qubic.read_from_file(dictfilename)\n",
    "\n",
    "    for i in args.keys():\n",
    "\n",
    "        dict_qubic[str(i)] = args[i]\n",
    "\n",
    "    return dict_qubic"
   ]
  },
  {
   "cell_type": "code",
   "execution_count": null,
   "metadata": {},
   "outputs": [],
   "source": [
    "# Build MPI communicator and qubic dict\n",
    "comm = MPI.COMM_WORLD\n",
    "dict_qubic = get_dict(comm)"
   ]
  },
  {
   "cell_type": "code",
   "execution_count": null,
   "metadata": {},
   "outputs": [],
   "source": [
    "# dict_qubic"
   ]
  },
  {
   "cell_type": "code",
   "execution_count": null,
   "metadata": {},
   "outputs": [],
   "source": [
    "dict_qubic[\"use_synthbeam_fits_file\"] = False"
   ]
  },
  {
   "cell_type": "code",
   "execution_count": null,
   "metadata": {},
   "outputs": [],
   "source": [
    "# Build scanning strategy\n",
    "sampling = get_pointing(dict_qubic)\n",
    "\n",
    "# Build QubicInstrument\n",
    "q = QubicInstrument(dict_qubic)"
   ]
  },
  {
   "cell_type": "code",
   "execution_count": null,
   "metadata": {},
   "outputs": [],
   "source": [
    "# Number of sub-acquisitions\n",
    "nsub_max = 70\n",
    "nsub_list = np.arange(10, nsub_max + 1, 10)"
   ]
  },
  {
   "cell_type": "code",
   "execution_count": null,
   "metadata": {},
   "outputs": [],
   "source": [
    "TOD_list = []\n",
    "freq_list = []\n",
    "H_list = []\n",
    "\n",
    "for insub in nsub_list:\n",
    "    # Build input uniform maps\n",
    "    input_maps = np.ones((insub, hp.nside2npix(nside), 3))\n",
    "    \n",
    "    # Build acquisition operator\n",
    "    Qacq = QubicMultiAcquisitions(dict_qubic, 2*insub, 2, sampling=sampling)\n",
    "    H = Qacq.H[:int(insub/2)]\n",
    "    \n",
    "    # Build TOD\n",
    "    tod = []\n",
    "    for i in range(int(insub/2)):\n",
    "        tod.append(H[i](input_maps[i]))\n",
    "\n",
    "    # Store everything\n",
    "    H_list.append(H)\n",
    "    TOD_list.append(np.array(tod))\n",
    "    freq_list.append(np.array(Qacq.allnus))"
   ]
  },
  {
   "cell_type": "code",
   "execution_count": null,
   "metadata": {},
   "outputs": [],
   "source": [
    "np.shape(TOD_list[0])"
   ]
  },
  {
   "cell_type": "code",
   "execution_count": null,
   "metadata": {},
   "outputs": [],
   "source": [
    "### Sum detectors\n",
    "\n",
    "for i in range(len(nsub_list)):\n",
    "    plt.plot(nsub_list[i], np.sum(np.mean(TOD_list[i], axis=0), axis=0)[0], '.r')\n",
    "\n",
    "plt.xlabel('Nsub')\n",
    "plt.ylabel('TOD')\n",
    "plt.title(\"Sum over detectors\")"
   ]
  },
  {
   "cell_type": "code",
   "execution_count": null,
   "metadata": {},
   "outputs": [],
   "source": [
    "TOD_list[0].shape"
   ]
  },
  {
   "cell_type": "code",
   "execution_count": null,
   "metadata": {},
   "outputs": [],
   "source": [
    "### For one detector\n",
    "idet = 0\n",
    "\n",
    "for i in range(len(nsub_list)):\n",
    "    plt.plot(nsub_list[i], np.mean(TOD_list[i], axis=0)[0], '.r')\n",
    "\n",
    "plt.xlabel('Nsub')\n",
    "plt.ylabel('TOD')"
   ]
  },
  {
   "cell_type": "code",
   "execution_count": null,
   "metadata": {},
   "outputs": [],
   "source": [
    "### For all detectors \n",
    "\n",
    "for i in range(len(nsub_list)):\n",
    "    for idet in range(992):\n",
    "        plt.plot(nsub_list[i], np.mean(TOD_list[i], axis=0)[idet], '.')\n",
    "\n",
    "plt.xlabel('Nsub')\n",
    "plt.ylabel('TOD')\n",
    "plt.title('Convergence of TOD for all detectors')"
   ]
  },
  {
   "cell_type": "code",
   "execution_count": null,
   "metadata": {},
   "outputs": [],
   "source": []
  },
  {
   "cell_type": "code",
   "execution_count": null,
   "metadata": {},
   "outputs": [],
   "source": []
  },
  {
   "cell_type": "code",
   "execution_count": null,
   "metadata": {},
   "outputs": [],
   "source": []
  },
  {
   "cell_type": "code",
   "execution_count": null,
   "metadata": {},
   "outputs": [],
   "source": []
  },
  {
   "cell_type": "code",
   "execution_count": null,
   "metadata": {},
   "outputs": [],
   "source": []
  },
  {
   "cell_type": "code",
   "execution_count": null,
   "metadata": {},
   "outputs": [],
   "source": []
  },
  {
   "cell_type": "code",
   "execution_count": null,
   "metadata": {},
   "outputs": [],
   "source": []
  },
  {
   "cell_type": "code",
   "execution_count": null,
   "metadata": {},
   "outputs": [],
   "source": []
  },
  {
   "cell_type": "code",
   "execution_count": null,
   "metadata": {},
   "outputs": [],
   "source": []
  },
  {
   "cell_type": "code",
   "execution_count": null,
   "metadata": {},
   "outputs": [],
   "source": []
  }
 ],
 "metadata": {
  "kernelspec": {
   "display_name": "venv-qubic",
   "language": "python",
   "name": "python3"
  },
  "language_info": {
   "codemirror_mode": {
    "name": "ipython",
    "version": 3
   },
   "file_extension": ".py",
   "mimetype": "text/x-python",
   "name": "python",
   "nbconvert_exporter": "python",
   "pygments_lexer": "ipython3",
   "version": "3.9.18"
  }
 },
 "nbformat": 4,
 "nbformat_minor": 2
}
