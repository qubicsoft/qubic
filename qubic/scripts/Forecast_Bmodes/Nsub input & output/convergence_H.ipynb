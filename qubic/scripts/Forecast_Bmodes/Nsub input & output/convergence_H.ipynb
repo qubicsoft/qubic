{
 "cells": [
  {
   "cell_type": "code",
   "execution_count": null,
   "metadata": {},
   "outputs": [],
   "source": [
    "import numpy as np\n",
    "import matplotlib.pyplot as plt\n",
    "import healpy as hp\n",
    "\n",
    "from pyoperators import MPI\n",
    "\n",
    "from qubic.lib.Qdictionary import qubicDict\n",
    "from qubic.lib.Instrument.Qacquisition import QubicMultiAcquisitions\n",
    "from qubic.lib.Qsamplings import get_pointing, equ2gal\n",
    "from qubic.lib.QskySim import Qubic_sky\n",
    "from qubic.lib.MapMaking.FrequencyMapMaking.Qspectra_component import CMBModel"
   ]
  },
  {
   "cell_type": "code",
   "execution_count": null,
   "metadata": {},
   "outputs": [],
   "source": [
    "%matplotlib inline"
   ]
  },
  {
   "cell_type": "code",
   "execution_count": null,
   "metadata": {},
   "outputs": [],
   "source": [
    "nside = 128"
   ]
  },
  {
   "cell_type": "markdown",
   "metadata": {},
   "source": [
    "# Initialize QUBIC instance"
   ]
  },
  {
   "cell_type": "markdown",
   "metadata": {},
   "source": [
    "Build the QUBIC dictionary, mandatory to use the QUBIC functions"
   ]
  },
  {
   "cell_type": "code",
   "execution_count": null,
   "metadata": {},
   "outputs": [],
   "source": [
    "def get_dict(comm, key='in'):\n",
    "    \"\"\"QUBIC dictionary.\n",
    "\n",
    "    Method to modify the qubic dictionary.\n",
    "\n",
    "    Parameters\n",
    "    ----------\n",
    "    key : str, optional\n",
    "        Can be \"in\" or \"out\".\n",
    "        It is used to build respectively the instances to generate the TODs or to reconstruct the sky maps,\n",
    "        by default \"in\".\n",
    "\n",
    "    Returns\n",
    "    -------\n",
    "    dict_qubic: dict\n",
    "        Modified QUBIC dictionary.\n",
    "\n",
    "    \"\"\"\n",
    "\n",
    "    args = {\n",
    "        \"npointings\": 30,\n",
    "        \"nf_recon\": 2,\n",
    "        \"nf_sub\": 10,\n",
    "        \"nside\": nside,\n",
    "        \"MultiBand\": True,\n",
    "        \"period\": 1,\n",
    "        \"RA_center\": 0,\n",
    "        \"DEC_center\": -57,\n",
    "        \"filter_nu\": 150 * 1e9,\n",
    "        \"noiseless\": True,\n",
    "        \"comm\": comm,\n",
    "        \"dtheta\": 15,\n",
    "        \"nprocs_sampling\": 1,\n",
    "        \"nprocs_instrument\": comm.Get_size(),\n",
    "        \"photon_noise\": False,\n",
    "        \"nhwp_angles\": 3,\n",
    "        \"effective_duration150\": 3,\n",
    "        \"effective_duration220\": 3,\n",
    "        \"filter_relative_bandwidth\": 0.25,\n",
    "        \"type_instrument\": \"two\",\n",
    "        \"TemperatureAtmosphere150\": None,\n",
    "        \"TemperatureAtmosphere220\": None,\n",
    "        \"EmissivityAtmosphere150\": None,\n",
    "        \"EmissivityAtmosphere220\": None,\n",
    "        \"detector_nep\": float(4.7e-17),\n",
    "        \"synthbeam_kmax\": 1,\n",
    "        \"synthbeam_fraction\": 1,\n",
    "        \"beam_shape\": \"gaussian\",\n",
    "        \"debug\":False,\n",
    "        \"kind\": \"IQU\",\n",
    "    }\n",
    "\n",
    "    ### Get the default dictionary\n",
    "    dictfilename = \"dicts/pipeline_demo.dict\"\n",
    "    dict_qubic = qubicDict()\n",
    "    dict_qubic.read_from_file(dictfilename)\n",
    "\n",
    "    for i in args.keys():\n",
    "\n",
    "        dict_qubic[str(i)] = args[i]\n",
    "\n",
    "    return dict_qubic"
   ]
  },
  {
   "cell_type": "code",
   "execution_count": null,
   "metadata": {},
   "outputs": [],
   "source": [
    "# Build MPI communicator and qubic dict\n",
    "dictfilename = 'qubic/qubic/dicts/pipeline_demo.dict'\n",
    "d = qubicDict()\n",
    "d.read_from_file(dictfilename)\n",
    "\n",
    "center = equ2gal(d['RA_center'], d['DEC_center'])\n",
    "\n",
    "d['nf_recon'] = 2\n",
    "d['MultiBand'] = True\n",
    "d['nside'] = nside\n",
    "\n",
    "d['npointings'] = 20\n",
    "d['synthbeam_kmax'] = 1\n",
    "nf_sub = d['nf_sub']\n",
    "d['synthbeam_fraction'] = 1\n",
    "\n",
    "d['noiseless'] = True\n",
    "d['photon_noise'] = False\n",
    "d['use_synthbeam_fits_file'] = False\n",
    "\n",
    "# comm = MPI.COMM_WORLD\n",
    "# d[\"comm\"] = comm\n",
    "# d[\"nprocs_sampling\"] = 1\n",
    "# d[\"nprocs_instrument\"] = comm.Get_size()\n",
    "# print(\"comm.Get_size()\", comm.Get_size())\n",
    "# d = get_dict(comm)\n",
    "\n",
    "nprocs_instrument = d['nprocs_instrument']\n",
    "nprocs_sampling = d['nprocs_sampling']\n",
    "comm = d['comm']\n",
    "\n",
    "print('------------------------------------')\n",
    "print('Before')\n",
    "print('------------------------------------')\n",
    "print(\"nprocs_instrument\", nprocs_instrument)\n",
    "print(\"nprocs_sampling\", nprocs_sampling)\n",
    "print(\"comm\", comm)\n",
    "\n",
    "if comm is None:\n",
    "    comm = MPI.COMM_WORLD\n",
    "if nprocs_instrument is None and nprocs_sampling is None:\n",
    "    nprocs_instrument = 1\n",
    "    nprocs_sampling = comm.size\n",
    "elif nprocs_instrument is None:\n",
    "    if nprocs_sampling < 1 or nprocs_sampling > comm.size:\n",
    "        raise ValueError(\n",
    "            f\"Invalid value for nprocs_sampling '{nprocs_sampling}'.\"\n",
    "        )\n",
    "    nprocs_instrument = comm.size // nprocs_sampling\n",
    "else:\n",
    "    if nprocs_instrument < 1 or nprocs_instrument > comm.size:\n",
    "        raise ValueError(\n",
    "            f\"Invalid value for nprocs_instrument '{nprocs_instrument}'.\"\n",
    "        )\n",
    "    nprocs_sampling = comm.size // nprocs_instrument\n",
    "if nprocs_instrument * nprocs_sampling != comm.size:\n",
    "    raise ValueError('Invalid MPI distribution of the acquisition.')\n",
    "\n",
    "d[\"comm\"] = comm\n",
    "d[\"nprocs_sampling\"] = nprocs_sampling\n",
    "d[\"nprocs_instrument\"] = nprocs_instrument\n",
    "\n",
    "print('------------------------------------')\n",
    "print('After')\n",
    "print('------------------------------------')\n",
    "print(\"nprocs_instrument\", d['nprocs_instrument'])\n",
    "print(\"nprocs_sampling\", d['nprocs_sampling'])\n",
    "print(\"comm\", d['comm'])"
   ]
  },
  {
   "cell_type": "code",
   "execution_count": null,
   "metadata": {},
   "outputs": [],
   "source": [
    "d"
   ]
  },
  {
   "cell_type": "code",
   "execution_count": null,
   "metadata": {},
   "outputs": [],
   "source": [
    "# Build scanning strategy\n",
    "sampling = get_pointing(d)"
   ]
  },
  {
   "cell_type": "code",
   "execution_count": null,
   "metadata": {},
   "outputs": [],
   "source": [
    "# Number of sub-acquisitions\n",
    "nsub_max = 42\n",
    "nsub_list = np.arange(4, nsub_max + 1, 4)"
   ]
  },
  {
   "cell_type": "code",
   "execution_count": null,
   "metadata": {},
   "outputs": [],
   "source": [
    "TOD_list = []\n",
    "freq_list = []\n",
    "maps_list = []\n",
    "\n",
    "np.random.seed(d['seed'])\n",
    "\n",
    "# Build CMB map\n",
    "cl_cmb = CMBModel(None).give_cl_cmb(r=0, Alens=1)\n",
    "cmb_map = hp.synfast(cl_cmb, nside, new=True, verbose=False).T\n",
    "\n",
    "for insub in nsub_list:\n",
    "    input_maps = np.ones((insub, hp.nside2npix(nside), 3)) * cmb_map[None, ...]\n",
    "    \n",
    "    # Build acquisition operator\n",
    "    Qacq = QubicMultiAcquisitions(d, insub, 2, sampling=sampling)\n",
    "    \n",
    "    # Build TOD\n",
    "    tod = []\n",
    "    map_list = []\n",
    "    for i in range(insub):\n",
    "        tod.append(Qacq.H[i](input_maps[i]))\n",
    "        map_list.append(Qacq.H[i].T(tod[-1]))\n",
    "\n",
    "    TOD_list.append(np.sum(tod, axis=0))\n",
    "    maps_list.append(np.mean(map_list, axis=0))\n",
    "    freq_list.append(np.array(Qacq.allnus))"
   ]
  },
  {
   "cell_type": "code",
   "execution_count": null,
   "metadata": {},
   "outputs": [],
   "source": [
    "TOD_list[0].shape"
   ]
  },
  {
   "cell_type": "code",
   "execution_count": null,
   "metadata": {},
   "outputs": [],
   "source": [
    "for i in range(nsub_list.size):\n",
    "    plt.plot(np.mean(TOD_list[i], axis=0), label=f\"Nsub = {nsub_list[i]}\")\n",
    "\n",
    "plt.title(\"Mean over detector\")\n",
    "plt.xlabel(\"Pointing\")\n",
    "plt.ylabel(\"TOD\")\n",
    "plt.legend(loc='best')"
   ]
  },
  {
   "cell_type": "code",
   "execution_count": null,
   "metadata": {},
   "outputs": [],
   "source": [
    "det_index = 200\n",
    "\n",
    "for i in range(nsub_list.size):\n",
    "    plt.plot(TOD_list[i][det_index], label=f\"Nsub = {nsub_list[i]}\")\n",
    "\n",
    "plt.title(f\"Detector {det_index}\")\n",
    "plt.xlabel(\"Pointing\")\n",
    "plt.ylabel(\"TOD\")\n",
    "plt.legend(loc='best')"
   ]
  },
  {
   "cell_type": "code",
   "execution_count": null,
   "metadata": {},
   "outputs": [],
   "source": [
    "fig, (ax1, ax2) = plt.subplots(1, 2, figsize=(12, 6))\n",
    "\n",
    "for i in range(len(TOD_list)):\n",
    "    rel_error = np.mean(np.abs((TOD_list[i] - TOD_list[-1]) / TOD_list[-1]))\n",
    "    \n",
    "    ax1.plot(nsub_list[i], rel_error, '.')\n",
    "    ax2.plot(nsub_list[i], rel_error, '.')\n",
    "\n",
    "ax1.set_xlabel('Nsub')\n",
    "ax1.set_ylabel(r'|$\\frac{H(map)^{max} - H(map)^{i}}{H(map)^{max}}$|')\n",
    "ax1.set_title('Convergence of H (linear scale)')\n",
    "\n",
    "ax2.set_xlabel('Nsub')\n",
    "ax2.set_ylabel(r'|$\\frac{H(map)^{max} - H(map)^{i}}{H(map)^{max}}$|')\n",
    "ax2.set_title('Convergence of H (log scale)')\n",
    "ax2.set_yscale('log')"
   ]
  },
  {
   "cell_type": "code",
   "execution_count": null,
   "metadata": {},
   "outputs": [],
   "source": [
    "fig, (ax1, ax2) = plt.subplots(1, 2, figsize=(12, 6))\n",
    "\n",
    "for i in range(len(TOD_list)):\n",
    "    rel_error = np.mean(np.abs((TOD_list[-1][:, 0] - TOD_list[i][:, 0]) / TOD_list[-1][:, 0]))\n",
    "    \n",
    "    ax1.plot(nsub_list[i], rel_error, '.')\n",
    "    ax2.plot(nsub_list[i], rel_error, '.')\n",
    "\n",
    "ax1.set_xlabel('Nsub')\n",
    "ax1.set_ylabel(r'|$\\frac{H(map)^{max} - H(map)^{i}}{H(map)^{max}}$|')\n",
    "ax1.set_title('Convergence of H (linear scale)')\n",
    "\n",
    "ax2.set_xlabel('Nsub')\n",
    "ax2.set_ylabel(r'|$\\frac{H(map)^{max} - H(map)^{i}}{H(map)^{max}}$|')\n",
    "ax2.set_title('Convergence of H (log scale)')\n",
    "ax2.set_yscale('log')"
   ]
  },
  {
   "cell_type": "code",
   "execution_count": null,
   "metadata": {},
   "outputs": [],
   "source": []
  },
  {
   "cell_type": "code",
   "execution_count": null,
   "metadata": {},
   "outputs": [],
   "source": []
  }
 ],
 "metadata": {
  "kernelspec": {
   "display_name": "venv-qubic",
   "language": "python",
   "name": "python3"
  },
  "language_info": {
   "codemirror_mode": {
    "name": "ipython",
    "version": 3
   },
   "file_extension": ".py",
   "mimetype": "text/x-python",
   "name": "python",
   "nbconvert_exporter": "python",
   "pygments_lexer": "ipython3",
   "version": "3.9.18"
  }
 },
 "nbformat": 4,
 "nbformat_minor": 2
}
