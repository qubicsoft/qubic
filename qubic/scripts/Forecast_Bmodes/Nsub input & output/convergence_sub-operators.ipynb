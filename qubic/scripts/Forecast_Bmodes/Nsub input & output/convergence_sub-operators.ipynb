{
 "cells": [
  {
   "cell_type": "code",
   "execution_count": null,
   "metadata": {},
   "outputs": [],
   "source": [
    "import numpy as np\n",
    "import matplotlib.pyplot as plt\n",
    "import healpy as hp\n",
    "import plotly.graph_objects as go\n",
    "from plotly.subplots import make_subplots\n",
    "import plotly.express as px\n",
    "\n",
    "from qubic.lib.Qdictionary import qubicDict\n",
    "from qubic.lib.Instrument.Qacquisition import QubicMultiAcquisitions\n",
    "from qubic.lib.Qsamplings import get_pointing, equ2gal\n",
    "from qubic.lib.Qscene import QubicScene\n",
    "from qubic.lib.MapMaking.FrequencyMapMaking.Qspectra_component import CMBModel\n",
    "\n",
    "%matplotlib inline"
   ]
  },
  {
   "cell_type": "code",
   "execution_count": null,
   "metadata": {},
   "outputs": [],
   "source": [
    "nside = 128"
   ]
  },
  {
   "cell_type": "markdown",
   "metadata": {},
   "source": [
    "# Initialize QUBIC instance"
   ]
  },
  {
   "cell_type": "markdown",
   "metadata": {},
   "source": [
    "Build the QUBIC dictionary, mandatory to use the QUBIC functions"
   ]
  },
  {
   "cell_type": "code",
   "execution_count": null,
   "metadata": {},
   "outputs": [],
   "source": [
    "# Build MPI communicator and qubic dict\n",
    "dictfilename = 'qubic/qubic/dicts/pipeline_demo.dict'\n",
    "d = qubicDict()\n",
    "d.read_from_file(dictfilename)\n",
    "\n",
    "center = equ2gal(d['RA_center'], d['DEC_center'])\n",
    "\n",
    "d['nf_recon'] = 2\n",
    "d['MultiBand'] = True\n",
    "d['nside'] = nside\n",
    "\n",
    "d['npointings'] = 20\n",
    "d['synthbeam_kmax'] = 1\n",
    "nf_sub = d['nf_sub']\n",
    "d['synthbeam_fraction'] = 1\n",
    "\n",
    "d['noiseless'] = True\n",
    "d['photon_noise'] = False\n",
    "d['use_synthbeam_fits_file'] = False\n",
    "\n",
    "#d['nprocs_instrument'] = 1"
   ]
  },
  {
   "cell_type": "code",
   "execution_count": null,
   "metadata": {},
   "outputs": [],
   "source": [
    "# Build scanning strategy\n",
    "sampling = get_pointing(d)\n",
    "\n",
    "# Build scene\n",
    "scene = QubicScene(d)"
   ]
  },
  {
   "cell_type": "code",
   "execution_count": null,
   "metadata": {},
   "outputs": [],
   "source": [
    "# Number of sub-acquisitions\n",
    "nsub_max = 32\n",
    "nsub_list = np.arange(2, nsub_max + 1, 6)"
   ]
  },
  {
   "cell_type": "code",
   "execution_count": null,
   "metadata": {},
   "outputs": [],
   "source": [
    "TOD_list = []\n",
    "freq_list = []\n",
    "\n",
    "np.random.seed(d['seed'])\n",
    "\n",
    "# Build CMB map\n",
    "cl_cmb = CMBModel(None).give_cl_cmb(r=0, Alens=1)\n",
    "cmb_map = hp.synfast(cl_cmb, nside, new=True, verbose=False).T\n",
    "\n",
    "for insub in nsub_list:\n",
    "    input_maps = np.ones((insub, hp.nside2npix(nside), 3)) * cmb_map[None, ...]\n",
    "    \n",
    "    # Build acquisition operator\n",
    "    Qacq = QubicMultiAcquisitions(d, insub, 2, sampling=sampling)\n",
    "    \n",
    "    # Build TOD\n",
    "    tod = []\n",
    "    map_list = []\n",
    "    for i in range(insub):\n",
    "        P = Qacq.multiinstrument[i].get_projection_operator(sampling, scene)\n",
    "        F = Qacq.multiinstrument[i].get_filter_operator()\n",
    "        tod.append(P(F(input_maps[i])))\n",
    "\n",
    "    TOD_list.append(np.sum(tod, axis=0))\n",
    "    freq_list.append(np.array(Qacq.allnus))"
   ]
  },
  {
   "cell_type": "code",
   "execution_count": null,
   "metadata": {},
   "outputs": [],
   "source": [
    "np.shape(TOD_list[0])"
   ]
  },
  {
   "cell_type": "code",
   "execution_count": null,
   "metadata": {},
   "outputs": [],
   "source": [
    "# Define a list of colors to use (you can choose your own)\n",
    "colors = px.colors.qualitative.Plotly\n",
    "\n",
    "fig = make_subplots(rows=1, cols=3, subplot_titles=(\"I\", \"Q\", \"U\"))\n",
    "\n",
    "for i in range(nsub_list.size):\n",
    "    # Use the same legend group and color for all three traces of the same i.\n",
    "    group_name = f\"group{i}\"\n",
    "    color = colors[i % len(colors)]\n",
    "    \n",
    "    # First subplot: show legend\n",
    "    fig.add_trace(go.Scatter(\n",
    "        y=np.mean(TOD_list[i], axis=0)[:, 0],\n",
    "        name=f\"Nsub = {nsub_list[i]}\",\n",
    "        legendgroup=group_name,\n",
    "        line=dict(color=color, width=1),\n",
    "        showlegend=True\n",
    "    ), row=1, col=1)\n",
    "    \n",
    "    # Second subplot: hide legend\n",
    "    fig.add_trace(go.Scatter(\n",
    "        y=np.mean(TOD_list[i], axis=0)[:, 1],\n",
    "        legendgroup=group_name,\n",
    "        line=dict(color=color, width=1),\n",
    "        showlegend=False\n",
    "    ), row=1, col=2)\n",
    "    \n",
    "    # Third subplot: hide legend\n",
    "    fig.add_trace(go.Scatter(\n",
    "        y=np.mean(TOD_list[i], axis=0)[:, 2],\n",
    "        legendgroup=group_name,\n",
    "        line=dict(color=color, width=1),\n",
    "        showlegend=False\n",
    "    ), row=1, col=3)\n",
    "\n",
    "fig.update_layout(\n",
    "    title=\"TOD - Mean over detector\",\n",
    "    xaxis_title=\"Pointing\",\n",
    "    yaxis_title=\"TOD\",\n",
    ")\n",
    "fig.update_yaxes(tickformat=\".1e\")  # Example: show scientific notation with 2 decimals\n",
    "\n",
    "fig.show()\n"
   ]
  },
  {
   "cell_type": "code",
   "execution_count": null,
   "metadata": {},
   "outputs": [],
   "source": [
    "# Define a list of colors to use (you can choose your own)\n",
    "colors = px.colors.qualitative.Plotly\n",
    "\n",
    "fig = make_subplots(rows=1, cols=3, subplot_titles=(\"I\", \"Q\", \"U\"))\n",
    "\n",
    "idet = 200\n",
    "\n",
    "for i in range(nsub_list.size):\n",
    "    # Use the same legend group and color for all three traces of the same i.\n",
    "    group_name = f\"group{i}\"\n",
    "    color = colors[i % len(colors)]\n",
    "    \n",
    "    # First subplot: show legend\n",
    "    fig.add_trace(go.Scatter(\n",
    "        y=TOD_list[i][idet, :, 0],\n",
    "        name=f\"Nsub = {nsub_list[i]}\",\n",
    "        legendgroup=group_name,\n",
    "        line=dict(color=color, width=1),\n",
    "        showlegend=True\n",
    "    ), row=1, col=1)\n",
    "    \n",
    "    # Second subplot: hide legend\n",
    "    fig.add_trace(go.Scatter(\n",
    "        y=TOD_list[i][idet, :, 1],\n",
    "        legendgroup=group_name,\n",
    "        line=dict(color=color, width=1),\n",
    "        showlegend=False\n",
    "    ), row=1, col=2)\n",
    "    \n",
    "    # Third subplot: hide legend\n",
    "    fig.add_trace(go.Scatter(\n",
    "        y=TOD_list[i][idet, :, 2],\n",
    "        legendgroup=group_name,\n",
    "        line=dict(color=color, width=1),\n",
    "        showlegend=False\n",
    "    ), row=1, col=3)\n",
    "\n",
    "fig.update_layout(\n",
    "    title=f\"TOD - Detector {idet}\",\n",
    "    xaxis_title=\"Pointing\",\n",
    "    yaxis_title=\"TOD\",\n",
    ")\n",
    "fig.update_yaxes(tickformat=\".1e\")  # Example: show scientific notation with 2 decimals\n",
    "\n",
    "fig.show()"
   ]
  },
  {
   "cell_type": "code",
   "execution_count": null,
   "metadata": {},
   "outputs": [],
   "source": [
    "fig, (ax1, ax2) = plt.subplots(1, 2, figsize=(15, 6))\n",
    "\n",
    "for i in range(len(TOD_list)):\n",
    "    rel_error = np.abs(np.mean(((TOD_list[i] - TOD_list[-1]) / TOD_list[-1])[..., 1]))\n",
    "    \n",
    "    ax1.plot(nsub_list[i], rel_error, '.')\n",
    "    ax2.plot(nsub_list[i], rel_error, '.')\n",
    "\n",
    "ax1.set_xlabel('Nsub')\n",
    "ax1.set_ylabel(r'|$\\frac{H(map)^{max} - H(map)^{i}}{H(map)^{max}}$|')\n",
    "ax1.set_title('Convergence of H (linear scale)')\n",
    "\n",
    "ax2.set_xlabel('Nsub')\n",
    "ax2.set_ylabel(r'|$\\frac{H(map)^{max} - H(map)^{i}}{H(map)^{max}}$|')\n",
    "ax2.set_title('Convergence of H (log scale)')\n",
    "ax2.set_yscale('log')"
   ]
  },
  {
   "cell_type": "code",
   "execution_count": null,
   "metadata": {},
   "outputs": [],
   "source": []
  },
  {
   "cell_type": "code",
   "execution_count": null,
   "metadata": {},
   "outputs": [],
   "source": []
  }
 ],
 "metadata": {
  "kernelspec": {
   "display_name": "venv-qubic",
   "language": "python",
   "name": "python3"
  },
  "language_info": {
   "codemirror_mode": {
    "name": "ipython",
    "version": 3
   },
   "file_extension": ".py",
   "mimetype": "text/x-python",
   "name": "python",
   "nbconvert_exporter": "python",
   "pygments_lexer": "ipython3",
   "version": "3.9.18"
  }
 },
 "nbformat": 4,
 "nbformat_minor": 2
}
