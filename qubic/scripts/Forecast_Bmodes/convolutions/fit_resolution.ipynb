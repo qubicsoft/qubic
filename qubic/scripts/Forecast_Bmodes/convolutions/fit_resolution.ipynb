{
 "cells": [
  {
   "cell_type": "code",
   "execution_count": null,
   "metadata": {},
   "outputs": [],
   "source": [
    "import numpy as np\n",
    "import matplotlib.pyplot as plt\n",
    "import healpy as hp\n",
    "import glob\n",
    "\n",
    "import pickle as pkl\n",
    "\n",
    "from pysimulators.interfaces.healpy import HealpixConvolutionGaussianOperator\n",
    "\n",
    "import emcee\n",
    "from schwimmbad import MPIPool\n",
    "from multiprocessing import Pool\n",
    "from getdist import plots, MCSamples\n",
    "\n",
    "import scipy"
   ]
  },
  {
   "cell_type": "code",
   "execution_count": null,
   "metadata": {},
   "outputs": [],
   "source": [
    "path = glob.glob('/home/laclavere/Documents/Thesis/Pipeline/test/maps/CMB_noiseless_wo_convolutions_nsub_in=20_out=16*')[0]\n",
    "\n",
    "ifreq = 0\n",
    "istk = 1"
   ]
  },
  {
   "cell_type": "code",
   "execution_count": null,
   "metadata": {},
   "outputs": [],
   "source": [
    "pkl_file = pkl.load(open(path, 'rb'))"
   ]
  },
  {
   "cell_type": "code",
   "execution_count": null,
   "metadata": {},
   "outputs": [],
   "source": [
    "maps = pkl_file['maps']\n",
    "input_maps = pkl_file['maps_in']\n",
    "fwhm_rec = pkl_file['fwhm_rec']\n",
    "\n",
    "fwhm_qubic = pkl_file['fwhm_in']\n",
    "nrec = pkl_file['parameters']['QUBIC']['nrec']\n",
    "fsub_out = int(pkl_file['parameters']['QUBIC']['nsub_out'] / nrec)\n",
    "fwhm_mean = np.array([])\n",
    "for irec in range(nrec):\n",
    "    fwhm_mean = np.append(fwhm_mean, np.mean(fwhm_qubic[irec*fsub_out:(irec+1)*fsub_out]))\n",
    "\n",
    "\n",
    "coverage = pkl_file['coverage']\n",
    "covnorm = coverage / coverage.max()\n",
    "seenpix = covnorm > 0.2"
   ]
  },
  {
   "cell_type": "code",
   "execution_count": null,
   "metadata": {},
   "outputs": [],
   "source": [
    "print(fwhm_rec)\n",
    "print(fwhm_mean)"
   ]
  },
  {
   "cell_type": "code",
   "execution_count": null,
   "metadata": {},
   "outputs": [],
   "source": [
    "plt.figure(figsize=(15,8))\n",
    "sigma = np.max([np.std(input_maps[ifreq, seenpix, istk]), np.std(maps[ifreq, seenpix, istk])])\n",
    "n = 3\n",
    "hp.gnomview(input_maps[ifreq, :, istk], rot=pkl_file['center'],min=-n*sigma, max=n*sigma, reso=15, notext=True, cmap='jet', title='input', sub=(1, 3, 1))\n",
    "hp.gnomview(maps[ifreq, :, istk], rot=pkl_file['center'],min=-n*sigma, max=n*sigma, reso=15, notext=True, cmap='jet', title='reconstructed', sub=(1, 3, 2))\n",
    "hp.gnomview(input_maps[ifreq, :, istk]-maps[ifreq, :, istk], rot=pkl_file['center'],min=-n*sigma, max=n*sigma, reso=15, notext=True, cmap='jet', title='residual', sub=(1, 3, 3))"
   ]
  },
  {
   "cell_type": "code",
   "execution_count": null,
   "metadata": {},
   "outputs": [],
   "source": [
    "def minimized_function(fwhm):\n",
    "\n",
    "        # Define the sky model & the sample variance associated\n",
    "        if fwhm < 0 or fwhm > 0.1: \n",
    "                return - np.inf\n",
    "        else:\n",
    "                C = HealpixConvolutionGaussianOperator(fwhm=fwhm)\n",
    "        \n",
    "                true_maps = C(input_maps[ifreq,:,istk])\n",
    "                reconstructed_maps = maps[ifreq,:,istk]\n",
    "                _r = true_maps[seenpix] - reconstructed_maps[seenpix] \n",
    "                return - np.mean(_r**2)"
   ]
  },
  {
   "cell_type": "code",
   "execution_count": null,
   "metadata": {},
   "outputs": [],
   "source": [
    "list = []\n",
    "fwhm_list = np.linspace(0.0001, 0.1, 100)\n",
    "for i in fwhm_list:\n",
    "    list.append(-minimized_function(i))"
   ]
  },
  {
   "cell_type": "code",
   "execution_count": null,
   "metadata": {},
   "outputs": [],
   "source": [
    "plt.plot(fwhm_list,list)\n",
    "plt.vlines(pkl_file['fwhm_rec'][ifreq], 0, np.max(list), colors = 'red', label=f\"Victor's formula = {pkl_file['fwhm_rec'][ifreq]:.5f}\")\n",
    "plt.vlines(fwhm_list[list.index(np.min(list))], 0, np.max(list), colors = 'green', label=f\"Best value = {fwhm_list[list.index(np.min(list))]:.5f}\")\n",
    "plt.vlines(fwhm_mean[ifreq], 0, np.max(list), colors = 'orange', label=f\"Mean value = {fwhm_mean[ifreq]:.5f}\")\n",
    "plt.legend()\n",
    "plt.xlabel('FWHM')\n",
    "plt.title('Mean difference between pixels of reconstructed map and convoluted input map')"
   ]
  },
  {
   "cell_type": "code",
   "execution_count": null,
   "metadata": {},
   "outputs": [],
   "source": [
    "list = []\n",
    "fwhm_list = np.linspace(0.0001, 0.01, 200)\n",
    "for i in fwhm_list:\n",
    "    list.append(-minimized_function(i))"
   ]
  },
  {
   "cell_type": "code",
   "execution_count": null,
   "metadata": {},
   "outputs": [],
   "source": [
    "plt.plot(fwhm_list,list)\n",
    "plt.vlines(pkl_file['fwhm_rec'][ifreq], 0, np.max(list), colors = 'red', label=f\"Victor's formula = {pkl_file['fwhm_rec'][ifreq]:.5f}\")\n",
    "plt.vlines(fwhm_list[list.index(np.min(list))], 0, np.max(list), colors = 'green', label=f\"Best value = {fwhm_list[list.index(np.min(list))]:.5f}\")\n",
    "plt.vlines(fwhm_mean[ifreq], 0, np.max(list), colors = 'orange', label=f\"Mean value = {fwhm_mean[ifreq]:.5f}\")\n",
    "plt.legend()\n",
    "plt.xlabel('FWHM')\n",
    "plt.title('Mean difference between pixels of reconstructed map and convoluted input map')"
   ]
  },
  {
   "cell_type": "code",
   "execution_count": null,
   "metadata": {},
   "outputs": [],
   "source": [
    "stop"
   ]
  },
  {
   "cell_type": "code",
   "execution_count": null,
   "metadata": {},
   "outputs": [],
   "source": [
    "nwalkers = 30\n",
    "mcmc_steps = 200\n",
    "p0 = np.random.rand(nwalkers, 1) * 1e-1\n",
    "print(p0)"
   ]
  },
  {
   "cell_type": "code",
   "execution_count": null,
   "metadata": {},
   "outputs": [],
   "source": [
    "sampler = emcee.EnsembleSampler(nwalkers, 1, log_prob_fn = minimized_function)\n",
    "sampler.run_mcmc(p0, mcmc_steps, progress=True)"
   ]
  },
  {
   "cell_type": "code",
   "execution_count": null,
   "metadata": {},
   "outputs": [],
   "source": [
    "discard = 0\n",
    "\n",
    "samples_flat = sampler.get_chain(flat = True, discard = discard)\n",
    "samples = sampler.get_chain()"
   ]
  },
  {
   "cell_type": "code",
   "execution_count": null,
   "metadata": {},
   "outputs": [],
   "source": [
    "# Plot the walkers\n",
    "print(samples.shape)\n",
    "for i in range(nwalkers):\n",
    "    plt.plot(samples[:, i])"
   ]
  },
  {
   "cell_type": "code",
   "execution_count": null,
   "metadata": {},
   "outputs": [],
   "source": [
    "plt.figure()\n",
    "g = plots.get_subplot_plotter(width_inch=10)\n",
    "s = MCSamples(samples=samples_flat, names=['FWHM'])\n",
    "g.triangle_plot(s, filled=True,title_limit=1)"
   ]
  },
  {
   "cell_type": "code",
   "execution_count": null,
   "metadata": {},
   "outputs": [],
   "source": []
  },
  {
   "cell_type": "code",
   "execution_count": null,
   "metadata": {},
   "outputs": [],
   "source": []
  },
  {
   "cell_type": "code",
   "execution_count": null,
   "metadata": {},
   "outputs": [],
   "source": []
  }
 ],
 "metadata": {
  "jupytext": {
   "formats": "ipynb,Rmd"
  },
  "kernelspec": {
   "display_name": "Python 3 (ipykernel)",
   "language": "python",
   "name": "python3"
  },
  "language_info": {
   "codemirror_mode": {
    "name": "ipython",
    "version": 3
   },
   "file_extension": ".py",
   "mimetype": "text/x-python",
   "name": "python",
   "nbconvert_exporter": "python",
   "pygments_lexer": "ipython3",
   "version": "3.9.18"
  }
 },
 "nbformat": 4,
 "nbformat_minor": 4
}
