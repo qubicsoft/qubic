{
 "cells": [
  {
   "cell_type": "code",
   "execution_count": null,
   "metadata": {},
   "outputs": [
    {
     "name": "stderr",
     "output_type": "stream",
     "text": [
      "hwloc/linux: Ignoring PCI device with non-16bit domain.\n",
      "Pass --enable-32bits-pci-domain to configure to support such devices\n",
      "(warning: it would break the library ABI, don't enable unless really needed).\n"
     ]
    }
   ],
   "source": [
    "import numpy as np\n",
    "import datetime as dt\n",
    "\n",
    "from qubic.lib.Qgps import GPS, GPS_old\n",
    "\n",
    "%matplotlib widget"
   ]
  },
  {
   "cell_type": "code",
   "execution_count": null,
   "metadata": {},
   "outputs": [],
   "source": [
    "data_path = \"calsource_orientation_20240322.dat\"\n",
    "observation_date = np.array([dt.datetime(2024, 3, 22, 9, 47, 49), dt.datetime(2024, 3, 22, 16, 13, 49, 500000)])#np.array([dt.datetime(2024, 3, 22, 10, 8, 00)]) # "
   ]
  },
  {
   "cell_type": "code",
   "execution_count": 3,
   "metadata": {},
   "outputs": [
    {
     "name": "stdout",
     "output_type": "stream",
     "text": [
      "[[-0.66504048 -0.66461026 -0.66512421 ...  1.1572724   1.15676616\n",
      "   1.15338387]\n",
      " [ 0.39572939  0.39574942  0.39583976 ...  0.26029199  0.26097058\n",
      "   0.26318748]\n",
      " [-0.01680668 -0.02102135 -0.02324635 ... -0.05396915 -0.05473218\n",
      "  -0.05398805]]\n",
      "[[ 0.1783  0.1793  0.1782 ...  0.7756  0.7746  0.774 ]\n",
      " [ 0.9331  0.9322  0.9332 ... -0.6637 -0.6628 -0.6618]\n",
      " [-0.0137 -0.015  -0.0163 ... -0.0302 -0.0303 -0.0324]]\n",
      "[[-0.24337024 -0.24265513 -0.2434621  ...  0.9664362   0.96568308\n",
      "   0.96369194]\n",
      " [ 0.66441469  0.66397471  0.66451988 ... -0.201704   -0.20091471\n",
      "  -0.19930626]\n",
      " [-0.01525334 -0.01801067 -0.01977318 ... -0.04208457 -0.04251609\n",
      "  -0.04319402]]\n"
     ]
    }
   ],
   "source": [
    "distance_between_antennas = 1\n",
    "distance_calsource = 0.5\n",
    "gps_old = GPS_old(data_path, distance_between_antennas, distance_calsource, observation_date)"
   ]
  },
  {
   "cell_type": "code",
   "execution_count": null,
   "metadata": {},
   "outputs": [],
   "source": [
    "\n",
    "gps = GPS(data_path, )"
   ]
  },
  {
   "cell_type": "code",
   "execution_count": null,
   "metadata": {},
   "outputs": [
    {
     "ename": "NameError",
     "evalue": "name 'gps' is not defined",
     "output_type": "error",
     "traceback": [
      "\u001b[0;31m---------------------------------------------------------------------------\u001b[0m",
      "\u001b[0;31mNameError\u001b[0m                                 Traceback (most recent call last)",
      "Cell \u001b[0;32mIn[4], line 1\u001b[0m\n\u001b[0;32m----> 1\u001b[0m \u001b[43mgps\u001b[49m\u001b[38;5;241m.\u001b[39mplot_system()\n",
      "\u001b[0;31mNameError\u001b[0m: name 'gps' is not defined"
     ]
    }
   ],
   "source": [
    "gps.plot_system()"
   ]
  },
  {
   "cell_type": "code",
   "execution_count": null,
   "metadata": {},
   "outputs": [],
   "source": []
  },
  {
   "cell_type": "code",
   "execution_count": null,
   "metadata": {},
   "outputs": [],
   "source": []
  }
 ],
 "metadata": {
  "kernelspec": {
   "display_name": "venv-qubic",
   "language": "python",
   "name": "python3"
  },
  "language_info": {
   "codemirror_mode": {
    "name": "ipython",
    "version": 3
   },
   "file_extension": ".py",
   "mimetype": "text/x-python",
   "name": "python",
   "nbconvert_exporter": "python",
   "pygments_lexer": "ipython3",
   "version": "3.9.18"
  }
 },
 "nbformat": 4,
 "nbformat_minor": 2
}
