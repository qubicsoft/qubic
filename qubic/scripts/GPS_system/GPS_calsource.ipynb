{
 "cells": [
  {
   "cell_type": "code",
   "execution_count": null,
   "id": "12960441",
   "metadata": {},
   "outputs": [],
   "source": [
    "# General packages\n",
    "import numpy as np\n",
    "import matplotlib.pyplot as plt\n",
    "import os\n",
    "import struct\n",
    "import datetime as dt\n",
    "import gnss_lib_py as glp\n",
    "from datetime import timedelta\n",
    "import matplotlib as mpl\n",
    "%matplotlib inline\n",
    "\n",
    "mpl.rcParams['lines.markersize'] = 0"
   ]
  },
  {
   "cell_type": "code",
   "execution_count": null,
   "id": "aac56208",
   "metadata": {},
   "outputs": [],
   "source": [
    "def read_gps_bindat(filename):\n",
    "    '''\n",
    "    read the binary data acquired from by RTK simple broadcast\n",
    "    '''\n",
    "    if not os.path.isfile(filename):\n",
    "        print('ERROR!  File not found: %s' % filename)\n",
    "        return\n",
    "\n",
    "    # read the data\n",
    "    h = open(filename,'rb')\n",
    "    bindat = h.read()\n",
    "    h.close()\n",
    " \n",
    "    # interpret the binary data\n",
    "    fmt = '<Bdiiiiiiifi'\n",
    "    nbytes = 45\n",
    "    names = \"STX,timestamp,rpN,rpE,rpD,roll,yaw,pitchIMU,rollIMU,temperature,checksum\".split(',')\n",
    "    data = {}\n",
    "    for name in names:\n",
    "        data[name] = []    \n",
    "\n",
    "    idx = 0\n",
    "    while idx+nbytes<len(bindat):\n",
    "        packet = bindat[idx:idx+nbytes]\n",
    "        dat_list = struct.unpack(fmt,packet)\n",
    "\n",
    "        if len(dat_list)!=len(names):\n",
    "            print('ERROR:  Incompatible data.')\n",
    "            return data\n",
    "\n",
    "        for datidx,name in enumerate(names):\n",
    "            data[name].append(dat_list[datidx])\n",
    "\n",
    "        idx += nbytes\n",
    "\n",
    "    return data "
   ]
  },
  {
   "cell_type": "code",
   "execution_count": null,
   "id": "3f0048cd",
   "metadata": {},
   "outputs": [],
   "source": [
    "def date_to_indice(date, data):\n",
    "    '''\n",
    "    date : string ('year-month-dayThour:minute:second')\n",
    "    data : list\n",
    "    '''\n",
    "    \n",
    "    date = dt.datetime.fromisoformat(date)\n",
    "    for index, idate in enumerate(data):\n",
    "        if dt.datetime.utcfromtimestamp(idate) == date:\n",
    "            return index\n",
    "    return('You have not taken data at this date')"
   ]
  },
  {
   "cell_type": "code",
   "execution_count": null,
   "id": "14465aa3",
   "metadata": {},
   "outputs": [],
   "source": [
    "#dat = read_gps_bindat('calsource_orientation.dat')\n",
    "import pickle\n",
    "#h = open('calsource_orientation.pkl','rb')\n",
    "#dat = pickle.load(h)\n",
    "#h.close()\n",
    "\n",
    "dat = read_gps_bindat('calsource_orientation.dat')"
   ]
  },
  {
   "cell_type": "code",
   "execution_count": null,
   "id": "10badcdf",
   "metadata": {},
   "outputs": [],
   "source": [
    "list(dat)"
   ]
  },
  {
   "cell_type": "code",
   "execution_count": null,
   "id": "2c1c549c",
   "metadata": {},
   "outputs": [],
   "source": [
    "len(dat['timestamp'])"
   ]
  },
  {
   "cell_type": "code",
   "execution_count": null,
   "id": "083471b5",
   "metadata": {},
   "outputs": [],
   "source": [
    "tstamp_first_data = dat['timestamp'][0]\n",
    "date_first_data = dt.datetime.utcfromtimestamp(tstamp_first_data)\n",
    "\n",
    "print(date_first_data)"
   ]
  },
  {
   "cell_type": "code",
   "execution_count": null,
   "id": "9d9e1f31",
   "metadata": {},
   "outputs": [],
   "source": [
    "tstamp_last_data = dat['timestamp'][-1]\n",
    "date_last_data = dt.datetime.utcfromtimestamp(tstamp_last_data)\n",
    "\n",
    "print(date_last_data)"
   ]
  },
  {
   "cell_type": "code",
   "execution_count": null,
   "id": "f4eac3a2",
   "metadata": {},
   "outputs": [],
   "source": [
    "t = np.arange(len(dat['timestamp']))\n",
    "plt.plot(t, dat['timestamp'], '-r')"
   ]
  },
  {
   "cell_type": "code",
   "execution_count": null,
   "id": "24595d6e",
   "metadata": {},
   "outputs": [],
   "source": [
    "len(dat['timestamp'])"
   ]
  },
  {
   "cell_type": "code",
   "execution_count": null,
   "id": "c25b852d",
   "metadata": {},
   "outputs": [],
   "source": [
    "print(dt.datetime(year=2024, month=11, day=20, hour=9, minute=40, second=0))"
   ]
  },
  {
   "cell_type": "code",
   "execution_count": null,
   "id": "9dc75322",
   "metadata": {},
   "outputs": [],
   "source": [
    "tstamp_last_data = dat['timestamp'][-1]\n",
    "print(tstamp_last_data) \n",
    "date_last_data = dt.datetime.utcfromtimestamp(tstamp_last_data)\n",
    "\n",
    "print(date_last_data)"
   ]
  },
  {
   "cell_type": "code",
   "execution_count": null,
   "id": "f3086296",
   "metadata": {},
   "outputs": [],
   "source": [
    "index_test = date_to_indice('2024-11-20T10:20:00', dat['timestamp'])\n",
    "#index_test_alt = date_to_indice('2023-11-29T15:22:00', dat['timestamp'])\n",
    "minutes = []\n",
    "for i in range(10):\n",
    "    idx = date_to_indice(f'2023-11-29T15:0{i}:00', dat['timestamp'])\n",
    "    minutes.append(idx)\n",
    "for i in range(10, 22):\n",
    "    idx = date_to_indice(f'2023-11-29T15:{i}:00', dat['timestamp'])\n",
    "    minutes.append(idx)"
   ]
  },
  {
   "cell_type": "code",
   "execution_count": null,
   "id": "7d4ecac2-4281-4716-8cb6-710622eaa4c3",
   "metadata": {},
   "outputs": [],
   "source": [
    "date_to_indice(f'2024-11-20T09:40:00', dat['timestamp'])"
   ]
  },
  {
   "cell_type": "code",
   "execution_count": null,
   "id": "15ca72ea-4cbf-4090-9855-c2eb17ae93fc",
   "metadata": {},
   "outputs": [],
   "source": [
    "index_test"
   ]
  },
  {
   "cell_type": "code",
   "execution_count": null,
   "id": "3ed0069d",
   "metadata": {},
   "outputs": [],
   "source": [
    "date_axis = []\n",
    "plt.figure(figsize = (15, 5))\n",
    "for tstamp in dat['timestamp']:\n",
    "   date_axis.append(dt.datetime.utcfromtimestamp(tstamp))\n",
    "\n",
    "plt.plot(date_axis[index_test:], dat['temperature'][index_test:], '-r')\n",
    "plt.xlabel('Date')\n",
    "plt.ylabel('Temperature (°C)')"
   ]
  },
  {
   "cell_type": "code",
   "execution_count": null,
   "id": "8cacebbc-6884-44ae-be48-5addc66ddd97",
   "metadata": {},
   "outputs": [],
   "source": [
    "plt.figure(figsize = (15, 5))\n",
    "rpN = []\n",
    "for i in range(index_test, len(dat['rpE'])):\n",
    "    rpN.append(dat['rpN'][i] / 10000)\n",
    "plt.plot(date_axis[index_test:], rpN)\n",
    "plt.xlabel('Date')\n",
    "plt.ylabel('North component of relative position vector (1 m)')"
   ]
  },
  {
   "cell_type": "code",
   "execution_count": null,
   "id": "d90df3ce-7d97-47d2-bbc9-986e259f7c78",
   "metadata": {},
   "outputs": [],
   "source": [
    "plt.figure(figsize = (15, 5))\n",
    "rpE = []\n",
    "for i in range(index_test, len(dat['rpE'])):\n",
    "    rpE.append(dat['rpE'][i] / 10000)\n",
    "plt.plot(date_axis[index_test:], rpE)\n",
    "plt.xlabel('Date')\n",
    "plt.ylabel('East component of relative position vector (m)')"
   ]
  },
  {
   "cell_type": "code",
   "execution_count": null,
   "id": "39fa36d0",
   "metadata": {},
   "outputs": [],
   "source": [
    "plt.figure(figsize = (15, 5))\n",
    "rpD = []\n",
    "for i in range(index_test, len(dat['rpE'])):\n",
    "    rpD.append(dat['rpD'][i] / 10000)\n",
    "plt.plot(date_axis[index_test:], rpD)\n",
    "plt.xlabel('Date')\n",
    "plt.ylabel('Down component of relative position vector (m)')"
   ]
  },
  {
   "cell_type": "code",
   "execution_count": null,
   "id": "b86d21b6-7a9b-4ace-888d-e75fdd99c4b6",
   "metadata": {},
   "outputs": [],
   "source": [
    "fig, ax = plt.subplots(figsize = (15, 5))\n",
    "roll = []\n",
    "for i in range(index_test, len(dat['rpE'])):\n",
    "    roll.append(dat['roll'][i] / 1000)\n",
    "ax.plot(date_axis[index_test:], roll)\n",
    "ax.set_xlabel('Date')\n",
    "ax.set_ylabel('Roll angle (deg)')"
   ]
  },
  {
   "cell_type": "code",
   "execution_count": null,
   "id": "5ca137a7-2a4f-4467-aa0e-8ad31e6f3d4b",
   "metadata": {},
   "outputs": [],
   "source": [
    "plt.figure(figsize = (15, 5))\n",
    "yaw = []\n",
    "for i in range(index_test, len(dat['rpE'])):\n",
    "    yaw.append(dat['yaw'][i] / 1000)\n",
    "plt.plot(date_axis[index_test:], yaw)\n",
    "plt.xlabel('Date')\n",
    "plt.ylabel('Yaw angle (deg)')"
   ]
  },
  {
   "cell_type": "code",
   "execution_count": null,
   "id": "37dc926e",
   "metadata": {},
   "outputs": [],
   "source": [
    "plt.figure(figsize = (15, 5))\n",
    "plt.plot(date_axis[index_test:], rpN, 'r', label = 'North Component')\n",
    "plt.plot(date_axis[index_test:], rpE, 'b', label = 'East Component')\n",
    "plt.legend()"
   ]
  },
  {
   "cell_type": "code",
   "execution_count": null,
   "id": "44bf3ac7",
   "metadata": {},
   "outputs": [],
   "source": [
    "fig, ax1 = plt.subplots(figsize = (15,5))\n",
    "#mpl.rcParams['lines.marker'] = '*'\n",
    "#mpl.rcParams['lines.markersize'] = 3\n",
    "\n",
    "\n",
    "\n",
    "color_r = 'tab:red'\n",
    "ax1.set_xlabel('Date')\n",
    "ax1.set_ylabel('North Component (m)', color = color_r)\n",
    "ax1.plot(date_axis[index_test:], rpN, color = color_r, label = 'North component')\n",
    "\n",
    "ax2 = ax1.twinx()\n",
    "\n",
    "color_b = 'tab:blue'\n",
    "color_d = 'tab:green'\n",
    "ax2.set_xlabel('Date')\n",
    "ax2.set_ylabel('East & Down Component (m)', color = color_b)\n",
    "ax2.plot(date_axis[index_test:], rpE, color = color_b, label = 'East component')\n",
    "ax2.plot(date_axis[index_test:], rpD, color = color_d, label = 'Down component')\n",
    "\n",
    "fig.tight_layout()  # otherwise the right y-label is slightly clipped\n",
    "ax1.set_title(\"Position vector components\")\n",
    "fig.legend()\n",
    "plt.show()"
   ]
  },
  {
   "cell_type": "code",
   "execution_count": null,
   "id": "29b48c7b",
   "metadata": {},
   "outputs": [],
   "source": [
    "fig, ax1 = plt.subplots(figsize = (15,5))\n",
    "\n",
    "\n",
    "color_b = 'tab:blue'\n",
    "ax1.set_xlabel('Date')\n",
    "ax1.set_ylabel('Yaw angle (deg)', color = color_b)\n",
    "ax1.plot(date_axis[index_test:], yaw, color = color_b, label = 'Yaw angle')\n",
    "\n",
    "ax2 = ax1.twinx()\n",
    "\n",
    "color_r = 'tab:red'\n",
    "ax2.set_xlabel('Date')\n",
    "ax2.set_ylabel('Roll angle (deg)', color = color_r)\n",
    "ax2.plot(date_axis[index_test:], roll, color = color_r, label = 'Roll angle')\n",
    "\n",
    "\n",
    "fig.tight_layout()  # otherwise the right y-label is slightly clipped\n",
    "ax1.set_title(\"Angles\")\n",
    "fig.legend()\n",
    "plt.show()"
   ]
  },
  {
   "cell_type": "code",
   "execution_count": null,
   "id": "d5bdab13-5ddd-48f3-88be-a3cb0708d700",
   "metadata": {},
   "outputs": [],
   "source": [
    "fig, ax1 = plt.subplots(figsize = (15,5))\n",
    "\n",
    "color_a = 'tab:pink'\n",
    "color_r = 'tab:red'\n",
    "color_b = 'tab:blue'\n",
    "color_d = 'tab:green'\n",
    "color_c = 'tab:brown'\n",
    "ax1.set_xlabel('Date')\n",
    "ax1.set_ylabel('North, East & Down Component (m)', color = color_a)\n",
    "ax1.plot(date_axis[index_test:], rpN, color = color_a, label = 'North component')\n",
    "ax1.plot(date_axis[index_test:], rpE, color = color_b, label = 'East component')\n",
    "ax1.plot(date_axis[index_test:], rpD, color = color_d, label = 'Down component')\n",
    "\n",
    "ax2 = ax1.twinx()\n",
    "\n",
    "ax2.plot(date_axis[index_test:], roll, color = color_r, label = 'Roll angle')\n",
    "ax2.plot(date_axis[index_test:], yaw, color = color_c, label = 'Yaw angle')\n",
    "ax2.set_xlabel('Date')\n",
    "ax2.set_ylabel('Roll & Yaw angles (deg)', color = color_r)\n",
    "\n",
    "\n",
    "fig.tight_layout()  # otherwise the right y-label is slightly clipped\n",
    "ax1.set_title(\"Position vector components\")\n",
    "fig.legend()\n",
    "plt.show()"
   ]
  },
  {
   "cell_type": "code",
   "execution_count": null,
   "id": "9585f1ee",
   "metadata": {},
   "outputs": [],
   "source": [
    "ned = []\n",
    "for i in range(index_test, len(dat['rpN'])):\n",
    "    ned.append([[dat['rpN'][i]], [dat['rpE'][i]], [dat['rpD'][i]]])"
   ]
  },
  {
   "cell_type": "code",
   "execution_count": null,
   "id": "3ac45564",
   "metadata": {},
   "outputs": [],
   "source": [
    "index = 117820\n",
    "\n",
    "print('N', np.mean(dat['rpN'][index]))\n",
    "print('E', np.mean(dat['rpE'][(index-10):(index+10)]))\n",
    "print('D', np.mean(dat['rpD'][(index-10):(index+10)]))\n",
    "print('roll', dat['roll'][index])"
   ]
  },
  {
   "cell_type": "code",
   "execution_count": null,
   "id": "16bd21af-ea19-48d3-ab38-47c807c664aa",
   "metadata": {},
   "outputs": [],
   "source": [
    "ned"
   ]
  },
  {
   "cell_type": "code",
   "execution_count": null,
   "id": "21c8149a",
   "metadata": {},
   "outputs": [],
   "source": [
    "x_lla_condorcet = np.array([[48.8289964], [2.3835022], [101.2]])\n",
    "local_frame = glp.LocalCoord.from_geodetic(x_lla_condorcet)\n",
    "lla = []\n",
    "for j in range(len(ned)):\n",
    "    lla.append(local_frame.ned_to_geodetic(np.array(ned[j])/10000))\n",
    "lla = np.reshape(lla, [np.shape(lla)[0], np.shape(lla)[1]])"
   ]
  },
  {
   "cell_type": "code",
   "execution_count": null,
   "id": "9616deb5",
   "metadata": {},
   "outputs": [],
   "source": [
    "lla"
   ]
  },
  {
   "cell_type": "code",
   "execution_count": null,
   "id": "826b1bc8-3a3e-47cf-b096-8bf98b2d1418",
   "metadata": {},
   "outputs": [],
   "source": [
    "np.shape(lla)[0]"
   ]
  },
  {
   "cell_type": "code",
   "execution_count": null,
   "id": "91aeae79",
   "metadata": {},
   "outputs": [],
   "source": [
    "nav_data = glp.NavData()\n",
    "nav_data['lat_*_deg'] = np.zeros(np.shape(lla)[0])\n",
    "nav_data['lon_*_deg'] = np.zeros(np.shape(lla)[0])\n",
    "\n",
    "for k in range(np.shape(lla)[0]):\n",
    "    nav_data['lat_*_deg', k] = lla[k][0]\n",
    "    nav_data['lon_*_deg', k] = lla[k][1]"
   ]
  },
  {
   "cell_type": "code",
   "execution_count": null,
   "id": "b3288fc4",
   "metadata": {},
   "outputs": [],
   "source": [
    "nav_data"
   ]
  },
  {
   "cell_type": "code",
   "execution_count": null,
   "id": "da699241",
   "metadata": {},
   "outputs": [],
   "source": [
    "fig = glp.plot_map(nav_data)\n",
    "fig.show()"
   ]
  },
  {
   "cell_type": "code",
   "execution_count": null,
   "id": "1baf9e99",
   "metadata": {},
   "outputs": [],
   "source": [
    "from mpl_toolkits.mplot3d import Axes3D\n",
    "#%matplotlib widget\n",
    "\n",
    "X, Y, Z = np.zeros((3, len(dat['rpN'][index_test:index_test+100])))\n",
    "North, East, Down = [], [], []\n",
    "for i in range(index_test, index_test+100):\n",
    "    North.append(dat['rpE'][i] / 10000)\n",
    "    East.append(dat['rpN'][i] / 10000)\n",
    "    Down.append(dat['rpD'][i] / 10000)\n",
    "\n",
    "fig = plt.figure()\n",
    "ax = fig.add_subplot(111, projection='3d')\n",
    "ax.quiver(X ,Y, Z, North, East, Down)\n",
    "ax.set_ylabel('North Component (m)')\n",
    "ax.set_xlabel('East Component (m)')\n",
    "ax.set_zlabel('Down Component (m)')\n",
    "ax.set_xlim([-1, 1])\n",
    "ax.set_ylim([-0.5, 0.5])\n",
    "ax.set_zlim([-0.2, 0.5])\n",
    "plt.show()"
   ]
  },
  {
   "cell_type": "code",
   "execution_count": null,
   "id": "cb4e31af-81a1-4728-bdd1-e36333ccef30",
   "metadata": {},
   "outputs": [],
   "source": [
    "#%matplotlib widget\n",
    "\n",
    "X, Y = np.zeros((2, len(dat['rpN'][index_test:])))\n",
    "North, East = [], []\n",
    "for i in range(index_test, len(dat['rpN'])):\n",
    "    North.append(dat['rpN'][i] / 10000)\n",
    "    East.append(dat['rpE'][i] / 10000)\n",
    "\n",
    "fig, ax = plt.subplots(figsize=(10,10))\n",
    "ax.quiver(X ,Y, East, North, angles='xy', scale_units='xy', scale=1)\n",
    "ax.set_ylabel('North Component (m)')\n",
    "ax.set_xlabel('East Component (m)')\n",
    "ax.set_xlim([-2.5, 2.5])\n",
    "ax.set_ylim([-2.5, 2.5])\n",
    "plt.show()"
   ]
  },
  {
   "cell_type": "code",
   "execution_count": null,
   "id": "e3864cc6-e564-4aa6-9758-41adced7622c",
   "metadata": {},
   "outputs": [],
   "source": [
    "X, Y = np.zeros((2, len(dat['rpN'][index_test:index_test_alt])))\n",
    "North, East = [], []\n",
    "for i in range(index_test, index_test_alt):\n",
    "    North.append(dat['rpN'][i] / 10000)\n",
    "    East.append(dat['rpE'][i] / 10000)\n",
    "\n",
    "fig, ax = plt.subplots(figsize=(10,10))\n",
    "ax.quiver(X ,Y, East, North, angles='xy', scale_units='xy', scale=1)\n",
    "ax.set_ylabel('North Component (m)')\n",
    "ax.set_xlabel('East Component (m)')\n",
    "ax.set_xlim([-2.5, 2.5])\n",
    "ax.set_ylim([-2.5, 2.5])\n",
    "plt.show()"
   ]
  },
  {
   "cell_type": "code",
   "execution_count": null,
   "id": "46ae4d2e-08a8-4798-ab47-3e8fec58bf08",
   "metadata": {},
   "outputs": [],
   "source": [
    "#%matplotlib widget\n",
    "\n",
    "X, Y = np.zeros((2, len(dat['rpN'][index_test:])))\n",
    "North, East = [], []\n",
    "for i in range(index_test, len(dat['rpN'])):\n",
    "    North.append(dat['rpN'][i] / 10000)\n",
    "    East.append(dat['rpE'][i] / 10000)\n",
    "    \n",
    "idx_date = date_to_indice('2023-11-29T15:17:00', dat['timestamp'])\n",
    "\n",
    "fig, ax = plt.subplots(figsize=(10,10))\n",
    "ax.quiver(X[0] ,Y[0], East[idx_date - index_test], North[idx_date - index_test], angles='xy', scale_units='xy', scale=1)\n",
    "ax.set_ylabel('North Component (m)')\n",
    "ax.set_xlabel('East Component (m)')\n",
    "ax.set_title(\"Position vector in North-East plane\")\n",
    "ax.set_xlim([-2.5, 2.5])\n",
    "ax.set_ylim([-2.5, 2.5])\n",
    "plt.show()"
   ]
  },
  {
   "cell_type": "code",
   "execution_count": null,
   "id": "64df22cf-af43-4776-a991-e4e2c0dcc9a7",
   "metadata": {},
   "outputs": [],
   "source": [
    "north_vector = [1, 0]\n",
    "north_vector_unit = north_vector / np.linalg.norm(north_vector)\n",
    "angles = []\n",
    "\n",
    "for i in range(index_test_alt - index_test):\n",
    "    position_vector = [North[i], East[i]]\n",
    "    position_vector_unit = position_vector / np.linalg.norm(position_vector)\n",
    "\n",
    "    dot_product = np.dot(position_vector_unit, north_vector_unit)\n",
    "    angle_deviation = np.arccos(dot_product)\n",
    "    angles.append(angle_deviation * 180 / np.pi)\n",
    "print(np.mean(angles))"
   ]
  },
  {
   "cell_type": "code",
   "execution_count": null,
   "id": "9b31a423-177c-4e65-bf35-9896ebb93b69",
   "metadata": {},
   "outputs": [],
   "source": [
    "roll_test = []\n",
    "\n",
    "north_vector = [1, 0]\n",
    "north_vector_unit = north_vector / np.linalg.norm(north_vector)\n",
    "angles = []\n",
    "\n",
    "idx = date_to_indice('2023-11-29T15:20:40', dat['timestamp'])\n",
    "idx_alt = date_to_indice('2023-11-29T15:22:00', dat['timestamp'])\n",
    "\n",
    "for i in range(idx_alt - idx):\n",
    "    position_vector = [North[i], East[i]]\n",
    "    position_vector_unit = position_vector / np.linalg.norm(position_vector)\n",
    "\n",
    "    dot_product = np.dot(position_vector_unit, north_vector_unit)\n",
    "    angle_deviation = np.arccos(dot_product)\n",
    "    angles.append(angle_deviation * 180 / np.pi)\n",
    "print(np.mean(angles))\n",
    "\n",
    "\n",
    "for i in range(idx, idx_alt):\n",
    "    roll_test.append((dat['roll'][i] / 1000) - np.mean(angles))\n",
    "print(np.mean(roll_test))\n",
    "plt.plot(roll_test)"
   ]
  },
  {
   "cell_type": "code",
   "execution_count": null,
   "id": "f5f6819c-e85d-4c8d-b94b-3f7677be5dba",
   "metadata": {},
   "outputs": [],
   "source": []
  },
  {
   "cell_type": "code",
   "execution_count": null,
   "id": "59bc5d4d-002e-494d-8035-cf57c2b7a418",
   "metadata": {},
   "outputs": [],
   "source": []
  },
  {
   "cell_type": "code",
   "execution_count": null,
   "id": "22aa9050-88a2-4ac2-afde-1a2bb11441d1",
   "metadata": {},
   "outputs": [],
   "source": []
  },
  {
   "cell_type": "code",
   "execution_count": null,
   "id": "05038972-c656-4fb7-99f4-64393356d09c",
   "metadata": {},
   "outputs": [],
   "source": []
  }
 ],
 "metadata": {
  "jupytext": {
   "formats": "ipynb,Rmd"
  },
  "kernelspec": {
   "display_name": "venv-qubic",
   "language": "python",
   "name": "python3"
  },
  "language_info": {
   "codemirror_mode": {
    "name": "ipython",
    "version": 3
   },
   "file_extension": ".py",
   "mimetype": "text/x-python",
   "name": "python",
   "nbconvert_exporter": "python",
   "pygments_lexer": "ipython3",
   "version": "3.9.18"
  }
 },
 "nbformat": 4,
 "nbformat_minor": 5
}
