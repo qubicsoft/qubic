{
 "cells": [
  {
   "cell_type": "code",
   "execution_count": null,
   "metadata": {},
   "outputs": [],
   "source": [
    "import numpy as np\n",
    "import matplotlib.pyplot as plt\n",
    "import plotly.figure_factory as ff\n",
    "import datetime as dt\n",
    "import emcee\n",
    "\n",
    "from scipy.spatial import Delaunay\n",
    "from scipy.stats import linregress\n",
    "from scipy.optimize import curve_fit\n",
    "from getdist import plots, MCSamples\n",
    "\n",
    "from qubic.lib.Qgps import GPSAntenna\n",
    "import qubic.lib.Calibration.Qfiber as ft\n",
    " \n",
    "%matplotlib inline"
   ]
  },
  {
   "cell_type": "markdown",
   "metadata": {},
   "source": [
    "# Import data"
   ]
  },
  {
   "cell_type": "code",
   "execution_count": null,
   "metadata": {},
   "outputs": [],
   "source": [
    "### Build GPS data file path\n",
    "data_path = \"calsource_orientation.dat\"\n",
    "\n",
    "### Define the distance between the two antennas\n",
    "distance_between_antennas = 1.3"
   ]
  },
  {
   "cell_type": "code",
   "execution_count": null,
   "metadata": {},
   "outputs": [],
   "source": [
    "### Build the GPSAntenna instance\n",
    "gps_antenna = GPSAntenna(data_path, distance_between_antennas)"
   ]
  },
  {
   "cell_type": "code",
   "execution_count": null,
   "metadata": {},
   "outputs": [],
   "source": [
    "date = np.array([dt.datetime(year=2024, month=12, day=12, hour=8, minute=55, second=0)])\n",
    "index_ini = gps_antenna.get_observation_indices(gps_antenna._datetime, date)[0]\n",
    "print('Initial index = ', index_ini)\n",
    "print('size observation times : ', len(gps_antenna._datetime))"
   ]
  },
  {
   "cell_type": "code",
   "execution_count": null,
   "metadata": {},
   "outputs": [],
   "source": [
    "gps_antenna.plot_gps_data(index_start=index_ini)"
   ]
  },
  {
   "cell_type": "markdown",
   "metadata": {},
   "source": [
    "# Build observation time indices"
   ]
  },
  {
   "cell_type": "code",
   "execution_count": null,
   "metadata": {},
   "outputs": [],
   "source": [
    "array_hours = np.array([8, 9, 9, 9, 9, 9, 9, 9, 9, 9, 9, 10, 10, 10, 10, 10, 10, 10, 10, 11, 11, 11, 11, 11])\n",
    "array_minutes_begins = np.array([55, 00, 6, 12, 19, 25, 32, 41, 46, 52, 58, 4, 10, 19, 27, 34, 40, 46, 53, 1, 7, 13, 20, 25])\n",
    "\n",
    "array_minutes_ending = array_minutes_begins.copy() - 1\n",
    "array_minutes_ending[1] = 0\n",
    "\n",
    "array_seconds_begins = np.ones(array_hours.shape, dtype=int) * 59\n",
    "array_seconds_ending = np.zeros(array_hours.shape, dtype=int)\n",
    "\n",
    "array_datetime = np.array([])\n",
    "array_index = np.array([], dtype=int)\n",
    "for index in range(array_hours.shape[0]):\n",
    "    array_datetime = np.append(array_datetime, dt.datetime(year=2024, month=12, day=12, hour=array_hours[index], minute=array_minutes_begins[index], second=array_seconds_begins[index]))\n",
    "for index in range(1, array_hours.shape[0]):\n",
    "    array_datetime = np.append(array_datetime, dt.datetime(year=2024, month=12, day=12, hour=array_hours[index], minute=array_minutes_ending[index], second=array_seconds_ending[index]))\n",
    "array_datetime = np.append(array_datetime, dt.datetime(year=2024, month=12, day=12, hour=11, minute=33, second=0))\n",
    "\n",
    "for index in range(array_datetime.shape[0]):\n",
    "    array_index = np.append(array_index, gps_antenna.get_observation_indices(gps_antenna._datetime, np.array([array_datetime[index]])))"
   ]
  },
  {
   "cell_type": "code",
   "execution_count": null,
   "metadata": {},
   "outputs": [],
   "source": [
    "array_index.shape"
   ]
  },
  {
   "cell_type": "code",
   "execution_count": null,
   "metadata": {},
   "outputs": [],
   "source": [
    "fig, ax1 = plt.subplots(figsize = (15,5))\n",
    "\n",
    "color_a = 'tab:pink'\n",
    "color_r = 'tab:red'\n",
    "color_b = 'tab:blue'\n",
    "color_d = 'tab:green'\n",
    "color_c = 'tab:brown'\n",
    "\n",
    "ax1.set_xlabel('Date')\n",
    "ax1.set_ylabel('Position Vector Components (m)', color = color_r)\n",
    "ax1.plot(gps_antenna._datetime[index_ini:], gps_antenna.rpN[index_ini:], color = color_r, label = 'North component')\n",
    "ax1.plot(gps_antenna._datetime[index_ini:], gps_antenna.rpE[index_ini:], color = color_b, label = 'East component')\n",
    "ax1.plot(gps_antenna._datetime[index_ini:], gps_antenna.rpD[index_ini:], color = color_d, label = 'Up component')\n",
    "\n",
    "ax2 = ax1.twinx()\n",
    "\n",
    "ax2.plot(gps_antenna._datetime[index_ini:], gps_antenna.roll[index_ini:], color = color_a, label = 'Roll angle')\n",
    "ax2.plot(gps_antenna._datetime[index_ini:], gps_antenna.yaw[index_ini:], color = color_c, label = 'Yaw angle')\n",
    "ax2.set_xlabel('Date')\n",
    "ax2.set_ylabel('Angles (rad)', color = color_a)\n",
    "\n",
    "for obs_index in array_index:\n",
    "    ax1.vlines(gps_antenna._datetime[obs_index], 3.5, -1.5, 'grey', linestyles='--')\n",
    "ax1.vlines(gps_antenna._datetime[array_index[6]], 3.5, -1.5, 'r', linestyles='--')\n",
    "ax1.vlines(gps_antenna._datetime[array_index[6 + int(array_hours.shape[0])]], 3.5, -1.5, 'r', linestyles='--')\n",
    "\n",
    "fig.tight_layout()\n",
    "ax1.set_title(\"Position vector components\")\n",
    "fig.legend(bbox_to_anchor=(1, 1), loc='upper left')\n",
    "plt.show()"
   ]
  },
  {
   "cell_type": "code",
   "execution_count": null,
   "metadata": {},
   "outputs": [],
   "source": [
    "# Function to remove the movement between each configurations\n",
    "def only_data(array, indices):\n",
    "    data_array = np.array([])\n",
    "    \n",
    "    for i in range(int(indices.shape[0]/2)):\n",
    "        data_array = np.append(data_array, array[indices[i]:indices[i+int(indices.shape[0]/2)]])\n",
    "    \n",
    "    return data_array"
   ]
  },
  {
   "cell_type": "code",
   "execution_count": null,
   "metadata": {},
   "outputs": [],
   "source": [
    "data_rpN = only_data(gps_antenna.rpN, array_index)\n",
    "data_rpE = only_data(gps_antenna.rpE, array_index)\n",
    "data_rpD = only_data(gps_antenna.rpD, array_index)\n",
    "data_roll = only_data(gps_antenna.roll, array_index)\n",
    "data_yaw = only_data(gps_antenna.yaw, array_index)"
   ]
  },
  {
   "cell_type": "code",
   "execution_count": null,
   "metadata": {},
   "outputs": [],
   "source": [
    "fig, ax1 = plt.subplots(figsize = (15,5))\n",
    "\n",
    "color_a = 'tab:pink'\n",
    "color_r = 'tab:red'\n",
    "color_b = 'tab:blue'\n",
    "color_d = 'tab:green'\n",
    "color_c = 'tab:brown'\n",
    "\n",
    "ax1.set_xlabel('Date')\n",
    "ax1.set_ylabel('Position Vector Components (m)', color = color_r)\n",
    "ax1.plot(data_rpN, color = color_r, label = 'North component')\n",
    "ax1.plot(data_rpE, color = color_b, label = 'East component')\n",
    "ax1.plot(data_rpD, color = color_d, label = 'Up component')\n",
    "\n",
    "ax2 = ax1.twinx()\n",
    "\n",
    "ax2.plot(data_roll, color = color_a, label = 'Roll angle')\n",
    "ax2.plot(data_yaw, color = color_c, label = 'Yaw angle')\n",
    "ax2.set_xlabel('Date')\n",
    "ax2.set_ylabel('Angles (rad)', color = color_a)\n",
    "\n",
    "fig.tight_layout()\n",
    "ax1.set_title(\"Position vector components\")\n",
    "fig.legend(bbox_to_anchor=(1, 1), loc='upper left')\n",
    "plt.show()"
   ]
  },
  {
   "cell_type": "markdown",
   "metadata": {},
   "source": [
    "# Standard deviation for each configurations"
   ]
  },
  {
   "cell_type": "code",
   "execution_count": null,
   "metadata": {},
   "outputs": [],
   "source": [
    "# Function to compute the standard deviation avoiding moments when I changed the experimental configuration\n",
    "def only_data_std(array, indices):\n",
    "    data_array = np.array([])\n",
    "    \n",
    "    for i in range(int(indices.shape[0]/2)):\n",
    "        data_array = np.append(data_array, np.std(array[indices[i]:indices[i+int(indices.shape[0]/2)]]))\n",
    "    \n",
    "    return data_array"
   ]
  },
  {
   "cell_type": "code",
   "execution_count": null,
   "metadata": {},
   "outputs": [],
   "source": [
    "# Multiply by 100 to convert from m to cm\n",
    "std_rpN = only_data_std(gps_antenna.rpN, array_index) * 100\n",
    "std_rpE = only_data_std(gps_antenna.rpE, array_index) * 100\n",
    "std_rpD = only_data_std(gps_antenna.rpD, array_index) * 100\n",
    "std_roll = np.degrees(only_data_std(gps_antenna.roll, array_index))\n",
    "std_yaw = np.degrees(only_data_std(gps_antenna.yaw, array_index))"
   ]
  },
  {
   "cell_type": "code",
   "execution_count": null,
   "metadata": {},
   "outputs": [],
   "source": [
    "distance_base_antenna1 = np.array([20, 20, 20, 20, 20, 100, 100, 100, 100, 200, 200, 200, 200])\n",
    "distance_base_antenna2 = np.array([20, 50, 100, 200, 300, 300, 200, 100, 50, 50, 100, 200, 300])\n",
    "\n",
    "distance_base_antenna2_bis = np.array([300, 300, 300, 200, 200, 200, 200, 100, 100, 100, 100])\n",
    "distance_antenna1_antenna2 = np.array([50, 100, 200, 50, 100, 200, 300, 50, 100, 200, 300])"
   ]
  },
  {
   "cell_type": "code",
   "execution_count": null,
   "metadata": {},
   "outputs": [],
   "source": [
    "fig, ax1 = plt.subplots(figsize = (15,5))\n",
    "\n",
    "color_a = 'tab:pink'\n",
    "color_r = 'tab:red'\n",
    "color_b = 'tab:blue'\n",
    "color_d = 'tab:green'\n",
    "color_c = 'tab:brown'\n",
    "\n",
    "ax1.set_xlabel('Configurations index')\n",
    "ax1.set_ylabel('Standard deviation of Position (cm)', color = color_r)\n",
    "ax1.plot(std_rpN, label = 'rpN', color=color_r)\n",
    "ax1.plot(std_rpE, label = 'rpE', color=color_b)\n",
    "ax1.plot(std_rpD, label = 'rpD', color=color_d)\n",
    "ax2 = ax1.twinx()\n",
    "\n",
    "ax2.plot(std_roll, label = 'roll', color=color_a)\n",
    "ax2.plot(std_yaw, label = 'yaw', color=color_c)\n",
    "ax2.set_xlabel('Configurations index')\n",
    "ax2.set_ylabel('Standard Deviation of Angles (degrees)', color = color_a)\n",
    "\n",
    "fig.tight_layout()\n",
    "ax1.set_title(\"Standard deviation of the GPS data for all experimental configurations\")\n",
    "fig.legend(bbox_to_anchor=(1, 1), loc='upper left')\n",
    "plt.show()"
   ]
  },
  {
   "cell_type": "code",
   "execution_count": null,
   "metadata": {},
   "outputs": [],
   "source": [
    "print('Minimum Std Position : ', np.min([std_rpD, std_rpE, std_rpN]).round(2), '(cm), Maximum Std Position : ', np.max([std_rpD, std_rpE, std_rpN]).round(2), '(cm)')\n",
    "print('Minimum Std Angle : ', np.min([std_roll, std_yaw]).round(2), '(degrees), Maximum Std Angle : ', np.max([std_roll, std_yaw]).round(2), '(degrees)')"
   ]
  },
  {
   "cell_type": "markdown",
   "metadata": {},
   "source": [
    "## Standard Deviation for Experiment 1"
   ]
  },
  {
   "cell_type": "code",
   "execution_count": null,
   "metadata": {},
   "outputs": [],
   "source": [
    "def plot_std_exp1(array, pos=True):\n",
    "    plt.figure()\n",
    "    if pos:\n",
    "        leg = 'cm'\n",
    "    else:\n",
    "        leg = 'deg'\n",
    "    scatter = plt.scatter(distance_base_antenna2, distance_base_antenna1, s=array[:distance_base_antenna1.shape[0]]*100, c=array[:distance_base_antenna1.shape[0]], cmap='viridis')\n",
    "    plt.colorbar(scatter, label=f'Standard deviation ({leg})')\n",
    "    plt.xlabel('Distance Base-Antenna 2 (cm)')\n",
    "    plt.ylabel('Distance Base-Antenna 1 (cm)')"
   ]
  },
  {
   "cell_type": "code",
   "execution_count": null,
   "metadata": {},
   "outputs": [],
   "source": [
    "plot_std_exp1(std_rpN)\n",
    "plt.title('Standard deviation of the North component of antenna 1')\n",
    "plt.show()\n",
    "plot_std_exp1(std_rpE)\n",
    "plt.title('Standard deviation of the East component of antenna 1')\n",
    "plt.show()\n",
    "plot_std_exp1(std_rpD)\n",
    "plt.title('Standard deviation of the Up component of antenna 1')\n",
    "plt.show()\n",
    "plot_std_exp1(std_roll, pos=False)\n",
    "plt.title('Standard deviation of the roll angle of antenna 1')\n",
    "plt.show()\n",
    "plot_std_exp1(std_yaw, pos=False)\n",
    "plt.title('Standard deviation of the yaw angle of antenna 1')\n",
    "plt.show()"
   ]
  },
  {
   "cell_type": "markdown",
   "metadata": {},
   "source": [
    "## Standard Deviation for Experiment 2"
   ]
  },
  {
   "cell_type": "code",
   "execution_count": null,
   "metadata": {},
   "outputs": [],
   "source": [
    "def plot_std_exp2(array, pos=True):\n",
    "    if pos:\n",
    "        leg = 'cm'\n",
    "    else:\n",
    "        leg = 'deg'\n",
    "    scatter = plt.scatter(distance_base_antenna2_bis, distance_antenna1_antenna2, s=array[distance_base_antenna2.shape[0]:]*100, c=array[distance_base_antenna2.shape[0]:], cmap='viridis')\n",
    "    plt.colorbar(scatter, label=f'Standard deviation ({leg})')\n",
    "    plt.legend()\n",
    "    plt.xlabel('Distance Base-Antenna 2 (cm)')\n",
    "    plt.ylabel('Distance Antenna 1 - Antenna 2')"
   ]
  },
  {
   "cell_type": "code",
   "execution_count": null,
   "metadata": {},
   "outputs": [],
   "source": [
    "plot_std_exp2(std_rpN)\n",
    "plt.title('Standard deviation of the North component of antenna 1')\n",
    "plt.show()\n",
    "plot_std_exp2(std_rpE)\n",
    "plt.title('Standard deviation of the East component of antenna 1')\n",
    "plt.show()\n",
    "plot_std_exp2(std_rpD)\n",
    "plt.title('Standard deviation of the Up component of antenna 1')\n",
    "plt.show()\n",
    "plot_std_exp2(std_roll, pos=False)\n",
    "plt.title('Standard deviation of the roll angle of antenna 1')\n",
    "plt.show()\n",
    "plot_std_exp2(std_yaw, pos=False)\n",
    "plt.title('Standard deviation of the yaw angle of antenna 1')\n",
    "plt.show()"
   ]
  },
  {
   "cell_type": "markdown",
   "metadata": {},
   "source": [
    "# Incertainty on antenna 1 position\n",
    "\n",
    "$\\Delta r = \\sqrt{(\\frac{x}{r}\\Delta x)^{2} + (\\frac{y}{r}\\Delta y)^{2} + (\\frac{z}{r}\\Delta z)^{2}}$"
   ]
  },
  {
   "cell_type": "code",
   "execution_count": null,
   "metadata": {},
   "outputs": [],
   "source": [
    "delta_r = np.array([])\n",
    "\n",
    "for i in range(int(array_index.shape[0]/2)):\n",
    "    data_array_north = np.mean(gps_antenna.rpN[array_index[i]:array_index[i+int(array_index.shape[0]/2)]] )\n",
    "    data_array_east = np.mean(gps_antenna.rpE[array_index[i]:array_index[i+int(array_index.shape[0]/2)]] )\n",
    "    data_array_down = np.mean(gps_antenna.rpD[array_index[i]:array_index[i+int(array_index.shape[0]/2)]])\n",
    "\n",
    "    # Don't forget to convert from m to cm\n",
    "    std_north = np.std(gps_antenna.rpN[array_index[i]:array_index[i+int(array_index.shape[0]/2)]]) * 100\n",
    "    std_east = np.std(gps_antenna.rpE[array_index[i]:array_index[i+int(array_index.shape[0]/2)]]) * 100\n",
    "    std_down = np.std(gps_antenna.rpD[array_index[i]:array_index[i+int(array_index.shape[0]/2)]]) * 100\n",
    "\n",
    "    r = np.sqrt(data_array_north**2 + data_array_east**2 + data_array_down**2)\n",
    "\n",
    "    delta_r = np.append(delta_r, np.sqrt((data_array_north * std_north / r)**2 + \n",
    "                                         (data_array_east * std_east / r)**2 + \n",
    "                                         (data_array_down * std_down / r)**2))\n",
    "print(delta_r.shape)"
   ]
  },
  {
   "cell_type": "code",
   "execution_count": null,
   "metadata": {},
   "outputs": [],
   "source": [
    "plt.figure()\n",
    "scatter = plt.scatter(distance_base_antenna2, distance_base_antenna1, s=delta_r[:distance_base_antenna1.shape[0]]*100, c=delta_r[:distance_base_antenna1.shape[0]], cmap='viridis')\n",
    "plt.colorbar(scatter, label='Standard deviation (cm)')\n",
    "plt.xlabel('Distance Base-Antenna 2 (cm)')\n",
    "plt.ylabel('Distance Base-Antenna 1 (cm)')\n",
    "plt.title('Relative error on the position of the antenna 1 during experiment 1')"
   ]
  },
  {
   "cell_type": "code",
   "execution_count": null,
   "metadata": {},
   "outputs": [],
   "source": [
    "def delaunay_surface_plot(x, y, z, title, xtitle, ytitle, ztitle, save=False):\n",
    "    tri = Delaunay(np.array([x, y]).T)\n",
    "    simplices = tri.simplices\n",
    "\n",
    "    fig = ff.create_trisurf(x=x, y=y, z=z,\n",
    "                                simplices=simplices, title=dict(text=title, font=dict(size=24)))\n",
    "    fig.update_layout(scene = dict(xaxis_title=xtitle,\n",
    "                                yaxis_title=ytitle,\n",
    "                                zaxis_title=ztitle),\n",
    "                                )\n",
    "    if save:\n",
    "        fig.write_html('plotly/plotly.html')\n",
    "    fig.show()"
   ]
  },
  {
   "cell_type": "markdown",
   "metadata": {},
   "source": [
    "# Experiment 1"
   ]
  },
  {
   "cell_type": "markdown",
   "metadata": {},
   "source": [
    "## Position Antenna 1"
   ]
  },
  {
   "cell_type": "code",
   "execution_count": null,
   "metadata": {},
   "outputs": [],
   "source": [
    "# Experiment 1\n",
    "delaunay_surface_plot(distance_base_antenna1, distance_base_antenna2, delta_r[:distance_base_antenna1.shape[0]], \n",
    "                      'Relative error on the position of the antenna 1 during experiment 1',\n",
    "                      'Distance Base-Antenna 1 (cm)',\n",
    "                      'Distance Base-Antenna 2 (cm)',\n",
    "                      'Standard Deviation (cm)', save=False)"
   ]
  },
  {
   "cell_type": "markdown",
   "metadata": {},
   "source": [
    "## GPS Data"
   ]
  },
  {
   "cell_type": "code",
   "execution_count": null,
   "metadata": {},
   "outputs": [],
   "source": [
    "idx = -1\n",
    "std_data = np.array([std_rpN, std_rpE, std_rpD, std_roll, std_yaw])\n",
    "names = np.array(['North', 'East', 'Down', 'Roll', 'Yaw'])\n",
    "\n",
    "delaunay_surface_plot(distance_base_antenna1, distance_base_antenna2, std_data[idx][:distance_base_antenna1.shape[0]], \n",
    "                      f'Relative error on {names[idx]} Component during experiment 1',\n",
    "                      'Distance Base-Antenna 1 (cm)',\n",
    "                      'Distance Base-Antenna 2 (cm)',\n",
    "                      'Standard Deviation (cm)')"
   ]
  },
  {
   "cell_type": "markdown",
   "metadata": {},
   "source": [
    "# Experiment 2"
   ]
  },
  {
   "cell_type": "markdown",
   "metadata": {},
   "source": [
    "## Position Antenna 1"
   ]
  },
  {
   "cell_type": "code",
   "execution_count": null,
   "metadata": {},
   "outputs": [],
   "source": [
    "# Experiment 2\n",
    "delaunay_surface_plot(distance_antenna1_antenna2, distance_base_antenna2_bis, delta_r[distance_base_antenna2.shape[0]:],\n",
    "                      'Relative error on the position of the antenna 1 during experiment 2',\n",
    "                      'Distance Antenna 1 - Antenna 2 (cm)',\n",
    "                      'Distance Base-Antenna 2 (cm)',\n",
    "                      'Standard Deviation (cm)', save=False)"
   ]
  },
  {
   "cell_type": "markdown",
   "metadata": {},
   "source": [
    "## GPS Data"
   ]
  },
  {
   "cell_type": "code",
   "execution_count": null,
   "metadata": {},
   "outputs": [],
   "source": [
    "idx = -1\n",
    "std_data = np.array([std_rpN, std_rpE, std_rpD, std_roll, std_yaw])\n",
    "names = np.array(['North', 'East', 'Down', 'Roll', 'Yaw'])\n",
    "\n",
    "delaunay_surface_plot(distance_antenna1_antenna2, distance_base_antenna2_bis, std_data[idx][distance_base_antenna1.shape[0]:], \n",
    "                      f'Relative error on {names[idx]} Component during experiment 2',\n",
    "                      'Distance Antenna 1 - Antenna 2 (cm)',\n",
    "                      'Distance Base-Antenna 2 (cm)',\n",
    "                      'Standard Deviation (cm)')"
   ]
  },
  {
   "cell_type": "markdown",
   "metadata": {},
   "source": [
    "# Noise Power Spectrum"
   ]
  },
  {
   "cell_type": "markdown",
   "metadata": {},
   "source": [
    "## Def useful functions"
   ]
  },
  {
   "cell_type": "code",
   "execution_count": null,
   "metadata": {},
   "outputs": [],
   "source": [
    "timestep = (gps_antenna._datetime[1] - gps_antenna._datetime[0]).microseconds * 1e-6\n",
    "print(\"Timestep : \", timestep, \"s.\")\n",
    "\n",
    "def get_ps(array):\n",
    "    N = array.size\n",
    "    return np.abs(np.fft.rfft(array))**2, np.fft.rfftfreq(N, d=timestep/2)"
   ]
  },
  {
   "cell_type": "code",
   "execution_count": null,
   "metadata": {},
   "outputs": [],
   "source": [
    "power_spectrum, freq = get_ps(gps_antenna.yaw[array_index[0]:array_index[int(array_index.size/2)]])\n",
    "power_spectrum, freq = power_spectrum[1:], freq[1:]\n",
    "\n",
    "plt.plot(freq, power_spectrum)\n",
    "plt.xlabel('Frequency (Hz)')\n",
    "plt.ylabel('Power Spectrum')\n",
    "plt.xscale('log')\n",
    "plt.yscale('log')\n",
    "plt.title('Noise Power Spectrum - Yaw')"
   ]
  },
  {
   "cell_type": "code",
   "execution_count": null,
   "metadata": {},
   "outputs": [],
   "source": [
    "def fit_ps(data, name, nbins=20, range=None, plot=False, return_=False, print_=False):\n",
    "    power_spectrum, freq = get_ps(data)\n",
    "    power_spectrum, freq = power_spectrum[1:], freq[1:]\n",
    "\n",
    "    # Fit a line to the logarithm of the power spectrum\n",
    "    res = linregress(np.log(freq), np.log(power_spectrum))\n",
    "    slope, intercept, std_err = res.slope, res.intercept, res.stderr\n",
    "    \n",
    "    # Create bins for the power spectrum. Allows to understand the fitted line\n",
    "    xx, yy, dx, dy, _ = ft.profile(np.log(freq), np.log(power_spectrum), nbins=nbins, plot=False, rng=range)\n",
    "    res_bin = linregress(xx, yy)\n",
    "    slope_bin, intercept_bin, std_err_bin = res_bin.slope, res_bin.intercept, res_bin.stderr\n",
    "\n",
    "    if print_:\n",
    "        print(f\"Slope: {slope:.2f} \" + \"\\u00B1\" + f' {std_err:.2f}')\n",
    "\n",
    "    if plot:\n",
    "        # Plot the power spectrum and the fit\n",
    "        plt.figure(figsize=(8, 6))\n",
    "        plt.scatter(np.log(freq), np.log(power_spectrum), s=1, color='blue', alpha = 0.5, label='Power Spectrum')\n",
    "        plt.errorbar(xx, yy, xerr=dx, yerr=dy, fmt='ro', label='Binning of the noise power spectrum')\n",
    "        plt.plot(np.log(freq), slope_bin * np.log(freq) + intercept_bin, color='red', label=f'Fit bin - Slope: {slope:.2f} ' + \"\\u00B1\" + f' {std_err:.2f}')\n",
    "        plt.plot(np.log(freq), slope * np.log(freq) + intercept, color='blue', label=f'Fit Power Spectrum - Slope: {slope:.2f} ' + \"\\u00B1\" + f' {std_err:.2f}')\n",
    "\n",
    "\n",
    "        plt.xlabel('Log(k)')\n",
    "        plt.ylabel('Log(P(k))')\n",
    "        plt.title('GPS Noise Power Spectrum - ' + name)\n",
    "        plt.legend()\n",
    "        plt.grid(True)\n",
    "        plt.show()\n",
    "\n",
    "    if return_:\n",
    "        return slope"
   ]
  },
  {
   "cell_type": "markdown",
   "metadata": {},
   "source": [
    "## Fit 1/f noise with curve_fit"
   ]
  },
  {
   "cell_type": "markdown",
   "metadata": {},
   "source": [
    "### Fit on all configurations"
   ]
  },
  {
   "cell_type": "markdown",
   "metadata": {},
   "source": [
    "In this section, I compute the power spectrum for all experimental configurations at same time, and then compute the associated slope for each GPS Data."
   ]
  },
  {
   "cell_type": "code",
   "execution_count": null,
   "metadata": {},
   "outputs": [],
   "source": [
    "gps_data = np.array([data_rpN, data_rpE, data_rpD, data_roll, data_yaw])\n",
    "names = np.array(['North', 'East', 'Down', 'Roll', 'Yaw'])\n",
    "\n",
    "for idx, name in enumerate(names):\n",
    "    fit_ps(gps_data[idx], name, nbins=20, plot=True)"
   ]
  },
  {
   "cell_type": "markdown",
   "metadata": {},
   "source": [
    "### Fit for each configurations"
   ]
  },
  {
   "cell_type": "markdown",
   "metadata": {},
   "source": [
    "In this section, I compute the power spectrum for each experimental configurations, and then compute the mean slope for each GPS Data."
   ]
  },
  {
   "cell_type": "code",
   "execution_count": null,
   "metadata": {},
   "outputs": [],
   "source": [
    "def slope_each_config(data, name):\n",
    "    slope_list = []\n",
    "    for i in range(int(array_index.shape[0]/2)):\n",
    "        data_array = data[array_index[i]:array_index[i+int(array_index.shape[0]/2)]]\n",
    "        slope = fit_ps(data_array, name, nbins=20, return_=True)\n",
    "        slope_list.append(slope)\n",
    "    return np.array(slope_list)"
   ]
  },
  {
   "cell_type": "code",
   "execution_count": null,
   "metadata": {},
   "outputs": [],
   "source": [
    "slope_list = []\n",
    "for i in range(int(array_index.shape[0]/2)):\n",
    "    data_array = gps_antenna.rpN[array_index[i]:array_index[i+int(array_index.shape[0]/2)]]\n",
    "    slope = fit_ps(data_array, 'North', nbins=20, return_=True)\n",
    "    slope_list.append(slope)\n",
    "plt.plot(slope_list)\n",
    "plt.title('Slopes of the Noise Power Spectrum - North Component')\n",
    "plt.xlabel('Configurations index')\n",
    "plt.ylabel('Slope')\n",
    "print('Mean = ', np.mean(np.array(slope_list)))"
   ]
  },
  {
   "cell_type": "code",
   "execution_count": null,
   "metadata": {},
   "outputs": [],
   "source": [
    "data_gps = np.array([gps_antenna.rpN, gps_antenna.rpE, gps_antenna.rpD, gps_antenna.roll, gps_antenna.yaw])\n",
    "\n",
    "for i,data in enumerate(data_gps):\n",
    "    print(f'The mean slope for {names[i]} is : ', np.mean(slope_each_config(data, names[i])).round(2), \"\\u00B1\", np.std(slope_each_config(data, names[i])).round(2))"
   ]
  },
  {
   "cell_type": "markdown",
   "metadata": {},
   "source": [
    "## Fit more advanced noise model"
   ]
  },
  {
   "cell_type": "markdown",
   "metadata": {},
   "source": [
    "$P_{noise}(f) = A_{white}^2 (1 + |f_{knee}/f|^{\\alpha})$"
   ]
  },
  {
   "cell_type": "code",
   "execution_count": null,
   "metadata": {},
   "outputs": [],
   "source": [
    "def noise_1_over_f(x, slope):\n",
    "    return (1/x)**slope\n",
    "\n",
    "def noise_model(x, A, f_knee, slope):\n",
    "    return A**2 * (1 + np.abs(f_knee/x)**slope)"
   ]
  },
  {
   "cell_type": "code",
   "execution_count": null,
   "metadata": {},
   "outputs": [],
   "source": [
    "def fit_noise_model(data, name, plot=False, _return=False):\n",
    "    power_spectrum, freq = get_ps(data)\n",
    "    power_spectrum, freq = power_spectrum[1:], freq[1:]\n",
    "\n",
    "    params, err = curve_fit(noise_model, freq, power_spectrum, maxfev=10000)#, bounds=([0, 0, 0], [1e10, 1e10, 10]))\n",
    "\n",
    "    if plot:\n",
    "        plt.plot(freq, power_spectrum, label='Data')\n",
    "        plt.plot(freq, noise_model(freq, *params), label='Fit')\n",
    "        plt.xlabel('Frequency (Hz)')\n",
    "        plt.ylabel('Power Spectrum')\n",
    "        plt.title(f'Noise Model Fit for {name}')\n",
    "        plt.legend()\n",
    "        plt.show()\n",
    "    \n",
    "    print(f\"Noise model parameters for {name}: A = \", params[0].round(3), \"f_knee = \", params[1].round(3), \"slope = \", params[2].round(3))\n",
    "\n",
    "    if _return:\n",
    "        return params, err\n",
    "    \n",
    "def fit_noise_model_all(data, name, plot=False):\n",
    "    params = []\n",
    "    errors = []\n",
    "    for i in range(int(array_index.size/2)):\n",
    "        param, err = fit_noise_model(data[array_index[i]:array_index[i + int(array_index.size/2)]], name, plot, _return=True)\n",
    "        params.append(param)\n",
    "        errors.append(err)\n",
    "    return np.array(params), np.array(errors) "
   ]
  },
  {
   "cell_type": "code",
   "execution_count": null,
   "metadata": {},
   "outputs": [],
   "source": [
    "params, errors = fit_noise_model_all(gps_antenna.rpN, 'North')"
   ]
  },
  {
   "cell_type": "code",
   "execution_count": null,
   "metadata": {},
   "outputs": [],
   "source": [
    "fig, ax1 = plt.subplots(figsize = (15,5))\n",
    "ax1plot = plt.errorbar(np.arange(0, 24), params[:, 0], yerr=errors[:, 0, 0], label=r\"$A_{white}$\", color='b')\n",
    "ax2 = ax1.twinx()\n",
    "ax2plot = plt.errorbar(np.arange(0, 24), params[:, 1], yerr=errors[:, 1, 1], label=r\"$f_{knee}$\", color='r')\n",
    "ax3 = ax1.twinx()\n",
    "ax3plot = plt.errorbar(np.arange(0, 24), params[:, 2], yerr=errors[:, 2, 2], label=r\"$\\alpha$\", color='g')\n",
    "ax3.spines[\"right\"].set_position((\"outward\", 40))  \n",
    "fig.legend(bbox_to_anchor=(1, 1), loc='upper left')\n",
    "ax1.set_xlabel('Configuration Index')\n",
    "ax1.set_ylabel('Parameter Value')\n",
    "ax1.tick_params(axis=\"y\", labelcolor=\"b\")\n",
    "ax2.tick_params(axis=\"y\", labelcolor=\"r\")\n",
    "ax3.tick_params(axis=\"y\", labelcolor=\"green\")"
   ]
  },
  {
   "cell_type": "code",
   "execution_count": null,
   "metadata": {},
   "outputs": [],
   "source": [
    "index = 22\n",
    "# Triangle plot\n",
    "from getdist import plots, MCSamples\n",
    "n_samples = 10000\n",
    "samples = np.random.multivariate_normal(mean=params[index], cov=errors[index], size=n_samples)\n",
    "\n",
    "param_names = [\"A_{white}\", \"f_{knee}\", \"alpha\"]  \n",
    "mcsamples = MCSamples(samples=samples, names=param_names, labels=param_names)\n",
    "\n",
    "g = plots.get_subplot_plotter()\n",
    "g.triangle_plot(mcsamples, filled=True, markers={\"A_{white}\":params[index, 0], \"f_{knee}\":params[index, 1], \"alpha\":params[index, 2]})\n",
    "plt.suptitle(r\"Fit of the noise model for a given configuration : $P_{noise}(f) = A_{white}^2 (1 + |\\frac{f_{knee}}{f}|^{\\alpha})$\")\n",
    "\n",
    "# Fit plot\n",
    "plt.figure()\n",
    "ps_test, freq_test = get_ps(gps_antenna.rpN[array_index[index]:array_index[index+(int(array_index.size/2))]])\n",
    "freq_test, ps_test = freq_test[1:], ps_test[1:]\n",
    "plt.plot(freq_test, ps_test, label=\"Noise Power Spectrum on North Position\")\n",
    "plt.errorbar(freq_test, noise_model(freq_test, params[index, 0], params[index, 1], params[index, 2]), \n",
    "             yerr=noise_model(freq_test, errors[index, 0, 0], errors[index, 1, 1], errors[index, 2, 2]), \n",
    "             fmt=\"o\", label=\"Fitted Noise Power Spectrum\")\n",
    "plt.legend()\n",
    "plt.xlabel(\"Frequency [Hz]\")\n",
    "plt.ylabel(\"Noise Power Spectrum\")\n",
    "plt.xscale(\"log\")\n",
    "plt.yscale(\"log\")"
   ]
  },
  {
   "cell_type": "markdown",
   "metadata": {},
   "source": [
    "## Fit noise 1/f with MCMC"
   ]
  },
  {
   "cell_type": "code",
   "execution_count": null,
   "metadata": {},
   "outputs": [],
   "source": [
    "def get_power_spectrum(data):\n",
    "    power_spectrum, freq = get_ps(data)\n",
    "    power_spectrum, freq = power_spectrum[1:], freq[1:]\n",
    "\n",
    "    # Create bins for the power spectrum. Allows to understand the fitted line\n",
    "    freq, power_spectrum, dx, dy, _ = ft.profile(np.log(freq), np.log(power_spectrum), nbins=20, plot=False)\n",
    "    \n",
    "    return power_spectrum, freq, dy"
   ]
  },
  {
   "cell_type": "code",
   "execution_count": null,
   "metadata": {},
   "outputs": [],
   "source": [
    "def noise_one_over_f(params, x):\n",
    "    alpha = params[0]\n",
    "    return (1/x)**alpha\n",
    "\n",
    "def noise_model(params, x):\n",
    "    A, f_knee, slope = params\n",
    "    return A**2 * (1 + np.abs(f_knee/x)**slope)"
   ]
  },
  {
   "cell_type": "code",
   "execution_count": null,
   "metadata": {},
   "outputs": [],
   "source": [
    "def log_likelihood(params, x, y, yerr):\n",
    "    model_y = noise_one_over_f(params, x)\n",
    "    return -0.5 * np.sum(((y - model_y) / yerr) ** 2)\n",
    "\n",
    "def log_prior_over_f(params):\n",
    "    alpha = params[0]\n",
    "    if 0 < alpha:\n",
    "        return 0.0\n",
    "    else:\n",
    "        return -np.inf\n",
    "\n",
    "def log_prior(params):\n",
    "    A, f_knee, slope = params\n",
    "    if 0 < A and 0 < f_knee and 0 < slope:\n",
    "        return 0.0  \n",
    "    return -np.inf \n",
    "\n",
    "def log_posterior(params, x, y, yerr):\n",
    "    lp = log_prior_over_f(params)\n",
    "    if not np.isfinite(lp):\n",
    "        return -np.inf\n",
    "    return lp + log_likelihood(params, x, y, yerr)"
   ]
  },
  {
   "cell_type": "code",
   "execution_count": null,
   "metadata": {},
   "outputs": [],
   "source": [
    "ndim = 1\n",
    "nwalkers = 50  \n",
    "nsteps = 500  \n",
    "initial = [10 + 0.5e1 * np.random.randn(ndim) for _ in range(nwalkers)]  "
   ]
  },
  {
   "cell_type": "code",
   "execution_count": null,
   "metadata": {},
   "outputs": [],
   "source": [
    "index=0\n",
    "ps, freq, pserr = get_power_spectrum(gps_antenna.rpN[array_index[index]:array_index[index+(int(array_index.size/2))]])\n",
    "\n",
    "sampler = emcee.EnsembleSampler(nwalkers, ndim, log_posterior, args=(freq, ps, pserr))\n",
    "sampler.run_mcmc(initial, nsteps, progress=True)"
   ]
  },
  {
   "cell_type": "code",
   "execution_count": null,
   "metadata": {},
   "outputs": [],
   "source": [
    "samples = sampler.get_chain(flat=True)  \n",
    "A_samples, f_knee_samples, alpha_samples = samples[:, 0], samples[:, 1], samples[:, 2]"
   ]
  },
  {
   "cell_type": "code",
   "execution_count": null,
   "metadata": {},
   "outputs": [],
   "source": [
    "fig, axes = plt.subplots(ndim, figsize=(10, 7), sharex=True)\n",
    "samples = sampler.get_chain()\n",
    "param_names = [\"A_{white}\", \"f_{knee}\", \"alpha\"]  \n",
    "for i in range(ndim):\n",
    "    ax = axes[i]\n",
    "    ax.plot(samples[..., i], \"k\", alpha=0.3)\n",
    "    ax.set_xlim(0, len(samples))\n",
    "    ax.set_ylabel(param_names[i])\n",
    "    ax.yaxis.set_label_coords(-0.1, 0.5)"
   ]
  },
  {
   "cell_type": "code",
   "execution_count": null,
   "metadata": {},
   "outputs": [],
   "source": [
    "mcsamples = MCSamples(samples=samples, names=param_names, labels=param_names)\n",
    "\n",
    "g = plots.get_subplot_plotter()\n",
    "g.triangle_plot(mcsamples, filled=True, markers={\"A_{white}\":params[index, 0], \"f_{knee}\":params[index, 1], \"alpha\":params[index, 2]})\n",
    "plt.suptitle(r\"Fit of the noise model for a given configuration : $P_{noise}(f) = A_{white}^2 (1 + |\\frac{f_{knee}}{f}|^{\\alpha})$\")\n",
    "\n",
    "A_est, f_knee_est, alpha_est = np.median(A_samples), np.median(f_knee_samples), np.median(alpha_samples)\n",
    "print(r\"Parameters estimations : $A_{white}$ = \", A_est.round(2), r\"$f_{knee}$ = \", f_knee_est.round(2), r\"$\\alpha$ = \", alpha_est.round(2))"
   ]
  },
  {
   "cell_type": "code",
   "execution_count": null,
   "metadata": {},
   "outputs": [],
   "source": []
  },
  {
   "cell_type": "code",
   "execution_count": null,
   "metadata": {},
   "outputs": [],
   "source": []
  },
  {
   "cell_type": "code",
   "execution_count": null,
   "metadata": {},
   "outputs": [],
   "source": []
  },
  {
   "cell_type": "code",
   "execution_count": null,
   "metadata": {},
   "outputs": [],
   "source": []
  },
  {
   "cell_type": "code",
   "execution_count": null,
   "metadata": {},
   "outputs": [],
   "source": []
  },
  {
   "cell_type": "code",
   "execution_count": null,
   "metadata": {},
   "outputs": [],
   "source": []
  },
  {
   "cell_type": "code",
   "execution_count": null,
   "metadata": {},
   "outputs": [],
   "source": []
  },
  {
   "cell_type": "code",
   "execution_count": null,
   "metadata": {},
   "outputs": [],
   "source": []
  },
  {
   "cell_type": "code",
   "execution_count": null,
   "metadata": {},
   "outputs": [],
   "source": []
  },
  {
   "cell_type": "code",
   "execution_count": null,
   "metadata": {},
   "outputs": [],
   "source": []
  },
  {
   "cell_type": "code",
   "execution_count": null,
   "metadata": {},
   "outputs": [],
   "source": []
  },
  {
   "cell_type": "code",
   "execution_count": null,
   "metadata": {},
   "outputs": [],
   "source": []
  },
  {
   "cell_type": "code",
   "execution_count": null,
   "metadata": {},
   "outputs": [],
   "source": []
  },
  {
   "cell_type": "code",
   "execution_count": null,
   "metadata": {},
   "outputs": [],
   "source": []
  },
  {
   "cell_type": "code",
   "execution_count": null,
   "metadata": {},
   "outputs": [],
   "source": []
  }
 ],
 "metadata": {
  "kernelspec": {
   "display_name": "venv-qubic",
   "language": "python",
   "name": "python3"
  },
  "language_info": {
   "codemirror_mode": {
    "name": "ipython",
    "version": 3
   },
   "file_extension": ".py",
   "mimetype": "text/x-python",
   "name": "python",
   "nbconvert_exporter": "python",
   "pygments_lexer": "ipython3",
   "version": "3.9.18"
  }
 },
 "nbformat": 4,
 "nbformat_minor": 2
}
