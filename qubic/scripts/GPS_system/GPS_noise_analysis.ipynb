{
 "cells": [
  {
   "cell_type": "code",
   "execution_count": null,
   "metadata": {},
   "outputs": [],
   "source": [
    "import numpy as np\n",
    "import matplotlib.pyplot as plt\n",
    "import datetime as dt\n",
    "\n",
    "from qubic.lib.Qgps import GPSCalsource, GPSAntenna\n",
    " \n",
    "%matplotlib inline"
   ]
  },
  {
   "cell_type": "code",
   "execution_count": null,
   "metadata": {},
   "outputs": [],
   "source": [
    "### Build GPS data file path\n",
    "data_path = \"calsource_orientation.dat\"\n",
    "\n",
    "### Define the distance between the two antennas\n",
    "distance_between_antennas = 1.3"
   ]
  },
  {
   "cell_type": "code",
   "execution_count": null,
   "metadata": {},
   "outputs": [],
   "source": [
    "### Build the GPSAntenna instance\n",
    "gps_antenna = GPSAntenna(data_path, distance_between_antennas)"
   ]
  },
  {
   "cell_type": "code",
   "execution_count": null,
   "metadata": {},
   "outputs": [],
   "source": [
    "date = np.array([dt.datetime(year=2024, month=12, day=12, hour=8, minute=55, second=0)])\n",
    "index_ini = gps_antenna.get_observation_indices(gps_antenna._datetime, date)[0]\n",
    "print('Initial index = ', index_ini)\n",
    "print('size observation times : ', len(gps_antenna._datetime))"
   ]
  },
  {
   "cell_type": "code",
   "execution_count": null,
   "metadata": {},
   "outputs": [],
   "source": [
    "gps_antenna.plot_gps_data(index_start=index_ini)"
   ]
  },
  {
   "cell_type": "code",
   "execution_count": null,
   "metadata": {},
   "outputs": [],
   "source": [
    "array_hours = np.array([8, 9, 9, 9, 9, 9, 9, 9, 9, 9, 9, 10, 10, 10, 10, 10, 10, 10, 10, 11, 11, 11, 11, 11])\n",
    "array_minutes_begins = np.array([55, 00, 6, 12, 19, 25, 32, 41, 46, 52, 58, 4, 10, 19, 27, 34, 40, 46, 53, 1, 7, 13, 20, 25])\n",
    "\n",
    "array_minutes_ending = array_minutes_begins.copy() - 1\n",
    "array_minutes_ending[1] = 0\n",
    "\n",
    "array_seconds_begins = np.ones(array_hours.shape, dtype=int) * 59\n",
    "array_seconds_ending = np.zeros(array_hours.shape, dtype=int)\n",
    "\n",
    "array_datetime = np.array([])\n",
    "array_index = np.array([], dtype=int)\n",
    "for index in range(array_hours.shape[0]):\n",
    "    array_datetime = np.append(array_datetime, dt.datetime(year=2024, month=12, day=12, hour=array_hours[index], minute=array_minutes_begins[index], second=array_seconds_begins[index]))\n",
    "for index in range(1, array_hours.shape[0]):\n",
    "    array_datetime = np.append(array_datetime, dt.datetime(year=2024, month=12, day=12, hour=array_hours[index], minute=array_minutes_ending[index], second=array_seconds_ending[index]))\n",
    "array_datetime = np.append(array_datetime, dt.datetime(year=2024, month=12, day=12, hour=11, minute=33, second=0))\n",
    "\n",
    "for index in range(array_datetime.shape[0]):\n",
    "    array_index = np.append(array_index, gps_antenna.get_observation_indices(gps_antenna._datetime, np.array([array_datetime[index]])))"
   ]
  },
  {
   "cell_type": "code",
   "execution_count": null,
   "metadata": {},
   "outputs": [],
   "source": [
    "array_index.shape"
   ]
  },
  {
   "cell_type": "code",
   "execution_count": null,
   "metadata": {},
   "outputs": [],
   "source": [
    "fig, ax1 = plt.subplots(figsize = (15,5))\n",
    "\n",
    "color_a = 'tab:pink'\n",
    "color_r = 'tab:red'\n",
    "color_b = 'tab:blue'\n",
    "color_d = 'tab:green'\n",
    "color_c = 'tab:brown'\n",
    "\n",
    "ax1.set_xlabel('Date')\n",
    "ax1.set_ylabel('Position Vector Components (m)', color = color_r)\n",
    "ax1.plot(gps_antenna._datetime[index_ini:], gps_antenna.rpN[index_ini:], color = color_a, label = 'North component')\n",
    "ax1.plot(gps_antenna._datetime[index_ini:], gps_antenna.rpE[index_ini:], color = color_b, label = 'East component')\n",
    "ax1.plot(gps_antenna._datetime[index_ini:], gps_antenna.rpD[index_ini:], color = color_d, label = 'Up component')\n",
    "\n",
    "ax2 = ax1.twinx()\n",
    "\n",
    "ax2.plot(gps_antenna._datetime[index_ini:], gps_antenna.roll[index_ini:], color = color_r, label = 'Roll angle')\n",
    "ax2.plot(gps_antenna._datetime[index_ini:], gps_antenna.yaw[index_ini:], color = color_c, label = 'Yaw angle')\n",
    "ax2.set_xlabel('Date')\n",
    "ax2.set_ylabel('Angles (rad)', color = color_a)\n",
    "\n",
    "for obs_index in array_index:\n",
    "    ax1.vlines(gps_antenna._datetime[obs_index], 3.5, -1.5, 'grey', linestyles='--')\n",
    "ax1.vlines(gps_antenna._datetime[array_index[6]], 3.5, -1.5, 'r', linestyles='--')\n",
    "ax1.vlines(gps_antenna._datetime[array_index[6 + int(array_hours.shape[0])]], 3.5, -1.5, 'r', linestyles='--')\n",
    "\n",
    "fig.tight_layout()\n",
    "ax1.set_title(\"Position vector components\")\n",
    "fig.legend()\n",
    "plt.show()"
   ]
  },
  {
   "cell_type": "code",
   "execution_count": null,
   "metadata": {},
   "outputs": [],
   "source": [
    "# Function to remove the movement between each configurations\n",
    "def only_data(array, indices):\n",
    "    data_array = np.array([])\n",
    "    \n",
    "    for i in range(int(indices.shape[0]/2)):\n",
    "        data_array = np.append(data_array, array[indices[i]:indices[i+int(indices.shape[0]/2)]])\n",
    "    \n",
    "    return data_array"
   ]
  },
  {
   "cell_type": "code",
   "execution_count": null,
   "metadata": {},
   "outputs": [],
   "source": [
    "data_rpN = only_data(gps_antenna.rpN, array_index)\n",
    "data_rpE = only_data(gps_antenna.rpE, array_index)\n",
    "data_rpD = only_data(gps_antenna.rpD, array_index)\n",
    "data_roll = only_data(gps_antenna.roll, array_index)\n",
    "data_yaw = only_data(gps_antenna.yaw, array_index)"
   ]
  },
  {
   "cell_type": "code",
   "execution_count": null,
   "metadata": {},
   "outputs": [],
   "source": [
    "fig, ax1 = plt.subplots(figsize = (15,5))\n",
    "\n",
    "color_a = 'tab:pink'\n",
    "color_r = 'tab:red'\n",
    "color_b = 'tab:blue'\n",
    "color_d = 'tab:green'\n",
    "color_c = 'tab:brown'\n",
    "\n",
    "ax1.set_xlabel('Date')\n",
    "ax1.set_ylabel('Position Vector Components (m)', color = color_r)\n",
    "ax1.plot(data_rpN, color = color_a, label = 'North component')\n",
    "ax1.plot(data_rpE, color = color_b, label = 'East component')\n",
    "ax1.plot(data_rpD, color = color_d, label = 'Up component')\n",
    "\n",
    "ax2 = ax1.twinx()\n",
    "\n",
    "ax2.plot(data_roll, color = color_r, label = 'Roll angle')\n",
    "ax2.plot(data_yaw, color = color_c, label = 'Yaw angle')\n",
    "ax2.set_xlabel('Date')\n",
    "ax2.set_ylabel('Angles (rad)', color = color_a)\n",
    "\n",
    "fig.tight_layout()\n",
    "ax1.set_title(\"Position vector components\")\n",
    "fig.legend()\n",
    "plt.show()"
   ]
  },
  {
   "cell_type": "code",
   "execution_count": null,
   "metadata": {},
   "outputs": [],
   "source": [
    "# Function to compute the standard deviation avoiding moments when I changed the experimental configuration\n",
    "def only_data_std(array, indices):\n",
    "    data_array = np.array([])\n",
    "    \n",
    "    for i in range(int(indices.shape[0]/2)):\n",
    "        data_array = np.append(data_array, np.std(array[indices[i]:indices[i+int(indices.shape[0]/2)]]))\n",
    "    \n",
    "    return data_array"
   ]
  },
  {
   "cell_type": "code",
   "execution_count": null,
   "metadata": {},
   "outputs": [],
   "source": [
    "# Multiply by 100 to convert from m to cm\n",
    "std_rpN = only_data_std(gps_antenna.rpN, array_index) * 100\n",
    "std_rpE = only_data_std(gps_antenna.rpE, array_index) * 100\n",
    "std_rpD = only_data_std(gps_antenna.rpD, array_index) * 100\n",
    "std_roll = only_data_std(gps_antenna.roll, array_index) * 100\n",
    "std_yaw = only_data_std(gps_antenna.yaw, array_index) * 100"
   ]
  },
  {
   "cell_type": "code",
   "execution_count": null,
   "metadata": {},
   "outputs": [],
   "source": [
    "distance_base_antenna1 = np.array([20, 20, 20, 20, 20, 100, 100, 100, 100, 200, 200, 200, 200])\n",
    "distance_base_antenna2 = np.array([20, 50, 100, 200, 300, 300, 200, 100, 50, 50, 100, 200, 300])\n",
    "\n",
    "distance_base_antenna2_bis = np.array([300, 300, 300, 200, 200, 200, 200, 100, 100, 100, 100])\n",
    "distance_antenna1_antenna2 = np.array([50, 100, 200, 50, 100, 200, 300, 50, 100, 200, 300])"
   ]
  },
  {
   "cell_type": "code",
   "execution_count": null,
   "metadata": {},
   "outputs": [],
   "source": [
    "plt.plot(std_rpN, label = 'std_rpN')\n",
    "plt.plot(std_rpE, label = 'std_rpE')\n",
    "plt.plot(std_rpD, label = 'std_rpD')\n",
    "plt.plot(std_roll, label = 'std_roll')\n",
    "plt.plot(std_yaw, label = 'std_yaw')\n",
    "plt.vlines(distance_base_antenna1.shape[0]+0.5, 0, 3, color = 'black', linestyle = '--')\n",
    "plt.legend()\n",
    "plt.xlabel('Experimental configurations index')\n",
    "plt.ylabel('Standard deviation')\n",
    "plt.title('Standard deviation of the GPS data for all experimental configurations')"
   ]
  },
  {
   "cell_type": "code",
   "execution_count": null,
   "metadata": {},
   "outputs": [],
   "source": [
    "print(distance_base_antenna2.shape, distance_base_antenna2_bis.shape)\n",
    "print(std_roll.shape)"
   ]
  },
  {
   "cell_type": "code",
   "execution_count": null,
   "metadata": {},
   "outputs": [],
   "source": [
    "def plot_std_exp1(array):\n",
    "    plt.figure()\n",
    "    for _, dist in enumerate(np.unique(distance_base_antenna1)):\n",
    "        mask = distance_base_antenna1 == dist\n",
    "        plt.scatter(distance_base_antenna2[mask], array[:distance_base_antenna2.shape[0]][mask], label=f'Distance Base-Antenna 1: {dist} cm')\n",
    "    plt.legend()\n",
    "    plt.xlabel('Distance Base-Antenna 2 (cm)')\n",
    "    plt.ylabel('Standard deviation (cm)')"
   ]
  },
  {
   "cell_type": "code",
   "execution_count": null,
   "metadata": {},
   "outputs": [],
   "source": [
    "plot_std_exp1(std_rpN)\n",
    "plt.title('Standard deviation of the North component of antenna 1')\n",
    "plt.show()\n",
    "plot_std_exp1(std_rpE)\n",
    "plt.title('Standard deviation of the East component of antenna 1')\n",
    "plt.show()\n",
    "plot_std_exp1(std_rpD)\n",
    "plt.title('Standard deviation of the Up component of antenna 1')\n",
    "plt.show()\n",
    "plot_std_exp1(std_roll)\n",
    "plt.title('Standard deviation of the roll angle of antenna 1')\n",
    "plt.show()\n",
    "plot_std_exp1(std_yaw)\n",
    "plt.title('Standard deviation of the yaw angle of antenna 1')\n",
    "plt.show()"
   ]
  },
  {
   "cell_type": "code",
   "execution_count": null,
   "metadata": {},
   "outputs": [],
   "source": [
    "def plot_std_exp2(array):\n",
    "    plt.figure()\n",
    "    for _, dist in enumerate(np.unique(distance_base_antenna2_bis)):\n",
    "        mask = distance_base_antenna2_bis == dist\n",
    "        plt.scatter(distance_antenna1_antenna2[mask], array[distance_base_antenna2.shape[0]:][mask], label=f'Distance Base - Antenna 2: {dist} cm')\n",
    "    plt.legend()\n",
    "    plt.xlabel('Distance Base-Antenna 2 (cm)')\n",
    "    plt.ylabel('Standard deviation (cm)')"
   ]
  },
  {
   "cell_type": "code",
   "execution_count": null,
   "metadata": {},
   "outputs": [],
   "source": [
    "plot_std_exp2(std_rpN)\n",
    "plt.title('Standard deviation of the North component of antenna 1')\n",
    "plt.show()\n",
    "plot_std_exp2(std_rpE)\n",
    "plt.title('Standard deviation of the East component of antenna 1')\n",
    "plt.show()\n",
    "plot_std_exp2(std_rpD)\n",
    "plt.title('Standard deviation of the Up component of antenna 1')\n",
    "plt.show()\n",
    "plot_std_exp2(std_roll)\n",
    "plt.title('Standard deviation of the roll angle of antenna 1')\n",
    "plt.show()\n",
    "plot_std_exp2(std_yaw)\n",
    "plt.title('Standard deviation of the yaw angle of antenna 1')\n",
    "plt.show()"
   ]
  },
  {
   "cell_type": "markdown",
   "metadata": {},
   "source": [
    "# Incertainty on antenna 1 position\n",
    "\n",
    "$\\Delta r = \\sqrt{(\\frac{x}{r}\\Delta x)^{2} + (\\frac{y}{r}\\Delta y)^{2} + (\\frac{z}{r}\\Delta z)^{2}}$"
   ]
  },
  {
   "cell_type": "code",
   "execution_count": null,
   "metadata": {},
   "outputs": [],
   "source": [
    "delta_r = np.array([])\n",
    "\n",
    "for i in range(int(array_index.shape[0]/2)):\n",
    "    data_array_north = np.mean(gps_antenna.rpN[array_index[i]:array_index[i+int(array_index.shape[0]/2)]] )\n",
    "    data_array_east = np.mean(gps_antenna.rpE[array_index[i]:array_index[i+int(array_index.shape[0]/2)]] )\n",
    "    data_array_down = np.mean(gps_antenna.rpD[array_index[i]:array_index[i+int(array_index.shape[0]/2)]])\n",
    "\n",
    "    # Don't forget to convert from m to cm\n",
    "    std_north = np.std(gps_antenna.rpN[array_index[i]:array_index[i+int(array_index.shape[0]/2)]]) * 100\n",
    "    std_east = np.std(gps_antenna.rpE[array_index[i]:array_index[i+int(array_index.shape[0]/2)]]) * 100\n",
    "    std_down = np.std(gps_antenna.rpD[array_index[i]:array_index[i+int(array_index.shape[0]/2)]]) * 100\n",
    "\n",
    "    r = np.sqrt(data_array_north**2 + data_array_east**2 + data_array_down**2)\n",
    "\n",
    "    delta_r = np.append(delta_r, np.sqrt((data_array_north * std_north / r)**2 + \n",
    "                                         (data_array_east * std_east / r)**2 + \n",
    "                                         (data_array_down * std_down / r)**2))\n",
    "print(delta_r.shape)"
   ]
  },
  {
   "cell_type": "code",
   "execution_count": null,
   "metadata": {},
   "outputs": [],
   "source": [
    "plt.figure()\n",
    "for _, dist in enumerate(np.unique(distance_base_antenna1)):\n",
    "    mask = distance_base_antenna1 == dist\n",
    "    plt.scatter(distance_base_antenna2[mask], delta_r[:distance_base_antenna2.shape[0]][mask], label=f'Distance Base-Antenna 1: {dist} cm')\n",
    "plt.legend()\n",
    "plt.ylabel('Relative error (cm)')\n",
    "plt.xlabel('Distance Base-Antenna 2 (cm)')\n",
    "plt.title('Relative error on the position of the antenna 1 during experiment 1')"
   ]
  },
  {
   "cell_type": "code",
   "execution_count": null,
   "metadata": {},
   "outputs": [],
   "source": [
    "plt.figure()\n",
    "for _, dist in enumerate(np.unique(distance_base_antenna2_bis)):\n",
    "    mask = distance_base_antenna2_bis == dist\n",
    "    plt.scatter(distance_antenna1_antenna2[mask], delta_r[distance_base_antenna2.shape[0]:][mask], label=f'Distance Base - Antenna 2: {dist} cm')\n",
    "plt.legend()\n",
    "plt.xlabel('Distance Base-Antenna 2 (cm)')\n",
    "plt.ylabel('Relative error (cm)')\n",
    "plt.title('Relative error on the position of the antenna 1 during experiment 1')"
   ]
  },
  {
   "cell_type": "code",
   "execution_count": null,
   "metadata": {},
   "outputs": [],
   "source": []
  },
  {
   "cell_type": "code",
   "execution_count": null,
   "metadata": {},
   "outputs": [],
   "source": []
  },
  {
   "cell_type": "code",
   "execution_count": null,
   "metadata": {},
   "outputs": [],
   "source": []
  },
  {
   "cell_type": "code",
   "execution_count": null,
   "metadata": {},
   "outputs": [],
   "source": []
  }
 ],
 "metadata": {
  "kernelspec": {
   "display_name": "venv-qubic",
   "language": "python",
   "name": "python3"
  },
  "language_info": {
   "codemirror_mode": {
    "name": "ipython",
    "version": 3
   },
   "file_extension": ".py",
   "mimetype": "text/x-python",
   "name": "python",
   "nbconvert_exporter": "python",
   "pygments_lexer": "ipython3",
   "version": "3.9.18"
  }
 },
 "nbformat": 4,
 "nbformat_minor": 2
}
