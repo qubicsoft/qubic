{
 "cells": [
  {
   "cell_type": "code",
   "execution_count": null,
   "metadata": {},
   "outputs": [],
   "source": [
    "import numpy as np\n",
    "import matplotlib.pyplot as plt\n",
    "import plotly.figure_factory as ff\n",
    "import plotly.graph_objects as go\n",
    "from plotly.subplots import make_subplots\n",
    "import datetime as dt\n",
    "\n",
    "from scipy.spatial import Delaunay\n",
    "from scipy.stats import linregress\n",
    "from scipy.optimize import curve_fit\n",
    "from getdist import plots, MCSamples\n",
    "from iminuit import Minuit\n",
    "from iminuit.cost import LeastSquares\n",
    "\n",
    "from qubic.lib.Qgps import GPSAntenna\n",
    "import qubic.lib.Calibration.Qfiber as ft\n",
    " \n",
    "%matplotlib inline"
   ]
  },
  {
   "cell_type": "code",
   "execution_count": null,
   "metadata": {},
   "outputs": [],
   "source": [
    "# If True, allow plots for debug\n",
    "DEBUG = False"
   ]
  },
  {
   "cell_type": "markdown",
   "metadata": {},
   "source": [
    "# Import data"
   ]
  },
  {
   "cell_type": "code",
   "execution_count": null,
   "metadata": {},
   "outputs": [],
   "source": [
    "### Build GPS data file path\n",
    "data_path = \"calsource_orientation.dat\"\n",
    "\n",
    "### Define the distance between the two antennas\n",
    "distance_between_antennas = 1.3 # Just to initialize GPSAntenna\n",
    "\n",
    "gps_antenna = GPSAntenna(data_path, distance_between_antennas)\n",
    "\n",
    "names = np.array(['North', 'East', 'Down', 'Roll', 'Yaw'])\n",
    "print(gps_antenna._datetime[8100])\n",
    "\n",
    "del data_path, distance_between_antennas"
   ]
  },
  {
   "cell_type": "code",
   "execution_count": null,
   "metadata": {},
   "outputs": [],
   "source": [
    "index_ini = gps_antenna.get_observation_indices(gps_antenna._datetime, np.array([dt.datetime(year=2025, month=3, day=14, hour=14, minute=33, second=3)]))[0]\n",
    "print('Initial index = ', index_ini)\n",
    "print('size observation times : ', len(gps_antenna._datetime))"
   ]
  },
  {
   "cell_type": "code",
   "execution_count": null,
   "metadata": {},
   "outputs": [],
   "source": [
    "gps_antenna.plot_gps_data_plotly(index_ini, -1, [-10, 10], [-2*np.pi, 2*np.pi])"
   ]
  },
  {
   "cell_type": "code",
   "execution_count": null,
   "metadata": {},
   "outputs": [],
   "source": [
    "gps_antenna._datetime[61501]"
   ]
  },
  {
   "cell_type": "code",
   "execution_count": null,
   "metadata": {},
   "outputs": [],
   "source": [
    "index_stop = gps_antenna.get_observation_indices(gps_antenna._datetime, np.array([dt.datetime(2025, 3, 14, 16, 59, 40)]))[0]\n",
    "position_limit = [-8, 8]\n",
    "angle_limit = [-np.pi, np.pi]\n",
    "\n",
    "\n",
    "gps_antenna.plot_gps_data_plotly(index_start=index_ini, index_stop=index_stop, position_limit=position_limit, angle_limit=angle_limit)"
   ]
  },
  {
   "cell_type": "code",
   "execution_count": null,
   "metadata": {},
   "outputs": [],
   "source": [
    "plt.plot(gps_antenna._datetime, gps_antenna.rpN)\n",
    "mask = (gps_antenna.rpN<10) & (gps_antenna.rpN>-10) & (gps_antenna.rpE<10) & (gps_antenna.rpE>-10) & (gps_antenna.rpD<10) & (gps_antenna.rpD>-10) & (gps_antenna.roll<2*np.pi) & (gps_antenna.roll>-2*np.pi) & (gps_antenna.yaw<2*np.pi) & (gps_antenna.yaw>-2*np.pi)\n",
    "plt.figure()\n",
    "gps_antenna.rpN = gps_antenna.rpN[mask]\n",
    "gps_antenna.rpE = gps_antenna.rpE[mask]\n",
    "gps_antenna.rpD = gps_antenna.rpD[mask]\n",
    "gps_antenna.roll = gps_antenna.roll[mask]\n",
    "gps_antenna.yaw = gps_antenna.yaw[mask]\n",
    "gps_antenna._datetime = gps_antenna._datetime[mask]"
   ]
  },
  {
   "cell_type": "code",
   "execution_count": null,
   "metadata": {},
   "outputs": [],
   "source": [
    "gps_antenna.plot_gps_data(index_ini, index_stop)\n",
    "gps_antenna.plot_gps_data_plotly(index_ini, index_stop)"
   ]
  },
  {
   "cell_type": "markdown",
   "metadata": {},
   "source": [
    "# Build observation time indices"
   ]
  },
  {
   "cell_type": "code",
   "execution_count": null,
   "metadata": {},
   "outputs": [],
   "source": [
    "# Array containing the starting time of each configuration\n",
    "array_hours_begins = np.array([14, 14, 14, 14, 14, 15, 15, 15, 15, 15, 15, 15, 16, 16, 16, 16, 16, 16, 16, 16, 16, 16]) #, 8, 8, 8, 8, 8, 8])\n",
    "array_minutes_begins = np.array([33, 38, 44, 49, 55, 5, 10, 32, 38, 46, 52, 57, 3, 8, 14, 20, 26, 31, 37, 42, 48, 53]) #, 15, 21, 26, 32, 37, 43])\n",
    "array_seconds_begins = np.array([5, 40, 0, 0, 0, 0, 30, 0, 0, 0, 0, 30, 0, 40, 40, 30, 0, 30, 0, 30, 0, 30]) #, 0, 0, 30, 0, 30, 30])\n",
    "\n",
    "# Array containing the ending time of each configuration, build by substracting 1 minute to the starting time\n",
    "# In this case, each time correspond to do the ending time of the previous configuration\n",
    "array_minutes_ending = array_minutes_begins.copy() - 1\n",
    "array_minutes_ending[1] = 0\n",
    "\n",
    "# Array containing the seconds of each configuration\n",
    "array_seconds_ending = np.zeros(array_hours_begins.shape, dtype=int)\n",
    "\n",
    "# Build the array of datetime associated with each configuration, to delimit the time when the antenna are moving or not\n",
    "array_datetime = np.array([])\n",
    "index_array = np.array([], dtype=int)\n",
    "for index in range(array_hours_begins.shape[0]):\n",
    "    array_datetime = np.append(array_datetime, dt.datetime(year=2025, month=3, day=14, hour=array_hours_begins[index], minute=array_minutes_begins[index], second=array_seconds_begins[index]))\n",
    "for index in range(1, array_hours_begins.shape[0]):\n",
    "    array_datetime = np.append(array_datetime, dt.datetime(year=2025, month=3, day=14, hour=array_hours_begins[index], minute=array_minutes_ending[index], second=array_seconds_ending[index]))\n",
    "#array_datetime = np.append(array_datetime, dt.datetime(year=2025, month=3, day=14, hour=11, minute=33, second=0))\n",
    "\n",
    "for index in range(array_datetime.shape[0]):\n",
    "    print(index, array_datetime[index])\n",
    "    index_array = np.append(index_array, gps_antenna.get_observation_indices(gps_antenna._datetime, np.array([array_datetime[index]])))\n",
    "        \n",
    "del array_hours_begins, array_minutes_begins, array_minutes_ending, array_seconds_begins, array_seconds_ending, array_datetime, index"
   ]
  },
  {
   "cell_type": "markdown",
   "metadata": {},
   "source": [
    "## Test"
   ]
  },
  {
   "cell_type": "code",
   "execution_count": null,
   "metadata": {},
   "outputs": [],
   "source": []
  },
  {
   "cell_type": "code",
   "execution_count": null,
   "metadata": {},
   "outputs": [],
   "source": [
    "if DEBUG:\n",
    "    for index in range(int(index_array.size/2)):\n",
    "        plt.figure(figsize=(15, 8))\n",
    "        plt.plot(gps_antenna._datetime[index_ini:], gps_antenna.roll[index_ini:])\n",
    "        plt.xlabel('Date')\n",
    "        plt.ylabel('Angle (rad)')\n",
    "        plt.title('GPS Roll Angle')\n",
    "        plt.vlines(gps_antenna._datetime[index_array[index]], 0, 2*np.pi, color='r', linestyle='--')\n",
    "        plt.vlines(gps_antenna._datetime[index_array[index + int(index_array.size/2)]], 0, 2*np.pi, color='r', linestyle='--')\n",
    "        plt.show()\n",
    "        \n",
    "    del index"
   ]
  },
  {
   "cell_type": "code",
   "execution_count": null,
   "metadata": {},
   "outputs": [],
   "source": [
    "# Plot to verify the previous delimitation\n",
    "fig, ax1 = plt.subplots(figsize = (15,5))\n",
    "\n",
    "color_a = 'tab:pink'\n",
    "color_r = 'tab:red'\n",
    "color_b = 'tab:blue'\n",
    "color_d = 'tab:green'\n",
    "color_c = 'tab:brown'\n",
    "\n",
    "ax1.set_xlabel('Date')\n",
    "ax1.set_ylabel('Position Vector Components (m)', color = color_r)\n",
    "ax1.plot(gps_antenna._datetime[index_ini:], gps_antenna.rpN[index_ini:], color = color_r, label = 'North component')\n",
    "ax1.plot(gps_antenna._datetime[index_ini:], gps_antenna.rpE[index_ini:], color = color_b, label = 'East component')\n",
    "ax1.plot(gps_antenna._datetime[index_ini:], gps_antenna.rpD[index_ini:], color = color_d, label = 'Up component')\n",
    "\n",
    "ax2 = ax1.twinx()\n",
    "\n",
    "ax2.plot(gps_antenna._datetime[index_ini:], gps_antenna.roll[index_ini:], color = color_a, label = 'Roll angle')\n",
    "ax2.plot(gps_antenna._datetime[index_ini:], gps_antenna.yaw[index_ini:], color = color_c, label = 'Yaw angle')\n",
    "ax2.set_xlabel('Date')\n",
    "ax2.set_ylabel('Angles (rad)', color = color_a)\n",
    "\n",
    "for obs_index in index_array:\n",
    "    ax1.vlines(gps_antenna._datetime[obs_index], 3.5, -1.5, 'grey', linestyles='--')\n",
    "ax1.vlines(gps_antenna._datetime[index_array[0]], 3.5, -1.5, 'r', linestyles='--')\n",
    "ax1.vlines(gps_antenna._datetime[index_array[0 + int(index_array.shape[0]/2)]], 3.5, -1.5, 'r', linestyles='--')\n",
    "\n",
    "fig.tight_layout()\n",
    "ax1.set_title(\"Position vector components\")\n",
    "fig.legend(bbox_to_anchor=(1, 1), loc='upper left')\n",
    "plt.show()\n",
    "\n",
    "del fig, ax1, ax2, color_a, color_r, color_b, color_d, color_c, obs_index"
   ]
  },
  {
   "cell_type": "code",
   "execution_count": null,
   "metadata": {},
   "outputs": [],
   "source": [
    "# Function to remove the movement between each configurations\n",
    "def only_data(array, indices):\n",
    "    data_array = np.array([])\n",
    "    \n",
    "    for i in range(int(indices.shape[0]/2)):\n",
    "        data_array = np.append(data_array, array[indices[i]:indices[i+int(indices.shape[0]/2)]])\n",
    "    \n",
    "    return data_array"
   ]
  },
  {
   "cell_type": "code",
   "execution_count": null,
   "metadata": {},
   "outputs": [],
   "source": [
    "data_rpN = only_data(gps_antenna.rpN, index_array)\n",
    "data_rpE = only_data(gps_antenna.rpE, index_array)\n",
    "data_rpD = only_data(gps_antenna.rpD, index_array)\n",
    "data_roll = only_data(gps_antenna.roll, index_array)\n",
    "data_yaw = only_data(gps_antenna.yaw, index_array)"
   ]
  },
  {
   "cell_type": "code",
   "execution_count": null,
   "metadata": {},
   "outputs": [],
   "source": [
    "data_rpN.shape"
   ]
  },
  {
   "cell_type": "code",
   "execution_count": null,
   "metadata": {},
   "outputs": [],
   "source": [
    "index_array.shape"
   ]
  },
  {
   "cell_type": "code",
   "execution_count": null,
   "metadata": {},
   "outputs": [],
   "source": [
    "# Plot to verify the filtering of the time when the antennas are moving\n",
    "fig, ax1 = plt.subplots(figsize = (15,5))\n",
    "\n",
    "color_a = 'tab:pink'\n",
    "color_r = 'tab:red'\n",
    "color_b = 'tab:blue'\n",
    "color_d = 'tab:green'\n",
    "color_c = 'tab:brown'\n",
    "\n",
    "ax1.set_xlabel('Date')\n",
    "ax1.set_ylabel('Position Vector Components (m)', color = color_r)\n",
    "ax1.plot(data_rpN, color = color_r, label = 'North component')\n",
    "ax1.plot(data_rpE, color = color_b, label = 'East component')\n",
    "ax1.plot(data_rpD, color = color_d, label = 'Up component')\n",
    "\n",
    "ax2 = ax1.twinx()\n",
    "\n",
    "ax2.plot(data_roll, color = color_a, label = 'Roll angle')\n",
    "ax2.plot(data_yaw, color = color_c, label = 'Yaw angle')\n",
    "ax2.set_xlabel('Date')\n",
    "ax2.set_ylabel('Angles (rad)', color = color_a)\n",
    "\n",
    "fig.tight_layout()\n",
    "ax1.set_title(\"Position vector components\")\n",
    "fig.legend(bbox_to_anchor=(1, 1), loc='upper left')\n",
    "plt.show()\n",
    "\n",
    "del fig, ax1, ax2, color_a, color_r, color_b, color_d, color_c"
   ]
  },
  {
   "cell_type": "code",
   "execution_count": null,
   "metadata": {},
   "outputs": [],
   "source": []
  },
  {
   "cell_type": "code",
   "execution_count": null,
   "metadata": {},
   "outputs": [],
   "source": []
  },
  {
   "cell_type": "code",
   "execution_count": null,
   "metadata": {},
   "outputs": [],
   "source": []
  },
  {
   "cell_type": "code",
   "execution_count": null,
   "metadata": {},
   "outputs": [],
   "source": []
  }
 ],
 "metadata": {
  "kernelspec": {
   "display_name": "venv-qubic",
   "language": "python",
   "name": "python3"
  },
  "language_info": {
   "codemirror_mode": {
    "name": "ipython",
    "version": 3
   },
   "file_extension": ".py",
   "mimetype": "text/x-python",
   "name": "python",
   "nbconvert_exporter": "python",
   "pygments_lexer": "ipython3",
   "version": "3.9.18"
  }
 },
 "nbformat": 4,
 "nbformat_minor": 2
}
