{
 "cells": [
  {
   "cell_type": "code",
   "execution_count": null,
   "metadata": {},
   "outputs": [],
   "source": [
    "import numpy as np\n",
    "import matplotlib.pyplot as plt\n",
    "import plotly.figure_factory as ff\n",
    "import plotly.graph_objects as go\n",
    "from plotly.subplots import make_subplots\n",
    "import datetime as dt\n",
    "import pickle\n",
    "\n",
    "from scipy.spatial import Delaunay\n",
    "from scipy.stats import linregress\n",
    "from scipy.optimize import curve_fit\n",
    "from getdist import plots, MCSamples\n",
    "from iminuit import Minuit\n",
    "from iminuit.cost import LeastSquares\n",
    "\n",
    "from qubic.lib.Qgps import GPSAntenna\n",
    "import qubic.lib.Calibration.Qfiber as ft\n",
    " \n",
    "%matplotlib inline "
   ]
  },
  {
   "cell_type": "markdown",
   "metadata": {},
   "source": [
    "# Import data"
   ]
  },
  {
   "cell_type": "code",
   "execution_count": null,
   "metadata": {},
   "outputs": [],
   "source": [
    "### Build GPS data file path\n",
    "data_path = \"calsource_orientation.dat\"\n",
    "\n",
    "### Define the distance between the two antennas\n",
    "distance_between_antennas = 1.3 # Just to initialize GPSAntenna\n",
    "\n",
    "gps_antenna = GPSAntenna(data_path, distance_between_antennas)\n",
    "\n",
    "names = np.array(['North', 'East', 'Down', 'Roll', 'Yaw'])\n",
    "print(gps_antenna._datetime[8100])\n",
    "\n",
    "del data_path, distance_between_antennas "
   ]
  },
  {
   "cell_type": "code",
   "execution_count": null,
   "metadata": {},
   "outputs": [],
   "source": [
    "index_ini = gps_antenna.get_observation_indices(gps_antenna._datetime, np.array([dt.datetime(year=2025, month=3, day=21, hour=14, minute=20, second=26)]))[0]\n",
    "print('Initial index = ', index_ini)\n",
    "print('size observation times : ', len(gps_antenna._datetime))\n",
    "index_stop = -1\n",
    "print('Date when observation stoped : ', gps_antenna._datetime[index_stop])"
   ]
  },
  {
   "cell_type": "code",
   "execution_count": null,
   "metadata": {},
   "outputs": [],
   "source": [
    "gps_antenna.plot_gps_data(index_ini, index_stop)\n",
    "gps_antenna.plot_gps_data_plotly(index_ini, index_stop)"
   ]
  },
  {
   "cell_type": "markdown",
   "metadata": {},
   "source": [
    "# Build observation time indices"
   ]
  },
  {
   "cell_type": "code",
   "execution_count": null,
   "metadata": {},
   "outputs": [],
   "source": [
    "# Array containing the starting time of each configuration\n",
    "import array\n",
    "\n",
    "\n",
    "array_hours_begins = np.array([14, 14, 14, 14, 14, 14, 14, 15, 15, 15, 15, 15, 15, 15, 15, 15, 15, 16, 16, 16, 16, 16, 16, 16, 16, 16, 17, 17, 17, 17, 17, 17, 17, 17, 17, 18, 18, 18, 18, 18, 18])\n",
    "array_minutes_begins = np.array([20, 26, 31, 38, 44, 49, 55, 1, 7, 13, 18, 24, 29, 35, 41, 48, 52, 0, 3, 10, 28, 33, 39, 45, 51, 56, 3, 8, 15, 21, 26, 32, 38, 44, 49, 2, 6, 12, 17, 23, 29])\n",
    "array_seconds_begins = np.array([33, 10, 50, 25, 0, 32, 25, 35, 30, 20, 45, 5, 23, 3, 5, 3, 55, 6, 55, 0, 30 ,50, 40, 30, 0, 50, 10, 40, 55, 30, 55, 40, 5, 0, 20, 23, 30, 5, 35, 40, 5])\n",
    "\n",
    "if array_hours_begins.size != array_minutes_begins.size or array_hours_begins.size != array_seconds_begins.size:\n",
    "    print(array_hours_begins.size, array_minutes_begins.size, array_seconds_begins.size)\n",
    "    raise ValueError(\"The arrays must have the same size\")\n",
    "\n",
    "# Array containing the seconds of each configuration\n",
    "array_seconds_ending = np.zeros(array_hours_begins.shape, dtype=int)\n",
    "\n",
    "# Build the array of datetime associated with each configuration, to delimit the time when the antenna are moving or not\n",
    "#! Each configuration last at least 5 minutes\n",
    "array_datetime_begin = np.array([])\n",
    "array_datetime_end = np.array([])\n",
    "for index in range(array_hours_begins.shape[0]):\n",
    "    array_datetime_begin = np.append(array_datetime_begin, dt.datetime(year=2025, month=3, day=21, hour=array_hours_begins[index], minute=array_minutes_begins[index], second=array_seconds_begins[index]))\n",
    "    if array_minutes_begins[index] > 54:\n",
    "        # Test to avoid minutes > 60\n",
    "        print(array_minutes_begins[index])\n",
    "        array_datetime_end = np.append(array_datetime_end, dt.datetime(year=2025, month=3, day=21, hour=array_hours_begins[index] + 1, minute=array_minutes_begins[index] + 5 - 60, second=array_seconds_ending[index]))\n",
    "    else:\n",
    "        array_datetime_end = np.append(array_datetime_end, dt.datetime(year=2025, month=3, day=21, hour=array_hours_begins[index], minute=array_minutes_begins[index] + 5, second=array_seconds_ending[index]))\n",
    "array_datetime_end[15] = dt.datetime(year=2025, month=3, day=21, hour=15, minute=52, second=13)\n",
    "array_datetime_end[17] = dt.datetime(year=2025, month=3, day=21, hour=16, minute=3, second=39)\n",
    "array_datetime_end[18] = dt.datetime(year=2025, month=3, day=21, hour=16, minute=9, second=39)\n",
    "array_datetime_end[34] = dt.datetime(year=2025, month=3, day=21, hour=17, minute=53, second=29)\n",
    "array_datetime_end[35] = dt.datetime(year=2025, month=3, day=21, hour=18, minute=6, second=18)\n",
    "array_datetime_end[36] = dt.datetime(year=2025, month=3, day=21, hour=18, minute=11, second=45)\n",
    "\n",
    "index_array_begin = np.array([], dtype=int)\n",
    "index_array_end = np.array([], dtype=int)\n",
    "for index in range(array_datetime_begin.size):\n",
    "    index_array_begin = np.append(index_array_begin, gps_antenna.get_observation_indices(gps_antenna._datetime, np.array([array_datetime_begin[index]])))\n",
    "    index_array_end = np.append(index_array_end, gps_antenna.get_observation_indices(gps_antenna._datetime, np.array([array_datetime_end[index]])))\n",
    "        \n",
    "del array_hours_begins, array_minutes_begins, array_seconds_begins, array_seconds_ending, array_datetime_begin, array_datetime_end, index"
   ]
  },
  {
   "cell_type": "markdown",
   "metadata": {},
   "source": [
    "## Test"
   ]
  },
  {
   "cell_type": "code",
   "execution_count": null,
   "metadata": {},
   "outputs": [],
   "source": [
    "# if DEBUG:\n",
    "#     fig = go.Figure()\n",
    "#     for index in range(int(index_array_begin.size)):\n",
    "        \n",
    "#         fig.add_trace(go.Scatter(x=gps_antenna._datetime[index_ini:], y=gps_antenna.roll[index_ini:]))\n",
    "#         fig.add_vline(x=gps_antenna._datetime[index_array_begin[index]], line_dash=\"dash\", line_color=\"red\")\n",
    "#         fig.add_vline(x=gps_antenna._datetime[index_array_end[index]], line_dash=\"dash\", line_color=\"blue\")\n",
    "#         fig.update_layout(\n",
    "#             title='GPS Roll Angle',\n",
    "#             xaxis_title='Date',\n",
    "#             yaxis_title='Angle (rad)',\n",
    "#             yaxis_range=[0, 2*np.pi]\n",
    "#         )\n",
    "    \n",
    "#     fig.show()\n",
    "#     del index"
   ]
  },
  {
   "cell_type": "code",
   "execution_count": null,
   "metadata": {},
   "outputs": [],
   "source": [
    "# Plot to verify the previous delimitation\n",
    "fig, ax1 = plt.subplots(figsize = (15,5))\n",
    "\n",
    "color_a = 'tab:pink'\n",
    "color_r = 'tab:red'\n",
    "color_b = 'tab:blue'\n",
    "color_d = 'tab:green'\n",
    "color_c = 'tab:brown'\n",
    "\n",
    "ax1.set_xlabel('Date')\n",
    "ax1.set_ylabel('Position Vector Components (m)', color = color_r)\n",
    "ax1.plot(gps_antenna._datetime[index_ini:], gps_antenna.rpN[index_ini:], color = color_r, label = 'North component')\n",
    "ax1.plot(gps_antenna._datetime[index_ini:], gps_antenna.rpE[index_ini:], color = color_b, label = 'East component')\n",
    "ax1.plot(gps_antenna._datetime[index_ini:], gps_antenna.rpD[index_ini:], color = color_d, label = 'Up component')\n",
    "\n",
    "ax2 = ax1.twinx()\n",
    "\n",
    "ax2.plot(gps_antenna._datetime[index_ini:], gps_antenna.roll[index_ini:], color = color_a, label = 'Roll angle')\n",
    "ax2.plot(gps_antenna._datetime[index_ini:], gps_antenna.yaw[index_ini:], color = color_c, label = 'Yaw angle')\n",
    "ax2.set_xlabel('Date')\n",
    "ax2.set_ylabel('Angles (rad)', color = color_a)\n",
    "\n",
    "ax2.vlines(gps_antenna._datetime[index_array_begin], -1, 5, 'r', linestyles='--')\n",
    "ax2.vlines(gps_antenna._datetime[index_array_end], -1, 5, 'b', linestyles='--')\n",
    "\n",
    "fig.tight_layout()\n",
    "ax1.set_title(\"Position vector components\")\n",
    "fig.legend(bbox_to_anchor=(1, 1), loc='upper left')\n",
    "plt.show()\n",
    "\n",
    "del fig, ax1, ax2, color_a, color_r, color_b, color_d, color_c,"
   ]
  },
  {
   "cell_type": "code",
   "execution_count": null,
   "metadata": {},
   "outputs": [],
   "source": [
    "fig = make_subplots(specs=[[{\"secondary_y\": True}]])\n",
    "\n",
    "fig.add_trace(\n",
    "    go.Scatter(x=gps_antenna._datetime[index_ini:index_stop], y=gps_antenna.rpN[index_ini:],\n",
    "               name=\"North component\", line=dict(color='red')),secondary_y=False)\n",
    "\n",
    "fig.add_trace(\n",
    "    go.Scatter(x=gps_antenna._datetime[index_ini:index_stop], y=gps_antenna.rpE[index_ini:],\n",
    "               name=\"East component\", line=dict(color='blue')),secondary_y=False)\n",
    "\n",
    "fig.add_trace(\n",
    "    go.Scatter(x=gps_antenna._datetime[index_ini:index_stop], y=gps_antenna.rpD[index_ini:],\n",
    "               name=\"Up component\", line=dict(color='green')), secondary_y=False)\n",
    "\n",
    "# Add angles on secondary y-axis\n",
    "fig.add_trace(\n",
    "    go.Scatter(x=gps_antenna._datetime[index_ini:index_stop], y=gps_antenna.roll[index_ini:],\n",
    "               name=\"Roll angle\", line=dict(color='pink')),secondary_y=True,)\n",
    "\n",
    "fig.add_trace(\n",
    "    go.Scatter(x=gps_antenna._datetime[index_ini:index_stop], y=gps_antenna.yaw[index_ini:],\n",
    "               name=\"Yaw angle\", line=dict(color='brown')),secondary_y=True,)\n",
    "\n",
    "# Add vertical lines\n",
    "for i in range(len(index_array_begin)):\n",
    "    fig.add_vline(\n",
    "        x=gps_antenna._datetime[index_array_begin[i]],\n",
    "        line_width=1,\n",
    "        line_dash=\"dash\",\n",
    "        line_color=\"red\",\n",
    "        layer='above')\n",
    "    \n",
    "    fig.add_vline(\n",
    "        x=gps_antenna._datetime[index_array_end[i]],\n",
    "        line_width=1,\n",
    "        line_dash=\"dash\",\n",
    "        line_color=\"blue\",\n",
    "        layer='above')\n",
    "\n",
    "# Update layout\n",
    "fig.update_layout(\n",
    "    title=\"Position vector components\",\n",
    "    xaxis_title=\"Date\",\n",
    "    legend=dict(x=1.1, y=1),\n",
    "    width=1600,\n",
    "    height=800,)\n",
    "\n",
    "fig.update_yaxes(title_text=\"Position Vector Components (m)\", secondary_y=False, color=\"red\")\n",
    "fig.update_yaxes(title_text=\"Angles (rad)\", secondary_y=True, color=\"pink\")\n",
    "\n",
    "fig.show()"
   ]
  },
  {
   "cell_type": "code",
   "execution_count": null,
   "metadata": {},
   "outputs": [],
   "source": [
    "# Function to remove the movement between each configurations\n",
    "def only_data(array, indices_begin, indices_end):\n",
    "    data_array = np.array([])\n",
    "    \n",
    "    if indices_begin.size != indices_end.size:\n",
    "        raise ValueError(\"The number of begin and end indices must be the same.\")\n",
    "    \n",
    "    for i in range(int(indices_begin.size)):\n",
    "        data_array = np.append(data_array, array[indices_begin[i]:indices_end[i]])\n",
    "    \n",
    "    return data_array"
   ]
  },
  {
   "cell_type": "code",
   "execution_count": null,
   "metadata": {},
   "outputs": [],
   "source": [
    "data_rpN = only_data(gps_antenna.rpN, index_array_begin, index_array_end)\n",
    "data_rpE = only_data(gps_antenna.rpE, index_array_begin, index_array_end)\n",
    "data_rpD = only_data(gps_antenna.rpD, index_array_begin, index_array_end)\n",
    "data_roll = only_data(gps_antenna.roll, index_array_begin, index_array_end)\n",
    "data_yaw = only_data(gps_antenna.yaw, index_array_begin, index_array_end)\n",
    "data_datetime = only_data(gps_antenna._datetime, index_array_begin, index_array_end)"
   ]
  },
  {
   "cell_type": "code",
   "execution_count": null,
   "metadata": {},
   "outputs": [],
   "source": [
    "# Plot to verify the filtering of the time when the antennas are moving\n",
    "fig, ax1 = plt.subplots(figsize = (15,5))\n",
    "\n",
    "color_a = 'tab:pink'\n",
    "color_r = 'tab:red'\n",
    "color_b = 'tab:blue'\n",
    "color_d = 'tab:green'\n",
    "color_c = 'tab:brown'\n",
    "\n",
    "ax1.set_xlabel('Date')\n",
    "ax1.set_ylabel('Position Vector Components (m)', color = color_r)\n",
    "ax1.plot(data_rpN, color = color_r, label = 'North component')\n",
    "ax1.plot(data_rpE, color = color_b, label = 'East component')\n",
    "ax1.plot(data_rpD, color = color_d, label = 'Up component')\n",
    "\n",
    "ax2 = ax1.twinx()\n",
    "\n",
    "ax2.plot(data_roll, color = color_a, label = 'Roll angle')\n",
    "ax2.plot(data_yaw, color = color_c, label = 'Yaw angle')\n",
    "ax2.set_xlabel('Date')\n",
    "ax2.set_ylabel('Angles (rad)', color = color_a)\n",
    "\n",
    "fig.tight_layout()\n",
    "ax1.set_title(\"Position vector components\")\n",
    "fig.legend(bbox_to_anchor=(1, 1), loc='upper left')\n",
    "plt.show()\n",
    "\n",
    "del fig, ax1, ax2, color_a, color_r, color_b, color_d, color_c"
   ]
  },
  {
   "cell_type": "markdown",
   "metadata": {},
   "source": [
    "# Noise power spectrum"
   ]
  },
  {
   "cell_type": "code",
   "execution_count": null,
   "metadata": {},
   "outputs": [],
   "source": [
    "timestep = (gps_antenna._datetime[-1] - gps_antenna._datetime[-2]).microseconds * 1e-6\n",
    "print(\"Timestep : \", timestep, \"s.\")\n",
    "\n",
    "def get_ps(array):\n",
    "    \"\"\"Function to compute the power spectrum of a given array.\n",
    "\n",
    "    Parameters\n",
    "    ----------\n",
    "    array : array_like\n",
    "        array containing the data to compute the power spectrum of.\n",
    "\n",
    "    Returns\n",
    "    -------\n",
    "    power_spectrum : array_like\n",
    "        array containing the power spectrum of the input array.\n",
    "    freq: array_like\n",
    "        array containing the frequency of the power spectrum.\n",
    "    \"\"\"\n",
    "    N = array.size\n",
    "    return np.abs(np.fft.rfft(array))**2, np.fft.rfftfreq(N, d=timestep/2)"
   ]
  },
  {
   "cell_type": "code",
   "execution_count": null,
   "metadata": {},
   "outputs": [],
   "source": [
    "power_spectrum, freq = get_ps(gps_antenna.rpN[index_array_begin[0]:index_array_end[0]])\n",
    "power_spectrum, freq = power_spectrum[1:], freq[1:]\n",
    "\n",
    "plt.plot(freq, power_spectrum)\n",
    "plt.xlabel('Frequency (Hz)')\n",
    "plt.ylabel(r'Power Spectrum ($m^2/Hz$)')\n",
    "plt.xscale('log')\n",
    "plt.yscale('log')\n",
    "plt.title('Noise Power Spectrum - North')\n",
    "\n",
    "del power_spectrum, freq"
   ]
  },
  {
   "cell_type": "markdown",
   "metadata": {},
   "source": [
    "# Save in Pickle file"
   ]
  },
  {
   "cell_type": "code",
   "execution_count": null,
   "metadata": {},
   "outputs": [],
   "source": [
    "data_array = np.array([gps_antenna.rpN, gps_antenna.rpE, gps_antenna.rpD, gps_antenna.roll, gps_antenna.yaw])\n",
    "data_names = np.array([\"rpN\", \"rpE\", \"rpD\", \"roll\", \"yaw\"])\n",
    "\n",
    "dict_data = {}\n",
    "\n",
    "for idata in range(len(data_names)):\n",
    "    dict_data[data_names[idata]] = {}\n",
    "    dict_data[data_names[idata]][\"data\"] = []\n",
    "    dict_data[data_names[idata]][\"clean_data\"] = []\n",
    "    dict_data[data_names[idata]][\"ps\"] = []\n",
    "    dict_data[data_names[idata]][\"freq\"] = []\n",
    "    \n",
    "dict_data[\"datetime\"] = gps_antenna._datetime\n",
    "dict_data[\"datetime_clean\"] = data_datetime"
   ]
  },
  {
   "cell_type": "code",
   "execution_count": null,
   "metadata": {},
   "outputs": [],
   "source": [
    "data_array[idata][index_array_begin[index]:index_array_end[index]]"
   ]
  },
  {
   "cell_type": "code",
   "execution_count": null,
   "metadata": {},
   "outputs": [],
   "source": [
    "for idata in range(5):\n",
    "    dict_data[data_names[idata]][\"data\"] = data_array[idata]\n",
    "    for index in range(index_array_begin.size):\n",
    "        print(index)\n",
    "        dict_data[data_names[idata]]['clean_data'].append(data_array[idata][index_array_begin[index]:index_array_end[index]])\n",
    "        ps, freq = get_ps(dict_data[data_names[idata]]['clean_data'][-1])\n",
    "        ps, freq = ps[1:], freq[1:]\n",
    "        dict_data[data_names[idata]]['ps'].append(ps)\n",
    "        dict_data[data_names[idata]]['freq'].append(freq)"
   ]
  },
  {
   "cell_type": "code",
   "execution_count": null,
   "metadata": {},
   "outputs": [],
   "source": [
    "with open('GPS_noise_analysis.pkl', 'wb') as f:\n",
    "    data = pickle.dump(dict_data, f, protocol=pickle.HIGHEST_PROTOCOL)"
   ]
  }
 ],
 "metadata": {
  "kernelspec": {
   "display_name": "venv-qubic",
   "language": "python",
   "name": "python3"
  },
  "language_info": {
   "codemirror_mode": {
    "name": "ipython",
    "version": 3
   },
   "file_extension": ".py",
   "mimetype": "text/x-python",
   "name": "python",
   "nbconvert_exporter": "python",
   "pygments_lexer": "ipython3",
   "version": "3.9.21"
  }
 },
 "nbformat": 4,
 "nbformat_minor": 2
}
