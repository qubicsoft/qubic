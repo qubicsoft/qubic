{
 "cells": [
  {
   "cell_type": "code",
   "execution_count": null,
   "metadata": {},
   "outputs": [],
   "source": [
    "import numpy as np\n",
    "import matplotlib.pyplot as plt\n",
    "import datetime as dt\n",
    "\n",
    "from qubic.lib.Qgps import GPSCalsource, GPSAntenna\n",
    " \n",
    "%matplotlib inline"
   ]
  },
  {
   "cell_type": "code",
   "execution_count": null,
   "metadata": {},
   "outputs": [],
   "source": [
    "data_path = \"calsource_orientation.dat\""
   ]
  },
  {
   "cell_type": "code",
   "execution_count": null,
   "metadata": {},
   "outputs": [],
   "source": [
    "distance_between_antennas = 1.3\n",
    "gps_antenna = GPSAntenna(data_path, distance_between_antennas)"
   ]
  },
  {
   "cell_type": "code",
   "execution_count": null,
   "metadata": {},
   "outputs": [],
   "source": [
    "date = np.array([dt.datetime(year=2024, month=11, day=20, hour=10, minute=24, second=0)])\n",
    "index_ini = gps_antenna.get_observation_indices(gps_antenna._datetime, date)\n",
    "print('Initial index = ', index_ini)\n",
    "print('size observation times : ', len(gps_antenna._datetime))"
   ]
  },
  {
   "cell_type": "code",
   "execution_count": null,
   "metadata": {},
   "outputs": [],
   "source": [
    "gps_antenna.plot_gps_data()"
   ]
  },
  {
   "cell_type": "code",
   "execution_count": null,
   "metadata": {},
   "outputs": [],
   "source": [
    "position_ini_antenna1 = gps_antenna.position_antenna1[:, index_ini[0]]\n",
    "position_ini_antenna2 = gps_antenna.position_antenna2[:, index_ini[0]]\n",
    "position_ini_calsource = position_ini_antenna2.copy()\n",
    "position_ini_calsource += np.array([0., 0., -0.1])\n",
    "\n",
    "observation_date = np.array([dt.datetime(2024, 11, 20, 10, 37, 0)]) \n",
    "gps = GPSCalsource(data_path, position_ini_antenna1, position_ini_antenna2, position_ini_calsource, observation_date,distance_between_antennas=None, position_qubic = np.array([0, 0, 0]))"
   ]
  },
  {
   "cell_type": "code",
   "execution_count": null,
   "metadata": {},
   "outputs": [],
   "source": [
    "observation_index = gps_antenna.get_observation_indices(gps_antenna._datetime, observation_date)\n",
    "gps.plot_calsource_deviation(observation_index[0])\n"
   ]
  },
  {
   "cell_type": "code",
   "execution_count": null,
   "metadata": {},
   "outputs": [],
   "source": [
    "gps.plot_position_calsource_azel()"
   ]
  },
  {
   "cell_type": "code",
   "execution_count": null,
   "metadata": {},
   "outputs": [],
   "source": []
  }
 ],
 "metadata": {
  "jupytext": {
   "formats": "ipynb,Rmd"
  },
  "kernelspec": {
   "display_name": "venv-qubic",
   "language": "python",
   "name": "python3"
  },
  "language_info": {
   "codemirror_mode": {
    "name": "ipython",
    "version": 3
   },
   "file_extension": ".py",
   "mimetype": "text/x-python",
   "name": "python",
   "nbconvert_exporter": "python",
   "pygments_lexer": "ipython3",
   "version": "3.9.18"
  }
 },
 "nbformat": 4,
 "nbformat_minor": 4
}
