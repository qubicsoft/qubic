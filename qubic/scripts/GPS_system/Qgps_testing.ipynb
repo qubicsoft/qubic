{
 "cells": [
  {
   "cell_type": "code",
   "execution_count": null,
   "metadata": {},
   "outputs": [],
   "source": [
    "import numpy as np\n",
    "import matplotlib.pyplot as plt\n",
    "import datetime as dt\n",
    "\n",
    "from qubic.lib.Qgps import GPSCalsource, GPSAntenna\n",
    " \n",
    "%matplotlib inline"
   ]
  },
  {
   "cell_type": "code",
   "execution_count": null,
   "metadata": {},
   "outputs": [],
   "source": [
    "### Build GPS data file path\n",
    "data_path = \"calsource_orientation.dat\"\n",
    "\n",
    "### Define the distance between the two antennas\n",
    "distance_between_antennas = 1.3"
   ]
  },
  {
   "cell_type": "markdown",
   "metadata": {},
   "source": [
    "We will start by building only the GPSAntenna instance. The idea is to use it to have access to the gps data and to the antennas position at any time, and use them to build the initial positions of the system.\n",
    "In real case, this step will also be needed, as we need to define the initial position of the antennas in (Norht, East, Down) coordinates.\n",
    "It is also usefull as it allows to visualize the data with the \"plot_gps_data\" function, and also to define the observation indices needed for further steps."
   ]
  },
  {
   "cell_type": "code",
   "execution_count": null,
   "metadata": {},
   "outputs": [],
   "source": [
    "### Build the GPSAntenna instance\n",
    "gps_antenna = GPSAntenna(data_path, distance_between_antennas)"
   ]
  },
  {
   "cell_type": "markdown",
   "metadata": {},
   "source": [
    "We plot all the data and define the initial observatin index."
   ]
  },
  {
   "cell_type": "code",
   "execution_count": null,
   "metadata": {},
   "outputs": [],
   "source": [
    "date = np.array([dt.datetime(year=2024, month=11, day=20, hour=10, minute=24, second=0)])\n",
    "index_ini = gps_antenna.get_observation_indices(gps_antenna._datetime, date)\n",
    "print('Initial index = ', index_ini)\n",
    "print('size observation times : ', len(gps_antenna._datetime))"
   ]
  },
  {
   "cell_type": "code",
   "execution_count": null,
   "metadata": {},
   "outputs": [],
   "source": [
    "gps_antenna.plot_gps_data()"
   ]
  },
  {
   "cell_type": "markdown",
   "metadata": {},
   "source": [
    "We use the previous GPSAntenna instance to define all the initial positions. This is mandatory to initialize the GPSCalsource instance.\n",
    "gps will then contains all the needed information to caracterize the GPS system."
   ]
  },
  {
   "cell_type": "code",
   "execution_count": null,
   "metadata": {},
   "outputs": [],
   "source": [
    "position_ini_antenna1 = gps_antenna.position_antenna1[:, index_ini[0]]\n",
    "position_ini_antenna2 = gps_antenna.position_antenna2[:, index_ini[0]]\n",
    "position_ini_calsource = position_ini_antenna2.copy()\n",
    "position_ini_calsource += np.array([0., 0., -0.1])\n",
    "\n",
    "observation_date = np.array([dt.datetime(2024, 11, 20, 10, 37, 0)]) \n",
    "gps = GPSCalsource(data_path, position_ini_antenna1, position_ini_antenna2, position_ini_calsource, observation_date, distance_antennas=None, position_qubic = np.array([0, 0, 0]))"
   ]
  },
  {
   "cell_type": "markdown",
   "metadata": {},
   "source": [
    "By defining the observation, we can plot the system at this time."
   ]
  },
  {
   "cell_type": "code",
   "execution_count": null,
   "metadata": {},
   "outputs": [],
   "source": [
    "observation_index = gps_antenna.get_observation_indices(gps_antenna._datetime, observation_date)\n",
    "gps.plot_calsource_deviation(observation_index[0])"
   ]
  },
  {
   "cell_type": "code",
   "execution_count": null,
   "metadata": {},
   "outputs": [],
   "source": [
    "gps.plot_position_calsource_azel()"
   ]
  },
  {
   "cell_type": "code",
   "execution_count": null,
   "metadata": {},
   "outputs": [],
   "source": []
  }
 ],
 "metadata": {
  "jupytext": {
   "formats": "ipynb,Rmd"
  },
  "kernelspec": {
   "display_name": "venv-qubic",
   "language": "python",
   "name": "python3"
  },
  "language_info": {
   "codemirror_mode": {
    "name": "ipython",
    "version": 3
   },
   "file_extension": ".py",
   "mimetype": "text/x-python",
   "name": "python",
   "nbconvert_exporter": "python",
   "pygments_lexer": "ipython3",
   "version": "3.9.18"
  }
 },
 "nbformat": 4,
 "nbformat_minor": 4
}
