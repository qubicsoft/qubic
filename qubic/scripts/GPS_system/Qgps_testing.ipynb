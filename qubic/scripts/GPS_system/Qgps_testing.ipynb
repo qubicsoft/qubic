{
 "cells": [
  {
   "cell_type": "code",
   "execution_count": null,
   "metadata": {},
   "outputs": [],
   "source": [
    "import numpy as np\n",
    "import matplotlib.pyplot as plt\n",
    "import datetime as dt\n",
    "\n",
    "from qubic.lib.Qgps import GPSCalsource, GPSAntenna, GPStools\n",
    " \n",
    "%matplotlib inline"
   ]
  },
  {
   "cell_type": "code",
   "execution_count": null,
   "metadata": {},
   "outputs": [],
   "source": [
    "data_path = \"calsource_orientation_20240322.dat\""
   ]
  },
  {
   "cell_type": "code",
   "execution_count": null,
   "metadata": {},
   "outputs": [],
   "source": [
    "distance_between_antennas = 1\n",
    "distance_calsource = 0.5\n",
    "gps_antenna = GPSAntenna(data_path, distance_between_antennas)"
   ]
  },
  {
   "cell_type": "code",
   "execution_count": null,
   "metadata": {},
   "outputs": [],
   "source": [
    "gps_antenna.plot_gps_data()"
   ]
  },
  {
   "cell_type": "code",
   "execution_count": null,
   "metadata": {},
   "outputs": [],
   "source": [
    "index=9615\n",
    "print(gps_antenna._datetime[index])\n",
    "print(len(gps_antenna._datetime))"
   ]
  },
  {
   "cell_type": "code",
   "execution_count": null,
   "metadata": {},
   "outputs": [],
   "source": [
    "position_ini_antenna1 = gps_antenna.position_antenna1[:, index]\n",
    "position_ini_antenna2 = gps_antenna.position_antenna2[:, index]\n",
    "position_ini_calsource = ((position_ini_antenna2 + position_ini_antenna1)/2)\n",
    "#position_ini_calsource = np.array([0.5, 2, 0.4])\n",
    "observation_date = np.array([dt.datetime(2024, 3, 22, 10, 8, 00)]) # np.array([dt.datetime(2024, 3, 22, 9, 47, 49), dt.datetime(2024, 3, 22, 16, 13, 49, 500000)])#\n",
    "gps = GPSCalsource(data_path, position_ini_antenna1, position_ini_antenna2, position_ini_calsource, distance_between_antennas, observation_date, position_qubic = np.array([0, 0, 0]), ini_wrt_antenna2=False)"
   ]
  },
  {
   "cell_type": "code",
   "execution_count": null,
   "metadata": {},
   "outputs": [],
   "source": [
    "%matplotlib widget\n",
    "gps.plot_system(index)"
   ]
  },
  {
   "cell_type": "code",
   "execution_count": null,
   "metadata": {},
   "outputs": [],
   "source": [
    "print('Calsource position', gps.position_calsource[:, index])\n",
    "print('Calsource position ini', gps.position_ini_calsource)\n",
    "print('Angles', gps.calsource_orientation_angles[:, index])\n",
    "print('Angles_ini', gps.calsource_orientation_angles_ini[:, 0])"
   ]
  },
  {
   "cell_type": "code",
   "execution_count": null,
   "metadata": {},
   "outputs": [],
   "source": [
    "index_bis = index + 10000"
   ]
  },
  {
   "cell_type": "code",
   "execution_count": null,
   "metadata": {},
   "outputs": [],
   "source": [
    "gps.plot_calsource_deviation(index_bis)"
   ]
  },
  {
   "cell_type": "code",
   "execution_count": null,
   "metadata": {},
   "outputs": [],
   "source": [
    "gps.vector_calsource_deviated"
   ]
  },
  {
   "cell_type": "code",
   "execution_count": null,
   "metadata": {},
   "outputs": [],
   "source": [
    "angles = gps.get_angles(gps.vector_1_2[:, index_bis], gps.vector_1_2_ini)\n",
    "print(angles)"
   ]
  },
  {
   "cell_type": "code",
   "execution_count": null,
   "metadata": {},
   "outputs": [],
   "source": [
    "calsource_qubic_vector = - gps.get_calsource_qubic_vector(gps.vector_calsource_qubic_ini, angles)"
   ]
  },
  {
   "cell_type": "code",
   "execution_count": null,
   "metadata": {},
   "outputs": [],
   "source": [
    "### Initialize the 3d figure\n",
    "fig = plt.figure(figsize=(15, 10))\n",
    "ax = fig.add_subplot(111, projection='3d')\n",
    "\n",
    "ax.scatter(gps.position_ini_calsource[0], gps.position_ini_calsource[1], gps.position_ini_calsource[2], color='red', label='Calsource initial position')\n",
    "ax.scatter(gps.position_calsource[0, index_bis], gps.position_calsource[1, index_bis], gps.position_calsource[2, index_bis], color='green', label='Calsource position')\n",
    "ax.scatter(gps.position_qubic[0], gps.position_qubic[1], gps.position_qubic[2], color='blue', label='Qubic position')\n",
    "ax.scatter(gps.position_ini_antenna1[0], gps.position_ini_antenna1[1], gps.position_ini_antenna1[2], label='Antenna 1 initial position')\n",
    "ax.scatter(gps.position_antenna1[0, index_bis], gps.position_antenna1[1, index_bis], gps.position_antenna1[2, index_bis], label='Antenna 1 position')\n",
    "ax.scatter(gps.position_ini_antenna2[0], gps.position_ini_antenna2[1], gps.position_ini_antenna2[2], label='Antenna 2 initial position')\n",
    "ax.scatter(gps.position_antenna2[0, index_bis], gps.position_antenna2[1, index_bis], gps.position_antenna2[2, index_bis], label='Antenna 2 position')\n",
    "\n",
    "ax.quiver(gps.position_ini_antenna1[0], gps.position_ini_antenna1[1], gps.position_ini_antenna1[2],\n",
    "          gps.vector_1_2_ini[0], gps.vector_1_2_ini[1], gps.vector_1_2_ini[2])\n",
    "ax.quiver(gps.position_antenna1[0, index_bis], gps.position_antenna1[1, index_bis], gps.position_antenna1[2, index_bis],\n",
    "          gps.vector_1_2[0, index_bis], gps.vector_1_2[1, index_bis], gps.vector_1_2[2, index_bis])\n",
    "\n",
    "ax.quiver(gps.position_ini_calsource[0], gps.position_ini_calsource[1], gps.position_ini_calsource[2],\n",
    "          -gps.vector_calsource_qubic_ini[0], -gps.vector_calsource_qubic_ini[1], -gps.vector_calsource_qubic_ini[2], \n",
    "          color='red', label='Calsource vector inittial', arrow_length_ratio=0.1)\n",
    "ax.quiver(gps.position_calsource[0, index_bis], gps.position_calsource[1, index_bis], gps.position_calsource[2, index_bis],\n",
    "          -calsource_qubic_vector[0], -calsource_qubic_vector[1], -calsource_qubic_vector[2], \n",
    "          color='green', label='Calsource vector', arrow_length_ratio=0.1)\n",
    "\n",
    "plt.legend()\n",
    "ax.set_xlim(-1.5, 1.5)\n",
    "ax.set_ylim(-1.5, 1.5)\n",
    "ax.set_zlim(-1, 1)"
   ]
  },
  {
   "cell_type": "code",
   "execution_count": null,
   "metadata": {},
   "outputs": [],
   "source": []
  },
  {
   "cell_type": "code",
   "execution_count": null,
   "metadata": {},
   "outputs": [],
   "source": []
  }
 ],
 "metadata": {
  "jupytext": {
   "formats": "ipynb,Rmd"
  },
  "kernelspec": {
   "display_name": "venv-qubic",
   "language": "python",
   "name": "python3"
  },
  "language_info": {
   "codemirror_mode": {
    "name": "ipython",
    "version": 3
   },
   "file_extension": ".py",
   "mimetype": "text/x-python",
   "name": "python",
   "nbconvert_exporter": "python",
   "pygments_lexer": "ipython3",
   "version": "3.9.18"
  }
 },
 "nbformat": 4,
 "nbformat_minor": 4
}
