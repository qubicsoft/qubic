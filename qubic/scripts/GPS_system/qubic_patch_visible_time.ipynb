{
 "cells": [
  {
   "cell_type": "code",
   "execution_count": null,
   "metadata": {},
   "outputs": [],
   "source": [
    "import numpy as np\n",
    "import astropy.units as u\n",
    "import matplotlib.pyplot as plt\n",
    "from astropy.coordinates import SkyCoord, EarthLocation, AltAz\n",
    "from astropy.time import Time"
   ]
  },
  {
   "cell_type": "code",
   "execution_count": null,
   "metadata": {},
   "outputs": [],
   "source": [
    "qubic_position = EarthLocation(lat=-24.70*u.deg, lon=-66.68*u.deg, height=5000*u.m)\n",
    "patch_center = SkyCoord(ra=0*u.deg, dec=-57*u.deg, frame='icrs')"
   ]
  },
  {
   "cell_type": "code",
   "execution_count": null,
   "metadata": {},
   "outputs": [],
   "source": [
    "### Observation periodd\n",
    "debut = Time('2022-01-01 00:00:00')\n",
    "fin = Time('2025-01-01 00:00:00')\n",
    "delta_t = 1*u.hour  \n",
    "temps_total = fin - debut\n",
    "nb_steps = int(temps_total.sec / delta_t.to(u.second).value)\n",
    "temps = debut + np.arange(nb_steps)*delta_t"
   ]
  },
  {
   "cell_type": "code",
   "execution_count": null,
   "metadata": {},
   "outputs": [],
   "source": [
    "### Coordinates change\n",
    "altaz_frame = AltAz(obstime=temps, location=qubic_position)\n",
    "patch_altaz = patch_center.transform_to(altaz_frame)\n",
    "\n",
    "plt.plot(patch_altaz.alt)"
   ]
  },
  {
   "cell_type": "code",
   "execution_count": null,
   "metadata": {},
   "outputs": [],
   "source": [
    "### The patch is only visible if its altitude is above 40 degrees and below 80 degrees\n",
    "visible = (patch_altaz.alt > 40*u.deg) & (patch_altaz.alt < 70*u.deg)"
   ]
  },
  {
   "cell_type": "code",
   "execution_count": null,
   "metadata": {},
   "outputs": [],
   "source": [
    "### Compute visibility time\n",
    "temps_visible = np.sum(visible) * delta_t\n",
    "print(\"Visible time for 3 years observation: \", temps_visible)\n",
    "print(\"Visible time for 3 years observation: \", temps_visible/(24*u.hour)*u.day)"
   ]
  },
  {
   "cell_type": "code",
   "execution_count": null,
   "metadata": {},
   "outputs": [],
   "source": []
  }
 ],
 "metadata": {
  "kernelspec": {
   "display_name": "venv-qubic",
   "language": "python",
   "name": "python3"
  },
  "language_info": {
   "codemirror_mode": {
    "name": "ipython",
    "version": 3
   },
   "file_extension": ".py",
   "mimetype": "text/x-python",
   "name": "python",
   "nbconvert_exporter": "python",
   "pygments_lexer": "ipython3",
   "version": "3.9.18"
  }
 },
 "nbformat": 4,
 "nbformat_minor": 2
}
