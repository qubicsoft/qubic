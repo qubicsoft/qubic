{
 "cells": [
  {
   "cell_type": "markdown",
   "id": "f5aceaa9",
   "metadata": {},
   "source": [
    "Test of QUBIC map making with a simple noise TOD\n",
    "\n",
    "### Note: this is the version modified by JCH"
   ]
  },
  {
   "cell_type": "markdown",
   "id": "63e3d17a",
   "metadata": {
    "code_folding": []
   },
   "source": [
    "# Imports and functions"
   ]
  },
  {
   "cell_type": "code",
   "execution_count": null,
   "id": "02d49c4f",
   "metadata": {
    "code_folding": [
     "0"
    ]
   },
   "outputs": [],
   "source": [
    "#Imports\n",
    "import numpy as np\n",
    "import pylab as pl #plots\n",
    "import healpy as h #maps\n",
    "import random #random numb gen\n",
    "\n",
    "import qubic #qubic soft\n",
    "from pysm.nominal import models\n",
    "from pysimulators import FitsArray \n",
    "import os #used to call environment variables\n",
    "#import jchinstrument as jcinst\n",
    "import qubic as jcinst"
   ]
  },
  {
   "cell_type": "code",
   "execution_count": null,
   "id": "c0e75348",
   "metadata": {
    "code_folding": [
     "0"
    ]
   },
   "outputs": [],
   "source": [
    "def build_qubic_tod(sky_map, inst_dict_fn, detector_index):\n",
    "    '''\n",
    "    This function builds a TOD observed by QUBIC given a sky map and instrument dictionary and a detector index\n",
    "\n",
    "    INPUTS\n",
    "    sky map - np.array(nf, npix, 3) - nf is the number of frequencies, npix is the number of pixels and 3 is for IQU maps\n",
    "    inst_dict_fn - Multy-type\n",
    "                STRING - filename of the instrument dictionary\n",
    "                DICTIONARY - the instrument dictionary\n",
    "    detector_index - INT - FP index of single detector\n",
    "\n",
    "    OUTPUTS\n",
    "    TOD        - NP.ARRAY(nf_rec, len)     - the TOD. nf_rec is the number of reconstructed sub-bands, len is the length of the TOD\n",
    "    '''\n",
    "\n",
    "    # Define sky configuration\n",
    "    if type(inst_dict_fn) == str:\n",
    "        d = qubic.qubicdict.qubicDict()\n",
    "        d.read_from_file(inst_dict_fn)\n",
    "    elif type(inst_dict_fn) == qubic.qubicdict.qubicDict:\n",
    "        d = inst_dict_fn\n",
    "    else:\n",
    "        print(\"Wrong instrument type\")\n",
    "        return 0\n",
    "    \n",
    "    # Pointing strategy\n",
    "    p = qubic.get_pointing(d)\n",
    "    print('=== Pointing DONE! ===')\n",
    "\n",
    "    # Model of the scene at the time of observation\n",
    "    s = qubic.QubicScene(d)\n",
    "\n",
    "    # Create MultibandInstrument. Model of the instrument with a focal plane sensitivity to \n",
    "    # multiple frequencies\n",
    "    q = select_detector(jcinst.QubicInstrument(d), detector_index)\n",
    "\n",
    "    # Generate the sub-band limits to be used (later we can see what information we are ignoring with '_')\n",
    "    # _, nus_edge_in, _, _, _, _ = qubic.compute_freq(d['filter_nu'] / 1e9, d['nf_sub'],\n",
    "    #                                                 d['filter_relative_bandwidth'])\n",
    "    # Finally create an acquisition multiband operator which combines all relevant information\n",
    "    #scene, instrument configuration and strategy pointing. \n",
    "    a = qubic.QubicAcquisition(q, p, s, d)\n",
    "\n",
    "    #TOD\n",
    "    # MultiFreq TOD making\n",
    "    #(i.e. TOD for several subbands to reproduce a wideband observation)\n",
    "    TOD, maps_convolved_useless = a.get_observation(sky_map, noiseless=d['noiseless'])#, convolution = True)\n",
    "    #del(maps_convolved_useless)\n",
    "    \n",
    "    return TOD, maps_convolved_useless"
   ]
  },
  {
   "cell_type": "code",
   "execution_count": null,
   "id": "37ea106e",
   "metadata": {
    "code_folding": [
     "0"
    ]
   },
   "outputs": [],
   "source": [
    "def build_sky_map(instrument_dict, \\\n",
    "                  sky_config, \\\n",
    "                  nf_sub, \\\n",
    "                  map_filename):\n",
    "    '''\n",
    "    This function builds a sky map given an instrument dictionary and a sky configuration and writes the map in a fits file\n",
    "\n",
    "    INPUTS\n",
    "    instrument_dict - STRING - the location of the instrument configuration dictionary\n",
    "    sky_config      - DICT   - the sky configuration (see https://pysm-public.readthedocs.io/en/latest/models.html for more info)\n",
    "    nf_sub          - INT    - Number of sub-bands (main band defined in instrument dictionary). Must be geq 2\n",
    "    map_filename    - STRING - the filename of the output map (without the .fits suffix)\n",
    "\n",
    "    OUTPUTS\n",
    "    out_filename    - STRING - the full output filename    \n",
    "    '''\n",
    "    \n",
    "    import os\n",
    "\n",
    "    from pysm.nominal import models\n",
    "\n",
    "    import qubic\n",
    "    from qubic import SpectroImLib as si\n",
    "\n",
    "    from pysimulators import FitsArray\n",
    "\n",
    "    d = qubic.qubicdict.qubicDict()\n",
    "    d.read_from_file(instrument_dict)\n",
    "\n",
    "#    nf_sub = [1,]#[2, 4, 5, 10, 12, 14, 15, 16, 18, 20, 22, 24]\n",
    "    dirc = './'\n",
    "\n",
    "    try:\n",
    "        os.makedirs(dirc)\n",
    "    except:\n",
    "        pass\n",
    "\n",
    "    out_fname = []\n",
    "    for nf in nf_sub:\n",
    "        print(nf)\n",
    "        d['nf_sub'] = nf\n",
    "        #sky_config = {'dust': models('d1', d['nside']), 'cmb': models('c1', d['nside'])}\n",
    "        #sky_config = {'cmb': models('c1', d['nside'])}\n",
    "\n",
    "        Qubic_sky = si.Qubic_sky(sky_config, d)\n",
    "        x0 = Qubic_sky.get_simple_sky_map()\n",
    "        dirc2 = dirc\n",
    "        try:\n",
    "            os.makedirs(dirc2)\n",
    "        except:\n",
    "            pass\n",
    "        \n",
    "        fname = '%s_Nside_%i_Nfreq_%i.fits' % (map_filename, d['nside'], nf)\n",
    "        FitsArray(x0).save(fname)\n",
    "        out_fname.append(fname)\n",
    "    \n",
    "    return out_fname\n",
    "\n",
    "#usa i detector non selezionati? Nel caso potrebbe creare divergenze"
   ]
  },
  {
   "cell_type": "code",
   "execution_count": null,
   "id": "75c23a26",
   "metadata": {
    "code_folding": [
     "0"
    ]
   },
   "outputs": [],
   "source": [
    "def nep2net(nep, freq, bandwidth, temp):\n",
    "    h = 6.62607004e-34\n",
    "    k = 1.38064852e-23\n",
    "    x = h*freq/k/temp\n",
    "    dPdT = (2*k*bandwidth) * (x**2*np.exp(x)) /(np.exp(x)-1)**2\n",
    "    net = nep / dPdT\n",
    "    return net\n",
    "    "
   ]
  },
  {
   "cell_type": "code",
   "execution_count": null,
   "id": "2d5025b3",
   "metadata": {
    "code_folding": []
   },
   "outputs": [],
   "source": [
    "def select_detector(instrument, FPindex):\n",
    "    '''\n",
    "    This function allows one to select a single detector for the simulation\n",
    "\n",
    "    INPUTS\n",
    "    instrument - qubic.instrument.QubicMultibandInstrument - the MultiInstrument object\n",
    "    FPindex - INT - detector index (\"0\" is 594)\n",
    "\n",
    "    OUTPUTS\n",
    "    out -qubic.instrument.QubicMultibandInstrument -_The updated MultiInstrument object\n",
    "    '''\n",
    "\n",
    "    a = int(np.where(instrument.detector.index == FPindex)[0])\n",
    "    mono_instrument = instrument[a]\n",
    "    \n",
    "    out = mono_instrument\n",
    "    return out"
   ]
  },
  {
   "cell_type": "code",
   "execution_count": null,
   "id": "010a2d5e",
   "metadata": {
    "code_folding": [
     "0"
    ]
   },
   "outputs": [],
   "source": [
    "def build_qubic_cov(inst_dict_fn, detector_index):\n",
    "    '''\n",
    "    This function builds a coverage map observed by QUBIC given an instrument dictionary and a detector index\n",
    "\n",
    "    INPUTS\n",
    "    inst_dict_fn - Multy-type\n",
    "                STRING - filename of the instrument dictionary\n",
    "                DICTIONARY - the instrument dictionary\n",
    "    detector_index - INT - FP index of detector\n",
    "    OUTPUTS\n",
    "    cov        - NP.ARRAY(npix)            - the coverage map\n",
    "    '''\n",
    "\n",
    "    # Define sky configuration\n",
    "    if type(inst_dict_fn) == str:\n",
    "        d = qubic.qubicdict.qubicDict()\n",
    "        d.read_from_file(inst_dict_fn)\n",
    "    elif type(inst_dict_fn) == qubic.qubicdict.qubicDict:\n",
    "        d = inst_dict_fn\n",
    "    else:\n",
    "        print(\"Wrong instrument type\")\n",
    "        return 0\n",
    "    \n",
    "    # Pointing strategy\n",
    "    p = qubic.get_pointing(d)\n",
    "    print('=== Pointing DONE! ===')\n",
    "\n",
    "    # Model of the scene at the time of observation\n",
    "    s = qubic.QubicScene(d)\n",
    "\n",
    "    # Create MultibandInstrument. Model of the instrument with a focal plane sensitivity to \n",
    "    # multiple frequencies\n",
    "    q = select_detector(jcinst.QubicInstrument(d), detector_index)\n",
    "\n",
    "    # Finally create an acquisition multiband operator which combines all relevant information\n",
    "    #scene, instrument configuration and strategy pointing. \n",
    "    a = qubic.QubicAcquisition(q, p, s, d)\n",
    "\n",
    "    #Coverage map\n",
    "    # Map-making process for a given number of reconstructed subbands\n",
    "    nf_sub_rec = d['nf_recon'][0]\n",
    "\n",
    "    print('************* Map-Making on {} sub-map(s) *************'.format(nf_sub_rec))\n",
    "\n",
    "    ## Build a Acquisition operator for reconstruction (map-making). As it is the inverse\n",
    "    # process but seen with 'different' instrument (one with nf_rec channels).  \n",
    "    \n",
    "    # Create a Acquisition\n",
    "    arec = qubic.QubicAcquisition(q, p, s, d)\n",
    "    \n",
    "    # Get coverage map\n",
    "    # i.e. how many times were seen each pixel of the sky (not trivial because of the synthetic beam)\n",
    "    cov = arec.get_coverage()\n",
    "    hit = arec.get_hitmap()\n",
    "    return cov, hit"
   ]
  },
  {
   "cell_type": "code",
   "execution_count": null,
   "id": "909a30f7",
   "metadata": {
    "code_folding": [
     "0"
    ]
   },
   "outputs": [],
   "source": [
    "def build_qubic_map(tod, cov, inst_dict_fn, detector_index):\n",
    "    '''\n",
    "    This function builds a map observed by QUBIC given an instrument dictionary and a detector index\n",
    "\n",
    "    INPUTS\n",
    "    tod        - NP.ARRAY(nf_rec, len)     - the TOD. nf_rec is the number of reconstructed sub-bands, len is the length of the TOD\n",
    "    cov        - NP.ARRAY(npix)            - the coverage map\n",
    "    inst_dict_fn - Multy-type\n",
    "                STRING - filename of the instrument dictionary\n",
    "                DICTIONARY - the instrument dictionary\n",
    "    detector_index - INT - FP index of detector\n",
    "    OUTPUTS\n",
    "    maps_recon - NP.ARRAY(nf_rec, npix, 3) - the reconstructed map. nf_rec is the number of reconstracted sub-bands, npix is the number of pixels, 3 is for IQU maps\n",
    "    '''\n",
    "\n",
    " # Define sky configuration\n",
    "    if type(inst_dict_fn) == str:\n",
    "        d = qubic.qubicdict.qubicDict()\n",
    "        d.read_from_file(inst_dict_fn)\n",
    "    elif type(inst_dict_fn) == qubic.qubicdict.qubicDict:\n",
    "        d = inst_dict_fn\n",
    "    else:\n",
    "        print(\"Wrong instrument type\")\n",
    "        return 0\n",
    "    \n",
    "    # Pointing strategy\n",
    "    p = qubic.get_pointing(d)\n",
    "    print('=== Pointing DONE! ===')\n",
    "\n",
    "    # Model of the scene at the time of observation\n",
    "    s = qubic.QubicScene(d)\n",
    "\n",
    "    # Create MultibandInstrument. Model of the instrument with a focal plane sensitivity to \n",
    "    # multiple frequencies\n",
    "    q = select_detector(jcinst.QubicInstrument(d), detector_index)\n",
    "\n",
    "\n",
    "    # Finally create an acquisition operator which combines all relevant information\n",
    "    #scene, instrument configuration and strategy pointing. \n",
    "    a = qubic.QubicAcquisition(q, p, s, d)\n",
    "\n",
    "    #Coverage map\n",
    "    # Map-making process for a given number of reconstructed subbands\n",
    "    nf_sub_rec = d['nf_recon'][0]\n",
    "\n",
    "    # print('************* Map-Making on {} sub-map(s) *************'.format(nf_sub_rec))\n",
    "\n",
    "    ## Build a MultiAcquisition operator for reconstruction (map-making). As it is the inverse\n",
    "    # process but seen with 'different' instrument (one with nf_rec channels).  \n",
    "    # Recompute the edges of sub-bands :\n",
    "    # _, nus_edge, _, _, _, _ = qubic.compute_freq(d['filter_nu'] / 1e9, nf_sub_rec, d['filter_relative_bandwidth'])\n",
    "\n",
    "    # Create a Acquisition\n",
    "    arec = qubic.QubicAcquisition(q, p, s, d)\n",
    "        \n",
    "    # From TOD reconstruct sky maps.\n",
    "    maps_recon, nit, error = arec.tod2map(tod, d, cov=cov)\n",
    "\n",
    "    print('The shape of the reconstructed maps is (nf_recon, #pixels, #stokes) :', maps_recon.shape)\n",
    "    print('{} iterations were needed to get an error of {}'.format(nit, error))    \n",
    "    \n",
    "    return maps_recon"
   ]
  },
  {
   "cell_type": "code",
   "execution_count": null,
   "id": "76ce8c68",
   "metadata": {
    "code_folding": [
     "0"
    ]
   },
   "outputs": [],
   "source": [
    "def maprmsI(mp_gen, mp_obs, cov, threshold):\n",
    "    '''\n",
    "    This calculates the rms of a map given a certain threshold to exclude boundary pixels\n",
    "\n",
    "    INPUTS\n",
    "    mp_gen  - np.array(npix, 3) - npix is the number of pixels and 3 is for IQU maps, this is the generated map\n",
    "    mp_obs  - \" observed map \n",
    "    cov - np.array(npix) - npix is the number of pixels\n",
    "    threshold - FLOAT - threshold of coverage to keep (selects pixels covered more than threshold * max(coverage))\n",
    "\n",
    "    OUTPUTS\n",
    "    rms - FLOAT - the rms of the map\n",
    "    '''\n",
    "    \n",
    "    okpix = cov[:] > (threshold * np.max(cov[:]))\n",
    "    # Set the uncovered pixels to UNSEEN and select the intensity map\n",
    "    qubic_I = mp_obs[:,0].copy()\n",
    "    qubic_I[~okpix] = h.UNSEEN #setting to grey pixels not selected\n",
    "    \n",
    "    \n",
    "    # Now I produce noise-only maps by subtracting the signal maps and define the same mask as the QUBIC one\n",
    "    sky_I = mp_gen[:,0].copy()\n",
    "    sky_I[~okpix] = h.UNSEEN #setting to grey pixels not selected\n",
    "    \n",
    "    diffmap = sky_I - qubic_I #subtracting generated map from observed map\n",
    "    diffmap[~okpix] = h.UNSEEN\n",
    "    \n",
    "    rms = np.std(diffmap[okpix])/(sigma_map * 1e6)\n",
    "    return rms"
   ]
  },
  {
   "cell_type": "code",
   "execution_count": null,
   "id": "ca727cd9",
   "metadata": {
    "code_folding": [
     "0"
    ]
   },
   "outputs": [],
   "source": [
    "# Define folders\n",
    "try:\n",
    "    data_folder = os.environ['DATA_FOLDER']\n",
    "except:\n",
    "    data_folder = './'\n",
    "\n",
    "try:\n",
    "    maps_folder = os.environ['MAPS_FOLDER']\n",
    "except:\n",
    "    maps_folder = './'\n",
    "\n",
    "inst_dict_fn = '%sTD_spectroimaging.dict' % (data_folder)\n",
    "\n",
    "# Read dictionary\n",
    "d = qubic.qubicdict.qubicDict()\n",
    "d.read_from_file(inst_dict_fn)\n",
    "\n",
    "# Read noise\n",
    "nep = d['detector_nep']\n",
    "print('Detector NEP = %1.2e W/sqrt(Hz)' % nep)"
   ]
  },
  {
   "cell_type": "code",
   "execution_count": null,
   "id": "17a1ca2e",
   "metadata": {
    "code_folding": [
     "0"
    ]
   },
   "outputs": [],
   "source": [
    "# Convert to NET\n",
    "nu0 = d['filter_nu']\n",
    "bw = nu0 * d['filter_relative_bandwidth']\n",
    "temp = d['temperature']\n",
    "net = nep2net(nep, nu0, bw, temp)\n",
    "tau = d['period']\n",
    "print('Center frequency = %3.0f GHz' % (nu0 / 1e9))\n",
    "print('Bandwidth = %3.0f GHz' % (bw / 1e9))\n",
    "print('Integration time = %1.3f s' % tau)\n",
    "print('Detector NET = %1.2e K x sqrt(s)' % net)"
   ]
  },
  {
   "cell_type": "markdown",
   "id": "1ec78573",
   "metadata": {
    "heading_collapsed": true
   },
   "source": [
    "# Observed Map (not really used)"
   ]
  },
  {
   "cell_type": "code",
   "execution_count": null,
   "id": "45aed5c2",
   "metadata": {
    "code_folding": [
     "0"
    ],
    "hidden": true
   },
   "outputs": [],
   "source": [
    "# Define sky configuration\n",
    "sky_config = {'synchrotron': models('s1', d['nside']),'dust': models('d1', d['nside']), 'cmb': models('c1', d['nside'])}\n",
    "\n",
    "# Define number of sub-bands\n",
    "nf_sub = [1,] #[2, 4, 5, 10, 12, 14, 15, 16, 18, 20, 22, 24]\n",
    "\n",
    "# Define output map filename\n",
    "out_map = '%ssyn_dust_cmb_map.fits' % (maps_folder)\n",
    "\n",
    "# Define center freq, band extremes and sub_bands\n",
    "nu_min      = nu0 - bw / 2.\n",
    "nu_max      = nu0 + bw / 2.\n",
    "delta       = bw / nf_sub[0]\n",
    "freq_array  = np.array([nu_min + (j-1/2.) * delta for j in np.arange(1,nf_sub[0]+1)])"
   ]
  },
  {
   "cell_type": "code",
   "execution_count": null,
   "id": "b4b8bd47",
   "metadata": {
    "hidden": true
   },
   "outputs": [],
   "source": [
    "outmap = build_sky_map(inst_dict_fn, sky_config, nf_sub, out_map)\n",
    "mp = FitsArray(outmap[0])"
   ]
  },
  {
   "cell_type": "code",
   "execution_count": null,
   "id": "7402d9d5",
   "metadata": {},
   "outputs": [],
   "source": [
    "#### Replace the input map by a map with a single pixel on and the rest zero\n",
    "#mp = mp * 0 \n",
    "print(np.shape(mp))\n",
    "\n",
    "RA_center= 0. #deg\n",
    "DEC_center=57. #deg Default -57.\n",
    "#mptg = np.mean(p.galactic, axis=0)\n",
    "mptg = np.array([115.9,  -5.1])\n",
    "print(mptg)\n",
    "veccenter = h.ang2vec(mptg[0], mptg[1], lonlat=True)\n",
    "allvec = h.pix2vec(d['nside'],np.arange(12*d['nside']**2))\n",
    "degdist = 0.25\n",
    "ok = np.degrees(np.arccos(np.dot(np.transpose(allvec), veccenter))) < degdist\n",
    "\n",
    "print(ok)\n",
    "print(veccenter)\n",
    "print(np.shape(allvec))\n",
    "\n",
    "#mp[ok,0] = 1e15\n",
    "\n",
    "#mp = mp * 0"
   ]
  },
  {
   "cell_type": "code",
   "execution_count": null,
   "id": "43a2a742",
   "metadata": {
    "code_folding": [
     "0"
    ],
    "hidden": true
   },
   "outputs": [],
   "source": [
    "#show maps\n",
    "fig = pl.figure(figsize = (26,6))\n",
    "fig.suptitle('Input sky map', fontsize = 'xx-large')\n",
    "ind = 0\n",
    "fr = freq_array[0]\n",
    "\n",
    "ind = ind + 1\n",
    "ax = fig.add_subplot(nf_sub[0], 3,ind)\n",
    "h.visufunc.mollview(mp[:, 0], hold = True, title = '%3.1f GHz I' % (fr/1.e9))\n",
    "\n",
    "ind = ind + 1\n",
    "ax = fig.add_subplot(nf_sub[0], 3,ind)\n",
    "h.visufunc.mollview(mp[:, 1], hold = True, title = '%3.1f GHz Q' % (fr/1.e9))\n",
    "\n",
    "ind = ind + 1\n",
    "ax = fig.add_subplot(nf_sub[0], 3,ind)\n",
    "h.visufunc.mollview(mp[:, 2], hold = True, title = '%3.1f GHz U' % (fr/1.e9))\n",
    "\n",
    "pl.show()\n",
    "#pl.savefig(maps_folder + 'syn_dust_cmb_map.pdf',bbox_inches = 'tight')\n",
    "pl.close('all')"
   ]
  },
  {
   "cell_type": "markdown",
   "id": "ba785234",
   "metadata": {},
   "source": [
    "# TOD"
   ]
  },
  {
   "cell_type": "code",
   "execution_count": null,
   "id": "ed3abdb9",
   "metadata": {
    "code_folding": [
     "0"
    ]
   },
   "outputs": [],
   "source": [
    "#TOD parameters\n",
    "\n",
    "y2sec = 24*365*3600.\n",
    "eff_duration = d['npointings'] * d['period']/y2sec\n",
    "#FPindex = 594\n",
    "FPindex = 578\n",
    "print('Effective duration: %1.13e years' %eff_duration)\n",
    "\n",
    "### taper calculation (the detector FPindex is not exactly at the fp center, so receives more or less light)\n",
    "q = select_detector(jcinst.QubicInstrument(d), FPindex)\n",
    "xyzdet = q.detector.center\n",
    "print(xyzdet.shape)\n",
    "dist_center = np.sqrt(xyzdet[0,0]**2+xyzdet[0,1]**2)\n",
    "print(dist_center)"
   ]
  },
  {
   "cell_type": "code",
   "execution_count": null,
   "id": "ecf571f1",
   "metadata": {
    "code_folding": []
   },
   "outputs": [],
   "source": [
    "from importlib import reload\n",
    "reload(jcinst)\n",
    "#TOD and Pointing building\n",
    "tod, input_convolved = build_qubic_tod(mp*1e6, d, FPindex)  #same shape as qubic TOD\n",
    "\n",
    "# for count in np.arange(d['npointings']): #White noise\n",
    "#     tod[0, count] = random.gauss(0, nep/np.sqrt(2)/np.sqrt(tau)) \n",
    "    \n",
    "p = qubic.get_pointing(d)\n",
    "pl.plot(tod[0,:]);\n",
    "pl.xlabel('time (s)');\n",
    "pl.ylabel('data (W)');\n",
    "pl.title('White Noise TOD');"
   ]
  },
  {
   "cell_type": "code",
   "execution_count": null,
   "id": "86dfc4d6",
   "metadata": {
    "code_folding": []
   },
   "outputs": [],
   "source": [
    "#sigma measured and theo\n",
    "sigma = np.std(tod[0,:])\n",
    "print('sigma measured = %1.3e W, sigma theo = %1.3e W' %(sigma, nep/np.sqrt(2)/np.sqrt(tau)))"
   ]
  },
  {
   "cell_type": "markdown",
   "id": "79bbc4e9",
   "metadata": {},
   "source": [
    "# QUBIC Map Making"
   ]
  },
  {
   "cell_type": "code",
   "execution_count": null,
   "id": "4df6ad34",
   "metadata": {
    "code_folding": [
     "0"
    ]
   },
   "outputs": [],
   "source": [
    "#kmax \n",
    "\n",
    "# d['synthbeam_kmax'] = 0\n",
    "# print(\"kmax = %1i\" % d['synthbeam_kmax'])"
   ]
  },
  {
   "cell_type": "code",
   "execution_count": null,
   "id": "53a12721",
   "metadata": {
    "code_folding": [
     "0"
    ]
   },
   "outputs": [],
   "source": [
    "# Build coverage map\n",
    "cov, hit = build_qubic_cov(d, FPindex)"
   ]
  },
  {
   "cell_type": "code",
   "execution_count": null,
   "id": "10e5f3b0",
   "metadata": {
    "code_folding": [
     "0"
    ]
   },
   "outputs": [],
   "source": [
    "#coverage graph\n",
    "pl.plot(cov[:]);\n",
    "pl.xlabel('pixel');\n",
    "pl.ylabel('n. hits');\n",
    "pl.title('coverage per pixel')\n",
    "pl.savefig('histo_k_0.pdf', bbox_inches='tight');\n",
    "print(sum(cov))\n",
    "h.mollview(cov, title = 'coverage map')\n",
    "pl.savefig('cov_k_0.pdf');"
   ]
  },
  {
   "cell_type": "code",
   "execution_count": null,
   "id": "ad64aeda",
   "metadata": {},
   "outputs": [],
   "source": [
    "#coverage graph\n",
    "h.mollview(cov, title = 'coverage map',sub=(1,3,1))\n",
    "h.mollview(hit, title = 'hit map',sub=(1,3,2))\n",
    "h.mollview(cov-hit, title = 'coverage  map - hit map',sub=(1,3,3))\n",
    "nonzero = cov !=0\n",
    "print(cov[nonzero])\n",
    "print(hit[nonzero])"
   ]
  },
  {
   "cell_type": "code",
   "execution_count": null,
   "id": "2141f903",
   "metadata": {
    "code_folding": []
   },
   "outputs": [],
   "source": [
    "### Build map\n",
    "d['tol'] = 1.e-6\n",
    "qubic_mp = build_qubic_map(tod, cov, d, FPindex);\n",
    "\n",
    "\n",
    "# Coaddition map\n",
    "n_pixels = 12*d['nside']**2\n",
    "pix = h.ang2pix(d['nside'], p[:].galactic[:].T[0], p[:].galactic[:].T[1], lonlat=True)\n",
    "mappa = np.array([0.] * n_pixels)\n",
    "hits = np.array([0] * n_pixels)\n",
    "for count in np.arange(np.size(tod[0])):\n",
    "    mappa[pix[count]] += tod[0,count]\n",
    "    hits[pix[count]] += 1\n",
    "qubic_mp_coadd = np.zeros((n_pixels,3))\n",
    "factor = nep2net(1., nu0, bw, temp)*1e6\n",
    "print(factor)\n",
    "qubic_mp_coadd[:,0] = mappa/hits*factor #averaging data in pixel\n",
    "\n"
   ]
  },
  {
   "cell_type": "code",
   "execution_count": null,
   "id": "1e808891",
   "metadata": {},
   "outputs": [],
   "source": [
    "from qubic import fibtools as ft\n",
    "rc('figure', figsize=(15,8))\n",
    "\n",
    "reso = 10\n",
    "okpix = isfinite(np.sum(qubic_mp,1)) & isfinite(np.sum(qubic_mp_coadd,1))\n",
    "\n",
    "subplot(2,4,5)\n",
    "plot(qubic_mp[okpix,0], qubic_mp_coadd[okpix,0],'k.')\n",
    "ratio = np.median(qubic_mp[okpix,0] / qubic_mp_coadd[okpix,0])\n",
    "print('Ratio = ',ratio)\n",
    "\n",
    "\n",
    "nsig = 3\n",
    "mm, ss = ft.meancut(qubic_mp[okpix,0],3)\n",
    "if np.mean(input_convolved[:,0])==0:\n",
    "    maxi = nsig*ss\n",
    "else:\n",
    "    maxi = np.max(input_convolved[okpix,0])\n",
    "\n",
    "h.gnomview(input_convolved[:,0], rot=mptg, reso=reso, sub=(2,4,1),\n",
    "            title='Input Conv', min=0,max=maxi)\n",
    "\n",
    "h.gnomview(qubic_mp[:,0], rot=mptg, reso=reso, sub=(2,4,2),\n",
    "            title='QUBIC Map', min=0,max=maxi)\n",
    "h.gnomview(qubic_mp_coadd[:,0]*ratio, rot=mptg, reso=reso, sub=(2,4,3), \n",
    "            title='Coadd Map x ratio', min=0,max=maxi)\n",
    "\n",
    "mm,ss = ft.meancut(qubic_mp_coadd[okpix,0]*ratio - qubic_mp[okpix,0],3)\n",
    "#ss = nanstd(qubic_mp_coadd[okpix,0]*ratio - qubic_mp[okpix,0])\n",
    "h.gnomview(qubic_mp_coadd[:,0]*ratio - qubic_mp[:,0], rot=mptg, reso=reso, sub=(2,4,4), \n",
    "            title='Coadd x ratio - QUBIC')\n",
    "\n",
    "\n",
    "mm,ss = ft.meancut(qubic_mp[okpix,0]-input_convolved[okpix,0],3)\n",
    "h.gnomview(qubic_mp[:,0]-input_convolved[:,0], rot=mptg, reso=reso, sub=(2,4,6), \n",
    "            title='QUBIC - InputConv', min=0, max=maxi)\n",
    "h.gnomview(qubic_mp_coadd[:,0]*ratio-input_convolved[:,0], rot=mptg, reso=reso, sub=(2,4,7), \n",
    "            title='Coadd x ratio - InputConv', min=0, max=maxi)\n",
    "\n",
    "tight_layout()"
   ]
  },
  {
   "cell_type": "code",
   "execution_count": null,
   "id": "0b74b970",
   "metadata": {},
   "outputs": [],
   "source": [
    "qubic_mp[cov==0] = h.UNSEEN\n",
    "h.mollview(qubic_mp[:,0], title = 'Data map', sub=(1,2,1));\n",
    "h.gnomview(qubic_mp[:,0], rot=mptg, reso=5, title = 'Data map', sub=(1,2,2));"
   ]
  },
  {
   "cell_type": "code",
   "execution_count": null,
   "id": "42d4e54c",
   "metadata": {},
   "outputs": [],
   "source": [
    "h.mollview(qubic_mp[:,1], title = 'Data map', sub=(1,2,1));\n",
    "h.gnomview(qubic_mp[:,1], rot=mptg, reso=5, title = 'Data map', sub=(1,2,2));"
   ]
  },
  {
   "cell_type": "code",
   "execution_count": null,
   "id": "6b7d93a5",
   "metadata": {},
   "outputs": [],
   "source": [
    "h.mollview(qubic_mp[:,2], title = 'Data map', sub=(1,2,1));\n",
    "h.gnomview(qubic_mp[:,2], rot=mptg, reso=5, title = 'Data map', sub=(1,2,2));"
   ]
  },
  {
   "cell_type": "markdown",
   "id": "c8cf1cc8",
   "metadata": {},
   "source": [
    "# QUBIC RMS"
   ]
  },
  {
   "cell_type": "code",
   "execution_count": null,
   "id": "b50fdc42",
   "metadata": {
    "code_folding": []
   },
   "outputs": [],
   "source": [
    "# Select pixels with good coverage\n",
    "threshold = 0.1\n",
    "okpix = (cov[:] > (threshold * np.max(cov[:]))) & isfinite(np.sum(qubic_mp,1))\n",
    "#area defined by RA_center and DEC_center in Pointing section, dictionary\n"
   ]
  },
  {
   "cell_type": "code",
   "execution_count": null,
   "id": "902258e1",
   "metadata": {
    "code_folding": []
   },
   "outputs": [],
   "source": [
    "# Set the uncovered pixels to UNSEEN and select the intensity map\n",
    "for i in np.arange(3):\n",
    "    qubic_mp[~okpix,i] = h.UNSEEN #conventional number for grey background\n",
    "qubic_I = qubic_mp[:,0]\n",
    "qubic_Q = qubic_mp[:,1]\n",
    "qubic_U = qubic_mp[:,2]"
   ]
  },
  {
   "cell_type": "code",
   "execution_count": null,
   "id": "f38ef172",
   "metadata": {},
   "outputs": [],
   "source": [
    "Tobs = sum(cov[okpix]) * d['period']\n",
    "Npix = len(qubic_I[okpix])\n",
    "tau_m = Tobs/Npix #tau medio\n",
    "\n",
    "sigma_map = sigma / np.sqrt(tau_m)\n",
    "sigma_map_k = nep2net(sigma_map, nu0, bw, temp)\n",
    "print('sigma map = ', sigma_map_k, 'K')"
   ]
  },
  {
   "cell_type": "code",
   "execution_count": null,
   "id": "a1c1d3e2",
   "metadata": {
    "code_folding": []
   },
   "outputs": [],
   "source": [
    "#rms_qubic = maprmsI(mp, qubic_mp, cov, threshold) diverse unità di misura!!\n",
    "rms_qubic_I = np.std(qubic_I[okpix])/(sigma_map_k * 1e6) # * 1e6 ?\n",
    "rms_qubic_Q = np.std(qubic_Q[okpix])/(sigma_map_k * 1e6) # * 1e6 ?\n",
    "rms_qubic_U = np.std(qubic_U[okpix])/(sigma_map_k * 1e6) # * 1e6 ?\n",
    "print(rms_qubic_I)\n",
    "print(rms_qubic_Q/sqrt(2))\n",
    "print(rms_qubic_U/sqrt(2))"
   ]
  },
  {
   "cell_type": "code",
   "execution_count": null,
   "id": "0f6d2f12",
   "metadata": {},
   "outputs": [],
   "source": [
    "#rms_qubic = maprmsI(mp, qubic_mp, cov, threshold) diverse unità di misura!!\n",
    "expected_stdmap = cov*0\n",
    "expected_stdmap[okpix] = sigma / np.sqrt(cov[okpix])*factor\n",
    "\n",
    "rms_qubic_I = np.std(qubic_I[okpix]/expected_stdmap[okpix])\n",
    "rms_qubic_Q = np.std(qubic_Q[okpix]/expected_stdmap[okpix])\n",
    "rms_qubic_U = np.std(qubic_U[okpix]/expected_stdmap[okpix])\n",
    "print(rms_qubic_I)\n",
    "print(rms_qubic_Q/sqrt(2))\n",
    "print(rms_qubic_U/sqrt(2))"
   ]
  },
  {
   "cell_type": "code",
   "execution_count": null,
   "id": "f0c77fa2",
   "metadata": {},
   "outputs": [],
   "source": [
    "np.std(qubic_I[okpix])"
   ]
  },
  {
   "cell_type": "markdown",
   "id": "c5d9ece8",
   "metadata": {},
   "source": [
    "Potrebbe essere una procedura sbagliata per trovare la sigma della mappa. \n",
    "Probabilmente dobbiamo considerare un fattore di deconvoluzione. \n",
    "Quando un detector osserva, più feed-horn \"vedono\", quindi non ho solo 1 pixel. "
   ]
  },
  {
   "cell_type": "code",
   "execution_count": null,
   "id": "b2c9232d",
   "metadata": {},
   "outputs": [],
   "source": [
    "h.mollview(qubic_mp[:,0], title = 'Data map w/ thereshold');"
   ]
  },
  {
   "cell_type": "code",
   "execution_count": null,
   "id": "8feef846",
   "metadata": {},
   "outputs": [],
   "source": []
  },
  {
   "cell_type": "code",
   "execution_count": null,
   "id": "d27b62ee",
   "metadata": {},
   "outputs": [],
   "source": []
  },
  {
   "cell_type": "code",
   "execution_count": null,
   "id": "1ce0bcee",
   "metadata": {},
   "outputs": [],
   "source": []
  },
  {
   "cell_type": "code",
   "execution_count": null,
   "id": "a80c1619",
   "metadata": {},
   "outputs": [],
   "source": []
  },
  {
   "cell_type": "code",
   "execution_count": null,
   "id": "9634f01f",
   "metadata": {},
   "outputs": [],
   "source": []
  }
 ],
 "metadata": {
  "jupytext": {
   "cell_metadata_json": true
  },
  "kernelspec": {
   "display_name": "Python 3",
   "language": "python",
   "name": "python3"
  }
 },
 "nbformat": 4,
 "nbformat_minor": 5
}
