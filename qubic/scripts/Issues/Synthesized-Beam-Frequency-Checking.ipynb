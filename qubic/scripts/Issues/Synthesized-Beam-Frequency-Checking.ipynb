{
 "cells": [
  {
   "cell_type": "code",
   "execution_count": null,
   "id": "aec49afc",
   "metadata": {},
   "outputs": [],
   "source": [
    "rc('figure',figsize=(16,4))\n",
    "rc('font',size=12)\n",
    "rc('text',usetex=False)\n",
    "rc('image', cmap='viridis')\n",
    "import numpy as np"
   ]
  },
  {
   "cell_type": "code",
   "execution_count": null,
   "id": "901af44d",
   "metadata": {},
   "outputs": [],
   "source": [
    "#### This is the analytical synthesized for a pixel at the focal plane center \n",
    "#### without accounting for the primry beam (just the mukltple peaks)\n",
    "def sb_noprim(th_deg, nu):\n",
    "    th = np.radians(th_deg)\n",
    "    lam = 3e8/nu\n",
    "    P = 20\n",
    "    deltax = 0.013\n",
    "    df = 300.\n",
    "    abscissa = np.pi * deltax/lam * th\n",
    "    sb = np.sin(P*abscissa)**2 / np.sin(abscissa)**2\n",
    "    return sb/np.max(sb)"
   ]
  },
  {
   "cell_type": "code",
   "execution_count": null,
   "id": "ba4c653d",
   "metadata": {},
   "outputs": [],
   "source": [
    "## With Multiband = False  => using a QubicInstrument\n",
    "import qubic\n",
    "d = qubic.qubicdict.qubicDict()\n",
    "d.read_from_file('/Users/hamilton/Python/GitQubicMousset/qubic/qubic/dicts/global_source_oneDet.dict')\n",
    "d['multiband'] = False\n",
    "d['beam_shape'] = 'multi_freq'   # fitted_beam, gaussian, multi_freq\n",
    "print('Beam Shape:',d['beam_shape'])\n",
    "\n",
    "\n",
    "freqs = np.array([1.32638868e+11, 1.50398340e+11, 1.67001321e+11])\n",
    "nn = 1000\n",
    "th= np.linspace(-30,30, nn)\n",
    "ph = 0\n",
    "\n",
    "allbeams = np.zeros((len(freqs), nn))\n",
    "for i in range(len(freqs)):\n",
    "    d['filter_nu'] = freqs[i]\n",
    "    q = qubic.QubicInstrument(d)\n",
    "    allbeams[i,:] = q.primary_beam(np.radians(np.abs(th)),ph)\n",
    "        \n",
    "    subplot(1,2,1)\n",
    "    p=plot(th, allbeams[i,:],'--', label='nu={0:6.1f}'.format(freqs[i]/1e9))\n",
    "    plot(th, allbeams[i,:]*sb_noprim(th, freqs[i]), color=p[0].get_color())\n",
    "#     subplot(1,2,2)\n",
    "#     p=plot(th, allbeams[i,:],'--', label='nu={0:6.1f}'.format(freqs[i]/1e9))\n",
    "#     plot(th, allbeams[i,:]*sb_noprim(th, freqs[i]), color=p[0].get_color())\n",
    "#     yscale('log')\n",
    "#     ylim(1e-3,0)\n",
    "    title('d[beam_shape]='+d['beam_shape']+' , Multiband='+str(d['multiband']))\n",
    "legend()\n"
   ]
  },
  {
   "cell_type": "code",
   "execution_count": null,
   "id": "7086f4eb",
   "metadata": {},
   "outputs": [],
   "source": [
    "q.primary_beam??"
   ]
  },
  {
   "cell_type": "code",
   "execution_count": null,
   "id": "b1fb604d",
   "metadata": {},
   "outputs": [],
   "source": []
  },
  {
   "cell_type": "code",
   "execution_count": null,
   "id": "5cb93ce0",
   "metadata": {},
   "outputs": [],
   "source": []
  },
  {
   "cell_type": "code",
   "execution_count": null,
   "id": "32da5934",
   "metadata": {},
   "outputs": [],
   "source": []
  },
  {
   "cell_type": "code",
   "execution_count": null,
   "id": "c33d89e7",
   "metadata": {},
   "outputs": [],
   "source": []
  },
  {
   "cell_type": "code",
   "execution_count": null,
   "id": "9b8d8ace",
   "metadata": {},
   "outputs": [],
   "source": [
    "# With multiband = True code have to be written differently\n",
    "import qubic\n",
    "d = qubic.qubicdict.qubicDict()\n",
    "d.read_from_file('/Users/hamilton/Python/GitQubicMousset/qubic/qubic/dicts/global_source_oneDet.dict')\n",
    "d['multiband'] = True\n",
    "d['beam_shape'] = 'multi_freq'   # fitted_beam, gaussian, multi_freq\n",
    "print('Beam Shape:',d['beam_shape'])\n",
    "\n",
    "q = qubic.QubicMultibandInstrument(d)\n",
    "nsub = len(q)\n",
    "nus = np.zeros(nsub)\n",
    "for i in range(nsub): nus[i] = q[i].filter.nu\n",
    "\n",
    "indices = [0, 6, 11]\n",
    "\n",
    "for i in range(len(indices)):\n",
    "    allbeams[i,:] = q[indices[i]].primary_beam(np.radians(np.abs(th)),ph)\n",
    "    subplot(1,2,1)\n",
    "    p=plot(th, allbeams[i,:], '--', label='nu={0:6.1f}'.format(nus[i]/1e9))\n",
    "    plot(th, allbeams[i,:]*sb_noprim(th, freqs[i]), color=p[0].get_color())\n",
    "    subplot(1,2,2)\n",
    "    p=plot(th, allbeams[i,:], '--', label='nu={0:6.1f}'.format(nus[i]/1e9))\n",
    "    plot(th, allbeams[i,:]*sb_noprim(th, freqs[i]), color=p[0].get_color())\n",
    "    yscale('log')\n",
    "    ylim(1e-3, 0)\n",
    "    title('d[beam_shape]='+d['beam_shape']+' , Multiband='+str(d['multiband']))\n",
    "legend()\n"
   ]
  },
  {
   "cell_type": "code",
   "execution_count": null,
   "id": "dbd1871e",
   "metadata": {},
   "outputs": [],
   "source": []
  },
  {
   "cell_type": "code",
   "execution_count": null,
   "id": "c04d936d",
   "metadata": {},
   "outputs": [],
   "source": []
  }
 ],
 "metadata": {
  "kernelspec": {
   "display_name": "Python 3",
   "language": "python",
   "name": "python3"
  }
 },
 "nbformat": 4,
 "nbformat_minor": 5
}
