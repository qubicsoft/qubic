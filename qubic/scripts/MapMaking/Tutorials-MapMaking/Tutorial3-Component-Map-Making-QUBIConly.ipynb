{
 "cells": [
  {
   "cell_type": "markdown",
   "id": "8acb92c8",
   "metadata": {},
   "source": [
    "# First steps of components Map-Making\n",
    "\n",
    "In this notebook, we will learn how to make the component Map-Making simple. The idea is not longer fit the frequency observations but direclty the components at a reference frequency $\\nu_0$. To do that, we will use module from FG-Buster code especially to define the mixing matrix $A$. Here is all the packages used during this process."
   ]
  },
  {
   "cell_type": "code",
   "execution_count": null,
   "id": "4e03fd55",
   "metadata": {},
   "outputs": [],
   "source": [
    "from __future__ import division\n",
    "\n",
    "# QUBIC packages\n",
    "import qubic\n",
    "from qubicpack.utilities import Qubic_DataDir\n",
    "from qubic.data import PATH\n",
    "from qubic.io import read_map\n",
    "import Acquisition as Acq\n",
    "\n",
    "# General packages\n",
    "import healpy as hp\n",
    "import matplotlib.pyplot as plt\n",
    "import numpy as np\n",
    "import pysm3\n",
    "import warnings\n",
    "import pysm3.units as u\n",
    "from importlib import reload\n",
    "from pysm3 import utils\n",
    "from qubic import QubicSkySim as qss\n",
    "\n",
    "# FG-Buster packages\n",
    "import component_model as c\n",
    "import mixing_matrix as mm\n",
    "\n",
    "# PyOperators packages\n",
    "from pyoperators import (\n",
    "    BlockColumnOperator, BlockDiagonalOperator, BlockRowOperator,\n",
    "    CompositionOperator, DiagonalOperator, I, IdentityOperator,\n",
    "    MPIDistributionIdentityOperator, MPI, proxy_group, ReshapeOperator,\n",
    "    rule_manager, pcg, Operator, DenseOperator)\n",
    "from pysimulators.interfaces.healpy import HealpixConvolutionGaussianOperator\n",
    "warnings.filterwarnings(\"ignore\")\n",
    "%matplotlib inline\n",
    "\n",
    "# %config InlineBackend.figure_format='retina'\n",
    "from IPython.display import display, HTML\n",
    "display(HTML(\"<style>.container { width:95% !important; }</style>\"))"
   ]
  },
  {
   "cell_type": "markdown",
   "id": "73e0a00f",
   "metadata": {},
   "source": [
    "# QUBIC Dictionary\n",
    "\n",
    "Here we define QUBIC stuff like the Pointing and the instrument or the pixelization of the sky. The main parameter to keep in mind here is :\n",
    "\n",
    "+ Nf the number of sub-acquisitions\n",
    "\n",
    "This Nf parameter is not the reconstructed bands as usually but the number of sub-acquisition to sample each components (CMB, Thermal Dust, etc...). The higher Nf is, the closer to the real instrument the simulation is but the process take many more time to converge. You can play with it to see differences between situations but here we fix it to 1 for the example. You must choose also a reasonable number of pointing like 2000 but should but increase for realistic simulations."
   ]
  },
  {
   "cell_type": "code",
   "execution_count": null,
   "id": "7f71a19f",
   "metadata": {},
   "outputs": [],
   "source": [
    "# Repository for dictionary\n",
    "global_dir = '/pbs/home/m/mregnier/Libs/qubic/qubic/'#Qubic_DataDir()\n",
    "print(global_dir)\n",
    "dictfilename = global_dir + 'dicts/pipeline_demo.dict'\n",
    "\n",
    "# Read dictionary chosen\n",
    "d = qubic.qubicdict.qubicDict()\n",
    "d.read_from_file(dictfilename)\n",
    "\n",
    "from qubic import SpectroImLib as sp\n",
    "from importlib import reload\n",
    "\n",
    "Nf = 1\n",
    "relative_bandwidth = 0.25\n",
    "Nbfreq, nus_edge150, nus150, deltas, Delta, Nbbands = qubic.compute_freq(150, Nfreq=Nf)\n",
    "Nbfreq, nus_edge220, nus220, deltas, Delta, Nbbands = qubic.compute_freq(220, Nfreq=Nf)\n",
    "center = qubic.equ2gal(0, -57)\n",
    "def give_dictionary(dictfilename, Nf, nside, pointing, band):\n",
    "    d = qubic.qubicdict.qubicDict()\n",
    "    d.read_from_file(dictfilename)\n",
    "    d['nf_recon'] = Nf\n",
    "    d['nf_sub'] = 1*Nf\n",
    "    d['nside'] = nside\n",
    "    npix=12*d['nside']**2\n",
    "    d['RA_center'] = 0\n",
    "    d['DEC_center'] = -57\n",
    "    center = qubic.equ2gal(d['RA_center'], d['DEC_center'])\n",
    "    d['effective_duration'] = 3\n",
    "    #d['dtheta'] = 15\n",
    "    d['npointings'] = pointing\n",
    "    d['filter_nu'] = int(band*1e9)\n",
    "    d['photon_noise'] = False\n",
    "    d['config'] = 'FI'\n",
    "    d['MultiBand'] = True\n",
    "    \n",
    "    return d\n",
    "\n",
    "nside=256\n",
    "pointing=1000\n",
    "\n",
    "d150 = give_dictionary(dictfilename, Nf, nside, pointing, 150)\n",
    "d220 = give_dictionary(dictfilename, Nf, nside, pointing, 220)"
   ]
  },
  {
   "cell_type": "markdown",
   "id": "31f052bd",
   "metadata": {},
   "source": [
    "Here we simulate our \"real sky\", we compute clean components from PySM and we convolve them to the QUBIC resolution (We'll see in futur notebook how to consider multiple angular resolution during the process). We compute :\n",
    "\n",
    "+ Components which will be our true sky simulated.\n",
    "+ Comp_for_pcg which wll be a sky convolved by a large beam (like 1 or 2 degree) and used as initial guess for the PCG."
   ]
  },
  {
   "cell_type": "code",
   "execution_count": null,
   "id": "31a2bebc",
   "metadata": {},
   "outputs": [],
   "source": [
    "nu0 = 150\n",
    "skycmb = pysm3.Sky(nside=nside, preset_strings=['c1'])\n",
    "skydust = pysm3.Sky(nside=nside, preset_strings=['d0'])\n",
    "C =  HealpixConvolutionGaussianOperator(fwhm=np.deg2rad(0.39))\n",
    "\n",
    "maps_dust = np.array(skydust.get_emission(nu0 * u.GHz, None) * utils.bandpass_unit_conversion(nu0 * u.GHz, None, u.uK_CMB).T)\n",
    "maps_cmb = np.array(skycmb.get_emission(nu0 * u.GHz, None) * utils.bandpass_unit_conversion(nu0 * u.GHz, None, u.uK_CMB).T)\n",
    "components = np.array([C(maps_cmb.T), C(maps_dust.T)])\n",
    "\n",
    "C =  HealpixConvolutionGaussianOperator(fwhm=np.deg2rad(0.39))\n",
    "print(C, maps_cmb.shape)\n",
    "comp_for_pcg = np.array([C(maps_cmb.T), C(maps_dust.T)])"
   ]
  },
  {
   "cell_type": "markdown",
   "id": "3a50ceb4",
   "metadata": {},
   "source": [
    "Here we define the pointing, secene and instrument instance."
   ]
  },
  {
   "cell_type": "code",
   "execution_count": null,
   "id": "691581fe",
   "metadata": {},
   "outputs": [],
   "source": [
    "reload(Acq)\n",
    "\n",
    "# Pointing\n",
    "p = qubic.get_pointing(d150)\n",
    "\n",
    "# Scene\n",
    "s = qubic.QubicScene(d150)\n",
    "\n",
    "# Instrument\n",
    "q150 = qubic.QubicMultibandInstrument(d150)\n",
    "q220 = qubic.QubicMultibandInstrument(d220)"
   ]
  },
  {
   "cell_type": "markdown",
   "id": "e0dc536b",
   "metadata": {},
   "source": [
    "Here we define from `Acquisition.py` all the QUBIC acquisition model we need. We are interesting only by those which end by `ComponentsMapMaking`. We have choice between 3 main models :\n",
    "\n",
    "+ QubicIntegrated : QUBIC with one band (150 or 220 GHz)\n",
    "+ QubicTwoBands : QUBIC which consider both bands (150 and 220 GHz)\n",
    "+ QubicWideBand : An alternative version of QUBIC FI with only one focal plane\n",
    "\n",
    "Then, we can easily generate the noise `n`, the onverse noise covariance matrix `invN`, the operator `H` and instanciate the reconstruction pipeline. Inside modesl, because we want to construct components from TOD, you should define foregrounds model in a `comp` list."
   ]
  },
  {
   "cell_type": "code",
   "execution_count": null,
   "id": "3ca888ed",
   "metadata": {},
   "outputs": [],
   "source": [
    "reload(Acq)\n",
    "\n",
    "# QUBIC instruments\n",
    "o150 = Acq.QubicIntegratedComponentsMapMaking(q150, p, s, d150, nus_edge150, comp=[c.CMB(), c.Dust(nu0=150, temp=20)])\n",
    "o220 = Acq.QubicIntegratedComponentsMapMaking(q220, p, s, d220, nus_edge220, comp=[c.CMB(), c.Dust(nu0=150, temp=20)])\n",
    "\n",
    "# QUBIC models\n",
    "otwo = Acq.QubicTwoBandsComponentsMapMaking(o150, o220, s, [c.CMB(), c.Dust(nu0=150, temp=20)])\n",
    "owide = Acq.QubicTwoBandsComponentsMapMaking(o150, o220, s, [c.CMB(), c.Dust(nu0=150, temp=20)])\n",
    "\n",
    "cov = o150.get_coverage()\n",
    "pixok = cov > 0\n",
    "\n",
    "\n",
    "n = Acq.QubicOtherIntegratedComponentsMapMaking(otwo, [], comp=[c.CMB(), c.Dust(nu0=150, temp=20)]).get_noise()\n",
    "invN = Acq.QubicOtherIntegratedComponentsMapMaking(otwo, [], comp=[c.CMB(), c.Dust(nu0=150, temp=20)]).get_invntt_operator()\n",
    "Pipeline = Acq.PipelineReconstruction(otwo, [], comp=[c.CMB(), c.Dust(nu0=150, temp=20)], type='TwoBands', convolution=False)\n",
    "H = Pipeline.get_operator(np.array([1.54]), False)"
   ]
  },
  {
   "cell_type": "markdown",
   "id": "19d5816b",
   "metadata": {},
   "source": [
    "Here we define the TOD with `TOD = H.c + n` and the equation `A x = b`."
   ]
  },
  {
   "cell_type": "code",
   "execution_count": null,
   "id": "1a5852f3",
   "metadata": {},
   "outputs": [],
   "source": [
    "components[:, ~pixok, :] = 0\n",
    "comp_for_pcg[:, ~pixok, :] = 0\n",
    "tod = H(components)+n\n",
    "A = H.T * invN * H\n",
    "b = H.T * invN * tod\n",
    "M = Acq.get_preconditioner(np.array([cov]))"
   ]
  },
  {
   "cell_type": "code",
   "execution_count": null,
   "id": "3da12d2c",
   "metadata": {},
   "outputs": [],
   "source": [
    "sol = pcg(A, b, x0=comp_for_pcg, tol=1e-4, M=M, disp=True)"
   ]
  },
  {
   "cell_type": "code",
   "execution_count": null,
   "id": "50676ff2",
   "metadata": {},
   "outputs": [],
   "source": [
    "outputs = sol['x'].copy()\n",
    "inputs = components.copy()\n",
    "#inputs[:, ~pixok, :] = hp.UNSEEN"
   ]
  },
  {
   "cell_type": "code",
   "execution_count": null,
   "id": "32e3fb4c",
   "metadata": {},
   "outputs": [],
   "source": [
    "r = 8\n",
    "rr = 8\n",
    "reso= 25\n",
    "istk = 2\n",
    "\n",
    "plt.figure(figsize=(15, 5))\n",
    "hp.mollview(inputs[0, :, istk], cmap='jet', min=-rr, max=rr, sub=(1, 4, 1))\n",
    "hp.mollview(outputs[0, :, istk], cmap='jet', min=-rr, max=rr, sub=(1, 4, 2))\n",
    "hp.mollview(inputs[0, :, istk] - outputs[0, :, istk], cmap='jet', min=-r, max=r, sub=(1, 4, 3))\n",
    "hp.mollview(cov/cov.max(), cmap='jet', min=0, max=1, sub=(1, 4, 4))\n",
    "plt.show()\n",
    "\n",
    "plt.figure(figsize=(15, 5))\n",
    "hp.gnomview(inputs[0, :, istk], cmap='jet', min=-rr, max=rr, sub=(1, 5, 1), rot=center, reso=reso)\n",
    "hp.gnomview(outputs[0, :, istk], cmap='jet', min=-rr, max=rr, sub=(1, 5, 2), rot=center, reso=reso)\n",
    "hp.gnomview(inputs[0, :, istk] - outputs[0, :, istk], cmap='jet', min=-r, max=r, sub=(1, 5, 3), rot=center, reso=reso)\n",
    "hp.gnomview(cov/cov.max(), cmap='jet', min=0, max=1, sub=(1, 5, 4), rot=center, reso=reso)\n",
    "hp.gnomview(pixok, cmap='jet', min=0, max=1, sub=(1, 5, 5), rot=center, reso=reso)\n",
    "plt.show()\n",
    "\n",
    "\n",
    "plt.figure(figsize=(15, 5))\n",
    "hp.mollview(inputs[1, :, istk], cmap='jet', min=-5, max=5, sub=(1, 4, 1))\n",
    "hp.mollview(outputs[1, :, istk], cmap='jet', min=-5, max=5, sub=(1, 4, 2))\n",
    "hp.mollview(inputs[1, :, istk] - outputs[1, :, istk], cmap='jet', min=-r, max=r, sub=(1, 4, 3))\n",
    "hp.mollview(cov/cov.max(), cmap='jet', min=0, max=1, sub=(1, 4, 4))\n",
    "plt.show()\n",
    "\n",
    "plt.figure(figsize=(15, 5))\n",
    "hp.gnomview(inputs[1, :, istk], cmap='jet', min=-5, max=10, sub=(1, 4, 1), rot=center, reso=reso)\n",
    "hp.gnomview(outputs[1, :, istk], cmap='jet', min=-5, max=10, sub=(1, 4, 2), rot=center, reso=reso)\n",
    "hp.gnomview(inputs[1, :, istk] - outputs[1, :, istk], cmap='jet', min=-r, max=r, sub=(1, 4, 3), rot=center, reso=reso)\n",
    "hp.gnomview(cov/cov.max(), cmap='jet', min=0, max=1, sub=(1, 4, 4), rot=center, reso=reso)\n",
    "plt.show()"
   ]
  },
  {
   "cell_type": "code",
   "execution_count": null,
   "id": "a36eaacc",
   "metadata": {},
   "outputs": [],
   "source": []
  },
  {
   "cell_type": "code",
   "execution_count": null,
   "id": "60336432",
   "metadata": {},
   "outputs": [],
   "source": []
  },
  {
   "cell_type": "code",
   "execution_count": null,
   "id": "3d8fbcfc",
   "metadata": {},
   "outputs": [],
   "source": []
  },
  {
   "cell_type": "code",
   "execution_count": null,
   "id": "df641322",
   "metadata": {},
   "outputs": [],
   "source": []
  },
  {
   "cell_type": "code",
   "execution_count": null,
   "id": "c3b2e41b",
   "metadata": {},
   "outputs": [],
   "source": []
  }
 ],
 "metadata": {
  "jupytext": {
   "formats": "ipynb,Rmd"
  },
  "kernelspec": {
   "display_name": "Python 3 (ipykernel)",
   "language": "python",
   "name": "python3"
  }
 },
 "nbformat": 4,
 "nbformat_minor": 5
}
