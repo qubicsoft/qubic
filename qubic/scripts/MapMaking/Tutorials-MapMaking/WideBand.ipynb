{
 "cells": [
  {
   "cell_type": "code",
   "execution_count": null,
   "id": "738d79fa",
   "metadata": {},
   "outputs": [],
   "source": [
    "from __future__ import division\n",
    "from pyoperators import pcg\n",
    "from pysimulators import profile\n",
    "\n",
    "# QUBIC packages\n",
    "import qubic\n",
    "from qubicpack.utilities import Qubic_DataDir\n",
    "from qubic.data import PATH\n",
    "from qubic.io import read_map\n",
    "from qubic import QubicSkySim as qss\n",
    "import sys\n",
    "sys.path.append('/Users/mregnier/Desktop/PhD Regnier/mypackages')\n",
    "\n",
    "\n",
    "import frequency_acquisition as Acq\n",
    "\n",
    "# Display packages\n",
    "import healpy as hp\n",
    "import matplotlib.pyplot as plt\n",
    "\n",
    "# FG-Buster packages\n",
    "import component_model as c\n",
    "import mixing_matrix as mm\n",
    "\n",
    "# General packages\n",
    "import numpy as np\n",
    "import pysm3\n",
    "import warnings\n",
    "from qubic import QubicSkySim as qss\n",
    "import pysm3.units as u\n",
    "from importlib import reload\n",
    "from pysm3 import utils\n",
    "\n",
    "from qubic import SpectroImLib as sp\n",
    "from importlib import reload\n",
    "import gc\n",
    "import copy\n",
    "from pyoperators import *\n",
    "import mypcg\n",
    "\n",
    "\n",
    "# PyOperators packages\n",
    "from pyoperators import (\n",
    "    BlockColumnOperator, BlockDiagonalOperator, BlockRowOperator,\n",
    "    CompositionOperator, DiagonalOperator, I, IdentityOperator,\n",
    "    MPIDistributionIdentityOperator, MPI, proxy_group, ReshapeOperator,\n",
    "    rule_manager, pcg, Operator)\n",
    "\n",
    "from pysimulators.interfaces.healpy import HealpixConvolutionGaussianOperator\n",
    "warnings.filterwarnings(\"ignore\")\n",
    "# %matplotlib inline\n",
    "\n",
    "## Now QUBIC and Planck acquisitions used for reconstruction\n",
    "\n",
    "def integration(nu_min, nu_max, Nintegr, sky_config, d, fwhm_subbands = None):\n",
    "    print(f'Integration from {nu_min:.2f} to {nu_max:.2f} GHz with {Nintegr} steps')\n",
    "    obj = Acq.QubicIntegrated(d, Nsub=Nintegr, Nrec=Nintegr)\n",
    "    if Nintegr == 1:\n",
    "        allnus = np.array([np.mean([nu_min, nu_max])])\n",
    "    else:\n",
    "        allnus = np.linspace(nu_min, nu_max, Nintegr)\n",
    "    m = obj.get_PySM_maps(sky_config, nus=allnus)\n",
    "    \n",
    "    if fwhm_subbands is not None:\n",
    "        for i in range(Nintegr):\n",
    "            C = HealpixConvolutionGaussianOperator(fwhm=fwhm_subbands[i])\n",
    "            m[i] = C(m[i])\n",
    "    \n",
    "    return np.array([np.mean(m, axis=0)])\n",
    "\n",
    "\n",
    "# # %config InlineBackend.figure_format='retina'\n",
    "from IPython.display import display, HTML\n",
    "display(HTML(\"<style>.container { width:95% !important; }</style>\"))\n",
    "\n",
    "\n",
    "reload(Acq)\n",
    "nside = 256\n",
    "relative_bandwidth = 0.25\n",
    "band = 220\n",
    "band_planck = 217\n",
    "seed = 42\n",
    "noiseless = False\n",
    "effective_duration = 3e0\n",
    "rwplanck = 1.\n",
    "tol = 1e-40\n",
    "noise_planck_level = 0\n",
    "noise_qubic_level = 0\n",
    "\n",
    "def get_dictionary(nsub, nside, pointing, band):\n",
    "    dictfilename = 'dicts/pipeline_demo.dict'\n",
    "    \n",
    "    # Read dictionary chosen\n",
    "    d = qubic.qubicdict.qubicDict()\n",
    "    d.read_from_file(dictfilename)\n",
    "    d['nf_recon'] = nsub\n",
    "    d['nf_sub'] = nsub\n",
    "    d['nside'] = nside\n",
    "    d['RA_center'] = 0\n",
    "    d['DEC_center'] = -57\n",
    "    center = qubic.equ2gal(d['RA_center'], d['DEC_center'])\n",
    "    d['effective_duration'] = 3\n",
    "    d['npointings'] = pointing\n",
    "    d['filter_nu'] = int(band*1e9)\n",
    "    d['photon_noise'] = True\n",
    "    d['noiseless'] = False\n",
    "    d['config'] = 'FI'\n",
    "    d['MultiBand'] = True\n",
    "    \n",
    "    return d, center"
   ]
  },
  {
   "cell_type": "code",
   "execution_count": null,
   "id": "6e4a5c70",
   "metadata": {},
   "outputs": [],
   "source": [
    "nsub = 1\n",
    "nside = 256\n",
    "pointing = 1000\n",
    "band = 150\n",
    "d150, center = get_dictionary(nsub, nside, pointing, 150)\n",
    "d220, _ = get_dictionary(nsub, nside, pointing, 220)"
   ]
  },
  {
   "cell_type": "code",
   "execution_count": null,
   "id": "b73222d5",
   "metadata": {},
   "outputs": [],
   "source": [
    "reload(Acq)\n",
    "\n",
    "fact_sub = 1\n",
    "Nrec = 1\n",
    "Nsub = fact_sub * Nrec\n",
    "\n",
    "qubic150 = Acq.QubicIntegrated(d150, Nsub=Nsub, Nrec=Nrec)\n",
    "qubic220 = Acq.QubicIntegrated(d220, Nsub=Nsub, Nrec=Nrec)"
   ]
  },
  {
   "cell_type": "code",
   "execution_count": null,
   "id": "d1e71c21",
   "metadata": {},
   "outputs": [],
   "source": [
    "qu = Acq.QubicTwoBands(qubic150, qubic220)\n",
    "planck143 = Acq.PlanckAcquisition(143, qu.scene)\n",
    "planck217 = Acq.PlanckAcquisition(217, qu.scene)\n",
    "\n",
    "qupl = Acq.QubicPlanckMultiBandAcquisition(qu, [planck143, planck217])\n",
    "cov = qubic150.get_coverage()\n",
    "seenpix1 = cov/cov.max() > 0.\n",
    "seenpix2 = cov/cov.max() > 0.\n",
    "#mask = np.array(seenpix)\n",
    "#Hw = qu.get_operator(convolution=False)\n",
    "#print(Hw.shapein, Hw.shapeout)"
   ]
  },
  {
   "cell_type": "code",
   "execution_count": null,
   "id": "ed906322",
   "metadata": {},
   "outputs": [],
   "source": [
    "mask = np.array(seenpix2, dtype=float)\n",
    "mask += 1\n",
    "mask[seenpix1] *= 1e20"
   ]
  },
  {
   "cell_type": "code",
   "execution_count": null,
   "id": "9b8f2d90",
   "metadata": {},
   "outputs": [],
   "source": [
    "#invN.operands[2].operands[1]"
   ]
  },
  {
   "cell_type": "code",
   "execution_count": null,
   "id": "1626329a",
   "metadata": {},
   "outputs": [],
   "source": [
    "invN = qupl.get_invntt_operator()\n",
    "#invN.operands[0].operands[1] /= 1e0\n",
    "#invN.operands[2].operands[1] /= 1e0"
   ]
  },
  {
   "cell_type": "code",
   "execution_count": null,
   "id": "91e049c6",
   "metadata": {},
   "outputs": [],
   "source": [
    "Hw_pl = qupl.get_operator()"
   ]
  },
  {
   "cell_type": "code",
   "execution_count": null,
   "id": "b9c013d6",
   "metadata": {},
   "outputs": [],
   "source": [
    "cmb = qu.qubic150.get_PySM_maps({'cmb':42}, nus=qu.nueff)\n",
    "cmb_qu = cmb.copy()\n",
    "#cmb_qu[:, ~seenpix2] = 0\n",
    "cmb_pl = cmb.copy()\n",
    "#cmb_pl[:, seenpix1] = 0"
   ]
  },
  {
   "cell_type": "code",
   "execution_count": null,
   "id": "9d14bb53",
   "metadata": {},
   "outputs": [],
   "source": []
  },
  {
   "cell_type": "code",
   "execution_count": null,
   "id": "5bca0933",
   "metadata": {},
   "outputs": [],
   "source": [
    "Hpl = ReshapeOperator((786432,3), 2359296)\n",
    "tod_pl = Hpl(cmb_pl[0])\n",
    "n = qupl.get_noise()\n",
    "n_pl = n[991008:991008 + 2359296]\n",
    "n_pl = Hpl.T(n_pl)\n",
    "n_pl[seenpix1] = 0\n",
    "n_pl = Hpl(n_pl)"
   ]
  },
  {
   "cell_type": "code",
   "execution_count": null,
   "id": "d6864fad",
   "metadata": {},
   "outputs": [],
   "source": [
    "tod = np.array([])\n",
    "tod = np.append(tod, tod_qubic[:991008])# + n[:991008])\n",
    "for i in range(Nrec):\n",
    "    tod = np.append(tod, tod_pl+n_pl)\n",
    "\n",
    "tod = np.append(tod, tod_qubic[991008 + 2359296:2*991008 + 2359296])# + n[991008 + Nrec * 3*12*nside**2:2*991008 + (Nrec) * 3*12*nside**2])\n",
    "\n",
    "for i in range(Nrec):\n",
    "    tod = np.append(tod, tod_pl+n_pl)"
   ]
  },
  {
   "cell_type": "code",
   "execution_count": null,
   "id": "8e164253",
   "metadata": {},
   "outputs": [],
   "source": [
    "\n",
    "\n",
    "#tod = Hw_pl(cmb) + n\n",
    "\n",
    "\n",
    "A = Hw_pl.T * invN * Hw_pl\n",
    "b = Hw_pl.T * invN * tod"
   ]
  },
  {
   "cell_type": "code",
   "execution_count": null,
   "id": "f0890d10",
   "metadata": {},
   "outputs": [],
   "source": [
    "plt.plot(n)\n",
    "plt.plot(tod, alpha=0.3)"
   ]
  },
  {
   "cell_type": "code",
   "execution_count": null,
   "id": "249c6796",
   "metadata": {},
   "outputs": [],
   "source": []
  },
  {
   "cell_type": "code",
   "execution_count": null,
   "id": "bb770676",
   "metadata": {},
   "outputs": [],
   "source": [
    "solution = pcg(A, b, x0=None, maxiter=50, tol=1e-40, disp=True)"
   ]
  },
  {
   "cell_type": "code",
   "execution_count": null,
   "id": "768065c7",
   "metadata": {},
   "outputs": [],
   "source": [
    "pixok = cov/cov.max() > 0.1\n",
    "res = 25\n",
    "r = 1\n",
    "istk = 1\n",
    "\n",
    "plt.figure(figsize=(15, 5))\n",
    "\n",
    "hp.gnomview(cmb[0, :, istk], cmap='jet', rot=center, reso=res, sub=(1, 3, 1), min=-8, max=8)\n",
    "#solution['x'][0, ~pixok, istk] = hp.UNSEEN\n",
    "hp.gnomview(solution['x'][0, :, istk], cmap='jet', rot=center, reso=res, sub=(1, 3, 2), min=-8, max=8)\n",
    "\n",
    "residual = cmb[0, :, istk]-solution['x'][0, :, istk]\n",
    "#residual[~pixok] = hp.UNSEEN\n",
    "hp.gnomview(residual, cmap='jet', rot=center, reso=res, sub=(1, 3, 3), min=-r, max=r)\n",
    "\n",
    "plt.show()\n",
    "\n",
    "plt.figure(figsize=(15, 5))\n",
    "\n",
    "hp.gnomview(cmb[1, :, istk], cmap='jet', rot=center, reso=res, sub=(1, 3, 1), min=-8, max=8)\n",
    "#solution['x'][1, ~pixok, istk] = hp.UNSEEN\n",
    "hp.gnomview(solution['x'][1, :, istk], cmap='jet', rot=center, reso=res, sub=(1, 3, 2), min=-8, max=8)\n",
    "\n",
    "residual = cmb[1, :, istk]-solution['x'][1, :, istk]\n",
    "#residual[~pixok] = hp.UNSEEN\n",
    "hp.gnomview(residual, cmap='jet', rot=center, reso=res, sub=(1, 3, 3), min=-r, max=r)\n",
    "\n",
    "plt.show()"
   ]
  }
 ],
 "metadata": {
  "jupytext": {
   "formats": "ipynb,Rmd"
  },
  "kernelspec": {
   "display_name": "Python 3 (ipykernel)",
   "language": "python",
   "name": "python3"
  }
 },
 "nbformat": 4,
 "nbformat_minor": 5
}
