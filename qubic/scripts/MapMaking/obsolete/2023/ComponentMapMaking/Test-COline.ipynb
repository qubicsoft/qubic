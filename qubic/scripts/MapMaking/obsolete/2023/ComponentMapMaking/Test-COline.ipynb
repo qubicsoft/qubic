{
 "cells": [
  {
   "cell_type": "code",
   "execution_count": null,
   "id": "840a4590",
   "metadata": {},
   "outputs": [],
   "source": [
    "import numpy as np\n",
    "import matplotlib.pyplot as plt\n",
    "import healpy as hp\n",
    "import os\n",
    "path = os.getcwd()\n",
    "\n",
    "path_mm = os.path.dirname(path)\n",
    "import sys\n",
    "sys.path.append(path_mm)\n",
    "import qubic\n",
    "center = qubic.equ2gal(100, -157)"
   ]
  },
  {
   "cell_type": "code",
   "execution_count": null,
   "id": "c5595575",
   "metadata": {},
   "outputs": [],
   "source": [
    "co = hp.read_map(path_mm+'/CO_line.fits') * 10\n",
    "print(co)\n",
    "\n",
    "hp.gnomview(co, min=0, max=100, rot=center, reso=15)"
   ]
  },
  {
   "cell_type": "code",
   "execution_count": null,
   "id": "3c6ef7c5",
   "metadata": {},
   "outputs": [],
   "source": [
    "def polarized(m, nside, polarization_fraction=0.001):\n",
    "    \n",
    "    polangle = hp.ud_grade(hp.read_map(path_mm+'/psimap_dust90_512.fits'), nside)\n",
    "    depolmap = hp.ud_grade(hp.read_map(path_mm+'/gmap_dust90_512.fits'), nside)\n",
    "    cospolangle = np.cos(2.0 * polangle)\n",
    "    sinpolangle = np.sin(2.0 * polangle)\n",
    "\n",
    "    P_map = polarization_fraction * depolmap * m\n",
    "    return P_map * np.array([cospolangle, sinpolangle])"
   ]
  },
  {
   "cell_type": "code",
   "execution_count": null,
   "id": "f8df257e",
   "metadata": {},
   "outputs": [],
   "source": [
    "co_p = polarized(co, nside=256, polarization_fraction=0.01)\n",
    "\n",
    "hp.gnomview(co_p[0], min=0, max=10, rot=center, reso=15)"
   ]
  },
  {
   "cell_type": "code",
   "execution_count": null,
   "id": "cea24bef",
   "metadata": {},
   "outputs": [],
   "source": []
  },
  {
   "cell_type": "code",
   "execution_count": null,
   "id": "703deba5",
   "metadata": {},
   "outputs": [],
   "source": []
  },
  {
   "cell_type": "code",
   "execution_count": null,
   "id": "21d5adf0",
   "metadata": {},
   "outputs": [],
   "source": []
  }
 ],
 "metadata": {
  "jupytext": {
   "formats": "ipynb,Rmd"
  },
  "kernelspec": {
   "display_name": "Python 3 (ipykernel)",
   "language": "python",
   "name": "python3"
  }
 },
 "nbformat": 4,
 "nbformat_minor": 5
}
