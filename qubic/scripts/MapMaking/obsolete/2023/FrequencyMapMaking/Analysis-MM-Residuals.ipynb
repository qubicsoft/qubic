{
 "cells": [
  {
   "cell_type": "code",
   "execution_count": null,
   "id": "c90a2d20",
   "metadata": {},
   "outputs": [],
   "source": [
    "import numpy as np\n",
    "import matplotlib.pyplot as plt\n",
    "import pickle\n",
    "import healpy as hp\n",
    "from pysimulators.interfaces.healpy import HealpixConvolutionGaussianOperator\n",
    "import os\n",
    "path = os.getcwd()\n",
    "\n",
    "path_mm = os.path.dirname(path)\n",
    "import sys\n",
    "sys.path.append(path_mm)\n",
    "CMB_CL_FILE = '/Users/mregnier/Desktop/PhD Regnier/mypackages/Cls_Planck2018_'\n",
    "\n",
    "def cl2dl(ell, cl):\n",
    "\n",
    "    dl=np.zeros(ell.shape[0])\n",
    "    for i in range(ell.shape[0]):\n",
    "        dl[i]=(ell[i]*(ell[i]+1)*cl[i])/(2*np.pi)\n",
    "    return dl\n",
    "def give_cl_cmb(r=0, Alens=1.):\n",
    "    power_spectrum = hp.read_cl(CMB_CL_FILE+'lensed_scalar.fits')[:,:4000]\n",
    "    if Alens != 1.:\n",
    "        power_spectrum[2] *= Alens\n",
    "    if r:\n",
    "        power_spectrum += r * hp.read_cl(CMB_CL_FILE+'unlensed_scalar_and_tensor_r1.fits')[:,:4000]\n",
    "    return power_spectrum\n",
    "\n",
    "path = 'data_mm/'\n",
    "\n",
    "with open(path+f'MM_band220_bandpasscorrectionFalse_Nrec2_Nsub4_Ntod100_correction_conv0.0deg_noiseFalse.pkl', 'rb') as f:\n",
    "    data = pickle.load(f)\n",
    "print(data.keys())"
   ]
  },
  {
   "cell_type": "code",
   "execution_count": null,
   "id": "4b11a1ee",
   "metadata": {},
   "outputs": [],
   "source": [
    "ell = np.arange(2, 4000, 1)\n",
    "Dls = cl2dl(ell, give_cl_cmb(r=0, Alens=1)[2])"
   ]
  },
  {
   "cell_type": "code",
   "execution_count": null,
   "id": "3aa56c4c",
   "metadata": {},
   "outputs": [],
   "source": [
    "allnsub = [4, 8]#[5, 10, 15, 20, 30]\n",
    "\n",
    "plt.figure(figsize=(10, 8))\n",
    "\n",
    "plt.plot(ell, Dls, label=r'Theoretical CMB | r = 0, $A_{lens}$ = 1')\n",
    "\n",
    "for ii, i in enumerate(allnsub):\n",
    "    with open(path+f'MM_band220_bandpasscorrectionFalse_Nrec2_Nsub{i}_Ntod100_correction_conv0.0deg_noiseFalse.pkl', 'rb') as f:\n",
    "        data = pickle.load(f)\n",
    "    plt.plot(data['leff'], data['Dl_BB'], '-o', label=f'Nsub = {i}')\n",
    "plt.xlim(20, 500)\n",
    "plt.yscale('log')\n",
    "plt.ylim(1e-5, 1e-1)\n",
    "plt.legend(frameon=False, fontsize=12)\n",
    "plt.title(r'$N_{TOD}$' + f' = {100}')\n",
    "\n",
    "plt.show()"
   ]
  },
  {
   "cell_type": "code",
   "execution_count": null,
   "id": "b1df7d30",
   "metadata": {},
   "outputs": [],
   "source": [
    "Dls_binned = np.interp(data['leff'], ell, Dls)"
   ]
  },
  {
   "cell_type": "code",
   "execution_count": null,
   "id": "415b45e3",
   "metadata": {},
   "outputs": [],
   "source": [
    "Dls_bias = np.zeros((len(allnsub), 13))\n",
    "for ii, i in enumerate(allnsub):\n",
    "    with open(path+f'MM_band220_bandpasscorrectionFalse_Nrec2_Nsub{i}_Ntod100_correction_conv0.0deg_noiseFalse.pkl', 'rb') as f:\n",
    "        data = pickle.load(f)\n",
    "    Dls_bias[ii] = Dls_binned + data['Dl_BB']"
   ]
  },
  {
   "cell_type": "code",
   "execution_count": null,
   "id": "f4764fc5",
   "metadata": {},
   "outputs": [],
   "source": [
    "def chi2(theta, d, leff, ell_theo, Dl_theo):\n",
    "    r = theta\n",
    "    Alens = 1\n",
    "    Dl_simu = cl2dl(ell_theo, give_cl_cmb(r=r, Alens=Alens)[2])\n",
    "    Dl_simu = np.interp(leff, ell_theo, Dl_simu)\n",
    "    \n",
    "    return np.sum((Dl_simu - d)**2)"
   ]
  },
  {
   "cell_type": "code",
   "execution_count": null,
   "id": "db7db487",
   "metadata": {},
   "outputs": [],
   "source": [
    "from scipy.optimize import minimize\n",
    "r = np.zeros(len(allnsub))\n",
    "for ii, i in enumerate(allnsub):\n",
    "    r[ii]=minimize(chi2, x0=np.zeros(1), args=(Dls_bias[ii], data['leff'], ell, Dls), tol=1e-10, method='BFGS').x\n",
    "    print(r[ii])"
   ]
  },
  {
   "cell_type": "code",
   "execution_count": null,
   "id": "914768c0",
   "metadata": {},
   "outputs": [],
   "source": [
    "allnsub = [4, 8]#[5, 10, 15, 20, 30]\n",
    "\n",
    "plt.figure(figsize=(10, 8))\n",
    "\n",
    "plt.plot(ell, Dls, label=r'Theoretical CMB | r = 0, $A_{lens}$ = 1')\n",
    "\n",
    "for ii, i in enumerate(allnsub):\n",
    "    with open(path+f'MM_band220_bandpasscorrectionFalse_Nrec2_Nsub{i}_Ntod100_correction_conv0.0deg_noiseFalse.pkl', 'rb') as f:\n",
    "        data = pickle.load(f)\n",
    "    \n",
    "    plt.plot(data['leff'], data['Dl_BB'], '-o', label=f'Nsub = {i} | '+r'$r_{bias}$ = '+f'{r[ii]:.4f}')\n",
    "\n",
    "plt.xlim(20, 500)\n",
    "plt.yscale('log')\n",
    "plt.ylim(1e-5, 1e-1)\n",
    "plt.legend(frameon=False, fontsize=12)\n",
    "plt.title(r'$N_{TOD}$' + f' = {100}')\n",
    "\n",
    "plt.show()"
   ]
  },
  {
   "cell_type": "code",
   "execution_count": null,
   "id": "3ff20cd1",
   "metadata": {},
   "outputs": [],
   "source": []
  },
  {
   "cell_type": "code",
   "execution_count": null,
   "id": "5564135b",
   "metadata": {},
   "outputs": [],
   "source": []
  },
  {
   "cell_type": "code",
   "execution_count": null,
   "id": "aba78b4c",
   "metadata": {},
   "outputs": [],
   "source": []
  },
  {
   "cell_type": "code",
   "execution_count": null,
   "id": "59bae822",
   "metadata": {},
   "outputs": [],
   "source": []
  },
  {
   "cell_type": "code",
   "execution_count": null,
   "id": "f89e2090",
   "metadata": {},
   "outputs": [],
   "source": []
  },
  {
   "cell_type": "code",
   "execution_count": null,
   "id": "4f056d0e",
   "metadata": {},
   "outputs": [],
   "source": []
  },
  {
   "cell_type": "code",
   "execution_count": null,
   "id": "a9d8337f",
   "metadata": {},
   "outputs": [],
   "source": []
  },
  {
   "cell_type": "code",
   "execution_count": null,
   "id": "12e87b8e",
   "metadata": {},
   "outputs": [],
   "source": []
  },
  {
   "cell_type": "code",
   "execution_count": null,
   "id": "18b590ef",
   "metadata": {},
   "outputs": [],
   "source": [
    "ls"
   ]
  },
  {
   "cell_type": "markdown",
   "id": "5a61495e",
   "metadata": {},
   "source": [
    "# Display Maps"
   ]
  },
  {
   "cell_type": "code",
   "execution_count": null,
   "id": "80c5aaa8",
   "metadata": {},
   "outputs": [],
   "source": [
    "with open(f'data/MM_band220_bandpasscorrectionTrue_Nrec1_Nsub4_Ntod4_correction_conv2.0deg_noiseTrue_1.pkl', 'rb') as f:\n",
    "    data = pickle.load(f)\n",
    "center = data['center']"
   ]
  },
  {
   "cell_type": "code",
   "execution_count": null,
   "id": "a31bf210",
   "metadata": {},
   "outputs": [],
   "source": [
    "plt.figure(figsize=(15, 5))\n",
    "\n",
    "hp.gnomview(data['input'][0, :, 1], rot=center, reso=15, cmap='jet', min=-8, max=8, \n",
    "            sub=(1, 3, 1), notext=True, title='Input')\n",
    "hp.gnomview(data['output'][0, :, 1], rot=center, reso=15, cmap='jet', min=-8, max=8, \n",
    "            sub=(1, 3, 2), notext=True, title='Output')\n",
    "hp.gnomview(data['output'][0, :, 1]-data['input'][0, :, 1], rot=center, reso=15, cmap='jet', min=-8, max=8,\n",
    "            sub=(1, 3, 3), notext=True, title='Residual')\n",
    "plt.show()"
   ]
  },
  {
   "cell_type": "code",
   "execution_count": null,
   "id": "60bddba6",
   "metadata": {},
   "outputs": [],
   "source": []
  },
  {
   "cell_type": "code",
   "execution_count": null,
   "id": "f65f5a73",
   "metadata": {},
   "outputs": [],
   "source": []
  },
  {
   "cell_type": "code",
   "execution_count": null,
   "id": "1cf8855c",
   "metadata": {},
   "outputs": [],
   "source": []
  },
  {
   "cell_type": "code",
   "execution_count": null,
   "id": "2bd3b1b6",
   "metadata": {},
   "outputs": [],
   "source": []
  },
  {
   "cell_type": "code",
   "execution_count": null,
   "id": "ba243cda",
   "metadata": {},
   "outputs": [],
   "source": []
  },
  {
   "cell_type": "code",
   "execution_count": null,
   "id": "888d2816",
   "metadata": {},
   "outputs": [],
   "source": [
    "N = 2\n",
    "\n",
    "m = np.zeros((N, 2, 12*256**2, 3))\n",
    "for i in range(N):\n",
    "    with open(f'data/MM_band220_bandpasscorrectionTrue_Nrec2_Nsub4_Ntod4_correction_conv2.0deg_noiseTrue_{i+1}.pkl', 'rb') as f:\n",
    "        data = pickle.load(f)\n",
    "    m[i] = data['output'].copy()\n",
    "index = np.where(data['seenpix'] == True)[0]\n",
    "coverage = data['coverage']\n",
    "\n",
    "hp.gnomview(data['input'][0, :, 1]-np.mean(m, axis=0)[0, :, 1], rot=data['center'], reso=15, cmap='jet', min=-10, max=10)"
   ]
  },
  {
   "cell_type": "code",
   "execution_count": null,
   "id": "afa839b9",
   "metadata": {},
   "outputs": [],
   "source": [
    "# FG-Buster packages\n",
    "import component_model as c\n",
    "import mixing_matrix as mm\n",
    "import frequency_acquisition as Acq\n",
    "import qubic\n",
    "\n",
    "comp = [c.CMB(), c.Dust(nu0=nueff[0])]\n",
    "beta = np.array([1.54, 20])\n",
    "beta_model = np.array([1.54, 20])\n",
    "allnus = np.linspace(190, 250, 100)\n",
    "\n",
    "sed = mm.MixingMatrix(*comp).evaluator(allnus)(beta)\n",
    "sed_model = mm.MixingMatrix(*comp).evaluator(allnus)(beta_model)"
   ]
  },
  {
   "cell_type": "code",
   "execution_count": null,
   "id": "4803117e",
   "metadata": {},
   "outputs": [],
   "source": [
    "dictfilename = 'dicts/pipeline_demo.dict'\n",
    "d = qubic.qubicdict.qubicDict()\n",
    "d.read_from_file(dictfilename)\n",
    "\n",
    "d['nf_recon'] = 2\n",
    "d['nf_sub'] = 2\n",
    "d['nside'] = 256\n",
    "npix=12*d['nside']**2\n",
    "d['RA_center'] = 0\n",
    "d['DEC_center'] = -57\n",
    "center = qubic.equ2gal(d['RA_center'], d['DEC_center'])\n",
    "d['effective_duration'] = 3\n",
    "d['npointings'] = 100\n",
    "d['filter_nu'] = 220 * 1e9\n",
    "d['photon_noise'] = True\n",
    "d['noiseless'] = not True\n",
    "d['config'] = 'FI'\n",
    "d['filter_relative_bandwidth'] = 0.25\n",
    "d['MultiBand'] = True\n",
    "d['planck'] = True\n",
    "d['dtheta'] = 15\n",
    "d['synthbeam_dtype'] = float\n",
    "\n",
    "qubic_acquisition = Acq.QubicIntegrated(d, Nsub=2, Nrec=2)\n",
    "cmb = qubic_acquisition.get_PySM_maps({'cmb':42}, np.array([nueff[0]]))\n",
    "dust = qubic_acquisition.get_PySM_maps({'dust':'d0'}, np.array([nueff[0]]))\n",
    "components = np.array([cmb[0], dust[0]])"
   ]
  },
  {
   "cell_type": "code",
   "execution_count": null,
   "id": "a8021180",
   "metadata": {},
   "outputs": [],
   "source": [
    "frequency_maps = sed# @ components[:, :, 0]\n",
    "#frequency_maps += cmb[0, :, 0]\n",
    "print(frequency_maps.shape)"
   ]
  },
  {
   "cell_type": "code",
   "execution_count": null,
   "id": "c4f5a53a",
   "metadata": {},
   "outputs": [],
   "source": [
    "_, _, nueff, _, _, _ = qubic.compute_freq(220, Nfreq=2)"
   ]
  },
  {
   "cell_type": "code",
   "execution_count": null,
   "id": "017bcb15",
   "metadata": {},
   "outputs": [],
   "source": [
    "hp.gnomview(m[0, 0, :, 1], rot=center, reso=15, min=-30, max=30)"
   ]
  },
  {
   "cell_type": "code",
   "execution_count": null,
   "id": "b0abc1fe",
   "metadata": {},
   "outputs": [],
   "source": [
    "mycut_0_1 = coverage/coverage.max() > 0.1\n",
    "mycut_0 = coverage/coverage.max() > 0"
   ]
  },
  {
   "cell_type": "code",
   "execution_count": null,
   "id": "d73efc07",
   "metadata": {},
   "outputs": [],
   "source": [
    "index.shape"
   ]
  },
  {
   "cell_type": "code",
   "execution_count": null,
   "id": "0ba25850",
   "metadata": {},
   "outputs": [],
   "source": [
    "ipix = 20000\n",
    "istk = 1\n",
    "\n",
    "plt.plot(allnus, sed[:, 0]*components[0, index[ipix], istk]+sed[:, 1]*components[1, index[ipix], istk])\n",
    "\n",
    "plt.errorbar(nueff, np.mean(m[:, :, index[ipix], istk], axis=0), yerr=np.std(m[:, :, index[ipix], istk], axis=0), fmt='or',\n",
    "            capsize=3)\n",
    "\n",
    "#plt.errorbar(nueff, m[0, :, index[ipix], 0], yerr = np.std(m[:, :, mycut_0_1, :], axis=2)[0, :, 0], fmt='ok',\n",
    "#            capsize=3)"
   ]
  },
  {
   "cell_type": "code",
   "execution_count": null,
   "id": "d3d34321",
   "metadata": {},
   "outputs": [],
   "source": [
    "def mychi2_on_beta(x, nus, d):\n",
    "    \n",
    "    print(x)\n",
    "    comp = [c.Dust(nu0=nus[0], temp=20)]\n",
    "\n",
    "    sed = mm.MixingMatrix(*comp).evaluator(nus)(x)\n",
    "    diff = d - sed @ np.array([d[0]])\n",
    "    #print(d, sed @ np.array([d[0]]))\n",
    "    return np.sum(diff**2)"
   ]
  },
  {
   "cell_type": "code",
   "execution_count": null,
   "id": "e6b8e9da",
   "metadata": {},
   "outputs": [],
   "source": [
    "from scipy.optimize import minimize\n",
    "\n",
    "minimize(mychi2_on_beta, x0=np.array([1.5]), args=(nueff, m[0, :, index[ipix], 1]), tol=1e-10,\n",
    "        method='L-BFGS-B')"
   ]
  },
  {
   "cell_type": "code",
   "execution_count": null,
   "id": "30e32259",
   "metadata": {},
   "outputs": [],
   "source": []
  },
  {
   "cell_type": "code",
   "execution_count": null,
   "id": "4d2a49fa",
   "metadata": {},
   "outputs": [],
   "source": []
  },
  {
   "cell_type": "code",
   "execution_count": null,
   "id": "dbef542a",
   "metadata": {},
   "outputs": [],
   "source": []
  },
  {
   "cell_type": "code",
   "execution_count": null,
   "id": "35a19b52",
   "metadata": {},
   "outputs": [],
   "source": []
  },
  {
   "cell_type": "code",
   "execution_count": null,
   "id": "7b7ff407",
   "metadata": {},
   "outputs": [],
   "source": []
  },
  {
   "cell_type": "code",
   "execution_count": null,
   "id": "d49ad58b",
   "metadata": {},
   "outputs": [],
   "source": []
  },
  {
   "cell_type": "code",
   "execution_count": null,
   "id": "4b000b71",
   "metadata": {},
   "outputs": [],
   "source": []
  },
  {
   "cell_type": "code",
   "execution_count": null,
   "id": "7cc7e198",
   "metadata": {},
   "outputs": [],
   "source": []
  },
  {
   "cell_type": "code",
   "execution_count": null,
   "id": "a4a78055",
   "metadata": {},
   "outputs": [],
   "source": []
  },
  {
   "cell_type": "code",
   "execution_count": null,
   "id": "cf6eb740",
   "metadata": {},
   "outputs": [],
   "source": []
  },
  {
   "cell_type": "code",
   "execution_count": null,
   "id": "47a29365",
   "metadata": {},
   "outputs": [],
   "source": []
  },
  {
   "cell_type": "code",
   "execution_count": null,
   "id": "4b544415",
   "metadata": {},
   "outputs": [],
   "source": []
  }
 ],
 "metadata": {
  "jupytext": {
   "formats": "ipynb,Rmd"
  },
  "kernelspec": {
   "display_name": "Python 3 (ipykernel)",
   "language": "python",
   "name": "python3"
  }
 },
 "nbformat": 4,
 "nbformat_minor": 5
}
