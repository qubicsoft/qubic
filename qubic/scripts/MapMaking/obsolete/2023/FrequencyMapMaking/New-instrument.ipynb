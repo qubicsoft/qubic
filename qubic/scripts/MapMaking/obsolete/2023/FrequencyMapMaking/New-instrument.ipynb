{
 "cells": [
  {
   "cell_type": "code",
   "execution_count": null,
   "id": "1f933c9d",
   "metadata": {},
   "outputs": [],
   "source": [
    "import sys\n",
    "import numpy as np\n",
    "sys.path.append('/Users/mregnier/Desktop/PhD Regnier/mypackages')\n",
    "#import instrument_mathias as instr\n",
    "import qubic\n",
    "import frequency_acquisition as Acq\n",
    "from importlib import reload\n",
    "import matplotlib.pyplot as plt\n",
    "\n",
    "dictfilename = 'dicts/pipeline_demo.dict'\n",
    "d = qubic.qubicdict.qubicDict()\n",
    "d.read_from_file(dictfilename)\n",
    "\n",
    "d['nf_recon'] = 2\n",
    "d['nf_sub'] = 4\n",
    "d['nside'] = 128\n",
    "npix=12*d['nside']**2\n",
    "d['RA_center'] = 0\n",
    "d['DEC_center'] = -57\n",
    "center = qubic.equ2gal(d['RA_center'], d['DEC_center'])\n",
    "d['effective_duration'] = 3\n",
    "d['npointings'] = 300\n",
    "d['filter_nu'] = 220 * 1e9\n",
    "d['photon_noise'] = False\n",
    "d['noiseless'] = True\n",
    "d['config'] = 'FI'\n",
    "d['filter_relative_bandwidth'] = 0.25\n",
    "d['MultiBand'] = True\n",
    "d['planck'] = True\n",
    "d['dtheta'] = 15\n",
    "d['synthbeam_dtype'] = float\n",
    "d['debug'] = False\n",
    "\n",
    "# # %config InlineBackend.figure_format='retina'\n",
    "from IPython.display import display, HTML\n",
    "display(HTML(\"<style>.container { width:95% !important; }</style>\"))\n",
    "\n",
    "scene = qubic.QubicScene(d)\n",
    "sampling = qubic.get_pointing(d)"
   ]
  },
  {
   "cell_type": "code",
   "execution_count": null,
   "id": "35392b19",
   "metadata": {},
   "outputs": [],
   "source": [
    "reload(Acq)\n",
    "i = Acq.QubicIntegrated(d, Nrec=2, Nsub=2)\n",
    "#for o in range(10):\n",
    "#    i.multiinstrument[o].filter.bandwidth/i.nueff[o]# = 100"
   ]
  },
  {
   "cell_type": "code",
   "execution_count": null,
   "id": "a36e5bde",
   "metadata": {},
   "outputs": [],
   "source": [
    "hh = i.get_operator()\n",
    "hh"
   ]
  },
  {
   "cell_type": "code",
   "execution_count": null,
   "id": "85335f42",
   "metadata": {},
   "outputs": [],
   "source": [
    "m = i.get_PySM_maps({'cmb':42}, nus=i.nueff)"
   ]
  },
  {
   "cell_type": "code",
   "execution_count": null,
   "id": "11d61689",
   "metadata": {},
   "outputs": [],
   "source": [
    "tod = hh(m)"
   ]
  },
  {
   "cell_type": "code",
   "execution_count": null,
   "id": "9605a247",
   "metadata": {},
   "outputs": [],
   "source": [
    "nrec = 1\n",
    "liste = [5, 10, 20]\n",
    "tod_s = np.zeros((len(liste), 992, 300))\n",
    "k=0\n",
    "for i in liste:\n",
    "    ii = Acq.QubicIntegrated(d, Nrec=nrec, Nsub=nrec*i)\n",
    "    m = ii.get_PySM_maps({'cmb':42}, nus=ii.nueff)\n",
    "    h = ii.get_operator()\n",
    "    tod_i = h(m[0])\n",
    "    tod_s[k] = tod_i\n",
    "    k+=1"
   ]
  },
  {
   "cell_type": "code",
   "execution_count": null,
   "id": "c91e4844",
   "metadata": {},
   "outputs": [],
   "source": [
    "plt.figure(figsize=(15, 5))\n",
    "\n",
    "plt.plot(tod[0], alpha=0.2)\n",
    "plt.plot(tod[0] - tod_s[0, 0])\n",
    "plt.plot(tod[0] - tod_s[1, 0])\n",
    "plt.plot(tod[0] - tod_s[2, 0])\n",
    "\n",
    "plt.axhline(0, ls='--', color='black')\n",
    "\n",
    "#plt.ylim(-3e-18, 3e-18)\n",
    "plt.show()"
   ]
  },
  {
   "cell_type": "code",
   "execution_count": null,
   "id": "e3a0b59d",
   "metadata": {},
   "outputs": [],
   "source": [
    "diff = tod - tod_s\n",
    "np.mean(diff, axis=1)"
   ]
  },
  {
   "cell_type": "code",
   "execution_count": null,
   "id": "e7d010d9",
   "metadata": {},
   "outputs": [],
   "source": [
    "#plt.plot(abs(np.mean(diff, axis=1)[:, 0]/tod[0, 0]))\n",
    "plt.plot(liste, abs(np.std(diff, axis=1)[:, 0]))\n",
    "plt.yscale('log')"
   ]
  },
  {
   "cell_type": "code",
   "execution_count": null,
   "id": "94d79d81",
   "metadata": {},
   "outputs": [],
   "source": []
  },
  {
   "cell_type": "code",
   "execution_count": null,
   "id": "a6a512a5",
   "metadata": {},
   "outputs": [],
   "source": [
    "hh"
   ]
  },
  {
   "cell_type": "code",
   "execution_count": null,
   "id": "1bb2c9d5",
   "metadata": {},
   "outputs": [],
   "source": []
  },
  {
   "cell_type": "code",
   "execution_count": null,
   "id": "009bfc78",
   "metadata": {},
   "outputs": [],
   "source": []
  }
 ],
 "metadata": {
  "jupytext": {
   "formats": "ipynb,Rmd"
  },
  "kernelspec": {
   "display_name": "Python 3 (ipykernel)",
   "language": "python",
   "name": "python3"
  }
 },
 "nbformat": 4,
 "nbformat_minor": 5
}
