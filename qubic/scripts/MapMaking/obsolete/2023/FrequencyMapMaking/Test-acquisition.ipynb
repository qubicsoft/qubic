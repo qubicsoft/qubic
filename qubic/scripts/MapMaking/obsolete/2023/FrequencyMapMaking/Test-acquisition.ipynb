{
 "cells": [
  {
   "cell_type": "code",
   "execution_count": null,
   "id": "7da4cd38",
   "metadata": {},
   "outputs": [],
   "source": [
    "from __future__ import division\n",
    "from pyoperators import pcg\n",
    "from pysimulators import profile\n",
    "\n",
    "# QUBIC packages\n",
    "import qubic\n",
    "from qubicpack.utilities import Qubic_DataDir\n",
    "import os\n",
    "\n",
    "path = os.getcwd()\n",
    "path_mm = os.path.dirname(path)\n",
    "import sys\n",
    "print(path_mm)\n",
    "sys.path.append(path_mm)\n",
    "\n",
    "\n",
    "import frequency_acquisition as Acq\n",
    "#import component_acquisition\n",
    "\n",
    "# Display packages\n",
    "import healpy as hp\n",
    "import matplotlib.pyplot as plt\n",
    "\n",
    "# FG-Buster packages\n",
    "import component_model as c\n",
    "import mixing_matrix as mm\n",
    "\n",
    "# General packages\n",
    "import numpy as np\n",
    "import pysm3\n",
    "import warnings\n",
    "from qubic import QubicSkySim as qss\n",
    "import pysm3.units as u\n",
    "from importlib import reload\n",
    "from pysm3 import utils\n",
    "\n",
    "from importlib import reload\n",
    "from pyoperators import *\n",
    "from pysimulators import *\n",
    "\n",
    "\n",
    "from pysimulators.interfaces.healpy import HealpixConvolutionGaussianOperator\n",
    "warnings.filterwarnings(\"ignore\")\n",
    "\n",
    "# # %config InlineBackend.figure_format='retina'\n",
    "from IPython.display import display, HTML\n",
    "display(HTML(\"<style>.container { width:95% !important; }</style>\"))\n",
    "\n",
    "dictfilename = 'dicts/pipeline_demo.dict'\n",
    "d = qubic.qubicdict.qubicDict()\n",
    "d.read_from_file(dictfilename)\n",
    "\n",
    "d['nf_recon'] = 2\n",
    "d['nf_sub'] = 4\n",
    "d['nside'] = 128\n",
    "npix=12*d['nside']**2\n",
    "d['RA_center'] = 0\n",
    "d['DEC_center'] = -57\n",
    "center = qubic.equ2gal(d['RA_center'], d['DEC_center'])\n",
    "d['effective_duration'] = 3\n",
    "d['npointings'] = 300\n",
    "d['filter_nu'] = 220 * 1e9\n",
    "d['photon_noise'] = False\n",
    "d['noiseless'] = True\n",
    "d['config'] = 'FI'\n",
    "d['filter_relative_bandwidth'] = 0.25\n",
    "d['MultiBand'] = True\n",
    "d['planck'] = True\n",
    "d['dtheta'] = 15\n",
    "d['synthbeam_dtype'] = float\n",
    "d['debug'] = False\n",
    "\n",
    "# # %config InlineBackend.figure_format='retina'\n",
    "from IPython.display import display, HTML\n",
    "display(HTML(\"<style>.container { width:95% !important; }</style>\"))\n",
    "\n",
    "### Load the default dictionary and perform the changements\n",
    "def get_dict(args={}):\n",
    "    \n",
    "    ### Get the default dictionary\n",
    "    dictfilename = 'dicts/pipeline_demo.dict'\n",
    "    d = qubic.qubicdict.qubicDict()\n",
    "    d.read_from_file(dictfilename)\n",
    "    d['npointings'] = 9\n",
    "    for i in args.keys():\n",
    "        \n",
    "        d[str(i)] = args[i]\n",
    "    \n",
    "    return d\n",
    "\n",
    "\n",
    "Nrec = 1\n",
    "Nsub = 3\n",
    "npointings = 2000\n",
    "convolution = True\n",
    "\n",
    "### Noise\n",
    "noise = True\n",
    "level_noise_planck = 1\n",
    "\n",
    "### Physical band\n",
    "band = 220\n",
    "band_planck = 217\n",
    "relative_bandwidth = 0.25\n",
    "nside = 256\n",
    "type_qubic = 'Wide'"
   ]
  },
  {
   "cell_type": "code",
   "execution_count": null,
   "id": "92861cf3",
   "metadata": {},
   "outputs": [],
   "source": []
  },
  {
   "cell_type": "code",
   "execution_count": null,
   "id": "370e1490",
   "metadata": {},
   "outputs": [],
   "source": [
    "d150 = get_dict({'npointings':npointings, 'nf_recon':Nrec, 'nf_sub':Nsub, 'nside':nside,\n",
    "              'filter_nu':150 * 1e9, 'noiseless': not noise,'photon_noise':noise, 'nhwp_angles':3, 'effective_duration':3})\n",
    "\n",
    "d220 = get_dict({'npointings':npointings, 'nf_recon':Nrec, 'nf_sub':Nsub, 'nside':nside,\n",
    "              'filter_nu':220 * 1e9, 'noiseless': not noise,'photon_noise':noise, 'nhwp_angles':3, 'effective_duration':3})\n",
    "\n",
    "\n",
    "\n",
    "sky_config = {'cmb':42}\n",
    "\n",
    "reload(Acq)\n",
    "\n",
    "qubic_acquisition150 = Acq.QubicIntegrated(d150, Nsub=Nsub, Nrec=1)\n",
    "qubic_acquisition220 = Acq.QubicIntegrated(d220, Nsub=Nsub, Nrec=1)\n",
    "\n",
    "\n",
    "if type_qubic == 'Wide':\n",
    "    myqubic = Acq.QubicWideBand(qubic_acquisition150, qubic_acquisition220)\n",
    "else:\n",
    "    myqubic = Acq.QubicTwoBands(qubic_acquisition150, qubic_acquisition220)\n",
    "\n",
    "\n",
    "s = Acq.Sky(sky_config, myqubic)\n",
    "#sed = mm.MixingMatrix(*comp).evaluator(s.allnus)#(beta=None)\n",
    "\n",
    "beta = None\n",
    "s_nu = s.scale_component(beta)\n",
    "\n",
    "planck_acquisition143 = Acq.PlanckAcquisition(143, qubic_acquisition150.scene)\n",
    "planck_acquisition217 = Acq.PlanckAcquisition(217, qubic_acquisition150.scene)\n",
    "\n",
    "joint = Acq.QubicPlanckMultiBandAcquisition(myqubic, [planck_acquisition143, planck_acquisition217])"
   ]
  },
  {
   "cell_type": "code",
   "execution_count": null,
   "id": "24947256",
   "metadata": {},
   "outputs": [],
   "source": [
    "TOD_QUBIC = myqubic.get_TOD(sky_config, beta=None, noise=True)"
   ]
  },
  {
   "cell_type": "code",
   "execution_count": null,
   "id": "f6dc5862",
   "metadata": {},
   "outputs": [],
   "source": [
    "p143 = np.mean(s_nu[:Nsub], axis=0).ravel()\n",
    "p217 = np.mean(s_nu[Nsub:2*Nsub], axis=0).ravel()\n",
    "n143 = planck_acquisition143.get_noise().ravel()\n",
    "n217 = planck_acquisition217.get_noise().ravel()"
   ]
  },
  {
   "cell_type": "code",
   "execution_count": null,
   "id": "6fa00ba0",
   "metadata": {},
   "outputs": [],
   "source": [
    "if type_qubic == 'Wide':\n",
    "    \n",
    "    tod = TOD_QUBIC.ravel()\n",
    "    tod = np.r_[tod, p143+n143]\n",
    "    tod = np.r_[tod, p217+n217]\n",
    "    \n",
    "else:\n",
    "    TOD_QUBIC_150 = TOD_QUBIC[:992]\n",
    "    TOD_QUBIC_220 = TOD_QUBIC[992:2*992]\n",
    "    tod = TOD_QUBIC_150.ravel()\n",
    "    tod = np.r_[tod, p143+n143]\n",
    "    tod = np.r_[tod, TOD_QUBIC_220.ravel()]\n",
    "    tod = np.r_[tod, p217+n217]\n",
    "tod = np.array(tod)\n",
    "\n",
    "plt.plot(tod)"
   ]
  },
  {
   "cell_type": "code",
   "execution_count": null,
   "id": "4b63d423",
   "metadata": {},
   "outputs": [],
   "source": [
    "H = joint.get_operator()\n",
    "invN = joint.get_invntt_operator()"
   ]
  },
  {
   "cell_type": "code",
   "execution_count": null,
   "id": "276846d3",
   "metadata": {},
   "outputs": [],
   "source": [
    "tod.shape"
   ]
  },
  {
   "cell_type": "code",
   "execution_count": null,
   "id": "6ed29971",
   "metadata": {},
   "outputs": [],
   "source": [
    "H.shapeout"
   ]
  },
  {
   "cell_type": "code",
   "execution_count": null,
   "id": "c113d795",
   "metadata": {},
   "outputs": [],
   "source": [
    "A = H.T * invN * H\n",
    "b = H.T * invN * tod"
   ]
  },
  {
   "cell_type": "code",
   "execution_count": null,
   "id": "1dcf0674",
   "metadata": {},
   "outputs": [],
   "source": [
    "s=pcg(A, b, disp=True, maxiter=40, x0=None, tol=1e-40)"
   ]
  },
  {
   "cell_type": "code",
   "execution_count": null,
   "id": "69e20451",
   "metadata": {},
   "outputs": [],
   "source": [
    "plt.figure(figsize=(15, 5))\n",
    "\n",
    "reso=15\n",
    "\n",
    "hp.gnomview(s_nu[0, :, 1], rot=center, reso=reso, cmap='jet', sub=(1, 3, 1), min=-8, max=8)\n",
    "hp.gnomview(s['x'][0, :, 1], rot=center, reso=reso, cmap='jet', sub=(1, 3, 2), min=-8, max=8)\n",
    "hp.gnomview(s['x'][0, :, 1]-s_nu[0, :, 1], rot=center, reso=reso, cmap='jet', sub=(1, 3, 3), min=-8, max=8)\n",
    "\n",
    "plt.show()"
   ]
  },
  {
   "cell_type": "code",
   "execution_count": null,
   "id": "809cb959",
   "metadata": {},
   "outputs": [],
   "source": [
    "plt.figure(figsize=(15, 5))\n",
    "\n",
    "hp.gnomview(s_nu[0, :, 2], rot=center, reso=reso, cmap='jet', sub=(1, 3, 1), min=-8, max=8)\n",
    "hp.gnomview(s['x'][1, :, 2], rot=center, reso=reso, cmap='jet', sub=(1, 3, 2), min=-8, max=8)\n",
    "hp.gnomview(s['x'][1, :, 2]-s_nu[0, :, 2], rot=center, reso=reso, cmap='jet', sub=(1, 3, 3), min=-8, max=8)\n",
    "\n",
    "plt.show()"
   ]
  },
  {
   "cell_type": "code",
   "execution_count": null,
   "id": "1c8a9b33",
   "metadata": {},
   "outputs": [],
   "source": [
    "plt.plot(tod_q)\n",
    "plt.plot(WB.get_noise().ravel())"
   ]
  },
  {
   "cell_type": "code",
   "execution_count": null,
   "id": "feb92430",
   "metadata": {},
   "outputs": [],
   "source": [
    "H.shapein"
   ]
  },
  {
   "cell_type": "code",
   "execution_count": null,
   "id": "a67c727b",
   "metadata": {},
   "outputs": [],
   "source": [
    "plt.plot(H(m[2:]))"
   ]
  },
  {
   "cell_type": "code",
   "execution_count": null,
   "id": "f4d32d22",
   "metadata": {},
   "outputs": [],
   "source": []
  },
  {
   "cell_type": "code",
   "execution_count": null,
   "id": "d34259ba",
   "metadata": {},
   "outputs": [],
   "source": []
  },
  {
   "cell_type": "code",
   "execution_count": null,
   "id": "70eadb82",
   "metadata": {},
   "outputs": [],
   "source": []
  },
  {
   "cell_type": "code",
   "execution_count": null,
   "id": "f2ad83d5",
   "metadata": {},
   "outputs": [],
   "source": []
  },
  {
   "cell_type": "code",
   "execution_count": null,
   "id": "f2b203e6",
   "metadata": {},
   "outputs": [],
   "source": []
  },
  {
   "cell_type": "code",
   "execution_count": null,
   "id": "8ba3b836",
   "metadata": {},
   "outputs": [],
   "source": []
  },
  {
   "cell_type": "code",
   "execution_count": null,
   "id": "7cd1d483",
   "metadata": {},
   "outputs": [],
   "source": [
    "comp = [c.Dust(nu0=150, temp=20)]"
   ]
  },
  {
   "cell_type": "code",
   "execution_count": null,
   "id": "5bca73ad",
   "metadata": {},
   "outputs": [],
   "source": [
    "for i in comp:\n",
    "    print(i)"
   ]
  },
  {
   "cell_type": "code",
   "execution_count": null,
   "id": "958f3b5f",
   "metadata": {},
   "outputs": [],
   "source": [
    "try :\n",
    "    is_cmb = mm.MixingMatrix(*comp).components.index('CMB')\n",
    "except:\n",
    "    is_cmb = False"
   ]
  },
  {
   "cell_type": "code",
   "execution_count": null,
   "id": "71a93e5b",
   "metadata": {},
   "outputs": [],
   "source": [
    "is_cmb"
   ]
  },
  {
   "cell_type": "code",
   "execution_count": null,
   "id": "f45faaa6",
   "metadata": {},
   "outputs": [],
   "source": [
    "Sky({'cmb':42}, WB).cmb#.generate_sky_nu0(150, {'cmb':42, 'dust':'d0'})"
   ]
  },
  {
   "cell_type": "code",
   "execution_count": null,
   "id": "a8b9b74d",
   "metadata": {},
   "outputs": [],
   "source": [
    "reload(Acq)\n",
    "\n",
    "s = Acq.Sky({'cmb':42, 'dust':'d0'}, qubic_acquisition150)\n",
    "#sed = mm.MixingMatrix(*comp).evaluator(s.allnus)#(beta=None)\n",
    "\n",
    "beta = np.array([1.54])\n",
    "s_nu = s.scale_component(beta)"
   ]
  },
  {
   "cell_type": "code",
   "execution_count": null,
   "id": "ce5dd990",
   "metadata": {},
   "outputs": [],
   "source": [
    "hp.mollview(s_nu[0, :, 0], cmap='jet', sub=(1, 3, 1), min=-300, max=300)\n",
    "hp.mollview(s_nu[1, :, 0], cmap='jet', sub=(1, 3, 2), min=-300, max=300)\n",
    "#hp.mollview(s_nu[2, :, 0], cmap='jet', sub=(1, 3, 3), min=-300, max=300)"
   ]
  },
  {
   "cell_type": "code",
   "execution_count": null,
   "id": "6c58046c",
   "metadata": {},
   "outputs": [],
   "source": []
  },
  {
   "cell_type": "code",
   "execution_count": null,
   "id": "50964532",
   "metadata": {},
   "outputs": [],
   "source": []
  },
  {
   "cell_type": "code",
   "execution_count": null,
   "id": "f09a4a87",
   "metadata": {},
   "outputs": [],
   "source": []
  }
 ],
 "metadata": {
  "jupytext": {
   "formats": "ipynb,Rmd"
  },
  "kernelspec": {
   "display_name": "Python 3 (ipykernel)",
   "language": "python",
   "name": "python3"
  }
 },
 "nbformat": 4,
 "nbformat_minor": 5
}
