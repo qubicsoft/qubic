{
 "cells": [
  {
   "cell_type": "markdown",
   "id": "dcb52b2b",
   "metadata": {},
   "source": [
    "# Map-Making using Planck Acquisition\n",
    "\n",
    "In this notebook, we describe how to make the map-making process using Planck acquisition to correct edge effects. We will merge QUBIC and Planck acquisition to benefit of both instrument, QUBIC for the Q and U sensitivity and Planck for the large coverage and sensitivity on I."
   ]
  },
  {
   "cell_type": "code",
   "execution_count": null,
   "id": "d1cc8910",
   "metadata": {},
   "outputs": [],
   "source": [
    "from __future__ import division\n",
    "from pyoperators import pcg\n",
    "from pysimulators import profile\n",
    "\n",
    "# QUBIC packages\n",
    "import qubic\n",
    "from qubicpack.utilities import Qubic_DataDir\n",
    "from qubic.data import PATH\n",
    "from qubic.io import read_map\n",
    "from qubic import QubicSkySim as qss\n",
    "import Acquisition as Acq\n",
    "\n",
    "# Display packages\n",
    "import healpy as hp\n",
    "import matplotlib.pyplot as plt\n",
    "\n",
    "# General packages\n",
    "import numpy as np\n",
    "import pysm3\n",
    "import warnings\n",
    "from qubic import QubicSkySim as qss\n",
    "import pysm3.units as u\n",
    "from importlib import reload\n",
    "from pysm3 import utils\n",
    "\n",
    "# PyOperators packages\n",
    "from pyoperators import (\n",
    "    BlockColumnOperator, BlockDiagonalOperator, BlockRowOperator,\n",
    "    CompositionOperator, DiagonalOperator, I, IdentityOperator,\n",
    "    MPIDistributionIdentityOperator, MPI, proxy_group, ReshapeOperator,\n",
    "    rule_manager, pcg, Operator)\n",
    "warnings.filterwarnings(\"ignore\")\n",
    "%matplotlib inline\n",
    "\n",
    "# %config InlineBackend.figure_format='retina'\n",
    "from IPython.display import display, HTML\n",
    "display(HTML(\"<style>.container { width:95% !important; }</style>\"))"
   ]
  },
  {
   "cell_type": "markdown",
   "id": "e096b0d8",
   "metadata": {},
   "source": [
    "# QUBIC dictionary\n",
    "\n",
    "We first import the QUBIC dictionary to define general stuff like pixelization, seen region on the sky, etc... "
   ]
  },
  {
   "cell_type": "code",
   "execution_count": null,
   "id": "b479b401",
   "metadata": {},
   "outputs": [],
   "source": [
    "# Repository for dictionary\n",
    "global_dir = '/pbs/home/m/mregnier/Libs/qubic/qubic/'#Qubic_DataDir()\n",
    "print(global_dir)\n",
    "dictfilename = global_dir + 'dicts/pipeline_demo.dict'\n",
    "\n",
    "# Read dictionary chosen\n",
    "d = qubic.qubicdict.qubicDict()\n",
    "d.read_from_file(dictfilename)\n",
    "\n",
    "from qubic import SpectroImLib as sp\n",
    "from importlib import reload\n",
    "\n",
    "Nf = 1\n",
    "relative_bandwidth = 0.25\n",
    "Nbfreq, nus_edge, nus, deltas, Delta, Nbbands = qubic.compute_freq(150, Nfreq=Nf)\n",
    "print(nus)\n",
    "print(nus_edge)\n",
    "\n",
    "d = qubic.qubicdict.qubicDict()\n",
    "d.read_from_file(dictfilename)\n",
    "d['nf_recon'] = Nf\n",
    "d['nf_sub'] = Nf\n",
    "d['nside'] = 256\n",
    "npix=12*d['nside']**2\n",
    "d['RA_center'] = 0\n",
    "d['DEC_center'] = -57\n",
    "center = qubic.equ2gal(d['RA_center'], d['DEC_center'])\n",
    "d['effective_duration'] = 4\n",
    "#d['dtheta'] = 15\n",
    "d['npointings'] = 1000\n",
    "d['tol'] = 5e-4\n",
    "d['filter_nu'] = 150e9\n",
    "d['photon_noise'] = False\n",
    "d['noiseless'] = False\n",
    "d['config'] = 'FI'\n",
    "d['MultiBand'] = False\n",
    "d['planck'] = True"
   ]
  },
  {
   "cell_type": "markdown",
   "id": "1dcd1d56",
   "metadata": {},
   "source": [
    "Then, we define specific qubic package for Map-Making. The Pointing package define the information on the scanning strategy (random pointing here). The Scene package define things realted to the pixelization. The Instrument package define the QUBIC instrument forexample for systematics effect. Then we define the acquisition for our instrument."
   ]
  },
  {
   "cell_type": "code",
   "execution_count": null,
   "id": "bbd57e5b",
   "metadata": {},
   "outputs": [],
   "source": [
    "Qubic_sky = qss.Qubic_sky({'cmb':42}, d)\n",
    "mapin = Qubic_sky.get_simple_sky_map()\n",
    "\n",
    "# Pointing\n",
    "p = qubic.get_pointing(d)\n",
    "\n",
    "# Scene\n",
    "s = qubic.QubicScene(d)\n",
    "\n",
    "# Instrument\n",
    "q = qubic.QubicInstrument(d)\n",
    "\n",
    "# QUBIC Acquisition\n",
    "qubic_acquisition = Acq.QubicAcquisition(q, p, s, d)"
   ]
  },
  {
   "cell_type": "markdown",
   "id": "c95c3e28",
   "metadata": {},
   "source": [
    "The acquisition allows you to define the QUBIC operator which tak eas input a sky map with shape ($N_{pix}$, $N_{stk}$) and returns TOD after many rotations and transformations. For the next notebook, it will be very inportant to understand the structure of this operator... To be breaf, this operator can be seen as a list of function."
   ]
  },
  {
   "cell_type": "code",
   "execution_count": null,
   "id": "34043e9c",
   "metadata": {},
   "outputs": [],
   "source": [
    "H_qubic = qubic_acquisition.get_operator()\n",
    "H_qubic"
   ]
  },
  {
   "cell_type": "markdown",
   "id": "fab5cf9a",
   "metadata": {},
   "source": [
    "Here we define $N^{-1}$ the inverse noise covariance matrix in time domain."
   ]
  },
  {
   "cell_type": "code",
   "execution_count": null,
   "id": "2471d917",
   "metadata": {},
   "outputs": [],
   "source": [
    "invntt = qubic_acquisition.get_invntt_operator()"
   ]
  },
  {
   "cell_type": "markdown",
   "id": "76a17689",
   "metadata": {},
   "source": [
    "As we said before, we compute our observations using QUBIC operator."
   ]
  },
  {
   "cell_type": "code",
   "execution_count": null,
   "id": "332ebabe",
   "metadata": {},
   "outputs": [],
   "source": [
    "tod = qubic_acquisition.get_observation(map=mapin[0], convolution=False, noiseless=False)\n",
    "\n",
    "plt.figure(figsize=(15, 5))\n",
    "plt.plot(tod[0])\n",
    "plt.show()"
   ]
  },
  {
   "cell_type": "markdown",
   "id": "4485afd1",
   "metadata": {},
   "source": [
    "In a very generic way, all of this work is done to solve this equation :\n",
    "\n",
    "$$y = (H^t N^{-1} H)^{-1} H^t N^{-1} d$$\n",
    "\n",
    "where d is your data and $y$ is the observed sky. In practical, we can not solve that analytical due to the very large size of $H$ and $N^{-1}$, then the PCG is here to solve iteratively. We just define here both side of this equation like : \n",
    "\n",
    "$$A = (H^t N^{-1} H)$$\n",
    "$$b = H^t N^{-1} d$$"
   ]
  },
  {
   "cell_type": "code",
   "execution_count": null,
   "id": "e042357e",
   "metadata": {},
   "outputs": [],
   "source": [
    "A = H_qubic.T * invntt * H_qubic\n",
    "b = H_qubic.T * invntt * tod"
   ]
  },
  {
   "cell_type": "markdown",
   "id": "47ad7fe9",
   "metadata": {},
   "source": [
    "The PCG (Preconditionned Conjugated Gradient) solve the above equation iteratively, the convergence of the method is conditionnned by $M$ which is called the preconditionner. For QUBIC only acquisition, it can be define as function of the coverage."
   ]
  },
  {
   "cell_type": "code",
   "execution_count": null,
   "id": "04498ce5",
   "metadata": {},
   "outputs": [],
   "source": [
    "def get_preconditioner(cov):\n",
    "    if cov is not None:\n",
    "        cov_inv = 1 / cov\n",
    "        cov_inv[np.isinf(cov_inv)] = 0.\n",
    "        preconditioner = DiagonalOperator(cov_inv, broadcast='rightward')\n",
    "    else:\n",
    "        preconditioner = None\n",
    "    return preconditioner\n",
    "\n",
    "cov = qubic_acquisition.get_coverage()\n",
    "pixok = cov > 0\n",
    "mapin[0, ~pixok, :] = 0\n",
    "M = get_preconditioner(cov)"
   ]
  },
  {
   "cell_type": "markdown",
   "id": "ebbd7f44",
   "metadata": {},
   "source": [
    "Here we call the PCG from the PyOperators package, we have to mentionned a tolerance."
   ]
  },
  {
   "cell_type": "code",
   "execution_count": null,
   "id": "03919634",
   "metadata": {},
   "outputs": [],
   "source": [
    "tol=5e-4\n",
    "\n",
    "solution_qubic = pcg(A, b, x0=None, M=M, tol=tol, disp=True)"
   ]
  },
  {
   "cell_type": "markdown",
   "id": "fdf8e4c5",
   "metadata": {},
   "source": [
    "Now we can see the result of the convergence..."
   ]
  },
  {
   "cell_type": "code",
   "execution_count": null,
   "id": "c6d295aa",
   "metadata": {},
   "outputs": [],
   "source": [
    "def display_maps(inputs, outputs, display=True, rot=None, res=None):\n",
    "    \n",
    "    rI = inputs[:, 0] - outputs[:, 0]\n",
    "    rQ = inputs[:, 1] - outputs[:, 1]\n",
    "    rU = inputs[:, 2] - outputs[:, 2]\n",
    "    r=np.array([rI, rQ, rU])\n",
    "    \n",
    "    \n",
    "    plt.figure(figsize=(10, 10))\n",
    "    \n",
    "    stk=['I', 'Q', 'U']\n",
    "    k=1\n",
    "    for i in range(3):\n",
    "        if i == 0: min, max = -300, 300\n",
    "        else: min, max = -8, 8\n",
    "        hp.gnomview(inputs[:, i], rot=rot, reso=res, cmap='jet', min=min, max=max, sub=(3, 3, k), title='Input - {}'.format(stk[i]))\n",
    "        k+=1\n",
    "        hp.gnomview(outputs[:, i], rot=rot, reso=res, cmap='jet', min=min, max=max, sub=(3, 3, k), title='Output - {}'.format(stk[i]))\n",
    "        k+=1\n",
    "        hp.gnomview(r[i], rot=rot, reso=res, cmap='jet', min=min, max=max, sub=(3, 3, k), title='Residual - {}'.format(stk[i]))\n",
    "        k+=1\n",
    "    \n",
    "    plt.show()\n",
    "    \n",
    "    return r\n",
    "\n",
    "r=display_maps(mapin[0], solution_qubic['x'], display=True, rot=center, res=25)"
   ]
  },
  {
   "cell_type": "markdown",
   "id": "9fab4bdf",
   "metadata": {},
   "source": [
    "In the inner part of the coverage, the result is quite good. It seems that the PCG solve correctly the Map-Making equation and so converge to the solution. Unfortunately, on the edge of the coverage hte reconstruction is very bad and the error increase a lot... Missing data is the cause and a way to solve this problem is to merge the QUBIC acquisition with the planck aquisition which have seen the whole sky."
   ]
  },
  {
   "cell_type": "markdown",
   "id": "a2143f1e",
   "metadata": {},
   "source": [
    "We define here the PlanckAcquisition which needs the central frequency that you are using (150 or 220 GHz) and the same scene as before."
   ]
  },
  {
   "cell_type": "code",
   "execution_count": null,
   "id": "55a97296",
   "metadata": {},
   "outputs": [],
   "source": [
    "# Planck Acquisition\n",
    "reload(Acq)\n",
    "Qubic_sky = qss.Qubic_sky({'cmb':42}, d)\n",
    "mapin = Qubic_sky.get_simple_sky_map()\n",
    "\n",
    "planck_acquisition = Acq.PlanckAcquisition(143, s, true_sky=mapin[0], mask=None)"
   ]
  },
  {
   "cell_type": "code",
   "execution_count": null,
   "id": "2358f3ba",
   "metadata": {},
   "outputs": [],
   "source": [
    "# Merge both acquisition\n",
    "qubicplanck_acquisition = Acq.QubicPlanckAcquisition(qubic_acquisition, planck_acquisition)"
   ]
  },
  {
   "cell_type": "markdown",
   "id": "75f965c4",
   "metadata": {},
   "source": [
    "Here, we define the QUBIC-Planck Operator. As before, look at this operator is very important for next steps."
   ]
  },
  {
   "cell_type": "code",
   "execution_count": null,
   "id": "ef04ae51",
   "metadata": {},
   "outputs": [],
   "source": [
    "H = qubicplanck_acquisition.get_operator()\n",
    "H"
   ]
  },
  {
   "cell_type": "code",
   "execution_count": null,
   "id": "874f5ecb",
   "metadata": {},
   "outputs": [],
   "source": [
    "invntt = qubicplanck_acquisition.get_invntt_operator()\n",
    "invntt"
   ]
  },
  {
   "cell_type": "markdown",
   "id": "c17c1ba8",
   "metadata": {},
   "source": [
    "Here, we take a look of data. The first part of the TOD is the QUBIC part and the second is the sky seen by Planck."
   ]
  },
  {
   "cell_type": "code",
   "execution_count": null,
   "id": "be530717",
   "metadata": {},
   "outputs": [],
   "source": [
    "#tod = qubicplanck_acquisition.get_observation(convolution=False, noiseless=False)\n",
    "n = qubicplanck_acquisition.get_noise()\n",
    "tod = H(mapin[0]) + n\n",
    "plt.figure(figsize=(15, 5))\n",
    "plt.plot(tod)\n",
    "plt.show()"
   ]
  },
  {
   "cell_type": "code",
   "execution_count": null,
   "id": "d8b79c4e",
   "metadata": {},
   "outputs": [],
   "source": [
    "A = H.T * invntt * H\n",
    "b = H.T * invntt * tod"
   ]
  },
  {
   "cell_type": "markdown",
   "id": "6a777f2d",
   "metadata": {},
   "source": [
    "Here, the preconditionner is not a function of the QUBIC coverage because Planck acquisition is turn on. The simplest preconditionner is the entire sky itself."
   ]
  },
  {
   "cell_type": "code",
   "execution_count": null,
   "id": "a46d6102",
   "metadata": {},
   "outputs": [],
   "source": [
    "M = Acq.get_preconditioner(np.ones(12*d['nside']**2))"
   ]
  },
  {
   "cell_type": "code",
   "execution_count": null,
   "id": "7087bbae",
   "metadata": {},
   "outputs": [],
   "source": [
    "tol=1e-4\n",
    "\n",
    "solution_qubic_planck = pcg(A, b, x0=None, M=M, tol=tol, disp=True)"
   ]
  },
  {
   "cell_type": "markdown",
   "id": "3b36d12f",
   "metadata": {},
   "source": [
    "You can note that the convergence is much faster than before with the QUBIC only acquisition. This is due to the fact that edge effects have disappeared ! Let's take a look of reconstructed maps."
   ]
  },
  {
   "cell_type": "code",
   "execution_count": null,
   "id": "61d33b84",
   "metadata": {},
   "outputs": [],
   "source": [
    "def display_maps(inputs, outputs, display=True, rot=None, res=None):\n",
    "    \n",
    "    rI = inputs[:, 0] - outputs[:, 0]\n",
    "    rQ = inputs[:, 1] - outputs[:, 1]\n",
    "    rU = inputs[:, 2] - outputs[:, 2]\n",
    "    r=np.array([rI, rQ, rU])\n",
    "    \n",
    "    \n",
    "    plt.figure(figsize=(10, 10))\n",
    "    \n",
    "    stk=['I', 'Q', 'U']\n",
    "    k=1\n",
    "    for i in range(3):\n",
    "        if i == 0: min, max = -300, 300\n",
    "        else: min, max = -8, 8\n",
    "        hp.gnomview(inputs[:, i], rot=rot, reso=res, cmap='jet', min=min, max=max, sub=(3, 3, k), title='Input - {}'.format(stk[i]))\n",
    "        k+=1\n",
    "        hp.gnomview(outputs[:, i], rot=rot, reso=res, cmap='jet', min=min, max=max, sub=(3, 3, k), title='Output - {}'.format(stk[i]))\n",
    "        k+=1\n",
    "        hp.gnomview(r[i], rot=rot, reso=res, cmap='jet', min=min, max=max, sub=(3, 3, k), title='Residual - {}'.format(stk[i]))\n",
    "        k+=1\n",
    "    \n",
    "    plt.show()\n",
    "    \n",
    "    return r\n",
    "\n",
    "rpl=display_maps(mapin[0], solution_qubic_planck['x'], display=True, rot=center, res=25)"
   ]
  },
  {
   "cell_type": "markdown",
   "id": "4fac67f0",
   "metadata": {},
   "source": [
    "We have now reconstructed maps which combine QUBIC and Planck sensitivity ! Let's take a look of profiles now."
   ]
  },
  {
   "cell_type": "code",
   "execution_count": null,
   "id": "581edb79",
   "metadata": {},
   "outputs": [],
   "source": [
    "xx, yyI, yyQ, yyU = qss.get_angular_profile(np.array([r[0], r[1], r[2]]).T, nbins=30, separate=True, center=center, thmax=30)\n",
    "xx_pl, yyI_pl, yyQ_pl, yyU_pl = qss.get_angular_profile(np.array([rpl[0], rpl[1], rpl[2]]).T, nbins=30, separate=True, center=center, thmax=50)"
   ]
  },
  {
   "cell_type": "code",
   "execution_count": null,
   "id": "70a22be3",
   "metadata": {},
   "outputs": [],
   "source": [
    "covnorm = cov / np.max(cov)\n",
    "a_planck=qubic.PlanckAcquisition(nus[0], s, true_sky=mapin[0], mask=None)\n",
    "noise_planck=a_planck.get_noise()\n",
    "\n",
    "plt.figure(figsize=(15, 15))\n",
    "plt.subplot(3, 1, 1)\n",
    "plt.errorbar(xx, yyI, fmt='-or', label='QUBIC acquisition only')\n",
    "plt.errorbar(xx_pl, yyI_pl, fmt=':ob', label='QUBIC + Planck acquisition')\n",
    "plt.axhline(np.std(noise_planck[:, 0]), color='black', ls='--')\n",
    "plt.yscale('log')\n",
    "plt.xlabel('')\n",
    "plt.ylabel(r'RMS [$\\mu K$]', fontsize=15)\n",
    "plt.legend(frameon=False, fontsize=15)\n",
    "plt.title('I', fontsize=15)\n",
    "plt.ylim(4e-1, 5e2)\n",
    "\n",
    "plt.subplot(3, 1, 2)\n",
    "plt.errorbar(xx, yyQ, fmt='-or')\n",
    "plt.errorbar(xx_pl, yyQ_pl, fmt=':ob')\n",
    "plt.axhline(np.std(noise_planck[:, 1]), color='black', ls='--')\n",
    "plt.yscale('log')\n",
    "plt.xlabel('')\n",
    "plt.ylabel(r'RMS [$\\mu K$]', fontsize=15)\n",
    "plt.title('Q', fontsize=15)\n",
    "plt.ylim(4e-1, 5e2)\n",
    "\n",
    "plt.subplot(3, 1, 3)\n",
    "plt.errorbar(xx, yyU, fmt='-or')\n",
    "plt.errorbar(xx_pl, yyU_pl, fmt=':ob')\n",
    "plt.axhline(np.std(noise_planck[:, 2]), color='black', ls='--')\n",
    "plt.yscale('log')\n",
    "plt.xlabel(r'$\\theta$ [°]', fontsize=15)\n",
    "plt.ylabel(r'RMS [$\\mu K$]', fontsize=15)\n",
    "plt.title('U', fontsize=15)\n",
    "plt.ylim(4e-1, 5e2)\n",
    "plt.show()"
   ]
  },
  {
   "cell_type": "code",
   "execution_count": null,
   "id": "5fca62d9",
   "metadata": {},
   "outputs": [],
   "source": []
  },
  {
   "cell_type": "code",
   "execution_count": null,
   "id": "050ac05c",
   "metadata": {},
   "outputs": [],
   "source": []
  },
  {
   "cell_type": "code",
   "execution_count": null,
   "id": "55a53e4e",
   "metadata": {},
   "outputs": [],
   "source": []
  }
 ],
 "metadata": {
  "jupytext": {
   "formats": "ipynb,Rmd"
  },
  "kernelspec": {
   "display_name": "Python 3 (ipykernel)",
   "language": "python",
   "name": "python3"
  }
 },
 "nbformat": 4,
 "nbformat_minor": 5
}
