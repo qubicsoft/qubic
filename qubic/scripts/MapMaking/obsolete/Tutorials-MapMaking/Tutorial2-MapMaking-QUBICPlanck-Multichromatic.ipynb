{
 "cells": [
  {
   "cell_type": "markdown",
   "id": "db4ec4f7",
   "metadata": {},
   "source": [
    "# Map-Making using Planck Acquisition\n",
    "\n",
    "In this notebook, we describe how to make the map-making process using Planck acquisition to correct edge effects. We will merge QUBIC and Planck acquisition to benefit of both instrument, QUBIC for the Q and U sensitivity and Planck for the large coverage and sensitivity on I."
   ]
  },
  {
   "cell_type": "code",
   "execution_count": null,
   "id": "2eb79441",
   "metadata": {},
   "outputs": [],
   "source": [
    "from __future__ import division\n",
    "from pyoperators import pcg\n",
    "from pysimulators import profile\n",
    "\n",
    "import sys\n",
    "sys.path.append('/Users/mregnier/Desktop/PhD Regnier/mypackages')\n",
    "\n",
    "# QUBIC packages\n",
    "import qubic\n",
    "from qubicpack.utilities import Qubic_DataDir\n",
    "from qubic.data import PATH\n",
    "from qubic.io import read_map\n",
    "from qubic import QubicSkySim as qss\n",
    "import Acquisition as Acq\n",
    "\n",
    "# Display packages\n",
    "import healpy as hp\n",
    "import matplotlib.pyplot as plt\n",
    "\n",
    "# FG-Buster packages\n",
    "import component_model as c\n",
    "import mixing_matrix as mm\n",
    "\n",
    "# General packages\n",
    "import numpy as np\n",
    "import pysm3\n",
    "import warnings\n",
    "from qubic import QubicSkySim as qss\n",
    "import pysm3.units as u\n",
    "from importlib import reload\n",
    "from pysm3 import utils\n",
    "\n",
    "# PyOperators packages\n",
    "from pyoperators import (\n",
    "    BlockColumnOperator, BlockDiagonalOperator, BlockRowOperator,\n",
    "    CompositionOperator, DiagonalOperator, I, IdentityOperator,\n",
    "    MPIDistributionIdentityOperator, MPI, proxy_group, ReshapeOperator,\n",
    "    rule_manager, pcg, Operator)\n",
    "\n",
    "from pysimulators.interfaces.healpy import HealpixConvolutionGaussianOperator\n",
    "warnings.filterwarnings(\"ignore\")\n",
    "%matplotlib inline\n",
    "\n",
    "# %config InlineBackend.figure_format='retina'\n",
    "from IPython.display import display, HTML\n",
    "display(HTML(\"<style>.container { width:95% !important; }</style>\"))"
   ]
  },
  {
   "cell_type": "markdown",
   "id": "ed9f215c",
   "metadata": {},
   "source": [
    "# QUBIC dictionary\n",
    "\n",
    "We first import the QUBIC dictionary to define general stuff like pixelization, seen region on the sky, etc... "
   ]
  },
  {
   "cell_type": "code",
   "execution_count": null,
   "id": "99f9ea24",
   "metadata": {},
   "outputs": [],
   "source": [
    "def initial_guess_pcg(map, n, Nrec, npix):\n",
    "\n",
    "    initial_guess = np.zeros((Nrec, npix, 3))\n",
    "    for i in range(Nrec):\n",
    "        initial_guess[i] = map + n\n",
    "    \n",
    "    return initial_guess\n",
    "def integration(nu_min, nu_max, Nintegr, sky_config, d):\n",
    "    print(f'Integration from {nu_min:.2f} to {nu_max:.2f} GHz with {Nintegr} steps')\n",
    "    obj = Acq.QubicIntegrated(d, Nsub=Nintegr, Nrec=Nintegr)\n",
    "    if Nintegr == 1:\n",
    "        allnus = np.array([np.mean([nu_min, nu_max])])\n",
    "    else:\n",
    "        allnus = np.linspace(nu_min, nu_max, Nintegr)\n",
    "    m = obj.get_PySM_maps(sky_config, nus=allnus)\n",
    "    #print(m.shape)\n",
    "    \n",
    "    return np.array([np.mean(m, axis=0)])"
   ]
  },
  {
   "cell_type": "code",
   "execution_count": null,
   "id": "21169db6",
   "metadata": {},
   "outputs": [],
   "source": [
    "print('\\n******* Dictionary *******\\n')\n",
    "\n",
    "dictfilename = 'dicts/pipeline_demo.dict'\n",
    "\n",
    "d = qubic.qubicdict.qubicDict()\n",
    "d.read_from_file(dictfilename)\n",
    "\n",
    "Nrec = 2\n",
    "fact = 2\n",
    "Nsub = int(Nrec * fact)\n",
    "Nbfreq, nus_edge, nus, deltas, Delta, Nbbands = qubic.compute_freq(220, Nfreq=Nsub)\n",
    "band = 217\n",
    "sky_config = {'dust':'d0'}\n",
    "\n",
    "nside = 256\n",
    "pointings = 3000\n",
    "ite = 1\n",
    "noisy = 1\n",
    "convolution = False\n",
    "convolution_to_max=False\n",
    "correction = False\n",
    "\n",
    "d['nf_recon'] = Nrec\n",
    "d['nf_sub'] = Nrec\n",
    "d['nside'] = 256\n",
    "npix=12*d['nside']**2\n",
    "d['RA_center'] = 0\n",
    "d['DEC_center'] = -57\n",
    "center = qubic.equ2gal(d['RA_center'], d['DEC_center'])\n",
    "d['effective_duration'] = 300000000\n",
    "d['npointings'] = pointings\n",
    "d['filter_nu'] = 220e9\n",
    "d['config'] = 'FI'\n",
    "d['MultiBand'] = True"
   ]
  },
  {
   "cell_type": "code",
   "execution_count": null,
   "id": "598d1077",
   "metadata": {},
   "outputs": [],
   "source": []
  },
  {
   "cell_type": "code",
   "execution_count": null,
   "id": "263a1fbe",
   "metadata": {},
   "outputs": [],
   "source": [
    "qubic_acquisition = Acq.QubicIntegrated(d, Nsub=Nsub, Nrec=Nsub)\n",
    "m_tod = qubic_acquisition.get_PySM_maps(sky_config, nus=qubic_acquisition.allnus)  # To make TOD\n",
    "\n",
    "m_planck = integration(band-35, band+35, 20, sky_config, d)"
   ]
  },
  {
   "cell_type": "code",
   "execution_count": null,
   "id": "5efb18d3",
   "metadata": {},
   "outputs": [],
   "source": [
    "qubic_acquisition = Acq.QubicIntegrated(d, Nsub=Nsub, Nrec=Nrec)\n",
    "planck_acquisition = Acq.PlanckAcquisition(band, qubic_acquisition.scene)\n",
    "qubicplanck_acquisition = Acq.QubicPlanckMultiBandAcquisition(qubic_acquisition, planck_acquisition)"
   ]
  },
  {
   "cell_type": "code",
   "execution_count": null,
   "id": "c1dcab22",
   "metadata": {},
   "outputs": [],
   "source": [
    "cov = qubic_acquisition.get_coverage()\n",
    "pixok = cov > 0\n",
    "seenpix = cov/cov.max() > 0."
   ]
  },
  {
   "cell_type": "code",
   "execution_count": null,
   "id": "460975fb",
   "metadata": {},
   "outputs": [],
   "source": [
    "tod = qubicplanck_acquisition.get_observation(m_tod, np.array([m_planck[0]]*Nrec), convolution, noisy=noisy, verbose=True)"
   ]
  },
  {
   "cell_type": "code",
   "execution_count": null,
   "id": "1bff3594",
   "metadata": {},
   "outputs": [],
   "source": [
    "mask = np.array(seenpix, dtype=int)\n",
    "mask[np.where(seenpix == False)[0]] = 1e10"
   ]
  },
  {
   "cell_type": "code",
   "execution_count": null,
   "id": "b9ea7839",
   "metadata": {},
   "outputs": [],
   "source": [
    "qubic_acquisition = Acq.QubicIntegrated(d, Nsub=Nsub, Nrec=Nrec)\n",
    "planck_acquisition = Acq.PlanckAcquisition(band, qubic_acquisition.scene)\n",
    "qubicplanck_acquisition = Acq.QubicPlanckMultiBandAcquisition(qubic_acquisition, planck_acquisition)\n",
    "Hrecon = qubicplanck_acquisition.get_operator(convolution=convolution_to_max, convolve_to_max=convolution_to_max)\n",
    "\n",
    "if correction:\n",
    "    beam_correction = list(qubic_acquisition.final_fwhm)\n",
    "else:\n",
    "    beam_correction = None"
   ]
  },
  {
   "cell_type": "code",
   "execution_count": null,
   "id": "8f2bf190",
   "metadata": {},
   "outputs": [],
   "source": [
    "invntt = qubicplanck_acquisition.get_invntt_operator(mask=mask, beam_correction=beam_correction)\n",
    "\n",
    "A = Hrecon.T * invntt * Hrecon\n",
    "b = Hrecon.T * invntt * tod\n",
    "\n",
    "print('\\n********** PCG **********\\n')\n",
    "\n",
    "M = Acq.get_preconditioner(np.ones(12*d['nside']**2))\n",
    "\n",
    "tol=1e-10"
   ]
  },
  {
   "cell_type": "code",
   "execution_count": null,
   "id": "383b8024",
   "metadata": {},
   "outputs": [],
   "source": [
    "def initial_guess(map, nrec, fwhm = None, noisy = False):\n",
    "    \n",
    "    if fwhm is None:\n",
    "        fwhm = [0]*nrec\n",
    "    \n",
    "    map_ini = np.zeros((nrec, map.shape[1], map.shape[2]))\n",
    "    \n",
    "    for i in range(nrec):\n",
    "        C = HealpixConvolutionGaussianOperator(fwhm = fwhm[i])\n",
    "        map_ini[i] = C(map[0])\n",
    "        \n",
    "    if nrec == 1:\n",
    "        map_ini = map[0]\n",
    "    \n",
    "    return map_ini\n",
    "\n",
    "map_planck_ini = initial_guess(m_planck+np.array([planck_acquisition.get_noise()*0.0000001]), Nrec, fwhm = qubic_acquisition.final_fwhm)\n",
    "\n",
    "solution_qubic_planck = pcg(A, b, x0=map_planck_ini, M=None, tol=tol, disp=True, maxiter=100)"
   ]
  },
  {
   "cell_type": "code",
   "execution_count": null,
   "id": "ec0658b9",
   "metadata": {},
   "outputs": [],
   "source": [
    "covnorm = cov/cov.max()\n",
    "ii = covnorm > 0.1\n",
    "\n",
    "new_res = np.zeros((Nrec, 12*nside**2, 3))\n",
    "print(new_res.shape)\n",
    "for i in range(Nrec):\n",
    "    \n",
    "    new_res[i, :] = np.mean(m_tod[i*fact:(i+1)*fact], axis=0)\n",
    "    new_res[i, ~ii] = m_planck[0, ~ii].copy()"
   ]
  },
  {
   "cell_type": "code",
   "execution_count": null,
   "id": "7d5a5c0e",
   "metadata": {},
   "outputs": [],
   "source": []
  },
  {
   "cell_type": "code",
   "execution_count": null,
   "id": "77fdd93e",
   "metadata": {},
   "outputs": [],
   "source": [
    "plt.figure(figsize=(10, 8))\n",
    "res=15\n",
    "istk=1\n",
    "\n",
    "for i in range(Nrec):\n",
    "    C = HealpixConvolutionGaussianOperator(fwhm=qubic_acquisition.final_fwhm[i])\n",
    "    #inputs = np.mean(m_tod[i*fact:(i+1)*fact], axis=0)\n",
    "    #inputs = m_planck[0]\n",
    "    inputs = new_res[i]\n",
    "    hp.gnomview(C(inputs[:, istk]), rot=center, reso=res, cmap='jet', min=-6, max=6, sub=(3, Nrec, i+1), \n",
    "                                        title=f'Input QUBIC - {qubic_acquisition.allnus[i]:.2f} GHz')\n",
    "\n",
    "\n",
    "for i in range(Nrec):\n",
    "    hp.gnomview(solution_qubic_planck['x'][i, :, istk], rot=center, reso=res, cmap='jet', min=-6, max=6, sub=(3, Nrec, Nrec+i+1), title=r'Output - $\\nu$'+f'{i+1}')\n",
    "\n",
    "\n",
    "    \n",
    "for i in range(Nrec):\n",
    "    C = HealpixConvolutionGaussianOperator(fwhm=qubic_acquisition.final_fwhm[i])\n",
    "    #inputs = np.mean(m_tod[i*fact:(i+1)*fact], axis=0)\n",
    "    #inputs = m_planck[0]\n",
    "    inputs = new_res[i]\n",
    "    r = C(inputs[:, istk]) - solution_qubic_planck['x'][i, :, istk]\n",
    "    hp.gnomview(r, rot=center, reso=res, cmap='jet', min=-1, max=1, sub=(3, Nrec, (2*Nrec)+i+1), \n",
    "                                        title=r'Residuals - $\\nu$'+f'{i+1}')\n",
    "plt.show()"
   ]
  },
  {
   "cell_type": "code",
   "execution_count": null,
   "id": "1b431e3c",
   "metadata": {},
   "outputs": [],
   "source": [
    "allcov = np.linspace(0.001, 1, 20)\n",
    "allcov"
   ]
  },
  {
   "cell_type": "code",
   "execution_count": null,
   "id": "eaa88b11",
   "metadata": {},
   "outputs": [],
   "source": [
    "r = np.zeros((Nrec, 12*nside**2))\n",
    "for i in range(Nrec):\n",
    "    C = HealpixConvolutionGaussianOperator(fwhm=qubic_acquisition.final_fwhm[i])\n",
    "    r[i] = C(new_res[i])[:, istk] - solution_qubic_planck['x'][i, :, istk]\n",
    "\n",
    "plt.figure(figsize=(10, 14))\n",
    "\n",
    "for i in range(Nrec):\n",
    "    plt.subplot(Nrec, 1, i+1)\n",
    "    \n",
    "    \n",
    "    for j, jj in enumerate(allcov):\n",
    "        if jj != 1:\n",
    "            #print(allcov[j], allcov[j+1])\n",
    "            index = np.where((covnorm > allcov[j]) & (covnorm < allcov[j+1]))[0]\n",
    "            #print(index)\n",
    "            #print(np.mean(r[i][index]), np.std(r[i][index]))\n",
    "            plt.plot(covnorm[index], r[i][index], ',')\n",
    "            plt.errorbar(np.mean([allcov[j], allcov[j+1]]), np.mean(r[i][index]), yerr=np.std(r[i][index]), fmt='or', capsize=3)\n",
    "            plt.axhline(0, color='black')\n",
    "    #plt.plot(covnorm, r[4], ',')\n",
    "    #plt.xscale('log')\n",
    "    plt.xlim(0.001, 1)\n",
    "    plt.ylim(-1, 1)\n",
    "plt.show()"
   ]
  },
  {
   "cell_type": "code",
   "execution_count": null,
   "id": "f8c8577b",
   "metadata": {},
   "outputs": [],
   "source": []
  },
  {
   "cell_type": "code",
   "execution_count": null,
   "id": "0b9e980f",
   "metadata": {},
   "outputs": [],
   "source": []
  },
  {
   "cell_type": "code",
   "execution_count": null,
   "id": "6f7e8914",
   "metadata": {},
   "outputs": [],
   "source": []
  },
  {
   "cell_type": "code",
   "execution_count": null,
   "id": "bff72827",
   "metadata": {},
   "outputs": [],
   "source": []
  }
 ],
 "metadata": {
  "jupytext": {
   "formats": "ipynb,Rmd"
  },
  "kernelspec": {
   "display_name": "Python 3 (ipykernel)",
   "language": "python",
   "name": "python3"
  }
 },
 "nbformat": 4,
 "nbformat_minor": 5
}
