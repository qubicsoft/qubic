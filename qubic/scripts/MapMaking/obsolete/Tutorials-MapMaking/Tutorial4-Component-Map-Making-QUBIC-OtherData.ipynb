{
 "cells": [
  {
   "cell_type": "markdown",
   "id": "342b3a57",
   "metadata": {},
   "source": [
    "# Components Map-Making with other data\n",
    "\n",
    "In this notebook, we leads to learn how to use more data than QUBIC ones to make a joint analysis. Here we benefit of the full sky coverage of Planck to correct edges effect of QUBIC reconstruction. We benefit also the spectral information for estimation of spectral indices, especially the HFI for the thermal dust and the LFI for the synchrotron emission."
   ]
  },
  {
   "cell_type": "code",
   "execution_count": null,
   "id": "aa3a9580",
   "metadata": {},
   "outputs": [],
   "source": [
    "from __future__ import division\n",
    "\n",
    "# QUBIC packages\n",
    "import qubic\n",
    "from qubicpack.utilities import Qubic_DataDir\n",
    "from qubic.data import PATH\n",
    "from qubic.io import read_map\n",
    "import Acquisition as Acq\n",
    "\n",
    "# General packages\n",
    "import healpy as hp\n",
    "import matplotlib.pyplot as plt\n",
    "import numpy as np\n",
    "import pysm3\n",
    "import warnings\n",
    "import pysm3.units as u\n",
    "from importlib import reload\n",
    "from pysm3 import utils\n",
    "from qubic import QubicSkySim as qss\n",
    "\n",
    "# FG-Buster packages\n",
    "import component_model as c\n",
    "import mixing_matrix as mm\n",
    "\n",
    "# PyOperators packages\n",
    "from pyoperators import (\n",
    "    BlockColumnOperator, BlockDiagonalOperator, BlockRowOperator,\n",
    "    CompositionOperator, DiagonalOperator, I, IdentityOperator,\n",
    "    MPIDistributionIdentityOperator, MPI, proxy_group, ReshapeOperator,\n",
    "    rule_manager, pcg, Operator, DenseOperator)\n",
    "from pysimulators.interfaces.healpy import HealpixConvolutionGaussianOperator\n",
    "warnings.filterwarnings(\"ignore\")\n",
    "%matplotlib inline\n",
    "\n",
    "# %config InlineBackend.figure_format='retina'\n",
    "from IPython.display import display, HTML\n",
    "display(HTML(\"<style>.container { width:95% !important; }</style>\"))"
   ]
  },
  {
   "cell_type": "markdown",
   "id": "6934a12a",
   "metadata": {},
   "source": [
    "Here we define the number of sub-acquisitions and the number of pointing."
   ]
  },
  {
   "cell_type": "code",
   "execution_count": null,
   "id": "dc10f880",
   "metadata": {},
   "outputs": [],
   "source": [
    "# Repository for dictionary\n",
    "global_dir = '/pbs/home/m/mregnier/Libs/qubic/qubic/'#Qubic_DataDir()\n",
    "print(global_dir)\n",
    "dictfilename = global_dir + 'dicts/pipeline_demo.dict'\n",
    "\n",
    "# Read dictionary chosen\n",
    "d = qubic.qubicdict.qubicDict()\n",
    "d.read_from_file(dictfilename)\n",
    "\n",
    "from qubic import SpectroImLib as sp\n",
    "from importlib import reload\n",
    "\n",
    "Nf = 1\n",
    "relative_bandwidth = 0.25\n",
    "Nbfreq, nus_edge150, nus150, deltas, Delta, Nbbands = qubic.compute_freq(150, Nfreq=Nf)\n",
    "Nbfreq, nus_edge220, nus220, deltas, Delta, Nbbands = qubic.compute_freq(220, Nfreq=Nf)\n",
    "center = qubic.equ2gal(0, -57)\n",
    "def give_dictionary(dictfilename, Nf, nside, pointing, band):\n",
    "    d = qubic.qubicdict.qubicDict()\n",
    "    d.read_from_file(dictfilename)\n",
    "    d['nf_recon'] = Nf\n",
    "    d['nf_sub'] = 1*Nf\n",
    "    d['nside'] = nside\n",
    "    npix=12*d['nside']**2\n",
    "    d['RA_center'] = 0\n",
    "    d['DEC_center'] = -57\n",
    "    center = qubic.equ2gal(d['RA_center'], d['DEC_center'])\n",
    "    d['effective_duration'] = 3\n",
    "    #d['dtheta'] = 15\n",
    "    d['npointings'] = pointing\n",
    "    d['filter_nu'] = int(band*1e9)\n",
    "    d['photon_noise'] = False\n",
    "    d['config'] = 'FI'\n",
    "    d['MultiBand'] = True\n",
    "    \n",
    "    return d\n",
    "\n",
    "nside=256\n",
    "pointing=2000\n",
    "\n",
    "d150 = give_dictionary(dictfilename, Nf, nside, pointing, 150)\n",
    "d220 = give_dictionary(dictfilename, Nf, nside, pointing, 220)"
   ]
  },
  {
   "cell_type": "code",
   "execution_count": null,
   "id": "0ad90fcb",
   "metadata": {},
   "outputs": [],
   "source": [
    "nu0 = 150\n",
    "skycmb = pysm3.Sky(nside=nside, preset_strings=['c1'])\n",
    "skydust = pysm3.Sky(nside=nside, preset_strings=['d0'])\n",
    "C =  HealpixConvolutionGaussianOperator(fwhm=np.deg2rad(0.39))\n",
    "\n",
    "maps_dust = np.array(skydust.get_emission(nu0 * u.GHz, None) * utils.bandpass_unit_conversion(nu0 * u.GHz, None, u.uK_CMB).T)\n",
    "maps_cmb = np.array(skycmb.get_emission(nu0 * u.GHz, None) * utils.bandpass_unit_conversion(nu0 * u.GHz, None, u.uK_CMB).T)\n",
    "components = np.array([C(maps_cmb.T), C(maps_dust.T)])\n",
    "\n",
    "C =  HealpixConvolutionGaussianOperator(fwhm=np.deg2rad(0.39))\n",
    "print(C, maps_cmb.shape)\n",
    "comp_for_pcg = np.array([C(maps_cmb.T), C(maps_dust.T)])"
   ]
  },
  {
   "cell_type": "code",
   "execution_count": null,
   "id": "35e2c48a",
   "metadata": {},
   "outputs": [],
   "source": [
    "reload(Acq)\n",
    "\n",
    "# Pointing\n",
    "p = qubic.get_pointing(d150)\n",
    "\n",
    "# Scene\n",
    "s = qubic.QubicScene(d150)\n",
    "\n",
    "# Instrument\n",
    "q150 = qubic.QubicMultibandInstrument(d150)\n",
    "q220 = qubic.QubicMultibandInstrument(d220)"
   ]
  },
  {
   "cell_type": "markdown",
   "id": "cd8cac81",
   "metadata": {},
   "source": [
    "Here, we instanciate the pipeline reconstruction as before but by giving others frequencies than QUBIC ones. Here, we consider only CMB + Dust, so we want to use the Planck HFI."
   ]
  },
  {
   "cell_type": "code",
   "execution_count": null,
   "id": "ac291cb3",
   "metadata": {},
   "outputs": [],
   "source": [
    "reload(Acq)\n",
    "\n",
    "# QUBIC instruments\n",
    "o150 = Acq.QubicIntegratedComponentsMapMaking(q150, p, s, d150, nus_edge150, comp=[c.CMB(), c.Dust(nu0=150, temp=20)])\n",
    "o220 = Acq.QubicIntegratedComponentsMapMaking(q220, p, s, d220, nus_edge220, comp=[c.CMB(), c.Dust(nu0=150, temp=20)])\n",
    "\n",
    "# QUBIC models\n",
    "otwo = Acq.QubicTwoBandsComponentsMapMaking(o150, o220, s, [c.CMB(), c.Dust(nu0=150, temp=20)])\n",
    "owide = Acq.QubicTwoBandsComponentsMapMaking(o150, o220, s, [c.CMB(), c.Dust(nu0=150, temp=20)])\n",
    "\n",
    "cov = o150.get_coverage()\n",
    "pixok = cov > 0\n",
    "\n",
    "\n",
    "Pipeline = Acq.PipelineReconstruction(otwo, [143, 217, 353], comp=[c.CMB(), c.Dust(nu0=150, temp=20)], type='TwoBands', convolution=False)\n",
    "H = Pipeline.get_operator(np.array([1.54]), type='no_convolution')\n",
    "n = Pipeline.get_noise()\n",
    "invN = Pipeline.get_invN()\n",
    "\n",
    "tod = H(components)+n\n",
    "A = H.T * invN * H\n",
    "b = H.T * invN * tod"
   ]
  },
  {
   "cell_type": "markdown",
   "id": "32984f99",
   "metadata": {},
   "source": [
    "Here we call the PCG as before."
   ]
  },
  {
   "cell_type": "code",
   "execution_count": null,
   "id": "1293794c",
   "metadata": {},
   "outputs": [],
   "source": [
    "M = Acq.get_preconditioner(np.ones(Pipeline.npix))\n",
    "\n",
    "sol = pcg(A, b, x0=comp_for_pcg, tol=1e-4, M=M, disp=True)"
   ]
  },
  {
   "cell_type": "code",
   "execution_count": null,
   "id": "35470c49",
   "metadata": {},
   "outputs": [],
   "source": [
    "outputs = sol['x'].copy()\n",
    "inputs = components.copy()\n",
    "#inputs[:, ~pixok, :] = hp.UNSEEN"
   ]
  },
  {
   "cell_type": "code",
   "execution_count": null,
   "id": "a5fa2d97",
   "metadata": {},
   "outputs": [],
   "source": [
    "r = 8\n",
    "rr = 8\n",
    "reso= 15\n",
    "istk = 1\n",
    "\n",
    "plt.figure(figsize=(15, 5))\n",
    "hp.mollview(inputs[0, :, istk], cmap='jet', min=-rr, max=rr, sub=(1, 4, 1))\n",
    "hp.mollview(outputs[0, :, istk], cmap='jet', min=-rr, max=rr, sub=(1, 4, 2))\n",
    "hp.mollview(inputs[0, :, istk] - outputs[0, :, istk], cmap='jet', min=-r, max=r, sub=(1, 4, 3))\n",
    "hp.mollview(cov/cov.max(), cmap='jet', min=0, max=1, sub=(1, 4, 4))\n",
    "plt.show()\n",
    "\n",
    "plt.figure(figsize=(15, 5))\n",
    "hp.gnomview(inputs[0, :, istk], cmap='jet', min=-rr, max=rr, sub=(1, 5, 1), rot=center, reso=reso)\n",
    "hp.gnomview(outputs[0, :, istk], cmap='jet', min=-rr, max=rr, sub=(1, 5, 2), rot=center, reso=reso)\n",
    "hp.gnomview(inputs[0, :, istk] - outputs[0, :, istk], cmap='jet', min=-r, max=r, sub=(1, 5, 3), rot=center, reso=reso)\n",
    "hp.gnomview(cov/cov.max(), cmap='jet', min=0, max=1, sub=(1, 5, 4), rot=center, reso=reso)\n",
    "hp.gnomview(pixok, cmap='jet', min=0, max=1, sub=(1, 5, 5), rot=center, reso=reso)\n",
    "plt.show()\n",
    "\n",
    "\n",
    "plt.figure(figsize=(15, 5))\n",
    "hp.mollview(inputs[1, :, istk], cmap='jet', min=-5, max=10, sub=(1, 4, 1))\n",
    "hp.mollview(outputs[1, :, istk], cmap='jet', min=-5, max=10, sub=(1, 4, 2))\n",
    "hp.mollview(inputs[1, :, istk] - outputs[1, :, istk], cmap='jet', min=-r, max=r, sub=(1, 4, 3))\n",
    "hp.mollview(cov/cov.max(), cmap='jet', min=0, max=1, sub=(1, 4, 4))\n",
    "plt.show()\n",
    "\n",
    "plt.figure(figsize=(15, 5))\n",
    "hp.gnomview(inputs[1, :, istk], cmap='jet', min=-5, max=10, sub=(1, 4, 1), rot=center, reso=reso)\n",
    "hp.gnomview(outputs[1, :, istk], cmap='jet', min=-5, max=10, sub=(1, 4, 2), rot=center, reso=reso)\n",
    "hp.gnomview(inputs[1, :, istk] - outputs[1, :, istk], cmap='jet', min=-r, max=r, sub=(1, 4, 3), rot=center, reso=reso)\n",
    "hp.gnomview(cov/cov.max(), cmap='jet', min=0, max=1, sub=(1, 4, 4), rot=center, reso=reso)\n",
    "plt.show()"
   ]
  },
  {
   "cell_type": "code",
   "execution_count": null,
   "id": "6917aa8f",
   "metadata": {},
   "outputs": [],
   "source": []
  },
  {
   "cell_type": "code",
   "execution_count": null,
   "id": "830066b6",
   "metadata": {},
   "outputs": [],
   "source": []
  },
  {
   "cell_type": "code",
   "execution_count": null,
   "id": "c977e034",
   "metadata": {},
   "outputs": [],
   "source": []
  },
  {
   "cell_type": "code",
   "execution_count": null,
   "id": "91841008",
   "metadata": {},
   "outputs": [],
   "source": []
  },
  {
   "cell_type": "code",
   "execution_count": null,
   "id": "f702a3a7",
   "metadata": {},
   "outputs": [],
   "source": []
  },
  {
   "cell_type": "code",
   "execution_count": null,
   "id": "b4b09ce4",
   "metadata": {},
   "outputs": [],
   "source": []
  },
  {
   "cell_type": "code",
   "execution_count": null,
   "id": "77849598",
   "metadata": {},
   "outputs": [],
   "source": []
  },
  {
   "cell_type": "code",
   "execution_count": null,
   "id": "b6ec33a0",
   "metadata": {},
   "outputs": [],
   "source": []
  },
  {
   "cell_type": "code",
   "execution_count": null,
   "id": "ed819ff7",
   "metadata": {},
   "outputs": [],
   "source": []
  },
  {
   "cell_type": "code",
   "execution_count": null,
   "id": "ce33fc7b",
   "metadata": {},
   "outputs": [],
   "source": []
  },
  {
   "cell_type": "code",
   "execution_count": null,
   "id": "50d13412",
   "metadata": {},
   "outputs": [],
   "source": []
  },
  {
   "cell_type": "code",
   "execution_count": null,
   "id": "7f1727c7",
   "metadata": {},
   "outputs": [],
   "source": []
  }
 ],
 "metadata": {
  "jupytext": {
   "formats": "ipynb,Rmd"
  },
  "kernelspec": {
   "display_name": "Python 3 (ipykernel)",
   "language": "python",
   "name": "python3"
  }
 },
 "nbformat": 4,
 "nbformat_minor": 5
}
