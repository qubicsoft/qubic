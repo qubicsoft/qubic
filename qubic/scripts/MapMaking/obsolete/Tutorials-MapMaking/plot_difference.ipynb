{
 "cells": [
  {
   "cell_type": "code",
   "execution_count": null,
   "id": "11e9f8f5",
   "metadata": {},
   "outputs": [],
   "source": [
    "from __future__ import division\n",
    "from pyoperators import pcg\n",
    "from pysimulators import profile\n",
    "\n",
    "# QUBIC packages\n",
    "import qubic\n",
    "from qubicpack.utilities import Qubic_DataDir\n",
    "from qubic.data import PATH\n",
    "from qubic.io import read_map\n",
    "from qubic import QubicSkySim as qss\n",
    "import sys\n",
    "sys.path.append('/Users/mregnier/Desktop/PhD Regnier/mypackages')\n",
    "\n",
    "\n",
    "import Acquisition as Acq\n",
    "\n",
    "# Display packages\n",
    "import healpy as hp\n",
    "import matplotlib.pyplot as plt\n",
    "\n",
    "# FG-Buster packages\n",
    "import component_model as c\n",
    "import mixing_matrix as mm\n",
    "\n",
    "# General packages\n",
    "import numpy as np\n",
    "import pysm3\n",
    "import warnings\n",
    "from qubic import QubicSkySim as qss\n",
    "import pysm3.units as u\n",
    "from importlib import reload\n",
    "from pysm3 import utils\n",
    "\n",
    "from qubic import SpectroImLib as sp\n",
    "from importlib import reload\n",
    "import gc\n",
    "import copy\n",
    "from pyoperators import *\n",
    "import myPCG as mypcg\n",
    "\n",
    "\n",
    "# PyOperators packages\n",
    "from pyoperators import (\n",
    "    BlockColumnOperator, BlockDiagonalOperator, BlockRowOperator,\n",
    "    CompositionOperator, DiagonalOperator, I, IdentityOperator,\n",
    "    MPIDistributionIdentityOperator, MPI, proxy_group, ReshapeOperator,\n",
    "    rule_manager, pcg, Operator)\n",
    "\n",
    "from pysimulators.interfaces.healpy import HealpixConvolutionGaussianOperator\n",
    "warnings.filterwarnings(\"ignore\")\n",
    "# %matplotlib inline\n",
    "\n",
    "## Now QUBIC and Planck acquisitions used for reconstruction\n",
    "\n",
    "def integration(nu_min, nu_max, Nintegr, sky_config, d, fwhm_subbands = None):\n",
    "    print(f'Integration from {nu_min:.2f} to {nu_max:.2f} GHz with {Nintegr} steps')\n",
    "    obj = Acq.QubicIntegrated(d, Nsub=Nintegr, Nrec=Nintegr)\n",
    "    if Nintegr == 1:\n",
    "        allnus = np.array([np.mean([nu_min, nu_max])])\n",
    "    else:\n",
    "        allnus = np.linspace(nu_min, nu_max, Nintegr)\n",
    "    m = obj.get_PySM_maps(sky_config, nus=allnus)\n",
    "    \n",
    "    if fwhm_subbands is not None:\n",
    "        for i in range(Nintegr):\n",
    "            C = HealpixConvolutionGaussianOperator(fwhm=fwhm_subbands[i])\n",
    "            m[i] = C(m[i])\n",
    "    \n",
    "    return np.array([np.mean(m, axis=0)])\n",
    "\n",
    "\n",
    "# # %config InlineBackend.figure_format='retina'\n",
    "from IPython.display import display, HTML\n",
    "display(HTML(\"<style>.container { width:95% !important; }</style>\"))"
   ]
  },
  {
   "cell_type": "code",
   "execution_count": null,
   "id": "c60a595f",
   "metadata": {},
   "outputs": [],
   "source": [
    "import pickle\n",
    "\n",
    "with open('sol_with_noise.pickle', 'rb') as f:\n",
    "    solnoisy, okpix = pickle.load(f)"
   ]
  },
  {
   "cell_type": "code",
   "execution_count": null,
   "id": "9c70263f",
   "metadata": {},
   "outputs": [],
   "source": [
    "with open('sol_without_noise.pickle', 'rb') as f:\n",
    "    solnoiseless, okpix = pickle.load(f)"
   ]
  },
  {
   "cell_type": "code",
   "execution_count": null,
   "id": "316570ab",
   "metadata": {},
   "outputs": [],
   "source": [
    "residuals = solnoisy - solnoiseless"
   ]
  },
  {
   "cell_type": "code",
   "execution_count": null,
   "id": "9f4ee8b2",
   "metadata": {},
   "outputs": [],
   "source": [
    "center = np.array([270, 0])\n",
    "nside = 256\n",
    "stk = ['I', 'Q', 'U']\n",
    "\n",
    "for s in range(3):\n",
    "    plt.figure(figsize=(9, 15))  \n",
    "    if s==0:\n",
    "        v = 1000\n",
    "        r = 3\n",
    "    else:\n",
    "        v = 30\n",
    "        r = 5\n",
    "    for i in range(5):\n",
    "        mymap_noisy = np.zeros(12*nside**2) + hp.UNSEEN\n",
    "        mymap_noiseless = np.zeros(12*nside**2) + hp.UNSEEN\n",
    "        mymap_noisy[okpix] = solnoisy[i,:,s]\n",
    "        mymap_noiseless[okpix] = solnoiseless[i,:,s]\n",
    "        mydiff = mymap_noisy - mymap_noiseless\n",
    "        mydiff[~okpix] = hp.UNSEEN\n",
    "        hp.gnomview(mymap_noiseless, rot=center, sub=(5, 3, 3*i+1), title='Input {} sub {}/{}'.format(stk[s], i+1, 5), min=-v, max=v, reso=15, cmap='jet')\n",
    "        hp.gnomview(mymap_noisy, rot=center, sub=(5, 3, 3*i+2), title='Output {} sub {}/{}'.format(stk[s], i+1, 5), min=-v, max=v, reso=15, cmap='jet')\n",
    "        hp.gnomview(mydiff, rot=center, sub=(5, 3, 3*i+3), title='Diff {0:} sub {1:}/{2:}'.format(stk[s], i+1, 5), min=-r, max=r, reso=15, cmap='jet')\n",
    "    tight_layout()\n",
    "  "
   ]
  },
  {
   "cell_type": "code",
   "execution_count": null,
   "id": "450b49f5",
   "metadata": {},
   "outputs": [],
   "source": [
    "residuals.shape"
   ]
  },
  {
   "cell_type": "code",
   "execution_count": null,
   "id": "2433d783",
   "metadata": {},
   "outputs": [],
   "source": [
    "for i in range(1, np.shape(residuals)[0]):\n",
    "    plot(residuals[0,:,0], residuals[i,:,0], ',')\n"
   ]
  },
  {
   "cell_type": "code",
   "execution_count": null,
   "id": "5884ffee",
   "metadata": {},
   "outputs": [],
   "source": [
    "i=0\n",
    "mycov = np.cov(residuals[:,:,i])\n",
    "print(mycov)\n",
    "print()\n",
    "w, v = np.linalg.eigh(mycov)\n",
    "print(w)\n",
    "print()\n",
    "print(v)\n",
    "subplot(1,2,1)\n",
    "plot(w, 'ko')\n",
    "yscale('log')\n",
    "subplot(1,2,2)\n",
    "for i in range(len(w)):\n",
    "    plot(v[:,i], 'o-', label=i)\n",
    "legend()"
   ]
  },
  {
   "cell_type": "code",
   "execution_count": null,
   "id": "353e786d",
   "metadata": {},
   "outputs": [],
   "source": []
  },
  {
   "cell_type": "code",
   "execution_count": null,
   "id": "3979fc2b",
   "metadata": {},
   "outputs": [],
   "source": [
    "mycov = np.zeros((3,5,5))\n",
    "rc('font', size=10)\n",
    "rc('figure', figsize=(20, 5))\n",
    "for i in range(3):\n",
    "    subplot(1,3,i+1)\n",
    "    mycov[i,:,:] = np.cov(residuals[:,:,i])\n",
    "    imshow(mycov[i,:,:])\n",
    "    print()\n",
    "    print(mycov[i,:,:])\n",
    "    title(stk[i])\n",
    "    colorbar()\n",
    "tight_layout()"
   ]
  },
  {
   "cell_type": "code",
   "execution_count": null,
   "id": "ceca6056",
   "metadata": {},
   "outputs": [],
   "source": [
    "subplot(1,2,1)\n",
    "for i in range(3):\n",
    "    plot(np.diag(mycov[i,:,:]), 'o-', label=stk[i])\n",
    "legend()\n",
    "ylim(0,3.5)\n",
    "\n",
    "subplot(1,2,2)\n",
    "for i in range(3):\n",
    "    plot(np.diag(mycov[i,:,:]) / np.diag(mycov[i,:,:])[0], 'o-', label=stk[i])\n",
    "legend()\n"
   ]
  },
  {
   "cell_type": "code",
   "execution_count": null,
   "id": "22c557ad",
   "metadata": {},
   "outputs": [],
   "source": [
    "rc('font', size=10)\n",
    "rc('figure', figsize=(20, 5))\n",
    "for i in range(3):\n",
    "    subplot(1,3,i+1)\n",
    "    imshow(np.corrcoef(residuals[:,:,2]), vmin=0, vmax=1)\n",
    "    print()\n",
    "    print(np.corrcoef(residuals[:,:,2]))\n",
    "    title(stk[i])\n",
    "    colorbar()\n",
    "tight_layout()"
   ]
  },
  {
   "cell_type": "code",
   "execution_count": null,
   "id": "c3a4102f",
   "metadata": {},
   "outputs": [],
   "source": [
    "residuals.shape"
   ]
  },
  {
   "cell_type": "code",
   "execution_count": null,
   "id": "726629ea",
   "metadata": {},
   "outputs": [],
   "source": [
    "res = np.transpose(residuals, axes=(2,0,1))\n",
    "res.shape"
   ]
  },
  {
   "cell_type": "code",
   "execution_count": null,
   "id": "3e69c008",
   "metadata": {},
   "outputs": [],
   "source": [
    "bla = np.reshape(res, (15, 27107))\n",
    "imshow(np.corrcoef(bla), cmap='jet')\n",
    "colorbar()"
   ]
  },
  {
   "cell_type": "code",
   "execution_count": null,
   "id": "f7a0ac0e",
   "metadata": {},
   "outputs": [],
   "source": [
    "bla = np.reshape(res, (15, 27107))\n",
    "imshow(np.log10(np.corrcoef(bla)), vmin=-2, vmax=0, cmap='jet')\n",
    "colorbar()"
   ]
  },
  {
   "cell_type": "code",
   "execution_count": null,
   "id": "701d5f16",
   "metadata": {},
   "outputs": [],
   "source": []
  }
 ],
 "metadata": {
  "kernelspec": {
   "display_name": "Python 3 (ipykernel)",
   "language": "python",
   "name": "python3"
  }
 },
 "nbformat": 4,
 "nbformat_minor": 5
}
