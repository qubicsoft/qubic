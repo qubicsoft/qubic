{
 "cells": [
  {
   "cell_type": "code",
   "execution_count": null,
   "id": "c8af4050",
   "metadata": {},
   "outputs": [],
   "source": [
    "import pickle\n",
    "\n",
    "import matplotlib.pyplot as plt\n",
    "import healpy as hp\n",
    "import numpy as np\n",
    "\n",
    "from pysimulators.interfaces.healpy import HealpixConvolutionGaussianOperator"
   ]
  },
  {
   "cell_type": "code",
   "execution_count": null,
   "id": "a7be26a6",
   "metadata": {},
   "outputs": [],
   "source": [
    "data = pickle.load(open(\"/home/laclavere/Documents/Thesis/qubic/qubic/scripts/MapMaking/src/CMM/parametric_d0_DB_test_parametric/maps/file_seed1_None_k9.pkl\", \"rb\"))"
   ]
  },
  {
   "cell_type": "code",
   "execution_count": null,
   "id": "1383c73a",
   "metadata": {},
   "outputs": [],
   "source": [
    "fwhm_in = data[\"fwhm_in\"]\n",
    "fwhm_out = data[\"fwhm_out\"]\n",
    "fwhm_rec = data[\"fwhm_rec\"]\n",
    "\n",
    "comp_maps_input = data[\"components\"]\n",
    "comp_maps_rec = data[\"components_i\"]\n",
    "center = data[\"center\"]\n",
    "seenpix = data[\"seenpix\"]"
   ]
  },
  {
   "cell_type": "code",
   "execution_count": null,
   "id": "8369e89e",
   "metadata": {},
   "outputs": [],
   "source": [
    "print(comp_maps_input.shape)"
   ]
  },
  {
   "cell_type": "code",
   "execution_count": null,
   "id": "f48e72a1",
   "metadata": {},
   "outputs": [],
   "source": [
    "print(\"FWHM in: \", fwhm_in)\n",
    "print(\"FWHM out: \", fwhm_out)\n",
    "print(\"FWHM rec: \", fwhm_rec)"
   ]
  },
  {
   "cell_type": "code",
   "execution_count": null,
   "id": "e5e8882a",
   "metadata": {},
   "outputs": [],
   "source": [
    "name_comp = [\"CMB\", \"Dust\"]\n",
    "STOKES = [\"I\", \"Q\", \"U\"]\n",
    "k = 0\n",
    "\n",
    "comp_maps_input[:, ~seenpix, :] = hp.UNSEEN\n",
    "comp_maps_rec[:, ~seenpix, :] = hp.UNSEEN\n",
    "\n",
    "istk = 0\n",
    "n = 2\n",
    "sigma_input = np.std(comp_maps_input[:, seenpix, ], axis=0)\n",
    "sigma_rec = np.std(comp_maps_rec[:, seenpix, ], axis=0)\n",
    "sigma_res = np.std(comp_maps_rec[:, seenpix, ] - comp_maps_input[:, seenpix, ], axis=0)\n",
    "\n",
    "plt.figure(figsize=(20, 10))\n",
    "for icomp in range(2):\n",
    "    hp.gnomview(comp_maps_input[icomp, :, istk], rot=center,\n",
    "                        reso=15,\n",
    "                        notext=True,\n",
    "                        title=f\"{name_comp[icomp]} {STOKES[istk]} input\",  \n",
    "                        cmap=\"jet\",\n",
    "                        min = - n * sigma_input,\n",
    "                        max = n * sigma_input,\n",
    "                        sub=(2, 3, k + 1))\n",
    "    \n",
    "    hp.gnomview(comp_maps_rec[icomp, :, istk], rot=center,\n",
    "                        reso=15,\n",
    "                        notext=True,\n",
    "                        title=f\"{name_comp[icomp]} {STOKES[istk]} Output\",  \n",
    "                        cmap=\"jet\",\n",
    "                        min = - n * sigma_input,\n",
    "                        max = n * sigma_input,\n",
    "                        sub=(2, 3, k + 2))\n",
    "    \n",
    "    hp.gnomview((comp_maps_rec[icomp, :, istk] - comp_maps_input[icomp, :, istk]), rot=center,\n",
    "                        reso=15,\n",
    "                        notext=True,\n",
    "                        title=f\"{name_comp[icomp]} {STOKES[istk]} Residual\",  \n",
    "                        cmap=\"jet\",\n",
    "                        min = - n * sigma_input,\n",
    "                        max = n * sigma_input,\n",
    "                        sub=(2, 3, k + 3))\n",
    "    k += 3"
   ]
  },
  {
   "cell_type": "code",
   "execution_count": null,
   "id": "99aedb51",
   "metadata": {},
   "outputs": [],
   "source": [
    "import time\n",
    "\n",
    "from pyoperators import IdentityOperator\n",
    "\n",
    "time0 = time.time()\n",
    "C_0 = HealpixConvolutionGaussianOperator(0)\n",
    "print(\"Time for C_0: \", time.time() - time0)\n",
    "timefwhm = time.time()\n",
    "C_fwhm = HealpixConvolutionGaussianOperator(fwhm_rec[-1])\n",
    "print(\"Time for C_fwhm: \", time.time() - timefwhm)\n",
    "timeI = time.time()\n",
    "C_I = IdentityOperator\n",
    "print(\"Time for C_I: \", time.time() - timeI)\n",
    "\n",
    "print(C_0 == C_I)\n",
    "print(C_0)\n",
    "print(C_I)\n",
    "print(C_fwhm)"
   ]
  },
  {
   "cell_type": "code",
   "execution_count": null,
   "id": "09ae9314",
   "metadata": {},
   "outputs": [],
   "source": [
    "print(fwhm_in[-1])"
   ]
  }
 ],
 "metadata": {
  "kernelspec": {
   "display_name": "venv-qubic",
   "language": "python",
   "name": "python3"
  },
  "language_info": {
   "codemirror_mode": {
    "name": "ipython",
    "version": 3
   },
   "file_extension": ".py",
   "mimetype": "text/x-python",
   "name": "python",
   "nbconvert_exporter": "python",
   "pygments_lexer": "ipython3",
   "version": "3.9.18"
  }
 },
 "nbformat": 4,
 "nbformat_minor": 5
}
