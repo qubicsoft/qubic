{
 "cells": [
  {
   "cell_type": "code",
   "execution_count": null,
   "id": "c8af4050",
   "metadata": {},
   "outputs": [],
   "source": [
    "import pickle\n",
    "\n",
    "import matplotlib.pyplot as plt\n",
    "import healpy as hp\n",
    "import numpy as np\n",
    "\n",
    "from pysimulators.interfaces.healpy import HealpixConvolutionGaussianOperator"
   ]
  },
  {
   "cell_type": "code",
   "execution_count": null,
   "id": "a7be26a6",
   "metadata": {},
   "outputs": [],
   "source": [
    "data = pickle.load(open(\"/home/laclavere/Documents/Thesis/qubic/qubic/scripts/MapMaking/src/CMM/parametric_d0_DB_test_wo_convolution/maps/file_seed1_None_k9.pkl\", \"rb\"))"
   ]
  },
  {
   "cell_type": "code",
   "execution_count": null,
   "id": "1383c73a",
   "metadata": {},
   "outputs": [],
   "source": [
    "fwhm_in = data[\"fwhm_in\"]\n",
    "fwhm_out = data[\"fwhm_out\"]\n",
    "fwhm_rec = data[\"fwhm_rec\"]\n",
    "\n",
    "Ccmb = HealpixConvolutionGaussianOperator(fwhm_rec[0])\n",
    "Cdust = HealpixConvolutionGaussianOperator(fwhm_rec[1])\n",
    "C = [Ccmb, Cdust]\n",
    "comp_maps_input = np.array([C[i](data[\"components\"][i]) for i in range(len(C))])\n",
    "comp_maps_rec = data[\"components_i\"] #np.array([C[i](data[\"components_i\"][i]) for i in range(len(C))])\n",
    "comp_maps_res = comp_maps_input - comp_maps_rec\n",
    "center = data[\"center\"]\n",
    "seenpix = data[\"seenpix\"]"
   ]
  },
  {
   "cell_type": "code",
   "execution_count": null,
   "id": "f48e72a1",
   "metadata": {},
   "outputs": [],
   "source": [
    "print(\"FWHM in: \", fwhm_in)\n",
    "print(\"mean fwhm in: \", np.mean(fwhm_in))\n",
    "print(\"FWHM out: \", fwhm_out)\n",
    "print(\"FWHM rec: \", fwhm_rec)"
   ]
  },
  {
   "cell_type": "code",
   "execution_count": null,
   "id": "e5e8882a",
   "metadata": {},
   "outputs": [],
   "source": [
    "name_comp = [\"CMB\", \"Dust\"]\n",
    "STOKES = [\"I\", \"Q\", \"U\"]\n",
    "\n",
    "comp_maps_input[:, ~seenpix, :] = hp.UNSEEN\n",
    "comp_maps_rec[:, ~seenpix, :] = hp.UNSEEN\n",
    "comp_maps_res[:, ~seenpix, :] = hp.UNSEEN\n",
    "\n",
    "istk = 0\n",
    "n = 2\n",
    "sigma_input = np.std(comp_maps_input[:, seenpix, istk], axis=0)\n",
    "sigma_rec = np.std(comp_maps_rec[:, seenpix, istk], axis=0)\n",
    "sigma_res = np.std(comp_maps_rec[:, seenpix, istk] - comp_maps_input[:, seenpix, istk], axis=0)\n",
    "\n",
    "reso = 12\n",
    "\n",
    "k = 0\n",
    "\n",
    "plt.figure(figsize=(20, 10))\n",
    "for icomp in range(2):\n",
    "    hp.gnomview((comp_maps_input[icomp, :, istk]), rot=center,\n",
    "                        reso=reso,\n",
    "                        notext=True,\n",
    "                        title=f\"{name_comp[icomp]} {STOKES[istk]} input\",  \n",
    "                        cmap=\"jet\",\n",
    "                        # min = - n * sigma_input[icomp],\n",
    "                        # max = n * sigma_input[icomp],\n",
    "                        sub=(2, 3, k + 1))\n",
    "    \n",
    "    hp.gnomview((comp_maps_rec[icomp, :, istk]), rot=center,\n",
    "                        reso=reso,\n",
    "                        notext=True,\n",
    "                        title=f\"{name_comp[icomp]} {STOKES[istk]} Output\",  \n",
    "                        cmap=\"jet\",\n",
    "                        # min = - n * sigma_rec[icomp],\n",
    "                        # max = n * sigma_rec[icomp],\n",
    "                        sub=(2, 3, k + 2))\n",
    "    \n",
    "    hp.gnomview(comp_maps_res[icomp, :, istk], rot=center,\n",
    "                        reso=reso,\n",
    "                        notext=True,\n",
    "                        title=f\"{name_comp[icomp]} {STOKES[istk]} Residual\",  \n",
    "                        cmap=\"jet\",\n",
    "                        # min = - n * sigma_res[icomp],\n",
    "                        # max = n * sigma_res[icomp],\n",
    "                        sub=(2, 3, k + 3))\n",
    "    k += 3"
   ]
  },
  {
   "cell_type": "code",
   "execution_count": null,
   "id": "5e0693a7",
   "metadata": {},
   "outputs": [],
   "source": [
    "stop"
   ]
  },
  {
   "cell_type": "code",
   "execution_count": null,
   "id": "3a4e7685",
   "metadata": {},
   "outputs": [],
   "source": [
    "icomp = 0\n",
    "\n",
    "test_in = data[\"components\"][icomp].copy()\n",
    "test_out = data[\"components_i\"][icomp].copy()\n",
    "\n",
    "test_in[~seenpix, :] = 0\n",
    "test_out[~seenpix, :] = 0"
   ]
  },
  {
   "cell_type": "code",
   "execution_count": null,
   "id": "0e5fcc62",
   "metadata": {},
   "outputs": [],
   "source": [
    "def chi2_fwhm(fwhm):\n",
    "    if fwhm < 0 or fwhm > 0.1:\n",
    "        return np.inf\n",
    "    else:\n",
    "        C = HealpixConvolutionGaussianOperator(fwhm)\n",
    "        input_maps = C(test_in)\n",
    "            \n",
    "        return np.sum((test_out - input_maps) ** 2) / np.sum(input_maps ** 2)"
   ]
  },
  {
   "cell_type": "code",
   "execution_count": null,
   "id": "0c9e75f3",
   "metadata": {},
   "outputs": [],
   "source": [
    "list_chi2 = []\n",
    "\n",
    "fwhm = np.logspace(np.log10(0.0005), np.log10(0.05), num=80)\n",
    "for i in fwhm:\n",
    "    list_chi2.append(chi2_fwhm(i))\n",
    "\n",
    "list_chi2 = np.array(list_chi2)"
   ]
  },
  {
   "cell_type": "code",
   "execution_count": null,
   "id": "08472513",
   "metadata": {},
   "outputs": [],
   "source": [
    "plt.figure(figsize=(20, 10))\n",
    "plt.plot(fwhm, list_chi2)\n",
    "plt.vlines(fwhm[np.where(list_chi2 == np.min(list_chi2))[0][0]], 0, 2, color=\"red\", linestyle=\"--\", label=f\"Best fit : {fwhm[np.where(list_chi2 == np.min(list_chi2))[0][0]].round(4)}\")\n",
    "plt.vlines(fwhm_rec[icomp], 0, 2, color=\"green\", linestyle=\"--\", label=f\"FWHM rec : {fwhm_rec[icomp].round(4)}\")\n",
    "plt.title(\"Chi2 as a function of fwhm\")\n",
    "plt.xlabel(\"FWHM\")\n",
    "plt.ylabel(\"Chi2\")\n",
    "plt.grid()\n",
    "plt.legend()\n",
    "plt.show()"
   ]
  },
  {
   "cell_type": "code",
   "execution_count": null,
   "id": "ef301604",
   "metadata": {},
   "outputs": [],
   "source": []
  },
  {
   "cell_type": "code",
   "execution_count": null,
   "id": "9ac172ba",
   "metadata": {},
   "outputs": [],
   "source": []
  },
  {
   "cell_type": "code",
   "execution_count": null,
   "id": "a1e3efdd",
   "metadata": {},
   "outputs": [],
   "source": []
  }
 ],
 "metadata": {
  "kernelspec": {
   "display_name": "venv-qubic",
   "language": "python",
   "name": "python3"
  },
  "language_info": {
   "codemirror_mode": {
    "name": "ipython",
    "version": 3
   },
   "file_extension": ".py",
   "mimetype": "text/x-python",
   "name": "python",
   "nbconvert_exporter": "python",
   "pygments_lexer": "ipython3",
   "version": "3.9.18"
  }
 },
 "nbformat": 4,
 "nbformat_minor": 5
}
