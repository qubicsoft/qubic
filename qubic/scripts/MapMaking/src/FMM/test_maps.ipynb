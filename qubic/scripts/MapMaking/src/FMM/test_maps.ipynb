{
 "cells": [
  {
   "cell_type": "code",
   "execution_count": null,
   "id": "c8af4050",
   "metadata": {},
   "outputs": [],
   "source": [
    "import pickle\n",
    "\n",
    "import matplotlib.pyplot as plt\n",
    "import healpy as hp\n",
    "import numpy as np\n",
    "\n",
    "from pysimulators.interfaces.healpy import HealpixConvolutionGaussianOperator"
   ]
  },
  {
   "cell_type": "code",
   "execution_count": null,
   "id": "a7be26a6",
   "metadata": {},
   "outputs": [],
   "source": [
    "data = pickle.load(open(\"/home/laclavere/Documents/Thesis/qubic/qubic/scripts/MapMaking/src/FMM/test_DB_nsub_planck=1/maps/test_None.pkl\", \"rb\"))"
   ]
  },
  {
   "cell_type": "code",
   "execution_count": null,
   "id": "be127be6",
   "metadata": {},
   "outputs": [],
   "source": [
    "data.keys()"
   ]
  },
  {
   "cell_type": "code",
   "execution_count": null,
   "id": "1383c73a",
   "metadata": {},
   "outputs": [],
   "source": [
    "fwhm_in = data[\"fwhm_in\"]\n",
    "fwhm_out = data[\"fwhm_out\"]\n",
    "fwhm_rec = data[\"fwhm_rec\"]\n",
    "\n",
    "nus = data[\"nus\"]\n",
    "Nrec = nus.shape[0] - 7\n",
    "\n",
    "maps_input = data[\"maps_in\"]\n",
    "maps_rec = data[\"maps\"][:Nrec] #np.array([C[i](data[\"components_i\"][i]) for i in range(len(C))])\n",
    "maps_res = maps_input - maps_rec\n",
    "center = data[\"center\"]\n",
    "seenpix = data[\"seenpix\"]\n",
    "convergence = data[\"convergence\"]"
   ]
  },
  {
   "cell_type": "code",
   "execution_count": null,
   "id": "19cb3634",
   "metadata": {},
   "outputs": [],
   "source": [
    "print(Nrec)\n",
    "print(nus.shape)\n",
    "print(maps_input.shape)"
   ]
  },
  {
   "cell_type": "code",
   "execution_count": null,
   "id": "f48e72a1",
   "metadata": {},
   "outputs": [],
   "source": [
    "print(\"FWHM in: \", fwhm_in)\n",
    "print(\"mean fwhm in: \", np.mean(fwhm_in))\n",
    "print(\"FWHM out: \", fwhm_out)\n",
    "print(\"FWHM rec: \", fwhm_rec)"
   ]
  },
  {
   "cell_type": "code",
   "execution_count": null,
   "id": "d43e2c5f",
   "metadata": {},
   "outputs": [],
   "source": [
    "plt.plot(convergence)\n",
    "plt.xlabel(\"Iteration\")\n",
    "plt.ylabel(\"Convergence\")\n",
    "plt.title(\"PCG Convergence\")\n",
    "plt.yscale(\"log\")\n",
    "plt.ylim(1e-8, 1e0)\n",
    "plt.grid()\n",
    "plt.show()"
   ]
  },
  {
   "cell_type": "code",
   "execution_count": null,
   "id": "e5e8882a",
   "metadata": {},
   "outputs": [],
   "source": [
    "STOKES = [\"I\", \"Q\", \"U\"]\n",
    "\n",
    "# maps_input[:, ~seenpix, :] = hp.UNSEEN\n",
    "# maps_rec[:, ~seenpix, :] = hp.UNSEEN\n",
    "# maps_res[:, ~seenpix, :] = hp.UNSEEN\n",
    "\n",
    "istk = 1\n",
    "n = 2\n",
    "# sigma_input = np.std(maps_input[:, seenpix, istk], axis=0)\n",
    "# sigma_rec = np.std(maps_rec[:, seenpix, istk], axis=0)\n",
    "# sigma_res = np.std(maps_rec[:, seenpix, istk] - maps_input[:, seenpix, istk], axis=0)\n",
    "\n",
    "reso = 12\n",
    "\n",
    "k = 0\n",
    "\n",
    "plt.figure(figsize=(20, 10))\n",
    "for inu in range(Nrec):\n",
    "    hp.gnomview((maps_input[inu, :, istk]), rot=center,\n",
    "                        reso=reso,\n",
    "                        notext=True,\n",
    "                        title=f\"{nus[inu].round(2)} GHz - {STOKES[istk]} input\",  \n",
    "                        cmap=\"jet\",\n",
    "                        # min = - n * sigma_input[inu],\n",
    "                        # max = n * sigma_input[inu],\n",
    "                        sub=(Nrec, 3, k + 1))\n",
    "    \n",
    "    hp.gnomview((maps_rec[inu, :, istk]), rot=center,\n",
    "                        reso=reso,\n",
    "                        notext=True,\n",
    "                        title=f\"{nus[inu].round(2)} GHz - {STOKES[istk]} Output\",\n",
    "                        cmap=\"jet\",\n",
    "                        # min = - n * sigma_rec[inu],\n",
    "                        # max = n * sigma_rec[inu],\n",
    "                        sub=(Nrec, 3, k + 2))\n",
    "    \n",
    "    hp.gnomview(maps_res[inu, :, istk], rot=center,\n",
    "                        reso=reso,\n",
    "                        notext=True,\n",
    "                        title=f\"{nus[inu].round(2)} GHz - {STOKES[istk]} Residual\",\n",
    "                        cmap=\"jet\",\n",
    "                        # min = - n * sigma_res[inu],\n",
    "                        # max = n * sigma_res[inu],\n",
    "                        sub=(Nrec, 3, k + 3))\n",
    "    k += 3"
   ]
  },
  {
   "cell_type": "code",
   "execution_count": null,
   "id": "5e0693a7",
   "metadata": {},
   "outputs": [],
   "source": [
    "stop"
   ]
  },
  {
   "cell_type": "code",
   "execution_count": null,
   "id": "3a4e7685",
   "metadata": {},
   "outputs": [],
   "source": [
    "icomp = 0\n",
    "\n",
    "test_in = data[\"components\"][icomp].copy()\n",
    "test_out = data[\"components_i\"][icomp].copy()\n",
    "\n",
    "test_in[~seenpix, :] = 0\n",
    "test_out[~seenpix, :] = 0"
   ]
  },
  {
   "cell_type": "code",
   "execution_count": null,
   "id": "0e5fcc62",
   "metadata": {},
   "outputs": [],
   "source": [
    "def chi2_fwhm(fwhm):\n",
    "    if fwhm < 0 or fwhm > 0.1:\n",
    "        return np.inf\n",
    "    else:\n",
    "        C = HealpixConvolutionGaussianOperator(fwhm)\n",
    "        input_maps = C(test_in)\n",
    "            \n",
    "        return np.sum((test_out - input_maps) ** 2) / np.sum(input_maps ** 2)"
   ]
  },
  {
   "cell_type": "code",
   "execution_count": null,
   "id": "0c9e75f3",
   "metadata": {},
   "outputs": [],
   "source": [
    "list_chi2 = []\n",
    "\n",
    "fwhm = np.logspace(np.log10(0.0005), np.log10(0.05), num=80)\n",
    "for i in fwhm:\n",
    "    list_chi2.append(chi2_fwhm(i))\n",
    "\n",
    "list_chi2 = np.array(list_chi2)"
   ]
  },
  {
   "cell_type": "code",
   "execution_count": null,
   "id": "08472513",
   "metadata": {},
   "outputs": [],
   "source": [
    "plt.figure(figsize=(20, 10))\n",
    "plt.plot(fwhm, list_chi2)\n",
    "plt.vlines(fwhm[np.where(list_chi2 == np.min(list_chi2))[0][0]], 0, 2, color=\"red\", linestyle=\"--\", label=f\"Best fit : {fwhm[np.where(list_chi2 == np.min(list_chi2))[0][0]].round(4)}\")\n",
    "plt.vlines(fwhm_rec[icomp], 0, 2, color=\"green\", linestyle=\"--\", label=f\"FWHM rec : {fwhm_rec[icomp].round(4)}\")\n",
    "plt.title(\"Chi2 as a function of fwhm\")\n",
    "plt.xlabel(\"FWHM\")\n",
    "plt.ylabel(\"Chi2\")\n",
    "plt.grid()\n",
    "plt.legend()\n",
    "plt.show()"
   ]
  },
  {
   "cell_type": "code",
   "execution_count": null,
   "id": "ef301604",
   "metadata": {},
   "outputs": [],
   "source": []
  },
  {
   "cell_type": "code",
   "execution_count": null,
   "id": "9ac172ba",
   "metadata": {},
   "outputs": [],
   "source": []
  },
  {
   "cell_type": "code",
   "execution_count": null,
   "id": "a1e3efdd",
   "metadata": {},
   "outputs": [],
   "source": []
  },
  {
   "cell_type": "markdown",
   "id": "7c74ca2a",
   "metadata": {},
   "source": [
    "DB"
   ]
  },
  {
   "cell_type": "markdown",
   "id": "dc4a40ec",
   "metadata": {},
   "source": [
    "[BlockColumnOperator([\n",
    "    CompositionOperator([\n",
    "        ReshapeOperator((2,992,1000), 1984000, None),\n",
    "        BlockDiagonalOperator([\n",
    "            AdditionOperator([\n",
    "                CompositionOperator([\n",
    "                    ConvolutionTruncatedExponentialOperator(0.01, None, shapein=(992,1000), shapeout=(992,1000)),\n",
    "                    DiagonalOperator(array([0.00032073412942351155, ..., 0.00032073412942351155], dtype=float64), broadcast='rightward', None),\n",
    "                    ReshapeOperator((992,1000,1), (992,1000), None),\n",
    "                    DenseBlockDiagonalOperator(array([[[[1.3369798843648294e-20, ..., 1.637328135911787e-36]]]], dtype=float64), naxesin=1, naxesout=1, None, shapein=(992,1000,3), shapeout=(992,1000,1)),\n",
    "                    ProjectionOperator(None, None, shapein=(196608,3), shapeout=(992,1000,3))]),\n",
    "                CompositionOperator([\n",
    "                    ConvolutionTruncatedExponentialOperator(0.01, None, shapein=(992,1000), shapeout=(992,1000)),\n",
    "                    DiagonalOperator(array([0.0003088551824867947, ..., 0.0003088551824867947], dtype=float64), broadcast='rightward', None),\n",
    "                    ReshapeOperator((992,1000,1), (992,1000), None),\n",
    "                    DenseBlockDiagonalOperator(array([[[[1.523479673700379e-20, ..., 1.8657245059632232e-36]]]], dtype=float64), naxesin=1, naxesout=1, None, shapein=(992,1000,3), shapeout=(992,1000,1)),\n",
    "                    ProjectionOperator(None, None, shapein=(196608,3), shapeout=(992,1000,3))]),\n",
    "                CompositionOperator([\n",
    "                    ConvolutionTruncatedExponentialOperator(0.01, None, shapein=(992,1000), shapeout=(992,1000)),\n",
    "                    DiagonalOperator(array([0.00029098003796839035, ..., 0.00029098003796839035], dtype=float64), broadcast='rightward', None),\n",
    "                    ReshapeOperator((992,1000,1), (992,1000), None),\n",
    "                    DenseBlockDiagonalOperator(array([[[[1.723854730428402e-20, ..., 2.111113177814166e-36]]]], dtype=float64), naxesin=1, naxesout=1, None, shapein=(992,1000,3), shapeout=(992,1000,1)),\n",
    "                    ProjectionOperator(None, None, shapein=(196608,3), shapeout=(992,1000,3))]),\n",
    "                CompositionOperator([\n",
    "                    ConvolutionTruncatedExponentialOperator(0.01, None, shapein=(992,1000), shapeout=(992,1000)),\n",
    "                    DiagonalOperator(array([0.00026742247781682567, ..., 0.00026742247781682567], dtype=float64), broadcast='rightward', None),\n",
    "                    ReshapeOperator((992,1000,1), (992,1000), None),\n",
    "                    DenseBlockDiagonalOperator(array([[[[1.9354680197333515e-20, ..., 2.3702647152185153e-36]]]], dtype=float64), naxesin=1, naxesout=1, None, shapein=(992,1000,3), shapeout=(992,1000,1)),\n",
    "                    ProjectionOperator(None, None, shapein=(196608,3), shapeout=(992,1000,3))])]),\n",
    "            AdditionOperator([\n",
    "                CompositionOperator([\n",
    "                    ConvolutionTruncatedExponentialOperator(0.01, None, shapein=(992,1000), shapeout=(992,1000)),\n",
    "                    DiagonalOperator(array([0.0003256755373312783, ..., 0.0003256755373312783], dtype=float64), broadcast='rightward', None),\n",
    "                    ReshapeOperator((992,1000,1), (992,1000), None),\n",
    "                    DenseBlockDiagonalOperator(array([[[[5.220424377585131e-20, ..., 6.393176004200445e-36]]]], dtype=float64), naxesin=1, naxesout=1, None, shapein=(992,1000,3), shapeout=(992,1000,1)),\n",
    "                    ProjectionOperator(None, None, shapein=(196608,3), shapeout=(992,1000,3))]),\n",
    "                CompositionOperator([\n",
    "                    ConvolutionTruncatedExponentialOperator(0.01, None, shapein=(992,1000), shapeout=(992,1000)),\n",
    "                    DiagonalOperator(array([0.00031816117605010404, ..., 0.00031816117605010404], dtype=float64), broadcast='rightward', None),\n",
    "                    ReshapeOperator((992,1000,1), (992,1000), None),\n",
    "                    DenseBlockDiagonalOperator(array([[[[5.624800896322368e-20, ..., 6.888394413522351e-36]]]], dtype=float64), naxesin=1, naxesout=1, None, shapein=(992,1000,3), shapeout=(992,1000,1)),\n",
    "                    ProjectionOperator(None, None, shapein=(196608,3), shapeout=(992,1000,3))]),\n",
    "                CompositionOperator([\n",
    "                    ConvolutionTruncatedExponentialOperator(0.01, None, shapein=(992,1000), shapeout=(992,1000)),\n",
    "                    DiagonalOperator(array([0.00030468071051658723, ..., 0.00030468071051658723], dtype=float64), broadcast='rightward', None),\n",
    "                    ReshapeOperator((992,1000,1), (992,1000), None),\n",
    "                    DenseBlockDiagonalOperator(array([[[[5.984199008693123e-20, ..., 7.328530161456797e-36]]]], dtype=float64), naxesin=1, naxesout=1, None, shapein=(992,1000,3), shapeout=(992,1000,1)),\n",
    "                    ProjectionOperator(None, None, shapein=(196608,3), shapeout=(992,1000,3))]),\n",
    "                CompositionOperator([\n",
    "                    ConvolutionTruncatedExponentialOperator(0.01, None, shapein=(992,1000), shapeout=(992,1000)),\n",
    "                    DiagonalOperator(array([0.00028524522232625555, ..., 0.00028524522232625555], dtype=float64), broadcast='rightward', None),\n",
    "                    ReshapeOperator((992,1000,1), (992,1000), None),\n",
    "                    DenseBlockDiagonalOperator(array([[[[6.2791104131497e-20, ..., 7.689692468956596e-36]]]], dtype=float64), naxesin=1, naxesout=1, None, shapein=(992,1000,3), shapeout=(992,1000,1)),\n",
    "                    ProjectionOperator(None, None, shapein=(196608,3), shapeout=(992,1000,3))])])])]),\n",
    "    CompositionOperator([\n",
    "        ReshapeOperator((2,589824), 1179648, None),\n",
    "        BlockDiagonalOperator([\n",
    "            ReshapeOperator((196608,3), 589824, None),\n",
    "            ReshapeOperator((196608,3), 589824, None)])])]), UnpackOperator(array([[[False, ..., False]]], dtype=bool), None, shapein=39636, shapeout=(2,196608,3)), ReshapeOperator((2,6606,3), 39636, None)]\n"
   ]
  },
  {
   "cell_type": "markdown",
   "id": "0a573f25",
   "metadata": {},
   "source": [
    "UWB"
   ]
  },
  {
   "cell_type": "markdown",
   "id": "3aac3d76",
   "metadata": {},
   "source": [
    "[BlockColumnOperator([\n",
    "    CompositionOperator([\n",
    "        ReshapeOperator((992,1000), 992000, None),\n",
    "        BlockRowOperator([\n",
    "            AdditionOperator([\n",
    "                CompositionOperator([\n",
    "                    ConvolutionTruncatedExponentialOperator(0.01, None, shapein=(992,1000), shapeout=(992,1000)),\n",
    "                    DiagonalOperator(array([0.00032073412942351155, ..., 0.00032073412942351155], dtype=float64), broadcast='rightward', None),\n",
    "                    ReshapeOperator((992,1000,1), (992,1000), None),\n",
    "                    DenseBlockDiagonalOperator(array([[[[1.3369798843648294e-20, ..., 1.637328135911787e-36]]]], dtype=float64), naxesin=1, naxesout=1, None, shapein=(992,1000,3), shapeout=(992,1000,1)),\n",
    "                    ProjectionOperator(None, None, shapein=(196608,3), shapeout=(992,1000,3))]),\n",
    "                CompositionOperator([\n",
    "                    ConvolutionTruncatedExponentialOperator(0.01, None, shapein=(992,1000), shapeout=(992,1000)),\n",
    "                    DiagonalOperator(array([0.0003088551824867947, ..., 0.0003088551824867947], dtype=float64), broadcast='rightward', None),\n",
    "                    ReshapeOperator((992,1000,1), (992,1000), None),\n",
    "                    DenseBlockDiagonalOperator(array([[[[1.523479673700379e-20, ..., 1.8657245059632232e-36]]]], dtype=float64), naxesin=1, naxesout=1, None, shapein=(992,1000,3), shapeout=(992,1000,1)),\n",
    "                    ProjectionOperator(None, None, shapein=(196608,3), shapeout=(992,1000,3))]),\n",
    "                CompositionOperator([\n",
    "                    ConvolutionTruncatedExponentialOperator(0.01, None, shapein=(992,1000), shapeout=(992,1000)),\n",
    "                    DiagonalOperator(array([0.00029098003796839035, ..., 0.00029098003796839035], dtype=float64), broadcast='rightward', None),\n",
    "                    ReshapeOperator((992,1000,1), (992,1000), None),\n",
    "                    DenseBlockDiagonalOperator(array([[[[1.723854730428402e-20, ..., 2.111113177814166e-36]]]], dtype=float64), naxesin=1, naxesout=1, None, shapein=(992,1000,3), shapeout=(992,1000,1)),\n",
    "                    ProjectionOperator(None, None, shapein=(196608,3), shapeout=(992,1000,3))]),\n",
    "                CompositionOperator([\n",
    "                    ConvolutionTruncatedExponentialOperator(0.01, None, shapein=(992,1000), shapeout=(992,1000)),\n",
    "                    DiagonalOperator(array([0.00026742247781682567, ..., 0.00026742247781682567], dtype=float64), broadcast='rightward', None),\n",
    "                    ReshapeOperator((992,1000,1), (992,1000), None),\n",
    "                    DenseBlockDiagonalOperator(array([[[[1.9354680197333515e-20, ..., 2.3702647152185153e-36]]]], dtype=float64), naxesin=1, naxesout=1, None, shapein=(992,1000,3), shapeout=(992,1000,1)),\n",
    "                    ProjectionOperator(None, None, shapein=(196608,3), shapeout=(992,1000,3))])]),\n",
    "            AdditionOperator([\n",
    "                CompositionOperator([\n",
    "                    ConvolutionTruncatedExponentialOperator(0.01, None, shapein=(992,1000), shapeout=(992,1000)),\n",
    "                    DiagonalOperator(array([0.0003256755373312783, ..., 0.0003256755373312783], dtype=float64), broadcast='rightward', None),\n",
    "                    ReshapeOperator((992,1000,1), (992,1000), None),\n",
    "                    DenseBlockDiagonalOperator(array([[[[5.220424377585131e-20, ..., 6.393176004200445e-36]]]], dtype=float64), naxesin=1, naxesout=1, None, shapein=(992,1000,3), shapeout=(992,1000,1)),\n",
    "                    ProjectionOperator(None, None, shapein=(196608,3), shapeout=(992,1000,3))]),\n",
    "                CompositionOperator([\n",
    "                    ConvolutionTruncatedExponentialOperator(0.01, None, shapein=(992,1000), shapeout=(992,1000)),\n",
    "                    DiagonalOperator(array([0.00031816117605010404, ..., 0.00031816117605010404], dtype=float64), broadcast='rightward', None),\n",
    "                    ReshapeOperator((992,1000,1), (992,1000), None),\n",
    "                    DenseBlockDiagonalOperator(array([[[[5.624800896322368e-20, ..., 6.888394413522351e-36]]]], dtype=float64), naxesin=1, naxesout=1, None, shapein=(992,1000,3), shapeout=(992,1000,1)),\n",
    "                    ProjectionOperator(None, None, shapein=(196608,3), shapeout=(992,1000,3))]),\n",
    "                CompositionOperator([\n",
    "                    ConvolutionTruncatedExponentialOperator(0.01, None, shapein=(992,1000), shapeout=(992,1000)),\n",
    "                    DiagonalOperator(array([0.00030468071051658723, ..., 0.00030468071051658723], dtype=float64), broadcast='rightward', None),\n",
    "                    ReshapeOperator((992,1000,1), (992,1000), None),\n",
    "                    DenseBlockDiagonalOperator(array([[[[5.984199008693123e-20, ..., 7.328530161456797e-36]]]], dtype=float64), naxesin=1, naxesout=1, None, shapein=(992,1000,3), shapeout=(992,1000,1)),\n",
    "                    ProjectionOperator(None, None, shapein=(196608,3), shapeout=(992,1000,3))]),\n",
    "                CompositionOperator([\n",
    "                    ConvolutionTruncatedExponentialOperator(0.01, None, shapein=(992,1000), shapeout=(992,1000)),\n",
    "                    DiagonalOperator(array([0.00028524522232625555, ..., 0.00028524522232625555], dtype=float64), broadcast='rightward', None),\n",
    "                    ReshapeOperator((992,1000,1), (992,1000), None),\n",
    "                    DenseBlockDiagonalOperator(array([[[[6.2791104131497e-20, ..., 7.689692468956596e-36]]]], dtype=float64), naxesin=1, naxesout=1, None, shapein=(992,1000,3), shapeout=(992,1000,1)),\n",
    "                    ProjectionOperator(None, None, shapein=(196608,3), shapeout=(992,1000,3))])])])]),\n",
    "    CompositionOperator([\n",
    "        ReshapeOperator((2,589824), 1179648, None),\n",
    "        BlockDiagonalOperator([\n",
    "            ReshapeOperator((196608,3), 589824, None),\n",
    "            ReshapeOperator((196608,3), 589824, None)])])]), UnpackOperator(array([[[False, ..., False]]], dtype=bool), None, shapein=39636, shapeout=(2,196608,3)), ReshapeOperator((2,6606,3), 39636, None)]\n"
   ]
  }
 ],
 "metadata": {
  "kernelspec": {
   "display_name": "venv-qubic",
   "language": "python",
   "name": "python3"
  },
  "language_info": {
   "codemirror_mode": {
    "name": "ipython",
    "version": 3
   },
   "file_extension": ".py",
   "mimetype": "text/x-python",
   "name": "python",
   "nbconvert_exporter": "python",
   "pygments_lexer": "ipython3",
   "version": "3.9.18"
  }
 },
 "nbformat": 4,
 "nbformat_minor": 5
}
