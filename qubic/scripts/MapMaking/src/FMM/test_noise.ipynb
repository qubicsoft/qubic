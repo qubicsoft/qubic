{
 "cells": [
  {
   "cell_type": "code",
   "execution_count": null,
   "metadata": {},
   "outputs": [],
   "source": [
    "import numpy as np\n",
    "import healpy as hp\n",
    "import matplotlib.pyplot as plt\n",
    "\n",
    "import pickle\n",
    "\n",
    "from qubic.lib.QskySim import get_angular_profile, get_noise_invcov_profile\n",
    "\n",
    "from pysimulators.interfaces.healpy import HealpixConvolutionGaussianOperator"
   ]
  },
  {
   "cell_type": "code",
   "execution_count": null,
   "metadata": {},
   "outputs": [],
   "source": [
    "pickle_file_w = pickle.load(open(\"test_edge_effect/maps/CMB_w_convo_w_Planck_noiseless_test_None.pkl\", \"rb\"))\n",
    "pickle_file_wo = pickle.load(open(\"test_edge_effect/maps/CMB_w_convo_w_Planck_noiseless.pkl\", \"rb\"))"
   ]
  },
  {
   "cell_type": "code",
   "execution_count": null,
   "metadata": {},
   "outputs": [],
   "source": [
    "pickle_file_w['parameters']"
   ]
  },
  {
   "cell_type": "code",
   "execution_count": null,
   "metadata": {},
   "outputs": [],
   "source": [
    "hp.gnomview((pickle_file_w['maps_noise'] - (pickle_file_w[\"maps\"] - pickle_file_w['maps_in'][:1]))[0, :, 0], \n",
    "            rot=pickle_file_w['center'])"
   ]
  },
  {
   "cell_type": "code",
   "execution_count": null,
   "metadata": {},
   "outputs": [],
   "source": [
    "maps_in_w = pickle_file_w['maps_in']\n",
    "maps_rec_w = pickle_file_w['maps']\n",
    "residuals_w = pickle_file_w['maps_noise']\n",
    "\n",
    "maps_in_wo = pickle_file_wo['maps_in']\n",
    "maps_rec_wo = pickle_file_wo['maps']\n",
    "residuals_wo = pickle_file_wo['maps_noise']"
   ]
  },
  {
   "cell_type": "code",
   "execution_count": null,
   "metadata": {},
   "outputs": [],
   "source": [
    "print(pickle_file_w['fwhm_in'])\n",
    "print(pickle_file_w['fwhm_rec'])"
   ]
  },
  {
   "cell_type": "code",
   "execution_count": null,
   "metadata": {},
   "outputs": [],
   "source": [
    "# With convolutions\n",
    "plt.figure(figsize=(10, 12))\n",
    "k=1\n",
    "\n",
    "stk = ['I', 'Q', 'U']\n",
    "inu = 0\n",
    "istk = 0\n",
    "n_sig = 3\n",
    "reso = 15\n",
    "\n",
    "C = HealpixConvolutionGaussianOperator(pickle_file_w['fwhm_rec'][inu]*0)\n",
    "sigma = np.std(C*maps_in_w[inu, :, istk])\n",
    "\n",
    "hp.gnomview(C*maps_in_w[inu, :, istk], cmap='jet', rot=pickle_file_w['center'], reso=reso, sub=(1, 3, k), title=f'{stk[istk]} - Input', notext=True)\n",
    "hp.gnomview(maps_rec_w[inu, :, istk], cmap='jet', rot=pickle_file_w['center'], reso=reso, sub=(1, 3, k+1), title=f'{stk[istk]} - Output', notext=True)\n",
    "hp.gnomview(maps_rec_w[inu, :, istk] - C*maps_in_w[inu, :, istk], cmap='jet', rot=pickle_file_w['center'], reso=reso, sub=(1, 3, k+2), title=f'{stk[istk]} - Residual', notext=True)\n",
    "k+=3"
   ]
  },
  {
   "cell_type": "code",
   "execution_count": null,
   "metadata": {},
   "outputs": [],
   "source": [
    "# Without convolutions\n",
    "plt.figure(figsize=(10, 12))\n",
    "k=1\n",
    "\n",
    "stk = ['I', 'Q', 'U']\n",
    "inu = 0\n",
    "istk = 0  \n",
    "n_sig = 3\n",
    "reso = 15\n",
    "\n",
    "C = HealpixConvolutionGaussianOperator(pickle_file_wo['fwhm_rec'][inu]*0)\n",
    "sigma = np.std(C*maps_in_wo[inu, :, istk])\n",
    "\n",
    "hp.gnomview(C*maps_in_wo[inu, :, istk], cmap='jet', rot=pickle_file_wo['center'], reso=reso, sub=(1, 3, k), title=f'{stk[istk]} - Input', notext=True)\n",
    "hp.gnomview(maps_rec_wo[inu, :, istk], cmap='jet', rot=pickle_file_wo['center'], reso=reso, sub=(1, 3, k+1), title=f'{stk[istk]} - Output', notext=True)\n",
    "hp.gnomview(maps_rec_wo[inu, :, istk] - C*maps_in_wo[inu, :, istk], cmap='jet', rot=pickle_file_wo['center'], reso=reso, sub=(1, 3, k+2), title=f'{stk[istk]} - Residual', notext=True)\n",
    "k+=3"
   ]
  },
  {
   "cell_type": "code",
   "execution_count": null,
   "metadata": {},
   "outputs": [],
   "source": [
    "tod_w = pickle_file_w['tod']\n",
    "tod_wo = pickle_file_wo['tod']"
   ]
  },
  {
   "cell_type": "code",
   "execution_count": null,
   "metadata": {},
   "outputs": [],
   "source": [
    "convergence_w = pickle_file_w['convergence']\n",
    "convergenc_wo = pickle_file_wo['convergence']\n",
    "plt.plot(convergence_w, label='With Convolution')\n",
    "plt.plot(convergenc_wo, label='Without Convolution')\n",
    "plt.xlabel('iterations')\n",
    "plt.ylabel('normalized residual')\n",
    "plt.title('Convergence of the PCG algorithm')\n",
    "plt.yscale('log')\n",
    "plt.legend()\n",
    "plt.show()"
   ]
  },
  {
   "cell_type": "code",
   "execution_count": null,
   "metadata": {},
   "outputs": [],
   "source": [
    "plt.plot(tod_w, label='With Convolution', alpha=0.5)\n",
    "plt.plot(tod_wo, label='Without Convolution', alpha=0.5)\n",
    "plt.title('TOD')\n",
    "plt.legend()"
   ]
  },
  {
   "cell_type": "code",
   "execution_count": null,
   "metadata": {},
   "outputs": [],
   "source": [
    "coverage_w = pickle_file_w[\"coverage\"]\n",
    "test_w = np.ones((coverage_w.size, 3)) * coverage_w[:, None]\n",
    "get_angular_profile(test_w, doplot=True, nbins=100, label=\"with convolution\")\n",
    "\n",
    "coverage_wo = pickle_file_wo[\"coverage\"]\n",
    "test_wo = np.ones((coverage_wo.size, 3)) * coverage_wo[:, None]\n",
    "get_angular_profile(test_wo, doplot=True, nbins=100, label=\"without convolution\")"
   ]
  },
  {
   "cell_type": "code",
   "execution_count": null,
   "metadata": {},
   "outputs": [],
   "source": [
    "get_angular_profile(residuals_w[0], doplot=True, allstokes=True, nbins=80, thmax=20, label=\"With convolution\")\n",
    "plt.figure()\n",
    "get_angular_profile(residuals_wo[0], doplot=True, allstokes=True, nbins=80, thmax=20, label=\"Without convolution\")\n",
    "plt.xlim(0, 2.5)\n",
    "plt.ylim(0, 0.001)"
   ]
  },
  {
   "cell_type": "code",
   "execution_count": null,
   "metadata": {},
   "outputs": [],
   "source": [
    "get_noise_invcov_profile(residuals_w[0], coverage_w, doplot=True, allstokes=True, label=\"With Convolution\")\n",
    "plt.figure()\n",
    "get_noise_invcov_profile(residuals_wo[0], coverage_wo, doplot=True, allstokes=True, label=\"Without Convolution\")"
   ]
  },
  {
   "cell_type": "code",
   "execution_count": null,
   "metadata": {},
   "outputs": [],
   "source": []
  },
  {
   "cell_type": "code",
   "execution_count": null,
   "metadata": {},
   "outputs": [],
   "source": []
  },
  {
   "cell_type": "code",
   "execution_count": null,
   "metadata": {},
   "outputs": [],
   "source": []
  },
  {
   "cell_type": "code",
   "execution_count": null,
   "metadata": {},
   "outputs": [],
   "source": []
  },
  {
   "cell_type": "code",
   "execution_count": null,
   "metadata": {},
   "outputs": [],
   "source": []
  },
  {
   "cell_type": "code",
   "execution_count": null,
   "metadata": {},
   "outputs": [],
   "source": []
  },
  {
   "cell_type": "code",
   "execution_count": null,
   "metadata": {},
   "outputs": [],
   "source": []
  },
  {
   "cell_type": "code",
   "execution_count": null,
   "metadata": {},
   "outputs": [],
   "source": []
  },
  {
   "cell_type": "code",
   "execution_count": null,
   "metadata": {},
   "outputs": [],
   "source": []
  }
 ],
 "metadata": {
  "kernelspec": {
   "display_name": "venv-qubic",
   "language": "python",
   "name": "python3"
  },
  "language_info": {
   "codemirror_mode": {
    "name": "ipython",
    "version": 3
   },
   "file_extension": ".py",
   "mimetype": "text/x-python",
   "name": "python",
   "nbconvert_exporter": "python",
   "pygments_lexer": "ipython3",
   "version": "3.9.18"
  }
 },
 "nbformat": 4,
 "nbformat_minor": 2
}
