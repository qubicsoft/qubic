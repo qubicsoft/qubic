{
 "cells": [
  {
   "cell_type": "code",
   "execution_count": null,
   "metadata": {},
   "outputs": [],
   "source": [
    "import numpy as np\n",
    "import healpy as hp\n",
    "import matplotlib.pyplot as plt\n",
    "\n",
    "import pickle\n",
    "\n",
    "from qubic.lib.QskySim import get_angular_profile, get_noise_invcov_profile\n",
    "\n",
    "from pysimulators.interfaces.healpy import HealpixConvolutionGaussianOperator"
   ]
  },
  {
   "cell_type": "code",
   "execution_count": null,
   "metadata": {},
   "outputs": [],
   "source": [
    "w_convo_1, w_planck_1 = \"wo\", \"wo\"\n",
    "w_convo_2, w_planck_2 = \"wo\", \"w\"\n",
    "\n",
    "pickle_file_1 = pickle.load(open(f\"test_edge_effect/maps/CMB_dust_{w_convo_1}_convo_{w_planck_1}_Planck_noiseless.pkl\", \"rb\"))\n",
    "pickle_file_2 = pickle.load(open(f\"test_edge_effect/maps/CMB_dust_{w_convo_2}_convo_{w_planck_2}_Planck_noiseless.pkl\", \"rb\"))"
   ]
  },
  {
   "cell_type": "code",
   "execution_count": null,
   "metadata": {},
   "outputs": [],
   "source": [
    "convergence_1 = pickle_file_1['convergence']\n",
    "convergenc_2 = pickle_file_2['convergence']\n",
    "plt.plot(convergence_1, label=f'{w_convo_1} Convolution - {w_planck_1} Planck - wo precond')\n",
    "plt.plot(convergenc_2, label=f'{w_convo_2} Convolution - {w_planck_2} Planck - w precond')\n",
    "plt.xlabel('iterations')\n",
    "plt.ylabel('normalized residual')\n",
    "plt.title('Convergence of the PCG algorithm')\n",
    "plt.yscale('log')\n",
    "plt.legend()\n",
    "plt.show()"
   ]
  },
  {
   "cell_type": "code",
   "execution_count": null,
   "metadata": {},
   "outputs": [],
   "source": [
    "maps_in_1 = pickle_file_1['maps_in']\n",
    "maps_rec_1 = pickle_file_1['maps']\n",
    "residuals_1 = pickle_file_1['maps_noise']\n",
    "\n",
    "maps_in_2 = pickle_file_2['maps_in']\n",
    "maps_rec_2 = pickle_file_2['maps']\n",
    "residuals_2 = pickle_file_2['maps_noise']"
   ]
  },
  {
   "cell_type": "code",
   "execution_count": null,
   "metadata": {},
   "outputs": [],
   "source": [
    "print(f\"{w_convo_1} Convolutions - {w_planck_1} Planck\")\n",
    "plt.figure(figsize=(10, 12))\n",
    "k=1\n",
    "\n",
    "stk = ['I', 'Q', 'U']\n",
    "inu = 1\n",
    "istk = 1\n",
    "n_sig = 3\n",
    "reso = 30\n",
    "min = -8\n",
    "max = 8\n",
    "\n",
    "hp.gnomview(maps_in_1[inu, :, istk], cmap='jet', rot=pickle_file_1['center'], min=min, max=max, reso=reso, sub=(1, 3, k), title=f'{stk[istk]} - Input', notext=True)\n",
    "hp.gnomview(maps_rec_1[inu, :, istk], cmap='jet', rot=pickle_file_1['center'], min=min, max=max, reso=reso, sub=(1, 3, k+1), title=f'{stk[istk]} - Output', notext=True)\n",
    "hp.gnomview(maps_rec_1[inu, :, istk] - maps_in_1[inu, :, istk], cmap='jet', rot=pickle_file_1['center'], min=min/2, max=max/2, reso=reso, sub=(1, 3, k+2), title=f'{stk[istk]} - Residual', notext=True)\n",
    "k+=3\n",
    "\n",
    "plt.figure()\n",
    "plt.plot(hp.anafast(maps_in_1[1, :, 0]), label=\"Input\")\n",
    "plt.plot(hp.anafast(maps_rec_1[1, :, 0]), label=\"REconstructed\")\n",
    "plt.legend()\n",
    "plt.xlabel(\"l\")\n",
    "plt.ylabel(\"Cl\")\n",
    "plt.figure()\n",
    "plt.plot(hp.anafast(maps_in_1[1, :, 0] - maps_rec_1[1, :, 0]), label=\"Residual\")\n",
    "plt.legend()\n",
    "plt.xlabel(\"l\")\n",
    "plt.ylabel(\"Cl\")"
   ]
  },
  {
   "cell_type": "code",
   "execution_count": null,
   "metadata": {},
   "outputs": [],
   "source": [
    "print(f\"{w_convo_2} Convolutions - {w_planck_2} Planck\")\n",
    "plt.figure(figsize=(10, 12))\n",
    "k=1\n",
    "\n",
    "stk = ['I', 'Q', 'U']\n",
    "inu = 1\n",
    "istk = 1\n",
    "n_sig = 3\n",
    "reso = 30\n",
    "min = -8\n",
    "max = 8\n",
    "\n",
    "hp.gnomview(maps_in_2[inu, :, istk], cmap='jet', rot=pickle_file_2['center'], min=min, max=max, reso=reso, sub=(1, 3, k), title=f'{stk[istk]} - Input', notext=True)\n",
    "hp.gnomview(maps_rec_2[inu, :, istk], cmap='jet', rot=pickle_file_2['center'], min=min, max=max, reso=reso, sub=(1, 3, k+1), title=f'{stk[istk]} - Output', notext=True)\n",
    "hp.gnomview(maps_rec_2[inu, :, istk] - maps_in_2[inu, :, istk], cmap='jet', rot=pickle_file_2['center'], min=min/2, max=max/2, reso=reso, sub=(1, 3, k+2), title=f'{stk[istk]} - Residual', notext=True)\n",
    "k+=3\n",
    "\n",
    "plt.figure()\n",
    "plt.plot(hp.anafast(maps_in_2[1, :, 0]), label=\"Input\")\n",
    "plt.plot(hp.anafast(maps_rec_2[1, :, 0]), label=\"REconstructed\")\n",
    "plt.legend()\n",
    "plt.xlabel(\"l\")\n",
    "plt.ylabel(\"Cl\")\n",
    "plt.figure()\n",
    "plt.plot(hp.anafast(maps_in_2[1, :, 0] - maps_rec_2[1, :, 0]), label=\"Residual\")\n",
    "plt.legend()\n",
    "plt.xlabel(\"l\")\n",
    "plt.ylabel(\"Cl\")"
   ]
  },
  {
   "cell_type": "code",
   "execution_count": null,
   "metadata": {},
   "outputs": [],
   "source": [
    "# tod_1 = pickle_file_1['tod']\n",
    "# tod_2 = pickle_file_2['tod']\n",
    "\n",
    "# plt.plot(tod_1, label=f'{w_convo_1} Convolution - {w_planck_1} Planck - ', alpha=0.5)\n",
    "# plt.plot(tod_2, label=f'{w_convo_2} Convolution - {w_planck_2} Planck - ', alpha=0.5)\n",
    "# plt.title('TOD')\n",
    "# plt.legend()"
   ]
  },
  {
   "cell_type": "code",
   "execution_count": null,
   "metadata": {},
   "outputs": [],
   "source": [
    "coverage_1 = pickle_file_1[\"coverage\"]\n",
    "test_1 = np.ones((coverage_1.size, 3)) * coverage_1[:, None]\n",
    "get_angular_profile(test_1, doplot=True, nbins=100, label=f'{w_convo_1} Convolution - {w_planck_1} Planck - ')\n",
    "\n",
    "coverage_2 = pickle_file_2[\"coverage\"]\n",
    "test_2 = np.ones((coverage_2.size, 3)) * coverage_2[:, None]\n",
    "get_angular_profile(test_2, doplot=True, nbins=100, label=f'{w_convo_2} Convolution - {w_planck_2} Planck - ')"
   ]
  },
  {
   "cell_type": "markdown",
   "metadata": {},
   "source": []
  },
  {
   "cell_type": "code",
   "execution_count": null,
   "metadata": {},
   "outputs": [],
   "source": [
    "get_angular_profile(residuals_1[0], doplot=True, allstokes=True, nbins=80, thmax=20, label=f'{w_convo_1} Convolution - {w_planck_1} Planck - ')\n",
    "get_angular_profile(residuals_2[0], doplot=True, allstokes=True, nbins=80, thmax=20, label=f'{w_convo_2} Convolution - {w_planck_2} Planck - ')"
   ]
  },
  {
   "cell_type": "code",
   "execution_count": null,
   "metadata": {},
   "outputs": [],
   "source": [
    "get_noise_invcov_profile(residuals_1[0], coverage_1, doplot=True, allstokes=True, label=f'{w_convo_1} Convolution - {w_planck_1} Planck - ')\n",
    "get_noise_invcov_profile(residuals_2[0], coverage_2, doplot=True, allstokes=True, label=f'{w_convo_2} Convolution - {w_planck_2} Planck - ')"
   ]
  },
  {
   "cell_type": "code",
   "execution_count": null,
   "metadata": {},
   "outputs": [],
   "source": []
  },
  {
   "cell_type": "code",
   "execution_count": null,
   "metadata": {},
   "outputs": [],
   "source": []
  },
  {
   "cell_type": "code",
   "execution_count": null,
   "metadata": {},
   "outputs": [],
   "source": []
  },
  {
   "cell_type": "code",
   "execution_count": null,
   "metadata": {},
   "outputs": [],
   "source": []
  },
  {
   "cell_type": "code",
   "execution_count": null,
   "metadata": {},
   "outputs": [],
   "source": []
  },
  {
   "cell_type": "code",
   "execution_count": null,
   "metadata": {},
   "outputs": [],
   "source": []
  },
  {
   "cell_type": "code",
   "execution_count": null,
   "metadata": {},
   "outputs": [],
   "source": []
  },
  {
   "cell_type": "code",
   "execution_count": null,
   "metadata": {},
   "outputs": [],
   "source": []
  },
  {
   "cell_type": "code",
   "execution_count": null,
   "metadata": {},
   "outputs": [],
   "source": []
  }
 ],
 "metadata": {
  "kernelspec": {
   "display_name": "MMQubic",
   "language": "python",
   "name": "python3"
  },
  "language_info": {
   "codemirror_mode": {
    "name": "ipython",
    "version": 3
   },
   "file_extension": ".py",
   "mimetype": "text/x-python",
   "name": "python",
   "nbconvert_exporter": "python",
   "pygments_lexer": "ipython3",
   "version": "3.10.16"
  }
 },
 "nbformat": 4,
 "nbformat_minor": 2
}
