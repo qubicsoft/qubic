{
 "cells": [
  {
   "cell_type": "code",
   "execution_count": null,
   "id": "02715f8c",
   "metadata": {},
   "outputs": [],
   "source": [
    "%matplotlib inline\n",
    "from pylab import *\n",
    "import os\n",
    "import sys\n",
    "from importlib import reload\n",
    "import glob\n",
    "import pickle\n",
    "import time\n",
    "\n",
    "# Specific science modules\n",
    "import healpy as hp\n",
    "import numpy as np\n",
    "\n",
    "# Specific qubic modules\n",
    "from qubicpack.utilities import Qubic_DataDir\n",
    "from pysimulators import FitsArray\n",
    "import pysm\n",
    "import qubic\n",
    "from qubic import SpectroImLib as si\n",
    "from qubic import QubicSkySim as qss\n",
    "from qubic import NamasterLib as nam\n",
    "from qubic import camb_interface as qc\n",
    "from qubic import fibtools as ft\n",
    "from qubic.utils import progress_bar\n",
    "\n",
    "rc('figure', figsize=(13, 6))\n",
    "rc('font', size=12)"
   ]
  },
  {
   "cell_type": "markdown",
   "id": "fd6f80ad",
   "metadata": {},
   "source": [
    "#### In this Notebook we try to measure the 2pt-correlation function of the noise in QUBIC simulations performed at NERSC"
   ]
  },
  {
   "cell_type": "code",
   "execution_count": null,
   "id": "a002169f",
   "metadata": {},
   "outputs": [],
   "source": [
    "### Initialize\n",
    "global_dir = Qubic_DataDir(datafile='instrument.py', datadir=os.environ['QUBIC_DATADIR'])\n",
    "\n",
    "dictfilename = global_dir + '/dicts/BmodesNoDustNoSystPaper0_2020.dict'\n",
    "\n",
    "\n",
    "# Read dictionary chosen\n",
    "d = qubic.qubicdict.qubicDict()\n",
    "d.read_from_file(dictfilename)\n",
    "d['nside']=256\n",
    "center = qubic.equ2gal(d['RA_center'], d['DEC_center'])\n",
    "print(center)"
   ]
  },
  {
   "cell_type": "code",
   "execution_count": null,
   "id": "eae4a14f",
   "metadata": {},
   "outputs": [],
   "source": [
    "#### This function reads the maps\n",
    "def read_files_mc(dirmap,file_rnd_string, verbose=False):\n",
    "    m = np.array(FitsArray(glob.glob(dirmap+'*_maps_recon_*'+file_rnd_string+'.fits')[0]))\n",
    "    c = np.array(FitsArray(glob.glob(dirmap+'*_maps_convolved_*'+file_rnd_string+'.fits')[0]))\n",
    "    cov = np.array(FitsArray(glob.glob(dirmap+'*_maps_coverage_*'+file_rnd_string+'.fits')[0]))\n",
    "    with open(glob.glob(dirmap+'*_dictionary_'+file_rnd_string+'.pickle')[0], 'rb') as handle: d = pickle.load(handle)\n",
    "    with open(glob.glob(dirmap+'*_input_cell_'+file_rnd_string+'.pickle')[0], 'rb') as handle: icl = pickle.load(handle)\n",
    "    filetype = glob.glob(dirmap+'*_maps_recon_*'+file_rnd_string+'.fits')[0].split('/')[-1]\n",
    "    if verbose: print('read {}'.format(filetype))\n",
    "    return m, c, cov, d, icl, filetype\n",
    "\n",
    "### Get reconstructed maps from a simulation made on NERSC with 200000 pointings and tol=1e-5\n",
    "### First Instrument\n",
    "### detector_nep=4.7e-17\n",
    "### effecgtive_duration = 3 years\n",
    "nptg = 200000\n",
    "dirmaps='/Users/hamilton/Qubic/QubicGeneralPaper2020/Sims/SimsPureCMB_NERSC/Maps/'\n",
    "file_rnd_string='H990hwzaGn'\n",
    "tol=1e-5\n",
    "\n",
    "m, c, covar, d, icl, ftype = read_files_mc(dirmaps, file_rnd_string, verbose=True)\n",
    "print(np.shape(m))\n",
    "residuals_maps = m[0,:,:]-c[0,:,:]\n",
    "\n",
    "rc('figure', figsize=(16, 10))\n",
    "res = 15\n",
    "figure()\n",
    "st = ['I', 'Q', 'U']\n",
    "rng = [5, 5, 5]\n",
    "for s in range(3):\n",
    "    hp.gnomview(residuals_maps[:,s], rot=center, reso=res, sub=(1,3,s+1), title='NERSC 200000 '+st[s],\n",
    "               min=-rng[s], max=rng[s])\n",
    "tight_layout()\n",
    "\n",
    "\n",
    "\n"
   ]
  },
  {
   "cell_type": "markdown",
   "id": "8729d777",
   "metadata": {},
   "source": [
    "### Calculation of the 2-pt Correlation Function in pixel-space"
   ]
  },
  {
   "cell_type": "code",
   "execution_count": null,
   "id": "17a7f67b",
   "metadata": {},
   "outputs": [],
   "source": [
    "reload(qss)\n",
    "reload(ft)\n",
    "\n",
    "# 1) Fit RMS Vs 1/cov\n",
    "dofit=True\n",
    "nbins = 25\n",
    "subplot(2,2,1)\n",
    "xx, yy, fit_n200k = qss.get_noise_invcov_profile(residuals_maps, covar, nbins=nbins,\n",
    "                                              label='NERSC 200000',fit=dofit)\n",
    "title('200k')\n",
    "\n",
    "\n",
    "# 2) Correct maps for RMS vs 1/cov\n",
    "new_diff = qss.correct_maps_rms(residuals_maps, covar, fit_n200k)\n",
    "subplot(2,2,2)\n",
    "bla = qss.get_angular_profile(new_diff, label='Nersc 200k corrected',\n",
    "                              allstokes=True,nbins=50,thmax=22, fontsize=10)\n",
    "title('200k')\n",
    "\n",
    "# 3) Calculate 2Pt Correlation function\n"
   ]
  },
  {
   "cell_type": "code",
   "execution_count": null,
   "id": "a8d01652",
   "metadata": {},
   "outputs": [],
   "source": [
    "\n",
    "ns = d['nside']\n",
    "okpix = covar > (np.max(covar)*0.1)\n",
    "ip = np.arange(12*ns**2).astype(int)\n",
    "ipok = ip[okpix]\n",
    "\n",
    "th, cth_200k = qss.ctheta_parts(new_diff[:,0], ipok, 0, 20, 20, nsplit=5, degrade_init=128, verbose=False)\n",
    "\n",
    "\n"
   ]
  },
  {
   "cell_type": "code",
   "execution_count": null,
   "id": "09ba1e4f",
   "metadata": {},
   "outputs": [],
   "source": [
    "rc('figure', figsize=(13, 6))\n",
    "from scipy.optimize import curve_fit\n",
    "\n",
    "fct = lambda x, a, b, c: a * np.sin(x/b) * exp(-x/c)\n",
    "results_200k = curve_fit(fct, th[1:], cth_200k[1:]/cth_200k[0])\n",
    "\n",
    "thetas = np.linspace(0,20,100)\n",
    "p=plot(th,cth_200k/cth_200k[0],'o', label='200k')\n",
    "plot(thetas, fct(thetas, *results_200k[0]), color=p[0].get_color(),\n",
    "         label=r'$a\\times\\sin(\\theta/b)\\times\\exp(\\theta/c)$'+'\\n a={0:4.2f} b={1:4.2f} c={2:4.2f}'.format(*results_200k[0]))\n",
    "plot(th,th*0,'k:')\n",
    "legend()\n",
    "xlabel(r'$\\theta$ [deg]')\n",
    "ylabel(r'$C(\\theta)$')\n",
    "\n",
    "print(np.var(new_diff[ipok,0]))"
   ]
  },
  {
   "cell_type": "code",
   "execution_count": null,
   "id": "cfd2ce53",
   "metadata": {},
   "outputs": [],
   "source": []
  }
 ],
 "metadata": {
  "kernelspec": {
   "display_name": "Python 3",
   "language": "python",
   "name": "python3"
  }
 },
 "nbformat": 4,
 "nbformat_minor": 5
}
