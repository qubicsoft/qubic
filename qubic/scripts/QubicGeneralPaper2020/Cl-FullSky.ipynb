{
 "cells": [
  {
   "cell_type": "markdown",
   "id": "025cb705",
   "metadata": {},
   "source": [
    "# Test for Cl in the full sky case"
   ]
  },
  {
   "cell_type": "code",
   "execution_count": null,
   "id": "dea2f187",
   "metadata": {},
   "outputs": [],
   "source": [
    "import healpy as hp\n",
    "import numpy as np\n",
    "import matplotlib.pyplot as plt\n",
    "from importlib import reload\n",
    "from qubic import QubicSkySim as qss\n",
    "from qubic import camb_interface as qc\n",
    "%matplotlib inline\n",
    "rc('font', size=15)\n",
    "rc('figure', figsize=(13, 8))"
   ]
  },
  {
   "cell_type": "code",
   "execution_count": null,
   "id": "6b37e065",
   "metadata": {},
   "outputs": [],
   "source": [
    "ell, totCL, unlensedCL = qc.get_camb_Dl(lmax=2500, r=0.1)"
   ]
  },
  {
   "cell_type": "code",
   "execution_count": null,
   "id": "2b130b1d",
   "metadata": {},
   "outputs": [],
   "source": [
    "rc('figure', figsize=(13, 8))\n",
    "order = ['TT', 'EE', 'BB', 'TE']\n",
    "for i in range(4):\n",
    "    subplot(2,2,i+1)\n",
    "    plot(ell,totCL[:,i], color='k', label='Total Cl')\n",
    "    xlabel('$\\\\ell$')\n",
    "    ylabel('$D_\\\\ell$')\n",
    "    title(order[i])\n",
    "    legend(loc='upper right')\n",
    "tight_layout()"
   ]
  },
  {
   "cell_type": "code",
   "execution_count": null,
   "id": "7ca2e8d4",
   "metadata": {},
   "outputs": [],
   "source": [
    "# nside = 256\n",
    "# mycls = np.zeros_like(totCL)\n",
    "# for i in range(4):\n",
    "#     mycls[2:, i] = 2 * np.pi * totCL[2:,i] / (ell[2:] * (ell[2:] + 1))\n",
    "# maps=hp.synfast(mycls.T,nside, new=True)\n",
    "# hp.mollview(maps[0,:], title=\"I map from synfast\", sub=(2,3,1))\n",
    "# hp.mollview(maps[1,:], title=\"Q map from synfast\", sub=(2,3,2))\n",
    "# hp.mollview(maps[2,:], title=\"U map from synfast\", sub=(2,3,3))"
   ]
  },
  {
   "cell_type": "code",
   "execution_count": null,
   "id": "004934f7",
   "metadata": {},
   "outputs": [],
   "source": [
    "from qubicpack.utilities import Qubic_DataDir\n",
    "import qubic\n",
    "from qubic import QubicSkySim as qss\n",
    "#### Create sample CMB I,Q,U maps\n",
    "global_dir = Qubic_DataDir(datafile='instrument.py', datadir=os.environ['QUBIC_DATADIR'])\n",
    "dictfilename = global_dir + '/dicts/test_QubicSkySim.dict'\n",
    "\n",
    "# Read dictionary chosen\n",
    "d = qubic.qubicdict.qubicDict()\n",
    "d.read_from_file(dictfilename)\n",
    "nside = d['nside']\n",
    "# Make a sky using PYSM\n",
    "seed = None\n",
    "cmb_dict = {'CAMBSpectra':totCL, 'ell':ell, 'seed':None}\n",
    "sky_config = {'cmb': cmb_dict}\n",
    "Qubic_sky = qss.Qubic_sky(sky_config, d)\n",
    "x0 = np.reshape(Qubic_sky.get_simple_sky_map(),(d['nf_sub'],d['nside']**2*12,3))\n",
    "\n",
    "print('Input Map with shape (nf_sub, #pixels, #stokes) : ', np.shape(x0))\n",
    "rc('figure', figsize=(16, 10))\n",
    "figure()\n",
    "stn = ['I','Q','U']\n",
    "rng = (np.std(x0, axis=(0,1))*3).astype(int)\n",
    "rng[1:] = np.max(rng[1:])\n",
    "numsub = 4\n",
    "for i in range(d['nf_sub']):\n",
    "    for istokes in [0,1,2]:\n",
    "        hp.mollview(x0[i,:,istokes], min=-rng[istokes], max=rng[istokes],\n",
    "                    sub=(d['nf_sub']+1,3,numsub), title=stn[istokes]+' subfreq {}'.format(i))\n",
    "        numsub += 1\n",
    "        \n",
    "#### We take just the lower frequency map\n",
    "maps = x0[0,:,:].T.copy()"
   ]
  },
  {
   "cell_type": "code",
   "execution_count": null,
   "id": "fd5c014a",
   "metadata": {},
   "outputs": [],
   "source": [
    "anafast_cl = hp.anafast(maps)\n",
    "ll = np.arange(len(anafast_cl[0,:]))"
   ]
  },
  {
   "cell_type": "code",
   "execution_count": null,
   "id": "10a4231e",
   "metadata": {},
   "outputs": [],
   "source": [
    "order = ['TT', 'EE', 'BB', 'TE']\n",
    "for i in range(3):\n",
    "    subplot(2,3,i+1)\n",
    "    plot(ell,totCL[:,i], color='r', label='Total Cl')\n",
    "    plot(ll, ll*(ll+1)/2/np.pi*anafast_cl[i,:],'o', alpha=0.1, label='Anafast')\n",
    "    xlabel('$\\\\ell$')\n",
    "    ylabel('$D_\\\\ell$')\n",
    "    title(order[i])\n",
    "    legend(loc='upper right')\n",
    "    xlim(0,3*nside)\n",
    "tight_layout()"
   ]
  },
  {
   "cell_type": "code",
   "execution_count": null,
   "id": "5162c9d2",
   "metadata": {},
   "outputs": [],
   "source": []
  },
  {
   "cell_type": "code",
   "execution_count": null,
   "id": "0071ad73",
   "metadata": {},
   "outputs": [],
   "source": []
  }
 ],
 "metadata": {
  "kernelspec": {
   "display_name": "Python 3",
   "language": "python",
   "name": "python3"
  }
 },
 "nbformat": 4,
 "nbformat_minor": 5
}
