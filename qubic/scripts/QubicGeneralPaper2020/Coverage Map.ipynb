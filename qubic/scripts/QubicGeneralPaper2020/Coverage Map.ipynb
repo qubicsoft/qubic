{
 "cells": [
  {
   "cell_type": "code",
   "execution_count": null,
   "id": "2cde56ed",
   "metadata": {},
   "outputs": [],
   "source": [
    "from pylab import *\n",
    "import os\n",
    "import sys\n",
    "import time\n",
    "import pickle\n",
    "from importlib import reload\n",
    "\n",
    "\n",
    "# Specific science modules\n",
    "import healpy as hp\n",
    "import numpy as np\n",
    "import scipy\n",
    "\n",
    "# Specific qubic modules\n",
    "from qubicpack.utilities import Qubic_DataDir\n",
    "from pysimulators import FitsArray\n",
    "#from mpi4py import MPI\n",
    "# from pyoperators import MPI\n",
    "import pysm3\n",
    "import qubic\n",
    "from qubic import QubicSkySim as qss\n",
    "from qubic import fibtools as ft\n",
    "from qubic import camb_interface as qc\n",
    "from qubic import SpectroImLib as si\n",
    "#from qubic import NamasterLib as nam\n",
    "from qubic import mcmc\n",
    "from qubic import AnalysisMC as amc\n",
    "\n",
    "rc('figure', figsize=(16, 10))\n",
    "rc('font', size=15)\n",
    "plt.rcParams['image.cmap'] = 'jet'\n",
    "\n",
    "### Initialize\n",
    "global_dir = Qubic_DataDir(datafile='instrument.py', datadir=os.environ['QUBIC_DATADIR'])\n",
    "dictfilename = global_dir + '/dicts/RealisticScanning-BmodesNoDustNoSystPaper0_2020.dict'\n",
    "d = qubic.qubicdict.qubicDict()\n",
    "d.read_from_file(dictfilename)\n",
    "d['nside'] = 128\n",
    "print(d['RA_center'], d['DEC_center'])\n",
    "center = qubic.equ2gal(d['RA_center'], d['DEC_center'])"
   ]
  },
  {
   "cell_type": "code",
   "execution_count": null,
   "id": "64770cb4",
   "metadata": {},
   "outputs": [],
   "source": [
    "def get_coverage_split(d, nsplit=1, ra_center=0., dec_center=-57, period=10., date_obs='2021-10-01 00:00:00', duration=24., \n",
    "                 angspeed=0.4, delta_az=35.,nsweeps_per_elevation=100):\n",
    "    d['RA_center'] = ra_center\n",
    "    d['DEC_center'] = dec_center\n",
    "    d['period'] = period\n",
    "    d['date_obs'] = date_obs\n",
    "    d['duration'] = duration\n",
    "    d['angspeed'] = angspeed\n",
    "    d['delta_az'] = delta_az\n",
    "    d['nsweeps_per_elevation'] = nsweeps_per_elevation\n",
    "    \n",
    "    p = qubic.get_pointing(d)\n",
    "    s = qubic.QubicScene(d)\n",
    "    q = qubic.QubicInstrument(d)\n",
    "    \n",
    "    nmyp = len(p)//nsplit\n",
    "    cov = 0\n",
    "    for i in range(nsplit):\n",
    "        myp = p[i*nmyp:(i+1)*nmyp-1]\n",
    "        a = qubic.QubicAcquisition(q, myp, s, d)\n",
    "        cov += a.get_coverage()\n",
    "\n",
    "    covnorm = cov/np.max(cov)\n",
    "    eta = np.sum(covnorm)/np.sum(covnorm**2)\n",
    "    \n",
    "    fsky = np.sum(cov/np.max(cov))/len(cov)\n",
    "    return p, cov, eta, fsky\n",
    "\n",
    "\n",
    "def get_fsky_cut(cov, cut=0.1):\n",
    "    mycov = cov.copy()/np.max(cov)\n",
    "    mycov[mycov < cut] = 0\n",
    "    return np.sum(mycov/np.max(mycov))/len(mycov)\n",
    "    \n",
    "\n",
    "def gnomit(cov, title=None, sub=None, reso=20, center=center):\n",
    "    cov = cov / np.max(cov)\n",
    "    cov[cov<0.01] = hp.UNSEEN\n",
    "    mymap = hp.gnomview(cov, rot=center, reso=reso, hold = False, title = title, notext =False, min=0, max=1, \n",
    "                        sub=sub, return_projected_map=True)\n",
    "    dmer = 20\n",
    "    dpar = 10\n",
    "    hp.graticule(dpar=dpar, dmer=dmer, alpha = 0.6, verbose = False)\n",
    "    return mymap\n",
    "\n",
    "    \n",
    "    \n",
    "def plot_pointing(p, alpha=1):\n",
    "    plt.rc('figure', figsize=(13, 8))\n",
    "    plt.rc('font', size=15)\n",
    "\n",
    "    figure()\n",
    "    subplot(2,2,1)\n",
    "    plot(p.time, p.azimuth, ',')\n",
    "    xlabel('Time [sec]')\n",
    "    ylabel('Azimuth [deg]')\n",
    "\n",
    "    subplot(2,2,2)\n",
    "    plot(p.time, p.elevation,',')\n",
    "    xlabel('Time [sec]')\n",
    "    ylabel('Elevation [deg]')\n",
    "\n",
    "    subplot(2,3,4)\n",
    "    plot(p.azimuth,p.elevation,',')\n",
    "    xlabel('Azimuth [deg]')\n",
    "    ylabel('Elevation [sec]')\n",
    "\n",
    "    subplot(2,3,5)\n",
    "    plot(((p.equatorial[:,0]+180+360) % 360)-180,p.equatorial[:,1],',', alpha=alpha)\n",
    "    xlabel('RA [deg]')\n",
    "    ylabel('DEC [sec]')\n",
    "\n",
    "    subplot(2,3,6)\n",
    "    plot(((p.galactic[:,0]+180+360) % 360)-180,p.galactic[:,1],',', alpha=alpha)\n",
    "    xlabel('Galactic l [deg]')\n",
    "    ylabel('Galactic b [sec]')\n"
   ]
  },
  {
   "cell_type": "markdown",
   "id": "f632864f",
   "metadata": {},
   "source": [
    "### We first try with 10 secondes sampling (variable period)"
   ]
  },
  {
   "cell_type": "code",
   "execution_count": null,
   "id": "695f5f6f",
   "metadata": {},
   "outputs": [],
   "source": [
    "\n",
    "ra_center = 0.\n",
    "dec_center = -57.\n",
    "period = 10.\n",
    "date_obs = '2021-10-01 00:00:00'\n",
    "angspeed = 0.4\n",
    "delta_az = 35.\n",
    "nsweeps_per_elevation = 100\n",
    "duration = 24.\n",
    "\n",
    "p, cov, eta, fsky = get_coverage_split(d, ra_center=ra_center, dec_center=dec_center, period=period, \n",
    "                      date_obs=date_obs, angspeed=angspeed, delta_az=delta_az,\n",
    "                      nsweeps_per_elevation=nsweeps_per_elevation, duration=duration)\n",
    "\n",
    "plot_pointing(p)\n",
    "\n",
    "plt.rc('figure', figsize=(13, 4))\n",
    "plt.rc('font', size=15)\n",
    "gnomit(cov, title='$\\eta$={0:4.2f} fsky={1:4.2f}'.format(eta, fsky*100))\n",
    "\n",
    "hp.mollview(cov)"
   ]
  },
  {
   "cell_type": "code",
   "execution_count": null,
   "id": "fa56aa48",
   "metadata": {},
   "outputs": [],
   "source": [
    "debug"
   ]
  },
  {
   "cell_type": "markdown",
   "id": "dca7b872",
   "metadata": {},
   "source": [
    "### Now with 1 second sampling but splitting into 10 the pointing "
   ]
  },
  {
   "cell_type": "code",
   "execution_count": null,
   "id": "fa99f0f8",
   "metadata": {},
   "outputs": [],
   "source": [
    "period = 1\n",
    "p, cov, eta, fsky = get_coverage_split(d, nsplit=10, ra_center=ra_center, dec_center=dec_center, period=period, \n",
    "                      date_obs=date_obs, angspeed=angspeed, delta_az=delta_az,\n",
    "                      nsweeps_per_elevation=nsweeps_per_elevation, duration=duration)\n",
    "\n",
    "plot_pointing(p, alpha=0.1)\n",
    "\n",
    "plt.rc('figure', figsize=(13, 4))\n",
    "plt.rc('font', size=15)\n",
    "\n",
    "gnomit(cov, title='$\\eta$={0:4.2f} fsky={1:4.2f}'.format(eta, fsky*100))"
   ]
  },
  {
   "cell_type": "markdown",
   "id": "23635b01",
   "metadata": {},
   "source": [
    "We get the same so it means that 10 seconds saampling is good enough for this test.\n",
    "\n",
    "\n",
    "### Now we want to optimize the flatness of the coverage for various values of nsweeps and angspeed"
   ]
  },
  {
   "cell_type": "markdown",
   "id": "bd38037e",
   "metadata": {},
   "source": [
    "# Angspeed"
   ]
  },
  {
   "cell_type": "code",
   "execution_count": null,
   "id": "de07277f",
   "metadata": {},
   "outputs": [],
   "source": [
    "### Angspeed\n",
    "nn = 10\n",
    "my_angspeeds = np.linspace(0.2,1., nn)\n",
    "print(my_angspeeds)\n",
    "\n",
    "period = 10\n",
    "all_etas = np.zeros(nn)\n",
    "all_fsky = np.zeros(nn)\n",
    "all_fsky_cut = np.zeros(nn)\n",
    "for i in range(nn):\n",
    "    p, cov, all_etas[i], all_fsky[i] = get_coverage_split(d, nsplit=1, ra_center=ra_center, dec_center=dec_center, period=period, \n",
    "                          date_obs=date_obs, angspeed=my_angspeeds[i], delta_az=delta_az,\n",
    "                          nsweeps_per_elevation=nsweeps_per_elevation, duration=duration)\n",
    "    all_fsky_cut[i] = get_fsky_cut(cov)\n",
    "    gnomit(cov, title='$\\eta$={0:4.2f} fsky={1:4.2f}'.format(all_etas[i], all_fsky[i]*100), sub=(2,5,i+1))\n",
    "\n"
   ]
  },
  {
   "cell_type": "code",
   "execution_count": null,
   "id": "686537c8",
   "metadata": {},
   "outputs": [],
   "source": [
    "plt.rc('figure', figsize=(13, 8))\n",
    "plt.rc('font', size=15)\n",
    "plot(my_angspeeds, all_etas, label='$\\eta$')\n",
    "plot(my_angspeeds, all_fsky*100, label='fsky (%)')\n",
    "plot(my_angspeeds, all_fsky_cut*100, label='fsky (%) [cut at 0.1]')\n",
    "legend()\n",
    "xlabel('Angular speed [deg/s]')"
   ]
  },
  {
   "cell_type": "markdown",
   "id": "c0f8485d",
   "metadata": {},
   "source": [
    "# Nsweeps"
   ]
  },
  {
   "cell_type": "code",
   "execution_count": null,
   "id": "afeedfd3",
   "metadata": {},
   "outputs": [],
   "source": [
    "### Nsweeps\n",
    "nn = 10\n",
    "my_nsweeps = np.linspace(10,200, nn, dtype=int)\n",
    "print(my_nsweeps)\n",
    "\n",
    "angspeed=0.4 \n",
    "\n",
    "period = 10\n",
    "all_etas = np.zeros(nn)\n",
    "all_fsky = np.zeros(nn)\n",
    "for i in range(nn):\n",
    "    p, cov, all_etas[i], all_fsky[i] = get_coverage_split(d, nsplit=1, ra_center=ra_center, dec_center=dec_center, period=period, \n",
    "                          date_obs=date_obs, angspeed=angspeed, delta_az=delta_az,\n",
    "                          nsweeps_per_elevation=my_nsweeps[i], duration=duration)\n",
    "    all_fsky_cut[i] = get_fsky_cut(cov)\n",
    "    gnomit(cov, title='$\\eta$={0:4.2f} fsky={1:4.2f}'.format(all_etas[i], all_fsky[i]), sub=(2,5,i+1))\n",
    "\n"
   ]
  },
  {
   "cell_type": "code",
   "execution_count": null,
   "id": "240df92e",
   "metadata": {},
   "outputs": [],
   "source": [
    "plot(my_nsweeps, all_etas, label='$\\eta$')\n",
    "plot(my_nsweeps, all_fsky*100, label='fsky (%)')\n",
    "plot(my_nsweeps, all_fsky_cut*100, label='fsky (%) [cut at 0.1]')\n",
    "legend()\n",
    "xlabel('Nsweeps')"
   ]
  },
  {
   "cell_type": "markdown",
   "id": "7ce68887",
   "metadata": {},
   "source": [
    "# delta_az"
   ]
  },
  {
   "cell_type": "code",
   "execution_count": null,
   "id": "ad95e3c9",
   "metadata": {},
   "outputs": [],
   "source": [
    "### Nsweeps\n",
    "nn = 10\n",
    "my_daz = np.linspace(25,40, nn, dtype=int)\n",
    "print(my_daz)\n",
    "\n",
    "angspeed=0.4 \n",
    "nsweeps = 100\n",
    "\n",
    "period = 10\n",
    "all_etas = np.zeros(nn)\n",
    "all_fsky = np.zeros(nn)\n",
    "for i in range(nn):\n",
    "    p, cov, all_etas[i], all_fsky[i] = get_coverage_split(d, nsplit=1, ra_center=ra_center, dec_center=dec_center, period=period, \n",
    "                          date_obs=date_obs, angspeed=angspeed, delta_az=my_daz[i],\n",
    "                          nsweeps_per_elevation=nsweeps, duration=duration)\n",
    "    all_fsky_cut[i] = get_fsky_cut(cov)\n",
    "    gnomit(cov, title='$\\eta$={0:4.2f} fsky={1:4.2f}'.format(all_etas[i], all_fsky[i]), sub=(2,5,i+1))\n",
    "\n"
   ]
  },
  {
   "cell_type": "code",
   "execution_count": null,
   "id": "db886009",
   "metadata": {},
   "outputs": [],
   "source": [
    "plot(my_daz, all_etas, label='$\\eta$')\n",
    "plot(my_daz, all_fsky*100, label='fsky (%)')\n",
    "plot(my_daz, all_fsky_cut*100, label='fsky (%) [cut at 0.1]')\n",
    "legend()\n",
    "xlabel('$\\Delta$Az [deg]')"
   ]
  },
  {
   "cell_type": "markdown",
   "id": "810bd4d9",
   "metadata": {},
   "source": [
    "So it seems that angspeed=0.4 and nsweeps=100 is more or less OK"
   ]
  },
  {
   "cell_type": "code",
   "execution_count": null,
   "id": "dcfa1248",
   "metadata": {},
   "outputs": [],
   "source": [
    "ra_center = 0.\n",
    "dec_center = -57.\n",
    "period = 10.\n",
    "date_obs = '2021-10-01 00:00:00'\n",
    "angspeed = 0.4\n",
    "delta_az = 35.\n",
    "nsweeps_per_elevation = 100\n",
    "duration = 24.\n",
    "\n",
    "p, cov, eta, fsky = get_coverage_split(d, ra_center=ra_center, dec_center=dec_center, period=period, \n",
    "                      date_obs=date_obs, angspeed=angspeed, delta_az=delta_az,\n",
    "                      nsweeps_per_elevation=nsweeps_per_elevation, duration=duration)\n"
   ]
  },
  {
   "cell_type": "code",
   "execution_count": null,
   "id": "fc59fe19",
   "metadata": {},
   "outputs": [],
   "source": [
    "cut = 0.1\n",
    "mycov = cov.copy()/np.max(cov)\n",
    "mycov[mycov < cut] = 0\n",
    "fsky_cut = np.sum(mycov/np.max(mycov))/len(mycov)\n",
    "\n",
    "plt.rc('figure', figsize=(13, 8))\n",
    "plt.rc('font', size=15)\n",
    "gnomit(mycov, reso=15, title='$\\eta$={0:4.2f} fsky={1:4.1f}%'.format(eta, fsky_cut*100))\n",
    "\n",
    "\n",
    "figure()\n",
    "gnomit(mycov, reso=15, center=[316, -56], title='Galactic Coordinates - fsky={0:4.2f}%'.format(fsky_cut*100))\n",
    "\n",
    "mycovcut = mycov.copy()/np.max(mycov)\n",
    "mycovcut[mycovcut < 0.1] = hp.UNSEEN\n",
    "hp.mollview(mycovcut, title='Galactic Coordinates - fsky={0:4.2f}%'.format(fsky_cut*100), min=0, max=1)\n",
    "dmer = 20\n",
    "dpar = 10\n",
    "hp.graticule(dpar=dpar, dmer=dmer, alpha = 0.6, verbose = False)\n"
   ]
  },
  {
   "cell_type": "code",
   "execution_count": null,
   "id": "77e822cd",
   "metadata": {},
   "outputs": [],
   "source": [
    "hp.write_map('QUBIC-Typical-Coverage.fits', cov)"
   ]
  },
  {
   "cell_type": "code",
   "execution_count": null,
   "id": "01d8e6ec",
   "metadata": {},
   "outputs": [],
   "source": [
    "mymap = hp.gnomview(cov, rot=center, reso=20, return_projected_map=True)"
   ]
  },
  {
   "cell_type": "code",
   "execution_count": null,
   "id": "5328adf9",
   "metadata": {},
   "outputs": [],
   "source": [
    "from mpl_toolkits.mplot3d import Axes3D\n",
    "fig, ax = plt.subplots(subplot_kw=dict(projection='3d'))\n",
    "x, y = np.meshgrid(np.arange(200), np.arange(200))\n",
    "ax.plot_surface(x,y,mymap)"
   ]
  },
  {
   "cell_type": "markdown",
   "id": "9c169c98",
   "metadata": {},
   "source": [
    "### Now let's try to move slightly from one day to another"
   ]
  },
  {
   "cell_type": "code",
   "execution_count": null,
   "id": "bdc79451",
   "metadata": {},
   "outputs": [],
   "source": [
    "print(ra_center)\n",
    "print(dec_center)\n",
    "\n",
    "nn = 4\n",
    "dx = 12.5\n",
    "ras = np.array([ra_center-dx, ra_center-dx, ra_center+dx*2, ra_center+dx*0.7])\n",
    "decs = np.array([dec_center-dx/2, dec_center+dx/2, dec_center-dx/2*0.7, dec_center+dx/2])\n",
    "\n",
    "ll, bb = qubic.equ2gal(ras, decs)\n",
    "\n",
    "\n",
    "subplot(1,2,1)\n",
    "plot(ras,decs,'ro')\n",
    "for i in range(len(bb)):\n",
    "               text(ras[i], decs[i],i)\n",
    "plot(ra_center, dec_center,'k*')\n",
    "xlim(-40,50)\n",
    "ylim(-70, -40)\n",
    "\n",
    "subplot(1,2,2)\n",
    "plot(ll, bb,'ro')\n",
    "for i in range(len(bb)):\n",
    "               text(ll[i], bb[i],i)\n",
    "plot(center[0], center[1],'k*')\n",
    "xlim(270,350)\n",
    "ylim(-70, -40)"
   ]
  },
  {
   "cell_type": "code",
   "execution_count": null,
   "id": "afb0d312",
   "metadata": {},
   "outputs": [],
   "source": [
    "### Angspeed\n",
    "nn = len(ras)\n",
    "\n",
    "angspeed=0.4 \n",
    "nsweeps = 100\n",
    "\n",
    "period = 10\n",
    "all_etas = np.zeros(nn)\n",
    "all_fsky = np.zeros(nn)\n",
    "fullcov = 0\n",
    "for i in range(nn):\n",
    "    p, cov, eta, fsky = get_coverage_split(d, nsplit=1, ra_center=ras[i], dec_center=decs[i], period=period, \n",
    "                          date_obs=date_obs, angspeed=angspeed, delta_az=delta_az,\n",
    "                          nsweeps_per_elevation=nsweeps, duration=duration)\n",
    "    gnomit(cov, title='$\\eta$={0:4.2f} fsky={1:4.2f}'.format(eta, fsky*100), sub=(2,2,i+1))\n",
    "    fullcov += cov\n"
   ]
  },
  {
   "cell_type": "code",
   "execution_count": null,
   "id": "63687d47",
   "metadata": {},
   "outputs": [],
   "source": [
    "covnorm = fullcov/np.max(fullcov)\n",
    "eta = np.sum(covnorm)/np.sum(covnorm**2)\n",
    "fsky = np.sum(fullcov/np.max(fullcov))/len(fullcov)\n",
    "fsky_cut = get_fsky_cut(fullcov)\n",
    "\n",
    "mymap = gnomit(fullcov, reso=25, \n",
    "       title='$\\eta$={0:4.2f} fsky={1:4.2f} fsky_cut={2:4.2f}'.format(eta, fsky*100, fsky_cut*100))\n"
   ]
  },
  {
   "cell_type": "code",
   "execution_count": null,
   "id": "efae3fbb",
   "metadata": {},
   "outputs": [],
   "source": [
    "mymap.data[mymap.data==hp.UNSEEN]=0\n",
    "from mpl_toolkits.mplot3d import Axes3D\n",
    "fig, ax = plt.subplots(subplot_kw=dict(projection='3d'))\n",
    "x, y = np.meshgrid(np.arange(200), np.arange(200))\n",
    "ax.plot_surface(x,y,mymap)"
   ]
  },
  {
   "cell_type": "code",
   "execution_count": null,
   "id": "e7604aae",
   "metadata": {},
   "outputs": [],
   "source": []
  },
  {
   "cell_type": "code",
   "execution_count": null,
   "id": "43dc9ac9",
   "metadata": {},
   "outputs": [],
   "source": []
  }
 ],
 "metadata": {
  "kernelspec": {
   "display_name": "Python 3 (ipykernel)",
   "language": "python",
   "name": "python3"
  }
 },
 "nbformat": 4,
 "nbformat_minor": 5
}
