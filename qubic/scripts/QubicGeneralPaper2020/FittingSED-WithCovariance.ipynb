{
 "cells": [
  {
   "cell_type": "code",
   "execution_count": null,
   "id": "321e6617",
   "metadata": {},
   "outputs": [],
   "source": [
    "from pylab import *\n",
    "import os\n",
    "import sys\n",
    "import time\n",
    "import pickle\n",
    "from importlib import reload\n",
    "\n",
    "\n",
    "# Specific science modules\n",
    "import healpy as hp\n",
    "import numpy as np\n",
    "import scipy\n",
    "\n",
    "# Specific qubic modules\n",
    "from qubicpack.utilities import Qubic_DataDir\n",
    "from pysimulators import FitsArray\n",
    "#from mpi4py import MPI\n",
    "# from pyoperators import MPI\n",
    "import pysm\n",
    "import qubic\n",
    "from qubic import QubicSkySim as qss\n",
    "from qubic import fibtools as ft\n",
    "from qubic import camb_interface as qc\n",
    "from qubic import SpectroImLib as si\n",
    "from qubic import NamasterLib as nam\n",
    "from qubic import mcmc\n",
    "from qubic import AnalysisMC as amc\n",
    "\n",
    "rc('figure', figsize=(16, 10))\n",
    "rc('font', size=15)\n",
    "plt.rcParams['image.cmap'] = 'jet'\n"
   ]
  },
  {
   "cell_type": "code",
   "execution_count": null,
   "id": "3f4d5e92",
   "metadata": {},
   "outputs": [],
   "source": [
    "### We assume a number of sub-bands\n"
   ]
  }
 ],
 "metadata": {
  "kernelspec": {
   "display_name": "Python 3",
   "language": "python",
   "name": "python3"
  }
 },
 "nbformat": 4,
 "nbformat_minor": 5
}
