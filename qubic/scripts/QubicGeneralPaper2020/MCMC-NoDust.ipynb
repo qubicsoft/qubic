{
 "cells": [
  {
   "cell_type": "code",
   "execution_count": null,
   "id": "c0db8bd8",
   "metadata": {},
   "outputs": [],
   "source": [
    "%matplotlib inline\n",
    "from pylab import *\n",
    "import os\n",
    "import sys\n",
    "from importlib import reload\n",
    "import glob\n",
    "import pickle\n",
    "\n",
    "# Specific science modules\n",
    "import healpy as hp\n",
    "import numpy as np\n",
    "\n",
    "# Specific qubic modules\n",
    "from qubicpack.utilities import Qubic_DataDir\n",
    "from pysimulators import FitsArray\n",
    "import pysm\n",
    "import qubic\n",
    "from qubic import SpectroImLib as si\n",
    "from qubic import QubicSkySim as qss\n",
    "from qubic import NamasterLib as nam\n",
    "from qubic import camb_interface as qc\n",
    "\n",
    "rc('figure', figsize=(13, 10))\n",
    "rc('font', size=12)"
   ]
  },
  {
   "cell_type": "markdown",
   "id": "81ec61b0",
   "metadata": {},
   "source": [
    "# MCMC Constraints on r with no dust (very idealistic...)"
   ]
  },
  {
   "cell_type": "markdown",
   "id": "8d74d937",
   "metadata": {},
   "source": [
    "The following cell calculates or read a library of CAMB spectra with only r varying. This allows to interpolate between these spectra for any value of r in the library range and have a fast way of getting spectra - useful for MCMC. The function qc.get_D__fromlib() from the camb_interface.py library is the one to be used for getting any of these spectra."
   ]
  },
  {
   "cell_type": "code",
   "execution_count": null,
   "id": "d9f774a4",
   "metadata": {},
   "outputs": [],
   "source": [
    "reload(qc)\n",
    "### Build CAMB library with only r varying\n",
    "# rmin = 0.001\n",
    "# rmax = 1\n",
    "# nb =100\n",
    "# lmaxcamb = 3*256\n",
    "# rvalues = np.concatenate((np.zeros(1),np.logspace(np.log10(rmin),np.log10(rmax),nb)))\n",
    "# camblib = qc.rcamblib(rvalues, lmaxcamb,save='camblib.pickle')\n",
    "\n",
    "### Read the camb lib from the file\n",
    "camblib = qc.read_camblib('camblib.pickle')"
   ]
  },
  {
   "cell_type": "code",
   "execution_count": null,
   "id": "7d2297fa",
   "metadata": {},
   "outputs": [],
   "source": [
    "reload(qc)\n",
    "lvals = np.arange(300)\n",
    "rvals = [0., 0.01, 0.07, 0.1]\n",
    "spn = ['TT', 'EE', 'BB', 'TE']\n",
    "\n",
    "s = 2\n",
    "for r in rvals:\n",
    "    spec, specUnlensed = qc.get_Dl_fromlib(lvals, r, lib=camblib)\n",
    "    p=plot(lvals, spec[:,s], label='Lensed r={}'.format(r))\n",
    "    plot(lvals, specUnlensed[:,s], ':', label='Un-Lensed r={}'.format(r), color=p[0].get_color())\n",
    "title(spn[s])\n",
    "legend()\n",
    "tight_layout()"
   ]
  },
  {
   "cell_type": "code",
   "execution_count": null,
   "id": "f16334b9",
   "metadata": {},
   "outputs": [],
   "source": [
    "reload(qc)\n",
    "reload(nam)\n",
    "\n",
    "### One needs a NaMaster object to be able to bin the spectra\n",
    "### We build it from the info saved from end-to-end sims\n",
    "with open('errors_mc_dl_30.pickle', 'rb') as handle: \n",
    "    leff, mcells_rec, scells_rec, delta_ell, lmin, lmax, seenpix = pickle.load(handle)\n",
    "\n",
    "    \n",
    "    \n",
    "### Instanciate a Namaster object\n",
    "weight_mask = None\n",
    "Namaster = nam.Namaster(weight_mask, lmin=lmin, lmax=lmax, delta_ell=delta_ell)\n",
    "leff, b = Namaster.get_binning(256)\n",
    "\n",
    "\n",
    "### In order to be able to a a MCMC, one needs theoreticasl binned spectra. \n",
    "### Binning on the fly during MCMC sampling is clearly too costly from the CPU poit of view\n",
    "### The easiest workaround seems to be to prepare a binned version of the CAMB library\n",
    "binned_camblib = qc.bin_camblib(Namaster, 'camblib.pickle', 256)"
   ]
  },
  {
   "cell_type": "code",
   "execution_count": null,
   "id": "6bc2c46d",
   "metadata": {},
   "outputs": [],
   "source": [
    "### Get a theoretical Power spectrum\n",
    "rvalue = 0.\n",
    "lvals = arange(3*256)\n",
    "spec, specUnlensed = qc.get_Dl_fromlib(lvals, rvalue, lib=camblib)\n",
    "\n",
    "### function to directly get the binned spectrum for a given r\n",
    "def myBBth(ell, r):\n",
    "    clBB = qc.get_Dl_fromlib(ell, r, lib=binned_camblib)[0][:,2]\n",
    "    return clBB\n",
    "\n",
    "### Fake BB data\n",
    "data = myBBth(leff, rvalue)\n",
    "\n",
    "with open('errors_mc_dl_{}.pickle'.format(delta_ell), 'rb') as handle: \n",
    "    bla = pickle.load(handle)\n",
    "scls = bla[2][:,2]\n",
    "scls[0] = 100\n",
    "\n",
    "figure()\n",
    "s=2\n",
    "p=plot(lvals, spec[:,s], label='Lensed r={}'.format(r))\n",
    "errorbar(leff, data, yerr=scls, fmt='ro', label='Fake data')\n",
    "plot(leff, scls, label='MC error bars')\n",
    "plot(leff, )\n",
    "ylim(0,0.1)\n",
    "legend()"
   ]
  },
  {
   "cell_type": "code",
   "execution_count": null,
   "id": "44136186",
   "metadata": {},
   "outputs": [],
   "source": [
    "from qubic import mcmc\n",
    "reload(mcmc)\n",
    "\n",
    "\n",
    "ll = mcmc.LogLikelihood(xvals=leff, yvals=data, errors=scls/2, \n",
    "                       model = myBBth, flatprior=[[0,1]])\n",
    "\n",
    "nsamples = 3000\n",
    "sampler = ll.run(nsamples, nwalkers=32)\n",
    "\n"
   ]
  },
  {
   "cell_type": "code",
   "execution_count": null,
   "id": "5cb81578",
   "metadata": {},
   "outputs": [],
   "source": [
    "rc('figure', figsize=(13, 10))\n",
    "import corner\n",
    "flat_samples = sampler.get_chain(discard=nsamples//10, thin=32, flat=True)\n",
    "\n",
    "\n",
    "\n",
    "q = 0.68\n",
    "fig = corner.corner(\n",
    "    flat_samples, labels=['r'], truths=[0], quantiles=[q])\n",
    "\n",
    "tit = 'r < {0:4.3f} @ {1:2.0f}% C.L.'.format(corner.quantile(flat_samples,q)[0],q*100)    \n",
    "title(tit, fontsize=10)"
   ]
  },
  {
   "cell_type": "code",
   "execution_count": null,
   "id": "d6ad7298",
   "metadata": {},
   "outputs": [],
   "source": [
    "rv = np.linspace(0,1,1000)\n",
    "like = np.zeros_like(rv)\n",
    "for i in range(len(rv)):\n",
    "    like[i] = np.exp(ll([rv[i]]))\n",
    "\n",
    "like = like / (np.sum(like)*(rv[1]-rv[0]))\n",
    "\n",
    "a=hist(flat_samples[:,0], range=[0,0.1], bins=30, density=True)\n",
    "xlim(0,0.1)\n",
    "plot(rv,like)"
   ]
  },
  {
   "cell_type": "code",
   "execution_count": null,
   "id": "ecbe4dfe",
   "metadata": {},
   "outputs": [],
   "source": []
  }
 ],
 "metadata": {
  "kernelspec": {
   "display_name": "Python 3",
   "language": "python",
   "name": "python3"
  }
 },
 "nbformat": 4,
 "nbformat_minor": 5
}
