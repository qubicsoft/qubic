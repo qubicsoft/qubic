{
 "cells": [
  {
   "cell_type": "markdown",
   "id": "3c3de433",
   "metadata": {},
   "source": [
    "# QUBIC B-Modes - No Dust No Systematics\n",
    "\n",
    "#### JCH 2019-03-12 Inspired by Notebook spectroimaging_dust.Rmd from Louise & Martin\n",
    "\n",
    "In this notebook we aim at exploring the B-Modes capabilities of QUBIC in the absence of dust and systematics"
   ]
  },
  {
   "cell_type": "code",
   "execution_count": null,
   "id": "7fa34ba8",
   "metadata": {},
   "outputs": [],
   "source": [
    "%matplotlib inline\n",
    "from pylab import *\n",
    "import os\n",
    "import sys\n",
    "\n",
    "# Specific science modules\n",
    "import healpy as hp\n",
    "import numpy as np\n",
    "\n",
    "# Specific qubic modules\n",
    "from qubicpack.utilities import Qubic_DataDir\n",
    "from pysimulators import FitsArray\n",
    "import pysm\n",
    "import qubic\n",
    "from qubic import SpectroImLib as si\n",
    "from qubic import QubicSkySim as qss\n",
    "from qubic import NamasterLib as nam\n",
    "\n",
    "rc('figure', figsize=(13, 10))\n",
    "rc('font', size=15)"
   ]
  },
  {
   "cell_type": "code",
   "execution_count": null,
   "id": "0f062cf7",
   "metadata": {},
   "outputs": [],
   "source": [
    "# Repository for dictionary and input maps\n",
    "global_dir = Qubic_DataDir(datafile='instrument.py', datadir=os.environ['QUBIC_DATADIR'])\n",
    "dictfilename = global_dir + '/dicts/Small_BmodesNoDustNoSystPaper0_2020.dict'\n",
    "\n",
    "# Read dictionary chosen\n",
    "d = qubic.qubicdict.qubicDict()\n",
    "d.read_from_file(dictfilename)\n",
    "center = qubic.equ2gal(d['RA_center'], d['DEC_center'])\n",
    "print(center)\n",
    "print(d)"
   ]
  },
  {
   "cell_type": "markdown",
   "id": "3a90a734",
   "metadata": {},
   "source": [
    "# Input sky (to change)\n",
    "* cmb"
   ]
  },
  {
   "cell_type": "code",
   "execution_count": null,
   "id": "12ea730f",
   "metadata": {},
   "outputs": [],
   "source": [
    "# Make a sky using QubicSkySim with r=0 (default simple request - the camb spectrum is calculated inside)\n",
    "seed = 42\n",
    "sky_config = {'cmb': seed}\n",
    "Qubic_sky = qss.Qubic_sky(sky_config, d)\n",
    "x0 = np.reshape(Qubic_sky.get_simple_sky_map(),(d['nf_sub'],d['nside']**2*12,3))\n",
    "\n",
    "# The input spectra are\n",
    "input_cl = Qubic_sky.input_cmb_spectra\n",
    "\n",
    "print('Input SubFrequencies Map with shape (nf_sub, #pixels, #stokes) : ', np.shape(x0))"
   ]
  },
  {
   "cell_type": "code",
   "execution_count": null,
   "id": "0be8bd85",
   "metadata": {},
   "outputs": [],
   "source": [
    "# Look at the input sky maps using Healpy\n",
    "istokes = 0 # Stokes parameter (I, Q, U)\n",
    "imap = 0 # Frequency subband, should be smaller than nf_sub\n",
    "rr=15 # Resolution in arcmin\n",
    "\n",
    "plt.figure(figsize=(13,8))\n",
    "for istk in range(3):\n",
    "    plt.subplots_adjust(wspace=0.9)\n",
    "    hp.mollview(x0[imap,:,istk], cmap='jet', sub = (3,2,2*istk+1), \n",
    "                title = '{0}, map {1}'.format(d['kind'][istk], imap))\n",
    "    hp.gnomview(x0[imap,:,istk], cmap ='jet', sub = (3,2,2*istk+2), rot=center, reso=rr, \n",
    "                title = '{0}, map {1}'.format(d['kind'][istk], imap))\n",
    "tight_layout()"
   ]
  },
  {
   "cell_type": "markdown",
   "id": "e023ac18",
   "metadata": {},
   "source": [
    "# TOD simulation"
   ]
  },
  {
   "cell_type": "code",
   "execution_count": null,
   "id": "79dcd7da",
   "metadata": {},
   "outputs": [],
   "source": [
    "# Pointing strategy\n",
    "p = qubic.get_pointing(d)\n",
    "print('=== Pointing DONE! ===')\n",
    "\n",
    "# ==== TOD making ====\n",
    "TOD, maps_convolved = si.create_TOD(d, p, x0)\n",
    "maps_convolved = np.array(maps_convolved)\n",
    "print('--------- Noiseless TOD with shape: {} - Done ---------'.format(np.shape(TOD)))\n",
    "print('-------- Maps Convolved with shape: {} - Done ---------'.format(np.shape(maps_convolved)))"
   ]
  },
  {
   "cell_type": "code",
   "execution_count": null,
   "id": "036c7b77",
   "metadata": {},
   "outputs": [],
   "source": [
    "q = qubic.QubicMultibandInstrument(d)\n",
    "s = qubic.QubicScene(d)\n",
    "# rot_beams = si.get_hitmap(q[0], s, p)\n",
    "# rot_beams.shape\n",
    "# hp.mollview(np.sum(rot_beams, axis=0))"
   ]
  },
  {
   "cell_type": "code",
   "execution_count": null,
   "id": "466c08e6",
   "metadata": {},
   "outputs": [],
   "source": [
    "TOD.shape\n",
    "print(d['nf_recon'])"
   ]
  },
  {
   "cell_type": "markdown",
   "id": "670cc18e",
   "metadata": {},
   "source": [
    "# Map-Making"
   ]
  },
  {
   "cell_type": "code",
   "execution_count": null,
   "id": "5d3a43d3",
   "metadata": {},
   "outputs": [],
   "source": [
    "nf_sub_rec = d['nf_recon']\n",
    "\n",
    "Nfreq_edges, nus_edge, nus, deltas, Delta, Nbbands = qubic.compute_freq(150, nf_sub_rec)\n",
    "print('Band center:', nus)\n",
    "print('Band edges:', nus_edge)\n",
    "print('Band width:', deltas)\n",
    "\n",
    "len(nus_edge)\n",
    "for i in range(len(nus_edge) - 1):\n",
    "    print('base =', nus_edge[i+1] / nus_edge[i])\n",
    "    \n",
    "# plt.plot(nus, [1, 1], 'ro')\n",
    "# plt.plot(nus_edge, [1, 1, 1], 'bo')"
   ]
  },
  {
   "cell_type": "code",
   "execution_count": null,
   "id": "8086ea8b",
   "metadata": {},
   "outputs": [],
   "source": [
    "maps_recon, cov, nus, nus_edge, maps_convolved = si.reconstruct_maps(TOD, d, p,\n",
    "                                                                    nf_sub_rec, x0=x0)\n",
    "maps_convolved = np.reshape(maps_convolved,(d['nf_recon'], 12*d['nside']**2, 3))\n",
    "maps_recon = np.reshape(maps_recon,(d['nf_recon'], 12*d['nside']**2, 3))\n",
    "print(maps_recon.shape)"
   ]
  },
  {
   "cell_type": "code",
   "execution_count": null,
   "id": "9f95a9ad",
   "metadata": {},
   "outputs": [],
   "source": [
    "# Look at the coverage of the sky\n",
    "coverage = np.sum(cov.copy(), axis=0)\n",
    "maxcov = np.max(coverage)\n",
    "unseen = coverage < maxcov * 0.1\n",
    "print(maps_convolved.shape)\n",
    "maps_convolved[:, unseen, :] = hp.UNSEEN\n",
    "maps_recon[:, unseen, :] = hp.UNSEEN"
   ]
  },
  {
   "cell_type": "code",
   "execution_count": null,
   "id": "8fa6214e",
   "metadata": {},
   "outputs": [],
   "source": [
    "print(coverage.shape)\n",
    "hp.mollview(coverage)\n",
    "#hp.write_map('sample_coverage_qubic.fits',coverage)"
   ]
  },
  {
   "cell_type": "code",
   "execution_count": null,
   "id": "b851ef9c",
   "metadata": {},
   "outputs": [],
   "source": [
    "maps_diff = maps_convolved - maps_recon\n",
    "# np.unique(np.isnan(maps_recon))\n",
    "maps_diff[maps_recon == -1.6375e+30] = -1.6375e+30\n",
    "hp.mollview(maps_diff[0, :, 0],min=-200,max=200)"
   ]
  },
  {
   "cell_type": "code",
   "execution_count": null,
   "id": "78e74f3b",
   "metadata": {},
   "outputs": [],
   "source": [
    "# Look at IQU in one band\n",
    "band = 0\n",
    "plt.figure(figsize=(8,8))\n",
    "rr = 15\n",
    "lim = [200, 3, 3]\n",
    "for istk in range(3):\n",
    "    plt.subplots_adjust(wspace=0.9)\n",
    "    hp.gnomview(maps_recon[band,:,istk], cmap ='jet', sub = (3,3,3*istk+1), rot=center, reso=rr, \n",
    "                title = '{0} rec {1}'.format(d['kind'][istk], band), min=-lim[istk], max=lim[istk])\n",
    "    hp.gnomview(maps_convolved[band,:,istk], cmap ='jet', sub = (3,3,3*istk+2), rot=center, reso=rr, \n",
    "                title = '{0} conv {1}'.format(d['kind'][istk], band), min=-lim[istk], max=lim[istk])\n",
    "    hp.gnomview(maps_diff[band,:,istk], cmap ='jet', sub = (3,3,3*istk+3), rot=center, reso=rr, \n",
    "                title = '{0} diff {1}'.format(d['kind'][istk], band), min=-lim[istk], max=lim[istk])"
   ]
  },
  {
   "cell_type": "code",
   "execution_count": null,
   "id": "221effbc",
   "metadata": {},
   "outputs": [],
   "source": [
    "okpix = maps_diff[0,:,0] != hp.UNSEEN\n",
    "print(np.std(maps_diff[:,okpix,:],axis=1))"
   ]
  },
  {
   "cell_type": "code",
   "execution_count": null,
   "id": "bc3f9a1d",
   "metadata": {},
   "outputs": [],
   "source": [
    "#### Save maps\n",
    "rnd_name = qss.random_string(10)\n",
    "directory = '/qubic/Sims/EndToEndMaps/'\n",
    "FitsArray(maps_recon).save(directory+'maps_recon_seed_'+str(seed)+'_'+rnd_name+'.fits')\n",
    "FitsArray(maps_convolved).save(directory+'maps_convolved_seed_'+str(seed)+'_'+rnd_name+'.fits')\n",
    "FitsArray(coverage).save(directory+'maps_coverage_'+rnd_name+'.fits')\n",
    "   \n",
    "import pickle\n",
    "with open(directory+'dictionary_'+rnd_name+'.pickle', 'wb') as handle:\n",
    "    pickle.dump(d, handle, protocol=pickle.HIGHEST_PROTOCOL)\n",
    "\n",
    "with open(directory+'input_cell_'+rnd_name+'.pickle', 'wb') as handle:\n",
    "    pickle.dump(Qubic_sky.input_cmb_spectra, handle, protocol=pickle.HIGHEST_PROTOCOL)\n",
    "\n",
    "\n"
   ]
  },
  {
   "cell_type": "code",
   "execution_count": null,
   "id": "a2a6dcb3",
   "metadata": {},
   "outputs": [],
   "source": []
  },
  {
   "cell_type": "code",
   "execution_count": null,
   "id": "3bca99d8",
   "metadata": {
    "lines_to_next_cell": 0
   },
   "outputs": [],
   "source": []
  },
  {
   "cell_type": "markdown",
   "id": "54f6b680",
   "metadata": {},
   "source": [
    "\n"
   ]
  },
  {
   "cell_type": "code",
   "execution_count": null,
   "id": "902fb6ce",
   "metadata": {},
   "outputs": [],
   "source": []
  }
 ],
 "metadata": {
  "kernelspec": {
   "display_name": "Python 3",
   "language": "python",
   "name": "python3"
  }
 },
 "nbformat": 4,
 "nbformat_minor": 5
}
