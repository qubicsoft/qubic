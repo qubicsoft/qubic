{
 "cells": [
  {
   "cell_type": "code",
   "execution_count": null,
   "id": "29994174",
   "metadata": {},
   "outputs": [],
   "source": [
    "%matplotlib inline\n",
    "\n",
    "import healpy as hp\n",
    "import glob\n",
    "from scipy.optimize import curve_fit\n",
    "import pickle\n",
    "from importlib import reload\n",
    "import time\n",
    "import scipy\n",
    "import matplotlib as mpl\n",
    "\n",
    "\n",
    "# Specific qubic modules\n",
    "from qubicpack.utilities import Qubic_DataDir\n",
    "from pysimulators import FitsArray\n",
    "import pysm3\n",
    "import qubic\n",
    "from qubic import QubicSkySim as qss\n",
    "from qubic import fibtools as ft\n",
    "from qubic import camb_interface as qc\n",
    "from qubic import SpectroImLib as si\n",
    "from qubic import NamasterLib as nam\n",
    "from qubic import mcmc\n",
    "\n",
    "reload(qss)\n",
    "reload(ft)\n",
    "\n",
    "rc('figure', figsize=(16, 10))\n",
    "rc('font', size=15)\n",
    "mpl.rcParams['image.cmap'] = 'jet'"
   ]
  },
  {
   "cell_type": "code",
   "execution_count": null,
   "id": "8ddc02ed",
   "metadata": {},
   "outputs": [],
   "source": [
    "ns = 256\n",
    "lmax = int(2.*ns)\n",
    "rndmap = np.random.randn(12*ns**2)\n",
    "hp.mollview(rndmap, sub=(1,2,1), title='White noise in map space')\n",
    "clrnd = hp.anafast(rndmap, lmax=lmax)\n",
    "ll = np.arange(lmax+1)\n",
    "print(len(ll), len(clrnd))\n",
    "subplot(1,2,2)\n",
    "plot(ll, clrnd*(12*ns**2)/4/np.pi)\n",
    "title('White noise in map space')\n",
    "\n",
    "figure()\n",
    "lmax2 = int(3.*ns)\n",
    "ll2 = np.arange(lmax2+1)\n",
    "clth = np.ones(lmax2)*4*np.pi/(12*ns**2)\n",
    "rndmap2 = hp.synfast(clth, ns, lmax=lmax2)\n",
    "\n",
    "hp.mollview(rndmap2, sub=(1,2,1), title='White noise generated in Harmonic space (synfast)')\n",
    "clrnd2 = hp.anafast(rndmap2, lmax=lmax, iter=10)\n",
    "print(len(ll), len(clrnd2))\n",
    "subplot(1,2,2)\n",
    "plot(ll, clrnd2*(12*ns**2)/4/np.pi)\n",
    "title('White noise generated in Harmonic space (synfast)')\n",
    "\n",
    "figure()\n",
    "a=hist(rndmap, range=[-10,10], bins=100, label='Map Sapce '+ft.statstr(rndmap), alpha=0.3)\n",
    "a=hist(rndmap2, range=[-10,10], bins=100, label='Harmonic Space '+ft.statstr(rndmap2), alpha=0.3)\n",
    "yscale('log')\n",
    "legend()\n"
   ]
  },
  {
   "cell_type": "code",
   "execution_count": null,
   "id": "1b9e85a1",
   "metadata": {},
   "outputs": [],
   "source": []
  }
 ],
 "metadata": {
  "kernelspec": {
   "display_name": "Python 3",
   "language": "python",
   "name": "python3"
  }
 },
 "nbformat": 4,
 "nbformat_minor": 5
}
