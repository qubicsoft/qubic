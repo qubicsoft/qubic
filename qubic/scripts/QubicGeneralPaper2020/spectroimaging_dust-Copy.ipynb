{
 "cells": [
  {
   "cell_type": "markdown",
   "id": "fa5efbf8",
   "metadata": {},
   "source": [
    "# QUBIC spectroimaging\n",
    "\n",
    "#### Editing by Martin Gamboa, Louise Mousset, 2019/09/02\n",
    "\n",
    "This notebook is part of a set of notebooks with the idea to show spectroimaging capabilities of qubicsoft. There are 2 notebooks:\n",
    "* spectroimaging_pointsource.Rmd: Test map-making for two point source emmiting in monochromatic frecuency and superimpose two signals in different frecuency and see how the reconstruction works\n",
    "* spectroimaging_dust.Rmd: test map-making using cmb+dust signal"
   ]
  },
  {
   "cell_type": "code",
   "execution_count": null,
   "id": "956d837f",
   "metadata": {},
   "outputs": [],
   "source": [
    "import pysm\n",
    "pysm?"
   ]
  },
  {
   "cell_type": "code",
   "execution_count": null,
   "id": "f4d4479e",
   "metadata": {},
   "outputs": [],
   "source": [
    "%matplotlib inline\n",
    "from pylab import *\n",
    "import os\n",
    "import sys\n",
    "\n",
    "# Specific science modules\n",
    "import healpy as hp\n",
    "import numpy as np\n",
    "\n",
    "# Specific qubic modules\n",
    "from qubicpack.utilities import Qubic_DataDir\n",
    "from pysimulators import FitsArray\n",
    "import qubic\n",
    "from qubic import SpectroImLib as si\n",
    "from pysm.nominal import models\n",
    "\n",
    "rc('figure', figsize=(13, 10))\n",
    "rc('font', size=15)"
   ]
  },
  {
   "cell_type": "code",
   "execution_count": null,
   "id": "229cf55d",
   "metadata": {},
   "outputs": [],
   "source": [
    "# Repository for dictionary and input maps\n",
    "global_dir = Qubic_DataDir(datafile='instrument.py', datadir=os.environ['QUBIC_DATADIR'])\n",
    "dictfilename = global_dir + '/dicts/spectroimaging_article.dict'\n",
    "\n",
    "# Read dictionary chosen\n",
    "d = qubic.qubicdict.qubicDict()\n",
    "d.read_from_file(dictfilename)\n",
    "print(d['nf_sub'])\n",
    "# Center of the patch observed in galactic coordinates\n",
    "# d['DEC_center'] = 45.\n",
    "# d['RA_center'] = 45.\n",
    "# d['latitude'] = 0.\n",
    "# d['longitude'] = 0.\n",
    "# d['npointings'] = 100\n",
    "center = qubic.equ2gal(d['RA_center'], d['DEC_center'])\n",
    "print(center)\n",
    "print(d)"
   ]
  },
  {
   "cell_type": "markdown",
   "id": "4ec6f4c2",
   "metadata": {},
   "source": [
    "# Input sky (to change)\n",
    "* two point source\n",
    "* two superimpose signals\n",
    "* cmb+dust"
   ]
  },
  {
   "cell_type": "code",
   "execution_count": null,
   "id": "3161f259",
   "metadata": {},
   "outputs": [],
   "source": [
    "# Make a sky using PYSM\n",
    "sky_config = {'dust': models('d1', d['nside']),\n",
    "             'cmb': models('c1', d['nside'])}\n",
    "Qubic_sky = si.Qubic_sky(sky_config, d)\n",
    "x0 = Qubic_sky.get_simple_sky_map()\n",
    "\n",
    "# Load a CMB map\n",
    "# x0 = FitsArray(dictmaps + 'CMB_nside64_nfsub14.fits')\n",
    "    \n",
    "print('Input Map with shape (nf_sub, #pixels, #stokes) : ', np.shape(x0))"
   ]
  },
  {
   "cell_type": "code",
   "execution_count": null,
   "id": "2bb28fa1",
   "metadata": {},
   "outputs": [],
   "source": [
    "# Look at the input sky maps using Healpy\n",
    "\n",
    "istokes = 0 # Stokes parameter (I, Q, U)\n",
    "imap = 2 # Frequency subband, should be smaller than nf_sub\n",
    "rr=9 # Resolution in arcmin\n",
    "\n",
    "plt.figure(figsize=(13,8))\n",
    "for istk in range(3):\n",
    "    plt.subplots_adjust(wspace=0.9)\n",
    "    hp.mollview(x0[imap,:,istk], cmap='jet', sub = (3,2,2*istk+1), \n",
    "                title = 'Mollview {0} Stokes parameter, map {1}'.format(d['kind'][istk], imap))\n",
    "    hp.gnomview(x0[imap,:,istk], cmap ='jet', sub = (3,2,2*istk+2), rot=center, reso=rr, \n",
    "                title = 'Gnomview {0} Stokes parameter, map {1}'.format(d['kind'][istk], imap))\n",
    "    "
   ]
  },
  {
   "cell_type": "code",
   "execution_count": null,
   "id": "493412ea",
   "metadata": {},
   "outputs": [],
   "source": [
    "istk = 1\n",
    "plt.figure(figsize=(13,8))\n",
    "for band in range(d['nf_sub']):\n",
    "    plt.subplots_adjust(wspace=0.9)\n",
    "    hp.gnomview(x0[band, :, istk], \n",
    "                rot=center,\n",
    "                reso=100,\n",
    "                cmap='jet', \n",
    "                sub = (4, 4, band+1),\n",
    "                min=0.,\n",
    "                max=500,\n",
    "                title = '{} Band {}'.format(d['kind'][istk], band))\n"
   ]
  },
  {
   "cell_type": "markdown",
   "id": "df69040d",
   "metadata": {},
   "source": [
    "# TOD simulation"
   ]
  },
  {
   "cell_type": "code",
   "execution_count": null,
   "id": "559b8a7f",
   "metadata": {},
   "outputs": [],
   "source": [
    "# Pointing strategy\n",
    "p = qubic.get_pointing(d)\n",
    "print('=== Pointing DONE! ===')\n",
    "\n",
    "# ==== TOD making ====\n",
    "TOD, maps_convolved = si.create_TOD(d, p, x0)\n",
    "print('--------- Noiseless TOD with shape: {} - Done ---------'.format(np.shape(TOD)))"
   ]
  },
  {
   "cell_type": "code",
   "execution_count": null,
   "id": "6c2b71ac",
   "metadata": {},
   "outputs": [],
   "source": [
    "q = qubic.QubicMultibandInstrument(d)\n",
    "s = qubic.QubicScene(d)\n",
    "rot_beams = si.get_hitmap(q[0], s, p)"
   ]
  },
  {
   "cell_type": "code",
   "execution_count": null,
   "id": "4cade1fe",
   "metadata": {},
   "outputs": [],
   "source": [
    "rot_beams.shape\n",
    "hp.mollview(np.sum(rot_beams, axis=0))"
   ]
  },
  {
   "cell_type": "code",
   "execution_count": null,
   "id": "d4e17e00",
   "metadata": {},
   "outputs": [],
   "source": [
    "TOD.shape"
   ]
  },
  {
   "cell_type": "markdown",
   "id": "c8e81554",
   "metadata": {},
   "source": [
    "# Map-Making"
   ]
  },
  {
   "cell_type": "code",
   "execution_count": null,
   "id": "52d12e96",
   "metadata": {},
   "outputs": [],
   "source": [
    "nf_sub_rec = d['nf_recon'][1]\n",
    "\n",
    "Nfreq_edges, nus_edge, nus, deltas, Delta, Nbbands = qubic.compute_freq(150, nf_sub_rec)\n",
    "print('Band center:', nus)\n",
    "print('Band edges:', nus_edge)\n",
    "print('Band width:', deltas)\n",
    "\n",
    "len(nus_edge)\n",
    "for i in range(len(nus_edge) - 1):\n",
    "    print('base =', nus_edge[i+1] / nus_edge[i])\n",
    "    \n",
    "# plt.plot(nus, [1, 1], 'ro')\n",
    "# plt.plot(nus_edge, [1, 1, 1], 'bo')"
   ]
  },
  {
   "cell_type": "code",
   "execution_count": null,
   "id": "b701e459",
   "metadata": {},
   "outputs": [],
   "source": [
    "d['tol']=1e-5\n",
    "maps_recon, cov, nus, nus_edge, maps_convolved = si.reconstruct_maps(TOD, d, p,\n",
    "                                                                    nf_sub_rec, x0=x0)\n",
    "print(maps_recon.shape)"
   ]
  },
  {
   "cell_type": "code",
   "execution_count": null,
   "id": "a80c1b49",
   "metadata": {},
   "outputs": [],
   "source": [
    "# Look at the coverage of the sky\n",
    "cov = np.sum(cov, axis=0)\n",
    "maxcov = np.max(cov)\n",
    "unseen = cov < maxcov * 0.1\n",
    "maps_convolved[:, unseen, :] = hp.UNSEEN\n",
    "maps_recon[:, unseen, :] = hp.UNSEEN"
   ]
  },
  {
   "cell_type": "code",
   "execution_count": null,
   "id": "f06ebf04",
   "metadata": {},
   "outputs": [],
   "source": [
    "maps_diff = maps_convolved - maps_recon\n",
    "# np.unique(np.isnan(maps_recon))\n",
    "maps_diff[maps_recon == -1.6375e+30] = -1.6375e+30\n",
    "hp.mollview(maps_diff[0, :, 0])\n",
    "maps_recon"
   ]
  },
  {
   "cell_type": "code",
   "execution_count": null,
   "id": "64767016",
   "metadata": {},
   "outputs": [],
   "source": [
    "# Look at IQU in one band\n",
    "band = 1\n",
    "plt.figure(figsize=(8,8))\n",
    "rr = 15\n",
    "for istk in range(3):\n",
    "    plt.subplots_adjust(wspace=0.9)\n",
    "    hp.gnomview(maps_recon[band,:,istk], cmap ='jet', sub = (3,3,3*istk+1), rot=center, reso=rr, \n",
    "                title = '{0} rec {1}'.format(d['kind'][istk], band))\n",
    "    hp.gnomview(maps_convolved[band,:,istk], cmap ='jet', sub = (3,3,3*istk+2), rot=center, reso=rr, \n",
    "                title = '{0} conv {1}'.format(d['kind'][istk], band))\n",
    "    hp.gnomview(maps_diff[band,:,istk], cmap ='jet', sub = (3,3,3*istk+3), rot=center, reso=rr, \n",
    "                title = '{0} diff {1}'.format(d['kind'][istk], band))\n"
   ]
  },
  {
   "cell_type": "code",
   "execution_count": null,
   "id": "d405b0f8",
   "metadata": {},
   "outputs": [],
   "source": [
    "istk = 0\n",
    "plt.figure(figsize=(8,8))\n",
    "rr = 15\n",
    "min = -150\n",
    "max= 150\n",
    "for band in range(nf_sub_rec):\n",
    "    plt.subplots_adjust(wspace=0.9)\n",
    "    hp.gnomview(maps_recon[band,:,istk], cmap ='jet', sub = (nf_sub_rec, 3, 3*band+1), rot=center, reso=rr, \n",
    "                title = '{0} rec {1}'.format(d['kind'][istk], band), min=min, max=max)\n",
    "    hp.gnomview(maps_convolved[band,:,istk], cmap ='jet', sub = (nf_sub_rec, 3, 3*band+2), rot=center, reso=rr, \n",
    "                title = '{0} conv {1}'.format(d['kind'][istk], band), min=min, max=max)\n",
    "    hp.gnomview(maps_diff[band,:,istk], cmap ='jet', sub = (nf_sub_rec, 3, 3*band+3), rot=center, reso=rr, \n",
    "                title = '{0} diff {1}'.format(d['kind'][istk], band), min=min/15, max=max/15)\n"
   ]
  },
  {
   "cell_type": "markdown",
   "id": "44650460",
   "metadata": {},
   "source": [
    "## Make a fake sky"
   ]
  },
  {
   "cell_type": "code",
   "execution_count": null,
   "id": "51bf5c6c",
   "metadata": {},
   "outputs": [],
   "source": [
    "def scaling_dust(freq1, freq2, sp_index=1.8): \n",
    "    '''\n",
    "    Calculate scaling factor for dust contamination\n",
    "    Frequencies are in GHz\n",
    "    '''\n",
    "    freq1 = float(freq1)\n",
    "    freq2 = float(freq2)\n",
    "    x1 = freq1 / 56.78\n",
    "    x2 = freq2 / 56.78\n",
    "    S1 = x1**2. * np.exp(x1) / (np.exp(x1) - 1)**2.\n",
    "    S2 = x2**2. * np.exp(x2) / (np.exp(x2) - 1)**2.\n",
    "    vd = 375.06 / 18. * 19.6\n",
    "    scaling_factor_dust = (np.exp(freq1 / vd) - 1) / \\\n",
    "                          (np.exp(freq2 / vd) - 1) * \\\n",
    "                          (freq2 / freq1)**(sp_index + 1)\n",
    "    scaling_factor_termo = S1 / S2 * scaling_factor_dust\n",
    "    return scaling_factor_termo\n",
    "\n",
    "\n",
    "def scaling_synchrotron(freq1, freq2, sp_index=-3): \n",
    "    '''\n",
    "    Calculate scaling factor for synchrotron contamination\n",
    "    Frequencies are in GHz\n",
    "    '''\n",
    "    x1 = freq1 / 56.78\n",
    "    x2 = freq2 / 56.78\n",
    "    S1 = x1**2. * np.exp(x1) / (np.exp(x1) - 1)**2.\n",
    "    S2 = x2**2. * np.exp(x2) / (np.exp(x2) - 1)**2.\n",
    "    vd = 375.06 / 18. * 19.6\n",
    "    scaling_factor_synchrotron = S1 / S2 * (np.exp(freq1 / vd) - 1) / \\\n",
    "                                 (np.exp(freq2 / vd) - 1) * \\\n",
    "                                 (freq2 / freq1)**(sp_index + 1)\n",
    "    return scaling_factor_synchrotron\n",
    "\n",
    "\n",
    "def cmb_plus_dust_synchrotron(cmb, dust, synchrotron, d):\n",
    "    '''\n",
    "    Sum up clean CMB map with dust and synchrotron \n",
    "    using proper scaling coefficients\n",
    "    '''\n",
    "    nf_sub = d['nf_sub']\n",
    "    _, _, nus, _, _, _ = qubic.compute_freq(150, nf_sub)\n",
    "    print(nus)\n",
    "    \n",
    "    kind = d['kind']\n",
    "    nstokes =  len(kind) #Number of stokes parameters used in the simu\n",
    "    \n",
    "    npix = 12 * d['nside']**2\n",
    "    x0 = np.zeros((nf_sub, npix, 3))\n",
    "    \n",
    "    # Let's fill the maps:\n",
    "    for i in range(nf_sub):\n",
    "        for istokes in range(nstokes):\n",
    "            if kind == 'QU': #This condition keeps the order IQU in the healpix map\n",
    "                x0[i, :, istokes+1] = cmb[i, :, istokes+1] \\\n",
    "                                    + dust[i, :, istokes+1] * scaling_dust(150, nus[i])\\\n",
    "                                    + synchrotron[i, :, istokes+1] * scaling_synchrotron(150, nus[i])\n",
    "            else:\n",
    "                x0[i, :, istokes] = cmb[i, :, istokes] \\\n",
    "                                    + dust[i, :, istokes] * scaling_dust(150, nus[i], 1.59)\\\n",
    "                                    + synchrotron[i, :, istokes] * scaling_synchrotron(150, nus[i])\n",
    "    return x0\n",
    "\n",
    "\n",
    "def create_input_sky(d, skypars):\n",
    "    Nf = int(d['nf_sub'])\n",
    "    band = d['filter_nu']/1e9\n",
    "    filter_relative_bandwidth = d['filter_relative_bandwidth']\n",
    "    _, _, nus_in, _, _, Nbbands_in = qubic.compute_freq(band, filter_relative_bandwidth, Nf)\n",
    "    # seed\n",
    "    if d['seed']:\n",
    "        np.random.seed(d['seed'])\n",
    "        \n",
    "        # Generate the input CMB map\n",
    "        sp = qubic.read_spectra(skypars['r'])\n",
    "        cmb = np.array(hp.synfast(sp, d['nside'], new=True, pixwin=True, verbose=False)).T\n",
    "        \n",
    "        # Generate the dust map\n",
    "        coef = skypars['dust_coeff']\n",
    "        ell = np.arange(1, 3*d['nside'])\n",
    "        fact = (ell * (ell + 1)) / (2 * np.pi)\n",
    "        spectra_dust = [np.zeros(len(ell)), \n",
    "                        coef * (ell / 80.)**(-0.42) / (fact * 0.52), \n",
    "                        coef * (ell / 80.)**(-0.42) / fact, \n",
    "                        np.zeros(len(ell))]\n",
    "        dust = np.array(hp.synfast(spectra_dust, d['nside'], new=True, pixwin=True, verbose=False)).T\n",
    "        \n",
    "        # Combine CMB and dust. As output we have N 3-component maps of sky.\n",
    "        x0 = cmb_plus_dust(cmb, dust, Nbbands_in, nus_in, d['kind'])\n",
    "        return x0"
   ]
  },
  {
   "cell_type": "code",
   "execution_count": null,
   "id": "587c361a",
   "metadata": {},
   "outputs": [],
   "source": [
    "# Create 3 basics sky maps with PySM (cmb, dust, synchrotron)\n",
    "Qubic_sky_cmb = si.Qubic_sky({'cmb': models('c1', d['nside'])}, d)\n",
    "x0_cmb = Qubic_sky_cmb.get_simple_sky_map()\n",
    "\n",
    "Qubic_sky_dust = si.Qubic_sky({'dust': models('d1', d['nside'])}, d)\n",
    "x0_dust = Qubic_sky_dust.get_simple_sky_map()\n",
    "\n",
    "Qubic_sky_synchro = si.Qubic_sky({'synchrotron': models('s1', d['nside'])}, d)\n",
    "x0_synchro = Qubic_sky_synchro.get_simple_sky_map()"
   ]
  },
  {
   "cell_type": "code",
   "execution_count": null,
   "id": "302296d8",
   "metadata": {},
   "outputs": [],
   "source": [
    "x0new = cmb_plus_dust_synchrotron(x0_cmb, x0_dust, x0_synchro, d)"
   ]
  },
  {
   "cell_type": "code",
   "execution_count": null,
   "id": "216051a0",
   "metadata": {},
   "outputs": [],
   "source": [
    "hp.mollview(x0new[0, :, 0], min=-200, max=500)"
   ]
  },
  {
   "cell_type": "code",
   "execution_count": null,
   "id": "9c1e042a",
   "metadata": {},
   "outputs": [],
   "source": [
    "x0new = x0_cmb + x0_synchro*60 + x0_dust\n",
    "hp.mollview(x0_cmb[1, :, 0], sub=(221), min=-200., max=200)\n",
    "hp.mollview(x0_dust[1, :, 0], sub=(222), min=0., max=1000)\n",
    "hp.mollview(x0_synchro[1, :, 0], sub=(223), min=0., max=2)\n",
    "hp.mollview(x0new[1, :, 0], sub=(224))\n",
    "mean = np.std(x0new, axis=(1, 2))"
   ]
  },
  {
   "cell_type": "code",
   "execution_count": null,
   "id": "088c1b0e",
   "metadata": {},
   "outputs": [],
   "source": [
    " _, _, nus, _, _, _ = qubic.compute_freq(150, d['nf_sub'])\n",
    "# plt.plot(nus, mean)\n",
    "plt.plot(nus, np.std(x0_cmb+x0_dust + x0_synchro*60, axis = (1, 2)), label='cmb')\n",
    "# plt.plot(nus, np.std(x0_dust, axis = (1, 2)), label='dust')\n",
    "# plt.plot(nus, np.std(x0_synchro*60, axis = (1, 2)), label='60synchro')\n",
    "plt.xlabel('f [GHz]')\n",
    "plt.legend()"
   ]
  },
  {
   "cell_type": "code",
   "execution_count": null,
   "id": "9f4cc603",
   "metadata": {},
   "outputs": [],
   "source": []
  }
 ],
 "metadata": {
  "kernelspec": {
   "display_name": "Python 3",
   "language": "python",
   "name": "python3"
  }
 },
 "nbformat": 4,
 "nbformat_minor": 5
}
