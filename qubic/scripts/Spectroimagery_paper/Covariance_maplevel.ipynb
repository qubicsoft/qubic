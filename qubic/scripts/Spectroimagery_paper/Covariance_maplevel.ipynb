{
 "cells": [
  {
   "cell_type": "markdown",
   "id": "217e9cf3",
   "metadata": {},
   "source": [
    "# Covariances at map level\n",
    "\n",
    "#### Louise Mousset, 2020/06/05\n",
    "\n",
    "This notebook is structured in 2 parts:\n",
    "- get all possible covariance matrices\n",
    "- recombine the sub-bands in only one\n",
    "\n",
    "We try to do it using simulations from FastSim and from the full pipeline simulations to compare.  "
   ]
  },
  {
   "cell_type": "code",
   "execution_count": null,
   "id": "5f0894cb",
   "metadata": {},
   "outputs": [],
   "source": [
    "%matplotlib inline\n",
    "from pylab import *\n",
    "import os\n",
    "import sys\n",
    "import glob\n",
    "\n",
    "# Specific science modules\n",
    "import healpy as hp\n",
    "import numpy as np\n",
    "from astropy.io import fits\n",
    "\n",
    "# Specific qubic modules\n",
    "from qubicpack.utilities import Qubic_DataDir\n",
    "from pysimulators import FitsArray\n",
    "import pysm3\n",
    "import pysm3.units as u\n",
    "\n",
    "import qubic\n",
    "from qubic import SpectroImLib as si\n",
    "from qubic import QubicSkySim as qss\n",
    "from qubic import NamasterLib as nam\n",
    "import qubic.fibtools as ft\n",
    "from qubic.polyacquisition import compute_freq\n",
    "\n",
    "from qubic import ReadMC as rmc\n",
    "from qubic import AnalysisMC as amc\n",
    "\n",
    "rc('figure', figsize=(13, 10))\n",
    "rc('font', size=15)"
   ]
  },
  {
   "cell_type": "code",
   "execution_count": null,
   "id": "7bece06a",
   "metadata": {},
   "outputs": [],
   "source": [
    "import matplotlib.colors as mcolors\n",
    "colorlist = list(mcolors.TABLEAU_COLORS.keys())"
   ]
  },
  {
   "cell_type": "markdown",
   "id": "fa2b49c0",
   "metadata": {},
   "source": [
    "# Get the files"
   ]
  },
  {
   "cell_type": "code",
   "execution_count": null,
   "id": "4b163904",
   "metadata": {},
   "outputs": [],
   "source": [
    "global_dir = Qubic_DataDir(datafile='instrument.py', datadir=os.environ['QUBIC_DATADIR'])\n",
    "print(global_dir)\n",
    "\n",
    "#datadir = os.environ['DATA_SPECTROIM']\n",
    "datadir = '/home/martin/QUBIC/qubic/qubic/data/LouiseSims/'\n"
   ]
  },
  {
   "cell_type": "code",
   "execution_count": null,
   "id": "f5e27a50",
   "metadata": {},
   "outputs": [],
   "source": [
    "# rep_mapCC = '/home/lmousset/QUBIC/Qubic_work/SpectroImagerie/Simu_spectroim/FastSimulator/maps_FastSim/'\n",
    "rep_mapCC = '/home/martin/QUBIC/qubic/qubic/doc/FastSimulator/Data/NoiseLouiseFastSim/'\n",
    "\n",
    "# rep = '/home/lmousset/QUBIC/Qubic_work/SpectroImagerie/paper_simu/galaxy_center_d1/test_residuals/31613089/'\n",
    "# rep = '/home/lmousset/QUBIC/Qubic_work/SpectroImagerie/paper_simu/29712494/'\n",
    "\n",
    "nfrecon = 3\n",
    "freq = 150\n",
    "#rep = datadir + f'/NERSC_simuEnd2End/Good_photon_noise2020/simu_NERSC_MC/FI{freq}/galaxycenter_3bandes/'\n",
    "rep = datadir + f'34102467/'"
   ]
  },
  {
   "cell_type": "code",
   "execution_count": null,
   "id": "21a15ca8",
   "metadata": {},
   "outputs": [],
   "source": [
    "# For full pipeline simulations\n",
    "dictionary = glob.glob(rep + '/*.dict')[0]\n",
    "print(dictionary)\n",
    "\n",
    "# Dictionary saved during the simulation\n",
    "d = qubic.qubicdict.qubicDict()\n",
    "d.read_from_file(dictionary)\n",
    "\n",
    "# Coordinates of the zone observed in the sky\n",
    "center = qubic.equ2gal(d['RA_center'], d['DEC_center'])\n",
    "\n",
    "# Number of subbands used during the simulation\n",
    "\n",
    "nfsub = d['nf_sub']\n",
    "print('nf_sub = {}, nf_recon = {}'.format(nfsub, nfrecon))\n",
    "\n",
    "# Get fits files names in a list\n",
    "fits_noise = np.sort(glob.glob(rep + '*_nfsub{}_nfrecon{}_noiselessFalse*.fits'.format(nfsub, nfrecon), \n",
    "                              recursive=True))\n",
    "fits_noiseless = np.sort(glob.glob(rep + '*_nfsub{}_nfrecon{}_noiselessTrue*.fits'.format(nfsub, nfrecon), \n",
    "                              recursive=True))\n",
    "\n",
    "print(fits_noiseless)\n",
    "\n",
    "# Number of noise realisations\n",
    "nreals = len(fits_noise)\n",
    "print('nreals = ', nreals)\n",
    "\n",
    "# Get seen map (observed pixels)\n",
    "seenmap = rmc.get_seenmap(fits_noiseless[0])\n",
    "print(seenmap.shape)\n",
    "\n",
    "# Number of pixels and nside\n",
    "npix = seenmap.sum()\n",
    "print('npix:', npix)\n",
    "\n",
    "patch = amc.get_residuals(fits_noise, fits_noiseless[0], 'noiseless')"
   ]
  },
  {
   "cell_type": "markdown",
   "id": "d5e269b2",
   "metadata": {},
   "source": [
    "#### Probando numeracion de pixeles y orden"
   ]
  },
  {
   "cell_type": "code",
   "execution_count": null,
   "id": "946d7039",
   "metadata": {},
   "outputs": [],
   "source": [
    "# Copy the variables to a new ones \n",
    "seenmap_prueba = rmc.get_seenmap(fits_noise[0])\n",
    "rec_prueba, _, _ = rmc.get_maps(fits_noise[0])#, seenmap_prueba)\n",
    "center_prueba = center\n",
    "print(\"Shapes: \", seenmap_prueba.shape, rec_prueba.shape)\n",
    "\n",
    "# Create pixel and angular vectors for full pixel array\n",
    "arr_prueba = np.arange(len(seenmap_prueba))\n",
    "ang_prueba = hp.pix2ang(256, arr_prueba)\n",
    "\n",
    "#Check the numeration is in arbitrary order in the patch (following ring ordering)\n",
    "#plt.figure(figsize = (10,10))\n",
    "#hp.gnomview(seenmap_prueba, reso = 3, \n",
    "#            min = 0, max = 1)\n",
    "#for i in range(16293,16320):\n",
    "#    if i%100 == 0: print(i)\n",
    "#    hp.projtext(ang_prueba[0][seenmap_prueba][i],\n",
    "#           ang_prueba[1][seenmap_prueba][i], s = '{}'.format(i), fontsize = 12,\n",
    "#               rotation = 30)\n",
    "#for i in range(14283,14303):\n",
    "#    if i%100 == 0: print(i)\n",
    "#    hp.projtext(ang_prueba[0][seenmap_prueba][i],\n",
    "#           ang_prueba[1][seenmap_prueba][i], s = '{}'.format(i), fontsize = 12,\n",
    "#               rotation = 30)"
   ]
  },
  {
   "cell_type": "code",
   "execution_count": null,
   "id": "63951b14",
   "metadata": {},
   "outputs": [],
   "source": [
    "#Seen arbitrary order to seen from center of the FOV\n",
    "#\n",
    "# Compute angular distance between center of the FOV and all pixels\n",
    "#\n",
    "center_vec = hp.ang2vec(np.pi/2-np.radians(center_prueba[1]), np.radians(center_prueba[0]))\n",
    "#print(\"center vec\", center_vec)\n",
    "vec_prueba = hp.pix2vec(256, arr_prueba)\n",
    "distang = np.arccos(np.dot(center_vec, vec_prueba))\n",
    "index_distang = np.argsort(distang)\n",
    "#dict_order = {i: index_distang[i] for i in np.arange(len(arr_prueba))}\n",
    "#order_trad = np.array([arr_prueba, index])\n",
    "print(np.where(index_distang == 0))\n",
    "\n",
    "da_patch = distang[seenmap_prueba]\n",
    "sda = np.argsort(da_patch)\n",
    "\n",
    "# Change patch ordering\n",
    "#patch = patch[:,:, sda, :]"
   ]
  },
  {
   "cell_type": "code",
   "execution_count": null,
   "id": "9c0f9eda",
   "metadata": {},
   "outputs": [],
   "source": [
    "stokes = ['I', 'Q', 'U']\n",
    "allrecon = [1, 2, 3, 4, 5, 8]\n",
    "nfrecon = 3\n",
    "config = 'FI150'"
   ]
  },
  {
   "cell_type": "code",
   "execution_count": null,
   "id": "e1393e5d",
   "metadata": {},
   "outputs": [],
   "source": [
    "# Make just one file\n",
    "#for nfrecon in allrecon:\n",
    "#    files = glob.glob(rep_mapCC + 'noisepatch_NOspat*_nbands{}*FI150*20reals*.npy'.format(nfrecon))\n",
    "#    nfiles = len(files)\n",
    "#    print('# files:', nfiles)\n",
    "#\n",
    "#    for i, file in enumerate(files):\n",
    "#        pa = np.load(file)\n",
    "#        if i == 0:\n",
    "#            patch = pa\n",
    "#        else:\n",
    "#            patch = np.concatenate((patch, pa), axis=0)\n",
    "#    print(patch.shape)\n",
    "##     patch_seen = patch[:, :, seenmap, :]\n",
    "##     print(patch_seen.shape)\n",
    "#\n",
    "#    # Save the full array \n",
    "#    np.save(rep_mapCC + 'noisepatch_NOspatialcorr_nbands{}_FI150_500reals.npy'.format(nfrecon), patch)"
   ]
  },
  {
   "cell_type": "code",
   "execution_count": null,
   "id": "c48e961f",
   "metadata": {},
   "outputs": [],
   "source": [
    "## Load a file already saved\n",
    "#patch = np.load(rep_mapCC + f'noisepatch_NOspatialcorr_nbands{nfrecon}_' + config + '_500reals.npy')\n",
    "#print(patch.shape)\n",
    "#nreals = patch.shape[0]"
   ]
  },
  {
   "cell_type": "code",
   "execution_count": null,
   "id": "07b98ffe",
   "metadata": {},
   "outputs": [],
   "source": [
    "# Frequencies of the reconstructed subbands\n",
    "for nf in allrecon:\n",
    "    Nfreq_edges, nus_edge, nus, deltas, Delta, Nbbands = compute_freq(int(config[-3:]), nf)\n",
    "    print(f'nbands = {nf}', nus)"
   ]
  },
  {
   "cell_type": "markdown",
   "id": "58a5e8a1",
   "metadata": {},
   "source": [
    "## Coverage and seenmap"
   ]
  },
  {
   "cell_type": "markdown",
   "id": "22221286",
   "metadata": {},
   "source": [
    "#### If simu from Fast Simulator"
   ]
  },
  {
   "cell_type": "code",
   "execution_count": null,
   "id": "97e4b555",
   "metadata": {},
   "outputs": [],
   "source": [
    "import pickle\n",
    "# The coverage is the same for all numbers of bands\n",
    "DataFastSimCoverage = pickle.load(open(global_dir +\n",
    "                                       '/doc/FastSimulator/Data/DataFastSimulator_' + config + '_coverage.pkl',\n",
    "                                       \"rb\"))\n",
    "coverage_norm = DataFastSimCoverage['coverage']\n",
    "\n",
    "# Before we had one coverage for each number of bands\n",
    "# with open(rep_mapCC + 'coverage_norm.pkl', 'rb') as f:\n",
    "#     coverage = pickle.load(f)\n",
    "# coverage_normlist = coverage[1:]\n",
    "\n",
    "# index = allrecon.index(nfrecon)\n",
    "# coverage_norm = coverage_normlist[index]"
   ]
  },
  {
   "cell_type": "code",
   "execution_count": null,
   "id": "1c871e48",
   "metadata": {},
   "outputs": [],
   "source": [
    "unseen = coverage_norm < np.max(coverage_norm) * 0.1\n",
    "seenmap = np.invert(unseen)\n",
    "\n",
    "# Number of pixels\n",
    "npix = seenmap.sum()\n",
    "print('npix:', npix)\n"
   ]
  },
  {
   "cell_type": "code",
   "execution_count": null,
   "id": "d2f5fdcf",
   "metadata": {},
   "outputs": [],
   "source": [
    "# with open(rep_mapCC + 'seenmap.pkl', 'rb') as f:\n",
    "#     smap = pickle.load(f)\n",
    "# seenmaplist = smap[1:]\n",
    "\n",
    "# index = allrecon.index(nfrecon)\n",
    "# seenmap = seenmaplist[index]"
   ]
  },
  {
   "cell_type": "markdown",
   "id": "cd702d64",
   "metadata": {},
   "source": [
    "#### If simu from Full pipeline"
   ]
  },
  {
   "cell_type": "code",
   "execution_count": null,
   "id": "5196ab9f",
   "metadata": {},
   "outputs": [],
   "source": [
    "fitsfile = fits.open(fits_noise[0])\n",
    "coverage = fitsfile['COVERAGE'].data\n",
    "hp.gnomview(coverage, reso = 12)\n",
    "coverage_patch = coverage[seenmap]\n",
    "coverage_patch.shape\n",
    "\n",
    "#coverage_copy = np.zeros(coverage.shape)\n",
    "#masking1 = coverage > 0.6*coverage.max()\n",
    "#masking2 = coverage < 0.8*coverage.max()\n",
    "#coverage_copy[masking1 * masking2] = coverage[masking1 * masking2]\n",
    "#hp.gnomview(coverage_copy, reso = 12)\n",
    "#hp.projscatter(np.pi/2, np.radians(8.5), marker = '*', color = 'r', s = 200)\n",
    "#hp.projscatter(np.pi/2, np.radians(12.5), marker = '*', color = 'm', s = 200)\n",
    "#coverage_patch = coverage[masking1*masking2]"
   ]
  },
  {
   "cell_type": "code",
   "execution_count": null,
   "id": "35605beb",
   "metadata": {},
   "outputs": [],
   "source": [
    "ang = rmc.pix2ang(d['nside'], center, seenmap)\n",
    "coverage_norm = coverage_patch / np.max(coverage_patch)\n",
    "inverse_coverage = 1. / (np.sqrt(coverage_norm))"
   ]
  },
  {
   "cell_type": "markdown",
   "id": "12b05bcc",
   "metadata": {},
   "source": [
    "# Covariances matrices"
   ]
  },
  {
   "cell_type": "markdown",
   "id": "1c615503",
   "metadata": {},
   "source": [
    "### Cp matrices"
   ]
  },
  {
   "cell_type": "code",
   "execution_count": null,
   "id": "7671443b",
   "metadata": {},
   "outputs": [],
   "source": [
    "p = 10\n",
    "s = 0\n",
    "plt.scatter(patch[:, 0, p, s], patch[:, 1, p, s])\n",
    "pval = np.polyfit(patch[:, 0, p, s], patch[:, 1, p, s], deg=1)\n",
    "print(pval)\n",
    "x = np.linspace(-40, 140, 10)\n",
    "plt.plot(x, np.polyval(pval, x))\n",
    "plt.title(f'{stokes[s]} - pixel {p}')\n",
    "plt.xlabel('Freq 0')\n",
    "plt.ylabel('Freq 1')"
   ]
  },
  {
   "cell_type": "code",
   "execution_count": null,
   "id": "28ff6a46",
   "metadata": {},
   "outputs": [],
   "source": [
    "Cp = amc.get_Cp(patch, verbose=False)\n",
    "print('Cp shape:', Cp.shape)\n",
    "\n",
    "Cpcorr = np.zeros_like(Cp)\n",
    "for p in range(npix):\n",
    "    for s in range(3):\n",
    "        Cpcorr[:, :, s, p] = amc.cov2corr(Cp[:, :, s, p])"
   ]
  },
  {
   "cell_type": "code",
   "execution_count": null,
   "id": "c963d109",
   "metadata": {},
   "outputs": [],
   "source": [
    "labs = []\n",
    "for i in range(nfrecon):\n",
    "    labs.append(r'$\\nu_{}$'.format(i))\n",
    "\n",
    "plt.figure(figsize=(20, 100))\n",
    "for p in range(1, 10):\n",
    "    for s in range(3):\n",
    "        plt.subplot(10, 3, 3*p + s + 1)\n",
    "        vmax = np.max(np.abs(Cp[:, :, s, p]))\n",
    "        plt.imshow(Cp[:, :, s, p], vmin=-vmax, vmax=vmax, cmap='bwr')\n",
    "        plt.title('Cov - ' + stokes[s] + ' - pixel {}'.format(p))\n",
    "        plt.colorbar(orientation='horizontal', fraction=0.2)\n",
    "        plt.xticks(np.arange(len(labs)), labs)\n",
    "        plt.yticks(np.arange(len(labs)), labs)\n",
    "\n",
    "   "
   ]
  },
  {
   "cell_type": "code",
   "execution_count": null,
   "id": "25b5d919",
   "metadata": {},
   "outputs": [],
   "source": [
    "plt.figure(figsize=(20, 100))\n",
    "for p in range(1, 10):\n",
    "    for s in range(3):\n",
    "        plt.subplot(10, 3, 3*p + s + 1)\n",
    "        plt.imshow(Cpcorr[:, :, s, p], vmin=-1, vmax=1, cmap='bwr')\n",
    "        plt.title('Corr - ' + stokes[s] + ' - pixel {}'.format(p))\n",
    "        plt.colorbar(orientation='horizontal', fraction=0.2)\n",
    "        plt.xticks(np.arange(len(labs)), labs)\n",
    "        plt.yticks(np.arange(len(labs)), labs)"
   ]
  },
  {
   "cell_type": "code",
   "execution_count": null,
   "id": "1cde9241",
   "metadata": {},
   "outputs": [],
   "source": [
    "from mpl_toolkits.axes_grid1 import make_axes_locatable\n",
    "\n",
    "def make_axis_label(ax, labs):\n",
    "    ax.set_xticks(np.arange(len(labs)))\n",
    "    ax.set_xticklabels(labs)\n",
    "    ax.set_yticks(np.arange(len(labs)))\n",
    "    ax.set_yticklabels(labs)\n",
    "    return\n",
    "    \n",
    "fig, axs = plt.subplots(1, 3)\n",
    "fig.set_figheight(5)\n",
    "fig.set_figwidth(15)\n",
    "fig.subplots_adjust(wspace=0.5)\n",
    "for s in range(3):\n",
    "    ax = axs[s]\n",
    "    im = ax.imshow(np.mean(Cpcorr[:, :, s, :], axis=2), vmin=-1, vmax=1, cmap='bwr')\n",
    "    \n",
    "    ax.set_title(stokes[s])\n",
    "    make_axis_label(ax, labs)    \n",
    "    \n",
    "    divider = make_axes_locatable(axs[s])\n",
    "    cax = divider.append_axes('bottom', size='5%', pad=0.5)\n",
    "    fig.colorbar(im, cax=cax, orientation='horizontal')\n",
    "    \n",
    "# plt.savefig('/home/lmousset/QUBIC/Qubic_work/SpectroImagerie/paper_plot/corr_matrix_Cp_maplevel_avg_overpix.pdf')"
   ]
  },
  {
   "cell_type": "markdown",
   "id": "c0278e8e",
   "metadata": {},
   "source": [
    "### Go to Cp_prime"
   ]
  },
  {
   "cell_type": "code",
   "execution_count": null,
   "id": "d1eb9670",
   "metadata": {},
   "outputs": [],
   "source": [
    "# Cp_prime over bins (normalisation by the first term)\n",
    "N00, Cp_prime00 = amc.Cp2Cp_prime(Cp, verbose=True)\n",
    "\n",
    "# pixel:\n",
    "p = 10\n",
    "\n",
    "plt.figure(figsize=(15, 10))\n",
    "for s in range(3):\n",
    "    plt.subplot(1, 3, s+1)\n",
    "    vmax = np.max(np.abs(Cp_prime00[:, :, s, p]))\n",
    "    plt.imshow(Cp_prime00[:, :, s, p], vmin=-vmax, vmax=vmax, cmap='bwr')\n",
    "    plt.title(stokes[s] + ' - Cp_prime00 - pixel {}'.format(p))\n",
    "    plt.colorbar(orientation='horizontal', fraction=0.1)\n",
    "    plt.xticks(np.arange(len(labs)), labs)\n",
    "    plt.yticks(np.arange(len(labs)), labs)"
   ]
  },
  {
   "cell_type": "code",
   "execution_count": null,
   "id": "f9015bc5",
   "metadata": {},
   "outputs": [],
   "source": [
    "# Cp_prime over bins (normalisation by the diagonal)\n",
    "N, Cp_prime = amc.Cp2Cp_prime_viaCorr(Cp, verbose=True)\n",
    "\n",
    "# pixel:\n",
    "p = 10\n",
    "\n",
    "plt.figure(figsize=(15, 10))\n",
    "for s in range(3):\n",
    "    plt.subplot(1, 3, s+1)\n",
    "    vmax = np.max(np.abs(Cp_prime[:, :, s, p]))\n",
    "    plt.imshow(Cp_prime[:, :, s, p], vmin=-vmax, vmax=vmax, cmap='bwr')\n",
    "    plt.title(stokes[s] + ' - Cp_prime - pixel {}'.format(p))\n",
    "    plt.colorbar(orientation='horizontal', fraction=0.1)\n",
    "    plt.xticks(np.arange(len(labs)), labs)\n",
    "    plt.yticks(np.arange(len(labs)), labs)"
   ]
  },
  {
   "cell_type": "markdown",
   "id": "471fe679",
   "metadata": {},
   "source": [
    "### Covariance matrices between subbands and I Q U"
   ]
  },
  {
   "cell_type": "code",
   "execution_count": null,
   "id": "17d054a0",
   "metadata": {},
   "outputs": [],
   "source": [
    "bigcov, bigcorr = amc.get_covcorr_patch(patch, stokesjoint=True, doplot=True)"
   ]
  },
  {
   "cell_type": "code",
   "execution_count": null,
   "id": "f1f55960",
   "metadata": {},
   "outputs": [],
   "source": [
    "labs = []\n",
    "for s in range(3):\n",
    "    for i in range(nfrecon):\n",
    "#         r'$\\nu_{}$'.format(i)\n",
    "        labs.append(stokes[s] + r' $\\nu_{}$'.format(i))\n",
    "        \n",
    "print(labs)"
   ]
  },
  {
   "cell_type": "code",
   "execution_count": null,
   "id": "87040027",
   "metadata": {},
   "outputs": [],
   "source": [
    "plt.figure(figsize=(15, 50))\n",
    "for p in range(0, 10):\n",
    "    \n",
    "    plt.subplot(10, 2, p*2 +1)\n",
    "    vmax = np.max(np.abs(bigcov[:, :, p]))\n",
    "    plt.imshow(bigcov[:, :, p], vmin=-vmax, vmax=vmax, cmap='bwr')\n",
    "    plt.xticks(np.arange(len(labs)), labs, fontsize=12)\n",
    "    plt.yticks(np.arange(len(labs)), labs, fontsize=12)\n",
    "    for s in range(nfrecon):\n",
    "        plt.axhline(y=(s+1)*nfrecon-0.5, lw=3, color='k')\n",
    "        plt.axvline(x=(s+1)*nfrecon-0.5, lw=3, color='k')\n",
    "    plt.title('Covariance - pixel {}'.format(p))\n",
    "    plt.colorbar(fraction=0.05)\n",
    "    \n",
    "    plt.subplot(10, 2, p*2 +2)\n",
    "    plt.imshow(bigcorr[:, :, p], vmin=-1, vmax=1, cmap='bwr')\n",
    "    plt.xticks(np.arange(len(labs)), labs, fontsize=12)\n",
    "    plt.yticks(np.arange(len(labs)), labs, fontsize=12)\n",
    "    for s in range(nfrecon):\n",
    "        plt.axhline(y=(s+1)*nfrecon-0.5, lw=3, color='k')\n",
    "        plt.axvline(x=(s+1)*nfrecon-0.5, lw=3, color='k')\n",
    "    plt.title('Correlation - pixel {}'.format(p))\n",
    "    plt.colorbar(fraction=0.05)"
   ]
  },
  {
   "cell_type": "code",
   "execution_count": null,
   "id": "d96de911",
   "metadata": {},
   "outputs": [],
   "source": [
    "rc('font', size=20)\n",
    "plt.figure(figsize=(10, 10))\n",
    "ax = plt.gca()\n",
    "# im = plt.imshow(np.mean(bigcorr, axis=2), vmin=-1, vmax=1, cmap='bwr')\n",
    "# plt.title('Averaged over pixels')\n",
    "# ax.xaxis.set_ticks(np.arange(1, 9, 3))\n",
    "# ax.xaxis.set_ticklabels(['x=0', 'x=1', 'x=2'], \n",
    "#                           rotation = 90, \n",
    "#                           color = 'k', \n",
    "#                         fontsize = 30, style = 'italic', verticalalignment = 'center') \n",
    "im = plt.imshow(bigcorr[:, :, 7], vmin=-1, vmax=1, cmap='bwr')\n",
    "plt.title('pixel')\n",
    "\n",
    "\n",
    "# create an axes on the right side of ax. The width of cax will be 5%\n",
    "# of ax and the padding between cax and ax will be fixed at 0.05 inch.\n",
    "divider = make_axes_locatable(ax)\n",
    "cax = divider.append_axes(\"bottom\", size=\"5%\", pad=0.5)\n",
    "plt.colorbar(im, cax=cax, orientation='horizontal')\n",
    "\n",
    "make_axis_label(ax, labs)\n",
    "\n",
    "for s in range(nfrecon):\n",
    "    ax.axhline(y=(s+1)*nfrecon-0.5, lw=3, color='k')\n",
    "    ax.axvline(x=(s+1)*nfrecon-0.5, lw=3, color='k')\n",
    "    \n",
    "    \n",
    "# plt.savefig('/home/lmousset/QUBIC/Qubic_work/SpectroImagerie/paper_plot/corr_matrix_IQUmaplevel_avg_overpix_GoodPhotonNoise.pdf')\n",
    "#plt.savefig('/home/lmousset/QUBIC/Qubic_work/SpectroImagerie/paper_plot/corr_matrix_IQUmaplevel_pixel7_GoodPhotonNoise.pdf')\n",
    "#plt.savefig('/home/martin/Doctorado/Tesis-Doctoral/Figuras_Tesis_Overleaf/corr_matrix_IQUmaplevel_pixel.png',\n",
    "#           format = \"png\")"
   ]
  },
  {
   "cell_type": "markdown",
   "id": "c243642d",
   "metadata": {},
   "source": [
    "### Covariances between pixels"
   ]
  },
  {
   "cell_type": "code",
   "execution_count": null,
   "id": "4320169f",
   "metadata": {},
   "outputs": [],
   "source": [
    "# Too big we have to reduce it\n",
    "coverage_min = 0.6\n",
    "coverage_max = 0.99\n",
    "condition = (coverage_min<coverage_norm) & (coverage_norm<coverage_max)\n",
    "#condition = (coverage_min<coverage_norm[seenmap]) & (coverage_norm[seenmap]<coverage_max)\n",
    "print(len(condition))\n",
    "patch_reduce = patch[:, :, condition, :]\n",
    "print(patch_reduce.shape)\n",
    "cov_pix, corr_pix = amc.get_covcorr_between_pix(patch_reduce, verbose=True)\n",
    "print(cov_pix.shape)"
   ]
  },
  {
   "cell_type": "code",
   "execution_count": null,
   "id": "b14d7499",
   "metadata": {},
   "outputs": [],
   "source": [
    "isub = 0\n",
    "s = 1\n",
    "\n",
    "plt.figure()\n",
    "vmax = np.max(np.abs(cov_pix[isub, s, :, :]))\n",
    "#plt.imshow(cov_pix[isub, s, :, :], vmin=-vmax/20, vmax=vmax/20, cmap='bwr')\n",
    "plt.imshow(corr_pix[isub, s, :, :], vmin=-0.01, vmax=0.01, cmap='bwr')\n",
    "plt.title('Covariance pix/pix - ' + stokes[s] \n",
    "          + f' - Band {isub} for pixels with {coverage_min} < coverage < {coverage_max}')\n",
    "plt.colorbar()"
   ]
  },
  {
   "cell_type": "markdown",
   "id": "64e4ec36",
   "metadata": {},
   "source": [
    "### Covariance with JC method\n",
    "\n",
    "We normalize the maps by the coverage and the factor to get a covariance matrix (Nbands x Nbands) for each Stokes parameter. "
   ]
  },
  {
   "cell_type": "code",
   "execution_count": null,
   "id": "d8152417",
   "metadata": {},
   "outputs": [],
   "source": [
    "covI, covQ, covU, all_fitcov, all_norm_noise = qss.get_cov_nunu(patch[10], coverage_norm)\n",
    "\n",
    "covJC = np.asarray([covI, covQ, covU])\n",
    "covJC.shape"
   ]
  },
  {
   "cell_type": "code",
   "execution_count": null,
   "id": "10145ca2",
   "metadata": {},
   "outputs": [],
   "source": [
    "labs = []\n",
    "for i in range(nfrecon):\n",
    "    labs.append('f{}'.format(i))\n",
    "\n",
    "plt.figure(figsize=(15, 5))\n",
    "for s in range(3):\n",
    "    plt.subplot(1, 3, s+1)\n",
    "    vmax = np.max(np.abs(covJC[s, :, :]))\n",
    "    plt.imshow(covJC[s, :, :], vmin=-vmax, vmax=vmax, cmap='bwr')\n",
    "    plt.title(stokes[s] + ' - Cov JC')\n",
    "    plt.colorbar(orientation='horizontal')\n",
    "    plt.xticks(np.arange(len(labs)), labs)\n",
    "    plt.yticks(np.arange(len(labs)), labs)"
   ]
  },
  {
   "cell_type": "markdown",
   "id": "e197b287",
   "metadata": {},
   "source": [
    "The RMS on the maps is not proportional to sqrt(coverage) maybe because of border effect with the beam. The normalisation is more complex. Here we compute the normalisation factor, from a fit of the RMS per bin of the coverage."
   ]
  },
  {
   "cell_type": "code",
   "execution_count": null,
   "id": "fea218bd",
   "metadata": {},
   "outputs": [],
   "source": [
    "isub = 0\n",
    "xx, yy, fitcov = qss.get_noise_invcov_profile(patch[0, isub, :, :], \n",
    "                                              coverage_norm, \n",
    "                                              nbins=20, \n",
    "                                              norm=False,\n",
    "                                              label='sub-band: {}'.format(isub), \n",
    "                                              fit=True, \n",
    "                                              doplot=True,\n",
    "                                              allstokes=True)\n",
    "print(fitcov.shape)"
   ]
  },
  {
   "cell_type": "code",
   "execution_count": null,
   "id": "c43a03cd",
   "metadata": {},
   "outputs": [],
   "source": [
    "correction = np.interp(1. / coverage_norm, fitcov[0, :], fitcov[1, :])\n",
    "print(correction.shape)\n",
    "\n",
    "norm_factor = coverage_norm / correction\n",
    "print(norm_factor.shape)\n",
    "\n",
    "# Galactic center\n",
    "RA_center = 266.41 #deg\n",
    "DEC_center = -28.94 #deg\n",
    "\n",
    "center = qubic.equ2gal(RA_center, DEC_center)\n",
    "ang = rmc.pix2ang(256, center, seenmap)\n",
    "\n",
    "plt.figure(figsize=(15, 5))\n",
    "plt.subplot(121)\n",
    "plt.plot(1 / coverage_norm, correction, '.')\n",
    "plt.xlabel('1 / (Coverage / MAX(Coverage))')\n",
    "plt.ylabel('Correction')\n",
    "\n",
    "plt.subplot(122)\n",
    "plt.plot(ang, norm_factor, '.')\n",
    "plt.ylabel('Coverage / correction')\n",
    "plt.xlabel('Angle [deg]')\n",
    "plt.title('Normalisation factor')"
   ]
  },
  {
   "cell_type": "markdown",
   "id": "2ff2120e",
   "metadata": {},
   "source": [
    "### Covariances with JC method between bands and I Q U"
   ]
  },
  {
   "cell_type": "code",
   "execution_count": null,
   "id": "50b424d2",
   "metadata": {},
   "outputs": [],
   "source": [
    "# Flatten each realisation\n",
    "newpatch = np.zeros_like(patch)\n",
    "for i in range(nreals):\n",
    "    newpatch[i], all_fitcov, all_norm_noise = qss.flatten_noise(patch[i], \n",
    "                                                              coverage_norm, \n",
    "                                                              nbins=20, \n",
    "                                                              doplot=False, \n",
    "                                                              QUsep=False)\n",
    "print(newpatch.shape)"
   ]
  },
  {
   "cell_type": "code",
   "execution_count": null,
   "id": "c12ab851",
   "metadata": {},
   "outputs": [],
   "source": [
    "bigcovJC, bigcorrJC = amc.get_covcorr_patch(newpatch, stokesjoint=True, doplot=True)"
   ]
  },
  {
   "cell_type": "code",
   "execution_count": null,
   "id": "04907dc3",
   "metadata": {},
   "outputs": [],
   "source": [
    "#labs = []\n",
    "#for s in range(3):\n",
    "#    for i in range(nfrecon):\n",
    "#        labs.append(stokes[s]+' f{}'.format(i))\n",
    "#        \n",
    "#print(labs)"
   ]
  },
  {
   "cell_type": "code",
   "execution_count": null,
   "id": "1cc0e3b6",
   "metadata": {},
   "outputs": [],
   "source": [
    "qubic.compute_freq(150,Nfreq = 2, relative_bandwidth=0.25)"
   ]
  },
  {
   "cell_type": "code",
   "execution_count": null,
   "id": "ac33e98b",
   "metadata": {},
   "outputs": [],
   "source": [
    "plt.figure(figsize=(15, 50))\n",
    "for p in range(0, 10):\n",
    "    \n",
    "    plt.subplot(10, 2, p*2 +1)\n",
    "    vmax = np.max(np.abs(bigcovJC[:, :, p]))\n",
    "    plt.imshow(bigcovJC[:, :, p], vmin=-vmax, vmax=vmax, cmap='bwr')\n",
    "    plt.xticks(np.arange(len(labs)), labs, fontsize=12)\n",
    "    plt.yticks(np.arange(len(labs)), labs, fontsize=12)\n",
    "    for s in range(nfrecon):\n",
    "        plt.axhline(y=(s+1)*nfrecon-0.5, lw=3, color='k')\n",
    "        plt.axvline(x=(s+1)*nfrecon-0.5, lw=3, color='k')\n",
    "    plt.title('Covariance - pixel {}'.format(p))\n",
    "    plt.colorbar(fraction=0.05)\n",
    "    \n",
    "    plt.subplot(10, 2, p*2 +2)\n",
    "    plt.imshow(bigcorrJC[:, :, p], vmin=-1, vmax=1, cmap='bwr')\n",
    "    plt.xticks(np.arange(len(labs)), labs, fontsize=12)\n",
    "    plt.yticks(np.arange(len(labs)), labs, fontsize=12)\n",
    "    for s in range(nfrecon):\n",
    "        plt.axhline(y=(s+1)*nfrecon-0.5, lw=3, color='k')\n",
    "        plt.axvline(x=(s+1)*nfrecon-0.5, lw=3, color='k')\n",
    "    plt.title('Correlation - pixel {}'.format(p))\n",
    "    plt.colorbar(fraction=0.05)"
   ]
  },
  {
   "cell_type": "code",
   "execution_count": null,
   "id": "2c91af79",
   "metadata": {},
   "outputs": [],
   "source": [
    "# Average over pixels\n",
    "# We can average the covariance matrices because pixels were normalized before.\n",
    "rc('font', size=20)\n",
    "plt.figure(figsize=(10, 10))\n",
    "ax = plt.gca()\n",
    "\n",
    "bigcovJC_mean = np.mean(bigcovJC, axis=2)\n",
    "vmax = np.max(bigcovJC_mean)\n",
    "plt.imshow(bigcovJC_mean, vmin=-vmax, vmax=vmax, cmap='bwr')\n",
    "plt.title('Covariance matrices averaged over pixels')\n",
    "plt.colorbar(orientation='horizontal')\n",
    "\n",
    "plt.xticks(np.arange(len(labs)), labs, fontsize=12)\n",
    "plt.yticks(np.arange(len(labs)), labs, fontsize=12)\n",
    "\n",
    "for s in range(nfrecon):\n",
    "    plt.axhline(y=(s+1)*nfrecon-0.5, lw=3, color='k')\n",
    "    plt.axvline(x=(s+1)*nfrecon-0.5, lw=3, color='k')\n",
    "    "
   ]
  },
  {
   "cell_type": "code",
   "execution_count": null,
   "id": "8375e333",
   "metadata": {},
   "outputs": [],
   "source": [
    "rc('font', size=20)\n",
    "#plt.figure(figsize=(10, 10))\n",
    "fig, ax = plt.subplots(nrows = 1, ncols = 1, figsize = (10,10))\n",
    "\n",
    "im = ax.imshow(np.mean(bigcorrJC, axis=2), vmin=-1, vmax=1, cmap='bwr')\n",
    "ax.set_title('Matriz de correlación promediada sobre pixeles')\n",
    "cax = divider.append_axes(\"bottom\", size=\"5%\", pad=0.5)\n",
    "fig.colorbar(im, cax=cax, orientation='horizontal')\n",
    "\n",
    "make_axis_label(ax, labs)\n",
    "\n",
    "#ax.set_xticks(np.arange(len(labs)))\n",
    "#ax.set_yticks(np.arange(len(labs)))\n",
    "#ax.set_xticklabels(labs)#, fontdict = {\"fontsize\":20})\n",
    "#ax.set_yticklabels(labs)#, fontdict = {\"fontsize\":20})\n",
    "#plt.yticks(np.arange(len(labs)), labs, fontsize=12)\n",
    "\n",
    "for s in range(nfrecon):\n",
    "    ax.axhline(y=(s+1)*nfrecon-0.5, lw=3, color='k')\n",
    "    ax.axvline(x=(s+1)*nfrecon-0.5, lw=3, color='k')\n",
    "\n",
    "#plt.savefig('/home/martin/Doctorado/Tesis-Doctoral/Figuras_Tesis_Overleaf/corr_matrix_IQUmaplevel_avg.png',\n",
    "#           format = \"png\")"
   ]
  },
  {
   "cell_type": "code",
   "execution_count": null,
   "id": "4f710999",
   "metadata": {},
   "outputs": [],
   "source": [
    "rc('font', size=20)\n",
    "plt.figure(figsize=(10, 10))\n",
    "ax = plt.gca()\n",
    "\n",
    "im = plt.imshow(np.mean(bigcorrJC, axis=2), vmin=-1, vmax=1, cmap='bwr')\n",
    "plt.title('promedio sobre pixeles')\n",
    "\n",
    "divider = make_axes_locatable(ax)\n",
    "cax = divider.append_axes(\"bottom\", size=\"5%\", pad=0.5)\n",
    "plt.colorbar(im, cax=cax, orientation='horizontal')\n",
    "\n",
    "make_axis_label(ax, labs)\n",
    "\n",
    "for s in range(nfrecon):\n",
    "    ax.axhline(y=(s+1)*nfrecon-0.5, lw=3, color='k')\n",
    "    ax.axvline(x=(s+1)*nfrecon-0.5, lw=3, color='k')\n",
    "#plt.savefig('/home/martin/Doctorado/Tesis-Doctoral/Figuras_Tesis_Overleaf/corr_matrix_IQUmaplevel_avg.png',\n",
    "#           format = \"png\")"
   ]
  },
  {
   "cell_type": "markdown",
   "id": "ff0c8cbf",
   "metadata": {},
   "source": [
    "### Save matrices"
   ]
  },
  {
   "cell_type": "code",
   "execution_count": null,
   "id": "d7d264fe",
   "metadata": {},
   "outputs": [],
   "source": [
    "#     with open(rep_save + 'seenmap_nfsub{}_nfrecon{}.pkl'.format(nfsub, nfrec), 'wb') as f:\n",
    "#         pickle.dump(seenmap, f)"
   ]
  },
  {
   "cell_type": "markdown",
   "id": "0fb93648",
   "metadata": {},
   "source": [
    "## 1st term evolution as function of the number of sub-bands"
   ]
  },
  {
   "cell_type": "markdown",
   "id": "2c1e4268",
   "metadata": {},
   "source": [
    "#### Get Cp and covJC for each number of sub-bands"
   ]
  },
  {
   "cell_type": "code",
   "execution_count": null,
   "id": "76575bdd",
   "metadata": {},
   "outputs": [],
   "source": [
    "mylist_Cp, mylist_covJC = [], []\n",
    "for i in range(6):\n",
    "    nfrecon = allrecon[i]\n",
    "    print('\\n nfrecon:', nfrecon)\n",
    "    patch = np.load(rep_mapCC + f'noisepatch_NOspatialcorr_nbands{nfrecon}_' + config + '_500reals.npy')\n",
    "    print('patch shape:', patch.shape)\n",
    "\n",
    "    nreals, _, npix, _ = patch.shape\n",
    "    print('npix:', npix)\n",
    "    print('# realisations:', nreals)\n",
    "    \n",
    "    Cp = amc.get_Cp(patch, verbose=False)\n",
    "    print('Cp shape:', Cp.shape)\n",
    "    mylist_Cp.append(Cp)\n",
    "    \n",
    "#     coverage_norm = coverage_normlist[i]\n",
    "    covI, covQ, covU, all_fitcov, all_norm_noise = qss.get_cov_nunu(patch[0], coverage_norm[seenmap])\n",
    "    covJC = np.asarray([covI, covQ, covU])\n",
    "    mylist_covJC.append(covJC)\n"
   ]
  },
  {
   "cell_type": "code",
   "execution_count": null,
   "id": "5bb855bf",
   "metadata": {},
   "outputs": [],
   "source": [
    "len(mylist_Cp)\n",
    "# allrecon[:-1]\n",
    "mylist_Cp[0].shape"
   ]
  },
  {
   "cell_type": "code",
   "execution_count": null,
   "id": "d3bcbc03",
   "metadata": {},
   "outputs": [],
   "source": [
    "pix = 0\n",
    "plt.figure()\n",
    "for istk in range(3):\n",
    "    myterms = [mylist_Cp[i][0, 0, istk, pix] for i in range(6)]\n",
    "    plt.plot(allrecon, myterms, 'o', color=colorlist[istk])\n",
    "\n",
    "    a, b, c = np.polyfit(allrecon, myterms, deg=2, rcond=None, full=False, w=None, cov=False)\n",
    "    x = np.arange(1, 9, 0.1)\n",
    "    plt.plot(x, a*x**2 + b*x + c, color=colorlist[istk], \n",
    "             label='{}: ${:2.3}x^2 {:2.3}x + {:2.3}$'.format(stokes[istk], a, b, c))\n",
    "\n",
    "plt.xlabel('# Bands')\n",
    "plt.ylabel('$Cp_{00}$ - pixel')\n",
    "plt.legend()"
   ]
  },
  {
   "cell_type": "code",
   "execution_count": null,
   "id": "4aa9a5fa",
   "metadata": {},
   "outputs": [],
   "source": [
    "plt.figure()\n",
    "for istk in range(3):\n",
    "    myterms = [mylist_covJC[i][istk, 0, 0] for i in range(6)]\n",
    "    plt.plot(allrecon, myterms, 'o', color=colorlist[istk])\n",
    "\n",
    "    a, b, c = np.polyfit(allrecon, myterms, deg=2, rcond=None, full=False, w=None, cov=False)\n",
    "    x = np.arange(1, 9, 0.1)\n",
    "    plt.plot(x, a*x**2 + b*x + c, color=colorlist[istk], \n",
    "             label='{}: ${:2.3}x^2 {:2.3}x + {:2.3}$'.format(stokes[istk], a, b, c))\n",
    "\n",
    "plt.xlabel('# Bands')\n",
    "plt.ylabel('$Cov JC$')\n",
    "plt.legend()"
   ]
  },
  {
   "cell_type": "code",
   "execution_count": null,
   "id": "0d69267c",
   "metadata": {},
   "outputs": [],
   "source": []
  }
 ],
 "metadata": {
  "kernelspec": {
   "display_name": "Python 3",
   "language": "python",
   "name": "python3"
  }
 },
 "nbformat": 4,
 "nbformat_minor": 5
}
