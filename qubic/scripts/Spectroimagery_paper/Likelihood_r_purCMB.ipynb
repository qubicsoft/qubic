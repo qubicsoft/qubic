{
 "cells": [
  {
   "cell_type": "code",
   "execution_count": null,
   "id": "4421d168",
   "metadata": {},
   "outputs": [],
   "source": [
    "%matplotlib inline\n",
    "\n",
    "import healpy as hp\n",
    "import numpy as np\n",
    "import matplotlib.pyplot as plt\n",
    "import scipy\n",
    "import pickle\n",
    "from itertools import combinations, combinations_with_replacement\n",
    "from importlib import reload\n",
    "\n",
    "# Specific qubic modules\n",
    "from qubicpack.utilities import Qubic_DataDir\n",
    "import pysm3\n",
    "import qubic\n",
    "from qubic import camb_interface as qc\n",
    "from qubic import NamasterLib as nam\n",
    "from qubic import mcmc\n",
    "\n",
    "rc('figure', figsize=(16, 10))\n",
    "rc('font', size=18)\n",
    "plt.rcParams['image.cmap'] = 'jet'"
   ]
  },
  {
   "cell_type": "code",
   "execution_count": null,
   "id": "ed73a798",
   "metadata": {},
   "outputs": [],
   "source": [
    "import seaborn as sns\n",
    "palet = sns.cubehelix_palette(6, start=2, hue=1, light=0.75)\n",
    "sns.palplot(palet)"
   ]
  },
  {
   "cell_type": "code",
   "execution_count": null,
   "id": "342a5fca",
   "metadata": {},
   "outputs": [],
   "source": [
    "config = 'FI220'\n",
    "nside = 256 # Define here to avoid loading a diccionary"
   ]
  },
  {
   "cell_type": "markdown",
   "id": "f0aec486",
   "metadata": {},
   "source": [
    "## Coverage and seenmap"
   ]
  },
  {
   "cell_type": "code",
   "execution_count": null,
   "id": "14737f66",
   "metadata": {},
   "outputs": [],
   "source": [
    "DataFastSimCoverage = pickle.load(open('../../doc/FastSimulator/Data/DataFastSimulator_' + config +'_coverage.pkl',\n",
    "                                       \"rb\"))\n",
    "coverage = DataFastSimCoverage['coverage']\n",
    "seenmap = coverage > np.max(coverage) * 0.1"
   ]
  },
  {
   "cell_type": "markdown",
   "id": "4cf1deef",
   "metadata": {},
   "source": [
    "## Theoretical spectra with Camb"
   ]
  },
  {
   "cell_type": "code",
   "execution_count": null,
   "id": "e848b9e3",
   "metadata": {},
   "outputs": [],
   "source": [
    "# Make a Namaster object (needed to bin the Camblib)\n",
    "lmin = 40\n",
    "lmax = 2 * nside - 1\n",
    "delta_ell = 30\n",
    "\n",
    "\n",
    "mask = np.zeros(12 * nside ** 2)\n",
    "mask[seenmap] = 1\n",
    "Namaster = nam.Namaster(mask, lmin=lmin, lmax=lmax, delta_ell=delta_ell)\n",
    "mask_apo = Namaster.get_apodized_mask()\n",
    "# hp.gnomview(mask_apo, reso=20, title='Mask')\n",
    "\n",
    "ell_binned, b = Namaster.get_binning(nside)\n",
    "nbins = len(ell_binned)\n",
    "print('lmin:', lmin)\n",
    "print('lmax:', lmax)\n",
    "print('delta_ell:', delta_ell)\n",
    "print('nbins:', nbins)\n",
    "print('ell binned:', ell_binned)\n",
    "print('Fsky: {}'.format(Namaster.fsky))"
   ]
  },
  {
   "cell_type": "code",
   "execution_count": null,
   "id": "737658cc",
   "metadata": {},
   "outputs": [],
   "source": [
    "# Make a Camb library\n",
    "# rvalues = np.arange(0., 0.1, 0.001)\n",
    "# print(rvalues)\n",
    "# camblib = qc.rcamblib(rvalues, lmax=lmax, save=global_dir + '/doc/CAMB/camblib_0to1_step001.pkl')"
   ]
  },
  {
   "cell_type": "code",
   "execution_count": null,
   "id": "793935a7",
   "metadata": {},
   "outputs": [],
   "source": [
    "# Load the CAMB library already saved\n",
    "with open('../../doc/CAMB/camblib_0to1_step001.pkl', \"rb\") as file:\n",
    "    camblib = pickle.load(file)\n",
    "[lll, rvalues, spec, specunlensed] = camblib\n",
    "# print(rvalues)"
   ]
  },
  {
   "cell_type": "code",
   "execution_count": null,
   "id": "0f1606ef",
   "metadata": {},
   "outputs": [],
   "source": [
    "binned_camblib = qc.bin_camblib(Namaster, '../../doc/CAMB/camblib_0to1_step001.pkl', nside, verbose=True)\n",
    "\n",
    "[lll_b, rvalues_b, spec_b, specunlensed_b] = binned_camblib"
   ]
  },
  {
   "cell_type": "markdown",
   "id": "a52c8de5",
   "metadata": {},
   "source": [
    "## Likelihood on r"
   ]
  },
  {
   "cell_type": "code",
   "execution_count": null,
   "id": "09168716",
   "metadata": {},
   "outputs": [],
   "source": [
    "def myBBth(ell, r):\n",
    "    clBB = qc.get_Dl_fromlib(ell, r, lib=binned_camblib, unlensed=False, specindex=2)[0]\n",
    "    clBB = np.array(list(clBB) * ncombi)\n",
    "    return clBB"
   ]
  },
  {
   "cell_type": "code",
   "execution_count": null,
   "id": "1c92f6f6",
   "metadata": {},
   "outputs": [],
   "source": [
    "nrun = 1\n",
    "LLH = np.zeros((nrun, 8, len(rvalues)))\n",
    "sigma68 = np.zeros((nrun, 8))\n",
    "sigma68_Fisher = np.zeros((nrun, 8))\n",
    "\n",
    "factor = 10\n",
    "for r in range(nrun):\n",
    "    print(f'\\n *************Run {r+1}/{nrun}*****************' )\n",
    "    for index in range(8):\n",
    "        nbands = index + 1\n",
    "        print('\\n nbands:', nbands)\n",
    "        # Possible combinations between bands\n",
    "        combi = list(combinations_with_replacement(np.arange(nbands), 2))\n",
    "        ncombi = len(combi)\n",
    "        print('combi:', combi)\n",
    "        print('ncombi:', ncombi)\n",
    "\n",
    "        # Covariance noise matrices\n",
    "        BBcov = np.load('/home/lmousset/QUBIC/Qubic_work/SpectroImagerie/corr_matrices/pourClaudia/'\n",
    "                               + f'BBcovariance_bincross_nfrecon{nbands}_samereal_' + config + '_v4_clean.npy')\n",
    "\n",
    "        print(BBcov.shape)\n",
    "\n",
    "        # =================== Likelihood ========================\n",
    "        xvals = list(lll_b) * ncombi\n",
    "        \n",
    "        # In order to get errorbars, we vary the data randomly\n",
    "        fakedata = myBBth(lll_b, r=0.)\n",
    "#         for i in range(fakedata.shape[0]):\n",
    "#             fakedata[i] = np.random.normal(loc=fakedata[i], scale=np.sqrt(BBcov[i, i])/factor, size=None)\n",
    "# #             print(fakedata[i])\n",
    "\n",
    "        error = BBcov#np.sqrt(np.diag(BBcov))\n",
    "        print(error.shape)\n",
    "\n",
    "        logLLH = mcmc.LogLikelihood(xvals=xvals, \n",
    "                                    yvals=fakedata, \n",
    "                                    errors=error,\n",
    "                                    nbins=nbins,\n",
    "                                    model=myBBth, \n",
    "                                    flatprior=[[0, 1]], \n",
    "                                    covariance_model_funct=Namaster.knox_covariance)\n",
    "\n",
    "        LLH[r, index, :] , sigma68[r, index] = logLLH.compute_sigma68(logLLH, rvalues)\n",
    "        \n",
    "\n",
    "        # ====================== Fisher Analysis =======================\n",
    "#         sigma68_Fisher[r, index] = logLLH.fisher_analysis()\n",
    "    print(sigma68[r, :])\n",
    "        \n",
    "        "
   ]
  },
  {
   "cell_type": "code",
   "execution_count": null,
   "id": "a50bffca",
   "metadata": {},
   "outputs": [],
   "source": [
    "datadir = os.environ['DATA_SPECTROIM']\n",
    "# print(datadir)\n",
    "# np.save(datadir + '/FastSimulator/sigma68pureCMB_samev4clean_SigmaOver10_' + config + '_with6-7.npy', sigma68)\n",
    "np.save(datadir + '/FastSimulator/sigma68pureCMB_samev4clean_theo_' + config + '_with6-7.npy', sigma68)"
   ]
  },
  {
   "cell_type": "code",
   "execution_count": null,
   "id": "89e1bcea",
   "metadata": {},
   "outputs": [],
   "source": [
    "sigma68_FI220 = np.load(datadir + '/FastSimulator/sigma68pureCMB_samev4clean_SigmaOver10_FI220_with6-7.npy')\n",
    "sigma68_FI150 = np.load(datadir + '/FastSimulator/sigma68pureCMB_samev4clean_SigmaOver10_FI150_with6-7.npy')\n",
    "\n",
    "sigma68_FI220_theo = np.load(datadir + '/FastSimulator/sigma68pureCMB_samev4clean_theo_FI220_with6-7.npy')[0]\n",
    "sigma68_FI150_theo = np.load(datadir + '/FastSimulator/sigma68pureCMB_samev4clean_theo_FI150_with6-7.npy')[0]\n",
    "print(sigma68_FI150_theo.shape)\n",
    "\n",
    "sigma68_FI220_avg = np.nanmean(sigma68_FI220, axis=0)\n",
    "sigma68_FI220_std = np.nanstd(sigma68_FI220, axis=0)\n",
    "sigma68_FI150_avg = np.nanmean(sigma68_FI150, axis=0)\n",
    "sigma68_FI150_std = np.nanstd(sigma68_FI150, axis=0)"
   ]
  },
  {
   "cell_type": "code",
   "execution_count": null,
   "id": "c68243a9",
   "metadata": {},
   "outputs": [],
   "source": [
    "allbands = np.arange(1, 9)\n",
    "print(allbands)\n",
    "plt.figure(figsize=(12, 8))\n",
    "# plt.title(config +  'BBcov')#$\\sqrt{diag}$')\n",
    "plt.errorbar(np.array(allbands) + 0.01, \n",
    "             sigma68_FI150_theo / sigma68_FI150_theo[0],\n",
    "             sigma68_FI150_std * 10,\n",
    "             fmt='ro',\n",
    "             label='150 GHz')\n",
    "plt.errorbar(allbands, \n",
    "             sigma68_FI220_theo / sigma68_FI220_theo[0],\n",
    "             yerr=sigma68_FI220_std * 10,\n",
    "             fmt='bo',\n",
    "             ls=\"\",\n",
    "             label='220 GHz')\n",
    "\n",
    "\n",
    "\n",
    "\n",
    "plt.xlabel('Number of sub-bands', fontsize=20)\n",
    "plt.ylabel(r'$\\sigma (r)$ / $\\sigma_{1band}(r)$', fontsize=20)\n",
    "plt.ylim(0.9, 2)\n",
    "plt.axhline(y=1, c='k', ls='--', label='Optimal')\n",
    "plt.grid()\n",
    "plt.legend(loc='upper left', fontsize=20)\n",
    "plt.tight_layout()\n",
    "# plt.savefig('/home/lmousset/QUBIC/Qubic_work/SpectroImagerie/paper_plot/'+\n",
    "#             f'Likelihood_CMBonly_suboptimal_SameCleanv4_start0.9.pdf', \n",
    "#             bbox_inches='tight') "
   ]
  },
  {
   "cell_type": "code",
   "execution_count": null,
   "id": "9344db72",
   "metadata": {},
   "outputs": [],
   "source": [
    "x = np.linspace(0., 1, 10000)\n",
    "xlim = 0.2"
   ]
  },
  {
   "cell_type": "code",
   "execution_count": null,
   "id": "a373c563",
   "metadata": {},
   "outputs": [],
   "source": [
    "fig, axs = plt.subplots(1, 2, figsize=(20, 10))\n",
    "ax0, ax1 = axs\n",
    "\n",
    "fig.suptitle(config + ' - Clean Same $\\sqrt{diag}$')\n",
    "\n",
    "for i, nbands in enumerate([1, 2, 3, 4, 5, 8]):\n",
    "    \n",
    "    c = palet[i]\n",
    "    ax0.set_title('Likelihood')\n",
    "#     ax0.plot(rvalues, allLLH[i] / np.max(allLLH[i]), 'o', color=c, label=f'Likelihood {nbands} bands')\n",
    "    ax0.plot(x, np.exp(-0.5*(x/allsigma68[i])**2), color=c, label='Gaussian $\\mu = 0, \\sigma = \\sigma(r)$')\n",
    "    ax0.axvline(x=allsigma68[i], linestyle='--', color=c, \n",
    "                label=' $\\sigma(r)={0:6.4f}$ at 68% C.L.'.format(allsigma68[i]))\n",
    "\n",
    "    ax0.set_xlim(0, xlim)\n",
    "    ax0.set_xlabel('r')\n",
    "    ax0.set_ylabel('Posterior')\n",
    "    ax0.legend(fontsize=14)\n",
    "    \n",
    "    \n",
    "    ax1.set_title('Fisher')\n",
    "    ax1.plot(x, np.exp(-0.5*(x/allsigma68_Fisher[i])**2), color=c, label=f'Fisher gaussian {nbands} bands')\n",
    "    ax1.axvline(x=allsigma68_Fisher[i], linestyle='--', color=c, \n",
    "                label=' $\\sigma_(r)={0:6.4f}$ at 68% C. L.'.format(allsigma68_Fisher[i]))\n",
    "\n",
    "    ax1.set_xlim(0, xlim)\n",
    "    ax1.set_xlabel('r')\n",
    "    ax1.set_ylabel('Posterior')\n",
    "\n",
    "    ax1.legend(fontsize=14)"
   ]
  },
  {
   "cell_type": "code",
   "execution_count": null,
   "id": "8d297e44",
   "metadata": {},
   "outputs": [],
   "source": [
    "### Figure Spectroim paper\n",
    "fig = plt.figure(figsize=(12, 10))\n",
    "ax = plt.gca()\n",
    "ax0, ax1 = axs\n",
    "for i, nbands in enumerate([1, 2, 3, 4, 5, 8]):\n",
    "    if i == 0:\n",
    "        bandword = 'band'\n",
    "    else:\n",
    "        bandword = 'bands'\n",
    "    c = palet[i]\n",
    "    ax.set_title('QUBIC - ' + config[-3:] +' GHz')\n",
    "    ax.plot(x, np.exp(-0.5*(x/allsigma68[i])**2), color=c, label=f'{nbands} sub-{bandword}')\n",
    "    ax.axvline(x=allsigma68[i], linestyle='--', color=c, \n",
    "                label=' $\\sigma(r)={0:6.3f}$ at 68% C.L.'.format(allsigma68[i]))\n",
    "\n",
    "    ax.set_xlim(0, xlim)\n",
    "    ax.set_xlabel('r')\n",
    "    ax.set_ylabel('Posterior')\n",
    "    ax.legend(fontsize=14)\n",
    "# plt.savefig('/home/lmousset/QUBIC/Qubic_work/SpectroImagerie/paper_plot/'+\n",
    "#             f'Likelihood_CMBonly_{config}_2y_4xMix.pdf', \n",
    "#             bbox_inches='tight') "
   ]
  },
  {
   "cell_type": "code",
   "execution_count": null,
   "id": "79e04f6e",
   "metadata": {},
   "outputs": [],
   "source": [
    "plt.figure(figsize=(20, 20))\n",
    "plt.suptitle(f'Mix reals - With sample variance - Config {config}')\n",
    "# plt.suptitle('Do not mix reals - No Bias model - With sample variance - Config FI-150')\n",
    "for i, nbands in enumerate([1, 2, 3, 4, 5, 8]):\n",
    "    plt.subplot(3, 2, i+1)\n",
    "    plt.title(f'{nbands} bands - {config}')\n",
    "    plt.plot(x, np.exp(-0.5*(x/allsigma68_Fisher[i])**2), color='r', label=f'Fisher gaussian')\n",
    "    plt.axvline(x=allsigma68_Fisher[i], linestyle='--', color='r', \n",
    "                label=' $\\sigma_(r)={0:6.4f}$ at 68% C. L. with Fisher'.format(allsigma68_Fisher[i]))\n",
    "\n",
    "    plt.plot(rvalues, allLLH[i] / np.max(allLLH[i]), 'o', color='b', label='Likelihood')\n",
    "    plt.plot(x, np.exp(-0.5*(x/allsigma68[i])**2), color='b', label='Gaussian $\\mu = 0, \\sigma = \\sigma(r)$')\n",
    "    plt.axvline(x=allsigma68[i], linestyle='--', color='b', \n",
    "                label=' $\\sigma(r)={0:6.4f}$ at 68% C. L. with likelihood'.format(allsigma68[i]))\n",
    "\n",
    "    plt.xlim(0, xlim)\n",
    "    plt.xlabel('r')\n",
    "    plt.ylabel('Posterior')\n",
    "\n",
    "    plt.legend(fontsize=12)"
   ]
  },
  {
   "cell_type": "code",
   "execution_count": null,
   "id": "30a3ea11",
   "metadata": {},
   "outputs": [],
   "source": []
  },
  {
   "cell_type": "code",
   "execution_count": null,
   "id": "a3525ce8",
   "metadata": {},
   "outputs": [],
   "source": []
  }
 ],
 "metadata": {
  "kernelspec": {
   "display_name": "Python 3",
   "language": "python",
   "name": "python3"
  }
 },
 "nbformat": 4,
 "nbformat_minor": 5
}
