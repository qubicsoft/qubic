{
 "cells": [
  {
   "cell_type": "markdown",
   "id": "be111450",
   "metadata": {},
   "source": [
    "# Notebook to analyze simulations\n",
    "Done by Martin and Louise"
   ]
  },
  {
   "cell_type": "code",
   "execution_count": null,
   "id": "95fde9fc",
   "metadata": {},
   "outputs": [],
   "source": [
    "from __future__ import division\n",
    "import glob\n",
    "import os\n",
    "import healpy as hp\n",
    "import numpy as np\n",
    "import matplotlib.pyplot as plt\n",
    "from matplotlib import rc\n",
    "\n",
    "from qubic import ReadMC as rmc\n",
    "from qubic import AnalysisMC as amc\n",
    "\n",
    "import qubic\n",
    "from qubic import equ2gal\n",
    "\n",
    "from qubicpack.utilities import Qubic_DataDir\n",
    "\n",
    "%matplotlib inline"
   ]
  },
  {
   "cell_type": "code",
   "execution_count": null,
   "id": "ef7f21e2",
   "metadata": {},
   "outputs": [],
   "source": [
    "rc({'cmap', 'viridis'})\n",
    "plt.rcParams['figure.figsize'] = (8,8)"
   ]
  },
  {
   "cell_type": "markdown",
   "id": "d506b72f",
   "metadata": {},
   "source": [
    "# Get the simulation files"
   ]
  },
  {
   "cell_type": "code",
   "execution_count": null,
   "id": "713cec94",
   "metadata": {},
   "outputs": [],
   "source": [
    "# Simulation date and name\n",
    "date_name = 'NERSC_runs/24334702/20190903_low_nep'\n",
    "\n",
    "# Get the repository where the simulation is\n",
    "rep_simu = Qubic_DataDir(datafile=date_name + '.dict') + '/'\n",
    "print(rep_simu)\n",
    "\n",
    "# Dictionary saved during the simulation\n",
    "d = qubic.qubicdict.qubicDict()\n",
    "d.read_from_file(rep_simu + date_name + '.dict')"
   ]
  },
  {
   "cell_type": "markdown",
   "id": "9ee8935f",
   "metadata": {},
   "source": [
    "### Number of subbands used during the simulation"
   ]
  },
  {
   "cell_type": "code",
   "execution_count": null,
   "id": "63b81443",
   "metadata": {},
   "outputs": [],
   "source": [
    "all_nf_recon = d['nf_recon']\n",
    "nf_recon = d['nf_recon'][2] # the nf_recon you want to look at\n",
    "\n",
    "nf_sub = d['nf_sub']\n",
    "print('nf_sub = {}, all_nf_recon = {}'.format(nf_sub, all_nf_recon))"
   ]
  },
  {
   "cell_type": "markdown",
   "id": "c403efdc",
   "metadata": {},
   "source": [
    "### Get fits files names in a list"
   ]
  },
  {
   "cell_type": "code",
   "execution_count": null,
   "id": "3b5552d1",
   "metadata": {},
   "outputs": [],
   "source": [
    "# You only get maps with the nf_recon you asked before\n",
    "fits_noise = np.sort(glob.glob(rep_simu + date_name + '*nfrecon{}_noiselessFalse*.fits'.format(nf_recon)))\n",
    "fits_noiseless = glob.glob(rep_simu + date_name + '*nfrecon{}_noiselessTrue*.fits'.format(nf_recon))"
   ]
  },
  {
   "cell_type": "code",
   "execution_count": null,
   "id": "14c0b80f",
   "metadata": {},
   "outputs": [],
   "source": [
    "stokes = ['I', 'Q', 'U']\n",
    "center = equ2gal(d['RA_center'], d['DEC_center'])"
   ]
  },
  {
   "cell_type": "code",
   "execution_count": null,
   "id": "4f00308c",
   "metadata": {},
   "outputs": [],
   "source": [
    "fits_noiseless"
   ]
  },
  {
   "cell_type": "code",
   "execution_count": null,
   "id": "e80b6292",
   "metadata": {},
   "outputs": [],
   "source": [
    "fits_noise"
   ]
  },
  {
   "cell_type": "markdown",
   "id": "4b2b6e36",
   "metadata": {},
   "source": [
    "### Number of noise realisations"
   ]
  },
  {
   "cell_type": "code",
   "execution_count": null,
   "id": "346b4d6e",
   "metadata": {},
   "outputs": [],
   "source": [
    "nreals = len(fits_noise)\n",
    "print('nreals = ', nreals)"
   ]
  },
  {
   "cell_type": "markdown",
   "id": "fe84e48b",
   "metadata": {},
   "source": [
    "### Option to save plots running this notebook"
   ]
  },
  {
   "cell_type": "code",
   "execution_count": null,
   "id": "da2e1df1",
   "metadata": {},
   "outputs": [],
   "source": [
    "save_plots = False\n",
    "if save_plots :\n",
    "    try:\n",
    "        os.makedirs(rep_simu+'plots')\n",
    "    except:\n",
    "        pass"
   ]
  },
  {
   "cell_type": "markdown",
   "id": "172ab18b",
   "metadata": {
    "lines_to_next_cell": 0
   },
   "source": [
    "## Corrections ($AnalysisMC.get\\_corrections()$):\n",
    "Because we have different wide for each sub-band, do we need to do some corrections? Idea (did it by Louise): for Nfsub = 15, Nrec = 3, and deltaNU = 37.5GHz (25% bandwidth)\n",
    "\n",
    "    . Take Nfsub/Nrec (5) input freq for each reconstructed sub-band,\n",
    "        sub-band = 0 wide = 11.46GHz\n",
    "        sub-band = 1 wide = 12.47GHz\n",
    "        sub-band = 2 wide = 13.56GHz\n",
    "    . Then compute,\n",
    "       a) scalar correction: relative_width = deltaNU / (wide_i * Nfsub)\n",
    "       b) matrix correction: relative_width[i,j] = deltaNU / np.sqrt(wide_i*wide_j*nf_sub)\n"
   ]
  },
  {
   "cell_type": "code",
   "execution_count": null,
   "id": "0215a253",
   "metadata": {},
   "outputs": [],
   "source": [
    "#reload(amc)\n",
    "corrections, correction_mat = amc.get_corrections(nf_sub, nf_recon)\n",
    "print('corrections : ', corrections)\n",
    "plt.imshow(correction_mat)\n",
    "plt.colorbar()\n",
    "apply_corrections = False"
   ]
  },
  {
   "cell_type": "markdown",
   "id": "32d396f7",
   "metadata": {},
   "source": [
    "# Get seen map (observed pixels)"
   ]
  },
  {
   "cell_type": "code",
   "execution_count": null,
   "id": "1bcf1ac1",
   "metadata": {},
   "outputs": [],
   "source": [
    "seen_map = rmc.get_seenmap(fits_noiseless[0])\n",
    "\n",
    "# Number of pixels and nside\n",
    "npix = len(seen_map)\n",
    "ns = d['nside']\n",
    "print('seen map shape', seen_map.shape)"
   ]
  },
  {
   "cell_type": "markdown",
   "id": "57f956d4",
   "metadata": {},
   "source": [
    "# Get one full maps"
   ]
  },
  {
   "cell_type": "code",
   "execution_count": null,
   "id": "7fcaa11e",
   "metadata": {},
   "outputs": [],
   "source": [
    "real = 3\n",
    "if real >= nreals:\n",
    "    raise ValueError('Invalid index of realization')\n",
    "    \n",
    "maps_recon, maps_convo, maps_diff = rmc.get_maps(fits_noise[real])\n",
    "maps_recon_nl, maps_convo_nl, maps_diff_nl = rmc.get_maps(fits_noiseless[0])\n",
    "print('Getting maps with shape : {}'.format(maps_recon.shape))\n",
    "print('Getting maps with shape : {}'.format(maps_recon_nl.shape))\n"
   ]
  },
  {
   "cell_type": "markdown",
   "id": "2e6ee3c6",
   "metadata": {},
   "source": [
    "### Look at the noiseless maps"
   ]
  },
  {
   "cell_type": "code",
   "execution_count": null,
   "id": "cc4b38ff",
   "metadata": {},
   "outputs": [],
   "source": [
    "isub = 0 #could be 0,1,2 because nf_rec = 3 or 0,1 in nf_rec = 2 case.\n",
    "if isub >= nf_recon:\n",
    "    raise ValueError('Invalid index of subband')\n",
    "r=12\n",
    "plt.figure('Noiseless maps real{}'.format(real), figsize=(10,10))\n",
    "for i in range(3):\n",
    "    if i == 0:\n",
    "        mmin=-204\n",
    "        mmax=164\n",
    "    elif i==1:\n",
    "        mmin=-2.67\n",
    "        mmax=2.64\n",
    "    elif i==2:\n",
    "        mmin=-3.14\n",
    "        mmax=2.24\n",
    "    hp.gnomview(maps_convo_nl[isub, :, i], rot=center, reso=r, sub=(3, 3, i + 1),cmap='viridis',\n",
    "                title='conv ' + stokes[i] + ' subband {}/{}'.format(isub + 1, nf_recon))#, min=mmin, max=mmax)\n",
    "    hp.gnomview(maps_recon_nl[isub, :, i], rot=center, reso=r, sub=(3, 3, 3 + i + 1),cmap='viridis',\n",
    "                title='recon ' + stokes[i] + ' subband {}/{}'.format(isub + 1, nf_recon))#, min=mmin, max=mmax)\n",
    "    hp.gnomview(maps_diff_nl[isub, :, i], rot=center, reso=r, sub=(3, 3, 6 + i + 1),cmap='viridis',\n",
    "                title='diff ' + stokes[i] + ' subband {}/{}'.format(isub + 1, nf_recon))#, min=mmin, max=mmax)\n",
    "if save_plots :\n",
    "    plt.savefig(rep_simu+'plots/00-'+'noiseless_')\n",
    "    "
   ]
  },
  {
   "cell_type": "code",
   "execution_count": null,
   "id": "fa6d0fa1",
   "metadata": {},
   "outputs": [],
   "source": [
    "hp.mollview(maps_convo_nl[0, :, 2], rot=center, cmap='viridis',\n",
    "                title='conv ' + stokes[i] + ' subband {}/{}'.format(isub + 1, nf_recon))#, min=mmin, max=mmax)\n"
   ]
  },
  {
   "cell_type": "markdown",
   "id": "18ecb153",
   "metadata": {},
   "source": [
    "### Look at the noise maps"
   ]
  },
  {
   "cell_type": "code",
   "execution_count": null,
   "id": "a4267bb6",
   "metadata": {},
   "outputs": [],
   "source": [
    "isub = 3 #could be 0,1,2 because nf_rec = 3 or 0,1 in nf_rec = 2 case.\n",
    "if isub >= nf_recon:\n",
    "    raise ValueError('Invalid index of subband')\n",
    "\n",
    "plt.figure('Noise maps real{}'.format(real), figsize=(10,10))\n",
    "for i in range(3):\n",
    "    if i == 0:\n",
    "        mmin=-204\n",
    "        mmax=164\n",
    "    elif i==1:\n",
    "        mmin=-2.67\n",
    "        mmax=2.64\n",
    "    elif i==2:\n",
    "        mmin=-3.14\n",
    "        mmax=2.24\n",
    "    hp.gnomview(maps_convo[isub, :, i], rot=center, reso=r, sub=(3, 3, i + 1),cmap='viridis',\n",
    "                title='conv ' + stokes[i] + ' subband {}/{}'.format(isub + 1, nf_recon), min=mmin, max=mmax)\n",
    "    hp.gnomview(maps_recon[isub, :, i], rot=center, reso=r, sub=(3, 3, 3 + i + 1),cmap='viridis',\n",
    "                title='recon ' + stokes[i] + ' subband {}/{}'.format(isub + 1, nf_recon), min=mmin, max=mmax)\n",
    "    hp.gnomview(maps_diff[isub, :, i], rot=center, reso=r, sub=(3, 3, 6 + i + 1),cmap='viridis',\n",
    "                title='diff ' + stokes[i] + ' subband {}/{}'.format(isub + 1, nf_recon), min=mmin, max=mmax)\n",
    "if save_plots:\n",
    "    plt.savefig(rep_simu+'plots/00-'+'noise_')\n",
    "    "
   ]
  },
  {
   "cell_type": "markdown",
   "id": "dd518742",
   "metadata": {},
   "source": [
    "# Get patches"
   ]
  },
  {
   "cell_type": "markdown",
   "id": "43f670f5",
   "metadata": {},
   "source": [
    "### Noise patches"
   ]
  },
  {
   "cell_type": "code",
   "execution_count": null,
   "id": "ff49fc56",
   "metadata": {},
   "outputs": [],
   "source": [
    "maps_recon_cut, maps_convo_cut, maps_diff_cut = rmc.get_patch(fits_noise[real], seen_map)\n",
    "print('Getting patches with shape : {}'.format(maps_recon_cut.shape))\n",
    "\n",
    "npix_patch = np.shape(maps_recon_cut)[1]\n",
    "\n",
    "# Get all patches (all noise realisations)\n",
    "all_fits, all_patch_recon, all_patch_conv, all_patch_diff = rmc.get_patch_many_files(\n",
    "    rep_simu, date_name + '*nfrecon{}_noiselessFalse*.fits'.format(nf_recon))\n",
    "print('Getting all patch realizations with shape : {}'.format(all_patch_recon.shape))"
   ]
  },
  {
   "cell_type": "markdown",
   "id": "5bc567ce",
   "metadata": {},
   "source": [
    "### Noiseless patches"
   ]
  },
  {
   "cell_type": "code",
   "execution_count": null,
   "id": "5be85c15",
   "metadata": {},
   "outputs": [],
   "source": [
    "maps_recon_cut_nl, maps_convo_cut_nl, maps_diff_cut_nl = rmc.get_patch(fits_noiseless[0], seen_map)\n",
    "print('Getting patches with shape : {}'.format(maps_recon_cut_nl.shape))\n",
    "\n",
    "npix_patch = np.shape(maps_recon_cut_nl)[1]\n",
    "\n",
    "# Get all patches (noiseless realisation)\n",
    "all_fits_nl, all_patch_recon_nl, all_patch_conv_nl, all_patch_diff_nl = rmc.get_patch_many_files(\n",
    "    rep_simu, date_name + '*nfrecon{}_noiselessTrue*.fits'.format(nf_recon))\n",
    "print('Getting all noiseless patch realizations with shape : {}'.format(all_patch_recon_nl.shape))\n"
   ]
  },
  {
   "cell_type": "markdown",
   "id": "95ad0da8",
   "metadata": {},
   "source": [
    "# Look at diff in zones \n"
   ]
  },
  {
   "cell_type": "code",
   "execution_count": null,
   "id": "eb0d5a83",
   "metadata": {},
   "outputs": [],
   "source": [
    "# reload(rmc)\n",
    "nzones = 4\n",
    "conv_zones = np.empty((nreals, nzones, nf_recon, npix_patch, 3))\n",
    "reco_zones = np.empty((nreals, nzones, nf_recon, npix_patch, 3))\n",
    "diff_zones = np.empty((nreals, nzones, nf_recon, npix_patch, 3))\n",
    "\n",
    "for real in range(nreals):\n",
    "    if real == 0:\n",
    "        pix_per_zone, conv_zones[real, ...] = rmc.make_zones(all_patch_conv[real, ...], nzones, ns, center, \n",
    "                                                             seen_map, doplot = False, angle = True)\n",
    "\n",
    "        pix_per_zone, reco_zones[real, ...] = rmc.make_zones(all_patch_recon[real, ...], nzones, ns, center, \n",
    "                                                             seen_map, doplot = False, angle = True)\n",
    "\n",
    "        pix_per_zone, diff_zones[real, ...] = rmc.make_zones(all_patch_diff[real, ...], nzones, ns, center, \n",
    "                                                             seen_map, doplot = False, angle = True)\n",
    "\n",
    "    else:\n",
    "        _, conv_zones[real, ...] = rmc.make_zones(all_patch_conv[real, ...], nzones, ns, center, seen_map,\n",
    "                                                       verbose = False, doplot = False, angle = True)\n",
    "        _, reco_zones[real, ...] = rmc.make_zones(all_patch_recon[real, ...], nzones, ns, center, seen_map,\n",
    "                                                       verbose = False, doplot = False, angle = True)\n",
    "        _, diff_zones[real, ...] = rmc.make_zones(all_patch_diff[real, ...], nzones, ns, center, seen_map,\n",
    "                                                       verbose = False, doplot = False, angle = True)\n",
    "#noiseless        \n",
    "diff_zones_nl = np.empty((1, nzones, nf_recon, npix_patch, 3))\n",
    "\n",
    "pix_per_zone_nl, diff_zones_nl[0, ...] = rmc.make_zones(all_patch_diff_nl[0, ...], nzones, ns, center, \n",
    "                                                             seen_map, doplot = False,angle = True)\n",
    "\n",
    "print(np.shape(diff_zones_nl[0][0]))\n"
   ]
  },
  {
   "cell_type": "markdown",
   "id": "2afcaa36",
   "metadata": {},
   "source": [
    "### Plots"
   ]
  },
  {
   "cell_type": "code",
   "execution_count": null,
   "id": "4b2be2c3",
   "metadata": {},
   "outputs": [],
   "source": [
    "istokes = 2\n",
    "plt.figure('Zones noise')\n",
    "for i in range(nzones):\n",
    "    map = np.zeros((all_patch_conv[0].shape[0], 12 * d['nside'] ** 2, 3))\n",
    "    print(map.shape)\n",
    "    map[:, seen_map, :] = conv_zones[i][i]\n",
    "    map[:, ~seen_map, :] = hp.UNSEEN\n",
    "    hp.gnomview(map[0, :, istokes], sub=(1, nzones, i+1),cmap='viridis',\n",
    "              rot=center, reso=10,\n",
    "              title='Zone {}, npix = {}, conv {}'.format(i, pix_per_zone[i], 'IQU'[istokes]))\n",
    "\n",
    "if save_plots :\n",
    "    plt.savefig(rep_simu+'plots/01-{}a-zones'.format('IQU'[istokes]))"
   ]
  },
  {
   "cell_type": "code",
   "execution_count": null,
   "id": "65c5fb47",
   "metadata": {},
   "outputs": [],
   "source": [
    "plt.figure('Zones noiseless')\n",
    "for i in range(nzones):\n",
    "    map_nl = np.zeros((all_patch_recon[0].shape[0], 12 * d['nside'] ** 2, 3))\n",
    "    map_nl[:, seen_map, :] = reco_zones[i][i]\n",
    "    map_nl[:, ~seen_map, :] = hp.UNSEEN\n",
    "    hp.gnomview(map_nl[0, :, istokes], sub=(1, nzones, i+1),cmap='viridis',\n",
    "              rot=center, reso=10,\n",
    "              title='Zone {}, npix = {}, reco {}'.format(i, pix_per_zone[i], 'IQU'[istokes]))\n",
    "\n",
    "if save_plots:\n",
    "    plt.savefig(rep_simu+'plots/01-{}b-zones'.format('IQU'[istokes]))"
   ]
  },
  {
   "cell_type": "code",
   "execution_count": null,
   "id": "3bf27dc7",
   "metadata": {},
   "outputs": [],
   "source": [
    "plt.figure(figsize=(12,12))\n",
    "plt.figure('Zones diff')\n",
    "for i in range(nzones):\n",
    "    map_nl = np.zeros((all_patch_diff[0].shape[0], 12 * d['nside'] ** 2, 3))\n",
    "    map_nl[:, seen_map, :] = diff_zones[i][i]\n",
    "    map_nl[:, ~seen_map, :] = hp.UNSEEN\n",
    "    hp.gnomview(map_nl[0, :, istokes], sub=(1, nzones, i+1),cmap='viridis',\n",
    "              rot=center, reso=10,\n",
    "              title='Zone {}, npix = {}, diff {}'.format(i, pix_per_zone[i], 'IQU'[istokes]))\n",
    "\n",
    "if save_plots:\n",
    "    plt.savefig(rep_simu+'plots/01-{}c-zones'.format('IQU'[istokes]))"
   ]
  },
  {
   "cell_type": "code",
   "execution_count": null,
   "id": "d95d23c3",
   "metadata": {},
   "outputs": [],
   "source": [
    "diff_zones_nl.shape"
   ]
  },
  {
   "cell_type": "markdown",
   "id": "4aa7489b",
   "metadata": {},
   "source": [
    "### Std over pixels and realizations in each zone"
   ]
  },
  {
   "cell_type": "code",
   "execution_count": null,
   "id": "ed4c85d7",
   "metadata": {},
   "outputs": [],
   "source": [
    "std_diff_zones = np.std(diff_zones, axis=(0, 3))\n",
    "#std_diff_zones_nl = np.std(diff_zones_nl, axis=(0, 3))\n",
    "\n",
    "plt.figure(figsize = (6,6))\n",
    "plt.title('std_diff_zones')\n",
    "isub = 0\n",
    "for i in range(3):\n",
    "    plt.plot(std_diff_zones[:, isub, i], 'o', label=stokes[i])\n",
    "    #plt.plot(std_diff_zones_nl[:, isub, i], 's', label='nl '+stokes[i])\n",
    "plt.ylabel('std over pixels and realizations')\n",
    "plt.xlim(-0.1,len(range(nzones))-0.8)\n",
    "plt.xlabel('zone')\n",
    "plt.legend(loc='best')\n",
    "\n",
    "if save_plots:\n",
    "    plt.savefig(rep_simu+'plots/02-{}-std-zones'.format('IQU'[istokes]))"
   ]
  },
  {
   "cell_type": "markdown",
   "id": "7709925f",
   "metadata": {},
   "source": [
    "# Look at residuals"
   ]
  },
  {
   "cell_type": "code",
   "execution_count": null,
   "id": "f41ea6be",
   "metadata": {},
   "outputs": [],
   "source": [
    "residuals = all_patch_recon - np.mean(all_patch_recon, axis=0)\n",
    "\n",
    "# Histogram of the residuals (first real, first subband)\n",
    "isub = 0\n",
    "if isub >= nf_recon:\n",
    "    raise ValueError('Invalid index of subband')\n",
    "\n",
    "real = 0\n",
    "if real >= nreals:\n",
    "    raise ValueError('Invalid index of realization')\n",
    "\n",
    "plt.figure('Residuals isub{} real{}'.format(isub, real), figsize=(12,6))\n",
    "for i in range(3):\n",
    "    plt.subplot(1, 3, i + 1)\n",
    "    data = np.ravel(residuals[real, isub, :, i])\n",
    "    std = np.std(data)\n",
    "    mean = np.mean(data)\n",
    "    plt.hist(data, range=[-20, 20], bins=100, label='$m={0:.2f}$ \\n $\\sigma={1:.2f}$'.format(mean, std))\n",
    "            #histtype='stepfilled')\n",
    "    plt.title(stokes[i] + ' real{0} subband{1}/{2}'.format(real, isub + 1, nf_recon))\n",
    "    plt.legend(fontsize='medium')"
   ]
  },
  {
   "cell_type": "markdown",
   "id": "aa818ffe",
   "metadata": {},
   "source": [
    "### Std profile"
   ]
  },
  {
   "cell_type": "code",
   "execution_count": null,
   "id": "61bd956b",
   "metadata": {},
   "outputs": [],
   "source": [
    "bin_centers, ang, std_bin, std_profile = amc.std_profile(residuals, 20, d['nside'], center, seen_map)\n",
    "\n",
    "# if apply_corrections:\n",
    "#     for isub in range(nf_recon):\n",
    "#         std_bin[:, isub, :] /= np.sqrt(corrections[isub])\n",
    "#         std_profile[:, isub, :] /= np.sqrt(corrections[isub])\n",
    "\n",
    "isub = 0\n",
    "plt.figure('std profile isub{}'.format(isub))\n",
    "for istk in range(3):\n",
    "    # plt.plot(bin_centers, std_bin[:, isub, istk], 'o', label=stokes[istk])\n",
    "    plt.plot(ang, std_profile[:, isub, istk], label=stokes[istk])\n",
    "plt.xlabel('Angle (degree)')\n",
    "plt.ylabel('std profile')\n",
    "plt.title('std profile (recon map)')\n",
    "plt.axvline(x=4, alpha=0.5, c ='k', ls='--')\n",
    "plt.text(1,0.015,'zone 0')\n",
    "plt.text(6,0.020,'zone 1')\n",
    "plt.legend(loc='best')\n",
    "\n",
    "if save_plots:\n",
    "    plt.savefig(rep_simu+'plots/02-{}-std-zones-profile'.format('IQU'[istokes]))"
   ]
  },
  {
   "cell_type": "markdown",
   "id": "3068a719",
   "metadata": {},
   "source": [
    "# Correlations matrices between pixels"
   ]
  },
  {
   "cell_type": "code",
   "execution_count": null,
   "id": "b9551f60",
   "metadata": {},
   "outputs": [],
   "source": [
    "cov_pix, corr_pix = amc.get_covcorr_between_pix(residuals, verbose=True)\n",
    "\n",
    "# Apply correction (don't know if it is a good idea...)\n",
    "if apply_corrections:\n",
    "    for isub in range(nf_recon):\n",
    "        cov_pix[isub, ...] /= corrections[isub]\n",
    "        corr_pix[isub, ...] /= corrections[isub]\n",
    "\n",
    "isub = 0\n",
    "if isub >= nf_recon:\n",
    "    raise ValueError('Invalid index of subband')"
   ]
  },
  {
   "cell_type": "code",
   "execution_count": null,
   "id": "910c8eec",
   "metadata": {},
   "outputs": [],
   "source": [
    "plt.figure('Cov corr pix isub{}'.format(isub),figsize=(16,16))\n",
    "for istk in range(3):\n",
    "    plt.subplot(2, 3, istk + 1)\n",
    "    plt.title('Cov matrix pix, {}, subband{}/{}'.format(stokes[istk], isub + 1, nf_recon))\n",
    "    plt.imshow(cov_pix[isub, istk, :, :], cmap='viridis')  # , vmin=-50, vmax=50)\n",
    "    plt.colorbar(fraction=0.03)\n",
    "\n",
    "    plt.subplot(2, 3, istk + 4)\n",
    "    plt.title('Corr matrix pix, {}, subband{}/{}'.format(stokes[istk], isub + 1, nf_recon))\n",
    "    plt.imshow(corr_pix[isub, istk, :, :], cmap='viridis')  # , vmin=-0.6, vmax=0.6)\n",
    "    plt.colorbar(fraction=0.03)\n",
    "\n",
    "if save_plots:\n",
    "    plt.savefig(rep_simu+'plots/03-{}-covcorr-full'.format('IQU'[istokes]))\n",
    "\n",
    "    "
   ]
  },
  {
   "cell_type": "code",
   "execution_count": null,
   "id": "047ca9f8",
   "metadata": {},
   "outputs": [],
   "source": [
    "print(all_patch_diff.shape)\n",
    "print(maps_diff.shape)"
   ]
  },
  {
   "cell_type": "markdown",
   "id": "e83a4404",
   "metadata": {},
   "source": [
    "# Correlations between subbands and IQU"
   ]
  },
  {
   "cell_type": "markdown",
   "id": "7be9972a",
   "metadata": {},
   "source": [
    "### Residuals"
   ]
  },
  {
   "cell_type": "code",
   "execution_count": null,
   "id": "fc23e36c",
   "metadata": {},
   "outputs": [],
   "source": [
    "cov, corr = amc.get_covcorr_patch(residuals, doplot=True, stokesjoint=True)\n",
    "mean_cov = np.mean(cov, axis=2)\n",
    "mean_corr = np.mean(corr, axis=2)\n",
    "mean_corr -= np.identity(3 * nf_recon)  # substract identity matrix\n",
    "\n",
    "std_cov = np.std(cov, axis=2)\n",
    "std_corr = np.std(corr, axis=2)\n",
    "\n",
    "# Apply correction (don't know if it is a good idea...)\n",
    "# if apply_corrections:\n",
    "#     mean_cov /= correction_mat\n",
    "#     mean_corr /= correction_mat\n",
    "\n",
    "plt.figure('Mean Std cov corr')\n",
    "plt.subplot(221)\n",
    "plt.imshow(mean_cov)\n",
    "plt.title('Mean cov')\n",
    "plt.colorbar()\n",
    "\n",
    "plt.subplot(222)\n",
    "plt.imshow(mean_corr)\n",
    "plt.title('Mean corr - Id')\n",
    "plt.colorbar()\n",
    "\n",
    "plt.subplot(223)\n",
    "plt.imshow(std_cov)\n",
    "plt.title('Std cov')\n",
    "plt.colorbar()\n",
    "\n",
    "plt.subplot(224)\n",
    "plt.imshow(std_corr)\n",
    "plt.title('Std corr')\n",
    "plt.colorbar()\n",
    "\n",
    "# Histogram over pixels\n",
    "amc.plot_hist(cov, bins=50, title_prefix='Cov', ymax=0.1, color='r')\n",
    "amc.plot_hist(corr, bins=30, title_prefix='Corr', ymax=4., color='b')\n",
    "\n"
   ]
  },
  {
   "cell_type": "markdown",
   "id": "1639f683",
   "metadata": {},
   "source": [
    "### Diff"
   ]
  },
  {
   "cell_type": "code",
   "execution_count": null,
   "id": "a68cb3d2",
   "metadata": {},
   "outputs": [],
   "source": [
    "# reload(amc)\n",
    "cov_diff, corr_diff = amc.get_covcorr_patch(all_patch_diff)\n",
    "plt.figure(figsize=(16,16))\n",
    "# plt.figure('Mean over pixels')\n",
    "plt.subplot(121)\n",
    "plt.imshow(np.mean(cov_diff, axis=2), interpolation = 'none')\n",
    "plt.title('Mean cov')\n",
    "# plt.colorbar()\n",
    "plt.subplot(122)\n",
    "plt.imshow(np.mean(corr_diff, axis=2), interpolation = 'none')\n",
    "plt.title('Mean corr')\n",
    "# plt.colorbar()\n"
   ]
  },
  {
   "cell_type": "code",
   "execution_count": null,
   "id": "13778f7b",
   "metadata": {
    "lines_to_next_cell": 0
   },
   "outputs": [],
   "source": [
    "cov_diff_sj, corr_diff_sj = amc.get_covcorr_patch(all_patch_diff, stokesjoint = True)\n",
    "plt.figure(figsize=(16,16))\n",
    "plt.figure('Mean over pixels')\n",
    "plt.subplot(121)\n",
    "plt.imshow(np.mean(cov_diff_sj, axis=2), interpolation = 'none')\n",
    "plt.title('Mean cov')\n",
    "#plt.colorbar()\n",
    "plt.subplot(122)\n",
    "plt.imshow(np.mean(corr_diff_sj, axis=2), interpolation = 'none')\n",
    "plt.title('Mean corr')\n",
    "#plt.colorbar()\n"
   ]
  },
  {
   "cell_type": "markdown",
   "id": "e072d0a4",
   "metadata": {},
   "source": [
    "\n",
    "\n"
   ]
  }
 ],
 "metadata": {
  "kernelspec": {
   "display_name": "Python 3",
   "language": "python",
   "name": "python3"
  }
 },
 "nbformat": 4,
 "nbformat_minor": 5
}
