{
 "cells": [
  {
   "cell_type": "markdown",
   "id": "3ca4a372",
   "metadata": {},
   "source": [
    "## Simulation (avec SpecIm) \n",
    "\n",
    "We use the SpectroImLib.py created by F. Incardona. These libraries generates input sky (CMB $+$ Synch $+$ dust $+$ free$-$free) as looked for an instrument (using PySM). As Louise and Federico showed, the mapmaking process introduce a leakage in the QU maps by I component. So we will use SpectroImLib class in order to generate skies as seen by QUBIC and by Planck.\n",
    "\n",
    "Global idea: With real data, we will have TOD from QUBIC and we will have access to the map of the sky seen by Planck at its resolution. Using this Planck map and the QUBIC pipeline, we can create \"Planck TOD\" with only I component and get the Planck sky observed by QUBIC. \n",
    "\n",
    "Then, one can compute the difference between the QUBIC TOD and the Planck TOD and obtain TOD where the I component is zero. Finally, to get the sky seen by QUBIC, we apply the map-maker on that TOD difference and we add the Planck sky convolved at the QUBIC resolution.In this way, we never apply the map-maker on TOD containing I and so we avoid leakage.\n",
    "For simulations, we will create a sky observed by Planck using the library PySM. The \n",
    "Planck and QUBIC TOD will be created using the QUBIC soft.\n",
    "\n",
    "\n",
    "Posibilities: \n",
    "\n",
    "#### · Monochrimatic instrument (${\\rm nfsub} = 1$) and no spectroimaging (${\\rm N} = 1$), $\\lambda_{i} = \\lambda_{k} = \\lambda_{p} = \\lambda$\n",
    "\n",
    "${\\rm H}_{\\lambda}^{-1} {\\rm H}_{\\lambda} C_{\\lambda}^{Qubic} C_{\\lambda_p}^{Planck} X^{I00} =C_{\\lambda}^{Qubic} C_{\\lambda_p}^{Planck} X^{I00} $\n",
    "    \n",
    "\n",
    "#### · Polychromatic instrument (${\\rm nfsub} > 1$) and spectroimaging (${\\rm N} > 1$)\n",
    "   ${\\rm H}^{-1}_{\\lambda_{k}} \\sum_{\\lambda_i} {\\rm H}_{\\lambda_{i}} C_{\\lambda_i}^{Qubic} \\{\\rm C_{\\lambda_p}^{Planck} X^{I00} \\} \\overset{?}{=} C_{\\lambda_k}^{Qubic} C_{\\lambda_p}^{Planck} X^{\\rm I00}$\n",
    "\n",
    "\n",
    "We have to check if:\n",
    "\n"
   ]
  },
  {
   "cell_type": "code",
   "execution_count": null,
   "id": "02ab8d05",
   "metadata": {},
   "outputs": [],
   "source": [
    "from __future__ import division\n",
    "import sys\n",
    "import os\n",
    "import time\n",
    "import pysm\n",
    "import qubic \n",
    "import glob\n",
    "\n",
    "import healpy as hp\n",
    "import numpy as np\n",
    "import matplotlib.pyplot as mp\n",
    "import SpectroImLib as si\n",
    "\n",
    "from pysimulators import FitsArray\n",
    "from pysm.nominal import models\n",
    "from scipy.constants import c\n",
    "mp.rc('text', usetex = False)"
   ]
  },
  {
   "cell_type": "code",
   "execution_count": null,
   "id": "1773d345",
   "metadata": {},
   "outputs": [],
   "source": [
    "### Instrument ###\n",
    "d = qubic.qubicdict.qubicDict()\n",
    "dp = qubic.qubicdict.qubicDict()\n",
    "d.read_from_file(\"parameters.dict\")\n",
    "d['MultiBand'] = True # spectro imager\n",
    "d['nf_sub'] = 16\n",
    "dp.read_from_file(\"parameters.dict\")\n",
    "dp['MultiBand'] = False\n",
    "dp['nf_sub'] = 1\n",
    "\n",
    "\n",
    "### Sky ###\n",
    "sky_config = {\n",
    "    'synchrotron': models('s1', d['nside']),\n",
    "    'dust': models('d1', d['nside']),\n",
    "    'freefree': models('f1', d['nside']), #not polarized\n",
    "    'cmb': models('c1', d['nside']),\n",
    "    'ame': models('a1', d['nside'])} #not polarized\n",
    "\n"
   ]
  },
  {
   "cell_type": "code",
   "execution_count": null,
   "id": "dd173bb9",
   "metadata": {},
   "outputs": [],
   "source": [
    "# In spectro imager case:\n",
    "# x0_planck.shape = (nf_sub, npix, 3)\n",
    "# Planck maps: Convolve the Planck map with the Planck beam and copy nf_sub times\n",
    "planck_sky = si.Planck_sky(sky_config, d)\n",
    "x0_planck = planck_sky.get_sky_map()\n",
    "x0_planck[..., 1:3] = 0\n",
    "\n",
    "qubic_sky = si.Qubic_sky(sky_config, d)\n",
    "x0_qubic = qubic_sky.get_sky_map()"
   ]
  },
  {
   "cell_type": "code",
   "execution_count": null,
   "id": "23c8507f",
   "metadata": {},
   "outputs": [],
   "source": [
    "x0_planck_full = np.empty((d['nf_sub'],12*dp['nside']**2, len(dp['kind'])))\n",
    "x0_planck_full[1:,:,:] = x0_planck[:,:]"
   ]
  },
  {
   "cell_type": "code",
   "execution_count": null,
   "id": "80e83032",
   "metadata": {},
   "outputs": [],
   "source": [
    "p = qubic.get_pointing(d)\n",
    "#TODq, map_qubic_conv_input = si.create_TOD(d, p, x0_qubic)\n",
    "\n",
    "### Planck TOD ###\n",
    "#Watch out: pass the QUBIC dict because of the nus used\n",
    "TODp,  _ = si.create_TOD(d, p, x0_planck_full)\n",
    "\n",
    "### Create difference TOD ###\n",
    "\n",
    "#TODI = TODq - TODp \n"
   ]
  },
  {
   "cell_type": "code",
   "execution_count": null,
   "id": "79d0457a",
   "metadata": {},
   "outputs": [],
   "source": [
    "#Numbers of subbands for spectroimaging\n",
    "noutmin = 2\n",
    "noutmax = 3\n",
    "\n",
    "#recons for Planck\n",
    "for nf_sub_rec in np.arange(noutmin, noutmax+1):\n",
    "    print 'recons in {} subbands'.format(nf_sub_rec)\n",
    "    maps_reconpI, cov, nus, nus_edge, map_planck_conv = si.reconstruct_maps(\n",
    "        TODp, d, p, nf_sub_rec, x0 = x0_planckI)\n",
    "    \n",
    "    cov = np.sum(cov, axis=0)\n",
    "    maxcov = np.max(cov)\n",
    "    unseen = cov < maxcov*0.1\n",
    "    maps_reconpI[unseen,:] = hp.UNSEEN\n",
    "\n",
    "# convolve Planck reconstruction as seen for qubic @nf_sub_rec's\n",
    "\n",
    "#recons for qubic\n",
    "for nf_sub_rec in np.arange(noutmin, noutmax+1):\n",
    "    maps_reconq, covq, nus, nus_edge = si.reconstruct_maps(\n",
    "        TODq, d, p, nf_sub_rec)\n",
    "    maps_reconq[unseen,:] = hp.UNSEEN\n",
    "    \n",
    "#recons for the diff between TODq-TODp\n",
    "for nf_sub_rec in np.arange(noutmin, noutmax+1):\n",
    "    maps_reconI, covd, nus, nus_edge = si.reconstruct_maps(\n",
    "        TODI, d, p, nf_sub_rec)"
   ]
  },
  {
   "cell_type": "code",
   "execution_count": null,
   "id": "18ff6845",
   "metadata": {},
   "outputs": [],
   "source": [
    "###Map for  I != 0\n",
    "mp.clf()\n",
    "mp.figure(figsize=(15,15))\n",
    "j=1\n",
    "#inrec = 0\n",
    "nrow = 3\n",
    "ncolumn = 3\n",
    "size = 300\n",
    "carte = np.empty((3,size,size))\n",
    "for istokes in [0,1,2]:\n",
    "\n",
    "    if istokes == 0:\n",
    "        minx = -205.\n",
    "        maxx = 152\n",
    "    elif istokes == 1:\n",
    "        minx = -2.72\n",
    "        maxx = 2.71\n",
    "    elif istokes == 2:\n",
    "        minx = -3.08\n",
    "        maxx = 3.27\n",
    "    hp.gnomview(maps_reconpI[:,istokes], sub = (nrow,ncolumn,j), #min=minx, max=maxx,\n",
    "        rot = qubic.equ2gal(d['RA_center'], d['DEC_center']), xsize = size, reso = 5, \n",
    "        title = r'Rec. Planck')\n",
    "\n",
    "    hp.gnomview(map_planck_conv[:,istokes], sub = (nrow,ncolumn,j+1), #min=minx, max=maxx,\n",
    "        rot = qubic.equ2gal(d['RA_center'], d['DEC_center']), xsize = size, reso = 5, \n",
    "        title = r'Planck convolved {}'.format(d['kind'][istokes]))\n",
    "    \n",
    "    carte[istokes,:,:] = hp.gnomview(maps_reconpI[:,istokes]-map_planck_conv[:,istokes], sub = (nrow,ncolumn,j+2), #min=minx, max=maxx,\n",
    "        rot = qubic.equ2gal(d['RA_center'], d['DEC_center']), xsize = size, reso = 5, \n",
    "        title = r'Rec. Planck-Planck convolved {}'.format(d['kind'][istokes]), return_projected_map=True)\n",
    "    \n",
    "    j += 3\n",
    "    \n",
    "mp.show()\n",
    "    "
   ]
  },
  {
   "cell_type": "code",
   "execution_count": null,
   "id": "6764781b",
   "metadata": {},
   "outputs": [],
   "source": [
    "print(carte.shape)\n",
    "print(np.mean(carte[0]))"
   ]
  },
  {
   "cell_type": "code",
   "execution_count": null,
   "id": "e2b53cfd",
   "metadata": {},
   "outputs": [],
   "source": [
    "hp.mollview(maps_reconpI[:,0]-map_planck_conv[:,0],# sub = (nrow,ncolumn,j+2), #min=minx, max=maxx,\n",
    "        rot = qubic.equ2gal(d['RA_center'], d['DEC_center']), min=-1, max=1,#xsize = size, reso = 5, \n",
    "        title = r'Rec. Planck-Planck convolved {}'.format(d['kind'][0]))\n",
    "mp.show()"
   ]
  },
  {
   "cell_type": "code",
   "execution_count": null,
   "id": "5479dacd",
   "metadata": {},
   "outputs": [],
   "source": []
  },
  {
   "cell_type": "code",
   "execution_count": null,
   "id": "8b282697",
   "metadata": {},
   "outputs": [],
   "source": [
    "print(np.std(maps_reconI[1:,0]+x0_planckI[0,1:,0]-maps_reconq[1:,0]))#[-1]\n",
    "mp.plot(maps_reconI[1:,0]+x0_planckI[0,1:,0]-maps_reconq[1:,0])\n",
    "hp.mollview(cov)#, xsize = 300, reso = 5)\n",
    "mp.show()"
   ]
  },
  {
   "cell_type": "code",
   "execution_count": null,
   "id": "d4e38375",
   "metadata": {},
   "outputs": [],
   "source": []
  },
  {
   "cell_type": "code",
   "execution_count": null,
   "id": "c6652431",
   "metadata": {},
   "outputs": [],
   "source": []
  }
 ],
 "metadata": {
  "kernelspec": {
   "display_name": "Python 2",
   "language": "python",
   "name": "python2"
  }
 },
 "nbformat": 4,
 "nbformat_minor": 5
}
