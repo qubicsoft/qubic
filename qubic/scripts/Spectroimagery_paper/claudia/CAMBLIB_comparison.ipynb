{
 "cells": [
  {
   "cell_type": "markdown",
   "metadata": {},
   "source": [
    "# Comparison between CAMBLIB used in previous runs, and what's computed by CAMB"
   ]
  },
  {
   "cell_type": "markdown",
   "metadata": {},
   "source": [
    "### Comment:\n",
    "\n",
    "I have found differences in the BB spectra stored in the ${\\it camblib}$ library, comparing with the spectra I compute with CAMB. Although the cosmological parameters are apparently the same, the shape of the BB spectra differ.\n"
   ]
  },
  {
   "cell_type": "markdown",
   "metadata": {},
   "source": [
    "## Input data: Cl's"
   ]
  },
  {
   "cell_type": "code",
   "execution_count": null,
   "metadata": {},
   "outputs": [],
   "source": [
    "from __future__ import division\n",
    "\n",
    "import matplotlib.pyplot as plt\n",
    "\n",
    "import sys\n",
    "sys.path.insert(0, \"/home/claudia/TRABAJO/INVESTIGACION/MontePython/montepython_public/montepython/likelihoods/QUBIC_Like/\")\n",
    "\n",
    "import scipy.constants\n",
    "\n",
    "import numpy as np   #--> este lo uso\n",
    "from qubic import QubicInstrument\n",
    "from pysimulators import FitsArray    #--> este lo uso\n",
    "\n",
    "import qubic_util\n",
    "\n",
    "%matplotlib inline"
   ]
  },
  {
   "cell_type": "code",
   "execution_count": null,
   "metadata": {},
   "outputs": [],
   "source": [
    "import scipy.interpolate as interp\n"
   ]
  },
  {
   "cell_type": "markdown",
   "metadata": {},
   "source": [
    "# Spectrum of $C_\\ell^{BB}$ (CMB)"
   ]
  },
  {
   "cell_type": "code",
   "execution_count": null,
   "metadata": {},
   "outputs": [],
   "source": [
    "##Reference... The CAMB library was computed with this code... I think!!\n",
    "#H0 = 67.04\n",
    "#\t\t\tomegab = 0.022032\n",
    "#\t\t\tomegac = 0.12038\n",
    "#\t\t\th2 = (H0/100.)**2\n",
    "#scalar_amp = np.exp(3.098)/1.E10\n",
    "#\t\t\tomegav = h2 - omegab - omegac\n",
    "#\t\t\tOmegab = omegab/h2\n",
    "#\t\t\tOmegac = omegac/h2\n",
    "#\t\t\tparams = {'H0':H0,'omegab':Omegab,'omegac':Omegac,'omegak':0,'scalar_index':0.9624,'reion__use_optical_depth':True,'reion__optical_depth':0.0925,'tensor_ratio':rvalue,'WantTensors':True,'scalar_amp':scalar_amp,'DoLensing':True}\n",
    "#\t\t\tlmaxcamb = np.max(lll)\n",
    "#\t\t\tT,E,B,X = pycamb.camb(lmaxcamb+1+150,**params)\n",
    "#\t\t\tB=B[:lmaxcamb+1]\n"
   ]
  },
  {
   "cell_type": "markdown",
   "metadata": {},
   "source": [
    "### Trying to reproduce CAMB library with CAMB:\n",
    "\n",
    "I choose the same cosmological parameters (although the output is rather different from the CAMB library, and I guess there are still some parameters which differ from those used to compute the library originally).\n",
    "\n",
    "I choose a value of $r$ equal to 0.1"
   ]
  },
  {
   "cell_type": "code",
   "execution_count": null,
   "metadata": {},
   "outputs": [],
   "source": [
    "import camb\n",
    "\n",
    "#Set up a new set of parameters for CAMB\n",
    "pars = camb.CAMBparams()\n",
    "#This function sets up CosmoMC-like settings, with one massive neutrino and helium set using BBN consistency\n",
    "#pars.set_cosmology(H0=67.5, ombh2=0.022, omch2=0.122, mnu=0.06, omk=0, tau=0.06)  ##Standard values!!\n",
    "pars.set_cosmology(H0=67.04, ombh2=0.022032, omch2=0.12038, mnu=0., omk=0, tau=0.0925)  #Values from camblib\n",
    "\n",
    "pars.WantTensors = True\n",
    "\n",
    "#pars.InitPower.set_params(As=2e-9, ns=0.965, r=0.1)  #Standard values\n",
    "pars.InitPower.set_params(As=np.exp(3.098)/1.E10, ns=0.9624, r=0.1)\n",
    "#pars.set_for_lmax(2500, lens_potential_accuracy=0);\n",
    "pars.set_for_lmax(4000, lens_potential_accuracy=0);\n",
    "\n",
    "results = camb.get_results(pars)\n",
    "\n",
    "powers =results.get_cmb_power_spectra(pars, CMB_unit='muK')\n",
    "for name in powers: print(name)\n",
    "\n"
   ]
  },
  {
   "cell_type": "code",
   "execution_count": null,
   "metadata": {},
   "outputs": [],
   "source": [
    "#plot the total lensed CMB power spectra versus unlensed, and fractional difference\n",
    "totCL=powers['total']\n",
    "unlensedCL=powers['unlensed_scalar']\n",
    "unlensedtotalCL=powers['unlensed_total']\n",
    "tensorCL=powers['tensor']\n",
    "print(totCL.shape)\n",
    "#Python CL arrays are all zero based (starting at L=0), Note L=0,1 entries will be zero by default.\n",
    "#The different CL are always in the order TT, EE, BB, TE (with BB=0 for unlensed scalar results).\n",
    "ls = np.arange(totCL.shape[0])\n",
    "fig, ax = plt.subplots(2,2, figsize = (12,12))\n",
    "ax[0,0].plot(ls,totCL[:,0], color='k')\n",
    "ax[0,0].plot(ls,unlensedCL[:,0], color='r')\n",
    "ax[0,0].set_title('TT')\n",
    "ax[0,1].plot(ls,totCL[:,1], color='k')\n",
    "ax[0,1].plot(ls,unlensedCL[:,1], color='r')\n",
    "ax[1,0].set_title(r'$BB$')\n",
    "ax[1,0].set_xscale('log')\n",
    "ax[1,0].set_yscale('log')\n",
    "#ax[1,0].plot(ls,unlensedtotalCL[:,2], color='k')\n",
    "ax[1,0].plot(ls,totCL[:,2], color='k', label='total $C_\\ell$')\n",
    "ax[1,0].plot(ls,unlensedtotalCL[:,2], color='b', label='unlensed total $C_\\ell$')#, ls='--' )\n",
    "ax[1,0].plot(ls,tensorCL[:,2], color='r', ls='--', label='tensor $C_\\ell$')\n",
    "ax[1,0].legend()\n",
    "ax[0,1].set_title(r'$EE$')\n",
    "ax[1,1].plot(ls,totCL[:,3], color='k')\n",
    "ax[1,1].plot(ls,unlensedCL[:,3], color='r')\n",
    "ax[1,1].set_title(r'$TE$');\n",
    "for ax in ax.reshape(-1): ax.set_xlim([2,2500]);\n",
    "\n"
   ]
  },
  {
   "cell_type": "raw",
   "metadata": {},
   "source": [
    "#I think that the code to compute CAMBLIB is this (inside the IF loop when camblib is None):\n",
    "\n",
    "\n",
    "def get_ClBB_cross_th(lll, freqGHz1, freqGHz2=None, dustParams = None, rvalue=0.05, ClBBcosmo=None, camblib=None):\n",
    "\tfact = (lll*(lll+1))/(2*np.pi)\n",
    "\tif ClBBcosmo is None:\n",
    "\t\tif camblib is None:\n",
    "\t\t\tprint('Calling CAMB')\n",
    "\t\t\t### Call Camb for primordial spectrum\n",
    "\t\t\tH0 = 67.04\n",
    "\t\t\tomegab = 0.022032\n",
    "\t\t\tomegac = 0.12038\n",
    "\t\t\th2 = (H0/100.)**2\n",
    "\t\t\tscalar_amp = np.exp(3.098)/1.E10\n",
    "\t\t\tomegav = h2 - omegab - omegac\n",
    "\t\t\tOmegab = omegab/h2\n",
    "\t\t\tOmegac = omegac/h2\n",
    "\t\t\tparams = {'H0':H0,'omegab':Omegab,'omegac':Omegac,'omegak':0,'scalar_index':0.9624,'reion__use_optical_depth':True,'reion__optical_depth':0.0925,'tensor_ratio':rvalue,'WantTensors':True,'scalar_amp':scalar_amp,'DoLensing':True}\n",
    "\t\t\tlmaxcamb = np.max(lll)\n",
    "\t\t\tT,E,B,X = pycamb.camb(lmaxcamb+1+150,**params)\n",
    "\t\t\tB=B[:lmaxcamb+1]\n",
    "\t\telse:\n",
    "\t\t\tB=ic.get_Dlbb_fromlib(lll, rvalue, camblib)\n",
    "\t\tB=B[:np.max(lll)+1]\n",
    "\t\tClBBcosmo = B/fact\n",
    "\t### Get dust component\n",
    "\tdl_dust = Dl_BB_dust(lll, freqGHz1, freqGHz2, params=dustParams)\n",
    "\tClBBdust = dl_dust/fact\n",
    "\t### sum them\n",
    "\tClBBtot = ClBBcosmo + ClBBdust\n",
    "\treturn ClBBtot, ClBBcosmo, ClBBdust\n",
    "\n"
   ]
  },
  {
   "cell_type": "markdown",
   "metadata": {},
   "source": [
    "### CAMB library:\n",
    "\n",
    "In the CAMB library, there are $C_\\ell^{BB}$ stored, for different values of $r$. "
   ]
  },
  {
   "cell_type": "code",
   "execution_count": null,
   "metadata": {},
   "outputs": [],
   "source": [
    "root='/home/claudia/TRABAJO/INVESTIGACION/MontePython/montepython_public/data/QUBIC/DualBand/'\n",
    "\n",
    "filenameCl='camblib600_nolensing_cl.fits'\n",
    "filenameEll='camblib600_nolensing_ell.fits'\n",
    "filenameR='camblib600_nolensing_r.fits'\n",
    "\n",
    "ellcamblib = FitsArray(root+filenameEll)\n",
    "rcamblib = FitsArray(root+filenameR)\n",
    "clcamblib = FitsArray(root+filenameCl)\n",
    "camblib = [ellcamblib, rcamblib, clcamblib]\n",
    "\n"
   ]
  },
  {
   "cell_type": "markdown",
   "metadata": {},
   "source": [
    "Interpolate among values in the library:"
   ]
  },
  {
   "cell_type": "code",
   "execution_count": null,
   "metadata": {},
   "outputs": [],
   "source": [
    "#Interpolate for different values of r, in the library:\n",
    "lll = camblib[0]\n",
    "bla = interp.RectBivariateSpline(lll,camblib[1],camblib[2])\n",
    "\n",
    "#r=0.1\n",
    "\n",
    "r=[0., 0.04, 0.08, 0.1, 0.12, 0.16]\n",
    "\n",
    "ClBB_r=[]\n",
    "\n",
    "for i in r:\n",
    "    ClBB_r.append(np.ravel(bla(lll, i))*(lll*(lll+1))/(2*np.pi))\n",
    "  \n"
   ]
  },
  {
   "cell_type": "markdown",
   "metadata": {},
   "source": [
    "Plot some values in the CAMBLIB, together with the computation by CAMB:"
   ]
  },
  {
   "cell_type": "code",
   "execution_count": null,
   "metadata": {},
   "outputs": [],
   "source": [
    "#colorlist= ['magenta','plum','violet','purple','darkviolet','deeppink']\n",
    "colorlist= ['forestgreen','limegreen','lime','seagreen','turquoise','aqua']\n",
    "\n",
    "linestyles = ['-', '--', '-.', ':','-', '--']\n",
    "\n",
    "labellist=['camblib r= '+str(s) for s in r]\n",
    "\n",
    "\n",
    "print('values of r=', r[1:])\n",
    "    \n",
    "for i in range(1,len(r)):\n",
    "    plt.plot(lll,ClBB_r[i], label=labellist[i], color=colorlist[i],ls=linestyles[i])\n",
    "plt.plot(ls,unlensedtotalCL[:,2], color='b', label='unlensed')\n",
    "plt.plot(ls,tensorCL[:,2], color='r', ls='--',label='tensor')\n",
    "plt.yscale(\"log\")\n",
    "plt.xscale(\"log\")\n",
    "plt.legend(loc='upper right');\n",
    "\n"
   ]
  },
  {
   "cell_type": "markdown",
   "metadata": {},
   "source": [
    "The preliminar conclusion is that in CAMBLIB there is the BB tensor spectrum (or total unlensed spectrum). The difference between the spectra in the library and the spectra computed with CAMB should be a different set of cosmological parameters. Although I tried to use the same set of parameters, I might be missing something.\n",
    "\n",
    "Below, I tried different values of $r$ (the same as above), and different values of $n_s$ (I don't see any difference in this latter case).\n"
   ]
  },
  {
   "cell_type": "raw",
   "metadata": {},
   "source": [
    "#I copy here this piece of code, to have the cosmological parameters used in CAMBLIB at hand:\n",
    "\n",
    "            H0 = 67.04\n",
    "\t\t\tomegab = 0.022032\n",
    "\t\t\tomegac = 0.12038\n",
    "\t\t\th2 = (H0/100.)**2\n",
    "\t\t\tscalar_amp = np.exp(3.098)/1.E10\n",
    "\t\t\tomegav = h2 - omegab - omegac\n",
    "\t\t\tOmegab = omegab/h2\n",
    "\t\t\tOmegac = omegac/h2\n",
    "\t\t\tparams = {'H0':H0,'omegab':Omegab,'omegac':Omegac,'omegak':0,'scalar_index':0.9624,'reion__use_optical_depth':True,'reion__optical_depth':0.0925,'tensor_ratio':rvalue,'WantTensors':True,'scalar_amp':scalar_amp,'DoLensing':True}\n",
    "\t\t\tlmaxcamb = np.max(lll)\n",
    "\t\t\tT,E,B,X = pycamb.camb(lmaxcamb+1+150,**params)\n",
    "\t\t\tB=B[:lmaxcamb+1]\n"
   ]
  },
  {
   "cell_type": "code",
   "execution_count": null,
   "metadata": {},
   "outputs": [],
   "source": [
    "#rs = np.linspace(0,0.2,6)\n",
    "#print(rs)"
   ]
  },
  {
   "cell_type": "markdown",
   "metadata": {},
   "source": [
    "#### Total BB spectra (tensor + lensing):"
   ]
  },
  {
   "cell_type": "code",
   "execution_count": null,
   "metadata": {},
   "outputs": [],
   "source": [
    "#I compute the total BB spectra (tensor + lensing) for different values of r:\n",
    "\n",
    "from camb import model, initialpower\n",
    "\n",
    "#You can calculate spectra for different primordial power spectra without recalculating everything\n",
    "#for example, let's plot the BB spectra as a function of r\n",
    "pars.set_for_lmax(4000, lens_potential_accuracy=1)\n",
    "pars.WantTensors = True\n",
    "results = camb.get_transfer_functions(pars)\n",
    "lmax=4000\n",
    "#rs = np.linspace(0,0.2,6)\n",
    "rs=[0., 0.04, 0.08, 0.1, 0.12, 0.16]\n",
    "for r in rs:\n",
    "    inflation_params = initialpower.InitialPowerLaw()\n",
    "    inflation_params.set_params(ns=0.9624, r=r)  #As=np.exp(3.098)/1.E10, ns=0.9624, r=0.1\n",
    "    results.power_spectra_from_transfer(inflation_params) #warning OK here, not changing scalars\n",
    "    cl = results.get_total_cls(lmax, CMB_unit='muK')\n",
    "    plt.loglog(np.arange(lmax+1),cl[:,2])\n",
    "plt.xlim([2,lmax])\n",
    "plt.legend([\"$r = %s$\"%r for r in  rs], loc='lower right');\n",
    "plt.ylabel(r'$\\ell(\\ell+1)C_\\ell^{BB}/ (2\\pi \\mu{\\rm K}^2)$')\n",
    "plt.xlabel(r'$\\ell$');"
   ]
  },
  {
   "cell_type": "markdown",
   "metadata": {},
   "source": [
    "#### Total unlensed BB spectra (tensor - no lensing). Varying $r$:"
   ]
  },
  {
   "cell_type": "code",
   "execution_count": null,
   "metadata": {},
   "outputs": [],
   "source": [
    "#I compute the total unlensed BB spectra (i.e.: tensor) for different values of r:\n",
    "#Varying r:\n",
    "\n",
    "from camb import model, initialpower\n",
    "\n",
    "#You can calculate spectra for different primordial power spectra without recalculating everything\n",
    "#for example, let's plot the BB spectra as a function of r\n",
    "pars.set_for_lmax(4000, lens_potential_accuracy=1)\n",
    "pars.WantTensors = True\n",
    "results = camb.get_transfer_functions(pars)\n",
    "lmax=4000\n",
    "#rs = np.linspace(0,0.2,6)\n",
    "rs=[0., 0.04, 0.08, 0.1, 0.12, 0.16]\n",
    "for r in rs:\n",
    "    inflation_params = initialpower.InitialPowerLaw()\n",
    "    inflation_params.set_params(ns=0.9624, r=r)  #As=np.exp(3.098)/1.E10, ns=0.9624, r=0.1\n",
    "    results.power_spectra_from_transfer(inflation_params) #warning OK here, not changing scalars\n",
    "    cl = results.get_unlensed_total_cls(lmax, CMB_unit='muK')\n",
    "    plt.loglog(np.arange(lmax+1),cl[:,2])\n",
    "plt.xlim([2,lmax])\n",
    "plt.legend([\"$r = %s$\"%r for r in  rs], loc='lower right');\n",
    "plt.ylabel(r'$\\ell(\\ell+1)C_\\ell^{BB}/ (2\\pi \\mu{\\rm K}^2)$')\n",
    "plt.xlabel(r'$\\ell$')\n",
    "plt.title('Varying r');"
   ]
  },
  {
   "cell_type": "markdown",
   "metadata": {},
   "source": [
    "#### Total unlensed BB spectra (tensor - no lensing). Varying $n_s$:"
   ]
  },
  {
   "cell_type": "code",
   "execution_count": null,
   "metadata": {},
   "outputs": [],
   "source": [
    "#Varying ns. We see that the BB spectra don't change:\n",
    "\n",
    "from camb import model, initialpower\n",
    "\n",
    "#You can calculate spectra for different primordial power spectra without recalculating everything\n",
    "#for example, let's plot the BB spectra as a function of r\n",
    "pars.set_for_lmax(4000, lens_potential_accuracy=1)\n",
    "pars.WantTensors = True\n",
    "results = camb.get_transfer_functions(pars)\n",
    "lmax=4000\n",
    "\n",
    "nss= np.linspace(0.9,1.0,10)\n",
    "\n",
    "for n in nss:\n",
    "    inflation_params = initialpower.InitialPowerLaw()\n",
    "    inflation_params.set_params(As=np.exp(3.098)/1.E10, ns=n, r=0.1)  #As=np.exp(3.098)/1.E10, ns=0.9624, r=0.1\n",
    "    results.power_spectra_from_transfer(inflation_params) #warning OK here, not changing scalars\n",
    "    cl = results.get_unlensed_total_cls(lmax, CMB_unit='muK')\n",
    "    plt.loglog(np.arange(lmax+1),cl[:,2])\n",
    "plt.xlim([2,lmax])\n",
    "plt.legend([\"$n_s = %.2f$\"%n for n in  nss], loc='lower right');\n",
    "plt.ylabel(r'$\\ell(\\ell+1)C_\\ell^{BB}/ (2\\pi \\mu{\\rm K}^2)$')\n",
    "plt.xlabel(r'$\\ell$')\n",
    "plt.title('Varying $n_s$  - r=0.1');"
   ]
  },
  {
   "cell_type": "code",
   "execution_count": null,
   "metadata": {},
   "outputs": [],
   "source": []
  }
 ],
 "metadata": {
  "kernelspec": {
   "display_name": "Python 3",
   "language": "python",
   "name": "python3"
  },
  "language_info": {
   "codemirror_mode": {
    "name": "ipython",
    "version": 3
   },
   "file_extension": ".py",
   "mimetype": "text/x-python",
   "name": "python",
   "nbconvert_exporter": "python",
   "pygments_lexer": "ipython3",
   "version": "3.6.9"
  }
 },
 "nbformat": 4,
 "nbformat_minor": 2
}
