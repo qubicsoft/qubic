{
 "cells": [
  {
   "cell_type": "markdown",
   "metadata": {},
   "source": [
    "### Namaster Example 6: Pure E and B"
   ]
  },
  {
   "cell_type": "markdown",
   "metadata": {},
   "source": [
    "This sample script showcases the computation of power spectra using the pure-E and B approach."
   ]
  },
  {
   "cell_type": "markdown",
   "metadata": {},
   "source": [
    "Warning\n",
    "\n",
    "If you have HEALPix UNSEEN values in your map, set those pixels to zero in both the mask and map in order to use B-mode purification."
   ]
  },
  {
   "cell_type": "code",
   "execution_count": 2,
   "metadata": {},
   "outputs": [
    {
     "name": "stdout",
     "output_type": "stream",
     "text": [
      "0 10\n",
      "1 10\n",
      "2 10\n",
      "3 10\n",
      "4 10\n",
      "5 10\n",
      "6 10\n",
      "7 10\n",
      "8 10\n",
      "9 10\n"
     ]
    },
    {
     "data": {
      "image/png": "[encoded data removed]",
      "text/plain": [
       "<Figure size 432x288 with 1 Axes>"
      ]
     },
     "metadata": {
      "needs_background": "light"
     },
     "output_type": "display_data"
    }
   ],
   "source": [
    "import numpy as np\n",
    "import healpy as hp\n",
    "import matplotlib.pyplot as plt\n",
    "import pymaster as nmt\n",
    "\n",
    "# This script describes the computation of polarized power spectra using the\n",
    "# pure-E and B approach\n",
    "\n",
    "# We'll run this many simulations\n",
    "nsim = 10\n",
    "# HEALPix map resolution\n",
    "nside = 256\n",
    "\n",
    "# Let us first create a square mask:\n",
    "msk = np.zeros(hp.nside2npix(nside))\n",
    "th, ph = hp.pix2ang(nside, np.arange(hp.nside2npix(nside)))\n",
    "ph[np.where(ph > np.pi)[0]] -= 2 * np.pi\n",
    "msk[np.where((th < 2.63) & (th > 1.86) &\n",
    "             (ph > -np.pi / 4) & (ph < np.pi / 4))[0]] = 1.\n",
    "\n",
    "# Now we apodize the mask. The pure-B formalism requires the mask to be\n",
    "# differentiable along the edges. The 'C1' and 'C2' apodization types\n",
    "# supported by mask_apodization achieve this.\n",
    "msk_apo = nmt.mask_apodization(msk, 10.0, apotype='C1')\n",
    "\n",
    "# Select a binning scheme\n",
    "##b = nmt.NmtBin.from_nside_linear(nside, 16)\n",
    "b= nmt.NmtBin(nside,nlb=16)\n",
    "\n",
    "\n",
    "leff = b.get_effective_ells()\n",
    "\n",
    "# Read power spectrum and provide function to generate simulated skies\n",
    "l, cltt, clee, clbb, clte = np.loadtxt('cls.txt', unpack=True)\n",
    "\n",
    "\n",
    "def get_fields():\n",
    "    mp_t, mp_q, mp_u = hp.synfast([cltt, clee, clbb, clte],\n",
    "                                  nside=nside, new=True, verbose=False)\n",
    "    # This creates a spin-2 field without purifying either E or B\n",
    "    f2_np = nmt.NmtField(msk_apo, [mp_q, mp_u])\n",
    "    # This creates a spin-2 field with both pure E and B.\n",
    "    f2_yp = nmt.NmtField(msk_apo, [mp_q, mp_u], purify_e=True, purify_b=True)\n",
    "    # Note that generally it's not a good idea to purify both,\n",
    "    # since you'll lose sensitivity on E\n",
    "    return f2_np, f2_yp\n",
    "\n",
    "\n",
    "# We initialize two workspaces for the non-pure and pure fields:\n",
    "f2np0, f2yp0 = get_fields()\n",
    "w_np = nmt.NmtWorkspace()\n",
    "w_np.compute_coupling_matrix(f2np0, f2np0, b)\n",
    "w_yp = nmt.NmtWorkspace()\n",
    "w_yp.compute_coupling_matrix(f2yp0, f2yp0, b)\n",
    "\n",
    "\n",
    "# This wraps up the two steps needed to compute the power spectrum\n",
    "# once the workspace has been initialized\n",
    "def compute_master(f_a, f_b, wsp):\n",
    "    cl_coupled = nmt.compute_coupled_cell(f_a, f_b)\n",
    "    cl_decoupled = wsp.decouple_cell(cl_coupled)\n",
    "    return cl_decoupled\n",
    "\n",
    "\n",
    "# We now iterate over several simulations, computing the\n",
    "# power spectrum for each of them\n",
    "data_np = []\n",
    "data_yp = []\n",
    "for i in np.arange(nsim):\n",
    "    print(i, nsim)\n",
    "    fnp, fyp = get_fields()\n",
    "    data_np.append(compute_master(fnp, fnp, w_np))\n",
    "    data_yp.append(compute_master(fyp, fyp, w_yp))\n",
    "data_np = np.array(data_np)\n",
    "data_yp = np.array(data_yp)\n",
    "clnp_mean = np.mean(data_np, axis=0)\n",
    "clnp_std = np.std(data_np, axis=0)\n",
    "clyp_mean = np.mean(data_yp, axis=0)\n",
    "clyp_std = np.std(data_yp, axis=0)\n",
    "\n",
    "# Now we plot the results\n",
    "plt.figure()\n",
    "plt.title('$BB$ error', fontsize=18)\n",
    "plt.plot(leff, clnp_std[3], 'r-', lw=2, label='Standard pseudo-$C_\\\\ell$')\n",
    "plt.plot(leff, clyp_std[3], 'b-', lw=2, label='Pure-$B$ estimator')\n",
    "plt.xlim([2, 512])\n",
    "plt.xlabel('$\\\\ell$', fontsize=18)\n",
    "plt.ylabel('$\\\\sigma(C_\\\\ell)$', fontsize=18)\n",
    "plt.legend(loc='upper right', frameon=False)\n",
    "plt.loglog()\n",
    "plt.show()\n"
   ]
  },
  {
   "cell_type": "code",
   "execution_count": null,
   "metadata": {},
   "outputs": [],
   "source": []
  }
 ],
 "metadata": {
  "kernelspec": {
   "display_name": "Python 3",
   "language": "python",
   "name": "python3"
  },
  "language_info": {
   "codemirror_mode": {
    "name": "ipython",
    "version": 3
   },
   "file_extension": ".py",
   "mimetype": "text/x-python",
   "name": "python",
   "nbconvert_exporter": "python",
   "pygments_lexer": "ipython3",
   "version": "3.6.9"
  }
 },
 "nbformat": 4,
 "nbformat_minor": 2
}
