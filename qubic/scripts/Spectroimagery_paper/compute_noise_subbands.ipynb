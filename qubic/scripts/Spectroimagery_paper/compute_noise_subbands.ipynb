{
 "cells": [
  {
   "cell_type": "code",
   "execution_count": null,
   "id": "acd6eb67",
   "metadata": {},
   "outputs": [],
   "source": [
    "from __future__ import division, print_function\n",
    "\n",
    "%matplotlib inline\n",
    "import matplotlib\n",
    "matplotlib.use('nbagg')\n",
    "\n",
    "import glob\n",
    "import os\n",
    "import healpy as hp\n",
    "import numpy as np\n",
    "\n",
    "from scipy import interpolate\n",
    "\n",
    "from qubic import ReadMC as rmc\n",
    "from qubic import AnalysisMC as amc\n",
    "\n",
    "import qubic\n",
    "from qubic import equ2gal\n",
    "\n",
    "from qubicpack.utilities import Qubic_DataDir\n"
   ]
  },
  {
   "cell_type": "markdown",
   "id": "b63efac9",
   "metadata": {},
   "source": [
    "***\n",
    "# Get the simulation files"
   ]
  },
  {
   "cell_type": "code",
   "execution_count": null,
   "id": "df059501",
   "metadata": {},
   "outputs": [],
   "source": [
    "simu3000 = ['24817644/20190926_low_nep', # 1e-18\n",
    "               '24817840/20190926_low_nep', #2.5e-18\n",
    "               '24817884/20190926_low_nep', # 5e-18\n",
    "               '24817902/20190926_low_nep', # 7.5e-18\n",
    "               '24858757/20190927_low_nep', # 7.5e-17\n",
    "               '24870671/20190928_low_nep', # 5e-17\n",
    "               '24870759/20190928_low_nep', # 2.5e-17\n",
    "               '24870780/20190928_low_nep'] # 1e-17\n",
    "\n",
    "simu9000 = ['24870861/20190929_low_nep', # 7.5e-17\n",
    "                   '24870921/20190929_low_nep', # 5e-17\n",
    "                   '24870964/20190929_low_nep', # 2.5e-17\n",
    "                   '24870972/20190929_low_nep', # 1e-17\n",
    "                   '24818388/20190926_low_nep', # 1e-18\n",
    "                   '24818399/20190926_low_nep', # 2.5e-18\n",
    "                   '24818404/20190926_low_nep', # 5e-18\n",
    "                   '24818411/20190926_low_nep'] # 7.5e-18\n",
    "\n",
    "simu128 = ['24445883/20190909_low_nep',\n",
    "                  '24445922/20190909_low_nep',\n",
    "                  '24445999/20190909_low_nep',\n",
    "                  '24446008/20190909_low_nep']\n",
    "\n",
    "simu220 = ['25591014/20191106_low_nep'] # 1e-18"
   ]
  },
  {
   "cell_type": "code",
   "execution_count": null,
   "id": "0d196fa4",
   "metadata": {},
   "outputs": [],
   "source": [
    "# Simulation date and name\n",
    "date_name = simu3000[0]\n",
    "# date_name = 'NERSC_runs/24334789/20190903_low_nep'\n",
    "\n",
    "# Get the repository where the simulation is\n",
    "rep_simu = Qubic_DataDir(datafile=date_name + '.dict') + '/'\n",
    "print('rep_simu : ', rep_simu)\n",
    "\n",
    "# Dictionary saved during the simulation\n",
    "d = qubic.qubicdict.qubicDict()\n",
    "d.read_from_file(rep_simu + date_name + '.dict')\n",
    "\n",
    "print('NEP =', d['detector_nep'])\n",
    "print('npointings =', d['npointings'])"
   ]
  },
  {
   "cell_type": "markdown",
   "id": "6085cb25",
   "metadata": {},
   "source": [
    "## Get full maps or patchs"
   ]
  },
  {
   "cell_type": "code",
   "execution_count": null,
   "id": "97507103",
   "metadata": {},
   "outputs": [],
   "source": [
    "irec = 2\n",
    "\n",
    "files, maps_recon, maps_conv, maps_diff = \\\n",
    "rmc.get_maps_many_files(rep_simu + date_name, '*nfrecon{}*False*'.format(irec))\n",
    "\n",
    "nreals=len(files)\n",
    "\n",
    "print(maps_recon.shape)"
   ]
  },
  {
   "cell_type": "code",
   "execution_count": null,
   "id": "29e66618",
   "metadata": {},
   "outputs": [],
   "source": [
    "_, maps_recon_patch, maps_conv_patch, maps_diff_patch = \\\n",
    "rmc.get_patch_many_files(rep_simu + date_name, '*nfrecon{}*False*'.format(irec))\n",
    "\n",
    "npix_patch = maps_recon_patch.shape[2]\n",
    "print('npix_patch = ', npix_patch)"
   ]
  },
  {
   "cell_type": "code",
   "execution_count": null,
   "id": "79e6ea5e",
   "metadata": {},
   "outputs": [],
   "source": [
    "# Coordinates of the zone observed in the sky\n",
    "center = equ2gal(d['RA_center'], d['DEC_center'])\n",
    "\n",
    "seenmap = rmc.get_seenmap(files[0])\n",
    "\n",
    "# Angle for each pixel in the patch\n",
    "ang = rmc.pix2ang(d['nside'], center, seenmap)\n",
    "ang"
   ]
  },
  {
   "cell_type": "markdown",
   "id": "8145c97e",
   "metadata": {},
   "source": [
    "# Compute all sigma"
   ]
  },
  {
   "cell_type": "code",
   "execution_count": null,
   "id": "65be8ce9",
   "metadata": {},
   "outputs": [],
   "source": [
    "# Make a loop over irec and fill dictionnaries\n",
    "dict_sig2MC = {}\n",
    "dict_sig2 = {}\n",
    "ang_th = 5\n",
    "\n",
    "for irec in d['nf_recon']:\n",
    "    print('irec =', irec)   \n",
    "    _, recon_patch, _, _ = rmc.get_patch_many_files(rep_simu + date_name, '*nfrecon{}*False*'.format(irec))\n",
    "    \n",
    "    if irec == 1:\n",
    "        # Remove the single dimension  \n",
    "        recon_patch = np.squeeze(recon_patch)\n",
    "        print(recon_patch.shape)\n",
    "\n",
    "        sig2MC_monofreq = np.var(recon_patch, axis=0) # Variance over realizations\n",
    "        sig2MCmean_monofreq = amc.average_pix_sig2(sig2MC_monofreq, ang, ang_threshold=ang_th)\n",
    "        dict_sig2MC.update({'{}'.format(irec): sig2MC_monofreq})\n",
    "        dict_sig2MC.update({'{}mean'.format(irec): sig2MCmean_monofreq})\n",
    "        \n",
    "        print('\\n')\n",
    "       \n",
    "    else:\n",
    "        if irec == 4:\n",
    "            doplot = True\n",
    "        else :\n",
    "            doplot = False\n",
    "        Cp = amc.get_Cp(recon_patch, nfrecon=d['nf_recon'], verbose=False, doplot=doplot)\n",
    "        Cp_prime = amc.Cp2Cp_prime_viaCorr(Cp, verbose=True)\n",
    "#         Cp_prime = amc.Cp2Cp_prime(Cp, verbose=True)\n",
    "        \n",
    "        # Compute sig2 and sig2MC \n",
    "        # Using Cp or Cp_prime\n",
    "        weighted_av, sig2 = amc.make_weighted_av(recon_patch, Cp_prime, verbose=False)\n",
    "        \n",
    "        sig2mean = amc.average_pix_sig2(sig2, ang, ang_threshold=ang_th)\n",
    "        dict_sig2.update({'{}'.format(irec): sig2})\n",
    "        dict_sig2.update({'{}mean'.format(irec): sig2mean})\n",
    "        \n",
    "        sig2MC = np.var(weighted_av, axis=0)\n",
    "        sig2MCmean = amc.average_pix_sig2(sig2MC, ang, ang_threshold=ang_th)\n",
    "        dict_sig2MC.update({'{}'.format(irec): sig2MC})\n",
    "        dict_sig2MC.update({'{}mean'.format(irec): sig2MCmean})\n",
    "        \n",
    "        print('\\n')\n"
   ]
  },
  {
   "cell_type": "code",
   "execution_count": null,
   "id": "6146a5a2",
   "metadata": {},
   "outputs": [],
   "source": [
    "plt.plot(dict_sig2['2'][:, 0], '.')\n",
    "np.min(dict_sig2['8'][:, 0])\n",
    "dict_sig2MC"
   ]
  },
  {
   "cell_type": "markdown",
   "id": "04b28ead",
   "metadata": {},
   "source": [
    "***\n",
    "# Plots"
   ]
  },
  {
   "cell_type": "code",
   "execution_count": null,
   "id": "7051212e",
   "metadata": {},
   "outputs": [],
   "source": [
    "Stokes = ['I', 'Q', 'U']\n",
    "nbins = 6\n",
    "\n",
    "def make_fit(x, y, nbins):\n",
    "    bin_edges = np.linspace(0, np.max(x), nbins + 1)\n",
    "    bin_centers = 0.5 * (bin_edges[0:nbins] + bin_edges[1:])\n",
    "\n",
    "    mean_bin = np.zeros(nbins)\n",
    "    for b in range(nbins):\n",
    "        ok = (x > bin_edges[b]) & (x < bin_edges[b + 1])\n",
    "        mean_bin[b] = np.mean(y[ok], axis=0)\n",
    "    fit = interpolate.interp1d(bin_centers, mean_bin, axis=0, kind='linear', fill_value='extrapolate')\n",
    "    return bin_centers, mean_bin, fit\n",
    "\n",
    "def plot_sigma2profile(ang, dict_sig2, dict_sig2MC, nbins, nf_recon):\n",
    "    plt.figure(figsize=(12, 7))\n",
    "    for nband in nf_recon:\n",
    "        for s in range(3):\n",
    "\n",
    "            # Interpolation to get a profile\n",
    "            bin_centers, mean_bin, fit = make_fit(ang, dict_sig2['{}'.format(nband)][:, s], nbins)\n",
    "            bin_centersMC, mean_binMC, fitMC = make_fit(ang, dict_sig2MC['{}'.format(nband)][:, s], nbins)\n",
    "            \n",
    "            plt.subplot(1, 3, s+1)\n",
    "            plt.subplots_adjust(wspace=0.5)\n",
    "\n",
    "            p = plt.plot(bin_centers, mean_bin, 'o', label='sig2 nband ={}'.format(nband))\n",
    "            plt.plot(ang, fit(ang), '--', color=p[0].get_color())\n",
    "            \n",
    "            pMC = plt.plot(bin_centersMC, mean_binMC, 's', color=p[0].get_color(), \n",
    "                           label='sig2MC nband ={}'.format(nband))\n",
    "            plt.plot(ang, fitMC(ang), '--', color=p[0].get_color())\n",
    "            \n",
    "            plt.title(Stokes[s], fontsize=20)\n",
    "            plt.xlabel('angle (°)', fontsize=15)\n",
    "            plt.ylabel('sig2', fontsize=15)\n",
    "            plt.ylim(0, 0.0005)\n",
    "            plt.xlim(0, 18)\n",
    "            plt.legend()\n",
    "    return p, pMC\n",
    "\n",
    "def plot_sigma2profile_frac(ang, dict_sig2, dict_sig2MC, nbins, nf_recon):\n",
    "    plt.figure(figsize=(12, 7))\n",
    "    for nband in nf_recon:\n",
    "        for s in range(3):\n",
    "\n",
    "            # Interpolation to get a profile\n",
    "            frac = dict_sig2['{}'.format(nband)][:, s] / dict_sig2MC['{}'.format(nband)][:, s]\n",
    "            bin_centers, mean_bin, fit = make_fit(ang,frac, nbins)\n",
    "            \n",
    "            plt.subplot(1, 3, s+1)\n",
    "            plt.subplots_adjust(wspace=0.5)\n",
    "            \n",
    "            p = plt.plot(bin_centers, mean_bin, 'o', label='nband ={}'.format(nband))\n",
    "            plt.plot(ang, fit(ang), '--', color=p[0].get_color())\n",
    "            \n",
    "            plt.title(Stokes[s], fontsize=20)\n",
    "            plt.xlabel('angle (°)', fontsize=15)\n",
    "            plt.ylabel('$\\sigma^2 / \\sigma^2_{MC}$', fontsize=15)\n",
    "#             plt.ylim(0, 0.0005)\n",
    "#             plt.xlim(0, 18)\n",
    "            plt.legend()\n",
    "    return p\n"
   ]
  },
  {
   "cell_type": "code",
   "execution_count": null,
   "id": "2a3f992c",
   "metadata": {},
   "outputs": [],
   "source": [
    "p, pMC = plot_sigma2profile(ang, dict_sig2, dict_sig2MC, nbins=6, nf_recon=d['nf_recon'][1:])"
   ]
  },
  {
   "cell_type": "code",
   "execution_count": null,
   "id": "f2cf614a",
   "metadata": {},
   "outputs": [],
   "source": [
    "p = plot_sigma2profile_frac(ang, dict_sig2, dict_sig2MC, nbins=7, nf_recon=d['nf_recon'][1:])"
   ]
  },
  {
   "cell_type": "code",
   "execution_count": null,
   "id": "7de324bb",
   "metadata": {},
   "outputs": [],
   "source": [
    "def plot_sig_mean(dict_sig2, dict_sig2MC, nf_recon):\n",
    "    plt.figure(figsize=(12, 7))\n",
    "    for s in range(3):\n",
    "        for irec in nf_recon: \n",
    "\n",
    "            plt.subplot(1, 3, s+1)\n",
    "            plt.subplots_adjust(wspace=0.5)\n",
    "            \n",
    "            if irec == 1: \n",
    "                sig_monofreq = dict_sig2MC['{}mean'.format(irec)][s]\n",
    "                plt.plot(irec, sig_monofreq, 'b*')\n",
    "            else:\n",
    "                sig2 = dict_sig2['{}mean'.format(irec)][s]\n",
    "                sig2MC = dict_sig2MC['{}mean'.format(irec)][s]\n",
    "                plt.plot(irec, sig2/sig2MC, 'ro')\n",
    "        \n",
    "            plt.title(Stokes[s])\n",
    "            plt.xlabel('# of bands', fontsize=20)\n",
    "            plt.ylabel(r'$\\sigma^2 / \\sigma^2_{MC}$', fontsize=20)\n",
    "            if irec == 2: \n",
    "                plt.legend(loc='lower right')\n",
    "            \n",
    "    return "
   ]
  },
  {
   "cell_type": "code",
   "execution_count": null,
   "id": "3e038bf4",
   "metadata": {},
   "outputs": [],
   "source": [
    "plot_sig_mean(dict_sig2, dict_sig2MC, d['nf_recon'][1:])"
   ]
  },
  {
   "cell_type": "code",
   "execution_count": null,
   "id": "b4eb625b",
   "metadata": {},
   "outputs": [],
   "source": []
  }
 ],
 "metadata": {
  "kernelspec": {
   "display_name": "Python 3",
   "language": "python",
   "name": "python3"
  }
 },
 "nbformat": 4,
 "nbformat_minor": 5
}
