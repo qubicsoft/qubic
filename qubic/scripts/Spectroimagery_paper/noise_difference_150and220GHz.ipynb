{
 "cells": [
  {
   "cell_type": "markdown",
   "id": "d949a5e1",
   "metadata": {},
   "source": [
    "## Noise level at 150 and 220 GHz\n",
    "\n"
   ]
  },
  {
   "cell_type": "code",
   "execution_count": null,
   "id": "6e9e9344",
   "metadata": {},
   "outputs": [],
   "source": [
    "from __future__ import division, print_function\n",
    "%matplotlib inline\n",
    "\n",
    "# Specific science modules\n",
    "import healpy as hp\n",
    "import numpy as np\n",
    "import matplotlib.pyplot as plt\n",
    "\n",
    "# Specific qubic modules\n",
    "import pysm\n",
    "import qubic\n",
    "from qubicpack.utilities import Qubic_DataDir\n",
    "from pysimulators import FitsArray\n",
    "\n",
    "from qubic import SpectroImLib as si\n",
    "from pysm import models\n",
    "from qubic import QubicSkySim as qss\n",
    "\n",
    "rc('figure', figsize=(13, 10))\n",
    "rc('font', size=13)"
   ]
  },
  {
   "cell_type": "code",
   "execution_count": null,
   "id": "9f1e6611",
   "metadata": {},
   "outputs": [],
   "source": [
    "# Repository for dictionary\n",
    "global_dir = Qubic_DataDir(datafile='instrument.py', datadir='../')\n",
    "dictfilename = global_dir + 'dicts/pipeline_demo.dict'\n",
    "\n",
    "# Read dictionary chosen\n",
    "d = qubic.qubicdict.qubicDict()\n",
    "d.read_from_file(dictfilename)\n",
    "\n",
    "# Center of the patch observed in galactic coordinates\n",
    "center = qubic.equ2gal(d['RA_center'], d['DEC_center'])\n",
    "print(center)\n",
    "\n",
    "# Adjust some parameters in the dictionary\n",
    "d['nf_sub'] = 1\n",
    "d['nf_recon'] = 1\n",
    "d['npointings'] = 3000\n",
    "d['photon_noise'] = False\n",
    "d['noiseless'] = True\n",
    "\n",
    "\n",
    "print(d['detector_nep'])\n",
    "print(d['photon_noise'])\n",
    "print(d['config'])\n",
    "d['effective_duration']"
   ]
  },
  {
   "cell_type": "code",
   "execution_count": null,
   "id": "3671d1e0",
   "metadata": {},
   "outputs": [],
   "source": [
    "# Make a sky using PYSM\n",
    "sky_config = {'CMB': 'c1'} \n",
    "# sky_config = {'dust': 'd0'} \n",
    "\n",
    "def makeTOD(sky_freq, beam_freq):\n",
    "    \n",
    "    # Make a sky\n",
    "    d['filter_nu'] = sky_freq * 1e9\n",
    "    Qubic_sky = qss.Qubic_sky(sky_config, d)\n",
    "    x0 = Qubic_sky.get_simple_sky_map()\n",
    "    print('sky shape: ', x0.shape)\n",
    "    \n",
    "    # Make TOD\n",
    "    d['filter_nu'] = beam_freq * 1e9\n",
    "    p = qubic.get_pointing(d)\n",
    "    print('=== Pointing DONE! ===')\n",
    "    s = qubic.QubicScene(d)\n",
    "    q = qubic.QubicInstrument(d)\n",
    "    a = qubic.QubicAcquisition(q, p, s, d)\n",
    "    TOD, maps_convolved = a.get_observation(x0[0], noiseless=d['noiseless'])#, convolution = True)\n",
    "\n",
    "    print('TOD shape: ', TOD.shape)\n",
    "    print('maps conv shape: ', maps_convolved.shape)\n",
    "    \n",
    "    std = np.std(TOD, axis=1)\n",
    "    print('STD shape', std.shape)\n",
    "    \n",
    "    return TOD, std"
   ]
  },
  {
   "cell_type": "code",
   "execution_count": null,
   "id": "4bf4b6c7",
   "metadata": {},
   "outputs": [],
   "source": [
    "TOD_s150_b150, std_s150_b150 = makeTOD(150, 150)\n",
    "TOD_s220_b220, std_s220_b220 = makeTOD(220, 220)\n",
    "TOD_s150_b220, std_s150_b220 = makeTOD(150, 220)\n",
    "TOD_s220_b150, std_s220_b150 = makeTOD(220, 150)"
   ]
  },
  {
   "cell_type": "code",
   "execution_count": null,
   "id": "03f7fffd",
   "metadata": {},
   "outputs": [],
   "source": [
    "TES = 0\n",
    "plt.plot(TOD_s150_b150[TES, :], label='sky 150 - beam150 - std={}'.format(std_s150_b150[TES]), alpha=0.7)\n",
    "plt.plot(TOD_s220_b220[TES, :], label='sky 220 - beam220 - std={}'.format(std_s220_b220[TES]), alpha=0.7)\n",
    "plt.plot(TOD_s150_b220[TES, :], label='sky 150 - beam220 - std={}'.format(std_s150_b220[TES]), alpha=0.7)\n",
    "plt.plot(TOD_s220_b150[TES, :], label='sky 220 - beam150 - std={}'.format(std_s220_b150[TES]), alpha=0.7)\n",
    "plt.title(f'TES {TES}')\n",
    "plt.legend()"
   ]
  },
  {
   "cell_type": "code",
   "execution_count": null,
   "id": "63e02eb4",
   "metadata": {},
   "outputs": [],
   "source": [
    "full_STD_s150_b150 = np.std(TOD_s150_b150)\n",
    "full_STD_s220_b220 = np.std(TOD_s220_b220)\n",
    "full_STD_s150_b220 = np.std(TOD_s150_b220)\n",
    "full_STD_s220_b150 = np.std(TOD_s220_b150)\n",
    "print('STD sky150 - beam150:', full_STD_s150_b150)\n",
    "print('STD sky220 - beam220:', full_STD_s220_b220)\n",
    "print('STD sky150 - beam220:', full_STD_s150_b220)\n",
    "print('STD sky220 - beam150:', full_STD_s220_b150)"
   ]
  },
  {
   "cell_type": "code",
   "execution_count": null,
   "id": "b3ee6efb",
   "metadata": {},
   "outputs": [],
   "source": [
    "1.6e-18/2.17e-19\n"
   ]
  },
  {
   "cell_type": "code",
   "execution_count": null,
   "id": "f266c99c",
   "metadata": {},
   "outputs": [],
   "source": [
    "2.5*3"
   ]
  },
  {
   "cell_type": "code",
   "execution_count": null,
   "id": "df57e5e2",
   "metadata": {},
   "outputs": [],
   "source": []
  }
 ],
 "metadata": {
  "kernelspec": {
   "display_name": "Python 3",
   "language": "python",
   "name": "python3"
  }
 },
 "nbformat": 4,
 "nbformat_minor": 5
}
