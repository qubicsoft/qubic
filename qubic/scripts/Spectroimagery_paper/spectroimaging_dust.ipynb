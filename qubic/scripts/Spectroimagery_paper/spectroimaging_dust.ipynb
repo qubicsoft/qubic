{
 "cells": [
  {
   "cell_type": "markdown",
   "id": "3a23013a",
   "metadata": {},
   "source": [
    "# QUBIC spectroimaging dust\n",
    "\n",
    "#### Editing by Martin Gamboa, Louise Mousset, 2019/09/02\n",
    "\n",
    "This notebook is part of a set of notebooks with the idea to show spectroimaging capabilities of qubicsoft. There are 2 notebooks:\n",
    "* spectroimaging_pointsource.Rmd: Test map-making for two point source emmiting in monochromatic frecuency and superimpose two signals in different frecuency and see how the reconstruction works\n",
    "* spectroimaging_dust.Rmd: test map-making using cmb+dust signal\n",
    "\n",
    "In this notebook, we make a full simulation and to end and the analysis. It is usefull to make small tests on your own computer."
   ]
  },
  {
   "cell_type": "code",
   "execution_count": null,
   "id": "3f4069d9",
   "metadata": {},
   "outputs": [],
   "source": [
    "%matplotlib inline\n",
    "from pylab import *\n",
    "import os\n",
    "import sys\n",
    "import glob\n",
    "\n",
    "# Specific science modules\n",
    "import healpy as hp\n",
    "import numpy as np\n",
    "\n",
    "# Specific qubic modules\n",
    "from qubicpack.utilities import Qubic_DataDir\n",
    "from pysimulators import FitsArray\n",
    "import pysm\n",
    "import pysm.units as u\n",
    "\n",
    "import qubic\n",
    "from qubic import SpectroImLib as si\n",
    "from qubic import QubicSkySim as qss\n",
    "from qubic import camb_interface as qc\n",
    "from qubic import NamasterLib as nam\n",
    "\n",
    "from qubic import fibtools as ft\n",
    "\n",
    "from qubic import ReadMC as rmc\n",
    "from qubic import AnalysisMC as amc\n",
    "\n",
    "rc('figure', figsize=(13, 10))\n",
    "rc('font', size=15)"
   ]
  },
  {
   "cell_type": "code",
   "execution_count": null,
   "id": "627a121c",
   "metadata": {},
   "outputs": [],
   "source": [
    "# Repository for dictionary \n",
    "dictfilename = os.environ['QUBIC_DICT']+'spectroimaging_article_gal.dict'\n",
    "\n",
    "# Read dictionary chosen\n",
    "d = qubic.qubicdict.qubicDict()\n",
    "d.read_from_file(dictfilename)\n",
    "\n",
    "d['npointings'] = 3000\n",
    "d['nf_sub'] = 16\n",
    "# Center of the patch observed in galactic coordinates\n",
    "# l_center = 0.\n",
    "# b_center = 0. \n",
    "# center = np.array([l_center, b_center])\n",
    "\n",
    "# RA DEC coordinates for the center of the patch\n",
    "# d['RA_center'], d['DEC_center'] = qubic.gal2equ(l_center, b_center)\n",
    "# print('RADEC center :', d['RA_center'], d['DEC_center'])\n",
    "\n",
    "\n",
    "center = qubic.equ2gal(d['RA_center'], d['DEC_center'])\n",
    "print(center)"
   ]
  },
  {
   "cell_type": "code",
   "execution_count": null,
   "id": "53f42ce5",
   "metadata": {},
   "outputs": [],
   "source": [
    "from qubic.polyacquisition import compute_freq\n",
    "compute_freq(150, 4)"
   ]
  },
  {
   "cell_type": "markdown",
   "id": "2d1d8de2",
   "metadata": {},
   "source": [
    "# Initial sky maps\n",
    "* cmb+dust+synchrotron\n",
    "\n",
    "I would like to make a sky with a very particular spectra (a V centered at 150GHz)."
   ]
  },
  {
   "cell_type": "code",
   "execution_count": null,
   "id": "276ab217",
   "metadata": {},
   "outputs": [],
   "source": [
    "# maps_dir = '/home/lmousset/QUBIC/MyGitQUBIC/qubic/qubic/scripts/Spectroimagery_paper/maps/'\n",
    "# x0cmb = FitsArray(maps_dir + 'CMB_r=0_nside128_nfsub16.fits')\n",
    "# x0dust = FitsArray(maps_dir + 'Dust_d1_nside128_nfsub16.fits')\n",
    "# x0synch = FitsArray(maps_dir + 'Synchrotron_s1_nside128_nfsub16.fits')\n",
    "\n",
    "seed = 42\n",
    "sky_config = {'dust': 'd1'}\n",
    "Qubic_sky = qss.Qubic_sky(sky_config, d)\n",
    "x0 = Qubic_sky.get_simple_sky_map()\n",
    "print('Input map with shape:', x0.shape)"
   ]
  },
  {
   "cell_type": "code",
   "execution_count": null,
   "id": "06a6c078",
   "metadata": {},
   "outputs": [],
   "source": [
    "# allx0 = [x0synch, x0cmb, x0dust]\n",
    "# title = ['Synchrotron', 'CMB', 'Dust']\n",
    "# isub = 10\n",
    "# for i in range(3):\n",
    "#     hp.mollview(allx0[i][isub, :, 0], sub=(3, 1, i+1), title=title[i], cbar=None)"
   ]
  },
  {
   "cell_type": "code",
   "execution_count": null,
   "id": "5d8e5342",
   "metadata": {},
   "outputs": [],
   "source": [
    "# # Remember that we can always retrieve the input CMB maps and spectra\n",
    "\n",
    "# ell, totDL, unlensedDL = qc.get_camb_Dl(r=0., lmax=3*d['nside']-1)\n",
    "# cmb_dict = {'CAMBSpectra':totDL, 'ell':ell, 'seed':None}\n",
    "# sky_config = {'cmb': cmb_dict}\n",
    "# Qubic_skycmb = qss.Qubic_sky(sky_config, d)\n",
    "\n",
    "# ### Input Maps\n",
    "# input_maps = Qubic_skycmb.input_cmb_maps\n",
    "# rng = (np.std(input_maps, axis=(1))*3).astype(int)\n",
    "# rng[1:] = np.max(rng[1:])\n",
    "\n",
    "# plt.figure()\n",
    "# hp.mollview(input_maps[0,:], title=\"I input map used\", min=-rng[0], max=rng[0], sub=(1,3,1))\n",
    "# hp.mollview(input_maps[1,:], title=\"Q input map used\", min=-rng[1], max=rng[1], sub=(1,3,2))\n",
    "# hp.mollview(input_maps[2,:], title=\"U input map used\", min=-rng[2], max=rng[2], sub=(1,3,3))\n",
    "\n",
    "# ### Input Cls\n",
    "# input_Dl = Qubic_skycmb.input_cmb_spectra\n",
    "# if input_Dl is not None:\n",
    "#     input_ell = np.arange(np.shape(input_Dl)[0])\n",
    "#     plt.figure()\n",
    "#     order = ['TT', 'EE', 'BB', 'TE']\n",
    "#     for i in range(4):\n",
    "#         subplot(2, 2, i+1)\n",
    "#         plot(input_ell, input_Dl[:, i], color='k')\n",
    "#         plt.title(order[i])\n",
    "#         xlabel('$\\\\ell$')\n",
    "#         ylabel('$D_\\\\ell$')\n",
    "#     tight_layout()"
   ]
  },
  {
   "cell_type": "markdown",
   "id": "47c384c7",
   "metadata": {},
   "source": [
    "# Get the coverage"
   ]
  },
  {
   "cell_type": "code",
   "execution_count": null,
   "id": "e2044445",
   "metadata": {},
   "outputs": [],
   "source": [
    "p = qubic.get_pointing(d)\n",
    "q = qubic.QubicMultibandInstrument(d)\n",
    "s = qubic.QubicScene(d)\n",
    "\n",
    "# _, nus_edge, _, _, _, _ = qubic.compute_freq(150, d['nf_sub'])\n",
    "\n",
    "# a = qubic.QubicMultibandAcquisition(q, p, s, d, nus_edge)\n",
    "# cov = a.get_coverage()"
   ]
  },
  {
   "cell_type": "code",
   "execution_count": null,
   "id": "66fe4dc7",
   "metadata": {},
   "outputs": [],
   "source": [
    "# Look at the coverage of the sky\n",
    "print(cov.shape)\n",
    "covsum = np.sum(cov, axis=0)\n",
    "hp.mollview(covsum)"
   ]
  },
  {
   "cell_type": "code",
   "execution_count": null,
   "id": "c887872b",
   "metadata": {},
   "outputs": [],
   "source": [
    "seenmap = covsum > 0.1 * np.max(covsum)\n",
    "cov[:, np.invert(seenmap)] = hp.UNSEEN\n",
    "hp.mollview(cov[1], title='Coverage map')"
   ]
  },
  {
   "cell_type": "markdown",
   "id": "08dd0347",
   "metadata": {},
   "source": [
    "# Input Sky"
   ]
  },
  {
   "cell_type": "code",
   "execution_count": null,
   "id": "e5710a26",
   "metadata": {},
   "outputs": [],
   "source": [
    "# std_x0cmb = np.std(x0cmb[:, seenmap, 0], axis=(1))\n",
    "# std_x0dust = np.std(x0dust[:, seenmap, 0], axis=(1))\n",
    "# std_x0synch = np.std(x0synch[:, seenmap, 0], axis=(1))"
   ]
  },
  {
   "cell_type": "code",
   "execution_count": null,
   "id": "2cafa17e",
   "metadata": {},
   "outputs": [],
   "source": [
    "# x0 = np.zeros_like(x0cmb)\n",
    "# x0 = x0cmb\n",
    "# x0[0] += x0synch[0]\n",
    "# x0[-1] += x0dust[-1]\n",
    "# x0[:5] = x0synch[:5]      # + x0cmb[:5]\n",
    "# x0[5:10] = x0cmb[5:10]         #+ x0synch[5:10] + x0dust[5:10] / 100\n",
    "# x0[10:] = x0dust[10:]      # + x0cmb[10:]\n",
    "\n",
    "x0 = x0dust\n",
    "# x0[:, :, 1:] = 0."
   ]
  },
  {
   "cell_type": "code",
   "execution_count": null,
   "id": "3cf066c0",
   "metadata": {},
   "outputs": [],
   "source": [
    "x0cmb_3band = FitsArray(maps_dir + 'CMB_r=0_nside128_nfsub3.fits')\n",
    "x0dust_3band = FitsArray(maps_dir + 'Dust_d1_nside128_nfsub3.fits')\n",
    "x0synch_3band = FitsArray(maps_dir + 'Synchrotron_s1_nside128_nfsub3.fits')\n",
    "\n",
    "# x0_3band = np.zeros_like(x0cmb_3band)\n",
    "# x0_3band = x0cmb_3band\n",
    "# x0_3band[0] = x0synch_3band[0]  #+ x0cmb_3band[0]\n",
    "# x0_3band[1] = x0cmb_3band[1] #+ x0synch_3band[1] + x0dust_3band[1] / 100\n",
    "# x0_3band[2] = x0dust_3band[2] # + x0cmb_3band[2]\n",
    "\n",
    "# x0_3band[:, :, 1:] = 0.\n",
    "\n",
    "x0_3band = x0dust_3band \n",
    "print(x0cmb_3band.shape)"
   ]
  },
  {
   "cell_type": "code",
   "execution_count": null,
   "id": "3c753b96",
   "metadata": {},
   "outputs": [],
   "source": [
    "stn = ['I', 'Q', 'U']\n",
    "isub = 6\n",
    "plt.figure()\n",
    "for istokes in range(3):\n",
    "    hp.mollview(x0[isub, :, istokes], title=\"{} full map\".format(stn[istokes]), sub=(2, 3, istokes+1))\n",
    "    hp.gnomview(x0[isub, :, istokes], title=\"{} full map\".format(stn[istokes]), sub=(2, 3, istokes+4), \n",
    "                rot=center, reso=15)"
   ]
  },
  {
   "cell_type": "code",
   "execution_count": null,
   "id": "4cc21d7a",
   "metadata": {},
   "outputs": [],
   "source": [
    "# STD clippé\n",
    "nf_sub_rec = 5\n",
    "nf_sub = d['nf_sub']\n",
    "\n",
    "# Width of the bands\n",
    "_, _, nus, deltas, Delta, _ = qubic.compute_freq(150, nf_sub)\n",
    "\n",
    "_, nus_edges_rec, nus_rec, deltas_rec, _, _ = qubic.compute_freq(150, nf_sub_rec)\n",
    "\n",
    "plt.figure()\n",
    "names = ['cmb', 'dust', 'synchrotron', 'x0', 'x0 3band']\n",
    "for i, mapa in enumerate([x0cmb, x0dust, x0synch, x0, x0_3band]):\n",
    "    nband = np.shape(mapa)[0]\n",
    "    print(nband)\n",
    "    mean, std = np.array([ft.meancut(mapa[i, seenmap, :], nsig=3) for i in range(nband)]).T\n",
    "    \n",
    "    if i in [3]:\n",
    "        if nband == d['nf_sub']:\n",
    "            plt.plot(nus, std, 'o', label=names[i])\n",
    "        else:\n",
    "            plt.plot(nus_rec, std, 'o', markersize=10, label=names[i])\n",
    "\n",
    "\n",
    "for n in nus_edges_rec:\n",
    "    plt.axvline(n, color='k', linestyle='--')\n",
    "for c in nus_rec:\n",
    "    plt.axvline(c, color='r', linestyle='--')\n",
    "plt.xlabel('Frequency [GHz]')\n",
    "plt.ylabel('STD')\n",
    "\n",
    "plt.legend()"
   ]
  },
  {
   "cell_type": "markdown",
   "id": "31c95e12",
   "metadata": {},
   "source": [
    "# TOD simulation"
   ]
  },
  {
   "cell_type": "code",
   "execution_count": null,
   "id": "0c35886c",
   "metadata": {},
   "outputs": [],
   "source": [
    "# ==== TOD making ====\n",
    "TOD, maps_convolvedx0 = si.create_TOD(d, p, x0)\n",
    "print('--------- Noiseless TOD with shape: {} - Done ---------'.format(np.shape(TOD)))\n",
    "\n",
    "maps_convolvedx0 = np.array(maps_convolvedx0)"
   ]
  },
  {
   "cell_type": "code",
   "execution_count": null,
   "id": "ad69e9f7",
   "metadata": {},
   "outputs": [],
   "source": [
    "# This function doesn't work !\n",
    "# rot_beams = si.get_hitmap(q[0], s, p)\n",
    "# print(rot_beams.shape)\n",
    "# hp.mollview(np.sum(rot_beams, axis=0) + x0[0, :, 0])"
   ]
  },
  {
   "cell_type": "code",
   "execution_count": null,
   "id": "ae8ebbeb",
   "metadata": {},
   "outputs": [],
   "source": [
    "# Same plot as before with the x0 convolved\n",
    "plt.figure()\n",
    "names = ['cmb', 'dust', 'synchrotron', 'x0', 'x0 3band', 'x0 conv']\n",
    "for i, mapa in enumerate([x0cmb, x0dust, x0synch, x0, x0_3band, maps_convolvedx0]):\n",
    "    nband = np.shape(mapa)[0]\n",
    "    print(nband)\n",
    "    mean, std = np.array([ft.meancut(mapa[i, seenmap, :], nsig=3) for i in range(nband)]).T\n",
    "    \n",
    "    if i in [3, 5]:\n",
    "        if nband == d['nf_sub']:\n",
    "            plt.plot(nus, std, 'o', label=names[i])\n",
    "        else:\n",
    "            plt.plot(nus_rec, std, 'o', markersize=10, label=names[i])\n",
    "\n",
    "\n",
    "for n in nus_edges_rec:\n",
    "    plt.axvline(n, color='k', linestyle='--')\n",
    "for c in nus_rec:\n",
    "    plt.axvline(c, color='r', linestyle='--')\n",
    "plt.xlabel('Frequency [GHz]')\n",
    "plt.ylabel('STD')\n",
    "\n",
    "plt.legend()"
   ]
  },
  {
   "cell_type": "markdown",
   "id": "7ac76b80",
   "metadata": {},
   "source": [
    "# Map-Making"
   ]
  },
  {
   "cell_type": "code",
   "execution_count": null,
   "id": "f5092fbb",
   "metadata": {},
   "outputs": [],
   "source": [
    "nf_sub_rec = 2\n",
    "d['tol'] = 1e-5\n",
    "d['noiseless'] = False\n",
    "maps_recon, cov, nus, nus_edge, maps_convolved = si.reconstruct_maps(TOD, d, p,\n",
    "                                                                    nf_sub_rec, x0)\n",
    "print(maps_recon.shape)"
   ]
  },
  {
   "cell_type": "code",
   "execution_count": null,
   "id": "dcebade1",
   "metadata": {},
   "outputs": [],
   "source": [
    "# # Save the simulation\n",
    "save_dir = '/home/lmousset/QUBIC/Qubic_work/SpectroImagerie/Simu_spectroim/simu_dust_monordi/'\n",
    "simu_name = 'GalaxyDustd1_150GHz_tol1e-5_3000ptgs_nfsub16_nrec2_noiselessFalse.fits'\n",
    "rmc.save_simu_fits(maps_recon, cov, nus, nus_edge, maps_convolved, save_dir=save_dir, simu_name=simu_name)"
   ]
  },
  {
   "cell_type": "markdown",
   "id": "2f25b8b3",
   "metadata": {},
   "source": [
    "# TOD noiseless and Map making"
   ]
  },
  {
   "cell_type": "code",
   "execution_count": null,
   "id": "2e86ae65",
   "metadata": {},
   "outputs": [],
   "source": [
    "d['noiseless'] = True\n",
    "d['tol'] = 1e-5\n",
    "TOD_noiseless, maps_convolved_noiseless = si.create_TOD(d, p, x0)\n",
    "print('--------- Noiseless TOD with shape: {} - Done ---------'.format(np.shape(TOD_noiseless)))\n",
    "\n",
    "# Reconstruction noiseless\n",
    "print('************* Map-Making on {} sub-map(s) (noiseless) *************'.format(nf_sub_rec))\n",
    "\n",
    "maps_recon_noiseless, cov_noiseless, nus, nus_edge, maps_convolved_noiseless = si.reconstruct_maps(TOD_noiseless, \n",
    "                                                                                                   d, \n",
    "                                                                                                   p,\n",
    "                                                                                                   nf_sub_rec, \n",
    "                                                                                                   x0=x0)\n",
    "if nf_sub_rec == 1:\n",
    "    print(maps_recon_noiseless.shape, maps_convolved_noiseless.shape)\n",
    "    maps_recon_noiseless = np.reshape(maps_recon_noiseless, np.shape(maps_convolved_noiseless))\n",
    "# Look at the coverage of the sky\n",
    "cov_noiseless = np.sum(cov_noiseless, axis=0)\n",
    "maxcov_noiseless = np.max(cov_noiseless)\n",
    "unseen = cov_noiseless < maxcov_noiseless * 0.1\n",
    "maps_convolved_noiseless[:, unseen, :] = 0.\n",
    "maps_recon_noiseless[:, unseen, :] = 0.\n",
    "\n",
    "print('************* Map-Making on {} sub-map(s) (noiseless). Done *************'.format(nf_sub_rec))\n"
   ]
  },
  {
   "cell_type": "code",
   "execution_count": null,
   "id": "789b8278",
   "metadata": {},
   "outputs": [],
   "source": [
    "simu_name = 'GalaxyDustd1_150GHz_tol1e-5_3000ptgs_nfsub16_nrec2_noiselessTrue.fits'\n",
    "rmc.save_simu_fits(maps_recon_noiseless, cov_noiseless, nus, nus_edge, maps_convolved_noiseless,\n",
    "                  save_dir=save_dir, simu_name=simu_name)\n"
   ]
  },
  {
   "cell_type": "markdown",
   "id": "e530a36c",
   "metadata": {},
   "source": [
    "# Compute residuals"
   ]
  },
  {
   "cell_type": "code",
   "execution_count": null,
   "id": "daa6ecf3",
   "metadata": {},
   "outputs": [],
   "source": [
    "# maps_recon, maps_convolved, maps_diff = rmc.get_maps(save_dir + simu_name)\n",
    "# maps_recon_noiseless, maps_convo_noiseless, maps_diff_noiseless = rmc.get_maps(save_dir + 'noiseless_' + simu_name)\n",
    "\n",
    "maps_diff = maps_recon - maps_convolved\n",
    "\n",
    "# maps_recon = np.reshape(maps_recon , (1, 196608, 3))\n",
    "\n",
    "maps_convolved[:, unseen, :] = 0.\n",
    "maps_recon[:, unseen, :] = 0.\n",
    "maps_diff[:, unseen, :] = 0.\n",
    "maps_recon_noiseless[:, unseen, :] = 0.\n",
    "\n",
    "residuals = maps_recon - maps_recon_noiseless"
   ]
  },
  {
   "cell_type": "code",
   "execution_count": null,
   "id": "08687efe",
   "metadata": {},
   "outputs": [],
   "source": [
    "# maps_recon_noiseless[maps_recon==0.] = hp.UNSEEN\n",
    "# maps_convolved[maps_recon==0.] = hp.UNSEEN\n",
    "# maps_diff[maps_recon==0.] = hp.UNSEEN\n",
    "# residuals[maps_recon==0.] = hp.UNSEEN\n",
    "# maps_recon[maps_recon==0.] = hp.UNSEEN"
   ]
  },
  {
   "cell_type": "code",
   "execution_count": null,
   "id": "6cf70931",
   "metadata": {},
   "outputs": [],
   "source": [
    "# Look at IQU in one band\n",
    "band = 0\n",
    "plt.figure(figsize=(12, 15))\n",
    "plt.subplots_adjust(wspace=0.4, hspace=0.7)\n",
    "rr = 15\n",
    "for istk in range(3):\n",
    "    plt.subplots_adjust(wspace=0.9)\n",
    "    hp.gnomview(maps_recon[band,:,istk], cmap ='jet', sub = (3, 5, 5*istk+1), rot=center, reso=rr, \n",
    "                title = '{0} rec {1}'.format(d['kind'][istk], band))\n",
    "    hp.gnomview(maps_recon_noiseless[band,:,istk], cmap ='jet', sub = (3, 5, 5*istk+2), rot=center, reso=rr, \n",
    "                title = '{0} rec noiseless{1}'.format(d['kind'][istk], band))\n",
    "    hp.gnomview(maps_convolved[band,:,istk], cmap ='jet', sub = (3, 5, 5*istk+3), rot=center, reso=rr, \n",
    "                title = '{0} conv {1}'.format(d['kind'][istk], band))\n",
    "    hp.gnomview(maps_diff[band,:,istk], cmap ='jet', sub = (3, 5, 5*istk+4), rot=center, reso=rr, \n",
    "                title = '{0} diff {1}'.format(d['kind'][istk], band), min=-70, max=70)\n",
    "    hp.gnomview(residuals[band,:,istk], cmap ='jet', sub = (3, 5, 5*istk+5), rot=center, reso=rr, \n",
    "                title = '{0} Residuals {1}'.format(d['kind'][istk], band), min=-70, max=70)\n"
   ]
  },
  {
   "cell_type": "code",
   "execution_count": null,
   "id": "d75c0a62",
   "metadata": {},
   "outputs": [],
   "source": [
    "istk = 0\n",
    "plt.figure(figsize=(12, 15))\n",
    "plt.subplots_adjust(wspace=0.4, hspace=0.7)\n",
    "rr = 15\n",
    "min = None\n",
    "max = None\n",
    "\n",
    "for band in range(nf_sub_rec):\n",
    "    plt.subplots_adjust(wspace=0.9)\n",
    "    hp.gnomview(maps_recon[band,:,istk], cmap ='jet', sub = (nf_sub_rec, 5, 5*band+1), rot=center, reso=rr, \n",
    "                title = '{0} rec {1}'.format(d['kind'][istk], band), min=min, max=max)\n",
    "    hp.gnomview(maps_recon_noiseless[band,:,istk], cmap ='jet', sub = (nf_sub_rec, 5, 5*band+2), rot=center, reso=rr, \n",
    "                title = '{0} rec noiseless {1}'.format(d['kind'][istk], band), min=min, max=max)\n",
    "    hp.gnomview(maps_convolved[band,:,istk], cmap ='jet', sub = (nf_sub_rec, 5, 5*band+3), rot=center, reso=rr, \n",
    "                title = '{0} conv {1}'.format(d['kind'][istk], band), min=min, max=max)\n",
    "    hp.gnomview(maps_diff[band,:,istk], cmap ='jet', sub = (nf_sub_rec, 5, 5*band+4), rot=center, reso=rr, \n",
    "                title = '{0} diff {1}'.format(d['kind'][istk], band), min=-70, max=70)\n",
    "    hp.gnomview(residuals[band,:,istk], cmap ='jet', sub = (nf_sub_rec, 5, 5*band+5), rot=center, reso=rr, \n",
    "                title = '{0} Residuals {1}'.format(d['kind'][istk], band), min=-70, max=70)\n",
    "\n"
   ]
  },
  {
   "cell_type": "markdown",
   "id": "b5cd87b4",
   "metadata": {},
   "source": [
    "# Analysis"
   ]
  },
  {
   "cell_type": "code",
   "execution_count": null,
   "id": "44072f15",
   "metadata": {},
   "outputs": [],
   "source": [
    "_, nus_edges, nus, deltas, _, _ = qubic.compute_freq(150, nf_sub)\n",
    "_, nus_edges_rec, nus_rec, deltas_rec, _, _ = qubic.compute_freq(150, nf_sub_rec)\n",
    "\n",
    "istk = 0\n",
    "isub = 0\n",
    "\n",
    "names = ['x0', 'x0 conv in 15 bands', 'x0 conv in 3 bands', 'recon', 'recon noiseless']\n",
    "plt.figure()\n",
    "rc('figure', figsize=(22, 8))\n",
    "plt.subplots_adjust(wspace=0.2)\n",
    "for i, mapa in enumerate([x0, maps_convolvedx0, maps_convolved, maps_recon, maps_recon_noiseless]):\n",
    "    nband = np.shape(mapa)[0]\n",
    "    print(nband)\n",
    "    \n",
    "    if i in [2, 3, 4]:\n",
    "        # Global STD on IQU\n",
    "        mean, std = np.array([ft.meancut(mapa[i, seenmap, :], nsig=3) for i in range(nband)]).T\n",
    "#         std = np.std(mapa[:, seenmap, :], axis=(1, 2))\n",
    "        \n",
    "        plt.subplot(121)\n",
    "        if nband == 15:\n",
    "            plt.plot(nus, std, 'o', label=names[i])\n",
    "        else:\n",
    "            plt.plot(nus_rec, std, 'o', label=names[i])\n",
    "        plt.xlabel('Frequency [GHz]')\n",
    "        plt.ylabel('STD')\n",
    "        plt.title('Global STD on IQU')\n",
    "        plt.legend()\n",
    "        \n",
    "        # STD profile\n",
    "        bin_centers, ang, std_bin, std_profile = amc.std_profile(np.expand_dims(mapa, axis=0)[:, :, seenmap, :], \n",
    "                                                        40, d['nside'], center, seenmap)\n",
    "        plt.subplot(122)\n",
    "        plt.plot(ang, std_profile[:, isub, istk], '.', label=names[i])\n",
    "        plt.xlabel('Angle [deg]')\n",
    "        plt.ylabel('STD')\n",
    "        plt.title('{} Band {}'.format(stn[istk], isub))\n",
    "        plt.legend()\n",
    "\n"
   ]
  },
  {
   "cell_type": "code",
   "execution_count": null,
   "id": "0b728932",
   "metadata": {},
   "outputs": [],
   "source": [
    "_, std_conv_global = ft.meancut(maps_convolved[:, seenmap, :], nsig=3)\n",
    "_, std_recon_global = ft.meancut(maps_recon[:, seenmap, :], nsig=3)\n",
    "_, std_recon_noiseless_global = ft.meancut(maps_recon_noiseless[:, seenmap, :], nsig=3)\n",
    "_, std_x0_global = ft.meancut(x0[:, seenmap, :], nsig=3)\n",
    "\n",
    "print(std_conv_global, std_recon_global, std_recon_noiseless_global, std_x0_global)"
   ]
  },
  {
   "cell_type": "markdown",
   "id": "86a373d9",
   "metadata": {},
   "source": [
    "# Power spectrum"
   ]
  },
  {
   "cell_type": "code",
   "execution_count": null,
   "id": "f75da650",
   "metadata": {},
   "outputs": [],
   "source": [
    "# Create a Namaster object\n",
    "lmin = 20\n",
    "lmax = 2 * d['nside'] - 1\n",
    "delta_ell = 55\n",
    "\n",
    "mask = np.zeros(12 * d['nside']**2)\n",
    "mask[seenmap] = 1\n",
    "\n",
    "Namaster = nam.Namaster(mask, lmin=lmin, lmax=lmax, delta_ell=delta_ell)\n",
    "\n",
    "# Make a mask\n",
    "mask_apo = Namaster.get_apodized_mask()\n",
    "\n",
    "hp.mollview(mask_apo)"
   ]
  },
  {
   "cell_type": "code",
   "execution_count": null,
   "id": "19ef4ac0",
   "metadata": {},
   "outputs": [],
   "source": [
    "seed = None\n",
    "sky_config = {'cmb': seed}\n",
    "Qubic_sky = qss.Qubic_sky(sky_config, d)\n",
    "Qubic_sky.instrument['beams'] #= Qubic_sky.instrument['beams'][0]"
   ]
  },
  {
   "cell_type": "code",
   "execution_count": null,
   "id": "5a5269b4",
   "metadata": {},
   "outputs": [],
   "source": [
    "# fwhm = self.synthbeam.peak150.fwhm * (150e9 / self.filter.nu)\n",
    "q[0].synthbeam.peak150.fwhm * (150e9 / q[0].filter.nu)\n",
    "q[1].filter.nu\n",
    "\n",
    "nus_rec"
   ]
  },
  {
   "cell_type": "code",
   "execution_count": null,
   "id": "7ced6b2c",
   "metadata": {},
   "outputs": [],
   "source": [
    "w = None\n",
    "allcells_recon, allcells_recon_noiseless, allcells_conv, allcells_x0 = [], [], [], []\n",
    "# Get spectra\n",
    "for isub in range(nf_sub_rec):\n",
    "    bc = 61.34 / nus_rec[isub]\n",
    "    print(bc)\n",
    "    leff, cells_recon, w = Namaster.get_spectra(maps_recon[isub, :, :].T, mask_apo, w=w,\n",
    "                                          purify_e=True, \n",
    "                                          purify_b=False, \n",
    "                                          beam_correction=None,\n",
    "                                          pixwin_correction=True)\n",
    "    \n",
    "    leff, cells_recon_noiseless, w = Namaster.get_spectra(maps_recon_noiseless[isub, :, :].T, mask_apo, w=w,\n",
    "                                          purify_e=True, \n",
    "                                          purify_b=False, \n",
    "                                          beam_correction=None,\n",
    "                                          pixwin_correction=True)\n",
    "\n",
    "    leff, cells_conv, w = Namaster.get_spectra(maps_convolved[isub, :, :].T, mask_apo, w=w, \n",
    "                                          purify_e=True, \n",
    "                                          purify_b=False, \n",
    "                                          beam_correction=None,\n",
    "                                          pixwin_correction=True)\n",
    "\n",
    "    leff, cells_x0, w = Namaster.get_spectra(x0[isub, :, :].T, mask_apo, w=w, \n",
    "                                          purify_e=True, \n",
    "                                          purify_b=False, \n",
    "                                          beam_correction=None,\n",
    "                                          pixwin_correction=None)\n",
    "    allcells_recon.append(cells_recon)\n",
    "    allcells_recon_noiseless.append(cells_recon_noiseless)\n",
    "    allcells_conv.append(cells_conv)\n",
    "    allcells_x0.append(cells_x0)\n",
    "\n",
    "allcells_recon = np.array(allcells_recon)\n",
    "allcells_recon_noiseless = np.array(allcells_recon_noiseless)\n",
    "allcells_conv = np.array(allcells_conv)\n",
    "allcells_x0 = np.array(allcells_x0)"
   ]
  },
  {
   "cell_type": "code",
   "execution_count": null,
   "id": "89107a71",
   "metadata": {},
   "outputs": [],
   "source": [
    "clnames = ['TT', 'EE', 'BB', 'TE']\n",
    "# with plt.xkcd():\n",
    "rc('figure', figsize=(12, 8))\n",
    "plt.figure()\n",
    "color = ['b', 'r', 'g', 'k', 'y', 'orange', 'brown', 'purple']\n",
    "for i in range(4):\n",
    "    \n",
    "    for isub in [0, 1, 2, 3, 4, 5, 6, 7]: \n",
    "        plt.subplot(2, 2, i+1)\n",
    "#         plt.plot(input_ell[2:lmax], input_Dl[2:lmax, i], 'k', label='CMB Input')\n",
    "        plt.plot(leff[:], allcells_recon[isub, :, i],'o', color=color[isub], \n",
    "                 label='Recon {}'.format(isub))\n",
    "        plt.plot(leff[:], allcells_recon_noiseless[isub, :, i],'s', color=color[isub], \n",
    "                 label='Recon Noiseless{}'.format(isub))\n",
    "#         plt.plot(leff[2:], allcells_x0[isub, 2:, i], color=color[isub], \n",
    "#                  label='x0{}'.format(isub))\n",
    "        plt.plot(leff[:], allcells_conv[isub, :, i], '--', color=color[isub], \n",
    "                 label='Conv{}'.format(isub))\n",
    "    plt.xlabel('$\\\\ell$')\n",
    "    plt.ylabel('$D_\\\\ell$')\n",
    "\n",
    "    plt.title(clnames[i])\n",
    "\n",
    "plt.tight_layout()\n",
    "plt.legend(fontsize=8, loc='right')"
   ]
  },
  {
   "cell_type": "code",
   "execution_count": null,
   "id": "909cba14",
   "metadata": {},
   "outputs": [],
   "source": [
    "# Cl evolution for one l\n",
    "index = 3\n",
    "l = leff[index]\n",
    "print(l, leff)\n",
    "allcells_conv.shape\n",
    "\n",
    "plt.figure()\n",
    "plt.subplots_adjust(hspace=0.4, wspace=0.4)\n",
    "for i in range(4): # TT, EE, BB, TE\n",
    "    plt.subplot(2, 2, i+1)\n",
    "    plt.plot(nus_rec, allcells_conv[:, index, i], 'o', label='conv')\n",
    "    plt.plot(nus_rec, allcells_recon[:, index, i], 'o', label='recon')\n",
    "    plt.plot(nus_rec, allcells_recon_noiseless[:, index, i], 'o', label='recon noiseless')\n",
    "    plt.title(clnames[i])\n",
    "    plt.xlabel('Frequency [GHz]')\n",
    "    plt.ylabel('$D_\\\\ell$ at l = {:.0f}'.format(l))\n",
    "plt.legend(fontsize=10)"
   ]
  }
 ],
 "metadata": {
  "kernelspec": {
   "display_name": "Python 3",
   "language": "python",
   "name": "python3"
  }
 },
 "nbformat": 4,
 "nbformat_minor": 5
}
