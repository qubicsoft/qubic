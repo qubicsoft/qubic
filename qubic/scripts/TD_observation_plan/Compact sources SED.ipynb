{
 "cells": [
  {
   "cell_type": "markdown",
   "id": "d6ea6d3b",
   "metadata": {},
   "source": [
    "<p style=\"font-size:260%;line-height:1.5\">Generate SEDs of compact sources from the Planck Catalog of Compact Sources </p>"
   ]
  },
  {
   "cell_type": "markdown",
   "id": "78ccaf89",
   "metadata": {},
   "source": [
    "<p style=\"font-size:140%;line-height:1.2\">\n",
    "    Here I develop a set of functions to read the Planck PCCS and derive the SEDs of compact sources that are seen at all frequencies\n",
    "    </p>"
   ]
  },
  {
   "cell_type": "markdown",
   "id": "1977cfe0",
   "metadata": {},
   "source": [
    "# Import and functions"
   ]
  },
  {
   "cell_type": "markdown",
   "id": "50e2f04f",
   "metadata": {},
   "source": [
    "## Imports and common data"
   ]
  },
  {
   "cell_type": "code",
   "execution_count": null,
   "id": "afd92b2a",
   "metadata": {},
   "outputs": [],
   "source": [
    "import datetime                  as dt\n",
    "import pytz\n",
    "import numpy                     as np       # Numerical Python\n",
    "import pylab                     as pl       # Matplotlib\n",
    "from astropy.io.fits import open as fitsOpen # For FITS files\n",
    "import pickle\n",
    "from scipy import interpolate"
   ]
  },
  {
   "cell_type": "code",
   "execution_count": null,
   "id": "f99402ac",
   "metadata": {},
   "outputs": [],
   "source": [
    "freqs    = ['030','044','070','100','143','217','353']\n",
    "freqs_ex = ['100','143','217','353']\n",
    "altnames = {\\\n",
    "           'Crab'       : '184.5-05.8',\\\n",
    "           'RCW28'      : '267.9-01.1',\\\n",
    "           'Orion'      : '209.0-19.4'}"
   ]
  },
  {
   "cell_type": "code",
   "execution_count": null,
   "id": "e44d300f",
   "metadata": {},
   "outputs": [],
   "source": [
    "catalog_dir = '/home/daniele/Documents/QUBIC/operations/TD/operations_plan/catalogs/'"
   ]
  },
  {
   "cell_type": "markdown",
   "id": "df888baf",
   "metadata": {},
   "source": [
    "## Functions"
   ]
  },
  {
   "cell_type": "markdown",
   "id": "34e81814",
   "metadata": {},
   "source": [
    "### Check if source is in catalog"
   ]
  },
  {
   "cell_type": "code",
   "execution_count": null,
   "id": "d1208ea9",
   "metadata": {},
   "outputs": [],
   "source": [
    "def isincatalog(source, catalog):\n",
    "    \n",
    "    freqs    = ['030','044','070','100','143','217','353']\n",
    "    \n",
    "    # Make list of all sources\n",
    "    allsources = []\n",
    "    for f in freqs:\n",
    "        allsources = allsources + list(catalog[f].keys())\n",
    "    allsources = list(set(allsources))\n",
    "\n",
    "    # Check if source exists in catalog\n",
    "    if source in list(altnames.keys()):\n",
    "        return True, altnames[source]\n",
    "    elif source in allsources:\n",
    "        return True, source\n",
    "    else:\n",
    "        return False, ''       "
   ]
  },
  {
   "cell_type": "code",
   "execution_count": null,
   "id": "2b3290f3",
   "metadata": {},
   "outputs": [],
   "source": [
    "isincatalog('Crab',catalog)"
   ]
  },
  {
   "cell_type": "markdown",
   "id": "95807373",
   "metadata": {},
   "source": [
    "### Build catalog from PCCS"
   ]
  },
  {
   "cell_type": "code",
   "execution_count": null,
   "id": "2837a219",
   "metadata": {},
   "outputs": [],
   "source": [
    "def build_catalog(freqs = freqs, freqs_ex = freqs_ex, excluded = True):\n",
    "    '''\n",
    "    This function builds a dictionary containing the main parameters of the compact sources\n",
    "    contained in the PCCS\n",
    "        \n",
    "    Input\n",
    "    freqs       - LIST  - List of frequencies in the catalog (Default \n",
    "                          ['030','044','070','100','143','217','353'])\n",
    "    freqs_ex     - LIST - List of frequencies of excluded catalogs (Default\n",
    "                          ['100','143','217','353'])\n",
    "    excluded     - BOOL - Whether to include the excluded catalogs (Default: True)\n",
    "        \n",
    "    Output\n",
    "    catalog      - DICT - Dictionary containing the data\n",
    "    '''\n",
    "    \n",
    "    catalog = {}\n",
    "\n",
    "    # Read normal catalogs\n",
    "    global_namelist = []\n",
    "    for f in freqs:\n",
    "        \n",
    "        print('Building catalog at %s GHz from PCCS2' % f)\n",
    "        catalog[f] = {}\n",
    "        fname = '%sCOM_PCCS_%s_R2.01.fits' % (catalog_dir, f)\n",
    "        fd = fitsOpen(fname, \"readonly\")\n",
    "        names    = fd[1].data['NAME    ']\n",
    "        ras      = fd[1].data['RA      ']\n",
    "        decs     = fd[1].data['DEC     ']\n",
    "        gLons    = fd[1].data['GLON    ']\n",
    "        gLats    = fd[1].data['GLAT    ']\n",
    "        detFluxs = fd[1].data['DETFLUX ']\n",
    "        ps       = fd[1].data['P       ']\n",
    "        fd.close()\n",
    "        for name, ra, dec, gLon, gLat, detFlux, p in zip (names, ras, decs, gLons, gLats, detFluxs, ps):\n",
    "            if f == freqs[0]:\n",
    "                # If we are scanning the first frequency then define names based on GLON and GLAT\n",
    "                # Rounded to 1 decimal place\n",
    "                \n",
    "                new_name = build_name(name)\n",
    "                \n",
    "                global_namelist.append(new_name)\n",
    "\n",
    "            else:\n",
    "                # For other frequencies see if each source is close enough to be one of the first frequency\n",
    "                # set. In this case use the name already used in the first set, otherwise define new name \n",
    "                # based on rounded GLON GLAT\n",
    "                \n",
    "                new_name = build_name(name)\n",
    "                \n",
    "                source_exist, new_name = duplicate_source(new_name, global_namelist)\n",
    "                \n",
    "                if source_exist == False:\n",
    "                    global_namelist.append(new_name)\n",
    "                \n",
    "            catalog[f][new_name]    = {}\n",
    "            catalog[f][new_name]['RA']      = float(ra)\n",
    "            catalog[f][new_name]['DEC']     = float(dec)\n",
    "            catalog[f][new_name]['GLON']    = float(gLon)\n",
    "            catalog[f][new_name]['GLAT']    = float(gLat)\n",
    "            catalog[f][new_name]['DETFLUX'] = float(detFlux)\n",
    "            catalog[f][new_name]['PFLUX']   = float(p)\n",
    "            catalog[f][new_name]['ALTNAME'] = ''\n",
    "        \n",
    "    if excluded:\n",
    "\n",
    "        # Read excluded catalogs\n",
    "        for f in freqs_ex:\n",
    "            print('Building catalog at %s GHz from PCCS2E' % f)\n",
    "            fname = '%sCOM_PCCS_%s-excluded_R2.01.fits' % (catalog_dir, f)\n",
    "            fd = fitsOpen(fname, \"readonly\")\n",
    "            names    = fd[1].data['NAME    ']\n",
    "            ras      = fd[1].data['RA      ']\n",
    "            decs     = fd[1].data['DEC     ']\n",
    "            gLons    = fd[1].data['GLON    ']\n",
    "            gLats    = fd[1].data['GLAT    ']\n",
    "            detFluxs = fd[1].data['DETFLUX ']\n",
    "            ps       = fd[1].data['P       ']\n",
    "            fd.close()\n",
    "            for name, ra, dec, gLon, gLat, detFlux, p in zip (names, ras, decs, gLons, gLats, detFluxs, ps):\n",
    "\n",
    "                new_name = build_name(name)\n",
    "\n",
    "                source_exist, new_name = duplicate_source(new_name, global_namelist)\n",
    "                \n",
    "                if source_exist == False:\n",
    "                    global_namelist.append(new_name)\n",
    " \n",
    "                catalog[f][new_name]    = {}\n",
    "                catalog[f][new_name]['RA']      = float(ra)\n",
    "                catalog[f][new_name]['DEC']     = float(dec)\n",
    "                catalog[f][new_name]['GLON']    = float(gLon)\n",
    "                catalog[f][new_name]['GLAT']    = float(gLat)\n",
    "                catalog[f][new_name]['DETFLUX'] = float(detFlux)\n",
    "                catalog[f][new_name]['PFLUX']   = float(p)\n",
    "                catalog[f][new_name]['ALTNAME'] = ''\n",
    "\n",
    "    return catalog"
   ]
  },
  {
   "cell_type": "code",
   "execution_count": null,
   "id": "f6ff1c8f",
   "metadata": {},
   "outputs": [],
   "source": [
    "def build_name(name):\n",
    "    '''\n",
    "    This function builds a source name from the PCCS name by rounding l and b to the first decimal place\n",
    "        \n",
    "    Input\n",
    "    name         - STRING - source name as defined in the PCCS (Glll.ll±bb.bb)\n",
    "        \n",
    "    Output\n",
    "    new_name     - STRING - source new name defined as lll.l±bb.b\n",
    "    '''\n",
    "    \n",
    "    name_l = np.round(float(name[-12:-6]),1)\n",
    "    str_l  = '%05.1f' % name_l\n",
    "    sign_b = name[-6]\n",
    "    name_b = np.round(float(name[-5:]),1)\n",
    "    str_b = '%04.1f' % name_b\n",
    "    new_name = str_l.rjust(5,'0') + sign_b + str_b.rjust(4,'0')\n",
    "    \n",
    "    return new_name"
   ]
  },
  {
   "cell_type": "code",
   "execution_count": null,
   "id": "209bbf2f",
   "metadata": {},
   "outputs": [],
   "source": [
    "def duplicate_source(name, global_namelist, threshold = 0.1):\n",
    "    '''\n",
    "    This function finds if a given source is a duplicate of others already found in catalogs\n",
    "    relative to other frequencies by checking the distance in GLON and GLAT\n",
    "        \n",
    "    Input\n",
    "    name                   - STRING       - source name modified by the catalog building routine\n",
    "                                            (Glll.l±bb.b)\n",
    "    global_namelist        - LIST         - list of modified names of sources already loaded from other \n",
    "                                            frequency catalogs\n",
    "    threshold              - FLOAT        - maximum distance in degrees to decide whether two sources  \n",
    "                                            coincide (Default threshold = 0.1)\n",
    "    Output\n",
    "    isduplicate, new_name  - BOOL, STRING - whether a duplicate has been found, new name\n",
    "    '''\n",
    "    name_l = float(name[0:5])\n",
    "    name_b = float(name[-5:])\n",
    "    \n",
    "    for item in global_namelist:\n",
    "        ex_l = float(item[0:5])\n",
    "        ex_b = float(item[-5:])\n",
    "        \n",
    "        if (np.abs(name_l - ex_l) <= threshold) and (np.abs(name_b - ex_b) <= threshold):\n",
    "            # In this case we have the same source, return True and the name\n",
    "            return True, item\n",
    "    \n",
    "    return False, name    "
   ]
  },
  {
   "cell_type": "markdown",
   "id": "be0f5319",
   "metadata": {},
   "source": [
    "### Build SEDs"
   ]
  },
  {
   "cell_type": "markdown",
   "id": "5b7b6798",
   "metadata": {},
   "source": [
    "#### SEDs of common sources"
   ]
  },
  {
   "cell_type": "code",
   "execution_count": null,
   "id": "3d96fb40",
   "metadata": {},
   "outputs": [],
   "source": [
    "def build_sed_allfreqs(catalog, freqs = freqs):\n",
    "    '''\n",
    "    This function builds the SED of the sources in the catalog using data across frequencies specified\n",
    "    in freqs\n",
    "        \n",
    "    Input\n",
    "    catalog      - DICT - The dictionary with the source catalog\n",
    "\n",
    "    freqs        - LIST - List of frequencies (Default ['030', '044', '070', 100','143','217','353'])\n",
    "        \n",
    "    Output\n",
    "    SED          - DICT - Dictionary containing the SED (frequencies, measured I_flux, measured P_flux\n",
    "                          4th order polinomial fits to measured I_flux and P_flux\n",
    "    '''    \n",
    "    # Build common set of sources\n",
    "    inters = ''\n",
    "    for f in freqs:\n",
    "        inters = inters + ('set(catalog[\"%s\"].keys()) & ' % f)\n",
    "    inters = 'list(' + inters[0:-2] + ')'\n",
    "    common_sources = eval(inters)\n",
    "    \n",
    "    flist = np.array(list(map(float,freqs)))\n",
    "    \n",
    "    SED = {}\n",
    "    \n",
    "    for source in common_sources:\n",
    "        SED[source] = {}\n",
    "        i_flux    = np.array([catalog[f][source]['DETFLUX'] for f in freqs])\n",
    "        p_flux    = np.array([catalog[f][source]['PFLUX'] for f in freqs])\n",
    "        sed_i_fit = np.polyfit(flist, i_flux,4)\n",
    "        sed_p_fit = np.polyfit(flist, p_flux,4)\n",
    "        SED[source]['freq']   = flist\n",
    "        SED[source]['i_flux'] = i_flux\n",
    "        SED[source]['p_flux'] = p_flux\n",
    "        SED[source]['i_fit']  = sed_i_fit\n",
    "        SED[source]['p_fit']  = sed_p_fit\n",
    "\n",
    "    return SED\n"
   ]
  },
  {
   "cell_type": "markdown",
   "id": "37919847",
   "metadata": {},
   "source": [
    "#### SED of a given source"
   ]
  },
  {
   "cell_type": "code",
   "execution_count": null,
   "id": "f15680c1",
   "metadata": {
    "code_folding": []
   },
   "outputs": [],
   "source": [
    "def build_sed(source, catalog, plot = False, polyfit = 3):\n",
    "    '''\n",
    "    This function builds the SED of a given source\n",
    "        \n",
    "    Input\n",
    "    source       - STRING - The source name, either in the stanard lll.ll±bb.bb format or in the common \n",
    "                            name format if a translation is available (e.g. Crab)\n",
    "\n",
    "    catalog      - DICT - The dictionary with the source catalog\n",
    "\n",
    "    plot         - BOOL - Whether to plot intensity and polarized fluxes. Default: False\n",
    "\n",
    "    polyfit      - INT  - Order of the polynomial fit. Default: 3\n",
    "\n",
    "    Output\n",
    "    SED          - DICT - Dictionary containing the SED (frequencies, measured I_flux, measured P_flux\n",
    "                          4th order polinomial fits to measured I_flux and P_flux\n",
    "    '''    \n",
    "    \n",
    "    # Check if source is in catalog\n",
    "    exists, sourcename = isincatalog(source, catalog)\n",
    "    \n",
    "    if not exists:\n",
    "        print('Source %s is not in catalog' % source)\n",
    "        return -1\n",
    "    \n",
    "    # Get the number of frequencies at which we have data\n",
    "    s_freqs = source2freqs(source, catalog)\n",
    "    if len(s_freqs) <= 1:\n",
    "        print('Not enough frequencies to build a SED')\n",
    "        return -1\n",
    "\n",
    "    flist = np.array(list(map(float,s_freqs)))\n",
    "\n",
    "    SED = {}\n",
    "    \n",
    "    SED[sourcename] = {}\n",
    "    \n",
    "    i_flux    = np.array([catalog[f][sourcename]['DETFLUX'] for f in s_freqs])\n",
    "    p_flux    = np.array([catalog[f][sourcename]['PFLUX']   for f in s_freqs])\n",
    "    sed_i_fit = np.polyfit(flist, i_flux, polyfit)\n",
    "    sed_p_fit = np.polyfit(flist, p_flux, polyfit)\n",
    "    SED[sourcename]['freq']   = flist\n",
    "    SED[sourcename]['i_flux'] = i_flux\n",
    "    SED[sourcename]['p_flux'] = p_flux\n",
    "    SED[sourcename]['i_fit']  = sed_i_fit\n",
    "    SED[sourcename]['p_fit']  = sed_p_fit\n",
    "    \n",
    "    if plot:\n",
    "        newfreq = np.arange(flist[0], flist[-1] + 1, 1)\n",
    "        fi = np.poly1d(SED[sourcename]['i_fit'])\n",
    "        fp = np.poly1d(SED[sourcename]['p_fit'])\n",
    "        \n",
    "        pl.figure(figsize = (13,7))\n",
    "        \n",
    "        # Intensity plot\n",
    "        pl.subplot(121)\n",
    "        pl.plot(SED[sourcename]['freq'],SED[sourcename]['i_flux'],'.')\n",
    "        pl.plot(newfreq, fi(newfreq))\n",
    "        pl.xlabel('Frequency [GHz]')\n",
    "        pl.ylabel('Flux [mJy]')\n",
    "        pl.title('%s - Intensity flux' % source)\n",
    "        \n",
    "        # Polarization plot\n",
    "        pl.subplot(122)\n",
    "        pl.plot(SED[sourcename]['freq'],SED[sourcename]['p_flux'],'.')\n",
    "        pl.plot(newfreq, fp(newfreq))\n",
    "        pl.xlabel('Frequency [GHz]')\n",
    "        pl.ylabel('Flux [mJy]')\n",
    "        pl.title('%s - Polarized flux' % source)\n",
    "        \n",
    "\n",
    "    return SED\n"
   ]
  },
  {
   "cell_type": "code",
   "execution_count": null,
   "id": "b6088a35",
   "metadata": {},
   "outputs": [],
   "source": [
    "sed = build_sed('Crab', catalog, plot = True, polyfit = 3)"
   ]
  },
  {
   "cell_type": "markdown",
   "id": "20296877",
   "metadata": {},
   "source": [
    "### Translate from common source name to catalog name"
   ]
  },
  {
   "cell_type": "code",
   "execution_count": null,
   "id": "7a09449c",
   "metadata": {},
   "outputs": [],
   "source": [
    "def name2cat(name, altnames):\n",
    "\n",
    "    if name not in list(altnames.keys()):\n",
    "        print('Name %s not known' % name)\n",
    "        return -1\n",
    "    \n",
    "    return altnames[name]"
   ]
  },
  {
   "cell_type": "markdown",
   "id": "09e03cd6",
   "metadata": {},
   "source": [
    "### Return the frequencies of a given source name "
   ]
  },
  {
   "cell_type": "code",
   "execution_count": null,
   "id": "d3eb35f9",
   "metadata": {},
   "outputs": [],
   "source": [
    "def source2freqs(source, catalog, altnames = altnames):\n",
    "    '''\n",
    "    This function return the list of frequencies in the catalog given a certain source\n",
    "        \n",
    "    Input\n",
    "    source       - STRING - The source name, either in the stanard lll.ll±bb.bb format or in the common \n",
    "                            name format if a translation is available (e.g. Crab)\n",
    "\n",
    "    catalog      - DICT   - The PCCS in Qubic format\n",
    "        \n",
    "    altnames     - DICT   - The correspondence between common name and catalog standard name (Defaults to \n",
    "                            altnames defined at the top of the notebook)\n",
    " \n",
    "    Output\n",
    "    freqlist     - LIST - List of frequencies where a source is found\n",
    "    '''        \n",
    "    exists, sourcename = isincatalog(source, catalog)\n",
    "    \n",
    "    if not exists:\n",
    "        print('Source %s is not in catalog' % source)\n",
    "        return -1        \n",
    "    \n",
    "    isinfreq = [sourcename in list(catalog[f].keys()) for f in freqs]\n",
    "    \n",
    "    return [freqs[i] for i in list(np.where(isinfreq)[0])]"
   ]
  },
  {
   "cell_type": "code",
   "execution_count": null,
   "id": "7c41237d",
   "metadata": {},
   "outputs": [],
   "source": [
    "source2freqs('Orion',catalog)"
   ]
  },
  {
   "cell_type": "markdown",
   "id": "10234a09",
   "metadata": {},
   "source": [
    "# Catalog"
   ]
  },
  {
   "cell_type": "markdown",
   "id": "1d422646",
   "metadata": {
    "heading_collapsed": true
   },
   "source": [
    "## Build and save catalog to disk"
   ]
  },
  {
   "cell_type": "code",
   "execution_count": null,
   "id": "c8175613",
   "metadata": {
    "hidden": true
   },
   "outputs": [],
   "source": [
    "catalog = build_catalog()"
   ]
  },
  {
   "cell_type": "code",
   "execution_count": null,
   "id": "ba0f260b",
   "metadata": {
    "hidden": true
   },
   "outputs": [],
   "source": [
    "catalog_file = catalog_dir + 'qubic_pccs2.pickle'\n",
    "with open(catalog_file, 'wb') as handle:\n",
    "    pickle.dump(catalog, handle)"
   ]
  },
  {
   "cell_type": "markdown",
   "id": "fc35cec1",
   "metadata": {},
   "source": [
    "## Load catalog from disk"
   ]
  },
  {
   "cell_type": "code",
   "execution_count": null,
   "id": "fed765fd",
   "metadata": {},
   "outputs": [],
   "source": [
    "catalog_file = catalog_dir + 'qubic_pccs2.pickle'\n",
    "with open(catalog_file, 'rb') as handle:\n",
    "    catalog = pickle.load(handle)"
   ]
  },
  {
   "cell_type": "code",
   "execution_count": null,
   "id": "280790c1",
   "metadata": {},
   "outputs": [],
   "source": [
    "catalog['070']['184.5-05.8']"
   ]
  },
  {
   "cell_type": "code",
   "execution_count": null,
   "id": "038d39b9",
   "metadata": {},
   "outputs": [],
   "source": [
    "catalog['143']['184.5-05.8']"
   ]
  },
  {
   "cell_type": "code",
   "execution_count": null,
   "id": "c337b9d1",
   "metadata": {},
   "outputs": [],
   "source": [
    "catalog['143'][name2cat('RCW28',altnames)]"
   ]
  },
  {
   "cell_type": "code",
   "execution_count": null,
   "id": "72877285",
   "metadata": {},
   "outputs": [],
   "source": [
    "catalog['143'].keys()"
   ]
  },
  {
   "cell_type": "markdown",
   "id": "50473e83",
   "metadata": {},
   "source": [
    "# SED"
   ]
  },
  {
   "cell_type": "markdown",
   "id": "09d72d14",
   "metadata": {
    "heading_collapsed": true
   },
   "source": [
    "## Build SED and save to disk"
   ]
  },
  {
   "cell_type": "code",
   "execution_count": null,
   "id": "ea9f5018",
   "metadata": {
    "hidden": true
   },
   "outputs": [],
   "source": [
    "SED = build_sed(catalog)"
   ]
  },
  {
   "cell_type": "code",
   "execution_count": null,
   "id": "c9d9dfe7",
   "metadata": {
    "hidden": true
   },
   "outputs": [],
   "source": [
    "sed_file = catalog_dir + 'qubic_pccs2_sed.pickle'\n",
    "with open(sed_file, 'wb') as handle:\n",
    "    pickle.dump(SED, handle)"
   ]
  },
  {
   "cell_type": "markdown",
   "id": "fbf28b2c",
   "metadata": {},
   "source": [
    "## Load SED, plot data for a source"
   ]
  },
  {
   "cell_type": "code",
   "execution_count": null,
   "id": "378ee191",
   "metadata": {},
   "outputs": [],
   "source": [
    "sed_file = catalog_dir + 'qubic_pccs2_sed.pickle'\n",
    "with open(sed_file, 'rb') as handle:\n",
    "    SED = pickle.load(handle)"
   ]
  },
  {
   "cell_type": "markdown",
   "id": "728bcb16",
   "metadata": {},
   "source": [
    "<p style=\"font-size:140%;line-height:1.2\">\n",
    "    Let's see the SED in I and P of the Crab\n",
    "</p>"
   ]
  },
  {
   "cell_type": "code",
   "execution_count": null,
   "id": "16da9d56",
   "metadata": {},
   "outputs": [],
   "source": [
    "mysed = SED[name2cat('Orion')]"
   ]
  },
  {
   "cell_type": "code",
   "execution_count": null,
   "id": "8b0e083d",
   "metadata": {},
   "outputs": [],
   "source": [
    "mysed.keys()"
   ]
  },
  {
   "cell_type": "code",
   "execution_count": null,
   "id": "7b155750",
   "metadata": {},
   "outputs": [],
   "source": [
    "newfreq = np.arange(30,354,1)\n",
    "f = np.poly1d(mysed['i_fit'])\n",
    "pl.plot(mysed['freq'],mysed['i_flux'],'.')\n",
    "pl.plot(newfreq, f(newfreq))\n",
    "pl.xlabel('Frequency [GHz]')\n",
    "pl.ylabel('Flux [mJy]')\n",
    "pl.title('Crab - Intensity flux')"
   ]
  },
  {
   "cell_type": "code",
   "execution_count": null,
   "id": "10bef337",
   "metadata": {},
   "outputs": [],
   "source": [
    "newfreq = np.arange(30,354,1)\n",
    "f = np.poly1d(mysed['p_fit'])\n",
    "pl.plot(mysed['freq'],mysed['p_flux'],'.')\n",
    "pl.plot(newfreq, f(newfreq))\n",
    "pl.xlabel('Frequency [GHz]')\n",
    "pl.ylabel('Flux [mJy]')\n",
    "pl.title('Crab - Polarized flux')"
   ]
  },
  {
   "cell_type": "code",
   "execution_count": null,
   "id": "9de87cba",
   "metadata": {},
   "outputs": [],
   "source": []
  }
 ],
 "metadata": {
  "jupytext": {
   "formats": "ipynb,Rmd"
  },
  "kernelspec": {
   "display_name": "Python 3",
   "language": "python",
   "name": "python3"
  }
 },
 "nbformat": 4,
 "nbformat_minor": 5
}
