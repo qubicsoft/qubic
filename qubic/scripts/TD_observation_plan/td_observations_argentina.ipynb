{
 "cells": [
  {
   "cell_type": "markdown",
   "id": "19e37b9c",
   "metadata": {},
   "source": [
    "<p style=\"font-size:260%;\">Observing the sky with QUBIC TD</p>"
   ]
  },
  {
   "cell_type": "markdown",
   "id": "14ff7f7c",
   "metadata": {},
   "source": [
    "# Imports and functions"
   ]
  },
  {
   "cell_type": "markdown",
   "id": "2a987eb7",
   "metadata": {},
   "source": [
    "## Imports"
   ]
  },
  {
   "cell_type": "code",
   "execution_count": null,
   "id": "37f990b3",
   "metadata": {},
   "outputs": [],
   "source": [
    "import pylab as pl\n",
    "import os\n",
    "import sys\n",
    "import time\n",
    "import pickle\n",
    "from importlib import reload\n",
    "from IPython.display import Latex\n",
    "\n",
    "\n",
    "# Specific science modules\n",
    "import healpy as h\n",
    "import numpy as np\n",
    "import scipy\n",
    "\n",
    "# Specific qubic modules\n",
    "from qubicpack.utilities import Qubic_DataDir\n",
    "from pysimulators import FitsArray\n",
    "#from mpi4py import MPI\n",
    "# from pyoperators import MPI\n",
    "import pysm\n",
    "import qubic\n",
    "from qubic import QubicSkySim as qss\n",
    "from qubic import fibtools as ft\n",
    "from qubic import camb_interface as qc\n",
    "from qubic import SpectroImLib as si\n",
    "from qubic import NamasterLib as nam\n",
    "from qubic import mcmc\n",
    "from qubic import AnalysisMC as amc\n",
    "\n",
    "pl.rc('figure', figsize=(16, 10))\n",
    "pl.rc('font', size=15)\n",
    "pl.rcParams['image.cmap'] = 'jet'\n",
    "\n",
    "### Initialize\n",
    "dictfilename = 'RealisticScanning-BmodesNoDustNoSystPaper0_2020.dict'\n",
    "d = qubic.qubicdict.qubicDict()\n",
    "d.read_from_file(dictfilename)\n",
    "d['nside'] = 128\n",
    "print(d['RA_center'], d['DEC_center'])\n",
    "center = qubic.equ2gal(d['RA_center'], d['DEC_center'])"
   ]
  },
  {
   "cell_type": "markdown",
   "id": "e5498e90",
   "metadata": {},
   "source": [
    "## Sources"
   ]
  },
  {
   "cell_type": "code",
   "execution_count": null,
   "id": "ce891d7e",
   "metadata": {},
   "outputs": [],
   "source": [
    "class Sources:\n",
    "    def __init__(self):\n",
    "        self.source_list = [\\\n",
    "                           'Crab',\n",
    "                           'RCW38'\n",
    "                           ]\n",
    "    class Crab:\n",
    "        def __init__(self):\n",
    "            self.name    = 'Crab'\n",
    "            self.altname = 'M1'\n",
    "            self.coords  = {\\\n",
    "                            'RA'  :  83.6,\\\n",
    "                            'DEC' :  22.0,\\\n",
    "                            'GLON': 184.6,\\\n",
    "                            'GLAT':  -5.8\\\n",
    "                           }\n",
    "            \n",
    "            self.flux    = {\\\n",
    "                            'INT' : 167.1,\\\n",
    "                            'POL' :  12.0            \n",
    "                           }\n",
    "    class RCW38:\n",
    "        def __init__(self):\n",
    "            self.name    = 'RCW38'\n",
    "            self.altname = None\n",
    "            self.coords  = {\\\n",
    "                            'RA'  : 134.8,\\\n",
    "                            'DEC' : -47.5,\\\n",
    "                            'GLON': 267.9,\\\n",
    "                            'GLAT':  -1.1\\\n",
    "                           }\n",
    "            self.flux    ={\\\n",
    "                            'INT' : 103.7,\\\n",
    "                            'POL' :  1.2            \n",
    "                           }"
   ]
  },
  {
   "cell_type": "code",
   "execution_count": null,
   "id": "e44188e9",
   "metadata": {},
   "outputs": [],
   "source": [
    "source = 'RCW38'\n",
    "srcs = Sources()\n",
    "if source in srcs.source_list:\n",
    "    string = 'srcs.'+source+'()'\n",
    "    source = eval(string)\n",
    "    print (source.altname)\n",
    "else:\n",
    "    print('Source not present')"
   ]
  },
  {
   "cell_type": "markdown",
   "id": "c432bd11",
   "metadata": {},
   "source": [
    "## Functions"
   ]
  },
  {
   "cell_type": "markdown",
   "id": "fed51ebc",
   "metadata": {},
   "source": [
    "### Generate input sky"
   ]
  },
  {
   "cell_type": "markdown",
   "id": "be966733",
   "metadata": {},
   "source": [
    "This is a simple wrapper to QUBIC functions to generate an input sky at the various sub-frequencies in the band defined in the QUBIC instrument dictionary"
   ]
  },
  {
   "cell_type": "code",
   "execution_count": null,
   "id": "76aa8ccd",
   "metadata": {},
   "outputs": [],
   "source": [
    "def generate_input_sky(\\\n",
    "                       instrument_dictionary,\\\n",
    "                       sky_config = {\\\n",
    "                                      'cmb' : None,\\\n",
    "                                      'freefree' : 'f1',\\\n",
    "                                      'synchrotron': 's1',\\\n",
    "                                      'dust' : 'd1'\\\n",
    "                                     }):\n",
    "    '''\n",
    "    Fuction that generates an input sky using PySM\n",
    "\n",
    "    INPUTS\n",
    "    instrument_dictionary  DICT  the dictionary containing all the instrumental parameters\n",
    "    sky_config             DICT  the configuration of the sky to be generated. By default it contains CMB,\n",
    "                                 synchrotron, dust and free free.\n",
    "    \n",
    "    OUTPUTS\n",
    "    sky_map               ARRAY  Shape[instrument_dictionary['nf_sub'], 12*instrument_dictionary['nside']**2,\n",
    "                                 3], the array of IQU maps at the various sub-frequencies defined in the \n",
    "                                 dictionary\n",
    "    '''\n",
    "\n",
    "    Qubic_sky = qss.Qubic_sky(sky_config, instrument_dictionary)\n",
    "    x0 = Qubic_sky.get_simple_sky_map()\n",
    "\n",
    "    print('Input Map with shape (nf_sub, #pixels, #stokes) : ', np.shape(x0))\n",
    "\n",
    "    # Check size map\n",
    "    if hp.get_nside(x0[0,:,0]) == d['nside']:\n",
    "        print('Good size')\n",
    "        sky_map = x0\n",
    "    else:\n",
    "        print('Bad size')\n",
    "        sky_map = np.empty((d['nf_sub'], 12 * d['nside'] ** 2, 3))\n",
    "        for i in range(d['nf_sub']):\n",
    "            for j in range(3):\n",
    "                sky_map[i, :, j] = hp.ud_grade(x0[i, :, j], d['nside'])\n",
    "    \n",
    "    return sky_map"
   ]
  },
  {
   "cell_type": "markdown",
   "id": "fcbb5f76",
   "metadata": {},
   "source": [
    "### Show map around point source"
   ]
  },
  {
   "cell_type": "markdown",
   "id": "619c9abe",
   "metadata": {},
   "source": [
    "Here we want to show a gnomonic map of a chosen source. It is possible to show a map at a single frequency or an array of maps at every frequency in the band defined in the instrument dictionary. An optional (not implemented yet) feature is that of showing the SED of the source in pixels 1 degree wide. The sources are defined in the Sources class."
   ]
  },
  {
   "cell_type": "code",
   "execution_count": null,
   "id": "c1f8445d",
   "metadata": {},
   "outputs": [],
   "source": [
    "def mapsource(skymap, sources, source, freq = 0, reso = 9, xsize = 200):\n",
    "\n",
    "    '''\n",
    "    Function that plots a map around a point source\n",
    "\n",
    "    INPUTS\n",
    "    sky_map               ARRAY  Shape[instrument_dictionary['nf_sub'], 12*instrument_dictionary['nside']**2,\n",
    "                                 3], the array of IQU maps at the various sub-frequencies defined in the \n",
    "                                 dictionary\n",
    "    sources               CLASS  instantiation of the Sources() class\n",
    "    \n",
    "    source               STRING  string with source name\n",
    "    \n",
    "    freq                    INT  (Default = 0) index of the subfrequency to plot\n",
    "    \n",
    "    reso                  FLOAT  (Default = 9) resolution in arcmin\n",
    "    \n",
    "    xsize                   INT  (Default = 200) the size in pixel\n",
    "    \n",
    "    OUTPUTS\n",
    "    None\n",
    "    '''    \n",
    " \n",
    "    # Check if the source is in the list\n",
    "    if source in sources.source_list:\n",
    "        string = 'sources.'+source+'()'\n",
    "        src    = eval(string)\n",
    "        print(string)\n",
    "        coords = (src.coords['GLON'], src.coords['GLAT'])\n",
    "    else:\n",
    "        print('Source not present')\n",
    "        return None\n",
    "    \n",
    "    pl.figure(figsize=(13,13))\n",
    "\n",
    "    for i in range(3):\n",
    "        h.gnomview(skymap[freq,:,i], \\\n",
    "                   cmap ='jet', \\\n",
    "                   sub = (1,3,i+1), \\\n",
    "                   reso = reso, \\\n",
    "                   rot = coords,\\\n",
    "                   xsize = xsize\\\n",
    "                  )\n",
    "    \n",
    "    "
   ]
  },
  {
   "cell_type": "code",
   "execution_count": null,
   "id": "518462f7",
   "metadata": {},
   "outputs": [],
   "source": [
    "d['nside'] = 1024"
   ]
  },
  {
   "cell_type": "code",
   "execution_count": null,
   "id": "8111dab6",
   "metadata": {},
   "outputs": [],
   "source": [
    "mysky = generate_input_sky(d, sky_config = {'dust':'d1'})"
   ]
  },
  {
   "cell_type": "code",
   "execution_count": null,
   "id": "4da8e8f7",
   "metadata": {},
   "outputs": [],
   "source": [
    "srcs = Sources()"
   ]
  },
  {
   "cell_type": "code",
   "execution_count": null,
   "id": "3067f006",
   "metadata": {},
   "outputs": [],
   "source": [
    "mapsource(mysky, srcs, 'Crab', reso = 5, xsize = 30, freq = 1)"
   ]
  },
  {
   "cell_type": "code",
   "execution_count": null,
   "id": "dc2dab62",
   "metadata": {},
   "outputs": [],
   "source": [
    "pol = np.sqrt(mysky[0,:,1]**2+mysky[0,:,2]**2)"
   ]
  },
  {
   "cell_type": "code",
   "execution_count": null,
   "id": "75915624",
   "metadata": {},
   "outputs": [],
   "source": [
    "h.gnomview(pol,rot=(184.6,-5.8), reso = 5, xsize = 30)"
   ]
  },
  {
   "cell_type": "markdown",
   "id": "d1fb02df",
   "metadata": {},
   "source": [
    "### Get coverage split"
   ]
  },
  {
   "cell_type": "code",
   "execution_count": null,
   "id": "0ec68df6",
   "metadata": {},
   "outputs": [],
   "source": [
    "def get_coverage_split(d, nsplit=1, ra_center=0., dec_center=-57, period=10., date_obs='2021-10-01 00:00:00', duration=24., \n",
    "                 angspeed=0.4, delta_az=35.,nsweeps_per_elevation=100):\n",
    "    d['RA_center'] = ra_center\n",
    "    d['DEC_center'] = dec_center\n",
    "    d['period'] = period\n",
    "    d['date_obs'] = date_obs\n",
    "    d['duration'] = duration\n",
    "    d['angspeed'] = angspeed\n",
    "    d['delta_az'] = delta_az\n",
    "    d['nsweeps_per_elevation'] = nsweeps_per_elevation\n",
    "    \n",
    "    p = qubic.get_pointing(d)\n",
    "    s = qubic.QubicScene(d)\n",
    "    q = qubic.QubicInstrument(d)\n",
    "    \n",
    "    nmyp = len(p)//nsplit\n",
    "    cov = 0\n",
    "    for i in range(nsplit):\n",
    "        myp = p[i*nmyp:(i+1)*nmyp-1]\n",
    "        a = qubic.QubicAcquisition(q, myp, s, d)\n",
    "        cov += a.get_coverage()\n",
    "\n",
    "    covnorm = cov/np.max(cov)\n",
    "    eta = np.sum(covnorm)/np.sum(covnorm**2)\n",
    "    \n",
    "    fsky = np.sum(cov/np.max(cov))/len(cov)\n",
    "    return p, cov, eta, fsky\n"
   ]
  },
  {
   "cell_type": "markdown",
   "id": "24a397e7",
   "metadata": {
    "heading_collapsed": true
   },
   "source": [
    "### Get fsky cut"
   ]
  },
  {
   "cell_type": "code",
   "execution_count": null,
   "id": "1d79f100",
   "metadata": {
    "hidden": true
   },
   "outputs": [],
   "source": [
    "def get_fsky_cut(cov, cut=0.1):\n",
    "    mycov = cov.copy()/np.max(cov)\n",
    "    mycov[mycov < cut] = 0\n",
    "    return np.sum(mycov/np.max(mycov))/len(mycov)"
   ]
  },
  {
   "cell_type": "markdown",
   "id": "a8301371",
   "metadata": {
    "heading_collapsed": true
   },
   "source": [
    "### Gnomonic projection"
   ]
  },
  {
   "cell_type": "code",
   "execution_count": null,
   "id": "97e25c11",
   "metadata": {
    "hidden": true
   },
   "outputs": [],
   "source": [
    "def gnomit(cov, title=None, sub=None, reso=20, center=center):\n",
    "    cov = cov / np.max(cov)\n",
    "    cov[cov<0.01] = hp.UNSEEN\n",
    "    mymap = hp.gnomview(cov, rot=center, reso=reso, hold = False, title = title, notext =False, min=0, max=1, \n",
    "                        sub=sub, return_projected_map=True)\n",
    "    dmer = 20\n",
    "    dpar = 10\n",
    "    hp.graticule(dpar=dpar, dmer=dmer, alpha = 0.6, verbose = False)\n",
    "    return mymap"
   ]
  },
  {
   "cell_type": "markdown",
   "id": "4a52be2b",
   "metadata": {
    "heading_collapsed": true
   },
   "source": [
    "### Plot pointing"
   ]
  },
  {
   "cell_type": "code",
   "execution_count": null,
   "id": "3ba24aa1",
   "metadata": {
    "hidden": true
   },
   "outputs": [],
   "source": [
    "def plot_pointing(p, alpha=1):\n",
    "    plt.rc('figure', figsize=(13, 8))\n",
    "    plt.rc('font', size=15)\n",
    "\n",
    "    figure()\n",
    "    subplot(2,2,1)\n",
    "    plot(p.time, p.azimuth, ',')\n",
    "    xlabel('Time [sec]')\n",
    "    ylabel('Azimuth [deg]')\n",
    "\n",
    "    subplot(2,2,2)\n",
    "    plot(p.time, p.elevation,',')\n",
    "    xlabel('Time [sec]')\n",
    "    ylabel('Elevation [deg]')\n",
    "\n",
    "    subplot(2,3,4)\n",
    "    plot(p.azimuth,p.elevation,',')\n",
    "    xlabel('Azimuth [deg]')\n",
    "    ylabel('Elevation [sec]')\n",
    "\n",
    "    subplot(2,3,5)\n",
    "    plot(((p.equatorial[:,0]+180+360) % 360)-180,p.equatorial[:,1],',', alpha=alpha)\n",
    "    xlabel('RA [deg]')\n",
    "    ylabel('DEC [sec]')\n",
    "\n",
    "    subplot(2,3,6)\n",
    "    plot(((p.galactic[:,0]+180+360) % 360)-180,p.galactic[:,1],',', alpha=alpha)\n",
    "    xlabel('Galactic l [deg]')\n",
    "    ylabel('Galactic b [sec]')"
   ]
  },
  {
   "cell_type": "markdown",
   "id": "3e1cfa22",
   "metadata": {},
   "source": [
    "# Point sources"
   ]
  },
  {
   "cell_type": "markdown",
   "id": "b71917ab",
   "metadata": {},
   "source": [
    "Here follows a list of some interesing point sources\n",
    "\n",
    "<style>\n",
    "table {\n",
    "  font-family: arial, sans-serif;\n",
    "  border-collapse: collapse;\n",
    "  width: 100%;\n",
    "}\n",
    "\n",
    "td, th {\n",
    "  border: 1px solid #dddddd;\n",
    "  text-align: left;\n",
    "  padding: 8px;\n",
    "}\n",
    "\n",
    "tr:nth-child(even) {\n",
    "  background-color: #dddddd;\n",
    "}\n",
    "</style>\n",
    "\n",
    "<body>\n",
    "\n",
    "<table>\n",
    "  <tr>\n",
    "    <th>Catalog</th>\n",
    "    <th>Name</th>\n",
    "    <th>Ra [deg]</th>\n",
    "    <th>Dec [deg]</th>\n",
    "    <th>GLon [deg]</th>\n",
    "    <th>GLat [deg]</th>\n",
    "    <th>I [mJy]</th>\n",
    "    <th>P [mJy]</th>\n",
    "  </tr>\n",
    "  <tr>\n",
    "    <td>PCCS2E</td>\n",
    "    <td>M1 (Crab)</td>\n",
    "    <td>83.6</td>\n",
    "    <td>22.0</td>\n",
    "    <td>184.6</td>\n",
    "    <td>-5.8</td>\n",
    "    <td>167.1</td>\n",
    "    <td>12.0</td>\n",
    "  </tr>\n",
    "</table>\n",
    "\n",
    "</body>"
   ]
  },
  {
   "cell_type": "markdown",
   "id": "0e27df5f",
   "metadata": {},
   "source": [
    "# Diffuse regions"
   ]
  },
  {
   "cell_type": "markdown",
   "id": "422a687b",
   "metadata": {},
   "source": [
    "# We first try with 10 secondes sampling (variable period)"
   ]
  },
  {
   "cell_type": "code",
   "execution_count": null,
   "id": "fd602790",
   "metadata": {},
   "outputs": [],
   "source": [
    "ra_center = 0.\n",
    "dec_center = -57.\n",
    "period = 10.\n",
    "date_obs = '2021-10-01 00:00:00'\n",
    "angspeed = 0.4\n",
    "delta_az = 35.\n",
    "nsweeps_per_elevation = 100\n",
    "duration = 24.\n",
    "\n",
    "p, cov, eta, fsky = get_coverage_split(d, ra_center=ra_center, dec_center=dec_center, period=period, \n",
    "                      date_obs=date_obs, angspeed=angspeed, delta_az=delta_az,\n",
    "                      nsweeps_per_elevation=nsweeps_per_elevation, duration=duration)\n",
    "\n",
    "plot_pointing(p)\n",
    "\n",
    "plt.rc('figure', figsize=(13, 4))\n",
    "plt.rc('font', size=15)\n",
    "gnomit(cov, title='$\\eta$={0:4.2f} fsky={1:4.2f}'.format(eta, fsky*100))\n",
    "\n",
    "hp.mollview(cov)"
   ]
  },
  {
   "cell_type": "markdown",
   "id": "95c37b85",
   "metadata": {},
   "source": [
    "### Now with 1 second sampling but splitting into 10 the pointing "
   ]
  },
  {
   "cell_type": "code",
   "execution_count": null,
   "id": "9c8094cf",
   "metadata": {},
   "outputs": [],
   "source": [
    "period = 1\n",
    "p, cov, eta, fsky = get_coverage_split(d, nsplit=10, ra_center=ra_center, dec_center=dec_center, period=period, \n",
    "                      date_obs=date_obs, angspeed=angspeed, delta_az=delta_az,\n",
    "                      nsweeps_per_elevation=nsweeps_per_elevation, duration=duration)\n",
    "\n",
    "plot_pointing(p, alpha=0.1)\n",
    "\n",
    "plt.rc('figure', figsize=(13, 4))\n",
    "plt.rc('font', size=15)\n",
    "\n",
    "gnomit(cov, title='$\\eta$={0:4.2f} fsky={1:4.2f}'.format(eta, fsky*100))"
   ]
  },
  {
   "cell_type": "markdown",
   "id": "fe0cf4fb",
   "metadata": {},
   "source": [
    "We get the same so it means that 10 seconds saampling is good enough for this test.\n",
    "\n",
    "\n",
    "### Now we want to optimize the flatness of the coverage for various values of nsweeps and angspeed"
   ]
  },
  {
   "cell_type": "markdown",
   "id": "f97559f3",
   "metadata": {},
   "source": [
    "# Angspeed"
   ]
  },
  {
   "cell_type": "code",
   "execution_count": null,
   "id": "bb28e8a3",
   "metadata": {},
   "outputs": [],
   "source": [
    "### Angspeed\n",
    "nn = 10\n",
    "my_angspeeds = np.linspace(0.2,1., nn)\n",
    "print(my_angspeeds)\n",
    "\n",
    "period = 10\n",
    "all_etas = np.zeros(nn)\n",
    "all_fsky = np.zeros(nn)\n",
    "all_fsky_cut = np.zeros(nn)\n",
    "for i in range(nn):\n",
    "    p, cov, all_etas[i], all_fsky[i] = get_coverage_split(d, nsplit=1, ra_center=ra_center, dec_center=dec_center, period=period, \n",
    "                          date_obs=date_obs, angspeed=my_angspeeds[i], delta_az=delta_az,\n",
    "                          nsweeps_per_elevation=nsweeps_per_elevation, duration=duration)\n",
    "    all_fsky_cut[i] = get_fsky_cut(cov)\n",
    "    gnomit(cov, title='$\\eta$={0:4.2f} fsky={1:4.2f}'.format(all_etas[i], all_fsky[i]*100), sub=(2,5,i+1))\n",
    "\n"
   ]
  },
  {
   "cell_type": "code",
   "execution_count": null,
   "id": "f535400e",
   "metadata": {},
   "outputs": [],
   "source": [
    "plt.rc('figure', figsize=(13, 8))\n",
    "plt.rc('font', size=15)\n",
    "plot(my_angspeeds, all_etas, label='$\\eta$')\n",
    "plot(my_angspeeds, all_fsky*100, label='fsky (%)')\n",
    "plot(my_angspeeds, all_fsky_cut*100, label='fsky (%) [cut at 0.1]')\n",
    "legend()\n",
    "xlabel('Angular speed [deg/s]')"
   ]
  },
  {
   "cell_type": "markdown",
   "id": "a82afc2d",
   "metadata": {},
   "source": [
    "# Nsweeps"
   ]
  },
  {
   "cell_type": "code",
   "execution_count": null,
   "id": "e8795702",
   "metadata": {},
   "outputs": [],
   "source": [
    "### Nsweeps\n",
    "nn = 10\n",
    "my_nsweeps = np.linspace(10,200, nn, dtype=int)\n",
    "print(my_nsweeps)\n",
    "\n",
    "angspeed=0.4 \n",
    "\n",
    "period = 10\n",
    "all_etas = np.zeros(nn)\n",
    "all_fsky = np.zeros(nn)\n",
    "for i in range(nn):\n",
    "    p, cov, all_etas[i], all_fsky[i] = get_coverage_split(d, nsplit=1, ra_center=ra_center, dec_center=dec_center, period=period, \n",
    "                          date_obs=date_obs, angspeed=angspeed, delta_az=delta_az,\n",
    "                          nsweeps_per_elevation=my_nsweeps[i], duration=duration)\n",
    "    all_fsky_cut[i] = get_fsky_cut(cov)\n",
    "    gnomit(cov, title='$\\eta$={0:4.2f} fsky={1:4.2f}'.format(all_etas[i], all_fsky[i]), sub=(2,5,i+1))\n",
    "\n"
   ]
  },
  {
   "cell_type": "code",
   "execution_count": null,
   "id": "63a5e438",
   "metadata": {},
   "outputs": [],
   "source": [
    "plot(my_nsweeps, all_etas, label='$\\eta$')\n",
    "plot(my_nsweeps, all_fsky*100, label='fsky (%)')\n",
    "plot(my_nsweeps, all_fsky_cut*100, label='fsky (%) [cut at 0.1]')\n",
    "legend()\n",
    "xlabel('Nsweeps')"
   ]
  },
  {
   "cell_type": "markdown",
   "id": "800b5250",
   "metadata": {},
   "source": [
    "# delta_az"
   ]
  },
  {
   "cell_type": "code",
   "execution_count": null,
   "id": "f378495b",
   "metadata": {},
   "outputs": [],
   "source": [
    "### Nsweeps\n",
    "nn = 10\n",
    "my_daz = np.linspace(25,40, nn, dtype=int)\n",
    "print(my_daz)\n",
    "\n",
    "angspeed=0.4 \n",
    "nsweeps = 100\n",
    "\n",
    "period = 10\n",
    "all_etas = np.zeros(nn)\n",
    "all_fsky = np.zeros(nn)\n",
    "for i in range(nn):\n",
    "    p, cov, all_etas[i], all_fsky[i] = get_coverage_split(d, nsplit=1, ra_center=ra_center, dec_center=dec_center, period=period, \n",
    "                          date_obs=date_obs, angspeed=angspeed, delta_az=my_daz[i],\n",
    "                          nsweeps_per_elevation=nsweeps, duration=duration)\n",
    "    all_fsky_cut[i] = get_fsky_cut(cov)\n",
    "    gnomit(cov, title='$\\eta$={0:4.2f} fsky={1:4.2f}'.format(all_etas[i], all_fsky[i]), sub=(2,5,i+1))\n",
    "\n"
   ]
  },
  {
   "cell_type": "code",
   "execution_count": null,
   "id": "398da98d",
   "metadata": {},
   "outputs": [],
   "source": [
    "plot(my_daz, all_etas, label='$\\eta$')\n",
    "plot(my_daz, all_fsky*100, label='fsky (%)')\n",
    "plot(my_daz, all_fsky_cut*100, label='fsky (%) [cut at 0.1]')\n",
    "legend()\n",
    "xlabel('$\\Delta$Az [deg]')"
   ]
  },
  {
   "cell_type": "markdown",
   "id": "67eea4ec",
   "metadata": {},
   "source": [
    "So it seems that angspeed=0.4 and nsweeps=100 is more or less OK"
   ]
  },
  {
   "cell_type": "code",
   "execution_count": null,
   "id": "c710309e",
   "metadata": {},
   "outputs": [],
   "source": [
    "ra_center = 0.\n",
    "dec_center = -57.\n",
    "period = 10.\n",
    "date_obs = '2021-10-01 00:00:00'\n",
    "angspeed = 0.4\n",
    "delta_az = 35.\n",
    "nsweeps_per_elevation = 100\n",
    "duration = 24.\n",
    "\n",
    "p, cov, eta, fsky = get_coverage_split(d, ra_center=ra_center, dec_center=dec_center, period=period, \n",
    "                      date_obs=date_obs, angspeed=angspeed, delta_az=delta_az,\n",
    "                      nsweeps_per_elevation=nsweeps_per_elevation, duration=duration)\n"
   ]
  },
  {
   "cell_type": "code",
   "execution_count": null,
   "id": "0d33b9f4",
   "metadata": {},
   "outputs": [],
   "source": [
    "cut = 0.1\n",
    "mycov = cov.copy()/np.max(cov)\n",
    "mycov[mycov < cut] = 0\n",
    "fsky_cut = np.sum(mycov/np.max(mycov))/len(mycov)\n",
    "\n",
    "plt.rc('figure', figsize=(13, 8))\n",
    "plt.rc('font', size=15)\n",
    "gnomit(mycov, reso=15, title='$\\eta$={0:4.2f} fsky={1:4.1f}%'.format(eta, fsky_cut*100))\n",
    "\n",
    "\n",
    "figure()\n",
    "gnomit(mycov, reso=15, center=[316, -56], title='Galactic Coordinates - fsky={0:4.2f}%'.format(fsky_cut*100))\n",
    "\n",
    "mycovcut = mycov.copy()/np.max(mycov)\n",
    "mycovcut[mycovcut < 0.1] = hp.UNSEEN\n",
    "hp.mollview(mycovcut, title='Galactic Coordinates - fsky={0:4.2f}%'.format(fsky_cut*100), min=0, max=1)\n",
    "dmer = 20\n",
    "dpar = 10\n",
    "hp.graticule(dpar=dpar, dmer=dmer, alpha = 0.6, verbose = False)\n"
   ]
  },
  {
   "cell_type": "code",
   "execution_count": null,
   "id": "89fbce54",
   "metadata": {},
   "outputs": [],
   "source": [
    "mymap = hp.gnomview(cov, rot=center, reso=20, return_projected_map=True)"
   ]
  },
  {
   "cell_type": "code",
   "execution_count": null,
   "id": "aaaa576c",
   "metadata": {},
   "outputs": [],
   "source": [
    "from mpl_toolkits.mplot3d import Axes3D\n",
    "fig, ax = plt.subplots(subplot_kw=dict(projection='3d'))\n",
    "x, y = np.meshgrid(np.arange(200), np.arange(200))\n",
    "ax.plot_surface(x,y,mymap)"
   ]
  },
  {
   "cell_type": "markdown",
   "id": "7f52552d",
   "metadata": {},
   "source": [
    "### Now let's try to move slightly from one day to another"
   ]
  },
  {
   "cell_type": "code",
   "execution_count": null,
   "id": "db716066",
   "metadata": {},
   "outputs": [],
   "source": [
    "print(ra_center)\n",
    "print(dec_center)\n",
    "\n",
    "nn = 4\n",
    "dx = 12.5\n",
    "ras = np.array([ra_center-dx, ra_center-dx, ra_center+dx*2, ra_center+dx*0.7])\n",
    "decs = np.array([dec_center-dx/2, dec_center+dx/2, dec_center-dx/2*0.7, dec_center+dx/2])\n",
    "\n",
    "ll, bb = qubic.equ2gal(ras, decs)\n",
    "\n",
    "\n",
    "subplot(1,2,1)\n",
    "plot(ras,decs,'ro')\n",
    "for i in range(len(bb)):\n",
    "               text(ras[i], decs[i],i)\n",
    "plot(ra_center, dec_center,'k*')\n",
    "xlim(-40,50)\n",
    "ylim(-70, -40)\n",
    "\n",
    "subplot(1,2,2)\n",
    "plot(ll, bb,'ro')\n",
    "for i in range(len(bb)):\n",
    "               text(ll[i], bb[i],i)\n",
    "plot(center[0], center[1],'k*')\n",
    "xlim(270,350)\n",
    "ylim(-70, -40)"
   ]
  },
  {
   "cell_type": "code",
   "execution_count": null,
   "id": "5418ac62",
   "metadata": {},
   "outputs": [],
   "source": [
    "### Angspeed\n",
    "nn = len(ras)\n",
    "\n",
    "angspeed=0.4 \n",
    "nsweeps = 100\n",
    "\n",
    "period = 10\n",
    "all_etas = np.zeros(nn)\n",
    "all_fsky = np.zeros(nn)\n",
    "fullcov = 0\n",
    "for i in range(nn):\n",
    "    p, cov, eta, fsky = get_coverage_split(d, nsplit=1, ra_center=ras[i], dec_center=decs[i], period=period, \n",
    "                          date_obs=date_obs, angspeed=angspeed, delta_az=delta_az,\n",
    "                          nsweeps_per_elevation=nsweeps, duration=duration)\n",
    "    gnomit(cov, title='$\\eta$={0:4.2f} fsky={1:4.2f}'.format(eta, fsky*100), sub=(2,2,i+1))\n",
    "    fullcov += cov\n"
   ]
  },
  {
   "cell_type": "code",
   "execution_count": null,
   "id": "55bcf38e",
   "metadata": {},
   "outputs": [],
   "source": [
    "covnorm = fullcov/np.max(fullcov)\n",
    "eta = np.sum(covnorm)/np.sum(covnorm**2)\n",
    "fsky = np.sum(fullcov/np.max(fullcov))/len(fullcov)\n",
    "fsky_cut = get_fsky_cut(fullcov)\n",
    "\n",
    "mymap = gnomit(fullcov, reso=25, \n",
    "       title='$\\eta$={0:4.2f} fsky={1:4.2f} fsky_cut={2:4.2f}'.format(eta, fsky*100, fsky_cut*100))\n"
   ]
  },
  {
   "cell_type": "code",
   "execution_count": null,
   "id": "21d66601",
   "metadata": {},
   "outputs": [],
   "source": [
    "mymap.data[mymap.data==hp.UNSEEN]=0\n",
    "from mpl_toolkits.mplot3d import Axes3D\n",
    "fig, ax = plt.subplots(subplot_kw=dict(projection='3d'))\n",
    "x, y = np.meshgrid(np.arange(200), np.arange(200))\n",
    "ax.plot_surface(x,y,mymap)"
   ]
  },
  {
   "cell_type": "code",
   "execution_count": null,
   "id": "9270cd8b",
   "metadata": {},
   "outputs": [],
   "source": []
  },
  {
   "cell_type": "code",
   "execution_count": null,
   "id": "671615a9",
   "metadata": {},
   "outputs": [],
   "source": []
  }
 ],
 "metadata": {
  "kernelspec": {
   "display_name": "Python 3",
   "language": "python",
   "name": "python3"
  }
 },
 "nbformat": 4,
 "nbformat_minor": 5
}
