{
 "cells": [
  {
   "cell_type": "code",
   "execution_count": null,
   "id": "79f17c4a",
   "metadata": {},
   "outputs": [],
   "source": [
    "import healpy as hp"
   ]
  },
  {
   "cell_type": "code",
   "execution_count": null,
   "id": "47540ea1",
   "metadata": {},
   "outputs": [],
   "source": [
    "fwhm_q_150 = 0.39268176 # degrees\n",
    "ns = 256\n",
    "\n",
    "nbmc = 30\n",
    "allratio = np.zeros(nbmc)\n",
    "for i in range(nbmc):\n",
    "    mapnoise = np.random.randn(12*ns**2)\n",
    "    mapsmooth = hp.smoothing(mapnoise, fwhm=np.radians(fwhm_q_150))\n",
    "    #print(np.std(mapnoise))\n",
    "    #print(np.std(mapsmooth))\n",
    "    allratio[i] = np.std(mapnoise) / np.std(mapsmooth)"
   ]
  },
  {
   "cell_type": "code",
   "execution_count": null,
   "id": "0ed8e4d8",
   "metadata": {},
   "outputs": [],
   "source": [
    "print(np.mean(allratio))\n",
    "print(np.std(allratio))"
   ]
  },
  {
   "cell_type": "code",
   "execution_count": null,
   "id": "38d4893b",
   "metadata": {},
   "outputs": [],
   "source": []
  }
 ],
 "metadata": {
  "kernelspec": {
   "display_name": "Python 3 (ipykernel)",
   "language": "python",
   "name": "python3"
  }
 },
 "nbformat": 4,
 "nbformat_minor": 5
}
