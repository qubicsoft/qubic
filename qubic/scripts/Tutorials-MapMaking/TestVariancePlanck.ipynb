{
 "cells": [
  {
   "cell_type": "code",
   "execution_count": null,
   "id": "c36a75e4",
   "metadata": {},
   "outputs": [],
   "source": [
    "import healpy as hp\n",
    "%matplotlib inline\n",
    "rc('figure', figsize=(16, 8))\n",
    "rc('font', size=15)\n",
    "\n",
    "# %config InlineBackend.figure_format='retina'\n",
    "from IPython.display import display, HTML\n",
    "display(HTML(\"<style>.container { width:95% !important; }</style>\"))\n"
   ]
  },
  {
   "cell_type": "code",
   "execution_count": null,
   "id": "47b4b446",
   "metadata": {},
   "outputs": [],
   "source": [
    "### Variance maps in muK2\n",
    "varI2048 = hp.read_map('HFI_SkyMap_217_2048_R3.01_full.fits', field=4) * 1e12\n",
    "varQ2048 = hp.read_map('HFI_SkyMap_217_2048_R3.01_full.fits', field=7) * 1e12\n",
    "varU2048 = hp.read_map('HFI_SkyMap_217_2048_R3.01_full.fits', field=9) * 1e12\n",
    "print(np.shape(varI2048))"
   ]
  },
  {
   "cell_type": "code",
   "execution_count": null,
   "id": "d2a88859",
   "metadata": {},
   "outputs": [],
   "source": [
    "hp.mollview(varI2048, sub=(1,3,1), cmap='jet')\n",
    "hp.mollview(varQ2048, sub=(1,3,2), cmap='jet')\n",
    "hp.mollview(varU2048, sub=(1,3,3), cmap='jet')"
   ]
  },
  {
   "cell_type": "code",
   "execution_count": null,
   "id": "d7bc71f3",
   "metadata": {},
   "outputs": [],
   "source": [
    "### Degrade the maps to 256\n",
    "nsout = 256\n",
    "varI256 = hp.ud_grade(varI2048, nside_out=256, power=2)\n",
    "hp.mollview(varI2048, sub=(1,2,1), title='2048', cmap='jet')\n",
    "hp.mollview(varI256, sub=(1,2,2), title='256', cmap='jet')\n"
   ]
  },
  {
   "cell_type": "code",
   "execution_count": null,
   "id": "475c3179",
   "metadata": {},
   "outputs": [],
   "source": [
    "nbmc = 100\n",
    "allmaps = np.zeros((nbmc, 12*nsout**2))\n",
    "\n",
    "nsin = 2048\n",
    "for i in range(nbmc):\n",
    "    if (i%10)==0:\n",
    "        print(i)\n",
    "    mm = np.random.randn(12*nsin**2) * np.sqrt(varI2048)\n",
    "    allmaps[i,:] = hp.ud_grade(mm, nside_out=nsout)\n"
   ]
  },
  {
   "cell_type": "code",
   "execution_count": null,
   "id": "e1c2025f",
   "metadata": {},
   "outputs": [],
   "source": [
    "empvar = np.var(allmaps, axis=0)\n",
    "hp.mollview(varI256, sub=(2,2,1), title='Var 256', cmap='jet')\n",
    "hp.mollview(empvar, sub=(2,2,2), title='Emprical Var 256', cmap='jet')\n",
    "hp.mollview(empvar/varI256, sub=(2,2,3), title='Ratio', cmap='jet')\n",
    "subplot(2,2,4)\n",
    "plot(varI256, empvar, ',')\n",
    "plot(np.arange(50), 'k--')\n",
    "xlabel('Theoretical Variance ns=256')\n",
    "ylabel('Empirical MC ns=256')"
   ]
  },
  {
   "cell_type": "markdown",
   "id": "7ac093dd",
   "metadata": {},
   "source": [
    "# SImulation of the beam effect"
   ]
  },
  {
   "cell_type": "code",
   "execution_count": null,
   "id": "8b99ef62",
   "metadata": {},
   "outputs": [],
   "source": [
    "fwhm_q_150 = 0.39268176 # degrees\n",
    "nsout = 256\n",
    "nbmc = 300\n",
    "allmaps = np.zeros((nbmc, 12*nsout**2))\n",
    "\n",
    "nsin = 2048\n",
    "for i in range(nbmc):\n",
    "    if (i%10)==0:\n",
    "        print(i)\n",
    "    mm = np.random.randn(12*nsout**2) * np.sqrt(varI256)\n",
    "    allmaps[i,:] = hp.smoothing(mm, fwhm=np.radians(fwhm_q_150))\n",
    "    "
   ]
  },
  {
   "cell_type": "code",
   "execution_count": null,
   "id": "172f4171",
   "metadata": {},
   "outputs": [],
   "source": [
    "from qubic import fibtools as ft\n",
    "newvarmap = np.var(allmaps, axis=0)\n",
    "hp.mollview(newvarmap, sub=(1,2,1), title='Empirical Variance after smoothing')\n",
    "subplot(1,2,2)\n",
    "plot(varI256, newvarmap, 'k,')\n",
    "ft.profile(varI256, newvarmap, nbins=10, plot=True)\n",
    "xlabel('Unsmoothed Variance')\n",
    "ylabel('Empirical Variance after smoothing')"
   ]
  },
  {
   "cell_type": "markdown",
   "id": "61524d41",
   "metadata": {},
   "source": [
    "## Calculation of theoretical variance after smoothing:\n",
    "One has an image $M_{i}$ with variance $v_{i}$. It is smoothed with a normed Gaussian kernel $k_{ij}$:\n",
    "$$M'_{i} = \\sum_j k_{ij} M_j$$\n",
    "Variances add linearly, therefore:\n",
    "$\n",
    "\\begin{align}\n",
    "Var(M'_i) &= \\sum_j Var(k_{ij} M_j) \\\\\n",
    "&= \\sum_j k_{ij}^2 Var(M_j)\n",
    "\\end{align}\n",
    "$\n",
    "where the kernel is:\n",
    "$\\begin{align}\n",
    "k(\\vec{n}-\\vec{n}_0) &\\equiv G(\\vec{n}-\\vec{n}_0,\\sigma)\\\\ \n",
    "&=\\frac{1}{2\\pi\\sigma^2}\\exp\\left( -\\frac{\\left| \\vec{n}-\\vec{n}_0\\right|^2}{2\\sigma^2}\\right)\n",
    "\\end{align}\n",
    "$\n",
    "Therefore:\n",
    "$\\begin{align}\n",
    "k^2(\\vec{n}-\\vec{n}_0) \n",
    "&=\\left(\\frac{1}{2\\pi\\sigma^2}\\right)^2\\exp\\left( -\\frac{\\left| \\vec{n}-\\vec{n}_0\\right|^2}{\\sigma^2}\\right) \\\\\n",
    "&= \\frac{1}{2\\pi\\sigma^2} \\times \\frac{1}{2\\pi\\sigma^2} \\times \\exp\\left( -\\frac{\\left| \\vec{n}-\\vec{n}_0\\right|^2}{2\\left(\\sigma/\\sqrt{2}\\right)^2}\\right) \\\\\n",
    "&= \\frac{1}{2\\pi\\sigma^2} \\times \\frac{1}{2\\times 2\\pi\\left(\\sigma/\\sqrt{2}\\right)^2} \\times \\exp\\left( -\\frac{\\left| \\vec{n}-\\vec{n}_0\\right|^2}{2\\left(\\sigma/\\sqrt{2}\\right)^2}\\right) \\\\\n",
    "&= \\frac{1}{4\\pi\\sigma^2}\\times  G\\left(\\vec{n}-\\vec{n}_0,\\sigma/\\sqrt{2}\\right)\n",
    "\\end{align}\n",
    "$\n",
    "Where $\\sigma$ is given in units of pixel size."
   ]
  },
  {
   "cell_type": "code",
   "execution_count": null,
   "id": "55514018",
   "metadata": {},
   "outputs": [],
   "source": [
    "factor = (4*np.pi*(fwhm_q_150/2.35/np.degrees(hp.nside2resol(nsout)))**2)\n",
    "varnew = hp.smoothing(varI256, fwhm=np.radians(fwhm_q_150/sqrt(2))) / factor\n",
    "\n",
    "\n",
    "hp.mollview(newvarmap, sub=(2,3,1), cmap='jet', title='Empirical Variance After smoothing')\n",
    "hp.mollview(varnew, sub=(2,3,2), cmap='jet', title='Theoretical Variance after smoothing')\n",
    "hp.mollview(newvarmap/varnew, sub=(2,3,3), title='Ratio', cmap='jet')\n",
    "subplot(2,2,3)\n",
    "plot(newvarmap, varnew, ',')\n",
    "plot(np.arange(np.max(varnew)), 'k--')\n",
    "ft.profile(newvarmap, varnew, nbins=30, plot=True)\n",
    "xlabel('Theoretical Variance after smmothing ns=256')\n",
    "ylabel('Empirical MC ns=256')\n",
    "subplot(2,2,4)\n",
    "a=hist(newvarmap/varnew, bins=100, range=[0.5,1.5])\n",
    "axvline(x=1,ls='--', color='k')\n",
    "xlabel('Ratio')"
   ]
  },
  {
   "cell_type": "markdown",
   "id": "d4d6f3ae",
   "metadata": {},
   "source": [
    "##### "
   ]
  },
  {
   "cell_type": "code",
   "execution_count": null,
   "id": "cb0670d0",
   "metadata": {},
   "outputs": [],
   "source": [
    "np.degrees(hp.nside2resol(256))"
   ]
  },
  {
   "cell_type": "code",
   "execution_count": null,
   "id": "62915d83",
   "metadata": {},
   "outputs": [],
   "source": []
  },
  {
   "cell_type": "code",
   "execution_count": null,
   "id": "6542a093",
   "metadata": {},
   "outputs": [],
   "source": []
  },
  {
   "cell_type": "code",
   "execution_count": null,
   "id": "a064afc1",
   "metadata": {},
   "outputs": [],
   "source": []
  }
 ],
 "metadata": {
  "kernelspec": {
   "display_name": "Python 3 (ipykernel)",
   "language": "python",
   "name": "python3"
  }
 },
 "nbformat": 4,
 "nbformat_minor": 5
}
