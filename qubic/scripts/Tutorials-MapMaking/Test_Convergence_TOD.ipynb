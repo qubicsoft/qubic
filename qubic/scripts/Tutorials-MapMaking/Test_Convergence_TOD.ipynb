{
 "cells": [
  {
   "cell_type": "code",
   "execution_count": 29,
   "id": "b811a9a6",
   "metadata": {
    "ExecuteTime": {
     "end_time": "2023-01-23T16:51:54.007870Z",
     "start_time": "2023-01-23T16:51:53.992760Z"
    }
   },
   "outputs": [
    {
     "data": {
      "text/html": [
       "<style>.container { width:95% !important; }</style>"
      ],
      "text/plain": [
       "<IPython.core.display.HTML object>"
      ]
     },
     "metadata": {},
     "output_type": "display_data"
    }
   ],
   "source": [
    "from __future__ import division\n",
    "from pyoperators import pcg\n",
    "from pysimulators import profile\n",
    "\n",
    "# QUBIC packages\n",
    "import qubic\n",
    "from qubicpack.utilities import Qubic_DataDir\n",
    "from qubic.data import PATH\n",
    "from qubic.io import read_map\n",
    "from qubic import QubicSkySim as qss\n",
    "import Acquisition as Acq\n",
    "\n",
    "# Display packages\n",
    "import healpy as hp\n",
    "import matplotlib.pyplot as plt\n",
    "\n",
    "# FG-Buster packages\n",
    "import component_model as c\n",
    "import mixing_matrix as mm\n",
    "\n",
    "# General packages\n",
    "import numpy as np\n",
    "import pysm3\n",
    "import warnings\n",
    "from qubic import QubicSkySim as qss\n",
    "import pysm3.units as u\n",
    "from importlib import reload\n",
    "from pysm3 import utils\n",
    "\n",
    "from qubic import SpectroImLib as sp\n",
    "from importlib import reload\n",
    "import gc\n",
    "import copy\n",
    "\n",
    "\n",
    "# PyOperators packages\n",
    "from pyoperators import (\n",
    "    BlockColumnOperator, BlockDiagonalOperator, BlockRowOperator,\n",
    "    CompositionOperator, DiagonalOperator, I, IdentityOperator,\n",
    "    MPIDistributionIdentityOperator, MPI, proxy_group, ReshapeOperator,\n",
    "    rule_manager, pcg, Operator)\n",
    "\n",
    "from pysimulators.interfaces.healpy import HealpixConvolutionGaussianOperator\n",
    "warnings.filterwarnings(\"ignore\")\n",
    "%matplotlib inline\n",
    "\n",
    "# %config InlineBackend.figure_format='retina'\n",
    "from IPython.display import display, HTML\n",
    "display(HTML(\"<style>.container { width:95% !important; }</style>\"))\n",
    "\n"
   ]
  },
  {
   "cell_type": "code",
   "execution_count": 31,
   "id": "e09e0dd9",
   "metadata": {
    "ExecuteTime": {
     "end_time": "2023-01-23T16:52:07.287895Z",
     "start_time": "2023-01-23T16:52:07.274290Z"
    }
   },
   "outputs": [],
   "source": [
    "nside = 256\n",
    "relative_bandwidth = 0.25\n",
    "band = 220.\n",
    "seed = 42\n",
    "noiseless = True\n",
    "\n",
    "npointings = 1200\n",
    "Nf_TOD = 20"
   ]
  },
  {
   "cell_type": "code",
   "execution_count": 32,
   "id": "ed276948",
   "metadata": {
    "ExecuteTime": {
     "end_time": "2023-01-23T16:52:08.410409Z",
     "start_time": "2023-01-23T16:52:08.218429Z"
    }
   },
   "outputs": [
    {
     "name": "stdout",
     "output_type": "stream",
     "text": [
      "/Users/hamilton/Python/GitQubic/qubic/qubic/\n",
      "*************** Noise **************\n",
      "Noisless:      True\n",
      "Photon Noise:  False\n",
      "************************************\n"
     ]
    }
   ],
   "source": [
    "reload(Acq)\n",
    "\n",
    "# Repository for dictionary\n",
    "global_dir = Qubic_DataDir()\n",
    "print(global_dir)\n",
    "dictfilename = global_dir + 'dicts/pipeline_demo.dict'\n",
    "\n",
    "# Read dictionary chosen\n",
    "d_TOD = qubic.qubicdict.qubicDict()\n",
    "d_TOD.read_from_file(dictfilename)\n",
    "\n",
    "d_TOD['nf_recon'] = Nf_TOD\n",
    "d_TOD['nf_sub'] = Nf_TOD\n",
    "d_TOD['nside'] = nside\n",
    "npix=12*d_TOD['nside']**2\n",
    "d_TOD['RA_center'] = 0\n",
    "d_TOD['DEC_center'] = -57\n",
    "center = qubic.equ2gal(d_TOD['RA_center'], d_TOD['DEC_center'])\n",
    "d_TOD['effective_duration'] = 3\n",
    "d_TOD['npointings'] = npointings\n",
    "d_TOD['tol'] = 5e-4\n",
    "d_TOD['filter_nu'] = band * 1e9\n",
    "d_TOD['photon_noise'] = not noiseless\n",
    "d_TOD['noiseless'] = noiseless\n",
    "d_TOD['config'] = 'FI'\n",
    "d_TOD['MultiBand'] = True\n",
    "d_TOD['planck'] = True\n",
    "\n",
    "print('*************** Noise **************')\n",
    "print('Noisless:      {}'.format(d_TOD['noiseless']))\n",
    "print('Photon Noise:  {}'.format(d_TOD['photon_noise']))\n",
    "print('************************************')"
   ]
  },
  {
   "cell_type": "code",
   "execution_count": 35,
   "id": "c87a3d10",
   "metadata": {
    "ExecuteTime": {
     "end_time": "2023-01-23T16:56:13.462085Z",
     "start_time": "2023-01-23T16:52:24.602144Z"
    }
   },
   "outputs": [
    {
     "name": "stdout",
     "output_type": "stream",
     "text": [
      "0\n"
     ]
    },
    {
     "name": "stderr",
     "output_type": "stream",
     "text": [
      "setting the output map dtype to [dtype('float64'), dtype('float64'), dtype('float64')]\n"
     ]
    },
    {
     "name": "stdout",
     "output_type": "stream",
     "text": [
      "You asked 1200 pointings with repeat strategy so I will provide 400 pointings repeated 3 times.\n",
      "Info apcdhcp125.in2p3.fr: Allocating (1190400,9) elements = 163.4765625 MiB in FSRRotation3dMatrix.__init__.\n",
      "Info apcdhcp125.in2p3.fr: Allocating (1190400,9) elements = 163.4765625 MiB in FSRRotation3dMatrix.__init__.\n",
      "Making sum from 192.50 to 218.27\n",
      "Making sum from 218.27 to 247.50\n",
      "1\n"
     ]
    },
    {
     "name": "stderr",
     "output_type": "stream",
     "text": [
      "setting the output map dtype to [dtype('float64'), dtype('float64'), dtype('float64')]\n"
     ]
    },
    {
     "name": "stdout",
     "output_type": "stream",
     "text": [
      "You asked 1200 pointings with repeat strategy so I will provide 400 pointings repeated 3 times.\n",
      "Info apcdhcp125.in2p3.fr: Allocating (1190400,9) elements = 163.4765625 MiB in FSRRotation3dMatrix.__init__.\n",
      "Info apcdhcp125.in2p3.fr: Allocating (1190400,9) elements = 163.4765625 MiB in FSRRotation3dMatrix.__init__.\n",
      "Info apcdhcp125.in2p3.fr: Allocating (1190400,9) elements = 163.4765625 MiB in FSRRotation3dMatrix.__init__.\n",
      "Info apcdhcp125.in2p3.fr: Allocating (1190400,9) elements = 163.4765625 MiB in FSRRotation3dMatrix.__init__.\n",
      "Info apcdhcp125.in2p3.fr: Allocating (1190400,9) elements = 163.4765625 MiB in FSRRotation3dMatrix.__init__.\n",
      "Info apcdhcp125.in2p3.fr: Allocating (1190400,9) elements = 163.4765625 MiB in FSRRotation3dMatrix.__init__.\n",
      "Making sum from 192.50 to 200.73\n",
      "Making sum from 200.73 to 209.32\n",
      "Making sum from 209.32 to 218.27\n",
      "Making sum from 218.27 to 227.61\n",
      "Making sum from 227.61 to 237.35\n",
      "Making sum from 237.35 to 247.50\n",
      "2\n"
     ]
    },
    {
     "name": "stderr",
     "output_type": "stream",
     "text": [
      "setting the output map dtype to [dtype('float64'), dtype('float64'), dtype('float64')]\n"
     ]
    },
    {
     "name": "stdout",
     "output_type": "stream",
     "text": [
      "You asked 1200 pointings with repeat strategy so I will provide 400 pointings repeated 3 times.\n",
      "Info apcdhcp125.in2p3.fr: Allocating (1190400,9) elements = 163.4765625 MiB in FSRRotation3dMatrix.__init__.\n",
      "Info apcdhcp125.in2p3.fr: Allocating (1190400,9) elements = 163.4765625 MiB in FSRRotation3dMatrix.__init__.\n",
      "Info apcdhcp125.in2p3.fr: Allocating (1190400,9) elements = 163.4765625 MiB in FSRRotation3dMatrix.__init__.\n",
      "Info apcdhcp125.in2p3.fr: Allocating (1190400,9) elements = 163.4765625 MiB in FSRRotation3dMatrix.__init__.\n",
      "Info apcdhcp125.in2p3.fr: Allocating (1190400,9) elements = 163.4765625 MiB in FSRRotation3dMatrix.__init__.\n",
      "Info apcdhcp125.in2p3.fr: Allocating (1190400,9) elements = 163.4765625 MiB in FSRRotation3dMatrix.__init__.\n",
      "Info apcdhcp125.in2p3.fr: Allocating (1190400,9) elements = 163.4765625 MiB in FSRRotation3dMatrix.__init__.\n",
      "Info apcdhcp125.in2p3.fr: Allocating (1190400,9) elements = 163.4765625 MiB in FSRRotation3dMatrix.__init__.\n",
      "Info apcdhcp125.in2p3.fr: Allocating (1190400,9) elements = 163.4765625 MiB in FSRRotation3dMatrix.__init__.\n",
      "Info apcdhcp125.in2p3.fr: Allocating (1190400,9) elements = 163.4765625 MiB in FSRRotation3dMatrix.__init__.\n",
      "Making sum from 192.50 to 197.40\n",
      "Making sum from 197.40 to 202.42\n",
      "Making sum from 202.42 to 207.57\n",
      "Making sum from 207.57 to 212.86\n",
      "Making sum from 212.86 to 218.27\n",
      "Making sum from 218.27 to 223.83\n",
      "Making sum from 223.83 to 229.53\n",
      "Making sum from 229.53 to 235.37\n",
      "Making sum from 235.37 to 241.36\n",
      "Making sum from 241.36 to 247.50\n",
      "3\n"
     ]
    },
    {
     "name": "stderr",
     "output_type": "stream",
     "text": [
      "setting the output map dtype to [dtype('float64'), dtype('float64'), dtype('float64')]\n"
     ]
    },
    {
     "name": "stdout",
     "output_type": "stream",
     "text": [
      "You asked 1200 pointings with repeat strategy so I will provide 400 pointings repeated 3 times.\n",
      "Info apcdhcp125.in2p3.fr: Allocating (1190400,9) elements = 163.4765625 MiB in FSRRotation3dMatrix.__init__.\n",
      "Info apcdhcp125.in2p3.fr: Allocating (1190400,9) elements = 163.4765625 MiB in FSRRotation3dMatrix.__init__.\n",
      "Info apcdhcp125.in2p3.fr: Allocating (1190400,9) elements = 163.4765625 MiB in FSRRotation3dMatrix.__init__.\n",
      "Info apcdhcp125.in2p3.fr: Allocating (1190400,9) elements = 163.4765625 MiB in FSRRotation3dMatrix.__init__.\n",
      "Info apcdhcp125.in2p3.fr: Allocating (1190400,9) elements = 163.4765625 MiB in FSRRotation3dMatrix.__init__.\n",
      "Info apcdhcp125.in2p3.fr: Allocating (1190400,9) elements = 163.4765625 MiB in FSRRotation3dMatrix.__init__.\n",
      "Info apcdhcp125.in2p3.fr: Allocating (1190400,9) elements = 163.4765625 MiB in FSRRotation3dMatrix.__init__.\n",
      "Info apcdhcp125.in2p3.fr: Allocating (1190400,9) elements = 163.4765625 MiB in FSRRotation3dMatrix.__init__.\n",
      "Info apcdhcp125.in2p3.fr: Allocating (1190400,9) elements = 163.4765625 MiB in FSRRotation3dMatrix.__init__.\n",
      "Info apcdhcp125.in2p3.fr: Allocating (1190400,9) elements = 163.4765625 MiB in FSRRotation3dMatrix.__init__.\n",
      "Info apcdhcp125.in2p3.fr: Allocating (1190400,9) elements = 163.4765625 MiB in FSRRotation3dMatrix.__init__.\n",
      "Info apcdhcp125.in2p3.fr: Allocating (1190400,9) elements = 163.4765625 MiB in FSRRotation3dMatrix.__init__.\n",
      "Info apcdhcp125.in2p3.fr: Allocating (1190400,9) elements = 163.4765625 MiB in FSRRotation3dMatrix.__init__.\n",
      "Info apcdhcp125.in2p3.fr: Allocating (1190400,9) elements = 163.4765625 MiB in FSRRotation3dMatrix.__init__.\n",
      "Making sum from 192.50 to 195.99\n",
      "Making sum from 195.99 to 199.54\n",
      "Making sum from 199.54 to 203.15\n",
      "Making sum from 203.15 to 206.83\n",
      "Making sum from 206.83 to 210.58\n",
      "Making sum from 210.58 to 214.39\n",
      "Making sum from 214.39 to 218.27\n",
      "Making sum from 218.27 to 222.23\n",
      "Making sum from 222.23 to 226.25\n",
      "Making sum from 226.25 to 230.35\n",
      "Making sum from 230.35 to 234.52\n",
      "Making sum from 234.52 to 238.77\n",
      "Making sum from 238.77 to 243.10\n",
      "Making sum from 243.10 to 247.50\n",
      "4\n"
     ]
    },
    {
     "name": "stderr",
     "output_type": "stream",
     "text": [
      "setting the output map dtype to [dtype('float64'), dtype('float64'), dtype('float64')]\n"
     ]
    },
    {
     "name": "stdout",
     "output_type": "stream",
     "text": [
      "You asked 1200 pointings with repeat strategy so I will provide 400 pointings repeated 3 times.\n",
      "Info apcdhcp125.in2p3.fr: Allocating (1190400,9) elements = 163.4765625 MiB in FSRRotation3dMatrix.__init__.\n",
      "Info apcdhcp125.in2p3.fr: Allocating (1190400,9) elements = 163.4765625 MiB in FSRRotation3dMatrix.__init__.\n",
      "Info apcdhcp125.in2p3.fr: Allocating (1190400,9) elements = 163.4765625 MiB in FSRRotation3dMatrix.__init__.\n",
      "Info apcdhcp125.in2p3.fr: Allocating (1190400,9) elements = 163.4765625 MiB in FSRRotation3dMatrix.__init__.\n",
      "Info apcdhcp125.in2p3.fr: Allocating (1190400,9) elements = 163.4765625 MiB in FSRRotation3dMatrix.__init__.\n",
      "Info apcdhcp125.in2p3.fr: Allocating (1190400,9) elements = 163.4765625 MiB in FSRRotation3dMatrix.__init__.\n",
      "Info apcdhcp125.in2p3.fr: Allocating (1190400,9) elements = 163.4765625 MiB in FSRRotation3dMatrix.__init__.\n",
      "Info apcdhcp125.in2p3.fr: Allocating (1190400,9) elements = 163.4765625 MiB in FSRRotation3dMatrix.__init__.\n",
      "Info apcdhcp125.in2p3.fr: Allocating (1190400,9) elements = 163.4765625 MiB in FSRRotation3dMatrix.__init__.\n",
      "Info apcdhcp125.in2p3.fr: Allocating (1190400,9) elements = 163.4765625 MiB in FSRRotation3dMatrix.__init__.\n",
      "Info apcdhcp125.in2p3.fr: Allocating (1190400,9) elements = 163.4765625 MiB in FSRRotation3dMatrix.__init__.\n",
      "Info apcdhcp125.in2p3.fr: Allocating (1190400,9) elements = 163.4765625 MiB in FSRRotation3dMatrix.__init__.\n",
      "Info apcdhcp125.in2p3.fr: Allocating (1190400,9) elements = 163.4765625 MiB in FSRRotation3dMatrix.__init__.\n",
      "Info apcdhcp125.in2p3.fr: Allocating (1190400,9) elements = 163.4765625 MiB in FSRRotation3dMatrix.__init__.\n",
      "Info apcdhcp125.in2p3.fr: Allocating (1190400,9) elements = 163.4765625 MiB in FSRRotation3dMatrix.__init__.\n",
      "Info apcdhcp125.in2p3.fr: Allocating (1190400,9) elements = 163.4765625 MiB in FSRRotation3dMatrix.__init__.\n",
      "Info apcdhcp125.in2p3.fr: Allocating (1190400,9) elements = 163.4765625 MiB in FSRRotation3dMatrix.__init__.\n",
      "Info apcdhcp125.in2p3.fr: Allocating (1190400,9) elements = 163.4765625 MiB in FSRRotation3dMatrix.__init__.\n",
      "Making sum from 192.50 to 195.21\n",
      "Making sum from 195.21 to 197.95\n",
      "Making sum from 197.95 to 200.73\n",
      "Making sum from 200.73 to 203.56\n",
      "Making sum from 203.56 to 206.42\n",
      "Making sum from 206.42 to 209.32\n",
      "Making sum from 209.32 to 212.26\n",
      "Making sum from 212.26 to 215.25\n",
      "Making sum from 215.25 to 218.27\n",
      "Making sum from 218.27 to 221.34\n",
      "Making sum from 221.34 to 224.46\n",
      "Making sum from 224.46 to 227.61\n",
      "Making sum from 227.61 to 230.81\n",
      "Making sum from 230.81 to 234.06\n",
      "Making sum from 234.06 to 237.35\n",
      "Making sum from 237.35 to 240.68\n",
      "Making sum from 240.68 to 244.07\n",
      "Making sum from 244.07 to 247.50\n",
      "5\n"
     ]
    },
    {
     "name": "stderr",
     "output_type": "stream",
     "text": [
      "setting the output map dtype to [dtype('float64'), dtype('float64'), dtype('float64')]\n"
     ]
    },
    {
     "name": "stdout",
     "output_type": "stream",
     "text": [
      "You asked 1200 pointings with repeat strategy so I will provide 400 pointings repeated 3 times.\n",
      "Info apcdhcp125.in2p3.fr: Allocating (1190400,9) elements = 163.4765625 MiB in FSRRotation3dMatrix.__init__.\n",
      "Info apcdhcp125.in2p3.fr: Allocating (1190400,9) elements = 163.4765625 MiB in FSRRotation3dMatrix.__init__.\n",
      "Info apcdhcp125.in2p3.fr: Allocating (1190400,9) elements = 163.4765625 MiB in FSRRotation3dMatrix.__init__.\n",
      "Info apcdhcp125.in2p3.fr: Allocating (1190400,9) elements = 163.4765625 MiB in FSRRotation3dMatrix.__init__.\n",
      "Info apcdhcp125.in2p3.fr: Allocating (1190400,9) elements = 163.4765625 MiB in FSRRotation3dMatrix.__init__.\n",
      "Info apcdhcp125.in2p3.fr: Allocating (1190400,9) elements = 163.4765625 MiB in FSRRotation3dMatrix.__init__.\n",
      "Info apcdhcp125.in2p3.fr: Allocating (1190400,9) elements = 163.4765625 MiB in FSRRotation3dMatrix.__init__.\n",
      "Info apcdhcp125.in2p3.fr: Allocating (1190400,9) elements = 163.4765625 MiB in FSRRotation3dMatrix.__init__.\n",
      "Info apcdhcp125.in2p3.fr: Allocating (1190400,9) elements = 163.4765625 MiB in FSRRotation3dMatrix.__init__.\n",
      "Info apcdhcp125.in2p3.fr: Allocating (1190400,9) elements = 163.4765625 MiB in FSRRotation3dMatrix.__init__.\n",
      "Info apcdhcp125.in2p3.fr: Allocating (1190400,9) elements = 163.4765625 MiB in FSRRotation3dMatrix.__init__.\n",
      "Info apcdhcp125.in2p3.fr: Allocating (1190400,9) elements = 163.4765625 MiB in FSRRotation3dMatrix.__init__.\n",
      "Info apcdhcp125.in2p3.fr: Allocating (1190400,9) elements = 163.4765625 MiB in FSRRotation3dMatrix.__init__.\n",
      "Info apcdhcp125.in2p3.fr: Allocating (1190400,9) elements = 163.4765625 MiB in FSRRotation3dMatrix.__init__.\n",
      "Info apcdhcp125.in2p3.fr: Allocating (1190400,9) elements = 163.4765625 MiB in FSRRotation3dMatrix.__init__.\n",
      "Info apcdhcp125.in2p3.fr: Allocating (1190400,9) elements = 163.4765625 MiB in FSRRotation3dMatrix.__init__.\n",
      "Info apcdhcp125.in2p3.fr: Allocating (1190400,9) elements = 163.4765625 MiB in FSRRotation3dMatrix.__init__.\n",
      "Info apcdhcp125.in2p3.fr: Allocating (1190400,9) elements = 163.4765625 MiB in FSRRotation3dMatrix.__init__.\n",
      "Info apcdhcp125.in2p3.fr: Allocating (1190400,9) elements = 163.4765625 MiB in FSRRotation3dMatrix.__init__.\n",
      "Info apcdhcp125.in2p3.fr: Allocating (1190400,9) elements = 163.4765625 MiB in FSRRotation3dMatrix.__init__.\n",
      "Info apcdhcp125.in2p3.fr: Allocating (1190400,9) elements = 163.4765625 MiB in FSRRotation3dMatrix.__init__.\n",
      "Info apcdhcp125.in2p3.fr: Allocating (1190400,9) elements = 163.4765625 MiB in FSRRotation3dMatrix.__init__.\n",
      "Making sum from 192.50 to 194.71\n",
      "Making sum from 194.71 to 196.95\n",
      "Making sum from 196.95 to 199.21\n",
      "Making sum from 199.21 to 201.50\n",
      "Making sum from 201.50 to 203.82\n",
      "Making sum from 203.82 to 206.16\n",
      "Making sum from 206.16 to 208.53\n",
      "Making sum from 208.53 to 210.92\n",
      "Making sum from 210.92 to 213.34\n",
      "Making sum from 213.34 to 215.80\n",
      "Making sum from 215.80 to 218.27\n",
      "Making sum from 218.27 to 220.78\n",
      "Making sum from 220.78 to 223.32\n",
      "Making sum from 223.32 to 225.88\n",
      "Making sum from 225.88 to 228.48\n",
      "Making sum from 228.48 to 231.10\n",
      "Making sum from 231.10 to 233.76\n",
      "Making sum from 233.76 to 236.45\n",
      "Making sum from 236.45 to 239.16\n",
      "Making sum from 239.16 to 241.91\n",
      "Making sum from 241.91 to 244.69\n",
      "Making sum from 244.69 to 247.50\n",
      "6\n"
     ]
    },
    {
     "name": "stderr",
     "output_type": "stream",
     "text": [
      "setting the output map dtype to [dtype('float64'), dtype('float64'), dtype('float64')]\n"
     ]
    },
    {
     "name": "stdout",
     "output_type": "stream",
     "text": [
      "You asked 1200 pointings with repeat strategy so I will provide 400 pointings repeated 3 times.\n",
      "Info apcdhcp125.in2p3.fr: Allocating (1190400,9) elements = 163.4765625 MiB in FSRRotation3dMatrix.__init__.\n",
      "Info apcdhcp125.in2p3.fr: Allocating (1190400,9) elements = 163.4765625 MiB in FSRRotation3dMatrix.__init__.\n",
      "Info apcdhcp125.in2p3.fr: Allocating (1190400,9) elements = 163.4765625 MiB in FSRRotation3dMatrix.__init__.\n",
      "Info apcdhcp125.in2p3.fr: Allocating (1190400,9) elements = 163.4765625 MiB in FSRRotation3dMatrix.__init__.\n",
      "Info apcdhcp125.in2p3.fr: Allocating (1190400,9) elements = 163.4765625 MiB in FSRRotation3dMatrix.__init__.\n",
      "Info apcdhcp125.in2p3.fr: Allocating (1190400,9) elements = 163.4765625 MiB in FSRRotation3dMatrix.__init__.\n",
      "Info apcdhcp125.in2p3.fr: Allocating (1190400,9) elements = 163.4765625 MiB in FSRRotation3dMatrix.__init__.\n",
      "Info apcdhcp125.in2p3.fr: Allocating (1190400,9) elements = 163.4765625 MiB in FSRRotation3dMatrix.__init__.\n",
      "Info apcdhcp125.in2p3.fr: Allocating (1190400,9) elements = 163.4765625 MiB in FSRRotation3dMatrix.__init__.\n",
      "Info apcdhcp125.in2p3.fr: Allocating (1190400,9) elements = 163.4765625 MiB in FSRRotation3dMatrix.__init__.\n",
      "Info apcdhcp125.in2p3.fr: Allocating (1190400,9) elements = 163.4765625 MiB in FSRRotation3dMatrix.__init__.\n",
      "Info apcdhcp125.in2p3.fr: Allocating (1190400,9) elements = 163.4765625 MiB in FSRRotation3dMatrix.__init__.\n",
      "Info apcdhcp125.in2p3.fr: Allocating (1190400,9) elements = 163.4765625 MiB in FSRRotation3dMatrix.__init__.\n",
      "Info apcdhcp125.in2p3.fr: Allocating (1190400,9) elements = 163.4765625 MiB in FSRRotation3dMatrix.__init__.\n",
      "Info apcdhcp125.in2p3.fr: Allocating (1190400,9) elements = 163.4765625 MiB in FSRRotation3dMatrix.__init__.\n",
      "Info apcdhcp125.in2p3.fr: Allocating (1190400,9) elements = 163.4765625 MiB in FSRRotation3dMatrix.__init__.\n",
      "Info apcdhcp125.in2p3.fr: Allocating (1190400,9) elements = 163.4765625 MiB in FSRRotation3dMatrix.__init__.\n",
      "Info apcdhcp125.in2p3.fr: Allocating (1190400,9) elements = 163.4765625 MiB in FSRRotation3dMatrix.__init__.\n",
      "Info apcdhcp125.in2p3.fr: Allocating (1190400,9) elements = 163.4765625 MiB in FSRRotation3dMatrix.__init__.\n",
      "Info apcdhcp125.in2p3.fr: Allocating (1190400,9) elements = 163.4765625 MiB in FSRRotation3dMatrix.__init__.\n",
      "Info apcdhcp125.in2p3.fr: Allocating (1190400,9) elements = 163.4765625 MiB in FSRRotation3dMatrix.__init__.\n",
      "Info apcdhcp125.in2p3.fr: Allocating (1190400,9) elements = 163.4765625 MiB in FSRRotation3dMatrix.__init__.\n",
      "Info apcdhcp125.in2p3.fr: Allocating (1190400,9) elements = 163.4765625 MiB in FSRRotation3dMatrix.__init__.\n",
      "Info apcdhcp125.in2p3.fr: Allocating (1190400,9) elements = 163.4765625 MiB in FSRRotation3dMatrix.__init__.\n",
      "Info apcdhcp125.in2p3.fr: Allocating (1190400,9) elements = 163.4765625 MiB in FSRRotation3dMatrix.__init__.\n",
      "Info apcdhcp125.in2p3.fr: Allocating (1190400,9) elements = 163.4765625 MiB in FSRRotation3dMatrix.__init__.\n",
      "Making sum from 192.50 to 194.37\n",
      "Making sum from 194.37 to 196.26\n",
      "Making sum from 196.26 to 198.16\n",
      "Making sum from 198.16 to 200.09\n",
      "Making sum from 200.09 to 202.03\n",
      "Making sum from 202.03 to 203.99\n",
      "Making sum from 203.99 to 205.98\n",
      "Making sum from 205.98 to 207.98\n",
      "Making sum from 207.98 to 210.00\n",
      "Making sum from 210.00 to 212.04\n",
      "Making sum from 212.04 to 214.10\n",
      "Making sum from 214.10 to 216.17\n",
      "Making sum from 216.17 to 218.27\n",
      "Making sum from 218.27 to 220.39\n",
      "Making sum from 220.39 to 222.54\n",
      "Making sum from 222.54 to 224.70\n",
      "Making sum from 224.70 to 226.88\n",
      "Making sum from 226.88 to 229.08\n",
      "Making sum from 229.08 to 231.31\n",
      "Making sum from 231.31 to 233.55\n",
      "Making sum from 233.55 to 235.82\n",
      "Making sum from 235.82 to 238.11\n",
      "Making sum from 238.11 to 240.43\n",
      "Making sum from 240.43 to 242.76\n",
      "Making sum from 242.76 to 245.12\n",
      "Making sum from 245.12 to 247.50\n",
      "7\n"
     ]
    },
    {
     "name": "stderr",
     "output_type": "stream",
     "text": [
      "setting the output map dtype to [dtype('float64'), dtype('float64'), dtype('float64')]\n"
     ]
    },
    {
     "name": "stdout",
     "output_type": "stream",
     "text": [
      "You asked 1200 pointings with repeat strategy so I will provide 400 pointings repeated 3 times.\n",
      "Info apcdhcp125.in2p3.fr: Allocating (1190400,9) elements = 163.4765625 MiB in FSRRotation3dMatrix.__init__.\n",
      "Info apcdhcp125.in2p3.fr: Allocating (1190400,9) elements = 163.4765625 MiB in FSRRotation3dMatrix.__init__.\n",
      "Info apcdhcp125.in2p3.fr: Allocating (1190400,9) elements = 163.4765625 MiB in FSRRotation3dMatrix.__init__.\n",
      "Info apcdhcp125.in2p3.fr: Allocating (1190400,9) elements = 163.4765625 MiB in FSRRotation3dMatrix.__init__.\n",
      "Info apcdhcp125.in2p3.fr: Allocating (1190400,9) elements = 163.4765625 MiB in FSRRotation3dMatrix.__init__.\n",
      "Info apcdhcp125.in2p3.fr: Allocating (1190400,9) elements = 163.4765625 MiB in FSRRotation3dMatrix.__init__.\n",
      "Info apcdhcp125.in2p3.fr: Allocating (1190400,9) elements = 163.4765625 MiB in FSRRotation3dMatrix.__init__.\n",
      "Info apcdhcp125.in2p3.fr: Allocating (1190400,9) elements = 163.4765625 MiB in FSRRotation3dMatrix.__init__.\n",
      "Info apcdhcp125.in2p3.fr: Allocating (1190400,9) elements = 163.4765625 MiB in FSRRotation3dMatrix.__init__.\n",
      "Info apcdhcp125.in2p3.fr: Allocating (1190400,9) elements = 163.4765625 MiB in FSRRotation3dMatrix.__init__.\n",
      "Info apcdhcp125.in2p3.fr: Allocating (1190400,9) elements = 163.4765625 MiB in FSRRotation3dMatrix.__init__.\n",
      "Info apcdhcp125.in2p3.fr: Allocating (1190400,9) elements = 163.4765625 MiB in FSRRotation3dMatrix.__init__.\n",
      "Info apcdhcp125.in2p3.fr: Allocating (1190400,9) elements = 163.4765625 MiB in FSRRotation3dMatrix.__init__.\n",
      "Info apcdhcp125.in2p3.fr: Allocating (1190400,9) elements = 163.4765625 MiB in FSRRotation3dMatrix.__init__.\n",
      "Info apcdhcp125.in2p3.fr: Allocating (1190400,9) elements = 163.4765625 MiB in FSRRotation3dMatrix.__init__.\n",
      "Info apcdhcp125.in2p3.fr: Allocating (1190400,9) elements = 163.4765625 MiB in FSRRotation3dMatrix.__init__.\n",
      "Info apcdhcp125.in2p3.fr: Allocating (1190400,9) elements = 163.4765625 MiB in FSRRotation3dMatrix.__init__.\n",
      "Info apcdhcp125.in2p3.fr: Allocating (1190400,9) elements = 163.4765625 MiB in FSRRotation3dMatrix.__init__.\n",
      "Info apcdhcp125.in2p3.fr: Allocating (1190400,9) elements = 163.4765625 MiB in FSRRotation3dMatrix.__init__.\n",
      "Info apcdhcp125.in2p3.fr: Allocating (1190400,9) elements = 163.4765625 MiB in FSRRotation3dMatrix.__init__.\n",
      "Info apcdhcp125.in2p3.fr: Allocating (1190400,9) elements = 163.4765625 MiB in FSRRotation3dMatrix.__init__.\n",
      "Info apcdhcp125.in2p3.fr: Allocating (1190400,9) elements = 163.4765625 MiB in FSRRotation3dMatrix.__init__.\n",
      "Info apcdhcp125.in2p3.fr: Allocating (1190400,9) elements = 163.4765625 MiB in FSRRotation3dMatrix.__init__.\n",
      "Info apcdhcp125.in2p3.fr: Allocating (1190400,9) elements = 163.4765625 MiB in FSRRotation3dMatrix.__init__.\n",
      "Info apcdhcp125.in2p3.fr: Allocating (1190400,9) elements = 163.4765625 MiB in FSRRotation3dMatrix.__init__.\n",
      "Info apcdhcp125.in2p3.fr: Allocating (1190400,9) elements = 163.4765625 MiB in FSRRotation3dMatrix.__init__.\n",
      "Info apcdhcp125.in2p3.fr: Allocating (1190400,9) elements = 163.4765625 MiB in FSRRotation3dMatrix.__init__.\n",
      "Info apcdhcp125.in2p3.fr: Allocating (1190400,9) elements = 163.4765625 MiB in FSRRotation3dMatrix.__init__.\n",
      "Info apcdhcp125.in2p3.fr: Allocating (1190400,9) elements = 163.4765625 MiB in FSRRotation3dMatrix.__init__.\n",
      "Info apcdhcp125.in2p3.fr: Allocating (1190400,9) elements = 163.4765625 MiB in FSRRotation3dMatrix.__init__.\n",
      "Making sum from 192.50 to 194.12\n",
      "Making sum from 194.12 to 195.75\n",
      "Making sum from 195.75 to 197.40\n",
      "Making sum from 197.40 to 199.06\n",
      "Making sum from 199.06 to 200.73\n",
      "Making sum from 200.73 to 202.42\n",
      "Making sum from 202.42 to 204.13\n",
      "Making sum from 204.13 to 205.84\n",
      "Making sum from 205.84 to 207.57\n",
      "Making sum from 207.57 to 209.32\n",
      "Making sum from 209.32 to 211.08\n",
      "Making sum from 211.08 to 212.86\n",
      "Making sum from 212.86 to 214.65\n",
      "Making sum from 214.65 to 216.45\n",
      "Making sum from 216.45 to 218.27\n",
      "Making sum from 218.27 to 220.11\n",
      "Making sum from 220.11 to 221.96\n",
      "Making sum from 221.96 to 223.83\n",
      "Making sum from 223.83 to 225.71\n",
      "Making sum from 225.71 to 227.61\n",
      "Making sum from 227.61 to 229.53\n",
      "Making sum from 229.53 to 231.46\n",
      "Making sum from 231.46 to 233.40\n",
      "Making sum from 233.40 to 235.37\n",
      "Making sum from 235.37 to 237.35\n",
      "Making sum from 237.35 to 239.34\n",
      "Making sum from 239.34 to 241.36\n",
      "Making sum from 241.36 to 243.39\n",
      "Making sum from 243.39 to 245.44\n",
      "Making sum from 245.44 to 247.50\n",
      "8\n"
     ]
    },
    {
     "name": "stderr",
     "output_type": "stream",
     "text": [
      "setting the output map dtype to [dtype('float64'), dtype('float64'), dtype('float64')]\n"
     ]
    },
    {
     "name": "stdout",
     "output_type": "stream",
     "text": [
      "You asked 1200 pointings with repeat strategy so I will provide 400 pointings repeated 3 times.\n",
      "Info apcdhcp125.in2p3.fr: Allocating (1190400,9) elements = 163.4765625 MiB in FSRRotation3dMatrix.__init__.\n",
      "Info apcdhcp125.in2p3.fr: Allocating (1190400,9) elements = 163.4765625 MiB in FSRRotation3dMatrix.__init__.\n",
      "Info apcdhcp125.in2p3.fr: Allocating (1190400,9) elements = 163.4765625 MiB in FSRRotation3dMatrix.__init__.\n",
      "Info apcdhcp125.in2p3.fr: Allocating (1190400,9) elements = 163.4765625 MiB in FSRRotation3dMatrix.__init__.\n",
      "Info apcdhcp125.in2p3.fr: Allocating (1190400,9) elements = 163.4765625 MiB in FSRRotation3dMatrix.__init__.\n",
      "Info apcdhcp125.in2p3.fr: Allocating (1190400,9) elements = 163.4765625 MiB in FSRRotation3dMatrix.__init__.\n",
      "Info apcdhcp125.in2p3.fr: Allocating (1190400,9) elements = 163.4765625 MiB in FSRRotation3dMatrix.__init__.\n",
      "Info apcdhcp125.in2p3.fr: Allocating (1190400,9) elements = 163.4765625 MiB in FSRRotation3dMatrix.__init__.\n",
      "Info apcdhcp125.in2p3.fr: Allocating (1190400,9) elements = 163.4765625 MiB in FSRRotation3dMatrix.__init__.\n",
      "Info apcdhcp125.in2p3.fr: Allocating (1190400,9) elements = 163.4765625 MiB in FSRRotation3dMatrix.__init__.\n",
      "Info apcdhcp125.in2p3.fr: Allocating (1190400,9) elements = 163.4765625 MiB in FSRRotation3dMatrix.__init__.\n",
      "Info apcdhcp125.in2p3.fr: Allocating (1190400,9) elements = 163.4765625 MiB in FSRRotation3dMatrix.__init__.\n",
      "Info apcdhcp125.in2p3.fr: Allocating (1190400,9) elements = 163.4765625 MiB in FSRRotation3dMatrix.__init__.\n",
      "Info apcdhcp125.in2p3.fr: Allocating (1190400,9) elements = 163.4765625 MiB in FSRRotation3dMatrix.__init__.\n",
      "Info apcdhcp125.in2p3.fr: Allocating (1190400,9) elements = 163.4765625 MiB in FSRRotation3dMatrix.__init__.\n",
      "Info apcdhcp125.in2p3.fr: Allocating (1190400,9) elements = 163.4765625 MiB in FSRRotation3dMatrix.__init__.\n",
      "Info apcdhcp125.in2p3.fr: Allocating (1190400,9) elements = 163.4765625 MiB in FSRRotation3dMatrix.__init__.\n",
      "Info apcdhcp125.in2p3.fr: Allocating (1190400,9) elements = 163.4765625 MiB in FSRRotation3dMatrix.__init__.\n",
      "Info apcdhcp125.in2p3.fr: Allocating (1190400,9) elements = 163.4765625 MiB in FSRRotation3dMatrix.__init__.\n",
      "Info apcdhcp125.in2p3.fr: Allocating (1190400,9) elements = 163.4765625 MiB in FSRRotation3dMatrix.__init__.\n",
      "Info apcdhcp125.in2p3.fr: Allocating (1190400,9) elements = 163.4765625 MiB in FSRRotation3dMatrix.__init__.\n",
      "Info apcdhcp125.in2p3.fr: Allocating (1190400,9) elements = 163.4765625 MiB in FSRRotation3dMatrix.__init__.\n",
      "Info apcdhcp125.in2p3.fr: Allocating (1190400,9) elements = 163.4765625 MiB in FSRRotation3dMatrix.__init__.\n",
      "Info apcdhcp125.in2p3.fr: Allocating (1190400,9) elements = 163.4765625 MiB in FSRRotation3dMatrix.__init__.\n",
      "Info apcdhcp125.in2p3.fr: Allocating (1190400,9) elements = 163.4765625 MiB in FSRRotation3dMatrix.__init__.\n",
      "Info apcdhcp125.in2p3.fr: Allocating (1190400,9) elements = 163.4765625 MiB in FSRRotation3dMatrix.__init__.\n",
      "Info apcdhcp125.in2p3.fr: Allocating (1190400,9) elements = 163.4765625 MiB in FSRRotation3dMatrix.__init__.\n",
      "Info apcdhcp125.in2p3.fr: Allocating (1190400,9) elements = 163.4765625 MiB in FSRRotation3dMatrix.__init__.\n",
      "Info apcdhcp125.in2p3.fr: Allocating (1190400,9) elements = 163.4765625 MiB in FSRRotation3dMatrix.__init__.\n",
      "Info apcdhcp125.in2p3.fr: Allocating (1190400,9) elements = 163.4765625 MiB in FSRRotation3dMatrix.__init__.\n",
      "Info apcdhcp125.in2p3.fr: Allocating (1190400,9) elements = 163.4765625 MiB in FSRRotation3dMatrix.__init__.\n",
      "Info apcdhcp125.in2p3.fr: Allocating (1190400,9) elements = 163.4765625 MiB in FSRRotation3dMatrix.__init__.\n",
      "Info apcdhcp125.in2p3.fr: Allocating (1190400,9) elements = 163.4765625 MiB in FSRRotation3dMatrix.__init__.\n",
      "Info apcdhcp125.in2p3.fr: Allocating (1190400,9) elements = 163.4765625 MiB in FSRRotation3dMatrix.__init__.\n",
      "Making sum from 192.50 to 193.93\n",
      "Making sum from 193.93 to 195.37\n",
      "Making sum from 195.37 to 196.82\n",
      "Making sum from 196.82 to 198.28\n",
      "Making sum from 198.28 to 199.75\n",
      "Making sum from 199.75 to 201.23\n",
      "Making sum from 201.23 to 202.72\n",
      "Making sum from 202.72 to 204.23\n",
      "Making sum from 204.23 to 205.74\n",
      "Making sum from 205.74 to 207.27\n",
      "Making sum from 207.27 to 208.81\n",
      "Making sum from 208.81 to 210.35\n",
      "Making sum from 210.35 to 211.92\n",
      "Making sum from 211.92 to 213.49\n",
      "Making sum from 213.49 to 215.07\n",
      "Making sum from 215.07 to 216.67\n",
      "Making sum from 216.67 to 218.27\n",
      "Making sum from 218.27 to 219.89\n",
      "Making sum from 219.89 to 221.53\n",
      "Making sum from 221.53 to 223.17\n",
      "Making sum from 223.17 to 224.82\n",
      "Making sum from 224.82 to 226.49\n",
      "Making sum from 226.49 to 228.17\n",
      "Making sum from 228.17 to 229.87\n",
      "Making sum from 229.87 to 231.57\n",
      "Making sum from 231.57 to 233.29\n",
      "Making sum from 233.29 to 235.02\n",
      "Making sum from 235.02 to 236.76\n",
      "Making sum from 236.76 to 238.52\n",
      "Making sum from 238.52 to 240.29\n",
      "Making sum from 240.29 to 242.07\n",
      "Making sum from 242.07 to 243.87\n",
      "Making sum from 243.87 to 245.68\n",
      "Making sum from 245.68 to 247.50\n",
      "9\n"
     ]
    },
    {
     "name": "stderr",
     "output_type": "stream",
     "text": [
      "setting the output map dtype to [dtype('float64'), dtype('float64'), dtype('float64')]\n"
     ]
    },
    {
     "name": "stdout",
     "output_type": "stream",
     "text": [
      "You asked 1200 pointings with repeat strategy so I will provide 400 pointings repeated 3 times.\n",
      "Info apcdhcp125.in2p3.fr: Allocating (1190400,9) elements = 163.4765625 MiB in FSRRotation3dMatrix.__init__.\n",
      "Info apcdhcp125.in2p3.fr: Allocating (1190400,9) elements = 163.4765625 MiB in FSRRotation3dMatrix.__init__.\n",
      "Info apcdhcp125.in2p3.fr: Allocating (1190400,9) elements = 163.4765625 MiB in FSRRotation3dMatrix.__init__.\n",
      "Info apcdhcp125.in2p3.fr: Allocating (1190400,9) elements = 163.4765625 MiB in FSRRotation3dMatrix.__init__.\n",
      "Info apcdhcp125.in2p3.fr: Allocating (1190400,9) elements = 163.4765625 MiB in FSRRotation3dMatrix.__init__.\n",
      "Info apcdhcp125.in2p3.fr: Allocating (1190400,9) elements = 163.4765625 MiB in FSRRotation3dMatrix.__init__.\n",
      "Info apcdhcp125.in2p3.fr: Allocating (1190400,9) elements = 163.4765625 MiB in FSRRotation3dMatrix.__init__.\n",
      "Info apcdhcp125.in2p3.fr: Allocating (1190400,9) elements = 163.4765625 MiB in FSRRotation3dMatrix.__init__.\n",
      "Info apcdhcp125.in2p3.fr: Allocating (1190400,9) elements = 163.4765625 MiB in FSRRotation3dMatrix.__init__.\n",
      "Info apcdhcp125.in2p3.fr: Allocating (1190400,9) elements = 163.4765625 MiB in FSRRotation3dMatrix.__init__.\n",
      "Info apcdhcp125.in2p3.fr: Allocating (1190400,9) elements = 163.4765625 MiB in FSRRotation3dMatrix.__init__.\n",
      "Info apcdhcp125.in2p3.fr: Allocating (1190400,9) elements = 163.4765625 MiB in FSRRotation3dMatrix.__init__.\n",
      "Info apcdhcp125.in2p3.fr: Allocating (1190400,9) elements = 163.4765625 MiB in FSRRotation3dMatrix.__init__.\n",
      "Info apcdhcp125.in2p3.fr: Allocating (1190400,9) elements = 163.4765625 MiB in FSRRotation3dMatrix.__init__.\n",
      "Info apcdhcp125.in2p3.fr: Allocating (1190400,9) elements = 163.4765625 MiB in FSRRotation3dMatrix.__init__.\n",
      "Info apcdhcp125.in2p3.fr: Allocating (1190400,9) elements = 163.4765625 MiB in FSRRotation3dMatrix.__init__.\n",
      "Info apcdhcp125.in2p3.fr: Allocating (1190400,9) elements = 163.4765625 MiB in FSRRotation3dMatrix.__init__.\n",
      "Info apcdhcp125.in2p3.fr: Allocating (1190400,9) elements = 163.4765625 MiB in FSRRotation3dMatrix.__init__.\n",
      "Info apcdhcp125.in2p3.fr: Allocating (1190400,9) elements = 163.4765625 MiB in FSRRotation3dMatrix.__init__.\n",
      "Info apcdhcp125.in2p3.fr: Allocating (1190400,9) elements = 163.4765625 MiB in FSRRotation3dMatrix.__init__.\n",
      "Info apcdhcp125.in2p3.fr: Allocating (1190400,9) elements = 163.4765625 MiB in FSRRotation3dMatrix.__init__.\n",
      "Info apcdhcp125.in2p3.fr: Allocating (1190400,9) elements = 163.4765625 MiB in FSRRotation3dMatrix.__init__.\n",
      "Info apcdhcp125.in2p3.fr: Allocating (1190400,9) elements = 163.4765625 MiB in FSRRotation3dMatrix.__init__.\n",
      "Info apcdhcp125.in2p3.fr: Allocating (1190400,9) elements = 163.4765625 MiB in FSRRotation3dMatrix.__init__.\n",
      "Info apcdhcp125.in2p3.fr: Allocating (1190400,9) elements = 163.4765625 MiB in FSRRotation3dMatrix.__init__.\n",
      "Info apcdhcp125.in2p3.fr: Allocating (1190400,9) elements = 163.4765625 MiB in FSRRotation3dMatrix.__init__.\n",
      "Info apcdhcp125.in2p3.fr: Allocating (1190400,9) elements = 163.4765625 MiB in FSRRotation3dMatrix.__init__.\n",
      "Info apcdhcp125.in2p3.fr: Allocating (1190400,9) elements = 163.4765625 MiB in FSRRotation3dMatrix.__init__.\n",
      "Info apcdhcp125.in2p3.fr: Allocating (1190400,9) elements = 163.4765625 MiB in FSRRotation3dMatrix.__init__.\n",
      "Info apcdhcp125.in2p3.fr: Allocating (1190400,9) elements = 163.4765625 MiB in FSRRotation3dMatrix.__init__.\n",
      "Info apcdhcp125.in2p3.fr: Allocating (1190400,9) elements = 163.4765625 MiB in FSRRotation3dMatrix.__init__.\n",
      "Info apcdhcp125.in2p3.fr: Allocating (1190400,9) elements = 163.4765625 MiB in FSRRotation3dMatrix.__init__.\n",
      "Info apcdhcp125.in2p3.fr: Allocating (1190400,9) elements = 163.4765625 MiB in FSRRotation3dMatrix.__init__.\n",
      "Info apcdhcp125.in2p3.fr: Allocating (1190400,9) elements = 163.4765625 MiB in FSRRotation3dMatrix.__init__.\n",
      "Info apcdhcp125.in2p3.fr: Allocating (1190400,9) elements = 163.4765625 MiB in FSRRotation3dMatrix.__init__.\n",
      "Info apcdhcp125.in2p3.fr: Allocating (1190400,9) elements = 163.4765625 MiB in FSRRotation3dMatrix.__init__.\n",
      "Info apcdhcp125.in2p3.fr: Allocating (1190400,9) elements = 163.4765625 MiB in FSRRotation3dMatrix.__init__.\n",
      "Info apcdhcp125.in2p3.fr: Allocating (1190400,9) elements = 163.4765625 MiB in FSRRotation3dMatrix.__init__.\n",
      "Making sum from 192.50 to 193.78\n",
      "Making sum from 193.78 to 195.06\n",
      "Making sum from 195.06 to 196.36\n",
      "Making sum from 196.36 to 197.66\n",
      "Making sum from 197.66 to 198.97\n",
      "Making sum from 198.97 to 200.29\n",
      "Making sum from 200.29 to 201.62\n",
      "Making sum from 201.62 to 202.96\n",
      "Making sum from 202.96 to 204.31\n",
      "Making sum from 204.31 to 205.66\n",
      "Making sum from 205.66 to 207.03\n",
      "Making sum from 207.03 to 208.40\n",
      "Making sum from 208.40 to 209.78\n",
      "Making sum from 209.78 to 211.17\n",
      "Making sum from 211.17 to 212.58\n",
      "Making sum from 212.58 to 213.99\n",
      "Making sum from 213.99 to 215.41\n",
      "Making sum from 215.41 to 216.84\n",
      "Making sum from 216.84 to 218.27\n",
      "Making sum from 218.27 to 219.72\n",
      "Making sum from 219.72 to 221.18\n",
      "Making sum from 221.18 to 222.65\n",
      "Making sum from 222.65 to 224.13\n",
      "Making sum from 224.13 to 225.61\n",
      "Making sum from 225.61 to 227.11\n",
      "Making sum from 227.11 to 228.62\n",
      "Making sum from 228.62 to 230.13\n",
      "Making sum from 230.13 to 231.66\n",
      "Making sum from 231.66 to 233.20\n",
      "Making sum from 233.20 to 234.75\n",
      "Making sum from 234.75 to 236.30\n",
      "Making sum from 236.30 to 237.87\n",
      "Making sum from 237.87 to 239.45\n",
      "Making sum from 239.45 to 241.04\n",
      "Making sum from 241.04 to 242.64\n",
      "Making sum from 242.64 to 244.25\n",
      "Making sum from 244.25 to 245.87\n",
      "Making sum from 245.87 to 247.50\n",
      "10\n"
     ]
    },
    {
     "name": "stderr",
     "output_type": "stream",
     "text": [
      "setting the output map dtype to [dtype('float64'), dtype('float64'), dtype('float64')]\n"
     ]
    },
    {
     "name": "stdout",
     "output_type": "stream",
     "text": [
      "You asked 1200 pointings with repeat strategy so I will provide 400 pointings repeated 3 times.\n",
      "Info apcdhcp125.in2p3.fr: Allocating (1190400,9) elements = 163.4765625 MiB in FSRRotation3dMatrix.__init__.\n",
      "Info apcdhcp125.in2p3.fr: Allocating (1190400,9) elements = 163.4765625 MiB in FSRRotation3dMatrix.__init__.\n",
      "Info apcdhcp125.in2p3.fr: Allocating (1190400,9) elements = 163.4765625 MiB in FSRRotation3dMatrix.__init__.\n",
      "Info apcdhcp125.in2p3.fr: Allocating (1190400,9) elements = 163.4765625 MiB in FSRRotation3dMatrix.__init__.\n",
      "Info apcdhcp125.in2p3.fr: Allocating (1190400,9) elements = 163.4765625 MiB in FSRRotation3dMatrix.__init__.\n",
      "Info apcdhcp125.in2p3.fr: Allocating (1190400,9) elements = 163.4765625 MiB in FSRRotation3dMatrix.__init__.\n",
      "Info apcdhcp125.in2p3.fr: Allocating (1190400,9) elements = 163.4765625 MiB in FSRRotation3dMatrix.__init__.\n",
      "Info apcdhcp125.in2p3.fr: Allocating (1190400,9) elements = 163.4765625 MiB in FSRRotation3dMatrix.__init__.\n",
      "Info apcdhcp125.in2p3.fr: Allocating (1190400,9) elements = 163.4765625 MiB in FSRRotation3dMatrix.__init__.\n",
      "Info apcdhcp125.in2p3.fr: Allocating (1190400,9) elements = 163.4765625 MiB in FSRRotation3dMatrix.__init__.\n",
      "Info apcdhcp125.in2p3.fr: Allocating (1190400,9) elements = 163.4765625 MiB in FSRRotation3dMatrix.__init__.\n",
      "Info apcdhcp125.in2p3.fr: Allocating (1190400,9) elements = 163.4765625 MiB in FSRRotation3dMatrix.__init__.\n",
      "Info apcdhcp125.in2p3.fr: Allocating (1190400,9) elements = 163.4765625 MiB in FSRRotation3dMatrix.__init__.\n",
      "Info apcdhcp125.in2p3.fr: Allocating (1190400,9) elements = 163.4765625 MiB in FSRRotation3dMatrix.__init__.\n",
      "Info apcdhcp125.in2p3.fr: Allocating (1190400,9) elements = 163.4765625 MiB in FSRRotation3dMatrix.__init__.\n",
      "Info apcdhcp125.in2p3.fr: Allocating (1190400,9) elements = 163.4765625 MiB in FSRRotation3dMatrix.__init__.\n",
      "Info apcdhcp125.in2p3.fr: Allocating (1190400,9) elements = 163.4765625 MiB in FSRRotation3dMatrix.__init__.\n",
      "Info apcdhcp125.in2p3.fr: Allocating (1190400,9) elements = 163.4765625 MiB in FSRRotation3dMatrix.__init__.\n",
      "Info apcdhcp125.in2p3.fr: Allocating (1190400,9) elements = 163.4765625 MiB in FSRRotation3dMatrix.__init__.\n",
      "Info apcdhcp125.in2p3.fr: Allocating (1190400,9) elements = 163.4765625 MiB in FSRRotation3dMatrix.__init__.\n",
      "Info apcdhcp125.in2p3.fr: Allocating (1190400,9) elements = 163.4765625 MiB in FSRRotation3dMatrix.__init__.\n",
      "Info apcdhcp125.in2p3.fr: Allocating (1190400,9) elements = 163.4765625 MiB in FSRRotation3dMatrix.__init__.\n",
      "Info apcdhcp125.in2p3.fr: Allocating (1190400,9) elements = 163.4765625 MiB in FSRRotation3dMatrix.__init__.\n",
      "Info apcdhcp125.in2p3.fr: Allocating (1190400,9) elements = 163.4765625 MiB in FSRRotation3dMatrix.__init__.\n",
      "Info apcdhcp125.in2p3.fr: Allocating (1190400,9) elements = 163.4765625 MiB in FSRRotation3dMatrix.__init__.\n",
      "Info apcdhcp125.in2p3.fr: Allocating (1190400,9) elements = 163.4765625 MiB in FSRRotation3dMatrix.__init__.\n",
      "Info apcdhcp125.in2p3.fr: Allocating (1190400,9) elements = 163.4765625 MiB in FSRRotation3dMatrix.__init__.\n",
      "Info apcdhcp125.in2p3.fr: Allocating (1190400,9) elements = 163.4765625 MiB in FSRRotation3dMatrix.__init__.\n",
      "Info apcdhcp125.in2p3.fr: Allocating (1190400,9) elements = 163.4765625 MiB in FSRRotation3dMatrix.__init__.\n",
      "Info apcdhcp125.in2p3.fr: Allocating (1190400,9) elements = 163.4765625 MiB in FSRRotation3dMatrix.__init__.\n",
      "Info apcdhcp125.in2p3.fr: Allocating (1190400,9) elements = 163.4765625 MiB in FSRRotation3dMatrix.__init__.\n",
      "Info apcdhcp125.in2p3.fr: Allocating (1190400,9) elements = 163.4765625 MiB in FSRRotation3dMatrix.__init__.\n",
      "Info apcdhcp125.in2p3.fr: Allocating (1190400,9) elements = 163.4765625 MiB in FSRRotation3dMatrix.__init__.\n",
      "Info apcdhcp125.in2p3.fr: Allocating (1190400,9) elements = 163.4765625 MiB in FSRRotation3dMatrix.__init__.\n",
      "Info apcdhcp125.in2p3.fr: Allocating (1190400,9) elements = 163.4765625 MiB in FSRRotation3dMatrix.__init__.\n",
      "Info apcdhcp125.in2p3.fr: Allocating (1190400,9) elements = 163.4765625 MiB in FSRRotation3dMatrix.__init__.\n",
      "Info apcdhcp125.in2p3.fr: Allocating (1190400,9) elements = 163.4765625 MiB in FSRRotation3dMatrix.__init__.\n",
      "Info apcdhcp125.in2p3.fr: Allocating (1190400,9) elements = 163.4765625 MiB in FSRRotation3dMatrix.__init__.\n",
      "Info apcdhcp125.in2p3.fr: Allocating (1190400,9) elements = 163.4765625 MiB in FSRRotation3dMatrix.__init__.\n",
      "Info apcdhcp125.in2p3.fr: Allocating (1190400,9) elements = 163.4765625 MiB in FSRRotation3dMatrix.__init__.\n",
      "Info apcdhcp125.in2p3.fr: Allocating (1190400,9) elements = 163.4765625 MiB in FSRRotation3dMatrix.__init__.\n",
      "Info apcdhcp125.in2p3.fr: Allocating (1190400,9) elements = 163.4765625 MiB in FSRRotation3dMatrix.__init__.\n",
      "Making sum from 192.50 to 193.66\n",
      "Making sum from 193.66 to 194.82\n",
      "Making sum from 194.82 to 195.99\n",
      "Making sum from 195.99 to 197.16\n",
      "Making sum from 197.16 to 198.35\n",
      "Making sum from 198.35 to 199.54\n",
      "Making sum from 199.54 to 200.73\n",
      "Making sum from 200.73 to 201.94\n",
      "Making sum from 201.94 to 203.15\n",
      "Making sum from 203.15 to 204.37\n",
      "Making sum from 204.37 to 205.60\n",
      "Making sum from 205.60 to 206.83\n",
      "Making sum from 206.83 to 208.07\n",
      "Making sum from 208.07 to 209.32\n",
      "Making sum from 209.32 to 210.58\n",
      "Making sum from 210.58 to 211.84\n",
      "Making sum from 211.84 to 213.11\n",
      "Making sum from 213.11 to 214.39\n",
      "Making sum from 214.39 to 215.68\n",
      "Making sum from 215.68 to 216.97\n",
      "Making sum from 216.97 to 218.27\n",
      "Making sum from 218.27 to 219.58\n",
      "Making sum from 219.58 to 220.90\n",
      "Making sum from 220.90 to 222.23\n",
      "Making sum from 222.23 to 223.56\n",
      "Making sum from 223.56 to 224.90\n",
      "Making sum from 224.90 to 226.25\n",
      "Making sum from 226.25 to 227.61\n",
      "Making sum from 227.61 to 228.98\n",
      "Making sum from 228.98 to 230.35\n",
      "Making sum from 230.35 to 231.73\n",
      "Making sum from 231.73 to 233.12\n",
      "Making sum from 233.12 to 234.52\n",
      "Making sum from 234.52 to 235.93\n",
      "Making sum from 235.93 to 237.35\n",
      "Making sum from 237.35 to 238.77\n",
      "Making sum from 238.77 to 240.20\n",
      "Making sum from 240.20 to 241.65\n",
      "Making sum from 241.65 to 243.10\n",
      "Making sum from 243.10 to 244.56\n",
      "Making sum from 244.56 to 246.02\n",
      "Making sum from 246.02 to 247.50\n"
     ]
    }
   ],
   "source": [
    "N_nsub = np.linspace(2, 42, 11, dtype=int)\n",
    "print(N_nsub)\n",
    "\n",
    "alltod = np.zeros((len(N_nsub), 992, d_TOD['npointings']))\n",
    "\n",
    "for i, ns in enumerate(N_nsub):\n",
    "    print(i)\n",
    "    d_TOD['nf_recon'] = ns\n",
    "    d_TOD['nf_sub'] = ns\n",
    "    Nbfreq, nus_edge, nus, deltas, Delta, Nbbands = qubic.compute_freq(d_TOD['filter_nu']/1e9, Nfreq=ns)\n",
    "\n",
    "    Qubic_sky = qss.Qubic_sky({'cmb':seed, 'Dust':'d0'}, d_TOD)\n",
    "    mapin_TOD = Qubic_sky.get_simple_sky_map()\n",
    "\n",
    "    # Pointing\n",
    "    p = qubic.get_pointing(d_TOD)\n",
    "    # Scene\n",
    "    s = qubic.QubicScene(d_TOD)\n",
    "    # Instrument\n",
    "    q = qubic.QubicMultibandInstrument(d_TOD)\n",
    "    # QUBIC Acquisition\n",
    "    qubic_acquisition = Acq.QubicIntegrated(q, p, s, d_TOD, nus_edge)\n",
    "\n",
    "    H_TOD = qubic_acquisition.get_operator(convolution=True)\n",
    "    alltod[i,:,:] = H_TOD(mapin_TOD)\n",
    "\n",
    "    ### Free Memory\n",
    "    del H_TOD, s, q, qubic_acquisition\n",
    "    gc.collect()\n"
   ]
  },
  {
   "cell_type": "code",
   "execution_count": 36,
   "id": "6a67af4c",
   "metadata": {
    "ExecuteTime": {
     "end_time": "2023-01-23T16:56:19.644028Z",
     "start_time": "2023-01-23T16:56:19.469320Z"
    }
   },
   "outputs": [
    {
     "data": {
      "image/png": "[encoded data removed]",
      "text/plain": [
       "<Figure size 640x480 with 1 Axes>"
      ]
     },
     "metadata": {},
     "output_type": "display_data"
    }
   ],
   "source": [
    "reftod = alltod[-1,:,:]\n",
    "var = np.zeros(len(N_nsub))\n",
    "for i in range(len(N_nsub)):\n",
    "    var[i] = np.var(alltod[i,:,:] - reftod) / np.var(reftod)\n",
    "    \n",
    "plot(N_nsub, var,'bo-')\n",
    "yscale('log')"
   ]
  },
  {
   "cell_type": "code",
   "execution_count": 37,
   "id": "45676b6f",
   "metadata": {
    "ExecuteTime": {
     "end_time": "2023-01-23T16:56:24.780513Z",
     "start_time": "2023-01-23T16:56:24.770606Z"
    }
   },
   "outputs": [
    {
     "data": {
      "text/plain": [
       "array([ 1,  2,  3,  4,  5,  6,  7,  8,  9, 10])"
      ]
     },
     "execution_count": 37,
     "metadata": {},
     "output_type": "execute_result"
    }
   ],
   "source": [
    "kvalues = arange(1,11,1)\n",
    "kvalues"
   ]
  },
  {
   "cell_type": "code",
   "execution_count": 57,
   "id": "b098f892",
   "metadata": {
    "ExecuteTime": {
     "end_time": "2023-01-23T17:16:09.347204Z",
     "start_time": "2023-01-23T17:14:58.666837Z"
    },
    "scrolled": false
   },
   "outputs": [
    {
     "name": "stdout",
     "output_type": "stream",
     "text": [
      "1\n"
     ]
    },
    {
     "name": "stderr",
     "output_type": "stream",
     "text": [
      "setting the output map dtype to [dtype('float64'), dtype('float64'), dtype('float64')]\n"
     ]
    },
    {
     "name": "stdout",
     "output_type": "stream",
     "text": [
      "You asked 1200 pointings with repeat strategy so I will provide 400 pointings repeated 3 times.\n",
      "0.005005366622402476\n",
      "0.004414318434526763\n",
      "Info apcdhcp125.in2p3.fr: Allocating (1190400,9) elements = 163.4765625 MiB in FSRRotation3dMatrix.__init__.\n",
      "Info apcdhcp125.in2p3.fr: Allocating (1190400,9) elements = 163.4765625 MiB in FSRRotation3dMatrix.__init__.\n",
      "Making sum from 192.50 to 218.27\n",
      "Making sum from 218.27 to 247.50\n",
      "2\n"
     ]
    },
    {
     "name": "stderr",
     "output_type": "stream",
     "text": [
      "setting the output map dtype to [dtype('float64'), dtype('float64'), dtype('float64')]\n"
     ]
    },
    {
     "name": "stdout",
     "output_type": "stream",
     "text": [
      "You asked 1200 pointings with repeat strategy so I will provide 400 pointings repeated 3 times.\n",
      "0 1\n",
      "2 3\n",
      "0.005015249049472696\n",
      "0.0044230339159859414\n",
      "Info apcdhcp125.in2p3.fr: Allocating (1190400,9) elements = 163.4765625 MiB in FSRRotation3dMatrix.__init__.\n",
      "Info apcdhcp125.in2p3.fr: Allocating (1190400,9) elements = 163.4765625 MiB in FSRRotation3dMatrix.__init__.\n",
      "Info apcdhcp125.in2p3.fr: Allocating (1190400,9) elements = 163.4765625 MiB in FSRRotation3dMatrix.__init__.\n",
      "Info apcdhcp125.in2p3.fr: Allocating (1190400,9) elements = 163.4765625 MiB in FSRRotation3dMatrix.__init__.\n",
      "Making sum from 192.50 to 218.27\n",
      "Making sum from 218.27 to 247.50\n",
      "3\n"
     ]
    },
    {
     "name": "stderr",
     "output_type": "stream",
     "text": [
      "setting the output map dtype to [dtype('float64'), dtype('float64'), dtype('float64')]\n"
     ]
    },
    {
     "name": "stdout",
     "output_type": "stream",
     "text": [
      "You asked 1200 pointings with repeat strategy so I will provide 400 pointings repeated 3 times.\n",
      "0 2\n",
      "3 5\n",
      "0.005017082125339713\n",
      "0.0044246505369454235\n",
      "Info apcdhcp125.in2p3.fr: Allocating (1190400,9) elements = 163.4765625 MiB in FSRRotation3dMatrix.__init__.\n",
      "Info apcdhcp125.in2p3.fr: Allocating (1190400,9) elements = 163.4765625 MiB in FSRRotation3dMatrix.__init__.\n",
      "Info apcdhcp125.in2p3.fr: Allocating (1190400,9) elements = 163.4765625 MiB in FSRRotation3dMatrix.__init__.\n",
      "Info apcdhcp125.in2p3.fr: Allocating (1190400,9) elements = 163.4765625 MiB in FSRRotation3dMatrix.__init__.\n",
      "Info apcdhcp125.in2p3.fr: Allocating (1190400,9) elements = 163.4765625 MiB in FSRRotation3dMatrix.__init__.\n",
      "Info apcdhcp125.in2p3.fr: Allocating (1190400,9) elements = 163.4765625 MiB in FSRRotation3dMatrix.__init__.\n",
      "Making sum from 192.50 to 218.27\n",
      "Making sum from 218.27 to 247.50\n",
      "4\n"
     ]
    },
    {
     "name": "stderr",
     "output_type": "stream",
     "text": [
      "setting the output map dtype to [dtype('float64'), dtype('float64'), dtype('float64')]\n"
     ]
    },
    {
     "name": "stdout",
     "output_type": "stream",
     "text": [
      "You asked 1200 pointings with repeat strategy so I will provide 400 pointings repeated 3 times.\n",
      "0 3\n",
      "4 7\n",
      "0.005017723923485131\n",
      "0.0044252165497069805\n",
      "Info apcdhcp125.in2p3.fr: Allocating (1190400,9) elements = 163.4765625 MiB in FSRRotation3dMatrix.__init__.\n",
      "Info apcdhcp125.in2p3.fr: Allocating (1190400,9) elements = 163.4765625 MiB in FSRRotation3dMatrix.__init__.\n",
      "Info apcdhcp125.in2p3.fr: Allocating (1190400,9) elements = 163.4765625 MiB in FSRRotation3dMatrix.__init__.\n",
      "Info apcdhcp125.in2p3.fr: Allocating (1190400,9) elements = 163.4765625 MiB in FSRRotation3dMatrix.__init__.\n",
      "Info apcdhcp125.in2p3.fr: Allocating (1190400,9) elements = 163.4765625 MiB in FSRRotation3dMatrix.__init__.\n",
      "Info apcdhcp125.in2p3.fr: Allocating (1190400,9) elements = 163.4765625 MiB in FSRRotation3dMatrix.__init__.\n",
      "Info apcdhcp125.in2p3.fr: Allocating (1190400,9) elements = 163.4765625 MiB in FSRRotation3dMatrix.__init__.\n",
      "Info apcdhcp125.in2p3.fr: Allocating (1190400,9) elements = 163.4765625 MiB in FSRRotation3dMatrix.__init__.\n",
      "Making sum from 192.50 to 218.27\n",
      "Making sum from 218.27 to 247.50\n",
      "5\n"
     ]
    },
    {
     "name": "stderr",
     "output_type": "stream",
     "text": [
      "setting the output map dtype to [dtype('float64'), dtype('float64'), dtype('float64')]\n"
     ]
    },
    {
     "name": "stdout",
     "output_type": "stream",
     "text": [
      "You asked 1200 pointings with repeat strategy so I will provide 400 pointings repeated 3 times.\n",
      "0 4\n",
      "5 9\n",
      "0.005018021023253498\n",
      "0.004425478567074206\n",
      "Info apcdhcp125.in2p3.fr: Allocating (1190400,9) elements = 163.4765625 MiB in FSRRotation3dMatrix.__init__.\n",
      "Info apcdhcp125.in2p3.fr: Allocating (1190400,9) elements = 163.4765625 MiB in FSRRotation3dMatrix.__init__.\n",
      "Info apcdhcp125.in2p3.fr: Allocating (1190400,9) elements = 163.4765625 MiB in FSRRotation3dMatrix.__init__.\n",
      "Info apcdhcp125.in2p3.fr: Allocating (1190400,9) elements = 163.4765625 MiB in FSRRotation3dMatrix.__init__.\n",
      "Info apcdhcp125.in2p3.fr: Allocating (1190400,9) elements = 163.4765625 MiB in FSRRotation3dMatrix.__init__.\n",
      "Info apcdhcp125.in2p3.fr: Allocating (1190400,9) elements = 163.4765625 MiB in FSRRotation3dMatrix.__init__.\n",
      "Info apcdhcp125.in2p3.fr: Allocating (1190400,9) elements = 163.4765625 MiB in FSRRotation3dMatrix.__init__.\n",
      "Info apcdhcp125.in2p3.fr: Allocating (1190400,9) elements = 163.4765625 MiB in FSRRotation3dMatrix.__init__.\n",
      "Info apcdhcp125.in2p3.fr: Allocating (1190400,9) elements = 163.4765625 MiB in FSRRotation3dMatrix.__init__.\n",
      "Info apcdhcp125.in2p3.fr: Allocating (1190400,9) elements = 163.4765625 MiB in FSRRotation3dMatrix.__init__.\n",
      "Making sum from 192.50 to 218.27\n",
      "Making sum from 218.27 to 247.50\n",
      "6\n"
     ]
    },
    {
     "name": "stderr",
     "output_type": "stream",
     "text": [
      "setting the output map dtype to [dtype('float64'), dtype('float64'), dtype('float64')]\n"
     ]
    },
    {
     "name": "stdout",
     "output_type": "stream",
     "text": [
      "You asked 1200 pointings with repeat strategy so I will provide 400 pointings repeated 3 times.\n",
      "0 5\n",
      "6 11\n",
      "0.005018182421104542\n",
      "0.004425620906599543\n",
      "Info apcdhcp125.in2p3.fr: Allocating (1190400,9) elements = 163.4765625 MiB in FSRRotation3dMatrix.__init__.\n",
      "Info apcdhcp125.in2p3.fr: Allocating (1190400,9) elements = 163.4765625 MiB in FSRRotation3dMatrix.__init__.\n",
      "Info apcdhcp125.in2p3.fr: Allocating (1190400,9) elements = 163.4765625 MiB in FSRRotation3dMatrix.__init__.\n",
      "Info apcdhcp125.in2p3.fr: Allocating (1190400,9) elements = 163.4765625 MiB in FSRRotation3dMatrix.__init__.\n",
      "Info apcdhcp125.in2p3.fr: Allocating (1190400,9) elements = 163.4765625 MiB in FSRRotation3dMatrix.__init__.\n",
      "Info apcdhcp125.in2p3.fr: Allocating (1190400,9) elements = 163.4765625 MiB in FSRRotation3dMatrix.__init__.\n",
      "Info apcdhcp125.in2p3.fr: Allocating (1190400,9) elements = 163.4765625 MiB in FSRRotation3dMatrix.__init__.\n",
      "Info apcdhcp125.in2p3.fr: Allocating (1190400,9) elements = 163.4765625 MiB in FSRRotation3dMatrix.__init__.\n",
      "Info apcdhcp125.in2p3.fr: Allocating (1190400,9) elements = 163.4765625 MiB in FSRRotation3dMatrix.__init__.\n",
      "Info apcdhcp125.in2p3.fr: Allocating (1190400,9) elements = 163.4765625 MiB in FSRRotation3dMatrix.__init__.\n",
      "Info apcdhcp125.in2p3.fr: Allocating (1190400,9) elements = 163.4765625 MiB in FSRRotation3dMatrix.__init__.\n",
      "Info apcdhcp125.in2p3.fr: Allocating (1190400,9) elements = 163.4765625 MiB in FSRRotation3dMatrix.__init__.\n",
      "Making sum from 192.50 to 218.27\n",
      "Making sum from 218.27 to 247.50\n",
      "7\n"
     ]
    },
    {
     "name": "stderr",
     "output_type": "stream",
     "text": [
      "setting the output map dtype to [dtype('float64'), dtype('float64'), dtype('float64')]\n"
     ]
    },
    {
     "name": "stdout",
     "output_type": "stream",
     "text": [
      "You asked 1200 pointings with repeat strategy so I will provide 400 pointings repeated 3 times.\n",
      "0 6\n",
      "7 13\n",
      "0.005018279742430453\n",
      "0.004425706735941416\n",
      "Info apcdhcp125.in2p3.fr: Allocating (1190400,9) elements = 163.4765625 MiB in FSRRotation3dMatrix.__init__.\n",
      "Info apcdhcp125.in2p3.fr: Allocating (1190400,9) elements = 163.4765625 MiB in FSRRotation3dMatrix.__init__.\n",
      "Info apcdhcp125.in2p3.fr: Allocating (1190400,9) elements = 163.4765625 MiB in FSRRotation3dMatrix.__init__.\n",
      "Info apcdhcp125.in2p3.fr: Allocating (1190400,9) elements = 163.4765625 MiB in FSRRotation3dMatrix.__init__.\n",
      "Info apcdhcp125.in2p3.fr: Allocating (1190400,9) elements = 163.4765625 MiB in FSRRotation3dMatrix.__init__.\n",
      "Info apcdhcp125.in2p3.fr: Allocating (1190400,9) elements = 163.4765625 MiB in FSRRotation3dMatrix.__init__.\n",
      "Info apcdhcp125.in2p3.fr: Allocating (1190400,9) elements = 163.4765625 MiB in FSRRotation3dMatrix.__init__.\n",
      "Info apcdhcp125.in2p3.fr: Allocating (1190400,9) elements = 163.4765625 MiB in FSRRotation3dMatrix.__init__.\n",
      "Info apcdhcp125.in2p3.fr: Allocating (1190400,9) elements = 163.4765625 MiB in FSRRotation3dMatrix.__init__.\n",
      "Info apcdhcp125.in2p3.fr: Allocating (1190400,9) elements = 163.4765625 MiB in FSRRotation3dMatrix.__init__.\n",
      "Info apcdhcp125.in2p3.fr: Allocating (1190400,9) elements = 163.4765625 MiB in FSRRotation3dMatrix.__init__.\n",
      "Info apcdhcp125.in2p3.fr: Allocating (1190400,9) elements = 163.4765625 MiB in FSRRotation3dMatrix.__init__.\n",
      "Info apcdhcp125.in2p3.fr: Allocating (1190400,9) elements = 163.4765625 MiB in FSRRotation3dMatrix.__init__.\n",
      "Info apcdhcp125.in2p3.fr: Allocating (1190400,9) elements = 163.4765625 MiB in FSRRotation3dMatrix.__init__.\n",
      "Making sum from 192.50 to 218.27\n",
      "Making sum from 218.27 to 247.50\n",
      "8\n"
     ]
    },
    {
     "name": "stderr",
     "output_type": "stream",
     "text": [
      "setting the output map dtype to [dtype('float64'), dtype('float64'), dtype('float64')]\n"
     ]
    },
    {
     "name": "stdout",
     "output_type": "stream",
     "text": [
      "You asked 1200 pointings with repeat strategy so I will provide 400 pointings repeated 3 times.\n",
      "0 7\n",
      "8 15\n",
      "0.00501834290912816\n",
      "0.004425762443732509\n",
      "Info apcdhcp125.in2p3.fr: Allocating (1190400,9) elements = 163.4765625 MiB in FSRRotation3dMatrix.__init__.\n",
      "Info apcdhcp125.in2p3.fr: Allocating (1190400,9) elements = 163.4765625 MiB in FSRRotation3dMatrix.__init__.\n",
      "Info apcdhcp125.in2p3.fr: Allocating (1190400,9) elements = 163.4765625 MiB in FSRRotation3dMatrix.__init__.\n",
      "Info apcdhcp125.in2p3.fr: Allocating (1190400,9) elements = 163.4765625 MiB in FSRRotation3dMatrix.__init__.\n",
      "Info apcdhcp125.in2p3.fr: Allocating (1190400,9) elements = 163.4765625 MiB in FSRRotation3dMatrix.__init__.\n",
      "Info apcdhcp125.in2p3.fr: Allocating (1190400,9) elements = 163.4765625 MiB in FSRRotation3dMatrix.__init__.\n",
      "Info apcdhcp125.in2p3.fr: Allocating (1190400,9) elements = 163.4765625 MiB in FSRRotation3dMatrix.__init__.\n",
      "Info apcdhcp125.in2p3.fr: Allocating (1190400,9) elements = 163.4765625 MiB in FSRRotation3dMatrix.__init__.\n",
      "Info apcdhcp125.in2p3.fr: Allocating (1190400,9) elements = 163.4765625 MiB in FSRRotation3dMatrix.__init__.\n",
      "Info apcdhcp125.in2p3.fr: Allocating (1190400,9) elements = 163.4765625 MiB in FSRRotation3dMatrix.__init__.\n",
      "Info apcdhcp125.in2p3.fr: Allocating (1190400,9) elements = 163.4765625 MiB in FSRRotation3dMatrix.__init__.\n",
      "Info apcdhcp125.in2p3.fr: Allocating (1190400,9) elements = 163.4765625 MiB in FSRRotation3dMatrix.__init__.\n",
      "Info apcdhcp125.in2p3.fr: Allocating (1190400,9) elements = 163.4765625 MiB in FSRRotation3dMatrix.__init__.\n",
      "Info apcdhcp125.in2p3.fr: Allocating (1190400,9) elements = 163.4765625 MiB in FSRRotation3dMatrix.__init__.\n",
      "Info apcdhcp125.in2p3.fr: Allocating (1190400,9) elements = 163.4765625 MiB in FSRRotation3dMatrix.__init__.\n",
      "Info apcdhcp125.in2p3.fr: Allocating (1190400,9) elements = 163.4765625 MiB in FSRRotation3dMatrix.__init__.\n",
      "Making sum from 192.50 to 218.27\n",
      "Making sum from 218.27 to 247.50\n",
      "9\n"
     ]
    },
    {
     "name": "stderr",
     "output_type": "stream",
     "text": [
      "setting the output map dtype to [dtype('float64'), dtype('float64'), dtype('float64')]\n"
     ]
    },
    {
     "name": "stdout",
     "output_type": "stream",
     "text": [
      "You asked 1200 pointings with repeat strategy so I will provide 400 pointings repeated 3 times.\n",
      "0 8\n",
      "9 17\n",
      "0.0050183862166513415\n",
      "0.004425800637377916\n",
      "Info apcdhcp125.in2p3.fr: Allocating (1190400,9) elements = 163.4765625 MiB in FSRRotation3dMatrix.__init__.\n",
      "Info apcdhcp125.in2p3.fr: Allocating (1190400,9) elements = 163.4765625 MiB in FSRRotation3dMatrix.__init__.\n",
      "Info apcdhcp125.in2p3.fr: Allocating (1190400,9) elements = 163.4765625 MiB in FSRRotation3dMatrix.__init__.\n",
      "Info apcdhcp125.in2p3.fr: Allocating (1190400,9) elements = 163.4765625 MiB in FSRRotation3dMatrix.__init__.\n",
      "Info apcdhcp125.in2p3.fr: Allocating (1190400,9) elements = 163.4765625 MiB in FSRRotation3dMatrix.__init__.\n",
      "Info apcdhcp125.in2p3.fr: Allocating (1190400,9) elements = 163.4765625 MiB in FSRRotation3dMatrix.__init__.\n",
      "Info apcdhcp125.in2p3.fr: Allocating (1190400,9) elements = 163.4765625 MiB in FSRRotation3dMatrix.__init__.\n",
      "Info apcdhcp125.in2p3.fr: Allocating (1190400,9) elements = 163.4765625 MiB in FSRRotation3dMatrix.__init__.\n",
      "Info apcdhcp125.in2p3.fr: Allocating (1190400,9) elements = 163.4765625 MiB in FSRRotation3dMatrix.__init__.\n",
      "Info apcdhcp125.in2p3.fr: Allocating (1190400,9) elements = 163.4765625 MiB in FSRRotation3dMatrix.__init__.\n",
      "Info apcdhcp125.in2p3.fr: Allocating (1190400,9) elements = 163.4765625 MiB in FSRRotation3dMatrix.__init__.\n",
      "Info apcdhcp125.in2p3.fr: Allocating (1190400,9) elements = 163.4765625 MiB in FSRRotation3dMatrix.__init__.\n",
      "Info apcdhcp125.in2p3.fr: Allocating (1190400,9) elements = 163.4765625 MiB in FSRRotation3dMatrix.__init__.\n",
      "Info apcdhcp125.in2p3.fr: Allocating (1190400,9) elements = 163.4765625 MiB in FSRRotation3dMatrix.__init__.\n",
      "Info apcdhcp125.in2p3.fr: Allocating (1190400,9) elements = 163.4765625 MiB in FSRRotation3dMatrix.__init__.\n",
      "Info apcdhcp125.in2p3.fr: Allocating (1190400,9) elements = 163.4765625 MiB in FSRRotation3dMatrix.__init__.\n",
      "Info apcdhcp125.in2p3.fr: Allocating (1190400,9) elements = 163.4765625 MiB in FSRRotation3dMatrix.__init__.\n",
      "Info apcdhcp125.in2p3.fr: Allocating (1190400,9) elements = 163.4765625 MiB in FSRRotation3dMatrix.__init__.\n",
      "Making sum from 192.50 to 218.27\n",
      "Making sum from 218.27 to 247.50\n",
      "10\n"
     ]
    },
    {
     "name": "stderr",
     "output_type": "stream",
     "text": [
      "setting the output map dtype to [dtype('float64'), dtype('float64'), dtype('float64')]\n"
     ]
    },
    {
     "name": "stdout",
     "output_type": "stream",
     "text": [
      "You asked 1200 pointings with repeat strategy so I will provide 400 pointings repeated 3 times.\n",
      "0 9\n",
      "10 19\n",
      "0.005018417194588913\n",
      "0.0044258279573509045\n",
      "Info apcdhcp125.in2p3.fr: Allocating (1190400,9) elements = 163.4765625 MiB in FSRRotation3dMatrix.__init__.\n",
      "Info apcdhcp125.in2p3.fr: Allocating (1190400,9) elements = 163.4765625 MiB in FSRRotation3dMatrix.__init__.\n",
      "Info apcdhcp125.in2p3.fr: Allocating (1190400,9) elements = 163.4765625 MiB in FSRRotation3dMatrix.__init__.\n",
      "Info apcdhcp125.in2p3.fr: Allocating (1190400,9) elements = 163.4765625 MiB in FSRRotation3dMatrix.__init__.\n",
      "Info apcdhcp125.in2p3.fr: Allocating (1190400,9) elements = 163.4765625 MiB in FSRRotation3dMatrix.__init__.\n",
      "Info apcdhcp125.in2p3.fr: Allocating (1190400,9) elements = 163.4765625 MiB in FSRRotation3dMatrix.__init__.\n",
      "Info apcdhcp125.in2p3.fr: Allocating (1190400,9) elements = 163.4765625 MiB in FSRRotation3dMatrix.__init__.\n",
      "Info apcdhcp125.in2p3.fr: Allocating (1190400,9) elements = 163.4765625 MiB in FSRRotation3dMatrix.__init__.\n",
      "Info apcdhcp125.in2p3.fr: Allocating (1190400,9) elements = 163.4765625 MiB in FSRRotation3dMatrix.__init__.\n",
      "Info apcdhcp125.in2p3.fr: Allocating (1190400,9) elements = 163.4765625 MiB in FSRRotation3dMatrix.__init__.\n",
      "Info apcdhcp125.in2p3.fr: Allocating (1190400,9) elements = 163.4765625 MiB in FSRRotation3dMatrix.__init__.\n",
      "Info apcdhcp125.in2p3.fr: Allocating (1190400,9) elements = 163.4765625 MiB in FSRRotation3dMatrix.__init__.\n",
      "Info apcdhcp125.in2p3.fr: Allocating (1190400,9) elements = 163.4765625 MiB in FSRRotation3dMatrix.__init__.\n",
      "Info apcdhcp125.in2p3.fr: Allocating (1190400,9) elements = 163.4765625 MiB in FSRRotation3dMatrix.__init__.\n",
      "Info apcdhcp125.in2p3.fr: Allocating (1190400,9) elements = 163.4765625 MiB in FSRRotation3dMatrix.__init__.\n",
      "Info apcdhcp125.in2p3.fr: Allocating (1190400,9) elements = 163.4765625 MiB in FSRRotation3dMatrix.__init__.\n",
      "Info apcdhcp125.in2p3.fr: Allocating (1190400,9) elements = 163.4765625 MiB in FSRRotation3dMatrix.__init__.\n",
      "Info apcdhcp125.in2p3.fr: Allocating (1190400,9) elements = 163.4765625 MiB in FSRRotation3dMatrix.__init__.\n",
      "Info apcdhcp125.in2p3.fr: Allocating (1190400,9) elements = 163.4765625 MiB in FSRRotation3dMatrix.__init__.\n",
      "Info apcdhcp125.in2p3.fr: Allocating (1190400,9) elements = 163.4765625 MiB in FSRRotation3dMatrix.__init__.\n",
      "Making sum from 192.50 to 218.27\n",
      "Making sum from 218.27 to 247.50\n"
     ]
    }
   ],
   "source": [
    "alltod_recon = np.zeros((len(kvalues), 992, d_TOD['npointings']))\n",
    "for j,k in enumerate(kvalues):\n",
    "    print(k)\n",
    "    d_recon = copy.deepcopy(d_TOD)\n",
    "    d_recon['nf_recon'] = 2\n",
    "    d_recon['nf_sub'] = 2\n",
    "    \n",
    "    Nbfreq, nus_edge, nus, deltas, Delta, Nbbands = qubic.compute_freq(d_recon['filter_nu']/1e9, Nfreq=d_recon['nf_recon'])\n",
    "\n",
    "    Qubic_sky = qss.Qubic_sky({'cmb':seed, 'Dust':'d0'}, d_recon)\n",
    "    mapin_recon_noconv = Qubic_sky.get_simple_sky_map()\n",
    "    \n",
    "    d_recon['nf_recon'] = 2\n",
    "    d_recon['nf_sub'] = 2 * k\n",
    "\n",
    "    # Pointing\n",
    "    p = qubic.get_pointing(d_recon)\n",
    "    # Scene\n",
    "    s = qubic.QubicScene(d_recon)\n",
    "    # Instrument\n",
    "    q = qubic.QubicMultibandInstrument(d_recon)\n",
    "    # QUBIC Acquisition\n",
    "    qubic_acquisition = Acq.QubicIntegrated(q, p, s, d_recon, nus_edge)\n",
    "\n",
    "    mapin_recon_conv = mapin_recon_noconv.copy()\n",
    "\n",
    "    for i in range(d_recon['nf_recon']):\n",
    "        print(qubic_acquisition.final_fwhm[i])\n",
    "        C = HealpixConvolutionGaussianOperator(fwhm=qubic_acquisition.final_fwhm[i])\n",
    "        mapin_recon_conv[i] = C(mapin_recon_noconv[i])\n",
    "\n",
    "    H_recon = qubic_acquisition.get_operator(convolution=False)\n",
    "    alltod_recon[j,:,:] = H_recon(mapin_recon_conv)\n",
    "\n",
    "    ### Free Memory\n",
    "    del H_recon, s, q, qubic_acquisition\n",
    "    gc.collect()\n",
    "    "
   ]
  },
  {
   "cell_type": "code",
   "execution_count": 59,
   "id": "5e2ab878",
   "metadata": {
    "ExecuteTime": {
     "end_time": "2023-01-23T17:18:55.261821Z",
     "start_time": "2023-01-23T17:18:55.093254Z"
    }
   },
   "outputs": [
    {
     "name": "stdout",
     "output_type": "stream",
     "text": [
      "0.02627993467442897\n",
      "0.006965013555700609\n",
      "0.003965260213076156\n",
      "0.002278465580418657\n",
      "0.001418528575697718\n",
      "0.0010195690502131653\n",
      "0.0006111549141530726\n",
      "0.0006138494240463306\n",
      "0.0004943475750843594\n",
      "0.0004293151649310913\n"
     ]
    },
    {
     "data": {
      "image/png": "[encoded data removed]",
      "text/plain": [
       "<Figure size 640x480 with 1 Axes>"
      ]
     },
     "metadata": {},
     "output_type": "display_data"
    }
   ],
   "source": [
    "reftod = alltod[-1,:,:]\n",
    "var_recon = np.zeros(len(kvalues))\n",
    "for i in range(len(kvalues)):\n",
    "    var_recon[i] = np.var(alltod_recon[i,:,:] - reftod) / np.var(reftod)\n",
    "    print(var_recon[i])\n",
    "    \n",
    "plot(N_nsub, var,'bo-')\n",
    "plot(2*kvalues, var_recon,'ro-')\n",
    "yscale('log')"
   ]
  },
  {
   "cell_type": "code",
   "execution_count": null,
   "id": "ab8e530e",
   "metadata": {},
   "outputs": [],
   "source": []
  }
 ],
 "metadata": {
  "kernelspec": {
   "display_name": "Python 3 (ipykernel)",
   "language": "python",
   "name": "python3"
  },
  "language_info": {
   "codemirror_mode": {
    "name": "ipython",
    "version": 3
   },
   "file_extension": ".py",
   "mimetype": "text/x-python",
   "name": "python",
   "nbconvert_exporter": "python",
   "pygments_lexer": "ipython3",
   "version": "3.9.13"
  },
  "latex_envs": {
   "LaTeX_envs_menu_present": true,
   "autoclose": false,
   "autocomplete": true,
   "bibliofile": "biblio.bib",
   "cite_by": "apalike",
   "current_citInitial": 1,
   "eqLabelWithNumbers": true,
   "eqNumInitial": 1,
   "hotkeys": {
    "equation": "Ctrl-E",
    "itemize": "Ctrl-I"
   },
   "labels_anchors": false,
   "latex_user_defs": false,
   "report_style_numbering": false,
   "user_envs_cfg": false
  },
  "toc": {
   "base_numbering": 1,
   "nav_menu": {},
   "number_sections": true,
   "sideBar": true,
   "skip_h1_title": false,
   "title_cell": "Table of Contents",
   "title_sidebar": "Contents",
   "toc_cell": false,
   "toc_position": {},
   "toc_section_display": true,
   "toc_window_display": false
  },
  "varInspector": {
   "cols": {
    "lenName": 16,
    "lenType": 16,
    "lenVar": 40
   },
   "kernels_config": {
    "python": {
     "delete_cmd_postfix": "",
     "delete_cmd_prefix": "del ",
     "library": "var_list.py",
     "varRefreshCmd": "print(var_dic_list())"
    },
    "r": {
     "delete_cmd_postfix": ") ",
     "delete_cmd_prefix": "rm(",
     "library": "var_list.r",
     "varRefreshCmd": "cat(var_dic_list()) "
    }
   },
   "types_to_exclude": [
    "module",
    "function",
    "builtin_function_or_method",
    "instance",
    "_Feature"
   ],
   "window_display": false
  }
 },
 "nbformat": 4,
 "nbformat_minor": 5
}
