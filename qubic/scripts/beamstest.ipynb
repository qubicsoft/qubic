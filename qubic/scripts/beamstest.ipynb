{
 "cells": [
  {
   "cell_type": "code",
   "execution_count": 1,
   "metadata": {},
   "outputs": [],
   "source": [
    "import os\n",
    "import qubic\n",
    "import healpy as hp\n",
    "import numpy as np\n",
    "import pylab as plt\n",
    "import matplotlib as mpl"
   ]
  },
  {
   "cell_type": "code",
   "execution_count": 2,
   "metadata": {},
   "outputs": [],
   "source": [
    "# This code plots the beam profiles for the 3 possible values of the\n",
    "# dictionary entry 'beam_shape' at 150 and 220 GHz'\n",
    "\n",
    "d = qubic.qubicdict.qubicDict()\n",
    "\n",
    "# Choose her your favourite dictionary \n",
    "# d.read_from_file(sys.argv[1])\n",
    "d.read_from_file('global_test.dict')\n",
    "\n",
    "# number of sub frequencies to be plotted for  'multi_freq'  beam\n",
    "# can be chosen arbitrarily\n",
    "d['nf_sub'] = 3\n",
    "\n",
    "theta_max = 30\n",
    "theta_deg = (np.arange(101)-50) * 0.6\n",
    "theta = abs(np.deg2rad(theta_deg))\n",
    "nubands = ['150', '220']\n",
    "beam_shapes = [ 'gaussian', 'fitted_beam', 'multi_freq']\n",
    "\n",
    "beam_dict = {'gaussian':  'Gaussian', 'fitted_beam': 'Multi-gaussian fitted',\n",
    "                       'multi_freq': 'Multifrequency spline fitted'}"
   ]
  },
  {
   "cell_type": "code",
   "execution_count": 3,
   "metadata": {},
   "outputs": [
    {
     "data": {
      "text/plain": [
       "['gaussian', 'fitted_beam', 'multi_freq']"
      ]
     },
     "execution_count": 3,
     "metadata": {},
     "output_type": "execute_result"
    }
   ],
   "source": [
    "beam_shapes"
   ]
  },
  {
   "cell_type": "code",
   "execution_count": 4,
   "metadata": {
    "scrolled": false
   },
   "outputs": [
    {
     "name": "stdout",
     "output_type": "stream",
     "text": [
      "150 gaussian\n",
      "220 gaussian\n",
      "150 fitted_beam\n",
      "220 fitted_beam\n",
      "Close the figures to end\n"
     ]
    }
   ],
   "source": [
    "# Loop on beam shapes\n",
    "for bs in beam_shapes:\n",
    "    d['beam_shape'] = bs\n",
    "    beam_profile = beam_dict[bs]  + ' beam'\n",
    "\n",
    "    if (d['beam_shape'] == 'gaussian') or  (d['beam_shape'] == 'fitted_beam'):\n",
    "        plt.figure(d['beam_shape'])\n",
    "        # Loop on 150 and 220 GHz frequency bands\n",
    "        for inu, nu_band in enumerate(nubands) :\n",
    "            d['filter_nu'] = float(nu_band) * 1e9\n",
    "            print nu_band, d['beam_shape']\n",
    "            q = qubic.QubicInstrument(d)\n",
    "            plt.semilogy(theta_deg, q.primary_beam(theta, 0), label=nu_band+' GHz' )\n",
    "            plt.legend(loc='best')\n",
    "            plt.xlabel('theta deg')\n",
    "            plt.ylim(4.6e-5, 1.6)\n",
    "        plt.suptitle(beam_profile, fontsize=16)\n",
    "    elif d['beam_shape'] =='multi_freq':\n",
    "        plt.figure(d['beam_shape'], figsize=[12.8, 4.8])        \n",
    "        # Loop on 150 and 220 GHz frequency bands\n",
    "        for inu, nu_band in enumerate(nubands) :\n",
    "            d['filter_nu'] = float(nu_band) * 1e9\n",
    "            # Creation of a multi-band-instrument with d['nf_sub']  sub-bands\n",
    "            q = qubic.QubicMultibandInstrument(d)\n",
    "            isub = inu+1\n",
    "            plt.subplot(1,2,isub)\n",
    "            # Loop on the sub-bands\n",
    "            for i in xrange(len(q)):\n",
    "                nu = str(int(q[i].filter.nu / 1e9)) + ' GHz'\n",
    "                plt.semilogy(theta_deg, q[i].primary_beam(theta, 0), label=nu )\n",
    "                plt.legend(loc='best')\n",
    "                plt.xlabel('theta deg')\n",
    "                plt.title(nu_band + ' GHz band')\n",
    "                plt.ylim(4.6e-5, 1.6)\n",
    "        plt.suptitle(beam_profile, fontsize=16)        \n",
    "\n",
    "print 'Close the figures to end'\n",
    "plt.show()\n"
   ]
  }
 ],
 "metadata": {
  "kernelspec": {
   "display_name": "Python 2",
   "language": "python",
   "name": "python2"
  },
  "language_info": {
   "codemirror_mode": {
    "name": "ipython",
    "version": 2
   },
   "file_extension": ".py",
   "mimetype": "text/x-python",
   "name": "python",
   "nbconvert_exporter": "python",
   "pygments_lexer": "ipython2",
   "version": "2.7.13"
  }
 },
 "nbformat": 4,
 "nbformat_minor": 2
}
