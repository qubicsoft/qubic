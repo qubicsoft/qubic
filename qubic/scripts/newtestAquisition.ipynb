{
 "cells": [
  {
   "cell_type": "code",
   "execution_count": 1,
   "metadata": {},
   "outputs": [],
   "source": [
    "import os\n",
    "import qubic\n",
    "import healpy as hp\n",
    "import numpy as np\n",
    "import pylab as plt\n",
    "import matplotlib as mpl\n",
    "import sys\n",
    "from time import time\n",
    "import copy"
   ]
  },
  {
   "cell_type": "code",
   "execution_count": 2,
   "metadata": {},
   "outputs": [],
   "source": [
    "# Create the directory 'result' if it does not exists yet\n",
    "try:\n",
    "    os.makedirs('result')\n",
    "except:\n",
    "    pass\n",
    "mpl.style.use('classic')\n",
    "name='run_dict'"
   ]
  },
  {
   "cell_type": "code",
   "execution_count": 3,
   "metadata": {},
   "outputs": [
    {
     "name": "stdout",
     "output_type": "stream",
     "text": [
      "beam shape : fitted_beam\n"
     ]
    }
   ],
   "source": [
    "d = qubic.qubicdict.qubicDict()\n",
    "# Choose here your favourite dictionary \n",
    "# d.read_from_file(sys.argv[1])\n",
    "d.read_from_file('global_test.dict')\n",
    "# You can change the beam shape as follows:\n",
    "d['beam_shape'] = 'fitted_beam' # or 'gaussian' or 'fitted_beam' or  'multi_freq' \n",
    "print 'beam shape :', d['beam_shape']\n",
    "name += '_' + d['beam_shape']"
   ]
  },
  {
   "cell_type": "code",
   "execution_count": 4,
   "metadata": {},
   "outputs": [],
   "source": [
    "# construction of the initial multiband instrument, pointing and scene\n",
    "q = qubic.QubicMultibandInstrument(d)\n",
    "p= qubic.get_pointing(d)\n",
    "s = qubic.QubicScene(d)"
   ]
  },
  {
   "cell_type": "code",
   "execution_count": 5,
   "metadata": {},
   "outputs": [],
   "source": [
    "# Constructing a  reduced instrument with a subset of detectors chosen with their indices\n",
    "dets = [231,232] # a list of detctor indices\n",
    "ndets = len(dets)\n",
    "subq = q.detector_subset(dets)"
   ]
  },
  {
   "cell_type": "code",
   "execution_count": 6,
   "metadata": {},
   "outputs": [
    {
     "name": "stdout",
     "output_type": "stream",
     "text": [
      "NSIDE = 256\n",
      "ORDERING = RING in fits file\n",
      "INDXSCHM = IMPLICIT\n"
     ]
    }
   ],
   "source": [
    "# Sky map to be read\n",
    "m0=hp.fitsfunc.read_map('CMB_test.fits', field=(0,1,2))\n",
    "# x0[number of subfrequencies, Healpix map pixel number, 3 Stokes parameters]\n",
    "x0=np.zeros((d['nf_sub'],len(m0[0]),len(m0)))\n",
    "for j in range(len(m0)):\n",
    "    for i in range(d['nf_sub']):\n",
    "        x0[i,:,j]=m0[j]\n",
    "# field center in galactic coordinates\n",
    "center_gal = qubic.equ2gal(d['RA_center'], d['DEC_center'])"
   ]
  },
  {
   "cell_type": "code",
   "execution_count": 7,
   "metadata": {},
   "outputs": [],
   "source": [
    "# Choosing the subfrequencies for map acquisition\n",
    "Nbfreq_in, nus_edge_in, nus_in, deltas_in, Delta_in, Nbbands_in =\\\n",
    "  qubic.compute_freq(d['filter_nu']/1e9, d['filter_relative_bandwidth'],\n",
    "                     d['nf_sub']) # Multiband instrument model\n",
    "\n",
    "# Acquisition with the full multiband instrument\n",
    "a = qubic.QubicMultibandAcquisition(q, p, s, d, nus_edge_in)\n",
    "# Acquisition with the subset of detectors\n",
    "suba = qubic.QubicMultibandAcquisition(subq, p, s, d, nus_edge_in)"
   ]
  },
  {
   "cell_type": "code",
   "execution_count": 8,
   "metadata": {
    "scrolled": true
   },
   "outputs": [
    {
     "name": "stdout",
     "output_type": "stream",
     "text": [
      "Info apcmc143.in2p3.fr: Allocating (992000,15) elements = 227.05078125 MiB in FSRRotation3dMatrix.__init__.\n",
      "Info apcmc143.in2p3.fr: Allocating (992000,16) elements = 242.1875 MiB in FSRRotation3dMatrix.__init__.\n",
      "Info apcmc143.in2p3.fr: Allocating (992000,17) elements = 257.32421875 MiB in FSRRotation3dMatrix.__init__.\n",
      "Info apcmc143.in2p3.fr: Allocating (992000,18) elements = 272.4609375 MiB in FSRRotation3dMatrix.__init__.\n",
      "Info apcmc143.in2p3.fr: Allocating (992000,20) elements = 302.734375 MiB in FSRRotation3dMatrix.__init__.\n",
      "Info apcmc143.in2p3.fr: Allocating (2000,12) elements = 375.0 KiB in FSRRotation3dMatrix.__init__.\n",
      "Info apcmc143.in2p3.fr: Allocating (2000,11) elements = 343.75 KiB in FSRRotation3dMatrix.__init__.\n",
      "Info apcmc143.in2p3.fr: Allocating (2000,12) elements = 375.0 KiB in FSRRotation3dMatrix.__init__.\n",
      "Info apcmc143.in2p3.fr: Allocating (2000,14) elements = 437.5 KiB in FSRRotation3dMatrix.__init__.\n",
      "Info apcmc143.in2p3.fr: Allocating (2000,18) elements = 562.5 KiB in FSRRotation3dMatrix.__init__.\n",
      "TOD construction time = 56.3804798126\n"
     ]
    }
   ],
   "source": [
    "t = time()\n",
    "# Construction of TODs (Time Ordered Data)\n",
    "TOD, maps_convolved = a.get_observation(x0, noiseless=True)\n",
    "subTOD, submaps_convolved= suba.get_observation(x0,noiseless=True)\n",
    "print 'TOD construction time =', time()-t"
   ]
  },
  {
   "cell_type": "code",
   "execution_count": 9,
   "metadata": {},
   "outputs": [
    {
     "name": "stdout",
     "output_type": "stream",
     "text": [
      "Info apcmc143.in2p3.fr: Allocating (992000,15) elements = 227.05078125 MiB in FSRRotation3dMatrix.__init__.\n",
      "Info apcmc143.in2p3.fr: Allocating (992000,16) elements = 242.1875 MiB in FSRRotation3dMatrix.__init__.\n",
      "Info apcmc143.in2p3.fr: Allocating (992000,17) elements = 257.32421875 MiB in FSRRotation3dMatrix.__init__.\n",
      "Info apcmc143.in2p3.fr: Allocating (992000,18) elements = 272.4609375 MiB in FSRRotation3dMatrix.__init__.\n",
      "Info apcmc143.in2p3.fr: Allocating (992000,20) elements = 302.734375 MiB in FSRRotation3dMatrix.__init__.\n",
      "   1: 0.517430226136\n",
      "   2: 0.19324191371\n",
      "   3: 0.104842985222\n",
      "   4: 0.0676904074481\n",
      "   5: 0.0414723576598\n",
      "   6: 0.0339087686047\n",
      "   7: 0.0269246145695\n",
      "   8: 0.0201566469981\n",
      "   9: 0.0171700545572\n",
      "  10: 0.0150728108491\n",
      "  11: 0.012273053058\n",
      "  12: 0.0109360114294\n",
      "  13: 0.010145770701\n",
      "  14: 0.00849692107316\n",
      "  15: 0.00783113247855\n",
      "  16: 0.00729105092045\n",
      "  17: 0.00648715193638\n",
      "  18: 0.00587887238171\n",
      "  19: 0.00558051161161\n",
      "  20: 0.0065955105345\n",
      "  21: 0.00565600676561\n",
      "  22: 0.00440198746853\n",
      "  23: 0.00412766066608\n",
      "  24: 0.00404240074352\n",
      "  25: 0.00378589721355\n",
      "  26: 0.00345742159155\n",
      "  27: 0.00323205619927\n",
      "  28: 0.00300985060251\n",
      "  29: 0.00294510360757\n",
      "  30: 0.0028744285832\n",
      "  31: 0.0025804414888\n",
      "  32: 0.00247439382939\n",
      "  33: 0.00233566622978\n",
      "  34: 0.00223276057913\n",
      "  35: 0.00218279671284\n",
      "  36: 0.0020534049497\n",
      "  37: 0.00193837559288\n",
      "  38: 0.00180581638501\n",
      "  39: 0.0021185550096\n",
      "  40: 0.00219454965385\n",
      "  41: 0.00164168546295\n",
      "  42: 0.00157723232836\n",
      "  43: 0.00152130632911\n",
      "  44: 0.0014434960665\n",
      "  45: 0.0013640642262\n",
      "  46: 0.00133711207151\n",
      "  47: 0.00130718039357\n",
      "  48: 0.00123303386317\n",
      "  49: 0.00119337680572\n",
      "  50: 0.00118875489387\n",
      "  51: 0.00112177006505\n",
      "  52: 0.00108070083353\n",
      "  53: 0.00105349180387\n",
      "  54: 0.00103883625561\n",
      "  55: 0.00100096758301\n",
      "  56: 0.000989301046261\n",
      "Info apcmc143.in2p3.fr: Allocating (2000,12) elements = 375.0 KiB in FSRRotation3dMatrix.__init__.\n",
      "Info apcmc143.in2p3.fr: Allocating (2000,11) elements = 343.75 KiB in FSRRotation3dMatrix.__init__.\n",
      "Info apcmc143.in2p3.fr: Allocating (2000,12) elements = 375.0 KiB in FSRRotation3dMatrix.__init__.\n",
      "Info apcmc143.in2p3.fr: Allocating (2000,14) elements = 437.5 KiB in FSRRotation3dMatrix.__init__.\n",
      "Info apcmc143.in2p3.fr: Allocating (2000,18) elements = 562.5 KiB in FSRRotation3dMatrix.__init__.\n",
      "   1: 0.261899292167\n",
      "   2: 0.0559528366745\n",
      "   3: 0.0285885632688\n",
      "   4: 0.0237284181752\n",
      "   5: 0.0188758726804\n",
      "   6: 0.0102517138807\n",
      "   7: 0.0069427457125\n",
      "   8: 0.00450948751162\n",
      "   9: 0.00269266067142\n",
      "  10: 0.00175676302494\n",
      "  11: 0.00110662217769\n",
      "  12: 0.000644999333521\n",
      "fitted_beam , maps reconstruction time = 113.730111122\n"
     ]
    }
   ],
   "source": [
    "# defininng the reconstruction subfrequencies\n",
    "nf_sub_rec = 2\n",
    "Nbfreq_edge, nus_edge, nus, deltas, Delta, Nbbands = \\\n",
    "  qubic.compute_freq(d['filter_nu']/1e9,\n",
    "                         d['filter_relative_bandwidth'],\n",
    "                         nf_sub_rec) \n",
    "# For reconstruction with a different set of subfrequencies, a new acquisition instance is required\n",
    "arec = qubic.QubicMultibandAcquisition(q, p, s,d, nus_edge)\n",
    "subarec = qubic.QubicMultibandAcquisition(subq, p, s,d, nus_edge)\n",
    "\n",
    "# Map reconstruction from TODs\n",
    "t = time()\n",
    "maps_recon = arec.tod2map(TOD, tol=1e-3, maxiter=100000)\n",
    "submaps_recon = subarec.tod2map(subTOD, tol=1e-3, maxiter=100000)\n",
    "print d['beam_shape'], ', maps reconstruction time =', time()-t"
   ]
  },
  {
   "cell_type": "code",
   "execution_count": 10,
   "metadata": {},
   "outputs": [
    {
     "name": "stdout",
     "output_type": "stream",
     "text": [
      "Info apcmc143.in2p3.fr: Allocating (992000,15) elements = 227.05078125 MiB in FSRRotation3dMatrix.__init__.\n",
      "Info apcmc143.in2p3.fr: Allocating (992000,16) elements = 242.1875 MiB in FSRRotation3dMatrix.__init__.\n",
      "Info apcmc143.in2p3.fr: Allocating (992000,17) elements = 257.32421875 MiB in FSRRotation3dMatrix.__init__.\n",
      "Info apcmc143.in2p3.fr: Allocating (992000,18) elements = 272.4609375 MiB in FSRRotation3dMatrix.__init__.\n",
      "Info apcmc143.in2p3.fr: Allocating (992000,20) elements = 302.734375 MiB in FSRRotation3dMatrix.__init__.\n",
      "Info apcmc143.in2p3.fr: Allocating (992000,15) elements = 227.05078125 MiB in FSRRotation3dMatrix.__init__.\n",
      "Info apcmc143.in2p3.fr: Allocating (992000,16) elements = 242.1875 MiB in FSRRotation3dMatrix.__init__.\n",
      "Info apcmc143.in2p3.fr: Allocating (992000,17) elements = 257.32421875 MiB in FSRRotation3dMatrix.__init__.\n",
      "Info apcmc143.in2p3.fr: Allocating (992000,18) elements = 272.4609375 MiB in FSRRotation3dMatrix.__init__.\n",
      "Info apcmc143.in2p3.fr: Allocating (992000,20) elements = 302.734375 MiB in FSRRotation3dMatrix.__init__.\n"
     ]
    }
   ],
   "source": [
    "# Full multiband instrument\n",
    "# Preparing results to be plotted\n",
    "TOD_useless, maps_convolved = arec.get_observation(x0)# reference map for comparison\n",
    "maps_convolved = np.array(maps_convolved) # reference map for comparison\n",
    "diffmap = maps_convolved - maps_recon # map of residues\n",
    "# Selecting the relevant map area\n",
    "cov = arec.get_coverage()\n",
    "cov = np.sum(cov, axis=0)\n",
    "maxcov = np.max(cov)\n",
    "unseen = cov < maxcov*0.1\n",
    "maps_convolved[:,unseen,:] = hp.UNSEEN\n",
    "maps_recon[:,unseen,:] = hp.UNSEEN\n",
    "diffmap[:,unseen,:] = hp.UNSEEN\n",
    "\n",
    "# Plotting and saving the results of the full multiband instrument\n",
    "stokes = ['I', 'Q', 'U'] \n",
    "for istokes in [0,1,2]:\n",
    "    plt.figure(istokes,figsize=(12,12)) \n",
    "    plt.suptitle('Stokes ' + stokes[istokes] + ', all detectors', fontsize=16)\n",
    "    if istokes==0:\n",
    "        xr=200 \n",
    "    else:\n",
    "        xr=10\n",
    "    for i in xrange(nf_sub_rec):\n",
    "        # proxy to get nf_sub_rec maps convolved\n",
    "        in_old=hp.gnomview(maps_convolved[i,:,istokes],\n",
    "                               rot=center_gal, reso=10, sub=(nf_sub_rec,3,3*i+1), min=-xr,\n",
    "                               max=xr,title='Input '+stokes[istokes]+' SubFreq {}'.format(i),\n",
    "                               return_projected_map=True)\n",
    "        np.savetxt('result/Full_in_%s_%s_subfreq_%d.dat'%(name,stokes[istokes],i),in_old)\n",
    "        out_old=hp.gnomview(maps_recon[i,:,istokes], rot=center_gal, reso=10,\n",
    "                                sub=(nf_sub_rec,3,3*i+2), min=-xr, max=xr,title='Output '\n",
    "                                +stokes[istokes]+' SubFreq {}'.format(i),\n",
    "                                return_projected_map=True)\n",
    "        np.savetxt('result/Full_out_%s_%s_subfreq_%d.dat'%(name,stokes[istokes],i),out_old)\n",
    "        res_old=hp.gnomview(diffmap[i,:,istokes], rot=center_gal, reso=10,\n",
    "                                sub=(nf_sub_rec,3,3*i+3), min=-xr, max=xr,title='Residual '\n",
    "                                +stokes[istokes]+' SubFreq {}'.format(i),\n",
    "                                return_projected_map=True)\n",
    "        np.savetxt('result/Full_res_%s_%s_subfreq_%d.dat'%(name,stokes[istokes],i),res_old)\n",
    "    plt.savefig('result/Full_%s_map_%s.png'%(name,stokes[istokes]),bbox_inches='tight')\n",
    "    plt.clf()\n",
    "    plt.close('all')\n"
   ]
  },
  {
   "cell_type": "code",
   "execution_count": 11,
   "metadata": {},
   "outputs": [
    {
     "name": "stdout",
     "output_type": "stream",
     "text": [
      "Info apcmc143.in2p3.fr: Allocating (992000,15) elements = 227.05078125 MiB in FSRRotation3dMatrix.__init__.\n",
      "Info apcmc143.in2p3.fr: Allocating (992000,16) elements = 242.1875 MiB in FSRRotation3dMatrix.__init__.\n",
      "Info apcmc143.in2p3.fr: Allocating (992000,17) elements = 257.32421875 MiB in FSRRotation3dMatrix.__init__.\n",
      "Info apcmc143.in2p3.fr: Allocating (992000,18) elements = 272.4609375 MiB in FSRRotation3dMatrix.__init__.\n",
      "Info apcmc143.in2p3.fr: Allocating (992000,20) elements = 302.734375 MiB in FSRRotation3dMatrix.__init__.\n",
      "Info apcmc143.in2p3.fr: Allocating (2000,12) elements = 375.0 KiB in FSRRotation3dMatrix.__init__.\n",
      "Info apcmc143.in2p3.fr: Allocating (2000,11) elements = 343.75 KiB in FSRRotation3dMatrix.__init__.\n",
      "Info apcmc143.in2p3.fr: Allocating (2000,12) elements = 375.0 KiB in FSRRotation3dMatrix.__init__.\n",
      "Info apcmc143.in2p3.fr: Allocating (2000,14) elements = 437.5 KiB in FSRRotation3dMatrix.__init__.\n",
      "Info apcmc143.in2p3.fr: Allocating (2000,18) elements = 562.5 KiB in FSRRotation3dMatrix.__init__.\n"
     ]
    }
   ],
   "source": [
    "# Subset of detectors\n",
    "TOD_useless, submaps_convolved = arec.get_observation(x0)# reference map for comparison\n",
    "submaps_convolved = np.array(submaps_convolved) \n",
    "subdiffmap = submaps_convolved - submaps_recon # map of residues\n",
    "# Selecting the relevant map area\n",
    "subcov = subarec.get_coverage()\n",
    "subcov = np.sum(subcov, axis=0)\n",
    "maxsubcov = np.max(subcov)\n",
    "subunseen = subcov < maxsubcov*0.1\n",
    "submaps_convolved[:,subunseen,:] = hp.UNSEEN\n",
    "subdiffmap = submaps_convolved - submaps_recon\n",
    "submaps_convolved[:,subunseen,:] = hp.UNSEEN\n",
    "submaps_recon[:,subunseen,:] = hp.UNSEEN\n",
    "subdiffmap[:,subunseen,:] = hp.UNSEEN"
   ]
  },
  {
   "cell_type": "code",
   "execution_count": 12,
   "metadata": {},
   "outputs": [],
   "source": [
    "stokes = ['I', 'Q', 'U'] \n",
    "for istokes in [0,1,2]:\n",
    "    subname = 'result/Sub_' + str(ndets)\n",
    "    plt.figure(istokes,figsize=(12,12))\n",
    "    plt.suptitle('Stokes ' + stokes[istokes] + ', ' + str(ndets) + ' detectors', fontsize=16)\n",
    "    if istokes==0:\n",
    "        xr=200 \n",
    "    else:\n",
    "        xr=10\n",
    "    for i in xrange(nf_sub_rec):\n",
    "        # proxy to get nf_sub_rec maps convolved\n",
    "        in_old=hp.gnomview(submaps_convolved[i,:,istokes],\n",
    "                               rot=center_gal, reso=10, sub=(nf_sub_rec,3,3*i+1), min=-xr,\n",
    "                               max=xr,title='Input '+stokes[istokes]+' SubFreq {}'.format(i),\n",
    "                               return_projected_map=True)\n",
    "        np.savetxt(subname + '_in_%s_%s_subfreq_%d.dat'%(name,stokes[istokes],i),in_old)\n",
    "        out_old=hp.gnomview(submaps_recon[i,:,istokes], rot=center_gal, reso=10,\n",
    "                                sub=(nf_sub_rec,3,3*i+2), min=-xr, max=xr,title='Output '\n",
    "                                +stokes[istokes]+' SubFreq {}'.format(i),\n",
    "                                return_projected_map=True)\n",
    "        np.savetxt(subname + '_out_%s_%s_subfreq_%d.dat'%(name,stokes[istokes],i),out_old)\n",
    "        res_old=hp.gnomview(subdiffmap[i,:,istokes], rot=center_gal, reso=10,\n",
    "                                sub=(nf_sub_rec,3,3*i+3), min=-xr, max=xr,title='Residual '\n",
    "                                +stokes[istokes]+' SubFreq {}'.format(i),\n",
    "                                return_projected_map=True)\n",
    "        np.savetxt(subname + '_res_%s_%s_subfreq_%d.dat'%(name,stokes[istokes],i),res_old)\n",
    "    \n",
    "    plt.subplots_adjust(left=0.1, wspace=0.8, top=0.8)\n",
    "    plt.savefig(subname + '_%s_map_%s.png'%(name,stokes[istokes]), bbox_inches='tight')\n",
    "    plt.clf()\n",
    "    plt.close()\n"
   ]
  },
  {
   "cell_type": "code",
   "execution_count": null,
   "metadata": {},
   "outputs": [],
   "source": []
  }
 ],
 "metadata": {
  "kernelspec": {
   "display_name": "Python 2",
   "language": "python",
   "name": "python2"
  },
  "language_info": {
   "codemirror_mode": {
    "name": "ipython",
    "version": 2
   },
   "file_extension": ".py",
   "mimetype": "text/x-python",
   "name": "python",
   "nbconvert_exporter": "python",
   "pygments_lexer": "ipython2",
   "version": "2.7.13"
  }
 },
 "nbformat": 4,
 "nbformat_minor": 2
}
