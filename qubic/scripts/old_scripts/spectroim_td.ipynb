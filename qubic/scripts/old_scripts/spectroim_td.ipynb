{
 "cells": [
  {
   "cell_type": "code",
   "execution_count": null,
   "id": "c149bddb",
   "metadata": {},
   "outputs": [],
   "source": [
    "!/bin/env python\n",
    "from __future__ import division\n",
    "import sys\n",
    "import healpy as hp\n",
    "import numpy as np\n",
    "import matplotlib.pyplot as mp\n",
    "from qubic import *\n",
    "from pysimulators import FitsArray\n",
    "import time\n",
    "import os\n",
    "\n",
    "\n",
    "# External library needed (not part of qubic yet)\n",
    "import SpectroImLib as si\n",
    "\n",
    "%matplotlib inline\n",
    "rc('figure',figsize=(15,10))\n",
    "rc('font',size=20)"
   ]
  },
  {
   "cell_type": "markdown",
   "id": "64c72231",
   "metadata": {},
   "source": [
    "## TD Selection"
   ]
  },
  {
   "cell_type": "code",
   "execution_count": null,
   "id": "b045095f",
   "metadata": {},
   "outputs": [],
   "source": [
    "TD = True\n",
    "path = QubicCalibration().path\n",
    "if(TD):\n",
    "\tprint('Technological Demonstrator')\n",
    "\tos.system('\\cp '+path+'/TD_CalQubic_HornArray_v4.fits '+path+'/CalQubic_HornArray_v5.fits')\n",
    "\tos.system('\\cp '+path+'/TD_CalQubic_DetArray_v3.fits '+path+'/CalQubic_DetArray_v4.fits')\n",
    "else:\n",
    "\tprint('First Instrument')\n",
    "\tos.system('rm -f '+path+'/CalQubic_HornArray_v5.fits')\n",
    "\tos.system('rm -f '+path+'/CalQubic_DetArray_v4.fits')"
   ]
  },
  {
   "cell_type": "markdown",
   "id": "6f1917a1",
   "metadata": {},
   "source": [
    "## Actually use TD++ (with full horn array but only 1/4 focal plane)"
   ]
  },
  {
   "cell_type": "code",
   "execution_count": null,
   "id": "4db3fadb",
   "metadata": {},
   "outputs": [],
   "source": [
    "os.system('rm -f '+path+'/CalQubic_HornArray_v5.fits')"
   ]
  },
  {
   "cell_type": "markdown",
   "id": "8f7cb4ca",
   "metadata": {},
   "source": [
    "## Instrument"
   ]
  },
  {
   "cell_type": "code",
   "execution_count": null,
   "id": "73d03465",
   "metadata": {},
   "outputs": [],
   "source": [
    "inst = QubicInstrument()\n",
    "inst.horn.plot()\n",
    "inst.detector.plot()"
   ]
  },
  {
   "cell_type": "markdown",
   "id": "740dfeaa",
   "metadata": {},
   "source": [
    "## Configuration for 1 month data"
   ]
  },
  {
   "cell_type": "code",
   "execution_count": null,
   "id": "49578217",
   "metadata": {},
   "outputs": [],
   "source": [
    "### Sky \n",
    "nside = 128\n",
    "center = 0., -57.\n",
    "center_gal = equ2gal(center[0], center[1])\n",
    "dust_coeff = 1.39e-2\n",
    "seed=None\n",
    "\n",
    "### Detectors (for now using random pointing)\n",
    "band = 150\n",
    "relative_bandwidth = 0.25\n",
    "sz_ptg = 10.\n",
    "nb_ptg = 1000\n",
    "effective_duration = 30./365\n",
    "ripples = False   \n",
    "noiseless = False\n",
    "\n",
    "\n",
    "### Mapmaking\n",
    "tol = 1e-3\n",
    "\n",
    "### Number of sub-bands to build the TOD\n",
    "nf_sub_build = 10\n",
    "nf_sub_rec = 3\n",
    "\n",
    "parameters = {'nside':nside, 'center':center, 'dust_coeff': dust_coeff, \n",
    "\t\t\t\t'band':band, 'relative_bandwidth':relative_bandwidth,\n",
    "\t\t\t\t'sz_ptg':sz_ptg, 'nb_ptg':nb_ptg, 'effective_duration':effective_duration, \n",
    "\t\t\t\t'tol': tol, 'ripples':ripples,\n",
    "\t\t\t\t'nf_sub_build':nf_sub_build, \n",
    "\t\t\t\t'nf_sub_rec': nf_sub_rec, 'noiseless':noiseless, 'seed':seed}\n",
    "\n",
    "\n",
    "for k in parameters.keys(): print(k, parameters[k])"
   ]
  },
  {
   "cell_type": "markdown",
   "id": "63995106",
   "metadata": {},
   "source": [
    "## Input Sky Simulation, TOD fabircation and Map-Making"
   ]
  },
  {
   "cell_type": "code",
   "execution_count": null,
   "id": "4bdaf2d2",
   "metadata": {},
   "outputs": [],
   "source": [
    "print('Creating input sky')\n",
    "x0 = si.create_input_sky(parameters)\n",
    "\n",
    "print('Creating pointing')\n",
    "p = si.create_random_pointings(parameters['center'], parameters['nb_ptg'], parameters['sz_ptg'])\n",
    "\n",
    "print('Creating TOD')\n",
    "TOD = si.create_TOD(parameters, p, x0)\n",
    "\n",
    "print('Doing Mapmaking on {} sub-map(s)'.format(nf_sub_rec))\n",
    "maps_recon, cov, nus, nus_edge, maps_convolved = si.reconstruct_maps(TOD, parameters, p, x0=x0)\n",
    "if int(parameters['nf_sub_rec'])==1: maps_recon=np.reshape(maps_recon, np.shape(maps_convolved))\n",
    "cov = np.sum(cov, axis=0)\n",
    "maxcov = np.max(cov)\n",
    "unseen = cov < maxcov*0.1\n",
    "diffmap = maps_convolved - maps_recon\n",
    "maps_convolved[:,unseen,:] = hp.UNSEEN\n",
    "maps_recon[:,unseen,:] = hp.UNSEEN\n",
    "diffmap[:,unseen,:] = hp.UNSEEN\n",
    "therms = np.std(diffmap[:,~unseen,:], axis = 1)"
   ]
  },
  {
   "cell_type": "markdown",
   "id": "715aab4d",
   "metadata": {},
   "source": [
    "## Visualization of results\n",
    "With 1 month of data we can see the temperature, but not the polarization."
   ]
  },
  {
   "cell_type": "code",
   "execution_count": null,
   "id": "6b3b5628",
   "metadata": {},
   "outputs": [],
   "source": [
    "stokes = ['I', 'Q', 'U']\n",
    "istokes=1\n",
    "if istokes==0: \n",
    "    xr=200\n",
    "else:\n",
    "    xr=5\n",
    "for i in xrange(parameters['nf_sub_rec']):\n",
    "    hp.gnomview(maps_convolved[i,:,istokes], rot=center_gal, reso=10, \n",
    "        sub=(parameters['nf_sub_rec'],3,3*i+1), min=-xr, max=xr, \n",
    "        title='Input '+stokes[istokes]+' SubFreq {}'.format(i))\n",
    "    hp.gnomview(maps_recon[i,:,istokes], rot=center_gal, reso=10, \n",
    "        sub=(parameters['nf_sub_rec'],3,3*i+2), min=-xr, max=xr, \n",
    "        title='Output '+stokes[istokes]+' SubFreq {}'.format(i))\n",
    "    hp.gnomview(diffmap[i,:,istokes], rot=center_gal, reso=10, \n",
    "        sub=(parameters['nf_sub_rec'],3,3*i+3), min=-xr, max=xr, \n",
    "        title='Residual '+stokes[istokes]+' SubFreq {}'.format(i))"
   ]
  },
  {
   "cell_type": "code",
   "execution_count": null,
   "id": "025ec5e7",
   "metadata": {},
   "outputs": [],
   "source": []
  }
 ],
 "metadata": {
  "kernelspec": {
   "display_name": "Python 3",
   "language": "python",
   "name": "python3"
  }
 },
 "nbformat": 4,
 "nbformat_minor": 5
}
