{
 "cells": [
  {
   "cell_type": "markdown",
   "id": "8c1c1994",
   "metadata": {},
   "source": [
    "# Testing latest commits\n",
    "## JCH 16/11/2017\n",
    "\n",
    "\n",
    "\n",
    "\n",
    "\n",
    "## Importing libraries"
   ]
  },
  {
   "cell_type": "code",
   "execution_count": null,
   "id": "aa921571",
   "metadata": {},
   "outputs": [],
   "source": [
    "!/bin/env python\n",
    "from __future__ import division\n",
    "import sys\n",
    "import healpy as hp\n",
    "import numpy as np\n",
    "import matplotlib.pyplot as mp\n",
    "from qubic import *\n",
    "from pysimulators import FitsArray\n",
    "import time\n",
    "import os\n",
    "%matplotlib inline\n",
    "rc('figure',figsize=(15,10))\n",
    "rc('font',size=20)"
   ]
  },
  {
   "cell_type": "markdown",
   "id": "12f9c616",
   "metadata": {},
   "source": [
    "## Choosing TD or not"
   ]
  },
  {
   "cell_type": "code",
   "execution_count": null,
   "id": "8fd1fede",
   "metadata": {},
   "outputs": [],
   "source": [
    "### NB: Some of the pathes here are on my computer. You will have to change them\n",
    "TD = True\n",
    "path = QubicCalibration().path\n",
    "if(TD):\n",
    "\tprint('Technological Demonstrator')\n",
    "\tos.system('\\cp '+path+'/TD_CalQubic_HornArray_v4.fits '+path+'/CalQubic_HornArray_v5.fits')\n",
    "\tos.system('\\cp '+path+'/TD_CalQubic_DetArray_v3.fits '+path+'/CalQubic_DetArray_v4.fits')\n",
    "else:\n",
    "\tprint('First Instrument')\n",
    "\tos.system('rm -f '+path+'/CalQubic_HornArray_v5.fits')\n",
    "\tos.system('rm -f '+path+'/CalQubic_DetArray_v4.fits')"
   ]
  },
  {
   "cell_type": "markdown",
   "id": "fbb73886",
   "metadata": {},
   "source": [
    "## Monochromatic Instrument"
   ]
  },
  {
   "cell_type": "code",
   "execution_count": null,
   "id": "9996340f",
   "metadata": {},
   "outputs": [],
   "source": [
    "nside = 256\n",
    "scene = QubicScene(nside)\n",
    "from qubic import QubicInstrument\n",
    "instTD = QubicInstrument(filter_nu=150e9)"
   ]
  },
  {
   "cell_type": "markdown",
   "id": "d710b88f",
   "metadata": {},
   "source": [
    "### Visualizing Horns and Detectors"
   ]
  },
  {
   "cell_type": "code",
   "execution_count": null,
   "id": "f281d6f4",
   "metadata": {},
   "outputs": [],
   "source": [
    "xx,yy,zz = instTD.detector.center.T\n",
    "index_det = instTD.detector.index\n",
    "for i in xrange(len(instTD.detector)):\n",
    "\ttext(xx[i]-0.0012,yy[i],'{}'.format(index_det[i]), fontsize=12, color='r')\n",
    "instTD.detector.plot()\n"
   ]
  },
  {
   "cell_type": "code",
   "execution_count": null,
   "id": "f4de0adb",
   "metadata": {},
   "outputs": [],
   "source": [
    "centers = instTD.horn.center[:,0:2]\n",
    "col = instTD.horn.column\n",
    "row = instTD.horn.row\n",
    "for i in xrange(len(centers)):\n",
    "    text(centers[i,0]-0.006, centers[i,1], 'c{0:}'.format(col[i]), color='r',fontsize=12)\n",
    "    text(centers[i,0]+0.001, centers[i,1], 'r{0:}'.format(row[i]), color='b',fontsize=12)\n",
    "instTD.horn.plot()"
   ]
  },
  {
   "cell_type": "markdown",
   "id": "44bbd610",
   "metadata": {},
   "source": [
    "### Synthesized Beam\n",
    "\n",
    "#### No Pixel Integration"
   ]
  },
  {
   "cell_type": "code",
   "execution_count": null,
   "id": "3b5bb3dc",
   "metadata": {},
   "outputs": [],
   "source": [
    "idet = 231\n",
    "sb = instTD.get_synthbeam(scene, idet)\n",
    "hp.gnomview(10*np.log10(sb/np.max(sb)), rot=[0,90], \n",
    "\treso=10, min=-40, max=0, unit='dB', title='Detector #{}'.format(idet))\n",
    "\n",
    "idet = 0\n",
    "sb = instTD.get_synthbeam(scene, idet)\n",
    "hp.gnomview(10*np.log10(sb/np.max(sb)), rot=[0,90], \n",
    "\treso=10, min=-40, max=0, unit='dB', title='Detector #{}'.format(idet))"
   ]
  },
  {
   "cell_type": "markdown",
   "id": "372ce915",
   "metadata": {},
   "source": [
    "#### With Pixel Integration"
   ]
  },
  {
   "cell_type": "code",
   "execution_count": null,
   "id": "f7e49185",
   "metadata": {},
   "outputs": [],
   "source": [
    "idet = 231\n",
    "sb = instTD.get_synthbeam(scene, idet, detector_integrate=5)\n",
    "hp.gnomview(10*np.log10(sb/np.max(sb)), rot=[0,90], \n",
    "\treso=10, min=-40, max=0, unit='dB', title='Detector #{}'.format(idet))"
   ]
  },
  {
   "cell_type": "markdown",
   "id": "ac045331",
   "metadata": {},
   "source": [
    "#### With External (Maynooth) Electric Field on Focal Plane simulation"
   ]
  },
  {
   "cell_type": "code",
   "execution_count": null,
   "id": "e7eef590",
   "metadata": {},
   "outputs": [],
   "source": [
    "import glob\n",
    "rep = '/Users/hamilton/Qubic/SynthBeam/NewSimsMaynooth/QUBIC Basic/'\n",
    "files = glob.glob(rep+'*.dat')\n",
    "\n",
    "nn = 161\n",
    "xmin = -60./1000\n",
    "xmax = 60./1000\n",
    "ymin = -60./1000\n",
    "ymax = 60./1000\n",
    "xx = np.linspace(-60,60,nn)/1000\n",
    "yy = np.linspace(-60,60,nn)/1000\n",
    "nbhorns = len(instTD.horn)\n",
    "allampX = np.zeros((nbhorns,nn,nn))\n",
    "allphiX = np.zeros((nbhorns,nn,nn))\n",
    "allampY = np.zeros((nbhorns,nn,nn))\n",
    "allphiY = np.zeros((nbhorns,nn,nn))\n",
    "#### Read the files\n",
    "for i in xrange(nbhorns):\n",
    "    print(i)\n",
    "    data = np.loadtxt(rep+'x{0:02d}y{1:02d}.dat'.format(instTD.horn.row[i]-1, instTD.horn.column[i]-1), skiprows=4)\n",
    "    allampX[i,:,:] = np.reshape(data[:,0],(nn,nn))\n",
    "    allphiX[i,:,:] = np.reshape(data[:,1],(nn,nn))\n",
    "    allampY[i,:,:] = np.reshape(data[:,2],(nn,nn))\n",
    "    allphiY[i,:,:] = np.reshape(data[:,3],(nn,nn))"
   ]
  },
  {
   "cell_type": "code",
   "execution_count": null,
   "id": "f739ef96",
   "metadata": {},
   "outputs": [],
   "source": [
    "#### Electric field\n",
    "Ax = allampX * (cos(allphiX) + 1j*sin(allphiX))\n",
    "Ay = allampY * (cos(allphiY) + 1j*sin(allphiY))\n",
    "external_A = [xx, yy, allampX, allphiX]\n",
    "\n",
    "idet = 231\n",
    "sb = instTD.get_synthbeam(scene, idet, external_A=external_A)\n",
    "sbideal = instTD.get_synthbeam(scene, idet)\n",
    "\n",
    "figure()\n",
    "hp.gnomview(10*np.log10(sb/np.max(sb)), rot=[0,90], \n",
    "\treso=10, min=-40, max=0, unit='dB', title='Sim Beam - Detector #{}'.format(idet), sub=(1,2,1))\n",
    "hp.gnomview(10*np.log10(sbideal/np.max(sbideal)), rot=[0,90], \n",
    "\treso=10, min=-40, max=0, unit='dB', title='Ideal Beam - Detector #{}'.format(idet), sub=(1,2,2))"
   ]
  },
  {
   "cell_type": "markdown",
   "id": "080e8068",
   "metadata": {},
   "source": [
    "## Wide-Band Instrument\n",
    "Now instTD is a list of instruments at each frequency. Each one has a replication of the horns and detectors\n",
    "\n",
    "This is not very optimal and could be improved in the future"
   ]
  },
  {
   "cell_type": "code",
   "execution_count": null,
   "id": "14eae236",
   "metadata": {},
   "outputs": [],
   "source": [
    "nside = 256\n",
    "scene = QubicScene(nside)\n",
    "\n",
    "from qubic import QubicMultibandInstrument\n",
    "Nf=10\n",
    "band = 150.\n",
    "relative_bandwidth = 0.25\n",
    "Nbfreq_in, nus_edge_in, nus_in, deltas_in, Delta_in, Nbbands_in = compute_freq(band, relative_bandwidth, Nf)\n",
    "instTD = QubicMultibandInstrument(filter_nus=nus_in * 1e9, filter_relative_bandwidths=nus_in / deltas_in) "
   ]
  },
  {
   "cell_type": "markdown",
   "id": "92c32ad3",
   "metadata": {},
   "source": [
    "### Visualizing the Horns and detectors"
   ]
  },
  {
   "cell_type": "code",
   "execution_count": null,
   "id": "7dc322d9",
   "metadata": {},
   "outputs": [],
   "source": [
    "xx,yy,zz = instTD[0].detector.center.T\n",
    "index_det = instTD[0].detector.index\n",
    "for i in xrange(len(instTD[0].detector)):\n",
    "\ttext(xx[i]-0.0012,yy[i],'{}'.format(index_det[i]), fontsize=12, color='r')\n",
    "instTD[0].detector.plot()"
   ]
  },
  {
   "cell_type": "code",
   "execution_count": null,
   "id": "6424bbaf",
   "metadata": {},
   "outputs": [],
   "source": [
    "centers = instTD[0].horn.center[:,0:2]\n",
    "col = instTD[0].horn.column\n",
    "row = instTD[0].horn.row\n",
    "for i in xrange(len(centers)):\n",
    "    text(centers[i,0]-0.006, centers[i,1], 'c{0:}'.format(col[i]), color='r',fontsize=12)\n",
    "    text(centers[i,0]+0.001, centers[i,1], 'r{0:}'.format(row[i]), color='b',fontsize=12)\n",
    "instTD[0].horn.plot()"
   ]
  },
  {
   "cell_type": "markdown",
   "id": "e635e605",
   "metadata": {},
   "source": [
    "### Synthesized beam for wide-band instrument"
   ]
  },
  {
   "cell_type": "code",
   "execution_count": null,
   "id": "571cddd7",
   "metadata": {},
   "outputs": [],
   "source": [
    "idet = 231\n",
    "sb = instTD.get_synthbeam(scene, idet)\n",
    "hp.gnomview(10*np.log10(sb/np.max(sb)), rot=[0,90], \n",
    "\treso=10, min=-40, max=0, unit='dB', title='Detector #{}'.format(idet))"
   ]
  },
  {
   "cell_type": "markdown",
   "id": "b198271d",
   "metadata": {},
   "source": [
    "### And also with Pixel Integration"
   ]
  },
  {
   "cell_type": "code",
   "execution_count": null,
   "id": "76b255e7",
   "metadata": {},
   "outputs": [],
   "source": [
    "idet = 231\n",
    "sb = instTD.get_synthbeam(scene, idet, detector_integrate=5)\n",
    "hp.gnomview(10*np.log10(sb/np.max(sb)), rot=[0,90], \n",
    "\treso=10, min=-40, max=0, unit='dB', title='Detector #{}'.format(idet))"
   ]
  },
  {
   "cell_type": "code",
   "execution_count": null,
   "id": "0f885f50",
   "metadata": {},
   "outputs": [],
   "source": []
  }
 ],
 "metadata": {
  "kernelspec": {
   "display_name": "Python 3",
   "language": "python",
   "name": "python3"
  }
 },
 "nbformat": 4,
 "nbformat_minor": 5
}
