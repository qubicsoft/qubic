{
  "cells": [
    {
      "cell_type": "markdown",
      "metadata": {},
      "source": [
        "## Notebook used to check the implementation of the projection operator with a bilinear interpolation."
      ]
    },
    {
      "cell_type": "code",
      "execution_count": null,
      "metadata": {},
      "outputs": [],
      "source": [
        "%load_ext autoreload\n",
        "%autoreload 2"
      ]
    },
    {
      "cell_type": "code",
      "execution_count": null,
      "metadata": {},
      "outputs": [],
      "source": [
        "import numpy as np\n",
        "import matplotlib.pyplot as plt\n",
        "import healpy as hp\n",
        "import sys\n",
        "\n",
        "from pyoperators import MPI\n",
        "\n",
        "from qubic.lib.Qdictionary import qubicDict\n",
        "from qubic.lib.Instrument.Qacquisition import QubicMultiAcquisitions\n",
        "from qubic.lib.Qsamplings import get_pointing, equ2gal\n",
        "from qubic.lib.QskySim import Qubic_sky\n",
        "from qubic.lib.MapMaking.FrequencyMapMaking.Qspectra_component import CMBModel"
      ]
    },
    {
      "cell_type": "code",
      "execution_count": null,
      "metadata": {},
      "outputs": [],
      "source": [
        "%matplotlib inline"
      ]
    },
    {
      "cell_type": "code",
      "execution_count": null,
      "metadata": {},
      "outputs": [],
      "source": [
        "nside = 256"
      ]
    },
    {
      "cell_type": "markdown",
      "metadata": {},
      "source": [
        "# Initialize QUBIC instance"
      ]
    },
    {
      "cell_type": "markdown",
      "metadata": {},
      "source": [
        "Build the QUBIC dictionary, mandatory to use the QUBIC functions"
      ]
    },
    {
      "cell_type": "code",
      "execution_count": null,
      "metadata": {},
      "outputs": [],
      "source": [
        "def get_dict():\n",
        "    \"\"\"QUBIC dictionary.\n",
        "\n",
        "    Method to modify the qubic dictionary.\n",
        "\n",
        "    Parameters\n",
        "    ----------\n",
        "    key : str, optional\n",
        "        Can be \"in\" or \"out\".\n",
        "        It is used to build respectively the instances to generate the TODs or to reconstruct the sky maps,\n",
        "        by default \"in\".\n",
        "\n",
        "    Returns\n",
        "    -------\n",
        "    dict_qubic: dict\n",
        "        Modified QUBIC dictionary.\n",
        "\n",
        "    \"\"\"\n",
        "\n",
        "    args = {\n",
        "        \"npointings\": 30,\n",
        "        \"nf_recon\": 2,\n",
        "        \"nf_sub\": 10,\n",
        "        \"nside\": nside,\n",
        "        \"MultiBand\": True,\n",
        "        \"period\": 1,\n",
        "        \"RA_center\": 0,\n",
        "        \"DEC_center\": -57,\n",
        "        \"filter_nu\": 150 * 1e9,\n",
        "        \"noiseless\": True,\n",
        "        # \"comm\": comm,\n",
        "        \"dtheta\": 15,\n",
        "        # \"nprocs_sampling\": 1,\n",
        "        # \"nprocs_instrument\": comm.Get_size(),\n",
        "        \"photon_noise\": False,\n",
        "        \"nhwp_angles\": 3,\n",
        "        \"effective_duration150\": 3,\n",
        "        \"effective_duration220\": 3,\n",
        "        \"filter_relative_bandwidth\": 0.25,\n",
        "        \"type_instrument\": \"two\",\n",
        "        \"TemperatureAtmosphere150\": None,\n",
        "        \"TemperatureAtmosphere220\": None,\n",
        "        \"EmissivityAtmosphere150\": None,\n",
        "        \"EmissivityAtmosphere220\": None,\n",
        "        \"detector_nep\": float(4.7e-17),\n",
        "        \"synthbeam_kmax\": 1,\n",
        "        \"synthbeam_fraction\": 1,\n",
        "        \"beam_shape\": \"gaussian\",\n",
        "        \"debug\":False,\n",
        "        \"kind\": \"IQU\",\n",
        "    }\n",
        "\n",
        "    ### Get the default dictionary\n",
        "    dictfilename = \"dicts/pipeline_demo.dict\"\n",
        "    dict_qubic = qubicDict()\n",
        "    dict_qubic.read_from_file(dictfilename)\n",
        "\n",
        "    for i in args.keys():\n",
        "\n",
        "        dict_qubic[str(i)] = args[i]\n",
        "\n",
        "    return dict_qubic"
      ]
    },
    {
      "cell_type": "code",
      "execution_count": null,
      "metadata": {},
      "outputs": [],
      "source": [
        "# Build MPI communicator and qubic dict\n",
        "dictfilename = 'qubic/qubic/dicts/pipeline_demo.dict'\n",
        "d = qubicDict()\n",
        "d.read_from_file(dictfilename)\n",
        "\n",
        "d = get_dict()\n",
        "\n",
        "center = equ2gal(d['RA_center'], d['DEC_center'])\n",
        "\n",
        "d['nf_recon'] = 2\n",
        "d['MultiBand'] = True\n",
        "d['nside'] = nside\n",
        "\n",
        "npointings = 30\n",
        "d['npointings'] = npointings\n",
        "d['synthbeam_kmax'] = 1\n",
        "nf_sub = d['nf_sub']\n",
        "d['synthbeam_fraction'] = 1\n",
        "\n",
        "d['noiseless'] = True\n",
        "d['photon_noise'] = False\n",
        "d['use_synthbeam_fits_file'] = False\n",
        "\n",
        "input_comm = True\n",
        "if input_comm:\n",
        "\n",
        "    comm = MPI.COMM_WORLD\n",
        "    d[\"comm\"] = comm\n",
        "    d[\"nprocs_sampling\"] = comm.Get_size()\n",
        "    d[\"nprocs_instrument\"] = 1\n",
        "    print(\"comm.Get_size()\", comm.Get_size())\n",
        "    nprocs_instrument = d['nprocs_instrument']\n",
        "    nprocs_sampling = d['nprocs_sampling']\n",
        "    comm = d['comm']\n",
        "\n",
        "    print(\"nprocs_instrument\", nprocs_instrument)\n",
        "    print(\"nprocs_sampling\", nprocs_sampling)\n",
        "    print(\"comm\", comm)\n"
      ]
    },
    {
      "cell_type": "code",
      "execution_count": null,
      "metadata": {},
      "outputs": [],
      "source": [
        "d"
      ]
    },
    {
      "cell_type": "code",
      "execution_count": null,
      "metadata": {},
      "outputs": [],
      "source": [
        "# Build scanning strategy\n",
        "sampling = get_pointing(d)"
      ]
    },
    {
      "cell_type": "code",
      "execution_count": null,
      "metadata": {},
      "outputs": [],
      "source": [
        "# Number of sub-acquisitions\n",
        "# nsub_max = 42\n",
        "# nsub_list = np.arange(4, nsub_max + 1, 4)\n",
        "nsub_max = 64 #104 #64 #84\n",
        "step = 20\n",
        "nsub_list = np.arange(4, nsub_max + step, step)\n",
        "# step_small = 4\n",
        "# nsub_list = np.concatenate((np.arange(4, 40 + step_small, step_small), np.arange(24 + step, nsub_max + step, step)))"
      ]
    },
    {
      "cell_type": "code",
      "execution_count": null,
      "metadata": {},
      "outputs": [],
      "source": [
        "def thetaphi2lonlat(theta, phi):\n",
        "    \"\"\"Transform co-latitude and longitude (rad) into longitude and latitude (deg)\n",
        "\n",
        "    Parameters\n",
        "    ----------\n",
        "    theta : int or array-like\n",
        "    Co-latitude in radians\n",
        "    phi : int or array-like\n",
        "    Longitude in radians\n",
        "\n",
        "    Returns\n",
        "    -------\n",
        "    lon, lat : float, scalar or array-like\n",
        "    The longitude and latitude in degrees\n",
        "    \"\"\"\n",
        "    return np.degrees(phi), 90.0 - np.degrees(theta)"
      ]
    },
    {
      "cell_type": "code",
      "execution_count": null,
      "metadata": {},
      "outputs": [],
      "source": [
        "bilinear_interp = None\n",
        "d[\"interp_projection\"] = bilinear_interp # update the dictionnary\n",
        "\n",
        "only_P = False\n",
        "\n",
        "use_Stokes = \"IQU\" # \"I\", \"QU\", \"IQU\", \"no\"\n",
        "list_Stokes = [\"I\", \"Q\", \"U\"]\n",
        "\n",
        "flat_I = True\n",
        "\n",
        "convolution_in = False # cannot be put to True in this code! (not implemented in master)\n",
        "# d[\"convolution_in\"] = convolution_in\n",
        "\n",
        "TOD_list = []\n",
        "freq_list = []\n",
        "TOD_all = []\n",
        "\n",
        "np.random.seed(d['seed'])\n",
        "\n",
        "# Build CMB map\n",
        "cl_cmb = CMBModel(None).give_cl_cmb(r=0, Alens=1)\n",
        "cmb_map = hp.synfast(cl_cmb, nside, new=True, verbose=False).T\n",
        "\n",
        "input_maps = cmb_map\n",
        "for iStoke, Stoke in enumerate(list_Stokes):\n",
        "    if Stoke not in use_Stokes:\n",
        "        print(\"Removing {}...\".format(Stoke))\n",
        "        input_maps[:, iStoke] = 0\n",
        "\n",
        "if flat_I:\n",
        "    print(\"Setting I to ones...\")\n",
        "    input_maps[:, 0] = np.ones_like(input_maps[:, 0])\n",
        "\n",
        "nrec = 2\n",
        "for insub in nsub_list:\n",
        "\n",
        "    # Build acquisition operator\n",
        "    Qacq = QubicMultiAcquisitions(d, insub, nrec, sampling=sampling)\n",
        "\n",
        "    # Build TOD\n",
        "    tod = []\n",
        "    map_list = []\n",
        "    print(np.shape(Qacq.H))\n",
        "    keep_all = []\n",
        "    if only_P:\n",
        "        all_P = []\n",
        "    for i in range(insub):\n",
        "        if only_P == False:\n",
        "            tod.append(Qacq.H[i](input_maps))\n",
        "        else:\n",
        "            if bilinear_interp:\n",
        "                P = Qacq.subacqs[i].instrument.get_projection_operator(Qacq.subacqs[i].sampling, Qacq.subacqs[i].scene, verbose=False, bricolage=True)\n",
        "                tod.append(P(input_maps))\n",
        "            else:\n",
        "                P = Qacq.subacqs[i].instrument.get_projection_operator(Qacq.subacqs[i].sampling, Qacq.subacqs[i].scene, verbose=False, bricolage=False)\n",
        "                tod.append(P(input_maps))\n",
        "    TOD_list.append(np.sum(tod, axis=0))\n",
        "    TOD_all.append(tod)\n",
        "    freq_list.append(np.array(Qacq.allnus))\n",
        "    # sys.exit()\n"
      ]
    },
    {
      "cell_type": "code",
      "execution_count": null,
      "metadata": {},
      "outputs": [],
      "source": [
        "test_tod = np.sum(TOD_all[0], axis=-1)\n",
        "print(np.shape(test_tod))"
      ]
    },
    {
      "cell_type": "code",
      "execution_count": null,
      "metadata": {},
      "outputs": [],
      "source": [
        "np.shape(TOD_all[0])"
      ]
    },
    {
      "cell_type": "code",
      "execution_count": null,
      "metadata": {},
      "outputs": [],
      "source": [
        "for i in range(nsub_list.size):\n",
        "    plt.plot(np.mean(TOD_list[i], axis=0), label=f\"Nsub = {nsub_list[i]}\")\n",
        "\n",
        "plt.title(\"Mean over detector\")\n",
        "plt.xlabel(\"Pointing\")\n",
        "plt.ylabel(\"TOD\")\n",
        "plt.legend(loc='best')"
      ]
    },
    {
      "cell_type": "code",
      "execution_count": null,
      "metadata": {},
      "outputs": [],
      "source": [
        "det_index = 200\n",
        "\n",
        "for i in range(nsub_list.size):\n",
        "    plt.plot(TOD_list[i][det_index], label=f\"Nsub = {nsub_list[i]}\")\n",
        "\n",
        "plt.title(f\"Detector {det_index}\")\n",
        "plt.xlabel(\"Pointing\")\n",
        "plt.ylabel(\"TOD\")\n",
        "plt.legend(loc='best')"
      ]
    },
    {
      "cell_type": "code",
      "execution_count": null,
      "metadata": {},
      "outputs": [],
      "source": [
        "# %%script echo skipping\n",
        "fig, ax = plt.subplots(1, 1, figsize=(6, 6))\n",
        "\n",
        "for i in range(len(TOD_list)):\n",
        "    rel_error = np.mean(np.abs((TOD_list[i] - TOD_list[-1]) / TOD_list[-1]))\n",
        "    ax.plot(nsub_list[i], rel_error, '.')\n",
        "\n",
        "ax.axhline(y=0.05, ls=\"--\", c=\"k\")\n",
        "ax.axhline(y=0.01, ls=\"dotted\", c=\"k\")\n",
        "\n",
        "ax.set_xlabel('Nsub')\n",
        "ax.set_ylabel(r'|$\\frac{H(map)^{max} - H(map)^{i}}{H(map)^{max}}$|')\n",
        "ax.set_title('Convergence of H (log scale)')\n",
        "ax.set_yscale('log')\n",
        "add_info = \"\"\n",
        "if bilinear_interp:\n",
        "    add_info += \"_bilin\"\n",
        "if convolution_in:\n",
        "    add_info += \"_convolved\"\n",
        "file_path = \"figures/bilinear_interpolation/nside{}_convergence_H_{}Stokes_{}pts_nsub{}{}.png\".format(nside, use_Stokes, npointings, nsub_max, add_info)\n",
        "plt.savefig(file_path, dpi=200)\n",
        "print(\"Saved plot as {}\".format(file_path))"
      ]
    },
    {
      "cell_type": "code",
      "execution_count": null,
      "metadata": {},
      "outputs": [],
      "source": [
        "print(np.shape(TOD_all[1]))\n",
        "print(np.shape(freq_list[0]))"
      ]
    },
    {
      "cell_type": "code",
      "execution_count": null,
      "metadata": {},
      "outputs": [],
      "source": [
        "print(len(nsub_list))\n",
        "print(len(TOD_all))"
      ]
    },
    {
      "cell_type": "code",
      "execution_count": null,
      "metadata": {},
      "outputs": [],
      "source": [
        "idet = 0\n",
        "ipoint = 0\n",
        "array_colors = [p[\"color\"] for p in plt.rcParams[\"axes.prop_cycle\"]] #plt.rcParams[\"axes.prop_cycle\"]\n",
        "print(len(array_colors))\n",
        "plt.figure(figsize=(10, 7))\n",
        "for i in range(len(TOD_all)):\n",
        "    nsub_i = len(TOD_all[i])\n",
        "    # if nsub_i not in [36, 40, 104]: # to plot only some nsub\n",
        "    #     continue\n",
        "    if only_P:\n",
        "        plot_yi = np.array([ TOD_all[i][j][idet][ipoint][2] for j in range(nsub_i) ]) # here we just take I for now because I set Q and U to zero\n",
        "    else:\n",
        "        plot_yi = np.array([ TOD_all[i][j][idet][ipoint] for j in range(nsub_i) ]) * nsub_i\n",
        "    plot_xi = freq_list[i]\n",
        "    # plt.plot(plot_xi, plot_yi*nsub_i, \".\", label=\"nsub = {}\".format(nsub_i))\n",
        "    plt.plot(plot_xi[:nsub_i//2], plot_yi[:nsub_i//2], \"x-\", c=array_colors[i%len(array_colors)], label=\"nsub = {}\".format(nsub_i))\n",
        "    plt.plot(plot_xi[nsub_i//2:], plot_yi[nsub_i//2:], \"x-\", c=array_colors[i%len(array_colors)])\n",
        "    plt.axhline(np.sum(plot_yi)/nsub_i, c=array_colors[i%len(array_colors)], alpha=1/(len(nsub_list)*2 - i) + 0.5)\n",
        "    plt.title(\"TOD value for one pointing\")\n",
        "    plt.xlabel(\"Frequency [GHz]\")\n",
        "    plt.ylabel(r\"Flux [$W.m^{-2}$]\")\n",
        "# plt.yscale(\"log\")\n",
        "plt.legend()\n",
        "file_path = \"figures/bilinear_interpolation/nside{}_onepointing_H_{}Stokes_nsub{}{}.png\".format(nside, use_Stokes, nsub_max, add_info)\n",
        "plt.savefig(file_path, dpi=300)\n",
        "print(\"saved plot as {}\".format(file_path))\n",
        "plt.show()"
      ]
    },
    {
      "cell_type": "code",
      "execution_count": null,
      "metadata": {},
      "outputs": [],
      "source": []
    },
    {
      "cell_type": "code",
      "execution_count": null,
      "metadata": {},
      "outputs": [],
      "source": []
    }
  ],
  "metadata": {},
  "nbformat": 4,
  "nbformat_minor": 2
}
