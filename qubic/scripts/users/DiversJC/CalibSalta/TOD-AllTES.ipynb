{
 "cells": [
  {
   "cell_type": "code",
   "execution_count": null,
   "id": "ed5d8295",
   "metadata": {},
   "outputs": [],
   "source": [
    "%config InlineBackend.figure_format='retina'\n",
    "from IPython.display import display, HTML\n",
    "display(HTML(\"<style>.container { width:95% !important; }</style>\"))\n",
    "\n",
    "rc('figure',figsize=(16,8))\n",
    "rc('font',size=12)\n",
    "\n",
    "from scipy.signal import medfilt\n",
    "from scipy.interpolate import interp1d\n",
    "from sklearn.cluster import DBSCAN\n",
    "\n",
    "from qubicpack.qubicfp import qubicfp\n",
    "from qubic import fibtools as ft\n",
    "\n",
    "from importlib import reload\n",
    "import healpy as hp\n",
    "\n",
    "import time_domain_tools as tdt"
   ]
  },
  {
   "cell_type": "markdown",
   "id": "2455b9ac",
   "metadata": {},
   "source": [
    "## Looking at all TES in order to asses the quality and see common features\n"
   ]
  },
  {
   "cell_type": "code",
   "execution_count": null,
   "id": "835c71da",
   "metadata": {},
   "outputs": [],
   "source": [
    "mydatadir = '/Users/hamilton/Qubic/Calib-TD/'\n",
    "thedate = '2022-04-16'\n",
    "thedata = '2022-04-16_12.37.59__ScanMap_Speed_VE14_FastNoMod'\n",
    "FreqSrc = 140.\n",
    "\n",
    "# mydatadir = '/Users/hamilton/Qubic/Calib-TD/'\n",
    "# thedate = '2022-04-14'\n",
    "# thedata = '2022-04-14_13.17.33__ScanMap_Speed_VE14_FastNoMod'\n",
    "# FreqSrc = 170.\n",
    "\n",
    "\n",
    "filename = mydatadir + '/' + thedate + '/' + thedata\n",
    "\n",
    "### Read data\n",
    "a = qubicfp()\n",
    "a.read_qubicstudio_dataset(filename)\n",
    "\n",
    "tt, alltod = a.tod()\n",
    "\n",
    "az = a.azimuth()\n",
    "el = a.elevation()\n",
    "thk = a.timeaxis(datatype='hk')\n",
    "\n",
    "del(a)\n",
    "\n",
    "### We remove tt[0]\n",
    "tinit = tt[0]\n",
    "tt -= tinit\n",
    "thk -= tinit\n"
   ]
  },
  {
   "cell_type": "markdown",
   "id": "76477038",
   "metadata": {},
   "source": [
    "### Scanning related information\n",
    "we first apply the `identify_scans()` function to get relevant information from the scanning. It provides:\n",
    "- scantype_hk (1,-1 for azmuth directions, 0 for extreme of the scans -> to be discarded)\n",
    "- scantype, az, el sampled on the same time axis as the data"
   ]
  },
  {
   "cell_type": "code",
   "execution_count": null,
   "id": "2a4b4388",
   "metadata": {},
   "outputs": [],
   "source": [
    "# Identify scan types and numbers\n",
    "%matplotlib inline\n",
    "rc('figure',figsize=(16,8))\n",
    "\n",
    "reload(tdt)\n",
    "scantype_hk, azt, elt, scantype = tdt.identify_scans(thk, az, el, tt=tt, doplot=True, thr_speedmin=0.1)"
   ]
  },
  {
   "cell_type": "markdown",
   "id": "e9f1c89f",
   "metadata": {},
   "source": [
    "Let's first plot all TES in order to have an idea of the abvious issues.\n",
    "\n",
    "We clearly see the saturated ones here: they reach the maximum and minimum range in the plot below. SO we need to discard all TES that reach this value at a time. In a further analysis we may only cut the regions where saturation occurs. Here we decide to be a bit brutal and just remove any TES that reaches saturation, even for one time sample"
   ]
  },
  {
   "cell_type": "code",
   "execution_count": null,
   "id": "54e80d8a",
   "metadata": {},
   "outputs": [],
   "source": [
    "rc('figure',figsize=(16,8))\n",
    "rc('font',size=12)\n",
    "\n",
    "tst = 1000\n",
    "dt = 3000\n",
    "\n",
    "tes_list = np.arange(256)\n",
    "\n",
    "\n",
    "ok =(tt > tst) & (tt < (tst+dt))\n",
    "\n",
    "for i in range(len(tes_list)):\n",
    "    plot(tt[ok], -alltod[i,ok], label='TES {}'.format(i))"
   ]
  },
  {
   "cell_type": "code",
   "execution_count": null,
   "id": "2cabaf14",
   "metadata": {},
   "outputs": [],
   "source": [
    "maxis = np.max(np.abs(alltod), axis=1)\n",
    "print('Saturation value: {}'.format(np.max(maxis)))\n",
    "\n",
    "frac = np.zeros(256)\n",
    "for i in range(256):\n",
    "    frac[i] = (np.abs(alltod[i,:])==np.max(maxis)).sum() / len(tt) * 100\n",
    "a=hist(frac, range=[0,100], bins=1000)  \n",
    "xlabel('Fraction of saturated time samples [%]')\n",
    "ylabel('Number of TES')\n",
    "xscale('log')\n",
    "yscale('log')\n",
    "\n",
    "oktes = (maxis < np.max(maxis))\n",
    "print('Number of never-saturated TES: {}'.format(oks.sum()))\n",
    "\n",
    "figure()\n",
    "for i in range(len(tes_list)):\n",
    "    if oks[i]:\n",
    "        plot(tt[ok], -alltod[i,ok], label='TES {}'.format(i))"
   ]
  },
  {
   "cell_type": "markdown",
   "id": "d8b17a40",
   "metadata": {},
   "source": [
    "We need to reduce this as much as we can... Most of this is due to the jumps. Can we prevent that with QUBIC Studio, or at a deeper level ? I don't remember seeing this with data taken in Paris...\n",
    "\n",
    "Anyway, let's continue with those \"good TES\"..."
   ]
  },
  {
   "cell_type": "code",
   "execution_count": null,
   "id": "382afb79",
   "metadata": {},
   "outputs": [],
   "source": [
    "# Covariance matrix of all TES\n",
    "mycovmat = np.cov(alltod[oktes,:])\n",
    "\n",
    "def cov2corr(mat):\n",
    "    \"\"\"\n",
    "    Converts a Covariance Matrix in a Correlation Matrix\n",
    "    \"\"\"\n",
    "    newmat = np.empty_like(mat)\n",
    "    ll, cc = np.shape(mat)\n",
    "    for i in range(ll):\n",
    "        for j in range(cc):\n",
    "            newmat[i, j] = mat[i, j] / np.sqrt(mat[i, i] * mat[j, j])\n",
    "    return newmat\n",
    "\n",
    "mycorrmat = cov2corr(mycovmat)\n",
    "\n",
    "subplot(1,2,1)\n",
    "imshow(np.log10(mycovmat))\n",
    "colorbar()\n",
    "subplot(1,2,2)\n",
    "imshow(np.log10(mycorrmat))\n",
    "colorbar()\n"
   ]
  },
  {
   "cell_type": "code",
   "execution_count": null,
   "id": "d4db729c",
   "metadata": {},
   "outputs": [],
   "source": [
    "rc('figure',figsize=(20,12))\n",
    "for j in range(8):\n",
    "    figure()\n",
    "    title('TES {} to {}'.format(j*32+1, (j+1)*32))\n",
    "    for i in range(32):\n",
    "        if oks[j*32+i]:\n",
    "            plot(tt[ok], -alltod[j*32+i,ok], label='TES {}'.format(j*32+i+1))  \n",
    "    legend(fontsize=8)\n",
    "    show()"
   ]
  },
  {
   "cell_type": "markdown",
   "id": "f3872720",
   "metadata": {},
   "source": [
    "There a re many things to remark here, each will require a specific code for dealing with it:\n",
    "- Jumps are a huge problem as said before (not in this reduced TES sample however)\n",
    "- At each end of scan, we perform a FLL reset that produces some very noisy data. This part of the data will be flagged as bad and should actually be replaced by a constrained noise realization (set from the data before and after)."
   ]
  },
  {
   "cell_type": "code",
   "execution_count": null,
   "id": "b1ffacbd",
   "metadata": {},
   "outputs": [],
   "source": []
  },
  {
   "cell_type": "markdown",
   "id": "ed4bff3f",
   "metadata": {},
   "source": [
    "# Jumps detection\n",
    "Haar wavelets (inspired form Camille Perbost PhD)"
   ]
  },
  {
   "cell_type": "code",
   "execution_count": null,
   "id": "8ec08389",
   "metadata": {},
   "outputs": [],
   "source": [
    "%matplotlib notebook\n",
    "# %matplotlib inline\n",
    "%config InlineBackend.figure_format='retina'\n",
    "rc('figure',figsize=(15,8))\n",
    "\n",
    "reload(tdt)\n",
    "\n",
    "# numTES = 163\n",
    "# numTES = 134\n",
    "# numTES = 33\n",
    "numTES = 102\n",
    "\n",
    "tmin = 0\n",
    "tmax = np.max(tt)\n",
    "ok = (tt>=tmin) & (tt <= tmax)\n",
    "\n",
    "idx = np.arange(len(alltod[numTES-1,:]))\n",
    "# ok = (idx > 1.18e6) & (idx < 1.25e6+10000)\n",
    "# ok = (idx > 0.3e6) & (idx < 0.5e6)\n",
    "# ok = (idx > (1.5e6+298000)) & (idx < (1.5e6+306000))\n",
    "# ok = (idx > (1.5e6)) & (idx < (2.e6))\n",
    "\n",
    "\n",
    "ddinit = -alltod[numTES-1,:][ok]\n",
    "mytt = tt[ok]\n",
    "flags = np.zeros(len(ddinit), dtype=int)    ### At first all time samples are considered OK\n",
    "\n",
    "\n",
    "### Flag-out the regions at the azimuth-edge of the scans\n",
    "flags[scantype[ok]==0] = 1e7   \n",
    "dd = tdt.fill_bad_regions(ddinit, flags, fill_baselines='equalize')\n",
    "\n",
    "figure()\n",
    "idx = np.arange(len(dd))\n",
    "subplot(2,1,1)\n",
    "plot(idx, ddinit, label='Initial Data')\n",
    "plot(idx[flags>0], ddinit[flags>0], 'g.', label='Flagged bad (scanning)')\n",
    "legend()\n",
    "xlabel('Samples')\n",
    "ylabel('ADU')\n",
    "title('Raw TOD')\n",
    "subplot(2,1,2)\n",
    "plot(idx, dd, label='Data')\n",
    "plot(idx[flags>0], dd[flags>0], 'g.', label='Flagged bad')\n",
    "xlabel('Samples')\n",
    "ylabel('ADU')\n",
    "title('Corrected for extreme scanning regions')\n",
    "legend()\n",
    "tight_layout()\n",
    "\n",
    "\n",
    "newdd, flags_jumps = tdt.jumps_correction(dd, threshold=15, size_haar=51, doplot=False, verbose=False, method='continuity_lin')\n",
    "flags += flags_jumps\n",
    "\n",
    "\n",
    "figure()\n",
    "idx = np.arange(len(dd))\n",
    "subplot(2,1,1)\n",
    "plot(idx, dd, label='Data')\n",
    "plot(idx[flags>0], dd[flags>0], 'g.', label='Flagged bad')\n",
    "plot(idx[flags_jumps>0], dd[flags_jumps>0], 'r.', label='Flagged bad for jumps')\n",
    "legend()\n",
    "xlabel('Samples')\n",
    "ylabel('ADU')\n",
    "title('Raw TOD')\n",
    "subplot(2,1,2)\n",
    "plot(idx, newdd, label='Data')\n",
    "plot(idx[flags>0], newdd[flags>0], 'g.', label='Flagged bad')\n",
    "plot(idx[flags_jumps>0], newdd[flags_jumps>0], 'r.', label='Flagged bad for jumps')\n",
    "xlabel('Samples')\n",
    "ylabel('ADU')\n",
    "title('Corrected for jumps')\n",
    "legend()\n",
    "tight_layout()"
   ]
  },
  {
   "cell_type": "code",
   "execution_count": null,
   "id": "eb449034",
   "metadata": {},
   "outputs": [],
   "source": []
  },
  {
   "cell_type": "code",
   "execution_count": null,
   "id": "7121f01a",
   "metadata": {},
   "outputs": [],
   "source": []
  },
  {
   "cell_type": "code",
   "execution_count": null,
   "id": "e05d476d",
   "metadata": {},
   "outputs": [],
   "source": []
  },
  {
   "cell_type": "code",
   "execution_count": null,
   "id": "fb2b5c4c",
   "metadata": {},
   "outputs": [],
   "source": []
  },
  {
   "cell_type": "code",
   "execution_count": null,
   "id": "425b2ea9",
   "metadata": {},
   "outputs": [],
   "source": []
  },
  {
   "cell_type": "code",
   "execution_count": null,
   "id": "526c9cdc",
   "metadata": {},
   "outputs": [],
   "source": []
  },
  {
   "cell_type": "code",
   "execution_count": null,
   "id": "619e0312",
   "metadata": {},
   "outputs": [],
   "source": []
  },
  {
   "cell_type": "code",
   "execution_count": null,
   "id": "1fb7523c",
   "metadata": {},
   "outputs": [],
   "source": []
  },
  {
   "cell_type": "code",
   "execution_count": null,
   "id": "6c78b96a",
   "metadata": {},
   "outputs": [],
   "source": []
  },
  {
   "cell_type": "code",
   "execution_count": null,
   "id": "e6577842",
   "metadata": {},
   "outputs": [],
   "source": []
  },
  {
   "cell_type": "code",
   "execution_count": null,
   "id": "f5fa57f5",
   "metadata": {},
   "outputs": [],
   "source": []
  },
  {
   "cell_type": "code",
   "execution_count": null,
   "id": "2a9af5ee",
   "metadata": {},
   "outputs": [],
   "source": [
    "# Covariance matrix of all TES\n",
    "mycovmat = np.cov(alltod)\n",
    "\n",
    "def cov2corr(mat):\n",
    "    \"\"\"\n",
    "    Converts a Covariance Matrix in a Correlation Matrix\n",
    "    \"\"\"\n",
    "    newmat = np.empty_like(mat)\n",
    "    ll, cc = np.shape(mat)\n",
    "    for i in range(ll):\n",
    "        for j in range(cc):\n",
    "            newmat[i, j] = mat[i, j] / np.sqrt(mat[i, i] * mat[j, j])\n",
    "    return newmat\n",
    "\n",
    "mycorrmat = cov2corr(mycovmat)\n",
    "\n",
    "subplot(1,2,1)\n",
    "imshow(np.log10(mycovmat))\n",
    "colorbar()\n",
    "subplot(1,2,2)\n",
    "imshow(np.log10(mycorrmat))\n",
    "colorbar()\n"
   ]
  },
  {
   "cell_type": "code",
   "execution_count": null,
   "id": "dc31ac85",
   "metadata": {},
   "outputs": [],
   "source": [
    "### Now we need to discard bad TES, roughly intercalibrate TESs... Tricky...\n",
    "allmedians = np.median(alltod, axis=1)\n",
    "allstd = np.std(alltod, axis=1)"
   ]
  },
  {
   "cell_type": "code",
   "execution_count": null,
   "id": "71376a0b",
   "metadata": {},
   "outputs": [],
   "source": [
    "mm, ss = ft.meancut(allmedians, 3)\n",
    "okmed = np.abs(allmedians) < ss/5\n",
    "okstd = allstd < 0.15e6\n",
    "\n",
    "ok = okmed & okstd\n",
    "\n",
    "np.sum(ok)\n",
    "\n",
    "subplot(1,3,1)\n",
    "plot(allmedians, allstd, 'ko', label='All')\n",
    "plot(allmedians[ok], allstd[ok], 'ro', label='Kept')\n",
    "xlabel('Median of TOD')\n",
    "ylabel('RMS')\n",
    "legend()\n",
    "\n",
    "subplot(1,3,2)\n",
    "a=hist(allmedians, range=[-5e6, 5e6], bins=101, color='k', alpha=0.3, label='All')\n",
    "a=hist(allmedians[ok], range=[-5e6, 5e6], bins=101, color='r', alpha =0.3, label='Kept')\n",
    "xlabel('Median of TOD')\n",
    "legend()\n",
    "\n",
    "subplot(1,3,3)\n",
    "a=hist(allstd, range=[0, 3e6], bins=101, color='k', alpha=0.3, label='All')\n",
    "a=hist(allstd[ok], range=[0, 3e6], bins=101, color='r', alpha =0.3, label='Kept')\n",
    "xlabel('STD of TOD')\n",
    "legend()\n",
    "\n",
    "todsok = alltod[ok,:]\n",
    "print('Kept: {} TES'.format(np.sum(ok)))\n",
    "print(np.shape(todsok))"
   ]
  },
  {
   "cell_type": "code",
   "execution_count": null,
   "id": "50fcc2fb",
   "metadata": {},
   "outputs": [],
   "source": [
    "todsok = ((todsok.T - allmedians[ok])).T\n",
    "med_tod = np.median((todsok.T/allstd[ok]**2), 1).T"
   ]
  },
  {
   "cell_type": "code",
   "execution_count": null,
   "id": "850ff2ab",
   "metadata": {},
   "outputs": [],
   "source": [
    "import scipy\n",
    "from scipy import ndimage\n",
    "med_tod = scipy.ndimage.median_filter(med_tod, 10)"
   ]
  },
  {
   "cell_type": "code",
   "execution_count": null,
   "id": "ba05a31d",
   "metadata": {},
   "outputs": [],
   "source": []
  }
 ],
 "metadata": {
  "kernelspec": {
   "display_name": "Python 3 (ipykernel)",
   "language": "python",
   "name": "python3"
  }
 },
 "nbformat": 4,
 "nbformat_minor": 5
}
