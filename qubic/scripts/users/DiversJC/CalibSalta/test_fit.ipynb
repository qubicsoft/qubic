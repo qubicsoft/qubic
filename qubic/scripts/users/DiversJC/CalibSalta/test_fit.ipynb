{
 "cells": [
  {
   "cell_type": "code",
   "execution_count": null,
   "id": "57605e7f",
   "metadata": {},
   "outputs": [],
   "source": [
    "from qubic import fibtools as ft\n",
    "import fitting as fit\n",
    "from importlib import reload\n",
    "\n",
    "rc('figure',figsize=(10,6))\n",
    "rc('font',size=12)\n"
   ]
  },
  {
   "cell_type": "code",
   "execution_count": null,
   "id": "0925d595",
   "metadata": {},
   "outputs": [],
   "source": [
    "######### iminuit direct\n",
    "x = np.linspace(0,1,10)\n",
    "sig = np.ones(len(x)) * 1.\n",
    "errors = np.random.randn(len(x)) * sig\n",
    "y = 3*x+1 + errors\n",
    "\n",
    "def linearfit(x, pars):\n",
    "    return pars[0] + pars[1] * x\n",
    "\n",
    "import iminuit\n",
    "from iminuit.cost import LeastSquares\n",
    "myminimizer = LeastSquares(x, y, errors, linearfit)\n",
    "m = iminuit.Minuit(myminimizer, [0., 0.], name=None)\n",
    "m.migrad()\n",
    "m.hesse()\n",
    "\n",
    "print(m)\n",
    "\n",
    "errorbar(x, y, yerr=sig, fmt='ko')\n",
    "plot(x, linearfit(x, m.values), 'r', lw=2)"
   ]
  },
  {
   "cell_type": "code",
   "execution_count": null,
   "id": "dc1e31db",
   "metadata": {},
   "outputs": [],
   "source": [
    "m.interactive()"
   ]
  },
  {
   "cell_type": "code",
   "execution_count": null,
   "id": "161dfd5c",
   "metadata": {},
   "outputs": [],
   "source": [
    "### Use the fitting.py library \n",
    "\n",
    "reload(fit)\n",
    "\n",
    "x = np.linspace(0,1,10)\n",
    "sig = np.ones(len(x)) * 1.\n",
    "errors = np.random.randn(len(x)) * sig\n",
    "y = 3*x+1 + errors\n",
    "\n",
    "def linearfit(x, pars):\n",
    "    return pars[0] + pars[1] * x\n",
    "\n",
    "mydata = fit.Data(x,y,sig, linearfit, pnames=['a', 'b'])\n",
    "\n",
    "guess = [0., 0.]\n",
    "mydata.fit_minuit(guess)\n",
    "mydata.plot()"
   ]
  },
  {
   "cell_type": "code",
   "execution_count": null,
   "id": "5dab7d2e",
   "metadata": {},
   "outputs": [],
   "source": [
    "m.interactive()"
   ]
  },
  {
   "cell_type": "markdown",
   "id": "7604e531",
   "metadata": {},
   "source": [
    "# 2D fitting"
   ]
  },
  {
   "cell_type": "code",
   "execution_count": null,
   "id": "9b8fda0b",
   "metadata": {},
   "outputs": [],
   "source": [
    "x = np.linspace(-10,10,101)\n",
    "y = x.copy()\n",
    "xx,yy = meshgrid(x,y)\n",
    "\n",
    "signoise = 0.3\n",
    "mapxy = 3. * np.exp(-0.5 * ((xx-2)**2 + (yy+3)**2)/0.5) + np.random.randn(*np.shape(xx))*signoise\n",
    "\n",
    "imshow(mapxy, origin='lower', extent=[np.min(x), np.max(x), np.min(y), np.max(y)])\n",
    "xlabel('Arcminutes')\n",
    "ylabel('Arcminutes')\n",
    "colorbar()\n"
   ]
  },
  {
   "cell_type": "code",
   "execution_count": null,
   "id": "e2e5d77c",
   "metadata": {},
   "outputs": [],
   "source": [
    "class gauss2dfit:\n",
    "    def __init__(self, xx, yy):\n",
    "        self.xx = xx\n",
    "        self.yy = yy\n",
    "    def __call__(self, x, pars):\n",
    "        amp, xc, yc, sig = pars\n",
    "        mygauss = amp * np.exp(-0.5*((self.xx-xc)**2+(self.yy-yc)**2)/sig**2)\n",
    "        return np.ravel(mygauss)\n",
    "        \n",
    "\n",
    "guess = np.array([np.max(mapxy), 0.,0., 1.])\n",
    "\n",
    "g2d = gauss2dfit(xx, yy)\n",
    "\n",
    "\n",
    "mm, ss = ft.meancut(mapxy, 3)\n",
    "\n",
    "data = fit.Data(np.ravel(xx), np.ravel(mapxy), np.ravel(xx)*0+ss, g2d)\n",
    "m, ch2, ndf = data.fit_minuit(guess)\n",
    "\n",
    "subplot(2,3,1)\n",
    "imshow(mapxy, origin='lower', extent=[np.min(x), np.max(x), np.min(y), np.max(y)])\n",
    "xlabel('Arcminutes')\n",
    "ylabel('Arcminutes')\n",
    "colorbar()\n",
    "\n",
    "fitted = np.reshape(g2d(x, m.values), (len(x), len(x)))\n",
    "\n",
    "subplot(2,3,2)\n",
    "imshow(fitted, origin='lower', extent=[np.min(x), np.max(x), np.min(y), np.max(y)])\n",
    "xlabel('Arcminutes')\n",
    "ylabel('Arcminutes')\n",
    "colorbar()\n",
    "\n",
    "subplot(2,3,3)\n",
    "imshow(mapxy-fitted, origin='lower', extent=[np.min(x), np.max(x), np.min(y), np.max(y)])\n",
    "xlabel('Arcminutes')\n",
    "ylabel('Arcminutes')\n",
    "colorbar()\n",
    "\n",
    "tight_layout()"
   ]
  },
  {
   "cell_type": "markdown",
   "id": "9d1b9251",
   "metadata": {},
   "source": [
    "# Now using a user-defined cost function"
   ]
  },
  {
   "cell_type": "code",
   "execution_count": null,
   "id": "313207a1",
   "metadata": {},
   "outputs": [],
   "source": [
    "######### iminuit direct\n",
    "x = np.linspace(0,1,10)\n",
    "sig = np.ones(len(x)) * 1.\n",
    "errors = np.random.randn(len(x)) * sig\n",
    "y = 3*x+1 + errors\n",
    "\n",
    "def linearfit(x, pars):\n",
    "    return pars[0] + pars[1] * x\n",
    "\n",
    "class mychi2:\n",
    "    \"\"\"\n",
    "    Generic least-squares cost function with error.\n",
    "    \"\"\"\n",
    "    \n",
    "    errordef = iminuit.Minuit.LEAST_SQUARES # for Minuit to compute errors correctly\n",
    "\n",
    "    def __init__(self, x, y, err, model):\n",
    "        self.model = model  # model predicts y for given x\n",
    "        self.x = np.asarray(x)\n",
    "        self.y = np.asarray(y)\n",
    "        self.err = np.asarray(err)\n",
    "\n",
    "    def __call__(self, *par):  # we accept a variable number of model parameters\n",
    "        ym = self.model(self.x, *par)\n",
    "        return np.sum((self.y - ym) ** 2 / self.err ** 2)\n",
    "\n",
    "    @property\n",
    "    def ndata(self):\n",
    "        return len(self.x)\n",
    "\n",
    "import iminuit\n",
    "from iminuit.cost import LeastSquares\n",
    "myminimizer = mychi2(x, y, errors, linearfit)\n",
    "m = iminuit.Minuit(myminimizer, [0., 0.], name=None)\n",
    "m.migrad()\n",
    "m.hesse()\n",
    "\n",
    "print(m)\n",
    "\n",
    "errorbar(x, y, yerr=sig, fmt='ko')\n",
    "plot(x, linearfit(x, m.values), 'r', lw=2)"
   ]
  },
  {
   "cell_type": "markdown",
   "id": "21d458fa",
   "metadata": {},
   "source": [
    "# Now with the fitting library"
   ]
  },
  {
   "cell_type": "code",
   "execution_count": null,
   "id": "b3cddf10",
   "metadata": {},
   "outputs": [],
   "source": [
    "### Use the fitting.py library \n",
    "\n",
    "reload(fit)\n",
    "\n",
    "x = np.linspace(0,1,10)\n",
    "sig = np.ones(len(x)) * 1.\n",
    "errors = np.random.randn(len(x)) * sig\n",
    "y = 3*x+1 + errors\n",
    "\n",
    "def linearfit(x, pars):\n",
    "    return pars[0] + pars[1] * x\n",
    "\n",
    "class mychi2:\n",
    "    \"\"\"\n",
    "    Generic least-squares cost function with error.\n",
    "    \"\"\"\n",
    "    \n",
    "    errordef = iminuit.Minuit.LEAST_SQUARES # for Minuit to compute errors correctly\n",
    "\n",
    "    def __init__(self, x, y, err, model):\n",
    "        self.model = model  # model predicts y for given x\n",
    "        self.x = np.asarray(x)\n",
    "        self.y = np.asarray(y)\n",
    "        self.err = np.asarray(err)\n",
    "\n",
    "    def __call__(self, *par):  # we accept a variable number of model parameters\n",
    "        ym = self.model(self.x, *par)\n",
    "        return np.sum((self.y - ym) ** 2 / self.err ** 2)\n",
    "\n",
    "    @property\n",
    "    def ndata(self):\n",
    "        return len(self.x)\n",
    "\n",
    "mydata = fit.Data(x,y,sig, linearfit, pnames=['a', 'b'])\n",
    "\n",
    "guess = [0., 0.]\n",
    "fitted, ch2, ndf = mydata.fit_minuit(guess, minimizer=mychi2)\n",
    "\n",
    "mydata.plot()"
   ]
  },
  {
   "cell_type": "code",
   "execution_count": null,
   "id": "ffaefe85",
   "metadata": {},
   "outputs": [],
   "source": [
    "print(fitted.values)\n",
    "print(np.array(fitted.values))"
   ]
  },
  {
   "cell_type": "code",
   "execution_count": null,
   "id": "781d9641",
   "metadata": {},
   "outputs": [],
   "source": [
    "print(fitted.errors)\n",
    "print(np.array(fitted.errors))"
   ]
  },
  {
   "cell_type": "code",
   "execution_count": null,
   "id": "1768310d",
   "metadata": {},
   "outputs": [],
   "source": [
    "print(fitted.covariance)\n",
    "print(np.array(fitted.covariance))"
   ]
  },
  {
   "cell_type": "code",
   "execution_count": null,
   "id": "3e59dac8",
   "metadata": {},
   "outputs": [],
   "source": [
    "vals = np.random.randn(1000)*2.5+6"
   ]
  },
  {
   "cell_type": "code",
   "execution_count": null,
   "id": "3550a687",
   "metadata": {},
   "outputs": [],
   "source": [
    "fit.myhist(vals, bins=10, unbinned=False)"
   ]
  },
  {
   "cell_type": "code",
   "execution_count": null,
   "id": "eac1b446",
   "metadata": {},
   "outputs": [],
   "source": []
  }
 ],
 "metadata": {
  "kernelspec": {
   "display_name": "Python 3 (ipykernel)",
   "language": "python",
   "name": "python3"
  }
 },
 "nbformat": 4,
 "nbformat_minor": 5
}
