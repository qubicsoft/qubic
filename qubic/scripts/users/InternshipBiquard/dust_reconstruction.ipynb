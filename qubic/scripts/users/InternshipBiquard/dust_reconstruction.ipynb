{
 "cells": [
  {
   "cell_type": "code",
   "execution_count": null,
   "id": "06dd715b",
   "metadata": {},
   "outputs": [],
   "source": [
    "import sys, os\n",
    "import numpy as np\n",
    "import matplotlib.pyplot as plt"
   ]
  },
  {
   "cell_type": "code",
   "execution_count": null,
   "id": "e689921f",
   "metadata": {},
   "outputs": [],
   "source": [
    "OUTDIR_LOCAL = \"/home/simon/PycharmProjects/qubic_comp_sep/output/\"\n",
    "DATADIR_LOCAL = \"/home/simon/PycharmProjects/qubic_comp_sep/data/\""
   ]
  },
  {
   "cell_type": "code",
   "execution_count": null,
   "id": "f429a4a3",
   "metadata": {},
   "outputs": [],
   "source": [
    "npz = np.load(OUTDIR_LOCAL+\"BetaDustEstimate_IQU_SingleBand_400years.npz\")\n",
    "print(npz.files)"
   ]
  },
  {
   "cell_type": "code",
   "execution_count": null,
   "id": "83f836f7",
   "metadata": {},
   "outputs": [],
   "source": [
    "print(np.max(npz['beta_150_3_00']))\n",
    "print(np.max(npz['beta_150_3_01']))\n",
    "print(np.max(npz['beta_150_3_10']))\n",
    "print(np.max(npz['beta_150_3_11']))"
   ]
  },
  {
   "cell_type": "code",
   "execution_count": null,
   "id": "c6a80b56",
   "metadata": {},
   "outputs": [],
   "source": [
    "# 150 GHz results\n",
    "fig, axes = plt.subplots(3, 4, figsize=(16, 10))\n",
    "for i in range(3):\n",
    "    for j in range(4):\n",
    "        noise_properties = np.binary_repr(j, width=2)[::-1]\n",
    "        # spatial = bool(int(noise_properties[1]))\n",
    "        # nunu = bool(int(noise_properties[0]))\n",
    "        data = npz['beta_150_'+str(i+3)+'_'+noise_properties]\n",
    "        mean, std = np.mean(data), np.std(data)\n",
    "        axe = axes[i, j]\n",
    "        axe.hist(data, bins='auto', histtype='step', density=False)\n",
    "        axe.axvline(x=mean, color='blue')\n",
    "        axe.axvline(x=1.55, color='red')\n",
    "        axe.text(0.05, 0.9, \"{:d} realizations\".format(len(data)), transform=axe.transAxes, fontsize=10, ha='left')\n",
    "\n",
    "fig.suptitle(\"Histograms of fitted beta_dust at 150 GHz / 400 years and different noise properties\", fontsize='xx-large')\n",
    "\n",
    "axes[0, 0].text(-0.3, 0.5, \"#bands = 3\", transform=axes[0, 0].transAxes, fontsize=18, fontweight='bold', va='center', rotation=90)\n",
    "axes[1, 0].text(-0.3, 0.5, \"#bands = 4\", transform=axes[1, 0].transAxes, fontsize=18, fontweight='bold', va='center', rotation=90)\n",
    "axes[2, 0].text(-0.3, 0.5, \"#bands = 5\", transform=axes[2, 0].transAxes, fontsize=18, fontweight='bold', va='center', rotation=90)\n",
    "\n",
    "axes[0, 0].text(0.5, 1.1, \"white noise\", transform=axes[0, 0].transAxes, fontsize=18, fontweight='bold', ha='center')\n",
    "axes[0, 1].text(0.5, 1.1, \"nunu correlations\", transform=axes[0, 1].transAxes, fontsize=18, fontweight='bold', ha='center')\n",
    "axes[0, 2].text(0.5, 1.1, \"spatial correlations\", transform=axes[0, 2].transAxes, fontsize=18, fontweight='bold', ha='center')\n",
    "axes[0, 3].text(0.5, 1.1, \"all correlations\", transform=axes[0, 3].transAxes, fontsize=18, fontweight='bold', ha='center')\n",
    "\n",
    "plt.show()"
   ]
  },
  {
   "cell_type": "code",
   "execution_count": null,
   "id": "35988433",
   "metadata": {},
   "outputs": [],
   "source": [
    "# 220 GHz results\n",
    "fig, axes = plt.subplots(3, 4, figsize=(16, 10))\n",
    "for i in range(3):\n",
    "    for j in range(4):\n",
    "        data = npz['beta_220_'+str(i+3)+'_'+np.binary_repr(j, width=2)[::-1]]\n",
    "        mean, std = np.mean(data), np.std(data)\n",
    "        axe = axes[i, j]\n",
    "        axe.hist(data, bins='auto', histtype='step', density=False)\n",
    "        axe.axvline(x=mean, color='blue')\n",
    "        axe.axvline(x=1.55, color='red')\n",
    "        axe.set_xlim([1.30, 1.6])\n",
    "        axe.text(0.05, 0.9, \"{:d} realizations\".format(len(data)), transform=axe.transAxes, fontsize=10, ha='left')\n",
    "\n",
    "fig.suptitle(\"Histograms of fitted beta_dust at 220 GHz / 400 years and different noise properties\", fontsize='xx-large')\n",
    "\n",
    "axes[0, 0].text(-0.3, 0.5, \"#bands = 3\", transform=axes[0, 0].transAxes, fontsize=18, fontweight='bold', va='center', rotation=90)\n",
    "axes[1, 0].text(-0.3, 0.5, \"#bands = 4\", transform=axes[1, 0].transAxes, fontsize=18, fontweight='bold', va='center', rotation=90)\n",
    "axes[2, 0].text(-0.3, 0.5, \"#bands = 5\", transform=axes[2, 0].transAxes, fontsize=18, fontweight='bold', va='center', rotation=90)\n",
    "\n",
    "axes[0, 0].text(0.5, 1.1, \"white noise\", transform=axes[0, 0].transAxes, fontsize=18, fontweight='bold', ha='center')\n",
    "axes[0, 1].text(0.5, 1.1, \"nunu correlations\", transform=axes[0, 1].transAxes, fontsize=18, fontweight='bold', ha='center')\n",
    "axes[0, 2].text(0.5, 1.1, \"spatial correlations\", transform=axes[0, 2].transAxes, fontsize=18, fontweight='bold', ha='center')\n",
    "axes[0, 3].text(0.5, 1.1, \"all correlations\", transform=axes[0, 3].transAxes, fontsize=18, fontweight='bold', ha='center')\n",
    "\n",
    "plt.show()"
   ]
  }
 ],
 "metadata": {
  "jupytext": {
   "formats": "ipynb,Rmd"
  },
  "kernelspec": {
   "display_name": "Python 3",
   "language": "python",
   "name": "python3"
  }
 },
 "nbformat": 4,
 "nbformat_minor": 5
}
