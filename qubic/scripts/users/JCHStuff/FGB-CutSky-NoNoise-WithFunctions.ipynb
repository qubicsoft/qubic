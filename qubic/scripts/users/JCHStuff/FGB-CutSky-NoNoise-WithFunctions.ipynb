{
 "cells": [
  {
   "cell_type": "markdown",
   "id": "65a6dba6",
   "metadata": {},
   "source": [
    "# Context\n",
    "This notebook is an updated version of \"FGB-CutSky-NoNoise.Rmd\" but wiith more integrated functions in order to start having some convenient ways of using FGB."
   ]
  },
  {
   "cell_type": "code",
   "execution_count": null,
   "id": "d45fdde4",
   "metadata": {},
   "outputs": [],
   "source": [
    "import pysm3\n",
    "import pysm3.units as u\n",
    "import numpy as np\n",
    "import numpy.ma as ma\n",
    "import healpy as hp\n",
    "import pickle\n",
    "import matplotlib.pyplot as plt\n",
    "from matplotlib.ticker import FuncFormatter\n",
    "import pickle\n",
    "from astropy.io import fits\n",
    "import pandas as pd\n",
    "from importlib import reload\n",
    "\n",
    "from qubic import camb_interface as qc\n",
    "import fgbuster as fgb\n",
    "\n",
    "#### This is a temporary library\n",
    "import compsep_jc as csjc\n",
    "\n",
    "\n",
    "import warnings\n",
    "warnings.filterwarnings(\"ignore\")\n",
    "\n",
    "import qubic\n",
    "from qubic import NamasterLib as nam\n",
    "\n",
    "center = qubic.equ2gal(0, -57)\n",
    "\n",
    "rc('figure', figsize=(16, 10))\n",
    "rc('font', size=15)\n"
   ]
  },
  {
   "cell_type": "code",
   "execution_count": null,
   "id": "cb7f3730",
   "metadata": {},
   "outputs": [],
   "source": [
    "#### General Stuff ####\n",
    "nside = 256\n",
    "stk = ['I', 'Q', 'U']"
   ]
  },
  {
   "cell_type": "markdown",
   "id": "1fcf25d5",
   "metadata": {},
   "source": [
    "### PySM stuff\n",
    "we generate PySM maps with CMB + Dust"
   ]
  },
  {
   "cell_type": "code",
   "execution_count": null,
   "id": "6234e64e",
   "metadata": {},
   "outputs": [],
   "source": [
    "#### PYSM Stuff ####\n",
    "# generate I,Q,U sky maps with PySM\n",
    "unit = u.uK_CMB\n",
    "np.random.seed(42)\n",
    "sky = pysm3.Sky(nside=nside, preset_strings=['d0', 'c1'], output_unit=unit)\n",
    "sky_cmb = pysm3.Sky(nside=nside, preset_strings=['c1'], output_unit=unit)\n",
    "sky_dust = pysm3.Sky(nside=nside, preset_strings=['d0'], output_unit=unit)\n"
   ]
  },
  {
   "cell_type": "markdown",
   "id": "826e7014",
   "metadata": {},
   "source": [
    "Now we generate some frequency maps"
   ]
  },
  {
   "cell_type": "code",
   "execution_count": null,
   "id": "230a367e",
   "metadata": {},
   "outputs": [],
   "source": [
    "freqs = np.array([200, 220, 240])\n",
    "\n",
    "# CMB+dust\n",
    "sky_emissions = [sky.get_emission(f * u.GHz) for f in freqs]\n",
    "maps = np.array([emission.value for emission in sky_emissions])\n",
    "\n",
    "# CMB\n",
    "sky_emissions_cmb = sky_cmb.get_emission(150 * u.GHz)\n",
    "maps_cmb = np.array([emission.value for emission in sky_emissions_cmb])\n",
    "\n",
    "sky_emissions_dust = sky_dust.get_emission(150 * u.GHz)\n",
    "maps_dust = np.array([emission.value for emission in sky_emissions_dust])\n",
    "\n",
    "print(np.shape(maps))   #nu, Stk, pix\n",
    "print(np.shape(maps_cmb))   #nu, Stk, pix\n",
    "print(np.shape(maps_dust))   #nu, Stk, pix\n",
    "\n",
    "csjc.display_maps(maps, bigtitle='Simulated maps for each frequency (no resolution-> infinite)', mytitle='CMB+Dust', \n",
    "             figsize=(16,10), nsig=3, moll=True)\n"
   ]
  },
  {
   "cell_type": "code",
   "execution_count": null,
   "id": "649fc32a",
   "metadata": {},
   "outputs": [],
   "source": [
    "csjc.display_maps(maps_dust, bigtitle='Input Dust only at 150 GHz (infinite resolution)', mytitle='CMB', \n",
    "             figsize=(16,4), nsig=3, moll=True)\n",
    "csjc.display_maps(maps_cmb, bigtitle='Input CMB only at 150 GHz (infinite resolution)', mytitle='CMB', \n",
    "             figsize=(16,4), nsig=3, moll=True)\n"
   ]
  },
  {
   "cell_type": "markdown",
   "id": "661dc6a1",
   "metadata": {},
   "source": [
    "### Cut-Sky: from QUBIC\n",
    "Let's use the QUBIC cut-sky. As this is noiseless, we do not bother about the coverage values themselves, we just keep all pixels above some threshold on the coverage."
   ]
  },
  {
   "cell_type": "code",
   "execution_count": null,
   "id": "9cf296f8",
   "metadata": {
    "slideshow": {
     "slide_type": "slide"
    }
   },
   "outputs": [],
   "source": [
    "rc('figure', figsize=(16, 4))\n",
    "\n",
    "covmap = hp.ud_grade(hp.read_map('QUBIC-Typical-Coverage.fits'), nside)\n",
    "\n",
    "fskytot=np.sum(covmap/np.max(covmap)/len(covmap))*100\n",
    "suptitle('Cut-Sky (from QUBIC)', fontsize=30, y=1.2)\n",
    "hp.mollview(covmap, title='QUBIC Cov Map: fsky={0:4.2f}%'.format(fskytot), sub=(1,2,1))\n",
    "\n",
    "thr = 0.1\n",
    "mymask = (covmap > (np.max(covmap)*thr)).astype(int)\n",
    "pixok = mymask > 0\n",
    "fsky=np.sum(covmap[pixok]/np.max(covmap)/len(covmap))*100\n",
    "hp.mollview(mymask, title='Mask with thr={0:}: fsky={1:4.2f}'.format(thr, fsky), sub=(1,2,2))\n",
    "\n",
    "\n"
   ]
  },
  {
   "cell_type": "markdown",
   "id": "329ef616",
   "metadata": {},
   "source": [
    "# Cut-Sky simulations with identical resolutions => should work\n",
    "We now create noiseless reconstructed cut-sky maps at various frequencies, but with the simplification that they are at the same angular resolution."
   ]
  },
  {
   "cell_type": "code",
   "execution_count": null,
   "id": "9a6960c1",
   "metadata": {},
   "outputs": [],
   "source": [
    "myFWHM = 0.5 # degrees\n",
    "maps_conv = csjc.convolve_maps(maps, myFWHM)\n",
    "\n",
    "### Mask them\n",
    "maps_conv[:,:,~pixok] = hp.UNSEEN\n",
    "\n",
    "csjc.display_maps(maps_conv, bigtitle='Cut-sky maps per freq. at same resolution', rot=center)"
   ]
  },
  {
   "cell_type": "code",
   "execution_count": null,
   "id": "83351c59",
   "metadata": {},
   "outputs": [],
   "source": [
    "reload(csjc)\n",
    "csjc.display_maps(maps_dust, bigtitle='Input Dust only at 150 GHz (infinite resolution)', mytitle='Dust', \n",
    "             figsize=(16,7), nsig=3, rot=center, unseen=~pixok)\n",
    "csjc.display_maps(maps_cmb, bigtitle='Input CMB only at 150 GHz (infinite resolution)', mytitle='CMB', \n",
    "             figsize=(16,7), nsig=3, rot=center, unseen=~pixok)\n"
   ]
  },
  {
   "cell_type": "markdown",
   "id": "366873a7",
   "metadata": {},
   "source": [
    "## Pixel based version - Same resolution"
   ]
  },
  {
   "cell_type": "code",
   "execution_count": null,
   "id": "ffb36198",
   "metadata": {},
   "outputs": [],
   "source": [
    "reload(csjc)\n",
    "result_pix_same = csjc.apply_fgb(maps_conv, freqs, np.zeros(len(freqs)) + myFWHM, verbose=True, \n",
    "                              plot_separated=True, center=center,\n",
    "                             truth=[maps_dust, maps_cmb], plot_residuals=True)"
   ]
  },
  {
   "cell_type": "code",
   "execution_count": null,
   "id": "b4d0d06c",
   "metadata": {},
   "outputs": [],
   "source": [
    "r, dustrec, cmbrec, sigs_dust, sigs_cmb, resid_dust, resid_cmb, truth_dust, truth_cmb = result_pix_same\n",
    "\n",
    "okpix = cmbrec[0,:] != hp.UNSEEN\n",
    "stk = ['I','Q','U']\n",
    "for i in range(3):\n",
    "    subplot(2,3,i+1)\n",
    "    title('CMB {}'.format(stk[i]))\n",
    "    xlabel('In')\n",
    "    ylabel('Out')\n",
    "    plot(truth_cmb[i,okpix], cmbrec[i,okpix], 'o')\n",
    "    mini = np.min(cmbrec[i,okpix])\n",
    "    maxi = np.max(cmbrec[i,okpix])\n",
    "    xlim(mini, maxi)\n",
    "    ylim(mini, maxi)\n",
    "    x = np.linspace(mini, maxi)\n",
    "    plot(x,x,'k--', label='y=x')\n",
    "    myfit, covfit = np.polyfit(truth_cmb[i,okpix], cmbrec[i,okpix], 1, cov=True)\n",
    "    plot(x, np.poly1d(myfit)(x), lw=3, label='Slope: {0:5.2g} +/- {1:5.2e}'.format(myfit[0], np.sqrt(covfit[0,0])))\n",
    "    legend(fontsize=10)\n",
    "    \n",
    "    \n",
    "    subplot(2,3,3+i+1)\n",
    "    title('Dust {}'.format(stk[i]))\n",
    "    xlabel('In')\n",
    "    ylabel('Out')\n",
    "    plot(truth_dust[i,okpix], dustrec[i,okpix], 'o')\n",
    "    mini = np.min(dustrec[i,okpix])\n",
    "    maxi = np.max(dustrec[i,okpix])\n",
    "    xlim(mini, maxi)\n",
    "    ylim(mini, maxi)\n",
    "    x = np.linspace(mini, maxi)\n",
    "    plot(x,x,'k--', label='y=x')\n",
    "    myfit, covfit = np.polyfit(truth_dust[i,okpix], dustrec[i,okpix], 1, cov=True)\n",
    "    plot(x, np.poly1d(myfit)(x), lw=3, label='Slope: {0:5.2g} +/- {1:5.2e}'.format(myfit[0], np.sqrt(covfit[0,0])))\n",
    "    legend(fontsize=10)\n",
    "    \n",
    "tight_layout()"
   ]
  },
  {
   "cell_type": "markdown",
   "id": "3af1ef03",
   "metadata": {},
   "source": [
    "It works great !!!\n",
    "\n",
    "Let's check alm space version"
   ]
  },
  {
   "cell_type": "markdown",
   "id": "2b8021a7",
   "metadata": {},
   "source": [
    "## alm based bersion - Same resolution"
   ]
  },
  {
   "cell_type": "code",
   "execution_count": null,
   "id": "19f37d68",
   "metadata": {},
   "outputs": [],
   "source": [
    "reload(csjc)\n",
    "resol_correction = True\n",
    "ref_fwhm = 0.5\n",
    "\n",
    "result_alm_same = csjc.apply_fgb(maps_conv, freqs, np.zeros(len(freqs)) + myFWHM, verbose=True, alm_space=True,\n",
    "                            plot_separated=True, center=center, ref_fwhm=ref_fwhm, resol_correction=resol_correction,\n",
    "                            truth=[maps_dust, maps_cmb], plot_residuals=True)"
   ]
  },
  {
   "cell_type": "code",
   "execution_count": null,
   "id": "6b62e2dc",
   "metadata": {},
   "outputs": [],
   "source": [
    "r, dustrec, cmbrec, sigs_dust, sigs_cmb, resid_dust, resid_cmb, truth_dust, truth_cmb = result_alm_same\n",
    "\n",
    "okpix = cmbrec[0,:] != hp.UNSEEN\n",
    "stk = ['I','Q','U']\n",
    "bla = np.zeros(18)\n",
    "\n",
    "for i in range(3):\n",
    "    subplot(2,3,i+1)\n",
    "    title('CMB {}'.format(stk[i]))\n",
    "    xlabel('In')\n",
    "    ylabel('Out')\n",
    "    plot(truth_cmb[i,okpix], cmbrec[i,okpix], 'o')\n",
    "    mini = np.min(cmbrec[i,okpix])\n",
    "    maxi = np.max(cmbrec[i,okpix])\n",
    "    xlim(mini, maxi)\n",
    "    ylim(mini, maxi)\n",
    "    x = np.linspace(mini, maxi)\n",
    "    plot(x,x,'k--', label='y=x')\n",
    "    myfit, covfit = np.polyfit(truth_cmb[i,okpix], cmbrec[i,okpix], 1, cov=True)\n",
    "    plot(x, np.poly1d(myfit)(x), lw=3, label='Slope: {0:5.2g} +/- {1:5.2e}'.format(myfit[0], np.sqrt(covfit[0,0])))\n",
    "    legend(fontsize=10)    \n",
    "    ### Keep raw results and residuals RMS corrected for slope\n",
    "    bla[i*3] = np.std(resid_cmb[i,okpix])\n",
    "    bla[i*3+1] = myfit[0]\n",
    "    ### Keep results if we correct for the slope\n",
    "    bla[i*3+2] = np.std(cmbrec[i,okpix]-myfit[0]*truth_cmb[i,okpix])\n",
    "       \n",
    "    subplot(2,3,3+i+1)\n",
    "    title('Dust {}'.format(stk[i]))\n",
    "    xlabel('In')\n",
    "    ylabel('Out')\n",
    "    plot(truth_dust[i,okpix], dustrec[i,okpix], 'o')\n",
    "    mini = np.min(dustrec[i,okpix])\n",
    "    maxi = np.max(dustrec[i,okpix])\n",
    "    xlim(mini, maxi)\n",
    "    ylim(mini, maxi)\n",
    "    x = np.linspace(mini, maxi)\n",
    "    plot(x,x,'k--', label='y=x')\n",
    "    myfit, covfit = np.polyfit(truth_dust[i,okpix], dustrec[i,okpix], 1, cov=True)\n",
    "    plot(x, np.poly1d(myfit)(x), lw=3, label='Slope: {0:5.2g} +/- {1:5.2e}'.format(myfit[0], np.sqrt(covfit[0,0])))\n",
    "    legend(fontsize=10)\n",
    "    ### Keep results\n",
    "    bla[i*3+9] = np.std(resid_dust[i,okpix])\n",
    "    bla[i*3+1+9] = myfit[0]\n",
    "    bla[i*3+2+9] = np.std(dustrec[i,okpix]-myfit[0]*truth_dust[i,okpix])\n",
    "    \n",
    "tight_layout()\n",
    "\n",
    "print([resol_correction, ref_fwhm, r]+list(bla))"
   ]
  },
  {
   "cell_type": "markdown",
   "id": "a95c1986",
   "metadata": {},
   "source": [
    "- The alm transformation gets sick from the edges...\n",
    "    - We confirm below that we get significant improvement with fiducial region / apodization\n",
    "\n",
    "Another possibility has been suggested by Josquin: oncee you fit beta (in alm ou pix space), you can recalculate the A matrix and calculate dust and cmb maps from the frequency maps... This is actually what he says he does with SO.\n",
    "\n",
    "This is now implemented above and works extremely well !"
   ]
  },
  {
   "cell_type": "markdown",
   "id": "a0ab460a",
   "metadata": {},
   "source": [
    "# Cut-Sky simulations with different resolutions\n",
    "this will require reconvolution to worst resolution"
   ]
  },
  {
   "cell_type": "code",
   "execution_count": null,
   "id": "f2ae7736",
   "metadata": {},
   "outputs": [],
   "source": [
    "synthbeam_peak150_fwhm = 0.39268176  # in degrees\n",
    "myFWHM = synthbeam_peak150_fwhm * 150. / freqs  # Qubic beams\n",
    "print(myFWHM)\n",
    "ref_fwhm = np.max(myFWHM)*0+0.5\n",
    "\n",
    "maps_conv = csjc.convolve_maps(maps, myFWHM)\n",
    "\n",
    "### Mask them\n",
    "maps_conv[:,:,~pixok] = hp.UNSEEN\n",
    "\n",
    "print(maps_conv.shape)\n",
    "\n",
    "csjc.display_maps(maps_conv, bigtitle='Cut-sky maps per freq. at QUBIC resolutions', rot=center)"
   ]
  },
  {
   "cell_type": "markdown",
   "id": "4bdcc78a",
   "metadata": {},
   "source": [
    "## Pixel based version"
   ]
  },
  {
   "cell_type": "code",
   "execution_count": null,
   "id": "d063fa82",
   "metadata": {},
   "outputs": [],
   "source": [
    "result_pix_qubic = csjc.apply_fgb(maps_conv, freqs, myFWHM, verbose=True, resol_correction=True, ref_fwhm=ref_fwhm, \n",
    "                             plot_separated=True, center=center,\n",
    "                             truth=[maps_dust, maps_cmb], plot_residuals=True)"
   ]
  },
  {
   "cell_type": "code",
   "execution_count": null,
   "id": "bc6c39f5",
   "metadata": {},
   "outputs": [],
   "source": [
    "r, dustrec, cmbrec, sigs_dust, sigs_cmb, resid_dust, resid_cmb, truth_dust, truth_cmb = result_pix_qubic\n",
    "\n",
    "okpix = cmbrec[0,:] != hp.UNSEEN\n",
    "stk = ['I','Q','U']\n",
    "for i in range(3):\n",
    "    subplot(2,3,i+1)\n",
    "    title('CMB {}'.format(stk[i]))\n",
    "    xlabel('In')\n",
    "    ylabel('Out')\n",
    "    plot(truth_cmb[i,okpix], cmbrec[i,okpix], 'o')\n",
    "    mini = np.min(cmbrec[i,okpix])\n",
    "    maxi = np.max(cmbrec[i,okpix])\n",
    "    xlim(mini, maxi)\n",
    "    ylim(mini, maxi)\n",
    "    x = np.linspace(mini, maxi)\n",
    "    plot(x,x,'k--', label='y=x')\n",
    "    myfit, covfit = np.polyfit(truth_cmb[i,okpix], cmbrec[i,okpix], 1, cov=True)\n",
    "    plot(x, np.poly1d(myfit)(x), lw=3, label='Slope: {0:5.2g} +/- {1:5.2e}'.format(myfit[0], np.sqrt(covfit[0,0])))\n",
    "    legend(fontsize=10)\n",
    "    \n",
    "    \n",
    "    subplot(2,3,3+i+1)\n",
    "    title('Dust {}'.format(stk[i]))\n",
    "    xlabel('In')\n",
    "    ylabel('Out')\n",
    "    plot(truth_dust[i,okpix], dustrec[i,okpix], 'o')\n",
    "    mini = np.min(dustrec[i,okpix])\n",
    "    maxi = np.max(dustrec[i,okpix])\n",
    "    xlim(mini, maxi)\n",
    "    ylim(mini, maxi)\n",
    "    x = np.linspace(mini, maxi)\n",
    "    plot(x,x,'k--', label='y=x')\n",
    "    myfit, covfit = np.polyfit(truth_dust[i,okpix], dustrec[i,okpix], 1, cov=True)\n",
    "    plot(x, np.poly1d(myfit)(x), lw=3, label='Slope: {0:5.2g} +/- {1:5.2e}'.format(myfit[0], np.sqrt(covfit[0,0])))\n",
    "    legend(fontsize=10)\n",
    "    \n",
    "tight_layout()"
   ]
  },
  {
   "cell_type": "markdown",
   "id": "613d0f99",
   "metadata": {},
   "source": [
    "So now we have a bias, but only on the edges. \n",
    "\n",
    "This is not surprising: near the edges, the reconvolutions results in incorrect values because it mixes know pixels with unknown information.\n",
    "\n",
    "Let's first check that get get a similar bias when working in alm space.\n",
    "\n",
    "## alm based version"
   ]
  },
  {
   "cell_type": "code",
   "execution_count": null,
   "id": "e515ce80",
   "metadata": {},
   "outputs": [],
   "source": [
    "result_alm_qubic = csjc.apply_fgb(maps_conv, freqs, myFWHM, verbose=True, \n",
    "                             alm_space=True,\n",
    "                             resol_correction=True, ref_fwhm=ref_fwhm, \n",
    "                             plot_separated=True, center=center,\n",
    "                             truth=[maps_dust, maps_cmb], plot_residuals=True,\n",
    "                             apply_to_unconvolved=False)"
   ]
  },
  {
   "cell_type": "code",
   "execution_count": null,
   "id": "375d57b7",
   "metadata": {},
   "outputs": [],
   "source": [
    "r, dustrec, cmbrec, sigs_dust, sigs_cmb, resid_dust, resid_cmb, truth_dust, truth_cmb = result_alm_qubic\n",
    "\n",
    "okpix = cmbrec[0,:] != hp.UNSEEN\n",
    "stk = ['I','Q','U']\n",
    "for i in range(3):\n",
    "    subplot(2,3,i+1)\n",
    "    title('CMB {}'.format(stk[i]))\n",
    "    xlabel('In')\n",
    "    ylabel('Out')\n",
    "    plot(truth_cmb[i,okpix], cmbrec[i,okpix], 'o')\n",
    "    mini = np.min(cmbrec[i,okpix])\n",
    "    maxi = np.max(cmbrec[i,okpix])\n",
    "    xlim(mini, maxi)\n",
    "    ylim(mini, maxi)\n",
    "    x = np.linspace(mini, maxi)\n",
    "    plot(x,x,'k--', label='y=x')\n",
    "    myfit, covfit = np.polyfit(truth_cmb[i,okpix], cmbrec[i,okpix], 1, cov=True)\n",
    "    plot(x, np.poly1d(myfit)(x), lw=3, label='Slope: {0:5.2g} +/- {1:5.2e}'.format(myfit[0], np.sqrt(covfit[0,0])))\n",
    "    legend(fontsize=10)\n",
    "    \n",
    "    \n",
    "    subplot(2,3,3+i+1)\n",
    "    title('Dust {}'.format(stk[i]))\n",
    "    xlabel('In')\n",
    "    ylabel('Out')\n",
    "    plot(truth_dust[i,okpix], dustrec[i,okpix], 'o')\n",
    "    mini = np.min(dustrec[i,okpix])\n",
    "    maxi = np.max(dustrec[i,okpix])\n",
    "    xlim(mini, maxi)\n",
    "    ylim(mini, maxi)\n",
    "    x = np.linspace(mini, maxi)\n",
    "    plot(x,x,'k--', label='y=x')\n",
    "    myfit, covfit = np.polyfit(truth_dust[i,okpix], dustrec[i,okpix], 1, cov=True)\n",
    "    plot(x, np.poly1d(myfit)(x), lw=3, label='Slope: {0:5.2g} +/- {1:5.2e}'.format(myfit[0], np.sqrt(covfit[0,0])))\n",
    "    legend(fontsize=10)\n",
    "    \n",
    "tight_layout()"
   ]
  },
  {
   "cell_type": "markdown",
   "id": "04500270",
   "metadata": {},
   "source": [
    "## Summary:\n",
    "So if we summarize the results:"
   ]
  },
  {
   "cell_type": "code",
   "execution_count": null,
   "id": "37e95b28",
   "metadata": {},
   "outputs": [],
   "source": [
    "import pandas as pd\n",
    "pd.options.display.float_format = '{:,.5g}'.format\n",
    "\n",
    "data = [np.append(result_pix_same[0], np.ravel([result_pix_same[4], result_pix_same[3]])),\n",
    "       np.append(result_alm_same[0], np.ravel([result_alm_same[4], result_alm_same[3]])),\n",
    "       np.append(result_pix_qubic[0], np.ravel([result_pix_qubic[4], result_pix_qubic[3]])),\n",
    "       np.append(result_alm_qubic[0], np.ravel([result_alm_qubic[4], result_alm_qubic[3]]))]\n",
    "lines = ['Pixel Based - Same Resolution','alm Based - Same Resolution',\n",
    "                       'Pixel Based - QUBIC Resolutions','alm Based - QUBIC Resolutions']\n",
    "names = ['beta','CMB I RMS', 'CMB Q RMS', 'CMB U RMS', 'Dust I RMS', 'Dust Q RMS', 'Dust U RMS']\n",
    "pd.DataFrame(data,lines, names)"
   ]
  },
  {
   "cell_type": "markdown",
   "id": "45780742",
   "metadata": {},
   "source": [
    "So it there is significant edge-related effects playing here that arises when convolving (alm transformation on a map that has sharp edges due to the cut-sky).\n",
    "\n",
    "We now find equivalent performance for pix or alm if we do as follows:\n",
    "- perform FGB in pix of alm space with maps reconvolved at the same res\n",
    "- in the alm case, just take beta from the fit and recalculate A matrix, apply it on input maps reconvolved at same resolution.\n",
    "(if we directly take the alm reconstructed by FGB, there are stronger residuals: => the beta estimation is more robust than the pixels one)\n",
    "\n",
    "The sad thing here is that in both cases we actually need reconvolution and therefore suffer from edges effects. \n",
    "\n",
    "However Josquin says that in SO, he does the above, but applied to input maps **not reconvolved** at the same resolution (option `apply_to_unconvolved=True` above - `False` is the default). This is very strange that he does this... In the simulations above, doing this makes the results much worse residuals are 24.1, 1., 1 and 3.7, 0.25, 0.25. This is therefore about 2.5 times worse for CMB abd 5 times worse for dust. Anyway, by doing so, he mixes different resolution into the reconstructed CMB I,Q,U maps. He calculates the effective Bl function by applying the Wd operator on each frequency's Bl. He might get a pure result in terms of E/B polarization leakage but this needs to be verified as in some sense the effect is a bit like lensing: you mix polarization information from various directions... It is possible that because the beam is axisymmetric, this does not induce spurious B, but it would need to be checked.\n",
    "\n",
    "The higher residuals I see are not too surprizing as they are w.r.t. maps convolved at a given beam, while the eeffective beam of this map is complicated, so the residuals should be calculated with a map convolved with this effective beam.\n",
    "\n",
    "One more thing mentioned by Josquin is that hee actually puts the beam stuff in the Noise matrix and uses a weighted component separation. In this way, this is all part of the likelihood model and therefore it should be better than what we're doing here. So we havee now (or soon) to switch to weighted comp sep and start looking at this.\n",
    "\n",
    "NB: \n",
    "- there is still some question about the `prewhithen` part I had to commeent in the FGB code.\n",
    "- for sure the choice of the output resolution plays a role here (Josquin uses 100 arcmin for SO !) so we'll need to optimize this later.\n"
   ]
  },
  {
   "cell_type": "markdown",
   "id": "eba12e35",
   "metadata": {},
   "source": [
    "# Now we want to see if we can improve on this with sky-cutting and/or apodization"
   ]
  },
  {
   "cell_type": "markdown",
   "id": "0664f210",
   "metadata": {},
   "source": [
    "# Solution #1: Restricting to a smaller fiducial region after reconvolution in order to limit the effect of edge-convolution leakage.\n",
    "\n",
    "This solution is probably not so good as the reconvolution is done in harmonic space, so for sure the aliasing effects from the sharp edges will remain somehow and from looking at the reconstructed maps and residuals, they appear to be spread far away from the edges...\n",
    "\n",
    "For sure because the point here is to cut **after** reconvolution, this can only be applied to the *pixel-based* case."
   ]
  },
  {
   "cell_type": "code",
   "execution_count": null,
   "id": "813daaba",
   "metadata": {},
   "outputs": [],
   "source": [
    "result_pix_qubic_recut = csjc.apply_fgb(maps_conv, freqs, myFWHM, verbose=True, \n",
    "                                 coverage_recut=0.15, coverage=covmap,\n",
    "                                 resol_correction=True, ref_fwhm=ref_fwhm, \n",
    "                                 plot_separated=True, center=center,\n",
    "                                 truth=[maps_dust, maps_cmb], plot_residuals=True)"
   ]
  },
  {
   "cell_type": "code",
   "execution_count": null,
   "id": "cc3bd2a9",
   "metadata": {},
   "outputs": [],
   "source": [
    "data = [np.append(result_pix_qubic[0], np.ravel([result_pix_qubic[4], result_pix_qubic[3]])),\n",
    "        np.append(result_pix_qubic_recut[0], np.ravel([result_pix_qubic_recut[4], result_pix_qubic_recut[3]]))]\n",
    "lines = ['Pixel Based - QUBIC Resolutions','Pixel Based - QUBIC Resolutions - Recut {}'.format(thr)]\n",
    "names = ['Beta', 'CMB I RMS', 'CMB Q RMS', 'CMB U RMS', 'Dust I RMS', 'Dust Q RMS', 'Dust U RMS']\n",
    "pd.DataFrame(data,lines, names)"
   ]
  },
  {
   "cell_type": "markdown",
   "id": "aa2efb74",
   "metadata": {},
   "source": [
    "So we see a significant improvement **in the pixel domain case**:\n",
    "\n",
    "Let's loop on increased cut value in order to see the residuals as well as the reconstructed beta"
   ]
  },
  {
   "cell_type": "code",
   "execution_count": null,
   "id": "831235be",
   "metadata": {},
   "outputs": [],
   "source": [
    "reload(csjc)\n",
    "newcuts = np.logspace(-1,np.log10(0.2), 10) #np.linspace(0.1, 0.5,10)\n",
    "betas = np.zeros(len(newcuts))\n",
    "resid_dust = np.zeros((len(newcuts), 3))\n",
    "resid_cmb = np.zeros((len(newcuts), 3))\n",
    "for k in range(len(newcuts)):\n",
    "    myresult = csjc.apply_fgb(maps_conv, freqs, myFWHM, verbose=False, \n",
    "                        coverage_recut=newcuts[k], coverage=covmap,\n",
    "                        resol_correction=True, ref_fwhm=ref_fwhm, \n",
    "                        plot_separated=False, center=center,\n",
    "                        truth=[maps_dust, maps_cmb], plot_residuals=False) \n",
    "    betas[k] = myresult[0]\n",
    "    resid_dust[k,:] = myresult[3]\n",
    "    resid_cmb[k,:] = myresult[4]\n",
    "    print('{0:}/{1:}: cut={2:5.2f} beta {3:8.5f}, Dust {4:}, CMB {5:}'.format(k, len(newcuts), newcuts[k], betas[k], \n",
    "                                                            resid_dust[k,:], resid_cmb[k,:]))\n",
    "\n",
    "\n",
    "\n"
   ]
  },
  {
   "cell_type": "code",
   "execution_count": null,
   "id": "8937e2ed",
   "metadata": {},
   "outputs": [],
   "source": [
    "subplot(2,1,1)\n",
    "plot(newcuts, betas, 'ro-', label='Simulation')\n",
    "xlabel('Newcut on fsky (initial 0.1)')\n",
    "ylabel('Beta Dust')\n",
    "axhline(y=1.54, ls=':', color='k', label='Truth')\n",
    "axhline(y=result_pix_same[0], ls='--', color='b', label='No Reconv')\n",
    "legend()\n",
    "subplot(2,2,3)\n",
    "for i in range(3):\n",
    "    p=plot(newcuts, resid_dust[:,i], 'o-', label='Dust {}'.format(stk[i]))\n",
    "    axhline(y=result_pix_same[3][i], ls='--', color=p[0].get_color(), \n",
    "            label='No reconv Dust {0:}: {1:3.1g}'.format(stk[i],result_pix_same[3][i]))\n",
    "legend(fontsize=10)\n",
    "yscale('log')\n",
    "xlabel('Newcut on fsky (initial 0.1)')\n",
    "ylabel('RMS Residuals')\n",
    "title('Dust Residuals')\n",
    "ylim(1e-8, 10)\n",
    "subplot(2,2,4)\n",
    "for i in range(3):\n",
    "    p=plot(newcuts, resid_cmb[:,i], 'o-', label='CMB {}'.format(stk[i]))\n",
    "    axhline(y=result_pix_same[4][i], ls='--', color=p[0].get_color(), \n",
    "            label='No reconv CMB {0:}: {1:3.1g}'.format(stk[i], result_pix_same[4][i]))\n",
    "legend(fontsize=10)\n",
    "yscale('log')\n",
    "xlabel('Newcut on fsky (initial 0.1)')\n",
    "ylabel('RMS Residuals')\n",
    "title('CMB Residuals')\n",
    "ylim(1e-8, 10)\n",
    "\n",
    "tight_layout()"
   ]
  },
  {
   "cell_type": "markdown",
   "id": "6622f778",
   "metadata": {},
   "source": [
    "So we do see a clear drop in the residuals when removing the edges, but it saturates fast, and the bias on beta remains. This means that this method for avoiding the reconvolution edge effect is not a good one.\n",
    "\n",
    "So we need to explore other methods:\n",
    "- Apodization before reconvolution\n",
    "- Including Planck data information on the edges ?"
   ]
  },
  {
   "cell_type": "markdown",
   "id": "089874ff",
   "metadata": {},
   "source": [
    "# Let's explore the apodization method"
   ]
  },
  {
   "cell_type": "code",
   "execution_count": null,
   "id": "589a31e4",
   "metadata": {},
   "outputs": [],
   "source": [
    "synthbeam_peak150_fwhm = 0.39268176  # in degrees\n",
    "myFWHM = synthbeam_peak150_fwhm * 150. / freqs  # Qubic beams\n",
    "ref_fwhm = np.max(myFWHM)*0+0.35\n",
    "\n",
    "maps_conv = csjc.convolve_maps(maps, myFWHM)\n",
    "\n",
    "### Mask them\n",
    "maps_conv[:,:,~pixok] = hp.UNSEEN"
   ]
  },
  {
   "cell_type": "code",
   "execution_count": null,
   "id": "2b940c74",
   "metadata": {},
   "outputs": [],
   "source": [
    "apo = 5\n",
    "result_pix_qubic_apo = csjc.apply_fgb(maps_conv, freqs, myFWHM, verbose=True, \n",
    "                                 apodize=apo, apocut=False, plot_apo=True, apotype='C1', coverage=covmap,\n",
    "                                 resol_correction=True, ref_fwhm=ref_fwhm, \n",
    "                                 plot_separated=True, center=center,\n",
    "                                 truth=[maps_dust, maps_cmb], plot_residuals=True)"
   ]
  },
  {
   "cell_type": "code",
   "execution_count": null,
   "id": "0ab40270",
   "metadata": {},
   "outputs": [],
   "source": [
    "resid_pix_qubic_cmb = result_pix_qubic[6]\n",
    "resid_pix_qubic_cmb_apo = result_pix_qubic_apo[6]\n",
    "force_rng = [1, 0.1, 0.1]\n",
    "csjc.display_maps(resid_pix_qubic_cmb, rot=center, force_rng=force_rng, add_rms=True,\n",
    "             bigtitle='No Apodization (pixel based)', figsize=(16,7))\n",
    "csjc.display_maps(resid_pix_qubic_cmb_apo, rot=center, force_rng=force_rng, add_rms=True, \n",
    "             bigtitle='{} deg. Apodization (pixel based)'.format(apo), figsize=(16,7))\n",
    "csjc.display_maps(resid_pix_qubic_cmb-resid_pix_qubic_cmb_apo, rot=center, force_rng=force_rng, add_rms=True,\n",
    "             bigtitle='Difference of residuals', figsize=(16,7))"
   ]
  },
  {
   "cell_type": "code",
   "execution_count": null,
   "id": "035e49d3",
   "metadata": {},
   "outputs": [],
   "source": [
    "data = [np.append(result_pix_qubic[0], np.ravel([result_pix_qubic[4], result_pix_qubic[3]])),\n",
    "        np.append(result_pix_qubic_apo[0], np.ravel([result_pix_qubic_apo[4], result_pix_qubic_apo[3]]))]\n",
    "lines = ['Pixel Based - QUBIC Resolutions','Pixel Based - QUBIC Resolutions - Apodized {}'.format(apo)]\n",
    "names = ['Beta', 'CMB I RMS', 'CMB Q RMS', 'CMB U RMS', 'Dust I RMS', 'Dust Q RMS', 'Dust U RMS']\n",
    "pd.DataFrame(data,lines, names)"
   ]
  },
  {
   "cell_type": "markdown",
   "id": "b9db4612",
   "metadata": {},
   "source": [
    "There is clear improvement, but it's not perfect... Lets try to optimize the apodization scale as well as the apodization scheme which can be either C1, C2 or Smooth in NaMaster (we could actually use others...)."
   ]
  },
  {
   "cell_type": "code",
   "execution_count": null,
   "id": "9643ba1e",
   "metadata": {},
   "outputs": [],
   "source": [
    "apotypes = ['C1', 'C2', 'Smooth']\n",
    "apo_angles = np.logspace(-1, 1,10)\n",
    "betas = np.zeros((len(apotypes), len(apo_angles)))\n",
    "resid_dust = np.zeros((len(apotypes), len(apo_angles), 3))\n",
    "resid_cmb = np.zeros((len(apotypes), len(apo_angles), 3))\n",
    "for j in range(len(apotypes)):\n",
    "    for k in range(len(apo_angles)):\n",
    "        myresult = csjc.apply_fgb(maps_conv, freqs, myFWHM, verbose=False, \n",
    "                            apodize=apo_angles[k], coverage=covmap, apotype=apotypes[j],\n",
    "                            resol_correction=True, ref_fwhm=ref_fwhm, \n",
    "                            plot_separated=False, center=center,\n",
    "                            truth=[maps_dust, maps_cmb], plot_residuals=False) \n",
    "        betas[j, k] = myresult[0]\n",
    "        resid_dust[j, k,:] = myresult[3]\n",
    "        resid_cmb[j, k,:] = myresult[4]\n",
    "        print(apotypes[j]+' {0:}/{1:}: Apo={2:5.2f} beta {3:8.5f}, Dust {4:}, CMB {5:}'.format(k, len(apo_angles), \n",
    "                                                                                  apo_angles[k], \n",
    "                                                                                  betas[j,k], \n",
    "                                                                                  resid_dust[j,k,:], \n",
    "                                                                                  resid_cmb[j,k,:]))\n",
    "\n",
    "\n",
    "\n"
   ]
  },
  {
   "cell_type": "code",
   "execution_count": null,
   "id": "92d7bed6",
   "metadata": {},
   "outputs": [],
   "source": [
    "rc('figure', figsize=(16, 10))\n",
    "subplot(2,1,1)\n",
    "for j in range(len(apotypes)):\n",
    "    plot(apo_angles, betas[j,:], 'o-', label='Apodization '+apotypes[j])\n",
    "xlabel('Apodization Scale (deg.)')\n",
    "ylabel('Beta Dust')\n",
    "xscale('log')\n",
    "axhline(y=1.54, ls=':', color='k', label='Truth')\n",
    "axhline(y=result_pix_same[0], ls='--', color='b', label='No Reconv')\n",
    "legend(fontsize=9, loc='upper left')\n",
    "\n",
    "for istk in range(3):\n",
    "    subplot(2,3,4+istk)\n",
    "    title(stk[istk])\n",
    "    for j in range(len(apotypes)):\n",
    "        plot(apo_angles, resid_dust[j,:, istk], 'x-', label='Dust - Apodization '+apotypes[j])\n",
    "        plot(apo_angles, resid_cmb[j,:, istk], 'o:', label='CMB - Apodization '+apotypes[j])\n",
    "    legend(fontsize=10)\n",
    "    yscale('log')\n",
    "    xlabel('Apodization scale (deg.)')\n",
    "    ylabel('RMS Residuals')\n",
    "    ylim(1e-4, 10)\n",
    "\n",
    "tight_layout()"
   ]
  },
  {
   "cell_type": "markdown",
   "id": "2a9871d3",
   "metadata": {},
   "source": [
    "Well, this not as good as expected... not really better that cutting... we can try to do apodization before reconvolution, then restraining to the pixels at 1..."
   ]
  },
  {
   "cell_type": "code",
   "execution_count": null,
   "id": "75a63f78",
   "metadata": {},
   "outputs": [],
   "source": [
    "apotypes = ['C1', 'C2', 'Smooth']\n",
    "apo_angles = np.logspace(-1, 1,10)\n",
    "betas_cut = np.zeros((len(apotypes), len(apo_angles)))\n",
    "resid_dust_cut = np.zeros((len(apotypes), len(apo_angles), 3))\n",
    "resid_cmb_cut = np.zeros((len(apotypes), len(apo_angles), 3))\n",
    "for j in range(len(apotypes)):\n",
    "    for k in range(len(apo_angles)):\n",
    "        myresult = csjc.apply_fgb(maps_conv, freqs, myFWHM, verbose=False, \n",
    "                            apodize=apo_angles[k], apocut=True, coverage=covmap, apotype=apotypes[j],\n",
    "                            resol_correction=True, ref_fwhm=ref_fwhm, \n",
    "                            plot_separated=False, center=center,\n",
    "                            truth=[maps_dust, maps_cmb], plot_residuals=False) \n",
    "        betas_cut[j, k] = myresult[0]\n",
    "        resid_dust_cut[j, k,:] = myresult[3]\n",
    "        resid_cmb_cut[j, k,:] = myresult[4]\n",
    "        print(apotypes[j]+' {0:}/{1:}: Apo={2:5.2f} beta {3:8.5f}, Dust {4:}, CMB {5:}'.format(k, len(apo_angles), \n",
    "                                                                                  apo_angles[k], \n",
    "                                                                                  betas_cut[j,k], \n",
    "                                                                                  resid_dust_cut[j,k,:], \n",
    "                                                                                  resid_cmb_cut[j,k,:]))\n",
    "\n",
    "\n",
    "\n"
   ]
  },
  {
   "cell_type": "code",
   "execution_count": null,
   "id": "ebf2dcc3",
   "metadata": {},
   "outputs": [],
   "source": [
    "rc('figure', figsize=(16, 10))\n",
    "subplot(3,1,1)\n",
    "for j in range(len(apotypes)):\n",
    "    p=plot(apo_angles, betas_cut[j,:], 'o-', label='Apodization + Cut '+apotypes[j])\n",
    "    plot(apo_angles, betas[j,:], '*--', label='Apodization '+apotypes[j], color=p[0].get_color())\n",
    "xlabel('Apodization Scale (deg.)')\n",
    "ylabel('Beta Dust')\n",
    "#xscale('log')\n",
    "axhline(y=1.54, ls=':', color='k', label='Truth')\n",
    "axhline(y=result_pix_same[0], ls='--', color='b', label='No Reconv')\n",
    "legend(fontsize=9, loc='lower right')\n",
    "\n",
    "\n",
    "for istk in range(3):\n",
    "    subplot(3,3,4+istk)\n",
    "    title('Dust '+stk[istk])\n",
    "    for j in range(len(apotypes)):\n",
    "        plot(apo_angles, resid_dust[j,:, istk], 'x--', label='Dust - Apodization '+apotypes[j])\n",
    "        plot(apo_angles, resid_dust_cut[j,:, istk], 'o-', label='Dust - Cut+Apodization '+apotypes[j])\n",
    "    legend(fontsize=10)\n",
    "    yscale('log')\n",
    "    #xscale('log')\n",
    "    xlabel('Apodization scale (deg.)')\n",
    "    ylabel('RMS Residuals')\n",
    "    ylim(1e-3, 10)\n",
    "    subplot(3,3,4+3+istk)\n",
    "    title('CMB '+stk[istk])\n",
    "    for j in range(len(apotypes)):\n",
    "        plot(apo_angles, resid_cmb[j,:, istk], 'x--', label='CMB - Apodization '+apotypes[j])\n",
    "        plot(apo_angles, resid_cmb_cut[j,:, istk], 'o-', label='CMB - Cut+Apodization '+apotypes[j])\n",
    "    legend(fontsize=10)\n",
    "    yscale('log')\n",
    "    #xscale('log')\n",
    "    xlabel('Apodization scale (deg.)')\n",
    "    ylabel('RMS Residuals')\n",
    "    ylim(1e-3, 10)\n",
    "\n",
    "tight_layout()"
   ]
  },
  {
   "cell_type": "code",
   "execution_count": null,
   "id": "8273bea9",
   "metadata": {},
   "outputs": [],
   "source": []
  }
 ],
 "metadata": {
  "kernelspec": {
   "display_name": "Python 3",
   "language": "python",
   "name": "python3"
  }
 },
 "nbformat": 4,
 "nbformat_minor": 5
}
