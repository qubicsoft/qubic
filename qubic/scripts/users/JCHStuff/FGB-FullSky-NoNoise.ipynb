{
 "cells": [
  {
   "cell_type": "markdown",
   "id": "7b6b47bd",
   "metadata": {},
   "source": [
    "# Context\n",
    "This notebook is essentially copy-paste from notebooks developed bby Mathias Régnier and Simon Biquard   "
   ]
  },
  {
   "cell_type": "code",
   "execution_count": null,
   "id": "85a62221",
   "metadata": {},
   "outputs": [],
   "source": [
    "import pysm3\n",
    "import pysm3.units as u\n",
    "import numpy as np\n",
    "import numpy.ma as ma\n",
    "import healpy as hp\n",
    "import pickle\n",
    "import matplotlib.pyplot as plt\n",
    "from matplotlib.ticker import FuncFormatter\n",
    "import pickle\n",
    "from astropy.io import fits\n",
    "\n",
    "from qubic import camb_interface as qc\n",
    "import fgbuster as fgb\n",
    "\n",
    "import warnings\n",
    "warnings.filterwarnings(\"ignore\")\n",
    "\n",
    "rc('figure', figsize=(16, 10))\n",
    "rc('font', size=15)\n"
   ]
  },
  {
   "cell_type": "code",
   "execution_count": null,
   "id": "766f931e",
   "metadata": {},
   "outputs": [],
   "source": [
    "#### General Stuff ####\n",
    "nside = 256\n",
    "stk = ['I', 'Q', 'U']"
   ]
  },
  {
   "cell_type": "markdown",
   "id": "4ed5437e",
   "metadata": {},
   "source": [
    "### PySM stuff\n",
    "we generate PySM maps with CMB + Dust"
   ]
  },
  {
   "cell_type": "code",
   "execution_count": null,
   "id": "320369cb",
   "metadata": {},
   "outputs": [],
   "source": [
    "#### PYSM Stuff ####\n",
    "# generate I,Q,U sky maps with PySM\n",
    "unit = u.uK_CMB\n",
    "sky = pysm3.Sky(nside=nside, preset_strings=['d0', 'c1'], output_unit=unit)"
   ]
  },
  {
   "cell_type": "markdown",
   "id": "74b011a0",
   "metadata": {},
   "source": [
    "Now we generate some frequency maps"
   ]
  },
  {
   "cell_type": "code",
   "execution_count": null,
   "id": "601d6a55",
   "metadata": {},
   "outputs": [],
   "source": [
    "freqs = np.array([200, 220, 240])\n",
    "sky_emissions = [sky.get_emission(f * u.GHz) for f in freqs]\n",
    "maps = np.array([emission.value for emission in sky_emissions])\n",
    "\n",
    "print(np.shape(maps))   #nu, Stk, pix\n",
    "\n",
    "rc('figure', figsize=(16, 10))\n",
    "nf = maps.shape[0]\n",
    "nstk = maps.shape[1]\n",
    "print(maps.shape)\n",
    "for i in range(nf):\n",
    "    for j in range(nstk):\n",
    "        ss = np.std(maps[0,j,:])\n",
    "        hp.mollview(maps[i,j,:], sub=(nf,3,3*i+j+1), min = -3*ss, max=3*ss,\n",
    "                   title='{} nu={} GHz'.format(stk[j], freqs[i]))\n",
    "tight_layout()"
   ]
  },
  {
   "cell_type": "markdown",
   "id": "2621a947",
   "metadata": {},
   "source": [
    "# FGBuster noiseless\n",
    "\n",
    "## Full-Sky and Same infinite resolution\n",
    "Let's try a simple FGB pixel-based component separation with these maps: Full-sky and infinite resolution"
   ]
  },
  {
   "cell_type": "code",
   "execution_count": null,
   "id": "d6de2820",
   "metadata": {},
   "outputs": [],
   "source": [
    "### FGB Configuration\n",
    "instrument = fgb.get_instrument('Qubic')\n",
    "instrument.frequency = freqs\n",
    "instrument.fwhm = freqs*0.    #Because here the maps were simulated at infinite resolution\n",
    "components = [fgb.Dust(150., temp=20.), fgb.CMB()]\n",
    "\n",
    "def separate(comp, instr, maps_to_separate, tol=1e-12, print_option=True):\n",
    "    solver_options = {}\n",
    "    solver_options['disp'] = True\n",
    "    fg_args = comp, instr, maps_to_separate\n",
    "    fg_kwargs = {'method': 'BFGS', 'tol': 1e-12, 'options': solver_options}\n",
    "    try:\n",
    "        res = fgb.basic_comp_sep(*fg_args, **fg_kwargs)\n",
    "    except KeyError:\n",
    "        fg_kwargs['options']['disp'] = False\n",
    "        res = fgb.basic_comp_sep(*fg_args, **fg_kwargs)\n",
    "    if print_option:\n",
    "        print()\n",
    "        print(\"message:\", res.message)\n",
    "        print(\"success:\", res.success)\n",
    "        print(\"result:\", res.x)\n",
    "    return res\n",
    "\n",
    "r = separate(components, instrument, maps)\n",
    "\n",
    "print('Resulting beta: {}'.format(r.x[0]))"
   ]
  },
  {
   "cell_type": "code",
   "execution_count": null,
   "id": "ccde1815",
   "metadata": {},
   "outputs": [],
   "source": [
    "### Resulting CMB and Dust\n",
    "dustrec = r.s[0,:,:]\n",
    "cmbrec = r.s[1,:,:]\n",
    "\n",
    "for i in range(3):\n",
    "    hp.mollview(dustrec[i,:], sub=(2,3,i+1), title='Dust Rec: {}'.format(stk[i]), \n",
    "                min=-3*np.std(dustrec[i,:]), max=3*np.std(dustrec[i,:]))\n",
    "\n",
    "for i in range(3):\n",
    "    hp.mollview(cmbrec[i,:], sub=(2,3,3+i+1), title='CMB Rec: {}'.format(stk[i]), \n",
    "               min=-3*np.std(cmbrec[i,:]), max=3*np.std(cmbrec[i,:]))\n"
   ]
  },
  {
   "cell_type": "markdown",
   "id": "8de0de30",
   "metadata": {},
   "source": [
    "OK it seemd to be working rather well. Now we can complexify a little bit by setting the maps to different resolutions.\n",
    "\n",
    "## Full Sky and same finite resolution\n",
    "We convolve all maps at the same angular resolution"
   ]
  },
  {
   "cell_type": "code",
   "execution_count": null,
   "id": "bc74afcb",
   "metadata": {},
   "outputs": [],
   "source": [
    "myFWHM = 0.5 # degrees\n",
    "maps_conv = np.array([hp.smoothing(m.copy(), fwhm=np.deg2rad(myFWHM), pol=True, verbose=False) for m in maps])"
   ]
  },
  {
   "cell_type": "code",
   "execution_count": null,
   "id": "c75997a5",
   "metadata": {},
   "outputs": [],
   "source": [
    "rc('figure', figsize=(16, 10))\n",
    "nf = maps.shape[0]\n",
    "nstk = maps.shape[1]\n",
    "print(maps.shape)\n",
    "for i in range(nf):\n",
    "    for j in range(nstk):\n",
    "        ss = np.std(maps_conv[0,j,:])\n",
    "        hp.mollview(maps_conv[i,j,:], sub=(nf,3,3*i+j+1), min = -3*ss, max=3*ss,\n",
    "                   title='{} nu={} GHz'.format(stk[j], freqs[i]))\n",
    "tight_layout()"
   ]
  },
  {
   "cell_type": "code",
   "execution_count": null,
   "id": "3e8f78c7",
   "metadata": {},
   "outputs": [],
   "source": [
    "### FGB Configuration\n",
    "instrument = fgb.get_instrument('Qubic')\n",
    "instrument.frequency = freqs\n",
    "instrument.fwhm = np.zeros(len(freqs)) + myFWHM\n",
    "components = [fgb.Dust(150., temp=20.), fgb.CMB()]\n",
    "\n",
    "r = separate(components, instrument, maps_conv)\n",
    "\n",
    "print('Resulting beta: {}'.format(r.x[0]))"
   ]
  },
  {
   "cell_type": "code",
   "execution_count": null,
   "id": "07ceb692",
   "metadata": {},
   "outputs": [],
   "source": [
    "### Resulting CMB and Dust\n",
    "dustrec = r.s[0,:,:]\n",
    "cmbrec = r.s[1,:,:]\n",
    "\n",
    "for i in range(3):\n",
    "    hp.mollview(dustrec[i,:], sub=(2,3,i+1), title='Dust Rec: {}'.format(stk[i]), \n",
    "                min=-3*np.std(dustrec[i,:]), max=3*np.std(dustrec[i,:]))\n",
    "\n",
    "for i in range(3):\n",
    "    hp.mollview(cmbrec[i,:], sub=(2,3,3+i+1), title='CMB Rec: {}'.format(stk[i]), \n",
    "               min=-3*np.std(cmbrec[i,:]), max=3*np.std(cmbrec[i,:]))\n"
   ]
  },
  {
   "cell_type": "markdown",
   "id": "e914c6cd",
   "metadata": {},
   "source": [
    "It works very well again. Let's now go to a more complicated problem where all maps are at different resolutions.\n",
    "\n",
    "## Full Sky and different resolutions\n",
    "We now convolve all maps to the expected QUBIC resolutions"
   ]
  },
  {
   "cell_type": "code",
   "execution_count": null,
   "id": "6b1d268c",
   "metadata": {},
   "outputs": [],
   "source": [
    "synthbeam_peak150_fwhm = 0.39268176  # in degrees\n",
    "myFWHM = synthbeam_peak150_fwhm * 150. / freqs  # Qubic beams\n",
    "maps_conv = np.array([hp.smoothing(m.copy(), fwhm=np.deg2rad(fw), pol=True, verbose=False) for m, fw in zip(maps,myFWHM)])"
   ]
  },
  {
   "cell_type": "code",
   "execution_count": null,
   "id": "32fee614",
   "metadata": {},
   "outputs": [],
   "source": [
    "### FGB Configuration\n",
    "instrument = fgb.get_instrument('Qubic')\n",
    "instrument.frequency = freqs\n",
    "instrument.fwhm = myFWHM\n",
    "components = [fgb.Dust(150., temp=20.), fgb.CMB()]\n",
    "\n",
    "r = separate(components, instrument, maps_conv)\n",
    "\n",
    "print('Resulting beta: {}'.format(r.x[0]))"
   ]
  },
  {
   "cell_type": "code",
   "execution_count": null,
   "id": "ec8c2dc9",
   "metadata": {},
   "outputs": [],
   "source": [
    "### Resulting CMB and Dust\n",
    "dustrec = r.s[0,:,:]\n",
    "cmbrec = r.s[1,:,:]\n",
    "\n",
    "for i in range(3):\n",
    "    hp.mollview(dustrec[i,:], sub=(2,3,i+1), title='Dust Rec: {}'.format(stk[i]), \n",
    "                min=-3*np.std(dustrec[i,:]), max=3*np.std(dustrec[i,:]))\n",
    "\n",
    "for i in range(3):\n",
    "    hp.mollview(cmbrec[i,:], sub=(2,3,3+i+1), title='CMB Rec: {}'.format(stk[i]), \n",
    "               min=-3*np.std(cmbrec[i,:]), max=3*np.std(cmbrec[i,:]))\n"
   ]
  },
  {
   "cell_type": "markdown",
   "id": "06f440c6",
   "metadata": {},
   "source": [
    "OK, the result is now biased beacause we have fed FGBuster with maps at different resolutions. We need to correct for this and provide maps at the same resolution. This can be done either in pixel space by reconvolving to some common resolution, or in alm space by providing FGBuster with corrected alms.\n",
    "\n",
    "### Pixel-space reconvolution to a common resolution\n",
    "we reconvolve all maps to a reference resolution (it can be the worst one or any larger resolution)."
   ]
  },
  {
   "cell_type": "code",
   "execution_count": null,
   "id": "399f99ba",
   "metadata": {},
   "outputs": [],
   "source": [
    "ref_fwhm = np.max(myFWHM)\n",
    "\n",
    "def reconvolve(maps, fwhms, ref_fwhm, verbose=False):\n",
    "    if verbose: \n",
    "        print('Reconvolution to coommon FWHM')\n",
    "    sig_conv = np.sqrt(ref_fwhm**2 - fwhms**2)\n",
    "    maps_out = np.zeros_like(maps)\n",
    "    for i in range(len(fwhms)):\n",
    "        if sig_conv[i] == 0:\n",
    "            if verbose:\n",
    "                print('Map {0:} fwhmin={1:6.3f} fwhmout={2:6.3f} => We do not reconvolve'.format(i, \n",
    "                                                                                             fwhms[i], ref_fwhm))\n",
    "            maps_out[i,:] = maps[i,:]\n",
    "        else:\n",
    "            if verbose:\n",
    "                print('Map {0:} fwhmin={1:6.3f} fwhmout={2:6.3f} => We reconvolve with {3:6.3f}'.format(i, \n",
    "                                                                                                    fwhms[i], \n",
    "                                                                                                    ref_fwhm, \n",
    "                                                                                                    sig_conv[i]))\n",
    "            maps_out[i,:] = hp.smoothing(maps[i,:], fwhm=np.deg2rad(sig_conv[i]), pol=True, verbose=False)\n",
    "    return maps_out\n",
    "\n",
    "maps_reconv = reconvolve(maps_conv, myFWHM, ref_fwhm, verbose=True)\n",
    "\n",
    "### FGB Configuration\n",
    "instrument = fgb.get_instrument('Qubic')\n",
    "instrument.frequency = freqs\n",
    "instrument.fwhm = np.zeros(len(freqs)) + ref_fwhm\n",
    "components = [fgb.Dust(150., temp=20.), fgb.CMB()]\n",
    "\n",
    "r = separate(components, instrument, maps_reconv)\n",
    "\n",
    "print('Resulting beta: {}'.format(r.x[0]))\n"
   ]
  },
  {
   "cell_type": "code",
   "execution_count": null,
   "id": "8b280676",
   "metadata": {},
   "outputs": [],
   "source": [
    "### Resulting CMB and Dust\n",
    "dustrec = r.s[0,:,:]\n",
    "cmbrec = r.s[1,:,:]\n",
    "\n",
    "for i in range(3):\n",
    "    hp.mollview(dustrec[i,:], sub=(2,3,i+1), title='Dust Rec: {}'.format(stk[i]), \n",
    "                min=-3*np.std(dustrec[i,:]), max=3*np.std(dustrec[i,:]))\n",
    "\n",
    "for i in range(3):\n",
    "    hp.mollview(cmbrec[i,:], sub=(2,3,3+i+1), title='CMB Rec: {}'.format(stk[i]), \n",
    "               min=-3*np.std(cmbrec[i,:]), max=3*np.std(cmbrec[i,:]))\n"
   ]
  },
  {
   "cell_type": "markdown",
   "id": "f2c109ab",
   "metadata": {},
   "source": [
    "Great! it works perfectly !\n",
    "\n",
    "We could have done this in alm space as FGBuster is agnostic w.r.t. the space it works with.\n",
    "\n",
    "### alm space beam correction\n",
    "This time we provide FGBuster with the alm of the maps after correcting them in suc a way they are at the same resolution. This needs to be perfectly equivalent to the above map-space."
   ]
  },
  {
   "cell_type": "code",
   "execution_count": null,
   "id": "340f88c6",
   "metadata": {},
   "outputs": [],
   "source": [
    "# this function is from Simon Biquard\n",
    "def get_alm_maps(pixel_maps, fwhms, resol_correction=False, ref_arcmin=0, pixwin_correction=False, verbose=False):\n",
    "    \"\"\"\n",
    "    Compute alm maps from pixel maps and format them for FgBuster.\n",
    "    \"\"\"\n",
    "    sh = np.shape(pixel_maps)\n",
    "    nside = hp.npix2nside(sh[2])\n",
    "    n = sh[0]\n",
    "    lmax = 2*nside+1\n",
    "    ell = np.arange(start=0, stop= lmax+1)\n",
    "\n",
    "    ref_sigma_rad = np.deg2rad(ref_arcmin / 60.) / 2.355\n",
    "    ref_fl = np.exp(- 0.5 * np.square(ref_sigma_rad * ell))\n",
    "\n",
    "    if verbose: \n",
    "        print('In get_alm_maps: FWHM = ', fwhm)\n",
    "    beam_sigmas_rad = np.deg2rad(fwhms) / (2*np.sqrt(2*np.log(2)))\n",
    "    pixwin = hp.pixwin(nside, lmax=lmax) if pixwin_correction else np.ones(lmax + 1)\n",
    "\n",
    "    # compute maps\n",
    "    alm_maps = None\n",
    "    for f in range(n):\n",
    "        alms = hp.map2alm(pixel_maps[f], lmax=lmax, pol=True)\n",
    "        correction = None\n",
    "        if f == 0:\n",
    "            sh = np.shape(alms)\n",
    "            alm_maps = np.empty((n, sh[0], 2 * sh[1]))\n",
    "        if resol_correction:\n",
    "            print('Applying Resol Correction')\n",
    "            gauss_fl = np.exp(- 0.5 * np.square(beam_sigmas_rad[f] * ell))\n",
    "            correction = ref_fl / gauss_fl / pixwin\n",
    "        else:\n",
    "            print('No Resol Correction applied')\n",
    "        for i, t in enumerate(alms):\n",
    "            alm_maps[f, i] = format_alms(hp.almxfl(t, correction) if resol_correction else t)\n",
    "    return alm_maps\n",
    "\n",
    "# credits to J. Errard for these two functions\n",
    "def intersect_mask(maps):\n",
    "    if hp.pixelfunc.is_ma(maps):\n",
    "        mask = maps.mask\n",
    "    else:\n",
    "        mask = maps == hp.UNSEEN\n",
    "\n",
    "    # Mask entire pixel if any of the frequencies in the pixel is masked\n",
    "    return np.any(mask, axis=tuple(range(maps.ndim - 1)))\n",
    "\n",
    "def format_alms(alms, lmin=0, nulling_option=True):\n",
    "    lmax = hp.Alm.getlmax(alms.shape[-1])\n",
    "    alms = np.asarray(alms, order='C')\n",
    "    alms = alms.view(np.float64)\n",
    "    em = hp.Alm.getlm(lmax)[1]\n",
    "    em = np.stack((em, em), axis=-1).reshape(-1)\n",
    "    mask_em = [m != 0 for m in em]\n",
    "    alms[..., mask_em] *= np.sqrt(2)\n",
    "    if nulling_option:\n",
    "        alms[..., np.arange(1, lmax + 1, 2)] = hp.UNSEEN  # mask imaginary m = 0\n",
    "        mask_alms = intersect_mask(alms)\n",
    "        alms[..., mask_alms] = 0  # thus no contribution to the spectral likelihood\n",
    "    alms = np.swapaxes(alms, 0, -1)\n",
    "    if lmin != 0:\n",
    "        ell = hp.Alm.getlm(lmax)[0]\n",
    "        ell = np.stack((ell, ell), axis=-1).reshape(-1)\n",
    "        mask_lmin = [ll < lmin for ll in ell]\n",
    "        if nulling_option:\n",
    "            alms[mask_lmin, ...] = hp.UNSEEN\n",
    "    return alms\n"
   ]
  },
  {
   "cell_type": "code",
   "execution_count": null,
   "id": "21d83097",
   "metadata": {},
   "outputs": [],
   "source": [
    "\n",
    "\n",
    "### FGB Configuration\n",
    "instrument = fgb.get_instrument('Qubic')\n",
    "instrument.frequency = freqs\n",
    "instrument.fwhm = np.zeros(len(freqs)) + ref_fwhm\n",
    "components = [fgb.Dust(150., temp=20.), fgb.CMB()]\n",
    "\n",
    "r = separate(components, instrument, get_alm_maps(maps_conv, myFWHM, ref_arcmin=ref_fwhm, \n",
    "                                                  resol_correction=True, verbose=True))\n",
    "\n",
    "print('Resulting beta: {}'.format(r.x[0]))\n"
   ]
  },
  {
   "cell_type": "markdown",
   "id": "25a7b10b",
   "metadata": {},
   "source": [
    "So it works well. We cannot easily get the resulting maps as what we reconver iss the alms, so we need to go back to pixel space which is a pain in the neck. But anyway it works fine.\n",
    "\n",
    "So now there are two extra-complications we need to consider:\n",
    "- noise (homogeneous and inhomogeneous)\n",
    "- Cut-Sky: this will induce problems because of reconvolution at the edges.\n",
    "\n",
    "Let's first explore the second complication in another notebook: FGB-CutSky-NoNoise.Rmd"
   ]
  },
  {
   "cell_type": "code",
   "execution_count": null,
   "id": "e2dff8b1",
   "metadata": {},
   "outputs": [],
   "source": []
  }
 ],
 "metadata": {
  "kernelspec": {
   "display_name": "Python 3",
   "language": "python",
   "name": "python3"
  }
 },
 "nbformat": 4,
 "nbformat_minor": 5
}
