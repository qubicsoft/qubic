{
 "cells": [
  {
   "cell_type": "code",
   "execution_count": null,
   "id": "0e06561c",
   "metadata": {},
   "outputs": [],
   "source": [
    "import healpy as hp"
   ]
  },
  {
   "cell_type": "code",
   "execution_count": null,
   "id": "62f500c5",
   "metadata": {},
   "outputs": [],
   "source": [
    "nside =128\n",
    "\n",
    "maxi = 5.  # deg\n",
    "nb = 10\n",
    "fwhms = np.linspace(0.01, maxi, nb)\n",
    "\n",
    "noise_init = 10.\n",
    "nreal = 10\n",
    "\n",
    "allrmsnew = np.zeros((nb, nreal))\n",
    "\n",
    "for i in range(nb):\n",
    "    print(i)\n",
    "    for j in range(nreal):\n",
    "        mapin = np.random.randn(12*nside**2) * noise_init\n",
    "        if fwhms[i] != 0:\n",
    "            mapout = hp.smoothing(mapin, fwhm=np.radians(fwhms[i]), verbose=False)\n",
    "        else:\n",
    "            mapout = mapin.copy()\n",
    "        allrmsnew[i,j] = np.std(mapout)\n",
    "        \n"
   ]
  },
  {
   "cell_type": "code",
   "execution_count": null,
   "id": "36ba24e9",
   "metadata": {},
   "outputs": [],
   "source": [
    "## theoretical value: Analytical calculation on: \n",
    "## https://drive.google.com/file/d/1ANp8K1ZLBxSAihmghVW3FiDXghFZvWce/view?usp=sharing\n",
    "pixsize = np.degrees(hp.nside2resol(nside))\n",
    "sigmas = fwhms/2.35\n",
    "th_rms_new =  noise_init / (sigmas * sqrt(4*np.pi) / pixsize)\n",
    "\n",
    "# Theoretical value accounting for pixel size (1/sqrt(12) quadratically added)\n",
    "sigmas_eff = np.sqrt( (fwhms/2.35)**2 + (pixsize/sqrt(12))**2)\n",
    "th_rms_new2 =  noise_init / (sigmas_eff * sqrt(4*np.pi) / pixsize)\n",
    "\n",
    "\n",
    "newrms = np.mean(allrmsnew, axis=1)\n",
    "newrmserr = np.std(allrmsnew, axis=1)\n",
    "errorbar(fwhms, newrms, yerr=newrmserr, fmt='ro', label='Monte-Carlo')\n",
    "plot(fwhms, th_rms_new, label='Theoretical (No pix. sizee correction)')\n",
    "plot(fwhms, th_rms_new2, label='Theoretical (with pix. size correction)')\n",
    "yscale('log')\n",
    "xlabel('FWHM Kernel (deg)')\n",
    "ylabel('Noise RMS')\n",
    "legend()\n",
    "title('Nside {0:} - Initial Noise: {1:5.2f}'.format(nside,noise_init))"
   ]
  },
  {
   "cell_type": "code",
   "execution_count": null,
   "id": "7bbe8b1b",
   "metadata": {},
   "outputs": [],
   "source": []
  }
 ],
 "metadata": {
  "kernelspec": {
   "display_name": "Python 3",
   "language": "python",
   "name": "python3"
  }
 },
 "nbformat": 4,
 "nbformat_minor": 5
}
