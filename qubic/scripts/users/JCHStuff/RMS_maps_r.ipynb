{
 "cells": [
  {
   "cell_type": "code",
   "execution_count": null,
   "id": "0489af1b",
   "metadata": {},
   "outputs": [],
   "source": [
    "from pylab import *\n",
    "import os\n",
    "import sys\n",
    "import time\n",
    "import pickle\n",
    "\n",
    "# Specific science modules\n",
    "import healpy as hp\n",
    "import numpy as np\n",
    "\n",
    "# Specific qubic modules\n",
    "from qubicpack.utilities import Qubic_DataDir\n",
    "from pysimulators import FitsArray\n",
    "#from mpi4py import MPI\n",
    "# from pyoperators import MPI\n",
    "import pysm\n",
    "import qubic\n",
    "from qubic import QubicSkySim as qss\n",
    "from qubic import fibtools as ft\n",
    "from qubic import camb_interface as qc\n",
    "from qubic import SpectroImLib as si\n",
    "from qubic import NamasterLib as nam\n",
    "from qubic import mcmc"
   ]
  },
  {
   "cell_type": "code",
   "execution_count": null,
   "id": "dfeae909",
   "metadata": {},
   "outputs": [],
   "source": [
    "ell, totDl, DlUnlensed = qc.get_camb_Dl(r=0.1)\n",
    "DlBB = DlUnlensed[:,2]\n",
    "plot(ell, DlBB)\n",
    "ClBB = np.nan_to_num(DlBB / (ell * (ell+1)) * 2 * np.pi)\n",
    "mymap = hp.synfast(ClBB, 256)\n",
    "print(np.std(mymap))"
   ]
  },
  {
   "cell_type": "code",
   "execution_count": null,
   "id": "2093e7c5",
   "metadata": {},
   "outputs": [],
   "source": [
    "rvalues = np.logspace(-4,-1, 10)\n",
    "rms_b = np.zeros(len(rvalues))\n",
    "for i in range(len(rvalues)):\n",
    "    ell, totDl, DlUnlensed = qc.get_camb_Dl(r=rvalues[i])\n",
    "    DlBB = DlUnlensed[:,2]\n",
    "    ClBB = np.nan_to_num(DlBB / (ell * (ell+1)) * 2 * np.pi)\n",
    "    mymap = hp.synfast(ClBB, 256)\n",
    "    rms_b[i] = np.std(mymap)"
   ]
  },
  {
   "cell_type": "code",
   "execution_count": null,
   "id": "b28964cb",
   "metadata": {},
   "outputs": [],
   "source": [
    "plot(rvalues, rms_b, 'ro', label = 'Simulation')\n",
    "plot(rvalues, 0.345*np.sqrt(rvalues), label=r'$0.345 \\mu K \\times \\sqrt{r}$')\n",
    "xlabel('r')\n",
    "ylabel(r'RMS Map [$\\mu$ K]')\n",
    "title('No Lensing')\n",
    "legend()\n",
    "xscale('log')"
   ]
  },
  {
   "cell_type": "code",
   "execution_count": null,
   "id": "f817a5a1",
   "metadata": {},
   "outputs": [],
   "source": [
    "def sigr_from_sigtemp(sigtemp):\n",
    "    return sigtemp**2/0.345\n",
    "\n",
    "print(sigr_from_sigtemp(0.052*0.047))"
   ]
  },
  {
   "cell_type": "code",
   "execution_count": null,
   "id": "d2746f25",
   "metadata": {},
   "outputs": [],
   "source": []
  }
 ],
 "metadata": {
  "kernelspec": {
   "display_name": "Python 3",
   "language": "python",
   "name": "python3"
  }
 },
 "nbformat": 4,
 "nbformat_minor": 5
}
