{
 "cells": [
  {
   "cell_type": "code",
   "execution_count": null,
   "id": "42c4f582",
   "metadata": {},
   "outputs": [],
   "source": [
    "import pysm3\n",
    "import pysm3.units as u\n",
    "import numpy as np\n",
    "import numpy.ma as ma\n",
    "import healpy as hp\n",
    "import pickle\n",
    "import matplotlib.pyplot as plt\n",
    "from matplotlib.ticker import FuncFormatter\n",
    "import pickle\n",
    "from astropy.io import fits\n",
    "import pandas as pd\n",
    "from importlib import reload\n",
    "\n",
    "from qubic import camb_interface as qc\n",
    "import fgbuster as fgb\n",
    "\n",
    "#### This is a temporary library\n",
    "import compsep_jc as csjc\n",
    "\n",
    "\n",
    "import warnings\n",
    "warnings.filterwarnings(\"ignore\")\n",
    "\n",
    "import qubic\n",
    "from qubic import NamasterLib as nam\n",
    "\n",
    "center = qubic.equ2gal(0, -57)\n",
    "\n",
    "rc('figure', figsize=(16, 10))\n",
    "rc('font', size=15)\n",
    "\n",
    "#### General Stuff ####\n",
    "nside = 256\n",
    "stk = ['I', 'Q', 'U']"
   ]
  },
  {
   "cell_type": "markdown",
   "id": "47a6b9a3",
   "metadata": {},
   "source": [
    "# Context\n",
    "In this notebook I investigate a method, proposed (and used) by Josquin, to get an optimal FBG result. The idea is:\n",
    "- Estimate $\\beta$ with FGB using pixel-space or alm-space and recovolving maps to the same angular resolution\n",
    "- Use this $\\beta$ to recalculate the mixing matrix and apply it to **unreconvolved** input maps instead of reconvolved ones.\n",
    "- The effective $B_\\ell$ can be calculated from each individual $B_\\ell$ and the mixing matrix.\n",
    "In principle this should lead to a minimal S/N ratio loss related to angular resolution.\n",
    "\n",
    "Just for the record, here are the results from FGB-CutSky-NoNoise-WithFunctions:"
   ]
  },
  {
   "cell_type": "code",
   "execution_count": null,
   "id": "c8c00110",
   "metadata": {},
   "outputs": [],
   "source": [
    "OKdata = [array([1.54000003e+00, 2.35315467e-06, 1.18320029e-07, 9.79560287e-08,\n",
    "        8.06419627e-07, 4.59150484e-08, 3.82179765e-08]),\n",
    " array([1.54000000e+00, 2.34471797e-06, 1.16401811e-07, 9.38131746e-08,\n",
    "        7.93578105e-07, 4.25322768e-08, 3.31016462e-08]),\n",
    " array([1.53583872, 4.23879749, 0.05999122, 0.05743616, 1.02854697,\n",
    "        0.09355629, 0.06065626]),\n",
    " array([1.53601133, 4.238862  , 0.05999654, 0.05743788, 1.02864622,\n",
    "        0.09356794, 0.06066838])]\n",
    "\n",
    "import pandas as pd\n",
    "pd.options.display.float_format = '{:,.5g}'.format\n",
    "lines = ['Pixel Based - Same Resolution','alm Based - Same Resolution',\n",
    "                       'Pixel Based - QUBIC Resolutions','alm Based - QUBIC Resolutions']\n",
    "names = ['beta','CMB I RMS', 'CMB Q RMS', 'CMB U RMS', 'Dust I RMS', 'Dust Q RMS', 'Dust U RMS']\n",
    "pd.DataFrame(OKdata,lines, names)"
   ]
  },
  {
   "cell_type": "markdown",
   "id": "e16b27f7",
   "metadata": {},
   "source": [
    "# PySM maps generation"
   ]
  },
  {
   "cell_type": "code",
   "execution_count": null,
   "id": "9572210f",
   "metadata": {},
   "outputs": [],
   "source": [
    "#### PYSM Stuff ####\n",
    "# generate I,Q,U sky maps with PySM\n",
    "unit = u.uK_CMB\n",
    "np.random.seed(42)\n",
    "sky = pysm3.Sky(nside=nside, preset_strings=['d0', 'c1'], output_unit=unit)\n",
    "sky_cmb = pysm3.Sky(nside=nside, preset_strings=['c1'], output_unit=unit)\n",
    "sky_dust = pysm3.Sky(nside=nside, preset_strings=['d0'], output_unit=unit)\n",
    "\n",
    "freqs = np.array([200, 220, 240])\n",
    "\n",
    "# CMB+dust\n",
    "sky_emissions = [sky.get_emission(f * u.GHz) for f in freqs]\n",
    "maps = np.array([emission.value for emission in sky_emissions])\n",
    "\n",
    "# CMB\n",
    "sky_emissions_cmb = sky_cmb.get_emission(150 * u.GHz)\n",
    "maps_cmb = np.array([emission.value for emission in sky_emissions_cmb])\n",
    "\n",
    "sky_emissions_dust = sky_dust.get_emission(150 * u.GHz)\n",
    "maps_dust = np.array([emission.value for emission in sky_emissions_dust])\n",
    "\n",
    "print(np.shape(maps))   #nu, Stk, pix\n",
    "print(np.shape(maps_cmb))   #nu, Stk, pix\n",
    "print(np.shape(maps_dust))   #nu, Stk, pix\n",
    "\n",
    "csjc.display_maps(maps, bigtitle='Simulated maps for each frequency (no resolution-> infinite)', mytitle='CMB+Dust', \n",
    "             figsize=(16,10), nsig=3, moll=True)\n",
    "\n",
    "csjc.display_maps(maps_dust, bigtitle='Input Dust only at 150 GHz (infinite resolution)', mytitle='CMB', \n",
    "             figsize=(16,4), nsig=3, moll=True)\n",
    "csjc.display_maps(maps_cmb, bigtitle='Input CMB only at 150 GHz (infinite resolution)', mytitle='CMB', \n",
    "             figsize=(16,4), nsig=3, moll=True)\n"
   ]
  },
  {
   "cell_type": "markdown",
   "id": "a998210b",
   "metadata": {},
   "source": [
    "# Cut-Sky from QUBIC"
   ]
  },
  {
   "cell_type": "code",
   "execution_count": null,
   "id": "509318d7",
   "metadata": {},
   "outputs": [],
   "source": [
    "rc('figure', figsize=(16, 4))\n",
    "\n",
    "covmap = hp.ud_grade(hp.read_map('QUBIC-Typical-Coverage.fits'), nside)\n",
    "\n",
    "fskytot=np.sum(covmap/np.max(covmap)/len(covmap))*100\n",
    "suptitle('Cut-Sky (from QUBIC)', fontsize=30, y=1.2)\n",
    "hp.mollview(covmap, title='QUBIC Cov Map: fsky={0:4.2f}%'.format(fskytot), sub=(1,2,1))\n",
    "\n",
    "thr = 0.1\n",
    "mymask = (covmap > (np.max(covmap)*thr)).astype(int)\n",
    "pixok = mymask > 0\n",
    "fsky=np.sum(covmap[pixok]/np.max(covmap)/len(covmap))*100\n",
    "hp.mollview(mymask, title='Mask with thr={0:}: fsky={1:4.2f}'.format(thr, fsky), sub=(1,2,2))\n",
    "\n",
    "\n"
   ]
  },
  {
   "cell_type": "markdown",
   "id": "730927c1",
   "metadata": {},
   "source": [
    "# Cut-sky simulations with different resolutions"
   ]
  },
  {
   "cell_type": "code",
   "execution_count": null,
   "id": "4bea8893",
   "metadata": {},
   "outputs": [],
   "source": [
    "synthbeam_peak150_fwhm = 0.39268176  # in degrees\n",
    "myFWHM = synthbeam_peak150_fwhm * 150. / freqs  # Qubic beams\n",
    "print(myFWHM)\n",
    "ref_fwhm = np.max(myFWHM)*0+0.5\n",
    "\n",
    "maps_conv = csjc.convolve_maps(maps, myFWHM)\n",
    "\n",
    "### Mask them\n",
    "maps_conv[:,:,~pixok] = hp.UNSEEN\n",
    "\n",
    "csjc.display_maps(maps_conv, bigtitle='Cut-sky maps per freq. at QUBIC resolutions', rot=center)"
   ]
  },
  {
   "cell_type": "markdown",
   "id": "6807eac1",
   "metadata": {},
   "source": [
    "# Test of the method"
   ]
  },
  {
   "cell_type": "code",
   "execution_count": null,
   "id": "8ba79ebe",
   "metadata": {},
   "outputs": [],
   "source": [
    "reload(csjc)\n",
    "result_alm_qubic_bestres = csjc.apply_fgb(maps_conv, freqs, myFWHM, verbose=True, \n",
    "                             alm_space=True,\n",
    "                             resol_correction=True, ref_fwhm=ref_fwhm, \n",
    "                             plot_separated=True, center=center,\n",
    "                             truth=[maps_dust, maps_cmb], plot_residuals=True,\n",
    "                             apply_to_unconvolved=True)\n",
    "\n"
   ]
  },
  {
   "cell_type": "code",
   "execution_count": null,
   "id": "4212fa8f",
   "metadata": {},
   "outputs": [],
   "source": [
    "data = [array([1.53601133, 4.238862  , 0.05999654, 0.05743788, 1.02864622,\n",
    "        0.09356794, 0.06066838]),\n",
    "        array([1.53601162, 7.74977607, 0.46107597, 0.48139844, 9.2435024 ,\n",
    "       0.98811418, 0.89371403]),\n",
    "       array([ 1.53601162, 18.9176714 ,  0.94512269,  0.96986542,  4.63774732,\n",
    "        0.19386885,  0.202066  ]),\n",
    "       np.append(result_alm_qubic_bestres[0], np.ravel([result_alm_qubic_bestres[4], \n",
    "                                                           result_alm_qubic_bestres[3]]))]\n",
    "lines = ['To Ref Res',\n",
    "         'To Best Res: W.B',\n",
    "         'To Best Res: W.B.A.1',\n",
    "        'To best Res Test']\n",
    "names = ['beta','CMB I RMS', 'CMB Q RMS', 'CMB U RMS', 'Dust I RMS', 'Dust Q RMS', 'Dust U RMS']\n",
    "pd.DataFrame(data,lines, names)"
   ]
  },
  {
   "cell_type": "markdown",
   "id": "9032e813",
   "metadata": {},
   "source": [
    "So as such, it does not seem to lead to any improvement. But it is clear from the residuals that the calculation of the input-convolved is incorrect. We need to estimate better the effective beam after the operation."
   ]
  },
  {
   "cell_type": "code",
   "execution_count": null,
   "id": "bbdc32e4",
   "metadata": {},
   "outputs": [],
   "source": []
  }
 ],
 "metadata": {
  "kernelspec": {
   "display_name": "Python 3",
   "language": "python",
   "name": "python3"
  }
 },
 "nbformat": 4,
 "nbformat_minor": 5
}
