{
 "cells": [
  {
   "cell_type": "code",
   "execution_count": null,
   "id": "ad69f602",
   "metadata": {},
   "outputs": [],
   "source": [
    "import pysm3\n",
    "import pysm3.units as u\n",
    "import numpy as np\n",
    "import numpy.ma as ma\n",
    "import healpy as hp\n",
    "import pickle\n",
    "import matplotlib.pyplot as plt\n",
    "from matplotlib.ticker import FuncFormatter\n",
    "import pickle\n",
    "from astropy.io import fits\n",
    "import pandas as pd\n",
    "from importlib import reload\n",
    "\n",
    "from qubic import camb_interface as qc\n",
    "import fgbuster as fgb\n",
    "\n",
    "import warnings\n",
    "warnings.filterwarnings(\"ignore\")\n",
    "\n",
    "import qubic\n",
    "from qubic import NamasterLib as nam\n",
    "\n",
    "center = qubic.equ2gal(0, -57)\n",
    "\n",
    "rc('figure', figsize=(16, 10))\n",
    "rc('font', size=15)\n"
   ]
  },
  {
   "cell_type": "code",
   "execution_count": null,
   "id": "f34c2bdf",
   "metadata": {},
   "outputs": [],
   "source": [
    "nside = 256\n",
    "rc('figure', figsize=(16, 4))\n",
    "\n",
    "covmap = hp.ud_grade(hp.read_map('QUBIC-Typical-Coverage.fits'), nside)\n",
    "\n",
    "fskytot=np.sum(covmap/np.max(covmap)/len(covmap))*100\n",
    "suptitle('Cut-Sky (from QUBIC)', fontsize=30, y=1.2)\n",
    "hp.mollview(covmap, title='QUBIC Cov Map: fsky={0:4.2f}%'.format(fskytot), sub=(1,2,1))\n",
    "\n",
    "thr = 0.1\n",
    "mymask = (covmap > (np.max(covmap)*thr)).astype(int)\n",
    "pixok = mymask > 0\n",
    "fsky=np.sum(covmap[pixok]/np.max(covmap)/len(covmap))*100\n",
    "hp.mollview(mymask, title='Mask with thr={0:}: fsky={1:4.2f}'.format(thr, fsky), sub=(1,2,2))\n",
    "\n",
    "\n"
   ]
  },
  {
   "cell_type": "code",
   "execution_count": null,
   "id": "a2b9dc37",
   "metadata": {},
   "outputs": [],
   "source": [
    "reload(nam)\n",
    "\n",
    "apodize = 0.0\n",
    "mymask = pixok.astype(float)\n",
    "nmt = nam.Namaster(mymask, 40, 400, 30, aposize=apodize, apotype='C1')\n",
    "apodized_mask = nmt.mask_apo\n",
    "hp.gnomview(apodized_mask, title='Apodized Mask {} deg.'.format(apodize), reso=15, rot=center)\n"
   ]
  },
  {
   "cell_type": "code",
   "execution_count": null,
   "id": "d9772cf2",
   "metadata": {},
   "outputs": [],
   "source": [
    "np.degrees(hp.nside2resol(256))"
   ]
  },
  {
   "cell_type": "code",
   "execution_count": null,
   "id": "04883d74",
   "metadata": {},
   "outputs": [],
   "source": [
    "hp.npix2nside"
   ]
  }
 ],
 "metadata": {
  "kernelspec": {
   "display_name": "Python 3",
   "language": "python",
   "name": "python3"
  }
 },
 "nbformat": 4,
 "nbformat_minor": 5
}
